{
 "cells": [
  {
   "cell_type": "code",
   "execution_count": 1,
   "metadata": {},
   "outputs": [],
   "source": [
    "import pandas as pd\n",
    "from statsmodels.tsa.arima.model import ARIMA\n",
    "import statsmodels.api as sm\n",
    "import matplotlib.pyplot as plt\n",
    "import numpy as np\n",
    "from pmdarima.arima import ndiffs\n",
    "import pmdarima as pm"
   ]
  },
  {
   "cell_type": "code",
   "execution_count": 2,
   "metadata": {},
   "outputs": [],
   "source": [
    "def preprocess_(path,  column_, slice='',  encoding=None, header='infer'):\n",
    "\n",
    "    df = pd.read_csv(path, encoding=encoding, header=header)\n",
    "    \n",
    "    if slice:\n",
    "        df = df[slice]\n",
    "\n",
    "    df.columns = column_\n",
    "\n",
    "    if (type(df.iloc[:,1][1])==str):\n",
    "        df.iloc[:,1] = df.iloc[:,1].apply(lambda x: float(x.replace(',', '')))\n",
    "        \n",
    "    df['Date'] = df['Date'].str.replace('[^0-9]', '')\n",
    "    df['Date'] = df['Date'].apply(lambda x: x[:4]+'-'+x[4:6]+'-'+x[6:])\n",
    "    df['Date'] = pd.to_datetime(df['Date'])\n",
    "\n",
    "    df.sort_values('Date', inplace=True)\n",
    "    df.reset_index(inplace=True)\n",
    "    df.drop(['index'], axis=1, inplace=True)\n",
    "\n",
    "    return df"
   ]
  },
  {
   "cell_type": "code",
   "execution_count": 3,
   "metadata": {},
   "outputs": [
    {
     "name": "stderr",
     "output_type": "stream",
     "text": [
      "C:\\Users\\spaceastonomy\\AppData\\Local\\Temp\\ipykernel_15624\\2556062775.py:13: FutureWarning: The default value of regex will change from True to False in a future version.\n",
      "  df['Date'] = df['Date'].str.replace('[^0-9]', '')\n"
     ]
    },
    {
     "data": {
      "text/html": [
       "<div>\n",
       "<style scoped>\n",
       "    .dataframe tbody tr th:only-of-type {\n",
       "        vertical-align: middle;\n",
       "    }\n",
       "\n",
       "    .dataframe tbody tr th {\n",
       "        vertical-align: top;\n",
       "    }\n",
       "\n",
       "    .dataframe thead th {\n",
       "        text-align: right;\n",
       "    }\n",
       "</style>\n",
       "<table border=\"1\" class=\"dataframe\">\n",
       "  <thead>\n",
       "    <tr style=\"text-align: right;\">\n",
       "      <th></th>\n",
       "      <th>Date</th>\n",
       "      <th>KS200</th>\n",
       "    </tr>\n",
       "  </thead>\n",
       "  <tbody>\n",
       "    <tr>\n",
       "      <th>0</th>\n",
       "      <td>2016-03-02</td>\n",
       "      <td>238.63</td>\n",
       "    </tr>\n",
       "    <tr>\n",
       "      <th>1</th>\n",
       "      <td>2016-03-03</td>\n",
       "      <td>240.09</td>\n",
       "    </tr>\n",
       "    <tr>\n",
       "      <th>2</th>\n",
       "      <td>2016-03-04</td>\n",
       "      <td>239.74</td>\n",
       "    </tr>\n",
       "    <tr>\n",
       "      <th>3</th>\n",
       "      <td>2016-03-07</td>\n",
       "      <td>240.21</td>\n",
       "    </tr>\n",
       "    <tr>\n",
       "      <th>4</th>\n",
       "      <td>2016-03-08</td>\n",
       "      <td>238.44</td>\n",
       "    </tr>\n",
       "    <tr>\n",
       "      <th>...</th>\n",
       "      <td>...</td>\n",
       "      <td>...</td>\n",
       "    </tr>\n",
       "    <tr>\n",
       "      <th>1491</th>\n",
       "      <td>2022-03-25</td>\n",
       "      <td>362.06</td>\n",
       "    </tr>\n",
       "    <tr>\n",
       "      <th>1492</th>\n",
       "      <td>2022-03-28</td>\n",
       "      <td>362.06</td>\n",
       "    </tr>\n",
       "    <tr>\n",
       "      <th>1493</th>\n",
       "      <td>2022-03-29</td>\n",
       "      <td>363.77</td>\n",
       "    </tr>\n",
       "    <tr>\n",
       "      <th>1494</th>\n",
       "      <td>2022-03-30</td>\n",
       "      <td>364.50</td>\n",
       "    </tr>\n",
       "    <tr>\n",
       "      <th>1495</th>\n",
       "      <td>2022-03-31</td>\n",
       "      <td>365.61</td>\n",
       "    </tr>\n",
       "  </tbody>\n",
       "</table>\n",
       "<p>1496 rows × 2 columns</p>\n",
       "</div>"
      ],
      "text/plain": [
       "           Date   KS200\n",
       "0    2016-03-02  238.63\n",
       "1    2016-03-03  240.09\n",
       "2    2016-03-04  239.74\n",
       "3    2016-03-07  240.21\n",
       "4    2016-03-08  238.44\n",
       "...         ...     ...\n",
       "1491 2022-03-25  362.06\n",
       "1492 2022-03-28  362.06\n",
       "1493 2022-03-29  363.77\n",
       "1494 2022-03-30  364.50\n",
       "1495 2022-03-31  365.61\n",
       "\n",
       "[1496 rows x 2 columns]"
      ]
     },
     "execution_count": 3,
     "metadata": {},
     "output_type": "execute_result"
    }
   ],
   "source": [
    "data = preprocess_('KS200.csv', column_=['Date', 'KS200'])\n",
    "data"
   ]
  },
  {
   "cell_type": "code",
   "execution_count": 46,
   "metadata": {},
   "outputs": [],
   "source": [
    "len_ = data[data['Date'] > '2020-01-19'].index[0]\n",
    "train = data[:len_]\n",
    "target = data[len_:]"
   ]
  },
  {
   "cell_type": "code",
   "execution_count": 47,
   "metadata": {},
   "outputs": [
    {
     "data": {
      "text/plain": [
       "<AxesSubplot:>"
      ]
     },
     "execution_count": 47,
     "metadata": {},
     "output_type": "execute_result"
    },
    {
     "data": {
      "image/png": "[encoded data removed]",
      "text/plain": [
       "<Figure size 432x288 with 1 Axes>"
      ]
     },
     "metadata": {
      "needs_background": "light"
     },
     "output_type": "display_data"
    }
   ],
   "source": [
    "train['KS200'].plot()\n",
    "target['KS200'].plot()"
   ]
  },
  {
   "cell_type": "code",
   "execution_count": 48,
   "metadata": {},
   "outputs": [
    {
     "name": "stdout",
     "output_type": "stream",
     "text": [
      "추정된 차수 d = 1\n"
     ]
    }
   ],
   "source": [
    "kpss_diffs = ndiffs(train['KS200'], alpha=0.05, test='kpss', max_d=6)\n",
    "adf_diffs = ndiffs(train['KS200'], alpha=0.05, test='adf', max_d=6)\n",
    "n_diffs = max(adf_diffs, kpss_diffs)\n",
    "\n",
    "print(f\"추정된 차수 d = {n_diffs}\")"
   ]
  },
  {
   "cell_type": "code",
   "execution_count": 49,
   "metadata": {},
   "outputs": [
    {
     "name": "stdout",
     "output_type": "stream",
     "text": [
      "Performing stepwise search to minimize aic\n",
      " ARIMA(0,1,0)(0,0,0)[0] intercept   : AIC=4287.514, Time=0.02 sec\n",
      " ARIMA(1,1,0)(0,0,0)[0] intercept   : AIC=4289.486, Time=0.07 sec\n",
      " ARIMA(0,1,1)(0,0,0)[0] intercept   : AIC=4289.491, Time=0.07 sec\n",
      " ARIMA(0,1,0)(0,0,0)[0]             : AIC=4286.347, Time=0.01 sec\n",
      " ARIMA(1,1,1)(0,0,0)[0] intercept   : AIC=4289.617, Time=0.21 sec\n",
      "\n",
      "Best model:  ARIMA(0,1,0)(0,0,0)[0]          \n",
      "Total fit time: 0.392 seconds\n"
     ]
    }
   ],
   "source": [
    "model = pm.auto_arima(y = train['KS200']        # 데이터\n",
    "                      , d = 1            # 차분 차수, ndiffs 결과!\n",
    "                      , start_p = 0 \n",
    "                      , max_p = 5   \n",
    "                      , start_q = 0 \n",
    "                      , max_q = 5   \n",
    "                      , m = 1       \n",
    "                      , seasonal = False # 계절성 ARIMA가 아니라면 필수!\n",
    "                      , stepwise = True\n",
    "                      , trace=True\n",
    "                      )"
   ]
  },
  {
   "cell_type": "code",
   "execution_count": 33,
   "metadata": {},
   "outputs": [
    {
     "name": "stdout",
     "output_type": "stream",
     "text": [
      "                               SARIMAX Results                                \n",
      "==============================================================================\n",
      "Dep. Variable:                      y   No. Observations:                  953\n",
      "Model:               SARIMAX(5, 2, 0)   Log Likelihood               -2213.181\n",
      "Date:                Tue, 26 Apr 2022   AIC                           4438.362\n",
      "Time:                        17:00:00   BIC                           4467.507\n",
      "Sample:                             0   HQIC                          4449.466\n",
      "                                - 953                                         \n",
      "Covariance Type:                  opg                                         \n",
      "==============================================================================\n",
      "                 coef    std err          z      P>|z|      [0.025      0.975]\n",
      "------------------------------------------------------------------------------\n",
      "ar.L1         -0.8304      0.029    -28.797      0.000      -0.887      -0.774\n",
      "ar.L2         -0.5521      0.038    -14.585      0.000      -0.626      -0.478\n",
      "ar.L3         -0.4023      0.037    -10.786      0.000      -0.475      -0.329\n",
      "ar.L4         -0.2942      0.039     -7.571      0.000      -0.370      -0.218\n",
      "ar.L5         -0.1357      0.031     -4.377      0.000      -0.196      -0.075\n",
      "sigma2         6.1448      0.221     27.763      0.000       5.711       6.579\n",
      "===================================================================================\n",
      "Ljung-Box (L1) (Q):                   0.59   Jarque-Bera (JB):                74.55\n",
      "Prob(Q):                              0.44   Prob(JB):                         0.00\n",
      "Heteroskedasticity (H):               1.83   Skew:                            -0.15\n",
      "Prob(H) (two-sided):                  0.00   Kurtosis:                         4.34\n",
      "===================================================================================\n",
      "\n",
      "Warnings:\n",
      "[1] Covariance matrix calculated using the outer product of gradients (complex-step).\n"
     ]
    }
   ],
   "source": [
    "print(model.summary())"
   ]
  },
  {
   "cell_type": "code",
   "execution_count": 34,
   "metadata": {},
   "outputs": [
    {
     "data": {
      "image/png": "[encoded data removed]",
      "text/plain": [
       "<Figure size 1152x576 with 4 Axes>"
      ]
     },
     "metadata": {
      "needs_background": "light"
     },
     "output_type": "display_data"
    }
   ],
   "source": [
    "model.plot_diagnostics(figsize=(16, 8))\n",
    "plt.show()"
   ]
  },
  {
   "cell_type": "code",
   "execution_count": 35,
   "metadata": {},
   "outputs": [
    {
     "data": {
      "image/png": "[encoded data removed]",
      "text/plain": [
       "<Figure size 864x288 with 1 Axes>"
      ]
     },
     "metadata": {
      "needs_background": "light"
     },
     "output_type": "display_data"
    }
   ],
   "source": [
    "# 테스트 데이터 개수만큼 예측\n",
    "y_predict = model.predict(n_periods=len(target['KS200'])) \n",
    "y_predict = pd.DataFrame(y_predict,index = target['KS200'].index,columns=['Prediction'])\n",
    "\n",
    "# 그래프\n",
    "fig, axes = plt.subplots(1, 1, figsize=(12, 4))\n",
    "plt.plot(train['KS200'], label='Train')        # 훈련 데이터\n",
    "plt.plot(target['KS200'], label='Test')          # 테스트 데이터\n",
    "plt.plot(y_predict, label='Prediction')  # 예측 데이터\n",
    "plt.legend()\n",
    "plt.show()"
   ]
  },
  {
   "cell_type": "code",
   "execution_count": 22,
   "metadata": {},
   "outputs": [],
   "source": [
    "def forecast_one_step():\n",
    "    fc, conf_int = model.predict(n_periods=1 # 한 스텝씩!\n",
    "        , return_conf_int=True)              # 신뢰구간 출력\n",
    "    return (\n",
    "        fc.tolist()[0],\n",
    "        np.asarray(conf_int).tolist()[0]\n",
    "    )"
   ]
  },
  {
   "cell_type": "code",
   "execution_count": 23,
   "metadata": {},
   "outputs": [],
   "source": [
    "forecasts = []\n",
    "y_pred = []\n",
    "pred_upper = []\n",
    "pred_lower = []\n",
    "\n",
    "for new_ob in target['KS200']:\n",
    "    fc, conf = forecast_one_step()\n",
    "    y_pred.append(fc)\n",
    "    pred_upper.append(conf[1])\n",
    "    pred_lower.append(conf[0])\n",
    "\n",
    "    ## 모형 업데이트 !!\n",
    "    model.update(new_ob)"
   ]
  },
  {
   "cell_type": "code",
   "execution_count": 25,
   "metadata": {},
   "outputs": [
    {
     "data": {
      "text/html": [
       "<div>\n",
       "<style scoped>\n",
       "    .dataframe tbody tr th:only-of-type {\n",
       "        vertical-align: middle;\n",
       "    }\n",
       "\n",
       "    .dataframe tbody tr th {\n",
       "        vertical-align: top;\n",
       "    }\n",
       "\n",
       "    .dataframe thead th {\n",
       "        text-align: right;\n",
       "    }\n",
       "</style>\n",
       "<table border=\"1\" class=\"dataframe\">\n",
       "  <thead>\n",
       "    <tr style=\"text-align: right;\">\n",
       "      <th></th>\n",
       "      <th>test</th>\n",
       "      <th>pred</th>\n",
       "    </tr>\n",
       "  </thead>\n",
       "  <tbody>\n",
       "    <tr>\n",
       "      <th>378</th>\n",
       "      <td>385.97</td>\n",
       "      <td>385.998140</td>\n",
       "    </tr>\n",
       "    <tr>\n",
       "      <th>379</th>\n",
       "      <td>390.38</td>\n",
       "      <td>385.727786</td>\n",
       "    </tr>\n",
       "    <tr>\n",
       "      <th>380</th>\n",
       "      <td>394.36</td>\n",
       "      <td>390.217245</td>\n",
       "    </tr>\n",
       "    <tr>\n",
       "      <th>381</th>\n",
       "      <td>394.07</td>\n",
       "      <td>394.262542</td>\n",
       "    </tr>\n",
       "    <tr>\n",
       "      <th>382</th>\n",
       "      <td>389.44</td>\n",
       "      <td>393.970350</td>\n",
       "    </tr>\n",
       "    <tr>\n",
       "      <th>...</th>\n",
       "      <td>...</td>\n",
       "      <td>...</td>\n",
       "    </tr>\n",
       "    <tr>\n",
       "      <th>468</th>\n",
       "      <td>362.06</td>\n",
       "      <td>363.153627</td>\n",
       "    </tr>\n",
       "    <tr>\n",
       "      <th>469</th>\n",
       "      <td>362.06</td>\n",
       "      <td>361.822331</td>\n",
       "    </tr>\n",
       "    <tr>\n",
       "      <th>470</th>\n",
       "      <td>363.77</td>\n",
       "      <td>361.824769</td>\n",
       "    </tr>\n",
       "    <tr>\n",
       "      <th>471</th>\n",
       "      <td>364.50</td>\n",
       "      <td>363.554836</td>\n",
       "    </tr>\n",
       "    <tr>\n",
       "      <th>472</th>\n",
       "      <td>365.61</td>\n",
       "      <td>364.294596</td>\n",
       "    </tr>\n",
       "  </tbody>\n",
       "</table>\n",
       "<p>95 rows × 2 columns</p>\n",
       "</div>"
      ],
      "text/plain": [
       "       test        pred\n",
       "378  385.97  385.998140\n",
       "379  390.38  385.727786\n",
       "380  394.36  390.217245\n",
       "381  394.07  394.262542\n",
       "382  389.44  393.970350\n",
       "..      ...         ...\n",
       "468  362.06  363.153627\n",
       "469  362.06  361.822331\n",
       "470  363.77  361.824769\n",
       "471  364.50  363.554836\n",
       "472  365.61  364.294596\n",
       "\n",
       "[95 rows x 2 columns]"
      ]
     },
     "execution_count": 25,
     "metadata": {},
     "output_type": "execute_result"
    }
   ],
   "source": [
    "pd.DataFrame({\"test\": target['KS200'], \"pred\": y_pred})"
   ]
  },
  {
   "cell_type": "code",
   "execution_count": 26,
   "metadata": {},
   "outputs": [
    {
     "name": "stdout",
     "output_type": "stream",
     "text": [
      "                               SARIMAX Results                                \n",
      "==============================================================================\n",
      "Dep. Variable:                      y   No. Observations:                  473\n",
      "Model:               SARIMAX(0, 2, 1)   Log Likelihood               -1361.687\n",
      "Date:                Tue, 26 Apr 2022   AIC                           2727.374\n",
      "Time:                        15:20:36   BIC                           2735.683\n",
      "Sample:                             0   HQIC                          2730.643\n",
      "                                - 473                                         \n",
      "Covariance Type:                  opg                                         \n",
      "==============================================================================\n",
      "                 coef    std err          z      P>|z|      [0.025      0.975]\n",
      "------------------------------------------------------------------------------\n",
      "ma.L1         -0.9897      0.007   -137.022      0.000      -1.004      -0.976\n",
      "sigma2        18.8398      0.986     19.113      0.000      16.908      20.772\n",
      "===================================================================================\n",
      "Ljung-Box (L1) (Q):                   0.06   Jarque-Bera (JB):                24.19\n",
      "Prob(Q):                              0.81   Prob(JB):                         0.00\n",
      "Heteroskedasticity (H):               1.18   Skew:                             0.01\n",
      "Prob(H) (two-sided):                  0.31   Kurtosis:                         4.11\n",
      "===================================================================================\n",
      "\n",
      "Warnings:\n",
      "[1] Covariance matrix calculated using the outer product of gradients (complex-step).\n"
     ]
    }
   ],
   "source": [
    "print(model.summary())\n"
   ]
  },
  {
   "cell_type": "code",
   "execution_count": 30,
   "metadata": {},
   "outputs": [
    {
     "data": {
      "application/vnd.plotly.v1+json": {
       "config": {
        "plotlyServerURL": "https://plot.ly"
       },
       "data": [
        {
         "line": {
          "color": "royalblue"
         },
         "mode": "lines",
         "name": "Train",
         "type": "scatter",
         "x": [
          0,
          1,
          2,
          3,
          4,
          5,
          6,
          7,
          8,
          9,
          10,
          11,
          12,
          13,
          14,
          15,
          16,
          17,
          18,
          19,
          20,
          21,
          22,
          23,
          24,
          25,
          26,
          27,
          28,
          29,
          30,
          31,
          32,
          33,
          34,
          35,
          36,
          37,
          38,
          39,
          40,
          41,
          42,
          43,
          44,
          45,
          46,
          47,
          48,
          49,
          50,
          51,
          52,
          53,
          54,
          55,
          56,
          57,
          58,
          59,
          60,
          61,
          62,
          63,
          64,
          65,
          66,
          67,
          68,
          69,
          70,
          71,
          72,
          73,
          74,
          75,
          76,
          77,
          78,
          79,
          80,
          81,
          82,
          83,
          84,
          85,
          86,
          87,
          88,
          89,
          90,
          91,
          92,
          93,
          94,
          95,
          96,
          97,
          98,
          99,
          100,
          101,
          102,
          103,
          104,
          105,
          106,
          107,
          108,
          109,
          110,
          111,
          112,
          113,
          114,
          115,
          116,
          117,
          118,
          119,
          120,
          121,
          122,
          123,
          124,
          125,
          126,
          127,
          128,
          129,
          130,
          131,
          132,
          133,
          134,
          135,
          136,
          137,
          138,
          139,
          140,
          141,
          142,
          143,
          144,
          145,
          146,
          147,
          148,
          149,
          150,
          151,
          152,
          153,
          154,
          155,
          156,
          157,
          158,
          159,
          160,
          161,
          162,
          163,
          164,
          165,
          166,
          167,
          168,
          169,
          170,
          171,
          172,
          173,
          174,
          175,
          176,
          177,
          178,
          179,
          180,
          181,
          182,
          183,
          184,
          185,
          186,
          187,
          188,
          189,
          190,
          191,
          192,
          193,
          194,
          195,
          196,
          197,
          198,
          199,
          200,
          201,
          202,
          203,
          204,
          205,
          206,
          207,
          208,
          209,
          210,
          211,
          212,
          213,
          214,
          215,
          216,
          217,
          218,
          219,
          220,
          221,
          222,
          223,
          224,
          225,
          226,
          227,
          228,
          229,
          230,
          231,
          232,
          233,
          234,
          235,
          236,
          237,
          238,
          239,
          240,
          241,
          242,
          243,
          244,
          245,
          246,
          247,
          248,
          249,
          250,
          251,
          252,
          253,
          254,
          255,
          256,
          257,
          258,
          259,
          260,
          261,
          262,
          263,
          264,
          265,
          266,
          267,
          268,
          269,
          270,
          271,
          272,
          273,
          274,
          275,
          276,
          277,
          278,
          279,
          280,
          281,
          282,
          283,
          284,
          285,
          286,
          287,
          288,
          289,
          290,
          291,
          292,
          293,
          294,
          295,
          296,
          297,
          298,
          299,
          300,
          301,
          302,
          303,
          304,
          305,
          306,
          307,
          308,
          309,
          310,
          311,
          312,
          313,
          314,
          315,
          316,
          317,
          318,
          319,
          320,
          321,
          322,
          323,
          324,
          325,
          326,
          327,
          328,
          329,
          330,
          331,
          332,
          333,
          334,
          335,
          336,
          337,
          338,
          339,
          340,
          341,
          342,
          343,
          344,
          345,
          346,
          347,
          348,
          349,
          350,
          351,
          352,
          353,
          354,
          355,
          356,
          357,
          358,
          359,
          360,
          361,
          362,
          363,
          364,
          365,
          366,
          367,
          368,
          369,
          370,
          371,
          372,
          373,
          374,
          375,
          376,
          377
         ],
         "y": [
          250.6,
          255,
          254.46,
          256.62,
          254.95,
          253.37,
          255.85,
          253.65,
          253.79,
          255.44,
          261.79,
          262.72,
          263.74,
          259.62,
          262.76,
          267.31,
          267.64,
          268.29,
          268.32,
          273.19,
          276.08,
          285.91,
          286.45,
          290.62,
          290.77,
          291.32,
          291.9,
          288.62,
          281.78,
          267.95,
          282.59,
          283.02,
          281.91,
          283.37,
          281.42,
          281.94,
          286.7,
          279.73,
          283.38,
          278.04,
          280.09,
          280.26,
          283.86,
          285.89,
          290.62,
          286.77,
          285.97,
          287.25,
          285.06,
          289.84,
          289.63,
          292.27,
          289.25,
          291.57,
          290.81,
          295.16,
          294.04,
          292.37,
          290.66,
          293.51,
          300.13,
          301.25,
          301.85,
          299.32,
          299.46,
          303.04,
          306.64,
          311.32,
          312.57,
          316.77,
          321.02,
          322.68,
          323.33,
          319.24,
          312.84,
          313.54,
          301.59,
          306.16,
          309.33,
          313.59,
          314.19,
          311.38,
          312.24,
          307.14,
          309.81,
          311.5,
          316.43,
          312.03,
          313.67,
          317.38,
          313.77,
          316.53,
          316.45,
          320.98,
          323.36,
          322.31,
          318,
          318.39,
          315.89,
          308.82,
          309.64,
          302.48,
          303.57,
          307.03,
          309.44,
          313.51,
          314.45,
          317.35,
          317.47,
          319.15,
          319.58,
          316.57,
          313.92,
          311.83,
          312.59,
          314.71,
          315.76,
          313.77,
          314.79,
          313.53,
          311.8,
          313.17,
          309.94,
          301.6,
          305.95,
          312.07,
          313.83,
          321.51,
          322.1,
          325.83,
          326.13,
          331.12,
          329.72,
          333.03,
          340.63,
          339.85,
          339.96,
          340.16,
          340.62,
          348.46,
          350.28,
          348.3,
          352.12,
          352.73,
          346.05,
          352.4,
          358.66,
          361.66,
          367.63,
          369.86,
          363.45,
          371.47,
          369.37,
          372.24,
          371.56,
          370.88,
          372.53,
          372,
          371.55,
          372.18,
          366.43,
          371.32,
          379.18,
          379.93,
          381.27,
          389.29,
          399.88,
          406.03,
          402.08,
          410.81,
          430.22,
          431.13,
          427.87,
          430.38,
          429.85,
          420.43,
          410.5,
          421.35,
          424.01,
          430.27,
          427.13,
          437.3,
          426.73,
          423.67,
          416.4,
          404.56,
          415.45,
          421.03,
          425.21,
          418.31,
          423.3,
          418.95,
          417.91,
          419.65,
          427.01,
          429.24,
          424.2,
          417.44,
          420.94,
          416.88,
          415.82,
          407.16,
          422.52,
          409.91,
          414.8,
          420.27,
          414.17,
          412,
          408.34,
          405.79,
          403.48,
          411.02,
          416.13,
          414.18,
          417.31,
          414.01,
          417.06,
          412.91,
          412.64,
          408.71,
          407.1,
          408.53,
          412.89,
          412.05,
          416.61,
          415.04,
          419.42,
          423.74,
          424.85,
          425.88,
          426.7,
          426.86,
          424.3,
          424.22,
          429.08,
          430.71,
          432.66,
          432.43,
          431.96,
          434.6,
          426.75,
          427.37,
          428.34,
          432.36,
          432.14,
          427.48,
          426.28,
          422.36,
          420.36,
          423.57,
          426.64,
          428.56,
          435.63,
          428.77,
          421.86,
          416.07,
          420.17,
          418.27,
          423.09,
          421.68,
          422.08,
          420.57,
          424.35,
          423.54,
          423,
          425.95,
          427.91,
          430.32,
          430.15,
          433.87,
          432.22,
          433.26,
          432.88,
          428.16,
          429.35,
          432.78,
          433.22,
          434.13,
          436.96,
          434.73,
          435.02,
          431.46,
          434.42,
          436.73,
          438.38,
          440.4,
          439.98,
          437.54,
          438.84,
          436.34,
          436,
          437.66,
          439.5,
          436.97,
          432.63,
          427.84,
          431.28,
          434.71,
          433.57,
          436.76,
          434.82,
          429.89,
          428.55,
          426,
          431.38,
          431.55,
          427.47,
          428.22,
          429.15,
          429.49,
          423.91,
          426.79,
          429.98,
          436.05,
          434.74,
          433.29,
          431.65,
          428.56,
          424.74,
          422.38,
          416.06,
          411.31,
          413.36,
          404.96,
          400.78,
          404.58,
          412.48,
          413.95,
          410.38,
          410.24,
          411.5,
          419.79,
          419.92,
          415.89,
          419.22,
          420.37,
          417.8,
          414.54,
          407.28,
          408.7,
          409.7,
          412.36,
          412.85,
          409.22,
          410.99,
          410.46,
          409.84,
          410.97,
          406.2,
          400.09,
          401.3,
          394.79,
          388.01,
          381.93,
          388.14,
          387.42,
          380.69,
          384.1,
          389.59,
          393.19,
          392.02,
          395.41,
          393.74,
          393.18,
          393.34,
          395.01,
          399.07,
          395.48,
          393.89,
          388.47,
          389.81,
          394.82,
          389.48,
          391.54,
          389.86,
          389.59,
          390.36,
          386.24
         ]
        },
        {
         "line": {
          "color": "rgba(0,0,30,0.5)"
         },
         "mode": "lines",
         "name": "Test",
         "type": "scatter",
         "x": [
          378,
          379,
          380,
          381,
          382,
          383,
          384,
          385,
          386,
          387,
          388,
          389,
          390,
          391,
          392,
          393,
          394,
          395,
          396,
          397,
          398,
          399,
          400,
          401,
          402,
          403,
          404,
          405,
          406,
          407,
          408,
          409,
          410,
          411,
          412,
          413,
          414,
          415,
          416,
          417,
          418,
          419,
          420,
          421,
          422,
          423,
          424,
          425,
          426,
          427,
          428,
          429,
          430,
          431,
          432,
          433,
          434,
          435,
          436,
          437,
          438,
          439,
          440,
          441,
          442,
          443,
          444,
          445,
          446,
          447,
          448,
          449,
          450,
          451,
          452,
          453,
          454,
          455,
          456,
          457,
          458,
          459,
          460,
          461,
          462,
          463,
          464,
          465,
          466,
          467,
          468,
          469,
          470,
          471,
          472
         ],
         "y": [
          385.97,
          390.38,
          394.36,
          394.07,
          389.44,
          387.44,
          390.53,
          399.07,
          396.44,
          395.4,
          391.93,
          385.07,
          381.63,
          373.24,
          383.13,
          389.64,
          391.96,
          392.85,
          396.31,
          397.27,
          401.13,
          397.97,
          397.27,
          395.41,
          395.66,
          397.68,
          398.96,
          391.37,
          393.95,
          396.07,
          398.15,
          400.53,
          398.61,
          401.21,
          396.72,
          394.19,
          395.51,
          395.4,
          390.39,
          386.22,
          390.85,
          387.52,
          388.97,
          394.66,
          393,
          387.45,
          383.81,
          381.01,
          378.21,
          380.39,
          376.08,
          371.3,
          362.39,
          360.83,
          348.58,
          357.98,
          361.6,
          366.34,
          362.92,
          363.48,
          368.65,
          371.57,
          368.61,
          362.98,
          360.43,
          367.3,
          369.55,
          368.55,
          368.29,
          363.51,
          364.44,
          355.04,
          358.44,
          361.54,
          360.59,
          367.06,
          361.69,
          353.03,
          349.38,
          358.01,
          355.31,
          354.61,
          351.03,
          356.09,
          361.46,
          362.33,
          358.77,
          361.66,
          364.84,
          363.38,
          362.06,
          362.06,
          363.77,
          364.5,
          365.61
         ]
        },
        {
         "line": {
          "color": "red",
          "dash": "dot",
          "width": 3
         },
         "mode": "lines",
         "name": "Prediction",
         "type": "scatter",
         "x": [
          378,
          379,
          380,
          381,
          382,
          383,
          384,
          385,
          386,
          387,
          388,
          389,
          390,
          391,
          392,
          393,
          394,
          395,
          396,
          397,
          398,
          399,
          400,
          401,
          402,
          403,
          404,
          405,
          406,
          407,
          408,
          409,
          410,
          411,
          412,
          413,
          414,
          415,
          416,
          417,
          418,
          419,
          420,
          421,
          422,
          423,
          424,
          425,
          426,
          427,
          428,
          429,
          430,
          431,
          432,
          433,
          434,
          435,
          436,
          437,
          438,
          439,
          440,
          441,
          442,
          443,
          444,
          445,
          446,
          447,
          448,
          449,
          450,
          451,
          452,
          453,
          454,
          455,
          456,
          457,
          458,
          459,
          460,
          461,
          462,
          463,
          464,
          465,
          466,
          467,
          468,
          469,
          470,
          471,
          472
         ],
         "y": [
          385.9981399238659,
          385.727785987373,
          390.217245226929,
          394.2625416699815,
          393.9703497613055,
          389.27148413883646,
          387.2470939542648,
          390.38506935201,
          399.0303394190541,
          396.3840286175529,
          395.3332266055552,
          391.81766183505306,
          384.8761173346077,
          381.36409937754496,
          372.862456616109,
          382.88769485167853,
          389.49501682766726,
          391.8586874804789,
          392.7683166575287,
          396.27736498808764,
          397.254924526514,
          401.1615764302677,
          397.96537537874104,
          397.25831392106335,
          395.3782868949205,
          395.6311344378506,
          397.6720136190663,
          398.9651540227469,
          391.29613317710385,
          393.9032726394503,
          396.0454861623041,
          398.14884575648875,
          400.55935565769573,
          398.62017543729,
          401.24566277032136,
          396.70814790818287,
          394.1494378697924,
          395.4831948577731,
          395.37235893703104,
          390.3087202738245,
          386.08580882404107,
          390.76738266650545,
          387.4031019740991,
          388.8696687054159,
          394.6246092478933,
          392.954758819313,
          387.3470302674044,
          383.65472114679915,
          380.82179430759174,
          377.9850856301799,
          380.1968599235708,
          375.83335969796815,
          370.9902946031037,
          361.9724601971998,
          360.3631911800925,
          347.9467920701954,
          357.48267654486574,
          361.18314104461376,
          366.0027957458355,
          362.5378741257003,
          363.10901686397875,
          368.3599040843147,
          371.32501889351124,
          368.33071584618915,
          362.63414076468854,
          360.04489907793675,
          367.00537517489647,
          369.3016719840166,
          368.2935109260474,
          368.0334646260034,
          363.1938939063825,
          364.1378546058626,
          354.63196041846055,
          358.07492908596834,
          361.2190002496669,
          360.26199539320584,
          366.8104757933887,
          361.3841506146993,
          352.62853639876136,
          348.91787403506453,
          357.66003604933854,
          354.94409610097193,
          354.24036304717754,
          350.6194415334444,
          355.7461521415653,
          361.18476530136644,
          362.0779319766729,
          358.4794708186296,
          361.4068927958788,
          364.6264880388663,
          363.1536266630819,
          361.82233146388216,
          361.82476894359314,
          363.5548364201078,
          364.2945962429637
         ]
        },
        {
         "fill": "toself",
         "fillcolor": "rgba(0,0,30,0.1)",
         "hoverinfo": "skip",
         "line": {
          "color": "rgba(0,0,0,0)"
         },
         "showlegend": false,
         "type": "scatter",
         "x": [
          378,
          379,
          380,
          381,
          382,
          383,
          384,
          385,
          386,
          387,
          388,
          389,
          390,
          391,
          392,
          393,
          394,
          395,
          396,
          397,
          398,
          399,
          400,
          401,
          402,
          403,
          404,
          405,
          406,
          407,
          408,
          409,
          410,
          411,
          412,
          413,
          414,
          415,
          416,
          417,
          418,
          419,
          420,
          421,
          422,
          423,
          424,
          425,
          426,
          427,
          428,
          429,
          430,
          431,
          432,
          433,
          434,
          435,
          436,
          437,
          438,
          439,
          440,
          441,
          442,
          443,
          444,
          445,
          446,
          447,
          448,
          449,
          450,
          451,
          452,
          453,
          454,
          455,
          456,
          457,
          458,
          459,
          460,
          461,
          462,
          463,
          464,
          465,
          466,
          467,
          468,
          469,
          470,
          471,
          472,
          472,
          471,
          470,
          469,
          468,
          467,
          466,
          465,
          464,
          463,
          462,
          461,
          460,
          459,
          458,
          457,
          456,
          455,
          454,
          453,
          452,
          451,
          450,
          449,
          448,
          447,
          446,
          445,
          444,
          443,
          442,
          441,
          440,
          439,
          438,
          437,
          436,
          435,
          434,
          433,
          432,
          431,
          430,
          429,
          428,
          427,
          426,
          425,
          424,
          423,
          422,
          421,
          420,
          419,
          418,
          417,
          416,
          415,
          414,
          413,
          412,
          411,
          410,
          409,
          408,
          407,
          406,
          405,
          404,
          403,
          402,
          401,
          400,
          399,
          398,
          397,
          396,
          395,
          394,
          393,
          392,
          391,
          390,
          389,
          388,
          387,
          386,
          385,
          384,
          383,
          382,
          381,
          380,
          379,
          378
         ],
         "y": [
          394.48754924791456,
          394.2059297104877,
          398.6964683658437,
          402.74026272873215,
          402.43693703183794,
          397.73960028288815,
          395.70293010208843,
          398.8385472529759,
          407.5064530426684,
          404.8565015576756,
          403.8027623122332,
          400.27951577723525,
          393.3478390815348,
          389.84058412777637,
          381.353706858251,
          391.432724176282,
          398.0435623130694,
          400.4026921552791,
          401.30878511158033,
          404.814352706201,
          405.7904419797654,
          409.6915657238995,
          406.49094162729796,
          405.7760797295832,
          403.88433788599843,
          404.1296419173847,
          406.1623172701013,
          407.4458395634985,
          399.79431450696444,
          402.3989840310685,
          404.5336180009651,
          406.62484843914,
          409.02792422480564,
          407.0845112552709,
          409.703263156678,
          405.16441061357347,
          402.59801930769805,
          403.92625368720576,
          403.80506429963674,
          398.7399467473309,
          394.5136571650137,
          399.2018649034344,
          395.8366074201728,
          397.2944019057876,
          403.0481089926717,
          401.37847169574934,
          395.77199355684877,
          392.08107539618436,
          389.2400722037234,
          386.398601670143,
          388.6023377088295,
          384.23777557586845,
          379.39330183341076,
          370.39863433933994,
          368.79313473322696,
          356.4211802480143,
          366.013046670971,
          369.71771462567153,
          374.53771846049756,
          371.0706777902103,
          371.6331783613144,
          376.88233943284524,
          379.8462700364326,
          376.84840327763726,
          371.1510146094627,
          368.5623133850796,
          375.5293044995456,
          377.8275662646251,
          376.8116335080909,
          376.54201124076735,
          371.70363756547107,
          372.6387362963659,
          363.1574873860521,
          366.60587040693235,
          369.7441689910165,
          368.78003901930947,
          375.33474140849796,
          369.91930988674085,
          361.18180153122603,
          357.474258977055,
          366.235993279991,
          363.5191634184311,
          362.81178272672065,
          359.1840397469831,
          364.31141996625456,
          369.7530776667243,
          370.64735757081706,
          367.04240881799456,
          369.96711032024854,
          373.18190175324526,
          371.7026616518691,
          370.3627793073961,
          370.35611773418964,
          372.07890683429684,
          372.8100174808785,
          355.77917500504884,
          355.03076600591874,
          353.29342015299665,
          353.2818836203682,
          354.60459167429474,
          356.0710743244873,
          352.846675271509,
          349.9165328192646,
          353.50850638252876,
          352.61645293600856,
          347.180884316876,
          342.0548433199057,
          345.6689433676344,
          346.36902878351276,
          349.08407881868607,
          340.36148909307406,
          344.0752712662967,
          352.84899134265777,
          358.2862101782795,
          351.7439517671022,
          352.6938315083173,
          349.5439877650043,
          346.106433450869,
          355.63697291535925,
          354.684150247294,
          359.5249180112395,
          359.77538834400394,
          360.7757777034081,
          358.4814458502473,
          351.5274847707939,
          354.11726691991436,
          359.81302841474104,
          362.8037677505899,
          359.8374687357841,
          354.5848553666431,
          354.00507046119026,
          357.46787303117344,
          352.648567463556,
          348.9523064187605,
          339.47240389237646,
          351.933247626958,
          353.5462860550596,
          362.5872873727966,
          367.42894382006784,
          371.7913821383121,
          369.5715695902168,
          372.4035164114601,
          375.22836689741393,
          378.92206697796007,
          384.53104594287663,
          386.20110950311494,
          380.4449355050442,
          378.9695965280254,
          382.3329004295765,
          377.65796048306845,
          381.8774938003181,
          386.93965357442534,
          387.0401360283405,
          385.70085643188673,
          388.25188520279227,
          392.7880623839647,
          390.1558396193091,
          392.0907870905858,
          389.6728430738375,
          387.5573543236431,
          385.40756124783206,
          382.79795184724327,
          390.4844684819953,
          389.1817099680313,
          387.13262695831656,
          386.8722359038426,
          388.7405481125435,
          389.43980913018413,
          392.6315871366359,
          388.71940707326263,
          387.74037726997426,
          384.2278482034771,
          383.31468280567873,
          380.9464713422651,
          374.34266552707504,
          364.371206373967,
          372.88761462731355,
          376.40439558768065,
          383.35580789287087,
          386.86369089887717,
          387.91155567743016,
          390.5542257954398,
          381.93159145104414,
          378.7912578064412,
          380.80336799478476,
          385.50376249077306,
          385.7848206112308,
          381.73802208801425,
          377.24964226425834,
          377.5087305998172
         ]
        }
       ],
       "layout": {
        "height": 400,
        "template": {
         "data": {
          "bar": [
           {
            "error_x": {
             "color": "#2a3f5f"
            },
            "error_y": {
             "color": "#2a3f5f"
            },
            "marker": {
             "line": {
              "color": "#E5ECF6",
              "width": 0.5
             },
             "pattern": {
              "fillmode": "overlay",
              "size": 10,
              "solidity": 0.2
             }
            },
            "type": "bar"
           }
          ],
          "barpolar": [
           {
            "marker": {
             "line": {
              "color": "#E5ECF6",
              "width": 0.5
             },
             "pattern": {
              "fillmode": "overlay",
              "size": 10,
              "solidity": 0.2
             }
            },
            "type": "barpolar"
           }
          ],
          "carpet": [
           {
            "aaxis": {
             "endlinecolor": "#2a3f5f",
             "gridcolor": "white",
             "linecolor": "white",
             "minorgridcolor": "white",
             "startlinecolor": "#2a3f5f"
            },
            "baxis": {
             "endlinecolor": "#2a3f5f",
             "gridcolor": "white",
             "linecolor": "white",
             "minorgridcolor": "white",
             "startlinecolor": "#2a3f5f"
            },
            "type": "carpet"
           }
          ],
          "choropleth": [
           {
            "colorbar": {
             "outlinewidth": 0,
             "ticks": ""
            },
            "type": "choropleth"
           }
          ],
          "contour": [
           {
            "colorbar": {
             "outlinewidth": 0,
             "ticks": ""
            },
            "colorscale": [
             [
              0,
              "#0d0887"
             ],
             [
              0.1111111111111111,
              "#46039f"
             ],
             [
              0.2222222222222222,
              "#7201a8"
             ],
             [
              0.3333333333333333,
              "#9c179e"
             ],
             [
              0.4444444444444444,
              "#bd3786"
             ],
             [
              0.5555555555555556,
              "#d8576b"
             ],
             [
              0.6666666666666666,
              "#ed7953"
             ],
             [
              0.7777777777777778,
              "#fb9f3a"
             ],
             [
              0.8888888888888888,
              "#fdca26"
             ],
             [
              1,
              "#f0f921"
             ]
            ],
            "type": "contour"
           }
          ],
          "contourcarpet": [
           {
            "colorbar": {
             "outlinewidth": 0,
             "ticks": ""
            },
            "type": "contourcarpet"
           }
          ],
          "heatmap": [
           {
            "colorbar": {
             "outlinewidth": 0,
             "ticks": ""
            },
            "colorscale": [
             [
              0,
              "#0d0887"
             ],
             [
              0.1111111111111111,
              "#46039f"
             ],
             [
              0.2222222222222222,
              "#7201a8"
             ],
             [
              0.3333333333333333,
              "#9c179e"
             ],
             [
              0.4444444444444444,
              "#bd3786"
             ],
             [
              0.5555555555555556,
              "#d8576b"
             ],
             [
              0.6666666666666666,
              "#ed7953"
             ],
             [
              0.7777777777777778,
              "#fb9f3a"
             ],
             [
              0.8888888888888888,
              "#fdca26"
             ],
             [
              1,
              "#f0f921"
             ]
            ],
            "type": "heatmap"
           }
          ],
          "heatmapgl": [
           {
            "colorbar": {
             "outlinewidth": 0,
             "ticks": ""
            },
            "colorscale": [
             [
              0,
              "#0d0887"
             ],
             [
              0.1111111111111111,
              "#46039f"
             ],
             [
              0.2222222222222222,
              "#7201a8"
             ],
             [
              0.3333333333333333,
              "#9c179e"
             ],
             [
              0.4444444444444444,
              "#bd3786"
             ],
             [
              0.5555555555555556,
              "#d8576b"
             ],
             [
              0.6666666666666666,
              "#ed7953"
             ],
             [
              0.7777777777777778,
              "#fb9f3a"
             ],
             [
              0.8888888888888888,
              "#fdca26"
             ],
             [
              1,
              "#f0f921"
             ]
            ],
            "type": "heatmapgl"
           }
          ],
          "histogram": [
           {
            "marker": {
             "pattern": {
              "fillmode": "overlay",
              "size": 10,
              "solidity": 0.2
             }
            },
            "type": "histogram"
           }
          ],
          "histogram2d": [
           {
            "colorbar": {
             "outlinewidth": 0,
             "ticks": ""
            },
            "colorscale": [
             [
              0,
              "#0d0887"
             ],
             [
              0.1111111111111111,
              "#46039f"
             ],
             [
              0.2222222222222222,
              "#7201a8"
             ],
             [
              0.3333333333333333,
              "#9c179e"
             ],
             [
              0.4444444444444444,
              "#bd3786"
             ],
             [
              0.5555555555555556,
              "#d8576b"
             ],
             [
              0.6666666666666666,
              "#ed7953"
             ],
             [
              0.7777777777777778,
              "#fb9f3a"
             ],
             [
              0.8888888888888888,
              "#fdca26"
             ],
             [
              1,
              "#f0f921"
             ]
            ],
            "type": "histogram2d"
           }
          ],
          "histogram2dcontour": [
           {
            "colorbar": {
             "outlinewidth": 0,
             "ticks": ""
            },
            "colorscale": [
             [
              0,
              "#0d0887"
             ],
             [
              0.1111111111111111,
              "#46039f"
             ],
             [
              0.2222222222222222,
              "#7201a8"
             ],
             [
              0.3333333333333333,
              "#9c179e"
             ],
             [
              0.4444444444444444,
              "#bd3786"
             ],
             [
              0.5555555555555556,
              "#d8576b"
             ],
             [
              0.6666666666666666,
              "#ed7953"
             ],
             [
              0.7777777777777778,
              "#fb9f3a"
             ],
             [
              0.8888888888888888,
              "#fdca26"
             ],
             [
              1,
              "#f0f921"
             ]
            ],
            "type": "histogram2dcontour"
           }
          ],
          "mesh3d": [
           {
            "colorbar": {
             "outlinewidth": 0,
             "ticks": ""
            },
            "type": "mesh3d"
           }
          ],
          "parcoords": [
           {
            "line": {
             "colorbar": {
              "outlinewidth": 0,
              "ticks": ""
             }
            },
            "type": "parcoords"
           }
          ],
          "pie": [
           {
            "automargin": true,
            "type": "pie"
           }
          ],
          "scatter": [
           {
            "fillpattern": {
             "fillmode": "overlay",
             "size": 10,
             "solidity": 0.2
            },
            "type": "scatter"
           }
          ],
          "scatter3d": [
           {
            "line": {
             "colorbar": {
              "outlinewidth": 0,
              "ticks": ""
             }
            },
            "marker": {
             "colorbar": {
              "outlinewidth": 0,
              "ticks": ""
             }
            },
            "type": "scatter3d"
           }
          ],
          "scattercarpet": [
           {
            "marker": {
             "colorbar": {
              "outlinewidth": 0,
              "ticks": ""
             }
            },
            "type": "scattercarpet"
           }
          ],
          "scattergeo": [
           {
            "marker": {
             "colorbar": {
              "outlinewidth": 0,
              "ticks": ""
             }
            },
            "type": "scattergeo"
           }
          ],
          "scattergl": [
           {
            "marker": {
             "colorbar": {
              "outlinewidth": 0,
              "ticks": ""
             }
            },
            "type": "scattergl"
           }
          ],
          "scattermapbox": [
           {
            "marker": {
             "colorbar": {
              "outlinewidth": 0,
              "ticks": ""
             }
            },
            "type": "scattermapbox"
           }
          ],
          "scatterpolar": [
           {
            "marker": {
             "colorbar": {
              "outlinewidth": 0,
              "ticks": ""
             }
            },
            "type": "scatterpolar"
           }
          ],
          "scatterpolargl": [
           {
            "marker": {
             "colorbar": {
              "outlinewidth": 0,
              "ticks": ""
             }
            },
            "type": "scatterpolargl"
           }
          ],
          "scatterternary": [
           {
            "marker": {
             "colorbar": {
              "outlinewidth": 0,
              "ticks": ""
             }
            },
            "type": "scatterternary"
           }
          ],
          "surface": [
           {
            "colorbar": {
             "outlinewidth": 0,
             "ticks": ""
            },
            "colorscale": [
             [
              0,
              "#0d0887"
             ],
             [
              0.1111111111111111,
              "#46039f"
             ],
             [
              0.2222222222222222,
              "#7201a8"
             ],
             [
              0.3333333333333333,
              "#9c179e"
             ],
             [
              0.4444444444444444,
              "#bd3786"
             ],
             [
              0.5555555555555556,
              "#d8576b"
             ],
             [
              0.6666666666666666,
              "#ed7953"
             ],
             [
              0.7777777777777778,
              "#fb9f3a"
             ],
             [
              0.8888888888888888,
              "#fdca26"
             ],
             [
              1,
              "#f0f921"
             ]
            ],
            "type": "surface"
           }
          ],
          "table": [
           {
            "cells": {
             "fill": {
              "color": "#EBF0F8"
             },
             "line": {
              "color": "white"
             }
            },
            "header": {
             "fill": {
              "color": "#C8D4E3"
             },
             "line": {
              "color": "white"
             }
            },
            "type": "table"
           }
          ]
         },
         "layout": {
          "annotationdefaults": {
           "arrowcolor": "#2a3f5f",
           "arrowhead": 0,
           "arrowwidth": 1
          },
          "autotypenumbers": "strict",
          "coloraxis": {
           "colorbar": {
            "outlinewidth": 0,
            "ticks": ""
           }
          },
          "colorscale": {
           "diverging": [
            [
             0,
             "#8e0152"
            ],
            [
             0.1,
             "#c51b7d"
            ],
            [
             0.2,
             "#de77ae"
            ],
            [
             0.3,
             "#f1b6da"
            ],
            [
             0.4,
             "#fde0ef"
            ],
            [
             0.5,
             "#f7f7f7"
            ],
            [
             0.6,
             "#e6f5d0"
            ],
            [
             0.7,
             "#b8e186"
            ],
            [
             0.8,
             "#7fbc41"
            ],
            [
             0.9,
             "#4d9221"
            ],
            [
             1,
             "#276419"
            ]
           ],
           "sequential": [
            [
             0,
             "#0d0887"
            ],
            [
             0.1111111111111111,
             "#46039f"
            ],
            [
             0.2222222222222222,
             "#7201a8"
            ],
            [
             0.3333333333333333,
             "#9c179e"
            ],
            [
             0.4444444444444444,
             "#bd3786"
            ],
            [
             0.5555555555555556,
             "#d8576b"
            ],
            [
             0.6666666666666666,
             "#ed7953"
            ],
            [
             0.7777777777777778,
             "#fb9f3a"
            ],
            [
             0.8888888888888888,
             "#fdca26"
            ],
            [
             1,
             "#f0f921"
            ]
           ],
           "sequentialminus": [
            [
             0,
             "#0d0887"
            ],
            [
             0.1111111111111111,
             "#46039f"
            ],
            [
             0.2222222222222222,
             "#7201a8"
            ],
            [
             0.3333333333333333,
             "#9c179e"
            ],
            [
             0.4444444444444444,
             "#bd3786"
            ],
            [
             0.5555555555555556,
             "#d8576b"
            ],
            [
             0.6666666666666666,
             "#ed7953"
            ],
            [
             0.7777777777777778,
             "#fb9f3a"
            ],
            [
             0.8888888888888888,
             "#fdca26"
            ],
            [
             1,
             "#f0f921"
            ]
           ]
          },
          "colorway": [
           "#636efa",
           "#EF553B",
           "#00cc96",
           "#ab63fa",
           "#FFA15A",
           "#19d3f3",
           "#FF6692",
           "#B6E880",
           "#FF97FF",
           "#FECB52"
          ],
          "font": {
           "color": "#2a3f5f"
          },
          "geo": {
           "bgcolor": "white",
           "lakecolor": "white",
           "landcolor": "#E5ECF6",
           "showlakes": true,
           "showland": true,
           "subunitcolor": "white"
          },
          "hoverlabel": {
           "align": "left"
          },
          "hovermode": "closest",
          "mapbox": {
           "style": "light"
          },
          "paper_bgcolor": "white",
          "plot_bgcolor": "#E5ECF6",
          "polar": {
           "angularaxis": {
            "gridcolor": "white",
            "linecolor": "white",
            "ticks": ""
           },
           "bgcolor": "#E5ECF6",
           "radialaxis": {
            "gridcolor": "white",
            "linecolor": "white",
            "ticks": ""
           }
          },
          "scene": {
           "xaxis": {
            "backgroundcolor": "#E5ECF6",
            "gridcolor": "white",
            "gridwidth": 2,
            "linecolor": "white",
            "showbackground": true,
            "ticks": "",
            "zerolinecolor": "white"
           },
           "yaxis": {
            "backgroundcolor": "#E5ECF6",
            "gridcolor": "white",
            "gridwidth": 2,
            "linecolor": "white",
            "showbackground": true,
            "ticks": "",
            "zerolinecolor": "white"
           },
           "zaxis": {
            "backgroundcolor": "#E5ECF6",
            "gridcolor": "white",
            "gridwidth": 2,
            "linecolor": "white",
            "showbackground": true,
            "ticks": "",
            "zerolinecolor": "white"
           }
          },
          "shapedefaults": {
           "line": {
            "color": "#2a3f5f"
           }
          },
          "ternary": {
           "aaxis": {
            "gridcolor": "white",
            "linecolor": "white",
            "ticks": ""
           },
           "baxis": {
            "gridcolor": "white",
            "linecolor": "white",
            "ticks": ""
           },
           "bgcolor": "#E5ECF6",
           "caxis": {
            "gridcolor": "white",
            "linecolor": "white",
            "ticks": ""
           }
          },
          "title": {
           "x": 0.05
          },
          "xaxis": {
           "automargin": true,
           "gridcolor": "white",
           "linecolor": "white",
           "ticks": "",
           "title": {
            "standoff": 15
           },
           "zerolinecolor": "white",
           "zerolinewidth": 2
          },
          "yaxis": {
           "automargin": true,
           "gridcolor": "white",
           "linecolor": "white",
           "ticks": "",
           "title": {
            "standoff": 15
           },
           "zerolinecolor": "white",
           "zerolinewidth": 2
          }
         }
        },
        "title": {
         "text": "ARIMA(0,2,1)모형"
        },
        "width": 1000
       }
      }
     },
     "metadata": {},
     "output_type": "display_data"
    }
   ],
   "source": [
    "from plotly.subplots import make_subplots\n",
    "import plotly.graph_objects as go\n",
    "\n",
    "fig = go.Figure([\n",
    "    # 훈련 데이터-------------------------------------------------------\n",
    "    go.Scatter(x = train['KS200'].index, y = train['KS200'], name = \"Train\", mode = 'lines'\n",
    "              ,line=dict(color = 'royalblue'))\n",
    "    # 테스트 데이터------------------------------------------------------\n",
    "    , go.Scatter(x = target['KS200'].index, y = target['KS200'], name = \"Test\", mode = 'lines'\n",
    "                ,line = dict(color = 'rgba(0,0,30,0.5)'))\n",
    "    # 예측값-----------------------------------------------------------\n",
    "    , go.Scatter(x = target['KS200'].index, y = y_pred, name = \"Prediction\", mode = 'lines'\n",
    "                     ,line = dict(color = 'red', dash = 'dot', width=3))\n",
    "    \n",
    "    # 신뢰 구간---------------------------------------------------------\n",
    "    , go.Scatter(x = target['KS200'].index.tolist() + target['KS200'].index[::-1].tolist() \n",
    "                ,y = pred_upper + pred_lower[::-1] ## 상위 신뢰 구간 -> 하위 신뢰 구간 역순으로\n",
    "                ,fill='toself'\n",
    "                ,fillcolor='rgba(0,0,30,0.1)'\n",
    "                ,line=dict(color='rgba(0,0,0,0)')\n",
    "                ,hoverinfo=\"skip\"\n",
    "                ,showlegend=False)\n",
    "])\n",
    "\n",
    "fig.update_layout(height=400, width=1000, title_text=\"ARIMA(0,2,1)모형\")\n",
    "fig.show()"
   ]
  },
  {
   "cell_type": "code",
   "execution_count": 29,
   "metadata": {},
   "outputs": [
    {
     "name": "stdout",
     "output_type": "stream",
     "text": [
      "MAPE: 0.946\n"
     ]
    }
   ],
   "source": [
    "def MAPE(y_test, y_pred):\n",
    "\treturn np.mean(np.abs((y_test - y_pred) / y_test)) * 100 \n",
    "    \n",
    "print(f\"MAPE: {MAPE(target['KS200'], y_pred):.3f}\")\n",
    "# MAPE: 0.792"
   ]
  },
  {
   "cell_type": "code",
   "execution_count": null,
   "metadata": {},
   "outputs": [],
   "source": []
  }
 ],
 "metadata": {
  "interpreter": {
   "hash": "ae86efb8b77dfb237f66b88168f0bd1dfff1a2694c121842130244f61fb57205"
  },
  "kernelspec": {
   "display_name": "Python 3.10.2 64-bit (system)",
   "language": "python",
   "name": "python3"
  },
  "language_info": {
   "codemirror_mode": {
    "name": "ipython",
    "version": 3
   },
   "file_extension": ".py",
   "mimetype": "text/x-python",
   "name": "python",
   "nbconvert_exporter": "python",
   "pygments_lexer": "ipython3",
   "version": "3.10.2"
  },
  "orig_nbformat": 4
 },
 "nbformat": 4,
 "nbformat_minor": 2
}
