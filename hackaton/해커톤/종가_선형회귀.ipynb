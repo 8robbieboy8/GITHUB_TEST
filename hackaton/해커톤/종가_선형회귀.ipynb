{
 "cells": [
  {
   "cell_type": "markdown",
   "metadata": {},
   "source": [
    "FinanceDataReader에서 주가정보를 불러온다. \n",
    "변수를 지정해주고 = fdr.datareader(코드, 날짜 )\n",
    "그리고 변수.to_csv()로 csv만들어 준다. "
   ]
  },
  {
   "cell_type": "code",
   "execution_count": 2,
   "metadata": {},
   "outputs": [],
   "source": [
    "# import FinanceDataReader as fdr\n",
    "# beforwar = fdr.DataReader('271969', '2020-11-01', '2021-03-31')\n",
    "# beforwar\n",
    "\n",
    "# beforwar.to_csv('./')\n",
    "\n",
    "# afterwar = fdr.DataReader('271060', '2021-11-01')"
   ]
  },
  {
   "cell_type": "code",
   "execution_count": 3,
   "metadata": {},
   "outputs": [],
   "source": [
    "# # KODEX 3대농산물선물(H)(271060)\n",
    "# import FinanceDataReader as fdr\n",
    "# beforewar = fdr.DataReader('271060', '2020-11-01', '2021-03-31')\n",
    "# beforewar\n",
    "\n",
    "# ## csv 파일로 저장\n",
    "# beforewar.to_csv('./dataset/beforewar.csv')\n",
    "\n",
    "\n",
    "# import FinanceDataReader as fdr\n",
    "# afterwar = fdr.DataReader('271060', '2021-11-01', '2022-03-31')\n",
    "# afterwar\n",
    "# ## csv 파일로 저장\n",
    "# afterwar.to_csv('./dataset/afterwar.csv')"
   ]
  },
  {
   "cell_type": "code",
   "execution_count": 4,
   "metadata": {},
   "outputs": [],
   "source": [
    "import pandas as pd "
   ]
  },
  {
   "cell_type": "code",
   "execution_count": 5,
   "metadata": {},
   "outputs": [],
   "source": [
    "afterwar = pd.read_csv('./afterwar.csv')\n",
    "beforewar = pd.read_csv(('./beforewar.csv'))\n",
    "wti_1 = pd.read_csv(('./WTI_1.csv'))\n",
    "wti_2 = pd.read_csv(('./WTI_2.csv'))"
   ]
  },
  {
   "cell_type": "code",
   "execution_count": 6,
   "metadata": {},
   "outputs": [
    {
     "name": "stdout",
     "output_type": "stream",
     "text": [
      "<class 'pandas.core.frame.DataFrame'>\n",
      "RangeIndex: 102 entries, 0 to 101\n",
      "Data columns (total 7 columns):\n",
      " #   Column  Non-Null Count  Dtype  \n",
      "---  ------  --------------  -----  \n",
      " 0   Date    102 non-null    object \n",
      " 1   Open    102 non-null    int64  \n",
      " 2   High    102 non-null    int64  \n",
      " 3   Low     102 non-null    int64  \n",
      " 4   Close   102 non-null    int64  \n",
      " 5   Volume  102 non-null    int64  \n",
      " 6   Change  102 non-null    float64\n",
      "dtypes: float64(1), int64(5), object(1)\n",
      "memory usage: 5.7+ KB\n"
     ]
    }
   ],
   "source": [
    "beforewar.info()"
   ]
  },
  {
   "cell_type": "code",
   "execution_count": 7,
   "metadata": {},
   "outputs": [
    {
     "name": "stdout",
     "output_type": "stream",
     "text": [
      "<class 'pandas.core.frame.DataFrame'>\n",
      "RangeIndex: 110 entries, 0 to 109\n",
      "Data columns (total 7 columns):\n",
      " #   Column  Non-Null Count  Dtype  \n",
      "---  ------  --------------  -----  \n",
      " 0   날짜      110 non-null    object \n",
      " 1   종가      110 non-null    float64\n",
      " 2   오픈      110 non-null    float64\n",
      " 3   고가      110 non-null    float64\n",
      " 4   저가      110 non-null    float64\n",
      " 5   거래량     110 non-null    object \n",
      " 6   변동 %    110 non-null    object \n",
      "dtypes: float64(4), object(3)\n",
      "memory usage: 6.1+ KB\n"
     ]
    }
   ],
   "source": [
    "wti_1.info()"
   ]
  },
  {
   "cell_type": "code",
   "execution_count": 8,
   "metadata": {},
   "outputs": [
    {
     "name": "stdout",
     "output_type": "stream",
     "text": [
      "%Y-%m-%d\n",
      "          Date  Close\n",
      "0   2020-11-02   8045\n",
      "1   2020-11-03   8120\n",
      "2   2020-11-04   8165\n",
      "3   2020-11-05   8335\n",
      "4   2020-11-06   8355\n",
      "..         ...    ...\n",
      "97  2021-03-25  10045\n",
      "98  2021-03-26   9985\n",
      "99  2021-03-29   9950\n",
      "100 2021-03-30   9880\n",
      "101 2021-03-31   9735\n",
      "\n",
      "[102 rows x 2 columns]\n",
      "          Date  Close\n",
      "0   2021-11-01  10970\n",
      "1   2021-11-02  11175\n",
      "2   2021-11-03  11070\n",
      "3   2021-11-04  11000\n",
      "4   2021-11-05  10875\n",
      "..         ...    ...\n",
      "98  2022-03-25  14535\n",
      "99  2022-03-28  14470\n",
      "100 2022-03-29  14350\n",
      "101 2022-03-30  14020\n",
      "102 2022-03-31  14235\n",
      "\n",
      "[103 rows x 2 columns]\n"
     ]
    },
    {
     "name": "stderr",
     "output_type": "stream",
     "text": [
      "C:\\Users\\spaceastonomy\\AppData\\Local\\Temp\\ipykernel_10668\\1172914465.py:8: SettingWithCopyWarning: \n",
      "A value is trying to be set on a copy of a slice from a DataFrame.\n",
      "Try using .loc[row_indexer,col_indexer] = value instead\n",
      "\n",
      "See the caveats in the documentation: https://pandas.pydata.org/pandas-docs/stable/user_guide/indexing.html#returning-a-view-versus-a-copy\n",
      "  befordf[\"Date\"] = pd.to_datetime(befordf[\"Date\"],format=format)\n",
      "C:\\Users\\spaceastonomy\\AppData\\Local\\Temp\\ipykernel_10668\\1172914465.py:13: SettingWithCopyWarning: \n",
      "A value is trying to be set on a copy of a slice from a DataFrame.\n",
      "Try using .loc[row_indexer,col_indexer] = value instead\n",
      "\n",
      "See the caveats in the documentation: https://pandas.pydata.org/pandas-docs/stable/user_guide/indexing.html#returning-a-view-versus-a-copy\n",
      "  afterdf[\"Date\"] = pd.to_datetime(afterwar[\"Date\"],format=format)\n"
     ]
    }
   ],
   "source": [
    "import datetime \n",
    "format = \"%Y-%m-%d\"\n",
    "print(format)\n",
    "\n",
    "\n",
    "#전쟁 전 농산물\n",
    "befordf = beforewar[['Date','Close']]\n",
    "befordf[\"Date\"] = pd.to_datetime(befordf[\"Date\"],format=format)\n",
    "print(befordf)\n",
    "#전쟁 후 농산물\n",
    "\n",
    "afterdf = afterwar[['Date','Close']]\n",
    "afterdf[\"Date\"] = pd.to_datetime(afterwar[\"Date\"],format=format)\n",
    "print(afterdf)"
   ]
  },
  {
   "cell_type": "code",
   "execution_count": 9,
   "metadata": {},
   "outputs": [
    {
     "name": "stderr",
     "output_type": "stream",
     "text": [
      "C:\\Users\\spaceastonomy\\AppData\\Local\\Temp\\ipykernel_10668\\861644007.py:7: SettingWithCopyWarning: \n",
      "A value is trying to be set on a copy of a slice from a DataFrame.\n",
      "Try using .loc[row_indexer,col_indexer] = value instead\n",
      "\n",
      "See the caveats in the documentation: https://pandas.pydata.org/pandas-docs/stable/user_guide/indexing.html#returning-a-view-versus-a-copy\n",
      "  befor_wit[\"Date\"] = befor_wit.apply(lambda x : x[\"Date\"].replace(\"년\",\"-\").replace(\"월\",\"-\").replace(\"일\",\"\")if x['Date'] else '', axis=1)\n",
      "C:\\Users\\spaceastonomy\\AppData\\Local\\Temp\\ipykernel_10668\\861644007.py:8: SettingWithCopyWarning: \n",
      "A value is trying to be set on a copy of a slice from a DataFrame.\n",
      "Try using .loc[row_indexer,col_indexer] = value instead\n",
      "\n",
      "See the caveats in the documentation: https://pandas.pydata.org/pandas-docs/stable/user_guide/indexing.html#returning-a-view-versus-a-copy\n",
      "  befor_wit[\"Date\"] = pd.to_datetime(befor_wit[\"Date\"],format=format)\n",
      "C:\\Users\\spaceastonomy\\AppData\\Local\\Temp\\ipykernel_10668\\861644007.py:13: SettingWithCopyWarning: \n",
      "A value is trying to be set on a copy of a slice from a DataFrame.\n",
      "Try using .loc[row_indexer,col_indexer] = value instead\n",
      "\n",
      "See the caveats in the documentation: https://pandas.pydata.org/pandas-docs/stable/user_guide/indexing.html#returning-a-view-versus-a-copy\n",
      "  after_wit[\"Date\"] = after_wit.apply(lambda x : x[\"Date\"].replace(\"년\",\"-\").replace(\"월\",\"-\").replace(\"일\",\"\")if x['Date'] else '', axis=1)\n",
      "C:\\Users\\spaceastonomy\\AppData\\Local\\Temp\\ipykernel_10668\\861644007.py:14: SettingWithCopyWarning: \n",
      "A value is trying to be set on a copy of a slice from a DataFrame.\n",
      "Try using .loc[row_indexer,col_indexer] = value instead\n",
      "\n",
      "See the caveats in the documentation: https://pandas.pydata.org/pandas-docs/stable/user_guide/indexing.html#returning-a-view-versus-a-copy\n",
      "  after_wit[\"Date\"] = pd.to_datetime(after_wit[\"Date\"],format=format)\n"
     ]
    },
    {
     "data": {
      "text/html": [
       "<div>\n",
       "<style scoped>\n",
       "    .dataframe tbody tr th:only-of-type {\n",
       "        vertical-align: middle;\n",
       "    }\n",
       "\n",
       "    .dataframe tbody tr th {\n",
       "        vertical-align: top;\n",
       "    }\n",
       "\n",
       "    .dataframe thead th {\n",
       "        text-align: right;\n",
       "    }\n",
       "</style>\n",
       "<table border=\"1\" class=\"dataframe\">\n",
       "  <thead>\n",
       "    <tr style=\"text-align: right;\">\n",
       "      <th></th>\n",
       "      <th>Date</th>\n",
       "      <th>wit_Close</th>\n",
       "    </tr>\n",
       "  </thead>\n",
       "  <tbody>\n",
       "    <tr>\n",
       "      <th>0</th>\n",
       "      <td>2021-03-31</td>\n",
       "      <td>59.16</td>\n",
       "    </tr>\n",
       "    <tr>\n",
       "      <th>1</th>\n",
       "      <td>2021-03-30</td>\n",
       "      <td>60.55</td>\n",
       "    </tr>\n",
       "    <tr>\n",
       "      <th>2</th>\n",
       "      <td>2021-03-29</td>\n",
       "      <td>61.56</td>\n",
       "    </tr>\n",
       "    <tr>\n",
       "      <th>3</th>\n",
       "      <td>2021-03-26</td>\n",
       "      <td>60.97</td>\n",
       "    </tr>\n",
       "    <tr>\n",
       "      <th>4</th>\n",
       "      <td>2021-03-25</td>\n",
       "      <td>58.56</td>\n",
       "    </tr>\n",
       "    <tr>\n",
       "      <th>...</th>\n",
       "      <td>...</td>\n",
       "      <td>...</td>\n",
       "    </tr>\n",
       "    <tr>\n",
       "      <th>103</th>\n",
       "      <td>2020-11-06</td>\n",
       "      <td>37.14</td>\n",
       "    </tr>\n",
       "    <tr>\n",
       "      <th>104</th>\n",
       "      <td>2020-11-05</td>\n",
       "      <td>38.79</td>\n",
       "    </tr>\n",
       "    <tr>\n",
       "      <th>105</th>\n",
       "      <td>2020-11-04</td>\n",
       "      <td>39.15</td>\n",
       "    </tr>\n",
       "    <tr>\n",
       "      <th>106</th>\n",
       "      <td>2020-11-03</td>\n",
       "      <td>37.66</td>\n",
       "    </tr>\n",
       "    <tr>\n",
       "      <th>107</th>\n",
       "      <td>2020-11-02</td>\n",
       "      <td>36.81</td>\n",
       "    </tr>\n",
       "  </tbody>\n",
       "</table>\n",
       "<p>108 rows × 2 columns</p>\n",
       "</div>"
      ],
      "text/plain": [
       "          Date  wit_Close\n",
       "0   2021-03-31      59.16\n",
       "1   2021-03-30      60.55\n",
       "2   2021-03-29      61.56\n",
       "3   2021-03-26      60.97\n",
       "4   2021-03-25      58.56\n",
       "..         ...        ...\n",
       "103 2020-11-06      37.14\n",
       "104 2020-11-05      38.79\n",
       "105 2020-11-04      39.15\n",
       "106 2020-11-03      37.66\n",
       "107 2020-11-02      36.81\n",
       "\n",
       "[108 rows x 2 columns]"
      ]
     },
     "execution_count": 9,
     "metadata": {},
     "output_type": "execute_result"
    }
   ],
   "source": [
    "import datetime \n",
    "format = \"%Y- %m- %d\"\n",
    "\n",
    "#전쟁 전 유가 \n",
    "befor_wit = wti_1[[\"날짜\",\"종가\"]]\n",
    "befor_wit.columns = [\"Date\",\"wit_Close\"]\n",
    "befor_wit[\"Date\"] = befor_wit.apply(lambda x : x[\"Date\"].replace(\"년\",\"-\").replace(\"월\",\"-\").replace(\"일\",\"\")if x['Date'] else '', axis=1)\n",
    "befor_wit[\"Date\"] = pd.to_datetime(befor_wit[\"Date\"],format=format)\n",
    "\n",
    "#전쟁 후 유가 \n",
    "after_wit =wti_2[[\"날짜\",\"종가\"]]\n",
    "after_wit.columns = [\"Date\",\"wit_Close\"]\n",
    "after_wit[\"Date\"] = after_wit.apply(lambda x : x[\"Date\"].replace(\"년\",\"-\").replace(\"월\",\"-\").replace(\"일\",\"\")if x['Date'] else '', axis=1)\n",
    "after_wit[\"Date\"] = pd.to_datetime(after_wit[\"Date\"],format=format)\n",
    "after_wit"
   ]
  },
  {
   "cell_type": "code",
   "execution_count": 10,
   "metadata": {},
   "outputs": [
    {
     "data": {
      "text/html": [
       "<div>\n",
       "<style scoped>\n",
       "    .dataframe tbody tr th:only-of-type {\n",
       "        vertical-align: middle;\n",
       "    }\n",
       "\n",
       "    .dataframe tbody tr th {\n",
       "        vertical-align: top;\n",
       "    }\n",
       "\n",
       "    .dataframe thead th {\n",
       "        text-align: right;\n",
       "    }\n",
       "</style>\n",
       "<table border=\"1\" class=\"dataframe\">\n",
       "  <thead>\n",
       "    <tr style=\"text-align: right;\">\n",
       "      <th></th>\n",
       "      <th>Date</th>\n",
       "      <th>wit_Close</th>\n",
       "    </tr>\n",
       "  </thead>\n",
       "  <tbody>\n",
       "    <tr>\n",
       "      <th>0</th>\n",
       "      <td>2021-11-01</td>\n",
       "      <td>84.05</td>\n",
       "    </tr>\n",
       "    <tr>\n",
       "      <th>1</th>\n",
       "      <td>2021-11-02</td>\n",
       "      <td>83.91</td>\n",
       "    </tr>\n",
       "    <tr>\n",
       "      <th>2</th>\n",
       "      <td>2021-11-03</td>\n",
       "      <td>80.86</td>\n",
       "    </tr>\n",
       "    <tr>\n",
       "      <th>3</th>\n",
       "      <td>2021-11-04</td>\n",
       "      <td>78.81</td>\n",
       "    </tr>\n",
       "    <tr>\n",
       "      <th>4</th>\n",
       "      <td>2021-11-05</td>\n",
       "      <td>81.27</td>\n",
       "    </tr>\n",
       "    <tr>\n",
       "      <th>...</th>\n",
       "      <td>...</td>\n",
       "      <td>...</td>\n",
       "    </tr>\n",
       "    <tr>\n",
       "      <th>105</th>\n",
       "      <td>2022-03-25</td>\n",
       "      <td>113.90</td>\n",
       "    </tr>\n",
       "    <tr>\n",
       "      <th>106</th>\n",
       "      <td>2022-03-28</td>\n",
       "      <td>105.96</td>\n",
       "    </tr>\n",
       "    <tr>\n",
       "      <th>107</th>\n",
       "      <td>2022-03-29</td>\n",
       "      <td>104.24</td>\n",
       "    </tr>\n",
       "    <tr>\n",
       "      <th>108</th>\n",
       "      <td>2022-03-30</td>\n",
       "      <td>107.82</td>\n",
       "    </tr>\n",
       "    <tr>\n",
       "      <th>109</th>\n",
       "      <td>2022-03-31</td>\n",
       "      <td>100.28</td>\n",
       "    </tr>\n",
       "  </tbody>\n",
       "</table>\n",
       "<p>110 rows × 2 columns</p>\n",
       "</div>"
      ],
      "text/plain": [
       "          Date  wit_Close\n",
       "0   2021-11-01      84.05\n",
       "1   2021-11-02      83.91\n",
       "2   2021-11-03      80.86\n",
       "3   2021-11-04      78.81\n",
       "4   2021-11-05      81.27\n",
       "..         ...        ...\n",
       "105 2022-03-25     113.90\n",
       "106 2022-03-28     105.96\n",
       "107 2022-03-29     104.24\n",
       "108 2022-03-30     107.82\n",
       "109 2022-03-31     100.28\n",
       "\n",
       "[110 rows x 2 columns]"
      ]
     },
     "execution_count": 10,
     "metadata": {},
     "output_type": "execute_result"
    }
   ],
   "source": [
    "befor_wit = befor_wit.sort_values(by = [\"Date\"]).reset_index(drop=True)\n",
    "after_wit = after_wit.sort_values(by = [\"Date\"]).reset_index(drop=True)\n",
    "befor_wit"
   ]
  },
  {
   "cell_type": "code",
   "execution_count": 11,
   "metadata": {},
   "outputs": [
    {
     "data": {
      "text/html": [
       "<div>\n",
       "<style scoped>\n",
       "    .dataframe tbody tr th:only-of-type {\n",
       "        vertical-align: middle;\n",
       "    }\n",
       "\n",
       "    .dataframe tbody tr th {\n",
       "        vertical-align: top;\n",
       "    }\n",
       "\n",
       "    .dataframe thead th {\n",
       "        text-align: right;\n",
       "    }\n",
       "</style>\n",
       "<table border=\"1\" class=\"dataframe\">\n",
       "  <thead>\n",
       "    <tr style=\"text-align: right;\">\n",
       "      <th></th>\n",
       "      <th>Date</th>\n",
       "      <th>Close</th>\n",
       "      <th>wit_Close</th>\n",
       "    </tr>\n",
       "  </thead>\n",
       "  <tbody>\n",
       "  </tbody>\n",
       "</table>\n",
       "</div>"
      ],
      "text/plain": [
       "Empty DataFrame\n",
       "Columns: [Date, Close, wit_Close]\n",
       "Index: []"
      ]
     },
     "execution_count": 11,
     "metadata": {},
     "output_type": "execute_result"
    }
   ],
   "source": [
    "merge_befordf = pd.merge(befordf, befor_wit,  on='Date')\n",
    "merge_afterdf = pd.merge(afterdf, after_wit,  on='Date')\n",
    "merge_befordf"
   ]
  },
  {
   "cell_type": "markdown",
   "metadata": {},
   "source": [
    "회귀분석 순서 \n",
    "\n",
    "1. 컬럼명 통일 \n",
    "2. 같은 날짜방식으로 전처리\n",
    "3. 같은 시간대 종가 merge \n",
    "3. x와 y 데이터 분리 후 학습 \n",
    "3. 예측해보기 "
   ]
  },
  {
   "cell_type": "code",
   "execution_count": 12,
   "metadata": {},
   "outputs": [],
   "source": [
    "import matplotlib.pylab as plt\n",
    "import numpy as np\n",
    "from sklearn.linear_model import LinearRegression\n",
    "from sklearn.model_selection import  train_test_split"
   ]
  },
  {
   "cell_type": "code",
   "execution_count": 13,
   "metadata": {},
   "outputs": [
    {
     "ename": "ValueError",
     "evalue": "With n_samples=0, test_size=0.2 and train_size=None, the resulting train set will be empty. Adjust any of the aforementioned parameters.",
     "output_type": "error",
     "traceback": [
      "\u001b[1;31m---------------------------------------------------------------------------\u001b[0m",
      "\u001b[1;31mValueError\u001b[0m                                Traceback (most recent call last)",
      "\u001b[1;32mc:\\Users\\spaceastonomy\\Documents\\GitHub\\GITHUB_TEST\\hackaton\\해커톤\\종가_선형회귀.ipynb Cell 14'\u001b[0m in \u001b[0;36m<module>\u001b[1;34m\u001b[0m\n\u001b[0;32m      <a href='vscode-notebook-cell:/c%3A/Users/spaceastonomy/Documents/GitHub/GITHUB_TEST/hackaton/%ED%95%B4%EC%BB%A4%ED%86%A4/%EC%A2%85%EA%B0%80_%EC%84%A0%ED%98%95%ED%9A%8C%EA%B7%80.ipynb#ch0000012?line=0'>1</a>\u001b[0m \u001b[39m#학습데이터와 테스트데이터 분리 \u001b[39;00m\n\u001b[0;32m      <a href='vscode-notebook-cell:/c%3A/Users/spaceastonomy/Documents/GitHub/GITHUB_TEST/hackaton/%ED%95%B4%EC%BB%A4%ED%86%A4/%EC%A2%85%EA%B0%80_%EC%84%A0%ED%98%95%ED%9A%8C%EA%B7%80.ipynb#ch0000012?line=1'>2</a>\u001b[0m \n\u001b[0;32m      <a href='vscode-notebook-cell:/c%3A/Users/spaceastonomy/Documents/GitHub/GITHUB_TEST/hackaton/%ED%95%B4%EC%BB%A4%ED%86%A4/%EC%A2%85%EA%B0%80_%EC%84%A0%ED%98%95%ED%9A%8C%EA%B7%80.ipynb#ch0000012?line=2'>3</a>\u001b[0m \u001b[39m#전쟁 전 분석 데이터 \u001b[39;00m\n\u001b[1;32m----> <a href='vscode-notebook-cell:/c%3A/Users/spaceastonomy/Documents/GitHub/GITHUB_TEST/hackaton/%ED%95%B4%EC%BB%A4%ED%86%A4/%EC%A2%85%EA%B0%80_%EC%84%A0%ED%98%95%ED%9A%8C%EA%B7%80.ipynb#ch0000012?line=3'>4</a>\u001b[0m X_train, X_test,y_train,y_test \u001b[39m=\u001b[39m train_test_split(merge_befordf\u001b[39m.\u001b[39;49mwit_Close,merge_befordf\u001b[39m.\u001b[39;49mClose,test_size\u001b[39m=\u001b[39;49m\u001b[39m0.2\u001b[39;49m, random_state\u001b[39m=\u001b[39;49m\u001b[39m0\u001b[39;49m)\n",
      "File \u001b[1;32m~\\AppData\\Local\\Programs\\Python\\Python310\\lib\\site-packages\\sklearn\\model_selection\\_split.py:2420\u001b[0m, in \u001b[0;36mtrain_test_split\u001b[1;34m(test_size, train_size, random_state, shuffle, stratify, *arrays)\u001b[0m\n\u001b[0;32m   <a href='file:///c%3A/Users/spaceastonomy/AppData/Local/Programs/Python/Python310/lib/site-packages/sklearn/model_selection/_split.py?line=2416'>2417</a>\u001b[0m arrays \u001b[39m=\u001b[39m indexable(\u001b[39m*\u001b[39marrays)\n\u001b[0;32m   <a href='file:///c%3A/Users/spaceastonomy/AppData/Local/Programs/Python/Python310/lib/site-packages/sklearn/model_selection/_split.py?line=2418'>2419</a>\u001b[0m n_samples \u001b[39m=\u001b[39m _num_samples(arrays[\u001b[39m0\u001b[39m])\n\u001b[1;32m-> <a href='file:///c%3A/Users/spaceastonomy/AppData/Local/Programs/Python/Python310/lib/site-packages/sklearn/model_selection/_split.py?line=2419'>2420</a>\u001b[0m n_train, n_test \u001b[39m=\u001b[39m _validate_shuffle_split(\n\u001b[0;32m   <a href='file:///c%3A/Users/spaceastonomy/AppData/Local/Programs/Python/Python310/lib/site-packages/sklearn/model_selection/_split.py?line=2420'>2421</a>\u001b[0m     n_samples, test_size, train_size, default_test_size\u001b[39m=\u001b[39;49m\u001b[39m0.25\u001b[39;49m\n\u001b[0;32m   <a href='file:///c%3A/Users/spaceastonomy/AppData/Local/Programs/Python/Python310/lib/site-packages/sklearn/model_selection/_split.py?line=2421'>2422</a>\u001b[0m )\n\u001b[0;32m   <a href='file:///c%3A/Users/spaceastonomy/AppData/Local/Programs/Python/Python310/lib/site-packages/sklearn/model_selection/_split.py?line=2423'>2424</a>\u001b[0m \u001b[39mif\u001b[39;00m shuffle \u001b[39mis\u001b[39;00m \u001b[39mFalse\u001b[39;00m:\n\u001b[0;32m   <a href='file:///c%3A/Users/spaceastonomy/AppData/Local/Programs/Python/Python310/lib/site-packages/sklearn/model_selection/_split.py?line=2424'>2425</a>\u001b[0m     \u001b[39mif\u001b[39;00m stratify \u001b[39mis\u001b[39;00m \u001b[39mnot\u001b[39;00m \u001b[39mNone\u001b[39;00m:\n",
      "File \u001b[1;32m~\\AppData\\Local\\Programs\\Python\\Python310\\lib\\site-packages\\sklearn\\model_selection\\_split.py:2098\u001b[0m, in \u001b[0;36m_validate_shuffle_split\u001b[1;34m(n_samples, test_size, train_size, default_test_size)\u001b[0m\n\u001b[0;32m   <a href='file:///c%3A/Users/spaceastonomy/AppData/Local/Programs/Python/Python310/lib/site-packages/sklearn/model_selection/_split.py?line=2094'>2095</a>\u001b[0m n_train, n_test \u001b[39m=\u001b[39m \u001b[39mint\u001b[39m(n_train), \u001b[39mint\u001b[39m(n_test)\n\u001b[0;32m   <a href='file:///c%3A/Users/spaceastonomy/AppData/Local/Programs/Python/Python310/lib/site-packages/sklearn/model_selection/_split.py?line=2096'>2097</a>\u001b[0m \u001b[39mif\u001b[39;00m n_train \u001b[39m==\u001b[39m \u001b[39m0\u001b[39m:\n\u001b[1;32m-> <a href='file:///c%3A/Users/spaceastonomy/AppData/Local/Programs/Python/Python310/lib/site-packages/sklearn/model_selection/_split.py?line=2097'>2098</a>\u001b[0m     \u001b[39mraise\u001b[39;00m \u001b[39mValueError\u001b[39;00m(\n\u001b[0;32m   <a href='file:///c%3A/Users/spaceastonomy/AppData/Local/Programs/Python/Python310/lib/site-packages/sklearn/model_selection/_split.py?line=2098'>2099</a>\u001b[0m         \u001b[39m\"\u001b[39m\u001b[39mWith n_samples=\u001b[39m\u001b[39m{}\u001b[39;00m\u001b[39m, test_size=\u001b[39m\u001b[39m{}\u001b[39;00m\u001b[39m and train_size=\u001b[39m\u001b[39m{}\u001b[39;00m\u001b[39m, the \u001b[39m\u001b[39m\"\u001b[39m\n\u001b[0;32m   <a href='file:///c%3A/Users/spaceastonomy/AppData/Local/Programs/Python/Python310/lib/site-packages/sklearn/model_selection/_split.py?line=2099'>2100</a>\u001b[0m         \u001b[39m\"\u001b[39m\u001b[39mresulting train set will be empty. Adjust any of the \u001b[39m\u001b[39m\"\u001b[39m\n\u001b[0;32m   <a href='file:///c%3A/Users/spaceastonomy/AppData/Local/Programs/Python/Python310/lib/site-packages/sklearn/model_selection/_split.py?line=2100'>2101</a>\u001b[0m         \u001b[39m\"\u001b[39m\u001b[39maforementioned parameters.\u001b[39m\u001b[39m\"\u001b[39m\u001b[39m.\u001b[39mformat(n_samples, test_size, train_size)\n\u001b[0;32m   <a href='file:///c%3A/Users/spaceastonomy/AppData/Local/Programs/Python/Python310/lib/site-packages/sklearn/model_selection/_split.py?line=2101'>2102</a>\u001b[0m     )\n\u001b[0;32m   <a href='file:///c%3A/Users/spaceastonomy/AppData/Local/Programs/Python/Python310/lib/site-packages/sklearn/model_selection/_split.py?line=2103'>2104</a>\u001b[0m \u001b[39mreturn\u001b[39;00m n_train, n_test\n",
      "\u001b[1;31mValueError\u001b[0m: With n_samples=0, test_size=0.2 and train_size=None, the resulting train set will be empty. Adjust any of the aforementioned parameters."
     ]
    }
   ],
   "source": [
    "#학습데이터와 테스트데이터 분리 \n",
    "\n",
    "#전쟁 전 분석 데이터 \n",
    "X_train, X_test,y_train,y_test = train_test_split(merge_befordf.wit_Close,merge_befordf.Close,test_size=0.2, random_state=0)\n"
   ]
  },
  {
   "cell_type": "code",
   "execution_count": null,
   "metadata": {},
   "outputs": [],
   "source": [
    "#데이터 확인 \n",
    "\n",
    "# print(f'X_train:{X_train}')\n",
    "# print(\"-----------\")\n",
    "# print(f'X_test: {X_test}')\n",
    "# print(\"-----------\")\n",
    "# print(f'y_train: {y_train}')\n",
    "# print(\"-----------\")\n",
    "# print(f'y_test: {y_test}')"
   ]
  },
  {
   "cell_type": "code",
   "execution_count": null,
   "metadata": {},
   "outputs": [],
   "source": [
    "#학습 \n",
    "model = LinearRegression()\n",
    "model.fit(X_train,y_train)\n",
    "\n",
    "#예측\n",
    "y_pred = model.predict(X_test)\n",
    "\n",
    "#실제 데이터와 예측데이터 비교 \n",
    "plt.plot(y_test,y_pred,'--')\n",
    "\n",
    "#보조 직선 그리기 위한 선형데이터 생성 \n",
    "x = np.linspace(0,330,100)\n",
    "y=x\n",
    "plt.plot(x,y)\n",
    "plt.show()"
   ]
  },
  {
   "cell_type": "markdown",
   "metadata": {},
   "source": [
    "에러 수정을 위해 X_train을 2차원 배열로 변경 \n",
    "https://0dood0.tistory.com/62 참조 "
   ]
  },
  {
   "cell_type": "code",
   "execution_count": null,
   "metadata": {},
   "outputs": [],
   "source": [
    "merge_befordf[['wit_Close']] "
   ]
  },
  {
   "cell_type": "code",
   "execution_count": null,
   "metadata": {},
   "outputs": [],
   "source": [
    "#전쟁 전 \n",
    "X1_train, X1_test,y1_train,y1_test = train_test_split(merge_befordf[['wit_Close']],merge_befordf.Close,test_size=0.2, random_state=0)\n",
    "\n",
    "#전쟁 후 \n",
    "X2_train, X2_test,y2_train,y2_test = train_test_split(merge_afterdf[['wit_Close']],merge_afterdf.Close,test_size=0.2, random_state=0)\n"
   ]
  },
  {
   "cell_type": "code",
   "execution_count": null,
   "metadata": {},
   "outputs": [],
   "source": [
    "#전쟁 전 학습\n",
    "model1 = LinearRegression()\n",
    "model1.fit(X1_train,y1_train)\n",
    "\n",
    "#예측\n",
    "y1_pred = model1.predict(X1_test)\n",
    "\n"
   ]
  },
  {
   "cell_type": "code",
   "execution_count": null,
   "metadata": {},
   "outputs": [],
   "source": [
    "#전쟁 후 학습\n",
    "model2 = LinearRegression()\n",
    "model2.fit(X2_train,y2_train)\n",
    "\n",
    "#예측\n",
    "y2_pred = model2.predict(X1_test)"
   ]
  },
  {
   "cell_type": "code",
   "execution_count": null,
   "metadata": {},
   "outputs": [],
   "source": [
    "#실제 데이터와 예측데이터 비교 \n",
    "\n",
    "# 보조 직선 그리기 위한 정사각형 선형데이터 생성 \n",
    "x = np.linspace(8000,10500,1000)\n",
    "y=x\n",
    "\n",
    "fig,ax = plt.subplots(1,2)\n",
    "\n",
    "ax[0].plot(y1_test,y1_pred,'.')\n",
    "ax[0].plot(x,y)\n",
    "ax[0].set_title(\"befor war_WTI&grain\")\n",
    "\n",
    "ax[1].plot(y2_test,y2_pred,'.')\n",
    "ax[1].plot(x,y)\n",
    "ax[1].set_title(\"after war _WTI&grain\")\n",
    "\n",
    "plt.show()\n",
    "\n"
   ]
  },
  {
   "cell_type": "code",
   "execution_count": null,
   "metadata": {},
   "outputs": [],
   "source": []
  }
 ],
 "metadata": {
  "interpreter": {
   "hash": "6d9aeff0c4cb62f006bcee5d924029c89375552da6e18543b57335e832e7bb6d"
  },
  "kernelspec": {
   "display_name": "Python 3.10.2 64-bit",
   "language": "python",
   "name": "python3"
  },
  "language_info": {
   "codemirror_mode": {
    "name": "ipython",
    "version": 3
   },
   "file_extension": ".py",
   "mimetype": "text/x-python",
   "name": "python",
   "nbconvert_exporter": "python",
   "pygments_lexer": "ipython3",
   "version": "3.10.2"
  },
  "orig_nbformat": 4
 },
 "nbformat": 4,
 "nbformat_minor": 2
}
