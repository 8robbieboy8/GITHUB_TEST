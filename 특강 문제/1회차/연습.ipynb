{
 "cells": [
  {
   "cell_type": "code",
   "execution_count": 51,
   "metadata": {},
   "outputs": [],
   "source": [
    "import pandas as pd"
   ]
  },
  {
   "cell_type": "code",
   "execution_count": 65,
   "metadata": {},
   "outputs": [
    {
     "name": "stdout",
     "output_type": "stream",
     "text": [
      "          종목명   현재가   등락률\n",
      "037730     3R  1510  7.36\n",
      "036360  3SOFT  1790  1.65\n",
      "005760   ACTS  1185  1.28\n"
     ]
    }
   ],
   "source": [
    "data = [\n",
    "    [\"3R\", 1510, 7.36],\n",
    "    [\"3SOFT\", 1790, 1.65],\n",
    "    [\"ACTS\", 1185, 1.28]\n",
    "]\n",
    "\n",
    "index = [\"037730\", \"036360\", \"005760\"]\n",
    "columns = [\"종목명\", \"현재가\", \"등락률\"]\n",
    "df = pd.DataFrame(data=data, index=index, columns=columns)\n",
    "\n",
    "print(df)\n",
    "# # 인덱싱\n",
    "# print(\"인덱싱\\nloc\\n\",df.loc[\"037730\"])\n",
    "# print(type(df.loc[\"037730\"]))\n",
    "# print(\"\\niloc\\n\",df.iloc[ 0 ])\n",
    "\n",
    "#슬라이싱\n",
    "# print(\"\\n슬라이싱\\nloc\\n\",df.loc[ [ \"037730\", '005760' ] ])\n",
    "# print(\"\\niloc\\n\",df.iloc[ [ 0 ,2 ] ])"
   ]
  },
  {
   "cell_type": "code",
   "execution_count": 76,
   "metadata": {},
   "outputs": [
    {
     "name": "stdout",
     "output_type": "stream",
     "text": [
      "1510\n"
     ]
    }
   ],
   "source": [
    "# 같이 사용가능\n",
    "# 행 번호로 행 선택 후 시리즈 인덱싱 \n",
    "# print(df.iloc[1].iloc[2])               # 시리즈 행 번호\n",
    "# print(df.iloc[0][2])\n",
    "print(df.iloc[0].loc[\"현재가\"])         # 시리즈 인덱스 \n",
    "# print(df.iloc[0][\"현재가\"])            # 시리즈 인덱스\n",
    "# print(df.iloc[0, 1])\n",
    "\n",
    "# # 인덱스로 행 선택 후 시리즈 인덱싱 \n",
    "# print(df.loc[\"037730\"].iloc[1])        # 시리즈 행 번호\n",
    "# print(df.loc[\"037730\"].loc[\"현재가\"])  # 시리즈 인덱스 \n",
    "# print(df.loc[\"037730\"][\"현재가\"])     # 시리즈 인덱스\n",
    "# print(df.loc[\"037730\", \"현재가\"])\n",
    "# print(df[\"현재가\"][\"037730\"])"
   ]
  },
  {
   "cell_type": "code",
   "execution_count": 77,
   "metadata": {},
   "outputs": [
    {
     "name": "stdout",
     "output_type": "stream",
     "text": [
      "         현재가   등락률\n",
      "037730  1510  7.36\n",
      "005760  1185  1.28\n",
      "          종목명   현재가\n",
      "037730     3R  1510\n",
      "036360  3SOFT  1790\n"
     ]
    }
   ],
   "source": [
    "# 특정행 가져오기\n",
    "print(df.iloc[[0, 2], [1, 2]])\n",
    "print(df.loc[[\"037730\", \"036360\"], [\"종목명\", \"현재가\"]])"
   ]
  },
  {
   "cell_type": "code",
   "execution_count": 78,
   "metadata": {},
   "outputs": [
    {
     "data": {
      "text/html": [
       "<div>\n",
       "<style scoped>\n",
       "    .dataframe tbody tr th:only-of-type {\n",
       "        vertical-align: middle;\n",
       "    }\n",
       "\n",
       "    .dataframe tbody tr th {\n",
       "        vertical-align: top;\n",
       "    }\n",
       "\n",
       "    .dataframe thead th {\n",
       "        text-align: right;\n",
       "    }\n",
       "</style>\n",
       "<table border=\"1\" class=\"dataframe\">\n",
       "  <thead>\n",
       "    <tr style=\"text-align: right;\">\n",
       "      <th></th>\n",
       "      <th>종목명</th>\n",
       "      <th>현재가</th>\n",
       "      <th>등락률</th>\n",
       "      <th>비중</th>\n",
       "      <th>투입금액</th>\n",
       "      <th>보유주식수</th>\n",
       "    </tr>\n",
       "  </thead>\n",
       "  <tbody>\n",
       "    <tr>\n",
       "      <th>037730</th>\n",
       "      <td>3R</td>\n",
       "      <td>1510</td>\n",
       "      <td>7.36</td>\n",
       "      <td>33.3</td>\n",
       "      <td>33300.0</td>\n",
       "      <td>22.0</td>\n",
       "    </tr>\n",
       "    <tr>\n",
       "      <th>036360</th>\n",
       "      <td>3SOFT</td>\n",
       "      <td>1790</td>\n",
       "      <td>1.65</td>\n",
       "      <td>33.3</td>\n",
       "      <td>33300.0</td>\n",
       "      <td>19.0</td>\n",
       "    </tr>\n",
       "    <tr>\n",
       "      <th>005760</th>\n",
       "      <td>ACTS</td>\n",
       "      <td>1185</td>\n",
       "      <td>1.28</td>\n",
       "      <td>33.3</td>\n",
       "      <td>33300.0</td>\n",
       "      <td>28.0</td>\n",
       "    </tr>\n",
       "  </tbody>\n",
       "</table>\n",
       "</div>"
      ],
      "text/plain": [
       "          종목명   현재가   등락률    비중     투입금액  보유주식수\n",
       "037730     3R  1510  7.36  33.3  33300.0   22.0\n",
       "036360  3SOFT  1790  1.65  33.3  33300.0   19.0\n",
       "005760   ACTS  1185  1.28  33.3  33300.0   28.0"
      ]
     },
     "execution_count": 78,
     "metadata": {},
     "output_type": "execute_result"
    }
   ],
   "source": [
    "#round 활용 (반올림 함수)\n",
    "cash = 100000\n",
    "df['비중'] = round(100/3,1)\n",
    "df['투입금액'] = round(cash * df['비중']/100, -2)\n",
    "df['보유주식수'] = round( df['투입금액']/ df['현재가'] )\n",
    "df"
   ]
  },
  {
   "cell_type": "code",
   "execution_count": 79,
   "metadata": {},
   "outputs": [],
   "source": [
    "df1 = pd.DataFrame({\n",
    "    '고객번호': [1001, 1002, 1003, 1004, 1005, 1006, 1007],\n",
    "    '이름': ['둘리', '도우너', '또치', '길동', '희동', '마이콜', '영희']\n",
    "}, columns=['고객번호', '이름'])\n",
    "df2 = pd.DataFrame({\n",
    "    '고객번호': [1001, 1001, 1005, 1006, 1008, 1001],\n",
    "    '금액': [10000, 20000, 15000, 5000, 100000, 30000]\n",
    "}, columns=['고객번호', '금액'])"
   ]
  },
  {
   "cell_type": "code",
   "execution_count": 81,
   "metadata": {},
   "outputs": [
    {
     "name": "stderr",
     "output_type": "stream",
     "text": [
      "C:\\Users\\spaceastonomy\\AppData\\Local\\Temp\\ipykernel_17268\\1206186022.py:1: FutureWarning: In a future version of pandas all arguments of concat except for the argument 'objs' will be keyword-only.\n",
      "  pd.concat(df1, df2)\n"
     ]
    },
    {
     "ename": "TypeError",
     "evalue": "first argument must be an iterable of pandas objects, you passed an object of type \"DataFrame\"",
     "output_type": "error",
     "traceback": [
      "\u001b[1;31m---------------------------------------------------------------------------\u001b[0m",
      "\u001b[1;31mTypeError\u001b[0m                                 Traceback (most recent call last)",
      "\u001b[1;32mc:\\Users\\spaceastonomy\\Documents\\GitHub\\GITHUB_TEST\\특강 문제 풀이 1회차\\연습.ipynb Cell 7'\u001b[0m in \u001b[0;36m<module>\u001b[1;34m\u001b[0m\n\u001b[1;32m----> <a href='vscode-notebook-cell:/c%3A/Users/spaceastonomy/Documents/GitHub/GITHUB_TEST/%ED%8A%B9%EA%B0%95%20%EB%AC%B8%EC%A0%9C%20%ED%92%80%EC%9D%B4%201%ED%9A%8C%EC%B0%A8/%EC%97%B0%EC%8A%B5.ipynb#ch0000186?line=0'>1</a>\u001b[0m pd\u001b[39m.\u001b[39;49mconcat(df1, df2)\n",
      "File \u001b[1;32m~\\AppData\\Local\\Programs\\Python\\Python310\\lib\\site-packages\\pandas\\util\\_decorators.py:311\u001b[0m, in \u001b[0;36mdeprecate_nonkeyword_arguments.<locals>.decorate.<locals>.wrapper\u001b[1;34m(*args, **kwargs)\u001b[0m\n\u001b[0;32m    <a href='file:///c%3A/Users/spaceastonomy/AppData/Local/Programs/Python/Python310/lib/site-packages/pandas/util/_decorators.py?line=304'>305</a>\u001b[0m \u001b[39mif\u001b[39;00m \u001b[39mlen\u001b[39m(args) \u001b[39m>\u001b[39m num_allow_args:\n\u001b[0;32m    <a href='file:///c%3A/Users/spaceastonomy/AppData/Local/Programs/Python/Python310/lib/site-packages/pandas/util/_decorators.py?line=305'>306</a>\u001b[0m     warnings\u001b[39m.\u001b[39mwarn(\n\u001b[0;32m    <a href='file:///c%3A/Users/spaceastonomy/AppData/Local/Programs/Python/Python310/lib/site-packages/pandas/util/_decorators.py?line=306'>307</a>\u001b[0m         msg\u001b[39m.\u001b[39mformat(arguments\u001b[39m=\u001b[39marguments),\n\u001b[0;32m    <a href='file:///c%3A/Users/spaceastonomy/AppData/Local/Programs/Python/Python310/lib/site-packages/pandas/util/_decorators.py?line=307'>308</a>\u001b[0m         \u001b[39mFutureWarning\u001b[39;00m,\n\u001b[0;32m    <a href='file:///c%3A/Users/spaceastonomy/AppData/Local/Programs/Python/Python310/lib/site-packages/pandas/util/_decorators.py?line=308'>309</a>\u001b[0m         stacklevel\u001b[39m=\u001b[39mstacklevel,\n\u001b[0;32m    <a href='file:///c%3A/Users/spaceastonomy/AppData/Local/Programs/Python/Python310/lib/site-packages/pandas/util/_decorators.py?line=309'>310</a>\u001b[0m     )\n\u001b[1;32m--> <a href='file:///c%3A/Users/spaceastonomy/AppData/Local/Programs/Python/Python310/lib/site-packages/pandas/util/_decorators.py?line=310'>311</a>\u001b[0m \u001b[39mreturn\u001b[39;00m func(\u001b[39m*\u001b[39margs, \u001b[39m*\u001b[39m\u001b[39m*\u001b[39mkwargs)\n",
      "File \u001b[1;32m~\\AppData\\Local\\Programs\\Python\\Python310\\lib\\site-packages\\pandas\\core\\reshape\\concat.py:346\u001b[0m, in \u001b[0;36mconcat\u001b[1;34m(objs, axis, join, ignore_index, keys, levels, names, verify_integrity, sort, copy)\u001b[0m\n\u001b[0;32m    <a href='file:///c%3A/Users/spaceastonomy/AppData/Local/Programs/Python/Python310/lib/site-packages/pandas/core/reshape/concat.py?line=141'>142</a>\u001b[0m \u001b[39m@deprecate_nonkeyword_arguments\u001b[39m(version\u001b[39m=\u001b[39m\u001b[39mNone\u001b[39;00m, allowed_args\u001b[39m=\u001b[39m[\u001b[39m\"\u001b[39m\u001b[39mobjs\u001b[39m\u001b[39m\"\u001b[39m])\n\u001b[0;32m    <a href='file:///c%3A/Users/spaceastonomy/AppData/Local/Programs/Python/Python310/lib/site-packages/pandas/core/reshape/concat.py?line=142'>143</a>\u001b[0m \u001b[39mdef\u001b[39;00m \u001b[39mconcat\u001b[39m(\n\u001b[0;32m    <a href='file:///c%3A/Users/spaceastonomy/AppData/Local/Programs/Python/Python310/lib/site-packages/pandas/core/reshape/concat.py?line=143'>144</a>\u001b[0m     objs: Iterable[NDFrame] \u001b[39m|\u001b[39m Mapping[Hashable, NDFrame],\n\u001b[1;32m   (...)\u001b[0m\n\u001b[0;32m    <a href='file:///c%3A/Users/spaceastonomy/AppData/Local/Programs/Python/Python310/lib/site-packages/pandas/core/reshape/concat.py?line=152'>153</a>\u001b[0m     copy: \u001b[39mbool\u001b[39m \u001b[39m=\u001b[39m \u001b[39mTrue\u001b[39;00m,\n\u001b[0;32m    <a href='file:///c%3A/Users/spaceastonomy/AppData/Local/Programs/Python/Python310/lib/site-packages/pandas/core/reshape/concat.py?line=153'>154</a>\u001b[0m ) \u001b[39m-\u001b[39m\u001b[39m>\u001b[39m DataFrame \u001b[39m|\u001b[39m Series:\n\u001b[0;32m    <a href='file:///c%3A/Users/spaceastonomy/AppData/Local/Programs/Python/Python310/lib/site-packages/pandas/core/reshape/concat.py?line=154'>155</a>\u001b[0m     \u001b[39m\"\"\"\u001b[39;00m\n\u001b[0;32m    <a href='file:///c%3A/Users/spaceastonomy/AppData/Local/Programs/Python/Python310/lib/site-packages/pandas/core/reshape/concat.py?line=155'>156</a>\u001b[0m \u001b[39m    Concatenate pandas objects along a particular axis with optional set logic\u001b[39;00m\n\u001b[0;32m    <a href='file:///c%3A/Users/spaceastonomy/AppData/Local/Programs/Python/Python310/lib/site-packages/pandas/core/reshape/concat.py?line=156'>157</a>\u001b[0m \u001b[39m    along the other axes.\u001b[39;00m\n\u001b[1;32m   (...)\u001b[0m\n\u001b[0;32m    <a href='file:///c%3A/Users/spaceastonomy/AppData/Local/Programs/Python/Python310/lib/site-packages/pandas/core/reshape/concat.py?line=343'>344</a>\u001b[0m \u001b[39m    ValueError: Indexes have overlapping values: ['a']\u001b[39;00m\n\u001b[0;32m    <a href='file:///c%3A/Users/spaceastonomy/AppData/Local/Programs/Python/Python310/lib/site-packages/pandas/core/reshape/concat.py?line=344'>345</a>\u001b[0m \u001b[39m    \"\"\"\u001b[39;00m\n\u001b[1;32m--> <a href='file:///c%3A/Users/spaceastonomy/AppData/Local/Programs/Python/Python310/lib/site-packages/pandas/core/reshape/concat.py?line=345'>346</a>\u001b[0m     op \u001b[39m=\u001b[39m _Concatenator(\n\u001b[0;32m    <a href='file:///c%3A/Users/spaceastonomy/AppData/Local/Programs/Python/Python310/lib/site-packages/pandas/core/reshape/concat.py?line=346'>347</a>\u001b[0m         objs,\n\u001b[0;32m    <a href='file:///c%3A/Users/spaceastonomy/AppData/Local/Programs/Python/Python310/lib/site-packages/pandas/core/reshape/concat.py?line=347'>348</a>\u001b[0m         axis\u001b[39m=\u001b[39;49maxis,\n\u001b[0;32m    <a href='file:///c%3A/Users/spaceastonomy/AppData/Local/Programs/Python/Python310/lib/site-packages/pandas/core/reshape/concat.py?line=348'>349</a>\u001b[0m         ignore_index\u001b[39m=\u001b[39;49mignore_index,\n\u001b[0;32m    <a href='file:///c%3A/Users/spaceastonomy/AppData/Local/Programs/Python/Python310/lib/site-packages/pandas/core/reshape/concat.py?line=349'>350</a>\u001b[0m         join\u001b[39m=\u001b[39;49mjoin,\n\u001b[0;32m    <a href='file:///c%3A/Users/spaceastonomy/AppData/Local/Programs/Python/Python310/lib/site-packages/pandas/core/reshape/concat.py?line=350'>351</a>\u001b[0m         keys\u001b[39m=\u001b[39;49mkeys,\n\u001b[0;32m    <a href='file:///c%3A/Users/spaceastonomy/AppData/Local/Programs/Python/Python310/lib/site-packages/pandas/core/reshape/concat.py?line=351'>352</a>\u001b[0m         levels\u001b[39m=\u001b[39;49mlevels,\n\u001b[0;32m    <a href='file:///c%3A/Users/spaceastonomy/AppData/Local/Programs/Python/Python310/lib/site-packages/pandas/core/reshape/concat.py?line=352'>353</a>\u001b[0m         names\u001b[39m=\u001b[39;49mnames,\n\u001b[0;32m    <a href='file:///c%3A/Users/spaceastonomy/AppData/Local/Programs/Python/Python310/lib/site-packages/pandas/core/reshape/concat.py?line=353'>354</a>\u001b[0m         verify_integrity\u001b[39m=\u001b[39;49mverify_integrity,\n\u001b[0;32m    <a href='file:///c%3A/Users/spaceastonomy/AppData/Local/Programs/Python/Python310/lib/site-packages/pandas/core/reshape/concat.py?line=354'>355</a>\u001b[0m         copy\u001b[39m=\u001b[39;49mcopy,\n\u001b[0;32m    <a href='file:///c%3A/Users/spaceastonomy/AppData/Local/Programs/Python/Python310/lib/site-packages/pandas/core/reshape/concat.py?line=355'>356</a>\u001b[0m         sort\u001b[39m=\u001b[39;49msort,\n\u001b[0;32m    <a href='file:///c%3A/Users/spaceastonomy/AppData/Local/Programs/Python/Python310/lib/site-packages/pandas/core/reshape/concat.py?line=356'>357</a>\u001b[0m     )\n\u001b[0;32m    <a href='file:///c%3A/Users/spaceastonomy/AppData/Local/Programs/Python/Python310/lib/site-packages/pandas/core/reshape/concat.py?line=358'>359</a>\u001b[0m     \u001b[39mreturn\u001b[39;00m op\u001b[39m.\u001b[39mget_result()\n",
      "File \u001b[1;32m~\\AppData\\Local\\Programs\\Python\\Python310\\lib\\site-packages\\pandas\\core\\reshape\\concat.py:381\u001b[0m, in \u001b[0;36m_Concatenator.__init__\u001b[1;34m(self, objs, axis, join, keys, levels, names, ignore_index, verify_integrity, copy, sort)\u001b[0m\n\u001b[0;32m    <a href='file:///c%3A/Users/spaceastonomy/AppData/Local/Programs/Python/Python310/lib/site-packages/pandas/core/reshape/concat.py?line=366'>367</a>\u001b[0m \u001b[39mdef\u001b[39;00m \u001b[39m__init__\u001b[39m(\n\u001b[0;32m    <a href='file:///c%3A/Users/spaceastonomy/AppData/Local/Programs/Python/Python310/lib/site-packages/pandas/core/reshape/concat.py?line=367'>368</a>\u001b[0m     \u001b[39mself\u001b[39m,\n\u001b[0;32m    <a href='file:///c%3A/Users/spaceastonomy/AppData/Local/Programs/Python/Python310/lib/site-packages/pandas/core/reshape/concat.py?line=368'>369</a>\u001b[0m     objs: Iterable[NDFrame] \u001b[39m|\u001b[39m Mapping[Hashable, NDFrame],\n\u001b[1;32m   (...)\u001b[0m\n\u001b[0;32m    <a href='file:///c%3A/Users/spaceastonomy/AppData/Local/Programs/Python/Python310/lib/site-packages/pandas/core/reshape/concat.py?line=377'>378</a>\u001b[0m     sort\u001b[39m=\u001b[39m\u001b[39mFalse\u001b[39;00m,\n\u001b[0;32m    <a href='file:///c%3A/Users/spaceastonomy/AppData/Local/Programs/Python/Python310/lib/site-packages/pandas/core/reshape/concat.py?line=378'>379</a>\u001b[0m ):\n\u001b[0;32m    <a href='file:///c%3A/Users/spaceastonomy/AppData/Local/Programs/Python/Python310/lib/site-packages/pandas/core/reshape/concat.py?line=379'>380</a>\u001b[0m     \u001b[39mif\u001b[39;00m \u001b[39misinstance\u001b[39m(objs, (ABCSeries, ABCDataFrame, \u001b[39mstr\u001b[39m)):\n\u001b[1;32m--> <a href='file:///c%3A/Users/spaceastonomy/AppData/Local/Programs/Python/Python310/lib/site-packages/pandas/core/reshape/concat.py?line=380'>381</a>\u001b[0m         \u001b[39mraise\u001b[39;00m \u001b[39mTypeError\u001b[39;00m(\n\u001b[0;32m    <a href='file:///c%3A/Users/spaceastonomy/AppData/Local/Programs/Python/Python310/lib/site-packages/pandas/core/reshape/concat.py?line=381'>382</a>\u001b[0m             \u001b[39m\"\u001b[39m\u001b[39mfirst argument must be an iterable of pandas \u001b[39m\u001b[39m\"\u001b[39m\n\u001b[0;32m    <a href='file:///c%3A/Users/spaceastonomy/AppData/Local/Programs/Python/Python310/lib/site-packages/pandas/core/reshape/concat.py?line=382'>383</a>\u001b[0m             \u001b[39mf\u001b[39m\u001b[39m'\u001b[39m\u001b[39mobjects, you passed an object of type \u001b[39m\u001b[39m\"\u001b[39m\u001b[39m{\u001b[39;00m\u001b[39mtype\u001b[39m(objs)\u001b[39m.\u001b[39m\u001b[39m__name__\u001b[39m\u001b[39m}\u001b[39;00m\u001b[39m\"\u001b[39m\u001b[39m'\u001b[39m\n\u001b[0;32m    <a href='file:///c%3A/Users/spaceastonomy/AppData/Local/Programs/Python/Python310/lib/site-packages/pandas/core/reshape/concat.py?line=383'>384</a>\u001b[0m         )\n\u001b[0;32m    <a href='file:///c%3A/Users/spaceastonomy/AppData/Local/Programs/Python/Python310/lib/site-packages/pandas/core/reshape/concat.py?line=385'>386</a>\u001b[0m     \u001b[39mif\u001b[39;00m join \u001b[39m==\u001b[39m \u001b[39m\"\u001b[39m\u001b[39mouter\u001b[39m\u001b[39m\"\u001b[39m:\n\u001b[0;32m    <a href='file:///c%3A/Users/spaceastonomy/AppData/Local/Programs/Python/Python310/lib/site-packages/pandas/core/reshape/concat.py?line=386'>387</a>\u001b[0m         \u001b[39mself\u001b[39m\u001b[39m.\u001b[39mintersect \u001b[39m=\u001b[39m \u001b[39mFalse\u001b[39;00m\n",
      "\u001b[1;31mTypeError\u001b[0m: first argument must be an iterable of pandas objects, you passed an object of type \"DataFrame\""
     ]
    }
   ],
   "source": [
    "pd.concat(df1, df2)"
   ]
  },
  {
   "cell_type": "code",
   "execution_count": 80,
   "metadata": {},
   "outputs": [
    {
     "data": {
      "text/html": [
       "<div>\n",
       "<style scoped>\n",
       "    .dataframe tbody tr th:only-of-type {\n",
       "        vertical-align: middle;\n",
       "    }\n",
       "\n",
       "    .dataframe tbody tr th {\n",
       "        vertical-align: top;\n",
       "    }\n",
       "\n",
       "    .dataframe thead th {\n",
       "        text-align: right;\n",
       "    }\n",
       "</style>\n",
       "<table border=\"1\" class=\"dataframe\">\n",
       "  <thead>\n",
       "    <tr style=\"text-align: right;\">\n",
       "      <th></th>\n",
       "      <th>고객번호</th>\n",
       "      <th>이름</th>\n",
       "      <th>금액</th>\n",
       "    </tr>\n",
       "  </thead>\n",
       "  <tbody>\n",
       "    <tr>\n",
       "      <th>0</th>\n",
       "      <td>1001</td>\n",
       "      <td>둘리</td>\n",
       "      <td>10000</td>\n",
       "    </tr>\n",
       "    <tr>\n",
       "      <th>1</th>\n",
       "      <td>1001</td>\n",
       "      <td>둘리</td>\n",
       "      <td>20000</td>\n",
       "    </tr>\n",
       "    <tr>\n",
       "      <th>2</th>\n",
       "      <td>1001</td>\n",
       "      <td>둘리</td>\n",
       "      <td>30000</td>\n",
       "    </tr>\n",
       "    <tr>\n",
       "      <th>3</th>\n",
       "      <td>1005</td>\n",
       "      <td>희동</td>\n",
       "      <td>15000</td>\n",
       "    </tr>\n",
       "    <tr>\n",
       "      <th>4</th>\n",
       "      <td>1006</td>\n",
       "      <td>마이콜</td>\n",
       "      <td>5000</td>\n",
       "    </tr>\n",
       "  </tbody>\n",
       "</table>\n",
       "</div>"
      ],
      "text/plain": [
       "   고객번호   이름     금액\n",
       "0  1001   둘리  10000\n",
       "1  1001   둘리  20000\n",
       "2  1001   둘리  30000\n",
       "3  1005   희동  15000\n",
       "4  1006  마이콜   5000"
      ]
     },
     "execution_count": 80,
     "metadata": {},
     "output_type": "execute_result"
    }
   ],
   "source": [
    "pd.merge(df1, df2)"
   ]
  },
  {
   "cell_type": "code",
   "execution_count": 82,
   "metadata": {},
   "outputs": [],
   "source": [
    "import numpy as np"
   ]
  },
  {
   "cell_type": "code",
   "execution_count": 89,
   "metadata": {},
   "outputs": [
    {
     "data": {
      "text/plain": [
       "array([[0],\n",
       "       [1],\n",
       "       [2],\n",
       "       [3]])"
      ]
     },
     "execution_count": 89,
     "metadata": {},
     "output_type": "execute_result"
    }
   ],
   "source": [
    "arr = np.arange(4).reshape(-1, 1)\n",
    "arr"
   ]
  },
  {
   "cell_type": "code",
   "execution_count": 85,
   "metadata": {},
   "outputs": [
    {
     "data": {
      "text/plain": [
       "array([4, 6])"
      ]
     },
     "execution_count": 85,
     "metadata": {},
     "output_type": "execute_result"
    }
   ],
   "source": [
    "np.arange(4, 8, 2)"
   ]
  },
  {
   "cell_type": "code",
   "execution_count": 94,
   "metadata": {},
   "outputs": [
    {
     "name": "stdout",
     "output_type": "stream",
     "text": [
      "a\n",
      "a\n"
     ]
    }
   ],
   "source": [
    "# ndarray 인덱싱\n",
    "data2 = [\n",
    "    ['a', 2, 3],\n",
    "    [4, 'b', 6],\n",
    "    [7, 8, 'c']\n",
    "]\n",
    "\n",
    "arr = np.array(data2)\n",
    "print(arr[0][0]) \n",
    "print(arr[0, 0]) # 빠름 데이터 많아질 수록 더 차이 남"
   ]
  },
  {
   "cell_type": "code",
   "execution_count": 105,
   "metadata": {},
   "outputs": [
    {
     "name": "stdout",
     "output_type": "stream",
     "text": [
      "6번 \n",
      " [['a' '2']] \n",
      "\n"
     ]
    }
   ],
   "source": [
    "# 배열[a:b:c] 일때 a는 시작값, b는 도착값, c는 간격\n",
    "# print(\"1번 \\n\",arr[ : ],\"\\n\")\n",
    "# print(\"2번 행 \\n\",arr[ 1 , :],\"\\n\")\n",
    "# print(\"2번 열 \\n\",arr[ : , 0],\"\\n\")\n",
    "# print(\"3번 \\n\",arr[ : 3],\"\\n\")\n",
    "# print(\"4번 \\n\",arr[ 0 : 3, :],\"\\n\")\n",
    "# print(\"5번 \\n\",arr[  : 2, :1],\"\\n\")\n",
    "print(\"6번 \\n\",arr[ : 1, : 2],\"\\n\")"
   ]
  },
  {
   "cell_type": "code",
   "execution_count": 106,
   "metadata": {},
   "outputs": [
    {
     "name": "stdout",
     "output_type": "stream",
     "text": [
      "원본\n",
      " [[0 1 2 3]] \n",
      " [[4 5 6 7]] \n",
      "\n",
      "vstack결과\n",
      " [[0 1 2 3]\n",
      " [4 5 6 7]]\n",
      "hstack결과\n",
      " [[0 1 2 3 4 5 6 7]]\n",
      "concatenate 결과(axis=0)\n",
      " [[0 1 2 3]\n",
      " [4 5 6 7]]\n",
      "concatenate 결과(axis=1)\n",
      " [[0 1 2 3 4 5 6 7]]\n"
     ]
    }
   ],
   "source": [
    "# vstack(vertical) 수직방향으로 ndarray를 이어 붙입니다. , hstack (hight) 수평방향으로 ndarray를 이어 붙입니다.\n",
    "# a = np.arange(4).reshape(1,-1)\n",
    "# b = np.arange(4, 8).reshape(1,-1)\n",
    "# print(\"원본\\n\",a,\"\\n\",b,\"\\n\")\n",
    "c = np.vstack( [a, b])\n",
    "d = np.hstack( [a, b])\n",
    "c_0 = np.concatenate((a, b), axis=0)   # Default (수직방향)\n",
    "d_0 = np.concatenate((a, b), axis=1) # (수평방향)\n",
    "print(\"vstack결과\\n\",c)\n",
    "print(\"hstack결과\\n\", d)\n",
    "print(\"concatenate 결과(axis=0)\\n\",c_0)\n",
    "print(\"concatenate 결과(axis=1)\\n\", d_0)"
   ]
  },
  {
   "cell_type": "code",
   "execution_count": 107,
   "metadata": {},
   "outputs": [
    {
     "name": "stdout",
     "output_type": "stream",
     "text": [
      "\n",
      "3번째 방법\n",
      "           종목명   현재가   등락률\n",
      "종목코드                     \n",
      "037730     3R  1510  7.36\n",
      "036360  3SOFT  1790  1.65\n",
      "005760   ACTS  1185  1.28\n"
     ]
    }
   ],
   "source": [
    "data2 = [\n",
    "    [\"3R\", 1510, 7.36],\n",
    "    [\"3SOFT\", 1790, 1.65],\n",
    "    [\"ACTS\", 1185, 1.28],\n",
    "]\n",
    "index = [\"037730\", \"036360\", \"005760\"]\n",
    "columns = [\"종목명\", \"현재가\", \"등락률\"]\n",
    "\n",
    "df3 = pd.DataFrame(data=data2, index=index, columns=columns)\n",
    "df3.index.name = \"종목코드\"\n",
    "print(\"\\n3번째 방법\\n\",df3)"
   ]
  },
  {
   "cell_type": "code",
   "execution_count": 108,
   "metadata": {},
   "outputs": [
    {
     "name": "stdout",
     "output_type": "stream",
     "text": [
      "\n",
      "6번째 concat axis=0 일때 방법\n",
      "      종목코드    종목명   현재가\n",
      "0  037730     3R  1510\n",
      "0  036360  3SOFT  1790\n",
      "1  005760   ACTS  1185\n",
      "\n",
      "6번째 concat axis=1 일때 방법\n",
      "      종목코드  종목명     현재가    종목코드    종목명   현재가\n",
      "0  037730   3R  1510.0  036360  3SOFT  1790\n",
      "1     NaN  NaN     NaN  005760   ACTS  1185\n"
     ]
    }
   ],
   "source": [
    "#6번째 방법 concat에 join을 넣어줘서 어느 쪽에 있는 것만 합칠 수도 있음. \n",
    "df5 = pd.DataFrame({'종목코드' :['037730'],'종목명': ['3R'] ,'현재가': [1510] })\n",
    "df6 = pd.DataFrame({'종목코드' :['036360','005760'],'종목명': ['3SOFT','ACTS'] ,'현재가': [1790 , 1185]})\n",
    "df7 = pd.concat([df5,df6], axis=0)       #행방향\n",
    "df8 = pd.concat([df5,df6], axis=1)       #열방향\n",
    "print(\"\\n6번째 concat axis=0 일때 방법\\n\",df7)\n",
    "print(\"\\n6번째 concat axis=1 일때 방법\\n\",df8)"
   ]
  },
  {
   "cell_type": "code",
   "execution_count": 109,
   "metadata": {},
   "outputs": [],
   "source": [
    "df1 = pd.DataFrame({\n",
    "    '고객번호': [1001, 1002, 1003, 1004, 1005, 1006, 1007],\n",
    "    '이름': ['둘리', '도우너', '또치', '길동', '희동', '마이콜', '영희']\n",
    "}, columns=['고객번호', '이름'])\n",
    "\n",
    "df1 = pd.DataFrame({\n",
    "    '고객번호': [1001, 1002, 1003, 1004, 1005, 1006, 1007],\n",
    "    '이름': ['둘리', '도우너', '또치', '길동', '희동', '마이콜', '영희']\n",
    "}, columns=['고객번호', '이름'])"
   ]
  },
  {
   "cell_type": "code",
   "execution_count": 111,
   "metadata": {},
   "outputs": [
    {
     "data": {
      "text/html": [
       "<div>\n",
       "<style scoped>\n",
       "    .dataframe tbody tr th:only-of-type {\n",
       "        vertical-align: middle;\n",
       "    }\n",
       "\n",
       "    .dataframe tbody tr th {\n",
       "        vertical-align: top;\n",
       "    }\n",
       "\n",
       "    .dataframe thead th {\n",
       "        text-align: right;\n",
       "    }\n",
       "</style>\n",
       "<table border=\"1\" class=\"dataframe\">\n",
       "  <thead>\n",
       "    <tr style=\"text-align: right;\">\n",
       "      <th></th>\n",
       "      <th>고객번호</th>\n",
       "      <th>이름</th>\n",
       "      <th>고객번호</th>\n",
       "      <th>금액</th>\n",
       "    </tr>\n",
       "  </thead>\n",
       "  <tbody>\n",
       "    <tr>\n",
       "      <th>0</th>\n",
       "      <td>1001</td>\n",
       "      <td>둘리</td>\n",
       "      <td>1001.0</td>\n",
       "      <td>10000.0</td>\n",
       "    </tr>\n",
       "    <tr>\n",
       "      <th>1</th>\n",
       "      <td>1002</td>\n",
       "      <td>도우너</td>\n",
       "      <td>1001.0</td>\n",
       "      <td>20000.0</td>\n",
       "    </tr>\n",
       "    <tr>\n",
       "      <th>2</th>\n",
       "      <td>1003</td>\n",
       "      <td>또치</td>\n",
       "      <td>1005.0</td>\n",
       "      <td>15000.0</td>\n",
       "    </tr>\n",
       "    <tr>\n",
       "      <th>3</th>\n",
       "      <td>1004</td>\n",
       "      <td>길동</td>\n",
       "      <td>1006.0</td>\n",
       "      <td>5000.0</td>\n",
       "    </tr>\n",
       "    <tr>\n",
       "      <th>4</th>\n",
       "      <td>1005</td>\n",
       "      <td>희동</td>\n",
       "      <td>1008.0</td>\n",
       "      <td>100000.0</td>\n",
       "    </tr>\n",
       "    <tr>\n",
       "      <th>5</th>\n",
       "      <td>1006</td>\n",
       "      <td>마이콜</td>\n",
       "      <td>1001.0</td>\n",
       "      <td>30000.0</td>\n",
       "    </tr>\n",
       "    <tr>\n",
       "      <th>6</th>\n",
       "      <td>1007</td>\n",
       "      <td>영희</td>\n",
       "      <td>NaN</td>\n",
       "      <td>NaN</td>\n",
       "    </tr>\n",
       "  </tbody>\n",
       "</table>\n",
       "</div>"
      ],
      "text/plain": [
       "   고객번호   이름    고객번호        금액\n",
       "0  1001   둘리  1001.0   10000.0\n",
       "1  1002  도우너  1001.0   20000.0\n",
       "2  1003   또치  1005.0   15000.0\n",
       "3  1004   길동  1006.0    5000.0\n",
       "4  1005   희동  1008.0  100000.0\n",
       "5  1006  마이콜  1001.0   30000.0\n",
       "6  1007   영희     NaN       NaN"
      ]
     },
     "execution_count": 111,
     "metadata": {},
     "output_type": "execute_result"
    }
   ],
   "source": [
    "df8 = pd.concat([df1,df2], axis=1)\n",
    "df8 "
   ]
  },
  {
   "cell_type": "code",
   "execution_count": 114,
   "metadata": {},
   "outputs": [
    {
     "data": {
      "text/html": [
       "<div>\n",
       "<style scoped>\n",
       "    .dataframe tbody tr th:only-of-type {\n",
       "        vertical-align: middle;\n",
       "    }\n",
       "\n",
       "    .dataframe tbody tr th {\n",
       "        vertical-align: top;\n",
       "    }\n",
       "\n",
       "    .dataframe thead th {\n",
       "        text-align: right;\n",
       "    }\n",
       "</style>\n",
       "<table border=\"1\" class=\"dataframe\">\n",
       "  <thead>\n",
       "    <tr style=\"text-align: right;\">\n",
       "      <th></th>\n",
       "      <th>삼정전다</th>\n",
       "      <th>엘지</th>\n",
       "      <th>카카오</th>\n",
       "    </tr>\n",
       "  </thead>\n",
       "  <tbody>\n",
       "    <tr>\n",
       "      <th>현재가</th>\n",
       "      <td>5000.0</td>\n",
       "      <td>2000.0</td>\n",
       "      <td>1000.0</td>\n",
       "    </tr>\n",
       "    <tr>\n",
       "      <th>등락율</th>\n",
       "      <td>4.5</td>\n",
       "      <td>1.5</td>\n",
       "      <td>2.5</td>\n",
       "    </tr>\n",
       "  </tbody>\n",
       "</table>\n",
       "</div>"
      ],
      "text/plain": [
       "       삼정전다      엘지     카카오\n",
       "현재가  5000.0  2000.0  1000.0\n",
       "등락율     4.5     1.5     2.5"
      ]
     },
     "execution_count": 114,
     "metadata": {},
     "output_type": "execute_result"
    }
   ],
   "source": [
    "stock = {'삼정전다': {'현재가': 5000, '등락율':4.5},\n",
    "         '엘지': {'현재가': 2000, '등락율':1.5},\n",
    "          '카카오': {'현재가': 1000, '등락율':2.5}\n",
    "         }\n",
    "\n",
    "stock_1 = pd.DataFrame(stock)\n",
    "stock_1\n"
   ]
  },
  {
   "cell_type": "code",
   "execution_count": 127,
   "metadata": {},
   "outputs": [
    {
     "data": {
      "text/html": [
       "<div>\n",
       "<style scoped>\n",
       "    .dataframe tbody tr th:only-of-type {\n",
       "        vertical-align: middle;\n",
       "    }\n",
       "\n",
       "    .dataframe tbody tr th {\n",
       "        vertical-align: top;\n",
       "    }\n",
       "\n",
       "    .dataframe thead th {\n",
       "        text-align: right;\n",
       "    }\n",
       "</style>\n",
       "<table border=\"1\" class=\"dataframe\">\n",
       "  <thead>\n",
       "    <tr style=\"text-align: right;\">\n",
       "      <th></th>\n",
       "      <th>삼정전다</th>\n",
       "      <th>엘지</th>\n",
       "    </tr>\n",
       "  </thead>\n",
       "  <tbody>\n",
       "    <tr>\n",
       "      <th>현재가</th>\n",
       "      <td>5000.0</td>\n",
       "      <td>2000.0</td>\n",
       "    </tr>\n",
       "    <tr>\n",
       "      <th>등락율</th>\n",
       "      <td>4.5</td>\n",
       "      <td>1.5</td>\n",
       "    </tr>\n",
       "  </tbody>\n",
       "</table>\n",
       "</div>"
      ],
      "text/plain": [
       "       삼정전다      엘지\n",
       "현재가  5000.0  2000.0\n",
       "등락율     4.5     1.5"
      ]
     },
     "execution_count": 127,
     "metadata": {},
     "output_type": "execute_result"
    }
   ],
   "source": [
    "stock_1.iloc[[0,1],[0,1]]"
   ]
  },
  {
   "cell_type": "code",
   "execution_count": null,
   "metadata": {},
   "outputs": [],
   "source": [
    "for x in fruits :\n",
    "    print(x)"
   ]
  },
  {
   "cell_type": "code",
   "execution_count": 129,
   "metadata": {},
   "outputs": [
    {
     "name": "stdout",
     "output_type": "stream",
     "text": [
      "apple\n"
     ]
    }
   ],
   "source": [
    "fruits = [\"apple\", \"banana\", \"cherry\"]\n",
    "for x in fruits:\n",
    "  if x == \"banana\":\n",
    "    \n",
    "    break\n",
    "\n",
    "  print(x)"
   ]
  },
  {
   "cell_type": "code",
   "execution_count": 130,
   "metadata": {},
   "outputs": [
    {
     "name": "stdout",
     "output_type": "stream",
     "text": [
      "apple\n"
     ]
    }
   ],
   "source": [
    "for x  in fruits:\n",
    "    if x =='banana':\n",
    "        \n",
    "        break\n",
    "    print(x)"
   ]
  },
  {
   "cell_type": "code",
   "execution_count": 133,
   "metadata": {},
   "outputs": [
    {
     "ename": "TypeError",
     "evalue": "my_function() missing 1 required positional argument: 'x'",
     "output_type": "error",
     "traceback": [
      "\u001b[1;31m---------------------------------------------------------------------------\u001b[0m",
      "\u001b[1;31mTypeError\u001b[0m                                 Traceback (most recent call last)",
      "\u001b[1;32mc:\\Users\\spaceastonomy\\Documents\\GitHub\\GITHUB_TEST\\특강 문제 풀이 1회차\\연습.ipynb Cell 24'\u001b[0m in \u001b[0;36m<module>\u001b[1;34m\u001b[0m\n\u001b[0;32m      <a href='vscode-notebook-cell:/c%3A/Users/spaceastonomy/Documents/GitHub/GITHUB_TEST/%ED%8A%B9%EA%B0%95%20%EB%AC%B8%EC%A0%9C%20%ED%92%80%EC%9D%B4%201%ED%9A%8C%EC%B0%A8/%EC%97%B0%EC%8A%B5.ipynb#ch0000202?line=0'>1</a>\u001b[0m \u001b[39mdef\u001b[39;00m \u001b[39mmy_function\u001b[39m(x):\n\u001b[0;32m      <a href='vscode-notebook-cell:/c%3A/Users/spaceastonomy/Documents/GitHub/GITHUB_TEST/%ED%8A%B9%EA%B0%95%20%EB%AC%B8%EC%A0%9C%20%ED%92%80%EC%9D%B4%201%ED%9A%8C%EC%B0%A8/%EC%97%B0%EC%8A%B5.ipynb#ch0000202?line=2'>3</a>\u001b[0m     \u001b[39mreturn\u001b[39;00m x \u001b[39m+\u001b[39m \u001b[39m5\u001b[39m\n\u001b[1;32m----> <a href='vscode-notebook-cell:/c%3A/Users/spaceastonomy/Documents/GitHub/GITHUB_TEST/%ED%8A%B9%EA%B0%95%20%EB%AC%B8%EC%A0%9C%20%ED%92%80%EC%9D%B4%201%ED%9A%8C%EC%B0%A8/%EC%97%B0%EC%8A%B5.ipynb#ch0000202?line=4'>5</a>\u001b[0m my_function()\n",
      "\u001b[1;31mTypeError\u001b[0m: my_function() missing 1 required positional argument: 'x'"
     ]
    }
   ],
   "source": [
    "def my_function(x):\n",
    "      \n",
    "    return x + 5\n",
    "\n",
    "my_function()"
   ]
  },
  {
   "cell_type": "code",
   "execution_count": 134,
   "metadata": {},
   "outputs": [],
   "source": [
    "def my_function(*kids):\n",
    "  print(\"The youngest child is \" + kids[2])"
   ]
  },
  {
   "cell_type": "code",
   "execution_count": 136,
   "metadata": {},
   "outputs": [
    {
     "name": "stdout",
     "output_type": "stream",
     "text": [
      "mike\n"
     ]
    }
   ],
   "source": [
    "class Person():\n",
    "    def __init__(self, name):\n",
    "        self.firstname = name\n",
    "        \n",
    "    def printname(self):\n",
    "        print(self.firstname)\n",
    "        \n",
    "class Student(Person):\n",
    "    pass\n",
    "\n",
    "x = Student('mike')\n",
    "x.printname()"
   ]
  },
  {
   "cell_type": "code",
   "execution_count": 135,
   "metadata": {},
   "outputs": [
    {
     "name": "stdout",
     "output_type": "stream",
     "text": [
      "Mike\n"
     ]
    }
   ],
   "source": [
    "class Person:\n",
    "    def __init__(self, fname):\n",
    "        self.firstname = fname\n",
    "\n",
    "    def printname(self):\n",
    "        print(self.firstname)\n",
    "\n",
    "class Student(Person):\n",
    "  pass\n",
    "\n",
    "x = Student(\"Mike\")\n",
    "x.printname()\n"
   ]
  },
  {
   "cell_type": "code",
   "execution_count": 137,
   "metadata": {},
   "outputs": [
    {
     "name": "stdout",
     "output_type": "stream",
     "text": [
      "15\n"
     ]
    }
   ],
   "source": [
    "x = lambda a: a + 10\n",
    "print(x(5))"
   ]
  },
  {
   "cell_type": "code",
   "execution_count": 152,
   "metadata": {},
   "outputs": [
    {
     "data": {
      "text/plain": [
       "<function matplotlib.pyplot.show(close=None, block=None)>"
      ]
     },
     "execution_count": 152,
     "metadata": {},
     "output_type": "execute_result"
    },
    {
     "data": {
      "image/png": "[encoded data removed]",
      "text/plain": [
       "<Figure size 432x288 with 1 Axes>"
      ]
     },
     "metadata": {
      "needs_background": "light"
     },
     "output_type": "display_data"
    }
   ],
   "source": [
    "import matplotlib.pyplot as plt\n",
    "import numpy as np\n",
    "\n",
    "ypoints = np.array([3, 8,1,10])\n",
    "\n",
    "plt. plot(ypoints, marker = \"o\")\n",
    "plt.show"
   ]
  },
  {
   "cell_type": "code",
   "execution_count": 157,
   "metadata": {},
   "outputs": [
    {
     "ename": "NameError",
     "evalue": "name 'i' is not defined",
     "output_type": "error",
     "traceback": [
      "\u001b[1;31m---------------------------------------------------------------------------\u001b[0m",
      "\u001b[1;31mNameError\u001b[0m                                 Traceback (most recent call last)",
      "\u001b[1;32mc:\\Users\\spaceastonomy\\Documents\\GitHub\\GITHUB_TEST\\특강 문제 풀이 1회차\\연습.ipynb Cell 30'\u001b[0m in \u001b[0;36m<module>\u001b[1;34m\u001b[0m\n\u001b[0;32m      <a href='vscode-notebook-cell:/c%3A/Users/spaceastonomy/Documents/GitHub/GITHUB_TEST/%ED%8A%B9%EA%B0%95%20%EB%AC%B8%EC%A0%9C%20%ED%92%80%EC%9D%B4%201%ED%9A%8C%EC%B0%A8/%EC%97%B0%EC%8A%B5.ipynb#ch0000208?line=0'>1</a>\u001b[0m a \u001b[39m=\u001b[39m [i \u001b[39m*\u001b[39m j \u001b[39mfor\u001b[39;00m j \u001b[39min\u001b[39;00m \u001b[39mrange\u001b[39m(\u001b[39m1\u001b[39m, \u001b[39m10\u001b[39m) \u001b[39mfor\u001b[39;00m i \u001b[39min\u001b[39;00m \u001b[39mrange\u001b[39m(\u001b[39m2\u001b[39m,\u001b[39m10\u001b[39m)]\n\u001b[1;32m----> <a href='vscode-notebook-cell:/c%3A/Users/spaceastonomy/Documents/GitHub/GITHUB_TEST/%ED%8A%B9%EA%B0%95%20%EB%AC%B8%EC%A0%9C%20%ED%92%80%EC%9D%B4%201%ED%9A%8C%EC%B0%A8/%EC%97%B0%EC%8A%B5.ipynb#ch0000208?line=2'>3</a>\u001b[0m \u001b[39mprint\u001b[39m(\u001b[39mf\u001b[39m\u001b[39m\"\u001b[39m\u001b[39m{\u001b[39;00mi\u001b[39m}\u001b[39;00m\u001b[39m X \u001b[39m\u001b[39m{\u001b[39;00mj\u001b[39m}\u001b[39;00m\u001b[39m =\u001b[39m\u001b[39m\"\u001b[39m )\n",
      "\u001b[1;31mNameError\u001b[0m: name 'i' is not defined"
     ]
    }
   ],
   "source": []
  },
  {
   "cell_type": "code",
   "execution_count": null,
   "metadata": {},
   "outputs": [],
   "source": [
    "import yfinance as yf\n",
    "import pandas as pd\n",
    "import mod_sql\n",
    "\n",
    "apple = yf.Ticker(\"AAPL\")\n",
    "apple.history(period=\"max\")\n",
    "result = apple.history(period = \"max\")\n",
    "result.to_csv(\"apple.csv\")\n",
    "\n",
    "_db = mod_sql.Database()\n",
    "\n",
    "result.index\n",
    "list(result.Open)\n",
    "\n",
    "_sql = \"\"\" \n",
    "        SELECT *\n",
    "        FROM apple\n",
    "\"\"\"\n",
    "result = _db.excuteAll(_sql)\n",
    "_df = pd.DataFrame(result)\n",
    "\n",
    "_df = _df.round(2)\n",
    "_df.isna().sum()\n",
    "_df.fillna(\"bfill\")\n",
    "_df[\"등락폭\"] = _df[\"Close\"] - _df[\"Open\"]\n",
    "_df[\"등락율\"] = _df[\"등락폭\"] / _df[\"Open\"] * 100\n",
    "\n",
    "import matplotlib.pyplot as plt\n",
    "plt.plot(_df[\"Open\"])\n",
    "\n",
    "plt.subplot(2,2,1)\n",
    "plt.plot(_df[\"Open\"])\n",
    "plt.subplot(2,2,2)\n",
    "plt.plot(_df[\"Close\"])\n",
    "plt.subplot(2,2,3)\n",
    "plt.plot(_df[\"등락폭\"])\n",
    "plt.subplot(2,2,4)\n",
    "plt.plot(_df[\"등락율\"])\n",
    "\n",
    "plt.show()"
   ]
  },
  {
   "cell_type": "code",
   "execution_count": null,
   "metadata": {},
   "outputs": [],
   "source": [
    "import yfinance as yf\n",
    "import pandas as pd\n",
    "import mod_sql\n",
    "\n",
    "apple = yf.Ticker('AAPL')\n",
    "apple.history(period = 'ytd')\n",
    "result = apple.history(period='ytd')\n",
    "result.to_csv('apple.csv')\n",
    "\n",
    "_db = mod_sql.Database()\n",
    "\n",
    "_sql = '''\n",
    "        SELECT *\n",
    "        FROM apple\n",
    "\n",
    "'''\n",
    "result = _db.excuteAll(_sql)\n",
    "_df = pd.DataFrame(result)\n",
    "\n"
   ]
  },
  {
   "cell_type": "code",
   "execution_count": 168,
   "metadata": {},
   "outputs": [
    {
     "ename": "NameError",
     "evalue": "name 'j' is not defined",
     "output_type": "error",
     "traceback": [
      "\u001b[1;31m---------------------------------------------------------------------------\u001b[0m",
      "\u001b[1;31mNameError\u001b[0m                                 Traceback (most recent call last)",
      "\u001b[1;32mc:\\Users\\spaceastonomy\\Documents\\GitHub\\GITHUB_TEST\\특강 문제 풀이 1회차\\연습.ipynb Cell 33'\u001b[0m in \u001b[0;36m<module>\u001b[1;34m\u001b[0m\n\u001b[0;32m      <a href='vscode-notebook-cell:/c%3A/Users/spaceastonomy/Documents/GitHub/GITHUB_TEST/%ED%8A%B9%EA%B0%95%20%EB%AC%B8%EC%A0%9C%20%ED%92%80%EC%9D%B4%201%ED%9A%8C%EC%B0%A8/%EC%97%B0%EC%8A%B5.ipynb#ch0000218?line=0'>1</a>\u001b[0m a \u001b[39m=\u001b[39m [ i \u001b[39m*\u001b[39m j \u001b[39mfor\u001b[39;00m j \u001b[39min\u001b[39;00m \u001b[39mrange\u001b[39m(\u001b[39m1\u001b[39m,\u001b[39m10\u001b[39m) \u001b[39mfor\u001b[39;00m i \u001b[39min\u001b[39;00m \u001b[39mrange\u001b[39m(\u001b[39m2\u001b[39m, \u001b[39m10\u001b[39m)]\n\u001b[1;32m----> <a href='vscode-notebook-cell:/c%3A/Users/spaceastonomy/Documents/GitHub/GITHUB_TEST/%ED%8A%B9%EA%B0%95%20%EB%AC%B8%EC%A0%9C%20%ED%92%80%EC%9D%B4%201%ED%9A%8C%EC%B0%A8/%EC%97%B0%EC%8A%B5.ipynb#ch0000218?line=1'>2</a>\u001b[0m \u001b[39mprint\u001b[39m(\u001b[39mf\u001b[39m\u001b[39m'\u001b[39m\u001b[39m{\u001b[39;00mj\u001b[39m}\u001b[39;00m\u001b[39m X \u001b[39m\u001b[39m{\u001b[39;00mi\u001b[39m}\u001b[39;00m\u001b[39m = \u001b[39m\u001b[39m{\u001b[39;00ma\u001b[39m}\u001b[39;00m\u001b[39m'\u001b[39m)\n",
      "\u001b[1;31mNameError\u001b[0m: name 'j' is not defined"
     ]
    }
   ],
   "source": [
    "a = [ i * j for j in range(1,10) for i in range(2, 10)]\n",
    "print(f'{i} X {j} = {a}')"
   ]
  },
  {
   "cell_type": "code",
   "execution_count": 172,
   "metadata": {},
   "outputs": [
    {
     "ename": "NameError",
     "evalue": "name 'j' is not defined",
     "output_type": "error",
     "traceback": [
      "\u001b[1;31m---------------------------------------------------------------------------\u001b[0m",
      "\u001b[1;31mNameError\u001b[0m                                 Traceback (most recent call last)",
      "\u001b[1;32mc:\\Users\\spaceastonomy\\Documents\\GitHub\\GITHUB_TEST\\특강 문제 풀이 1회차\\연습.ipynb Cell 34'\u001b[0m in \u001b[0;36m<module>\u001b[1;34m\u001b[0m\n\u001b[0;32m      <a href='vscode-notebook-cell:/c%3A/Users/spaceastonomy/Documents/GitHub/GITHUB_TEST/%ED%8A%B9%EA%B0%95%20%EB%AC%B8%EC%A0%9C%20%ED%92%80%EC%9D%B4%201%ED%9A%8C%EC%B0%A8/%EC%97%B0%EC%8A%B5.ipynb#ch0000220?line=0'>1</a>\u001b[0m gugudan \u001b[39m=\u001b[39m [i \u001b[39m*\u001b[39m j \u001b[39mfor\u001b[39;00m i \u001b[39min\u001b[39;00m \u001b[39mrange\u001b[39m(\u001b[39m2\u001b[39m, \u001b[39m10\u001b[39m) \u001b[39mfor\u001b[39;00m j \u001b[39min\u001b[39;00m \u001b[39mrange\u001b[39m(\u001b[39m1\u001b[39m, \u001b[39m10\u001b[39m)]\n\u001b[1;32m----> <a href='vscode-notebook-cell:/c%3A/Users/spaceastonomy/Documents/GitHub/GITHUB_TEST/%ED%8A%B9%EA%B0%95%20%EB%AC%B8%EC%A0%9C%20%ED%92%80%EC%9D%B4%201%ED%9A%8C%EC%B0%A8/%EC%97%B0%EC%8A%B5.ipynb#ch0000220?line=1'>2</a>\u001b[0m \u001b[39mprint\u001b[39m(\u001b[39mf\u001b[39m\u001b[39m'\u001b[39m\u001b[39m{\u001b[39;00mi\u001b[39m}\u001b[39;00m\u001b[39m X \u001b[39m\u001b[39m{\u001b[39;00mj\u001b[39m}\u001b[39;00m\u001b[39m = \u001b[39m\u001b[39m{\u001b[39;00mgugudan\u001b[39m}\u001b[39;00m\u001b[39m'\u001b[39m)\n",
      "\u001b[1;31mNameError\u001b[0m: name 'j' is not defined"
     ]
    }
   ],
   "source": [
    "gugudan = [i * j for i in range(2, 10) for j in range(1, 10)]\n",
    "print(f'{i} X {j} = {gugudan}')"
   ]
  },
  {
   "cell_type": "code",
   "execution_count": 170,
   "metadata": {},
   "outputs": [
    {
     "name": "stdout",
     "output_type": "stream",
     "text": [
      "9 X 9 = 81\n"
     ]
    }
   ],
   "source": [
    "a = [dan * i for i in range(1, 10) for dan in range(2, 10)]\n",
    "print(f'{dan} X {i} = {dan * i}')"
   ]
  },
  {
   "cell_type": "code",
   "execution_count": 164,
   "metadata": {},
   "outputs": [
    {
     "name": "stdout",
     "output_type": "stream",
     "text": [
      "2 x 1 = 2\n",
      "2 x 2 = 4\n",
      "2 x 3 = 6\n",
      "2 x 4 = 8\n",
      "2 x 5 = 10\n",
      "2 x 6 = 12\n",
      "2 x 7 = 14\n",
      "2 x 8 = 16\n",
      "2 x 9 = 18\n",
      "3 x 1 = 3\n",
      "3 x 2 = 6\n",
      "3 x 3 = 9\n",
      "3 x 4 = 12\n",
      "3 x 5 = 15\n",
      "3 x 6 = 18\n",
      "3 x 7 = 21\n",
      "3 x 8 = 24\n",
      "3 x 9 = 27\n",
      "4 x 1 = 4\n",
      "4 x 2 = 8\n",
      "4 x 3 = 12\n",
      "4 x 4 = 16\n",
      "4 x 5 = 20\n",
      "4 x 6 = 24\n",
      "4 x 7 = 28\n",
      "4 x 8 = 32\n",
      "4 x 9 = 36\n",
      "5 x 1 = 5\n",
      "5 x 2 = 10\n",
      "5 x 3 = 15\n",
      "5 x 4 = 20\n",
      "5 x 5 = 25\n",
      "5 x 6 = 30\n",
      "5 x 7 = 35\n",
      "5 x 8 = 40\n",
      "5 x 9 = 45\n",
      "6 x 1 = 6\n",
      "6 x 2 = 12\n",
      "6 x 3 = 18\n",
      "6 x 4 = 24\n",
      "6 x 5 = 30\n",
      "6 x 6 = 36\n",
      "6 x 7 = 42\n",
      "6 x 8 = 48\n",
      "6 x 9 = 54\n",
      "7 x 1 = 7\n",
      "7 x 2 = 14\n",
      "7 x 3 = 21\n",
      "7 x 4 = 28\n",
      "7 x 5 = 35\n",
      "7 x 6 = 42\n",
      "7 x 7 = 49\n",
      "7 x 8 = 56\n",
      "7 x 9 = 63\n",
      "8 x 1 = 8\n",
      "8 x 2 = 16\n",
      "8 x 3 = 24\n",
      "8 x 4 = 32\n",
      "8 x 5 = 40\n",
      "8 x 6 = 48\n",
      "8 x 7 = 56\n",
      "8 x 8 = 64\n",
      "8 x 9 = 72\n",
      "9 x 1 = 9\n",
      "9 x 2 = 18\n",
      "9 x 3 = 27\n",
      "9 x 4 = 36\n",
      "9 x 5 = 45\n",
      "9 x 6 = 54\n",
      "9 x 7 = 63\n",
      "9 x 8 = 72\n",
      "9 x 9 = 81\n"
     ]
    }
   ],
   "source": [
    "for dan in range(2, 10):  # 2 ~ 9\n",
    "    for i in range(1, 10):  # 1 ~ 9\n",
    "        print(f'{dan} x {i} = {dan * i}')"
   ]
  },
  {
   "cell_type": "code",
   "execution_count": 163,
   "metadata": {},
   "outputs": [
    {
     "data": {
      "text/plain": [
       "{0, 1, 2, 3, 4, 5, 6, 7, 8, 9, 10, 11, 12, 13, 14, 15, 16, 17, 18}"
      ]
     },
     "execution_count": 163,
     "metadata": {},
     "output_type": "execute_result"
    }
   ],
   "source": [
    " a = { x+y for x in range(10) for y in range(10) }\n",
    " a"
   ]
  },
  {
   "cell_type": "code",
   "execution_count": 161,
   "metadata": {},
   "outputs": [
    {
     "data": {
      "text/plain": [
       "[('쌈밥', '사과'),\n",
       " ('쌈밥', '아이스크림'),\n",
       " ('쌈밥', '커피'),\n",
       " ('치킨', '사과'),\n",
       " ('치킨', '아이스크림'),\n",
       " ('치킨', '커피'),\n",
       " ('피자', '사과'),\n",
       " ('피자', '아이스크림'),\n",
       " ('피자', '커피')]"
      ]
     },
     "execution_count": 161,
     "metadata": {},
     "output_type": "execute_result"
    }
   ],
   "source": [
    "[ (x, y) for x in ['쌈밥', '치킨', '피자'] for y in ['사과', '아이스크림', '커피']]"
   ]
  },
  {
   "cell_type": "code",
   "execution_count": 160,
   "metadata": {},
   "outputs": [
    {
     "data": {
      "text/plain": [
       "[2, 4, 6, 8, 10, 12, 14, 16, 18, 20]"
      ]
     },
     "execution_count": 160,
     "metadata": {},
     "output_type": "execute_result"
    }
   ],
   "source": [
    "a = [ 2*x for x in range(1, 11) ]\n",
    "a"
   ]
  },
  {
   "cell_type": "code",
   "execution_count": 158,
   "metadata": {},
   "outputs": [
    {
     "ename": "TypeError",
     "evalue": "not enough arguments for format string",
     "output_type": "error",
     "traceback": [
      "\u001b[1;31m---------------------------------------------------------------------------\u001b[0m",
      "\u001b[1;31mTypeError\u001b[0m                                 Traceback (most recent call last)",
      "\u001b[1;32mc:\\Users\\spaceastonomy\\Documents\\GitHub\\GITHUB_TEST\\특강 문제 풀이 1회차\\연습.ipynb Cell 33'\u001b[0m in \u001b[0;36m<module>\u001b[1;34m\u001b[0m\n\u001b[0;32m      <a href='vscode-notebook-cell:/c%3A/Users/spaceastonomy/Documents/GitHub/GITHUB_TEST/%ED%8A%B9%EA%B0%95%20%EB%AC%B8%EC%A0%9C%20%ED%92%80%EC%9D%B4%201%ED%9A%8C%EC%B0%A8/%EC%97%B0%EC%8A%B5.ipynb#ch0000211?line=0'>1</a>\u001b[0m b \u001b[39m=\u001b[39m [i \u001b[39m*\u001b[39m j \u001b[39mfor\u001b[39;00m j \u001b[39min\u001b[39;00m \u001b[39mrange\u001b[39m(\u001b[39m2\u001b[39m, \u001b[39m10\u001b[39m) \u001b[39mfor\u001b[39;00m i \u001b[39min\u001b[39;00m \u001b[39mrange\u001b[39m(\u001b[39m1\u001b[39m, \u001b[39m10\u001b[39m)]\n\u001b[1;32m----> <a href='vscode-notebook-cell:/c%3A/Users/spaceastonomy/Documents/GitHub/GITHUB_TEST/%ED%8A%B9%EA%B0%95%20%EB%AC%B8%EC%A0%9C%20%ED%92%80%EC%9D%B4%201%ED%9A%8C%EC%B0%A8/%EC%97%B0%EC%8A%B5.ipynb#ch0000211?line=2'>3</a>\u001b[0m \u001b[39mprint\u001b[39m(\u001b[39m\"\u001b[39;49m\u001b[39m%s\u001b[39;49;00m\u001b[39m X \u001b[39;49m\u001b[39m%s\u001b[39;49;00m\u001b[39m =\u001b[39;49m\u001b[39m\"\u001b[39;49m \u001b[39m%\u001b[39;49ma)\n",
      "\u001b[1;31mTypeError\u001b[0m: not enough arguments for format string"
     ]
    }
   ],
   "source": [
    "b = [i * j for j in range(2, 10) for i in range(1, 10)]\n",
    "\n",
    "print(\"%s X %s =\" %a)"
   ]
  },
  {
   "cell_type": "code",
   "execution_count": 174,
   "metadata": {},
   "outputs": [
    {
     "name": "stdout",
     "output_type": "stream",
     "text": [
      "요리사가 맛있는 삼각김밥을 만들었습니다. \n",
      "김은 중훈 입니다. \n",
      "밥은 쌀밥 사용 하였고 \n",
      "소스는 마요네즈 촵촵 뿌리고 \n",
      "메인은 동원참치을 넣었습니다.\n",
      "\n"
     ]
    }
   ],
   "source": [
    "class Samgak:\n",
    "    def __init__(self):\n",
    "        self.source = '기본소스'\n",
    "        self.kim = '광명 김'\n",
    "        self.bab = '쌀밥'\n",
    "        self.food = ' '\n",
    "        \n",
    "    def set_source(self, source_name):\n",
    "        self.source = source_name\n",
    "        \n",
    "    def change_kim(self, kim_name):\n",
    "        self.kim = kim_name\n",
    "        \n",
    "    def change_bab(self, bab_name):\n",
    "        self.bab = bab_name\n",
    "        \n",
    "    def set_food(self, food_name):\n",
    "        self.food = food_name\n",
    "        \n",
    "    def print(self):\n",
    "        s1 = \"요리사가 맛있는 삼각김밥을 만들었습니다. \\n\"\n",
    "        s1 += f'김은 {self.kim} 입니다. \\n'\n",
    "        s1 += f'밥은 {self.bab} 사용 하였고 \\n'\n",
    "        s1 += f'소스는 {self.source} 촵촵 뿌리고 \\n'\n",
    "        s1 += f'메인은 {self.food}을 넣었습니다.\\n'\n",
    "        print(s1)\n",
    "        \n",
    "        \n",
    "        \n",
    "chamchi = Samgak()\n",
    "chamchi.set_food('동원참치')\n",
    "chamchi.change_kim('중훈')\n",
    "chamchi.set_source('마요네즈')\n",
    "chamchi.print()"
   ]
  },
  {
   "cell_type": "code",
   "execution_count": 175,
   "metadata": {},
   "outputs": [
    {
     "name": "stdout",
     "output_type": "stream",
     "text": [
      "이 폰은 어른폰 기종이며\n",
      "번호는 010-10030-234 이고\n",
      "이 폰의 주인은 개님 입니다.\n",
      "\n"
     ]
    }
   ],
   "source": [
    "class Applephone():\n",
    "    \n",
    "    \n",
    "    def __init__(self, number, owner, name):\n",
    "        self.number = number\n",
    "        self.owner = owner\n",
    "        self.phone_name = name\n",
    "        \n",
    "    def print(self):\n",
    "        s = f'이 폰은 {self.phone_name} 기종이며\\n'\n",
    "        s += f'번호는 {self.number} 이고\\n'\n",
    "        s += f'이 폰의 주인은 {self.owner} 입니다.\\n'\n",
    "        print(s)\n",
    "        \n",
    "        \n",
    "p1 = Applephone('010-10030-234', '개님', '어른폰')\n",
    "\n",
    "p1.print()"
   ]
  },
  {
   "cell_type": "code",
   "execution_count": 178,
   "metadata": {},
   "outputs": [
    {
     "name": "stdout",
     "output_type": "stream",
     "text": [
      "Bounce to down\n",
      "Bounce to up\n",
      "Bounce to down\n",
      "Bounce to up\n",
      "Bounce to down\n",
      "Bounce to up\n",
      "Bounce to down\n",
      "Bounce to up\n",
      "Bounce to down\n",
      "Bounce to up\n"
     ]
    }
   ],
   "source": [
    "class Ball():\n",
    "    \n",
    "    def __init__(self, size, color, direction):\n",
    "        self.size = size\n",
    "        self.color = color\n",
    "        self.direction = direction\n",
    "        \n",
    "    def bounce(self):\n",
    "        if self.direction == 'down':\n",
    "            self.direction = 'up'\n",
    "        else:\n",
    "            self.direction = 'down'\n",
    "        print(\"Bounce to\", self.direction)\n",
    "        \n",
    "myBall = Ball('small', 'Red', 'down')\n",
    "yourBall = Ball('small', 'Red', 'up')\n",
    "\n",
    "for i in range(0, 10):\n",
    "    # myBall.bounce()\n",
    "    yourBall.bounce()"
   ]
  },
  {
   "cell_type": "code",
   "execution_count": null,
   "metadata": {},
   "outputs": [],
   "source": [
    "chamchi = Samgak()\n",
    "chamchi.set_food('동원참치')\n",
    "chamchi.set_source('마요네즈')\n",
    "chamchi.print()"
   ]
  },
  {
   "cell_type": "code",
   "execution_count": 194,
   "metadata": {},
   "outputs": [],
   "source": [
    "class Character():\n",
    "    def __init__(self):\n",
    "        self.life = 1000\n",
    "        \n",
    "    def attacked(self):\n",
    "        self.life -= 10\n",
    "        print(\"공격받음 생명력 = \", self.life)\n",
    "        \n",
    "    def attack(self):\n",
    "        print(\"공격!\")\n",
    "        \n",
    "class Warrior(Character):\n",
    "    \n",
    "    def __init__(self):\n",
    "        super(Warrior, self).__init__()\n",
    "        self.strength = 15\n",
    "        self.intelligence = 5\n",
    "\n",
    "    def attack(self):\n",
    "        print(\"육탄 공격!\")\n",
    "        +--\n",
    "class Wizard(Character):\n",
    "    \n",
    "    def __init__(self):\n",
    "        super(Wizard, self).__init__()\n",
    "        self.strength = 5\n",
    "        self.intelligence = 15\n",
    "        \n",
    "    def attack(self):\n",
    "        print(\"마법 공격!\")"
   ]
  },
  {
   "cell_type": "code",
   "execution_count": null,
   "metadata": {},
   "outputs": [],
   "source": []
  },
  {
   "cell_type": "code",
   "execution_count": 195,
   "metadata": {},
   "outputs": [],
   "source": [
    "a = Character()\n",
    "b = Warrior()\n",
    "c = Wizard()"
   ]
  },
  {
   "cell_type": "code",
   "execution_count": 196,
   "metadata": {},
   "outputs": [
    {
     "data": {
      "text/plain": [
       "15"
      ]
     },
     "execution_count": 196,
     "metadata": {},
     "output_type": "execute_result"
    }
   ],
   "source": [
    "b.strength"
   ]
  },
  {
   "cell_type": "code",
   "execution_count": 190,
   "metadata": {},
   "outputs": [
    {
     "data": {
      "text/plain": [
       "(1000, 1000, 1000)"
      ]
     },
     "execution_count": 190,
     "metadata": {},
     "output_type": "execute_result"
    }
   ],
   "source": [
    "a.life, b.life, c.life"
   ]
  },
  {
   "cell_type": "code",
   "execution_count": 191,
   "metadata": {},
   "outputs": [
    {
     "name": "stdout",
     "output_type": "stream",
     "text": [
      "공격받음 생명력 =  990\n"
     ]
    }
   ],
   "source": [
    "a.attacked()"
   ]
  },
  {
   "cell_type": "code",
   "execution_count": 192,
   "metadata": {},
   "outputs": [
    {
     "ename": "TypeError",
     "evalue": "Warrior.__init__() missing 1 required positional argument: 'life'",
     "output_type": "error",
     "traceback": [
      "\u001b[1;31m---------------------------------------------------------------------------\u001b[0m",
      "\u001b[1;31mTypeError\u001b[0m                                 Traceback (most recent call last)",
      "\u001b[1;32mc:\\Users\\spaceastonomy\\Documents\\GitHub\\GITHUB_TEST\\특강 문제 풀이 1회차\\연습.ipynb Cell 49'\u001b[0m in \u001b[0;36m<module>\u001b[1;34m\u001b[0m\n\u001b[1;32m----> <a href='vscode-notebook-cell:/c%3A/Users/spaceastonomy/Documents/GitHub/GITHUB_TEST/%ED%8A%B9%EA%B0%95%20%EB%AC%B8%EC%A0%9C%20%ED%92%80%EC%9D%B4%201%ED%9A%8C%EC%B0%A8/%EC%97%B0%EC%8A%B5.ipynb#ch0000224?line=0'>1</a>\u001b[0m a \u001b[39m=\u001b[39m Warrior()\n\u001b[0;32m      <a href='vscode-notebook-cell:/c%3A/Users/spaceastonomy/Documents/GitHub/GITHUB_TEST/%ED%8A%B9%EA%B0%95%20%EB%AC%B8%EC%A0%9C%20%ED%92%80%EC%9D%B4%201%ED%9A%8C%EC%B0%A8/%EC%97%B0%EC%8A%B5.ipynb#ch0000224?line=1'>2</a>\u001b[0m b \u001b[39m=\u001b[39m Wizard()\n\u001b[0;32m      <a href='vscode-notebook-cell:/c%3A/Users/spaceastonomy/Documents/GitHub/GITHUB_TEST/%ED%8A%B9%EA%B0%95%20%EB%AC%B8%EC%A0%9C%20%ED%92%80%EC%9D%B4%201%ED%9A%8C%EC%B0%A8/%EC%97%B0%EC%8A%B5.ipynb#ch0000224?line=2'>3</a>\u001b[0m a\u001b[39m.\u001b[39mlife()\n",
      "\u001b[1;31mTypeError\u001b[0m: Warrior.__init__() missing 1 required positional argument: 'life'"
     ]
    }
   ],
   "source": [
    "a = Warrior()\n",
    "b = Wizard()\n",
    "a.life()"
   ]
  },
  {
   "cell_type": "code",
   "execution_count": null,
   "metadata": {},
   "outputs": [],
   "source": []
  }
 ],
 "metadata": {
  "interpreter": {
   "hash": "ddbee94c2ce3b61c3b1774ea67d55f2fdae8c29319837f6f09ba2209f9564fc6"
  },
  "kernelspec": {
   "display_name": "Python 3.10.2 64-bit",
   "language": "python",
   "name": "python3"
  },
  "language_info": {
   "codemirror_mode": {
    "name": "ipython",
    "version": 3
   },
   "file_extension": ".py",
   "mimetype": "text/x-python",
   "name": "python",
   "nbconvert_exporter": "python",
   "pygments_lexer": "ipython3",
   "version": "3.10.2"
  },
  "orig_nbformat": 4
 },
 "nbformat": 4,
 "nbformat_minor": 2
}
