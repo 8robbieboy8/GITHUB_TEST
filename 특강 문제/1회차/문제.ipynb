{
 "cells": [
  {
   "cell_type": "markdown",
   "metadata": {},
   "source": [
    "1번 문제\n",
    "========\n",
    "1. num_1 폴더의 uriage 파일을 pandas를 이용하여 데이터프레임으로 불러온다. \n",
    "2. purchase_date 컬럼의 데이터 타입을 datetime을 변경한다. \n",
    "3. item_name 컬럼의 값을 대문자로 변경한다. \n",
    "4. item_name 컬럼의 공백을 지워준다. \n",
    "    * str - replace 해준다.\n",
    "\n",
    "5. item_name 컬럼을 기준으로 오름차순 정렬한다. \n",
    "6. 데이터의 결측치가 존재하는지 확인한다. \n",
    "7. item_price 컬럼의 결측치의 값을 해당하는 item_name의 맥스값으로 치환하여 준다. "
   ]
  },
  {
   "cell_type": "code",
   "execution_count": null,
   "metadata": {},
   "outputs": [],
   "source": [
    "# 1번 문제\n",
    "import os\n",
    "import pandas as pd\n",
    "\n",
    "path = \"./num_2/\"\n",
    "file_list = os.listdir(path)\n",
    "file_list_py = [file for file in file_list if file.endswith(\".csv\")]\n",
    "\n",
    "df_list = []\n",
    "for i in file_list_py :\n",
    "    data = pd.read_csv(path + i)\n",
    "    globals()[\"df_\" + str(i)[:-4]] = pd.DataFrame(data)\n",
    "    names = \"df_\" + str(i)[:-4]\n",
    "    df_list.append(names)"
   ]
  },
  {
   "cell_type": "code",
   "execution_count": null,
   "metadata": {},
   "outputs": [],
   "source": [
    "# 7번 문제\n",
    "uriage_max = uriage_df.groupby(\"item_name\").max(\"item_price\")\n",
    "price_dict = uriage_max[\"item_price\"].to_dict()\n",
    "\n",
    "for i, dt in enumerate(uriage_df[\"item_price\"]) :\n",
    "    k = price_dict[uriage_df[\"item_name\"].iloc[i]]\n",
    "    if dt == pd.notnull :\n",
    "        continue\n",
    "    else :\n",
    "        uriage_df[\"item_price\"].iloc[i] = k"
   ]
  },
  {
   "cell_type": "code",
   "execution_count": null,
   "metadata": {},
   "outputs": [],
   "source": [
    "# num.columns.values[1] = 'ITEM_NAME'\n",
    "# num.rename(columns={'purchase_date' : 'datetime'}, inplace= True)\n",
    "\n",
    "# capitals = name.applymap(str.upper) #일괄 대문자 변경\n",
    "# capitals\n",
    "\n",
    "# df.columns = [x.upper() for x in df.colunms]\n",
    "\n",
    "# df_sample.columns.values\n",
    "\n",
    "# df_s = df.sort_values(by=[\"c1\"], ascending=[True]) \n",
    "# display_side_by_side(df, df_s)\n",
    "\n",
    "# uriage_data['item_']\n"
   ]
  },
  {
   "cell_type": "code",
   "execution_count": 2,
   "metadata": {},
   "outputs": [
    {
     "data": {
      "text/html": [
       "<div>\n",
       "<style scoped>\n",
       "    .dataframe tbody tr th:only-of-type {\n",
       "        vertical-align: middle;\n",
       "    }\n",
       "\n",
       "    .dataframe tbody tr th {\n",
       "        vertical-align: top;\n",
       "    }\n",
       "\n",
       "    .dataframe thead th {\n",
       "        text-align: right;\n",
       "    }\n",
       "</style>\n",
       "<table border=\"1\" class=\"dataframe\">\n",
       "  <thead>\n",
       "    <tr style=\"text-align: right;\">\n",
       "      <th></th>\n",
       "      <th>index</th>\n",
       "      <th>datetime</th>\n",
       "      <th>ITEM_NAME</th>\n",
       "      <th>item_price</th>\n",
       "      <th>customer_name</th>\n",
       "    </tr>\n",
       "  </thead>\n",
       "  <tbody>\n",
       "    <tr>\n",
       "      <th>0</th>\n",
       "      <td>51</td>\n",
       "      <td>2019-01-02 13:26</td>\n",
       "      <td>상 품 n</td>\n",
       "      <td>1400.0</td>\n",
       "      <td>김범준</td>\n",
       "    </tr>\n",
       "    <tr>\n",
       "      <th>1</th>\n",
       "      <td>180</td>\n",
       "      <td>2019-03-02 15:38</td>\n",
       "      <td>상품 E</td>\n",
       "      <td>500.0</td>\n",
       "      <td>김시율</td>\n",
       "    </tr>\n",
       "    <tr>\n",
       "      <th>2</th>\n",
       "      <td>107</td>\n",
       "      <td>2019-03-02 1:53</td>\n",
       "      <td>상품 M</td>\n",
       "      <td>1300.0</td>\n",
       "      <td>김동건</td>\n",
       "    </tr>\n",
       "    <tr>\n",
       "      <th>3</th>\n",
       "      <td>161</td>\n",
       "      <td>2019-03-04 16:39</td>\n",
       "      <td>상품 P</td>\n",
       "      <td>1600.0</td>\n",
       "      <td>김승윤</td>\n",
       "    </tr>\n",
       "    <tr>\n",
       "      <th>4</th>\n",
       "      <td>106</td>\n",
       "      <td>2019-05-03 1:15</td>\n",
       "      <td>상품 S</td>\n",
       "      <td>1900.0</td>\n",
       "      <td>김동현</td>\n",
       "    </tr>\n",
       "    <tr>\n",
       "      <th>...</th>\n",
       "      <td>...</td>\n",
       "      <td>...</td>\n",
       "      <td>...</td>\n",
       "      <td>...</td>\n",
       "      <td>...</td>\n",
       "    </tr>\n",
       "    <tr>\n",
       "      <th>2994</th>\n",
       "      <td>1499</td>\n",
       "      <td>2019-04-24 14:12</td>\n",
       "      <td>상품s</td>\n",
       "      <td>1900.0</td>\n",
       "      <td>김현성</td>\n",
       "    </tr>\n",
       "    <tr>\n",
       "      <th>2995</th>\n",
       "      <td>1524</td>\n",
       "      <td>2019-02-28 15:15</td>\n",
       "      <td>상품t</td>\n",
       "      <td>2000.0</td>\n",
       "      <td>김성민</td>\n",
       "    </tr>\n",
       "    <tr>\n",
       "      <th>2996</th>\n",
       "      <td>1336</td>\n",
       "      <td>2019-02-18 8:16</td>\n",
       "      <td>상품v</td>\n",
       "      <td>2200.0</td>\n",
       "      <td>김연호</td>\n",
       "    </tr>\n",
       "    <tr>\n",
       "      <th>2997</th>\n",
       "      <td>2031</td>\n",
       "      <td>2019-06-05 13:37</td>\n",
       "      <td>상품x</td>\n",
       "      <td>2400.0</td>\n",
       "      <td>김수민</td>\n",
       "    </tr>\n",
       "    <tr>\n",
       "      <th>2998</th>\n",
       "      <td>26</td>\n",
       "      <td>2019-05-16 4:45</td>\n",
       "      <td>상품y</td>\n",
       "      <td>2500.0</td>\n",
       "      <td>김태현</td>\n",
       "    </tr>\n",
       "  </tbody>\n",
       "</table>\n",
       "<p>2999 rows × 5 columns</p>\n",
       "</div>"
      ],
      "text/plain": [
       "      index          datetime ITEM_NAME item_price customer_name\n",
       "0        51  2019-01-02 13:26     상 품 n     1400.0           김범준\n",
       "1       180  2019-03-02 15:38      상품 E      500.0           김시율\n",
       "2       107   2019-03-02 1:53      상품 M     1300.0           김동건\n",
       "3       161  2019-03-04 16:39      상품 P     1600.0           김승윤\n",
       "4       106   2019-05-03 1:15      상품 S     1900.0           김동현\n",
       "...     ...               ...       ...        ...           ...\n",
       "2994   1499  2019-04-24 14:12       상품s     1900.0           김현성\n",
       "2995   1524  2019-02-28 15:15       상품t     2000.0           김성민\n",
       "2996   1336   2019-02-18 8:16       상품v     2200.0           김연호\n",
       "2997   2031  2019-06-05 13:37       상품x     2400.0           김수민\n",
       "2998     26   2019-05-16 4:45       상품y     2500.0           김태현\n",
       "\n",
       "[2999 rows x 5 columns]"
      ]
     },
     "execution_count": 2,
     "metadata": {},
     "output_type": "execute_result"
    }
   ],
   "source": [
    "import pandas as pd \n",
    "\n",
    "uri = pd.read_csv('./num_1/uriage.csv')\n",
    "uri_1 = uri.rename(columns={'purchase_date' : 'datetime'})\n",
    "uri_2 = uri_1.sort_values('item_name')\n",
    "uri_2.columns.values[1] = 'ITEM_NAME'\n",
    "uri_2.isna().sum()\n",
    "uri_3 = uri_2.fillna('max')\n",
    "uri_3.reset_index(inplace=True)\n",
    "uri_3\n",
    "\n",
    "# flg_is_null = uriage_data['item_price'].isnull()\n",
    "# for trg in list(uriage_data.loc[flg_is_null, 'item_name'].unique()):\n",
    "#     price = uriage_data. "
   ]
  },
  {
   "cell_type": "markdown",
   "metadata": {},
   "source": [
    "2번 문제 \n",
    "===========\n",
    "\n",
    "1. num_2 폴더 내에 있는 csv 파일을 모두 데이터프렘으로 불러온다. \n",
    "2. transaction_1과 transaction_2를 유니언 결합을 한다. \n",
    "3. transaction_detail_1과 transaction_detail_2를 유니언 결합을 한다. \n",
    "4. 2,3 번의 데이터프레임의 값을 조인 결합을 한다. \n",
    "5. 4번 작업한 데이터프레임을 customer_master, item_master 와 조인 결합한다. \n",
    "6. quantity와 item_price의 곱한 값으로 price라는 컬럼을 생성한다. \n",
    "7. payment_date컬럼의 데이터형태를 datetime으로 변경한다. \n",
    "8. payment_date값의 년 월값만 추출하여 payment_month 컬럼을 생성한다. \n",
    "9. groupby를 이용하여 월별, 상품별 price와 quantity의 합계를 출력한다. \n"
   ]
  },
  {
   "cell_type": "code",
   "execution_count": null,
   "metadata": {},
   "outputs": [],
   "source": [
    "cu = pd.read_csv('./num_2/customer_master.csv')\n",
    "item = pd.read_csv('./num_2/customer_master.csv')\n",
    "t_1 = pd.read_csv('./num_2/customer_master.csv')\n",
    "t_2 = pd.read_csv('./num_2/customer_master.csv')\n",
    "t_3 = pd.read_csv('./num_2/customer_master.csv')\n",
    "t_4 = pd.read_csv('./num_2/customer_master.csv')"
   ]
  },
  {
   "cell_type": "markdown",
   "metadata": {},
   "source": [
    "3번 문제\n",
    "==========\n",
    "\n",
    "1. num_3 폴더내의 drink 파일을 데이터프레임으로 불러온다. \n",
    "2. 대륙 컬럼인 continent 결측 데이터를 OT로 지정한다. \n",
    "3. 대륙별 spirit_servings의 평균, 최소, 최대, 합계를 계산한다. \n",
    "4. 전체 평균보다 많은 알코올 섭취하는 대륙을 구한다. \n",
    "5. 3번 과정의 데이터를 바그래프를 이용하여 시각화 한다. \n",
    "\n",
    "어디안에 어디것을 쓴다. "
   ]
  },
  {
   "cell_type": "code",
   "execution_count": null,
   "metadata": {},
   "outputs": [],
   "source": [
    "# 4번 문제\n",
    "group_mean = df_drinks.groupby(\"continent\")[\"spirit_servings\"].mean()\n",
    "group_mean[group_mean>describe[\"mean\"]]"
   ]
  },
  {
   "cell_type": "code",
   "execution_count": null,
   "metadata": {},
   "outputs": [],
   "source": [
    "import plotly.express as px\n",
    "\n",
    "df_describe = pd.DataFrame(describe)\n",
    "fig = px.bar(df_describe[[\"mean\", \"min\", \"max\", \"sum\"]].T, text_auto=True, barmode=\"group\")\n",
    "fig.show()"
   ]
  },
  {
   "cell_type": "code",
   "execution_count": 12,
   "metadata": {},
   "outputs": [
    {
     "name": "stdout",
     "output_type": "stream",
     "text": [
      "80.99 0 438 15632\n"
     ]
    }
   ],
   "source": [
    "import matplotlib.pyplot as plt\n",
    "\n",
    "drink = pd.read_csv('./num_3/drinks.csv')\n",
    "drink_1 = drink.fillna('OT')\n",
    "drink_2 = drink_1['spirit_servings'].mean().min().max()\n",
    "mean = drink['spirit_servings'].mean().round(2)\n",
    "min = drink['spirit_servings'].min()\n",
    "max = drink['spirit_servings'].max()\n",
    "sum = drink['spirit_servings'].sum()\n",
    "\n",
    "\n",
    "if i in drink \n",
    "\n",
    "# uri_3 = uri_2.fillna('max')\n",
    "# drink['continent'].fillna(OT)\n",
    "print(mean, min, max, sum)\n",
    "# \n",
    "# \n",
    "# \n",
    "\n"
   ]
  },
  {
   "cell_type": "code",
   "execution_count": null,
   "metadata": {},
   "outputs": [],
   "source": []
  }
 ],
 "metadata": {
  "interpreter": {
   "hash": "ddbee94c2ce3b61c3b1774ea67d55f2fdae8c29319837f6f09ba2209f9564fc6"
  },
  "kernelspec": {
   "display_name": "Python 3.10.2 64-bit",
   "language": "python",
   "name": "python3"
  },
  "language_info": {
   "codemirror_mode": {
    "name": "ipython",
    "version": 3
   },
   "file_extension": ".py",
   "mimetype": "text/x-python",
   "name": "python",
   "nbconvert_exporter": "python",
   "pygments_lexer": "ipython3",
   "version": "3.10.2"
  },
  "orig_nbformat": 4
 },
 "nbformat": 4,
 "nbformat_minor": 2
}
