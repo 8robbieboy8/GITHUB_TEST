{
 "cells": [
  {
   "cell_type": "markdown",
   "id": "076ad051",
   "metadata": {
    "id": "076ad051"
   },
   "source": [
    "# Pandas"
   ]
  },
  {
   "cell_type": "markdown",
   "id": "2a4714f0",
   "metadata": {
    "ExecuteTime": {
     "end_time": "2022-04-20T03:51:07.217787Z",
     "start_time": "2022-04-20T03:51:07.212833Z"
    },
    "id": "2a4714f0"
   },
   "source": [
    "### pandas 이용해서 데이터 만들기, 빈데이터에 추가하기, 데이터 합치기"
   ]
  },
  {
   "cell_type": "code",
   "execution_count": 23,
   "id": "53668a52",
   "metadata": {
    "ExecuteTime": {
     "end_time": "2022-04-21T12:45:23.746497Z",
     "start_time": "2022-04-21T12:45:23.290736Z"
    },
    "colab": {
     "base_uri": "https://localhost:8080/"
    },
    "executionInfo": {
     "elapsed": 593,
     "status": "ok",
     "timestamp": 1650524521425,
     "user": {
      "displayName": "Mark K",
      "userId": "03340535256939132196"
     },
     "user_tz": -540
    },
    "id": "53668a52",
    "outputId": "2657f382-507a-43d5-cb3f-bc22fe852a8f"
   },
   "outputs": [
    {
     "name": "stdout",
     "output_type": "stream",
     "text": [
      "1번째 방법\n",
      "      종목코드    종목명   현재가\n",
      "0  037730     3R  1510\n",
      "1  036360  3SOFT  1790\n",
      "2  005760   ACTS  1185\n",
      "\n",
      "2번째 방법\n",
      "      종목코드    종목명   현재가\n",
      "0  037730     3R  1510\n",
      "1  036360  3SOFT  1790\n",
      "2  005760   ACTS  1185\n",
      "\n",
      "3번째 방법\n",
      "           종목명   현재가   등락률\n",
      "종목코드                     \n",
      "037730     3R  1510  7.36\n",
      "036360  3SOFT  1790  1.65\n",
      "005760   ACTS  1185  1.28\n",
      "\n",
      "4번째 Series 사용 방법\n",
      "           종목명   현재가   등락률\n",
      "066570     3R  1510  7.36\n",
      "036360  3SOFT  1790  1.65\n",
      "005760   ACTS  1185  1.28\n",
      "\n",
      "5번째 append 사용 방법\n",
      "      종목명   현재가  등락률    종목코드\n",
      "0     3R  1510  NaN  037730\n",
      "1  3SOFT  1790  NaN  036360\n",
      "2   ACTS  1185  NaN  005760\n",
      "\n",
      "6번째 concat axis=0 일때 방법\n",
      "      종목코드    종목명   현재가\n",
      "0  037730     3R  1510\n",
      "0  036360  3SOFT  1790\n",
      "1  005760   ACTS  1185\n",
      "\n",
      "6번째 concat axis=1 일때 방법\n",
      "      종목코드  종목명     현재가    종목코드    종목명   현재가\n",
      "0  037730   3R  1510.0  036360  3SOFT  1790\n",
      "1     NaN  NaN     NaN  005760   ACTS  1185\n",
      "\n",
      "7번째 merge 방법 \n",
      "      종목코드    종목명   현재가\n",
      "0  037730     3R  1510\n",
      "1  036360  3SOFT  1790\n",
      "2  005760   ACTS  1185\n"
     ]
    },
    {
     "name": "stderr",
     "output_type": "stream",
     "text": [
      "C:\\Users\\spaceastonomy\\AppData\\Local\\Temp\\ipykernel_11840\\3678706867.py:42: FutureWarning: The frame.append method is deprecated and will be removed from pandas in a future version. Use pandas.concat instead.\n",
      "  df_s = df_s.append(s)\n",
      "C:\\Users\\spaceastonomy\\AppData\\Local\\Temp\\ipykernel_11840\\3678706867.py:47: FutureWarning: The frame.append method is deprecated and will be removed from pandas in a future version. Use pandas.concat instead.\n",
      "  df4 = df4.append({'종목코드' :'037730','종목명': '3R' ,'현재가': 1510 },ignore_index=True)\n",
      "C:\\Users\\spaceastonomy\\AppData\\Local\\Temp\\ipykernel_11840\\3678706867.py:48: FutureWarning: The frame.append method is deprecated and will be removed from pandas in a future version. Use pandas.concat instead.\n",
      "  df4 = df4.append({'종목코드' :'036360','종목명': '3SOFT' ,'현재가': 1790 },ignore_index=True)\n",
      "C:\\Users\\spaceastonomy\\AppData\\Local\\Temp\\ipykernel_11840\\3678706867.py:49: FutureWarning: The frame.append method is deprecated and will be removed from pandas in a future version. Use pandas.concat instead.\n",
      "  df4 = df4.append({'종목코드' :'005760','종목명': 'ACTS' ,'현재가': 1185 },ignore_index=True)\n"
     ]
    }
   ],
   "source": [
    "import pandas as pd\n",
    "\n",
    "#1번째 방법\n",
    "data = {\n",
    "    '종목코드': ['037730', '036360', '005760'],\n",
    "    '종목명': ['3R', '3SOFT', 'ACTS'],\n",
    "    '현재가': [1510, 1790, 1185]\n",
    "}\n",
    "df = pd.DataFrame(data)           # DataFrame 클래스의 객체 생성 (생성자 호출)\n",
    "print(\"1번째 방법\\n\",df)\n",
    "\n",
    "#2번째 방법\n",
    "df2 = pd.DataFrame({\n",
    "    '종목코드': ['037730', '036360', '005760'],\n",
    "    '종목명': ['3R', '3SOFT', 'ACTS'],\n",
    "    '현재가': [1510, 1790, 1185]\n",
    "}) \n",
    "print(\"\\n2번째 방법\\n\",df2)\n",
    "\n",
    "# 3번째 방법\n",
    "data2 = [\n",
    "    [\"3R\", 1510, 7.36],\n",
    "    [\"3SOFT\", 1790, 1.65],\n",
    "    [\"ACTS\", 1185, 1.28],\n",
    "]\n",
    "index = [\"037730\", \"036360\", \"005760\"]\n",
    "columns = [\"종목명\", \"현재가\", \"등락률\"]\n",
    "\n",
    "df3 = pd.DataFrame(data=data2, index=index, columns=columns)\n",
    "df3.index.name = \"종목코드\"\n",
    "print(\"\\n3번째 방법\\n\",df3)\n",
    "\n",
    "##########################################\n",
    "#기존의 데이터를 합치는 방법으로 생성\n",
    "##########################################\n",
    "#4번째 Series , append 이용 방법\n",
    "df_s = pd.DataFrame(columns = df3.columns)\n",
    "s = pd.Series(data=[\"3R\", 1510,7.36], index=df3.columns)\n",
    "df_s.loc[\"066570\"] = s\n",
    "df_s.loc[\"036360\"] = [\"3SOFT\", 1790,1.65]\n",
    "s = pd.Series(data=[\"ACTS\", 1185,1.28], index=df3.columns, name=\"005760\")\n",
    "df_s = df_s.append(s)\n",
    "print(\"\\n4번째 Series 사용 방법\\n\",df_s)\n",
    "\n",
    "#5번째 append 이용 방법 \n",
    "df4 = pd.DataFrame(columns = df3.columns) # df2의 칼럼만 복사\n",
    "df4 = df4.append({'종목코드' :'037730','종목명': '3R' ,'현재가': 1510 },ignore_index=True)\n",
    "df4 = df4.append({'종목코드' :'036360','종목명': '3SOFT' ,'현재가': 1790 },ignore_index=True)\n",
    "df4 = df4.append({'종목코드' :'005760','종목명': 'ACTS' ,'현재가': 1185 },ignore_index=True)\n",
    "print(\"\\n5번째 append 사용 방법\\n\",df4)\n",
    "\n",
    "#6번째 방법 concat에 join을 넣어줘서 어느 쪽에 있는 것만 합칠 수도 있음. \n",
    "df5 = pd.DataFrame({'종목코드' :['037730'],'종목명': ['3R'] ,'현재가': [1510] })\n",
    "df6 = pd.DataFrame({'종목코드' :['036360','005760'],'종목명': ['3SOFT','ACTS'] ,'현재가': [1790 , 1185]})\n",
    "df7 = pd.concat([df5,df6], axis=0)       #행방향\n",
    "df8 = pd.concat([df5,df6], axis=1)       #열방향\n",
    "print(\"\\n6번째 concat axis=0 일때 방법\\n\",df7)\n",
    "print(\"\\n6번째 concat axis=1 일때 방법\\n\",df8)\n",
    "\n",
    "#7번째 방법 \n",
    "df9 = pd.merge(df5,df6, how='outer', left_index=False, right_index=False)\n",
    "print(\"\\n7번째 merge 방법 \\n\",df9)"
   ]
  },
  {
   "cell_type": "markdown",
   "id": "6ba7c856",
   "metadata": {
    "id": "6ba7c856"
   },
   "source": [
    "### 인덱스 "
   ]
  },
  {
   "cell_type": "code",
   "execution_count": 24,
   "id": "7d85fb2a",
   "metadata": {
    "ExecuteTime": {
     "end_time": "2022-04-21T12:45:26.710605Z",
     "start_time": "2022-04-21T12:45:26.696644Z"
    },
    "id": "7d85fb2a",
    "outputId": "3b9ceb88-05a0-4d6c-b8f3-e0c6ccec0771"
   },
   "outputs": [
    {
     "name": "stdout",
     "output_type": "stream",
     "text": [
      "원본\n",
      "      종목코드    종목명   현재가\n",
      "0  037730     3R  1510\n",
      "1  036360  3SOFT  1790\n",
      "2  005760   ACTS  1185 \n",
      "\n",
      "index 변경후\n",
      "           종목명   현재가\n",
      "종목코드               \n",
      "037730     3R  1510\n",
      "036360  3SOFT  1790\n",
      "005760   ACTS  1185 \n",
      "\n",
      "reset 후\n",
      "      종목코드    종목명   현재가\n",
      "0  037730     3R  1510\n",
      "1  036360  3SOFT  1790\n",
      "2  005760   ACTS  1185 \n",
      "\n"
     ]
    }
   ],
   "source": [
    "print(\"원본\\n\", df9, \"\\n\")\n",
    "df9 = df9.set_index('종목코드')\n",
    "print(\"index 변경후\\n\",df9, \"\\n\")\n",
    "df9 = df9.reset_index()\n",
    "print(\"reset 후\\n\",df9,\"\\n\")"
   ]
  },
  {
   "cell_type": "markdown",
   "id": "f01a4d8e",
   "metadata": {
    "id": "f01a4d8e"
   },
   "source": [
    "### 칼럼 인덱싱, 슬라이싱"
   ]
  },
  {
   "cell_type": "code",
   "execution_count": 25,
   "id": "051c7857",
   "metadata": {
    "ExecuteTime": {
     "end_time": "2022-04-21T12:48:17.413544Z",
     "start_time": "2022-04-21T12:48:17.403577Z"
    },
    "id": "051c7857",
    "outputId": "4ca42d9e-fe87-4d28-d56a-47c7fe036f1a"
   },
   "outputs": [
    {
     "name": "stdout",
     "output_type": "stream",
     "text": [
      "종목코드\n",
      "037730    1510\n",
      "036360    1790\n",
      "005760    1185\n",
      "Name: 현재가, dtype: int64\n",
      "<class 'pandas.core.series.Series'>\n",
      "         현재가\n",
      "종목코드        \n",
      "037730  1510\n",
      "036360  1790\n",
      "005760  1185\n",
      "<class 'pandas.core.frame.DataFrame'>\n"
     ]
    }
   ],
   "source": [
    "# 종목코드에 해당하는 현재가 칼럼만 받아오기\n",
    "df9 = df9.set_index('종목코드')\n",
    "print(df9[ '현재가' ])      # 시리즈로 반환  인덱싱\n",
    "print(type(df9[ '현재가' ]))\n",
    "print(df9[ [ '현재가' ] ])    # 데이터프레임으로 반환  슬라이싱\n",
    "print(type(df9[ [ '현재가' ] ]))"
   ]
  },
  {
   "cell_type": "markdown",
   "id": "f8872218",
   "metadata": {
    "id": "f8872218"
   },
   "source": [
    "### 로우 인덱싱, 슬라이싱 (loc, iloc)\n",
    " - loc 인덱스를 기준으로 로우 데이터 추출\n",
    " - iloc 행 번호를 기준으로 로우 데이터 추출"
   ]
  },
  {
   "cell_type": "code",
   "execution_count": 45,
   "id": "f5bdfd45",
   "metadata": {
    "ExecuteTime": {
     "end_time": "2022-04-21T12:49:22.236771Z",
     "start_time": "2022-04-21T12:49:22.223807Z"
    },
    "colab": {
     "base_uri": "https://localhost:8080/"
    },
    "executionInfo": {
     "elapsed": 266,
     "status": "ok",
     "timestamp": 1650798548457,
     "user": {
      "displayName": "서명교",
      "userId": "11730583039526359700"
     },
     "user_tz": -540
    },
    "id": "f5bdfd45",
    "outputId": "c9372a8e-39fb-4a2a-916b-67f02b580073"
   },
   "outputs": [
    {
     "name": "stdout",
     "output_type": "stream",
     "text": [
      "인덱싱\n",
      "loc\n",
      " 종목명      3R\n",
      "현재가    1510\n",
      "등락률    7.36\n",
      "Name: 037730, dtype: object\n",
      "\n",
      "iloc\n",
      " 종목명      3R\n",
      "현재가    1510\n",
      "등락률    7.36\n",
      "Name: 037730, dtype: object\n",
      "\n",
      "슬라이싱\n",
      "loc\n",
      "           종목명   현재가   등락률\n",
      "037730     3R  1510  7.36\n",
      "036360  3SOFT  1790  1.65\n",
      "\n",
      "iloc\n",
      "           종목명   현재가   등락률\n",
      "037730     3R  1510  7.36\n",
      "036360  3SOFT  1790  1.65\n"
     ]
    }
   ],
   "source": [
    "data = [\n",
    "    [\"3R\", 1510, 7.36],\n",
    "    [\"3SOFT\", 1790, 1.65],\n",
    "    [\"ACTS\", 1185, 1.28]\n",
    "]\n",
    "\n",
    "index = [\"037730\", \"036360\", \"005760\"]\n",
    "columns = [\"종목명\", \"현재가\", \"등락률\"]\n",
    "df = pd.DataFrame(data=data, index=index, columns=columns)\n",
    "# 인덱싱\n",
    "print(\"인덱싱\\nloc\\n\",df.loc[\"037730\"])\n",
    "print(\"\\niloc\\n\",df.iloc[ 0 ])\n",
    "\n",
    "#슬라이싱\n",
    "print(\"\\n슬라이싱\\nloc\\n\",df.loc[ [ \"037730\", \"036360\" ] ])\n",
    "print(\"\\niloc\\n\",df.iloc[ [ 0, 1 ] ])"
   ]
  },
  {
   "cell_type": "markdown",
   "id": "1e0282ee",
   "metadata": {
    "id": "1e0282ee"
   },
   "source": [
    "# ========================================================"
   ]
  },
  {
   "cell_type": "markdown",
   "id": "089978a6",
   "metadata": {},
   "source": [
    "# 같이 사용가능\n",
    "# 행 번호로 행 선택 후 시리즈 인덱싱 \n",
    "* print(df.iloc[0].iloc[1])               # 시리즈 행 번호\n",
    "* print(df.iloc[0][1])\n",
    "* print(df.iloc[0].loc[\"현재가\"])         # 시리즈 인덱스 \n",
    "* print(df.iloc[0][\"현재가\"])            # 시리즈 인덱스\n",
    "* print(df.iloc[0, 1])\n",
    "\n",
    "# 인덱스로 행 선택 후 시리즈 인덱싱 \n",
    "* print(df.loc[\"037730\"].iloc[1])        # 시리즈 행 번호\n",
    "* print(df.loc[\"037730\"].loc[\"현재가\"])  # 시리즈 인덱스 \n",
    "* print(df.loc[\"037730\"][\"현재가\"])     # 시리즈 인덱스\n",
    "* print(df.loc[\"037730\", \"현재가\"])\n",
    "* print(df[\"현재가\"][\"037730\"])"
   ]
  },
  {
   "cell_type": "code",
   "execution_count": 27,
   "id": "fedf8044",
   "metadata": {
    "ExecuteTime": {
     "end_time": "2022-04-21T03:34:16.736010Z",
     "start_time": "2022-04-21T03:34:16.727032Z"
    },
    "colab": {
     "base_uri": "https://localhost:8080/"
    },
    "executionInfo": {
     "elapsed": 343,
     "status": "ok",
     "timestamp": 1650798552873,
     "user": {
      "displayName": "서명교",
      "userId": "11730583039526359700"
     },
     "user_tz": -540
    },
    "id": "fedf8044",
    "outputId": "6e7d516b-81d2-4204-9bec-f204bd8c8864"
   },
   "outputs": [
    {
     "name": "stdout",
     "output_type": "stream",
     "text": [
      "1510\n",
      "1510\n",
      "1510\n",
      "1510\n",
      "1510\n",
      "1510\n",
      "1510\n",
      "1510\n",
      "1510\n",
      "1510\n"
     ]
    }
   ],
   "source": [
    "# 같이 사용가능\n",
    "# 행 번호로 행 선택 후 시리즈 인덱싱 \n",
    "print(df.iloc[0].iloc[1])               # 시리즈 행 번호\n",
    "print(df.iloc[0][1])\n",
    "print(df.iloc[0].loc[\"현재가\"])         # 시리즈 인덱스 \n",
    "print(df.iloc[0][\"현재가\"])            # 시리즈 인덱스\n",
    "print(df.iloc[0, 1])\n",
    "\n",
    "# 인덱스로 행 선택 후 시리즈 인덱싱 \n",
    "print(df.loc[\"037730\"].iloc[1])        # 시리즈 행 번호\n",
    "print(df.loc[\"037730\"].loc[\"현재가\"])  # 시리즈 인덱스 \n",
    "print(df.loc[\"037730\"][\"현재가\"])     # 시리즈 인덱스\n",
    "print(df.loc[\"037730\", \"현재가\"])\n",
    "print(df[\"현재가\"][\"037730\"])"
   ]
  },
  {
   "cell_type": "code",
   "execution_count": 28,
   "id": "d1c8df03",
   "metadata": {
    "ExecuteTime": {
     "end_time": "2022-04-21T03:31:52.888654Z",
     "start_time": "2022-04-21T03:31:52.872712Z"
    },
    "colab": {
     "base_uri": "https://localhost:8080/"
    },
    "executionInfo": {
     "elapsed": 269,
     "status": "ok",
     "timestamp": 1650798557882,
     "user": {
      "displayName": "서명교",
      "userId": "11730583039526359700"
     },
     "user_tz": -540
    },
    "id": "d1c8df03",
    "outputId": "5043d0d0-352e-4bf4-e3c6-85d9af28f439"
   },
   "outputs": [
    {
     "name": "stdout",
     "output_type": "stream",
     "text": [
      "         종목명   현재가\n",
      "037730    3R  1510\n",
      "005760  ACTS  1185\n",
      "          종목명   현재가\n",
      "037730     3R  1510\n",
      "036360  3SOFT  1790\n"
     ]
    }
   ],
   "source": [
    "# 특정행 가져오기\n",
    "print(df.iloc[[0, 2], [0, 1]])\n",
    "print(df.loc[[\"037730\", \"036360\"], [\"종목명\", \"현재가\"]])"
   ]
  },
  {
   "cell_type": "code",
   "execution_count": 46,
   "id": "34ff3428",
   "metadata": {
    "ExecuteTime": {
     "end_time": "2022-04-21T03:31:52.909598Z",
     "start_time": "2022-04-21T03:31:52.890648Z"
    },
    "colab": {
     "base_uri": "https://localhost:8080/"
    },
    "executionInfo": {
     "elapsed": 251,
     "status": "ok",
     "timestamp": 1650798560363,
     "user": {
      "displayName": "서명교",
      "userId": "11730583039526359700"
     },
     "user_tz": -540
    },
    "id": "34ff3428",
    "outputId": "38fb20f9-99d6-4840-96e6-fd80093610d2"
   },
   "outputs": [
    {
     "name": "stdout",
     "output_type": "stream",
     "text": [
      "          종목명   현재가   등락률\n",
      "037730     3R  1510  7.36\n",
      "036360  3SOFT  1790  1.65 \n",
      "\n",
      "          종목명   현재가   등락률\n",
      "037730     3R  1510  7.36\n",
      "036360  3SOFT  1790  1.65 \n",
      "\n",
      "         종목명   현재가   등락률\n",
      "005760  ACTS  1185  1.28\n"
     ]
    }
   ],
   "source": [
    "# 1500 이상의 값만 받아오기\n",
    "temp = df['현재가'] >= 1500\n",
    "print(df.loc[temp],\"\\n\")\n",
    "print(df.loc[df['현재가'] >= 1500],\"\\n\")\n",
    "\n",
    "print(df.loc[~temp])"
   ]
  },
  {
   "cell_type": "code",
   "execution_count": 30,
   "id": "0b3f8f57",
   "metadata": {
    "ExecuteTime": {
     "end_time": "2022-04-21T03:31:52.923561Z",
     "start_time": "2022-04-21T03:31:52.912602Z"
    },
    "colab": {
     "base_uri": "https://localhost:8080/"
    },
    "executionInfo": {
     "elapsed": 270,
     "status": "ok",
     "timestamp": 1650798579165,
     "user": {
      "displayName": "서명교",
      "userId": "11730583039526359700"
     },
     "user_tz": -540
    },
    "id": "0b3f8f57",
    "outputId": "3103cef5-6ccb-4281-80ff-74bf255683b4"
   },
   "outputs": [
    {
     "name": "stdout",
     "output_type": "stream",
     "text": [
      "037730    1510\n",
      "036360    1790\n",
      "Name: 현재가, dtype: int64\n",
      "037730    1510\n",
      "036360    1790\n",
      "Name: 현재가, dtype: int64\n"
     ]
    }
   ],
   "source": [
    "# 현재가만 받아오기\n",
    "print(df.loc[temp][\"현재가\"])\n",
    "print(df.loc[temp, \"현재가\"])"
   ]
  },
  {
   "cell_type": "code",
   "execution_count": 31,
   "id": "0167a1e3",
   "metadata": {
    "ExecuteTime": {
     "end_time": "2022-04-21T03:31:52.942508Z",
     "start_time": "2022-04-21T03:31:52.925555Z"
    },
    "colab": {
     "base_uri": "https://localhost:8080/"
    },
    "executionInfo": {
     "elapsed": 301,
     "status": "ok",
     "timestamp": 1650798809436,
     "user": {
      "displayName": "서명교",
      "userId": "11730583039526359700"
     },
     "user_tz": -540
    },
    "id": "0167a1e3",
    "outputId": "fedd55b1-9e63-4d41-a16e-f40803063d65"
   },
   "outputs": [
    {
     "name": "stdout",
     "output_type": "stream",
     "text": [
      "==== 데이터 어떻게 나오는지 확인 \n",
      " 037730     True\n",
      "036360     True\n",
      "005760    False\n",
      "Name: 현재가, dtype: bool\n",
      "037730     True\n",
      "036360    False\n",
      "005760     True\n",
      "Name: 현재가, dtype: bool \n",
      "==================\n",
      "       종목명   현재가   등락률\n",
      "037730  3R  1510  7.36 \n",
      "\n",
      "       종목명   현재가   등락률\n",
      "037730  3R  1510  7.36 \n",
      "\n",
      "       종목명   현재가   등락률\n",
      "037730  3R  1510  7.36 \n",
      "\n",
      "          종목명   현재가   등락률\n",
      "036360  3SOFT  1790  1.65\n",
      "005760   ACTS  1185  1.28\n"
     ]
    }
   ],
   "source": [
    "temp = (df['현재가'] >= 1500) & (df['현재가'] < 1700)\n",
    "print(\"==== 데이터 어떻게 나오는지 확인 \\n\",df['현재가'] >= 1500)\n",
    "print(df['현재가'] < 1700,\"\\n==================\")\n",
    "\n",
    "print(df.loc[temp],\"\\n\")\n",
    "print(df.loc[(df['현재가'] >= 1500) & (df['현재가'] < 1700)],\"\\n\")\n",
    "print(df[(df['현재가'] >= 1500) & (df['현재가'] < 1700)],\"\\n\")\n",
    "\n",
    "print(df.loc[~temp])"
   ]
  },
  {
   "cell_type": "markdown",
   "id": "63f98b71",
   "metadata": {
    "id": "63f98b71"
   },
   "source": [
    "### 칼럼 추가"
   ]
  },
  {
   "cell_type": "code",
   "execution_count": 32,
   "id": "a59bb787",
   "metadata": {
    "ExecuteTime": {
     "end_time": "2022-04-21T03:31:52.955475Z",
     "start_time": "2022-04-21T03:31:52.945500Z"
    },
    "id": "a59bb787"
   },
   "outputs": [
    {
     "data": {
      "text/html": [
       "<div>\n",
       "<style scoped>\n",
       "    .dataframe tbody tr th:only-of-type {\n",
       "        vertical-align: middle;\n",
       "    }\n",
       "\n",
       "    .dataframe tbody tr th {\n",
       "        vertical-align: top;\n",
       "    }\n",
       "\n",
       "    .dataframe thead th {\n",
       "        text-align: right;\n",
       "    }\n",
       "</style>\n",
       "<table border=\"1\" class=\"dataframe\">\n",
       "  <thead>\n",
       "    <tr style=\"text-align: right;\">\n",
       "      <th></th>\n",
       "      <th>종목명</th>\n",
       "      <th>현재가</th>\n",
       "      <th>등락률</th>\n",
       "    </tr>\n",
       "  </thead>\n",
       "  <tbody>\n",
       "    <tr>\n",
       "      <th>037730</th>\n",
       "      <td>3R</td>\n",
       "      <td>1510</td>\n",
       "      <td>7.36</td>\n",
       "    </tr>\n",
       "    <tr>\n",
       "      <th>036360</th>\n",
       "      <td>3SOFT</td>\n",
       "      <td>1790</td>\n",
       "      <td>1.65</td>\n",
       "    </tr>\n",
       "    <tr>\n",
       "      <th>005760</th>\n",
       "      <td>ACTS</td>\n",
       "      <td>1185</td>\n",
       "      <td>1.28</td>\n",
       "    </tr>\n",
       "  </tbody>\n",
       "</table>\n",
       "</div>"
      ],
      "text/plain": [
       "          종목명   현재가   등락률\n",
       "037730     3R  1510  7.36\n",
       "036360  3SOFT  1790  1.65\n",
       "005760   ACTS  1185  1.28"
      ]
     },
     "execution_count": 32,
     "metadata": {},
     "output_type": "execute_result"
    }
   ],
   "source": [
    "df"
   ]
  },
  {
   "cell_type": "code",
   "execution_count": 33,
   "id": "c5720946",
   "metadata": {
    "ExecuteTime": {
     "end_time": "2022-04-21T03:31:52.973425Z",
     "start_time": "2022-04-21T03:31:52.957476Z"
    },
    "id": "c5720946"
   },
   "outputs": [
    {
     "data": {
      "text/html": [
       "<div>\n",
       "<style scoped>\n",
       "    .dataframe tbody tr th:only-of-type {\n",
       "        vertical-align: middle;\n",
       "    }\n",
       "\n",
       "    .dataframe tbody tr th {\n",
       "        vertical-align: top;\n",
       "    }\n",
       "\n",
       "    .dataframe thead th {\n",
       "        text-align: right;\n",
       "    }\n",
       "</style>\n",
       "<table border=\"1\" class=\"dataframe\">\n",
       "  <thead>\n",
       "    <tr style=\"text-align: right;\">\n",
       "      <th></th>\n",
       "      <th>종목명</th>\n",
       "      <th>현재가</th>\n",
       "      <th>등락률</th>\n",
       "      <th>비중</th>\n",
       "      <th>투입금액</th>\n",
       "      <th>보유주식수</th>\n",
       "    </tr>\n",
       "  </thead>\n",
       "  <tbody>\n",
       "    <tr>\n",
       "      <th>037730</th>\n",
       "      <td>3R</td>\n",
       "      <td>1510</td>\n",
       "      <td>7.36</td>\n",
       "      <td>33.3</td>\n",
       "      <td>33300.0</td>\n",
       "      <td>22.0</td>\n",
       "    </tr>\n",
       "    <tr>\n",
       "      <th>036360</th>\n",
       "      <td>3SOFT</td>\n",
       "      <td>1790</td>\n",
       "      <td>1.65</td>\n",
       "      <td>33.3</td>\n",
       "      <td>33300.0</td>\n",
       "      <td>19.0</td>\n",
       "    </tr>\n",
       "    <tr>\n",
       "      <th>005760</th>\n",
       "      <td>ACTS</td>\n",
       "      <td>1185</td>\n",
       "      <td>1.28</td>\n",
       "      <td>33.3</td>\n",
       "      <td>33300.0</td>\n",
       "      <td>28.0</td>\n",
       "    </tr>\n",
       "  </tbody>\n",
       "</table>\n",
       "</div>"
      ],
      "text/plain": [
       "          종목명   현재가   등락률    비중     투입금액  보유주식수\n",
       "037730     3R  1510  7.36  33.3  33300.0   22.0\n",
       "036360  3SOFT  1790  1.65  33.3  33300.0   19.0\n",
       "005760   ACTS  1185  1.28  33.3  33300.0   28.0"
      ]
     },
     "execution_count": 33,
     "metadata": {},
     "output_type": "execute_result"
    }
   ],
   "source": [
    "#round 활용 (반올림 함수)\n",
    "cash = 100000\n",
    "df['비중'] = round(100/3,1)\n",
    "df['투입금액'] = round(cash * df['비중']/100, -2)\n",
    "df['보유주식수'] = round( df['투입금액']/ df['현재가'] )\n",
    "df"
   ]
  },
  {
   "cell_type": "markdown",
   "id": "ab199d7b",
   "metadata": {
    "id": "ab199d7b"
   },
   "source": [
    "### 삭제하기"
   ]
  },
  {
   "cell_type": "code",
   "execution_count": 34,
   "id": "69479b3b",
   "metadata": {
    "ExecuteTime": {
     "end_time": "2022-04-21T03:31:52.986394Z",
     "start_time": "2022-04-21T03:31:52.975420Z"
    },
    "id": "69479b3b"
   },
   "outputs": [
    {
     "data": {
      "text/html": [
       "<div>\n",
       "<style scoped>\n",
       "    .dataframe tbody tr th:only-of-type {\n",
       "        vertical-align: middle;\n",
       "    }\n",
       "\n",
       "    .dataframe tbody tr th {\n",
       "        vertical-align: top;\n",
       "    }\n",
       "\n",
       "    .dataframe thead th {\n",
       "        text-align: right;\n",
       "    }\n",
       "</style>\n",
       "<table border=\"1\" class=\"dataframe\">\n",
       "  <thead>\n",
       "    <tr style=\"text-align: right;\">\n",
       "      <th></th>\n",
       "      <th>종목명</th>\n",
       "      <th>등락률</th>\n",
       "      <th>비중</th>\n",
       "      <th>투입금액</th>\n",
       "      <th>보유주식수</th>\n",
       "    </tr>\n",
       "  </thead>\n",
       "  <tbody>\n",
       "    <tr>\n",
       "      <th>037730</th>\n",
       "      <td>3R</td>\n",
       "      <td>7.36</td>\n",
       "      <td>33.3</td>\n",
       "      <td>33300.0</td>\n",
       "      <td>22.0</td>\n",
       "    </tr>\n",
       "    <tr>\n",
       "      <th>036360</th>\n",
       "      <td>3SOFT</td>\n",
       "      <td>1.65</td>\n",
       "      <td>33.3</td>\n",
       "      <td>33300.0</td>\n",
       "      <td>19.0</td>\n",
       "    </tr>\n",
       "    <tr>\n",
       "      <th>005760</th>\n",
       "      <td>ACTS</td>\n",
       "      <td>1.28</td>\n",
       "      <td>33.3</td>\n",
       "      <td>33300.0</td>\n",
       "      <td>28.0</td>\n",
       "    </tr>\n",
       "  </tbody>\n",
       "</table>\n",
       "</div>"
      ],
      "text/plain": [
       "          종목명   등락률    비중     투입금액  보유주식수\n",
       "037730     3R  7.36  33.3  33300.0   22.0\n",
       "036360  3SOFT  1.65  33.3  33300.0   19.0\n",
       "005760   ACTS  1.28  33.3  33300.0   28.0"
      ]
     },
     "execution_count": 34,
     "metadata": {},
     "output_type": "execute_result"
    }
   ],
   "source": [
    "df = df.drop('현재가', axis=1)\n",
    "df"
   ]
  },
  {
   "cell_type": "code",
   "execution_count": 35,
   "id": "9a34ffda",
   "metadata": {
    "ExecuteTime": {
     "end_time": "2022-04-21T03:31:53.000353Z",
     "start_time": "2022-04-21T03:31:52.987390Z"
    },
    "id": "9a34ffda"
   },
   "outputs": [
    {
     "data": {
      "text/html": [
       "<div>\n",
       "<style scoped>\n",
       "    .dataframe tbody tr th:only-of-type {\n",
       "        vertical-align: middle;\n",
       "    }\n",
       "\n",
       "    .dataframe tbody tr th {\n",
       "        vertical-align: top;\n",
       "    }\n",
       "\n",
       "    .dataframe thead th {\n",
       "        text-align: right;\n",
       "    }\n",
       "</style>\n",
       "<table border=\"1\" class=\"dataframe\">\n",
       "  <thead>\n",
       "    <tr style=\"text-align: right;\">\n",
       "      <th></th>\n",
       "      <th>종목명</th>\n",
       "      <th>등락률</th>\n",
       "      <th>비중</th>\n",
       "      <th>투입금액</th>\n",
       "      <th>보유주식수</th>\n",
       "    </tr>\n",
       "  </thead>\n",
       "  <tbody>\n",
       "    <tr>\n",
       "      <th>037730</th>\n",
       "      <td>3R</td>\n",
       "      <td>7.36</td>\n",
       "      <td>33.3</td>\n",
       "      <td>33300.0</td>\n",
       "      <td>22.0</td>\n",
       "    </tr>\n",
       "    <tr>\n",
       "      <th>036360</th>\n",
       "      <td>3SOFT</td>\n",
       "      <td>1.65</td>\n",
       "      <td>33.3</td>\n",
       "      <td>33300.0</td>\n",
       "      <td>19.0</td>\n",
       "    </tr>\n",
       "  </tbody>\n",
       "</table>\n",
       "</div>"
      ],
      "text/plain": [
       "          종목명   등락률    비중     투입금액  보유주식수\n",
       "037730     3R  7.36  33.3  33300.0   22.0\n",
       "036360  3SOFT  1.65  33.3  33300.0   19.0"
      ]
     },
     "execution_count": 35,
     "metadata": {},
     "output_type": "execute_result"
    }
   ],
   "source": [
    "df = df.drop(\"005760\", axis=0)\n",
    "df"
   ]
  },
  {
   "cell_type": "code",
   "execution_count": 36,
   "id": "a0c0fa75",
   "metadata": {
    "ExecuteTime": {
     "end_time": "2022-04-21T03:31:53.023294Z",
     "start_time": "2022-04-21T03:31:53.002349Z"
    },
    "id": "a0c0fa75"
   },
   "outputs": [
    {
     "data": {
      "text/html": [
       "<div>\n",
       "<style scoped>\n",
       "    .dataframe tbody tr th:only-of-type {\n",
       "        vertical-align: middle;\n",
       "    }\n",
       "\n",
       "    .dataframe tbody tr th {\n",
       "        vertical-align: top;\n",
       "    }\n",
       "\n",
       "    .dataframe thead th {\n",
       "        text-align: right;\n",
       "    }\n",
       "</style>\n",
       "<table border=\"1\" class=\"dataframe\">\n",
       "  <thead>\n",
       "    <tr style=\"text-align: right;\">\n",
       "      <th></th>\n",
       "      <th>종목코드</th>\n",
       "      <th>종목명</th>\n",
       "      <th>현재가</th>\n",
       "    </tr>\n",
       "  </thead>\n",
       "  <tbody>\n",
       "    <tr>\n",
       "      <th>1</th>\n",
       "      <td>037730</td>\n",
       "      <td>3R</td>\n",
       "      <td>1510</td>\n",
       "    </tr>\n",
       "    <tr>\n",
       "      <th>2</th>\n",
       "      <td>036360</td>\n",
       "      <td>3SOFT</td>\n",
       "      <td>1790</td>\n",
       "    </tr>\n",
       "    <tr>\n",
       "      <th>3</th>\n",
       "      <td>005760</td>\n",
       "      <td>ACTS</td>\n",
       "      <td>1185</td>\n",
       "    </tr>\n",
       "    <tr>\n",
       "      <th>4</th>\n",
       "      <td>000821</td>\n",
       "      <td>abc</td>\n",
       "      <td>1231</td>\n",
       "    </tr>\n",
       "    <tr>\n",
       "      <th>5</th>\n",
       "      <td>149231</td>\n",
       "      <td>bcd</td>\n",
       "      <td>5643</td>\n",
       "    </tr>\n",
       "  </tbody>\n",
       "</table>\n",
       "</div>"
      ],
      "text/plain": [
       "     종목코드    종목명   현재가\n",
       "1  037730     3R  1510\n",
       "2  036360  3SOFT  1790\n",
       "3  005760   ACTS  1185\n",
       "4  000821    abc  1231\n",
       "5  149231    bcd  5643"
      ]
     },
     "execution_count": 36,
     "metadata": {},
     "output_type": "execute_result"
    }
   ],
   "source": [
    "data123 = {\n",
    "    '종목코드': ['037730', '036360', '005760','000821','149231'],\n",
    "    '종목명': ['3R', '3SOFT', 'ACTS', 'abc','bcd'],\n",
    "    '현재가': [1510, 1790, 1185, 1231 , 5643]\n",
    "}\n",
    "index1 = [1 , 2 , 3, 4 , 5]\n",
    "df123 = pd.DataFrame(data = data123, index = index1)\n",
    "df123"
   ]
  },
  {
   "cell_type": "code",
   "execution_count": 37,
   "id": "85a70102",
   "metadata": {
    "ExecuteTime": {
     "end_time": "2022-04-21T03:31:53.039265Z",
     "start_time": "2022-04-21T03:31:53.024297Z"
    },
    "id": "85a70102"
   },
   "outputs": [
    {
     "data": {
      "text/html": [
       "<div>\n",
       "<style scoped>\n",
       "    .dataframe tbody tr th:only-of-type {\n",
       "        vertical-align: middle;\n",
       "    }\n",
       "\n",
       "    .dataframe tbody tr th {\n",
       "        vertical-align: top;\n",
       "    }\n",
       "\n",
       "    .dataframe thead th {\n",
       "        text-align: right;\n",
       "    }\n",
       "</style>\n",
       "<table border=\"1\" class=\"dataframe\">\n",
       "  <thead>\n",
       "    <tr style=\"text-align: right;\">\n",
       "      <th></th>\n",
       "      <th>종목코드</th>\n",
       "      <th>종목명</th>\n",
       "      <th>현재가</th>\n",
       "    </tr>\n",
       "  </thead>\n",
       "  <tbody>\n",
       "    <tr>\n",
       "      <th>1</th>\n",
       "      <td>037730</td>\n",
       "      <td>3R</td>\n",
       "      <td>1510</td>\n",
       "    </tr>\n",
       "    <tr>\n",
       "      <th>3</th>\n",
       "      <td>005760</td>\n",
       "      <td>ACTS</td>\n",
       "      <td>1185</td>\n",
       "    </tr>\n",
       "    <tr>\n",
       "      <th>4</th>\n",
       "      <td>000821</td>\n",
       "      <td>abc</td>\n",
       "      <td>1231</td>\n",
       "    </tr>\n",
       "    <tr>\n",
       "      <th>5</th>\n",
       "      <td>149231</td>\n",
       "      <td>bcd</td>\n",
       "      <td>5643</td>\n",
       "    </tr>\n",
       "  </tbody>\n",
       "</table>\n",
       "</div>"
      ],
      "text/plain": [
       "     종목코드   종목명   현재가\n",
       "1  037730    3R  1510\n",
       "3  005760  ACTS  1185\n",
       "4  000821   abc  1231\n",
       "5  149231   bcd  5643"
      ]
     },
     "execution_count": 37,
     "metadata": {},
     "output_type": "execute_result"
    }
   ],
   "source": [
    "df123 = df123.drop(2, axis=0) # 인덱스 2 삭제\n",
    "df123"
   ]
  },
  {
   "cell_type": "code",
   "execution_count": 38,
   "id": "0574b9b8",
   "metadata": {
    "ExecuteTime": {
     "end_time": "2022-04-21T03:31:53.056203Z",
     "start_time": "2022-04-21T03:31:53.041246Z"
    },
    "id": "0574b9b8"
   },
   "outputs": [
    {
     "data": {
      "text/html": [
       "<div>\n",
       "<style scoped>\n",
       "    .dataframe tbody tr th:only-of-type {\n",
       "        vertical-align: middle;\n",
       "    }\n",
       "\n",
       "    .dataframe tbody tr th {\n",
       "        vertical-align: top;\n",
       "    }\n",
       "\n",
       "    .dataframe thead th {\n",
       "        text-align: right;\n",
       "    }\n",
       "</style>\n",
       "<table border=\"1\" class=\"dataframe\">\n",
       "  <thead>\n",
       "    <tr style=\"text-align: right;\">\n",
       "      <th></th>\n",
       "      <th>종목코드</th>\n",
       "      <th>종목명</th>\n",
       "      <th>현재가</th>\n",
       "    </tr>\n",
       "  </thead>\n",
       "  <tbody>\n",
       "    <tr>\n",
       "      <th>3</th>\n",
       "      <td>005760</td>\n",
       "      <td>ACTS</td>\n",
       "      <td>1185</td>\n",
       "    </tr>\n",
       "    <tr>\n",
       "      <th>5</th>\n",
       "      <td>149231</td>\n",
       "      <td>bcd</td>\n",
       "      <td>5643</td>\n",
       "    </tr>\n",
       "  </tbody>\n",
       "</table>\n",
       "</div>"
      ],
      "text/plain": [
       "     종목코드   종목명   현재가\n",
       "3  005760  ACTS  1185\n",
       "5  149231   bcd  5643"
      ]
     },
     "execution_count": 38,
     "metadata": {},
     "output_type": "execute_result"
    }
   ],
   "source": [
    "drop_list = [1,4]\n",
    "df123 = df123.drop(drop_list, axis=0) \n",
    "df123"
   ]
  },
  {
   "cell_type": "markdown",
   "id": "sKThCMAq2i9f",
   "metadata": {
    "id": "sKThCMAq2i9f"
   },
   "source": [
    "### GroupBy"
   ]
  },
  {
   "cell_type": "code",
   "execution_count": 47,
   "id": "9834fea8",
   "metadata": {
    "id": "9834fea8"
   },
   "outputs": [
    {
     "data": {
      "text/html": [
       "<div>\n",
       "<style scoped>\n",
       "    .dataframe tbody tr th:only-of-type {\n",
       "        vertical-align: middle;\n",
       "    }\n",
       "\n",
       "    .dataframe tbody tr th {\n",
       "        vertical-align: top;\n",
       "    }\n",
       "\n",
       "    .dataframe thead th {\n",
       "        text-align: right;\n",
       "    }\n",
       "</style>\n",
       "<table border=\"1\" class=\"dataframe\">\n",
       "  <thead>\n",
       "    <tr style=\"text-align: right;\">\n",
       "      <th></th>\n",
       "      <th>테마</th>\n",
       "      <th>종목명</th>\n",
       "      <th>PER</th>\n",
       "      <th>PBR</th>\n",
       "    </tr>\n",
       "  </thead>\n",
       "  <tbody>\n",
       "    <tr>\n",
       "      <th>0</th>\n",
       "      <td>2차전지(생산)</td>\n",
       "      <td>SK이노베이션</td>\n",
       "      <td>10.19</td>\n",
       "      <td>1.29</td>\n",
       "    </tr>\n",
       "    <tr>\n",
       "      <th>1</th>\n",
       "      <td>해운</td>\n",
       "      <td>팬오션</td>\n",
       "      <td>21.23</td>\n",
       "      <td>0.95</td>\n",
       "    </tr>\n",
       "    <tr>\n",
       "      <th>2</th>\n",
       "      <td>시스템반도체</td>\n",
       "      <td>티엘아이</td>\n",
       "      <td>35.97</td>\n",
       "      <td>1.12</td>\n",
       "    </tr>\n",
       "    <tr>\n",
       "      <th>3</th>\n",
       "      <td>해운</td>\n",
       "      <td>HMM</td>\n",
       "      <td>21.52</td>\n",
       "      <td>3.20</td>\n",
       "    </tr>\n",
       "    <tr>\n",
       "      <th>4</th>\n",
       "      <td>시스템반도체</td>\n",
       "      <td>아이에이</td>\n",
       "      <td>37.32</td>\n",
       "      <td>3.55</td>\n",
       "    </tr>\n",
       "    <tr>\n",
       "      <th>5</th>\n",
       "      <td>2차전지(생산)</td>\n",
       "      <td>LG화학</td>\n",
       "      <td>83.06</td>\n",
       "      <td>3.75</td>\n",
       "    </tr>\n",
       "  </tbody>\n",
       "</table>\n",
       "</div>"
      ],
      "text/plain": [
       "         테마      종목명    PER   PBR\n",
       "0  2차전지(생산)  SK이노베이션  10.19  1.29\n",
       "1        해운      팬오션  21.23  0.95\n",
       "2    시스템반도체     티엘아이  35.97  1.12\n",
       "3        해운      HMM  21.52  3.20\n",
       "4    시스템반도체     아이에이  37.32  3.55\n",
       "5  2차전지(생산)     LG화학  83.06  3.75"
      ]
     },
     "execution_count": 47,
     "metadata": {},
     "output_type": "execute_result"
    }
   ],
   "source": [
    "data = [\n",
    "    [\"2차전지(생산)\", \"SK이노베이션\", 10.19, 1.29],\n",
    "    [\"해운\", \"팬오션\", 21.23, 0.95],\n",
    "    [\"시스템반도체\", \"티엘아이\", 35.97, 1.12],\n",
    "    [\"해운\", \"HMM\", 21.52, 3.20],\n",
    "    [\"시스템반도체\", \"아이에이\", 37.32, 3.55],\n",
    "    [\"2차전지(생산)\", \"LG화학\", 83.06, 3.75]\n",
    "]\n",
    "\n",
    "columns = [\"테마\", \"종목명\", \"PER\", \"PBR\"]\n",
    "df = pd.DataFrame(data=data, columns=columns)\n",
    "df1 = df[df['테마'] == \"2차전지(생산)\"]\n",
    "df2 = df[df['테마'] == \"해운\"]\n",
    "df3 = df[df['테마'] == \"시스템반도체\"]\n",
    "df"
   ]
  },
  {
   "cell_type": "markdown",
   "id": "ROdCpuNT-enA",
   "metadata": {
    "hide_input": false,
    "id": "ROdCpuNT-enA"
   },
   "source": [
    "### 문제 각 테마별로 PER 평균 구하고 해당 테마별로 시리즈에 저장해보세요."
   ]
  },
  {
   "cell_type": "code",
   "execution_count": 40,
   "id": "3cdbba8b",
   "metadata": {
    "colab": {
     "base_uri": "https://localhost:8080/"
    },
    "executionInfo": {
     "elapsed": 276,
     "status": "ok",
     "timestamp": 1650525311297,
     "user": {
      "displayName": "서명교",
      "userId": "11730583039526359700"
     },
     "user_tz": -540
    },
    "hide_input": false,
    "id": "3cdbba8b",
    "outputId": "16c5ef68-7711-400e-bece-94cb44ea6ffa"
   },
   "outputs": [
    {
     "name": "stdout",
     "output_type": "stream",
     "text": [
      "2차전지(생산)    46.625\n",
      "해운          21.375\n",
      "시스템반도체      36.645\n",
      "dtype: float64\n"
     ]
    }
   ],
   "source": [
    "mean1 = df1['PER'].mean()\n",
    "mean2 = df2['PER'].mean()   \n",
    "mean3 = df3['PER'].mean()\n",
    "\n",
    "data = [mean1, mean2, mean3]\n",
    "index = [\"2차전지(생산)\", \"해운\", \"시스템반도체\"]\n",
    "s = pd.Series(data=data, index=index)\n",
    "# ss = pd.Series({\"2차전지(생산)\":mean1, \"해운\":mean2, \"시스템반도체\":mean3})\n",
    "# print(ss)\n",
    "print(s)"
   ]
  },
  {
   "cell_type": "code",
   "execution_count": 54,
   "id": "b160872b",
   "metadata": {
    "colab": {
     "base_uri": "https://localhost:8080/"
    },
    "executionInfo": {
     "elapsed": 280,
     "status": "ok",
     "timestamp": 1650524249668,
     "user": {
      "displayName": "서명교",
      "userId": "11730583039526359700"
     },
     "user_tz": -540
    },
    "id": "b160872b",
    "outputId": "9936965b-5958-4391-99b7-a4dfbf6a1826"
   },
   "outputs": [
    {
     "data": {
      "text/html": [
       "<div>\n",
       "<style scoped>\n",
       "    .dataframe tbody tr th:only-of-type {\n",
       "        vertical-align: middle;\n",
       "    }\n",
       "\n",
       "    .dataframe tbody tr th {\n",
       "        vertical-align: top;\n",
       "    }\n",
       "\n",
       "    .dataframe thead th {\n",
       "        text-align: right;\n",
       "    }\n",
       "</style>\n",
       "<table border=\"1\" class=\"dataframe\">\n",
       "  <thead>\n",
       "    <tr style=\"text-align: right;\">\n",
       "      <th></th>\n",
       "      <th></th>\n",
       "      <th>PBR</th>\n",
       "    </tr>\n",
       "    <tr>\n",
       "      <th>테마</th>\n",
       "      <th>PER</th>\n",
       "      <th></th>\n",
       "    </tr>\n",
       "  </thead>\n",
       "  <tbody>\n",
       "    <tr>\n",
       "      <th rowspan=\"2\" valign=\"top\">2차전지(생산)</th>\n",
       "      <th>10.19</th>\n",
       "      <td>1.29</td>\n",
       "    </tr>\n",
       "    <tr>\n",
       "      <th>83.06</th>\n",
       "      <td>3.75</td>\n",
       "    </tr>\n",
       "    <tr>\n",
       "      <th rowspan=\"2\" valign=\"top\">시스템반도체</th>\n",
       "      <th>35.97</th>\n",
       "      <td>1.12</td>\n",
       "    </tr>\n",
       "    <tr>\n",
       "      <th>37.32</th>\n",
       "      <td>3.55</td>\n",
       "    </tr>\n",
       "    <tr>\n",
       "      <th rowspan=\"2\" valign=\"top\">해운</th>\n",
       "      <th>21.23</th>\n",
       "      <td>0.95</td>\n",
       "    </tr>\n",
       "    <tr>\n",
       "      <th>21.52</th>\n",
       "      <td>3.20</td>\n",
       "    </tr>\n",
       "  </tbody>\n",
       "</table>\n",
       "</div>"
      ],
      "text/plain": [
       "                 PBR\n",
       "테마       PER        \n",
       "2차전지(생산) 10.19  1.29\n",
       "         83.06  3.75\n",
       "시스템반도체   35.97  1.12\n",
       "         37.32  3.55\n",
       "해운       21.23  0.95\n",
       "         21.52  3.20"
      ]
     },
     "execution_count": 54,
     "metadata": {},
     "output_type": "execute_result"
    }
   ],
   "source": [
    "# 위 과정을 한번에\n",
    "# df.groupby(\"테마\")[\"PER\"].mean()\n",
    "df.groupby([\"테마\",\"PER\"]).mean()\n"
   ]
  },
  {
   "cell_type": "markdown",
   "id": "4I7FgrUFHGGu",
   "metadata": {
    "id": "4I7FgrUFHGGu"
   },
   "source": [
    "### DataFrame 저장"
   ]
  },
  {
   "cell_type": "markdown",
   "id": "k_AnV4bPHg7r",
   "metadata": {
    "id": "k_AnV4bPHg7r"
   },
   "source": [
    "#### CSV 파일로 저장 (csv 파일 용량이 작기 때문에 excel보다 csv확장자 사용 추천)"
   ]
  },
  {
   "cell_type": "code",
   "execution_count": 42,
   "id": "8bf79586",
   "metadata": {
    "colab": {
     "base_uri": "https://localhost:8080/",
     "height": 238
    },
    "executionInfo": {
     "elapsed": 338,
     "status": "ok",
     "timestamp": 1650799064245,
     "user": {
      "displayName": "서명교",
      "userId": "11730583039526359700"
     },
     "user_tz": -540
    },
    "id": "8bf79586",
    "outputId": "f34be046-9f53-4268-bde4-fbf93748ee62"
   },
   "outputs": [
    {
     "data": {
      "text/html": [
       "<div>\n",
       "<style scoped>\n",
       "    .dataframe tbody tr th:only-of-type {\n",
       "        vertical-align: middle;\n",
       "    }\n",
       "\n",
       "    .dataframe tbody tr th {\n",
       "        vertical-align: top;\n",
       "    }\n",
       "\n",
       "    .dataframe thead th {\n",
       "        text-align: right;\n",
       "    }\n",
       "</style>\n",
       "<table border=\"1\" class=\"dataframe\">\n",
       "  <thead>\n",
       "    <tr style=\"text-align: right;\">\n",
       "      <th></th>\n",
       "      <th>Unnamed: 0</th>\n",
       "      <th>테마</th>\n",
       "      <th>종목명</th>\n",
       "      <th>PER</th>\n",
       "      <th>PBR</th>\n",
       "    </tr>\n",
       "  </thead>\n",
       "  <tbody>\n",
       "    <tr>\n",
       "      <th>0</th>\n",
       "      <td>0</td>\n",
       "      <td>2차전지(생산)</td>\n",
       "      <td>SK이노베이션</td>\n",
       "      <td>10.19</td>\n",
       "      <td>1.29</td>\n",
       "    </tr>\n",
       "    <tr>\n",
       "      <th>1</th>\n",
       "      <td>1</td>\n",
       "      <td>해운</td>\n",
       "      <td>팬오션</td>\n",
       "      <td>21.23</td>\n",
       "      <td>0.95</td>\n",
       "    </tr>\n",
       "    <tr>\n",
       "      <th>2</th>\n",
       "      <td>2</td>\n",
       "      <td>시스템반도체</td>\n",
       "      <td>티엘아이</td>\n",
       "      <td>35.97</td>\n",
       "      <td>1.12</td>\n",
       "    </tr>\n",
       "    <tr>\n",
       "      <th>3</th>\n",
       "      <td>3</td>\n",
       "      <td>해운</td>\n",
       "      <td>HMM</td>\n",
       "      <td>21.52</td>\n",
       "      <td>3.20</td>\n",
       "    </tr>\n",
       "    <tr>\n",
       "      <th>4</th>\n",
       "      <td>4</td>\n",
       "      <td>시스템반도체</td>\n",
       "      <td>아이에이</td>\n",
       "      <td>37.32</td>\n",
       "      <td>3.55</td>\n",
       "    </tr>\n",
       "    <tr>\n",
       "      <th>5</th>\n",
       "      <td>5</td>\n",
       "      <td>2차전지(생산)</td>\n",
       "      <td>LG화학</td>\n",
       "      <td>83.06</td>\n",
       "      <td>3.75</td>\n",
       "    </tr>\n",
       "  </tbody>\n",
       "</table>\n",
       "</div>"
      ],
      "text/plain": [
       "   Unnamed: 0        테마      종목명    PER   PBR\n",
       "0           0  2차전지(생산)  SK이노베이션  10.19  1.29\n",
       "1           1        해운      팬오션  21.23  0.95\n",
       "2           2    시스템반도체     티엘아이  35.97  1.12\n",
       "3           3        해운      HMM  21.52  3.20\n",
       "4           4    시스템반도체     아이에이  37.32  3.55\n",
       "5           5  2차전지(생산)     LG화학  83.06  3.75"
      ]
     },
     "execution_count": 42,
     "metadata": {},
     "output_type": "execute_result"
    }
   ],
   "source": [
    "# CSV파일로 저장하기\n",
    "data = [\n",
    "    [\"2차전지(생산)\", \"SK이노베이션\", 10.19, 1.29],\n",
    "    [\"해운\", \"팬오션\", 21.23, 0.95],\n",
    "    [\"시스템반도체\", \"티엘아이\", 35.97, 1.12],\n",
    "    [\"해운\", \"HMM\", 21.52, 3.20],\n",
    "    [\"시스템반도체\", \"아이에이\", 37.32, 3.55],\n",
    "    [\"2차전지(생산)\", \"LG화학\", 83.06, 3.75]\n",
    "]\n",
    "columns = [\"테마\", \"종목명\", \"PER\", \"PBR\"]\n",
    "df = pd.DataFrame(data=data, columns=columns)\n",
    "\n",
    "df.to_csv(\"test.csv\",sep=',', na_rep='NaN', encoding='cp949')  # index=False, 넣어보고 차이점 비교 , seperator, delimiter (구분자)\n",
    "\"\"\"\n",
    "encoding 옵션: csv 파일에서 한글 (컬럼 혹은 내용) 읽어올 때 \n",
    "encoding='cp949' (혹은 encoding='euc-kr') 옵션 사용, 엑셀의 csv 파일 utf-8 인코딩 (유니코드) 인식 버그\n",
    "\"\"\"\n",
    "# CSV파일 읽기\n",
    "\n",
    "df1 = pd.read_csv(\"test.csv\", encoding='cp949')\n",
    "df1"
   ]
  },
  {
   "cell_type": "markdown",
   "id": "b4UoD3lcS7D2",
   "metadata": {
    "id": "b4UoD3lcS7D2"
   },
   "source": [
    "### 실습 Unnamed: 0 칼럼 이름을 number로 바꿔보고 인덱스로 변경 해보기기"
   ]
  },
  {
   "cell_type": "code",
   "execution_count": 43,
   "id": "4cWlrQjhS3_h",
   "metadata": {
    "id": "4cWlrQjhS3_h"
   },
   "outputs": [
    {
     "ename": "TypeError",
     "evalue": "'NoneType' object is not subscriptable",
     "output_type": "error",
     "traceback": [
      "\u001b[1;31m---------------------------------------------------------------------------\u001b[0m",
      "\u001b[1;31mTypeError\u001b[0m                                 Traceback (most recent call last)",
      "\u001b[1;32mc:\\Users\\spaceastonomy\\Documents\\GitHub\\GITHUB_TEST\\튜터링\\pandas_study(튜터링)2.ipynb Cell 34'\u001b[0m in \u001b[0;36m<module>\u001b[1;34m\u001b[0m\n\u001b[0;32m      <a href='vscode-notebook-cell:/c%3A/Users/spaceastonomy/Documents/GitHub/GITHUB_TEST/%ED%8A%9C%ED%84%B0%EB%A7%81/pandas_study%28%ED%8A%9C%ED%84%B0%EB%A7%81%292.ipynb#ch0000033?line=0'>1</a>\u001b[0m df1 \u001b[39m=\u001b[39m df1\u001b[39m.\u001b[39mrename(columns \u001b[39m=\u001b[39m {\u001b[39m'\u001b[39m\u001b[39mUnnamed: 0\u001b[39m\u001b[39m'\u001b[39m : \u001b[39m'\u001b[39m\u001b[39mnumber\u001b[39m\u001b[39m'\u001b[39m}, inplace \u001b[39m=\u001b[39m \u001b[39mTrue\u001b[39;00m)\n\u001b[1;32m----> <a href='vscode-notebook-cell:/c%3A/Users/spaceastonomy/Documents/GitHub/GITHUB_TEST/%ED%8A%9C%ED%84%B0%EB%A7%81/pandas_study%28%ED%8A%9C%ED%84%B0%EB%A7%81%292.ipynb#ch0000033?line=1'>2</a>\u001b[0m df1 \u001b[39m=\u001b[39m df1[\u001b[39m'\u001b[39;49m\u001b[39mnumber\u001b[39;49m\u001b[39m'\u001b[39;49m]\u001b[39m.\u001b[39mset_index()\n\u001b[0;32m      <a href='vscode-notebook-cell:/c%3A/Users/spaceastonomy/Documents/GitHub/GITHUB_TEST/%ED%8A%9C%ED%84%B0%EB%A7%81/pandas_study%28%ED%8A%9C%ED%84%B0%EB%A7%81%292.ipynb#ch0000033?line=2'>3</a>\u001b[0m df1\n",
      "\u001b[1;31mTypeError\u001b[0m: 'NoneType' object is not subscriptable"
     ]
    }
   ],
   "source": [
    "df1 = df1.rename(columns = {'Unnamed: 0' : 'number'}, inplace = True)\n",
    "# df1 = df1['number'].set_index()\n",
    "df9 = df9.set_index('종목코드') #[] ()안에 리스트를 사용하면 멀티 가능\n",
    "df1"
   ]
  },
  {
   "cell_type": "markdown",
   "id": "6x4wi9ANHrfG",
   "metadata": {
    "id": "6x4wi9ANHrfG"
   },
   "source": [
    "#### excel 파일로 저장 (파일이 커서 저장, 불러오기 데이티어가 많아 질 수록 느려진다)"
   ]
  },
  {
   "cell_type": "code",
   "execution_count": null,
   "id": "5UiY23Mumeed",
   "metadata": {
    "id": "5UiY23Mumeed"
   },
   "outputs": [],
   "source": [
    "# 엑셀로 저장하기\n",
    "\n",
    "df.to_excel(\"test.xlsx\")\n",
    "\n",
    "# 엑셀파일 읽기\n",
    "\n",
    "df = pd.read_excel(\"test.xlsx\")"
   ]
  },
  {
   "cell_type": "markdown",
   "id": "2vNU685FILcA",
   "metadata": {
    "id": "2vNU685FILcA"
   },
   "source": [
    "### pickle, html, SQLite3 DB로 저장하기 방법이 더 있지만 필요하면 google에 찾아보시면 되겠습니다."
   ]
  },
  {
   "cell_type": "markdown",
   "id": "5o8pl4pqI6w2",
   "metadata": {
    "id": "5o8pl4pqI6w2"
   },
   "source": [
    "### 시간 날짜 datetime 형식으로 바꾸기"
   ]
  },
  {
   "cell_type": "code",
   "execution_count": 56,
   "id": "_N3welixJG-x",
   "metadata": {
    "colab": {
     "base_uri": "https://localhost:8080/"
    },
    "executionInfo": {
     "elapsed": 448,
     "status": "ok",
     "timestamp": 1650875714784,
     "user": {
      "displayName": "서명교",
      "userId": "11730583039526359700"
     },
     "user_tz": -540
    },
    "id": "_N3welixJG-x",
    "outputId": "35e54049-550b-4035-d2de-e37f99684537"
   },
   "outputs": [
    {
     "name": "stdout",
     "output_type": "stream",
     "text": [
      "========전\n",
      "<class 'pandas.core.frame.DataFrame'>\n",
      "RangeIndex: 3 entries, 0 to 2\n",
      "Data columns (total 1 columns):\n",
      " #   Column  Non-Null Count  Dtype\n",
      "---  ------  --------------  -----\n",
      " 0   d       3 non-null      int64\n",
      "dtypes: int64(1)\n",
      "memory usage: 152.0 bytes\n",
      "None \n",
      "\n",
      "칼럼 d 타입 int64\n",
      "칼럼 d 타입 object\n",
      "\n",
      "변경된 date\n",
      "           d       date       date1      date2       date3\n",
      "0  20161011 2016-10-11  2016/10/11 2016-10-11  2016-10-11\n",
      "1  20171013 2017-10-13  2017/10/13 2017-10-13  2017-10-13\n",
      "2  20181031 2018-10-31  2018/10/31 2018-10-31  2018-10-31 \n",
      "\n",
      "칼럼 date 타입 datetime64[ns] \n",
      "\n",
      "========후\n",
      "<class 'pandas.core.frame.DataFrame'>\n",
      "RangeIndex: 3 entries, 0 to 2\n",
      "Data columns (total 5 columns):\n",
      " #   Column  Non-Null Count  Dtype         \n",
      "---  ------  --------------  -----         \n",
      " 0   d       3 non-null      object        \n",
      " 1   date    3 non-null      datetime64[ns]\n",
      " 2   date1   3 non-null      object        \n",
      " 3   date2   3 non-null      datetime64[ns]\n",
      " 4   date3   3 non-null      object        \n",
      "dtypes: datetime64[ns](2), object(3)\n",
      "memory usage: 248.0+ bytes\n",
      "None\n"
     ]
    }
   ],
   "source": [
    "from datetime import datetime\n",
    "df = pd.DataFrame(data=[20161011, 20171013, 20181031], columns=[\"d\"])\n",
    "print(\"========전\")\n",
    "print(df.info(),\"\\n\")\n",
    "\n",
    "print(\"칼럼 d 타입\",df[\"d\"].dtype)\n",
    "df[\"d\"] = df[\"d\"].astype(str)      # int -> str(object) 데이터 타입 변경\n",
    "print(\"칼럼 d 타입\",df[\"d\"].dtype)\n",
    "\n",
    "df[\"date\"] = df[\"d\"].str[0:4] + \"-\" + df[\"d\"].str[4:6] + \"-\" + df[\"d\"].str[6:8]\n",
    "df[\"date\"] = df[\"date\"].astype('datetime64[ns]') # str(object) -> datetime64[ns] 데이터 타입 변경\n",
    "df['date1'] = df[\"date\"].dt.strftime(\"%Y/%m/%d\") # datetime64[ns] -> str(object) 형식으로 변경\n",
    "df['date2'] = pd.to_datetime(df['date'], infer_datetime_format=True) # str(object) -> datetime64[ns] 데이터 타입 변경\n",
    "df['date3'] = df[\"date\"].dt.strftime(\"%Y-%m-%d\")\n",
    "print(\"\\n변경된 date\\n\",df,\"\\n\")\n",
    "print(\"칼럼 date 타입\",df[\"date\"].dtype,\"\\n\")\n",
    "\n",
    "print(\"========후\")\n",
    "print(df.info())"
   ]
  },
  {
   "cell_type": "code",
   "execution_count": 62,
   "id": "8f406b14",
   "metadata": {},
   "outputs": [
    {
     "data": {
      "text/html": [
       "<div>\n",
       "<style scoped>\n",
       "    .dataframe tbody tr th:only-of-type {\n",
       "        vertical-align: middle;\n",
       "    }\n",
       "\n",
       "    .dataframe tbody tr th {\n",
       "        vertical-align: top;\n",
       "    }\n",
       "\n",
       "    .dataframe thead th {\n",
       "        text-align: right;\n",
       "    }\n",
       "</style>\n",
       "<table border=\"1\" class=\"dataframe\">\n",
       "  <thead>\n",
       "    <tr style=\"text-align: right;\">\n",
       "      <th></th>\n",
       "      <th>d</th>\n",
       "      <th>date</th>\n",
       "      <th>date1</th>\n",
       "      <th>date2</th>\n",
       "      <th>date3</th>\n",
       "      <th>date4</th>\n",
       "    </tr>\n",
       "  </thead>\n",
       "  <tbody>\n",
       "    <tr>\n",
       "      <th>0</th>\n",
       "      <td>20161011</td>\n",
       "      <td>2016-10-11</td>\n",
       "      <td>2016/10/11</td>\n",
       "      <td>2016-10-11</td>\n",
       "      <td>2016-10-11</td>\n",
       "      <td>16</td>\n",
       "    </tr>\n",
       "    <tr>\n",
       "      <th>1</th>\n",
       "      <td>20171013</td>\n",
       "      <td>2017-10-13</td>\n",
       "      <td>2017/10/13</td>\n",
       "      <td>2017-10-13</td>\n",
       "      <td>2017-10-13</td>\n",
       "      <td>17</td>\n",
       "    </tr>\n",
       "    <tr>\n",
       "      <th>2</th>\n",
       "      <td>20181031</td>\n",
       "      <td>2018-10-31</td>\n",
       "      <td>2018/10/31</td>\n",
       "      <td>2018-10-31</td>\n",
       "      <td>2018-10-31</td>\n",
       "      <td>18</td>\n",
       "    </tr>\n",
       "  </tbody>\n",
       "</table>\n",
       "</div>"
      ],
      "text/plain": [
       "          d       date       date1      date2       date3 date4\n",
       "0  20161011 2016-10-11  2016/10/11 2016-10-11  2016-10-11    16\n",
       "1  20171013 2017-10-13  2017/10/13 2017-10-13  2017-10-13    17\n",
       "2  20181031 2018-10-31  2018/10/31 2018-10-31  2018-10-31    18"
      ]
     },
     "execution_count": 62,
     "metadata": {},
     "output_type": "execute_result"
    }
   ],
   "source": [
    "df['date4'] = df[\"date1\"].str[2:4]\n",
    "df"
   ]
  },
  {
   "cell_type": "code",
   "execution_count": 69,
   "id": "94H0SIUdJG5Z",
   "metadata": {
    "id": "94H0SIUdJG5Z"
   },
   "outputs": [
    {
     "name": "stdout",
     "output_type": "stream",
     "text": [
      "0   2000-01-01\n",
      "1   2000-01-02\n",
      "2   2000-01-03\n",
      "dtype: datetime64[ns]\n",
      "0   2011-01-31\n",
      "1   2011-02-28\n",
      "2   2011-03-31\n",
      "dtype: datetime64[ns]\n",
      "0    2011\n",
      "1    2012\n",
      "2    2013\n",
      "dtype: period[A-DEC]\n",
      "0    2010-12-27/2011-01-02\n",
      "1    2011-01-03/2011-01-09\n",
      "2    2011-01-10/2011-01-16\n",
      "dtype: period[W-SUN]\n",
      "0    2011-01\n",
      "1    2011-03\n",
      "2    2011-05\n",
      "dtype: period[2M]\n"
     ]
    }
   ],
   "source": [
    "# date_range나 period_range함수를 이용하면 특정기간에 대해 일정한 간격으로 데이터를 만들 수 있다.\n",
    "print(pd.Series(pd.date_range('2000', freq='D', periods=3)))\n",
    "print(pd.Series(pd.date_range('1/1/2011', freq='M', periods=3)))\n",
    "print(pd.Series(pd.period_range('1/1/2011', freq='Y', periods=3)))\n",
    "print(pd.Series(pd.period_range('1/1/2011', freq='W', periods=3)))\n",
    "print(pd.Series(pd.period_range('1/1/2011', freq='2M', periods=3)))"
   ]
  },
  {
   "cell_type": "markdown",
   "id": "0oBL8UMJNH8p",
   "metadata": {
    "id": "0oBL8UMJNH8p"
   },
   "source": [
    "### 날짜 시간 더하거나 빼기기"
   ]
  },
  {
   "cell_type": "code",
   "execution_count": 71,
   "id": "fX0wrmiIJGse",
   "metadata": {
    "id": "fX0wrmiIJGse"
   },
   "outputs": [
    {
     "name": "stdout",
     "output_type": "stream",
     "text": [
      "          d       date       date1      date2       date3 date4    date_1m  \\\n",
      "0  20161011 2016-10-11  2016/10/11 2016-10-11  2016-10-11    16 2016-11-11   \n",
      "1  20171013 2017-10-13  2017/10/13 2017-10-13  2017-10-13    17 2017-11-13   \n",
      "2  20181031 2018-10-31  2018/10/31 2018-10-31  2018-10-31    18 2018-11-30   \n",
      "\n",
      "     date_1d    date_1y  \n",
      "0 2016-10-12 2017-10-11  \n",
      "1 2017-10-14 2018-10-13  \n",
      "2 2018-11-01 2019-10-31  \n",
      "0   2016-11-11\n",
      "1   2017-11-13\n",
      "2   2018-11-30\n",
      "Name: date_1m, dtype: datetime64[ns]\n",
      "0   2016-10-12\n",
      "1   2017-10-14\n",
      "2   2018-11-01\n",
      "Name: date_1d, dtype: datetime64[ns]\n",
      "0   2017-10-11\n",
      "1   2018-10-13\n",
      "2   2019-10-31\n",
      "Name: date_1y, dtype: datetime64[ns]\n"
     ]
    }
   ],
   "source": [
    "print(df)\n",
    "df[\"date_1m\"] = df[\"date\"] + pd.DateOffset(months=1)\n",
    "print(df['date_1m'])\n",
    "df[\"date_1d\"] = df[\"date\"] + pd.DateOffset(days=1)\n",
    "print(df['date_1d'])\n",
    "df[\"date_1y\"] = df[\"date\"] + pd.DateOffset(years=1)\n",
    "print(df['date_1y'])"
   ]
  },
  {
   "cell_type": "markdown",
   "id": "MwUP5KPQNTuR",
   "metadata": {
    "id": "MwUP5KPQNTuR"
   },
   "source": [
    "### 필요한 날짜와 시간 정의 찾기"
   ]
  },
  {
   "cell_type": "code",
   "execution_count": 73,
   "id": "YWFDTZrjNUKh",
   "metadata": {
    "colab": {
     "base_uri": "https://localhost:8080/"
    },
    "executionInfo": {
     "elapsed": 283,
     "status": "ok",
     "timestamp": 1650798198055,
     "user": {
      "displayName": "서명교",
      "userId": "11730583039526359700"
     },
     "user_tz": -540
    },
    "id": "YWFDTZrjNUKh",
    "outputId": "3288835e-99ea-4993-af1e-cc2d7f787457"
   },
   "outputs": [
    {
     "data": {
      "text/plain": [
       "0    10\n",
       "1    10\n",
       "2    10\n",
       "Name: date, dtype: int64"
      ]
     },
     "execution_count": 73,
     "metadata": {},
     "output_type": "execute_result"
    }
   ],
   "source": [
    "# \"데이터프레임명[칼럼명].dt.항목명\" 과 같이 사용\n",
    "df[\"date\"].dt.year\n",
    "df[\"date\"].dt.month"
   ]
  },
  {
   "cell_type": "markdown",
   "id": "I3Vs-GNkNglc",
   "metadata": {
    "id": "I3Vs-GNkNglc"
   },
   "source": [
    "![날짜와 시간 Property](https://img1.daumcdn.net/thumb/R1280x0/?scode=mtistory2&fname=http%3A%2F%2Fcfile30.uf.tistory.com%2Fimage%2F994F8D375CD9DFA71358A8)"
   ]
  },
  {
   "cell_type": "markdown",
   "id": "byuGepY47HYl",
   "metadata": {
    "id": "byuGepY47HYl"
   },
   "source": [
    "### Merge\n",
    "- merge 함수는 두 데이터 프레임의 공통 열 혹은 인덱스를 기준으로 두 개의 테이블을 합친다.\n",
    "  이 때 기준이 되는 열, 행의 데이터를 키(key)라고 한다\n",
    "- pd.merge(df_left, df_right, how='inner', on=None)\n",
    "  두개의 데이터프레임에서 key 값의 이름이 다를 때(기준열 이름이 다를 때) left_on = ' ' ,right_on = ' '으로 \n",
    "  on= ' ' 대체 가능함\n",
    "- 조인 방식 , how(default는 inner)\n",
    "    - outer 양쪽 키값에 해당하는 값이 없어도 전체 합치기\n",
    "    - inner 양쪽에 겹치는 값만 합치기\n",
    "    - left  왼쪽 데이터프레임을 기준으로 합치기\n",
    "    - right 오른쪽 데이터프레임을 기준으로 합치기\n",
    "\n",
    "![KakaoTalk_20220421_161021807](https://user-images.githubusercontent.com/92857078/164399948-98d552b6-4e2d-4801-b0f7-a77c0f70fb26.png)\n"
   ]
  },
  {
   "cell_type": "code",
   "execution_count": 74,
   "id": "J9FjjWtnmebu",
   "metadata": {
    "colab": {
     "base_uri": "https://localhost:8080/",
     "height": 268
    },
    "executionInfo": {
     "elapsed": 294,
     "status": "ok",
     "timestamp": 1650524526393,
     "user": {
      "displayName": "Mark K",
      "userId": "03340535256939132196"
     },
     "user_tz": -540
    },
    "id": "J9FjjWtnmebu",
    "outputId": "948bb9ca-d654-4136-ee4c-57a95c249f59"
   },
   "outputs": [
    {
     "data": {
      "text/html": [
       "<div>\n",
       "<style scoped>\n",
       "    .dataframe tbody tr th:only-of-type {\n",
       "        vertical-align: middle;\n",
       "    }\n",
       "\n",
       "    .dataframe tbody tr th {\n",
       "        vertical-align: top;\n",
       "    }\n",
       "\n",
       "    .dataframe thead th {\n",
       "        text-align: right;\n",
       "    }\n",
       "</style>\n",
       "<table border=\"1\" class=\"dataframe\">\n",
       "  <thead>\n",
       "    <tr style=\"text-align: right;\">\n",
       "      <th></th>\n",
       "      <th>고객번호</th>\n",
       "      <th>이름</th>\n",
       "    </tr>\n",
       "  </thead>\n",
       "  <tbody>\n",
       "    <tr>\n",
       "      <th>0</th>\n",
       "      <td>1001</td>\n",
       "      <td>둘리</td>\n",
       "    </tr>\n",
       "    <tr>\n",
       "      <th>1</th>\n",
       "      <td>1002</td>\n",
       "      <td>도우너</td>\n",
       "    </tr>\n",
       "    <tr>\n",
       "      <th>2</th>\n",
       "      <td>1003</td>\n",
       "      <td>또치</td>\n",
       "    </tr>\n",
       "    <tr>\n",
       "      <th>3</th>\n",
       "      <td>1004</td>\n",
       "      <td>길동</td>\n",
       "    </tr>\n",
       "    <tr>\n",
       "      <th>4</th>\n",
       "      <td>1005</td>\n",
       "      <td>희동</td>\n",
       "    </tr>\n",
       "    <tr>\n",
       "      <th>5</th>\n",
       "      <td>1006</td>\n",
       "      <td>마이콜</td>\n",
       "    </tr>\n",
       "    <tr>\n",
       "      <th>6</th>\n",
       "      <td>1007</td>\n",
       "      <td>영희</td>\n",
       "    </tr>\n",
       "  </tbody>\n",
       "</table>\n",
       "</div>"
      ],
      "text/plain": [
       "   고객번호   이름\n",
       "0  1001   둘리\n",
       "1  1002  도우너\n",
       "2  1003   또치\n",
       "3  1004   길동\n",
       "4  1005   희동\n",
       "5  1006  마이콜\n",
       "6  1007   영희"
      ]
     },
     "execution_count": 74,
     "metadata": {},
     "output_type": "execute_result"
    }
   ],
   "source": [
    "df1 = pd.DataFrame({\n",
    "    '고객번호': [1001, 1002, 1003, 1004, 1005, 1006, 1007],\n",
    "    '이름': ['둘리', '도우너', '또치', '길동', '희동', '마이콜', '영희']\n",
    "}, columns=['고객번호', '이름'])\n",
    "df1"
   ]
  },
  {
   "cell_type": "code",
   "execution_count": 75,
   "id": "wk9isroumeY5",
   "metadata": {
    "colab": {
     "base_uri": "https://localhost:8080/",
     "height": 237
    },
    "executionInfo": {
     "elapsed": 303,
     "status": "ok",
     "timestamp": 1650524540896,
     "user": {
      "displayName": "Mark K",
      "userId": "03340535256939132196"
     },
     "user_tz": -540
    },
    "id": "wk9isroumeY5",
    "outputId": "ab142476-43fd-41bf-ff8d-64bb28d1b14c"
   },
   "outputs": [
    {
     "data": {
      "text/html": [
       "<div>\n",
       "<style scoped>\n",
       "    .dataframe tbody tr th:only-of-type {\n",
       "        vertical-align: middle;\n",
       "    }\n",
       "\n",
       "    .dataframe tbody tr th {\n",
       "        vertical-align: top;\n",
       "    }\n",
       "\n",
       "    .dataframe thead th {\n",
       "        text-align: right;\n",
       "    }\n",
       "</style>\n",
       "<table border=\"1\" class=\"dataframe\">\n",
       "  <thead>\n",
       "    <tr style=\"text-align: right;\">\n",
       "      <th></th>\n",
       "      <th>고객번호</th>\n",
       "      <th>금액</th>\n",
       "    </tr>\n",
       "  </thead>\n",
       "  <tbody>\n",
       "    <tr>\n",
       "      <th>0</th>\n",
       "      <td>1001</td>\n",
       "      <td>10000</td>\n",
       "    </tr>\n",
       "    <tr>\n",
       "      <th>1</th>\n",
       "      <td>1001</td>\n",
       "      <td>20000</td>\n",
       "    </tr>\n",
       "    <tr>\n",
       "      <th>2</th>\n",
       "      <td>1005</td>\n",
       "      <td>15000</td>\n",
       "    </tr>\n",
       "    <tr>\n",
       "      <th>3</th>\n",
       "      <td>1006</td>\n",
       "      <td>5000</td>\n",
       "    </tr>\n",
       "    <tr>\n",
       "      <th>4</th>\n",
       "      <td>1008</td>\n",
       "      <td>100000</td>\n",
       "    </tr>\n",
       "    <tr>\n",
       "      <th>5</th>\n",
       "      <td>1001</td>\n",
       "      <td>30000</td>\n",
       "    </tr>\n",
       "  </tbody>\n",
       "</table>\n",
       "</div>"
      ],
      "text/plain": [
       "   고객번호      금액\n",
       "0  1001   10000\n",
       "1  1001   20000\n",
       "2  1005   15000\n",
       "3  1006    5000\n",
       "4  1008  100000\n",
       "5  1001   30000"
      ]
     },
     "execution_count": 75,
     "metadata": {},
     "output_type": "execute_result"
    }
   ],
   "source": [
    "df2 = pd.DataFrame({\n",
    "    '고객번호': [1001, 1001, 1005, 1006, 1008, 1001],\n",
    "    '금액': [10000, 20000, 15000, 5000, 100000, 30000]\n",
    "}, columns=['고객번호', '금액'])\n",
    "df2"
   ]
  },
  {
   "cell_type": "code",
   "execution_count": 85,
   "id": "WDrD6w8cmeWB",
   "metadata": {
    "colab": {
     "base_uri": "https://localhost:8080/",
     "height": 206
    },
    "executionInfo": {
     "elapsed": 321,
     "status": "ok",
     "timestamp": 1650524653634,
     "user": {
      "displayName": "Mark K",
      "userId": "03340535256939132196"
     },
     "user_tz": -540
    },
    "id": "WDrD6w8cmeWB",
    "outputId": "6ea9f14c-0d60-48e4-82c0-09ffeed38dc1"
   },
   "outputs": [
    {
     "data": {
      "text/html": [
       "<div>\n",
       "<style scoped>\n",
       "    .dataframe tbody tr th:only-of-type {\n",
       "        vertical-align: middle;\n",
       "    }\n",
       "\n",
       "    .dataframe tbody tr th {\n",
       "        vertical-align: top;\n",
       "    }\n",
       "\n",
       "    .dataframe thead th {\n",
       "        text-align: right;\n",
       "    }\n",
       "</style>\n",
       "<table border=\"1\" class=\"dataframe\">\n",
       "  <thead>\n",
       "    <tr style=\"text-align: right;\">\n",
       "      <th></th>\n",
       "      <th>고객번호</th>\n",
       "      <th>이름</th>\n",
       "      <th>금액</th>\n",
       "    </tr>\n",
       "  </thead>\n",
       "  <tbody>\n",
       "    <tr>\n",
       "      <th>0</th>\n",
       "      <td>1001</td>\n",
       "      <td>둘리</td>\n",
       "      <td>10000</td>\n",
       "    </tr>\n",
       "    <tr>\n",
       "      <th>1</th>\n",
       "      <td>1001</td>\n",
       "      <td>둘리</td>\n",
       "      <td>20000</td>\n",
       "    </tr>\n",
       "    <tr>\n",
       "      <th>2</th>\n",
       "      <td>1001</td>\n",
       "      <td>둘리</td>\n",
       "      <td>30000</td>\n",
       "    </tr>\n",
       "    <tr>\n",
       "      <th>3</th>\n",
       "      <td>1005</td>\n",
       "      <td>희동</td>\n",
       "      <td>15000</td>\n",
       "    </tr>\n",
       "    <tr>\n",
       "      <th>4</th>\n",
       "      <td>1006</td>\n",
       "      <td>마이콜</td>\n",
       "      <td>5000</td>\n",
       "    </tr>\n",
       "  </tbody>\n",
       "</table>\n",
       "</div>"
      ],
      "text/plain": [
       "   고객번호   이름     금액\n",
       "0  1001   둘리  10000\n",
       "1  1001   둘리  20000\n",
       "2  1001   둘리  30000\n",
       "3  1005   희동  15000\n",
       "4  1006  마이콜   5000"
      ]
     },
     "execution_count": 85,
     "metadata": {},
     "output_type": "execute_result"
    }
   ],
   "source": [
    "'''\n",
    "merge 함수로 위의 두 데이터프레임 df1, df2 를 합치면 공통 열인 고객번호 열을 기준으로 데이터를 찾아서 합친다. \n",
    "이 때 기본적으로는 양쪽 데이터프레임에 모두 키가 존재하는 데이터만 보여주는 inner join 방식을 사용한다.\n",
    "'''\n",
    "pd.merge(df1, df2, on = '고객번호') "
   ]
  },
  {
   "cell_type": "code",
   "execution_count": 77,
   "id": "ok9kYT8ImeTK",
   "metadata": {
    "colab": {
     "base_uri": "https://localhost:8080/",
     "height": 363
    },
    "executionInfo": {
     "elapsed": 300,
     "status": "ok",
     "timestamp": 1650524788104,
     "user": {
      "displayName": "Mark K",
      "userId": "03340535256939132196"
     },
     "user_tz": -540
    },
    "id": "ok9kYT8ImeTK",
    "outputId": "b520a168-b96e-44ed-9c3e-71d3eda2194f"
   },
   "outputs": [
    {
     "data": {
      "text/html": [
       "<div>\n",
       "<style scoped>\n",
       "    .dataframe tbody tr th:only-of-type {\n",
       "        vertical-align: middle;\n",
       "    }\n",
       "\n",
       "    .dataframe tbody tr th {\n",
       "        vertical-align: top;\n",
       "    }\n",
       "\n",
       "    .dataframe thead th {\n",
       "        text-align: right;\n",
       "    }\n",
       "</style>\n",
       "<table border=\"1\" class=\"dataframe\">\n",
       "  <thead>\n",
       "    <tr style=\"text-align: right;\">\n",
       "      <th></th>\n",
       "      <th>고객번호</th>\n",
       "      <th>이름</th>\n",
       "      <th>금액</th>\n",
       "    </tr>\n",
       "  </thead>\n",
       "  <tbody>\n",
       "    <tr>\n",
       "      <th>0</th>\n",
       "      <td>1001</td>\n",
       "      <td>둘리</td>\n",
       "      <td>10000.0</td>\n",
       "    </tr>\n",
       "    <tr>\n",
       "      <th>1</th>\n",
       "      <td>1001</td>\n",
       "      <td>둘리</td>\n",
       "      <td>20000.0</td>\n",
       "    </tr>\n",
       "    <tr>\n",
       "      <th>2</th>\n",
       "      <td>1001</td>\n",
       "      <td>둘리</td>\n",
       "      <td>30000.0</td>\n",
       "    </tr>\n",
       "    <tr>\n",
       "      <th>3</th>\n",
       "      <td>1002</td>\n",
       "      <td>도우너</td>\n",
       "      <td>NaN</td>\n",
       "    </tr>\n",
       "    <tr>\n",
       "      <th>4</th>\n",
       "      <td>1003</td>\n",
       "      <td>또치</td>\n",
       "      <td>NaN</td>\n",
       "    </tr>\n",
       "    <tr>\n",
       "      <th>5</th>\n",
       "      <td>1004</td>\n",
       "      <td>길동</td>\n",
       "      <td>NaN</td>\n",
       "    </tr>\n",
       "    <tr>\n",
       "      <th>6</th>\n",
       "      <td>1005</td>\n",
       "      <td>희동</td>\n",
       "      <td>15000.0</td>\n",
       "    </tr>\n",
       "    <tr>\n",
       "      <th>7</th>\n",
       "      <td>1006</td>\n",
       "      <td>마이콜</td>\n",
       "      <td>5000.0</td>\n",
       "    </tr>\n",
       "    <tr>\n",
       "      <th>8</th>\n",
       "      <td>1007</td>\n",
       "      <td>영희</td>\n",
       "      <td>NaN</td>\n",
       "    </tr>\n",
       "    <tr>\n",
       "      <th>9</th>\n",
       "      <td>1008</td>\n",
       "      <td>NaN</td>\n",
       "      <td>100000.0</td>\n",
       "    </tr>\n",
       "  </tbody>\n",
       "</table>\n",
       "</div>"
      ],
      "text/plain": [
       "   고객번호   이름        금액\n",
       "0  1001   둘리   10000.0\n",
       "1  1001   둘리   20000.0\n",
       "2  1001   둘리   30000.0\n",
       "3  1002  도우너       NaN\n",
       "4  1003   또치       NaN\n",
       "5  1004   길동       NaN\n",
       "6  1005   희동   15000.0\n",
       "7  1006  마이콜    5000.0\n",
       "8  1007   영희       NaN\n",
       "9  1008  NaN  100000.0"
      ]
     },
     "execution_count": 77,
     "metadata": {},
     "output_type": "execute_result"
    }
   ],
   "source": [
    "# outer join 방식은 키 값이 한쪽에만 있어도 데이터를 보여준다.\n",
    "pd.merge(df1, df2, how='outer')"
   ]
  },
  {
   "cell_type": "code",
   "execution_count": 78,
   "id": "hJtZqqVg8ZIL",
   "metadata": {
    "colab": {
     "base_uri": "https://localhost:8080/",
     "height": 331
    },
    "executionInfo": {
     "elapsed": 321,
     "status": "ok",
     "timestamp": 1650524863691,
     "user": {
      "displayName": "Mark K",
      "userId": "03340535256939132196"
     },
     "user_tz": -540
    },
    "id": "hJtZqqVg8ZIL",
    "outputId": "b4b44d11-d332-4e6d-efad-cc04ad4b059a"
   },
   "outputs": [
    {
     "data": {
      "text/html": [
       "<div>\n",
       "<style scoped>\n",
       "    .dataframe tbody tr th:only-of-type {\n",
       "        vertical-align: middle;\n",
       "    }\n",
       "\n",
       "    .dataframe tbody tr th {\n",
       "        vertical-align: top;\n",
       "    }\n",
       "\n",
       "    .dataframe thead th {\n",
       "        text-align: right;\n",
       "    }\n",
       "</style>\n",
       "<table border=\"1\" class=\"dataframe\">\n",
       "  <thead>\n",
       "    <tr style=\"text-align: right;\">\n",
       "      <th></th>\n",
       "      <th>고객번호</th>\n",
       "      <th>이름</th>\n",
       "      <th>금액</th>\n",
       "    </tr>\n",
       "  </thead>\n",
       "  <tbody>\n",
       "    <tr>\n",
       "      <th>0</th>\n",
       "      <td>1001</td>\n",
       "      <td>둘리</td>\n",
       "      <td>10000.0</td>\n",
       "    </tr>\n",
       "    <tr>\n",
       "      <th>1</th>\n",
       "      <td>1001</td>\n",
       "      <td>둘리</td>\n",
       "      <td>20000.0</td>\n",
       "    </tr>\n",
       "    <tr>\n",
       "      <th>2</th>\n",
       "      <td>1001</td>\n",
       "      <td>둘리</td>\n",
       "      <td>30000.0</td>\n",
       "    </tr>\n",
       "    <tr>\n",
       "      <th>3</th>\n",
       "      <td>1002</td>\n",
       "      <td>도우너</td>\n",
       "      <td>NaN</td>\n",
       "    </tr>\n",
       "    <tr>\n",
       "      <th>4</th>\n",
       "      <td>1003</td>\n",
       "      <td>또치</td>\n",
       "      <td>NaN</td>\n",
       "    </tr>\n",
       "    <tr>\n",
       "      <th>5</th>\n",
       "      <td>1004</td>\n",
       "      <td>길동</td>\n",
       "      <td>NaN</td>\n",
       "    </tr>\n",
       "    <tr>\n",
       "      <th>6</th>\n",
       "      <td>1005</td>\n",
       "      <td>희동</td>\n",
       "      <td>15000.0</td>\n",
       "    </tr>\n",
       "    <tr>\n",
       "      <th>7</th>\n",
       "      <td>1006</td>\n",
       "      <td>마이콜</td>\n",
       "      <td>5000.0</td>\n",
       "    </tr>\n",
       "    <tr>\n",
       "      <th>8</th>\n",
       "      <td>1007</td>\n",
       "      <td>영희</td>\n",
       "      <td>NaN</td>\n",
       "    </tr>\n",
       "  </tbody>\n",
       "</table>\n",
       "</div>"
      ],
      "text/plain": [
       "   고객번호   이름       금액\n",
       "0  1001   둘리  10000.0\n",
       "1  1001   둘리  20000.0\n",
       "2  1001   둘리  30000.0\n",
       "3  1002  도우너      NaN\n",
       "4  1003   또치      NaN\n",
       "5  1004   길동      NaN\n",
       "6  1005   희동  15000.0\n",
       "7  1006  마이콜   5000.0\n",
       "8  1007   영희      NaN"
      ]
     },
     "execution_count": 78,
     "metadata": {},
     "output_type": "execute_result"
    }
   ],
   "source": [
    "# left, right 방식은 각각 첫번째, 혹은 두번째 데이터프레임의 키 값을 모두 보여준다.\n",
    "pd.merge(df1, df2, how='left')"
   ]
  },
  {
   "cell_type": "code",
   "execution_count": 79,
   "id": "K45b_fZr8rjP",
   "metadata": {
    "colab": {
     "base_uri": "https://localhost:8080/",
     "height": 237
    },
    "executionInfo": {
     "elapsed": 274,
     "status": "ok",
     "timestamp": 1650524872050,
     "user": {
      "displayName": "Mark K",
      "userId": "03340535256939132196"
     },
     "user_tz": -540
    },
    "id": "K45b_fZr8rjP",
    "outputId": "75d94fbe-0cf4-4998-e8ff-7d40bdc6286b"
   },
   "outputs": [
    {
     "data": {
      "text/html": [
       "<div>\n",
       "<style scoped>\n",
       "    .dataframe tbody tr th:only-of-type {\n",
       "        vertical-align: middle;\n",
       "    }\n",
       "\n",
       "    .dataframe tbody tr th {\n",
       "        vertical-align: top;\n",
       "    }\n",
       "\n",
       "    .dataframe thead th {\n",
       "        text-align: right;\n",
       "    }\n",
       "</style>\n",
       "<table border=\"1\" class=\"dataframe\">\n",
       "  <thead>\n",
       "    <tr style=\"text-align: right;\">\n",
       "      <th></th>\n",
       "      <th>고객번호</th>\n",
       "      <th>이름</th>\n",
       "      <th>금액</th>\n",
       "    </tr>\n",
       "  </thead>\n",
       "  <tbody>\n",
       "    <tr>\n",
       "      <th>0</th>\n",
       "      <td>1001</td>\n",
       "      <td>둘리</td>\n",
       "      <td>10000</td>\n",
       "    </tr>\n",
       "    <tr>\n",
       "      <th>1</th>\n",
       "      <td>1001</td>\n",
       "      <td>둘리</td>\n",
       "      <td>20000</td>\n",
       "    </tr>\n",
       "    <tr>\n",
       "      <th>2</th>\n",
       "      <td>1005</td>\n",
       "      <td>희동</td>\n",
       "      <td>15000</td>\n",
       "    </tr>\n",
       "    <tr>\n",
       "      <th>3</th>\n",
       "      <td>1006</td>\n",
       "      <td>마이콜</td>\n",
       "      <td>5000</td>\n",
       "    </tr>\n",
       "    <tr>\n",
       "      <th>4</th>\n",
       "      <td>1008</td>\n",
       "      <td>NaN</td>\n",
       "      <td>100000</td>\n",
       "    </tr>\n",
       "    <tr>\n",
       "      <th>5</th>\n",
       "      <td>1001</td>\n",
       "      <td>둘리</td>\n",
       "      <td>30000</td>\n",
       "    </tr>\n",
       "  </tbody>\n",
       "</table>\n",
       "</div>"
      ],
      "text/plain": [
       "   고객번호   이름      금액\n",
       "0  1001   둘리   10000\n",
       "1  1001   둘리   20000\n",
       "2  1005   희동   15000\n",
       "3  1006  마이콜    5000\n",
       "4  1008  NaN  100000\n",
       "5  1001   둘리   30000"
      ]
     },
     "execution_count": 79,
     "metadata": {},
     "output_type": "execute_result"
    }
   ],
   "source": [
    "pd.merge(df1, df2, how='right')"
   ]
  },
  {
   "cell_type": "markdown",
   "id": "6e353418",
   "metadata": {
    "id": "6e353418"
   },
   "source": [
    "### 실습  아래 두 데이터를 이용해서 merge 4가지 방법으로 합쳐보고(회사코드는 지워주세요) 차이점을 비교해 보세요.(최종 inner 방법으로 data_test에 저장하세요)"
   ]
  },
  {
   "cell_type": "code",
   "execution_count": null,
   "id": "00f9a243",
   "metadata": {
    "ExecuteTime": {
     "end_time": "2022-04-24T08:43:53.564072Z",
     "start_time": "2022-04-24T08:43:53.552138Z"
    },
    "colab": {
     "base_uri": "https://localhost:8080/"
    },
    "executionInfo": {
     "elapsed": 360,
     "status": "ok",
     "timestamp": 1650791341129,
     "user": {
      "displayName": "서명교",
      "userId": "11730583039526359700"
     },
     "user_tz": -540
    },
    "id": "00f9a243",
    "outputId": "2a4e6112-84f1-43c9-955a-a0f8bd378bdd"
   },
   "outputs": [],
   "source": [
    "df_name = pd.DataFrame({\n",
    "    '종목코드': [95570, 68400, 27410, 282330, 138930, 1460],\n",
    "    '회사이름': ['AJ네트웍스', 'SK렌터카', 'AK홀딩스', 'BGF리테일', 'BNK금융지주', 'BYC']\n",
    "}, columns=['종목코드', '회사이름'])\n",
    "\n",
    "df_money = pd.DataFrame({\n",
    "    '회사코드': [95570, 68400, 6840, 27410, 138930, 1460],\n",
    "    '종가': [20000, 24000, 15000, 5000, 100000, 30000]\n",
    "}, columns=['회사코드', '종가'])\n",
    "print('df_name데이터 \\n',df_name,'\\n')\n",
    "print('df_money데이터 \\n',df_money)"
   ]
  },
  {
   "cell_type": "code",
   "execution_count": null,
   "id": "8418fdc7",
   "metadata": {
    "ExecuteTime": {
     "end_time": "2022-04-24T08:49:45.524617Z",
     "start_time": "2022-04-24T08:49:45.515641Z"
    },
    "colab": {
     "base_uri": "https://localhost:8080/"
    },
    "executionInfo": {
     "elapsed": 337,
     "status": "ok",
     "timestamp": 1650792396662,
     "user": {
      "displayName": "서명교",
      "userId": "11730583039526359700"
     },
     "user_tz": -540
    },
    "id": "8418fdc7",
    "outputId": "7b536925-fd88-4b9c-d1cf-562079cb26e4"
   },
   "outputs": [],
   "source": [
    "# 방법1 left_on, right_on 지정해서 합쳐주고 하나 삭제\n",
    "data_test = pd.merge(df_name, df_money, left_on = '종목코드',right_on='회사코드')\n",
    "# data_test = pd.merge(df_name, df_money, how='outer', left_on = '종목코드',right_on='회사코드')\n",
    "# data_test = pd.merge(df_name, df_money, how='right', left_on = '종목코드',right_on='회사코드')\n",
    "# data_test = pd.merge(df_name, df_money, how='left', left_on = '종목코드',right_on='회사코드')\n",
    "data_test = data_test.drop('회사코드',axis=1)\n",
    "print(data_test)\n",
    "\n",
    "# 방법2 칼럼 이름을 바꿔주고 진행\n",
    "# df_money.rename(columns = {'회사코드' : '종목코드'}, inplace = True)\n",
    "# data_test1 = pd.merge(df_name, df_money, on = '종목코드')\n",
    "# data_test1 = pd.merge(df_name, df_money, how='outer', on = '종목코드')\n",
    "# data_test1 = pd.merge(df_name, df_money, how='right', on = '종목코드')\n",
    "# data_test1 = pd.merge(df_name, df_money, how='left', on = '종목코드')\n",
    "# print(data_test1)"
   ]
  },
  {
   "cell_type": "markdown",
   "id": "dEF0z_g06XN9",
   "metadata": {
    "id": "dEF0z_g06XN9"
   },
   "source": [
    "### 실습 비율 칼럼을 만들고 동일 비중으로 값을 넣어주세요. "
   ]
  },
  {
   "cell_type": "code",
   "execution_count": null,
   "id": "O5_-sWxJ6Wl-",
   "metadata": {
    "colab": {
     "base_uri": "https://localhost:8080/"
    },
    "executionInfo": {
     "elapsed": 259,
     "status": "ok",
     "timestamp": 1650792841292,
     "user": {
      "displayName": "서명교",
      "userId": "11730583039526359700"
     },
     "user_tz": -540
    },
    "id": "O5_-sWxJ6Wl-",
    "outputId": "09c1ff4e-2485-4ae1-b552-d779a5d086c8"
   },
   "outputs": [],
   "source": [
    "data_test['비율'] = 1/len(data_test)* 100\n",
    "print(data_test)"
   ]
  },
  {
   "cell_type": "markdown",
   "id": "oFSKGM8W6_fq",
   "metadata": {
    "id": "oFSKGM8W6_fq"
   },
   "source": [
    "### 실습 (총 투입금액 1,000,000원) 현재 투자를 한다 각 회사마다 보유주식수를를 계산해 보세요.   "
   ]
  },
  {
   "cell_type": "code",
   "execution_count": null,
   "id": "gNxpKVc06-8i",
   "metadata": {
    "colab": {
     "base_uri": "https://localhost:8080/",
     "height": 206
    },
    "executionInfo": {
     "elapsed": 265,
     "status": "ok",
     "timestamp": 1650793349281,
     "user": {
      "displayName": "서명교",
      "userId": "11730583039526359700"
     },
     "user_tz": -540
    },
    "id": "gNxpKVc06-8i",
    "outputId": "72b80f04-25ab-47db-9e32-a7526b05606c"
   },
   "outputs": [],
   "source": [
    "cash = 1000000\n",
    "same_money = cash * data_test['비율'][0] /100\n",
    "data_test['보유주식수'] = round(same_money / data_test['종가'],0)\n",
    "data_test"
   ]
  },
  {
   "cell_type": "markdown",
   "id": "Rsp18Q8i0wIZ",
   "metadata": {
    "id": "Rsp18Q8i0wIZ"
   },
   "source": [
    "### 실습 data_test에서 회사이름이 SK렌터카인 종목을 추출해 보세요"
   ]
  },
  {
   "cell_type": "code",
   "execution_count": null,
   "id": "GkkZZnyd02we",
   "metadata": {
    "colab": {
     "base_uri": "https://localhost:8080/",
     "height": 81
    },
    "executionInfo": {
     "elapsed": 331,
     "status": "ok",
     "timestamp": 1650792439034,
     "user": {
      "displayName": "서명교",
      "userId": "11730583039526359700"
     },
     "user_tz": -540
    },
    "id": "GkkZZnyd02we",
    "outputId": "abfac50f-5331-4b2a-cbd1-70bf39902ce1"
   },
   "outputs": [],
   "source": [
    "data_test[ data_test['회사이름'] == 'SK렌터카' ]"
   ]
  },
  {
   "cell_type": "markdown",
   "id": "8762f7a1",
   "metadata": {
    "id": "8762f7a1"
   },
   "source": [
    "### 실습 data_test에서 보유주식수가 8이상 35이하의 종목을 추출해 보세요"
   ]
  },
  {
   "cell_type": "code",
   "execution_count": null,
   "id": "3677e3f1",
   "metadata": {
    "colab": {
     "base_uri": "https://localhost:8080/",
     "height": 112
    },
    "executionInfo": {
     "elapsed": 288,
     "status": "ok",
     "timestamp": 1650795694449,
     "user": {
      "displayName": "서명교",
      "userId": "11730583039526359700"
     },
     "user_tz": -540
    },
    "id": "3677e3f1",
    "outputId": "f21a90d4-adaa-4d23-c172-5fb7e3227086"
   },
   "outputs": [],
   "source": [
    "data_test[ (data_test['보유주식수'] >= 8) & (data_test['보유주식수'] < 35) ]"
   ]
  },
  {
   "cell_type": "markdown",
   "id": "nSDyIx7pBl2v",
   "metadata": {
    "id": "nSDyIx7pBl2v"
   },
   "source": [
    "### Concat\n",
    "- concat 함수를 사용하면 기준 열(key column)을 사용하지 않고 단순히 데이터를 연결(concatenate)한다.\n",
    "\n",
    "기본적으로는 위/아래로 데이터 행을 연결한다(defalut axis=0). 단순히 두 시리즈나 데이터프레임을 연결하기 때문에 인덱스 값이 중복될 수 있다."
   ]
  },
  {
   "cell_type": "code",
   "execution_count": null,
   "id": "nrQNWRP-8tsB",
   "metadata": {
    "id": "nrQNWRP-8tsB"
   },
   "outputs": [],
   "source": [
    "s1 = pd.Series([0, 1], index=['A', 'B'])\n",
    "s2 = pd.Series([2, 3, 4], index=['A', 'B', 'C'])"
   ]
  },
  {
   "cell_type": "code",
   "execution_count": null,
   "id": "FdS9j9F_B0kF",
   "metadata": {
    "colab": {
     "base_uri": "https://localhost:8080/"
    },
    "executionInfo": {
     "elapsed": 285,
     "status": "ok",
     "timestamp": 1650526220603,
     "user": {
      "displayName": "Mark K",
      "userId": "03340535256939132196"
     },
     "user_tz": -540
    },
    "id": "FdS9j9F_B0kF",
    "outputId": "96f795e7-1680-4873-ccdc-892bff8556c1"
   },
   "outputs": [],
   "source": [
    "s1"
   ]
  },
  {
   "cell_type": "code",
   "execution_count": null,
   "id": "rlcl4kp1B27H",
   "metadata": {
    "colab": {
     "base_uri": "https://localhost:8080/"
    },
    "executionInfo": {
     "elapsed": 285,
     "status": "ok",
     "timestamp": 1650526226063,
     "user": {
      "displayName": "Mark K",
      "userId": "03340535256939132196"
     },
     "user_tz": -540
    },
    "id": "rlcl4kp1B27H",
    "outputId": "49508448-2594-43d9-8dec-e7d548843372"
   },
   "outputs": [],
   "source": [
    "s2"
   ]
  },
  {
   "cell_type": "code",
   "execution_count": null,
   "id": "cR4HW44hB4QS",
   "metadata": {
    "colab": {
     "base_uri": "https://localhost:8080/"
    },
    "executionInfo": {
     "elapsed": 286,
     "status": "ok",
     "timestamp": 1650526231061,
     "user": {
      "displayName": "Mark K",
      "userId": "03340535256939132196"
     },
     "user_tz": -540
    },
    "id": "cR4HW44hB4QS",
    "outputId": "41deeae8-b2cc-47ea-f8ee-31b85bfdb472"
   },
   "outputs": [],
   "source": [
    "pd.concat([s1, s2])"
   ]
  },
  {
   "cell_type": "code",
   "execution_count": null,
   "id": "4wvfQ56LB0m1",
   "metadata": {
    "colab": {
     "base_uri": "https://localhost:8080/"
    },
    "executionInfo": {
     "elapsed": 275,
     "status": "ok",
     "timestamp": 1650526487018,
     "user": {
      "displayName": "Mark K",
      "userId": "03340535256939132196"
     },
     "user_tz": -540
    },
    "id": "4wvfQ56LB0m1",
    "outputId": "23a90a7e-fa8f-4f37-f92c-355886c7135e"
   },
   "outputs": [],
   "source": [
    "# 만약 옆으로 데이터 열을 연결하고 싶으면 axis=1로 인수를 설정한다.\n",
    "df1 = pd.DataFrame(\n",
    "    np.arange(6).reshape(3, 2),\n",
    "    index=['a', 'b', 'c'],\n",
    "    columns=['데이터1', '데이터2'])\n",
    "df1\n",
    "print(df1.describe)"
   ]
  },
  {
   "cell_type": "code",
   "execution_count": null,
   "id": "a1E0y0hxB0pf",
   "metadata": {
    "colab": {
     "base_uri": "https://localhost:8080/",
     "height": 112
    },
    "executionInfo": {
     "elapsed": 286,
     "status": "ok",
     "timestamp": 1650526435638,
     "user": {
      "displayName": "Mark K",
      "userId": "03340535256939132196"
     },
     "user_tz": -540
    },
    "id": "a1E0y0hxB0pf",
    "outputId": "462da6a7-d1a4-41fd-fa57-1abfb62fe70a"
   },
   "outputs": [],
   "source": [
    "df2 = pd.DataFrame(\n",
    "    6 + np.arange(4).reshape(2, 2),\n",
    "    index=['a', 'c'],\n",
    "    columns=['데이터3', '데이터4'])\n",
    "df2"
   ]
  },
  {
   "cell_type": "code",
   "execution_count": null,
   "id": "CSyLwUy8B0r6",
   "metadata": {
    "colab": {
     "base_uri": "https://localhost:8080/",
     "height": 143
    },
    "executionInfo": {
     "elapsed": 410,
     "status": "ok",
     "timestamp": 1650526436982,
     "user": {
      "displayName": "Mark K",
      "userId": "03340535256939132196"
     },
     "user_tz": -540
    },
    "id": "CSyLwUy8B0r6",
    "outputId": "62f393ee-4b92-4286-a487-1672e7680c66"
   },
   "outputs": [],
   "source": [
    "pd.concat([df1, df2], axis=1)"
   ]
  },
  {
   "cell_type": "markdown",
   "id": "abGjn3alg5-c",
   "metadata": {
    "id": "abGjn3alg5-c"
   },
   "source": [
    "### 실습 아래 두 데이터프레임을 concat을 활용해서 합쳐보고 merge를 concat처럼 사용해 보세요"
   ]
  },
  {
   "cell_type": "code",
   "execution_count": null,
   "id": "yuS23Bi7g6cJ",
   "metadata": {
    "colab": {
     "base_uri": "https://localhost:8080/"
    },
    "executionInfo": {
     "elapsed": 6,
     "status": "ok",
     "timestamp": 1650802845488,
     "user": {
      "displayName": "서명교",
      "userId": "11730583039526359700"
     },
     "user_tz": -540
    },
    "id": "yuS23Bi7g6cJ",
    "outputId": "53b41c74-0ec0-4266-f7be-28e5eeaa1e77"
   },
   "outputs": [],
   "source": [
    "df1 = pd.DataFrame({\n",
    "    '고객번호': [1001, 1002, 1003, 1004, 1005, 1006, 1007],\n",
    "    '이름': ['둘리', '도우너', '또치', '길동', '희동', '마이콜', '영희']\n",
    "}, columns=['고객번호', '이름'])\n",
    "print(df1)\n",
    "\n",
    "df2 = pd.DataFrame({\n",
    "    '고객번호': [1008, 1009, 1010, 1011, 1012, 1013, 1014],\n",
    "    '이름': ['둘리1', '도우너1', '또치1', '길동1', '희동1', '마이콜1', '영희1']\n",
    "}, columns=['고객번호', '이름'])\n",
    "print(df2)"
   ]
  },
  {
   "cell_type": "code",
   "execution_count": null,
   "id": "2RJpKmj0g6yh",
   "metadata": {
    "colab": {
     "base_uri": "https://localhost:8080/"
    },
    "executionInfo": {
     "elapsed": 3,
     "status": "ok",
     "timestamp": 1650802846281,
     "user": {
      "displayName": "서명교",
      "userId": "11730583039526359700"
     },
     "user_tz": -540
    },
    "id": "2RJpKmj0g6yh",
    "outputId": "9aaae47b-517a-46cf-80df-1b26c1b7ec57"
   },
   "outputs": [],
   "source": [
    "print(pd.merge(df1,df2, how = 'outer', left_index=True, right_index=True))\n",
    "print(pd.merge(df1,df2, how = 'outer', on = ['고객번호','이름']))"
   ]
  },
  {
   "cell_type": "markdown",
   "id": "K6bXVqYObEPj",
   "metadata": {
    "id": "K6bXVqYObEPj"
   },
   "source": [
    "### 정렬 (Sort)\n",
    "- sort_index 메서드\n",
    "- sort_values 메서드"
   ]
  },
  {
   "cell_type": "code",
   "execution_count": null,
   "id": "0fmToGnhgkjK",
   "metadata": {
    "id": "0fmToGnhgkjK"
   },
   "outputs": [],
   "source": [
    "df = df.drop"
   ]
  },
  {
   "cell_type": "code",
   "execution_count": null,
   "id": "OtMxuLL6bdz2",
   "metadata": {
    "colab": {
     "base_uri": "https://localhost:8080/"
    },
    "executionInfo": {
     "elapsed": 535,
     "status": "ok",
     "timestamp": 1650801838379,
     "user": {
      "displayName": "Mark K",
      "userId": "03340535256939132196"
     },
     "user_tz": -540
    },
    "id": "OtMxuLL6bdz2",
    "outputId": "9f3a76d3-de78-443e-a21a-508fe6a076a3"
   },
   "outputs": [],
   "source": [
    "np.random.seed(1)\n",
    "\n",
    "s = pd.Series(range(10))\n",
    "s[3] = np.nan\n",
    "\n",
    "s2 = pd.Series(np.random.randint(6, size=100))\n",
    "s2.value_counts()"
   ]
  },
  {
   "cell_type": "code",
   "execution_count": null,
   "id": "oFWQodVycnUw",
   "metadata": {
    "colab": {
     "base_uri": "https://localhost:8080/"
    },
    "executionInfo": {
     "elapsed": 6,
     "status": "ok",
     "timestamp": 1650801843633,
     "user": {
      "displayName": "Mark K",
      "userId": "03340535256939132196"
     },
     "user_tz": -540
    },
    "id": "oFWQodVycnUw",
    "outputId": "041635cc-5a75-4bf4-a07d-9bc93899c64a"
   },
   "outputs": [],
   "source": [
    "s2.value_counts().sort_index()"
   ]
  },
  {
   "cell_type": "code",
   "execution_count": null,
   "id": "QfMtJVowc1OQ",
   "metadata": {
    "colab": {
     "base_uri": "https://localhost:8080/"
    },
    "executionInfo": {
     "elapsed": 335,
     "status": "ok",
     "timestamp": 1650801998728,
     "user": {
      "displayName": "Mark K",
      "userId": "03340535256939132196"
     },
     "user_tz": -540
    },
    "id": "QfMtJVowc1OQ",
    "outputId": "7d275618-83c4-4a2c-b82d-9837ab0d3f2f"
   },
   "outputs": [],
   "source": [
    "# sort_values() : default값이 오름차순정렬\n",
    "# 결측치가 있는경우 가장 나중으로 배치 됨\n",
    "s.sort_values()"
   ]
  },
  {
   "cell_type": "code",
   "execution_count": null,
   "id": "Aw2PCo81d3cW",
   "metadata": {
    "colab": {
     "base_uri": "https://localhost:8080/"
    },
    "executionInfo": {
     "elapsed": 368,
     "status": "ok",
     "timestamp": 1650802089296,
     "user": {
      "displayName": "Mark K",
      "userId": "03340535256939132196"
     },
     "user_tz": -540
    },
    "id": "Aw2PCo81d3cW",
    "outputId": "6ee5e778-fdd8-4125-f4f5-ce022eb471de"
   },
   "outputs": [],
   "source": [
    "s.sort_values(ascending=False) # 내림차순 정렬"
   ]
  },
  {
   "cell_type": "code",
   "execution_count": null,
   "id": "Q_hsglTUd3es",
   "metadata": {
    "colab": {
     "base_uri": "https://localhost:8080/",
     "height": 174
    },
    "executionInfo": {
     "elapsed": 377,
     "status": "ok",
     "timestamp": 1650802954875,
     "user": {
      "displayName": "Mark K",
      "userId": "03340535256939132196"
     },
     "user_tz": -540
    },
    "id": "Q_hsglTUd3es",
    "outputId": "552ffcff-5196-46e8-dd31-ddf22db711e5"
   },
   "outputs": [],
   "source": [
    "data = [\n",
    "    [\"037730\", \"3R\", 1510],\n",
    "    [\"036360\", \"3SOFT\", 1790],\n",
    "    [\"005670\", \"ACTS\", 1185],\n",
    "    [\"999999\", \"BLABLA\", 9999]\n",
    "]\n",
    "\n",
    "columns = [\"종목코드\", \"종목명\", \"현재가\"]\n",
    "df = pd.DataFrame(data=data, columns=columns)\n",
    "# df.set_index(\"종목코드\", inplace=True)\n",
    "\n",
    "df"
   ]
  },
  {
   "cell_type": "code",
   "execution_count": null,
   "id": "UI-ayGHZd3hY",
   "metadata": {
    "colab": {
     "base_uri": "https://localhost:8080/",
     "height": 174
    },
    "executionInfo": {
     "elapsed": 366,
     "status": "ok",
     "timestamp": 1650802981382,
     "user": {
      "displayName": "Mark K",
      "userId": "03340535256939132196"
     },
     "user_tz": -540
    },
    "id": "UI-ayGHZd3hY",
    "outputId": "d8dc7cc9-a407-454d-d79c-9e4f487b7873"
   },
   "outputs": [],
   "source": [
    "df.sort_values(by=['종목코드', '현재가'])"
   ]
  },
  {
   "cell_type": "code",
   "execution_count": null,
   "id": "eVhWr25Yh1v4",
   "metadata": {
    "colab": {
     "base_uri": "https://localhost:8080/",
     "height": 206
    },
    "executionInfo": {
     "elapsed": 280,
     "status": "ok",
     "timestamp": 1650803411821,
     "user": {
      "displayName": "서명교",
      "userId": "11730583039526359700"
     },
     "user_tz": -540
    },
    "id": "eVhWr25Yh1v4",
    "outputId": "11f6a7cd-5fdf-4820-ec43-030dc0be64ca"
   },
   "outputs": [],
   "source": [
    "df = pd.DataFrame([\n",
    "    [14, 7, 12],\n",
    "    [16, 8, 11],\n",
    "    [12, 8, 19],\n",
    "    [13, 8, 13],\n",
    "    [15, 9, 10]],\n",
    "    columns = ['a', 'b', 'c'],\n",
    "    index = [1, 2, 3, 4, 5]\n",
    ")\n",
    "df"
   ]
  },
  {
   "cell_type": "code",
   "execution_count": null,
   "id": "40vtgLWth6A3",
   "metadata": {
    "colab": {
     "base_uri": "https://localhost:8080/",
     "height": 206
    },
    "executionInfo": {
     "elapsed": 295,
     "status": "ok",
     "timestamp": 1650803413971,
     "user": {
      "displayName": "서명교",
      "userId": "11730583039526359700"
     },
     "user_tz": -540
    },
    "id": "40vtgLWth6A3",
    "outputId": "9e89ecba-cba4-4435-8fc4-6460d9ce3be8"
   },
   "outputs": [],
   "source": [
    "# 프레임의 정렬, 리스트로 반환\n",
    "df.sort_values(['b','c'], ascending=False)"
   ]
  },
  {
   "cell_type": "markdown",
   "id": "406d028b",
   "metadata": {
    "id": "406d028b"
   },
   "source": [
    "### 결측치 다루기"
   ]
  },
  {
   "cell_type": "markdown",
   "id": "022064ac",
   "metadata": {
    "ExecuteTime": {
     "end_time": "2022-04-24T09:40:39.250798Z",
     "start_time": "2022-04-24T09:40:39.237845Z"
    },
    "id": "022064ac"
   },
   "source": [
    "#### 데이터 확인\n",
    "\n",
    "- [2019 COVID-19 Data Set in Korean](https://www.kaggle.com/datasets/yjunwoo14/2019-covid19-ncov19-data-set-in-korean)"
   ]
  },
  {
   "cell_type": "code",
   "execution_count": null,
   "id": "48aae1b4",
   "metadata": {
    "ExecuteTime": {
     "end_time": "2022-04-24T10:31:28.701136Z",
     "start_time": "2022-04-24T10:31:28.671147Z"
    },
    "colab": {
     "base_uri": "https://localhost:8080/",
     "height": 224
    },
    "executionInfo": {
     "elapsed": 4546,
     "status": "ok",
     "timestamp": 1650800850526,
     "user": {
      "displayName": "Mark K",
      "userId": "03340535256939132196"
     },
     "user_tz": -540
    },
    "id": "48aae1b4",
    "outputId": "5cc794aa-8732-4bb0-d379-8c58df307771"
   },
   "outputs": [],
   "source": [
    "from google.colab import drive\n",
    "drive.mount('/content/drive')\n",
    "\n",
    "import pandas as pd\n",
    "df=pd.read_csv('/content/drive/MyDrive/튜터링/datasets/COVID-19_Korean (1).csv') # colab 용\n",
    "# df=pd.read_csv('./datasets/COVID-19_Korean (1).csv') # jupyter notebook 용\n",
    "df.head()"
   ]
  },
  {
   "cell_type": "code",
   "execution_count": null,
   "id": "1b4e1924",
   "metadata": {
    "ExecuteTime": {
     "end_time": "2022-04-24T10:32:35.518244Z",
     "start_time": "2022-04-24T10:32:35.495304Z"
    },
    "id": "1b4e1924",
    "outputId": "3c0b7b4b-1789-48e4-c7f3-7ae22b3c892b"
   },
   "outputs": [],
   "source": [
    "korea_data=df[df['국가/지역']=='대한민국']\n",
    "korea_data.head()"
   ]
  },
  {
   "cell_type": "code",
   "execution_count": null,
   "id": "3275948c",
   "metadata": {
    "ExecuteTime": {
     "end_time": "2022-04-24T10:35:37.208036Z",
     "start_time": "2022-04-24T10:35:37.191082Z"
    },
    "id": "3275948c"
   },
   "outputs": [],
   "source": [
    "# 가독성을 위해 행의 수를 줄입니다.\n",
    "korea_data=korea_data.head()\n",
    "\n",
    "# reset_index함수를 사용하여 행 인덱스 재설정\n",
    "korea_data=korea_data.reset_index(drop=True)\n",
    "\n",
    "# 예제 데이터 수정\n",
    "korea_data.iloc[[0],0]='서울'\n",
    "korea_data.loc[3]=None\n",
    "korea_data.iloc[3,[6,7]]=0\n",
    "korea_data.loc[3,'사망자']=None\n",
    "korea_data.loc[4]=None"
   ]
  },
  {
   "cell_type": "code",
   "execution_count": null,
   "id": "f8a9d44f",
   "metadata": {
    "ExecuteTime": {
     "end_time": "2022-04-24T10:35:38.177913Z",
     "start_time": "2022-04-24T10:35:38.160950Z"
    },
    "id": "f8a9d44f",
    "outputId": "0dcfdebc-ba85-42f0-f2bd-6ff37c863e34"
   },
   "outputs": [],
   "source": [
    "korea_data"
   ]
  },
  {
   "cell_type": "markdown",
   "id": "a22af33f",
   "metadata": {
    "id": "a22af33f"
   },
   "source": [
    "#### 결측치 입력\n",
    "- 결측치를 입력할 때에는 None도 가능하지만 np.nan, pd.NaT가 모두 가능합니다"
   ]
  },
  {
   "cell_type": "code",
   "execution_count": null,
   "id": "dbf45448",
   "metadata": {
    "ExecuteTime": {
     "end_time": "2022-04-24T10:37:26.298593Z",
     "start_time": "2022-04-24T10:37:26.273659Z"
    },
    "id": "dbf45448",
    "outputId": "5df161e6-60d9-4395-976a-aaa80281e45d"
   },
   "outputs": [],
   "source": [
    "import numpy as np \n",
    "korea_data.iloc[1,0]=np.nan\n",
    "korea_data.iloc[2,0]=pd.NaT\n",
    "korea_data"
   ]
  },
  {
   "cell_type": "markdown",
   "id": "c3e4fd6b",
   "metadata": {
    "id": "c3e4fd6b"
   },
   "source": [
    "#### 결측치 확인\n",
    "\n",
    "- info() / notnull() / notna()\n",
    "- isnull() / isna()"
   ]
  },
  {
   "cell_type": "markdown",
   "id": "6baaa929",
   "metadata": {
    "id": "6baaa929"
   },
   "source": [
    "#### 결측치가 아닌 데이터 개수"
   ]
  },
  {
   "cell_type": "code",
   "execution_count": null,
   "id": "2fad7406",
   "metadata": {
    "ExecuteTime": {
     "end_time": "2022-04-24T10:40:48.517616Z",
     "start_time": "2022-04-24T10:40:48.502656Z"
    },
    "id": "2fad7406",
    "outputId": "be928c2b-52d1-4c1d-ec08-d55d6a5afe81"
   },
   "outputs": [],
   "source": [
    "korea_data.info()"
   ]
  },
  {
   "cell_type": "code",
   "execution_count": null,
   "id": "a5049400",
   "metadata": {
    "ExecuteTime": {
     "end_time": "2022-04-24T10:41:38.440597Z",
     "start_time": "2022-04-24T10:41:38.419654Z"
    },
    "id": "a5049400",
    "outputId": "2f62cd60-2979-44b8-87d1-7800e65df38d"
   },
   "outputs": [],
   "source": [
    "korea_data.notnull()"
   ]
  },
  {
   "cell_type": "code",
   "execution_count": null,
   "id": "c1fbe98e",
   "metadata": {
    "ExecuteTime": {
     "end_time": "2022-04-24T10:41:57.956950Z",
     "start_time": "2022-04-24T10:41:57.940965Z"
    },
    "id": "c1fbe98e",
    "outputId": "7039f086-16d5-4f8b-8f19-96cef5417fe2"
   },
   "outputs": [],
   "source": [
    "korea_data.notnull().sum()"
   ]
  },
  {
   "cell_type": "code",
   "execution_count": null,
   "id": "0f097a02",
   "metadata": {
    "ExecuteTime": {
     "end_time": "2022-04-24T10:45:03.751547Z",
     "start_time": "2022-04-24T10:45:03.739597Z"
    },
    "id": "0f097a02",
    "outputId": "289b267c-026a-49f7-f387-0157b391e128"
   },
   "outputs": [],
   "source": [
    "korea_data.notna()"
   ]
  },
  {
   "cell_type": "code",
   "execution_count": null,
   "id": "d4b2d5d1",
   "metadata": {
    "ExecuteTime": {
     "end_time": "2022-04-24T10:45:08.714829Z",
     "start_time": "2022-04-24T10:45:08.694883Z"
    },
    "id": "d4b2d5d1",
    "outputId": "0ae5e3b7-2ace-44be-965f-93f1715e7169"
   },
   "outputs": [],
   "source": [
    "korea_data.notna().sum()"
   ]
  },
  {
   "cell_type": "markdown",
   "id": "0c06bc78",
   "metadata": {
    "id": "0c06bc78"
   },
   "source": [
    "#### 결측치 데이터 개수"
   ]
  },
  {
   "cell_type": "code",
   "execution_count": null,
   "id": "f0c652cf",
   "metadata": {
    "ExecuteTime": {
     "end_time": "2022-04-24T10:40:00.955023Z",
     "start_time": "2022-04-24T10:40:00.935077Z"
    },
    "id": "f0c652cf",
    "outputId": "63e8c5ee-9505-492f-a661-7391beb993eb"
   },
   "outputs": [],
   "source": [
    "korea_data.isnull()"
   ]
  },
  {
   "cell_type": "code",
   "execution_count": null,
   "id": "41bac31b",
   "metadata": {
    "ExecuteTime": {
     "end_time": "2022-04-24T10:40:38.406237Z",
     "start_time": "2022-04-24T10:40:38.390280Z"
    },
    "id": "41bac31b",
    "outputId": "8bb016ba-9776-4d6b-d98b-e306c77cd938"
   },
   "outputs": [],
   "source": [
    "korea_data.isnull().sum()"
   ]
  },
  {
   "cell_type": "code",
   "execution_count": null,
   "id": "ba3cd11a",
   "metadata": {
    "ExecuteTime": {
     "end_time": "2022-04-24T10:43:00.372244Z",
     "start_time": "2022-04-24T10:43:00.352300Z"
    },
    "id": "ba3cd11a",
    "outputId": "0471e862-de11-4089-cd4c-b3f4b059b225"
   },
   "outputs": [],
   "source": [
    "korea_data.isna()"
   ]
  },
  {
   "cell_type": "code",
   "execution_count": null,
   "id": "5311e35f",
   "metadata": {
    "ExecuteTime": {
     "end_time": "2022-04-24T10:46:14.592486Z",
     "start_time": "2022-04-24T10:46:14.575499Z"
    },
    "id": "5311e35f",
    "outputId": "c9cf2ed0-3bdb-48ab-c5f4-e10e8b489996"
   },
   "outputs": [],
   "source": [
    "korea_data.isna().sum()"
   ]
  },
  {
   "cell_type": "markdown",
   "id": "5dab212e",
   "metadata": {
    "id": "5dab212e"
   },
   "source": [
    "#### 결측치 제거\n",
    " - [DataFrame.dropna(self, axis=0, how='any', thresh=None, subset=None, inplace=False)](https://pandas.pydata.org/pandas-docs/stable/reference/api/pandas.DataFrame.dropna.html)"
   ]
  },
  {
   "cell_type": "code",
   "execution_count": null,
   "id": "ec39d713",
   "metadata": {
    "ExecuteTime": {
     "end_time": "2022-04-24T11:02:14.070391Z",
     "start_time": "2022-04-24T11:02:14.045436Z"
    },
    "id": "ec39d713",
    "outputId": "cd47edb7-55fe-428c-9433-d8d9ee79cc5b"
   },
   "outputs": [],
   "source": [
    "korea_data"
   ]
  },
  {
   "cell_type": "code",
   "execution_count": null,
   "id": "c8e923da",
   "metadata": {
    "ExecuteTime": {
     "end_time": "2022-04-24T11:02:38.669821Z",
     "start_time": "2022-04-24T11:02:38.650877Z"
    },
    "id": "c8e923da",
    "outputId": "be86cb88-2c1c-4407-ac50-56c33e0dfabf"
   },
   "outputs": [],
   "source": [
    "# dropna - 매개변수 axis의 default값이 0, how의 default값이 'any'이므로 결측값이 있는 행은 모두 삭제\n",
    "\n",
    "korea_data.dropna()"
   ]
  },
  {
   "cell_type": "code",
   "execution_count": null,
   "id": "4345e631",
   "metadata": {
    "ExecuteTime": {
     "end_time": "2022-04-24T11:00:07.119335Z",
     "start_time": "2022-04-24T11:00:07.092406Z"
    },
    "id": "4345e631",
    "outputId": "493ce01d-1311-4272-a663-682889c83be1"
   },
   "outputs": [],
   "source": [
    "# 결측치가 하나라도 있으면 삭제할 것인지(any)\n",
    "korea_data.dropna(how='any')"
   ]
  },
  {
   "cell_type": "code",
   "execution_count": null,
   "id": "43407b6a",
   "metadata": {
    "ExecuteTime": {
     "end_time": "2022-04-24T11:00:10.280147Z",
     "start_time": "2022-04-24T11:00:10.246239Z"
    },
    "id": "43407b6a",
    "outputId": "774f870f-1c27-4e0f-c19e-3537d30bbe81"
   },
   "outputs": [],
   "source": [
    "# 모든 값이 결측치여야 삭제할 것인지를(all) 결정\n",
    "korea_data.dropna(how='all')"
   ]
  },
  {
   "cell_type": "markdown",
   "id": "9a9f64c2",
   "metadata": {
    "id": "9a9f64c2"
   },
   "source": [
    "#### 결측치 대체\n",
    "- [DataFrame.fillna(self, value=None, method=None, axis=None, inplace=False, limit=None, downcast=None)](https://pandas.pydata.org/pandas-docs/stable/reference/api/pandas.DataFrame.fillna.html)"
   ]
  },
  {
   "cell_type": "code",
   "execution_count": null,
   "id": "cad374d2",
   "metadata": {
    "ExecuteTime": {
     "end_time": "2022-04-24T11:10:41.366756Z",
     "start_time": "2022-04-24T11:10:41.347798Z"
    },
    "id": "cad374d2",
    "outputId": "c0a0370f-ca6e-4581-fba0-de816a0b5bdb"
   },
   "outputs": [],
   "source": [
    "# 결측치를 원하는 값(고정값)으로 대체 \n",
    "korea_data.fillna(0) # '0' 으로 대체"
   ]
  },
  {
   "cell_type": "code",
   "execution_count": null,
   "id": "13d57a6e",
   "metadata": {
    "ExecuteTime": {
     "end_time": "2022-04-24T11:15:06.159820Z",
     "start_time": "2022-04-24T11:15:06.130390Z"
    },
    "id": "13d57a6e",
    "outputId": "b5e93b1c-5d63-4ad1-939c-26952b476fd9"
   },
   "outputs": [],
   "source": [
    "# 고정 값이 아닌 원하는 값을 유연하게 입력\n",
    "# 딕셔너리로 칼럼명과 데이터를 넘겨주면 해당 칼럼의 결측치가 데이터로 변경\n",
    "korea_data.fillna({'확진자':korea_data['확진자'].mean()})"
   ]
  },
  {
   "cell_type": "code",
   "execution_count": null,
   "id": "f1ce65a4",
   "metadata": {
    "ExecuteTime": {
     "end_time": "2022-04-24T11:16:06.878158Z",
     "start_time": "2022-04-24T11:16:06.847242Z"
    },
    "id": "f1ce65a4",
    "outputId": "7c6f66f0-b2bd-4359-89cb-b82dbb132616"
   },
   "outputs": [],
   "source": [
    "# 앞의 데이터로 뒤의 결측치를 대체하는 ffill,pad\n",
    "# 뒤의 데이터로 앞의 결측치를 대체하는 backfill,bfill\n",
    "korea_data.fillna(method='ffill')"
   ]
  },
  {
   "cell_type": "markdown",
   "id": "e7ab8c94",
   "metadata": {
    "id": "e7ab8c94"
   },
   "source": [
    "#### 결측치 대체 실습"
   ]
  },
  {
   "cell_type": "markdown",
   "id": "4d0bde9e",
   "metadata": {
    "id": "4d0bde9e"
   },
   "source": [
    "- 위 배운 내용을 바탕으로 'korea_data' 데이터프레임의 결측치를 대체해 보시오\n",
    "\n",
    ">- 행정구역 결측치 = 서울  \n",
    ">- 국가/지역 결측치 = 대한민국  \n",
    ">- 확진자 결측치 = 평균값  \n",
    ">- 그 외 결측치 = 앞의 데이터로 대체\n",
    "\n",
    "|      | 행정구역 | 국가/지역 | 위도 |  경도 |       날짜 |   확진자 | 사망자 | 회복자 |\n",
    "| ---: | -------: | --------: | ---: | ----: | ---------: | -------: | -----: | -----: |\n",
    "|    0 |     서울 |  대한민국 | 36.0 | 128.0 | 2020-01-22 | 1.000000 |    0.0 |    0.0 |\n",
    "|    1 |     서울 |  대한민국 | 36.0 | 128.0 | 2020-01-23 | 1.000000 |    0.0 |    0.0 |\n",
    "|    2 |     서울 |  대한민국 | 36.0 | 128.0 | 2020-01-24 | 2.000000 |    0.0 |    0.0 |\n",
    "|    3 |     서울 |  대한민국 | 36.0 | 128.0 | 2020-01-24 | 1.333333 |    0.0 |    0.0 |\n",
    "|    4 |     서울 |  대한민국 | 36.0 | 128.0 | 2020-01-24 | 1.333333 |    0.0 |    0.0 |\n",
    "\n"
   ]
  },
  {
   "cell_type": "code",
   "execution_count": null,
   "id": "78ddfccc",
   "metadata": {
    "ExecuteTime": {
     "end_time": "2022-04-24T11:21:32.989466Z",
     "start_time": "2022-04-24T11:21:32.972511Z"
    },
    "id": "78ddfccc",
    "outputId": "3a185ab5-c6d2-4833-b0bf-5fea77c86a43"
   },
   "outputs": [],
   "source": [
    "korea_data.fillna({'행정구역':'서울',\n",
    "                   '국가/지역':'대한민국',\n",
    "                   '확진자':korea_data['확진자'].mean()},\n",
    "                  inplace=True)\n",
    "korea_data.fillna(method='ffill')"
   ]
  },
  {
   "cell_type": "code",
   "execution_count": null,
   "id": "596ed01c",
   "metadata": {
    "id": "596ed01c"
   },
   "outputs": [],
   "source": []
  },
  {
   "cell_type": "code",
   "execution_count": null,
   "id": "e8AfmFG1WSlb",
   "metadata": {
    "id": "e8AfmFG1WSlb"
   },
   "outputs": [],
   "source": []
  },
  {
   "cell_type": "code",
   "execution_count": null,
   "id": "1AohiP_fB0uj",
   "metadata": {
    "id": "1AohiP_fB0uj"
   },
   "outputs": [],
   "source": []
  },
  {
   "cell_type": "markdown",
   "id": "SgZGly_7_yPT",
   "metadata": {
    "id": "SgZGly_7_yPT"
   },
   "source": [
    "### 데이터 시각화 (matplotlib)"
   ]
  },
  {
   "cell_type": "markdown",
   "id": "ljuXMnBcQHIn",
   "metadata": {
    "id": "ljuXMnBcQHIn"
   },
   "source": [
    "#### line 차트"
   ]
  },
  {
   "cell_type": "code",
   "execution_count": null,
   "id": "VJJ-hAjI8N1x",
   "metadata": {
    "colab": {
     "base_uri": "https://localhost:8080/",
     "height": 265
    },
    "executionInfo": {
     "elapsed": 1501,
     "status": "ok",
     "timestamp": 1650866133191,
     "user": {
      "displayName": "서명교",
      "userId": "11730583039526359700"
     },
     "user_tz": -540
    },
    "id": "VJJ-hAjI8N1x",
    "outputId": "ea088329-b067-47f1-8bfa-5ce9d5da8aa6"
   },
   "outputs": [],
   "source": [
    "import matplotlib.pyplot as plt \n",
    "\n",
    "fig = plt.figure()\n",
    "subplot1 = fig.add_subplot(1, 2, 1)  # 1행 1열의 액자에 첫 번째 종이를 만들라는 뜻\n",
    "subplot2 = fig.add_subplot(1, 2, 2)  # 1행 2열 형태로 종이를 붙이고 그중에 두번째 종이\n",
    "subplot1.plot([1, 2, 3, 4])\n",
    "subplot2.plot([4, 3, 2, 1])\n",
    "plt.show()"
   ]
  },
  {
   "cell_type": "code",
   "execution_count": null,
   "id": "d84186ce",
   "metadata": {
    "colab": {
     "base_uri": "https://localhost:8080/",
     "height": 265
    },
    "executionInfo": {
     "elapsed": 1459,
     "status": "ok",
     "timestamp": 1650866139218,
     "user": {
      "displayName": "서명교",
      "userId": "11730583039526359700"
     },
     "user_tz": -540
    },
    "id": "d84186ce",
    "outputId": "41545636-4c17-40cc-930d-efa4fcece084"
   },
   "outputs": [],
   "source": [
    "fig, axes = plt.subplots(2, 2)\n",
    "\n",
    "axes[0][0].plot([1, 2, 3, 4])\n",
    "axes[0][1].plot([4, 3, 2, 1])\n",
    "axes[1][0].plot([1, 2, 2, 1])\n",
    "axes[1][1].plot([2, 1, 1, 2])\n",
    "plt.show()"
   ]
  },
  {
   "cell_type": "markdown",
   "id": "d6SnsQPvQK6l",
   "metadata": {
    "id": "d6SnsQPvQK6l"
   },
   "source": [
    "#### bar 차트"
   ]
  },
  {
   "cell_type": "code",
   "execution_count": null,
   "id": "secczqwKA8yS",
   "metadata": {
    "colab": {
     "base_uri": "https://localhost:8080/",
     "height": 265
    },
    "executionInfo": {
     "elapsed": 428,
     "status": "ok",
     "timestamp": 1650866141282,
     "user": {
      "displayName": "서명교",
      "userId": "11730583039526359700"
     },
     "user_tz": -540
    },
    "id": "secczqwKA8yS",
    "outputId": "e8e6c832-5b85-4dd9-ca0f-e654a9baf98f"
   },
   "outputs": [],
   "source": [
    "plt.bar([1, 3, 5, 7, 9], [2, 3, 2, 2, 8])\n",
    "plt.show()"
   ]
  },
  {
   "cell_type": "markdown",
   "id": "TA09ANNlQRQT",
   "metadata": {
    "id": "TA09ANNlQRQT"
   },
   "source": [
    "#### hist 차트"
   ]
  },
  {
   "cell_type": "code",
   "execution_count": null,
   "id": "PEFcetWbA8o7",
   "metadata": {
    "colab": {
     "base_uri": "https://localhost:8080/",
     "height": 265
    },
    "executionInfo": {
     "elapsed": 733,
     "status": "ok",
     "timestamp": 1650866144341,
     "user": {
      "displayName": "서명교",
      "userId": "11730583039526359700"
     },
     "user_tz": -540
    },
    "id": "PEFcetWbA8o7",
    "outputId": "00e26f60-ae77-4888-d64a-4115412248da"
   },
   "outputs": [],
   "source": [
    "data = [1, 2, 2, 3, 3, 3, 4, 4, 4, 4]   # 1이 1개, 2가 2개, 3이 3개, 4가 4개\n",
    "plt.hist(data)\n",
    "plt.show()"
   ]
  },
  {
   "cell_type": "markdown",
   "id": "9KhweX4_R_RP",
   "metadata": {
    "id": "9KhweX4_R_RP"
   },
   "source": [
    "#### heatmap (주류 데이터 상관관계)"
   ]
  },
  {
   "cell_type": "code",
   "execution_count": null,
   "id": "YgTCKw_XA8lr",
   "metadata": {
    "colab": {
     "base_uri": "https://localhost:8080/"
    },
    "executionInfo": {
     "elapsed": 274,
     "status": "ok",
     "timestamp": 1650866147276,
     "user": {
      "displayName": "서명교",
      "userId": "11730583039526359700"
     },
     "user_tz": -540
    },
    "id": "YgTCKw_XA8lr",
    "outputId": "8e515dad-caf6-46ef-ff3a-a0254be95db3"
   },
   "outputs": [],
   "source": [
    "url = 'https://raw.githubusercontent.com/justmarkham/DAT8/master/data/drinks.csv'\n",
    "drink_df = pd.read_csv(url, ',')"
   ]
  },
  {
   "cell_type": "code",
   "execution_count": null,
   "id": "gDdMHgLvA8iw",
   "metadata": {
    "colab": {
     "base_uri": "https://localhost:8080/"
    },
    "executionInfo": {
     "elapsed": 287,
     "status": "ok",
     "timestamp": 1650866149239,
     "user": {
      "displayName": "서명교",
      "userId": "11730583039526359700"
     },
     "user_tz": -540
    },
    "id": "gDdMHgLvA8iw",
    "outputId": "a14447b2-581b-4e23-826c-3e169a1b9dbe"
   },
   "outputs": [],
   "source": [
    "drink_df.columns"
   ]
  },
  {
   "cell_type": "code",
   "execution_count": null,
   "id": "3XBDCVMGA8X2",
   "metadata": {
    "colab": {
     "base_uri": "https://localhost:8080/",
     "height": 175
    },
    "executionInfo": {
     "elapsed": 249,
     "status": "ok",
     "timestamp": 1650866211279,
     "user": {
      "displayName": "서명교",
      "userId": "11730583039526359700"
     },
     "user_tz": -540
    },
    "id": "3XBDCVMGA8X2",
    "outputId": "622fb208-fa35-4c00-cfd0-76202cf9516b"
   },
   "outputs": [],
   "source": [
    "cols = ['beer_servings', 'spirit_servings', 'wine_servings', 'total_litres_of_pure_alcohol']\n",
    "corr = drink_df[cols].corr(method='pearson')\n",
    "corr"
   ]
  },
  {
   "cell_type": "code",
   "execution_count": null,
   "id": "3KUAfYbJA8Vd",
   "metadata": {
    "id": "3KUAfYbJA8Vd"
   },
   "outputs": [],
   "source": [
    "corr_column_names = ['beer', 'spirit', 'wine', 'alcohol']"
   ]
  },
  {
   "cell_type": "code",
   "execution_count": null,
   "id": "6mRvZ00SSMzN",
   "metadata": {
    "colab": {
     "base_uri": "https://localhost:8080/",
     "height": 280
    },
    "executionInfo": {
     "elapsed": 1402,
     "status": "ok",
     "timestamp": 1650866246239,
     "user": {
      "displayName": "서명교",
      "userId": "11730583039526359700"
     },
     "user_tz": -540
    },
    "id": "6mRvZ00SSMzN",
    "outputId": "78d5cb7c-16ff-4635-b309-f6ef47808afe"
   },
   "outputs": [],
   "source": [
    "# heatmap\n",
    "import seaborn as sns\n",
    "\n",
    "sns.set(font_scale=1.5)\n",
    "hm = sns.heatmap(corr.values,\n",
    "                    cbar=True,  #오른쪽에 있는 막대(범주)를 표시\n",
    "                    annot=True,  #상관계수를 표시\n",
    "                    square=True, # 정사각형으로 지정하는 것이며, False로 설정 시 직사각형이 됨\n",
    "                    fmt='.2f', #상관계수의 소수점 자리수를 지정\n",
    "                    annot_kws={'size': 15}, # 상관계수의 글자 크기를 지정\n",
    "                    yticklabels=corr_column_names, # y축 레이블 값\n",
    "                    xticklabels=corr_column_names) # x축 레이블 값\n",
    "plt.title('Drink Correlation Coefficient')\n",
    "plt.tight_layout()\n",
    "plt.show()\n",
    "\n",
    "\"\"\"\n",
    "피어슨의 상관계수는 일반적으로\n",
    "-값이 -1.0 ~ -0.7 이면, 강한 음적 상관관계\n",
    "-값이 -0.7 ~ -0.3 이면, 뚜렷한 음적 상관관계\n",
    "-값이 -0.3 ~ -0.1 이면, 약한 음적 상관관계\n",
    "-값이 -0.1 ~ +0.1 이면, 없다고 할 수 있는 상관관계\n",
    "-값이 +0.1 ~ +0.3 이면, 약한 양적 상관관계\n",
    "-값이 +0.3 ~ +0.7 이면, 뚜렷한 양적 상관관계\n",
    "-값이 +0.7 ~ +1.0 이면, 강한 양적 상관관계\n",
    "\"\"\""
   ]
  },
  {
   "cell_type": "code",
   "execution_count": null,
   "id": "qcoNr2CzSMrz",
   "metadata": {
    "colab": {
     "base_uri": "https://localhost:8080/",
     "height": 724
    },
    "executionInfo": {
     "elapsed": 17088,
     "status": "ok",
     "timestamp": 1650874199226,
     "user": {
      "displayName": "서명교",
      "userId": "11730583039526359700"
     },
     "user_tz": -540
    },
    "id": "qcoNr2CzSMrz",
    "outputId": "7c6fdead-a99f-40f8-94c8-3e0cfacaa28d"
   },
   "outputs": [],
   "source": [
    "# pairplot 선형\n",
    "sns.set(style='whitegrid')\n",
    "sns.pairplot(drink_df[['beer_servings', 'spirit_servings', \n",
    "                     'wine_servings', 'total_litres_of_pure_alcohol']],kind='reg')\n",
    "#plt.title('Drink Pair Plot')\n",
    "plt.show()"
   ]
  },
  {
   "cell_type": "markdown",
   "id": "8ZaabMvlUxVu",
   "metadata": {
    "id": "8ZaabMvlUxVu"
   },
   "source": [
    "#### 다른 시각화 방법 (https://dining-developer.tistory.com/30) 참고"
   ]
  },
  {
   "cell_type": "code",
   "execution_count": null,
   "id": "MGQxOXYGSMpW",
   "metadata": {
    "id": "MGQxOXYGSMpW"
   },
   "outputs": [],
   "source": []
  },
  {
   "cell_type": "markdown",
   "id": "0ebcfdce",
   "metadata": {
    "id": "0ebcfdce"
   },
   "source": [
    "### 실습 Merge & KRX API 활용 스크래핑\n",
    " - https://pandas.pydata.org/docs/reference/api/pandas.DataFrame.merge.html 참고\n",
    " - DataFrame.merge(right, how='inner', on=None, left_on=None, right_on=None, \n",
    "   left_index=False, right_index=False, sort=False, suffixes=('_x', '_y'), copy=True, indicator=False, validate=None)\n",
    " - KRX 스크래핑 정리된 깃허브 https://github.com/sharebook-kr/pykrx 참고"
   ]
  },
  {
   "cell_type": "markdown",
   "id": "d13f1cdb",
   "metadata": {
    "id": "d13f1cdb"
   },
   "source": [
    "### 실습\n",
    " - 참고 스크래핑을 많이 할 시(반복문)에는 time.sleep(1)을 주어 아이피 차단 당하지 않도록 주의한다.\n",
    " - KRX 스크래핑을 활용하여 2020년 4월 20일에 KOSDAQ 시장의 티커를 받아오기.\n",
    " - 티커 중 앞에서 10번째부터 20번째까지 티커 ticker 저장하기\n",
    " - ticker-> 2020년 4월 (시가/고가/저가/종가/거래량)정보 받아와 df_ohlcv 저장하기 \n",
    "   (칼럼은 날짜/시가/고가/저가/종가/거래량/티커)\n",
    " - ticker-> 2020년 4월 20일 (PER/EPS/PBR)정보 받아와 df_fundamental 저장하기 (칼럼 PER/EPS/PBR/티커)\n",
    " - get_market_net_purchases_of_equities을 활용하여 연기금 데이터 (2020년 4월 20일) 받아오고 ticker에 해당하는 종목들만      df_purchases_of_equities 저장하기\n",
    " - df_purchases_of_equities의 칼럼을 종목명/매도거래량/매수거래량만 저장하기\n",
    " - df_fundamental와 df_purchases_of_equities를 합치기\n",
    " - csv 파일로 저장해 보기 , 불러와 보기\n",
    " - 각 티커별로 주가데이터 그래프 그려보기"
   ]
  },
  {
   "cell_type": "code",
   "execution_count": null,
   "id": "83912d2d",
   "metadata": {
    "id": "83912d2d"
   },
   "outputs": [],
   "source": []
  },
  {
   "cell_type": "code",
   "execution_count": null,
   "id": "8e4629f5",
   "metadata": {
    "id": "8e4629f5"
   },
   "outputs": [],
   "source": []
  },
  {
   "cell_type": "code",
   "execution_count": null,
   "id": "87e71319",
   "metadata": {
    "id": "87e71319"
   },
   "outputs": [],
   "source": []
  },
  {
   "cell_type": "code",
   "execution_count": null,
   "id": "ce28aa89",
   "metadata": {
    "id": "ce28aa89"
   },
   "outputs": [],
   "source": []
  }
 ],
 "metadata": {
  "colab": {
   "collapsed_sections": [],
   "name": "numpy_pandas_study(튜터링).ipynb",
   "provenance": [],
   "toc_visible": true
  },
  "hide_input": false,
  "kernelspec": {
   "display_name": "Python 3 (ipykernel)",
   "language": "python",
   "name": "python3"
  },
  "language_info": {
   "codemirror_mode": {
    "name": "ipython",
    "version": 3
   },
   "file_extension": ".py",
   "mimetype": "text/x-python",
   "name": "python",
   "nbconvert_exporter": "python",
   "pygments_lexer": "ipython3",
   "version": "3.10.2"
  },
  "toc": {
   "base_numbering": 1,
   "nav_menu": {},
   "number_sections": true,
   "sideBar": true,
   "skip_h1_title": false,
   "title_cell": "Table of Contents",
   "title_sidebar": "Contents",
   "toc_cell": false,
   "toc_position": {},
   "toc_section_display": true,
   "toc_window_display": true
  },
  "varInspector": {
   "cols": {
    "lenName": 16,
    "lenType": 16,
    "lenVar": 40
   },
   "kernels_config": {
    "python": {
     "delete_cmd_postfix": "",
     "delete_cmd_prefix": "del ",
     "library": "var_list.py",
     "varRefreshCmd": "print(var_dic_list())"
    },
    "r": {
     "delete_cmd_postfix": ") ",
     "delete_cmd_prefix": "rm(",
     "library": "var_list.r",
     "varRefreshCmd": "cat(var_dic_list()) "
    }
   },
   "types_to_exclude": [
    "module",
    "function",
    "builtin_function_or_method",
    "instance",
    "_Feature"
   ],
   "window_display": false
  }
 },
 "nbformat": 4,
 "nbformat_minor": 5
}
