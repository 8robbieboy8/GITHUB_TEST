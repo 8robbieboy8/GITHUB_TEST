{
 "cells": [
  {
   "cell_type": "code",
   "execution_count": 1,
   "id": "63d09a10",
   "metadata": {
    "ExecuteTime": {
     "end_time": "2022-04-22T08:01:12.961468Z",
     "start_time": "2022-04-22T08:01:12.956491Z"
    }
   },
   "outputs": [],
   "source": [
    "import numpy as np"
   ]
  },
  {
   "cell_type": "markdown",
   "id": "4a640e14",
   "metadata": {},
   "source": [
    "### 중복없이 랜덤번호 출력 (다른 방법도 있음)\n",
    "- https://numpy.org/doc/stable/reference/random/generated/numpy.random.choice.html 참고"
   ]
  },
  {
   "cell_type": "code",
   "execution_count": 37,
   "id": "1c378593",
   "metadata": {
    "ExecuteTime": {
     "end_time": "2022-04-22T08:48:33.489776Z",
     "start_time": "2022-04-22T08:48:33.484824Z"
    }
   },
   "outputs": [
    {
     "name": "stdout",
     "output_type": "stream",
     "text": [
      "[39 14 45  1 16 13]\n"
     ]
    }
   ],
   "source": [
    "lotto = np.arange(45)+1\n",
    "print(np.random.choice(lotto, 6 , replace=False , p=None)) # p는 default 값이 none이라서 안넣어주어도 됩니다."
   ]
  },
  {
   "cell_type": "markdown",
   "id": "6e8c88ca",
   "metadata": {},
   "source": [
    "### 정수 인덱싱 및 슬라이싱"
   ]
  },
  {
   "cell_type": "code",
   "execution_count": 29,
   "id": "80c8980d",
   "metadata": {
    "ExecuteTime": {
     "end_time": "2022-04-22T08:45:57.889403Z",
     "start_time": "2022-04-22T08:45:57.877435Z"
    }
   },
   "outputs": [
    {
     "name": "stdout",
     "output_type": "stream",
     "text": [
      "원본\n",
      " [[1 2 3]\n",
      " [4 5 6]\n",
      " [7 8 9]] \n",
      "\n",
      "1번 인덱싱  2 \n",
      "\n",
      "2번 인덱싱  2 \n",
      "\n",
      "3번 1차원 행만 인덱싱\n",
      " [1 2] \n",
      "\n",
      "4번 1차원 행 2차원 인덱싱\n",
      " [[1 2 3]] \n",
      "\n",
      "5번 2차원 행만 인덱싱\n",
      " [[1 2 3]\n",
      " [4 5 6]] \n",
      "\n",
      "6번 행,열 인덱싱\n",
      " [2 5 6] \n",
      "\n",
      "새로운 배열 생성 [2 2 4 7 8 9 9 9]\n"
     ]
    }
   ],
   "source": [
    "\n",
    "data2 = [\n",
    "    [1, 2, 3],\n",
    "    [4, 5, 6],\n",
    "    [7, 8, 9]\n",
    "]\n",
    "\n",
    "arr = np.array(data2)\n",
    "arr1 = np.array([1, 2, 3]) \n",
    "arr2 = np.array([[1, 2, 3]]) \n",
    "print(\"원본\\n\",arr,\"\\n\")\n",
    "#인덱싱 \n",
    "print(\"1번 인덱싱 \",arr[0][1],\"\\n\")\n",
    "print(\"2번 인덱싱 \",arr[0,1],\"\\n\")\n",
    "\n",
    "# 정수 배열 인덱싱 \n",
    "print(\"3번 1차원 행만 인덱싱\\n\",arr1[[0,1]] ,\"\\n\" ) # 1차원에 행 정보가 없기 때문에 열 index로 인덱싱\n",
    "print(\"4번 1차원 행 2차원 인덱싱\\n\",arr2[[0]] ,\"\\n\" ) # 2차원 [[ ]] 행에 대한 정보가 있기 떄문에 행 index로 인덱싱\n",
    "print(\"5번 2차원 행만 인덱싱\\n\",arr[ [0,1] ] ,\"\\n\") # [0,1] 행 index (열 index를 주지 않았을 때) \n",
    "print(\"6번 행,열 인덱싱\\n\",arr[ [0,1,1],[1,1,2] ] ,\"\\n\") # (0,1)의 값과 (1,1)의 값과 (1,1)의 값을 인덱싱\n",
    "\n",
    "# 추가적으로 정수 배열을 이용해서 할 수있는 것들\n",
    "arr3 = np.array( [ 2,4,5,6,7,8,9,10,14,16,18])\n",
    "int_index_array = np.array([0,0,1,4,5,6,6,6])\n",
    "new_arr = arr3[int_index_array] \n",
    "print(\"새로운 배열 생성\",new_arr)"
   ]
  },
  {
   "cell_type": "code",
   "execution_count": 30,
   "id": "16ace228",
   "metadata": {
    "ExecuteTime": {
     "end_time": "2022-04-22T08:45:59.888074Z",
     "start_time": "2022-04-22T08:45:59.880081Z"
    }
   },
   "outputs": [
    {
     "name": "stdout",
     "output_type": "stream",
     "text": [
      "1번 \n",
      " [[1 2 3]\n",
      " [4 5 6]\n",
      " [7 8 9]] \n",
      "\n",
      "2번 행 \n",
      " [1 2 3] \n",
      "\n",
      "2번 열 \n",
      " [2 5 8] \n",
      "\n",
      "3번 \n",
      " [[1 2 3]\n",
      " [4 5 6]] \n",
      "\n",
      "4번 \n",
      " [[1 2 3]\n",
      " [4 5 6]] \n",
      "\n",
      "5번 \n",
      " [[1]\n",
      " [4]] \n",
      "\n",
      "6번 \n",
      " [[1 2]] \n",
      "\n"
     ]
    }
   ],
   "source": [
    "# 슬라이싱 (리턴이 되는 형태를 설명 안한 것 같아서 넣었습니다. 출력에 [] 가 몇개 있는지 참고하시면 되겠습니다.)\n",
    "# 배열[a:b:c , d:e:f] 일때 a,d는 시작값, b,e는 도착값, c,f는 간격\n",
    "print(\"1번 \\n\",arr[ : ],\"\\n\")   #arr[ 시작값:끝값:간격 ,  : ] \n",
    "print(\"2번 행 \\n\",arr[ 0     ,  :   ],\"\\n\") #1차원 배열로 반환   (:없이 입력을 하게 되면 일차원 반환)\n",
    "print(\"2번 열 \\n\",arr[   :   , 1 ],\"\\n\") #1차원 배열로 반환\n",
    "print(\"3번 \\n\",   arr[   : 2 ],\"\\n\")      #2차원 배열로 반환\n",
    "print(\"4번 \\n\",   arr[ 0 : 2 ,  :   ],\"\\n\") #2차원 배열로 반환\n",
    "print(\"5번 \\n\",   arr[   : 2 ,  : 1 ],\"\\n\") #2차원 배열로 반환\n",
    "print(\"6번 \\n\",   arr[   : 1 ,  : 2 ],\"\\n\") #2차원 배열로 반환"
   ]
  },
  {
   "cell_type": "code",
   "execution_count": 32,
   "id": "c894f9c1",
   "metadata": {
    "ExecuteTime": {
     "end_time": "2022-04-22T08:46:17.041285Z",
     "start_time": "2022-04-22T08:46:17.034304Z"
    }
   },
   "outputs": [
    {
     "name": "stdout",
     "output_type": "stream",
     "text": [
      "전 [10 20 30]\n",
      "1로변경 [ 1 20 30]\n",
      "후 [1 0 0]\n"
     ]
    }
   ],
   "source": [
    "\"\"\" \n",
    "왜 [1,0,0]이 아니고 [0,0,0] 나올까? \n",
    "답 : 10번째 줄에서 10의 값을 1로 바꾸어 주었기 때문입니다. cond로 했을때는 [True, False,False] 값이 저장이 되어있기\n",
    "     때문에 arr의 정보를 바꾸어 주어도 상관이 없어서 [1,0,0]으로 출력이 되었던 것입니다~\n",
    "     [1,0,0]을 보고 싶으시면 10번째 코드를 밑에서 실행 해주시면 되겠습니다.\n",
    "\"\"\"\n",
    "arr = np.array([10, 20, 30])\n",
    "cond = arr == 10\n",
    "print(\"전\",arr)\n",
    "arr[cond] = 1\n",
    "print(\"1로변경\",arr)\n",
    "arr[~(cond)] = 0\n",
    "print(\"후\",arr)"
   ]
  },
  {
   "cell_type": "code",
   "execution_count": 35,
   "id": "246fdcfd",
   "metadata": {
    "ExecuteTime": {
     "end_time": "2022-04-22T08:47:38.264430Z",
     "start_time": "2022-04-22T08:47:38.257449Z"
    }
   },
   "outputs": [
    {
     "name": "stdout",
     "output_type": "stream",
     "text": [
      "전 [10 20 30]\n",
      "후 [1 0 0]\n"
     ]
    }
   ],
   "source": [
    "arr = np.array([10, 20, 30])\n",
    "print(\"전\",arr)\n",
    "arr[~(arr == 10)] = 0\n",
    "arr[(arr == 10)] = 1\n",
    "print(\"후\",arr)"
   ]
  },
  {
   "cell_type": "code",
   "execution_count": null,
   "id": "e5959bbb",
   "metadata": {},
   "outputs": [],
   "source": []
  }
 ],
 "metadata": {
  "hide_input": false,
  "kernelspec": {
   "display_name": "Python 3 (ipykernel)",
   "language": "python",
   "name": "python3"
  },
  "language_info": {
   "codemirror_mode": {
    "name": "ipython",
    "version": 3
   },
   "file_extension": ".py",
   "mimetype": "text/x-python",
   "name": "python",
   "nbconvert_exporter": "python",
   "pygments_lexer": "ipython3",
   "version": "3.9.7"
  },
  "toc": {
   "base_numbering": 1,
   "nav_menu": {},
   "number_sections": true,
   "sideBar": true,
   "skip_h1_title": false,
   "title_cell": "Table of Contents",
   "title_sidebar": "Contents",
   "toc_cell": false,
   "toc_position": {},
   "toc_section_display": true,
   "toc_window_display": false
  },
  "varInspector": {
   "cols": {
    "lenName": 16,
    "lenType": 16,
    "lenVar": 40
   },
   "kernels_config": {
    "python": {
     "delete_cmd_postfix": "",
     "delete_cmd_prefix": "del ",
     "library": "var_list.py",
     "varRefreshCmd": "print(var_dic_list())"
    },
    "r": {
     "delete_cmd_postfix": ") ",
     "delete_cmd_prefix": "rm(",
     "library": "var_list.r",
     "varRefreshCmd": "cat(var_dic_list()) "
    }
   },
   "types_to_exclude": [
    "module",
    "function",
    "builtin_function_or_method",
    "instance",
    "_Feature"
   ],
   "window_display": false
  }
 },
 "nbformat": 4,
 "nbformat_minor": 5
}
