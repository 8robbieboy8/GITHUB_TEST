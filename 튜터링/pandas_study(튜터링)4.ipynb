{
 "cells": [
  {
   "cell_type": "markdown",
   "id": "076ad051",
   "metadata": {
    "id": "076ad051"
   },
   "source": [
    "# Pandas"
   ]
  },
  {
   "cell_type": "markdown",
   "id": "2a4714f0",
   "metadata": {
    "ExecuteTime": {
     "end_time": "2022-04-20T03:51:07.217787Z",
     "start_time": "2022-04-20T03:51:07.212833Z"
    },
    "id": "2a4714f0"
   },
   "source": [
    "### pandas 이용해서 데이터 만들기, 빈데이터에 추가하기, 데이터 합치기"
   ]
  },
  {
   "cell_type": "code",
   "execution_count": null,
   "id": "53668a52",
   "metadata": {
    "ExecuteTime": {
     "end_time": "2022-04-21T12:45:23.746497Z",
     "start_time": "2022-04-21T12:45:23.290736Z"
    },
    "colab": {
     "base_uri": "https://localhost:8080/"
    },
    "executionInfo": {
     "elapsed": 593,
     "status": "ok",
     "timestamp": 1650524521425,
     "user": {
      "displayName": "Mark K",
      "userId": "03340535256939132196"
     },
     "user_tz": -540
    },
    "id": "53668a52",
    "outputId": "2657f382-507a-43d5-cb3f-bc22fe852a8f"
   },
   "outputs": [
    {
     "name": "stdout",
     "output_type": "stream",
     "text": [
      "1번째 방법\n",
      "      종목코드    종목명   현재가\n",
      "0  037730     3R  1510\n",
      "1  036360  3SOFT  1790\n",
      "2  005760   ACTS  1185\n",
      "\n",
      "2번째 방법\n",
      "      종목코드    종목명   현재가\n",
      "0  037730     3R  1510\n",
      "1  036360  3SOFT  1790\n",
      "2  005760   ACTS  1185\n",
      "\n",
      "3번째 방법\n",
      "           종목명   현재가   등락률\n",
      "종목코드                     \n",
      "037730     3R  1510  7.36\n",
      "036360  3SOFT  1790  1.65\n",
      "005760   ACTS  1185  1.28\n",
      "\n",
      "4번째 Series 사용 방법\n",
      "           종목명   현재가   등락률\n",
      "066570     3R  1510  7.36\n",
      "036360  3SOFT  1790  1.65\n",
      "005760   ACTS  1185  1.28\n",
      "\n",
      "5번째 append 사용 방법\n",
      "      종목명   현재가  등락률    종목코드\n",
      "0     3R  1510  NaN  037730\n",
      "1  3SOFT  1790  NaN  036360\n",
      "2   ACTS  1185  NaN  005760\n",
      "\n",
      "6번째 concat axis=0 일때 방법\n",
      "      종목코드    종목명   현재가\n",
      "0  037730     3R  1510\n",
      "0  036360  3SOFT  1790\n",
      "1  005760   ACTS  1185\n",
      "\n",
      "6번째 concat axis=1 일때 방법\n",
      "      종목코드  종목명     현재가    종목코드    종목명   현재가\n",
      "0  037730   3R  1510.0  036360  3SOFT  1790\n",
      "1     NaN  NaN     NaN  005760   ACTS  1185\n",
      "\n",
      "7번째 merge 방법 \n",
      "      종목코드    종목명   현재가\n",
      "0  037730     3R  1510\n",
      "1  036360  3SOFT  1790\n",
      "2  005760   ACTS  1185\n"
     ]
    }
   ],
   "source": [
    "import pandas as pd\n",
    "\n",
    "#1번째 방법\n",
    "data = {\n",
    "    '종목코드': ['037730', '036360', '005760'],\n",
    "    '종목명': ['3R', '3SOFT', 'ACTS'],\n",
    "    '현재가': [1510, 1790, 1185]\n",
    "}\n",
    "df = pd.DataFrame(data)           # DataFrame 클래스의 객체 생성 (생성자 호출)\n",
    "print(\"1번째 방법\\n\",df)\n",
    "\n",
    "#2번째 방법\n",
    "df2 = pd.DataFrame({\n",
    "    '종목코드': ['037730', '036360', '005760'],\n",
    "    '종목명': ['3R', '3SOFT', 'ACTS'],\n",
    "    '현재가': [1510, 1790, 1185]\n",
    "}) \n",
    "print(\"\\n2번째 방법\\n\",df2)\n",
    "\n",
    "# 3번째 방법\n",
    "data2 = [\n",
    "    [\"3R\", 1510, 7.36],\n",
    "    [\"3SOFT\", 1790, 1.65],\n",
    "    [\"ACTS\", 1185, 1.28],\n",
    "]\n",
    "index = [\"037730\", \"036360\", \"005760\"]\n",
    "columns = [\"종목명\", \"현재가\", \"등락률\"]\n",
    "\n",
    "df3 = pd.DataFrame(data=data2, index=index, columns=columns)\n",
    "df3.index.name = \"종목코드\"\n",
    "print(\"\\n3번째 방법\\n\",df3)\n",
    "\n",
    "##########################################\n",
    "#기존의 데이터를 합치는 방법으로 생성\n",
    "##########################################\n",
    "#4번째 Series , append 이용 방법\n",
    "df_s = pd.DataFrame(columns = df3.columns)\n",
    "s = pd.Series(data=[\"3R\", 1510,7.36], index=df3.columns)\n",
    "df_s.loc[\"066570\"] = s\n",
    "df_s.loc[\"036360\"] = [\"3SOFT\", 1790,1.65]\n",
    "s = pd.Series(data=[\"ACTS\", 1185,1.28], index=df3.columns, name=\"005760\")\n",
    "df_s = df_s.append(s)\n",
    "print(\"\\n4번째 Series 사용 방법\\n\",df_s)\n",
    "\n",
    "#5번째 append 이용 방법 \n",
    "df4 = pd.DataFrame(columns = df3.columns) # df2의 칼럼만 복사\n",
    "df4 = df4.append({'종목코드' :'037730','종목명': '3R' ,'현재가': 1510 },ignore_index=True)\n",
    "df4 = df4.append({'종목코드' :'036360','종목명': '3SOFT' ,'현재가': 1790 },ignore_index=True)\n",
    "df4 = df4.append({'종목코드' :'005760','종목명': 'ACTS' ,'현재가': 1185 },ignore_index=True)\n",
    "print(\"\\n5번째 append 사용 방법\\n\",df4)\n",
    "\n",
    "#6번째 방법 concat에 join을 넣어줘서 어느 쪽에 있는 것만 합칠 수도 있음. \n",
    "df5 = pd.DataFrame({'종목코드' :['037730'],'종목명': ['3R'] ,'현재가': [1510] })\n",
    "df6 = pd.DataFrame({'종목코드' :['036360','005760'],'종목명': ['3SOFT','ACTS'] ,'현재가': [1790 , 1185]})\n",
    "df7 = pd.concat([df5,df6], axis=0)       #행방향\n",
    "df8 = pd.concat([df5,df6], axis=1)       #열방향\n",
    "print(\"\\n6번째 concat axis=0 일때 방법\\n\",df7)\n",
    "print(\"\\n6번째 concat axis=1 일때 방법\\n\",df8)\n",
    "\n",
    "#7번째 방법 \n",
    "df9 = pd.merge(df5,df6, how='outer', left_index=False, right_index=False)\n",
    "print(\"\\n7번째 merge 방법 \\n\",df9)"
   ]
  },
  {
   "cell_type": "markdown",
   "id": "6ba7c856",
   "metadata": {
    "id": "6ba7c856"
   },
   "source": [
    "### 인덱스 "
   ]
  },
  {
   "cell_type": "code",
   "execution_count": null,
   "id": "7d85fb2a",
   "metadata": {
    "ExecuteTime": {
     "end_time": "2022-04-21T12:45:26.710605Z",
     "start_time": "2022-04-21T12:45:26.696644Z"
    },
    "id": "7d85fb2a",
    "outputId": "3b9ceb88-05a0-4d6c-b8f3-e0c6ccec0771"
   },
   "outputs": [
    {
     "name": "stdout",
     "output_type": "stream",
     "text": [
      "원본\n",
      "      종목코드    종목명   현재가\n",
      "0  037730     3R  1510\n",
      "1  036360  3SOFT  1790\n",
      "2  005760   ACTS  1185 \n",
      "\n",
      "index 변경후\n",
      "           종목명   현재가\n",
      "종목코드               \n",
      "037730     3R  1510\n",
      "036360  3SOFT  1790\n",
      "005760   ACTS  1185 \n",
      "\n",
      "reset 후\n",
      "      종목코드    종목명   현재가\n",
      "0  037730     3R  1510\n",
      "1  036360  3SOFT  1790\n",
      "2  005760   ACTS  1185 \n",
      "\n"
     ]
    }
   ],
   "source": [
    "print(\"원본\\n\", df9, \"\\n\")\n",
    "df9 = df9.set_index('종목코드')\n",
    "print(\"index 변경후\\n\",df9, \"\\n\")\n",
    "df9 = df9.reset_index()\n",
    "print(\"reset 후\\n\",df9,\"\\n\")"
   ]
  },
  {
   "cell_type": "markdown",
   "id": "f01a4d8e",
   "metadata": {
    "id": "f01a4d8e"
   },
   "source": [
    "### 칼럼 인덱싱, 슬라이싱"
   ]
  },
  {
   "cell_type": "code",
   "execution_count": null,
   "id": "051c7857",
   "metadata": {
    "ExecuteTime": {
     "end_time": "2022-04-21T12:48:17.413544Z",
     "start_time": "2022-04-21T12:48:17.403577Z"
    },
    "id": "051c7857",
    "outputId": "4ca42d9e-fe87-4d28-d56a-47c7fe036f1a"
   },
   "outputs": [
    {
     "name": "stdout",
     "output_type": "stream",
     "text": [
      "종목코드\n",
      "037730    1510\n",
      "036360    1790\n",
      "005760    1185\n",
      "Name: 현재가, dtype: int64\n",
      "<class 'pandas.core.series.Series'>\n",
      "         현재가\n",
      "종목코드        \n",
      "037730  1510\n",
      "036360  1790\n",
      "005760  1185\n",
      "<class 'pandas.core.frame.DataFrame'>\n"
     ]
    }
   ],
   "source": [
    "# 종목코드에 해당하는 현재가 칼럼만 받아오기\n",
    "df9 = df9.set_index('종목코드')\n",
    "print(df9[ '현재가' ])      # 시리즈로 반환  인덱싱\n",
    "print(type(df9[ '현재가' ]))\n",
    "print(df9[ [ '현재가' ] ])    # 데이터프레임으로 반환  슬라이싱\n",
    "print(type(df9[ [ '현재가' ] ]))"
   ]
  },
  {
   "cell_type": "markdown",
   "id": "f8872218",
   "metadata": {
    "id": "f8872218"
   },
   "source": [
    "### 로우 인덱싱, 슬라이싱 (loc, iloc)\n",
    " - loc 인덱스를 기준으로 로우 데이터 추출\n",
    " - iloc 행 번호를 기준으로 로우 데이터 추출"
   ]
  },
  {
   "cell_type": "code",
   "execution_count": null,
   "id": "f5bdfd45",
   "metadata": {
    "ExecuteTime": {
     "end_time": "2022-04-25T11:03:08.509102Z",
     "start_time": "2022-04-25T11:03:03.245915Z"
    },
    "colab": {
     "base_uri": "https://localhost:8080/"
    },
    "executionInfo": {
     "elapsed": 266,
     "status": "ok",
     "timestamp": 1650798548457,
     "user": {
      "displayName": "서명교",
      "userId": "11730583039526359700"
     },
     "user_tz": -540
    },
    "id": "f5bdfd45",
    "outputId": "c9372a8e-39fb-4a2a-916b-67f02b580073"
   },
   "outputs": [
    {
     "name": "stdout",
     "output_type": "stream",
     "text": [
      "인덱싱\n",
      "loc\n",
      " 종목명      3R\n",
      "현재가    1510\n",
      "등락률    7.36\n",
      "Name: 037730, dtype: object\n",
      "\n",
      "iloc\n",
      " 종목명      3R\n",
      "현재가    1510\n",
      "등락률    7.36\n",
      "Name: 037730, dtype: object\n",
      "\n",
      "슬라이싱\n",
      "loc\n",
      "           종목명   현재가   등락률\n",
      "037730     3R  1510  7.36\n",
      "036360  3SOFT  1790  1.65\n",
      "\n",
      "iloc\n",
      "           종목명   현재가   등락률\n",
      "037730     3R  1510  7.36\n",
      "036360  3SOFT  1790  1.65\n"
     ]
    }
   ],
   "source": [
    "import pandas as pd\n",
    "data = [\n",
    "    [\"3R\", 1510, 7.36],\n",
    "    [\"3SOFT\", 1790, 1.65],\n",
    "    [\"ACTS\", 1185, 1.28]\n",
    "]\n",
    "\n",
    "index = [\"037730\", \"036360\", \"005760\"]\n",
    "columns = [\"종목명\", \"현재가\", \"등락률\"]\n",
    "df = pd.DataFrame(data=data, index=index, columns=columns)\n",
    "# 인덱싱\n",
    "print(\"인덱싱\\nloc\\n\",df.loc[\"037730\"])\n",
    "print(\"\\niloc\\n\",df.iloc[ 0 ])\n",
    "\n",
    "#슬라이싱\n",
    "print(\"\\n슬라이싱\\nloc\\n\",df.loc[ [ \"037730\", \"036360\" ] ])\n",
    "print(\"\\niloc\\n\",df.iloc[ [ 0, 1 ] ])"
   ]
  },
  {
   "cell_type": "markdown",
   "id": "1e0282ee",
   "metadata": {
    "id": "1e0282ee"
   },
   "source": [
    "# ========================================================"
   ]
  },
  {
   "cell_type": "code",
   "execution_count": null,
   "id": "fedf8044",
   "metadata": {
    "ExecuteTime": {
     "end_time": "2022-04-25T11:03:10.653361Z",
     "start_time": "2022-04-25T11:03:10.643387Z"
    },
    "colab": {
     "base_uri": "https://localhost:8080/"
    },
    "executionInfo": {
     "elapsed": 343,
     "status": "ok",
     "timestamp": 1650798552873,
     "user": {
      "displayName": "서명교",
      "userId": "11730583039526359700"
     },
     "user_tz": -540
    },
    "id": "fedf8044",
    "outputId": "6e7d516b-81d2-4204-9bec-f204bd8c8864"
   },
   "outputs": [
    {
     "name": "stdout",
     "output_type": "stream",
     "text": [
      "1510\n",
      "1510\n",
      "1510\n",
      "1510\n",
      "1510\n",
      "1510\n",
      "1510\n",
      "1510\n",
      "1510\n",
      "1510\n"
     ]
    }
   ],
   "source": [
    "# 같이 사용가능\n",
    "# 행 번호로 행 선택 후 시리즈 인덱싱 \n",
    "print(df.iloc[0].iloc[1])               # 시리즈 행 번호\n",
    "print(df.iloc[0][1])\n",
    "print(df.iloc[0].loc[\"현재가\"])         # 시리즈 인덱스 \n",
    "print(df.iloc[0][\"현재가\"])            # 시리즈 인덱스\n",
    "print(df.iloc[0, 1])\n",
    "\n",
    "# 인덱스로 행 선택 후 시리즈 인덱싱 \n",
    "print(df.loc[\"037730\"].iloc[1])        # 시리즈 행 번호\n",
    "print(df.loc[\"037730\"].loc[\"현재가\"])  # 시리즈 인덱스 \n",
    "print(df.loc[\"037730\"][\"현재가\"])     # 시리즈 인덱스\n",
    "print(df.loc[\"037730\", \"현재가\"])\n",
    "print(df[\"현재가\"][\"037730\"])"
   ]
  },
  {
   "cell_type": "code",
   "execution_count": null,
   "id": "d1c8df03",
   "metadata": {
    "ExecuteTime": {
     "end_time": "2022-04-25T11:03:11.061300Z",
     "start_time": "2022-04-25T11:03:11.051298Z"
    },
    "colab": {
     "base_uri": "https://localhost:8080/"
    },
    "executionInfo": {
     "elapsed": 269,
     "status": "ok",
     "timestamp": 1650798557882,
     "user": {
      "displayName": "서명교",
      "userId": "11730583039526359700"
     },
     "user_tz": -540
    },
    "id": "d1c8df03",
    "outputId": "5043d0d0-352e-4bf4-e3c6-85d9af28f439"
   },
   "outputs": [
    {
     "name": "stdout",
     "output_type": "stream",
     "text": [
      "          종목명   현재가\n",
      "037730     3R  1510\n",
      "036360  3SOFT  1790\n",
      "          종목명   현재가\n",
      "037730     3R  1510\n",
      "036360  3SOFT  1790\n"
     ]
    }
   ],
   "source": [
    "# 특정행 가져오기\n",
    "print(df.iloc[[0, 1], [0, 1]])\n",
    "print(df.loc[[\"037730\", \"036360\"], [\"종목명\", \"현재가\"]])"
   ]
  },
  {
   "cell_type": "code",
   "execution_count": null,
   "id": "34ff3428",
   "metadata": {
    "ExecuteTime": {
     "end_time": "2022-04-25T11:03:11.374432Z",
     "start_time": "2022-04-25T11:03:11.360491Z"
    },
    "colab": {
     "base_uri": "https://localhost:8080/"
    },
    "executionInfo": {
     "elapsed": 251,
     "status": "ok",
     "timestamp": 1650798560363,
     "user": {
      "displayName": "서명교",
      "userId": "11730583039526359700"
     },
     "user_tz": -540
    },
    "id": "34ff3428",
    "outputId": "38fb20f9-99d6-4840-96e6-fd80093610d2"
   },
   "outputs": [
    {
     "name": "stdout",
     "output_type": "stream",
     "text": [
      "          종목명   현재가   등락률\n",
      "037730     3R  1510  7.36\n",
      "036360  3SOFT  1790  1.65 \n",
      "\n",
      "          종목명   현재가   등락률\n",
      "037730     3R  1510  7.36\n",
      "036360  3SOFT  1790  1.65 \n",
      "\n",
      "         종목명   현재가   등락률\n",
      "005760  ACTS  1185  1.28\n"
     ]
    }
   ],
   "source": [
    "# 1500 이상의 값만 받아오기\n",
    "temp = df['현재가'] >= 1500\n",
    "print(df.loc[temp],\"\\n\")\n",
    "print(df.loc[df['현재가'] >= 1500],\"\\n\")\n",
    "\n",
    "print(df.loc[~temp])"
   ]
  },
  {
   "cell_type": "code",
   "execution_count": null,
   "id": "0b3f8f57",
   "metadata": {
    "ExecuteTime": {
     "end_time": "2022-04-25T11:03:11.666651Z",
     "start_time": "2022-04-25T11:03:11.658675Z"
    },
    "colab": {
     "base_uri": "https://localhost:8080/"
    },
    "executionInfo": {
     "elapsed": 270,
     "status": "ok",
     "timestamp": 1650798579165,
     "user": {
      "displayName": "서명교",
      "userId": "11730583039526359700"
     },
     "user_tz": -540
    },
    "id": "0b3f8f57",
    "outputId": "3103cef5-6ccb-4281-80ff-74bf255683b4"
   },
   "outputs": [
    {
     "name": "stdout",
     "output_type": "stream",
     "text": [
      "037730    1510\n",
      "036360    1790\n",
      "Name: 현재가, dtype: int64\n",
      "037730    1510\n",
      "036360    1790\n",
      "Name: 현재가, dtype: int64\n"
     ]
    }
   ],
   "source": [
    "# 현재가만 받아오기\n",
    "print(df.loc[temp][\"현재가\"])\n",
    "print(df.loc[temp, \"현재가\"])"
   ]
  },
  {
   "cell_type": "code",
   "execution_count": null,
   "id": "0167a1e3",
   "metadata": {
    "ExecuteTime": {
     "end_time": "2022-04-25T11:03:12.259095Z",
     "start_time": "2022-04-25T11:03:12.239121Z"
    },
    "colab": {
     "base_uri": "https://localhost:8080/"
    },
    "executionInfo": {
     "elapsed": 301,
     "status": "ok",
     "timestamp": 1650798809436,
     "user": {
      "displayName": "서명교",
      "userId": "11730583039526359700"
     },
     "user_tz": -540
    },
    "id": "0167a1e3",
    "outputId": "fedd55b1-9e63-4d41-a16e-f40803063d65",
    "scrolled": false
   },
   "outputs": [
    {
     "name": "stdout",
     "output_type": "stream",
     "text": [
      "==== 데이터 어떻게 나오는지 확인 \n",
      " 037730     True\n",
      "036360     True\n",
      "005760    False\n",
      "Name: 현재가, dtype: bool\n",
      "037730     True\n",
      "036360    False\n",
      "005760     True\n",
      "Name: 현재가, dtype: bool \n",
      "==================\n",
      "       종목명   현재가   등락률\n",
      "037730  3R  1510  7.36 \n",
      "\n",
      "       종목명   현재가   등락률\n",
      "037730  3R  1510  7.36 \n",
      "\n",
      "       종목명   현재가   등락률\n",
      "037730  3R  1510  7.36 \n",
      "\n",
      "          종목명   현재가   등락률\n",
      "036360  3SOFT  1790  1.65\n",
      "005760   ACTS  1185  1.28\n"
     ]
    }
   ],
   "source": [
    "temp = (df['현재가'] >= 1500) & (df['현재가'] < 1700)\n",
    "print(\"==== 데이터 어떻게 나오는지 확인 \\n\",df['현재가'] >= 1500)\n",
    "print(df['현재가'] < 1700,\"\\n==================\")\n",
    "\n",
    "print(df.loc[temp],\"\\n\")\n",
    "print(df.loc[(df['현재가'] >= 1500) & (df['현재가'] < 1700)],\"\\n\")\n",
    "print(df[(df['현재가'] >= 1500) & (df['현재가'] < 1700)],\"\\n\")\n",
    "\n",
    "print(df.loc[~temp])"
   ]
  },
  {
   "cell_type": "markdown",
   "id": "63f98b71",
   "metadata": {
    "id": "63f98b71"
   },
   "source": [
    "### 칼럼 추가"
   ]
  },
  {
   "cell_type": "code",
   "execution_count": null,
   "id": "a59bb787",
   "metadata": {
    "ExecuteTime": {
     "end_time": "2022-04-25T11:04:28.879132Z",
     "start_time": "2022-04-25T11:04:26.815618Z"
    },
    "id": "a59bb787",
    "outputId": "d05119af-ddff-4e67-8c66-3a9a7ecc3233"
   },
   "outputs": [
    {
     "data": {
      "text/html": [
       "<div>\n",
       "<style scoped>\n",
       "    .dataframe tbody tr th:only-of-type {\n",
       "        vertical-align: middle;\n",
       "    }\n",
       "\n",
       "    .dataframe tbody tr th {\n",
       "        vertical-align: top;\n",
       "    }\n",
       "\n",
       "    .dataframe thead th {\n",
       "        text-align: right;\n",
       "    }\n",
       "</style>\n",
       "<table border=\"1\" class=\"dataframe\">\n",
       "  <thead>\n",
       "    <tr style=\"text-align: right;\">\n",
       "      <th></th>\n",
       "      <th>종목명</th>\n",
       "      <th>현재가</th>\n",
       "      <th>등락률</th>\n",
       "    </tr>\n",
       "  </thead>\n",
       "  <tbody>\n",
       "    <tr>\n",
       "      <th>037730</th>\n",
       "      <td>3R</td>\n",
       "      <td>1510</td>\n",
       "      <td>7.36</td>\n",
       "    </tr>\n",
       "    <tr>\n",
       "      <th>036360</th>\n",
       "      <td>3SOFT</td>\n",
       "      <td>1790</td>\n",
       "      <td>1.65</td>\n",
       "    </tr>\n",
       "    <tr>\n",
       "      <th>005760</th>\n",
       "      <td>ACTS</td>\n",
       "      <td>1185</td>\n",
       "      <td>1.28</td>\n",
       "    </tr>\n",
       "  </tbody>\n",
       "</table>\n",
       "</div>"
      ],
      "text/plain": [
       "          종목명   현재가   등락률\n",
       "037730     3R  1510  7.36\n",
       "036360  3SOFT  1790  1.65\n",
       "005760   ACTS  1185  1.28"
      ]
     },
     "execution_count": 9,
     "metadata": {},
     "output_type": "execute_result"
    }
   ],
   "source": [
    "df"
   ]
  },
  {
   "cell_type": "code",
   "execution_count": null,
   "id": "c5720946",
   "metadata": {
    "ExecuteTime": {
     "end_time": "2022-04-25T11:05:57.323897Z",
     "start_time": "2022-04-25T11:05:57.309954Z"
    },
    "id": "c5720946",
    "outputId": "fb1790a7-0152-4e63-f34e-d58debbac33b"
   },
   "outputs": [
    {
     "data": {
      "text/html": [
       "<div>\n",
       "<style scoped>\n",
       "    .dataframe tbody tr th:only-of-type {\n",
       "        vertical-align: middle;\n",
       "    }\n",
       "\n",
       "    .dataframe tbody tr th {\n",
       "        vertical-align: top;\n",
       "    }\n",
       "\n",
       "    .dataframe thead th {\n",
       "        text-align: right;\n",
       "    }\n",
       "</style>\n",
       "<table border=\"1\" class=\"dataframe\">\n",
       "  <thead>\n",
       "    <tr style=\"text-align: right;\">\n",
       "      <th></th>\n",
       "      <th>종목명</th>\n",
       "      <th>현재가</th>\n",
       "      <th>등락률</th>\n",
       "      <th>비중</th>\n",
       "      <th>투입금액</th>\n",
       "      <th>보유주식수</th>\n",
       "    </tr>\n",
       "  </thead>\n",
       "  <tbody>\n",
       "    <tr>\n",
       "      <th>037730</th>\n",
       "      <td>3R</td>\n",
       "      <td>1510</td>\n",
       "      <td>7.36</td>\n",
       "      <td>33.3</td>\n",
       "      <td>33300.0</td>\n",
       "      <td>22.05</td>\n",
       "    </tr>\n",
       "    <tr>\n",
       "      <th>036360</th>\n",
       "      <td>3SOFT</td>\n",
       "      <td>1790</td>\n",
       "      <td>1.65</td>\n",
       "      <td>33.3</td>\n",
       "      <td>33300.0</td>\n",
       "      <td>18.60</td>\n",
       "    </tr>\n",
       "    <tr>\n",
       "      <th>005760</th>\n",
       "      <td>ACTS</td>\n",
       "      <td>1185</td>\n",
       "      <td>1.28</td>\n",
       "      <td>33.3</td>\n",
       "      <td>33300.0</td>\n",
       "      <td>28.10</td>\n",
       "    </tr>\n",
       "  </tbody>\n",
       "</table>\n",
       "</div>"
      ],
      "text/plain": [
       "          종목명   현재가   등락률    비중     투입금액  보유주식수\n",
       "037730     3R  1510  7.36  33.3  33300.0  22.05\n",
       "036360  3SOFT  1790  1.65  33.3  33300.0  18.60\n",
       "005760   ACTS  1185  1.28  33.3  33300.0  28.10"
      ]
     },
     "execution_count": 11,
     "metadata": {},
     "output_type": "execute_result"
    }
   ],
   "source": [
    "#round 활용 (반올림 함수)\n",
    "cash = 100000\n",
    "df['비중'] = round(100/3,1)\n",
    "df['투입금액'] = round(cash * df['비중']/100, -2)\n",
    "df['보유주식수'] = round( df['투입금액']/ df['현재가'] ,2)\n",
    "df"
   ]
  },
  {
   "cell_type": "markdown",
   "id": "ab199d7b",
   "metadata": {
    "id": "ab199d7b"
   },
   "source": [
    "### 삭제하기"
   ]
  },
  {
   "cell_type": "code",
   "execution_count": null,
   "id": "69479b3b",
   "metadata": {
    "ExecuteTime": {
     "end_time": "2022-04-25T11:07:05.004962Z",
     "start_time": "2022-04-25T11:07:02.912505Z"
    },
    "id": "69479b3b",
    "outputId": "da6ef275-b07f-4368-b46d-b829795e1b6e"
   },
   "outputs": [
    {
     "data": {
      "text/html": [
       "<div>\n",
       "<style scoped>\n",
       "    .dataframe tbody tr th:only-of-type {\n",
       "        vertical-align: middle;\n",
       "    }\n",
       "\n",
       "    .dataframe tbody tr th {\n",
       "        vertical-align: top;\n",
       "    }\n",
       "\n",
       "    .dataframe thead th {\n",
       "        text-align: right;\n",
       "    }\n",
       "</style>\n",
       "<table border=\"1\" class=\"dataframe\">\n",
       "  <thead>\n",
       "    <tr style=\"text-align: right;\">\n",
       "      <th></th>\n",
       "      <th>종목명</th>\n",
       "      <th>등락률</th>\n",
       "      <th>비중</th>\n",
       "      <th>투입금액</th>\n",
       "      <th>보유주식수</th>\n",
       "    </tr>\n",
       "  </thead>\n",
       "  <tbody>\n",
       "    <tr>\n",
       "      <th>037730</th>\n",
       "      <td>3R</td>\n",
       "      <td>7.36</td>\n",
       "      <td>33.3</td>\n",
       "      <td>33300.0</td>\n",
       "      <td>22.05</td>\n",
       "    </tr>\n",
       "    <tr>\n",
       "      <th>036360</th>\n",
       "      <td>3SOFT</td>\n",
       "      <td>1.65</td>\n",
       "      <td>33.3</td>\n",
       "      <td>33300.0</td>\n",
       "      <td>18.60</td>\n",
       "    </tr>\n",
       "    <tr>\n",
       "      <th>005760</th>\n",
       "      <td>ACTS</td>\n",
       "      <td>1.28</td>\n",
       "      <td>33.3</td>\n",
       "      <td>33300.0</td>\n",
       "      <td>28.10</td>\n",
       "    </tr>\n",
       "  </tbody>\n",
       "</table>\n",
       "</div>"
      ],
      "text/plain": [
       "          종목명   등락률    비중     투입금액  보유주식수\n",
       "037730     3R  7.36  33.3  33300.0  22.05\n",
       "036360  3SOFT  1.65  33.3  33300.0  18.60\n",
       "005760   ACTS  1.28  33.3  33300.0  28.10"
      ]
     },
     "execution_count": 12,
     "metadata": {},
     "output_type": "execute_result"
    }
   ],
   "source": [
    "df = df.drop('현재가', axis=1)\n",
    "df"
   ]
  },
  {
   "cell_type": "code",
   "execution_count": null,
   "id": "9a34ffda",
   "metadata": {
    "ExecuteTime": {
     "end_time": "2022-04-25T11:07:23.335599Z",
     "start_time": "2022-04-25T11:07:23.324628Z"
    },
    "id": "9a34ffda",
    "outputId": "a1cf9dc0-f137-4679-9c8f-4fc7252525cf"
   },
   "outputs": [
    {
     "data": {
      "text/html": [
       "<div>\n",
       "<style scoped>\n",
       "    .dataframe tbody tr th:only-of-type {\n",
       "        vertical-align: middle;\n",
       "    }\n",
       "\n",
       "    .dataframe tbody tr th {\n",
       "        vertical-align: top;\n",
       "    }\n",
       "\n",
       "    .dataframe thead th {\n",
       "        text-align: right;\n",
       "    }\n",
       "</style>\n",
       "<table border=\"1\" class=\"dataframe\">\n",
       "  <thead>\n",
       "    <tr style=\"text-align: right;\">\n",
       "      <th></th>\n",
       "      <th>종목명</th>\n",
       "      <th>등락률</th>\n",
       "      <th>비중</th>\n",
       "      <th>투입금액</th>\n",
       "      <th>보유주식수</th>\n",
       "    </tr>\n",
       "  </thead>\n",
       "  <tbody>\n",
       "    <tr>\n",
       "      <th>037730</th>\n",
       "      <td>3R</td>\n",
       "      <td>7.36</td>\n",
       "      <td>33.3</td>\n",
       "      <td>33300.0</td>\n",
       "      <td>22.05</td>\n",
       "    </tr>\n",
       "    <tr>\n",
       "      <th>036360</th>\n",
       "      <td>3SOFT</td>\n",
       "      <td>1.65</td>\n",
       "      <td>33.3</td>\n",
       "      <td>33300.0</td>\n",
       "      <td>18.60</td>\n",
       "    </tr>\n",
       "  </tbody>\n",
       "</table>\n",
       "</div>"
      ],
      "text/plain": [
       "          종목명   등락률    비중     투입금액  보유주식수\n",
       "037730     3R  7.36  33.3  33300.0  22.05\n",
       "036360  3SOFT  1.65  33.3  33300.0  18.60"
      ]
     },
     "execution_count": 13,
     "metadata": {},
     "output_type": "execute_result"
    }
   ],
   "source": [
    "df = df.drop(\"005760\", axis=0)\n",
    "df"
   ]
  },
  {
   "cell_type": "code",
   "execution_count": null,
   "id": "a0c0fa75",
   "metadata": {
    "ExecuteTime": {
     "end_time": "2022-04-25T11:13:02.338224Z",
     "start_time": "2022-04-25T11:13:02.327225Z"
    },
    "id": "a0c0fa75",
    "outputId": "21c31cba-a91b-4a3e-d50a-223354d96747"
   },
   "outputs": [
    {
     "data": {
      "text/html": [
       "<div>\n",
       "<style scoped>\n",
       "    .dataframe tbody tr th:only-of-type {\n",
       "        vertical-align: middle;\n",
       "    }\n",
       "\n",
       "    .dataframe tbody tr th {\n",
       "        vertical-align: top;\n",
       "    }\n",
       "\n",
       "    .dataframe thead th {\n",
       "        text-align: right;\n",
       "    }\n",
       "</style>\n",
       "<table border=\"1\" class=\"dataframe\">\n",
       "  <thead>\n",
       "    <tr style=\"text-align: right;\">\n",
       "      <th></th>\n",
       "      <th>종목코드</th>\n",
       "      <th>종목명</th>\n",
       "      <th>현재가</th>\n",
       "    </tr>\n",
       "  </thead>\n",
       "  <tbody>\n",
       "    <tr>\n",
       "      <th>1</th>\n",
       "      <td>037730</td>\n",
       "      <td>3R</td>\n",
       "      <td>1510</td>\n",
       "    </tr>\n",
       "    <tr>\n",
       "      <th>2</th>\n",
       "      <td>036360</td>\n",
       "      <td>3SOFT</td>\n",
       "      <td>1790</td>\n",
       "    </tr>\n",
       "    <tr>\n",
       "      <th>3</th>\n",
       "      <td>005760</td>\n",
       "      <td>ACTS</td>\n",
       "      <td>1185</td>\n",
       "    </tr>\n",
       "    <tr>\n",
       "      <th>4</th>\n",
       "      <td>000821</td>\n",
       "      <td>abc</td>\n",
       "      <td>1231</td>\n",
       "    </tr>\n",
       "    <tr>\n",
       "      <th>5</th>\n",
       "      <td>149231</td>\n",
       "      <td>bcd</td>\n",
       "      <td>5643</td>\n",
       "    </tr>\n",
       "  </tbody>\n",
       "</table>\n",
       "</div>"
      ],
      "text/plain": [
       "     종목코드    종목명   현재가\n",
       "1  037730     3R  1510\n",
       "2  036360  3SOFT  1790\n",
       "3  005760   ACTS  1185\n",
       "4  000821    abc  1231\n",
       "5  149231    bcd  5643"
      ]
     },
     "execution_count": 19,
     "metadata": {},
     "output_type": "execute_result"
    }
   ],
   "source": [
    "data123 = {\n",
    "    '종목코드': ['037730', '036360', '005760','000821','149231'],\n",
    "    '종목명': ['3R', '3SOFT', 'ACTS', 'abc','bcd'],\n",
    "    '현재가': [1510, 1790, 1185, 1231 , 5643]\n",
    "}\n",
    "index1 = [1 , 2 , 3, 4 , 5]\n",
    "df123 = pd.DataFrame(data = data123, index = index1)\n",
    "df123"
   ]
  },
  {
   "cell_type": "code",
   "execution_count": null,
   "id": "85a70102",
   "metadata": {
    "ExecuteTime": {
     "end_time": "2022-04-25T11:13:03.119103Z",
     "start_time": "2022-04-25T11:13:03.110126Z"
    },
    "id": "85a70102",
    "outputId": "6299028b-6f10-4b58-e076-c0a2dd4dcd16"
   },
   "outputs": [
    {
     "data": {
      "text/html": [
       "<div>\n",
       "<style scoped>\n",
       "    .dataframe tbody tr th:only-of-type {\n",
       "        vertical-align: middle;\n",
       "    }\n",
       "\n",
       "    .dataframe tbody tr th {\n",
       "        vertical-align: top;\n",
       "    }\n",
       "\n",
       "    .dataframe thead th {\n",
       "        text-align: right;\n",
       "    }\n",
       "</style>\n",
       "<table border=\"1\" class=\"dataframe\">\n",
       "  <thead>\n",
       "    <tr style=\"text-align: right;\">\n",
       "      <th></th>\n",
       "      <th>종목코드</th>\n",
       "      <th>종목명</th>\n",
       "      <th>현재가</th>\n",
       "    </tr>\n",
       "  </thead>\n",
       "  <tbody>\n",
       "    <tr>\n",
       "      <th>1</th>\n",
       "      <td>037730</td>\n",
       "      <td>3R</td>\n",
       "      <td>1510</td>\n",
       "    </tr>\n",
       "    <tr>\n",
       "      <th>3</th>\n",
       "      <td>005760</td>\n",
       "      <td>ACTS</td>\n",
       "      <td>1185</td>\n",
       "    </tr>\n",
       "    <tr>\n",
       "      <th>4</th>\n",
       "      <td>000821</td>\n",
       "      <td>abc</td>\n",
       "      <td>1231</td>\n",
       "    </tr>\n",
       "    <tr>\n",
       "      <th>5</th>\n",
       "      <td>149231</td>\n",
       "      <td>bcd</td>\n",
       "      <td>5643</td>\n",
       "    </tr>\n",
       "  </tbody>\n",
       "</table>\n",
       "</div>"
      ],
      "text/plain": [
       "     종목코드   종목명   현재가\n",
       "1  037730    3R  1510\n",
       "3  005760  ACTS  1185\n",
       "4  000821   abc  1231\n",
       "5  149231   bcd  5643"
      ]
     },
     "execution_count": 20,
     "metadata": {},
     "output_type": "execute_result"
    }
   ],
   "source": [
    "df123 = df123.drop(2, axis=0) # 인덱스 2 삭제\n",
    "df123"
   ]
  },
  {
   "cell_type": "code",
   "execution_count": null,
   "id": "0574b9b8",
   "metadata": {
    "ExecuteTime": {
     "end_time": "2022-04-25T11:13:03.605801Z",
     "start_time": "2022-04-25T11:13:03.594831Z"
    },
    "id": "0574b9b8",
    "outputId": "94950ac9-3ce3-4e2d-9551-5cce5fa54bd8"
   },
   "outputs": [
    {
     "data": {
      "text/html": [
       "<div>\n",
       "<style scoped>\n",
       "    .dataframe tbody tr th:only-of-type {\n",
       "        vertical-align: middle;\n",
       "    }\n",
       "\n",
       "    .dataframe tbody tr th {\n",
       "        vertical-align: top;\n",
       "    }\n",
       "\n",
       "    .dataframe thead th {\n",
       "        text-align: right;\n",
       "    }\n",
       "</style>\n",
       "<table border=\"1\" class=\"dataframe\">\n",
       "  <thead>\n",
       "    <tr style=\"text-align: right;\">\n",
       "      <th></th>\n",
       "      <th>종목코드</th>\n",
       "      <th>종목명</th>\n",
       "      <th>현재가</th>\n",
       "    </tr>\n",
       "  </thead>\n",
       "  <tbody>\n",
       "    <tr>\n",
       "      <th>3</th>\n",
       "      <td>005760</td>\n",
       "      <td>ACTS</td>\n",
       "      <td>1185</td>\n",
       "    </tr>\n",
       "    <tr>\n",
       "      <th>5</th>\n",
       "      <td>149231</td>\n",
       "      <td>bcd</td>\n",
       "      <td>5643</td>\n",
       "    </tr>\n",
       "  </tbody>\n",
       "</table>\n",
       "</div>"
      ],
      "text/plain": [
       "     종목코드   종목명   현재가\n",
       "3  005760  ACTS  1185\n",
       "5  149231   bcd  5643"
      ]
     },
     "execution_count": 21,
     "metadata": {},
     "output_type": "execute_result"
    }
   ],
   "source": [
    "drop_list = [1,4]\n",
    "df123 = df123.drop([1,4], axis=0) \n",
    "df123"
   ]
  },
  {
   "cell_type": "markdown",
   "id": "sKThCMAq2i9f",
   "metadata": {
    "id": "sKThCMAq2i9f"
   },
   "source": [
    "### GroupBy"
   ]
  },
  {
   "cell_type": "code",
   "execution_count": null,
   "id": "9834fea8",
   "metadata": {
    "ExecuteTime": {
     "end_time": "2022-04-25T11:15:39.524764Z",
     "start_time": "2022-04-25T11:15:39.509803Z"
    },
    "id": "9834fea8",
    "outputId": "2441454b-561e-4c6d-801c-4a7eb2d74174",
    "scrolled": true
   },
   "outputs": [
    {
     "data": {
      "text/html": [
       "<div>\n",
       "<style scoped>\n",
       "    .dataframe tbody tr th:only-of-type {\n",
       "        vertical-align: middle;\n",
       "    }\n",
       "\n",
       "    .dataframe tbody tr th {\n",
       "        vertical-align: top;\n",
       "    }\n",
       "\n",
       "    .dataframe thead th {\n",
       "        text-align: right;\n",
       "    }\n",
       "</style>\n",
       "<table border=\"1\" class=\"dataframe\">\n",
       "  <thead>\n",
       "    <tr style=\"text-align: right;\">\n",
       "      <th></th>\n",
       "      <th>테마</th>\n",
       "      <th>종목명</th>\n",
       "      <th>PER</th>\n",
       "      <th>PBR</th>\n",
       "    </tr>\n",
       "  </thead>\n",
       "  <tbody>\n",
       "    <tr>\n",
       "      <th>0</th>\n",
       "      <td>2차전지(생산)</td>\n",
       "      <td>SK이노베이션</td>\n",
       "      <td>10.19</td>\n",
       "      <td>1.29</td>\n",
       "    </tr>\n",
       "    <tr>\n",
       "      <th>1</th>\n",
       "      <td>해운</td>\n",
       "      <td>팬오션</td>\n",
       "      <td>21.23</td>\n",
       "      <td>0.95</td>\n",
       "    </tr>\n",
       "    <tr>\n",
       "      <th>2</th>\n",
       "      <td>시스템반도체</td>\n",
       "      <td>티엘아이</td>\n",
       "      <td>35.97</td>\n",
       "      <td>1.12</td>\n",
       "    </tr>\n",
       "    <tr>\n",
       "      <th>3</th>\n",
       "      <td>해운</td>\n",
       "      <td>HMM</td>\n",
       "      <td>21.52</td>\n",
       "      <td>3.20</td>\n",
       "    </tr>\n",
       "    <tr>\n",
       "      <th>4</th>\n",
       "      <td>시스템반도체</td>\n",
       "      <td>아이에이</td>\n",
       "      <td>37.32</td>\n",
       "      <td>3.55</td>\n",
       "    </tr>\n",
       "    <tr>\n",
       "      <th>5</th>\n",
       "      <td>2차전지(생산)</td>\n",
       "      <td>LG화학</td>\n",
       "      <td>83.06</td>\n",
       "      <td>3.75</td>\n",
       "    </tr>\n",
       "  </tbody>\n",
       "</table>\n",
       "</div>"
      ],
      "text/plain": [
       "         테마      종목명    PER   PBR\n",
       "0  2차전지(생산)  SK이노베이션  10.19  1.29\n",
       "1        해운      팬오션  21.23  0.95\n",
       "2    시스템반도체     티엘아이  35.97  1.12\n",
       "3        해운      HMM  21.52  3.20\n",
       "4    시스템반도체     아이에이  37.32  3.55\n",
       "5  2차전지(생산)     LG화학  83.06  3.75"
      ]
     },
     "execution_count": 23,
     "metadata": {},
     "output_type": "execute_result"
    }
   ],
   "source": [
    "data = [\n",
    "    [\"2차전지(생산)\", \"SK이노베이션\", 10.19, 1.29],\n",
    "    [\"해운\", \"팬오션\", 21.23, 0.95],\n",
    "    [\"시스템반도체\", \"티엘아이\", 35.97, 1.12],\n",
    "    [\"해운\", \"HMM\", 21.52, 3.20],\n",
    "    [\"시스템반도체\", \"아이에이\", 37.32, 3.55],\n",
    "    [\"2차전지(생산)\", \"LG화학\", 83.06, 3.75]\n",
    "]\n",
    "\n",
    "columns = [\"테마\", \"종목명\", \"PER\", \"PBR\"]\n",
    "df = pd.DataFrame(data=data, columns=columns)\n",
    "df1 = df[df['테마'] == \"2차전지(생산)\"]\n",
    "df2 = df[df['테마'] == \"해운\"]\n",
    "df3 = df[df['테마'] == \"시스템반도체\"]\n",
    "df"
   ]
  },
  {
   "cell_type": "markdown",
   "id": "ROdCpuNT-enA",
   "metadata": {
    "hide_input": false,
    "id": "ROdCpuNT-enA"
   },
   "source": [
    "### 문제 각 테마별로 PER 평균 구하고 해당 테마별로 시리즈에 저장해보세요."
   ]
  },
  {
   "cell_type": "code",
   "execution_count": null,
   "id": "3cdbba8b",
   "metadata": {
    "colab": {
     "base_uri": "https://localhost:8080/"
    },
    "executionInfo": {
     "elapsed": 276,
     "status": "ok",
     "timestamp": 1650525311297,
     "user": {
      "displayName": "서명교",
      "userId": "11730583039526359700"
     },
     "user_tz": -540
    },
    "hide_input": false,
    "id": "3cdbba8b",
    "outputId": "16c5ef68-7711-400e-bece-94cb44ea6ffa"
   },
   "outputs": [
    {
     "name": "stdout",
     "output_type": "stream",
     "text": [
      "2차전지(생산)    46.625\n",
      "해운          21.375\n",
      "시스템반도체      36.645\n",
      "dtype: float64\n"
     ]
    }
   ],
   "source": [
    "mean1 = df1['PER'].mean()\n",
    "mean2 = df2['PER'].mean()   \n",
    "mean3 = df3['PER'].mean()\n",
    "\n",
    "data = [mean1, mean2, mean3]\n",
    "index = [\"2차전지(생산)\", \"해운\", \"시스템반도체\"]\n",
    "s = pd.Series(data=data, index=index)\n",
    "# ss = pd.Series({\"2차전지(생산)\":mean1, \"해운\":mean2, \"시스템반도체\":mean3})\n",
    "# print(ss)\n",
    "print(s)"
   ]
  },
  {
   "cell_type": "code",
   "execution_count": null,
   "id": "b160872b",
   "metadata": {
    "ExecuteTime": {
     "end_time": "2022-04-25T11:20:26.450521Z",
     "start_time": "2022-04-25T11:20:24.323106Z"
    },
    "colab": {
     "base_uri": "https://localhost:8080/"
    },
    "executionInfo": {
     "elapsed": 280,
     "status": "ok",
     "timestamp": 1650524249668,
     "user": {
      "displayName": "서명교",
      "userId": "11730583039526359700"
     },
     "user_tz": -540
    },
    "id": "b160872b",
    "outputId": "9936965b-5958-4391-99b7-a4dfbf6a1826"
   },
   "outputs": [
    {
     "data": {
      "text/html": [
       "<div>\n",
       "<style scoped>\n",
       "    .dataframe tbody tr th:only-of-type {\n",
       "        vertical-align: middle;\n",
       "    }\n",
       "\n",
       "    .dataframe tbody tr th {\n",
       "        vertical-align: top;\n",
       "    }\n",
       "\n",
       "    .dataframe thead th {\n",
       "        text-align: right;\n",
       "    }\n",
       "</style>\n",
       "<table border=\"1\" class=\"dataframe\">\n",
       "  <thead>\n",
       "    <tr style=\"text-align: right;\">\n",
       "      <th></th>\n",
       "      <th></th>\n",
       "      <th>PBR</th>\n",
       "    </tr>\n",
       "    <tr>\n",
       "      <th>테마</th>\n",
       "      <th>PER</th>\n",
       "      <th></th>\n",
       "    </tr>\n",
       "  </thead>\n",
       "  <tbody>\n",
       "    <tr>\n",
       "      <th rowspan=\"2\" valign=\"top\">2차전지(생산)</th>\n",
       "      <th>10.19</th>\n",
       "      <td>1.29</td>\n",
       "    </tr>\n",
       "    <tr>\n",
       "      <th>83.06</th>\n",
       "      <td>3.75</td>\n",
       "    </tr>\n",
       "    <tr>\n",
       "      <th rowspan=\"2\" valign=\"top\">시스템반도체</th>\n",
       "      <th>35.97</th>\n",
       "      <td>1.12</td>\n",
       "    </tr>\n",
       "    <tr>\n",
       "      <th>37.32</th>\n",
       "      <td>3.55</td>\n",
       "    </tr>\n",
       "    <tr>\n",
       "      <th rowspan=\"2\" valign=\"top\">해운</th>\n",
       "      <th>21.23</th>\n",
       "      <td>0.95</td>\n",
       "    </tr>\n",
       "    <tr>\n",
       "      <th>21.52</th>\n",
       "      <td>3.20</td>\n",
       "    </tr>\n",
       "  </tbody>\n",
       "</table>\n",
       "</div>"
      ],
      "text/plain": [
       "                 PBR\n",
       "테마       PER        \n",
       "2차전지(생산) 10.19  1.29\n",
       "         83.06  3.75\n",
       "시스템반도체   35.97  1.12\n",
       "         37.32  3.55\n",
       "해운       21.23  0.95\n",
       "         21.52  3.20"
      ]
     },
     "execution_count": 28,
     "metadata": {},
     "output_type": "execute_result"
    }
   ],
   "source": [
    "# 위 과정을 한번에\n",
    "# df.groupby(\"테마\")[\"PER\"].mean()\n",
    "df.groupby(['테마', 'PER']).mean()"
   ]
  },
  {
   "cell_type": "markdown",
   "id": "4I7FgrUFHGGu",
   "metadata": {
    "id": "4I7FgrUFHGGu"
   },
   "source": [
    "### DataFrame 저장"
   ]
  },
  {
   "cell_type": "markdown",
   "id": "k_AnV4bPHg7r",
   "metadata": {
    "id": "k_AnV4bPHg7r"
   },
   "source": [
    "#### CSV 파일로 저장 (csv 파일 용량이 작기 때문에 excel보다 csv확장자 사용 추천)"
   ]
  },
  {
   "cell_type": "code",
   "execution_count": null,
   "id": "8bf79586",
   "metadata": {
    "ExecuteTime": {
     "end_time": "2022-04-25T11:57:46.785814Z",
     "start_time": "2022-04-25T11:57:46.767806Z"
    },
    "colab": {
     "base_uri": "https://localhost:8080/",
     "height": 238
    },
    "executionInfo": {
     "elapsed": 338,
     "status": "ok",
     "timestamp": 1650799064245,
     "user": {
      "displayName": "서명교",
      "userId": "11730583039526359700"
     },
     "user_tz": -540
    },
    "id": "8bf79586",
    "outputId": "f34be046-9f53-4268-bde4-fbf93748ee62"
   },
   "outputs": [
    {
     "data": {
      "text/html": [
       "<div>\n",
       "<style scoped>\n",
       "    .dataframe tbody tr th:only-of-type {\n",
       "        vertical-align: middle;\n",
       "    }\n",
       "\n",
       "    .dataframe tbody tr th {\n",
       "        vertical-align: top;\n",
       "    }\n",
       "\n",
       "    .dataframe thead th {\n",
       "        text-align: right;\n",
       "    }\n",
       "</style>\n",
       "<table border=\"1\" class=\"dataframe\">\n",
       "  <thead>\n",
       "    <tr style=\"text-align: right;\">\n",
       "      <th></th>\n",
       "      <th>Unnamed: 0</th>\n",
       "      <th>테마</th>\n",
       "      <th>종목명</th>\n",
       "      <th>PER</th>\n",
       "      <th>PBR</th>\n",
       "    </tr>\n",
       "  </thead>\n",
       "  <tbody>\n",
       "    <tr>\n",
       "      <th>0</th>\n",
       "      <td>0</td>\n",
       "      <td>2차전지(생산)</td>\n",
       "      <td>SK이노베이션</td>\n",
       "      <td>10.19</td>\n",
       "      <td>1.29</td>\n",
       "    </tr>\n",
       "    <tr>\n",
       "      <th>1</th>\n",
       "      <td>1</td>\n",
       "      <td>해운</td>\n",
       "      <td>팬오션</td>\n",
       "      <td>21.23</td>\n",
       "      <td>0.95</td>\n",
       "    </tr>\n",
       "    <tr>\n",
       "      <th>2</th>\n",
       "      <td>2</td>\n",
       "      <td>시스템반도체</td>\n",
       "      <td>티엘아이</td>\n",
       "      <td>35.97</td>\n",
       "      <td>1.12</td>\n",
       "    </tr>\n",
       "    <tr>\n",
       "      <th>3</th>\n",
       "      <td>3</td>\n",
       "      <td>해운</td>\n",
       "      <td>HMM</td>\n",
       "      <td>21.52</td>\n",
       "      <td>3.20</td>\n",
       "    </tr>\n",
       "    <tr>\n",
       "      <th>4</th>\n",
       "      <td>4</td>\n",
       "      <td>시스템반도체</td>\n",
       "      <td>아이에이</td>\n",
       "      <td>37.32</td>\n",
       "      <td>3.55</td>\n",
       "    </tr>\n",
       "    <tr>\n",
       "      <th>5</th>\n",
       "      <td>5</td>\n",
       "      <td>2차전지(생산)</td>\n",
       "      <td>LG화학</td>\n",
       "      <td>83.06</td>\n",
       "      <td>3.75</td>\n",
       "    </tr>\n",
       "  </tbody>\n",
       "</table>\n",
       "</div>"
      ],
      "text/plain": [
       "   Unnamed: 0        테마      종목명    PER   PBR\n",
       "0           0  2차전지(생산)  SK이노베이션  10.19  1.29\n",
       "1           1        해운      팬오션  21.23  0.95\n",
       "2           2    시스템반도체     티엘아이  35.97  1.12\n",
       "3           3        해운      HMM  21.52  3.20\n",
       "4           4    시스템반도체     아이에이  37.32  3.55\n",
       "5           5  2차전지(생산)     LG화학  83.06  3.75"
      ]
     },
     "execution_count": 57,
     "metadata": {},
     "output_type": "execute_result"
    }
   ],
   "source": [
    "# CSV파일로 저장하기\n",
    "data = [\n",
    "    [\"2차전지(생산)\", \"SK이노베이션\", 10.19, 1.29],\n",
    "    [\"해운\", \"팬오션\", 21.23, 0.95],\n",
    "    [\"시스템반도체\", \"티엘아이\", 35.97, 1.12],\n",
    "    [\"해운\", \"HMM\", 21.52, 3.20],\n",
    "    [\"시스템반도체\", \"아이에이\", 37.32, 3.55],\n",
    "    [\"2차전지(생산)\", \"LG화학\", 83.06, 3.75]\n",
    "]\n",
    "columns = [\"테마\", \"종목명\", \"PER\", \"PBR\"]\n",
    "df = pd.DataFrame(data=data, columns=columns)\n",
    "\n",
    "df.to_csv(\"test.csv\",sep=',', na_rep='NaN', encoding='cp949')  \n",
    "# index=False, 넣어보고 차이점 비교 , seperator, delimiter (구분자)\n",
    "\"\"\"\n",
    "encoding 옵션: csv 파일에서 한글 (컬럼 혹은 내용) 읽어올 때 \n",
    "encoding='cp949' (혹은 encoding='euc-kr') 옵션 사용, 엑셀의 csv 파일 utf-8 인코딩 (유니코드) 인식 버그\n",
    "\"\"\"\n",
    "# CSV파일 읽기\n",
    "\n",
    "df1 = pd.read_csv(\"test.csv\", encoding='cp949')\n",
    "df1"
   ]
  },
  {
   "cell_type": "markdown",
   "id": "b4UoD3lcS7D2",
   "metadata": {
    "id": "b4UoD3lcS7D2"
   },
   "source": [
    "### 실습 Unnamed: 0 칼럼 이름을 number로 바꿔보고 인덱스로 변경 해보기기"
   ]
  },
  {
   "cell_type": "code",
   "execution_count": null,
   "id": "63ad40d6",
   "metadata": {
    "ExecuteTime": {
     "end_time": "2022-04-25T11:43:22.783307Z",
     "start_time": "2022-04-25T11:43:22.772351Z"
    },
    "id": "63ad40d6",
    "outputId": "7e3c9fb4-815c-45fc-ce70-c4b2b2bb136f"
   },
   "outputs": [
    {
     "data": {
      "text/html": [
       "<div>\n",
       "<style scoped>\n",
       "    .dataframe tbody tr th:only-of-type {\n",
       "        vertical-align: middle;\n",
       "    }\n",
       "\n",
       "    .dataframe tbody tr th {\n",
       "        vertical-align: top;\n",
       "    }\n",
       "\n",
       "    .dataframe thead th {\n",
       "        text-align: right;\n",
       "    }\n",
       "</style>\n",
       "<table border=\"1\" class=\"dataframe\">\n",
       "  <thead>\n",
       "    <tr style=\"text-align: right;\">\n",
       "      <th></th>\n",
       "      <th>원하는 칼럼 이름</th>\n",
       "      <th>테마2</th>\n",
       "      <th>종목명</th>\n",
       "      <th>PER</th>\n",
       "      <th>PBR</th>\n",
       "    </tr>\n",
       "  </thead>\n",
       "  <tbody>\n",
       "    <tr>\n",
       "      <th>0</th>\n",
       "      <td>0</td>\n",
       "      <td>2차전지(생산)</td>\n",
       "      <td>SK이노베이션</td>\n",
       "      <td>10.19</td>\n",
       "      <td>1.29</td>\n",
       "    </tr>\n",
       "    <tr>\n",
       "      <th>1</th>\n",
       "      <td>1</td>\n",
       "      <td>해운</td>\n",
       "      <td>팬오션</td>\n",
       "      <td>21.23</td>\n",
       "      <td>0.95</td>\n",
       "    </tr>\n",
       "    <tr>\n",
       "      <th>2</th>\n",
       "      <td>2</td>\n",
       "      <td>시스템반도체</td>\n",
       "      <td>티엘아이</td>\n",
       "      <td>35.97</td>\n",
       "      <td>1.12</td>\n",
       "    </tr>\n",
       "    <tr>\n",
       "      <th>3</th>\n",
       "      <td>3</td>\n",
       "      <td>해운</td>\n",
       "      <td>HMM</td>\n",
       "      <td>21.52</td>\n",
       "      <td>3.20</td>\n",
       "    </tr>\n",
       "    <tr>\n",
       "      <th>4</th>\n",
       "      <td>4</td>\n",
       "      <td>시스템반도체</td>\n",
       "      <td>아이에이</td>\n",
       "      <td>37.32</td>\n",
       "      <td>3.55</td>\n",
       "    </tr>\n",
       "    <tr>\n",
       "      <th>5</th>\n",
       "      <td>5</td>\n",
       "      <td>2차전지(생산)</td>\n",
       "      <td>LG화학</td>\n",
       "      <td>83.06</td>\n",
       "      <td>3.75</td>\n",
       "    </tr>\n",
       "  </tbody>\n",
       "</table>\n",
       "</div>"
      ],
      "text/plain": [
       "   원하는 칼럼 이름       테마2      종목명    PER   PBR\n",
       "0          0  2차전지(생산)  SK이노베이션  10.19  1.29\n",
       "1          1        해운      팬오션  21.23  0.95\n",
       "2          2    시스템반도체     티엘아이  35.97  1.12\n",
       "3          3        해운      HMM  21.52  3.20\n",
       "4          4    시스템반도체     아이에이  37.32  3.55\n",
       "5          5  2차전지(생산)     LG화학  83.06  3.75"
      ]
     },
     "execution_count": 55,
     "metadata": {},
     "output_type": "execute_result"
    }
   ],
   "source": [
    "df1.rename(columns = {'Unnamed: 0' : '원하는 칼럼 이름', '테마':'테마2'}, inplace = True)\n",
    "df1"
   ]
  },
  {
   "cell_type": "code",
   "execution_count": null,
   "id": "4cWlrQjhS3_h",
   "metadata": {
    "ExecuteTime": {
     "end_time": "2022-04-25T11:57:49.372039Z",
     "start_time": "2022-04-25T11:57:49.361059Z"
    },
    "id": "4cWlrQjhS3_h",
    "outputId": "1217a837-b069-4969-c926-1de80b37e4c8"
   },
   "outputs": [
    {
     "data": {
      "text/html": [
       "<div>\n",
       "<style scoped>\n",
       "    .dataframe tbody tr th:only-of-type {\n",
       "        vertical-align: middle;\n",
       "    }\n",
       "\n",
       "    .dataframe tbody tr th {\n",
       "        vertical-align: top;\n",
       "    }\n",
       "\n",
       "    .dataframe thead th {\n",
       "        text-align: right;\n",
       "    }\n",
       "</style>\n",
       "<table border=\"1\" class=\"dataframe\">\n",
       "  <thead>\n",
       "    <tr style=\"text-align: right;\">\n",
       "      <th></th>\n",
       "      <th>테마</th>\n",
       "      <th>종목명</th>\n",
       "      <th>PER</th>\n",
       "      <th>PBR</th>\n",
       "    </tr>\n",
       "    <tr>\n",
       "      <th>number</th>\n",
       "      <th></th>\n",
       "      <th></th>\n",
       "      <th></th>\n",
       "      <th></th>\n",
       "    </tr>\n",
       "  </thead>\n",
       "  <tbody>\n",
       "    <tr>\n",
       "      <th>0</th>\n",
       "      <td>2차전지(생산)</td>\n",
       "      <td>SK이노베이션</td>\n",
       "      <td>10.19</td>\n",
       "      <td>1.29</td>\n",
       "    </tr>\n",
       "    <tr>\n",
       "      <th>1</th>\n",
       "      <td>해운</td>\n",
       "      <td>팬오션</td>\n",
       "      <td>21.23</td>\n",
       "      <td>0.95</td>\n",
       "    </tr>\n",
       "    <tr>\n",
       "      <th>2</th>\n",
       "      <td>시스템반도체</td>\n",
       "      <td>티엘아이</td>\n",
       "      <td>35.97</td>\n",
       "      <td>1.12</td>\n",
       "    </tr>\n",
       "    <tr>\n",
       "      <th>3</th>\n",
       "      <td>해운</td>\n",
       "      <td>HMM</td>\n",
       "      <td>21.52</td>\n",
       "      <td>3.20</td>\n",
       "    </tr>\n",
       "    <tr>\n",
       "      <th>4</th>\n",
       "      <td>시스템반도체</td>\n",
       "      <td>아이에이</td>\n",
       "      <td>37.32</td>\n",
       "      <td>3.55</td>\n",
       "    </tr>\n",
       "    <tr>\n",
       "      <th>5</th>\n",
       "      <td>2차전지(생산)</td>\n",
       "      <td>LG화학</td>\n",
       "      <td>83.06</td>\n",
       "      <td>3.75</td>\n",
       "    </tr>\n",
       "  </tbody>\n",
       "</table>\n",
       "</div>"
      ],
      "text/plain": [
       "              테마      종목명    PER   PBR\n",
       "number                                \n",
       "0       2차전지(생산)  SK이노베이션  10.19  1.29\n",
       "1             해운      팬오션  21.23  0.95\n",
       "2         시스템반도체     티엘아이  35.97  1.12\n",
       "3             해운      HMM  21.52  3.20\n",
       "4         시스템반도체     아이에이  37.32  3.55\n",
       "5       2차전지(생산)     LG화학  83.06  3.75"
      ]
     },
     "execution_count": 58,
     "metadata": {},
     "output_type": "execute_result"
    }
   ],
   "source": [
    "df1.rename(columns = {'Unnamed: 0' : 'number'}, inplace = True)\n",
    "df1 = df1.set_index('number')\n",
    "df1"
   ]
  },
  {
   "cell_type": "markdown",
   "id": "6x4wi9ANHrfG",
   "metadata": {
    "id": "6x4wi9ANHrfG"
   },
   "source": [
    "#### excel 파일로 저장 (파일이 커서 저장, 불러오기 데이티어가 많아 질 수록 느려진다)"
   ]
  },
  {
   "cell_type": "code",
   "execution_count": null,
   "id": "5UiY23Mumeed",
   "metadata": {
    "id": "5UiY23Mumeed"
   },
   "outputs": [],
   "source": [
    "# 엑셀로 저장하기\n",
    "\n",
    "df.to_excel(\"test.xlsx\")\n",
    "\n",
    "# 엑셀파일 읽기\n",
    "\n",
    "df = pd.read_excel(\"test.xlsx\")"
   ]
  },
  {
   "cell_type": "markdown",
   "id": "2vNU685FILcA",
   "metadata": {
    "id": "2vNU685FILcA"
   },
   "source": [
    "### pickle, html, SQLite3 DB로 저장하기 방법이 더 있지만 필요하면 google에 찾아보시면 되겠습니다."
   ]
  },
  {
   "cell_type": "markdown",
   "id": "5o8pl4pqI6w2",
   "metadata": {
    "id": "5o8pl4pqI6w2"
   },
   "source": [
    "### 시간 날짜 datetime 형식으로 바꾸기"
   ]
  },
  {
   "cell_type": "code",
   "execution_count": null,
   "id": "_N3welixJG-x",
   "metadata": {
    "ExecuteTime": {
     "end_time": "2022-04-28T06:06:36.942597Z",
     "start_time": "2022-04-28T06:06:36.910682Z"
    },
    "colab": {
     "base_uri": "https://localhost:8080/"
    },
    "executionInfo": {
     "elapsed": 448,
     "status": "ok",
     "timestamp": 1650875714784,
     "user": {
      "displayName": "서명교",
      "userId": "11730583039526359700"
     },
     "user_tz": -540
    },
    "id": "_N3welixJG-x",
    "outputId": "35e54049-550b-4035-d2de-e37f99684537"
   },
   "outputs": [
    {
     "name": "stdout",
     "output_type": "stream",
     "text": [
      "========전\n",
      "<class 'pandas.core.frame.DataFrame'>\n",
      "RangeIndex: 3 entries, 0 to 2\n",
      "Data columns (total 1 columns):\n",
      " #   Column  Non-Null Count  Dtype\n",
      "---  ------  --------------  -----\n",
      " 0   d       3 non-null      int64\n",
      "dtypes: int64(1)\n",
      "memory usage: 152.0 bytes\n",
      "None \n",
      "\n",
      "칼럼 d 타입 int64\n",
      "칼럼 d 타입 object\n",
      "\n",
      "변경된 date\n",
      "           d       date       date1      date2\n",
      "0  20161011 2016-10-11  2016/10/11 2016-10-11\n",
      "1  20171013 2017-10-13  2017/10/13 2017-10-13\n",
      "2  20181031 2018-10-31  2018/10/31 2018-10-31 \n",
      "\n",
      "칼럼 date 타입 datetime64[ns] \n",
      "\n",
      "========후\n",
      "<class 'pandas.core.frame.DataFrame'>\n",
      "RangeIndex: 3 entries, 0 to 2\n",
      "Data columns (total 4 columns):\n",
      " #   Column  Non-Null Count  Dtype         \n",
      "---  ------  --------------  -----         \n",
      " 0   d       3 non-null      object        \n",
      " 1   date    3 non-null      datetime64[ns]\n",
      " 2   date1   3 non-null      object        \n",
      " 3   date2   3 non-null      datetime64[ns]\n",
      "dtypes: datetime64[ns](2), object(2)\n",
      "memory usage: 224.0+ bytes\n",
      "None\n"
     ]
    }
   ],
   "source": [
    "from datetime import datetime\n",
    "df = pd.DataFrame(data=[20161011, 20171013, 20181031], columns=[\"d\"])\n",
    "print(\"========전\")\n",
    "print(df.info(),\"\\n\")\n",
    "\n",
    "print(\"칼럼 d 타입\",df[\"d\"].dtype)\n",
    "df[\"d\"] = df[\"d\"].astype(str)      # int -> str(object) 데이터 타입 변경\n",
    "print(\"칼럼 d 타입\",df[\"d\"].dtype)\n",
    "\n",
    "df[\"date\"] = df[\"d\"].str[0:4] + \"-\" + df[\"d\"].str[4:6] + \"-\" + df[\"d\"].str[6:8]\n",
    "df[\"date\"] = df[\"date\"].astype('datetime64[ns]') # str(object) -> datetime64[ns] 데이터 타입 변경\n",
    "df['date1'] = df[\"date\"].dt.strftime(\"%Y/%m/%d\") # datetime64[ns] -> str(object) 형식으로 변경\n",
    "df['date2'] = pd.to_datetime(df['date'], infer_datetime_format=True) # str(object) -> datetime64[ns] 데이터 타입 변경\n",
    "print(\"\\n변경된 date\\n\",df,\"\\n\")\n",
    "print(\"칼럼 date 타입\",df[\"date\"].dtype,\"\\n\")\n",
    "\n",
    "print(\"========후\")\n",
    "print(df.info())"
   ]
  },
  {
   "cell_type": "code",
   "execution_count": null,
   "id": "8e4c274d",
   "metadata": {
    "ExecuteTime": {
     "end_time": "2022-04-28T06:06:37.805306Z",
     "start_time": "2022-04-28T06:06:37.794370Z"
    },
    "id": "8e4c274d",
    "outputId": "d80442e3-a79f-4529-e6d5-ace0d9a5cf49"
   },
   "outputs": [
    {
     "data": {
      "text/html": [
       "<div>\n",
       "<style scoped>\n",
       "    .dataframe tbody tr th:only-of-type {\n",
       "        vertical-align: middle;\n",
       "    }\n",
       "\n",
       "    .dataframe tbody tr th {\n",
       "        vertical-align: top;\n",
       "    }\n",
       "\n",
       "    .dataframe thead th {\n",
       "        text-align: right;\n",
       "    }\n",
       "</style>\n",
       "<table border=\"1\" class=\"dataframe\">\n",
       "  <thead>\n",
       "    <tr style=\"text-align: right;\">\n",
       "      <th></th>\n",
       "      <th>d</th>\n",
       "      <th>date</th>\n",
       "      <th>date1</th>\n",
       "      <th>date2</th>\n",
       "      <th>date3</th>\n",
       "    </tr>\n",
       "  </thead>\n",
       "  <tbody>\n",
       "    <tr>\n",
       "      <th>0</th>\n",
       "      <td>20161011</td>\n",
       "      <td>2016-10-11</td>\n",
       "      <td>2016/10/11</td>\n",
       "      <td>2016-10-11</td>\n",
       "      <td>16</td>\n",
       "    </tr>\n",
       "    <tr>\n",
       "      <th>1</th>\n",
       "      <td>20171013</td>\n",
       "      <td>2017-10-13</td>\n",
       "      <td>2017/10/13</td>\n",
       "      <td>2017-10-13</td>\n",
       "      <td>17</td>\n",
       "    </tr>\n",
       "    <tr>\n",
       "      <th>2</th>\n",
       "      <td>20181031</td>\n",
       "      <td>2018-10-31</td>\n",
       "      <td>2018/10/31</td>\n",
       "      <td>2018-10-31</td>\n",
       "      <td>18</td>\n",
       "    </tr>\n",
       "  </tbody>\n",
       "</table>\n",
       "</div>"
      ],
      "text/plain": [
       "          d       date       date1      date2 date3\n",
       "0  20161011 2016-10-11  2016/10/11 2016-10-11    16\n",
       "1  20171013 2017-10-13  2017/10/13 2017-10-13    17\n",
       "2  20181031 2018-10-31  2018/10/31 2018-10-31    18"
      ]
     },
     "execution_count": 200,
     "metadata": {},
     "output_type": "execute_result"
    }
   ],
   "source": [
    "df['date3'] = df['date1'].str[2:4]\n",
    "df"
   ]
  },
  {
   "cell_type": "code",
   "execution_count": null,
   "id": "94H0SIUdJG5Z",
   "metadata": {
    "ExecuteTime": {
     "end_time": "2022-04-28T06:06:38.995120Z",
     "start_time": "2022-04-28T06:06:38.984165Z"
    },
    "id": "94H0SIUdJG5Z",
    "outputId": "ca961080-cd5b-41ce-d1cd-c3a35375b569"
   },
   "outputs": [
    {
     "name": "stdout",
     "output_type": "stream",
     "text": [
      "0   2000-01-01\n",
      "1   2000-01-02\n",
      "2   2000-01-03\n",
      "dtype: datetime64[ns]\n",
      "0   2011-01-31\n",
      "1   2011-02-28\n",
      "2   2011-03-31\n",
      "dtype: datetime64[ns]\n",
      "0    2011\n",
      "1    2012\n",
      "2    2013\n",
      "dtype: period[A-DEC]\n",
      "DatetimeIndex(['2020-10-01 00:00:00', '2020-10-05 18:00:00',\n",
      "               '2020-10-10 12:00:00', '2020-10-15 06:00:00',\n",
      "               '2020-10-20 00:00:00'],\n",
      "              dtype='datetime64[ns]', freq=None)\n"
     ]
    }
   ],
   "source": [
    "# date_range나 period_range함수를 이용하면 특정기간에 대해 일정한 간격으로 데이터를 만들 수 있다.\n",
    "print(pd.Series(pd.date_range('2000', freq='D', periods=3)))\n",
    "print(pd.Series(pd.date_range('1/1/2011', freq='M', periods=3)))\n",
    "print(pd.Series(pd.period_range('1/1/2011', freq='Y', periods=3)))\n",
    "\n",
    "print(pd.date_range(start='2020-10-01', end='2020-10-20', periods=5))"
   ]
  },
  {
   "cell_type": "markdown",
   "id": "0oBL8UMJNH8p",
   "metadata": {
    "id": "0oBL8UMJNH8p"
   },
   "source": [
    "### 날짜 시간 더하거나 빼기기"
   ]
  },
  {
   "cell_type": "code",
   "execution_count": null,
   "id": "fX0wrmiIJGse",
   "metadata": {
    "ExecuteTime": {
     "end_time": "2022-04-28T06:06:41.420632Z",
     "start_time": "2022-04-28T06:06:41.407700Z"
    },
    "id": "fX0wrmiIJGse",
    "outputId": "2291506f-23e4-44e9-84c3-83a7ba3781b6"
   },
   "outputs": [
    {
     "name": "stdout",
     "output_type": "stream",
     "text": [
      "          d       date       date1      date2 date3\n",
      "0  20161011 2016-10-11  2016/10/11 2016-10-11    16\n",
      "1  20171013 2017-10-13  2017/10/13 2017-10-13    17\n",
      "2  20181031 2018-10-31  2018/10/31 2018-10-31    18\n",
      "0   2016-11-11\n",
      "1   2017-11-13\n",
      "2   2018-11-30\n",
      "Name: date_1m, dtype: datetime64[ns]\n",
      "0   2016-10-12\n",
      "1   2017-10-14\n",
      "2   2018-11-01\n",
      "Name: date_1d, dtype: datetime64[ns]\n",
      "0   2017-10-11\n",
      "1   2018-10-13\n",
      "2   2019-10-31\n",
      "Name: date_1y, dtype: datetime64[ns]\n"
     ]
    }
   ],
   "source": [
    "print(df)\n",
    "df[\"date_1m\"] = df[\"date\"] + pd.DateOffset(months=1)\n",
    "print(df[\"date_1m\"])\n",
    "df[\"date_1d\"] = df[\"date\"] + pd.DateOffset(days=1)\n",
    "print(df[\"date_1d\"])\n",
    "df[\"date_1y\"] = df[\"date\"] + pd.DateOffset(years=1)\n",
    "print(df[\"date_1y\"])"
   ]
  },
  {
   "cell_type": "code",
   "execution_count": null,
   "id": "6ec57ba1",
   "metadata": {
    "ExecuteTime": {
     "end_time": "2022-04-28T06:07:38.372091Z",
     "start_time": "2022-04-28T06:07:38.367087Z"
    },
    "id": "6ec57ba1"
   },
   "outputs": [],
   "source": [
    "df[\"date_m\"] = df[\"date_1d\"] - df[\"date\"]"
   ]
  },
  {
   "cell_type": "code",
   "execution_count": null,
   "id": "cf9ae855",
   "metadata": {
    "ExecuteTime": {
     "end_time": "2022-04-28T06:07:46.085623Z",
     "start_time": "2022-04-28T06:07:46.071693Z"
    },
    "id": "cf9ae855",
    "outputId": "b56eb2f7-6e5e-4528-d94f-861645e20c16"
   },
   "outputs": [
    {
     "data": {
      "text/html": [
       "<div>\n",
       "<style scoped>\n",
       "    .dataframe tbody tr th:only-of-type {\n",
       "        vertical-align: middle;\n",
       "    }\n",
       "\n",
       "    .dataframe tbody tr th {\n",
       "        vertical-align: top;\n",
       "    }\n",
       "\n",
       "    .dataframe thead th {\n",
       "        text-align: right;\n",
       "    }\n",
       "</style>\n",
       "<table border=\"1\" class=\"dataframe\">\n",
       "  <thead>\n",
       "    <tr style=\"text-align: right;\">\n",
       "      <th></th>\n",
       "      <th>d</th>\n",
       "      <th>date</th>\n",
       "      <th>date1</th>\n",
       "      <th>date2</th>\n",
       "      <th>date3</th>\n",
       "      <th>date_1m</th>\n",
       "      <th>date_1d</th>\n",
       "      <th>date_1y</th>\n",
       "      <th>date_m</th>\n",
       "    </tr>\n",
       "  </thead>\n",
       "  <tbody>\n",
       "    <tr>\n",
       "      <th>0</th>\n",
       "      <td>20161011</td>\n",
       "      <td>2016-10-11</td>\n",
       "      <td>2016/10/11</td>\n",
       "      <td>2016-10-11</td>\n",
       "      <td>16</td>\n",
       "      <td>2016-11-11</td>\n",
       "      <td>2016-10-12</td>\n",
       "      <td>2017-10-11</td>\n",
       "      <td>1 days</td>\n",
       "    </tr>\n",
       "    <tr>\n",
       "      <th>1</th>\n",
       "      <td>20171013</td>\n",
       "      <td>2017-10-13</td>\n",
       "      <td>2017/10/13</td>\n",
       "      <td>2017-10-13</td>\n",
       "      <td>17</td>\n",
       "      <td>2017-11-13</td>\n",
       "      <td>2017-10-14</td>\n",
       "      <td>2018-10-13</td>\n",
       "      <td>1 days</td>\n",
       "    </tr>\n",
       "    <tr>\n",
       "      <th>2</th>\n",
       "      <td>20181031</td>\n",
       "      <td>2018-10-31</td>\n",
       "      <td>2018/10/31</td>\n",
       "      <td>2018-10-31</td>\n",
       "      <td>18</td>\n",
       "      <td>2018-11-30</td>\n",
       "      <td>2018-11-01</td>\n",
       "      <td>2019-10-31</td>\n",
       "      <td>1 days</td>\n",
       "    </tr>\n",
       "  </tbody>\n",
       "</table>\n",
       "</div>"
      ],
      "text/plain": [
       "          d       date       date1      date2 date3    date_1m    date_1d  \\\n",
       "0  20161011 2016-10-11  2016/10/11 2016-10-11    16 2016-11-11 2016-10-12   \n",
       "1  20171013 2017-10-13  2017/10/13 2017-10-13    17 2017-11-13 2017-10-14   \n",
       "2  20181031 2018-10-31  2018/10/31 2018-10-31    18 2018-11-30 2018-11-01   \n",
       "\n",
       "     date_1y date_m  \n",
       "0 2017-10-11 1 days  \n",
       "1 2018-10-13 1 days  \n",
       "2 2019-10-31 1 days  "
      ]
     },
     "execution_count": 206,
     "metadata": {},
     "output_type": "execute_result"
    }
   ],
   "source": [
    "df"
   ]
  },
  {
   "cell_type": "markdown",
   "id": "MwUP5KPQNTuR",
   "metadata": {
    "id": "MwUP5KPQNTuR"
   },
   "source": [
    "### 필요한 날짜와 시간 정의 찾기"
   ]
  },
  {
   "cell_type": "code",
   "execution_count": null,
   "id": "YWFDTZrjNUKh",
   "metadata": {
    "ExecuteTime": {
     "end_time": "2022-04-25T12:19:30.770648Z",
     "start_time": "2022-04-25T12:19:30.750699Z"
    },
    "colab": {
     "base_uri": "https://localhost:8080/"
    },
    "executionInfo": {
     "elapsed": 283,
     "status": "ok",
     "timestamp": 1650798198055,
     "user": {
      "displayName": "서명교",
      "userId": "11730583039526359700"
     },
     "user_tz": -540
    },
    "id": "YWFDTZrjNUKh",
    "outputId": "3288835e-99ea-4993-af1e-cc2d7f787457"
   },
   "outputs": [
    {
     "data": {
      "text/plain": [
       "0    2016\n",
       "1    2017\n",
       "2    2018\n",
       "Name: date, dtype: int64"
      ]
     },
     "execution_count": 78,
     "metadata": {},
     "output_type": "execute_result"
    }
   ],
   "source": [
    "# \"데이터프레임명[칼럼명].dt.항목명\" 과 같이 사용\n",
    "df[\"date\"].dt.year"
   ]
  },
  {
   "cell_type": "markdown",
   "id": "I3Vs-GNkNglc",
   "metadata": {
    "id": "I3Vs-GNkNglc"
   },
   "source": [
    "![날짜와 시간 Property](https://img1.daumcdn.net/thumb/R1280x0/?scode=mtistory2&fname=http%3A%2F%2Fcfile30.uf.tistory.com%2Fimage%2F994F8D375CD9DFA71358A8)"
   ]
  },
  {
   "cell_type": "markdown",
   "id": "byuGepY47HYl",
   "metadata": {
    "id": "byuGepY47HYl"
   },
   "source": [
    "### Merge\n",
    "- merge 함수는 두 데이터 프레임의 공통 열 혹은 인덱스를 기준으로 두 개의 테이블을 합친다.\n",
    "  이 때 기준이 되는 열, 행의 데이터를 키(key)라고 한다\n",
    "- pd.merge(df_left, df_right, how='inner', on=None)\n",
    "  두개의 데이터프레임에서 key 값의 이름이 다를 때(기준열 이름이 다를 때) left_on = ' ' ,right_on = ' '으로 \n",
    "  on= ' ' 대체 가능함\n",
    "- 조인 방식 , how(default는 inner)\n",
    "    - outer 양쪽 키값에 해당하는 값이 없어도 전체 합치기\n",
    "    - inner 양쪽에 겹치는 값만 합치기\n",
    "    - left  왼쪽 데이터프레임을 기준으로 합치기\n",
    "    - right 오른쪽 데이터프레임을 기준으로 합치기\n",
    "\n",
    "![KakaoTalk_20220421_161021807](https://user-images.githubusercontent.com/92857078/164399948-98d552b6-4e2d-4801-b0f7-a77c0f70fb26.png)\n"
   ]
  },
  {
   "cell_type": "code",
   "execution_count": null,
   "id": "J9FjjWtnmebu",
   "metadata": {
    "ExecuteTime": {
     "end_time": "2022-04-25T12:28:21.799514Z",
     "start_time": "2022-04-25T12:28:21.789530Z"
    },
    "colab": {
     "base_uri": "https://localhost:8080/",
     "height": 268
    },
    "executionInfo": {
     "elapsed": 294,
     "status": "ok",
     "timestamp": 1650524526393,
     "user": {
      "displayName": "Mark K",
      "userId": "03340535256939132196"
     },
     "user_tz": -540
    },
    "id": "J9FjjWtnmebu",
    "outputId": "948bb9ca-d654-4136-ee4c-57a95c249f59"
   },
   "outputs": [
    {
     "data": {
      "text/html": [
       "<div>\n",
       "<style scoped>\n",
       "    .dataframe tbody tr th:only-of-type {\n",
       "        vertical-align: middle;\n",
       "    }\n",
       "\n",
       "    .dataframe tbody tr th {\n",
       "        vertical-align: top;\n",
       "    }\n",
       "\n",
       "    .dataframe thead th {\n",
       "        text-align: right;\n",
       "    }\n",
       "</style>\n",
       "<table border=\"1\" class=\"dataframe\">\n",
       "  <thead>\n",
       "    <tr style=\"text-align: right;\">\n",
       "      <th></th>\n",
       "      <th>고객번호1</th>\n",
       "      <th>이름</th>\n",
       "    </tr>\n",
       "  </thead>\n",
       "  <tbody>\n",
       "    <tr>\n",
       "      <th>0</th>\n",
       "      <td>1001</td>\n",
       "      <td>둘리</td>\n",
       "    </tr>\n",
       "    <tr>\n",
       "      <th>1</th>\n",
       "      <td>1002</td>\n",
       "      <td>도우너</td>\n",
       "    </tr>\n",
       "    <tr>\n",
       "      <th>2</th>\n",
       "      <td>1003</td>\n",
       "      <td>또치</td>\n",
       "    </tr>\n",
       "    <tr>\n",
       "      <th>3</th>\n",
       "      <td>1004</td>\n",
       "      <td>길동</td>\n",
       "    </tr>\n",
       "    <tr>\n",
       "      <th>4</th>\n",
       "      <td>1005</td>\n",
       "      <td>희동</td>\n",
       "    </tr>\n",
       "    <tr>\n",
       "      <th>5</th>\n",
       "      <td>1006</td>\n",
       "      <td>마이콜</td>\n",
       "    </tr>\n",
       "    <tr>\n",
       "      <th>6</th>\n",
       "      <td>1007</td>\n",
       "      <td>영희</td>\n",
       "    </tr>\n",
       "  </tbody>\n",
       "</table>\n",
       "</div>"
      ],
      "text/plain": [
       "   고객번호1   이름\n",
       "0   1001   둘리\n",
       "1   1002  도우너\n",
       "2   1003   또치\n",
       "3   1004   길동\n",
       "4   1005   희동\n",
       "5   1006  마이콜\n",
       "6   1007   영희"
      ]
     },
     "execution_count": 88,
     "metadata": {},
     "output_type": "execute_result"
    }
   ],
   "source": [
    "df1 = pd.DataFrame({\n",
    "    '고객번호1': [1001, 1002, 1003, 1004, 1005, 1006, 1007],\n",
    "    '이름': ['둘리', '도우너', '또치', '길동', '희동', '마이콜', '영희']\n",
    "}, columns=['고객번호1', '이름'])\n",
    "df1"
   ]
  },
  {
   "cell_type": "code",
   "execution_count": null,
   "id": "wk9isroumeY5",
   "metadata": {
    "ExecuteTime": {
     "end_time": "2022-04-25T12:28:13.440491Z",
     "start_time": "2022-04-25T12:28:13.430530Z"
    },
    "colab": {
     "base_uri": "https://localhost:8080/",
     "height": 237
    },
    "executionInfo": {
     "elapsed": 303,
     "status": "ok",
     "timestamp": 1650524540896,
     "user": {
      "displayName": "Mark K",
      "userId": "03340535256939132196"
     },
     "user_tz": -540
    },
    "id": "wk9isroumeY5",
    "outputId": "ab142476-43fd-41bf-ff8d-64bb28d1b14c"
   },
   "outputs": [
    {
     "data": {
      "text/html": [
       "<div>\n",
       "<style scoped>\n",
       "    .dataframe tbody tr th:only-of-type {\n",
       "        vertical-align: middle;\n",
       "    }\n",
       "\n",
       "    .dataframe tbody tr th {\n",
       "        vertical-align: top;\n",
       "    }\n",
       "\n",
       "    .dataframe thead th {\n",
       "        text-align: right;\n",
       "    }\n",
       "</style>\n",
       "<table border=\"1\" class=\"dataframe\">\n",
       "  <thead>\n",
       "    <tr style=\"text-align: right;\">\n",
       "      <th></th>\n",
       "      <th>고객번호</th>\n",
       "      <th>금액</th>\n",
       "    </tr>\n",
       "  </thead>\n",
       "  <tbody>\n",
       "    <tr>\n",
       "      <th>0</th>\n",
       "      <td>1001</td>\n",
       "      <td>10000</td>\n",
       "    </tr>\n",
       "    <tr>\n",
       "      <th>1</th>\n",
       "      <td>1001</td>\n",
       "      <td>20000</td>\n",
       "    </tr>\n",
       "    <tr>\n",
       "      <th>2</th>\n",
       "      <td>1005</td>\n",
       "      <td>15000</td>\n",
       "    </tr>\n",
       "    <tr>\n",
       "      <th>3</th>\n",
       "      <td>1006</td>\n",
       "      <td>5000</td>\n",
       "    </tr>\n",
       "    <tr>\n",
       "      <th>4</th>\n",
       "      <td>1008</td>\n",
       "      <td>100000</td>\n",
       "    </tr>\n",
       "    <tr>\n",
       "      <th>5</th>\n",
       "      <td>1001</td>\n",
       "      <td>30000</td>\n",
       "    </tr>\n",
       "  </tbody>\n",
       "</table>\n",
       "</div>"
      ],
      "text/plain": [
       "   고객번호      금액\n",
       "0  1001   10000\n",
       "1  1001   20000\n",
       "2  1005   15000\n",
       "3  1006    5000\n",
       "4  1008  100000\n",
       "5  1001   30000"
      ]
     },
     "execution_count": 87,
     "metadata": {},
     "output_type": "execute_result"
    }
   ],
   "source": [
    "df2 = pd.DataFrame({\n",
    "    '고객번호': [1001, 1001, 1005, 1006, 1008, 1001],\n",
    "    '금액': [10000, 20000, 15000, 5000, 100000, 30000]\n",
    "}, columns=['고객번호', '금액'])\n",
    "df2"
   ]
  },
  {
   "cell_type": "code",
   "execution_count": null,
   "id": "WDrD6w8cmeWB",
   "metadata": {
    "ExecuteTime": {
     "end_time": "2022-04-25T12:28:46.257454Z",
     "start_time": "2022-04-25T12:28:46.248523Z"
    },
    "colab": {
     "base_uri": "https://localhost:8080/",
     "height": 206
    },
    "executionInfo": {
     "elapsed": 321,
     "status": "ok",
     "timestamp": 1650524653634,
     "user": {
      "displayName": "Mark K",
      "userId": "03340535256939132196"
     },
     "user_tz": -540
    },
    "id": "WDrD6w8cmeWB",
    "outputId": "6ea9f14c-0d60-48e4-82c0-09ffeed38dc1"
   },
   "outputs": [
    {
     "data": {
      "text/html": [
       "<div>\n",
       "<style scoped>\n",
       "    .dataframe tbody tr th:only-of-type {\n",
       "        vertical-align: middle;\n",
       "    }\n",
       "\n",
       "    .dataframe tbody tr th {\n",
       "        vertical-align: top;\n",
       "    }\n",
       "\n",
       "    .dataframe thead th {\n",
       "        text-align: right;\n",
       "    }\n",
       "</style>\n",
       "<table border=\"1\" class=\"dataframe\">\n",
       "  <thead>\n",
       "    <tr style=\"text-align: right;\">\n",
       "      <th></th>\n",
       "      <th>고객번호1</th>\n",
       "      <th>이름</th>\n",
       "      <th>고객번호</th>\n",
       "      <th>금액</th>\n",
       "    </tr>\n",
       "  </thead>\n",
       "  <tbody>\n",
       "    <tr>\n",
       "      <th>0</th>\n",
       "      <td>1001</td>\n",
       "      <td>둘리</td>\n",
       "      <td>1001</td>\n",
       "      <td>10000</td>\n",
       "    </tr>\n",
       "    <tr>\n",
       "      <th>1</th>\n",
       "      <td>1001</td>\n",
       "      <td>둘리</td>\n",
       "      <td>1001</td>\n",
       "      <td>20000</td>\n",
       "    </tr>\n",
       "    <tr>\n",
       "      <th>2</th>\n",
       "      <td>1001</td>\n",
       "      <td>둘리</td>\n",
       "      <td>1001</td>\n",
       "      <td>30000</td>\n",
       "    </tr>\n",
       "    <tr>\n",
       "      <th>3</th>\n",
       "      <td>1005</td>\n",
       "      <td>희동</td>\n",
       "      <td>1005</td>\n",
       "      <td>15000</td>\n",
       "    </tr>\n",
       "    <tr>\n",
       "      <th>4</th>\n",
       "      <td>1006</td>\n",
       "      <td>마이콜</td>\n",
       "      <td>1006</td>\n",
       "      <td>5000</td>\n",
       "    </tr>\n",
       "  </tbody>\n",
       "</table>\n",
       "</div>"
      ],
      "text/plain": [
       "   고객번호1   이름  고객번호     금액\n",
       "0   1001   둘리  1001  10000\n",
       "1   1001   둘리  1001  20000\n",
       "2   1001   둘리  1001  30000\n",
       "3   1005   희동  1005  15000\n",
       "4   1006  마이콜  1006   5000"
      ]
     },
     "execution_count": 89,
     "metadata": {},
     "output_type": "execute_result"
    }
   ],
   "source": [
    "'''\n",
    "merge 함수로 위의 두 데이터프레임 df1, df2 를 합치면 공통 열인 고객번호 열을 기준으로 데이터를 찾아서 합친다. \n",
    "이 때 기본적으로는 양쪽 데이터프레임에 모두 키가 존재하는 데이터만 보여주는 inner join 방식을 사용한다.\n",
    "'''\n",
    "pd.merge(df1, df2 , left_on='고객번호1',right_on='고객번호')\n"
   ]
  },
  {
   "cell_type": "code",
   "execution_count": null,
   "id": "ok9kYT8ImeTK",
   "metadata": {
    "ExecuteTime": {
     "end_time": "2022-04-25T12:25:13.429396Z",
     "start_time": "2022-04-25T12:25:11.345937Z"
    },
    "colab": {
     "base_uri": "https://localhost:8080/",
     "height": 363
    },
    "executionInfo": {
     "elapsed": 300,
     "status": "ok",
     "timestamp": 1650524788104,
     "user": {
      "displayName": "Mark K",
      "userId": "03340535256939132196"
     },
     "user_tz": -540
    },
    "id": "ok9kYT8ImeTK",
    "outputId": "b520a168-b96e-44ed-9c3e-71d3eda2194f"
   },
   "outputs": [
    {
     "data": {
      "text/html": [
       "<div>\n",
       "<style scoped>\n",
       "    .dataframe tbody tr th:only-of-type {\n",
       "        vertical-align: middle;\n",
       "    }\n",
       "\n",
       "    .dataframe tbody tr th {\n",
       "        vertical-align: top;\n",
       "    }\n",
       "\n",
       "    .dataframe thead th {\n",
       "        text-align: right;\n",
       "    }\n",
       "</style>\n",
       "<table border=\"1\" class=\"dataframe\">\n",
       "  <thead>\n",
       "    <tr style=\"text-align: right;\">\n",
       "      <th></th>\n",
       "      <th>고객번호</th>\n",
       "      <th>이름</th>\n",
       "      <th>금액</th>\n",
       "    </tr>\n",
       "  </thead>\n",
       "  <tbody>\n",
       "    <tr>\n",
       "      <th>0</th>\n",
       "      <td>1001</td>\n",
       "      <td>둘리</td>\n",
       "      <td>10000.0</td>\n",
       "    </tr>\n",
       "    <tr>\n",
       "      <th>1</th>\n",
       "      <td>1001</td>\n",
       "      <td>둘리</td>\n",
       "      <td>20000.0</td>\n",
       "    </tr>\n",
       "    <tr>\n",
       "      <th>2</th>\n",
       "      <td>1001</td>\n",
       "      <td>둘리</td>\n",
       "      <td>30000.0</td>\n",
       "    </tr>\n",
       "    <tr>\n",
       "      <th>3</th>\n",
       "      <td>1002</td>\n",
       "      <td>도우너</td>\n",
       "      <td>NaN</td>\n",
       "    </tr>\n",
       "    <tr>\n",
       "      <th>4</th>\n",
       "      <td>1003</td>\n",
       "      <td>또치</td>\n",
       "      <td>NaN</td>\n",
       "    </tr>\n",
       "    <tr>\n",
       "      <th>5</th>\n",
       "      <td>1004</td>\n",
       "      <td>길동</td>\n",
       "      <td>NaN</td>\n",
       "    </tr>\n",
       "    <tr>\n",
       "      <th>6</th>\n",
       "      <td>1005</td>\n",
       "      <td>희동</td>\n",
       "      <td>15000.0</td>\n",
       "    </tr>\n",
       "    <tr>\n",
       "      <th>7</th>\n",
       "      <td>1006</td>\n",
       "      <td>마이콜</td>\n",
       "      <td>5000.0</td>\n",
       "    </tr>\n",
       "    <tr>\n",
       "      <th>8</th>\n",
       "      <td>1007</td>\n",
       "      <td>영희</td>\n",
       "      <td>NaN</td>\n",
       "    </tr>\n",
       "    <tr>\n",
       "      <th>9</th>\n",
       "      <td>1008</td>\n",
       "      <td>NaN</td>\n",
       "      <td>100000.0</td>\n",
       "    </tr>\n",
       "  </tbody>\n",
       "</table>\n",
       "</div>"
      ],
      "text/plain": [
       "   고객번호   이름        금액\n",
       "0  1001   둘리   10000.0\n",
       "1  1001   둘리   20000.0\n",
       "2  1001   둘리   30000.0\n",
       "3  1002  도우너       NaN\n",
       "4  1003   또치       NaN\n",
       "5  1004   길동       NaN\n",
       "6  1005   희동   15000.0\n",
       "7  1006  마이콜    5000.0\n",
       "8  1007   영희       NaN\n",
       "9  1008  NaN  100000.0"
      ]
     },
     "execution_count": 83,
     "metadata": {},
     "output_type": "execute_result"
    }
   ],
   "source": [
    "# outer join 방식은 키 값이 한쪽에만 있어도 데이터를 보여준다.\n",
    "pd.merge(df1, df2, how='outer', on='고객번호')"
   ]
  },
  {
   "cell_type": "code",
   "execution_count": null,
   "id": "hJtZqqVg8ZIL",
   "metadata": {
    "ExecuteTime": {
     "end_time": "2022-04-25T12:26:33.371627Z",
     "start_time": "2022-04-25T12:26:33.358673Z"
    },
    "colab": {
     "base_uri": "https://localhost:8080/",
     "height": 331
    },
    "executionInfo": {
     "elapsed": 321,
     "status": "ok",
     "timestamp": 1650524863691,
     "user": {
      "displayName": "Mark K",
      "userId": "03340535256939132196"
     },
     "user_tz": -540
    },
    "id": "hJtZqqVg8ZIL",
    "outputId": "b4b44d11-d332-4e6d-efad-cc04ad4b059a"
   },
   "outputs": [
    {
     "data": {
      "text/html": [
       "<div>\n",
       "<style scoped>\n",
       "    .dataframe tbody tr th:only-of-type {\n",
       "        vertical-align: middle;\n",
       "    }\n",
       "\n",
       "    .dataframe tbody tr th {\n",
       "        vertical-align: top;\n",
       "    }\n",
       "\n",
       "    .dataframe thead th {\n",
       "        text-align: right;\n",
       "    }\n",
       "</style>\n",
       "<table border=\"1\" class=\"dataframe\">\n",
       "  <thead>\n",
       "    <tr style=\"text-align: right;\">\n",
       "      <th></th>\n",
       "      <th>고객번호</th>\n",
       "      <th>이름</th>\n",
       "      <th>금액</th>\n",
       "    </tr>\n",
       "  </thead>\n",
       "  <tbody>\n",
       "    <tr>\n",
       "      <th>0</th>\n",
       "      <td>1001</td>\n",
       "      <td>둘리</td>\n",
       "      <td>10000.0</td>\n",
       "    </tr>\n",
       "    <tr>\n",
       "      <th>1</th>\n",
       "      <td>1001</td>\n",
       "      <td>둘리</td>\n",
       "      <td>20000.0</td>\n",
       "    </tr>\n",
       "    <tr>\n",
       "      <th>2</th>\n",
       "      <td>1001</td>\n",
       "      <td>둘리</td>\n",
       "      <td>30000.0</td>\n",
       "    </tr>\n",
       "    <tr>\n",
       "      <th>3</th>\n",
       "      <td>1002</td>\n",
       "      <td>도우너</td>\n",
       "      <td>NaN</td>\n",
       "    </tr>\n",
       "    <tr>\n",
       "      <th>4</th>\n",
       "      <td>1003</td>\n",
       "      <td>또치</td>\n",
       "      <td>NaN</td>\n",
       "    </tr>\n",
       "    <tr>\n",
       "      <th>5</th>\n",
       "      <td>1004</td>\n",
       "      <td>길동</td>\n",
       "      <td>NaN</td>\n",
       "    </tr>\n",
       "    <tr>\n",
       "      <th>6</th>\n",
       "      <td>1005</td>\n",
       "      <td>희동</td>\n",
       "      <td>15000.0</td>\n",
       "    </tr>\n",
       "    <tr>\n",
       "      <th>7</th>\n",
       "      <td>1006</td>\n",
       "      <td>마이콜</td>\n",
       "      <td>5000.0</td>\n",
       "    </tr>\n",
       "    <tr>\n",
       "      <th>8</th>\n",
       "      <td>1007</td>\n",
       "      <td>영희</td>\n",
       "      <td>NaN</td>\n",
       "    </tr>\n",
       "  </tbody>\n",
       "</table>\n",
       "</div>"
      ],
      "text/plain": [
       "   고객번호   이름       금액\n",
       "0  1001   둘리  10000.0\n",
       "1  1001   둘리  20000.0\n",
       "2  1001   둘리  30000.0\n",
       "3  1002  도우너      NaN\n",
       "4  1003   또치      NaN\n",
       "5  1004   길동      NaN\n",
       "6  1005   희동  15000.0\n",
       "7  1006  마이콜   5000.0\n",
       "8  1007   영희      NaN"
      ]
     },
     "execution_count": 84,
     "metadata": {},
     "output_type": "execute_result"
    }
   ],
   "source": [
    "# left, right 방식은 각각 첫번째, 혹은 두번째 데이터프레임의 키 값을 모두 보여준다.\n",
    "pd.merge(df1, df2, how='left', on='고객번호')"
   ]
  },
  {
   "cell_type": "code",
   "execution_count": null,
   "id": "K45b_fZr8rjP",
   "metadata": {
    "ExecuteTime": {
     "end_time": "2022-04-25T12:26:48.156370Z",
     "start_time": "2022-04-25T12:26:48.145404Z"
    },
    "colab": {
     "base_uri": "https://localhost:8080/",
     "height": 237
    },
    "executionInfo": {
     "elapsed": 274,
     "status": "ok",
     "timestamp": 1650524872050,
     "user": {
      "displayName": "Mark K",
      "userId": "03340535256939132196"
     },
     "user_tz": -540
    },
    "id": "K45b_fZr8rjP",
    "outputId": "75d94fbe-0cf4-4998-e8ff-7d40bdc6286b"
   },
   "outputs": [
    {
     "data": {
      "text/html": [
       "<div>\n",
       "<style scoped>\n",
       "    .dataframe tbody tr th:only-of-type {\n",
       "        vertical-align: middle;\n",
       "    }\n",
       "\n",
       "    .dataframe tbody tr th {\n",
       "        vertical-align: top;\n",
       "    }\n",
       "\n",
       "    .dataframe thead th {\n",
       "        text-align: right;\n",
       "    }\n",
       "</style>\n",
       "<table border=\"1\" class=\"dataframe\">\n",
       "  <thead>\n",
       "    <tr style=\"text-align: right;\">\n",
       "      <th></th>\n",
       "      <th>고객번호</th>\n",
       "      <th>이름</th>\n",
       "      <th>금액</th>\n",
       "    </tr>\n",
       "  </thead>\n",
       "  <tbody>\n",
       "    <tr>\n",
       "      <th>0</th>\n",
       "      <td>1001</td>\n",
       "      <td>둘리</td>\n",
       "      <td>10000</td>\n",
       "    </tr>\n",
       "    <tr>\n",
       "      <th>1</th>\n",
       "      <td>1001</td>\n",
       "      <td>둘리</td>\n",
       "      <td>20000</td>\n",
       "    </tr>\n",
       "    <tr>\n",
       "      <th>2</th>\n",
       "      <td>1005</td>\n",
       "      <td>희동</td>\n",
       "      <td>15000</td>\n",
       "    </tr>\n",
       "    <tr>\n",
       "      <th>3</th>\n",
       "      <td>1006</td>\n",
       "      <td>마이콜</td>\n",
       "      <td>5000</td>\n",
       "    </tr>\n",
       "    <tr>\n",
       "      <th>4</th>\n",
       "      <td>1008</td>\n",
       "      <td>NaN</td>\n",
       "      <td>100000</td>\n",
       "    </tr>\n",
       "    <tr>\n",
       "      <th>5</th>\n",
       "      <td>1001</td>\n",
       "      <td>둘리</td>\n",
       "      <td>30000</td>\n",
       "    </tr>\n",
       "  </tbody>\n",
       "</table>\n",
       "</div>"
      ],
      "text/plain": [
       "   고객번호   이름      금액\n",
       "0  1001   둘리   10000\n",
       "1  1001   둘리   20000\n",
       "2  1005   희동   15000\n",
       "3  1006  마이콜    5000\n",
       "4  1008  NaN  100000\n",
       "5  1001   둘리   30000"
      ]
     },
     "execution_count": 85,
     "metadata": {},
     "output_type": "execute_result"
    }
   ],
   "source": [
    "pd.merge(df1, df2, how='right', on='고객번호')"
   ]
  },
  {
   "cell_type": "markdown",
   "id": "6e353418",
   "metadata": {
    "id": "6e353418"
   },
   "source": [
    "### 실습  아래 두 데이터를 이용해서 merge 4가지 방법으로 합쳐보고(회사코드는 지워주세요) 차이점을 비교해 보세요.(최종 inner 방법으로 data_test에 저장하세요)"
   ]
  },
  {
   "cell_type": "code",
   "execution_count": null,
   "id": "00f9a243",
   "metadata": {
    "ExecuteTime": {
     "end_time": "2022-04-27T10:08:16.329563Z",
     "start_time": "2022-04-27T10:08:16.318580Z"
    },
    "colab": {
     "base_uri": "https://localhost:8080/"
    },
    "executionInfo": {
     "elapsed": 360,
     "status": "ok",
     "timestamp": 1650791341129,
     "user": {
      "displayName": "서명교",
      "userId": "11730583039526359700"
     },
     "user_tz": -540
    },
    "id": "00f9a243",
    "outputId": "2a4e6112-84f1-43c9-955a-a0f8bd378bdd"
   },
   "outputs": [
    {
     "name": "stdout",
     "output_type": "stream",
     "text": [
      "df_name데이터 \n",
      "      종목코드     회사이름\n",
      "0   95570   AJ네트웍스\n",
      "1   68400    SK렌터카\n",
      "2   27410    AK홀딩스\n",
      "3  282330   BGF리테일\n",
      "4  138930  BNK금융지주\n",
      "5    1460      BYC \n",
      "\n",
      "df_money데이터 \n",
      "      회사코드      종가\n",
      "0   95570   20000\n",
      "1   68400   24000\n",
      "2    6840   15000\n",
      "3   27410    5000\n",
      "4  138930  100000\n",
      "5    1460   30000\n"
     ]
    }
   ],
   "source": [
    "df_name = pd.DataFrame({\n",
    "    '종목코드': [95570, 68400, 27410, 282330, 138930, 1460],\n",
    "    '회사이름': ['AJ네트웍스', 'SK렌터카', 'AK홀딩스', 'BGF리테일', 'BNK금융지주', 'BYC']\n",
    "}, columns=['종목코드', '회사이름'])\n",
    "\n",
    "df_money = pd.DataFrame({\n",
    "    '회사코드': [95570, 68400, 6840, 27410, 138930, 1460],\n",
    "    '종가': [20000, 24000, 15000, 5000, 100000, 30000]\n",
    "}, columns=['회사코드', '종가'])\n",
    "print('df_name데이터 \\n',df_name,'\\n')\n",
    "print('df_money데이터 \\n',df_money)"
   ]
  },
  {
   "cell_type": "code",
   "execution_count": null,
   "id": "7badee94",
   "metadata": {
    "ExecuteTime": {
     "end_time": "2022-04-27T10:08:18.942574Z",
     "start_time": "2022-04-27T10:08:18.932592Z"
    },
    "id": "7badee94",
    "outputId": "1ad161ea-03f5-4f5b-c167-664bcb7991e1"
   },
   "outputs": [
    {
     "data": {
      "text/html": [
       "<div>\n",
       "<style scoped>\n",
       "    .dataframe tbody tr th:only-of-type {\n",
       "        vertical-align: middle;\n",
       "    }\n",
       "\n",
       "    .dataframe tbody tr th {\n",
       "        vertical-align: top;\n",
       "    }\n",
       "\n",
       "    .dataframe thead th {\n",
       "        text-align: right;\n",
       "    }\n",
       "</style>\n",
       "<table border=\"1\" class=\"dataframe\">\n",
       "  <thead>\n",
       "    <tr style=\"text-align: right;\">\n",
       "      <th></th>\n",
       "      <th>종목코드</th>\n",
       "      <th>회사이름</th>\n",
       "      <th>회사코드</th>\n",
       "      <th>종가</th>\n",
       "      <th>종목코드</th>\n",
       "      <th>회사이름</th>\n",
       "    </tr>\n",
       "  </thead>\n",
       "  <tbody>\n",
       "    <tr>\n",
       "      <th>0</th>\n",
       "      <td>95570</td>\n",
       "      <td>AJ네트웍스</td>\n",
       "      <td>95570</td>\n",
       "      <td>20000</td>\n",
       "      <td>95570</td>\n",
       "      <td>AJ네트웍스</td>\n",
       "    </tr>\n",
       "    <tr>\n",
       "      <th>1</th>\n",
       "      <td>68400</td>\n",
       "      <td>SK렌터카</td>\n",
       "      <td>68400</td>\n",
       "      <td>24000</td>\n",
       "      <td>68400</td>\n",
       "      <td>SK렌터카</td>\n",
       "    </tr>\n",
       "    <tr>\n",
       "      <th>2</th>\n",
       "      <td>27410</td>\n",
       "      <td>AK홀딩스</td>\n",
       "      <td>6840</td>\n",
       "      <td>15000</td>\n",
       "      <td>27410</td>\n",
       "      <td>AK홀딩스</td>\n",
       "    </tr>\n",
       "    <tr>\n",
       "      <th>3</th>\n",
       "      <td>282330</td>\n",
       "      <td>BGF리테일</td>\n",
       "      <td>27410</td>\n",
       "      <td>5000</td>\n",
       "      <td>282330</td>\n",
       "      <td>BGF리테일</td>\n",
       "    </tr>\n",
       "    <tr>\n",
       "      <th>4</th>\n",
       "      <td>138930</td>\n",
       "      <td>BNK금융지주</td>\n",
       "      <td>138930</td>\n",
       "      <td>100000</td>\n",
       "      <td>138930</td>\n",
       "      <td>BNK금융지주</td>\n",
       "    </tr>\n",
       "    <tr>\n",
       "      <th>5</th>\n",
       "      <td>1460</td>\n",
       "      <td>BYC</td>\n",
       "      <td>1460</td>\n",
       "      <td>30000</td>\n",
       "      <td>1460</td>\n",
       "      <td>BYC</td>\n",
       "    </tr>\n",
       "  </tbody>\n",
       "</table>\n",
       "</div>"
      ],
      "text/plain": [
       "     종목코드     회사이름    회사코드      종가    종목코드     회사이름\n",
       "0   95570   AJ네트웍스   95570   20000   95570   AJ네트웍스\n",
       "1   68400    SK렌터카   68400   24000   68400    SK렌터카\n",
       "2   27410    AK홀딩스    6840   15000   27410    AK홀딩스\n",
       "3  282330   BGF리테일   27410    5000  282330   BGF리테일\n",
       "4  138930  BNK금융지주  138930  100000  138930  BNK금융지주\n",
       "5    1460      BYC    1460   30000    1460      BYC"
      ]
     },
     "execution_count": 136,
     "metadata": {},
     "output_type": "execute_result"
    }
   ],
   "source": [
    "data_test = pd.concat([df_name, df_money,df_name],axis=1)\n",
    "data_test"
   ]
  },
  {
   "cell_type": "code",
   "execution_count": null,
   "id": "8418fdc7",
   "metadata": {
    "ExecuteTime": {
     "end_time": "2022-04-27T10:08:19.449208Z",
     "start_time": "2022-04-27T10:08:19.429263Z"
    },
    "colab": {
     "base_uri": "https://localhost:8080/"
    },
    "executionInfo": {
     "elapsed": 337,
     "status": "ok",
     "timestamp": 1650792396662,
     "user": {
      "displayName": "서명교",
      "userId": "11730583039526359700"
     },
     "user_tz": -540
    },
    "id": "8418fdc7",
    "outputId": "7b536925-fd88-4b9c-d1cf-562079cb26e4"
   },
   "outputs": [
    {
     "name": "stdout",
     "output_type": "stream",
     "text": [
      "     종목코드     회사이름    회사코드      종가\n",
      "0   95570   AJ네트웍스   95570   20000\n",
      "1   68400    SK렌터카   68400   24000\n",
      "2   27410    AK홀딩스   27410    5000\n",
      "3  138930  BNK금융지주  138930  100000\n",
      "4    1460      BYC    1460   30000      종목코드     회사이름    회사코드      종가\n",
      "0   95570   AJ네트웍스   95570   20000\n",
      "1   68400    SK렌터카   68400   24000\n",
      "2   27410    AK홀딩스   27410    5000\n",
      "3  138930  BNK금융지주  138930  100000\n",
      "4    1460      BYC    1460   30000\n",
      "       종목코드     회사이름      회사코드        종가\n",
      "0   95570.0   AJ네트웍스   95570.0   20000.0\n",
      "1   68400.0    SK렌터카   68400.0   24000.0\n",
      "2   27410.0    AK홀딩스   27410.0    5000.0\n",
      "3  282330.0   BGF리테일       NaN       NaN\n",
      "4  138930.0  BNK금융지주  138930.0  100000.0\n",
      "5    1460.0      BYC    1460.0   30000.0\n",
      "6       NaN      NaN    6840.0   15000.0\n",
      "       종목코드     회사이름        종가\n",
      "0   95570.0   AJ네트웍스   20000.0\n",
      "1   68400.0    SK렌터카   24000.0\n",
      "2   27410.0    AK홀딩스    5000.0\n",
      "3  282330.0   BGF리테일       NaN\n",
      "4  138930.0  BNK금융지주  100000.0\n",
      "5    1460.0      BYC   30000.0\n",
      "6       NaN      NaN   15000.0\n"
     ]
    }
   ],
   "source": [
    "# 방법1 left_on, right_on 지정해서 합쳐주고 하나 삭제\n",
    "data_test = pd.merge(df_name, df_money, left_on = '종목코드',right_on='회사코드')\n",
    "print(data_test,data_test)\n",
    "data_test = pd.merge(df_name, df_money, how='outer', left_on = '종목코드',right_on='회사코드')\n",
    "print(data_test)\n",
    "# data_test = pd.merge(df_name, df_money, how='right', left_on = '종목코드',right_on='회사코드')\n",
    "# data_test = pd.merge(df_name, df_money, how='left', left_on = '종목코드',right_on='회사코드')\n",
    "data_test.drop('회사코드',axis=1,inplace=True)\n",
    "print(data_test)\n",
    "\n",
    "# 방법2 칼럼 이름을 바꿔주고 진행\n",
    "# df_money.rename(columns = {'회사코드' : '종목코드'}, inplace = True)\n",
    "# data_test1 = pd.merge(df_name, df_money, on = '종목코드')\n",
    "# data_test1 = pd.merge(df_name, df_money, how='outer', on = '종목코드')\n",
    "# data_test1 = pd.merge(df_name, df_money, how='right', on = '종목코드')\n",
    "# data_test1 = pd.merge(df_name, df_money, how='left', on = '종목코드')\n",
    "# print(data_test1)"
   ]
  },
  {
   "cell_type": "markdown",
   "id": "49e966d8",
   "metadata": {
    "id": "49e966d8"
   },
   "source": [
    "# ========================================================="
   ]
  },
  {
   "cell_type": "markdown",
   "id": "dEF0z_g06XN9",
   "metadata": {
    "id": "dEF0z_g06XN9"
   },
   "source": [
    "### 실습 비율 칼럼을 만들고 동일 비중으로 값을 넣어주세요. "
   ]
  },
  {
   "cell_type": "code",
   "execution_count": null,
   "id": "O5_-sWxJ6Wl-",
   "metadata": {
    "ExecuteTime": {
     "end_time": "2022-04-27T10:08:29.324003Z",
     "start_time": "2022-04-27T10:08:29.316026Z"
    },
    "colab": {
     "base_uri": "https://localhost:8080/"
    },
    "executionInfo": {
     "elapsed": 259,
     "status": "ok",
     "timestamp": 1650792841292,
     "user": {
      "displayName": "서명교",
      "userId": "11730583039526359700"
     },
     "user_tz": -540
    },
    "id": "O5_-sWxJ6Wl-",
    "outputId": "09c1ff4e-2485-4ae1-b552-d779a5d086c8"
   },
   "outputs": [
    {
     "name": "stdout",
     "output_type": "stream",
     "text": [
      "       종목코드     회사이름        종가         비율\n",
      "0   95570.0   AJ네트웍스   20000.0  14.285714\n",
      "1   68400.0    SK렌터카   24000.0  14.285714\n",
      "2   27410.0    AK홀딩스    5000.0  14.285714\n",
      "3  282330.0   BGF리테일       NaN  14.285714\n",
      "4  138930.0  BNK금융지주  100000.0  14.285714\n",
      "5    1460.0      BYC   30000.0  14.285714\n",
      "6       NaN      NaN   15000.0  14.285714\n"
     ]
    }
   ],
   "source": [
    "data_test['비율'] = 1/len(data_test)* 100\n",
    "print(data_test)"
   ]
  },
  {
   "cell_type": "markdown",
   "id": "oFSKGM8W6_fq",
   "metadata": {
    "id": "oFSKGM8W6_fq"
   },
   "source": [
    "### 실습 (총 투입금액 1,000,000원) 현재 투자를 한다 각 회사마다 보유주식수를를 계산해 보세요.   "
   ]
  },
  {
   "cell_type": "code",
   "execution_count": null,
   "id": "gNxpKVc06-8i",
   "metadata": {
    "ExecuteTime": {
     "end_time": "2022-04-27T10:36:03.417291Z",
     "start_time": "2022-04-27T10:36:03.402332Z"
    },
    "colab": {
     "base_uri": "https://localhost:8080/",
     "height": 206
    },
    "executionInfo": {
     "elapsed": 265,
     "status": "ok",
     "timestamp": 1650793349281,
     "user": {
      "displayName": "서명교",
      "userId": "11730583039526359700"
     },
     "user_tz": -540
    },
    "id": "gNxpKVc06-8i",
    "outputId": "72b80f04-25ab-47db-9e32-a7526b05606c"
   },
   "outputs": [
    {
     "data": {
      "text/html": [
       "<div>\n",
       "<style scoped>\n",
       "    .dataframe tbody tr th:only-of-type {\n",
       "        vertical-align: middle;\n",
       "    }\n",
       "\n",
       "    .dataframe tbody tr th {\n",
       "        vertical-align: top;\n",
       "    }\n",
       "\n",
       "    .dataframe thead th {\n",
       "        text-align: right;\n",
       "    }\n",
       "</style>\n",
       "<table border=\"1\" class=\"dataframe\">\n",
       "  <thead>\n",
       "    <tr style=\"text-align: right;\">\n",
       "      <th></th>\n",
       "      <th>종목코드</th>\n",
       "      <th>회사이름</th>\n",
       "      <th>종가</th>\n",
       "      <th>비율</th>\n",
       "      <th>보유주식수</th>\n",
       "    </tr>\n",
       "  </thead>\n",
       "  <tbody>\n",
       "    <tr>\n",
       "      <th>0</th>\n",
       "      <td>95570.0</td>\n",
       "      <td>AJ네트웍스</td>\n",
       "      <td>20000.0</td>\n",
       "      <td>14.285714</td>\n",
       "      <td>7.0</td>\n",
       "    </tr>\n",
       "    <tr>\n",
       "      <th>1</th>\n",
       "      <td>68400.0</td>\n",
       "      <td>SK렌터카</td>\n",
       "      <td>24000.0</td>\n",
       "      <td>14.285714</td>\n",
       "      <td>6.0</td>\n",
       "    </tr>\n",
       "    <tr>\n",
       "      <th>2</th>\n",
       "      <td>27410.0</td>\n",
       "      <td>AK홀딩스</td>\n",
       "      <td>5000.0</td>\n",
       "      <td>14.285714</td>\n",
       "      <td>29.0</td>\n",
       "    </tr>\n",
       "    <tr>\n",
       "      <th>3</th>\n",
       "      <td>282330.0</td>\n",
       "      <td>BGF리테일</td>\n",
       "      <td>NaN</td>\n",
       "      <td>14.285714</td>\n",
       "      <td>NaN</td>\n",
       "    </tr>\n",
       "    <tr>\n",
       "      <th>4</th>\n",
       "      <td>138930.0</td>\n",
       "      <td>BNK금융지주</td>\n",
       "      <td>100000.0</td>\n",
       "      <td>14.285714</td>\n",
       "      <td>1.0</td>\n",
       "    </tr>\n",
       "    <tr>\n",
       "      <th>5</th>\n",
       "      <td>1460.0</td>\n",
       "      <td>BYC</td>\n",
       "      <td>30000.0</td>\n",
       "      <td>14.285714</td>\n",
       "      <td>5.0</td>\n",
       "    </tr>\n",
       "    <tr>\n",
       "      <th>6</th>\n",
       "      <td>NaN</td>\n",
       "      <td>NaN</td>\n",
       "      <td>15000.0</td>\n",
       "      <td>14.285714</td>\n",
       "      <td>10.0</td>\n",
       "    </tr>\n",
       "  </tbody>\n",
       "</table>\n",
       "</div>"
      ],
      "text/plain": [
       "       종목코드     회사이름        종가         비율  보유주식수\n",
       "0   95570.0   AJ네트웍스   20000.0  14.285714    7.0\n",
       "1   68400.0    SK렌터카   24000.0  14.285714    6.0\n",
       "2   27410.0    AK홀딩스    5000.0  14.285714   29.0\n",
       "3  282330.0   BGF리테일       NaN  14.285714    NaN\n",
       "4  138930.0  BNK금융지주  100000.0  14.285714    1.0\n",
       "5    1460.0      BYC   30000.0  14.285714    5.0\n",
       "6       NaN      NaN   15000.0  14.285714   10.0"
      ]
     },
     "execution_count": 146,
     "metadata": {},
     "output_type": "execute_result"
    }
   ],
   "source": [
    "cash = 1000000\n",
    "same_money = cash * data_test['비율'][0] /100\n",
    "data_test['보유주식수'] = round(same_money / data_test['종가'],0)\n",
    "data_test"
   ]
  },
  {
   "cell_type": "markdown",
   "id": "Rsp18Q8i0wIZ",
   "metadata": {
    "id": "Rsp18Q8i0wIZ"
   },
   "source": [
    "### 실습 data_test에서 회사이름이 SK렌터카인 종목을 추출해 보세요"
   ]
  },
  {
   "cell_type": "code",
   "execution_count": null,
   "id": "GkkZZnyd02we",
   "metadata": {
    "ExecuteTime": {
     "end_time": "2022-04-27T10:36:06.967883Z",
     "start_time": "2022-04-27T10:36:06.952927Z"
    },
    "colab": {
     "base_uri": "https://localhost:8080/",
     "height": 81
    },
    "executionInfo": {
     "elapsed": 331,
     "status": "ok",
     "timestamp": 1650792439034,
     "user": {
      "displayName": "서명교",
      "userId": "11730583039526359700"
     },
     "user_tz": -540
    },
    "id": "GkkZZnyd02we",
    "outputId": "abfac50f-5331-4b2a-cbd1-70bf39902ce1"
   },
   "outputs": [
    {
     "ename": "ValueError",
     "evalue": "Cannot mask with non-boolean array containing NA / NaN values",
     "output_type": "error",
     "traceback": [
      "\u001b[1;31m---------------------------------------------------------------------------\u001b[0m",
      "\u001b[1;31mValueError\u001b[0m                                Traceback (most recent call last)",
      "\u001b[1;32m~\\AppData\\Local\\Temp/ipykernel_17820/237436863.py\u001b[0m in \u001b[0;36m<module>\u001b[1;34m\u001b[0m\n\u001b[0;32m      1\u001b[0m \u001b[1;31m# data_test[ data_test['회사이름'] == 'SK렌터카' ]\u001b[0m\u001b[1;33m\u001b[0m\u001b[1;33m\u001b[0m\u001b[0m\n\u001b[1;32m----> 2\u001b[1;33m \u001b[0mdata_test\u001b[0m\u001b[1;33m[\u001b[0m\u001b[0mdata_test\u001b[0m\u001b[1;33m[\u001b[0m\u001b[1;34m'회사이름'\u001b[0m\u001b[1;33m]\u001b[0m\u001b[1;33m.\u001b[0m\u001b[0mstr\u001b[0m\u001b[1;33m.\u001b[0m\u001b[0mcontains\u001b[0m\u001b[1;33m(\u001b[0m\u001b[1;34m'렌터카'\u001b[0m\u001b[1;33m)\u001b[0m\u001b[1;33m]\u001b[0m\u001b[1;33m\u001b[0m\u001b[1;33m\u001b[0m\u001b[0m\n\u001b[0m",
      "\u001b[1;32mD:\\anaconda3\\lib\\site-packages\\pandas\\core\\frame.py\u001b[0m in \u001b[0;36m__getitem__\u001b[1;34m(self, key)\u001b[0m\n\u001b[0;32m   3446\u001b[0m \u001b[1;33m\u001b[0m\u001b[0m\n\u001b[0;32m   3447\u001b[0m         \u001b[1;31m# Do we have a (boolean) 1d indexer?\u001b[0m\u001b[1;33m\u001b[0m\u001b[1;33m\u001b[0m\u001b[0m\n\u001b[1;32m-> 3448\u001b[1;33m         \u001b[1;32mif\u001b[0m \u001b[0mcom\u001b[0m\u001b[1;33m.\u001b[0m\u001b[0mis_bool_indexer\u001b[0m\u001b[1;33m(\u001b[0m\u001b[0mkey\u001b[0m\u001b[1;33m)\u001b[0m\u001b[1;33m:\u001b[0m\u001b[1;33m\u001b[0m\u001b[1;33m\u001b[0m\u001b[0m\n\u001b[0m\u001b[0;32m   3449\u001b[0m             \u001b[1;32mreturn\u001b[0m \u001b[0mself\u001b[0m\u001b[1;33m.\u001b[0m\u001b[0m_getitem_bool_array\u001b[0m\u001b[1;33m(\u001b[0m\u001b[0mkey\u001b[0m\u001b[1;33m)\u001b[0m\u001b[1;33m\u001b[0m\u001b[1;33m\u001b[0m\u001b[0m\n\u001b[0;32m   3450\u001b[0m \u001b[1;33m\u001b[0m\u001b[0m\n",
      "\u001b[1;32mD:\\anaconda3\\lib\\site-packages\\pandas\\core\\common.py\u001b[0m in \u001b[0;36mis_bool_indexer\u001b[1;34m(key)\u001b[0m\n\u001b[0;32m    137\u001b[0m                     \u001b[1;31m# Don't raise on e.g. [\"A\", \"B\", np.nan], see\u001b[0m\u001b[1;33m\u001b[0m\u001b[1;33m\u001b[0m\u001b[0m\n\u001b[0;32m    138\u001b[0m                     \u001b[1;31m#  test_loc_getitem_list_of_labels_categoricalindex_with_na\u001b[0m\u001b[1;33m\u001b[0m\u001b[1;33m\u001b[0m\u001b[0m\n\u001b[1;32m--> 139\u001b[1;33m                     \u001b[1;32mraise\u001b[0m \u001b[0mValueError\u001b[0m\u001b[1;33m(\u001b[0m\u001b[0mna_msg\u001b[0m\u001b[1;33m)\u001b[0m\u001b[1;33m\u001b[0m\u001b[1;33m\u001b[0m\u001b[0m\n\u001b[0m\u001b[0;32m    140\u001b[0m                 \u001b[1;32mreturn\u001b[0m \u001b[1;32mFalse\u001b[0m\u001b[1;33m\u001b[0m\u001b[1;33m\u001b[0m\u001b[0m\n\u001b[0;32m    141\u001b[0m             \u001b[1;32mreturn\u001b[0m \u001b[1;32mTrue\u001b[0m\u001b[1;33m\u001b[0m\u001b[1;33m\u001b[0m\u001b[0m\n",
      "\u001b[1;31mValueError\u001b[0m: Cannot mask with non-boolean array containing NA / NaN values"
     ]
    }
   ],
   "source": [
    "# data_test[ data_test['회사이름'] == 'SK렌터카' ]\n",
    "data_test[data_test['회사이름'].str.contains('렌터카')]"
   ]
  },
  {
   "cell_type": "markdown",
   "id": "8762f7a1",
   "metadata": {
    "id": "8762f7a1"
   },
   "source": [
    "### 실습 data_test에서 보유주식수가 8이상 35이하의 종목을 추출해 보세요"
   ]
  },
  {
   "cell_type": "code",
   "execution_count": null,
   "id": "3677e3f1",
   "metadata": {
    "colab": {
     "base_uri": "https://localhost:8080/",
     "height": 112
    },
    "executionInfo": {
     "elapsed": 288,
     "status": "ok",
     "timestamp": 1650795694449,
     "user": {
      "displayName": "서명교",
      "userId": "11730583039526359700"
     },
     "user_tz": -540
    },
    "id": "3677e3f1",
    "outputId": "f21a90d4-adaa-4d23-c172-5fb7e3227086"
   },
   "outputs": [
    {
     "data": {
      "text/html": [
       "\n",
       "  <div id=\"df-0fce6302-bf3c-4754-99ca-62025a222d1a\">\n",
       "    <div class=\"colab-df-container\">\n",
       "      <div>\n",
       "<style scoped>\n",
       "    .dataframe tbody tr th:only-of-type {\n",
       "        vertical-align: middle;\n",
       "    }\n",
       "\n",
       "    .dataframe tbody tr th {\n",
       "        vertical-align: top;\n",
       "    }\n",
       "\n",
       "    .dataframe thead th {\n",
       "        text-align: right;\n",
       "    }\n",
       "</style>\n",
       "<table border=\"1\" class=\"dataframe\">\n",
       "  <thead>\n",
       "    <tr style=\"text-align: right;\">\n",
       "      <th></th>\n",
       "      <th>종목코드</th>\n",
       "      <th>회사이름</th>\n",
       "      <th>종가</th>\n",
       "      <th>비율</th>\n",
       "      <th>보유주식수</th>\n",
       "    </tr>\n",
       "  </thead>\n",
       "  <tbody>\n",
       "    <tr>\n",
       "      <th>0</th>\n",
       "      <td>95570</td>\n",
       "      <td>AJ네트웍스</td>\n",
       "      <td>20000</td>\n",
       "      <td>20.0</td>\n",
       "      <td>10.0</td>\n",
       "    </tr>\n",
       "    <tr>\n",
       "      <th>1</th>\n",
       "      <td>68400</td>\n",
       "      <td>SK렌터카</td>\n",
       "      <td>24000</td>\n",
       "      <td>20.0</td>\n",
       "      <td>8.0</td>\n",
       "    </tr>\n",
       "  </tbody>\n",
       "</table>\n",
       "</div>\n",
       "      <button class=\"colab-df-convert\" onclick=\"convertToInteractive('df-0fce6302-bf3c-4754-99ca-62025a222d1a')\"\n",
       "              title=\"Convert this dataframe to an interactive table.\"\n",
       "              style=\"display:none;\">\n",
       "        \n",
       "  <svg xmlns=\"http://www.w3.org/2000/svg\" height=\"24px\"viewBox=\"0 0 24 24\"\n",
       "       width=\"24px\">\n",
       "    <path d=\"M0 0h24v24H0V0z\" fill=\"none\"/>\n",
       "    <path d=\"M18.56 5.44l.94 2.06.94-2.06 2.06-.94-2.06-.94-.94-2.06-.94 2.06-2.06.94zm-11 1L8.5 8.5l.94-2.06 2.06-.94-2.06-.94L8.5 2.5l-.94 2.06-2.06.94zm10 10l.94 2.06.94-2.06 2.06-.94-2.06-.94-.94-2.06-.94 2.06-2.06.94z\"/><path d=\"M17.41 7.96l-1.37-1.37c-.4-.4-.92-.59-1.43-.59-.52 0-1.04.2-1.43.59L10.3 9.45l-7.72 7.72c-.78.78-.78 2.05 0 2.83L4 21.41c.39.39.9.59 1.41.59.51 0 1.02-.2 1.41-.59l7.78-7.78 2.81-2.81c.8-.78.8-2.07 0-2.86zM5.41 20L4 18.59l7.72-7.72 1.47 1.35L5.41 20z\"/>\n",
       "  </svg>\n",
       "      </button>\n",
       "      \n",
       "  <style>\n",
       "    .colab-df-container {\n",
       "      display:flex;\n",
       "      flex-wrap:wrap;\n",
       "      gap: 12px;\n",
       "    }\n",
       "\n",
       "    .colab-df-convert {\n",
       "      background-color: #E8F0FE;\n",
       "      border: none;\n",
       "      border-radius: 50%;\n",
       "      cursor: pointer;\n",
       "      display: none;\n",
       "      fill: #1967D2;\n",
       "      height: 32px;\n",
       "      padding: 0 0 0 0;\n",
       "      width: 32px;\n",
       "    }\n",
       "\n",
       "    .colab-df-convert:hover {\n",
       "      background-color: #E2EBFA;\n",
       "      box-shadow: 0px 1px 2px rgba(60, 64, 67, 0.3), 0px 1px 3px 1px rgba(60, 64, 67, 0.15);\n",
       "      fill: #174EA6;\n",
       "    }\n",
       "\n",
       "    [theme=dark] .colab-df-convert {\n",
       "      background-color: #3B4455;\n",
       "      fill: #D2E3FC;\n",
       "    }\n",
       "\n",
       "    [theme=dark] .colab-df-convert:hover {\n",
       "      background-color: #434B5C;\n",
       "      box-shadow: 0px 1px 3px 1px rgba(0, 0, 0, 0.15);\n",
       "      filter: drop-shadow(0px 1px 2px rgba(0, 0, 0, 0.3));\n",
       "      fill: #FFFFFF;\n",
       "    }\n",
       "  </style>\n",
       "\n",
       "      <script>\n",
       "        const buttonEl =\n",
       "          document.querySelector('#df-0fce6302-bf3c-4754-99ca-62025a222d1a button.colab-df-convert');\n",
       "        buttonEl.style.display =\n",
       "          google.colab.kernel.accessAllowed ? 'block' : 'none';\n",
       "\n",
       "        async function convertToInteractive(key) {\n",
       "          const element = document.querySelector('#df-0fce6302-bf3c-4754-99ca-62025a222d1a');\n",
       "          const dataTable =\n",
       "            await google.colab.kernel.invokeFunction('convertToInteractive',\n",
       "                                                     [key], {});\n",
       "          if (!dataTable) return;\n",
       "\n",
       "          const docLinkHtml = 'Like what you see? Visit the ' +\n",
       "            '<a target=\"_blank\" href=https://colab.research.google.com/notebooks/data_table.ipynb>data table notebook</a>'\n",
       "            + ' to learn more about interactive tables.';\n",
       "          element.innerHTML = '';\n",
       "          dataTable['output_type'] = 'display_data';\n",
       "          await google.colab.output.renderOutput(dataTable, element);\n",
       "          const docLink = document.createElement('div');\n",
       "          docLink.innerHTML = docLinkHtml;\n",
       "          element.appendChild(docLink);\n",
       "        }\n",
       "      </script>\n",
       "    </div>\n",
       "  </div>\n",
       "  "
      ],
      "text/plain": [
       "    종목코드    회사이름     종가    비율  보유주식수\n",
       "0  95570  AJ네트웍스  20000  20.0   10.0\n",
       "1  68400   SK렌터카  24000  20.0    8.0"
      ]
     },
     "execution_count": 29,
     "metadata": {},
     "output_type": "execute_result"
    }
   ],
   "source": [
    "data_test[ (data_test['보유주식수'] >= 8) & (data_test['보유주식수'] < 35) ]"
   ]
  },
  {
   "cell_type": "markdown",
   "id": "nSDyIx7pBl2v",
   "metadata": {
    "id": "nSDyIx7pBl2v"
   },
   "source": [
    "### Concat\n",
    "- concat 함수를 사용하면 기준 열(key column)을 사용하지 않고 단순히 데이터를 연결(concatenate)한다.\n",
    "\n",
    "기본적으로는 위/아래로 데이터 행을 연결한다(defalut axis=0). 단순히 두 시리즈나 데이터프레임을 연결하기 때문에 인덱스 값이 중복될 수 있다."
   ]
  },
  {
   "cell_type": "code",
   "execution_count": null,
   "id": "nrQNWRP-8tsB",
   "metadata": {
    "id": "nrQNWRP-8tsB"
   },
   "outputs": [],
   "source": [
    "s1 = pd.Series([0, 1], index=['A', 'B'])\n",
    "s2 = pd.Series([2, 3, 4], index=['A', 'B', 'C'])"
   ]
  },
  {
   "cell_type": "code",
   "execution_count": null,
   "id": "FdS9j9F_B0kF",
   "metadata": {
    "colab": {
     "base_uri": "https://localhost:8080/"
    },
    "executionInfo": {
     "elapsed": 285,
     "status": "ok",
     "timestamp": 1650526220603,
     "user": {
      "displayName": "Mark K",
      "userId": "03340535256939132196"
     },
     "user_tz": -540
    },
    "id": "FdS9j9F_B0kF",
    "outputId": "96f795e7-1680-4873-ccdc-892bff8556c1"
   },
   "outputs": [
    {
     "data": {
      "text/plain": [
       "A    0\n",
       "B    1\n",
       "dtype: int64"
      ]
     },
     "execution_count": 14,
     "metadata": {},
     "output_type": "execute_result"
    }
   ],
   "source": [
    "s1"
   ]
  },
  {
   "cell_type": "code",
   "execution_count": null,
   "id": "rlcl4kp1B27H",
   "metadata": {
    "colab": {
     "base_uri": "https://localhost:8080/"
    },
    "executionInfo": {
     "elapsed": 285,
     "status": "ok",
     "timestamp": 1650526226063,
     "user": {
      "displayName": "Mark K",
      "userId": "03340535256939132196"
     },
     "user_tz": -540
    },
    "id": "rlcl4kp1B27H",
    "outputId": "49508448-2594-43d9-8dec-e7d548843372"
   },
   "outputs": [
    {
     "data": {
      "text/plain": [
       "A    2\n",
       "B    3\n",
       "C    4\n",
       "dtype: int64"
      ]
     },
     "execution_count": 15,
     "metadata": {},
     "output_type": "execute_result"
    }
   ],
   "source": [
    "s2"
   ]
  },
  {
   "cell_type": "code",
   "execution_count": null,
   "id": "cR4HW44hB4QS",
   "metadata": {
    "colab": {
     "base_uri": "https://localhost:8080/"
    },
    "executionInfo": {
     "elapsed": 286,
     "status": "ok",
     "timestamp": 1650526231061,
     "user": {
      "displayName": "Mark K",
      "userId": "03340535256939132196"
     },
     "user_tz": -540
    },
    "id": "cR4HW44hB4QS",
    "outputId": "41deeae8-b2cc-47ea-f8ee-31b85bfdb472"
   },
   "outputs": [
    {
     "data": {
      "text/plain": [
       "A    0\n",
       "B    1\n",
       "A    2\n",
       "B    3\n",
       "C    4\n",
       "dtype: int64"
      ]
     },
     "execution_count": 16,
     "metadata": {},
     "output_type": "execute_result"
    }
   ],
   "source": [
    "pd.concat([s1, s2])"
   ]
  },
  {
   "cell_type": "code",
   "execution_count": null,
   "id": "4wvfQ56LB0m1",
   "metadata": {
    "colab": {
     "base_uri": "https://localhost:8080/"
    },
    "executionInfo": {
     "elapsed": 275,
     "status": "ok",
     "timestamp": 1650526487018,
     "user": {
      "displayName": "Mark K",
      "userId": "03340535256939132196"
     },
     "user_tz": -540
    },
    "id": "4wvfQ56LB0m1",
    "outputId": "23a90a7e-fa8f-4f37-f92c-355886c7135e"
   },
   "outputs": [
    {
     "name": "stdout",
     "output_type": "stream",
     "text": [
      "<bound method NDFrame.describe of    데이터1  데이터2\n",
      "a     0     1\n",
      "b     2     3\n",
      "c     4     5>\n"
     ]
    }
   ],
   "source": [
    "# 만약 옆으로 데이터 열을 연결하고 싶으면 axis=1로 인수를 설정한다.\n",
    "df1 = pd.DataFrame(\n",
    "    np.arange(6).reshape(3, 2),\n",
    "    index=['a', 'b', 'c'],\n",
    "    columns=['데이터1', '데이터2'])\n",
    "df1\n",
    "print(df1.describe)"
   ]
  },
  {
   "cell_type": "code",
   "execution_count": null,
   "id": "a1E0y0hxB0pf",
   "metadata": {
    "colab": {
     "base_uri": "https://localhost:8080/",
     "height": 112
    },
    "executionInfo": {
     "elapsed": 286,
     "status": "ok",
     "timestamp": 1650526435638,
     "user": {
      "displayName": "Mark K",
      "userId": "03340535256939132196"
     },
     "user_tz": -540
    },
    "id": "a1E0y0hxB0pf",
    "outputId": "462da6a7-d1a4-41fd-fa57-1abfb62fe70a"
   },
   "outputs": [
    {
     "data": {
      "text/html": [
       "\n",
       "  <div id=\"df-2306a9ed-4485-443f-afad-b7c1dc692046\">\n",
       "    <div class=\"colab-df-container\">\n",
       "      <div>\n",
       "<style scoped>\n",
       "    .dataframe tbody tr th:only-of-type {\n",
       "        vertical-align: middle;\n",
       "    }\n",
       "\n",
       "    .dataframe tbody tr th {\n",
       "        vertical-align: top;\n",
       "    }\n",
       "\n",
       "    .dataframe thead th {\n",
       "        text-align: right;\n",
       "    }\n",
       "</style>\n",
       "<table border=\"1\" class=\"dataframe\">\n",
       "  <thead>\n",
       "    <tr style=\"text-align: right;\">\n",
       "      <th></th>\n",
       "      <th>데이터3</th>\n",
       "      <th>데이터4</th>\n",
       "    </tr>\n",
       "  </thead>\n",
       "  <tbody>\n",
       "    <tr>\n",
       "      <th>a</th>\n",
       "      <td>6</td>\n",
       "      <td>7</td>\n",
       "    </tr>\n",
       "    <tr>\n",
       "      <th>c</th>\n",
       "      <td>8</td>\n",
       "      <td>9</td>\n",
       "    </tr>\n",
       "  </tbody>\n",
       "</table>\n",
       "</div>\n",
       "      <button class=\"colab-df-convert\" onclick=\"convertToInteractive('df-2306a9ed-4485-443f-afad-b7c1dc692046')\"\n",
       "              title=\"Convert this dataframe to an interactive table.\"\n",
       "              style=\"display:none;\">\n",
       "        \n",
       "  <svg xmlns=\"http://www.w3.org/2000/svg\" height=\"24px\"viewBox=\"0 0 24 24\"\n",
       "       width=\"24px\">\n",
       "    <path d=\"M0 0h24v24H0V0z\" fill=\"none\"/>\n",
       "    <path d=\"M18.56 5.44l.94 2.06.94-2.06 2.06-.94-2.06-.94-.94-2.06-.94 2.06-2.06.94zm-11 1L8.5 8.5l.94-2.06 2.06-.94-2.06-.94L8.5 2.5l-.94 2.06-2.06.94zm10 10l.94 2.06.94-2.06 2.06-.94-2.06-.94-.94-2.06-.94 2.06-2.06.94z\"/><path d=\"M17.41 7.96l-1.37-1.37c-.4-.4-.92-.59-1.43-.59-.52 0-1.04.2-1.43.59L10.3 9.45l-7.72 7.72c-.78.78-.78 2.05 0 2.83L4 21.41c.39.39.9.59 1.41.59.51 0 1.02-.2 1.41-.59l7.78-7.78 2.81-2.81c.8-.78.8-2.07 0-2.86zM5.41 20L4 18.59l7.72-7.72 1.47 1.35L5.41 20z\"/>\n",
       "  </svg>\n",
       "      </button>\n",
       "      \n",
       "  <style>\n",
       "    .colab-df-container {\n",
       "      display:flex;\n",
       "      flex-wrap:wrap;\n",
       "      gap: 12px;\n",
       "    }\n",
       "\n",
       "    .colab-df-convert {\n",
       "      background-color: #E8F0FE;\n",
       "      border: none;\n",
       "      border-radius: 50%;\n",
       "      cursor: pointer;\n",
       "      display: none;\n",
       "      fill: #1967D2;\n",
       "      height: 32px;\n",
       "      padding: 0 0 0 0;\n",
       "      width: 32px;\n",
       "    }\n",
       "\n",
       "    .colab-df-convert:hover {\n",
       "      background-color: #E2EBFA;\n",
       "      box-shadow: 0px 1px 2px rgba(60, 64, 67, 0.3), 0px 1px 3px 1px rgba(60, 64, 67, 0.15);\n",
       "      fill: #174EA6;\n",
       "    }\n",
       "\n",
       "    [theme=dark] .colab-df-convert {\n",
       "      background-color: #3B4455;\n",
       "      fill: #D2E3FC;\n",
       "    }\n",
       "\n",
       "    [theme=dark] .colab-df-convert:hover {\n",
       "      background-color: #434B5C;\n",
       "      box-shadow: 0px 1px 3px 1px rgba(0, 0, 0, 0.15);\n",
       "      filter: drop-shadow(0px 1px 2px rgba(0, 0, 0, 0.3));\n",
       "      fill: #FFFFFF;\n",
       "    }\n",
       "  </style>\n",
       "\n",
       "      <script>\n",
       "        const buttonEl =\n",
       "          document.querySelector('#df-2306a9ed-4485-443f-afad-b7c1dc692046 button.colab-df-convert');\n",
       "        buttonEl.style.display =\n",
       "          google.colab.kernel.accessAllowed ? 'block' : 'none';\n",
       "\n",
       "        async function convertToInteractive(key) {\n",
       "          const element = document.querySelector('#df-2306a9ed-4485-443f-afad-b7c1dc692046');\n",
       "          const dataTable =\n",
       "            await google.colab.kernel.invokeFunction('convertToInteractive',\n",
       "                                                     [key], {});\n",
       "          if (!dataTable) return;\n",
       "\n",
       "          const docLinkHtml = 'Like what you see? Visit the ' +\n",
       "            '<a target=\"_blank\" href=https://colab.research.google.com/notebooks/data_table.ipynb>data table notebook</a>'\n",
       "            + ' to learn more about interactive tables.';\n",
       "          element.innerHTML = '';\n",
       "          dataTable['output_type'] = 'display_data';\n",
       "          await google.colab.output.renderOutput(dataTable, element);\n",
       "          const docLink = document.createElement('div');\n",
       "          docLink.innerHTML = docLinkHtml;\n",
       "          element.appendChild(docLink);\n",
       "        }\n",
       "      </script>\n",
       "    </div>\n",
       "  </div>\n",
       "  "
      ],
      "text/plain": [
       "   데이터3  데이터4\n",
       "a     6     7\n",
       "c     8     9"
      ]
     },
     "execution_count": 20,
     "metadata": {},
     "output_type": "execute_result"
    }
   ],
   "source": [
    "df2 = pd.DataFrame(\n",
    "    6 + np.arange(4).reshape(2, 2),\n",
    "    index=['a', 'c'],\n",
    "    columns=['데이터3', '데이터4'])\n",
    "df2"
   ]
  },
  {
   "cell_type": "code",
   "execution_count": null,
   "id": "CSyLwUy8B0r6",
   "metadata": {
    "colab": {
     "base_uri": "https://localhost:8080/",
     "height": 143
    },
    "executionInfo": {
     "elapsed": 410,
     "status": "ok",
     "timestamp": 1650526436982,
     "user": {
      "displayName": "Mark K",
      "userId": "03340535256939132196"
     },
     "user_tz": -540
    },
    "id": "CSyLwUy8B0r6",
    "outputId": "62f393ee-4b92-4286-a487-1672e7680c66"
   },
   "outputs": [
    {
     "data": {
      "text/html": [
       "\n",
       "  <div id=\"df-59f6ca8f-9ecf-4fb6-9e86-bb05ccaf4904\">\n",
       "    <div class=\"colab-df-container\">\n",
       "      <div>\n",
       "<style scoped>\n",
       "    .dataframe tbody tr th:only-of-type {\n",
       "        vertical-align: middle;\n",
       "    }\n",
       "\n",
       "    .dataframe tbody tr th {\n",
       "        vertical-align: top;\n",
       "    }\n",
       "\n",
       "    .dataframe thead th {\n",
       "        text-align: right;\n",
       "    }\n",
       "</style>\n",
       "<table border=\"1\" class=\"dataframe\">\n",
       "  <thead>\n",
       "    <tr style=\"text-align: right;\">\n",
       "      <th></th>\n",
       "      <th>데이터1</th>\n",
       "      <th>데이터2</th>\n",
       "      <th>데이터3</th>\n",
       "      <th>데이터4</th>\n",
       "    </tr>\n",
       "  </thead>\n",
       "  <tbody>\n",
       "    <tr>\n",
       "      <th>a</th>\n",
       "      <td>0</td>\n",
       "      <td>1</td>\n",
       "      <td>6.0</td>\n",
       "      <td>7.0</td>\n",
       "    </tr>\n",
       "    <tr>\n",
       "      <th>b</th>\n",
       "      <td>2</td>\n",
       "      <td>3</td>\n",
       "      <td>NaN</td>\n",
       "      <td>NaN</td>\n",
       "    </tr>\n",
       "    <tr>\n",
       "      <th>c</th>\n",
       "      <td>4</td>\n",
       "      <td>5</td>\n",
       "      <td>8.0</td>\n",
       "      <td>9.0</td>\n",
       "    </tr>\n",
       "  </tbody>\n",
       "</table>\n",
       "</div>\n",
       "      <button class=\"colab-df-convert\" onclick=\"convertToInteractive('df-59f6ca8f-9ecf-4fb6-9e86-bb05ccaf4904')\"\n",
       "              title=\"Convert this dataframe to an interactive table.\"\n",
       "              style=\"display:none;\">\n",
       "        \n",
       "  <svg xmlns=\"http://www.w3.org/2000/svg\" height=\"24px\"viewBox=\"0 0 24 24\"\n",
       "       width=\"24px\">\n",
       "    <path d=\"M0 0h24v24H0V0z\" fill=\"none\"/>\n",
       "    <path d=\"M18.56 5.44l.94 2.06.94-2.06 2.06-.94-2.06-.94-.94-2.06-.94 2.06-2.06.94zm-11 1L8.5 8.5l.94-2.06 2.06-.94-2.06-.94L8.5 2.5l-.94 2.06-2.06.94zm10 10l.94 2.06.94-2.06 2.06-.94-2.06-.94-.94-2.06-.94 2.06-2.06.94z\"/><path d=\"M17.41 7.96l-1.37-1.37c-.4-.4-.92-.59-1.43-.59-.52 0-1.04.2-1.43.59L10.3 9.45l-7.72 7.72c-.78.78-.78 2.05 0 2.83L4 21.41c.39.39.9.59 1.41.59.51 0 1.02-.2 1.41-.59l7.78-7.78 2.81-2.81c.8-.78.8-2.07 0-2.86zM5.41 20L4 18.59l7.72-7.72 1.47 1.35L5.41 20z\"/>\n",
       "  </svg>\n",
       "      </button>\n",
       "      \n",
       "  <style>\n",
       "    .colab-df-container {\n",
       "      display:flex;\n",
       "      flex-wrap:wrap;\n",
       "      gap: 12px;\n",
       "    }\n",
       "\n",
       "    .colab-df-convert {\n",
       "      background-color: #E8F0FE;\n",
       "      border: none;\n",
       "      border-radius: 50%;\n",
       "      cursor: pointer;\n",
       "      display: none;\n",
       "      fill: #1967D2;\n",
       "      height: 32px;\n",
       "      padding: 0 0 0 0;\n",
       "      width: 32px;\n",
       "    }\n",
       "\n",
       "    .colab-df-convert:hover {\n",
       "      background-color: #E2EBFA;\n",
       "      box-shadow: 0px 1px 2px rgba(60, 64, 67, 0.3), 0px 1px 3px 1px rgba(60, 64, 67, 0.15);\n",
       "      fill: #174EA6;\n",
       "    }\n",
       "\n",
       "    [theme=dark] .colab-df-convert {\n",
       "      background-color: #3B4455;\n",
       "      fill: #D2E3FC;\n",
       "    }\n",
       "\n",
       "    [theme=dark] .colab-df-convert:hover {\n",
       "      background-color: #434B5C;\n",
       "      box-shadow: 0px 1px 3px 1px rgba(0, 0, 0, 0.15);\n",
       "      filter: drop-shadow(0px 1px 2px rgba(0, 0, 0, 0.3));\n",
       "      fill: #FFFFFF;\n",
       "    }\n",
       "  </style>\n",
       "\n",
       "      <script>\n",
       "        const buttonEl =\n",
       "          document.querySelector('#df-59f6ca8f-9ecf-4fb6-9e86-bb05ccaf4904 button.colab-df-convert');\n",
       "        buttonEl.style.display =\n",
       "          google.colab.kernel.accessAllowed ? 'block' : 'none';\n",
       "\n",
       "        async function convertToInteractive(key) {\n",
       "          const element = document.querySelector('#df-59f6ca8f-9ecf-4fb6-9e86-bb05ccaf4904');\n",
       "          const dataTable =\n",
       "            await google.colab.kernel.invokeFunction('convertToInteractive',\n",
       "                                                     [key], {});\n",
       "          if (!dataTable) return;\n",
       "\n",
       "          const docLinkHtml = 'Like what you see? Visit the ' +\n",
       "            '<a target=\"_blank\" href=https://colab.research.google.com/notebooks/data_table.ipynb>data table notebook</a>'\n",
       "            + ' to learn more about interactive tables.';\n",
       "          element.innerHTML = '';\n",
       "          dataTable['output_type'] = 'display_data';\n",
       "          await google.colab.output.renderOutput(dataTable, element);\n",
       "          const docLink = document.createElement('div');\n",
       "          docLink.innerHTML = docLinkHtml;\n",
       "          element.appendChild(docLink);\n",
       "        }\n",
       "      </script>\n",
       "    </div>\n",
       "  </div>\n",
       "  "
      ],
      "text/plain": [
       "   데이터1  데이터2  데이터3  데이터4\n",
       "a     0     1   6.0   7.0\n",
       "b     2     3   NaN   NaN\n",
       "c     4     5   8.0   9.0"
      ]
     },
     "execution_count": 21,
     "metadata": {},
     "output_type": "execute_result"
    }
   ],
   "source": [
    "pd.concat([df1, df2], axis=1)"
   ]
  },
  {
   "cell_type": "markdown",
   "id": "abGjn3alg5-c",
   "metadata": {
    "id": "abGjn3alg5-c"
   },
   "source": [
    "### 실습 아래 두 데이터프레임을 concat을 활용해서 합쳐보고 merge를 concat처럼 사용해 보세요"
   ]
  },
  {
   "cell_type": "code",
   "execution_count": null,
   "id": "yuS23Bi7g6cJ",
   "metadata": {
    "colab": {
     "base_uri": "https://localhost:8080/"
    },
    "executionInfo": {
     "elapsed": 6,
     "status": "ok",
     "timestamp": 1650802845488,
     "user": {
      "displayName": "서명교",
      "userId": "11730583039526359700"
     },
     "user_tz": -540
    },
    "id": "yuS23Bi7g6cJ",
    "outputId": "53b41c74-0ec0-4266-f7be-28e5eeaa1e77"
   },
   "outputs": [
    {
     "name": "stdout",
     "output_type": "stream",
     "text": [
      "   고객번호   이름\n",
      "0  1001   둘리\n",
      "1  1002  도우너\n",
      "2  1003   또치\n",
      "3  1004   길동\n",
      "4  1005   희동\n",
      "5  1006  마이콜\n",
      "6  1007   영희\n",
      "   고객번호    이름\n",
      "0  1008   둘리1\n",
      "1  1009  도우너1\n",
      "2  1010   또치1\n",
      "3  1011   길동1\n",
      "4  1012   희동1\n",
      "5  1013  마이콜1\n",
      "6  1014   영희1\n"
     ]
    }
   ],
   "source": [
    "df1 = pd.DataFrame({\n",
    "    '고객번호': [1001, 1002, 1003, 1004, 1005, 1006, 1007],\n",
    "    '이름': ['둘리', '도우너', '또치', '길동', '희동', '마이콜', '영희']\n",
    "}, columns=['고객번호', '이름'])\n",
    "print(df1)\n",
    "\n",
    "df2 = pd.DataFrame({\n",
    "    '고객번호': [1008, 1009, 1010, 1011, 1012, 1013, 1014],\n",
    "    '이름': ['둘리1', '도우너1', '또치1', '길동1', '희동1', '마이콜1', '영희1']\n",
    "}, columns=['고객번호', '이름'])\n",
    "print(df2)"
   ]
  },
  {
   "cell_type": "code",
   "execution_count": null,
   "id": "2RJpKmj0g6yh",
   "metadata": {
    "colab": {
     "base_uri": "https://localhost:8080/"
    },
    "executionInfo": {
     "elapsed": 3,
     "status": "ok",
     "timestamp": 1650802846281,
     "user": {
      "displayName": "서명교",
      "userId": "11730583039526359700"
     },
     "user_tz": -540
    },
    "id": "2RJpKmj0g6yh",
    "outputId": "9aaae47b-517a-46cf-80df-1b26c1b7ec57"
   },
   "outputs": [
    {
     "name": "stdout",
     "output_type": "stream",
     "text": [
      "   고객번호_x 이름_x  고객번호_y  이름_y\n",
      "0    1001   둘리    1008   둘리1\n",
      "1    1002  도우너    1009  도우너1\n",
      "2    1003   또치    1010   또치1\n",
      "3    1004   길동    1011   길동1\n",
      "4    1005   희동    1012   희동1\n",
      "5    1006  마이콜    1013  마이콜1\n",
      "6    1007   영희    1014   영희1\n",
      "    고객번호    이름\n",
      "0   1001    둘리\n",
      "1   1002   도우너\n",
      "2   1003    또치\n",
      "3   1004    길동\n",
      "4   1005    희동\n",
      "5   1006   마이콜\n",
      "6   1007    영희\n",
      "7   1008   둘리1\n",
      "8   1009  도우너1\n",
      "9   1010   또치1\n",
      "10  1011   길동1\n",
      "11  1012   희동1\n",
      "12  1013  마이콜1\n",
      "13  1014   영희1\n"
     ]
    }
   ],
   "source": [
    "print(pd.merge(df1,df2, how = 'outer', left_index=True, right_index=True))\n",
    "print(pd.merge(df1,df2, how = 'outer', on = ['고객번호','이름']))"
   ]
  },
  {
   "cell_type": "markdown",
   "id": "K6bXVqYObEPj",
   "metadata": {
    "id": "K6bXVqYObEPj"
   },
   "source": [
    "### 정렬 (Sort)\n",
    "- sort_index 메서드\n",
    "- sort_values 메서드"
   ]
  },
  {
   "cell_type": "code",
   "execution_count": null,
   "id": "0fmToGnhgkjK",
   "metadata": {
    "id": "0fmToGnhgkjK"
   },
   "outputs": [],
   "source": [
    "df = df.drop"
   ]
  },
  {
   "cell_type": "code",
   "execution_count": null,
   "id": "OtMxuLL6bdz2",
   "metadata": {
    "colab": {
     "base_uri": "https://localhost:8080/"
    },
    "executionInfo": {
     "elapsed": 535,
     "status": "ok",
     "timestamp": 1650801838379,
     "user": {
      "displayName": "Mark K",
      "userId": "03340535256939132196"
     },
     "user_tz": -540
    },
    "id": "OtMxuLL6bdz2",
    "outputId": "9f3a76d3-de78-443e-a21a-508fe6a076a3"
   },
   "outputs": [
    {
     "data": {
      "text/plain": [
       "1    22\n",
       "0    18\n",
       "4    17\n",
       "5    16\n",
       "3    14\n",
       "2    13\n",
       "dtype: int64"
      ]
     },
     "execution_count": 13,
     "metadata": {},
     "output_type": "execute_result"
    }
   ],
   "source": [
    "np.random.seed(1)\n",
    "\n",
    "s = pd.Series(range(10))\n",
    "s[3] = np.nan\n",
    "\n",
    "s2 = pd.Series(np.random.randint(6, size=100))\n",
    "s2.value_counts()"
   ]
  },
  {
   "cell_type": "code",
   "execution_count": null,
   "id": "oFWQodVycnUw",
   "metadata": {
    "colab": {
     "base_uri": "https://localhost:8080/"
    },
    "executionInfo": {
     "elapsed": 6,
     "status": "ok",
     "timestamp": 1650801843633,
     "user": {
      "displayName": "Mark K",
      "userId": "03340535256939132196"
     },
     "user_tz": -540
    },
    "id": "oFWQodVycnUw",
    "outputId": "041635cc-5a75-4bf4-a07d-9bc93899c64a"
   },
   "outputs": [
    {
     "data": {
      "text/plain": [
       "0    18\n",
       "1    22\n",
       "2    13\n",
       "3    14\n",
       "4    17\n",
       "5    16\n",
       "dtype: int64"
      ]
     },
     "execution_count": 14,
     "metadata": {},
     "output_type": "execute_result"
    }
   ],
   "source": [
    "s2.value_counts().sort_index()"
   ]
  },
  {
   "cell_type": "code",
   "execution_count": null,
   "id": "QfMtJVowc1OQ",
   "metadata": {
    "colab": {
     "base_uri": "https://localhost:8080/"
    },
    "executionInfo": {
     "elapsed": 335,
     "status": "ok",
     "timestamp": 1650801998728,
     "user": {
      "displayName": "Mark K",
      "userId": "03340535256939132196"
     },
     "user_tz": -540
    },
    "id": "QfMtJVowc1OQ",
    "outputId": "7d275618-83c4-4a2c-b82d-9837ab0d3f2f"
   },
   "outputs": [
    {
     "data": {
      "text/plain": [
       "0    0.0\n",
       "1    1.0\n",
       "2    2.0\n",
       "4    4.0\n",
       "5    5.0\n",
       "6    6.0\n",
       "7    7.0\n",
       "8    8.0\n",
       "9    9.0\n",
       "3    NaN\n",
       "dtype: float64"
      ]
     },
     "execution_count": 17,
     "metadata": {},
     "output_type": "execute_result"
    }
   ],
   "source": [
    "# sort_values() : default값이 오름차순정렬\n",
    "# 결측치가 있는경우 가장 나중으로 배치 됨\n",
    "s.sort_values()"
   ]
  },
  {
   "cell_type": "code",
   "execution_count": null,
   "id": "Aw2PCo81d3cW",
   "metadata": {
    "colab": {
     "base_uri": "https://localhost:8080/"
    },
    "executionInfo": {
     "elapsed": 368,
     "status": "ok",
     "timestamp": 1650802089296,
     "user": {
      "displayName": "Mark K",
      "userId": "03340535256939132196"
     },
     "user_tz": -540
    },
    "id": "Aw2PCo81d3cW",
    "outputId": "6ee5e778-fdd8-4125-f4f5-ce022eb471de"
   },
   "outputs": [
    {
     "data": {
      "text/plain": [
       "9    9.0\n",
       "8    8.0\n",
       "7    7.0\n",
       "6    6.0\n",
       "5    5.0\n",
       "4    4.0\n",
       "2    2.0\n",
       "1    1.0\n",
       "0    0.0\n",
       "3    NaN\n",
       "dtype: float64"
      ]
     },
     "execution_count": 19,
     "metadata": {},
     "output_type": "execute_result"
    }
   ],
   "source": [
    "s.sort_values(ascending=False) # 내림차순 정렬"
   ]
  },
  {
   "cell_type": "code",
   "execution_count": null,
   "id": "Q_hsglTUd3es",
   "metadata": {
    "colab": {
     "base_uri": "https://localhost:8080/",
     "height": 174
    },
    "executionInfo": {
     "elapsed": 377,
     "status": "ok",
     "timestamp": 1650802954875,
     "user": {
      "displayName": "Mark K",
      "userId": "03340535256939132196"
     },
     "user_tz": -540
    },
    "id": "Q_hsglTUd3es",
    "outputId": "552ffcff-5196-46e8-dd31-ddf22db711e5"
   },
   "outputs": [
    {
     "data": {
      "text/html": [
       "\n",
       "  <div id=\"df-b99bba12-ddf7-4a7a-8d0f-5bb5ef899907\">\n",
       "    <div class=\"colab-df-container\">\n",
       "      <div>\n",
       "<style scoped>\n",
       "    .dataframe tbody tr th:only-of-type {\n",
       "        vertical-align: middle;\n",
       "    }\n",
       "\n",
       "    .dataframe tbody tr th {\n",
       "        vertical-align: top;\n",
       "    }\n",
       "\n",
       "    .dataframe thead th {\n",
       "        text-align: right;\n",
       "    }\n",
       "</style>\n",
       "<table border=\"1\" class=\"dataframe\">\n",
       "  <thead>\n",
       "    <tr style=\"text-align: right;\">\n",
       "      <th></th>\n",
       "      <th>종목코드</th>\n",
       "      <th>종목명</th>\n",
       "      <th>현재가</th>\n",
       "    </tr>\n",
       "  </thead>\n",
       "  <tbody>\n",
       "    <tr>\n",
       "      <th>0</th>\n",
       "      <td>037730</td>\n",
       "      <td>3R</td>\n",
       "      <td>1510</td>\n",
       "    </tr>\n",
       "    <tr>\n",
       "      <th>1</th>\n",
       "      <td>036360</td>\n",
       "      <td>3SOFT</td>\n",
       "      <td>1790</td>\n",
       "    </tr>\n",
       "    <tr>\n",
       "      <th>2</th>\n",
       "      <td>005670</td>\n",
       "      <td>ACTS</td>\n",
       "      <td>1185</td>\n",
       "    </tr>\n",
       "    <tr>\n",
       "      <th>3</th>\n",
       "      <td>999999</td>\n",
       "      <td>BLABLA</td>\n",
       "      <td>9999</td>\n",
       "    </tr>\n",
       "  </tbody>\n",
       "</table>\n",
       "</div>\n",
       "      <button class=\"colab-df-convert\" onclick=\"convertToInteractive('df-b99bba12-ddf7-4a7a-8d0f-5bb5ef899907')\"\n",
       "              title=\"Convert this dataframe to an interactive table.\"\n",
       "              style=\"display:none;\">\n",
       "        \n",
       "  <svg xmlns=\"http://www.w3.org/2000/svg\" height=\"24px\"viewBox=\"0 0 24 24\"\n",
       "       width=\"24px\">\n",
       "    <path d=\"M0 0h24v24H0V0z\" fill=\"none\"/>\n",
       "    <path d=\"M18.56 5.44l.94 2.06.94-2.06 2.06-.94-2.06-.94-.94-2.06-.94 2.06-2.06.94zm-11 1L8.5 8.5l.94-2.06 2.06-.94-2.06-.94L8.5 2.5l-.94 2.06-2.06.94zm10 10l.94 2.06.94-2.06 2.06-.94-2.06-.94-.94-2.06-.94 2.06-2.06.94z\"/><path d=\"M17.41 7.96l-1.37-1.37c-.4-.4-.92-.59-1.43-.59-.52 0-1.04.2-1.43.59L10.3 9.45l-7.72 7.72c-.78.78-.78 2.05 0 2.83L4 21.41c.39.39.9.59 1.41.59.51 0 1.02-.2 1.41-.59l7.78-7.78 2.81-2.81c.8-.78.8-2.07 0-2.86zM5.41 20L4 18.59l7.72-7.72 1.47 1.35L5.41 20z\"/>\n",
       "  </svg>\n",
       "      </button>\n",
       "      \n",
       "  <style>\n",
       "    .colab-df-container {\n",
       "      display:flex;\n",
       "      flex-wrap:wrap;\n",
       "      gap: 12px;\n",
       "    }\n",
       "\n",
       "    .colab-df-convert {\n",
       "      background-color: #E8F0FE;\n",
       "      border: none;\n",
       "      border-radius: 50%;\n",
       "      cursor: pointer;\n",
       "      display: none;\n",
       "      fill: #1967D2;\n",
       "      height: 32px;\n",
       "      padding: 0 0 0 0;\n",
       "      width: 32px;\n",
       "    }\n",
       "\n",
       "    .colab-df-convert:hover {\n",
       "      background-color: #E2EBFA;\n",
       "      box-shadow: 0px 1px 2px rgba(60, 64, 67, 0.3), 0px 1px 3px 1px rgba(60, 64, 67, 0.15);\n",
       "      fill: #174EA6;\n",
       "    }\n",
       "\n",
       "    [theme=dark] .colab-df-convert {\n",
       "      background-color: #3B4455;\n",
       "      fill: #D2E3FC;\n",
       "    }\n",
       "\n",
       "    [theme=dark] .colab-df-convert:hover {\n",
       "      background-color: #434B5C;\n",
       "      box-shadow: 0px 1px 3px 1px rgba(0, 0, 0, 0.15);\n",
       "      filter: drop-shadow(0px 1px 2px rgba(0, 0, 0, 0.3));\n",
       "      fill: #FFFFFF;\n",
       "    }\n",
       "  </style>\n",
       "\n",
       "      <script>\n",
       "        const buttonEl =\n",
       "          document.querySelector('#df-b99bba12-ddf7-4a7a-8d0f-5bb5ef899907 button.colab-df-convert');\n",
       "        buttonEl.style.display =\n",
       "          google.colab.kernel.accessAllowed ? 'block' : 'none';\n",
       "\n",
       "        async function convertToInteractive(key) {\n",
       "          const element = document.querySelector('#df-b99bba12-ddf7-4a7a-8d0f-5bb5ef899907');\n",
       "          const dataTable =\n",
       "            await google.colab.kernel.invokeFunction('convertToInteractive',\n",
       "                                                     [key], {});\n",
       "          if (!dataTable) return;\n",
       "\n",
       "          const docLinkHtml = 'Like what you see? Visit the ' +\n",
       "            '<a target=\"_blank\" href=https://colab.research.google.com/notebooks/data_table.ipynb>data table notebook</a>'\n",
       "            + ' to learn more about interactive tables.';\n",
       "          element.innerHTML = '';\n",
       "          dataTable['output_type'] = 'display_data';\n",
       "          await google.colab.output.renderOutput(dataTable, element);\n",
       "          const docLink = document.createElement('div');\n",
       "          docLink.innerHTML = docLinkHtml;\n",
       "          element.appendChild(docLink);\n",
       "        }\n",
       "      </script>\n",
       "    </div>\n",
       "  </div>\n",
       "  "
      ],
      "text/plain": [
       "     종목코드     종목명   현재가\n",
       "0  037730      3R  1510\n",
       "1  036360   3SOFT  1790\n",
       "2  005670    ACTS  1185\n",
       "3  999999  BLABLA  9999"
      ]
     },
     "execution_count": 41,
     "metadata": {},
     "output_type": "execute_result"
    }
   ],
   "source": [
    "data = [\n",
    "    [\"037730\", \"3R\", 1510],\n",
    "    [\"036360\", \"3SOFT\", 1790],\n",
    "    [\"005670\", \"ACTS\", 1185],\n",
    "    [\"999999\", \"BLABLA\", 9999]\n",
    "]\n",
    "\n",
    "columns = [\"종목코드\", \"종목명\", \"현재가\"]\n",
    "df = pd.DataFrame(data=data, columns=columns)\n",
    "# df.set_index(\"종목코드\", inplace=True)\n",
    "\n",
    "df"
   ]
  },
  {
   "cell_type": "code",
   "execution_count": null,
   "id": "UI-ayGHZd3hY",
   "metadata": {
    "colab": {
     "base_uri": "https://localhost:8080/",
     "height": 174
    },
    "executionInfo": {
     "elapsed": 366,
     "status": "ok",
     "timestamp": 1650802981382,
     "user": {
      "displayName": "Mark K",
      "userId": "03340535256939132196"
     },
     "user_tz": -540
    },
    "id": "UI-ayGHZd3hY",
    "outputId": "d8dc7cc9-a407-454d-d79c-9e4f487b7873"
   },
   "outputs": [
    {
     "data": {
      "text/html": [
       "\n",
       "  <div id=\"df-aa497692-008f-4b41-b580-e82f5480b050\">\n",
       "    <div class=\"colab-df-container\">\n",
       "      <div>\n",
       "<style scoped>\n",
       "    .dataframe tbody tr th:only-of-type {\n",
       "        vertical-align: middle;\n",
       "    }\n",
       "\n",
       "    .dataframe tbody tr th {\n",
       "        vertical-align: top;\n",
       "    }\n",
       "\n",
       "    .dataframe thead th {\n",
       "        text-align: right;\n",
       "    }\n",
       "</style>\n",
       "<table border=\"1\" class=\"dataframe\">\n",
       "  <thead>\n",
       "    <tr style=\"text-align: right;\">\n",
       "      <th></th>\n",
       "      <th>종목코드</th>\n",
       "      <th>종목명</th>\n",
       "      <th>현재가</th>\n",
       "    </tr>\n",
       "  </thead>\n",
       "  <tbody>\n",
       "    <tr>\n",
       "      <th>2</th>\n",
       "      <td>005670</td>\n",
       "      <td>ACTS</td>\n",
       "      <td>1185</td>\n",
       "    </tr>\n",
       "    <tr>\n",
       "      <th>1</th>\n",
       "      <td>036360</td>\n",
       "      <td>3SOFT</td>\n",
       "      <td>1790</td>\n",
       "    </tr>\n",
       "    <tr>\n",
       "      <th>0</th>\n",
       "      <td>037730</td>\n",
       "      <td>3R</td>\n",
       "      <td>1510</td>\n",
       "    </tr>\n",
       "    <tr>\n",
       "      <th>3</th>\n",
       "      <td>999999</td>\n",
       "      <td>BLABLA</td>\n",
       "      <td>9999</td>\n",
       "    </tr>\n",
       "  </tbody>\n",
       "</table>\n",
       "</div>\n",
       "      <button class=\"colab-df-convert\" onclick=\"convertToInteractive('df-aa497692-008f-4b41-b580-e82f5480b050')\"\n",
       "              title=\"Convert this dataframe to an interactive table.\"\n",
       "              style=\"display:none;\">\n",
       "        \n",
       "  <svg xmlns=\"http://www.w3.org/2000/svg\" height=\"24px\"viewBox=\"0 0 24 24\"\n",
       "       width=\"24px\">\n",
       "    <path d=\"M0 0h24v24H0V0z\" fill=\"none\"/>\n",
       "    <path d=\"M18.56 5.44l.94 2.06.94-2.06 2.06-.94-2.06-.94-.94-2.06-.94 2.06-2.06.94zm-11 1L8.5 8.5l.94-2.06 2.06-.94-2.06-.94L8.5 2.5l-.94 2.06-2.06.94zm10 10l.94 2.06.94-2.06 2.06-.94-2.06-.94-.94-2.06-.94 2.06-2.06.94z\"/><path d=\"M17.41 7.96l-1.37-1.37c-.4-.4-.92-.59-1.43-.59-.52 0-1.04.2-1.43.59L10.3 9.45l-7.72 7.72c-.78.78-.78 2.05 0 2.83L4 21.41c.39.39.9.59 1.41.59.51 0 1.02-.2 1.41-.59l7.78-7.78 2.81-2.81c.8-.78.8-2.07 0-2.86zM5.41 20L4 18.59l7.72-7.72 1.47 1.35L5.41 20z\"/>\n",
       "  </svg>\n",
       "      </button>\n",
       "      \n",
       "  <style>\n",
       "    .colab-df-container {\n",
       "      display:flex;\n",
       "      flex-wrap:wrap;\n",
       "      gap: 12px;\n",
       "    }\n",
       "\n",
       "    .colab-df-convert {\n",
       "      background-color: #E8F0FE;\n",
       "      border: none;\n",
       "      border-radius: 50%;\n",
       "      cursor: pointer;\n",
       "      display: none;\n",
       "      fill: #1967D2;\n",
       "      height: 32px;\n",
       "      padding: 0 0 0 0;\n",
       "      width: 32px;\n",
       "    }\n",
       "\n",
       "    .colab-df-convert:hover {\n",
       "      background-color: #E2EBFA;\n",
       "      box-shadow: 0px 1px 2px rgba(60, 64, 67, 0.3), 0px 1px 3px 1px rgba(60, 64, 67, 0.15);\n",
       "      fill: #174EA6;\n",
       "    }\n",
       "\n",
       "    [theme=dark] .colab-df-convert {\n",
       "      background-color: #3B4455;\n",
       "      fill: #D2E3FC;\n",
       "    }\n",
       "\n",
       "    [theme=dark] .colab-df-convert:hover {\n",
       "      background-color: #434B5C;\n",
       "      box-shadow: 0px 1px 3px 1px rgba(0, 0, 0, 0.15);\n",
       "      filter: drop-shadow(0px 1px 2px rgba(0, 0, 0, 0.3));\n",
       "      fill: #FFFFFF;\n",
       "    }\n",
       "  </style>\n",
       "\n",
       "      <script>\n",
       "        const buttonEl =\n",
       "          document.querySelector('#df-aa497692-008f-4b41-b580-e82f5480b050 button.colab-df-convert');\n",
       "        buttonEl.style.display =\n",
       "          google.colab.kernel.accessAllowed ? 'block' : 'none';\n",
       "\n",
       "        async function convertToInteractive(key) {\n",
       "          const element = document.querySelector('#df-aa497692-008f-4b41-b580-e82f5480b050');\n",
       "          const dataTable =\n",
       "            await google.colab.kernel.invokeFunction('convertToInteractive',\n",
       "                                                     [key], {});\n",
       "          if (!dataTable) return;\n",
       "\n",
       "          const docLinkHtml = 'Like what you see? Visit the ' +\n",
       "            '<a target=\"_blank\" href=https://colab.research.google.com/notebooks/data_table.ipynb>data table notebook</a>'\n",
       "            + ' to learn more about interactive tables.';\n",
       "          element.innerHTML = '';\n",
       "          dataTable['output_type'] = 'display_data';\n",
       "          await google.colab.output.renderOutput(dataTable, element);\n",
       "          const docLink = document.createElement('div');\n",
       "          docLink.innerHTML = docLinkHtml;\n",
       "          element.appendChild(docLink);\n",
       "        }\n",
       "      </script>\n",
       "    </div>\n",
       "  </div>\n",
       "  "
      ],
      "text/plain": [
       "     종목코드     종목명   현재가\n",
       "2  005670    ACTS  1185\n",
       "1  036360   3SOFT  1790\n",
       "0  037730      3R  1510\n",
       "3  999999  BLABLA  9999"
      ]
     },
     "execution_count": 42,
     "metadata": {},
     "output_type": "execute_result"
    }
   ],
   "source": [
    "df.sort_values(by=['종목코드', '현재가'])"
   ]
  },
  {
   "cell_type": "code",
   "execution_count": null,
   "id": "eVhWr25Yh1v4",
   "metadata": {
    "colab": {
     "base_uri": "https://localhost:8080/",
     "height": 206
    },
    "executionInfo": {
     "elapsed": 280,
     "status": "ok",
     "timestamp": 1650803411821,
     "user": {
      "displayName": "서명교",
      "userId": "11730583039526359700"
     },
     "user_tz": -540
    },
    "id": "eVhWr25Yh1v4",
    "outputId": "11f6a7cd-5fdf-4820-ec43-030dc0be64ca"
   },
   "outputs": [
    {
     "data": {
      "text/html": [
       "\n",
       "  <div id=\"df-2f0cca95-623b-4dfc-b1a3-d13b9f43db43\">\n",
       "    <div class=\"colab-df-container\">\n",
       "      <div>\n",
       "<style scoped>\n",
       "    .dataframe tbody tr th:only-of-type {\n",
       "        vertical-align: middle;\n",
       "    }\n",
       "\n",
       "    .dataframe tbody tr th {\n",
       "        vertical-align: top;\n",
       "    }\n",
       "\n",
       "    .dataframe thead th {\n",
       "        text-align: right;\n",
       "    }\n",
       "</style>\n",
       "<table border=\"1\" class=\"dataframe\">\n",
       "  <thead>\n",
       "    <tr style=\"text-align: right;\">\n",
       "      <th></th>\n",
       "      <th>a</th>\n",
       "      <th>b</th>\n",
       "      <th>c</th>\n",
       "    </tr>\n",
       "  </thead>\n",
       "  <tbody>\n",
       "    <tr>\n",
       "      <th>1</th>\n",
       "      <td>14</td>\n",
       "      <td>7</td>\n",
       "      <td>12</td>\n",
       "    </tr>\n",
       "    <tr>\n",
       "      <th>2</th>\n",
       "      <td>16</td>\n",
       "      <td>8</td>\n",
       "      <td>11</td>\n",
       "    </tr>\n",
       "    <tr>\n",
       "      <th>3</th>\n",
       "      <td>12</td>\n",
       "      <td>8</td>\n",
       "      <td>19</td>\n",
       "    </tr>\n",
       "    <tr>\n",
       "      <th>4</th>\n",
       "      <td>13</td>\n",
       "      <td>8</td>\n",
       "      <td>13</td>\n",
       "    </tr>\n",
       "    <tr>\n",
       "      <th>5</th>\n",
       "      <td>15</td>\n",
       "      <td>9</td>\n",
       "      <td>10</td>\n",
       "    </tr>\n",
       "  </tbody>\n",
       "</table>\n",
       "</div>\n",
       "      <button class=\"colab-df-convert\" onclick=\"convertToInteractive('df-2f0cca95-623b-4dfc-b1a3-d13b9f43db43')\"\n",
       "              title=\"Convert this dataframe to an interactive table.\"\n",
       "              style=\"display:none;\">\n",
       "        \n",
       "  <svg xmlns=\"http://www.w3.org/2000/svg\" height=\"24px\"viewBox=\"0 0 24 24\"\n",
       "       width=\"24px\">\n",
       "    <path d=\"M0 0h24v24H0V0z\" fill=\"none\"/>\n",
       "    <path d=\"M18.56 5.44l.94 2.06.94-2.06 2.06-.94-2.06-.94-.94-2.06-.94 2.06-2.06.94zm-11 1L8.5 8.5l.94-2.06 2.06-.94-2.06-.94L8.5 2.5l-.94 2.06-2.06.94zm10 10l.94 2.06.94-2.06 2.06-.94-2.06-.94-.94-2.06-.94 2.06-2.06.94z\"/><path d=\"M17.41 7.96l-1.37-1.37c-.4-.4-.92-.59-1.43-.59-.52 0-1.04.2-1.43.59L10.3 9.45l-7.72 7.72c-.78.78-.78 2.05 0 2.83L4 21.41c.39.39.9.59 1.41.59.51 0 1.02-.2 1.41-.59l7.78-7.78 2.81-2.81c.8-.78.8-2.07 0-2.86zM5.41 20L4 18.59l7.72-7.72 1.47 1.35L5.41 20z\"/>\n",
       "  </svg>\n",
       "      </button>\n",
       "      \n",
       "  <style>\n",
       "    .colab-df-container {\n",
       "      display:flex;\n",
       "      flex-wrap:wrap;\n",
       "      gap: 12px;\n",
       "    }\n",
       "\n",
       "    .colab-df-convert {\n",
       "      background-color: #E8F0FE;\n",
       "      border: none;\n",
       "      border-radius: 50%;\n",
       "      cursor: pointer;\n",
       "      display: none;\n",
       "      fill: #1967D2;\n",
       "      height: 32px;\n",
       "      padding: 0 0 0 0;\n",
       "      width: 32px;\n",
       "    }\n",
       "\n",
       "    .colab-df-convert:hover {\n",
       "      background-color: #E2EBFA;\n",
       "      box-shadow: 0px 1px 2px rgba(60, 64, 67, 0.3), 0px 1px 3px 1px rgba(60, 64, 67, 0.15);\n",
       "      fill: #174EA6;\n",
       "    }\n",
       "\n",
       "    [theme=dark] .colab-df-convert {\n",
       "      background-color: #3B4455;\n",
       "      fill: #D2E3FC;\n",
       "    }\n",
       "\n",
       "    [theme=dark] .colab-df-convert:hover {\n",
       "      background-color: #434B5C;\n",
       "      box-shadow: 0px 1px 3px 1px rgba(0, 0, 0, 0.15);\n",
       "      filter: drop-shadow(0px 1px 2px rgba(0, 0, 0, 0.3));\n",
       "      fill: #FFFFFF;\n",
       "    }\n",
       "  </style>\n",
       "\n",
       "      <script>\n",
       "        const buttonEl =\n",
       "          document.querySelector('#df-2f0cca95-623b-4dfc-b1a3-d13b9f43db43 button.colab-df-convert');\n",
       "        buttonEl.style.display =\n",
       "          google.colab.kernel.accessAllowed ? 'block' : 'none';\n",
       "\n",
       "        async function convertToInteractive(key) {\n",
       "          const element = document.querySelector('#df-2f0cca95-623b-4dfc-b1a3-d13b9f43db43');\n",
       "          const dataTable =\n",
       "            await google.colab.kernel.invokeFunction('convertToInteractive',\n",
       "                                                     [key], {});\n",
       "          if (!dataTable) return;\n",
       "\n",
       "          const docLinkHtml = 'Like what you see? Visit the ' +\n",
       "            '<a target=\"_blank\" href=https://colab.research.google.com/notebooks/data_table.ipynb>data table notebook</a>'\n",
       "            + ' to learn more about interactive tables.';\n",
       "          element.innerHTML = '';\n",
       "          dataTable['output_type'] = 'display_data';\n",
       "          await google.colab.output.renderOutput(dataTable, element);\n",
       "          const docLink = document.createElement('div');\n",
       "          docLink.innerHTML = docLinkHtml;\n",
       "          element.appendChild(docLink);\n",
       "        }\n",
       "      </script>\n",
       "    </div>\n",
       "  </div>\n",
       "  "
      ],
      "text/plain": [
       "    a  b   c\n",
       "1  14  7  12\n",
       "2  16  8  11\n",
       "3  12  8  19\n",
       "4  13  8  13\n",
       "5  15  9  10"
      ]
     },
     "execution_count": 82,
     "metadata": {},
     "output_type": "execute_result"
    }
   ],
   "source": [
    "df = pd.DataFrame([\n",
    "    [14, 7, 12],\n",
    "    [16, 8, 11],\n",
    "    [12, 8, 19],\n",
    "    [13, 8, 13],\n",
    "    [15, 9, 10]],\n",
    "    columns = ['a', 'b', 'c'],\n",
    "    index = [1, 2, 3, 4, 5]\n",
    ")\n",
    "df"
   ]
  },
  {
   "cell_type": "code",
   "execution_count": null,
   "id": "40vtgLWth6A3",
   "metadata": {
    "colab": {
     "base_uri": "https://localhost:8080/",
     "height": 206
    },
    "executionInfo": {
     "elapsed": 295,
     "status": "ok",
     "timestamp": 1650803413971,
     "user": {
      "displayName": "서명교",
      "userId": "11730583039526359700"
     },
     "user_tz": -540
    },
    "id": "40vtgLWth6A3",
    "outputId": "9e89ecba-cba4-4435-8fc4-6460d9ce3be8"
   },
   "outputs": [
    {
     "data": {
      "text/html": [
       "\n",
       "  <div id=\"df-f892e1a4-3d5b-45e3-b99c-9843cfb3df1d\">\n",
       "    <div class=\"colab-df-container\">\n",
       "      <div>\n",
       "<style scoped>\n",
       "    .dataframe tbody tr th:only-of-type {\n",
       "        vertical-align: middle;\n",
       "    }\n",
       "\n",
       "    .dataframe tbody tr th {\n",
       "        vertical-align: top;\n",
       "    }\n",
       "\n",
       "    .dataframe thead th {\n",
       "        text-align: right;\n",
       "    }\n",
       "</style>\n",
       "<table border=\"1\" class=\"dataframe\">\n",
       "  <thead>\n",
       "    <tr style=\"text-align: right;\">\n",
       "      <th></th>\n",
       "      <th>a</th>\n",
       "      <th>b</th>\n",
       "      <th>c</th>\n",
       "    </tr>\n",
       "  </thead>\n",
       "  <tbody>\n",
       "    <tr>\n",
       "      <th>5</th>\n",
       "      <td>15</td>\n",
       "      <td>9</td>\n",
       "      <td>10</td>\n",
       "    </tr>\n",
       "    <tr>\n",
       "      <th>3</th>\n",
       "      <td>12</td>\n",
       "      <td>8</td>\n",
       "      <td>19</td>\n",
       "    </tr>\n",
       "    <tr>\n",
       "      <th>4</th>\n",
       "      <td>13</td>\n",
       "      <td>8</td>\n",
       "      <td>13</td>\n",
       "    </tr>\n",
       "    <tr>\n",
       "      <th>2</th>\n",
       "      <td>16</td>\n",
       "      <td>8</td>\n",
       "      <td>11</td>\n",
       "    </tr>\n",
       "    <tr>\n",
       "      <th>1</th>\n",
       "      <td>14</td>\n",
       "      <td>7</td>\n",
       "      <td>12</td>\n",
       "    </tr>\n",
       "  </tbody>\n",
       "</table>\n",
       "</div>\n",
       "      <button class=\"colab-df-convert\" onclick=\"convertToInteractive('df-f892e1a4-3d5b-45e3-b99c-9843cfb3df1d')\"\n",
       "              title=\"Convert this dataframe to an interactive table.\"\n",
       "              style=\"display:none;\">\n",
       "        \n",
       "  <svg xmlns=\"http://www.w3.org/2000/svg\" height=\"24px\"viewBox=\"0 0 24 24\"\n",
       "       width=\"24px\">\n",
       "    <path d=\"M0 0h24v24H0V0z\" fill=\"none\"/>\n",
       "    <path d=\"M18.56 5.44l.94 2.06.94-2.06 2.06-.94-2.06-.94-.94-2.06-.94 2.06-2.06.94zm-11 1L8.5 8.5l.94-2.06 2.06-.94-2.06-.94L8.5 2.5l-.94 2.06-2.06.94zm10 10l.94 2.06.94-2.06 2.06-.94-2.06-.94-.94-2.06-.94 2.06-2.06.94z\"/><path d=\"M17.41 7.96l-1.37-1.37c-.4-.4-.92-.59-1.43-.59-.52 0-1.04.2-1.43.59L10.3 9.45l-7.72 7.72c-.78.78-.78 2.05 0 2.83L4 21.41c.39.39.9.59 1.41.59.51 0 1.02-.2 1.41-.59l7.78-7.78 2.81-2.81c.8-.78.8-2.07 0-2.86zM5.41 20L4 18.59l7.72-7.72 1.47 1.35L5.41 20z\"/>\n",
       "  </svg>\n",
       "      </button>\n",
       "      \n",
       "  <style>\n",
       "    .colab-df-container {\n",
       "      display:flex;\n",
       "      flex-wrap:wrap;\n",
       "      gap: 12px;\n",
       "    }\n",
       "\n",
       "    .colab-df-convert {\n",
       "      background-color: #E8F0FE;\n",
       "      border: none;\n",
       "      border-radius: 50%;\n",
       "      cursor: pointer;\n",
       "      display: none;\n",
       "      fill: #1967D2;\n",
       "      height: 32px;\n",
       "      padding: 0 0 0 0;\n",
       "      width: 32px;\n",
       "    }\n",
       "\n",
       "    .colab-df-convert:hover {\n",
       "      background-color: #E2EBFA;\n",
       "      box-shadow: 0px 1px 2px rgba(60, 64, 67, 0.3), 0px 1px 3px 1px rgba(60, 64, 67, 0.15);\n",
       "      fill: #174EA6;\n",
       "    }\n",
       "\n",
       "    [theme=dark] .colab-df-convert {\n",
       "      background-color: #3B4455;\n",
       "      fill: #D2E3FC;\n",
       "    }\n",
       "\n",
       "    [theme=dark] .colab-df-convert:hover {\n",
       "      background-color: #434B5C;\n",
       "      box-shadow: 0px 1px 3px 1px rgba(0, 0, 0, 0.15);\n",
       "      filter: drop-shadow(0px 1px 2px rgba(0, 0, 0, 0.3));\n",
       "      fill: #FFFFFF;\n",
       "    }\n",
       "  </style>\n",
       "\n",
       "      <script>\n",
       "        const buttonEl =\n",
       "          document.querySelector('#df-f892e1a4-3d5b-45e3-b99c-9843cfb3df1d button.colab-df-convert');\n",
       "        buttonEl.style.display =\n",
       "          google.colab.kernel.accessAllowed ? 'block' : 'none';\n",
       "\n",
       "        async function convertToInteractive(key) {\n",
       "          const element = document.querySelector('#df-f892e1a4-3d5b-45e3-b99c-9843cfb3df1d');\n",
       "          const dataTable =\n",
       "            await google.colab.kernel.invokeFunction('convertToInteractive',\n",
       "                                                     [key], {});\n",
       "          if (!dataTable) return;\n",
       "\n",
       "          const docLinkHtml = 'Like what you see? Visit the ' +\n",
       "            '<a target=\"_blank\" href=https://colab.research.google.com/notebooks/data_table.ipynb>data table notebook</a>'\n",
       "            + ' to learn more about interactive tables.';\n",
       "          element.innerHTML = '';\n",
       "          dataTable['output_type'] = 'display_data';\n",
       "          await google.colab.output.renderOutput(dataTable, element);\n",
       "          const docLink = document.createElement('div');\n",
       "          docLink.innerHTML = docLinkHtml;\n",
       "          element.appendChild(docLink);\n",
       "        }\n",
       "      </script>\n",
       "    </div>\n",
       "  </div>\n",
       "  "
      ],
      "text/plain": [
       "    a  b   c\n",
       "5  15  9  10\n",
       "3  12  8  19\n",
       "4  13  8  13\n",
       "2  16  8  11\n",
       "1  14  7  12"
      ]
     },
     "execution_count": 83,
     "metadata": {},
     "output_type": "execute_result"
    }
   ],
   "source": [
    "# 프레임의 정렬, 리스트로 반환\n",
    "df.sort_values(['b','c'], ascending=False)"
   ]
  },
  {
   "cell_type": "markdown",
   "id": "406d028b",
   "metadata": {
    "id": "406d028b"
   },
   "source": [
    "### 결측치 다루기"
   ]
  },
  {
   "cell_type": "markdown",
   "id": "022064ac",
   "metadata": {
    "ExecuteTime": {
     "end_time": "2022-04-24T09:40:39.250798Z",
     "start_time": "2022-04-24T09:40:39.237845Z"
    },
    "id": "022064ac"
   },
   "source": [
    "#### 데이터 확인\n",
    "\n",
    "- [2019 COVID-19 Data Set in Korean](https://www.kaggle.com/datasets/yjunwoo14/2019-covid19-ncov19-data-set-in-korean)"
   ]
  },
  {
   "cell_type": "code",
   "execution_count": null,
   "id": "48aae1b4",
   "metadata": {
    "ExecuteTime": {
     "end_time": "2022-04-24T10:31:28.701136Z",
     "start_time": "2022-04-24T10:31:28.671147Z"
    },
    "colab": {
     "base_uri": "https://localhost:8080/",
     "height": 224
    },
    "executionInfo": {
     "elapsed": 4546,
     "status": "ok",
     "timestamp": 1650800850526,
     "user": {
      "displayName": "Mark K",
      "userId": "03340535256939132196"
     },
     "user_tz": -540
    },
    "id": "48aae1b4",
    "outputId": "5cc794aa-8732-4bb0-d379-8c58df307771"
   },
   "outputs": [
    {
     "name": "stdout",
     "output_type": "stream",
     "text": [
      "Drive already mounted at /content/drive; to attempt to forcibly remount, call drive.mount(\"/content/drive\", force_remount=True).\n"
     ]
    },
    {
     "data": {
      "text/html": [
       "\n",
       "  <div id=\"df-20e0edb5-4a5f-4f29-81df-013678215a91\">\n",
       "    <div class=\"colab-df-container\">\n",
       "      <div>\n",
       "<style scoped>\n",
       "    .dataframe tbody tr th:only-of-type {\n",
       "        vertical-align: middle;\n",
       "    }\n",
       "\n",
       "    .dataframe tbody tr th {\n",
       "        vertical-align: top;\n",
       "    }\n",
       "\n",
       "    .dataframe thead th {\n",
       "        text-align: right;\n",
       "    }\n",
       "</style>\n",
       "<table border=\"1\" class=\"dataframe\">\n",
       "  <thead>\n",
       "    <tr style=\"text-align: right;\">\n",
       "      <th></th>\n",
       "      <th>행정구역</th>\n",
       "      <th>국가/지역</th>\n",
       "      <th>위도</th>\n",
       "      <th>경도</th>\n",
       "      <th>날짜</th>\n",
       "      <th>확진자</th>\n",
       "      <th>사망자</th>\n",
       "      <th>회복자</th>\n",
       "    </tr>\n",
       "  </thead>\n",
       "  <tbody>\n",
       "    <tr>\n",
       "      <th>0</th>\n",
       "      <td>안후이성</td>\n",
       "      <td>중국</td>\n",
       "      <td>31.8257</td>\n",
       "      <td>117.2264</td>\n",
       "      <td>2020-01-22</td>\n",
       "      <td>1</td>\n",
       "      <td>0</td>\n",
       "      <td>0</td>\n",
       "    </tr>\n",
       "    <tr>\n",
       "      <th>1</th>\n",
       "      <td>베이징시</td>\n",
       "      <td>중국</td>\n",
       "      <td>40.1824</td>\n",
       "      <td>116.4142</td>\n",
       "      <td>2020-01-22</td>\n",
       "      <td>14</td>\n",
       "      <td>0</td>\n",
       "      <td>0</td>\n",
       "    </tr>\n",
       "    <tr>\n",
       "      <th>2</th>\n",
       "      <td>충칭시</td>\n",
       "      <td>중국</td>\n",
       "      <td>30.0572</td>\n",
       "      <td>107.8740</td>\n",
       "      <td>2020-01-22</td>\n",
       "      <td>6</td>\n",
       "      <td>0</td>\n",
       "      <td>0</td>\n",
       "    </tr>\n",
       "    <tr>\n",
       "      <th>3</th>\n",
       "      <td>푸젠성</td>\n",
       "      <td>중국</td>\n",
       "      <td>26.0789</td>\n",
       "      <td>117.9874</td>\n",
       "      <td>2020-01-22</td>\n",
       "      <td>1</td>\n",
       "      <td>0</td>\n",
       "      <td>0</td>\n",
       "    </tr>\n",
       "    <tr>\n",
       "      <th>4</th>\n",
       "      <td>간쑤성</td>\n",
       "      <td>중국</td>\n",
       "      <td>36.0611</td>\n",
       "      <td>103.8343</td>\n",
       "      <td>2020-01-22</td>\n",
       "      <td>0</td>\n",
       "      <td>0</td>\n",
       "      <td>0</td>\n",
       "    </tr>\n",
       "  </tbody>\n",
       "</table>\n",
       "</div>\n",
       "      <button class=\"colab-df-convert\" onclick=\"convertToInteractive('df-20e0edb5-4a5f-4f29-81df-013678215a91')\"\n",
       "              title=\"Convert this dataframe to an interactive table.\"\n",
       "              style=\"display:none;\">\n",
       "        \n",
       "  <svg xmlns=\"http://www.w3.org/2000/svg\" height=\"24px\"viewBox=\"0 0 24 24\"\n",
       "       width=\"24px\">\n",
       "    <path d=\"M0 0h24v24H0V0z\" fill=\"none\"/>\n",
       "    <path d=\"M18.56 5.44l.94 2.06.94-2.06 2.06-.94-2.06-.94-.94-2.06-.94 2.06-2.06.94zm-11 1L8.5 8.5l.94-2.06 2.06-.94-2.06-.94L8.5 2.5l-.94 2.06-2.06.94zm10 10l.94 2.06.94-2.06 2.06-.94-2.06-.94-.94-2.06-.94 2.06-2.06.94z\"/><path d=\"M17.41 7.96l-1.37-1.37c-.4-.4-.92-.59-1.43-.59-.52 0-1.04.2-1.43.59L10.3 9.45l-7.72 7.72c-.78.78-.78 2.05 0 2.83L4 21.41c.39.39.9.59 1.41.59.51 0 1.02-.2 1.41-.59l7.78-7.78 2.81-2.81c.8-.78.8-2.07 0-2.86zM5.41 20L4 18.59l7.72-7.72 1.47 1.35L5.41 20z\"/>\n",
       "  </svg>\n",
       "      </button>\n",
       "      \n",
       "  <style>\n",
       "    .colab-df-container {\n",
       "      display:flex;\n",
       "      flex-wrap:wrap;\n",
       "      gap: 12px;\n",
       "    }\n",
       "\n",
       "    .colab-df-convert {\n",
       "      background-color: #E8F0FE;\n",
       "      border: none;\n",
       "      border-radius: 50%;\n",
       "      cursor: pointer;\n",
       "      display: none;\n",
       "      fill: #1967D2;\n",
       "      height: 32px;\n",
       "      padding: 0 0 0 0;\n",
       "      width: 32px;\n",
       "    }\n",
       "\n",
       "    .colab-df-convert:hover {\n",
       "      background-color: #E2EBFA;\n",
       "      box-shadow: 0px 1px 2px rgba(60, 64, 67, 0.3), 0px 1px 3px 1px rgba(60, 64, 67, 0.15);\n",
       "      fill: #174EA6;\n",
       "    }\n",
       "\n",
       "    [theme=dark] .colab-df-convert {\n",
       "      background-color: #3B4455;\n",
       "      fill: #D2E3FC;\n",
       "    }\n",
       "\n",
       "    [theme=dark] .colab-df-convert:hover {\n",
       "      background-color: #434B5C;\n",
       "      box-shadow: 0px 1px 3px 1px rgba(0, 0, 0, 0.15);\n",
       "      filter: drop-shadow(0px 1px 2px rgba(0, 0, 0, 0.3));\n",
       "      fill: #FFFFFF;\n",
       "    }\n",
       "  </style>\n",
       "\n",
       "      <script>\n",
       "        const buttonEl =\n",
       "          document.querySelector('#df-20e0edb5-4a5f-4f29-81df-013678215a91 button.colab-df-convert');\n",
       "        buttonEl.style.display =\n",
       "          google.colab.kernel.accessAllowed ? 'block' : 'none';\n",
       "\n",
       "        async function convertToInteractive(key) {\n",
       "          const element = document.querySelector('#df-20e0edb5-4a5f-4f29-81df-013678215a91');\n",
       "          const dataTable =\n",
       "            await google.colab.kernel.invokeFunction('convertToInteractive',\n",
       "                                                     [key], {});\n",
       "          if (!dataTable) return;\n",
       "\n",
       "          const docLinkHtml = 'Like what you see? Visit the ' +\n",
       "            '<a target=\"_blank\" href=https://colab.research.google.com/notebooks/data_table.ipynb>data table notebook</a>'\n",
       "            + ' to learn more about interactive tables.';\n",
       "          element.innerHTML = '';\n",
       "          dataTable['output_type'] = 'display_data';\n",
       "          await google.colab.output.renderOutput(dataTable, element);\n",
       "          const docLink = document.createElement('div');\n",
       "          docLink.innerHTML = docLinkHtml;\n",
       "          element.appendChild(docLink);\n",
       "        }\n",
       "      </script>\n",
       "    </div>\n",
       "  </div>\n",
       "  "
      ],
      "text/plain": [
       "   행정구역 국가/지역       위도        경도          날짜  확진자  사망자  회복자\n",
       "0  안후이성    중국  31.8257  117.2264  2020-01-22    1    0    0\n",
       "1  베이징시    중국  40.1824  116.4142  2020-01-22   14    0    0\n",
       "2   충칭시    중국  30.0572  107.8740  2020-01-22    6    0    0\n",
       "3   푸젠성    중국  26.0789  117.9874  2020-01-22    1    0    0\n",
       "4   간쑤성    중국  36.0611  103.8343  2020-01-22    0    0    0"
      ]
     },
     "execution_count": 5,
     "metadata": {},
     "output_type": "execute_result"
    }
   ],
   "source": [
    "from google.colab import drive\n",
    "drive.mount('/content/drive')\n",
    "\n",
    "import pandas as pd\n",
    "df=pd.read_csv('/content/drive/MyDrive/튜터링/datasets/COVID-19_Korean (1).csv') # colab 용\n",
    "# df=pd.read_csv('./datasets/COVID-19_Korean (1).csv') # jupyter notebook 용\n",
    "df.head()"
   ]
  },
  {
   "cell_type": "code",
   "execution_count": null,
   "id": "1b4e1924",
   "metadata": {
    "ExecuteTime": {
     "end_time": "2022-04-24T10:32:35.518244Z",
     "start_time": "2022-04-24T10:32:35.495304Z"
    },
    "id": "1b4e1924",
    "outputId": "3c0b7b4b-1789-48e4-c7f3-7ae22b3c892b"
   },
   "outputs": [
    {
     "data": {
      "text/html": [
       "<div>\n",
       "<style scoped>\n",
       "    .dataframe tbody tr th:only-of-type {\n",
       "        vertical-align: middle;\n",
       "    }\n",
       "\n",
       "    .dataframe tbody tr th {\n",
       "        vertical-align: top;\n",
       "    }\n",
       "\n",
       "    .dataframe thead th {\n",
       "        text-align: right;\n",
       "    }\n",
       "</style>\n",
       "<table border=\"1\" class=\"dataframe\">\n",
       "  <thead>\n",
       "    <tr style=\"text-align: right;\">\n",
       "      <th></th>\n",
       "      <th>행정구역</th>\n",
       "      <th>국가/지역</th>\n",
       "      <th>위도</th>\n",
       "      <th>경도</th>\n",
       "      <th>날짜</th>\n",
       "      <th>확진자</th>\n",
       "      <th>사망자</th>\n",
       "      <th>회복자</th>\n",
       "    </tr>\n",
       "  </thead>\n",
       "  <tbody>\n",
       "    <tr>\n",
       "      <th>33</th>\n",
       "      <td>NaN</td>\n",
       "      <td>대한민국</td>\n",
       "      <td>36.0</td>\n",
       "      <td>128.0</td>\n",
       "      <td>2020-01-22</td>\n",
       "      <td>1</td>\n",
       "      <td>0</td>\n",
       "      <td>0</td>\n",
       "    </tr>\n",
       "    <tr>\n",
       "      <th>193</th>\n",
       "      <td>NaN</td>\n",
       "      <td>대한민국</td>\n",
       "      <td>36.0</td>\n",
       "      <td>128.0</td>\n",
       "      <td>2020-01-23</td>\n",
       "      <td>1</td>\n",
       "      <td>0</td>\n",
       "      <td>0</td>\n",
       "    </tr>\n",
       "    <tr>\n",
       "      <th>353</th>\n",
       "      <td>NaN</td>\n",
       "      <td>대한민국</td>\n",
       "      <td>36.0</td>\n",
       "      <td>128.0</td>\n",
       "      <td>2020-01-24</td>\n",
       "      <td>2</td>\n",
       "      <td>0</td>\n",
       "      <td>0</td>\n",
       "    </tr>\n",
       "    <tr>\n",
       "      <th>513</th>\n",
       "      <td>NaN</td>\n",
       "      <td>대한민국</td>\n",
       "      <td>36.0</td>\n",
       "      <td>128.0</td>\n",
       "      <td>2020-01-25</td>\n",
       "      <td>2</td>\n",
       "      <td>0</td>\n",
       "      <td>0</td>\n",
       "    </tr>\n",
       "    <tr>\n",
       "      <th>673</th>\n",
       "      <td>NaN</td>\n",
       "      <td>대한민국</td>\n",
       "      <td>36.0</td>\n",
       "      <td>128.0</td>\n",
       "      <td>2020-01-26</td>\n",
       "      <td>3</td>\n",
       "      <td>0</td>\n",
       "      <td>0</td>\n",
       "    </tr>\n",
       "  </tbody>\n",
       "</table>\n",
       "</div>"
      ],
      "text/plain": [
       "    행정구역 국가/지역    위도     경도          날짜  확진자  사망자  회복자\n",
       "33   NaN  대한민국  36.0  128.0  2020-01-22    1    0    0\n",
       "193  NaN  대한민국  36.0  128.0  2020-01-23    1    0    0\n",
       "353  NaN  대한민국  36.0  128.0  2020-01-24    2    0    0\n",
       "513  NaN  대한민국  36.0  128.0  2020-01-25    2    0    0\n",
       "673  NaN  대한민국  36.0  128.0  2020-01-26    3    0    0"
      ]
     },
     "execution_count": 11,
     "metadata": {},
     "output_type": "execute_result"
    }
   ],
   "source": [
    "korea_data=df[df['국가/지역']=='대한민국']\n",
    "korea_data.head()"
   ]
  },
  {
   "cell_type": "code",
   "execution_count": null,
   "id": "3275948c",
   "metadata": {
    "ExecuteTime": {
     "end_time": "2022-04-24T10:35:37.208036Z",
     "start_time": "2022-04-24T10:35:37.191082Z"
    },
    "id": "3275948c"
   },
   "outputs": [],
   "source": [
    "# 가독성을 위해 행의 수를 줄입니다.\n",
    "korea_data=korea_data.head()\n",
    "\n",
    "# reset_index함수를 사용하여 행 인덱스 재설정\n",
    "korea_data=korea_data.reset_index(drop=True)\n",
    "\n",
    "# 예제 데이터 수정\n",
    "korea_data.iloc[[0],0]='서울'\n",
    "korea_data.loc[3]=None\n",
    "korea_data.iloc[3,[6,7]]=0\n",
    "korea_data.loc[3,'사망자']=None\n",
    "korea_data.loc[4]=None"
   ]
  },
  {
   "cell_type": "code",
   "execution_count": null,
   "id": "f8a9d44f",
   "metadata": {
    "ExecuteTime": {
     "end_time": "2022-04-24T10:35:38.177913Z",
     "start_time": "2022-04-24T10:35:38.160950Z"
    },
    "id": "f8a9d44f",
    "outputId": "0dcfdebc-ba85-42f0-f2bd-6ff37c863e34"
   },
   "outputs": [
    {
     "data": {
      "text/html": [
       "<div>\n",
       "<style scoped>\n",
       "    .dataframe tbody tr th:only-of-type {\n",
       "        vertical-align: middle;\n",
       "    }\n",
       "\n",
       "    .dataframe tbody tr th {\n",
       "        vertical-align: top;\n",
       "    }\n",
       "\n",
       "    .dataframe thead th {\n",
       "        text-align: right;\n",
       "    }\n",
       "</style>\n",
       "<table border=\"1\" class=\"dataframe\">\n",
       "  <thead>\n",
       "    <tr style=\"text-align: right;\">\n",
       "      <th></th>\n",
       "      <th>행정구역</th>\n",
       "      <th>국가/지역</th>\n",
       "      <th>위도</th>\n",
       "      <th>경도</th>\n",
       "      <th>날짜</th>\n",
       "      <th>확진자</th>\n",
       "      <th>사망자</th>\n",
       "      <th>회복자</th>\n",
       "    </tr>\n",
       "  </thead>\n",
       "  <tbody>\n",
       "    <tr>\n",
       "      <th>0</th>\n",
       "      <td>서울</td>\n",
       "      <td>대한민국</td>\n",
       "      <td>36.0</td>\n",
       "      <td>128.0</td>\n",
       "      <td>2020-01-22</td>\n",
       "      <td>1.0</td>\n",
       "      <td>0.0</td>\n",
       "      <td>0.0</td>\n",
       "    </tr>\n",
       "    <tr>\n",
       "      <th>1</th>\n",
       "      <td>NaN</td>\n",
       "      <td>대한민국</td>\n",
       "      <td>36.0</td>\n",
       "      <td>128.0</td>\n",
       "      <td>2020-01-23</td>\n",
       "      <td>1.0</td>\n",
       "      <td>0.0</td>\n",
       "      <td>0.0</td>\n",
       "    </tr>\n",
       "    <tr>\n",
       "      <th>2</th>\n",
       "      <td>NaN</td>\n",
       "      <td>대한민국</td>\n",
       "      <td>36.0</td>\n",
       "      <td>128.0</td>\n",
       "      <td>2020-01-24</td>\n",
       "      <td>2.0</td>\n",
       "      <td>0.0</td>\n",
       "      <td>0.0</td>\n",
       "    </tr>\n",
       "    <tr>\n",
       "      <th>3</th>\n",
       "      <td>None</td>\n",
       "      <td>None</td>\n",
       "      <td>NaN</td>\n",
       "      <td>NaN</td>\n",
       "      <td>None</td>\n",
       "      <td>NaN</td>\n",
       "      <td>NaN</td>\n",
       "      <td>0.0</td>\n",
       "    </tr>\n",
       "    <tr>\n",
       "      <th>4</th>\n",
       "      <td>None</td>\n",
       "      <td>None</td>\n",
       "      <td>NaN</td>\n",
       "      <td>NaN</td>\n",
       "      <td>None</td>\n",
       "      <td>NaN</td>\n",
       "      <td>NaN</td>\n",
       "      <td>NaN</td>\n",
       "    </tr>\n",
       "  </tbody>\n",
       "</table>\n",
       "</div>"
      ],
      "text/plain": [
       "   행정구역 국가/지역    위도     경도          날짜  확진자  사망자  회복자\n",
       "0    서울  대한민국  36.0  128.0  2020-01-22  1.0  0.0  0.0\n",
       "1   NaN  대한민국  36.0  128.0  2020-01-23  1.0  0.0  0.0\n",
       "2   NaN  대한민국  36.0  128.0  2020-01-24  2.0  0.0  0.0\n",
       "3  None  None   NaN    NaN        None  NaN  NaN  0.0\n",
       "4  None  None   NaN    NaN        None  NaN  NaN  NaN"
      ]
     },
     "execution_count": 15,
     "metadata": {},
     "output_type": "execute_result"
    }
   ],
   "source": [
    "korea_data"
   ]
  },
  {
   "cell_type": "markdown",
   "id": "a22af33f",
   "metadata": {
    "id": "a22af33f"
   },
   "source": [
    "#### 결측치 입력\n",
    "- 결측치를 입력할 때에는 None도 가능하지만 np.nan, pd.NaT가 모두 가능합니다"
   ]
  },
  {
   "cell_type": "code",
   "execution_count": null,
   "id": "dbf45448",
   "metadata": {
    "ExecuteTime": {
     "end_time": "2022-04-24T10:37:26.298593Z",
     "start_time": "2022-04-24T10:37:26.273659Z"
    },
    "id": "dbf45448",
    "outputId": "5df161e6-60d9-4395-976a-aaa80281e45d"
   },
   "outputs": [
    {
     "data": {
      "text/html": [
       "<div>\n",
       "<style scoped>\n",
       "    .dataframe tbody tr th:only-of-type {\n",
       "        vertical-align: middle;\n",
       "    }\n",
       "\n",
       "    .dataframe tbody tr th {\n",
       "        vertical-align: top;\n",
       "    }\n",
       "\n",
       "    .dataframe thead th {\n",
       "        text-align: right;\n",
       "    }\n",
       "</style>\n",
       "<table border=\"1\" class=\"dataframe\">\n",
       "  <thead>\n",
       "    <tr style=\"text-align: right;\">\n",
       "      <th></th>\n",
       "      <th>행정구역</th>\n",
       "      <th>국가/지역</th>\n",
       "      <th>위도</th>\n",
       "      <th>경도</th>\n",
       "      <th>날짜</th>\n",
       "      <th>확진자</th>\n",
       "      <th>사망자</th>\n",
       "      <th>회복자</th>\n",
       "    </tr>\n",
       "  </thead>\n",
       "  <tbody>\n",
       "    <tr>\n",
       "      <th>0</th>\n",
       "      <td>서울</td>\n",
       "      <td>대한민국</td>\n",
       "      <td>36.0</td>\n",
       "      <td>128.0</td>\n",
       "      <td>2020-01-22</td>\n",
       "      <td>1.0</td>\n",
       "      <td>0.0</td>\n",
       "      <td>0.0</td>\n",
       "    </tr>\n",
       "    <tr>\n",
       "      <th>1</th>\n",
       "      <td>NaN</td>\n",
       "      <td>대한민국</td>\n",
       "      <td>36.0</td>\n",
       "      <td>128.0</td>\n",
       "      <td>2020-01-23</td>\n",
       "      <td>1.0</td>\n",
       "      <td>0.0</td>\n",
       "      <td>0.0</td>\n",
       "    </tr>\n",
       "    <tr>\n",
       "      <th>2</th>\n",
       "      <td>NaT</td>\n",
       "      <td>대한민국</td>\n",
       "      <td>36.0</td>\n",
       "      <td>128.0</td>\n",
       "      <td>2020-01-24</td>\n",
       "      <td>2.0</td>\n",
       "      <td>0.0</td>\n",
       "      <td>0.0</td>\n",
       "    </tr>\n",
       "    <tr>\n",
       "      <th>3</th>\n",
       "      <td>None</td>\n",
       "      <td>None</td>\n",
       "      <td>NaN</td>\n",
       "      <td>NaN</td>\n",
       "      <td>None</td>\n",
       "      <td>NaN</td>\n",
       "      <td>NaN</td>\n",
       "      <td>0.0</td>\n",
       "    </tr>\n",
       "    <tr>\n",
       "      <th>4</th>\n",
       "      <td>None</td>\n",
       "      <td>None</td>\n",
       "      <td>NaN</td>\n",
       "      <td>NaN</td>\n",
       "      <td>None</td>\n",
       "      <td>NaN</td>\n",
       "      <td>NaN</td>\n",
       "      <td>NaN</td>\n",
       "    </tr>\n",
       "  </tbody>\n",
       "</table>\n",
       "</div>"
      ],
      "text/plain": [
       "   행정구역 국가/지역    위도     경도          날짜  확진자  사망자  회복자\n",
       "0    서울  대한민국  36.0  128.0  2020-01-22  1.0  0.0  0.0\n",
       "1   NaN  대한민국  36.0  128.0  2020-01-23  1.0  0.0  0.0\n",
       "2   NaT  대한민국  36.0  128.0  2020-01-24  2.0  0.0  0.0\n",
       "3  None  None   NaN    NaN        None  NaN  NaN  0.0\n",
       "4  None  None   NaN    NaN        None  NaN  NaN  NaN"
      ]
     },
     "execution_count": 19,
     "metadata": {},
     "output_type": "execute_result"
    }
   ],
   "source": [
    "import numpy as np \n",
    "korea_data.iloc[1,0]=np.nan\n",
    "korea_data.iloc[2,0]=pd.NaT\n",
    "korea_data"
   ]
  },
  {
   "cell_type": "markdown",
   "id": "c3e4fd6b",
   "metadata": {
    "id": "c3e4fd6b"
   },
   "source": [
    "#### 결측치 확인\n",
    "\n",
    "- info() / notnull() / notna()\n",
    "- isnull() / isna()"
   ]
  },
  {
   "cell_type": "markdown",
   "id": "6baaa929",
   "metadata": {
    "id": "6baaa929"
   },
   "source": [
    "#### 결측치가 아닌 데이터 개수"
   ]
  },
  {
   "cell_type": "code",
   "execution_count": null,
   "id": "2fad7406",
   "metadata": {
    "ExecuteTime": {
     "end_time": "2022-04-24T10:40:48.517616Z",
     "start_time": "2022-04-24T10:40:48.502656Z"
    },
    "id": "2fad7406",
    "outputId": "be928c2b-52d1-4c1d-ec08-d55d6a5afe81"
   },
   "outputs": [
    {
     "name": "stdout",
     "output_type": "stream",
     "text": [
      "<class 'pandas.core.frame.DataFrame'>\n",
      "RangeIndex: 5 entries, 0 to 4\n",
      "Data columns (total 8 columns):\n",
      " #   Column  Non-Null Count  Dtype  \n",
      "---  ------  --------------  -----  \n",
      " 0   행정구역    1 non-null      object \n",
      " 1   국가/지역   3 non-null      object \n",
      " 2   위도      3 non-null      float64\n",
      " 3   경도      3 non-null      float64\n",
      " 4   날짜      3 non-null      object \n",
      " 5   확진자     3 non-null      float64\n",
      " 6   사망자     3 non-null      float64\n",
      " 7   회복자     4 non-null      float64\n",
      "dtypes: float64(5), object(3)\n",
      "memory usage: 448.0+ bytes\n"
     ]
    }
   ],
   "source": [
    "korea_data.info()"
   ]
  },
  {
   "cell_type": "code",
   "execution_count": null,
   "id": "a5049400",
   "metadata": {
    "ExecuteTime": {
     "end_time": "2022-04-24T10:41:38.440597Z",
     "start_time": "2022-04-24T10:41:38.419654Z"
    },
    "id": "a5049400",
    "outputId": "2f62cd60-2979-44b8-87d1-7800e65df38d"
   },
   "outputs": [
    {
     "data": {
      "text/html": [
       "<div>\n",
       "<style scoped>\n",
       "    .dataframe tbody tr th:only-of-type {\n",
       "        vertical-align: middle;\n",
       "    }\n",
       "\n",
       "    .dataframe tbody tr th {\n",
       "        vertical-align: top;\n",
       "    }\n",
       "\n",
       "    .dataframe thead th {\n",
       "        text-align: right;\n",
       "    }\n",
       "</style>\n",
       "<table border=\"1\" class=\"dataframe\">\n",
       "  <thead>\n",
       "    <tr style=\"text-align: right;\">\n",
       "      <th></th>\n",
       "      <th>행정구역</th>\n",
       "      <th>국가/지역</th>\n",
       "      <th>위도</th>\n",
       "      <th>경도</th>\n",
       "      <th>날짜</th>\n",
       "      <th>확진자</th>\n",
       "      <th>사망자</th>\n",
       "      <th>회복자</th>\n",
       "    </tr>\n",
       "  </thead>\n",
       "  <tbody>\n",
       "    <tr>\n",
       "      <th>0</th>\n",
       "      <td>True</td>\n",
       "      <td>True</td>\n",
       "      <td>True</td>\n",
       "      <td>True</td>\n",
       "      <td>True</td>\n",
       "      <td>True</td>\n",
       "      <td>True</td>\n",
       "      <td>True</td>\n",
       "    </tr>\n",
       "    <tr>\n",
       "      <th>1</th>\n",
       "      <td>False</td>\n",
       "      <td>True</td>\n",
       "      <td>True</td>\n",
       "      <td>True</td>\n",
       "      <td>True</td>\n",
       "      <td>True</td>\n",
       "      <td>True</td>\n",
       "      <td>True</td>\n",
       "    </tr>\n",
       "    <tr>\n",
       "      <th>2</th>\n",
       "      <td>False</td>\n",
       "      <td>True</td>\n",
       "      <td>True</td>\n",
       "      <td>True</td>\n",
       "      <td>True</td>\n",
       "      <td>True</td>\n",
       "      <td>True</td>\n",
       "      <td>True</td>\n",
       "    </tr>\n",
       "    <tr>\n",
       "      <th>3</th>\n",
       "      <td>False</td>\n",
       "      <td>False</td>\n",
       "      <td>False</td>\n",
       "      <td>False</td>\n",
       "      <td>False</td>\n",
       "      <td>False</td>\n",
       "      <td>False</td>\n",
       "      <td>True</td>\n",
       "    </tr>\n",
       "    <tr>\n",
       "      <th>4</th>\n",
       "      <td>False</td>\n",
       "      <td>False</td>\n",
       "      <td>False</td>\n",
       "      <td>False</td>\n",
       "      <td>False</td>\n",
       "      <td>False</td>\n",
       "      <td>False</td>\n",
       "      <td>False</td>\n",
       "    </tr>\n",
       "  </tbody>\n",
       "</table>\n",
       "</div>"
      ],
      "text/plain": [
       "    행정구역  국가/지역     위도     경도     날짜    확진자    사망자    회복자\n",
       "0   True   True   True   True   True   True   True   True\n",
       "1  False   True   True   True   True   True   True   True\n",
       "2  False   True   True   True   True   True   True   True\n",
       "3  False  False  False  False  False  False  False   True\n",
       "4  False  False  False  False  False  False  False  False"
      ]
     },
     "execution_count": 26,
     "metadata": {},
     "output_type": "execute_result"
    }
   ],
   "source": [
    "korea_data.notnull()"
   ]
  },
  {
   "cell_type": "code",
   "execution_count": null,
   "id": "c1fbe98e",
   "metadata": {
    "ExecuteTime": {
     "end_time": "2022-04-24T10:41:57.956950Z",
     "start_time": "2022-04-24T10:41:57.940965Z"
    },
    "id": "c1fbe98e",
    "outputId": "7039f086-16d5-4f8b-8f19-96cef5417fe2"
   },
   "outputs": [
    {
     "data": {
      "text/plain": [
       "행정구역     1\n",
       "국가/지역    3\n",
       "위도       3\n",
       "경도       3\n",
       "날짜       3\n",
       "확진자      3\n",
       "사망자      3\n",
       "회복자      4\n",
       "dtype: int64"
      ]
     },
     "execution_count": 27,
     "metadata": {},
     "output_type": "execute_result"
    }
   ],
   "source": [
    "korea_data.notnull().sum()"
   ]
  },
  {
   "cell_type": "code",
   "execution_count": null,
   "id": "0f097a02",
   "metadata": {
    "ExecuteTime": {
     "end_time": "2022-04-24T10:45:03.751547Z",
     "start_time": "2022-04-24T10:45:03.739597Z"
    },
    "id": "0f097a02",
    "outputId": "289b267c-026a-49f7-f387-0157b391e128"
   },
   "outputs": [
    {
     "data": {
      "text/html": [
       "<div>\n",
       "<style scoped>\n",
       "    .dataframe tbody tr th:only-of-type {\n",
       "        vertical-align: middle;\n",
       "    }\n",
       "\n",
       "    .dataframe tbody tr th {\n",
       "        vertical-align: top;\n",
       "    }\n",
       "\n",
       "    .dataframe thead th {\n",
       "        text-align: right;\n",
       "    }\n",
       "</style>\n",
       "<table border=\"1\" class=\"dataframe\">\n",
       "  <thead>\n",
       "    <tr style=\"text-align: right;\">\n",
       "      <th></th>\n",
       "      <th>행정구역</th>\n",
       "      <th>국가/지역</th>\n",
       "      <th>위도</th>\n",
       "      <th>경도</th>\n",
       "      <th>날짜</th>\n",
       "      <th>확진자</th>\n",
       "      <th>사망자</th>\n",
       "      <th>회복자</th>\n",
       "    </tr>\n",
       "  </thead>\n",
       "  <tbody>\n",
       "    <tr>\n",
       "      <th>0</th>\n",
       "      <td>True</td>\n",
       "      <td>True</td>\n",
       "      <td>True</td>\n",
       "      <td>True</td>\n",
       "      <td>True</td>\n",
       "      <td>True</td>\n",
       "      <td>True</td>\n",
       "      <td>True</td>\n",
       "    </tr>\n",
       "    <tr>\n",
       "      <th>1</th>\n",
       "      <td>False</td>\n",
       "      <td>True</td>\n",
       "      <td>True</td>\n",
       "      <td>True</td>\n",
       "      <td>True</td>\n",
       "      <td>True</td>\n",
       "      <td>True</td>\n",
       "      <td>True</td>\n",
       "    </tr>\n",
       "    <tr>\n",
       "      <th>2</th>\n",
       "      <td>False</td>\n",
       "      <td>True</td>\n",
       "      <td>True</td>\n",
       "      <td>True</td>\n",
       "      <td>True</td>\n",
       "      <td>True</td>\n",
       "      <td>True</td>\n",
       "      <td>True</td>\n",
       "    </tr>\n",
       "    <tr>\n",
       "      <th>3</th>\n",
       "      <td>False</td>\n",
       "      <td>False</td>\n",
       "      <td>False</td>\n",
       "      <td>False</td>\n",
       "      <td>False</td>\n",
       "      <td>False</td>\n",
       "      <td>False</td>\n",
       "      <td>True</td>\n",
       "    </tr>\n",
       "    <tr>\n",
       "      <th>4</th>\n",
       "      <td>False</td>\n",
       "      <td>False</td>\n",
       "      <td>False</td>\n",
       "      <td>False</td>\n",
       "      <td>False</td>\n",
       "      <td>False</td>\n",
       "      <td>False</td>\n",
       "      <td>False</td>\n",
       "    </tr>\n",
       "  </tbody>\n",
       "</table>\n",
       "</div>"
      ],
      "text/plain": [
       "    행정구역  국가/지역     위도     경도     날짜    확진자    사망자    회복자\n",
       "0   True   True   True   True   True   True   True   True\n",
       "1  False   True   True   True   True   True   True   True\n",
       "2  False   True   True   True   True   True   True   True\n",
       "3  False  False  False  False  False  False  False   True\n",
       "4  False  False  False  False  False  False  False  False"
      ]
     },
     "execution_count": 31,
     "metadata": {},
     "output_type": "execute_result"
    }
   ],
   "source": [
    "korea_data.notna()"
   ]
  },
  {
   "cell_type": "code",
   "execution_count": null,
   "id": "d4b2d5d1",
   "metadata": {
    "ExecuteTime": {
     "end_time": "2022-04-24T10:45:08.714829Z",
     "start_time": "2022-04-24T10:45:08.694883Z"
    },
    "id": "d4b2d5d1",
    "outputId": "0ae5e3b7-2ace-44be-965f-93f1715e7169"
   },
   "outputs": [
    {
     "data": {
      "text/plain": [
       "행정구역     1\n",
       "국가/지역    3\n",
       "위도       3\n",
       "경도       3\n",
       "날짜       3\n",
       "확진자      3\n",
       "사망자      3\n",
       "회복자      4\n",
       "dtype: int64"
      ]
     },
     "execution_count": 32,
     "metadata": {},
     "output_type": "execute_result"
    }
   ],
   "source": [
    "korea_data.notna().sum()"
   ]
  },
  {
   "cell_type": "markdown",
   "id": "0c06bc78",
   "metadata": {
    "id": "0c06bc78"
   },
   "source": [
    "#### 결측치 데이터 개수"
   ]
  },
  {
   "cell_type": "code",
   "execution_count": null,
   "id": "f0c652cf",
   "metadata": {
    "ExecuteTime": {
     "end_time": "2022-04-24T10:40:00.955023Z",
     "start_time": "2022-04-24T10:40:00.935077Z"
    },
    "id": "f0c652cf",
    "outputId": "63e8c5ee-9505-492f-a661-7391beb993eb"
   },
   "outputs": [
    {
     "data": {
      "text/html": [
       "<div>\n",
       "<style scoped>\n",
       "    .dataframe tbody tr th:only-of-type {\n",
       "        vertical-align: middle;\n",
       "    }\n",
       "\n",
       "    .dataframe tbody tr th {\n",
       "        vertical-align: top;\n",
       "    }\n",
       "\n",
       "    .dataframe thead th {\n",
       "        text-align: right;\n",
       "    }\n",
       "</style>\n",
       "<table border=\"1\" class=\"dataframe\">\n",
       "  <thead>\n",
       "    <tr style=\"text-align: right;\">\n",
       "      <th></th>\n",
       "      <th>행정구역</th>\n",
       "      <th>국가/지역</th>\n",
       "      <th>위도</th>\n",
       "      <th>경도</th>\n",
       "      <th>날짜</th>\n",
       "      <th>확진자</th>\n",
       "      <th>사망자</th>\n",
       "      <th>회복자</th>\n",
       "    </tr>\n",
       "  </thead>\n",
       "  <tbody>\n",
       "    <tr>\n",
       "      <th>0</th>\n",
       "      <td>False</td>\n",
       "      <td>False</td>\n",
       "      <td>False</td>\n",
       "      <td>False</td>\n",
       "      <td>False</td>\n",
       "      <td>False</td>\n",
       "      <td>False</td>\n",
       "      <td>False</td>\n",
       "    </tr>\n",
       "    <tr>\n",
       "      <th>1</th>\n",
       "      <td>True</td>\n",
       "      <td>False</td>\n",
       "      <td>False</td>\n",
       "      <td>False</td>\n",
       "      <td>False</td>\n",
       "      <td>False</td>\n",
       "      <td>False</td>\n",
       "      <td>False</td>\n",
       "    </tr>\n",
       "    <tr>\n",
       "      <th>2</th>\n",
       "      <td>True</td>\n",
       "      <td>False</td>\n",
       "      <td>False</td>\n",
       "      <td>False</td>\n",
       "      <td>False</td>\n",
       "      <td>False</td>\n",
       "      <td>False</td>\n",
       "      <td>False</td>\n",
       "    </tr>\n",
       "    <tr>\n",
       "      <th>3</th>\n",
       "      <td>True</td>\n",
       "      <td>True</td>\n",
       "      <td>True</td>\n",
       "      <td>True</td>\n",
       "      <td>True</td>\n",
       "      <td>True</td>\n",
       "      <td>True</td>\n",
       "      <td>False</td>\n",
       "    </tr>\n",
       "    <tr>\n",
       "      <th>4</th>\n",
       "      <td>True</td>\n",
       "      <td>True</td>\n",
       "      <td>True</td>\n",
       "      <td>True</td>\n",
       "      <td>True</td>\n",
       "      <td>True</td>\n",
       "      <td>True</td>\n",
       "      <td>True</td>\n",
       "    </tr>\n",
       "  </tbody>\n",
       "</table>\n",
       "</div>"
      ],
      "text/plain": [
       "    행정구역  국가/지역     위도     경도     날짜    확진자    사망자    회복자\n",
       "0  False  False  False  False  False  False  False  False\n",
       "1   True  False  False  False  False  False  False  False\n",
       "2   True  False  False  False  False  False  False  False\n",
       "3   True   True   True   True   True   True   True  False\n",
       "4   True   True   True   True   True   True   True   True"
      ]
     },
     "execution_count": 21,
     "metadata": {},
     "output_type": "execute_result"
    }
   ],
   "source": [
    "korea_data.isnull()"
   ]
  },
  {
   "cell_type": "code",
   "execution_count": null,
   "id": "41bac31b",
   "metadata": {
    "ExecuteTime": {
     "end_time": "2022-04-24T10:40:38.406237Z",
     "start_time": "2022-04-24T10:40:38.390280Z"
    },
    "id": "41bac31b",
    "outputId": "8bb016ba-9776-4d6b-d98b-e306c77cd938"
   },
   "outputs": [
    {
     "data": {
      "text/plain": [
       "행정구역     4\n",
       "국가/지역    2\n",
       "위도       2\n",
       "경도       2\n",
       "날짜       2\n",
       "확진자      2\n",
       "사망자      2\n",
       "회복자      1\n",
       "dtype: int64"
      ]
     },
     "execution_count": 24,
     "metadata": {},
     "output_type": "execute_result"
    }
   ],
   "source": [
    "korea_data.isnull().sum()"
   ]
  },
  {
   "cell_type": "code",
   "execution_count": null,
   "id": "ba3cd11a",
   "metadata": {
    "ExecuteTime": {
     "end_time": "2022-04-24T10:43:00.372244Z",
     "start_time": "2022-04-24T10:43:00.352300Z"
    },
    "id": "ba3cd11a",
    "outputId": "0471e862-de11-4089-cd4c-b3f4b059b225"
   },
   "outputs": [
    {
     "data": {
      "text/html": [
       "<div>\n",
       "<style scoped>\n",
       "    .dataframe tbody tr th:only-of-type {\n",
       "        vertical-align: middle;\n",
       "    }\n",
       "\n",
       "    .dataframe tbody tr th {\n",
       "        vertical-align: top;\n",
       "    }\n",
       "\n",
       "    .dataframe thead th {\n",
       "        text-align: right;\n",
       "    }\n",
       "</style>\n",
       "<table border=\"1\" class=\"dataframe\">\n",
       "  <thead>\n",
       "    <tr style=\"text-align: right;\">\n",
       "      <th></th>\n",
       "      <th>행정구역</th>\n",
       "      <th>국가/지역</th>\n",
       "      <th>위도</th>\n",
       "      <th>경도</th>\n",
       "      <th>날짜</th>\n",
       "      <th>확진자</th>\n",
       "      <th>사망자</th>\n",
       "      <th>회복자</th>\n",
       "    </tr>\n",
       "  </thead>\n",
       "  <tbody>\n",
       "    <tr>\n",
       "      <th>0</th>\n",
       "      <td>False</td>\n",
       "      <td>False</td>\n",
       "      <td>False</td>\n",
       "      <td>False</td>\n",
       "      <td>False</td>\n",
       "      <td>False</td>\n",
       "      <td>False</td>\n",
       "      <td>False</td>\n",
       "    </tr>\n",
       "    <tr>\n",
       "      <th>1</th>\n",
       "      <td>True</td>\n",
       "      <td>False</td>\n",
       "      <td>False</td>\n",
       "      <td>False</td>\n",
       "      <td>False</td>\n",
       "      <td>False</td>\n",
       "      <td>False</td>\n",
       "      <td>False</td>\n",
       "    </tr>\n",
       "    <tr>\n",
       "      <th>2</th>\n",
       "      <td>True</td>\n",
       "      <td>False</td>\n",
       "      <td>False</td>\n",
       "      <td>False</td>\n",
       "      <td>False</td>\n",
       "      <td>False</td>\n",
       "      <td>False</td>\n",
       "      <td>False</td>\n",
       "    </tr>\n",
       "    <tr>\n",
       "      <th>3</th>\n",
       "      <td>True</td>\n",
       "      <td>True</td>\n",
       "      <td>True</td>\n",
       "      <td>True</td>\n",
       "      <td>True</td>\n",
       "      <td>True</td>\n",
       "      <td>True</td>\n",
       "      <td>False</td>\n",
       "    </tr>\n",
       "    <tr>\n",
       "      <th>4</th>\n",
       "      <td>True</td>\n",
       "      <td>True</td>\n",
       "      <td>True</td>\n",
       "      <td>True</td>\n",
       "      <td>True</td>\n",
       "      <td>True</td>\n",
       "      <td>True</td>\n",
       "      <td>True</td>\n",
       "    </tr>\n",
       "  </tbody>\n",
       "</table>\n",
       "</div>"
      ],
      "text/plain": [
       "    행정구역  국가/지역     위도     경도     날짜    확진자    사망자    회복자\n",
       "0  False  False  False  False  False  False  False  False\n",
       "1   True  False  False  False  False  False  False  False\n",
       "2   True  False  False  False  False  False  False  False\n",
       "3   True   True   True   True   True   True   True  False\n",
       "4   True   True   True   True   True   True   True   True"
      ]
     },
     "execution_count": 28,
     "metadata": {},
     "output_type": "execute_result"
    }
   ],
   "source": [
    "korea_data.isna()"
   ]
  },
  {
   "cell_type": "code",
   "execution_count": null,
   "id": "5311e35f",
   "metadata": {
    "ExecuteTime": {
     "end_time": "2022-04-24T10:46:14.592486Z",
     "start_time": "2022-04-24T10:46:14.575499Z"
    },
    "id": "5311e35f",
    "outputId": "c9cf2ed0-3bdb-48ab-c5f4-e10e8b489996"
   },
   "outputs": [
    {
     "data": {
      "text/plain": [
       "행정구역     4\n",
       "국가/지역    2\n",
       "위도       2\n",
       "경도       2\n",
       "날짜       2\n",
       "확진자      2\n",
       "사망자      2\n",
       "회복자      1\n",
       "dtype: int64"
      ]
     },
     "execution_count": 33,
     "metadata": {},
     "output_type": "execute_result"
    }
   ],
   "source": [
    "korea_data.isna().sum()"
   ]
  },
  {
   "cell_type": "markdown",
   "id": "5dab212e",
   "metadata": {
    "id": "5dab212e"
   },
   "source": [
    "#### 결측치 제거\n",
    " - [DataFrame.dropna(self, axis=0, how='any', thresh=None, subset=None, inplace=False)](https://pandas.pydata.org/pandas-docs/stable/reference/api/pandas.DataFrame.dropna.html)"
   ]
  },
  {
   "cell_type": "code",
   "execution_count": null,
   "id": "ec39d713",
   "metadata": {
    "ExecuteTime": {
     "end_time": "2022-04-24T11:02:14.070391Z",
     "start_time": "2022-04-24T11:02:14.045436Z"
    },
    "id": "ec39d713",
    "outputId": "cd47edb7-55fe-428c-9433-d8d9ee79cc5b"
   },
   "outputs": [
    {
     "data": {
      "text/html": [
       "<div>\n",
       "<style scoped>\n",
       "    .dataframe tbody tr th:only-of-type {\n",
       "        vertical-align: middle;\n",
       "    }\n",
       "\n",
       "    .dataframe tbody tr th {\n",
       "        vertical-align: top;\n",
       "    }\n",
       "\n",
       "    .dataframe thead th {\n",
       "        text-align: right;\n",
       "    }\n",
       "</style>\n",
       "<table border=\"1\" class=\"dataframe\">\n",
       "  <thead>\n",
       "    <tr style=\"text-align: right;\">\n",
       "      <th></th>\n",
       "      <th>행정구역</th>\n",
       "      <th>국가/지역</th>\n",
       "      <th>위도</th>\n",
       "      <th>경도</th>\n",
       "      <th>날짜</th>\n",
       "      <th>확진자</th>\n",
       "      <th>사망자</th>\n",
       "      <th>회복자</th>\n",
       "    </tr>\n",
       "  </thead>\n",
       "  <tbody>\n",
       "    <tr>\n",
       "      <th>0</th>\n",
       "      <td>서울</td>\n",
       "      <td>대한민국</td>\n",
       "      <td>36.0</td>\n",
       "      <td>128.0</td>\n",
       "      <td>2020-01-22</td>\n",
       "      <td>1.0</td>\n",
       "      <td>0.0</td>\n",
       "      <td>0.0</td>\n",
       "    </tr>\n",
       "    <tr>\n",
       "      <th>1</th>\n",
       "      <td>NaN</td>\n",
       "      <td>대한민국</td>\n",
       "      <td>36.0</td>\n",
       "      <td>128.0</td>\n",
       "      <td>2020-01-23</td>\n",
       "      <td>1.0</td>\n",
       "      <td>0.0</td>\n",
       "      <td>0.0</td>\n",
       "    </tr>\n",
       "    <tr>\n",
       "      <th>2</th>\n",
       "      <td>NaT</td>\n",
       "      <td>대한민국</td>\n",
       "      <td>36.0</td>\n",
       "      <td>128.0</td>\n",
       "      <td>2020-01-24</td>\n",
       "      <td>2.0</td>\n",
       "      <td>0.0</td>\n",
       "      <td>0.0</td>\n",
       "    </tr>\n",
       "    <tr>\n",
       "      <th>3</th>\n",
       "      <td>None</td>\n",
       "      <td>None</td>\n",
       "      <td>NaN</td>\n",
       "      <td>NaN</td>\n",
       "      <td>None</td>\n",
       "      <td>NaN</td>\n",
       "      <td>NaN</td>\n",
       "      <td>0.0</td>\n",
       "    </tr>\n",
       "    <tr>\n",
       "      <th>4</th>\n",
       "      <td>None</td>\n",
       "      <td>None</td>\n",
       "      <td>NaN</td>\n",
       "      <td>NaN</td>\n",
       "      <td>None</td>\n",
       "      <td>NaN</td>\n",
       "      <td>NaN</td>\n",
       "      <td>NaN</td>\n",
       "    </tr>\n",
       "  </tbody>\n",
       "</table>\n",
       "</div>"
      ],
      "text/plain": [
       "   행정구역 국가/지역    위도     경도          날짜  확진자  사망자  회복자\n",
       "0    서울  대한민국  36.0  128.0  2020-01-22  1.0  0.0  0.0\n",
       "1   NaN  대한민국  36.0  128.0  2020-01-23  1.0  0.0  0.0\n",
       "2   NaT  대한민국  36.0  128.0  2020-01-24  2.0  0.0  0.0\n",
       "3  None  None   NaN    NaN        None  NaN  NaN  0.0\n",
       "4  None  None   NaN    NaN        None  NaN  NaN  NaN"
      ]
     },
     "execution_count": 43,
     "metadata": {},
     "output_type": "execute_result"
    }
   ],
   "source": [
    "korea_data"
   ]
  },
  {
   "cell_type": "code",
   "execution_count": null,
   "id": "c8e923da",
   "metadata": {
    "ExecuteTime": {
     "end_time": "2022-04-24T11:02:38.669821Z",
     "start_time": "2022-04-24T11:02:38.650877Z"
    },
    "id": "c8e923da",
    "outputId": "be86cb88-2c1c-4407-ac50-56c33e0dfabf"
   },
   "outputs": [
    {
     "data": {
      "text/html": [
       "<div>\n",
       "<style scoped>\n",
       "    .dataframe tbody tr th:only-of-type {\n",
       "        vertical-align: middle;\n",
       "    }\n",
       "\n",
       "    .dataframe tbody tr th {\n",
       "        vertical-align: top;\n",
       "    }\n",
       "\n",
       "    .dataframe thead th {\n",
       "        text-align: right;\n",
       "    }\n",
       "</style>\n",
       "<table border=\"1\" class=\"dataframe\">\n",
       "  <thead>\n",
       "    <tr style=\"text-align: right;\">\n",
       "      <th></th>\n",
       "      <th>행정구역</th>\n",
       "      <th>국가/지역</th>\n",
       "      <th>위도</th>\n",
       "      <th>경도</th>\n",
       "      <th>날짜</th>\n",
       "      <th>확진자</th>\n",
       "      <th>사망자</th>\n",
       "      <th>회복자</th>\n",
       "    </tr>\n",
       "  </thead>\n",
       "  <tbody>\n",
       "    <tr>\n",
       "      <th>0</th>\n",
       "      <td>서울</td>\n",
       "      <td>대한민국</td>\n",
       "      <td>36.0</td>\n",
       "      <td>128.0</td>\n",
       "      <td>2020-01-22</td>\n",
       "      <td>1.0</td>\n",
       "      <td>0.0</td>\n",
       "      <td>0.0</td>\n",
       "    </tr>\n",
       "  </tbody>\n",
       "</table>\n",
       "</div>"
      ],
      "text/plain": [
       "  행정구역 국가/지역    위도     경도          날짜  확진자  사망자  회복자\n",
       "0   서울  대한민국  36.0  128.0  2020-01-22  1.0  0.0  0.0"
      ]
     },
     "execution_count": 44,
     "metadata": {},
     "output_type": "execute_result"
    }
   ],
   "source": [
    "# dropna - 매개변수 axis의 default값이 0, how의 default값이 'any'이므로 결측값이 있는 행은 모두 삭제\n",
    "\n",
    "korea_data.dropna()"
   ]
  },
  {
   "cell_type": "code",
   "execution_count": null,
   "id": "4345e631",
   "metadata": {
    "ExecuteTime": {
     "end_time": "2022-04-24T11:00:07.119335Z",
     "start_time": "2022-04-24T11:00:07.092406Z"
    },
    "id": "4345e631",
    "outputId": "493ce01d-1311-4272-a663-682889c83be1"
   },
   "outputs": [
    {
     "data": {
      "text/html": [
       "<div>\n",
       "<style scoped>\n",
       "    .dataframe tbody tr th:only-of-type {\n",
       "        vertical-align: middle;\n",
       "    }\n",
       "\n",
       "    .dataframe tbody tr th {\n",
       "        vertical-align: top;\n",
       "    }\n",
       "\n",
       "    .dataframe thead th {\n",
       "        text-align: right;\n",
       "    }\n",
       "</style>\n",
       "<table border=\"1\" class=\"dataframe\">\n",
       "  <thead>\n",
       "    <tr style=\"text-align: right;\">\n",
       "      <th></th>\n",
       "      <th>행정구역</th>\n",
       "      <th>국가/지역</th>\n",
       "      <th>위도</th>\n",
       "      <th>경도</th>\n",
       "      <th>날짜</th>\n",
       "      <th>확진자</th>\n",
       "      <th>사망자</th>\n",
       "      <th>회복자</th>\n",
       "    </tr>\n",
       "  </thead>\n",
       "  <tbody>\n",
       "    <tr>\n",
       "      <th>0</th>\n",
       "      <td>서울</td>\n",
       "      <td>대한민국</td>\n",
       "      <td>36.0</td>\n",
       "      <td>128.0</td>\n",
       "      <td>2020-01-22</td>\n",
       "      <td>1.0</td>\n",
       "      <td>0.0</td>\n",
       "      <td>0.0</td>\n",
       "    </tr>\n",
       "  </tbody>\n",
       "</table>\n",
       "</div>"
      ],
      "text/plain": [
       "  행정구역 국가/지역    위도     경도          날짜  확진자  사망자  회복자\n",
       "0   서울  대한민국  36.0  128.0  2020-01-22  1.0  0.0  0.0"
      ]
     },
     "execution_count": 41,
     "metadata": {},
     "output_type": "execute_result"
    }
   ],
   "source": [
    "# 결측치가 하나라도 있으면 삭제할 것인지(any)\n",
    "korea_data.dropna(how='any')"
   ]
  },
  {
   "cell_type": "code",
   "execution_count": null,
   "id": "43407b6a",
   "metadata": {
    "ExecuteTime": {
     "end_time": "2022-04-24T11:00:10.280147Z",
     "start_time": "2022-04-24T11:00:10.246239Z"
    },
    "id": "43407b6a",
    "outputId": "774f870f-1c27-4e0f-c19e-3537d30bbe81"
   },
   "outputs": [
    {
     "data": {
      "text/html": [
       "<div>\n",
       "<style scoped>\n",
       "    .dataframe tbody tr th:only-of-type {\n",
       "        vertical-align: middle;\n",
       "    }\n",
       "\n",
       "    .dataframe tbody tr th {\n",
       "        vertical-align: top;\n",
       "    }\n",
       "\n",
       "    .dataframe thead th {\n",
       "        text-align: right;\n",
       "    }\n",
       "</style>\n",
       "<table border=\"1\" class=\"dataframe\">\n",
       "  <thead>\n",
       "    <tr style=\"text-align: right;\">\n",
       "      <th></th>\n",
       "      <th>행정구역</th>\n",
       "      <th>국가/지역</th>\n",
       "      <th>위도</th>\n",
       "      <th>경도</th>\n",
       "      <th>날짜</th>\n",
       "      <th>확진자</th>\n",
       "      <th>사망자</th>\n",
       "      <th>회복자</th>\n",
       "    </tr>\n",
       "  </thead>\n",
       "  <tbody>\n",
       "    <tr>\n",
       "      <th>0</th>\n",
       "      <td>서울</td>\n",
       "      <td>대한민국</td>\n",
       "      <td>36.0</td>\n",
       "      <td>128.0</td>\n",
       "      <td>2020-01-22</td>\n",
       "      <td>1.0</td>\n",
       "      <td>0.0</td>\n",
       "      <td>0.0</td>\n",
       "    </tr>\n",
       "    <tr>\n",
       "      <th>1</th>\n",
       "      <td>NaN</td>\n",
       "      <td>대한민국</td>\n",
       "      <td>36.0</td>\n",
       "      <td>128.0</td>\n",
       "      <td>2020-01-23</td>\n",
       "      <td>1.0</td>\n",
       "      <td>0.0</td>\n",
       "      <td>0.0</td>\n",
       "    </tr>\n",
       "    <tr>\n",
       "      <th>2</th>\n",
       "      <td>NaT</td>\n",
       "      <td>대한민국</td>\n",
       "      <td>36.0</td>\n",
       "      <td>128.0</td>\n",
       "      <td>2020-01-24</td>\n",
       "      <td>2.0</td>\n",
       "      <td>0.0</td>\n",
       "      <td>0.0</td>\n",
       "    </tr>\n",
       "    <tr>\n",
       "      <th>3</th>\n",
       "      <td>None</td>\n",
       "      <td>None</td>\n",
       "      <td>NaN</td>\n",
       "      <td>NaN</td>\n",
       "      <td>None</td>\n",
       "      <td>NaN</td>\n",
       "      <td>NaN</td>\n",
       "      <td>0.0</td>\n",
       "    </tr>\n",
       "  </tbody>\n",
       "</table>\n",
       "</div>"
      ],
      "text/plain": [
       "   행정구역 국가/지역    위도     경도          날짜  확진자  사망자  회복자\n",
       "0    서울  대한민국  36.0  128.0  2020-01-22  1.0  0.0  0.0\n",
       "1   NaN  대한민국  36.0  128.0  2020-01-23  1.0  0.0  0.0\n",
       "2   NaT  대한민국  36.0  128.0  2020-01-24  2.0  0.0  0.0\n",
       "3  None  None   NaN    NaN        None  NaN  NaN  0.0"
      ]
     },
     "execution_count": 42,
     "metadata": {},
     "output_type": "execute_result"
    }
   ],
   "source": [
    "# 모든 값이 결측치여야 삭제할 것인지를(all) 결정\n",
    "korea_data.dropna(how='all')"
   ]
  },
  {
   "cell_type": "markdown",
   "id": "9a9f64c2",
   "metadata": {
    "id": "9a9f64c2"
   },
   "source": [
    "#### 결측치 대체\n",
    "- [DataFrame.fillna(self, value=None, method=None, axis=None, inplace=False, limit=None, downcast=None)](https://pandas.pydata.org/pandas-docs/stable/reference/api/pandas.DataFrame.fillna.html)"
   ]
  },
  {
   "cell_type": "code",
   "execution_count": null,
   "id": "cad374d2",
   "metadata": {
    "ExecuteTime": {
     "end_time": "2022-04-24T11:10:41.366756Z",
     "start_time": "2022-04-24T11:10:41.347798Z"
    },
    "id": "cad374d2",
    "outputId": "c0a0370f-ca6e-4581-fba0-de816a0b5bdb"
   },
   "outputs": [
    {
     "data": {
      "text/html": [
       "<div>\n",
       "<style scoped>\n",
       "    .dataframe tbody tr th:only-of-type {\n",
       "        vertical-align: middle;\n",
       "    }\n",
       "\n",
       "    .dataframe tbody tr th {\n",
       "        vertical-align: top;\n",
       "    }\n",
       "\n",
       "    .dataframe thead th {\n",
       "        text-align: right;\n",
       "    }\n",
       "</style>\n",
       "<table border=\"1\" class=\"dataframe\">\n",
       "  <thead>\n",
       "    <tr style=\"text-align: right;\">\n",
       "      <th></th>\n",
       "      <th>행정구역</th>\n",
       "      <th>국가/지역</th>\n",
       "      <th>위도</th>\n",
       "      <th>경도</th>\n",
       "      <th>날짜</th>\n",
       "      <th>확진자</th>\n",
       "      <th>사망자</th>\n",
       "      <th>회복자</th>\n",
       "    </tr>\n",
       "  </thead>\n",
       "  <tbody>\n",
       "    <tr>\n",
       "      <th>0</th>\n",
       "      <td>서울</td>\n",
       "      <td>대한민국</td>\n",
       "      <td>36.0</td>\n",
       "      <td>128.0</td>\n",
       "      <td>2020-01-22</td>\n",
       "      <td>1.0</td>\n",
       "      <td>0.0</td>\n",
       "      <td>0.0</td>\n",
       "    </tr>\n",
       "    <tr>\n",
       "      <th>1</th>\n",
       "      <td>0</td>\n",
       "      <td>대한민국</td>\n",
       "      <td>36.0</td>\n",
       "      <td>128.0</td>\n",
       "      <td>2020-01-23</td>\n",
       "      <td>1.0</td>\n",
       "      <td>0.0</td>\n",
       "      <td>0.0</td>\n",
       "    </tr>\n",
       "    <tr>\n",
       "      <th>2</th>\n",
       "      <td>0</td>\n",
       "      <td>대한민국</td>\n",
       "      <td>36.0</td>\n",
       "      <td>128.0</td>\n",
       "      <td>2020-01-24</td>\n",
       "      <td>2.0</td>\n",
       "      <td>0.0</td>\n",
       "      <td>0.0</td>\n",
       "    </tr>\n",
       "    <tr>\n",
       "      <th>3</th>\n",
       "      <td>0</td>\n",
       "      <td>0</td>\n",
       "      <td>0.0</td>\n",
       "      <td>0.0</td>\n",
       "      <td>0</td>\n",
       "      <td>0.0</td>\n",
       "      <td>0.0</td>\n",
       "      <td>0.0</td>\n",
       "    </tr>\n",
       "    <tr>\n",
       "      <th>4</th>\n",
       "      <td>0</td>\n",
       "      <td>0</td>\n",
       "      <td>0.0</td>\n",
       "      <td>0.0</td>\n",
       "      <td>0</td>\n",
       "      <td>0.0</td>\n",
       "      <td>0.0</td>\n",
       "      <td>0.0</td>\n",
       "    </tr>\n",
       "  </tbody>\n",
       "</table>\n",
       "</div>"
      ],
      "text/plain": [
       "  행정구역 국가/지역    위도     경도          날짜  확진자  사망자  회복자\n",
       "0   서울  대한민국  36.0  128.0  2020-01-22  1.0  0.0  0.0\n",
       "1    0  대한민국  36.0  128.0  2020-01-23  1.0  0.0  0.0\n",
       "2    0  대한민국  36.0  128.0  2020-01-24  2.0  0.0  0.0\n",
       "3    0     0   0.0    0.0           0  0.0  0.0  0.0\n",
       "4    0     0   0.0    0.0           0  0.0  0.0  0.0"
      ]
     },
     "execution_count": 46,
     "metadata": {},
     "output_type": "execute_result"
    }
   ],
   "source": [
    "# 결측치를 원하는 값(고정값)으로 대체 \n",
    "korea_data.fillna(0) # '0' 으로 대체"
   ]
  },
  {
   "cell_type": "code",
   "execution_count": null,
   "id": "13d57a6e",
   "metadata": {
    "ExecuteTime": {
     "end_time": "2022-04-24T11:15:06.159820Z",
     "start_time": "2022-04-24T11:15:06.130390Z"
    },
    "id": "13d57a6e",
    "outputId": "b5e93b1c-5d63-4ad1-939c-26952b476fd9"
   },
   "outputs": [
    {
     "data": {
      "text/html": [
       "<div>\n",
       "<style scoped>\n",
       "    .dataframe tbody tr th:only-of-type {\n",
       "        vertical-align: middle;\n",
       "    }\n",
       "\n",
       "    .dataframe tbody tr th {\n",
       "        vertical-align: top;\n",
       "    }\n",
       "\n",
       "    .dataframe thead th {\n",
       "        text-align: right;\n",
       "    }\n",
       "</style>\n",
       "<table border=\"1\" class=\"dataframe\">\n",
       "  <thead>\n",
       "    <tr style=\"text-align: right;\">\n",
       "      <th></th>\n",
       "      <th>행정구역</th>\n",
       "      <th>국가/지역</th>\n",
       "      <th>위도</th>\n",
       "      <th>경도</th>\n",
       "      <th>날짜</th>\n",
       "      <th>확진자</th>\n",
       "      <th>사망자</th>\n",
       "      <th>회복자</th>\n",
       "    </tr>\n",
       "  </thead>\n",
       "  <tbody>\n",
       "    <tr>\n",
       "      <th>0</th>\n",
       "      <td>서울</td>\n",
       "      <td>대한민국</td>\n",
       "      <td>36.0</td>\n",
       "      <td>128.0</td>\n",
       "      <td>2020-01-22</td>\n",
       "      <td>1.000000</td>\n",
       "      <td>0.0</td>\n",
       "      <td>0.0</td>\n",
       "    </tr>\n",
       "    <tr>\n",
       "      <th>1</th>\n",
       "      <td>NaN</td>\n",
       "      <td>대한민국</td>\n",
       "      <td>36.0</td>\n",
       "      <td>128.0</td>\n",
       "      <td>2020-01-23</td>\n",
       "      <td>1.000000</td>\n",
       "      <td>0.0</td>\n",
       "      <td>0.0</td>\n",
       "    </tr>\n",
       "    <tr>\n",
       "      <th>2</th>\n",
       "      <td>NaT</td>\n",
       "      <td>대한민국</td>\n",
       "      <td>36.0</td>\n",
       "      <td>128.0</td>\n",
       "      <td>2020-01-24</td>\n",
       "      <td>2.000000</td>\n",
       "      <td>0.0</td>\n",
       "      <td>0.0</td>\n",
       "    </tr>\n",
       "    <tr>\n",
       "      <th>3</th>\n",
       "      <td>None</td>\n",
       "      <td>None</td>\n",
       "      <td>NaN</td>\n",
       "      <td>NaN</td>\n",
       "      <td>None</td>\n",
       "      <td>1.333333</td>\n",
       "      <td>NaN</td>\n",
       "      <td>0.0</td>\n",
       "    </tr>\n",
       "    <tr>\n",
       "      <th>4</th>\n",
       "      <td>None</td>\n",
       "      <td>None</td>\n",
       "      <td>NaN</td>\n",
       "      <td>NaN</td>\n",
       "      <td>None</td>\n",
       "      <td>1.333333</td>\n",
       "      <td>NaN</td>\n",
       "      <td>NaN</td>\n",
       "    </tr>\n",
       "  </tbody>\n",
       "</table>\n",
       "</div>"
      ],
      "text/plain": [
       "   행정구역 국가/지역    위도     경도          날짜       확진자  사망자  회복자\n",
       "0    서울  대한민국  36.0  128.0  2020-01-22  1.000000  0.0  0.0\n",
       "1   NaN  대한민국  36.0  128.0  2020-01-23  1.000000  0.0  0.0\n",
       "2   NaT  대한민국  36.0  128.0  2020-01-24  2.000000  0.0  0.0\n",
       "3  None  None   NaN    NaN        None  1.333333  NaN  0.0\n",
       "4  None  None   NaN    NaN        None  1.333333  NaN  NaN"
      ]
     },
     "execution_count": 49,
     "metadata": {},
     "output_type": "execute_result"
    }
   ],
   "source": [
    "# 고정 값이 아닌 원하는 값을 유연하게 입력\n",
    "# 딕셔너리로 칼럼명과 데이터를 넘겨주면 해당 칼럼의 결측치가 데이터로 변경\n",
    "korea_data.fillna({'확진자':korea_data['확진자'].mean()})"
   ]
  },
  {
   "cell_type": "code",
   "execution_count": null,
   "id": "f1ce65a4",
   "metadata": {
    "ExecuteTime": {
     "end_time": "2022-04-24T11:16:06.878158Z",
     "start_time": "2022-04-24T11:16:06.847242Z"
    },
    "id": "f1ce65a4",
    "outputId": "7c6f66f0-b2bd-4359-89cb-b82dbb132616"
   },
   "outputs": [
    {
     "data": {
      "text/html": [
       "<div>\n",
       "<style scoped>\n",
       "    .dataframe tbody tr th:only-of-type {\n",
       "        vertical-align: middle;\n",
       "    }\n",
       "\n",
       "    .dataframe tbody tr th {\n",
       "        vertical-align: top;\n",
       "    }\n",
       "\n",
       "    .dataframe thead th {\n",
       "        text-align: right;\n",
       "    }\n",
       "</style>\n",
       "<table border=\"1\" class=\"dataframe\">\n",
       "  <thead>\n",
       "    <tr style=\"text-align: right;\">\n",
       "      <th></th>\n",
       "      <th>행정구역</th>\n",
       "      <th>국가/지역</th>\n",
       "      <th>위도</th>\n",
       "      <th>경도</th>\n",
       "      <th>날짜</th>\n",
       "      <th>확진자</th>\n",
       "      <th>사망자</th>\n",
       "      <th>회복자</th>\n",
       "    </tr>\n",
       "  </thead>\n",
       "  <tbody>\n",
       "    <tr>\n",
       "      <th>0</th>\n",
       "      <td>서울</td>\n",
       "      <td>대한민국</td>\n",
       "      <td>36.0</td>\n",
       "      <td>128.0</td>\n",
       "      <td>2020-01-22</td>\n",
       "      <td>1.0</td>\n",
       "      <td>0.0</td>\n",
       "      <td>0.0</td>\n",
       "    </tr>\n",
       "    <tr>\n",
       "      <th>1</th>\n",
       "      <td>서울</td>\n",
       "      <td>대한민국</td>\n",
       "      <td>36.0</td>\n",
       "      <td>128.0</td>\n",
       "      <td>2020-01-23</td>\n",
       "      <td>1.0</td>\n",
       "      <td>0.0</td>\n",
       "      <td>0.0</td>\n",
       "    </tr>\n",
       "    <tr>\n",
       "      <th>2</th>\n",
       "      <td>서울</td>\n",
       "      <td>대한민국</td>\n",
       "      <td>36.0</td>\n",
       "      <td>128.0</td>\n",
       "      <td>2020-01-24</td>\n",
       "      <td>2.0</td>\n",
       "      <td>0.0</td>\n",
       "      <td>0.0</td>\n",
       "    </tr>\n",
       "    <tr>\n",
       "      <th>3</th>\n",
       "      <td>서울</td>\n",
       "      <td>대한민국</td>\n",
       "      <td>36.0</td>\n",
       "      <td>128.0</td>\n",
       "      <td>2020-01-24</td>\n",
       "      <td>2.0</td>\n",
       "      <td>0.0</td>\n",
       "      <td>0.0</td>\n",
       "    </tr>\n",
       "    <tr>\n",
       "      <th>4</th>\n",
       "      <td>서울</td>\n",
       "      <td>대한민국</td>\n",
       "      <td>36.0</td>\n",
       "      <td>128.0</td>\n",
       "      <td>2020-01-24</td>\n",
       "      <td>2.0</td>\n",
       "      <td>0.0</td>\n",
       "      <td>0.0</td>\n",
       "    </tr>\n",
       "  </tbody>\n",
       "</table>\n",
       "</div>"
      ],
      "text/plain": [
       "  행정구역 국가/지역    위도     경도          날짜  확진자  사망자  회복자\n",
       "0   서울  대한민국  36.0  128.0  2020-01-22  1.0  0.0  0.0\n",
       "1   서울  대한민국  36.0  128.0  2020-01-23  1.0  0.0  0.0\n",
       "2   서울  대한민국  36.0  128.0  2020-01-24  2.0  0.0  0.0\n",
       "3   서울  대한민국  36.0  128.0  2020-01-24  2.0  0.0  0.0\n",
       "4   서울  대한민국  36.0  128.0  2020-01-24  2.0  0.0  0.0"
      ]
     },
     "execution_count": 50,
     "metadata": {},
     "output_type": "execute_result"
    }
   ],
   "source": [
    "# 앞의 데이터로 뒤의 결측치를 대체하는 ffill,pad\n",
    "# 뒤의 데이터로 앞의 결측치를 대체하는 backfill,bfill\n",
    "korea_data.fillna(method='ffill')"
   ]
  },
  {
   "cell_type": "markdown",
   "id": "e7ab8c94",
   "metadata": {
    "id": "e7ab8c94"
   },
   "source": [
    "#### 결측치 대체 실습"
   ]
  },
  {
   "cell_type": "markdown",
   "id": "4d0bde9e",
   "metadata": {
    "id": "4d0bde9e"
   },
   "source": [
    "- 위 배운 내용을 바탕으로 'korea_data' 데이터프레임의 결측치를 대체해 보시오\n",
    "\n",
    ">- 행정구역 결측치 = 서울  \n",
    ">- 국가/지역 결측치 = 대한민국  \n",
    ">- 확진자 결측치 = 평균값  \n",
    ">- 그 외 결측치 = 앞의 데이터로 대체\n",
    "\n",
    "|      | 행정구역 | 국가/지역 | 위도 |  경도 |       날짜 |   확진자 | 사망자 | 회복자 |\n",
    "| ---: | -------: | --------: | ---: | ----: | ---------: | -------: | -----: | -----: |\n",
    "|    0 |     서울 |  대한민국 | 36.0 | 128.0 | 2020-01-22 | 1.000000 |    0.0 |    0.0 |\n",
    "|    1 |     서울 |  대한민국 | 36.0 | 128.0 | 2020-01-23 | 1.000000 |    0.0 |    0.0 |\n",
    "|    2 |     서울 |  대한민국 | 36.0 | 128.0 | 2020-01-24 | 2.000000 |    0.0 |    0.0 |\n",
    "|    3 |     서울 |  대한민국 | 36.0 | 128.0 | 2020-01-24 | 1.333333 |    0.0 |    0.0 |\n",
    "|    4 |     서울 |  대한민국 | 36.0 | 128.0 | 2020-01-24 | 1.333333 |    0.0 |    0.0 |\n",
    "\n"
   ]
  },
  {
   "cell_type": "code",
   "execution_count": null,
   "id": "78ddfccc",
   "metadata": {
    "ExecuteTime": {
     "end_time": "2022-04-24T11:21:32.989466Z",
     "start_time": "2022-04-24T11:21:32.972511Z"
    },
    "id": "78ddfccc",
    "outputId": "3a185ab5-c6d2-4833-b0bf-5fea77c86a43"
   },
   "outputs": [
    {
     "data": {
      "text/html": [
       "<div>\n",
       "<style scoped>\n",
       "    .dataframe tbody tr th:only-of-type {\n",
       "        vertical-align: middle;\n",
       "    }\n",
       "\n",
       "    .dataframe tbody tr th {\n",
       "        vertical-align: top;\n",
       "    }\n",
       "\n",
       "    .dataframe thead th {\n",
       "        text-align: right;\n",
       "    }\n",
       "</style>\n",
       "<table border=\"1\" class=\"dataframe\">\n",
       "  <thead>\n",
       "    <tr style=\"text-align: right;\">\n",
       "      <th></th>\n",
       "      <th>행정구역</th>\n",
       "      <th>국가/지역</th>\n",
       "      <th>위도</th>\n",
       "      <th>경도</th>\n",
       "      <th>날짜</th>\n",
       "      <th>확진자</th>\n",
       "      <th>사망자</th>\n",
       "      <th>회복자</th>\n",
       "    </tr>\n",
       "  </thead>\n",
       "  <tbody>\n",
       "    <tr>\n",
       "      <th>0</th>\n",
       "      <td>서울</td>\n",
       "      <td>대한민국</td>\n",
       "      <td>36.0</td>\n",
       "      <td>128.0</td>\n",
       "      <td>2020-01-22</td>\n",
       "      <td>1.000000</td>\n",
       "      <td>0.0</td>\n",
       "      <td>0.0</td>\n",
       "    </tr>\n",
       "    <tr>\n",
       "      <th>1</th>\n",
       "      <td>서울</td>\n",
       "      <td>대한민국</td>\n",
       "      <td>36.0</td>\n",
       "      <td>128.0</td>\n",
       "      <td>2020-01-23</td>\n",
       "      <td>1.000000</td>\n",
       "      <td>0.0</td>\n",
       "      <td>0.0</td>\n",
       "    </tr>\n",
       "    <tr>\n",
       "      <th>2</th>\n",
       "      <td>서울</td>\n",
       "      <td>대한민국</td>\n",
       "      <td>36.0</td>\n",
       "      <td>128.0</td>\n",
       "      <td>2020-01-24</td>\n",
       "      <td>2.000000</td>\n",
       "      <td>0.0</td>\n",
       "      <td>0.0</td>\n",
       "    </tr>\n",
       "    <tr>\n",
       "      <th>3</th>\n",
       "      <td>서울</td>\n",
       "      <td>대한민국</td>\n",
       "      <td>36.0</td>\n",
       "      <td>128.0</td>\n",
       "      <td>2020-01-24</td>\n",
       "      <td>1.333333</td>\n",
       "      <td>0.0</td>\n",
       "      <td>0.0</td>\n",
       "    </tr>\n",
       "    <tr>\n",
       "      <th>4</th>\n",
       "      <td>서울</td>\n",
       "      <td>대한민국</td>\n",
       "      <td>36.0</td>\n",
       "      <td>128.0</td>\n",
       "      <td>2020-01-24</td>\n",
       "      <td>1.333333</td>\n",
       "      <td>0.0</td>\n",
       "      <td>0.0</td>\n",
       "    </tr>\n",
       "  </tbody>\n",
       "</table>\n",
       "</div>"
      ],
      "text/plain": [
       "  행정구역 국가/지역    위도     경도          날짜       확진자  사망자  회복자\n",
       "0   서울  대한민국  36.0  128.0  2020-01-22  1.000000  0.0  0.0\n",
       "1   서울  대한민국  36.0  128.0  2020-01-23  1.000000  0.0  0.0\n",
       "2   서울  대한민국  36.0  128.0  2020-01-24  2.000000  0.0  0.0\n",
       "3   서울  대한민국  36.0  128.0  2020-01-24  1.333333  0.0  0.0\n",
       "4   서울  대한민국  36.0  128.0  2020-01-24  1.333333  0.0  0.0"
      ]
     },
     "execution_count": 51,
     "metadata": {},
     "output_type": "execute_result"
    }
   ],
   "source": [
    "korea_data.fillna({'행정구역':'서울',\n",
    "                   '국가/지역':'대한민국',\n",
    "                   '확진자':korea_data['확진자'].mean()},\n",
    "                  inplace=True)\n",
    "korea_data.fillna(method='ffill')"
   ]
  },
  {
   "cell_type": "code",
   "execution_count": null,
   "id": "596ed01c",
   "metadata": {
    "id": "596ed01c"
   },
   "outputs": [],
   "source": []
  },
  {
   "cell_type": "code",
   "execution_count": null,
   "id": "e8AfmFG1WSlb",
   "metadata": {
    "id": "e8AfmFG1WSlb"
   },
   "outputs": [],
   "source": []
  },
  {
   "cell_type": "code",
   "execution_count": null,
   "id": "1AohiP_fB0uj",
   "metadata": {
    "id": "1AohiP_fB0uj"
   },
   "outputs": [],
   "source": []
  },
  {
   "cell_type": "markdown",
   "id": "SgZGly_7_yPT",
   "metadata": {
    "id": "SgZGly_7_yPT"
   },
   "source": [
    "### 데이터 시각화 (matplotlib)"
   ]
  },
  {
   "cell_type": "markdown",
   "id": "ljuXMnBcQHIn",
   "metadata": {
    "id": "ljuXMnBcQHIn"
   },
   "source": [
    "#### line 차트"
   ]
  },
  {
   "cell_type": "code",
   "execution_count": null,
   "id": "VJJ-hAjI8N1x",
   "metadata": {
    "colab": {
     "base_uri": "https://localhost:8080/",
     "height": 265
    },
    "executionInfo": {
     "elapsed": 1501,
     "status": "ok",
     "timestamp": 1650866133191,
     "user": {
      "displayName": "서명교",
      "userId": "11730583039526359700"
     },
     "user_tz": -540
    },
    "id": "VJJ-hAjI8N1x",
    "outputId": "ea088329-b067-47f1-8bfa-5ce9d5da8aa6"
   },
   "outputs": [
    {
     "data": {
      "image/png": "[encoded data removed]",
      "text/plain": [
       "<Figure size 432x288 with 2 Axes>"
      ]
     },
     "metadata": {
      "needs_background": "light"
     },
     "output_type": "display_data"
    }
   ],
   "source": [
    "import matplotlib.pyplot as plt \n",
    "\n",
    "fig = plt.figure()\n",
    "subplot1 = fig.add_subplot(1, 2, 1)  # 1행 1열의 액자에 첫 번째 종이를 만들라는 뜻\n",
    "subplot2 = fig.add_subplot(1, 2, 2)  # 1행 2열 형태로 종이를 붙이고 그중에 두번째 종이\n",
    "subplot1.plot([1, 2, 3, 4])\n",
    "subplot2.plot([4, 3, 2, 1])\n",
    "plt.show()"
   ]
  },
  {
   "cell_type": "code",
   "execution_count": null,
   "id": "d84186ce",
   "metadata": {
    "colab": {
     "base_uri": "https://localhost:8080/",
     "height": 265
    },
    "executionInfo": {
     "elapsed": 1459,
     "status": "ok",
     "timestamp": 1650866139218,
     "user": {
      "displayName": "서명교",
      "userId": "11730583039526359700"
     },
     "user_tz": -540
    },
    "id": "d84186ce",
    "outputId": "41545636-4c17-40cc-930d-efa4fcece084"
   },
   "outputs": [
    {
     "data": {
      "image/png": "[encoded data removed]",
      "text/plain": [
       "<Figure size 432x288 with 4 Axes>"
      ]
     },
     "metadata": {
      "needs_background": "light"
     },
     "output_type": "display_data"
    }
   ],
   "source": [
    "fig, axes = plt.subplots(2, 2)\n",
    "\n",
    "axes[0][0].plot([1, 2, 3, 4])\n",
    "axes[0][1].plot([4, 3, 2, 1])\n",
    "axes[1][0].plot([1, 2, 2, 1])\n",
    "axes[1][1].plot([2, 1, 1, 2])\n",
    "plt.show()"
   ]
  },
  {
   "cell_type": "markdown",
   "id": "d6SnsQPvQK6l",
   "metadata": {
    "id": "d6SnsQPvQK6l"
   },
   "source": [
    "#### bar 차트"
   ]
  },
  {
   "cell_type": "code",
   "execution_count": null,
   "id": "secczqwKA8yS",
   "metadata": {
    "colab": {
     "base_uri": "https://localhost:8080/",
     "height": 265
    },
    "executionInfo": {
     "elapsed": 428,
     "status": "ok",
     "timestamp": 1650866141282,
     "user": {
      "displayName": "서명교",
      "userId": "11730583039526359700"
     },
     "user_tz": -540
    },
    "id": "secczqwKA8yS",
    "outputId": "e8e6c832-5b85-4dd9-ca0f-e654a9baf98f"
   },
   "outputs": [
    {
     "data": {
      "image/png": "[encoded data removed]",
      "text/plain": [
       "<Figure size 432x288 with 1 Axes>"
      ]
     },
     "metadata": {
      "needs_background": "light"
     },
     "output_type": "display_data"
    }
   ],
   "source": [
    "plt.bar([1, 3, 5, 7, 9], [2, 3, 2, 2, 8])\n",
    "plt.show()"
   ]
  },
  {
   "cell_type": "markdown",
   "id": "TA09ANNlQRQT",
   "metadata": {
    "id": "TA09ANNlQRQT"
   },
   "source": [
    "#### hist 차트"
   ]
  },
  {
   "cell_type": "code",
   "execution_count": null,
   "id": "PEFcetWbA8o7",
   "metadata": {
    "colab": {
     "base_uri": "https://localhost:8080/",
     "height": 265
    },
    "executionInfo": {
     "elapsed": 733,
     "status": "ok",
     "timestamp": 1650866144341,
     "user": {
      "displayName": "서명교",
      "userId": "11730583039526359700"
     },
     "user_tz": -540
    },
    "id": "PEFcetWbA8o7",
    "outputId": "00e26f60-ae77-4888-d64a-4115412248da"
   },
   "outputs": [
    {
     "data": {
      "image/png": "[encoded data removed]",
      "text/plain": [
       "<Figure size 432x288 with 1 Axes>"
      ]
     },
     "metadata": {
      "needs_background": "light"
     },
     "output_type": "display_data"
    }
   ],
   "source": [
    "data = [1, 2, 2, 3, 3, 3, 4, 4, 4, 4]   # 1이 1개, 2가 2개, 3이 3개, 4가 4개\n",
    "plt.hist(data)\n",
    "plt.show()"
   ]
  },
  {
   "cell_type": "markdown",
   "id": "a3cc1b8f",
   "metadata": {},
   "source": [
    "# =================================================="
   ]
  },
  {
   "cell_type": "markdown",
   "id": "9KhweX4_R_RP",
   "metadata": {
    "id": "9KhweX4_R_RP"
   },
   "source": [
    "#### heatmap (주류 데이터 상관관계)"
   ]
  },
  {
   "cell_type": "code",
   "execution_count": null,
   "id": "YgTCKw_XA8lr",
   "metadata": {
    "colab": {
     "base_uri": "https://localhost:8080/"
    },
    "executionInfo": {
     "elapsed": 274,
     "status": "ok",
     "timestamp": 1650866147276,
     "user": {
      "displayName": "서명교",
      "userId": "11730583039526359700"
     },
     "user_tz": -540
    },
    "id": "YgTCKw_XA8lr",
    "outputId": "8e515dad-caf6-46ef-ff3a-a0254be95db3"
   },
   "outputs": [
    {
     "name": "stderr",
     "output_type": "stream",
     "text": [
      "/usr/local/lib/python3.7/dist-packages/IPython/core/interactiveshell.py:2882: FutureWarning: In a future version of pandas all arguments of read_csv except for the argument 'filepath_or_buffer' will be keyword-only\n",
      "  exec(code_obj, self.user_global_ns, self.user_ns)\n"
     ]
    }
   ],
   "source": [
    "url = 'https://raw.githubusercontent.com/justmarkham/DAT8/master/data/drinks.csv'\n",
    "drink_df = pd.read_csv(url, ',')"
   ]
  },
  {
   "cell_type": "code",
   "execution_count": null,
   "id": "6e3c1949",
   "metadata": {
    "ExecuteTime": {
     "end_time": "2022-04-28T02:30:22.676387Z",
     "start_time": "2022-04-28T02:30:22.323330Z"
    },
    "id": "6e3c1949",
    "outputId": "3308a958-f956-4576-a08a-4b3e4906ecaa"
   },
   "outputs": [
    {
     "data": {
      "text/html": [
       "<div>\n",
       "<style scoped>\n",
       "    .dataframe tbody tr th:only-of-type {\n",
       "        vertical-align: middle;\n",
       "    }\n",
       "\n",
       "    .dataframe tbody tr th {\n",
       "        vertical-align: top;\n",
       "    }\n",
       "\n",
       "    .dataframe thead th {\n",
       "        text-align: right;\n",
       "    }\n",
       "</style>\n",
       "<table border=\"1\" class=\"dataframe\">\n",
       "  <thead>\n",
       "    <tr style=\"text-align: right;\">\n",
       "      <th></th>\n",
       "      <th>행정구역</th>\n",
       "      <th>국가/지역</th>\n",
       "      <th>위도</th>\n",
       "      <th>경도</th>\n",
       "      <th>날짜</th>\n",
       "      <th>확진자</th>\n",
       "      <th>사망자</th>\n",
       "      <th>회복자</th>\n",
       "    </tr>\n",
       "  </thead>\n",
       "  <tbody>\n",
       "    <tr>\n",
       "      <th>0</th>\n",
       "      <td>안후이성</td>\n",
       "      <td>중국</td>\n",
       "      <td>31.8257</td>\n",
       "      <td>117.2264</td>\n",
       "      <td>2020-01-22</td>\n",
       "      <td>1</td>\n",
       "      <td>0</td>\n",
       "      <td>0</td>\n",
       "    </tr>\n",
       "    <tr>\n",
       "      <th>1</th>\n",
       "      <td>베이징시</td>\n",
       "      <td>중국</td>\n",
       "      <td>40.1824</td>\n",
       "      <td>116.4142</td>\n",
       "      <td>2020-01-22</td>\n",
       "      <td>14</td>\n",
       "      <td>0</td>\n",
       "      <td>0</td>\n",
       "    </tr>\n",
       "    <tr>\n",
       "      <th>2</th>\n",
       "      <td>충칭시</td>\n",
       "      <td>중국</td>\n",
       "      <td>30.0572</td>\n",
       "      <td>107.8740</td>\n",
       "      <td>2020-01-22</td>\n",
       "      <td>6</td>\n",
       "      <td>0</td>\n",
       "      <td>0</td>\n",
       "    </tr>\n",
       "    <tr>\n",
       "      <th>3</th>\n",
       "      <td>푸젠성</td>\n",
       "      <td>중국</td>\n",
       "      <td>26.0789</td>\n",
       "      <td>117.9874</td>\n",
       "      <td>2020-01-22</td>\n",
       "      <td>1</td>\n",
       "      <td>0</td>\n",
       "      <td>0</td>\n",
       "    </tr>\n",
       "    <tr>\n",
       "      <th>4</th>\n",
       "      <td>간쑤성</td>\n",
       "      <td>중국</td>\n",
       "      <td>36.0611</td>\n",
       "      <td>103.8343</td>\n",
       "      <td>2020-01-22</td>\n",
       "      <td>0</td>\n",
       "      <td>0</td>\n",
       "      <td>0</td>\n",
       "    </tr>\n",
       "    <tr>\n",
       "      <th>...</th>\n",
       "      <td>...</td>\n",
       "      <td>...</td>\n",
       "      <td>...</td>\n",
       "      <td>...</td>\n",
       "      <td>...</td>\n",
       "      <td>...</td>\n",
       "      <td>...</td>\n",
       "      <td>...</td>\n",
       "    </tr>\n",
       "    <tr>\n",
       "      <th>6875</th>\n",
       "      <td>NaN</td>\n",
       "      <td>지브롤터</td>\n",
       "      <td>36.1408</td>\n",
       "      <td>-5.3536</td>\n",
       "      <td>2020-03-04</td>\n",
       "      <td>1</td>\n",
       "      <td>0</td>\n",
       "      <td>0</td>\n",
       "    </tr>\n",
       "    <tr>\n",
       "      <th>6876</th>\n",
       "      <td>NaN</td>\n",
       "      <td>설명리히텐슈타인</td>\n",
       "      <td>47.1400</td>\n",
       "      <td>9.5500</td>\n",
       "      <td>2020-03-04</td>\n",
       "      <td>1</td>\n",
       "      <td>0</td>\n",
       "      <td>0</td>\n",
       "    </tr>\n",
       "    <tr>\n",
       "      <th>6877</th>\n",
       "      <td>NaN</td>\n",
       "      <td>폴란드</td>\n",
       "      <td>51.9194</td>\n",
       "      <td>19.1451</td>\n",
       "      <td>2020-03-04</td>\n",
       "      <td>1</td>\n",
       "      <td>0</td>\n",
       "      <td>0</td>\n",
       "    </tr>\n",
       "    <tr>\n",
       "      <th>6878</th>\n",
       "      <td>NaN</td>\n",
       "      <td>투니시아</td>\n",
       "      <td>34.0000</td>\n",
       "      <td>9.0000</td>\n",
       "      <td>2020-03-04</td>\n",
       "      <td>1</td>\n",
       "      <td>0</td>\n",
       "      <td>0</td>\n",
       "    </tr>\n",
       "    <tr>\n",
       "      <th>6879</th>\n",
       "      <td>설명컨트라코스타 카운티, CA</td>\n",
       "      <td>미국</td>\n",
       "      <td>37.8534</td>\n",
       "      <td>-121.9018</td>\n",
       "      <td>2020-03-04</td>\n",
       "      <td>1</td>\n",
       "      <td>0</td>\n",
       "      <td>0</td>\n",
       "    </tr>\n",
       "  </tbody>\n",
       "</table>\n",
       "<p>6880 rows × 8 columns</p>\n",
       "</div>"
      ],
      "text/plain": [
       "                  행정구역     국가/지역       위도        경도          날짜  확진자  사망자  회복자\n",
       "0                 안후이성        중국  31.8257  117.2264  2020-01-22    1    0    0\n",
       "1                 베이징시        중국  40.1824  116.4142  2020-01-22   14    0    0\n",
       "2                  충칭시        중국  30.0572  107.8740  2020-01-22    6    0    0\n",
       "3                  푸젠성        중국  26.0789  117.9874  2020-01-22    1    0    0\n",
       "4                  간쑤성        중국  36.0611  103.8343  2020-01-22    0    0    0\n",
       "...                ...       ...      ...       ...         ...  ...  ...  ...\n",
       "6875               NaN      지브롤터  36.1408   -5.3536  2020-03-04    1    0    0\n",
       "6876               NaN  설명리히텐슈타인  47.1400    9.5500  2020-03-04    1    0    0\n",
       "6877               NaN       폴란드  51.9194   19.1451  2020-03-04    1    0    0\n",
       "6878               NaN      투니시아  34.0000    9.0000  2020-03-04    1    0    0\n",
       "6879  설명컨트라코스타 카운티, CA        미국  37.8534 -121.9018  2020-03-04    1    0    0\n",
       "\n",
       "[6880 rows x 8 columns]"
      ]
     },
     "execution_count": 149,
     "metadata": {},
     "output_type": "execute_result"
    }
   ],
   "source": [
    "# 해당하는 데이터의 raw 까지 들어가서 주소를 복사해 와야한다. (gitbub-> csv 파일 들어간 후 raw버튼 클릭 주소복사) \n",
    "url = 'https://raw.githubusercontent.com/Myeong1234/python_lecture/main/COVID-19_Korean%20(1).csv'\n",
    "qwe_df = pd.read_csv(url, ',')\n",
    "qwe_df"
   ]
  },
  {
   "cell_type": "code",
   "execution_count": null,
   "id": "gDdMHgLvA8iw",
   "metadata": {
    "colab": {
     "base_uri": "https://localhost:8080/"
    },
    "executionInfo": {
     "elapsed": 287,
     "status": "ok",
     "timestamp": 1650866149239,
     "user": {
      "displayName": "서명교",
      "userId": "11730583039526359700"
     },
     "user_tz": -540
    },
    "id": "gDdMHgLvA8iw",
    "outputId": "a14447b2-581b-4e23-826c-3e169a1b9dbe"
   },
   "outputs": [
    {
     "data": {
      "text/plain": [
       "Index(['country', 'beer_servings', 'spirit_servings', 'wine_servings',\n",
       "       'total_litres_of_pure_alcohol', 'continent'],\n",
       "      dtype='object')"
      ]
     },
     "execution_count": 7,
     "metadata": {},
     "output_type": "execute_result"
    }
   ],
   "source": [
    "drink_df.columns"
   ]
  },
  {
   "cell_type": "code",
   "execution_count": null,
   "id": "3XBDCVMGA8X2",
   "metadata": {
    "colab": {
     "base_uri": "https://localhost:8080/",
     "height": 175
    },
    "executionInfo": {
     "elapsed": 249,
     "status": "ok",
     "timestamp": 1650866211279,
     "user": {
      "displayName": "서명교",
      "userId": "11730583039526359700"
     },
     "user_tz": -540
    },
    "id": "3XBDCVMGA8X2",
    "outputId": "622fb208-fa35-4c00-cfd0-76202cf9516b"
   },
   "outputs": [
    {
     "data": {
      "text/html": [
       "\n",
       "  <div id=\"df-0d5beb6b-c455-4143-bad6-9457c2529374\">\n",
       "    <div class=\"colab-df-container\">\n",
       "      <div>\n",
       "<style scoped>\n",
       "    .dataframe tbody tr th:only-of-type {\n",
       "        vertical-align: middle;\n",
       "    }\n",
       "\n",
       "    .dataframe tbody tr th {\n",
       "        vertical-align: top;\n",
       "    }\n",
       "\n",
       "    .dataframe thead th {\n",
       "        text-align: right;\n",
       "    }\n",
       "</style>\n",
       "<table border=\"1\" class=\"dataframe\">\n",
       "  <thead>\n",
       "    <tr style=\"text-align: right;\">\n",
       "      <th></th>\n",
       "      <th>beer_servings</th>\n",
       "      <th>spirit_servings</th>\n",
       "      <th>wine_servings</th>\n",
       "      <th>total_litres_of_pure_alcohol</th>\n",
       "    </tr>\n",
       "  </thead>\n",
       "  <tbody>\n",
       "    <tr>\n",
       "      <th>beer_servings</th>\n",
       "      <td>1.000000</td>\n",
       "      <td>0.458819</td>\n",
       "      <td>0.527172</td>\n",
       "      <td>0.835839</td>\n",
       "    </tr>\n",
       "    <tr>\n",
       "      <th>spirit_servings</th>\n",
       "      <td>0.458819</td>\n",
       "      <td>1.000000</td>\n",
       "      <td>0.194797</td>\n",
       "      <td>0.654968</td>\n",
       "    </tr>\n",
       "    <tr>\n",
       "      <th>wine_servings</th>\n",
       "      <td>0.527172</td>\n",
       "      <td>0.194797</td>\n",
       "      <td>1.000000</td>\n",
       "      <td>0.667598</td>\n",
       "    </tr>\n",
       "    <tr>\n",
       "      <th>total_litres_of_pure_alcohol</th>\n",
       "      <td>0.835839</td>\n",
       "      <td>0.654968</td>\n",
       "      <td>0.667598</td>\n",
       "      <td>1.000000</td>\n",
       "    </tr>\n",
       "  </tbody>\n",
       "</table>\n",
       "</div>\n",
       "      <button class=\"colab-df-convert\" onclick=\"convertToInteractive('df-0d5beb6b-c455-4143-bad6-9457c2529374')\"\n",
       "              title=\"Convert this dataframe to an interactive table.\"\n",
       "              style=\"display:none;\">\n",
       "        \n",
       "  <svg xmlns=\"http://www.w3.org/2000/svg\" height=\"24px\"viewBox=\"0 0 24 24\"\n",
       "       width=\"24px\">\n",
       "    <path d=\"M0 0h24v24H0V0z\" fill=\"none\"/>\n",
       "    <path d=\"M18.56 5.44l.94 2.06.94-2.06 2.06-.94-2.06-.94-.94-2.06-.94 2.06-2.06.94zm-11 1L8.5 8.5l.94-2.06 2.06-.94-2.06-.94L8.5 2.5l-.94 2.06-2.06.94zm10 10l.94 2.06.94-2.06 2.06-.94-2.06-.94-.94-2.06-.94 2.06-2.06.94z\"/><path d=\"M17.41 7.96l-1.37-1.37c-.4-.4-.92-.59-1.43-.59-.52 0-1.04.2-1.43.59L10.3 9.45l-7.72 7.72c-.78.78-.78 2.05 0 2.83L4 21.41c.39.39.9.59 1.41.59.51 0 1.02-.2 1.41-.59l7.78-7.78 2.81-2.81c.8-.78.8-2.07 0-2.86zM5.41 20L4 18.59l7.72-7.72 1.47 1.35L5.41 20z\"/>\n",
       "  </svg>\n",
       "      </button>\n",
       "      \n",
       "  <style>\n",
       "    .colab-df-container {\n",
       "      display:flex;\n",
       "      flex-wrap:wrap;\n",
       "      gap: 12px;\n",
       "    }\n",
       "\n",
       "    .colab-df-convert {\n",
       "      background-color: #E8F0FE;\n",
       "      border: none;\n",
       "      border-radius: 50%;\n",
       "      cursor: pointer;\n",
       "      display: none;\n",
       "      fill: #1967D2;\n",
       "      height: 32px;\n",
       "      padding: 0 0 0 0;\n",
       "      width: 32px;\n",
       "    }\n",
       "\n",
       "    .colab-df-convert:hover {\n",
       "      background-color: #E2EBFA;\n",
       "      box-shadow: 0px 1px 2px rgba(60, 64, 67, 0.3), 0px 1px 3px 1px rgba(60, 64, 67, 0.15);\n",
       "      fill: #174EA6;\n",
       "    }\n",
       "\n",
       "    [theme=dark] .colab-df-convert {\n",
       "      background-color: #3B4455;\n",
       "      fill: #D2E3FC;\n",
       "    }\n",
       "\n",
       "    [theme=dark] .colab-df-convert:hover {\n",
       "      background-color: #434B5C;\n",
       "      box-shadow: 0px 1px 3px 1px rgba(0, 0, 0, 0.15);\n",
       "      filter: drop-shadow(0px 1px 2px rgba(0, 0, 0, 0.3));\n",
       "      fill: #FFFFFF;\n",
       "    }\n",
       "  </style>\n",
       "\n",
       "      <script>\n",
       "        const buttonEl =\n",
       "          document.querySelector('#df-0d5beb6b-c455-4143-bad6-9457c2529374 button.colab-df-convert');\n",
       "        buttonEl.style.display =\n",
       "          google.colab.kernel.accessAllowed ? 'block' : 'none';\n",
       "\n",
       "        async function convertToInteractive(key) {\n",
       "          const element = document.querySelector('#df-0d5beb6b-c455-4143-bad6-9457c2529374');\n",
       "          const dataTable =\n",
       "            await google.colab.kernel.invokeFunction('convertToInteractive',\n",
       "                                                     [key], {});\n",
       "          if (!dataTable) return;\n",
       "\n",
       "          const docLinkHtml = 'Like what you see? Visit the ' +\n",
       "            '<a target=\"_blank\" href=https://colab.research.google.com/notebooks/data_table.ipynb>data table notebook</a>'\n",
       "            + ' to learn more about interactive tables.';\n",
       "          element.innerHTML = '';\n",
       "          dataTable['output_type'] = 'display_data';\n",
       "          await google.colab.output.renderOutput(dataTable, element);\n",
       "          const docLink = document.createElement('div');\n",
       "          docLink.innerHTML = docLinkHtml;\n",
       "          element.appendChild(docLink);\n",
       "        }\n",
       "      </script>\n",
       "    </div>\n",
       "  </div>\n",
       "  "
      ],
      "text/plain": [
       "                              beer_servings  spirit_servings  wine_servings  \\\n",
       "beer_servings                      1.000000         0.458819       0.527172   \n",
       "spirit_servings                    0.458819         1.000000       0.194797   \n",
       "wine_servings                      0.527172         0.194797       1.000000   \n",
       "total_litres_of_pure_alcohol       0.835839         0.654968       0.667598   \n",
       "\n",
       "                              total_litres_of_pure_alcohol  \n",
       "beer_servings                                     0.835839  \n",
       "spirit_servings                                   0.654968  \n",
       "wine_servings                                     0.667598  \n",
       "total_litres_of_pure_alcohol                      1.000000  "
      ]
     },
     "execution_count": 10,
     "metadata": {},
     "output_type": "execute_result"
    }
   ],
   "source": [
    "cols = ['beer_servings', 'spirit_servings', 'wine_servings', 'total_litres_of_pure_alcohol']\n",
    "corr = drink_df[cols].corr(method='pearson')\n",
    "corr"
   ]
  },
  {
   "cell_type": "code",
   "execution_count": null,
   "id": "3KUAfYbJA8Vd",
   "metadata": {
    "id": "3KUAfYbJA8Vd"
   },
   "outputs": [],
   "source": [
    "corr_column_names = ['beer', 'spirit', 'wine', 'alcohol']"
   ]
  },
  {
   "cell_type": "code",
   "execution_count": null,
   "id": "6mRvZ00SSMzN",
   "metadata": {
    "colab": {
     "base_uri": "https://localhost:8080/",
     "height": 280
    },
    "executionInfo": {
     "elapsed": 1402,
     "status": "ok",
     "timestamp": 1650866246239,
     "user": {
      "displayName": "서명교",
      "userId": "11730583039526359700"
     },
     "user_tz": -540
    },
    "id": "6mRvZ00SSMzN",
    "outputId": "78d5cb7c-16ff-4635-b309-f6ef47808afe"
   },
   "outputs": [
    {
     "data": {
      "image/png": "[encoded data removed]",
      "text/plain": [
       "<Figure size 432x288 with 2 Axes>"
      ]
     },
     "metadata": {},
     "output_type": "display_data"
    }
   ],
   "source": [
    "# heatmap\n",
    "import seaborn as sns\n",
    "\n",
    "sns.set(font_scale=1.5)\n",
    "hm = sns.heatmap(corr.values,\n",
    "                    cbar=True,  #오른쪽에 있는 막대(범주)를 표시\n",
    "                    annot=True,  #상관계수를 표시\n",
    "                    square=True, # 정사각형으로 지정하는 것이며, False로 설정 시 직사각형이 됨\n",
    "                    fmt='.2f', #상관계수의 소수점 자리수를 지정\n",
    "                    annot_kws={'size': 15}, # 상관계수의 글자 크기를 지정\n",
    "                    yticklabels=corr_column_names, # y축 레이블 값\n",
    "                    xticklabels=corr_column_names) # x축 레이블 값\n",
    "plt.title('Drink Correlation Coefficient')\n",
    "plt.tight_layout()\n",
    "plt.show()\n",
    "\n",
    "\"\"\"\n",
    "피어슨의 상관계수는 일반적으로\n",
    "-값이 -1.0 ~ -0.7 이면, 강한 음적 상관관계\n",
    "-값이 -0.7 ~ -0.3 이면, 뚜렷한 음적 상관관계\n",
    "-값이 -0.3 ~ -0.1 이면, 약한 음적 상관관계\n",
    "-값이 -0.1 ~ +0.1 이면, 없다고 할 수 있는 상관관계\n",
    "-값이 +0.1 ~ +0.3 이면, 약한 양적 상관관계\n",
    "-값이 +0.3 ~ +0.7 이면, 뚜렷한 양적 상관관계\n",
    "-값이 +0.7 ~ +1.0 이면, 강한 양적 상관관계\n",
    "\"\"\""
   ]
  },
  {
   "cell_type": "code",
   "execution_count": null,
   "id": "qcoNr2CzSMrz",
   "metadata": {
    "colab": {
     "base_uri": "https://localhost:8080/",
     "height": 724
    },
    "executionInfo": {
     "elapsed": 17088,
     "status": "ok",
     "timestamp": 1650874199226,
     "user": {
      "displayName": "서명교",
      "userId": "11730583039526359700"
     },
     "user_tz": -540
    },
    "id": "qcoNr2CzSMrz",
    "outputId": "7c6fdead-a99f-40f8-94c8-3e0cfacaa28d"
   },
   "outputs": [
    {
     "data": {
      "image/png": "[encoded data removed]",
      "text/plain": [
       "<Figure size 720x720 with 20 Axes>"
      ]
     },
     "metadata": {},
     "output_type": "display_data"
    }
   ],
   "source": [
    "# pairplot 선형\n",
    "sns.set(style='whitegrid')\n",
    "sns.pairplot(drink_df[['beer_servings', 'spirit_servings', \n",
    "                     'wine_servings', 'total_litres_of_pure_alcohol']],kind='reg')\n",
    "#plt.title('Drink Pair Plot')\n",
    "plt.show()"
   ]
  },
  {
   "cell_type": "markdown",
   "id": "8ZaabMvlUxVu",
   "metadata": {
    "id": "8ZaabMvlUxVu"
   },
   "source": [
    "#### 다른 시각화 방법 (https://dining-developer.tistory.com/30) 참고"
   ]
  },
  {
   "cell_type": "code",
   "execution_count": null,
   "id": "MGQxOXYGSMpW",
   "metadata": {
    "id": "MGQxOXYGSMpW"
   },
   "outputs": [],
   "source": []
  },
  {
   "cell_type": "markdown",
   "id": "0ebcfdce",
   "metadata": {
    "id": "0ebcfdce"
   },
   "source": [
    "### 실습 Merge & KRX API 활용 스크래핑\n",
    " - https://pandas.pydata.org/docs/reference/api/pandas.DataFrame.merge.html 참고\n",
    " - DataFrame.merge(right, how='inner', on=None, left_on=None, right_on=None, \n",
    "   left_index=False, right_index=False, sort=False, suffixes=('_x', '_y'), copy=True, indicator=False, validate=None)\n",
    " - KRX 스크래핑 정리된 깃허브 https://github.com/sharebook-kr/pykrx 참고"
   ]
  },
  {
   "cell_type": "markdown",
   "id": "d13f1cdb",
   "metadata": {
    "id": "d13f1cdb"
   },
   "source": [
    "### 실습\n",
    "- 참고 스크래핑을 많이 할 시(반복문)에는 time.sleep(1)을 주어 아이피 차단 당하지 않도록 주의한다.\n",
    "- KRX 스크래핑을 활용하여 2020년 4월 20일에 KOSPI 시장의 티커를 받아오기.\n",
    "1. 티커 중 앞에서 10번째부터 20번째까지 티커 ticker 저장하기\n",
    "2. ticker-> 2020년 4월 (시가/고가/저가/종가/거래량)정보 받아와 df_ohlcv 저장하기 (칼럼은 날짜/시가/고가/저가/종가/거래량/티커)\n",
    "3. ticker-> 2020년 4월 20일 (PER/EPS/PBR)정보 받아와 df_fundamental 저장하기 (칼럼 PER/EPS/PBR/티커)\n",
    "4. df_fundamental에서 각 종목별로 그래프 그려보기\n",
    "5. get_market_trading_volume_by_date을 활용하여 거래 실적 중 (4월 한달) 연기금 데이터  받아오고 df_purchases_of_equities에 저장\n",
    "6. df_purchases_of_equities의 칼럼을 ['연기금','외국인','은행'] 저장하기\n",
    "7. 코스피 200 ohlcv 받아와 종가 컬럼만 df에 저장\n",
    "8. df와 df_purchases_of_equities를 df_last합치기\n",
    "9. 히트맵 그려보기\n",
    "10. 한 곳에 두개 그래프 겹쳐서 그려보기 (종가, 외국인) (양쪽에 y 범위나오게)\n",
    "11. minmax 보기\n",
    "12. df_last 에서 연금 칼럼 내림차순으로 정렬 해보기\n",
    "13. 화살표 그리는 것 보기\n",
    "14. csv 파일로 저장해 보기 , 불러와 보기"
   ]
  },
  {
   "cell_type": "code",
   "execution_count": 14,
   "id": "e1e86efe",
   "metadata": {
    "ExecuteTime": {
     "end_time": "2022-04-27T08:26:35.196816Z",
     "start_time": "2022-04-27T08:26:30.866396Z"
    },
    "colab": {
     "base_uri": "https://localhost:8080/"
    },
    "executionInfo": {
     "elapsed": 5821,
     "status": "ok",
     "timestamp": 1651133909722,
     "user": {
      "displayName": "서명교",
      "userId": "11730583039526359700"
     },
     "user_tz": -540
    },
    "id": "e1e86efe",
    "outputId": "c6d83807-e0ab-4425-9026-10e4b71192b9"
   },
   "outputs": [
    {
     "name": "stdout",
     "output_type": "stream",
     "text": [
      "Collecting pykrx\n",
      "  Downloading pykrx-1.0.33-py3-none-any.whl (93 kB)\n",
      "\u001b[K     |████████████████████████████████| 93 kB 1.5 MB/s \n",
      "\u001b[?25hRequirement already satisfied: numpy in /usr/local/lib/python3.7/dist-packages (from pykrx) (1.21.6)\n",
      "Requirement already satisfied: pandas in /usr/local/lib/python3.7/dist-packages (from pykrx) (1.3.5)\n",
      "Collecting deprecated\n",
      "  Downloading Deprecated-1.2.13-py2.py3-none-any.whl (9.6 kB)\n",
      "Collecting datetime\n",
      "  Downloading DateTime-4.4-py2.py3-none-any.whl (51 kB)\n",
      "\u001b[K     |████████████████████████████████| 51 kB 487 kB/s \n",
      "\u001b[?25hRequirement already satisfied: xlrd in /usr/local/lib/python3.7/dist-packages (from pykrx) (1.1.0)\n",
      "Requirement already satisfied: requests in /usr/local/lib/python3.7/dist-packages (from pykrx) (2.23.0)\n",
      "Requirement already satisfied: pytz in /usr/local/lib/python3.7/dist-packages (from datetime->pykrx) (2022.1)\n",
      "Collecting zope.interface\n",
      "  Downloading zope.interface-5.4.0-cp37-cp37m-manylinux2010_x86_64.whl (251 kB)\n",
      "\u001b[K     |████████████████████████████████| 251 kB 40.2 MB/s \n",
      "\u001b[?25hRequirement already satisfied: wrapt<2,>=1.10 in /usr/local/lib/python3.7/dist-packages (from deprecated->pykrx) (1.14.0)\n",
      "Requirement already satisfied: python-dateutil>=2.7.3 in /usr/local/lib/python3.7/dist-packages (from pandas->pykrx) (2.8.2)\n",
      "Requirement already satisfied: six>=1.5 in /usr/local/lib/python3.7/dist-packages (from python-dateutil>=2.7.3->pandas->pykrx) (1.15.0)\n",
      "Requirement already satisfied: urllib3!=1.25.0,!=1.25.1,<1.26,>=1.21.1 in /usr/local/lib/python3.7/dist-packages (from requests->pykrx) (1.24.3)\n",
      "Requirement already satisfied: chardet<4,>=3.0.2 in /usr/local/lib/python3.7/dist-packages (from requests->pykrx) (3.0.4)\n",
      "Requirement already satisfied: certifi>=2017.4.17 in /usr/local/lib/python3.7/dist-packages (from requests->pykrx) (2021.10.8)\n",
      "Requirement already satisfied: idna<3,>=2.5 in /usr/local/lib/python3.7/dist-packages (from requests->pykrx) (2.10)\n",
      "Requirement already satisfied: setuptools in /usr/local/lib/python3.7/dist-packages (from zope.interface->datetime->pykrx) (57.4.0)\n",
      "Installing collected packages: zope.interface, deprecated, datetime, pykrx\n",
      "Successfully installed datetime-4.4 deprecated-1.2.13 pykrx-1.0.33 zope.interface-5.4.0\n"
     ]
    }
   ],
   "source": [
    "pip install pykrx"
   ]
  },
  {
   "cell_type": "code",
   "execution_count": 15,
   "id": "83912d2d",
   "metadata": {
    "ExecuteTime": {
     "end_time": "2022-04-27T08:27:02.165073Z",
     "start_time": "2022-04-27T08:27:02.162094Z"
    },
    "colab": {
     "base_uri": "https://localhost:8080/"
    },
    "executionInfo": {
     "elapsed": 258,
     "status": "ok",
     "timestamp": 1651133917842,
     "user": {
      "displayName": "서명교",
      "userId": "11730583039526359700"
     },
     "user_tz": -540
    },
    "id": "83912d2d",
    "outputId": "c5e59e64-c2ee-4132-895f-b859f785c0e3"
   },
   "outputs": [
    {
     "name": "stdout",
     "output_type": "stream",
     "text": [
      "No Korean fonts found. Please install the font shown belowbecause Hangul can be broken on the chart.\n",
      " - NanumBarunGothic font is required.\n",
      "\n",
      "    1) font install\n",
      "\n",
      "    !sudo apt-get install -y fonts-nanum\n",
      "    !sudo fc-cache -fv\n",
      "    !rm ~/.cache/matplotlib -rf\n",
      "\n",
      "    2) runtime restart if colab\n",
      "    \n",
      "PYKRX works fine regardless of font installation.\n"
     ]
    }
   ],
   "source": [
    "from pykrx import stock"
   ]
  },
  {
   "cell_type": "code",
   "execution_count": 16,
   "id": "8e4629f5",
   "metadata": {
    "ExecuteTime": {
     "end_time": "2022-04-28T06:08:13.476923Z",
     "start_time": "2022-04-28T06:08:12.582350Z"
    },
    "colab": {
     "base_uri": "https://localhost:8080/"
    },
    "executionInfo": {
     "elapsed": 1501,
     "status": "ok",
     "timestamp": 1651133921447,
     "user": {
      "displayName": "서명교",
      "userId": "11730583039526359700"
     },
     "user_tz": -540
    },
    "id": "8e4629f5",
    "outputId": "484f67e5-e9f9-4760-8866-43f2ef97053d"
   },
   "outputs": [
    {
     "name": "stdout",
     "output_type": "stream",
     "text": [
      "['095570', '006840', '027410', '282330', '138930', '001460', '001465', '001040', '079160', '00104K', '000120', '011150', '011155', '001045', '097950', '097955', '000590', '012030', '016610', '005830', '000990', '000995', '139130', '001530', '004840', '155660', '069730', '017940', '007700', '114090', '078930', '006360', '001250', '007070', '078935', '012630', '039570', '089470', '294870', '011200', '082740', '003560', '175330', '234080', '001060', '001067', '001065', '096760', '105560', '002380', '009070', '009440', '119650', '092220', '016380', '016385', '001390', '001940', '025000', '092230', '000040', '044450', '030200', '033780', '030210', '058850', '058860', '093050', '003550', '034220', '001120', '051900', '051905', '003555', '032640', '011070', '066570', '066575', '108670', '108675', '037560', '051910', '051915', '079550', '006260', '010120', '000680', '229640', '023150', '035420', '181710', '005940', '005945', '338100', '034310', '008260', '004250', '004255', '010060', '005490', '100840', '064960', '003570', '036530', '010950', '010955', '034120', '101060', '004060', '001380', '002360', '009160', '123700', '025530', '034730', '011790', '018670', '001740', '001745', '006120', '006125', '210980', '068400', '03473K', '096770', '096775', '001510', '001515', '285130', '28513K', '017670', '000660', '005610', '011810', '077970', '071970', '084870', '002710', '024070', '037270', '000500', '000860', '035250', '011420', '002100', '009450', '267290', '012320', '000050', '214390', '012610', '009140', '013580', '012200', '012205', '004200', '002140', '010130', '002240', '009290', '017040', '017900', '037710', '030610', '007690', '005320', '001140', '002720', '083420', '014530', '014280', '014285', '008870', '001570', '002990', '002995', '011780', '011785', '214330', '001210', '073240', '092440', '000270', '024110', '013700', '004540', '004545', '074610', '001260', '008350', '008355', '004270', '003920', '003925', '002070', '025860', '005720', '005725', '002350', '002355', '003580', '251270', '090350', '090355', '000320', '000325', '006280', '005250', '005257', '004370', '072710', '058730', '023590', '019680', '019685', '006370', '008060', '00806K', '000490', '008110', '005750', '000210', '000215', '004440', '006570', '001680', '001685', '084690', '084695', '128820', '117580', '016710', '003540', '003547', '003545', '009190', '014160', '047040', '009320', '042660', '003090', '069620', '000430', '006340', '006345', '003220', '024890', '002880', '000300', '012800', '015230', '001070', '006650', '001440', '084010', '001790', '001795', '001130', '003490', '003495', '005880', '003830', '016090', '069460', '192080', '012510', '004830', '004835', '024900', '145720', '002150', '001230', '023450', '004140', '007590', '005960', '005965', '083370', '083380', '026960', '002210', '102260', '005190', '000640', '170900', '028100', '282690', '001520', '001527', '001529', '084670', '002900', '082640', '001525', '008970', '092780', '049770', '018500', '006040', '030720', '014820', '014825', '163560', '004890', '002690', '000020', '000150', '000157', '241560', '336370', '33637K', '33637L', '000155', '042670', '034020', '336260', '33626K', '33626L', '016740', '192650', '024090', '003160', '092200', '013570', '210540', '007340', '026890', '115390', '032350', '330590', '000400', '023530', '004000', '286940', '280360', '004990', '00499K', '005300', '005305', '011170', '002270', '071840', '027740', '204320', '001080', '088980', '094800', '138040', '008560', '000060', '090370', '017180', '012690', '005360', '204210', '009680', '009580', '009200', '033920', '008420', '025560', '007120', '006800', '00680K', '006805', '085620', '002840', '268280', '107590', '134380', '003650', '155900', '003610', '001340', '014580', '035150', '002410', '096300', '007210', '002760', '003850', '000890', '003000', '001270', '001275', '026940', '015350', '011390', '005030', '100220', '101140', '005180', '003960', '008040', '007160', '014710', '006090', '005090', '001470', '006400', '006405', '006660', '028260', '02826K', '207940', '032830', '018260', '028050', '009150', '009155', '005930', '005935', '001360', '010140', '010145', '016360', '068290', '029780', '000810', '000815', '006110', '145990', '145995', '003230', '002170', '272550', '000070', '000075', '002810', '005680', '003720', '023000', '004380', '002450', '000520', '009770', '005500', '004690', '001880', '010960', '004450', '009470', '011230', '001820', '000390', '001290', '041650', '075180', '007540', '248170', '007860', '200880', '017390', '004410', '004415', '021050', '008490', '007610', '136490', '002820', '014910', '014915', '003080', '004980', '004985', '011300', '000180', '002420', '004360', '004365', '004490', '001430', '306200', '003030', '019440', '058650', '013000', '091090', '021820', '067830', '033530', '075580', '027970', '145210', '308170', '068270', '004430', '017550', '002200', '053210', '134790', '016590', '029530', '004970', '011930', '005390', '004170', '035510', '034300', '031430', '031440', '006880', '005800', '001720', '001725', '009270', '009275', '002700', '019170', '019175', '002870', '005450', '293940', '055550', '001770', '004080', '102280', '003410', '003415', '003620', '004770', '015540', '004920', '112610', '008700', '002790', '00279K', '002795', '090430', '090435', '002030', '183190', '002310', '267850', '020560', '122900', '010780', '033660', '001780', '018250', '161000', '011090', '005850', '012750', '023960', '298690', '140910', '078520', '015260', '007460', '003060', '036570', '138250', '085310', '009810', '900140', '014440', '111770', '009970', '003520', '000670', '006740', '012280', '012160', '015360', '007310', '002630', '271560', '001800', '070960', '316140', '004720', '118000', '010050', '006980', '017370', '105840', '010400', '049800', '016880', '095720', '103130', '005820', '010600', '008600', '033270', '014830', '000910', '047400', '011330', '077500', '002920', '000700', '003470', '003475', '011690', '072130', '000220', '000225', '000227', '001200', '000100', '000105', '003460', '003465', '008730', '008250', '025820', '214320', '088260', '139480', '007660', '005950', '015020', '093230', '102460', '084680', '000760', '014990', '006490', '023800', '034590', '129260', '023810', '249420', '000230', '013360', '003120', '003200', '007110', '007570', '007575', '008500', '081000', '020760', '020150', '103590', '015860', '226320', '317400', '033240', '000950', '194370', '025620', '036420', '030000', '271980', '001560', '002620', '006220', '089590', '004910', '004700', '001550', '000480', '120030', '018470', '002600', '185750', '063160', '001630', '044380', '013890', '013870', '071320', '010580', '035000', '088790', '003780', '010640', '100250', '051630', '272450', '011000', '002780', '002787', '002785', '009310', '000650', '012600', '033250', '035720', '006380', '109070', '001620', '029460', '344820', '281820', '145270', '007815', '007810', '00781K', '152330', '003690', '192820', '044820', '005070', '005420', '071950', '002020', '003070', '003075', '144620', '002025', '120110', '120115', '138490', '021240', '031820', '192400', '284740', '015590', '264900', '26490K', '005740', '005745', '020120', '039490', '012170', '015890', '006890', '003240', '011280', '004100', '004105', '009410', '009415', '001420', '007980', '055490', '078000', '214420', '019180', '091810', '004870', '030790', '005690', '036580', '028670', '010820', '016800', '001020', '090080', '010770', '058430', '047050', '003670', '007630', '017810', '103140', '005810', '033180', '086790', '099340', '099350', '293480', '039130', '172580', '153360', '159650', '071090', '019490', '000080', '000087', '000140', '000145', '152550', '036460', '005430', '071050', '071055', '010040', '025540', '004090', '002960', '123890', '015760', '006200', '002300', '009540', '023350', '025890', '000970', '104700', '017960', '161890', '024720', '161390', '000240', '034830', '007280', '168490', '010100', '047810', '123690', '003350', '011500', '002390', '014790', '060980', '053690', '042700', '008930', '128940', '009240', '020000', '003680', '105630', '069640', '016450', '010420', '009180', '213500', '014680', '004710', '004150', '025750', '004960', '011700', '001750', '001755', '018880', '009420', '014130', '300720', '002220', '006390', '003300', '051600', '052690', '130660', '002320', '097230', '003480', '180640', '18064K', '005110', '009460', '000880', '00088K', '088350', '000370', '009830', '009835', '272210', '012450', '000885', '003530', '003535', '195870', '101530', '143210', '000720', '267270', '000725', '005440', '086280', '064350', '079430', '012330', '010620', '069960', '004560', '004565', '011760', '004310', '322000', '126560', '017800', '307950', '011210', '267260', '004020', '267250', '005380', '005387', '005389', '005385', '001500', '227840', '001450', '057050', '093240', '003010', '111110', '008770', '008775', '002460', '013520', '241590', '006060', '010690', '133820', '010660', '000850', '016580', '032560', '004800', '094280', '298040', '298050', '298020', '298000', '093370', '081660', '005870', '079980', '005010', '069260', '000540', '000547', '000545', '003280']\n"
     ]
    }
   ],
   "source": [
    "# 코스피 티커 받아오기\n"
   ]
  },
  {
   "cell_type": "code",
   "execution_count": 17,
   "id": "87e71319",
   "metadata": {
    "ExecuteTime": {
     "end_time": "2022-04-28T06:08:14.506235Z",
     "start_time": "2022-04-28T06:08:14.501282Z"
    },
    "colab": {
     "base_uri": "https://localhost:8080/"
    },
    "executionInfo": {
     "elapsed": 7,
     "status": "ok",
     "timestamp": 1651133921717,
     "user": {
      "displayName": "서명교",
      "userId": "11730583039526359700"
     },
     "user_tz": -540
    },
    "id": "87e71319",
    "outputId": "804e912a-f44a-47a8-ec46-27d47d957bfa"
   },
   "outputs": [
    {
     "data": {
      "text/plain": [
       "['000120',\n",
       " '011150',\n",
       " '011155',\n",
       " '001045',\n",
       " '097950',\n",
       " '097955',\n",
       " '000590',\n",
       " '012030',\n",
       " '016610',\n",
       " '005830']"
      ]
     },
     "execution_count": 17,
     "metadata": {},
     "output_type": "execute_result"
    }
   ],
   "source": [
    "# 티커 10이상 20미만 뽑아 내기\n"
   ]
  },
  {
   "cell_type": "code",
   "execution_count": 18,
   "id": "ce28aa89",
   "metadata": {
    "ExecuteTime": {
     "end_time": "2022-04-28T06:08:15.510566Z",
     "start_time": "2022-04-28T06:08:14.919130Z"
    },
    "colab": {
     "base_uri": "https://localhost:8080/"
    },
    "executionInfo": {
     "elapsed": 7175,
     "status": "ok",
     "timestamp": 1651133928887,
     "user": {
      "displayName": "서명교",
      "userId": "11730583039526359700"
     },
     "user_tz": -540
    },
    "id": "ce28aa89",
    "outputId": "f1b2fb70-01c1-46d6-82e7-3efd2307158a"
   },
   "outputs": [
    {
     "name": "stdout",
     "output_type": "stream",
     "text": [
      "                시가      고가      저가      종가     거래량    회사코드\n",
      "날짜                                                        \n",
      "2020-04-01  135500  136000  128000  128000   72016  000120\n",
      "2020-04-02  129000  133000  126000  131000   68311  000120\n",
      "2020-04-03  130000  130500  125500  127000  105709  000120\n",
      "2020-04-06  128500  131500  127500  131500   74357  000120\n",
      "2020-04-07  133000  136000  131500  135000   93191  000120\n",
      "...            ...     ...     ...     ...     ...     ...\n",
      "2020-04-23   40900   43600   40900   43100  346294  005830\n",
      "2020-04-24   43900   44350   42000   42500  245584  005830\n",
      "2020-04-27   43100   45400   42900   45100  262434  005830\n",
      "2020-04-28   45000   45550   44550   44900  240765  005830\n",
      "2020-04-29   45050   45500   44050   44150  279516  005830\n",
      "\n",
      "[200 rows x 6 columns]\n"
     ]
    }
   ],
   "source": [
    "# get_market_ohlcv 이용해서(티커 10개) 20200401~ 20200430까지 데이터 받아오기 \n"
   ]
  },
  {
   "cell_type": "code",
   "execution_count": 19,
   "id": "d0f715f4",
   "metadata": {
    "ExecuteTime": {
     "end_time": "2022-04-28T06:08:27.212261Z",
     "start_time": "2022-04-28T06:08:16.280524Z"
    },
    "colab": {
     "base_uri": "https://localhost:8080/",
     "height": 455
    },
    "executionInfo": {
     "elapsed": 15890,
     "status": "ok",
     "timestamp": 1651133944769,
     "user": {
      "displayName": "서명교",
      "userId": "11730583039526359700"
     },
     "user_tz": -540
    },
    "id": "d0f715f4",
    "outputId": "9c533257-bf62-4eed-bab0-5d063a252586"
   },
   "outputs": [
    {
     "data": {
      "text/html": [
       "\n",
       "  <div id=\"df-c65eec6b-0ebc-44c9-91b6-d0ba031557fa\">\n",
       "    <div class=\"colab-df-container\">\n",
       "      <div>\n",
       "<style scoped>\n",
       "    .dataframe tbody tr th:only-of-type {\n",
       "        vertical-align: middle;\n",
       "    }\n",
       "\n",
       "    .dataframe tbody tr th {\n",
       "        vertical-align: top;\n",
       "    }\n",
       "\n",
       "    .dataframe thead th {\n",
       "        text-align: right;\n",
       "    }\n",
       "</style>\n",
       "<table border=\"1\" class=\"dataframe\">\n",
       "  <thead>\n",
       "    <tr style=\"text-align: right;\">\n",
       "      <th></th>\n",
       "      <th>BPS</th>\n",
       "      <th>PER</th>\n",
       "      <th>PBR</th>\n",
       "      <th>EPS</th>\n",
       "      <th>DIV</th>\n",
       "      <th>DPS</th>\n",
       "      <th>회사코드</th>\n",
       "    </tr>\n",
       "    <tr>\n",
       "      <th>날짜</th>\n",
       "      <th></th>\n",
       "      <th></th>\n",
       "      <th></th>\n",
       "      <th></th>\n",
       "      <th></th>\n",
       "      <th></th>\n",
       "      <th></th>\n",
       "    </tr>\n",
       "  </thead>\n",
       "  <tbody>\n",
       "    <tr>\n",
       "      <th>2020-04-01</th>\n",
       "      <td>116702</td>\n",
       "      <td>64.13</td>\n",
       "      <td>1.10</td>\n",
       "      <td>1996</td>\n",
       "      <td>0.00</td>\n",
       "      <td>0</td>\n",
       "      <td>000120</td>\n",
       "    </tr>\n",
       "    <tr>\n",
       "      <th>2020-04-02</th>\n",
       "      <td>116702</td>\n",
       "      <td>65.63</td>\n",
       "      <td>1.12</td>\n",
       "      <td>1996</td>\n",
       "      <td>0.00</td>\n",
       "      <td>0</td>\n",
       "      <td>000120</td>\n",
       "    </tr>\n",
       "    <tr>\n",
       "      <th>2020-04-03</th>\n",
       "      <td>116702</td>\n",
       "      <td>63.63</td>\n",
       "      <td>1.09</td>\n",
       "      <td>1996</td>\n",
       "      <td>0.00</td>\n",
       "      <td>0</td>\n",
       "      <td>000120</td>\n",
       "    </tr>\n",
       "    <tr>\n",
       "      <th>2020-04-06</th>\n",
       "      <td>116702</td>\n",
       "      <td>65.88</td>\n",
       "      <td>1.13</td>\n",
       "      <td>1996</td>\n",
       "      <td>0.00</td>\n",
       "      <td>0</td>\n",
       "      <td>000120</td>\n",
       "    </tr>\n",
       "    <tr>\n",
       "      <th>2020-04-07</th>\n",
       "      <td>116702</td>\n",
       "      <td>67.64</td>\n",
       "      <td>1.16</td>\n",
       "      <td>1996</td>\n",
       "      <td>0.00</td>\n",
       "      <td>0</td>\n",
       "      <td>000120</td>\n",
       "    </tr>\n",
       "    <tr>\n",
       "      <th>...</th>\n",
       "      <td>...</td>\n",
       "      <td>...</td>\n",
       "      <td>...</td>\n",
       "      <td>...</td>\n",
       "      <td>...</td>\n",
       "      <td>...</td>\n",
       "      <td>...</td>\n",
       "    </tr>\n",
       "    <tr>\n",
       "      <th>2020-04-13</th>\n",
       "      <td>72003</td>\n",
       "      <td>4.45</td>\n",
       "      <td>0.52</td>\n",
       "      <td>8413</td>\n",
       "      <td>5.35</td>\n",
       "      <td>2000</td>\n",
       "      <td>005830</td>\n",
       "    </tr>\n",
       "    <tr>\n",
       "      <th>2020-04-14</th>\n",
       "      <td>72003</td>\n",
       "      <td>4.64</td>\n",
       "      <td>0.54</td>\n",
       "      <td>8413</td>\n",
       "      <td>5.13</td>\n",
       "      <td>2000</td>\n",
       "      <td>005830</td>\n",
       "    </tr>\n",
       "    <tr>\n",
       "      <th>2020-04-16</th>\n",
       "      <td>72003</td>\n",
       "      <td>4.49</td>\n",
       "      <td>0.52</td>\n",
       "      <td>8413</td>\n",
       "      <td>5.29</td>\n",
       "      <td>2000</td>\n",
       "      <td>005830</td>\n",
       "    </tr>\n",
       "    <tr>\n",
       "      <th>2020-04-17</th>\n",
       "      <td>72003</td>\n",
       "      <td>4.48</td>\n",
       "      <td>0.52</td>\n",
       "      <td>8413</td>\n",
       "      <td>5.31</td>\n",
       "      <td>2000</td>\n",
       "      <td>005830</td>\n",
       "    </tr>\n",
       "    <tr>\n",
       "      <th>2020-04-20</th>\n",
       "      <td>72003</td>\n",
       "      <td>4.47</td>\n",
       "      <td>0.52</td>\n",
       "      <td>8413</td>\n",
       "      <td>5.32</td>\n",
       "      <td>2000</td>\n",
       "      <td>005830</td>\n",
       "    </tr>\n",
       "  </tbody>\n",
       "</table>\n",
       "<p>130 rows × 7 columns</p>\n",
       "</div>\n",
       "      <button class=\"colab-df-convert\" onclick=\"convertToInteractive('df-c65eec6b-0ebc-44c9-91b6-d0ba031557fa')\"\n",
       "              title=\"Convert this dataframe to an interactive table.\"\n",
       "              style=\"display:none;\">\n",
       "        \n",
       "  <svg xmlns=\"http://www.w3.org/2000/svg\" height=\"24px\"viewBox=\"0 0 24 24\"\n",
       "       width=\"24px\">\n",
       "    <path d=\"M0 0h24v24H0V0z\" fill=\"none\"/>\n",
       "    <path d=\"M18.56 5.44l.94 2.06.94-2.06 2.06-.94-2.06-.94-.94-2.06-.94 2.06-2.06.94zm-11 1L8.5 8.5l.94-2.06 2.06-.94-2.06-.94L8.5 2.5l-.94 2.06-2.06.94zm10 10l.94 2.06.94-2.06 2.06-.94-2.06-.94-.94-2.06-.94 2.06-2.06.94z\"/><path d=\"M17.41 7.96l-1.37-1.37c-.4-.4-.92-.59-1.43-.59-.52 0-1.04.2-1.43.59L10.3 9.45l-7.72 7.72c-.78.78-.78 2.05 0 2.83L4 21.41c.39.39.9.59 1.41.59.51 0 1.02-.2 1.41-.59l7.78-7.78 2.81-2.81c.8-.78.8-2.07 0-2.86zM5.41 20L4 18.59l7.72-7.72 1.47 1.35L5.41 20z\"/>\n",
       "  </svg>\n",
       "      </button>\n",
       "      \n",
       "  <style>\n",
       "    .colab-df-container {\n",
       "      display:flex;\n",
       "      flex-wrap:wrap;\n",
       "      gap: 12px;\n",
       "    }\n",
       "\n",
       "    .colab-df-convert {\n",
       "      background-color: #E8F0FE;\n",
       "      border: none;\n",
       "      border-radius: 50%;\n",
       "      cursor: pointer;\n",
       "      display: none;\n",
       "      fill: #1967D2;\n",
       "      height: 32px;\n",
       "      padding: 0 0 0 0;\n",
       "      width: 32px;\n",
       "    }\n",
       "\n",
       "    .colab-df-convert:hover {\n",
       "      background-color: #E2EBFA;\n",
       "      box-shadow: 0px 1px 2px rgba(60, 64, 67, 0.3), 0px 1px 3px 1px rgba(60, 64, 67, 0.15);\n",
       "      fill: #174EA6;\n",
       "    }\n",
       "\n",
       "    [theme=dark] .colab-df-convert {\n",
       "      background-color: #3B4455;\n",
       "      fill: #D2E3FC;\n",
       "    }\n",
       "\n",
       "    [theme=dark] .colab-df-convert:hover {\n",
       "      background-color: #434B5C;\n",
       "      box-shadow: 0px 1px 3px 1px rgba(0, 0, 0, 0.15);\n",
       "      filter: drop-shadow(0px 1px 2px rgba(0, 0, 0, 0.3));\n",
       "      fill: #FFFFFF;\n",
       "    }\n",
       "  </style>\n",
       "\n",
       "      <script>\n",
       "        const buttonEl =\n",
       "          document.querySelector('#df-c65eec6b-0ebc-44c9-91b6-d0ba031557fa button.colab-df-convert');\n",
       "        buttonEl.style.display =\n",
       "          google.colab.kernel.accessAllowed ? 'block' : 'none';\n",
       "\n",
       "        async function convertToInteractive(key) {\n",
       "          const element = document.querySelector('#df-c65eec6b-0ebc-44c9-91b6-d0ba031557fa');\n",
       "          const dataTable =\n",
       "            await google.colab.kernel.invokeFunction('convertToInteractive',\n",
       "                                                     [key], {});\n",
       "          if (!dataTable) return;\n",
       "\n",
       "          const docLinkHtml = 'Like what you see? Visit the ' +\n",
       "            '<a target=\"_blank\" href=https://colab.research.google.com/notebooks/data_table.ipynb>data table notebook</a>'\n",
       "            + ' to learn more about interactive tables.';\n",
       "          element.innerHTML = '';\n",
       "          dataTable['output_type'] = 'display_data';\n",
       "          await google.colab.output.renderOutput(dataTable, element);\n",
       "          const docLink = document.createElement('div');\n",
       "          docLink.innerHTML = docLinkHtml;\n",
       "          element.appendChild(docLink);\n",
       "        }\n",
       "      </script>\n",
       "    </div>\n",
       "  </div>\n",
       "  "
      ],
      "text/plain": [
       "               BPS    PER   PBR   EPS   DIV   DPS    회사코드\n",
       "날짜                                                       \n",
       "2020-04-01  116702  64.13  1.10  1996  0.00     0  000120\n",
       "2020-04-02  116702  65.63  1.12  1996  0.00     0  000120\n",
       "2020-04-03  116702  63.63  1.09  1996  0.00     0  000120\n",
       "2020-04-06  116702  65.88  1.13  1996  0.00     0  000120\n",
       "2020-04-07  116702  67.64  1.16  1996  0.00     0  000120\n",
       "...            ...    ...   ...   ...   ...   ...     ...\n",
       "2020-04-13   72003   4.45  0.52  8413  5.35  2000  005830\n",
       "2020-04-14   72003   4.64  0.54  8413  5.13  2000  005830\n",
       "2020-04-16   72003   4.49  0.52  8413  5.29  2000  005830\n",
       "2020-04-17   72003   4.48  0.52  8413  5.31  2000  005830\n",
       "2020-04-20   72003   4.47  0.52  8413  5.32  2000  005830\n",
       "\n",
       "[130 rows x 7 columns]"
      ]
     },
     "execution_count": 19,
     "metadata": {},
     "output_type": "execute_result"
    }
   ],
   "source": [
    "# get_market_fundamental 이용해서 종목 코드별로  PER/EPS/PBR/티커 저장 4월 30일까지 \n"
   ]
  },
  {
   "cell_type": "code",
   "execution_count": 20,
   "id": "15c2df4c",
   "metadata": {
    "ExecuteTime": {
     "end_time": "2022-04-28T06:13:43.193359Z",
     "start_time": "2022-04-28T06:13:41.739234Z"
    },
    "colab": {
     "base_uri": "https://localhost:8080/",
     "height": 1000
    },
    "executionInfo": {
     "elapsed": 4013,
     "status": "ok",
     "timestamp": 1651133948776,
     "user": {
      "displayName": "서명교",
      "userId": "11730583039526359700"
     },
     "user_tz": -540
    },
    "id": "15c2df4c",
    "outputId": "7dd3780e-7eaa-4df5-99e5-dbf8adf13397"
   },
   "outputs": [
    {
     "name": "stderr",
     "output_type": "stream",
     "text": [
      "findfont: Font family ['Malgun Gothic'] not found. Falling back to DejaVu Sans.\n"
     ]
    },
    {
     "data": {
      "image/png": "[encoded data removed]",
      "text/plain": [
       "<Figure size 432x288 with 1 Axes>"
      ]
     },
     "metadata": {
      "needs_background": "light"
     },
     "output_type": "display_data"
    },
    {
     "data": {
      "image/png": "[encoded data removed]",
      "text/plain": [
       "<Figure size 432x288 with 1 Axes>"
      ]
     },
     "metadata": {
      "needs_background": "light"
     },
     "output_type": "display_data"
    },
    {
     "data": {
      "image/png": "[encoded data removed]",
      "text/plain": [
       "<Figure size 432x288 with 1 Axes>"
      ]
     },
     "metadata": {
      "needs_background": "light"
     },
     "output_type": "display_data"
    },
    {
     "data": {
      "image/png": "[encoded data removed]",
      "text/plain": [
       "<Figure size 432x288 with 1 Axes>"
      ]
     },
     "metadata": {
      "needs_background": "light"
     },
     "output_type": "display_data"
    },
    {
     "data": {
      "image/png": "[encoded data removed]",
      "text/plain": [
       "<Figure size 432x288 with 1 Axes>"
      ]
     },
     "metadata": {
      "needs_background": "light"
     },
     "output_type": "display_data"
    },
    {
     "data": {
      "image/png": "[encoded data removed]",
      "text/plain": [
       "<Figure size 432x288 with 1 Axes>"
      ]
     },
     "metadata": {
      "needs_background": "light"
     },
     "output_type": "display_data"
    },
    {
     "data": {
      "image/png": "[encoded data removed]",
      "text/plain": [
       "<Figure size 432x288 with 1 Axes>"
      ]
     },
     "metadata": {
      "needs_background": "light"
     },
     "output_type": "display_data"
    },
    {
     "data": {
      "image/png": "[encoded data removed]",
      "text/plain": [
       "<Figure size 432x288 with 1 Axes>"
      ]
     },
     "metadata": {
      "needs_background": "light"
     },
     "output_type": "display_data"
    },
    {
     "data": {
      "image/png": "[encoded data removed]",
      "text/plain": [
       "<Figure size 432x288 with 1 Axes>"
      ]
     },
     "metadata": {
      "needs_background": "light"
     },
     "output_type": "display_data"
    },
    {
     "data": {
      "image/png": "[encoded data removed]",
      "text/plain": [
       "<Figure size 432x288 with 1 Axes>"
      ]
     },
     "metadata": {
      "needs_background": "light"
     },
     "output_type": "display_data"
    }
   ],
   "source": [
    "# 종목 별로 종가 그래프 그려보기\n",
    "\n"
   ]
  },
  {
   "cell_type": "code",
   "execution_count": 21,
   "id": "b0f05c45",
   "metadata": {
    "ExecuteTime": {
     "end_time": "2022-04-28T05:06:48.774544Z",
     "start_time": "2022-04-28T05:06:48.315802Z"
    },
    "colab": {
     "base_uri": "https://localhost:8080/",
     "height": 488
    },
    "executionInfo": {
     "elapsed": 4468,
     "status": "ok",
     "timestamp": 1651133953241,
     "user": {
      "displayName": "서명교",
      "userId": "11730583039526359700"
     },
     "user_tz": -540
    },
    "id": "b0f05c45",
    "outputId": "9edf5eca-897b-4239-ece0-1b44546a708b",
    "scrolled": true
   },
   "outputs": [
    {
     "data": {
      "text/html": [
       "\n",
       "  <div id=\"df-89a67f1d-28bf-4b5f-a469-598bb7c14fde\">\n",
       "    <div class=\"colab-df-container\">\n",
       "      <div>\n",
       "<style scoped>\n",
       "    .dataframe tbody tr th:only-of-type {\n",
       "        vertical-align: middle;\n",
       "    }\n",
       "\n",
       "    .dataframe tbody tr th {\n",
       "        vertical-align: top;\n",
       "    }\n",
       "\n",
       "    .dataframe thead th {\n",
       "        text-align: right;\n",
       "    }\n",
       "</style>\n",
       "<table border=\"1\" class=\"dataframe\">\n",
       "  <thead>\n",
       "    <tr style=\"text-align: right;\">\n",
       "      <th></th>\n",
       "      <th>금융투자</th>\n",
       "      <th>보험</th>\n",
       "      <th>투신</th>\n",
       "      <th>사모</th>\n",
       "      <th>은행</th>\n",
       "      <th>기타금융</th>\n",
       "      <th>연기금</th>\n",
       "      <th>기타법인</th>\n",
       "      <th>개인</th>\n",
       "      <th>외국인</th>\n",
       "      <th>기타외국인</th>\n",
       "      <th>전체</th>\n",
       "    </tr>\n",
       "    <tr>\n",
       "      <th>날짜</th>\n",
       "      <th></th>\n",
       "      <th></th>\n",
       "      <th></th>\n",
       "      <th></th>\n",
       "      <th></th>\n",
       "      <th></th>\n",
       "      <th></th>\n",
       "      <th></th>\n",
       "      <th></th>\n",
       "      <th></th>\n",
       "      <th></th>\n",
       "      <th></th>\n",
       "    </tr>\n",
       "  </thead>\n",
       "  <tbody>\n",
       "    <tr>\n",
       "      <th>2020-04-01</th>\n",
       "      <td>-5697127</td>\n",
       "      <td>118596</td>\n",
       "      <td>-1783314</td>\n",
       "      <td>-902869</td>\n",
       "      <td>-44504</td>\n",
       "      <td>642097</td>\n",
       "      <td>-3853041</td>\n",
       "      <td>1395395</td>\n",
       "      <td>33723273</td>\n",
       "      <td>-23831466</td>\n",
       "      <td>232960</td>\n",
       "      <td>0</td>\n",
       "    </tr>\n",
       "    <tr>\n",
       "      <th>2020-04-02</th>\n",
       "      <td>3967947</td>\n",
       "      <td>671770</td>\n",
       "      <td>515411</td>\n",
       "      <td>-290075</td>\n",
       "      <td>-5148</td>\n",
       "      <td>472179</td>\n",
       "      <td>4498194</td>\n",
       "      <td>-936871</td>\n",
       "      <td>-329115</td>\n",
       "      <td>-8446659</td>\n",
       "      <td>-117633</td>\n",
       "      <td>0</td>\n",
       "    </tr>\n",
       "    <tr>\n",
       "      <th>2020-04-03</th>\n",
       "      <td>-3080537</td>\n",
       "      <td>-100095</td>\n",
       "      <td>-1766316</td>\n",
       "      <td>-1319006</td>\n",
       "      <td>-68896</td>\n",
       "      <td>704014</td>\n",
       "      <td>-1097980</td>\n",
       "      <td>338675</td>\n",
       "      <td>23167664</td>\n",
       "      <td>-16630604</td>\n",
       "      <td>-146919</td>\n",
       "      <td>0</td>\n",
       "    </tr>\n",
       "    <tr>\n",
       "      <th>2020-04-06</th>\n",
       "      <td>15641415</td>\n",
       "      <td>524822</td>\n",
       "      <td>327745</td>\n",
       "      <td>15181</td>\n",
       "      <td>19599</td>\n",
       "      <td>195503</td>\n",
       "      <td>4812420</td>\n",
       "      <td>-4723672</td>\n",
       "      <td>-21002870</td>\n",
       "      <td>4014191</td>\n",
       "      <td>175666</td>\n",
       "      <td>0</td>\n",
       "    </tr>\n",
       "    <tr>\n",
       "      <th>2020-04-07</th>\n",
       "      <td>1666252</td>\n",
       "      <td>125344</td>\n",
       "      <td>245749</td>\n",
       "      <td>-1444055</td>\n",
       "      <td>-174506</td>\n",
       "      <td>168539</td>\n",
       "      <td>-2530144</td>\n",
       "      <td>1270543</td>\n",
       "      <td>12617303</td>\n",
       "      <td>-12072491</td>\n",
       "      <td>127466</td>\n",
       "      <td>0</td>\n",
       "    </tr>\n",
       "    <tr>\n",
       "      <th>2020-04-08</th>\n",
       "      <td>-7744658</td>\n",
       "      <td>529582</td>\n",
       "      <td>-417066</td>\n",
       "      <td>1617329</td>\n",
       "      <td>12106</td>\n",
       "      <td>225173</td>\n",
       "      <td>-1284245</td>\n",
       "      <td>-602397</td>\n",
       "      <td>8003014</td>\n",
       "      <td>-258549</td>\n",
       "      <td>-80289</td>\n",
       "      <td>0</td>\n",
       "    </tr>\n",
       "    <tr>\n",
       "      <th>2020-04-09</th>\n",
       "      <td>-4145862</td>\n",
       "      <td>300609</td>\n",
       "      <td>3309886</td>\n",
       "      <td>-735512</td>\n",
       "      <td>-402558</td>\n",
       "      <td>167293</td>\n",
       "      <td>-1563409</td>\n",
       "      <td>-1224892</td>\n",
       "      <td>13815075</td>\n",
       "      <td>-9414818</td>\n",
       "      <td>-105812</td>\n",
       "      <td>0</td>\n",
       "    </tr>\n",
       "    <tr>\n",
       "      <th>2020-04-10</th>\n",
       "      <td>-7792545</td>\n",
       "      <td>896481</td>\n",
       "      <td>2152228</td>\n",
       "      <td>-734155</td>\n",
       "      <td>112842</td>\n",
       "      <td>342325</td>\n",
       "      <td>6563627</td>\n",
       "      <td>-773371</td>\n",
       "      <td>6668830</td>\n",
       "      <td>-7537519</td>\n",
       "      <td>101257</td>\n",
       "      <td>0</td>\n",
       "    </tr>\n",
       "    <tr>\n",
       "      <th>2020-04-13</th>\n",
       "      <td>-7106808</td>\n",
       "      <td>-545590</td>\n",
       "      <td>-1512137</td>\n",
       "      <td>-1739406</td>\n",
       "      <td>41108</td>\n",
       "      <td>289671</td>\n",
       "      <td>2280334</td>\n",
       "      <td>-5592238</td>\n",
       "      <td>28031252</td>\n",
       "      <td>-14389369</td>\n",
       "      <td>243183</td>\n",
       "      <td>0</td>\n",
       "    </tr>\n",
       "    <tr>\n",
       "      <th>2020-04-14</th>\n",
       "      <td>4875615</td>\n",
       "      <td>322823</td>\n",
       "      <td>-1360088</td>\n",
       "      <td>834191</td>\n",
       "      <td>46625</td>\n",
       "      <td>338260</td>\n",
       "      <td>8657716</td>\n",
       "      <td>430532</td>\n",
       "      <td>-25827961</td>\n",
       "      <td>11410336</td>\n",
       "      <td>271951</td>\n",
       "      <td>0</td>\n",
       "    </tr>\n",
       "    <tr>\n",
       "      <th>2020-04-16</th>\n",
       "      <td>-2947903</td>\n",
       "      <td>58431</td>\n",
       "      <td>-1613488</td>\n",
       "      <td>-499003</td>\n",
       "      <td>-79976</td>\n",
       "      <td>221038</td>\n",
       "      <td>2708900</td>\n",
       "      <td>1505824</td>\n",
       "      <td>19599216</td>\n",
       "      <td>-18856436</td>\n",
       "      <td>-96603</td>\n",
       "      <td>0</td>\n",
       "    </tr>\n",
       "    <tr>\n",
       "      <th>2020-04-17</th>\n",
       "      <td>3058342</td>\n",
       "      <td>-491486</td>\n",
       "      <td>-625948</td>\n",
       "      <td>1000982</td>\n",
       "      <td>64976</td>\n",
       "      <td>201911</td>\n",
       "      <td>1887342</td>\n",
       "      <td>-720961</td>\n",
       "      <td>-16199461</td>\n",
       "      <td>11542658</td>\n",
       "      <td>281645</td>\n",
       "      <td>0</td>\n",
       "    </tr>\n",
       "    <tr>\n",
       "      <th>2020-04-20</th>\n",
       "      <td>-8302632</td>\n",
       "      <td>-538938</td>\n",
       "      <td>-768860</td>\n",
       "      <td>-534254</td>\n",
       "      <td>-55670</td>\n",
       "      <td>-181298</td>\n",
       "      <td>-1246400</td>\n",
       "      <td>-1834176</td>\n",
       "      <td>34193798</td>\n",
       "      <td>-18952749</td>\n",
       "      <td>-1778821</td>\n",
       "      <td>0</td>\n",
       "    </tr>\n",
       "  </tbody>\n",
       "</table>\n",
       "</div>\n",
       "      <button class=\"colab-df-convert\" onclick=\"convertToInteractive('df-89a67f1d-28bf-4b5f-a469-598bb7c14fde')\"\n",
       "              title=\"Convert this dataframe to an interactive table.\"\n",
       "              style=\"display:none;\">\n",
       "        \n",
       "  <svg xmlns=\"http://www.w3.org/2000/svg\" height=\"24px\"viewBox=\"0 0 24 24\"\n",
       "       width=\"24px\">\n",
       "    <path d=\"M0 0h24v24H0V0z\" fill=\"none\"/>\n",
       "    <path d=\"M18.56 5.44l.94 2.06.94-2.06 2.06-.94-2.06-.94-.94-2.06-.94 2.06-2.06.94zm-11 1L8.5 8.5l.94-2.06 2.06-.94-2.06-.94L8.5 2.5l-.94 2.06-2.06.94zm10 10l.94 2.06.94-2.06 2.06-.94-2.06-.94-.94-2.06-.94 2.06-2.06.94z\"/><path d=\"M17.41 7.96l-1.37-1.37c-.4-.4-.92-.59-1.43-.59-.52 0-1.04.2-1.43.59L10.3 9.45l-7.72 7.72c-.78.78-.78 2.05 0 2.83L4 21.41c.39.39.9.59 1.41.59.51 0 1.02-.2 1.41-.59l7.78-7.78 2.81-2.81c.8-.78.8-2.07 0-2.86zM5.41 20L4 18.59l7.72-7.72 1.47 1.35L5.41 20z\"/>\n",
       "  </svg>\n",
       "      </button>\n",
       "      \n",
       "  <style>\n",
       "    .colab-df-container {\n",
       "      display:flex;\n",
       "      flex-wrap:wrap;\n",
       "      gap: 12px;\n",
       "    }\n",
       "\n",
       "    .colab-df-convert {\n",
       "      background-color: #E8F0FE;\n",
       "      border: none;\n",
       "      border-radius: 50%;\n",
       "      cursor: pointer;\n",
       "      display: none;\n",
       "      fill: #1967D2;\n",
       "      height: 32px;\n",
       "      padding: 0 0 0 0;\n",
       "      width: 32px;\n",
       "    }\n",
       "\n",
       "    .colab-df-convert:hover {\n",
       "      background-color: #E2EBFA;\n",
       "      box-shadow: 0px 1px 2px rgba(60, 64, 67, 0.3), 0px 1px 3px 1px rgba(60, 64, 67, 0.15);\n",
       "      fill: #174EA6;\n",
       "    }\n",
       "\n",
       "    [theme=dark] .colab-df-convert {\n",
       "      background-color: #3B4455;\n",
       "      fill: #D2E3FC;\n",
       "    }\n",
       "\n",
       "    [theme=dark] .colab-df-convert:hover {\n",
       "      background-color: #434B5C;\n",
       "      box-shadow: 0px 1px 3px 1px rgba(0, 0, 0, 0.15);\n",
       "      filter: drop-shadow(0px 1px 2px rgba(0, 0, 0, 0.3));\n",
       "      fill: #FFFFFF;\n",
       "    }\n",
       "  </style>\n",
       "\n",
       "      <script>\n",
       "        const buttonEl =\n",
       "          document.querySelector('#df-89a67f1d-28bf-4b5f-a469-598bb7c14fde button.colab-df-convert');\n",
       "        buttonEl.style.display =\n",
       "          google.colab.kernel.accessAllowed ? 'block' : 'none';\n",
       "\n",
       "        async function convertToInteractive(key) {\n",
       "          const element = document.querySelector('#df-89a67f1d-28bf-4b5f-a469-598bb7c14fde');\n",
       "          const dataTable =\n",
       "            await google.colab.kernel.invokeFunction('convertToInteractive',\n",
       "                                                     [key], {});\n",
       "          if (!dataTable) return;\n",
       "\n",
       "          const docLinkHtml = 'Like what you see? Visit the ' +\n",
       "            '<a target=\"_blank\" href=https://colab.research.google.com/notebooks/data_table.ipynb>data table notebook</a>'\n",
       "            + ' to learn more about interactive tables.';\n",
       "          element.innerHTML = '';\n",
       "          dataTable['output_type'] = 'display_data';\n",
       "          await google.colab.output.renderOutput(dataTable, element);\n",
       "          const docLink = document.createElement('div');\n",
       "          docLink.innerHTML = docLinkHtml;\n",
       "          element.appendChild(docLink);\n",
       "        }\n",
       "      </script>\n",
       "    </div>\n",
       "  </div>\n",
       "  "
      ],
      "text/plain": [
       "                금융투자      보험       투신       사모      은행    기타금융      연기금  \\\n",
       "날짜                                                                        \n",
       "2020-04-01  -5697127  118596 -1783314  -902869  -44504  642097 -3853041   \n",
       "2020-04-02   3967947  671770   515411  -290075   -5148  472179  4498194   \n",
       "2020-04-03  -3080537 -100095 -1766316 -1319006  -68896  704014 -1097980   \n",
       "2020-04-06  15641415  524822   327745    15181   19599  195503  4812420   \n",
       "2020-04-07   1666252  125344   245749 -1444055 -174506  168539 -2530144   \n",
       "2020-04-08  -7744658  529582  -417066  1617329   12106  225173 -1284245   \n",
       "2020-04-09  -4145862  300609  3309886  -735512 -402558  167293 -1563409   \n",
       "2020-04-10  -7792545  896481  2152228  -734155  112842  342325  6563627   \n",
       "2020-04-13  -7106808 -545590 -1512137 -1739406   41108  289671  2280334   \n",
       "2020-04-14   4875615  322823 -1360088   834191   46625  338260  8657716   \n",
       "2020-04-16  -2947903   58431 -1613488  -499003  -79976  221038  2708900   \n",
       "2020-04-17   3058342 -491486  -625948  1000982   64976  201911  1887342   \n",
       "2020-04-20  -8302632 -538938  -768860  -534254  -55670 -181298 -1246400   \n",
       "\n",
       "               기타법인        개인       외국인    기타외국인  전체  \n",
       "날짜                                                    \n",
       "2020-04-01  1395395  33723273 -23831466   232960   0  \n",
       "2020-04-02  -936871   -329115  -8446659  -117633   0  \n",
       "2020-04-03   338675  23167664 -16630604  -146919   0  \n",
       "2020-04-06 -4723672 -21002870   4014191   175666   0  \n",
       "2020-04-07  1270543  12617303 -12072491   127466   0  \n",
       "2020-04-08  -602397   8003014   -258549   -80289   0  \n",
       "2020-04-09 -1224892  13815075  -9414818  -105812   0  \n",
       "2020-04-10  -773371   6668830  -7537519   101257   0  \n",
       "2020-04-13 -5592238  28031252 -14389369   243183   0  \n",
       "2020-04-14   430532 -25827961  11410336   271951   0  \n",
       "2020-04-16  1505824  19599216 -18856436   -96603   0  \n",
       "2020-04-17  -720961 -16199461  11542658   281645   0  \n",
       "2020-04-20 -1834176  34193798 -18952749 -1778821   0  "
      ]
     },
     "execution_count": 21,
     "metadata": {},
     "output_type": "execute_result"
    }
   ],
   "source": [
    "# get_market_trading_volume_by_date 이용해서 연기금 데이터 받아오기\n"
   ]
  },
  {
   "cell_type": "code",
   "execution_count": 22,
   "id": "5fb49660",
   "metadata": {
    "ExecuteTime": {
     "end_time": "2022-04-28T05:14:12.158454Z",
     "start_time": "2022-04-28T05:14:12.082623Z"
    },
    "colab": {
     "base_uri": "https://localhost:8080/"
    },
    "executionInfo": {
     "elapsed": 4836,
     "status": "ok",
     "timestamp": 1651133958074,
     "user": {
      "displayName": "서명교",
      "userId": "11730583039526359700"
     },
     "user_tz": -540
    },
    "id": "5fb49660",
    "outputId": "10ee06ee-2807-452d-846f-d404fcab6eb9"
   },
   "outputs": [
    {
     "name": "stdout",
     "output_type": "stream",
     "text": [
      "코스피 200         시가      고가      저가      종가        거래량           거래대금\n",
      "날짜                                                                  \n",
      "2020-04-01  234.23  237.52  226.34  226.35  228582917  7913912554463\n",
      "2020-04-02  227.47  232.22  223.60  231.84  181789449  7548550111929\n",
      "2020-04-03  232.48  234.45  229.23  231.70  181037704  6313975247155\n",
      "2020-04-06  234.40  241.19  233.75  240.81  190735319  6552309976639\n",
      "2020-04-07  245.65  247.39  240.68  244.87  224450405  8030025997464\n",
      "2020-04-08  243.71  246.99  241.77  241.89  173124206  6327462222493\n",
      "2020-04-09  246.13  246.46  243.11  245.61  175943828  6264902174737\n",
      "2020-04-10  245.14  248.21  244.02  248.00  286111384  8017524561019\n",
      "2020-04-13  246.59  246.90  243.39  243.40  195898883  6122882379698\n",
      "2020-04-14  246.20  248.55  244.58  247.45  193118126  6324478963869\n",
      "2020-04-16  244.99  247.87  243.61  247.10  197540955  7080233242832\n",
      "2020-04-17  252.52  257.37  252.38  255.02  287358889  8845497222027\n",
      "2020-04-20  253.85  255.93  251.46  252.14  211000353  7086991401554\n"
     ]
    }
   ],
   "source": [
    "# get_index_ohlcv 이용해서 kospi 200 데이터 받아오기 kospi 200 코드는 \"1028\"\n"
   ]
  },
  {
   "cell_type": "code",
   "execution_count": 23,
   "id": "5cfba068",
   "metadata": {
    "ExecuteTime": {
     "end_time": "2022-04-28T05:20:04.925204Z",
     "start_time": "2022-04-28T05:20:04.908250Z"
    },
    "colab": {
     "base_uri": "https://localhost:8080/",
     "height": 488
    },
    "executionInfo": {
     "elapsed": 17,
     "status": "ok",
     "timestamp": 1651133958075,
     "user": {
      "displayName": "서명교",
      "userId": "11730583039526359700"
     },
     "user_tz": -540
    },
    "id": "5cfba068",
    "outputId": "b952d5b1-5ba8-49de-f889-6c38a4eb7da3"
   },
   "outputs": [
    {
     "data": {
      "text/html": [
       "\n",
       "  <div id=\"df-b695eb66-2dcc-4087-b17f-a89998ed84c5\">\n",
       "    <div class=\"colab-df-container\">\n",
       "      <div>\n",
       "<style scoped>\n",
       "    .dataframe tbody tr th:only-of-type {\n",
       "        vertical-align: middle;\n",
       "    }\n",
       "\n",
       "    .dataframe tbody tr th {\n",
       "        vertical-align: top;\n",
       "    }\n",
       "\n",
       "    .dataframe thead th {\n",
       "        text-align: right;\n",
       "    }\n",
       "</style>\n",
       "<table border=\"1\" class=\"dataframe\">\n",
       "  <thead>\n",
       "    <tr style=\"text-align: right;\">\n",
       "      <th></th>\n",
       "      <th>종가</th>\n",
       "      <th>연기금</th>\n",
       "      <th>외국인</th>\n",
       "      <th>은행</th>\n",
       "    </tr>\n",
       "    <tr>\n",
       "      <th>날짜</th>\n",
       "      <th></th>\n",
       "      <th></th>\n",
       "      <th></th>\n",
       "      <th></th>\n",
       "    </tr>\n",
       "  </thead>\n",
       "  <tbody>\n",
       "    <tr>\n",
       "      <th>2020-04-01</th>\n",
       "      <td>226.35</td>\n",
       "      <td>-3853041</td>\n",
       "      <td>-23831466</td>\n",
       "      <td>-44504</td>\n",
       "    </tr>\n",
       "    <tr>\n",
       "      <th>2020-04-02</th>\n",
       "      <td>231.84</td>\n",
       "      <td>4498194</td>\n",
       "      <td>-8446659</td>\n",
       "      <td>-5148</td>\n",
       "    </tr>\n",
       "    <tr>\n",
       "      <th>2020-04-03</th>\n",
       "      <td>231.70</td>\n",
       "      <td>-1097980</td>\n",
       "      <td>-16630604</td>\n",
       "      <td>-68896</td>\n",
       "    </tr>\n",
       "    <tr>\n",
       "      <th>2020-04-06</th>\n",
       "      <td>240.81</td>\n",
       "      <td>4812420</td>\n",
       "      <td>4014191</td>\n",
       "      <td>19599</td>\n",
       "    </tr>\n",
       "    <tr>\n",
       "      <th>2020-04-07</th>\n",
       "      <td>244.87</td>\n",
       "      <td>-2530144</td>\n",
       "      <td>-12072491</td>\n",
       "      <td>-174506</td>\n",
       "    </tr>\n",
       "    <tr>\n",
       "      <th>2020-04-08</th>\n",
       "      <td>241.89</td>\n",
       "      <td>-1284245</td>\n",
       "      <td>-258549</td>\n",
       "      <td>12106</td>\n",
       "    </tr>\n",
       "    <tr>\n",
       "      <th>2020-04-09</th>\n",
       "      <td>245.61</td>\n",
       "      <td>-1563409</td>\n",
       "      <td>-9414818</td>\n",
       "      <td>-402558</td>\n",
       "    </tr>\n",
       "    <tr>\n",
       "      <th>2020-04-10</th>\n",
       "      <td>248.00</td>\n",
       "      <td>6563627</td>\n",
       "      <td>-7537519</td>\n",
       "      <td>112842</td>\n",
       "    </tr>\n",
       "    <tr>\n",
       "      <th>2020-04-13</th>\n",
       "      <td>243.40</td>\n",
       "      <td>2280334</td>\n",
       "      <td>-14389369</td>\n",
       "      <td>41108</td>\n",
       "    </tr>\n",
       "    <tr>\n",
       "      <th>2020-04-14</th>\n",
       "      <td>247.45</td>\n",
       "      <td>8657716</td>\n",
       "      <td>11410336</td>\n",
       "      <td>46625</td>\n",
       "    </tr>\n",
       "    <tr>\n",
       "      <th>2020-04-16</th>\n",
       "      <td>247.10</td>\n",
       "      <td>2708900</td>\n",
       "      <td>-18856436</td>\n",
       "      <td>-79976</td>\n",
       "    </tr>\n",
       "    <tr>\n",
       "      <th>2020-04-17</th>\n",
       "      <td>255.02</td>\n",
       "      <td>1887342</td>\n",
       "      <td>11542658</td>\n",
       "      <td>64976</td>\n",
       "    </tr>\n",
       "    <tr>\n",
       "      <th>2020-04-20</th>\n",
       "      <td>252.14</td>\n",
       "      <td>-1246400</td>\n",
       "      <td>-18952749</td>\n",
       "      <td>-55670</td>\n",
       "    </tr>\n",
       "  </tbody>\n",
       "</table>\n",
       "</div>\n",
       "      <button class=\"colab-df-convert\" onclick=\"convertToInteractive('df-b695eb66-2dcc-4087-b17f-a89998ed84c5')\"\n",
       "              title=\"Convert this dataframe to an interactive table.\"\n",
       "              style=\"display:none;\">\n",
       "        \n",
       "  <svg xmlns=\"http://www.w3.org/2000/svg\" height=\"24px\"viewBox=\"0 0 24 24\"\n",
       "       width=\"24px\">\n",
       "    <path d=\"M0 0h24v24H0V0z\" fill=\"none\"/>\n",
       "    <path d=\"M18.56 5.44l.94 2.06.94-2.06 2.06-.94-2.06-.94-.94-2.06-.94 2.06-2.06.94zm-11 1L8.5 8.5l.94-2.06 2.06-.94-2.06-.94L8.5 2.5l-.94 2.06-2.06.94zm10 10l.94 2.06.94-2.06 2.06-.94-2.06-.94-.94-2.06-.94 2.06-2.06.94z\"/><path d=\"M17.41 7.96l-1.37-1.37c-.4-.4-.92-.59-1.43-.59-.52 0-1.04.2-1.43.59L10.3 9.45l-7.72 7.72c-.78.78-.78 2.05 0 2.83L4 21.41c.39.39.9.59 1.41.59.51 0 1.02-.2 1.41-.59l7.78-7.78 2.81-2.81c.8-.78.8-2.07 0-2.86zM5.41 20L4 18.59l7.72-7.72 1.47 1.35L5.41 20z\"/>\n",
       "  </svg>\n",
       "      </button>\n",
       "      \n",
       "  <style>\n",
       "    .colab-df-container {\n",
       "      display:flex;\n",
       "      flex-wrap:wrap;\n",
       "      gap: 12px;\n",
       "    }\n",
       "\n",
       "    .colab-df-convert {\n",
       "      background-color: #E8F0FE;\n",
       "      border: none;\n",
       "      border-radius: 50%;\n",
       "      cursor: pointer;\n",
       "      display: none;\n",
       "      fill: #1967D2;\n",
       "      height: 32px;\n",
       "      padding: 0 0 0 0;\n",
       "      width: 32px;\n",
       "    }\n",
       "\n",
       "    .colab-df-convert:hover {\n",
       "      background-color: #E2EBFA;\n",
       "      box-shadow: 0px 1px 2px rgba(60, 64, 67, 0.3), 0px 1px 3px 1px rgba(60, 64, 67, 0.15);\n",
       "      fill: #174EA6;\n",
       "    }\n",
       "\n",
       "    [theme=dark] .colab-df-convert {\n",
       "      background-color: #3B4455;\n",
       "      fill: #D2E3FC;\n",
       "    }\n",
       "\n",
       "    [theme=dark] .colab-df-convert:hover {\n",
       "      background-color: #434B5C;\n",
       "      box-shadow: 0px 1px 3px 1px rgba(0, 0, 0, 0.15);\n",
       "      filter: drop-shadow(0px 1px 2px rgba(0, 0, 0, 0.3));\n",
       "      fill: #FFFFFF;\n",
       "    }\n",
       "  </style>\n",
       "\n",
       "      <script>\n",
       "        const buttonEl =\n",
       "          document.querySelector('#df-b695eb66-2dcc-4087-b17f-a89998ed84c5 button.colab-df-convert');\n",
       "        buttonEl.style.display =\n",
       "          google.colab.kernel.accessAllowed ? 'block' : 'none';\n",
       "\n",
       "        async function convertToInteractive(key) {\n",
       "          const element = document.querySelector('#df-b695eb66-2dcc-4087-b17f-a89998ed84c5');\n",
       "          const dataTable =\n",
       "            await google.colab.kernel.invokeFunction('convertToInteractive',\n",
       "                                                     [key], {});\n",
       "          if (!dataTable) return;\n",
       "\n",
       "          const docLinkHtml = 'Like what you see? Visit the ' +\n",
       "            '<a target=\"_blank\" href=https://colab.research.google.com/notebooks/data_table.ipynb>data table notebook</a>'\n",
       "            + ' to learn more about interactive tables.';\n",
       "          element.innerHTML = '';\n",
       "          dataTable['output_type'] = 'display_data';\n",
       "          await google.colab.output.renderOutput(dataTable, element);\n",
       "          const docLink = document.createElement('div');\n",
       "          docLink.innerHTML = docLinkHtml;\n",
       "          element.appendChild(docLink);\n",
       "        }\n",
       "      </script>\n",
       "    </div>\n",
       "  </div>\n",
       "  "
      ],
      "text/plain": [
       "                종가      연기금       외국인      은행\n",
       "날짜                                           \n",
       "2020-04-01  226.35 -3853041 -23831466  -44504\n",
       "2020-04-02  231.84  4498194  -8446659   -5148\n",
       "2020-04-03  231.70 -1097980 -16630604  -68896\n",
       "2020-04-06  240.81  4812420   4014191   19599\n",
       "2020-04-07  244.87 -2530144 -12072491 -174506\n",
       "2020-04-08  241.89 -1284245   -258549   12106\n",
       "2020-04-09  245.61 -1563409  -9414818 -402558\n",
       "2020-04-10  248.00  6563627  -7537519  112842\n",
       "2020-04-13  243.40  2280334 -14389369   41108\n",
       "2020-04-14  247.45  8657716  11410336   46625\n",
       "2020-04-16  247.10  2708900 -18856436  -79976\n",
       "2020-04-17  255.02  1887342  11542658   64976\n",
       "2020-04-20  252.14 -1246400 -18952749  -55670"
      ]
     },
     "execution_count": 23,
     "metadata": {},
     "output_type": "execute_result"
    }
   ],
   "source": [
    "# 종가, 연기금, 외국인, 은행 합치기\n"
   ]
  },
  {
   "cell_type": "code",
   "execution_count": 24,
   "id": "478f7eb6",
   "metadata": {
    "ExecuteTime": {
     "end_time": "2022-04-28T05:20:10.378691Z",
     "start_time": "2022-04-28T05:20:10.181214Z"
    },
    "colab": {
     "base_uri": "https://localhost:8080/",
     "height": 1000
    },
    "executionInfo": {
     "elapsed": 535,
     "status": "ok",
     "timestamp": 1651133958596,
     "user": {
      "displayName": "서명교",
      "userId": "11730583039526359700"
     },
     "user_tz": -540
    },
    "id": "478f7eb6",
    "outputId": "a322fa3a-0fdf-4699-d78b-fd14df93b0a7"
   },
   "outputs": [
    {
     "name": "stderr",
     "output_type": "stream",
     "text": [
      "/usr/local/lib/python3.7/dist-packages/matplotlib/backends/backend_agg.py:214: RuntimeWarning: Glyph 51333 missing from current font.\n",
      "  font.set_text(s, 0.0, flags=flags)\n",
      "/usr/local/lib/python3.7/dist-packages/matplotlib/backends/backend_agg.py:214: RuntimeWarning: Glyph 44032 missing from current font.\n",
      "  font.set_text(s, 0.0, flags=flags)\n",
      "/usr/local/lib/python3.7/dist-packages/matplotlib/backends/backend_agg.py:214: RuntimeWarning: Glyph 50672 missing from current font.\n",
      "  font.set_text(s, 0.0, flags=flags)\n",
      "/usr/local/lib/python3.7/dist-packages/matplotlib/backends/backend_agg.py:214: RuntimeWarning: Glyph 44592 missing from current font.\n",
      "  font.set_text(s, 0.0, flags=flags)\n",
      "/usr/local/lib/python3.7/dist-packages/matplotlib/backends/backend_agg.py:214: RuntimeWarning: Glyph 44552 missing from current font.\n",
      "  font.set_text(s, 0.0, flags=flags)\n",
      "/usr/local/lib/python3.7/dist-packages/matplotlib/backends/backend_agg.py:214: RuntimeWarning: Glyph 50808 missing from current font.\n",
      "  font.set_text(s, 0.0, flags=flags)\n",
      "/usr/local/lib/python3.7/dist-packages/matplotlib/backends/backend_agg.py:214: RuntimeWarning: Glyph 44397 missing from current font.\n",
      "  font.set_text(s, 0.0, flags=flags)\n",
      "/usr/local/lib/python3.7/dist-packages/matplotlib/backends/backend_agg.py:214: RuntimeWarning: Glyph 51064 missing from current font.\n",
      "  font.set_text(s, 0.0, flags=flags)\n",
      "/usr/local/lib/python3.7/dist-packages/matplotlib/backends/backend_agg.py:214: RuntimeWarning: Glyph 51008 missing from current font.\n",
      "  font.set_text(s, 0.0, flags=flags)\n",
      "/usr/local/lib/python3.7/dist-packages/matplotlib/backends/backend_agg.py:214: RuntimeWarning: Glyph 54665 missing from current font.\n",
      "  font.set_text(s, 0.0, flags=flags)\n",
      "/usr/local/lib/python3.7/dist-packages/matplotlib/backends/backend_agg.py:183: RuntimeWarning: Glyph 51333 missing from current font.\n",
      "  font.set_text(s, 0, flags=flags)\n",
      "/usr/local/lib/python3.7/dist-packages/matplotlib/backends/backend_agg.py:183: RuntimeWarning: Glyph 44032 missing from current font.\n",
      "  font.set_text(s, 0, flags=flags)\n",
      "/usr/local/lib/python3.7/dist-packages/matplotlib/backends/backend_agg.py:183: RuntimeWarning: Glyph 50672 missing from current font.\n",
      "  font.set_text(s, 0, flags=flags)\n",
      "/usr/local/lib/python3.7/dist-packages/matplotlib/backends/backend_agg.py:183: RuntimeWarning: Glyph 44592 missing from current font.\n",
      "  font.set_text(s, 0, flags=flags)\n",
      "/usr/local/lib/python3.7/dist-packages/matplotlib/backends/backend_agg.py:183: RuntimeWarning: Glyph 44552 missing from current font.\n",
      "  font.set_text(s, 0, flags=flags)\n",
      "/usr/local/lib/python3.7/dist-packages/matplotlib/backends/backend_agg.py:183: RuntimeWarning: Glyph 50808 missing from current font.\n",
      "  font.set_text(s, 0, flags=flags)\n",
      "/usr/local/lib/python3.7/dist-packages/matplotlib/backends/backend_agg.py:183: RuntimeWarning: Glyph 44397 missing from current font.\n",
      "  font.set_text(s, 0, flags=flags)\n",
      "/usr/local/lib/python3.7/dist-packages/matplotlib/backends/backend_agg.py:183: RuntimeWarning: Glyph 51064 missing from current font.\n",
      "  font.set_text(s, 0, flags=flags)\n",
      "/usr/local/lib/python3.7/dist-packages/matplotlib/backends/backend_agg.py:183: RuntimeWarning: Glyph 51008 missing from current font.\n",
      "  font.set_text(s, 0, flags=flags)\n",
      "/usr/local/lib/python3.7/dist-packages/matplotlib/backends/backend_agg.py:183: RuntimeWarning: Glyph 54665 missing from current font.\n",
      "  font.set_text(s, 0, flags=flags)\n"
     ]
    },
    {
     "data": {
      "text/plain": [
       "<matplotlib.axes._subplots.AxesSubplot at 0x7fa836d09ed0>"
      ]
     },
     "execution_count": 24,
     "metadata": {},
     "output_type": "execute_result"
    },
    {
     "data": {
      "image/png": "[encoded data removed]",
      "text/plain": [
       "<Figure size 432x288 with 2 Axes>"
      ]
     },
     "metadata": {
      "needs_background": "light"
     },
     "output_type": "display_data"
    }
   ],
   "source": [
    "# 위의 데이터프레임으로 히트맵 그려보기\n"
   ]
  },
  {
   "cell_type": "code",
   "execution_count": 25,
   "id": "02bbd53e",
   "metadata": {
    "ExecuteTime": {
     "end_time": "2022-04-28T05:22:33.573475Z",
     "start_time": "2022-04-28T05:22:33.332091Z"
    },
    "colab": {
     "base_uri": "https://localhost:8080/",
     "height": 276
    },
    "executionInfo": {
     "elapsed": 700,
     "status": "ok",
     "timestamp": 1651133959293,
     "user": {
      "displayName": "서명교",
      "userId": "11730583039526359700"
     },
     "user_tz": -540
    },
    "id": "02bbd53e",
    "outputId": "a928ff78-7eb0-4cbd-cd2f-457a6facdfdc"
   },
   "outputs": [
    {
     "data": {
      "image/png": "[encoded data removed]",
      "text/plain": [
       "<Figure size 432x288 with 2 Axes>"
      ]
     },
     "metadata": {
      "needs_background": "light"
     },
     "output_type": "display_data"
    }
   ],
   "source": [
    "# 두 그래프(종가, 외국인) 를 한 번에 그리기 y축 양쪽에 표시 되도록\n"
   ]
  },
  {
   "cell_type": "code",
   "execution_count": 26,
   "id": "94e3f0de",
   "metadata": {
    "ExecuteTime": {
     "end_time": "2022-04-28T06:30:45.535910Z",
     "start_time": "2022-04-28T06:30:45.524975Z"
    },
    "colab": {
     "base_uri": "https://localhost:8080/"
    },
    "executionInfo": {
     "elapsed": 22,
     "status": "ok",
     "timestamp": 1651133959294,
     "user": {
      "displayName": "서명교",
      "userId": "11730583039526359700"
     },
     "user_tz": -540
    },
    "id": "94e3f0de",
    "outputId": "b32911f4-d90d-49e4-f859-f796c093a2bc"
   },
   "outputs": [
    {
     "name": "stdout",
     "output_type": "stream",
     "text": [
      "                  종가       연기금       외국인        은행\n",
      "날짜                                                \n",
      "2020-04-01  0.000000  0.000000  0.000000  0.694711\n",
      "2020-04-02  0.191489  0.667524  0.434917  0.771071\n",
      "2020-04-03  0.186606  0.220215  0.203563  0.647385\n",
      "2020-04-06  0.504360  0.692641  0.787176  0.819086\n",
      "2020-04-07  0.645971  0.105741  0.332417  0.442476\n",
      "2020-04-08  0.542030  0.205327  0.666389  0.804548\n",
      "2020-04-09  0.671782  0.183013  0.407548  0.000000\n",
      "2020-04-10  0.755145  0.832617  0.460618  1.000000\n",
      "2020-04-13  0.594698  0.490248  0.266921  0.860819\n",
      "2020-04-14  0.735961  1.000000  0.996259  0.871523\n",
      "2020-04-16  0.723753  0.524504  0.140640  0.625887\n",
      "2020-04-17  1.000000  0.458836  1.000000  0.907128\n",
      "2020-04-20  0.899547  0.208352  0.137918  0.673046\n"
     ]
    }
   ],
   "source": [
    "from sklearn.preprocessing import MinMaxScaler\n",
    "\n",
    "scaler = MinMaxScaler()\n",
    "df_minmax = scaler.fit_transform(asd)\n",
    "\n",
    "asd_df = pd.DataFrame(df_minmax, columns = ['종가', '연기금','외국인','은행'] ,index = asd.index)\n",
    "print(asd_df)"
   ]
  },
  {
   "cell_type": "code",
   "execution_count": 27,
   "id": "2c26250e",
   "metadata": {
    "ExecuteTime": {
     "end_time": "2022-04-28T06:30:47.746033Z",
     "start_time": "2022-04-28T06:30:47.580485Z"
    },
    "colab": {
     "base_uri": "https://localhost:8080/",
     "height": 265
    },
    "executionInfo": {
     "elapsed": 18,
     "status": "ok",
     "timestamp": 1651133959295,
     "user": {
      "displayName": "서명교",
      "userId": "11730583039526359700"
     },
     "user_tz": -540
    },
    "id": "2c26250e",
    "outputId": "726b5148-add8-43f4-f8ac-c57d37da099e"
   },
   "outputs": [
    {
     "data": {
      "image/png": "[encoded data removed]",
      "text/plain": [
       "<Figure size 432x288 with 1 Axes>"
      ]
     },
     "metadata": {
      "needs_background": "light"
     },
     "output_type": "display_data"
    }
   ],
   "source": [
    "import matplotlib.pyplot as plt\n",
    "\n",
    "plt.plot(asd_df.index,asd_df['종가'])\n",
    "plt.plot(asd_df.index,asd_df['외국인'], color = 'red')\n",
    "\n",
    "plt.show()"
   ]
  },
  {
   "cell_type": "code",
   "execution_count": 28,
   "id": "4c993a28",
   "metadata": {
    "ExecuteTime": {
     "end_time": "2022-04-28T06:30:50.346202Z",
     "start_time": "2022-04-28T06:30:50.334214Z"
    },
    "colab": {
     "base_uri": "https://localhost:8080/",
     "height": 488
    },
    "executionInfo": {
     "elapsed": 16,
     "status": "ok",
     "timestamp": 1651133959296,
     "user": {
      "displayName": "서명교",
      "userId": "11730583039526359700"
     },
     "user_tz": -540
    },
    "id": "4c993a28",
    "outputId": "b7a7a106-7232-47da-94e5-314ceec55abd"
   },
   "outputs": [
    {
     "data": {
      "text/html": [
       "\n",
       "  <div id=\"df-8c502c7c-d1c9-40c0-801a-72729371372a\">\n",
       "    <div class=\"colab-df-container\">\n",
       "      <div>\n",
       "<style scoped>\n",
       "    .dataframe tbody tr th:only-of-type {\n",
       "        vertical-align: middle;\n",
       "    }\n",
       "\n",
       "    .dataframe tbody tr th {\n",
       "        vertical-align: top;\n",
       "    }\n",
       "\n",
       "    .dataframe thead th {\n",
       "        text-align: right;\n",
       "    }\n",
       "</style>\n",
       "<table border=\"1\" class=\"dataframe\">\n",
       "  <thead>\n",
       "    <tr style=\"text-align: right;\">\n",
       "      <th></th>\n",
       "      <th>종가</th>\n",
       "      <th>연기금</th>\n",
       "      <th>외국인</th>\n",
       "      <th>은행</th>\n",
       "    </tr>\n",
       "    <tr>\n",
       "      <th>날짜</th>\n",
       "      <th></th>\n",
       "      <th></th>\n",
       "      <th></th>\n",
       "      <th></th>\n",
       "    </tr>\n",
       "  </thead>\n",
       "  <tbody>\n",
       "    <tr>\n",
       "      <th>2020-04-14</th>\n",
       "      <td>247.45</td>\n",
       "      <td>8657716</td>\n",
       "      <td>11410336</td>\n",
       "      <td>46625</td>\n",
       "    </tr>\n",
       "    <tr>\n",
       "      <th>2020-04-10</th>\n",
       "      <td>248.00</td>\n",
       "      <td>6563627</td>\n",
       "      <td>-7537519</td>\n",
       "      <td>112842</td>\n",
       "    </tr>\n",
       "    <tr>\n",
       "      <th>2020-04-06</th>\n",
       "      <td>240.81</td>\n",
       "      <td>4812420</td>\n",
       "      <td>4014191</td>\n",
       "      <td>19599</td>\n",
       "    </tr>\n",
       "    <tr>\n",
       "      <th>2020-04-02</th>\n",
       "      <td>231.84</td>\n",
       "      <td>4498194</td>\n",
       "      <td>-8446659</td>\n",
       "      <td>-5148</td>\n",
       "    </tr>\n",
       "    <tr>\n",
       "      <th>2020-04-16</th>\n",
       "      <td>247.10</td>\n",
       "      <td>2708900</td>\n",
       "      <td>-18856436</td>\n",
       "      <td>-79976</td>\n",
       "    </tr>\n",
       "    <tr>\n",
       "      <th>2020-04-13</th>\n",
       "      <td>243.40</td>\n",
       "      <td>2280334</td>\n",
       "      <td>-14389369</td>\n",
       "      <td>41108</td>\n",
       "    </tr>\n",
       "    <tr>\n",
       "      <th>2020-04-17</th>\n",
       "      <td>255.02</td>\n",
       "      <td>1887342</td>\n",
       "      <td>11542658</td>\n",
       "      <td>64976</td>\n",
       "    </tr>\n",
       "    <tr>\n",
       "      <th>2020-04-03</th>\n",
       "      <td>231.70</td>\n",
       "      <td>-1097980</td>\n",
       "      <td>-16630604</td>\n",
       "      <td>-68896</td>\n",
       "    </tr>\n",
       "    <tr>\n",
       "      <th>2020-04-20</th>\n",
       "      <td>252.14</td>\n",
       "      <td>-1246400</td>\n",
       "      <td>-18952749</td>\n",
       "      <td>-55670</td>\n",
       "    </tr>\n",
       "    <tr>\n",
       "      <th>2020-04-08</th>\n",
       "      <td>241.89</td>\n",
       "      <td>-1284245</td>\n",
       "      <td>-258549</td>\n",
       "      <td>12106</td>\n",
       "    </tr>\n",
       "    <tr>\n",
       "      <th>2020-04-09</th>\n",
       "      <td>245.61</td>\n",
       "      <td>-1563409</td>\n",
       "      <td>-9414818</td>\n",
       "      <td>-402558</td>\n",
       "    </tr>\n",
       "    <tr>\n",
       "      <th>2020-04-07</th>\n",
       "      <td>244.87</td>\n",
       "      <td>-2530144</td>\n",
       "      <td>-12072491</td>\n",
       "      <td>-174506</td>\n",
       "    </tr>\n",
       "    <tr>\n",
       "      <th>2020-04-01</th>\n",
       "      <td>226.35</td>\n",
       "      <td>-3853041</td>\n",
       "      <td>-23831466</td>\n",
       "      <td>-44504</td>\n",
       "    </tr>\n",
       "  </tbody>\n",
       "</table>\n",
       "</div>\n",
       "      <button class=\"colab-df-convert\" onclick=\"convertToInteractive('df-8c502c7c-d1c9-40c0-801a-72729371372a')\"\n",
       "              title=\"Convert this dataframe to an interactive table.\"\n",
       "              style=\"display:none;\">\n",
       "        \n",
       "  <svg xmlns=\"http://www.w3.org/2000/svg\" height=\"24px\"viewBox=\"0 0 24 24\"\n",
       "       width=\"24px\">\n",
       "    <path d=\"M0 0h24v24H0V0z\" fill=\"none\"/>\n",
       "    <path d=\"M18.56 5.44l.94 2.06.94-2.06 2.06-.94-2.06-.94-.94-2.06-.94 2.06-2.06.94zm-11 1L8.5 8.5l.94-2.06 2.06-.94-2.06-.94L8.5 2.5l-.94 2.06-2.06.94zm10 10l.94 2.06.94-2.06 2.06-.94-2.06-.94-.94-2.06-.94 2.06-2.06.94z\"/><path d=\"M17.41 7.96l-1.37-1.37c-.4-.4-.92-.59-1.43-.59-.52 0-1.04.2-1.43.59L10.3 9.45l-7.72 7.72c-.78.78-.78 2.05 0 2.83L4 21.41c.39.39.9.59 1.41.59.51 0 1.02-.2 1.41-.59l7.78-7.78 2.81-2.81c.8-.78.8-2.07 0-2.86zM5.41 20L4 18.59l7.72-7.72 1.47 1.35L5.41 20z\"/>\n",
       "  </svg>\n",
       "      </button>\n",
       "      \n",
       "  <style>\n",
       "    .colab-df-container {\n",
       "      display:flex;\n",
       "      flex-wrap:wrap;\n",
       "      gap: 12px;\n",
       "    }\n",
       "\n",
       "    .colab-df-convert {\n",
       "      background-color: #E8F0FE;\n",
       "      border: none;\n",
       "      border-radius: 50%;\n",
       "      cursor: pointer;\n",
       "      display: none;\n",
       "      fill: #1967D2;\n",
       "      height: 32px;\n",
       "      padding: 0 0 0 0;\n",
       "      width: 32px;\n",
       "    }\n",
       "\n",
       "    .colab-df-convert:hover {\n",
       "      background-color: #E2EBFA;\n",
       "      box-shadow: 0px 1px 2px rgba(60, 64, 67, 0.3), 0px 1px 3px 1px rgba(60, 64, 67, 0.15);\n",
       "      fill: #174EA6;\n",
       "    }\n",
       "\n",
       "    [theme=dark] .colab-df-convert {\n",
       "      background-color: #3B4455;\n",
       "      fill: #D2E3FC;\n",
       "    }\n",
       "\n",
       "    [theme=dark] .colab-df-convert:hover {\n",
       "      background-color: #434B5C;\n",
       "      box-shadow: 0px 1px 3px 1px rgba(0, 0, 0, 0.15);\n",
       "      filter: drop-shadow(0px 1px 2px rgba(0, 0, 0, 0.3));\n",
       "      fill: #FFFFFF;\n",
       "    }\n",
       "  </style>\n",
       "\n",
       "      <script>\n",
       "        const buttonEl =\n",
       "          document.querySelector('#df-8c502c7c-d1c9-40c0-801a-72729371372a button.colab-df-convert');\n",
       "        buttonEl.style.display =\n",
       "          google.colab.kernel.accessAllowed ? 'block' : 'none';\n",
       "\n",
       "        async function convertToInteractive(key) {\n",
       "          const element = document.querySelector('#df-8c502c7c-d1c9-40c0-801a-72729371372a');\n",
       "          const dataTable =\n",
       "            await google.colab.kernel.invokeFunction('convertToInteractive',\n",
       "                                                     [key], {});\n",
       "          if (!dataTable) return;\n",
       "\n",
       "          const docLinkHtml = 'Like what you see? Visit the ' +\n",
       "            '<a target=\"_blank\" href=https://colab.research.google.com/notebooks/data_table.ipynb>data table notebook</a>'\n",
       "            + ' to learn more about interactive tables.';\n",
       "          element.innerHTML = '';\n",
       "          dataTable['output_type'] = 'display_data';\n",
       "          await google.colab.output.renderOutput(dataTable, element);\n",
       "          const docLink = document.createElement('div');\n",
       "          docLink.innerHTML = docLinkHtml;\n",
       "          element.appendChild(docLink);\n",
       "        }\n",
       "      </script>\n",
       "    </div>\n",
       "  </div>\n",
       "  "
      ],
      "text/plain": [
       "                종가      연기금       외국인      은행\n",
       "날짜                                           \n",
       "2020-04-14  247.45  8657716  11410336   46625\n",
       "2020-04-10  248.00  6563627  -7537519  112842\n",
       "2020-04-06  240.81  4812420   4014191   19599\n",
       "2020-04-02  231.84  4498194  -8446659   -5148\n",
       "2020-04-16  247.10  2708900 -18856436  -79976\n",
       "2020-04-13  243.40  2280334 -14389369   41108\n",
       "2020-04-17  255.02  1887342  11542658   64976\n",
       "2020-04-03  231.70 -1097980 -16630604  -68896\n",
       "2020-04-20  252.14 -1246400 -18952749  -55670\n",
       "2020-04-08  241.89 -1284245   -258549   12106\n",
       "2020-04-09  245.61 -1563409  -9414818 -402558\n",
       "2020-04-07  244.87 -2530144 -12072491 -174506\n",
       "2020-04-01  226.35 -3853041 -23831466  -44504"
      ]
     },
     "execution_count": 28,
     "metadata": {},
     "output_type": "execute_result"
    }
   ],
   "source": [
    "# 연기금 칼럼 기준으로 내림차순 정렬하기\n"
   ]
  },
  {
   "cell_type": "code",
   "execution_count": 29,
   "id": "77fb0752",
   "metadata": {
    "ExecuteTime": {
     "end_time": "2022-04-28T07:01:01.592077Z",
     "start_time": "2022-04-28T07:01:01.579138Z"
    },
    "colab": {
     "base_uri": "https://localhost:8080/"
    },
    "executionInfo": {
     "elapsed": 16,
     "status": "ok",
     "timestamp": 1651133959297,
     "user": {
      "displayName": "서명교",
      "userId": "11730583039526359700"
     },
     "user_tz": -540
    },
    "id": "77fb0752",
    "outputId": "f0851d86-5f7a-47f6-b581-7abe067ff8b3"
   },
   "outputs": [
    {
     "name": "stdout",
     "output_type": "stream",
     "text": [
      "<class 'pandas.core.frame.DataFrame'>\n",
      "DatetimeIndex: 13 entries, 2020-04-01 to 2020-04-20\n",
      "Data columns (total 4 columns):\n",
      " #   Column  Non-Null Count  Dtype  \n",
      "---  ------  --------------  -----  \n",
      " 0   종가      13 non-null     float64\n",
      " 1   연기금     13 non-null     int64  \n",
      " 2   외국인     13 non-null     int64  \n",
      " 3   은행      13 non-null     int64  \n",
      "dtypes: float64(1), int64(3)\n",
      "memory usage: 520.0 bytes\n"
     ]
    }
   ],
   "source": [
    "# 정보 보기\n"
   ]
  },
  {
   "cell_type": "code",
   "execution_count": 31,
   "id": "e86c2275",
   "metadata": {
    "ExecuteTime": {
     "end_time": "2022-04-28T07:28:59.595286Z",
     "start_time": "2022-04-28T07:28:59.393793Z"
    },
    "colab": {
     "base_uri": "https://localhost:8080/",
     "height": 276
    },
    "executionInfo": {
     "elapsed": 1019,
     "status": "ok",
     "timestamp": 1651133986166,
     "user": {
      "displayName": "서명교",
      "userId": "11730583039526359700"
     },
     "user_tz": -540
    },
    "id": "e86c2275",
    "outputId": "928cba24-c135-4c91-bd63-d7dd1c749a2c"
   },
   "outputs": [
    {
     "data": {
      "image/png": "[encoded data removed]",
      "text/plain": [
       "<Figure size 432x288 with 1 Axes>"
      ]
     },
     "metadata": {
      "needs_background": "light"
     },
     "output_type": "display_data"
    }
   ],
   "source": [
    "import matplotlib.pyplot as plt\n",
    "import matplotlib.patches as patches\n",
    "\n",
    "fig, ax = plt.subplots()\n",
    "\n",
    "ax.plot(asd.index, asd['연기금'])\n",
    "plt.annotate(\"Here\", xytext=(pd.to_datetime('2020-04-19'), 8657716), xy=(pd.to_datetime('2020-04-14'), 8657716), \n",
    "            arrowprops=dict(arrowstyle=\"->\"))\n",
    "\n",
    "# arrow = patches.FancyArrowPatch((pd.to_datetime('2020-04-19'), 8657716),\n",
    "#                                 (pd.to_datetime('2020-04-14'), 8657716),\n",
    "#                                 mutation_scale =10,\n",
    "#                                 color = 'red',\n",
    "#                                 fill = True,\n",
    "#                                 alpha =0.8)\n",
    "# plt.gca().add_patch(arrow)\n",
    "# plt.xlim(pd.to_datetime('2020-04-01'), pd.to_datetime('2020-04-20')) \n",
    "\n",
    "plt.show()"
   ]
  },
  {
   "cell_type": "code",
   "execution_count": 32,
   "id": "570647a1",
   "metadata": {
    "colab": {
     "base_uri": "https://localhost:8080/",
     "height": 276
    },
    "executionInfo": {
     "elapsed": 1246,
     "status": "ok",
     "timestamp": 1651134019591,
     "user": {
      "displayName": "서명교",
      "userId": "11730583039526359700"
     },
     "user_tz": -540
    },
    "id": "570647a1",
    "outputId": "83fa435e-22ad-45c2-cffa-a20fbf00ff7a"
   },
   "outputs": [
    {
     "data": {
      "image/png": "[encoded data removed]",
      "text/plain": [
       "<Figure size 432x288 with 2 Axes>"
      ]
     },
     "metadata": {
      "needs_background": "light"
     },
     "output_type": "display_data"
    }
   ],
   "source": [
    "import matplotlib.pyplot as plt\n",
    "fig, ax1 = plt.subplots()\n",
    "\n",
    "ax1.plot(df.index,df['종가'])\n",
    "ax1.annotate(\"2020-04-14\", xy=(pd.to_datetime('2020-04-14'), df[df.index==pd.to_datetime('2020-04-14')]['종가']), xytext=(pd.to_datetime('2020-04-14'), df[df.index==pd.to_datetime('2020-04-14')]['종가']-20),\n",
    "            arrowprops=dict(arrowstyle=\"->\"))\n",
    "\n",
    "ax2 = ax1.twinx()\n",
    "ax2.plot(df_v.index,df_v['연기금'], color = 'red')\n",
    "# ax1.plot(asd.index, asd['연기금'])\n",
    "# plt.arrow( pd.to_datetime('2020-04-14'), 8657716 , 0.5, 0.5 ,head_width=0.15,  head_length=0.1)\n",
    "ax2.annotate(\"2020-04-14\", xy=(pd.to_datetime('2020-04-14'), 8657716), xytext=(pd.to_datetime('2020-04-14'), 2),\n",
    "            arrowprops=dict(arrowstyle=\"->\"))\n",
    "plt.show()"
   ]
  },
  {
   "cell_type": "code",
   "execution_count": null,
   "id": "1y17YMEuPtwj",
   "metadata": {
    "id": "1y17YMEuPtwj"
   },
   "outputs": [],
   "source": []
  },
  {
   "cell_type": "code",
   "execution_count": null,
   "id": "tvFZjz9GPtjx",
   "metadata": {
    "id": "tvFZjz9GPtjx"
   },
   "outputs": [],
   "source": []
  },
  {
   "cell_type": "code",
   "execution_count": null,
   "id": "Nm7RvN16PtZX",
   "metadata": {
    "id": "Nm7RvN16PtZX"
   },
   "outputs": [],
   "source": []
  },
  {
   "cell_type": "markdown",
   "id": "2a2d6f75",
   "metadata": {
    "id": "2a2d6f75"
   },
   "source": [
    "## scaler"
   ]
  },
  {
   "cell_type": "markdown",
   "id": "10cd4b37",
   "metadata": {
    "id": "10cd4b37"
   },
   "source": [
    "1. Standard Scaler\n",
    "- 기존 변수의 범위를 정규 분포로 변환하는 것.\n",
    "- 데이터의 최소 최대를 모를 때 사용\n",
    "- 모든 피처의 평균을 0, 분산을 1로 만듬\n",
    "- 이상치가 있다면 평균과 표준편차에 영향을 미치기 때문에 데이터의 확산이 달라지게 됨\n",
    "-  이상치가 많다면 사용하지 않는 것이 좋음 \n",
    "\n",
    "2. Normalizer\n",
    "- 각 변수의 값을 원점으로부터 1만큼 떨어져 있는 범위 내로 변환 \n",
    "- 빠르게 학습할 수 있고 과대적합 확률을 낮출 수 있음\n",
    "   \n",
    "3. MinMaxScaler\n",
    "- 데이터의 값들을 0~1 사이의 값으로 변환시키는 것\n",
    "- 각 변수가 정규분포(bell-shape)가 아니거나 표준 편차가 작을 때 효과적\n",
    "- BUT Standard Scaler와 같이 이상치 존재에 민감\n",
    "\n",
    "4. Robust Scaler\n",
    "- 모든 피처가 같은 크기를 갖는 다는 점이 standard와 유사 \n",
    "- BUT 평균과 분산이 아닌 중위수(median)과 IQR(사분위수)를 사용함\n",
    "- Standard scaler에 비해 이상치의 영향이 적어짐 \n",
    "\n"
   ]
  },
  {
   "cell_type": "code",
   "execution_count": null,
   "id": "bd7e7f75",
   "metadata": {
    "colab": {
     "base_uri": "https://localhost:8080/",
     "height": 394
    },
    "executionInfo": {
     "elapsed": 475,
     "status": "ok",
     "timestamp": 1651131758554,
     "user": {
      "displayName": "서명교",
      "userId": "11730583039526359700"
     },
     "user_tz": -540
    },
    "id": "bd7e7f75",
    "outputId": "e76950ac-c39e-41db-e326-ea1bf61c8146"
   },
   "outputs": [
    {
     "data": {
      "text/html": [
       "\n",
       "  <div id=\"df-0ac1b74a-85fd-4f7b-8e07-1516b2c62cb9\">\n",
       "    <div class=\"colab-df-container\">\n",
       "      <div>\n",
       "<style scoped>\n",
       "    .dataframe tbody tr th:only-of-type {\n",
       "        vertical-align: middle;\n",
       "    }\n",
       "\n",
       "    .dataframe tbody tr th {\n",
       "        vertical-align: top;\n",
       "    }\n",
       "\n",
       "    .dataframe thead th {\n",
       "        text-align: right;\n",
       "    }\n",
       "</style>\n",
       "<table border=\"1\" class=\"dataframe\">\n",
       "  <thead>\n",
       "    <tr style=\"text-align: right;\">\n",
       "      <th></th>\n",
       "      <th>x1</th>\n",
       "      <th>x2</th>\n",
       "    </tr>\n",
       "  </thead>\n",
       "  <tbody>\n",
       "    <tr>\n",
       "      <th>0</th>\n",
       "      <td>0</td>\n",
       "      <td>0</td>\n",
       "    </tr>\n",
       "    <tr>\n",
       "      <th>1</th>\n",
       "      <td>1</td>\n",
       "      <td>1</td>\n",
       "    </tr>\n",
       "    <tr>\n",
       "      <th>2</th>\n",
       "      <td>2</td>\n",
       "      <td>4</td>\n",
       "    </tr>\n",
       "    <tr>\n",
       "      <th>3</th>\n",
       "      <td>3</td>\n",
       "      <td>9</td>\n",
       "    </tr>\n",
       "    <tr>\n",
       "      <th>4</th>\n",
       "      <td>4</td>\n",
       "      <td>16</td>\n",
       "    </tr>\n",
       "    <tr>\n",
       "      <th>5</th>\n",
       "      <td>5</td>\n",
       "      <td>25</td>\n",
       "    </tr>\n",
       "    <tr>\n",
       "      <th>6</th>\n",
       "      <td>6</td>\n",
       "      <td>36</td>\n",
       "    </tr>\n",
       "    <tr>\n",
       "      <th>7</th>\n",
       "      <td>7</td>\n",
       "      <td>49</td>\n",
       "    </tr>\n",
       "    <tr>\n",
       "      <th>8</th>\n",
       "      <td>8</td>\n",
       "      <td>64</td>\n",
       "    </tr>\n",
       "    <tr>\n",
       "      <th>9</th>\n",
       "      <td>9</td>\n",
       "      <td>81</td>\n",
       "    </tr>\n",
       "    <tr>\n",
       "      <th>10</th>\n",
       "      <td>10</td>\n",
       "      <td>100</td>\n",
       "    </tr>\n",
       "  </tbody>\n",
       "</table>\n",
       "</div>\n",
       "      <button class=\"colab-df-convert\" onclick=\"convertToInteractive('df-0ac1b74a-85fd-4f7b-8e07-1516b2c62cb9')\"\n",
       "              title=\"Convert this dataframe to an interactive table.\"\n",
       "              style=\"display:none;\">\n",
       "        \n",
       "  <svg xmlns=\"http://www.w3.org/2000/svg\" height=\"24px\"viewBox=\"0 0 24 24\"\n",
       "       width=\"24px\">\n",
       "    <path d=\"M0 0h24v24H0V0z\" fill=\"none\"/>\n",
       "    <path d=\"M18.56 5.44l.94 2.06.94-2.06 2.06-.94-2.06-.94-.94-2.06-.94 2.06-2.06.94zm-11 1L8.5 8.5l.94-2.06 2.06-.94-2.06-.94L8.5 2.5l-.94 2.06-2.06.94zm10 10l.94 2.06.94-2.06 2.06-.94-2.06-.94-.94-2.06-.94 2.06-2.06.94z\"/><path d=\"M17.41 7.96l-1.37-1.37c-.4-.4-.92-.59-1.43-.59-.52 0-1.04.2-1.43.59L10.3 9.45l-7.72 7.72c-.78.78-.78 2.05 0 2.83L4 21.41c.39.39.9.59 1.41.59.51 0 1.02-.2 1.41-.59l7.78-7.78 2.81-2.81c.8-.78.8-2.07 0-2.86zM5.41 20L4 18.59l7.72-7.72 1.47 1.35L5.41 20z\"/>\n",
       "  </svg>\n",
       "      </button>\n",
       "      \n",
       "  <style>\n",
       "    .colab-df-container {\n",
       "      display:flex;\n",
       "      flex-wrap:wrap;\n",
       "      gap: 12px;\n",
       "    }\n",
       "\n",
       "    .colab-df-convert {\n",
       "      background-color: #E8F0FE;\n",
       "      border: none;\n",
       "      border-radius: 50%;\n",
       "      cursor: pointer;\n",
       "      display: none;\n",
       "      fill: #1967D2;\n",
       "      height: 32px;\n",
       "      padding: 0 0 0 0;\n",
       "      width: 32px;\n",
       "    }\n",
       "\n",
       "    .colab-df-convert:hover {\n",
       "      background-color: #E2EBFA;\n",
       "      box-shadow: 0px 1px 2px rgba(60, 64, 67, 0.3), 0px 1px 3px 1px rgba(60, 64, 67, 0.15);\n",
       "      fill: #174EA6;\n",
       "    }\n",
       "\n",
       "    [theme=dark] .colab-df-convert {\n",
       "      background-color: #3B4455;\n",
       "      fill: #D2E3FC;\n",
       "    }\n",
       "\n",
       "    [theme=dark] .colab-df-convert:hover {\n",
       "      background-color: #434B5C;\n",
       "      box-shadow: 0px 1px 3px 1px rgba(0, 0, 0, 0.15);\n",
       "      filter: drop-shadow(0px 1px 2px rgba(0, 0, 0, 0.3));\n",
       "      fill: #FFFFFF;\n",
       "    }\n",
       "  </style>\n",
       "\n",
       "      <script>\n",
       "        const buttonEl =\n",
       "          document.querySelector('#df-0ac1b74a-85fd-4f7b-8e07-1516b2c62cb9 button.colab-df-convert');\n",
       "        buttonEl.style.display =\n",
       "          google.colab.kernel.accessAllowed ? 'block' : 'none';\n",
       "\n",
       "        async function convertToInteractive(key) {\n",
       "          const element = document.querySelector('#df-0ac1b74a-85fd-4f7b-8e07-1516b2c62cb9');\n",
       "          const dataTable =\n",
       "            await google.colab.kernel.invokeFunction('convertToInteractive',\n",
       "                                                     [key], {});\n",
       "          if (!dataTable) return;\n",
       "\n",
       "          const docLinkHtml = 'Like what you see? Visit the ' +\n",
       "            '<a target=\"_blank\" href=https://colab.research.google.com/notebooks/data_table.ipynb>data table notebook</a>'\n",
       "            + ' to learn more about interactive tables.';\n",
       "          element.innerHTML = '';\n",
       "          dataTable['output_type'] = 'display_data';\n",
       "          await google.colab.output.renderOutput(dataTable, element);\n",
       "          const docLink = document.createElement('div');\n",
       "          docLink.innerHTML = docLinkHtml;\n",
       "          element.appendChild(docLink);\n",
       "        }\n",
       "      </script>\n",
       "    </div>\n",
       "  </div>\n",
       "  "
      ],
      "text/plain": [
       "    x1   x2\n",
       "0    0    0\n",
       "1    1    1\n",
       "2    2    4\n",
       "3    3    9\n",
       "4    4   16\n",
       "5    5   25\n",
       "6    6   36\n",
       "7    7   49\n",
       "8    8   64\n",
       "9    9   81\n",
       "10  10  100"
      ]
     },
     "execution_count": 1,
     "metadata": {},
     "output_type": "execute_result"
    }
   ],
   "source": [
    "import pandas as pd\n",
    "import numpy as np\n",
    "\n",
    "df = pd.DataFrame({'x1' : np.arange(11), 'x2' : np.arange(11) ** 2})\n",
    "df"
   ]
  },
  {
   "cell_type": "code",
   "execution_count": null,
   "id": "abcec2ac",
   "metadata": {
    "colab": {
     "base_uri": "https://localhost:8080/",
     "height": 394
    },
    "executionInfo": {
     "elapsed": 616,
     "status": "ok",
     "timestamp": 1651131759164,
     "user": {
      "displayName": "서명교",
      "userId": "11730583039526359700"
     },
     "user_tz": -540
    },
    "id": "abcec2ac",
    "outputId": "62a3a7a2-c620-44bb-b739-ef0a3539a963"
   },
   "outputs": [
    {
     "data": {
      "text/html": [
       "\n",
       "  <div id=\"df-cde671f8-6734-49bb-820f-f015ee9259cf\">\n",
       "    <div class=\"colab-df-container\">\n",
       "      <div>\n",
       "<style scoped>\n",
       "    .dataframe tbody tr th:only-of-type {\n",
       "        vertical-align: middle;\n",
       "    }\n",
       "\n",
       "    .dataframe tbody tr th {\n",
       "        vertical-align: top;\n",
       "    }\n",
       "\n",
       "    .dataframe thead th {\n",
       "        text-align: right;\n",
       "    }\n",
       "</style>\n",
       "<table border=\"1\" class=\"dataframe\">\n",
       "  <thead>\n",
       "    <tr style=\"text-align: right;\">\n",
       "      <th></th>\n",
       "      <th>x1_std</th>\n",
       "      <th>x2_std</th>\n",
       "    </tr>\n",
       "  </thead>\n",
       "  <tbody>\n",
       "    <tr>\n",
       "      <th>0</th>\n",
       "      <td>-1.581139</td>\n",
       "      <td>-1.066004</td>\n",
       "    </tr>\n",
       "    <tr>\n",
       "      <th>1</th>\n",
       "      <td>-1.264911</td>\n",
       "      <td>-1.035546</td>\n",
       "    </tr>\n",
       "    <tr>\n",
       "      <th>2</th>\n",
       "      <td>-0.948683</td>\n",
       "      <td>-0.944175</td>\n",
       "    </tr>\n",
       "    <tr>\n",
       "      <th>3</th>\n",
       "      <td>-0.632456</td>\n",
       "      <td>-0.791888</td>\n",
       "    </tr>\n",
       "    <tr>\n",
       "      <th>4</th>\n",
       "      <td>-0.316228</td>\n",
       "      <td>-0.578688</td>\n",
       "    </tr>\n",
       "    <tr>\n",
       "      <th>5</th>\n",
       "      <td>0.000000</td>\n",
       "      <td>-0.304572</td>\n",
       "    </tr>\n",
       "    <tr>\n",
       "      <th>6</th>\n",
       "      <td>0.316228</td>\n",
       "      <td>0.030457</td>\n",
       "    </tr>\n",
       "    <tr>\n",
       "      <th>7</th>\n",
       "      <td>0.632456</td>\n",
       "      <td>0.426401</td>\n",
       "    </tr>\n",
       "    <tr>\n",
       "      <th>8</th>\n",
       "      <td>0.948683</td>\n",
       "      <td>0.883260</td>\n",
       "    </tr>\n",
       "    <tr>\n",
       "      <th>9</th>\n",
       "      <td>1.264911</td>\n",
       "      <td>1.401033</td>\n",
       "    </tr>\n",
       "    <tr>\n",
       "      <th>10</th>\n",
       "      <td>1.581139</td>\n",
       "      <td>1.979721</td>\n",
       "    </tr>\n",
       "  </tbody>\n",
       "</table>\n",
       "</div>\n",
       "      <button class=\"colab-df-convert\" onclick=\"convertToInteractive('df-cde671f8-6734-49bb-820f-f015ee9259cf')\"\n",
       "              title=\"Convert this dataframe to an interactive table.\"\n",
       "              style=\"display:none;\">\n",
       "        \n",
       "  <svg xmlns=\"http://www.w3.org/2000/svg\" height=\"24px\"viewBox=\"0 0 24 24\"\n",
       "       width=\"24px\">\n",
       "    <path d=\"M0 0h24v24H0V0z\" fill=\"none\"/>\n",
       "    <path d=\"M18.56 5.44l.94 2.06.94-2.06 2.06-.94-2.06-.94-.94-2.06-.94 2.06-2.06.94zm-11 1L8.5 8.5l.94-2.06 2.06-.94-2.06-.94L8.5 2.5l-.94 2.06-2.06.94zm10 10l.94 2.06.94-2.06 2.06-.94-2.06-.94-.94-2.06-.94 2.06-2.06.94z\"/><path d=\"M17.41 7.96l-1.37-1.37c-.4-.4-.92-.59-1.43-.59-.52 0-1.04.2-1.43.59L10.3 9.45l-7.72 7.72c-.78.78-.78 2.05 0 2.83L4 21.41c.39.39.9.59 1.41.59.51 0 1.02-.2 1.41-.59l7.78-7.78 2.81-2.81c.8-.78.8-2.07 0-2.86zM5.41 20L4 18.59l7.72-7.72 1.47 1.35L5.41 20z\"/>\n",
       "  </svg>\n",
       "      </button>\n",
       "      \n",
       "  <style>\n",
       "    .colab-df-container {\n",
       "      display:flex;\n",
       "      flex-wrap:wrap;\n",
       "      gap: 12px;\n",
       "    }\n",
       "\n",
       "    .colab-df-convert {\n",
       "      background-color: #E8F0FE;\n",
       "      border: none;\n",
       "      border-radius: 50%;\n",
       "      cursor: pointer;\n",
       "      display: none;\n",
       "      fill: #1967D2;\n",
       "      height: 32px;\n",
       "      padding: 0 0 0 0;\n",
       "      width: 32px;\n",
       "    }\n",
       "\n",
       "    .colab-df-convert:hover {\n",
       "      background-color: #E2EBFA;\n",
       "      box-shadow: 0px 1px 2px rgba(60, 64, 67, 0.3), 0px 1px 3px 1px rgba(60, 64, 67, 0.15);\n",
       "      fill: #174EA6;\n",
       "    }\n",
       "\n",
       "    [theme=dark] .colab-df-convert {\n",
       "      background-color: #3B4455;\n",
       "      fill: #D2E3FC;\n",
       "    }\n",
       "\n",
       "    [theme=dark] .colab-df-convert:hover {\n",
       "      background-color: #434B5C;\n",
       "      box-shadow: 0px 1px 3px 1px rgba(0, 0, 0, 0.15);\n",
       "      filter: drop-shadow(0px 1px 2px rgba(0, 0, 0, 0.3));\n",
       "      fill: #FFFFFF;\n",
       "    }\n",
       "  </style>\n",
       "\n",
       "      <script>\n",
       "        const buttonEl =\n",
       "          document.querySelector('#df-cde671f8-6734-49bb-820f-f015ee9259cf button.colab-df-convert');\n",
       "        buttonEl.style.display =\n",
       "          google.colab.kernel.accessAllowed ? 'block' : 'none';\n",
       "\n",
       "        async function convertToInteractive(key) {\n",
       "          const element = document.querySelector('#df-cde671f8-6734-49bb-820f-f015ee9259cf');\n",
       "          const dataTable =\n",
       "            await google.colab.kernel.invokeFunction('convertToInteractive',\n",
       "                                                     [key], {});\n",
       "          if (!dataTable) return;\n",
       "\n",
       "          const docLinkHtml = 'Like what you see? Visit the ' +\n",
       "            '<a target=\"_blank\" href=https://colab.research.google.com/notebooks/data_table.ipynb>data table notebook</a>'\n",
       "            + ' to learn more about interactive tables.';\n",
       "          element.innerHTML = '';\n",
       "          dataTable['output_type'] = 'display_data';\n",
       "          await google.colab.output.renderOutput(dataTable, element);\n",
       "          const docLink = document.createElement('div');\n",
       "          docLink.innerHTML = docLinkHtml;\n",
       "          element.appendChild(docLink);\n",
       "        }\n",
       "      </script>\n",
       "    </div>\n",
       "  </div>\n",
       "  "
      ],
      "text/plain": [
       "      x1_std    x2_std\n",
       "0  -1.581139 -1.066004\n",
       "1  -1.264911 -1.035546\n",
       "2  -0.948683 -0.944175\n",
       "3  -0.632456 -0.791888\n",
       "4  -0.316228 -0.578688\n",
       "5   0.000000 -0.304572\n",
       "6   0.316228  0.030457\n",
       "7   0.632456  0.426401\n",
       "8   0.948683  0.883260\n",
       "9   1.264911  1.401033\n",
       "10  1.581139  1.979721"
      ]
     },
     "execution_count": 2,
     "metadata": {},
     "output_type": "execute_result"
    }
   ],
   "source": [
    "from sklearn.preprocessing import StandardScaler\n",
    "\n",
    "scaler = StandardScaler()\n",
    "df_std = scaler.fit_transform(df)\n",
    "\n",
    "pd.DataFrame(df_std, columns = ['x1_std', 'x2_std'])"
   ]
  },
  {
   "cell_type": "code",
   "execution_count": null,
   "id": "7f8982e0",
   "metadata": {
    "colab": {
     "base_uri": "https://localhost:8080/",
     "height": 394
    },
    "executionInfo": {
     "elapsed": 13,
     "status": "ok",
     "timestamp": 1651131759165,
     "user": {
      "displayName": "서명교",
      "userId": "11730583039526359700"
     },
     "user_tz": -540
    },
    "id": "7f8982e0",
    "outputId": "a1d67817-5d62-4e6c-889e-453f21535229"
   },
   "outputs": [
    {
     "data": {
      "text/html": [
       "\n",
       "  <div id=\"df-767aa5ea-6f3a-48a9-81f9-4a1285c6830b\">\n",
       "    <div class=\"colab-df-container\">\n",
       "      <div>\n",
       "<style scoped>\n",
       "    .dataframe tbody tr th:only-of-type {\n",
       "        vertical-align: middle;\n",
       "    }\n",
       "\n",
       "    .dataframe tbody tr th {\n",
       "        vertical-align: top;\n",
       "    }\n",
       "\n",
       "    .dataframe thead th {\n",
       "        text-align: right;\n",
       "    }\n",
       "</style>\n",
       "<table border=\"1\" class=\"dataframe\">\n",
       "  <thead>\n",
       "    <tr style=\"text-align: right;\">\n",
       "      <th></th>\n",
       "      <th>x1_std</th>\n",
       "      <th>x2_std</th>\n",
       "    </tr>\n",
       "  </thead>\n",
       "  <tbody>\n",
       "    <tr>\n",
       "      <th>0</th>\n",
       "      <td>0.000000</td>\n",
       "      <td>0.000000</td>\n",
       "    </tr>\n",
       "    <tr>\n",
       "      <th>1</th>\n",
       "      <td>0.707107</td>\n",
       "      <td>0.707107</td>\n",
       "    </tr>\n",
       "    <tr>\n",
       "      <th>2</th>\n",
       "      <td>0.447214</td>\n",
       "      <td>0.894427</td>\n",
       "    </tr>\n",
       "    <tr>\n",
       "      <th>3</th>\n",
       "      <td>0.316228</td>\n",
       "      <td>0.948683</td>\n",
       "    </tr>\n",
       "    <tr>\n",
       "      <th>4</th>\n",
       "      <td>0.242536</td>\n",
       "      <td>0.970143</td>\n",
       "    </tr>\n",
       "    <tr>\n",
       "      <th>5</th>\n",
       "      <td>0.196116</td>\n",
       "      <td>0.980581</td>\n",
       "    </tr>\n",
       "    <tr>\n",
       "      <th>6</th>\n",
       "      <td>0.164399</td>\n",
       "      <td>0.986394</td>\n",
       "    </tr>\n",
       "    <tr>\n",
       "      <th>7</th>\n",
       "      <td>0.141421</td>\n",
       "      <td>0.989949</td>\n",
       "    </tr>\n",
       "    <tr>\n",
       "      <th>8</th>\n",
       "      <td>0.124035</td>\n",
       "      <td>0.992278</td>\n",
       "    </tr>\n",
       "    <tr>\n",
       "      <th>9</th>\n",
       "      <td>0.110432</td>\n",
       "      <td>0.993884</td>\n",
       "    </tr>\n",
       "    <tr>\n",
       "      <th>10</th>\n",
       "      <td>0.099504</td>\n",
       "      <td>0.995037</td>\n",
       "    </tr>\n",
       "  </tbody>\n",
       "</table>\n",
       "</div>\n",
       "      <button class=\"colab-df-convert\" onclick=\"convertToInteractive('df-767aa5ea-6f3a-48a9-81f9-4a1285c6830b')\"\n",
       "              title=\"Convert this dataframe to an interactive table.\"\n",
       "              style=\"display:none;\">\n",
       "        \n",
       "  <svg xmlns=\"http://www.w3.org/2000/svg\" height=\"24px\"viewBox=\"0 0 24 24\"\n",
       "       width=\"24px\">\n",
       "    <path d=\"M0 0h24v24H0V0z\" fill=\"none\"/>\n",
       "    <path d=\"M18.56 5.44l.94 2.06.94-2.06 2.06-.94-2.06-.94-.94-2.06-.94 2.06-2.06.94zm-11 1L8.5 8.5l.94-2.06 2.06-.94-2.06-.94L8.5 2.5l-.94 2.06-2.06.94zm10 10l.94 2.06.94-2.06 2.06-.94-2.06-.94-.94-2.06-.94 2.06-2.06.94z\"/><path d=\"M17.41 7.96l-1.37-1.37c-.4-.4-.92-.59-1.43-.59-.52 0-1.04.2-1.43.59L10.3 9.45l-7.72 7.72c-.78.78-.78 2.05 0 2.83L4 21.41c.39.39.9.59 1.41.59.51 0 1.02-.2 1.41-.59l7.78-7.78 2.81-2.81c.8-.78.8-2.07 0-2.86zM5.41 20L4 18.59l7.72-7.72 1.47 1.35L5.41 20z\"/>\n",
       "  </svg>\n",
       "      </button>\n",
       "      \n",
       "  <style>\n",
       "    .colab-df-container {\n",
       "      display:flex;\n",
       "      flex-wrap:wrap;\n",
       "      gap: 12px;\n",
       "    }\n",
       "\n",
       "    .colab-df-convert {\n",
       "      background-color: #E8F0FE;\n",
       "      border: none;\n",
       "      border-radius: 50%;\n",
       "      cursor: pointer;\n",
       "      display: none;\n",
       "      fill: #1967D2;\n",
       "      height: 32px;\n",
       "      padding: 0 0 0 0;\n",
       "      width: 32px;\n",
       "    }\n",
       "\n",
       "    .colab-df-convert:hover {\n",
       "      background-color: #E2EBFA;\n",
       "      box-shadow: 0px 1px 2px rgba(60, 64, 67, 0.3), 0px 1px 3px 1px rgba(60, 64, 67, 0.15);\n",
       "      fill: #174EA6;\n",
       "    }\n",
       "\n",
       "    [theme=dark] .colab-df-convert {\n",
       "      background-color: #3B4455;\n",
       "      fill: #D2E3FC;\n",
       "    }\n",
       "\n",
       "    [theme=dark] .colab-df-convert:hover {\n",
       "      background-color: #434B5C;\n",
       "      box-shadow: 0px 1px 3px 1px rgba(0, 0, 0, 0.15);\n",
       "      filter: drop-shadow(0px 1px 2px rgba(0, 0, 0, 0.3));\n",
       "      fill: #FFFFFF;\n",
       "    }\n",
       "  </style>\n",
       "\n",
       "      <script>\n",
       "        const buttonEl =\n",
       "          document.querySelector('#df-767aa5ea-6f3a-48a9-81f9-4a1285c6830b button.colab-df-convert');\n",
       "        buttonEl.style.display =\n",
       "          google.colab.kernel.accessAllowed ? 'block' : 'none';\n",
       "\n",
       "        async function convertToInteractive(key) {\n",
       "          const element = document.querySelector('#df-767aa5ea-6f3a-48a9-81f9-4a1285c6830b');\n",
       "          const dataTable =\n",
       "            await google.colab.kernel.invokeFunction('convertToInteractive',\n",
       "                                                     [key], {});\n",
       "          if (!dataTable) return;\n",
       "\n",
       "          const docLinkHtml = 'Like what you see? Visit the ' +\n",
       "            '<a target=\"_blank\" href=https://colab.research.google.com/notebooks/data_table.ipynb>data table notebook</a>'\n",
       "            + ' to learn more about interactive tables.';\n",
       "          element.innerHTML = '';\n",
       "          dataTable['output_type'] = 'display_data';\n",
       "          await google.colab.output.renderOutput(dataTable, element);\n",
       "          const docLink = document.createElement('div');\n",
       "          docLink.innerHTML = docLinkHtml;\n",
       "          element.appendChild(docLink);\n",
       "        }\n",
       "      </script>\n",
       "    </div>\n",
       "  </div>\n",
       "  "
      ],
      "text/plain": [
       "      x1_std    x2_std\n",
       "0   0.000000  0.000000\n",
       "1   0.707107  0.707107\n",
       "2   0.447214  0.894427\n",
       "3   0.316228  0.948683\n",
       "4   0.242536  0.970143\n",
       "5   0.196116  0.980581\n",
       "6   0.164399  0.986394\n",
       "7   0.141421  0.989949\n",
       "8   0.124035  0.992278\n",
       "9   0.110432  0.993884\n",
       "10  0.099504  0.995037"
      ]
     },
     "execution_count": 3,
     "metadata": {},
     "output_type": "execute_result"
    }
   ],
   "source": [
    "from sklearn.preprocessing import Normalizer\n",
    "\n",
    "scaler = Normalizer()\n",
    "df_Nml = scaler.fit_transform(df)\n",
    "\n",
    "pd.DataFrame(df_Nml, columns = ['x1_std', 'x2_std'])"
   ]
  },
  {
   "cell_type": "code",
   "execution_count": null,
   "id": "d345da21",
   "metadata": {
    "colab": {
     "base_uri": "https://localhost:8080/",
     "height": 394
    },
    "executionInfo": {
     "elapsed": 12,
     "status": "ok",
     "timestamp": 1651131759165,
     "user": {
      "displayName": "서명교",
      "userId": "11730583039526359700"
     },
     "user_tz": -540
    },
    "id": "d345da21",
    "outputId": "161e87bd-191d-4ba3-ec5d-edce0361a3ac"
   },
   "outputs": [
    {
     "data": {
      "text/html": [
       "\n",
       "  <div id=\"df-6acc5656-a418-4470-9bb3-b54032403500\">\n",
       "    <div class=\"colab-df-container\">\n",
       "      <div>\n",
       "<style scoped>\n",
       "    .dataframe tbody tr th:only-of-type {\n",
       "        vertical-align: middle;\n",
       "    }\n",
       "\n",
       "    .dataframe tbody tr th {\n",
       "        vertical-align: top;\n",
       "    }\n",
       "\n",
       "    .dataframe thead th {\n",
       "        text-align: right;\n",
       "    }\n",
       "</style>\n",
       "<table border=\"1\" class=\"dataframe\">\n",
       "  <thead>\n",
       "    <tr style=\"text-align: right;\">\n",
       "      <th></th>\n",
       "      <th>x1_minmax</th>\n",
       "      <th>x2_minmax</th>\n",
       "    </tr>\n",
       "  </thead>\n",
       "  <tbody>\n",
       "    <tr>\n",
       "      <th>0</th>\n",
       "      <td>0.0</td>\n",
       "      <td>0.00</td>\n",
       "    </tr>\n",
       "    <tr>\n",
       "      <th>1</th>\n",
       "      <td>0.1</td>\n",
       "      <td>0.01</td>\n",
       "    </tr>\n",
       "    <tr>\n",
       "      <th>2</th>\n",
       "      <td>0.2</td>\n",
       "      <td>0.04</td>\n",
       "    </tr>\n",
       "    <tr>\n",
       "      <th>3</th>\n",
       "      <td>0.3</td>\n",
       "      <td>0.09</td>\n",
       "    </tr>\n",
       "    <tr>\n",
       "      <th>4</th>\n",
       "      <td>0.4</td>\n",
       "      <td>0.16</td>\n",
       "    </tr>\n",
       "    <tr>\n",
       "      <th>5</th>\n",
       "      <td>0.5</td>\n",
       "      <td>0.25</td>\n",
       "    </tr>\n",
       "    <tr>\n",
       "      <th>6</th>\n",
       "      <td>0.6</td>\n",
       "      <td>0.36</td>\n",
       "    </tr>\n",
       "    <tr>\n",
       "      <th>7</th>\n",
       "      <td>0.7</td>\n",
       "      <td>0.49</td>\n",
       "    </tr>\n",
       "    <tr>\n",
       "      <th>8</th>\n",
       "      <td>0.8</td>\n",
       "      <td>0.64</td>\n",
       "    </tr>\n",
       "    <tr>\n",
       "      <th>9</th>\n",
       "      <td>0.9</td>\n",
       "      <td>0.81</td>\n",
       "    </tr>\n",
       "    <tr>\n",
       "      <th>10</th>\n",
       "      <td>1.0</td>\n",
       "      <td>1.00</td>\n",
       "    </tr>\n",
       "  </tbody>\n",
       "</table>\n",
       "</div>\n",
       "      <button class=\"colab-df-convert\" onclick=\"convertToInteractive('df-6acc5656-a418-4470-9bb3-b54032403500')\"\n",
       "              title=\"Convert this dataframe to an interactive table.\"\n",
       "              style=\"display:none;\">\n",
       "        \n",
       "  <svg xmlns=\"http://www.w3.org/2000/svg\" height=\"24px\"viewBox=\"0 0 24 24\"\n",
       "       width=\"24px\">\n",
       "    <path d=\"M0 0h24v24H0V0z\" fill=\"none\"/>\n",
       "    <path d=\"M18.56 5.44l.94 2.06.94-2.06 2.06-.94-2.06-.94-.94-2.06-.94 2.06-2.06.94zm-11 1L8.5 8.5l.94-2.06 2.06-.94-2.06-.94L8.5 2.5l-.94 2.06-2.06.94zm10 10l.94 2.06.94-2.06 2.06-.94-2.06-.94-.94-2.06-.94 2.06-2.06.94z\"/><path d=\"M17.41 7.96l-1.37-1.37c-.4-.4-.92-.59-1.43-.59-.52 0-1.04.2-1.43.59L10.3 9.45l-7.72 7.72c-.78.78-.78 2.05 0 2.83L4 21.41c.39.39.9.59 1.41.59.51 0 1.02-.2 1.41-.59l7.78-7.78 2.81-2.81c.8-.78.8-2.07 0-2.86zM5.41 20L4 18.59l7.72-7.72 1.47 1.35L5.41 20z\"/>\n",
       "  </svg>\n",
       "      </button>\n",
       "      \n",
       "  <style>\n",
       "    .colab-df-container {\n",
       "      display:flex;\n",
       "      flex-wrap:wrap;\n",
       "      gap: 12px;\n",
       "    }\n",
       "\n",
       "    .colab-df-convert {\n",
       "      background-color: #E8F0FE;\n",
       "      border: none;\n",
       "      border-radius: 50%;\n",
       "      cursor: pointer;\n",
       "      display: none;\n",
       "      fill: #1967D2;\n",
       "      height: 32px;\n",
       "      padding: 0 0 0 0;\n",
       "      width: 32px;\n",
       "    }\n",
       "\n",
       "    .colab-df-convert:hover {\n",
       "      background-color: #E2EBFA;\n",
       "      box-shadow: 0px 1px 2px rgba(60, 64, 67, 0.3), 0px 1px 3px 1px rgba(60, 64, 67, 0.15);\n",
       "      fill: #174EA6;\n",
       "    }\n",
       "\n",
       "    [theme=dark] .colab-df-convert {\n",
       "      background-color: #3B4455;\n",
       "      fill: #D2E3FC;\n",
       "    }\n",
       "\n",
       "    [theme=dark] .colab-df-convert:hover {\n",
       "      background-color: #434B5C;\n",
       "      box-shadow: 0px 1px 3px 1px rgba(0, 0, 0, 0.15);\n",
       "      filter: drop-shadow(0px 1px 2px rgba(0, 0, 0, 0.3));\n",
       "      fill: #FFFFFF;\n",
       "    }\n",
       "  </style>\n",
       "\n",
       "      <script>\n",
       "        const buttonEl =\n",
       "          document.querySelector('#df-6acc5656-a418-4470-9bb3-b54032403500 button.colab-df-convert');\n",
       "        buttonEl.style.display =\n",
       "          google.colab.kernel.accessAllowed ? 'block' : 'none';\n",
       "\n",
       "        async function convertToInteractive(key) {\n",
       "          const element = document.querySelector('#df-6acc5656-a418-4470-9bb3-b54032403500');\n",
       "          const dataTable =\n",
       "            await google.colab.kernel.invokeFunction('convertToInteractive',\n",
       "                                                     [key], {});\n",
       "          if (!dataTable) return;\n",
       "\n",
       "          const docLinkHtml = 'Like what you see? Visit the ' +\n",
       "            '<a target=\"_blank\" href=https://colab.research.google.com/notebooks/data_table.ipynb>data table notebook</a>'\n",
       "            + ' to learn more about interactive tables.';\n",
       "          element.innerHTML = '';\n",
       "          dataTable['output_type'] = 'display_data';\n",
       "          await google.colab.output.renderOutput(dataTable, element);\n",
       "          const docLink = document.createElement('div');\n",
       "          docLink.innerHTML = docLinkHtml;\n",
       "          element.appendChild(docLink);\n",
       "        }\n",
       "      </script>\n",
       "    </div>\n",
       "  </div>\n",
       "  "
      ],
      "text/plain": [
       "    x1_minmax  x2_minmax\n",
       "0         0.0       0.00\n",
       "1         0.1       0.01\n",
       "2         0.2       0.04\n",
       "3         0.3       0.09\n",
       "4         0.4       0.16\n",
       "5         0.5       0.25\n",
       "6         0.6       0.36\n",
       "7         0.7       0.49\n",
       "8         0.8       0.64\n",
       "9         0.9       0.81\n",
       "10        1.0       1.00"
      ]
     },
     "execution_count": 4,
     "metadata": {},
     "output_type": "execute_result"
    }
   ],
   "source": [
    "from sklearn.preprocessing import MinMaxScaler\n",
    "\n",
    "scaler = MinMaxScaler()\n",
    "df_minmax = scaler.fit_transform(df)\n",
    "\n",
    "pd.DataFrame(df_minmax, columns = ['x1_minmax', 'x2_minmax'])"
   ]
  },
  {
   "cell_type": "code",
   "execution_count": null,
   "id": "r1NZ7RW9HvE_",
   "metadata": {
    "colab": {
     "base_uri": "https://localhost:8080/",
     "height": 394
    },
    "executionInfo": {
     "elapsed": 12,
     "status": "ok",
     "timestamp": 1651131759166,
     "user": {
      "displayName": "서명교",
      "userId": "11730583039526359700"
     },
     "user_tz": -540
    },
    "id": "r1NZ7RW9HvE_",
    "outputId": "bb9d323d-39a6-4512-da2a-36b64d24e5a4"
   },
   "outputs": [
    {
     "data": {
      "text/html": [
       "\n",
       "  <div id=\"df-bcc0c67b-94f3-4ad1-aa96-149d1e2df7da\">\n",
       "    <div class=\"colab-df-container\">\n",
       "      <div>\n",
       "<style scoped>\n",
       "    .dataframe tbody tr th:only-of-type {\n",
       "        vertical-align: middle;\n",
       "    }\n",
       "\n",
       "    .dataframe tbody tr th {\n",
       "        vertical-align: top;\n",
       "    }\n",
       "\n",
       "    .dataframe thead th {\n",
       "        text-align: right;\n",
       "    }\n",
       "</style>\n",
       "<table border=\"1\" class=\"dataframe\">\n",
       "  <thead>\n",
       "    <tr style=\"text-align: right;\">\n",
       "      <th></th>\n",
       "      <th>x1_robust</th>\n",
       "      <th>x2_robust</th>\n",
       "    </tr>\n",
       "  </thead>\n",
       "  <tbody>\n",
       "    <tr>\n",
       "      <th>0</th>\n",
       "      <td>-1.0</td>\n",
       "      <td>-0.50</td>\n",
       "    </tr>\n",
       "    <tr>\n",
       "      <th>1</th>\n",
       "      <td>-0.8</td>\n",
       "      <td>-0.48</td>\n",
       "    </tr>\n",
       "    <tr>\n",
       "      <th>2</th>\n",
       "      <td>-0.6</td>\n",
       "      <td>-0.42</td>\n",
       "    </tr>\n",
       "    <tr>\n",
       "      <th>3</th>\n",
       "      <td>-0.4</td>\n",
       "      <td>-0.32</td>\n",
       "    </tr>\n",
       "    <tr>\n",
       "      <th>4</th>\n",
       "      <td>-0.2</td>\n",
       "      <td>-0.18</td>\n",
       "    </tr>\n",
       "    <tr>\n",
       "      <th>5</th>\n",
       "      <td>0.0</td>\n",
       "      <td>0.00</td>\n",
       "    </tr>\n",
       "    <tr>\n",
       "      <th>6</th>\n",
       "      <td>0.2</td>\n",
       "      <td>0.22</td>\n",
       "    </tr>\n",
       "    <tr>\n",
       "      <th>7</th>\n",
       "      <td>0.4</td>\n",
       "      <td>0.48</td>\n",
       "    </tr>\n",
       "    <tr>\n",
       "      <th>8</th>\n",
       "      <td>0.6</td>\n",
       "      <td>0.78</td>\n",
       "    </tr>\n",
       "    <tr>\n",
       "      <th>9</th>\n",
       "      <td>0.8</td>\n",
       "      <td>1.12</td>\n",
       "    </tr>\n",
       "    <tr>\n",
       "      <th>10</th>\n",
       "      <td>1.0</td>\n",
       "      <td>1.50</td>\n",
       "    </tr>\n",
       "  </tbody>\n",
       "</table>\n",
       "</div>\n",
       "      <button class=\"colab-df-convert\" onclick=\"convertToInteractive('df-bcc0c67b-94f3-4ad1-aa96-149d1e2df7da')\"\n",
       "              title=\"Convert this dataframe to an interactive table.\"\n",
       "              style=\"display:none;\">\n",
       "        \n",
       "  <svg xmlns=\"http://www.w3.org/2000/svg\" height=\"24px\"viewBox=\"0 0 24 24\"\n",
       "       width=\"24px\">\n",
       "    <path d=\"M0 0h24v24H0V0z\" fill=\"none\"/>\n",
       "    <path d=\"M18.56 5.44l.94 2.06.94-2.06 2.06-.94-2.06-.94-.94-2.06-.94 2.06-2.06.94zm-11 1L8.5 8.5l.94-2.06 2.06-.94-2.06-.94L8.5 2.5l-.94 2.06-2.06.94zm10 10l.94 2.06.94-2.06 2.06-.94-2.06-.94-.94-2.06-.94 2.06-2.06.94z\"/><path d=\"M17.41 7.96l-1.37-1.37c-.4-.4-.92-.59-1.43-.59-.52 0-1.04.2-1.43.59L10.3 9.45l-7.72 7.72c-.78.78-.78 2.05 0 2.83L4 21.41c.39.39.9.59 1.41.59.51 0 1.02-.2 1.41-.59l7.78-7.78 2.81-2.81c.8-.78.8-2.07 0-2.86zM5.41 20L4 18.59l7.72-7.72 1.47 1.35L5.41 20z\"/>\n",
       "  </svg>\n",
       "      </button>\n",
       "      \n",
       "  <style>\n",
       "    .colab-df-container {\n",
       "      display:flex;\n",
       "      flex-wrap:wrap;\n",
       "      gap: 12px;\n",
       "    }\n",
       "\n",
       "    .colab-df-convert {\n",
       "      background-color: #E8F0FE;\n",
       "      border: none;\n",
       "      border-radius: 50%;\n",
       "      cursor: pointer;\n",
       "      display: none;\n",
       "      fill: #1967D2;\n",
       "      height: 32px;\n",
       "      padding: 0 0 0 0;\n",
       "      width: 32px;\n",
       "    }\n",
       "\n",
       "    .colab-df-convert:hover {\n",
       "      background-color: #E2EBFA;\n",
       "      box-shadow: 0px 1px 2px rgba(60, 64, 67, 0.3), 0px 1px 3px 1px rgba(60, 64, 67, 0.15);\n",
       "      fill: #174EA6;\n",
       "    }\n",
       "\n",
       "    [theme=dark] .colab-df-convert {\n",
       "      background-color: #3B4455;\n",
       "      fill: #D2E3FC;\n",
       "    }\n",
       "\n",
       "    [theme=dark] .colab-df-convert:hover {\n",
       "      background-color: #434B5C;\n",
       "      box-shadow: 0px 1px 3px 1px rgba(0, 0, 0, 0.15);\n",
       "      filter: drop-shadow(0px 1px 2px rgba(0, 0, 0, 0.3));\n",
       "      fill: #FFFFFF;\n",
       "    }\n",
       "  </style>\n",
       "\n",
       "      <script>\n",
       "        const buttonEl =\n",
       "          document.querySelector('#df-bcc0c67b-94f3-4ad1-aa96-149d1e2df7da button.colab-df-convert');\n",
       "        buttonEl.style.display =\n",
       "          google.colab.kernel.accessAllowed ? 'block' : 'none';\n",
       "\n",
       "        async function convertToInteractive(key) {\n",
       "          const element = document.querySelector('#df-bcc0c67b-94f3-4ad1-aa96-149d1e2df7da');\n",
       "          const dataTable =\n",
       "            await google.colab.kernel.invokeFunction('convertToInteractive',\n",
       "                                                     [key], {});\n",
       "          if (!dataTable) return;\n",
       "\n",
       "          const docLinkHtml = 'Like what you see? Visit the ' +\n",
       "            '<a target=\"_blank\" href=https://colab.research.google.com/notebooks/data_table.ipynb>data table notebook</a>'\n",
       "            + ' to learn more about interactive tables.';\n",
       "          element.innerHTML = '';\n",
       "          dataTable['output_type'] = 'display_data';\n",
       "          await google.colab.output.renderOutput(dataTable, element);\n",
       "          const docLink = document.createElement('div');\n",
       "          docLink.innerHTML = docLinkHtml;\n",
       "          element.appendChild(docLink);\n",
       "        }\n",
       "      </script>\n",
       "    </div>\n",
       "  </div>\n",
       "  "
      ],
      "text/plain": [
       "    x1_robust  x2_robust\n",
       "0        -1.0      -0.50\n",
       "1        -0.8      -0.48\n",
       "2        -0.6      -0.42\n",
       "3        -0.4      -0.32\n",
       "4        -0.2      -0.18\n",
       "5         0.0       0.00\n",
       "6         0.2       0.22\n",
       "7         0.4       0.48\n",
       "8         0.6       0.78\n",
       "9         0.8       1.12\n",
       "10        1.0       1.50"
      ]
     },
     "execution_count": 5,
     "metadata": {},
     "output_type": "execute_result"
    }
   ],
   "source": [
    "from sklearn.preprocessing import RobustScaler\n",
    "\n",
    "scaler = RobustScaler()\n",
    "df_robust = scaler.fit_transform(df)\n",
    "\n",
    "pd.DataFrame(df_robust, columns = ['x1_robust', 'x2_robust'])"
   ]
  },
  {
   "cell_type": "code",
   "execution_count": null,
   "id": "UntQx7omHvCn",
   "metadata": {
    "id": "UntQx7omHvCn"
   },
   "outputs": [],
   "source": []
  },
  {
   "cell_type": "code",
   "execution_count": null,
   "id": "6wmSb-yUHvAV",
   "metadata": {
    "id": "6wmSb-yUHvAV"
   },
   "outputs": [],
   "source": []
  },
  {
   "cell_type": "code",
   "execution_count": null,
   "id": "62fc0048",
   "metadata": {
    "id": "62fc0048"
   },
   "outputs": [],
   "source": []
  },
  {
   "cell_type": "code",
   "execution_count": null,
   "id": "a048fb76",
   "metadata": {
    "id": "a048fb76"
   },
   "outputs": [],
   "source": []
  },
  {
   "cell_type": "code",
   "execution_count": null,
   "id": "e31af389",
   "metadata": {
    "ExecuteTime": {
     "end_time": "2022-04-27T09:06:43.261470Z",
     "start_time": "2022-04-27T09:06:43.226594Z"
    },
    "id": "e31af389",
    "outputId": "6f992b48-a627-49ca-ec8b-46d7ac3cc7f0"
   },
   "outputs": [
    {
     "name": "stdout",
     "output_type": "stream",
     "text": [
      "[]\n",
      "                     column111\n",
      "2020-01-01 09:00:00          1\n",
      "2020-01-01 09:01:00          1\n",
      "2020-01-01 09:02:00          1\n",
      "2020-01-01 09:03:00          1\n",
      "2020-01-01 09:04:00          1\n",
      "...                        ...\n",
      "2020-01-24 15:27:00          1\n",
      "2020-01-24 15:28:00          1\n",
      "2020-01-24 15:29:00          1\n",
      "2020-01-24 15:30:00          1\n",
      "2020-01-24 15:31:00          1\n",
      "\n",
      "[7056 rows x 1 columns]\n"
     ]
    }
   ],
   "source": [
    "import pandas as pd\n",
    "day_index = []\n",
    "date_index = []\n",
    "print(date_index)\n",
    "\n",
    "# 평일 데이터 만들어 주고\n",
    "dates = pd.date_range('2020-01-01','2020-01-24',freq='B')\n",
    "# print(dates)\n",
    "# datetime -> str로 형변환 뒤에 시간 붙여주기 위해서\n",
    "dates = dates.astype(str)\n",
    "\n",
    "for b_day in dates:\n",
    "    start_date = b_day[:10] + ' 09:00:00' # 뽑아준 날짜 들에 시작 시간 붙이기\n",
    "    end_date = b_day[:10] +' 15:31:00'    # 뽑아준 날짜 들에 끝 시간 붙이기\n",
    "    range = pd.date_range(start_date, end_date, freq='min') # 1분 단위로 만들어 주기\n",
    "    range = range.astype(str).tolist() # 형변환 밑 리스트 형으로 변환\n",
    "    date_index.extend(range)\n",
    "#     print(date_index)\n",
    "#     break;\n",
    "    \n",
    "df_1 = pd.DataFrame(index = date_index)\n",
    "df_1['column111'] = 1\n",
    "print(df_1)"
   ]
  },
  {
   "cell_type": "code",
   "execution_count": null,
   "id": "d3e4960e",
   "metadata": {
    "id": "d3e4960e"
   },
   "outputs": [],
   "source": []
  }
 ],
 "metadata": {
  "colab": {
   "collapsed_sections": [],
   "name": "pandas_study(튜터링)2.ipynb",
   "provenance": [],
   "toc_visible": true
  },
  "hide_input": false,
  "kernelspec": {
   "display_name": "Python 3 (ipykernel)",
   "language": "python",
   "name": "python3"
  },
  "language_info": {
   "codemirror_mode": {
    "name": "ipython",
    "version": 3
   },
   "file_extension": ".py",
   "mimetype": "text/x-python",
   "name": "python",
   "nbconvert_exporter": "python",
   "pygments_lexer": "ipython3",
   "version": "3.9.7"
  },
  "toc": {
   "base_numbering": 1,
   "nav_menu": {},
   "number_sections": true,
   "sideBar": true,
   "skip_h1_title": false,
   "title_cell": "Table of Contents",
   "title_sidebar": "Contents",
   "toc_cell": false,
   "toc_position": {
    "height": "calc(100% - 180px)",
    "left": "10px",
    "top": "150px",
    "width": "320px"
   },
   "toc_section_display": true,
   "toc_window_display": true
  },
  "varInspector": {
   "cols": {
    "lenName": 16,
    "lenType": 16,
    "lenVar": 40
   },
   "kernels_config": {
    "python": {
     "delete_cmd_postfix": "",
     "delete_cmd_prefix": "del ",
     "library": "var_list.py",
     "varRefreshCmd": "print(var_dic_list())"
    },
    "r": {
     "delete_cmd_postfix": ") ",
     "delete_cmd_prefix": "rm(",
     "library": "var_list.r",
     "varRefreshCmd": "cat(var_dic_list()) "
    }
   },
   "types_to_exclude": [
    "module",
    "function",
    "builtin_function_or_method",
    "instance",
    "_Feature"
   ],
   "window_display": false
  }
 },
 "nbformat": 4,
 "nbformat_minor": 5
}
