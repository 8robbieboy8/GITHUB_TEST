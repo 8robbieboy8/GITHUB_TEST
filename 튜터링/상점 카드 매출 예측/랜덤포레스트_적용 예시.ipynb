{
 "cells": [
  {
   "cell_type": "markdown",
   "id": "089db8d0",
   "metadata": {},
   "source": [
    "# 아들 키 예측 모델 학습"
   ]
  },
  {
   "cell_type": "code",
   "execution_count": 1,
   "id": "553c6ced",
   "metadata": {
    "ExecuteTime": {
     "end_time": "2022-05-01T10:49:43.648016Z",
     "start_time": "2022-05-01T10:49:42.661643Z"
    }
   },
   "outputs": [],
   "source": [
    "import pandas as pd\n",
    "from sklearn.ensemble import RandomForestRegressor\n",
    "import numpy as np\n",
    "\n",
    "##########데이터 로드\n",
    "\n",
    "train_df = pd.read_excel('https://github.com/cranberryai/todak_todak_python/blob/master/machine_learning/regression/%E1%84%8B%E1%85%A1%E1%84%87%E1%85%A5%E1%84%8C%E1%85%B5%E1%84%8B%E1%85%A1%E1%84%83%E1%85%B3%E1%86%AF%E1%84%8F%E1%85%B5.xlsx?raw=true', sheet_name='train')\n",
    "test_df = pd.read_excel('https://github.com/cranberryai/todak_todak_python/blob/master/machine_learning/regression/%E1%84%8B%E1%85%A1%E1%84%87%E1%85%A5%E1%84%8C%E1%85%B5%E1%84%8B%E1%85%A1%E1%84%83%E1%85%B3%E1%86%AF%E1%84%8F%E1%85%B5.xlsx?raw=true', sheet_name='test')"
   ]
  },
  {
   "cell_type": "code",
   "execution_count": 3,
   "id": "7666bb1c",
   "metadata": {},
   "outputs": [
    {
     "name": "stdout",
     "output_type": "stream",
     "text": [
      "<class 'pandas.core.frame.DataFrame'>\n",
      "RangeIndex: 755 entries, 0 to 754\n",
      "Data columns (total 2 columns):\n",
      " #   Column  Non-Null Count  Dtype  \n",
      "---  ------  --------------  -----  \n",
      " 0   Father  755 non-null    float64\n",
      " 1   Son     755 non-null    float64\n",
      "dtypes: float64(2)\n",
      "memory usage: 11.9 KB\n"
     ]
    }
   ],
   "source": [
    "train_df.info()"
   ]
  },
  {
   "cell_type": "code",
   "execution_count": 2,
   "id": "9aedfe80",
   "metadata": {
    "ExecuteTime": {
     "end_time": "2022-05-01T10:49:43.710859Z",
     "start_time": "2022-05-01T10:49:43.699865Z"
    }
   },
   "outputs": [
    {
     "data": {
      "text/html": [
       "<div>\n",
       "<style scoped>\n",
       "    .dataframe tbody tr th:only-of-type {\n",
       "        vertical-align: middle;\n",
       "    }\n",
       "\n",
       "    .dataframe tbody tr th {\n",
       "        vertical-align: top;\n",
       "    }\n",
       "\n",
       "    .dataframe thead th {\n",
       "        text-align: right;\n",
       "    }\n",
       "</style>\n",
       "<table border=\"1\" class=\"dataframe\">\n",
       "  <thead>\n",
       "    <tr style=\"text-align: right;\">\n",
       "      <th></th>\n",
       "      <th>Father</th>\n",
       "      <th>Son</th>\n",
       "    </tr>\n",
       "  </thead>\n",
       "  <tbody>\n",
       "    <tr>\n",
       "      <th>0</th>\n",
       "      <td>165.100</td>\n",
       "      <td>151.892</td>\n",
       "    </tr>\n",
       "    <tr>\n",
       "      <th>1</th>\n",
       "      <td>165.100</td>\n",
       "      <td>160.782</td>\n",
       "    </tr>\n",
       "    <tr>\n",
       "      <th>2</th>\n",
       "      <td>167.132</td>\n",
       "      <td>159.512</td>\n",
       "    </tr>\n",
       "    <tr>\n",
       "      <th>3</th>\n",
       "      <td>155.194</td>\n",
       "      <td>163.322</td>\n",
       "    </tr>\n",
       "    <tr>\n",
       "      <th>4</th>\n",
       "      <td>160.020</td>\n",
       "      <td>163.068</td>\n",
       "    </tr>\n",
       "    <tr>\n",
       "      <th>...</th>\n",
       "      <td>...</td>\n",
       "      <td>...</td>\n",
       "    </tr>\n",
       "    <tr>\n",
       "      <th>750</th>\n",
       "      <td>186.182</td>\n",
       "      <td>172.466</td>\n",
       "    </tr>\n",
       "    <tr>\n",
       "      <th>751</th>\n",
       "      <td>167.132</td>\n",
       "      <td>154.940</td>\n",
       "    </tr>\n",
       "    <tr>\n",
       "      <th>752</th>\n",
       "      <td>181.102</td>\n",
       "      <td>173.482</td>\n",
       "    </tr>\n",
       "    <tr>\n",
       "      <th>753</th>\n",
       "      <td>179.578</td>\n",
       "      <td>176.022</td>\n",
       "    </tr>\n",
       "    <tr>\n",
       "      <th>754</th>\n",
       "      <td>178.562</td>\n",
       "      <td>170.180</td>\n",
       "    </tr>\n",
       "  </tbody>\n",
       "</table>\n",
       "<p>755 rows × 2 columns</p>\n",
       "</div>"
      ],
      "text/plain": [
       "      Father      Son\n",
       "0    165.100  151.892\n",
       "1    165.100  160.782\n",
       "2    167.132  159.512\n",
       "3    155.194  163.322\n",
       "4    160.020  163.068\n",
       "..       ...      ...\n",
       "750  186.182  172.466\n",
       "751  167.132  154.940\n",
       "752  181.102  173.482\n",
       "753  179.578  176.022\n",
       "754  178.562  170.180\n",
       "\n",
       "[755 rows x 2 columns]"
      ]
     },
     "execution_count": 2,
     "metadata": {},
     "output_type": "execute_result"
    }
   ],
   "source": [
    "train_df"
   ]
  },
  {
   "cell_type": "code",
   "execution_count": 4,
   "id": "c8d275d8",
   "metadata": {
    "ExecuteTime": {
     "end_time": "2022-05-01T10:49:43.764694Z",
     "start_time": "2022-05-01T10:49:43.755731Z"
    }
   },
   "outputs": [
    {
     "name": "stdout",
     "output_type": "stream",
     "text": [
      "    Father\n",
      "0  165.100\n",
      "1  165.100\n",
      "2  167.132\n",
      "3  155.194\n",
      "4  160.020\n"
     ]
    }
   ],
   "source": [
    "##########데이터 분석\n",
    "\n",
    "##########데이터 전처리\n",
    "\n",
    "x_train = train_df.drop(['Son'], axis=1)\n",
    "x_test = test_df.drop(['Son'], axis=1)\n",
    "y_train = train_df['Son']\n",
    "y_test = test_df['Son']\n",
    "\n",
    "print(x_train.head())"
   ]
  },
  {
   "cell_type": "code",
   "execution_count": 8,
   "id": "c9b9758b",
   "metadata": {
    "ExecuteTime": {
     "end_time": "2022-05-01T10:49:44.040954Z",
     "start_time": "2022-05-01T10:49:43.848496Z"
    }
   },
   "outputs": [
    {
     "name": "stdout",
     "output_type": "stream",
     "text": [
      "0.3727952199077026\n",
      "0.11411290908727012\n"
     ]
    }
   ],
   "source": [
    "##########모델 생성\n",
    "\n",
    "model = RandomForestRegressor()\n",
    "\n",
    "##########모델 학습\n",
    "\n",
    "model.fit(x_train, y_train)\n",
    "\n",
    "##########모델 검증\n",
    "\n",
    "print(model.score(x_train, y_train)) #\n",
    "\n",
    "print(model.score(x_test, y_test)) #0.251997790584662"
   ]
  },
  {
   "cell_type": "code",
   "execution_count": 11,
   "id": "0b759659",
   "metadata": {
    "ExecuteTime": {
     "end_time": "2022-05-01T10:49:44.748064Z",
     "start_time": "2022-05-01T10:49:44.729134Z"
    }
   },
   "outputs": [
    {
     "name": "stdout",
     "output_type": "stream",
     "text": [
      "172.69806703104894\n"
     ]
    },
    {
     "name": "stderr",
     "output_type": "stream",
     "text": [
      "C:\\python38-64\\lib\\site-packages\\sklearn\\base.py:450: UserWarning: X does not have valid feature names, but RandomForestRegressor was fitted with feature names\n",
      "  warnings.warn(\n"
     ]
    }
   ],
   "source": [
    "##########모델 예측\n",
    "\n",
    "x_test = np.array([\n",
    "    [164.338]\n",
    "])\n",
    "\n",
    "y_predict = model.predict(x_test)\n",
    "\n",
    "print(y_predict[0]) #169.66660924268297"
   ]
  },
  {
   "cell_type": "markdown",
   "id": "f1bfd42c",
   "metadata": {},
   "source": [
    "# 현대 자동차 가격 예측 모델 학습\n",
    "- 참고 https://makeit.tistory.com/137"
   ]
  },
  {
   "cell_type": "code",
   "execution_count": 13,
   "id": "e76213b4",
   "metadata": {
    "ExecuteTime": {
     "end_time": "2022-05-02T08:14:37.706354Z",
     "start_time": "2022-05-02T08:14:36.792800Z"
    }
   },
   "outputs": [],
   "source": [
    "import pandas as pd\n",
    "from sklearn.preprocessing import OneHotEncoder\n",
    "from sklearn.compose import make_column_transformer\n",
    "from sklearn.ensemble import RandomForestRegressor\n",
    "import numpy as np\n",
    "\n",
    "##########데이터 로드\n",
    "\n",
    "train_df = pd.read_excel('https://github.com/cranberryai/todak_todak_python/blob/master/machine_learning/regression/carprice_E1SUl6b.xlsx?raw=true', sheet_name='train')\n",
    "test_df = pd.read_excel('https://github.com/cranberryai/todak_todak_python/blob/master/machine_learning/regression/carprice_E1SUl6b.xlsx?raw=true', sheet_name='test')\n",
    "\n"
   ]
  },
  {
   "cell_type": "code",
   "execution_count": 18,
   "id": "31ae9613",
   "metadata": {
    "ExecuteTime": {
     "end_time": "2022-05-02T09:39:40.349208Z",
     "start_time": "2022-05-02T09:39:40.319294Z"
    }
   },
   "outputs": [
    {
     "name": "stdout",
     "output_type": "stream",
     "text": [
      "     년식   종류    연비   마력    토크   연료  하이브리드   배기량    중량 변속기\n",
      "0  2015  준중형  11.8  172  21.0  가솔린      0  1999  1300  자동\n",
      "1  2015  준중형  12.3  204  27.0  가솔린      0  1591  1300  자동\n",
      "2  2015   소형  15.0  100  13.6  가솔린      0  1368  1035  수동\n",
      "3  2014   소형  14.0  140  17.0  가솔린      0  1591  1090  자동\n",
      "4  2015   대형   9.6  175  46.0   디젤      0  2497  1990  자동\n",
      "Index(['년식', '종류', '연비', '마력', '토크', '연료', '하이브리드', '배기량', '중량', '변속기'], dtype='object')\n"
     ]
    }
   ],
   "source": [
    "from sklearn.preprocessing import StandardScaler\n",
    "##########데이터 분석\n",
    "\n",
    "##########데이터 전처리\n",
    "\n",
    "x_train = train_df.drop(['가격'], axis=1)\n",
    "x_test = test_df.drop(['가격'], axis=1)\n",
    "y_train = train_df['가격']\n",
    "y_test = test_df['가격']\n",
    "\n",
    "print(x_train.head())\n",
    "\n",
    "print(x_train.columns) #Index(['년식', '종류', '연비', '마력', '토크', '연료', '하이브리드', '배기량', '중량', '변속기'], dtype='object')\n",
    "\n",
    "\n",
    "transformer = make_column_transformer(\n",
    "    (StandardScaler(), ['연비', '배기량']),\n",
    "    (OneHotEncoder(sparse = False), ['종류', '연료', '변속기']),\n",
    "    remainder='passthrough')\n",
    "\n",
    "\n",
    "transformer.fit(x_train)\n",
    "x_train = transformer.transform(x_train)\n",
    "x_test = transformer.transform(x_test)\n",
    "\n"
   ]
  },
  {
   "cell_type": "code",
   "execution_count": 19,
   "id": "ce32d6f5",
   "metadata": {
    "ExecuteTime": {
     "end_time": "2022-05-02T09:39:42.900519Z",
     "start_time": "2022-05-02T09:39:42.894533Z"
    }
   },
   "outputs": [
    {
     "data": {
      "text/plain": [
       "array([[-1.79426718e-01, -2.24652846e-01,  0.00000000e+00, ...,\n",
       "         2.10000000e+01,  0.00000000e+00,  1.30000000e+03],\n",
       "       [-1.97864050e-02, -8.21967546e-01,  0.00000000e+00, ...,\n",
       "         2.70000000e+01,  0.00000000e+00,  1.30000000e+03],\n",
       "       [ 8.42271285e-01, -1.14844102e+00,  0.00000000e+00, ...,\n",
       "         1.36000000e+01,  0.00000000e+00,  1.03500000e+03],\n",
       "       ...,\n",
       "       [ 1.39853908e-01, -2.30508873e-01,  0.00000000e+00, ...,\n",
       "         4.10000000e+01,  0.00000000e+00,  1.66500000e+03],\n",
       "       [ 1.70432897e+00, -2.24652846e-01,  0.00000000e+00, ...,\n",
       "         1.93000000e+01,  1.00000000e+00,  1.58500000e+03],\n",
       "       [ 4.59134534e-01,  6.81484770e-02,  1.00000000e+00, ...,\n",
       "         4.50000000e+01,  0.00000000e+00,  1.69100000e+03]])"
      ]
     },
     "execution_count": 19,
     "metadata": {},
     "output_type": "execute_result"
    }
   ],
   "source": [
    "x_train"
   ]
  },
  {
   "cell_type": "code",
   "execution_count": 20,
   "id": "dcb9ed78",
   "metadata": {
    "ExecuteTime": {
     "end_time": "2022-05-02T09:39:46.054142Z",
     "start_time": "2022-05-02T09:39:45.913467Z"
    }
   },
   "outputs": [
    {
     "name": "stdout",
     "output_type": "stream",
     "text": [
      "0.9625193293112532\n",
      "0.8155008694583471\n"
     ]
    }
   ],
   "source": [
    "##########모델 생성\n",
    "\n",
    "model = RandomForestRegressor()\n",
    "\n",
    "##########모델 학습\n",
    "\n",
    "model.fit(x_train, y_train)\n",
    "\n",
    "##########모델 검증\n",
    "\n",
    "print(model.score(x_train, y_train)) \n",
    "\n",
    "print(model.score(x_test, y_test)) \n",
    "\n"
   ]
  },
  {
   "cell_type": "code",
   "execution_count": 21,
   "id": "cfb87c47",
   "metadata": {
    "ExecuteTime": {
     "end_time": "2022-05-02T09:39:53.734817Z",
     "start_time": "2022-05-02T09:39:53.708875Z"
    }
   },
   "outputs": [
    {
     "name": "stdout",
     "output_type": "stream",
     "text": [
      "1924.39\n"
     ]
    }
   ],
   "source": [
    "##########모델 예측\n",
    "\n",
    "x_test = [\n",
    "    [2015, '대형', 6.8, 159, 23, 'LPG', 0,2359, 1935, '수동']\n",
    "]\n",
    "x_test = pd.DataFrame(x_test, columns=['년식', '종류', '연비', '마력', '토크', '연료', '하이브리드', '배기량', '중량', '변속기'])\n",
    "x_test = transformer.transform(x_test)\n",
    "\n",
    "y_predict = model.predict(x_test)\n",
    "\n",
    "print(y_predict[0]) "
   ]
  },
  {
   "cell_type": "markdown",
   "id": "13a27fbd",
   "metadata": {},
   "source": [
    "### get_dummies를 이용해"
   ]
  },
  {
   "cell_type": "code",
   "execution_count": 22,
   "id": "23b74678",
   "metadata": {
    "ExecuteTime": {
     "end_time": "2022-05-02T09:42:35.550254Z",
     "start_time": "2022-05-02T09:42:35.533302Z"
    }
   },
   "outputs": [],
   "source": [
    "train_df_dummy = pd.get_dummies(data = train_df, columns = ['종류', '연료', '변속기'], prefix = ['종류', '연료', '변속기']) \n",
    "test_df_dummy = pd.get_dummies(data = test_df, columns = ['종류', '연료', '변속기'], prefix = ['종류', '연료', '변속기']) "
   ]
  },
  {
   "cell_type": "code",
   "execution_count": 23,
   "id": "eb05ee0d",
   "metadata": {
    "ExecuteTime": {
     "end_time": "2022-05-02T09:42:35.946223Z",
     "start_time": "2022-05-02T09:42:35.932261Z"
    }
   },
   "outputs": [
    {
     "name": "stdout",
     "output_type": "stream",
     "text": [
      "     년식    연비   마력    토크  하이브리드   배기량    중량  종류_대형  종류_소형  종류_준중형  종류_중형  \\\n",
      "0  2015  11.8  172  21.0      0  1999  1300      0      0       1      0   \n",
      "1  2015  12.3  204  27.0      0  1591  1300      0      0       1      0   \n",
      "2  2015  15.0  100  13.6      0  1368  1035      0      1       0      0   \n",
      "3  2014  14.0  140  17.0      0  1591  1090      0      1       0      0   \n",
      "4  2015   9.6  175  46.0      0  2497  1990      1      0       0      0   \n",
      "\n",
      "   연료_LPG  연료_가솔린  연료_디젤  변속기_수동  변속기_자동  \n",
      "0       0       1      0       0       1  \n",
      "1       0       1      0       0       1  \n",
      "2       0       1      0       1       0  \n",
      "3       0       1      0       0       1  \n",
      "4       0       0      1       0       1  \n",
      "Index(['년식', '연비', '마력', '토크', '하이브리드', '배기량', '중량', '종류_대형', '종류_소형',\n",
      "       '종류_준중형', '종류_중형', '연료_LPG', '연료_가솔린', '연료_디젤', '변속기_수동', '변속기_자동'],\n",
      "      dtype='object')\n"
     ]
    }
   ],
   "source": [
    "from sklearn.preprocessing import StandardScaler\n",
    "##########데이터 분석\n",
    "\n",
    "##########데이터 전처리\n",
    "\n",
    "x_train = train_df_dummy.drop(['가격'], axis=1)\n",
    "x_test = test_df_dummy.drop(['가격'], axis=1)\n",
    "y_train = train_df_dummy['가격']\n",
    "y_test = test_df_dummy['가격']\n",
    "\n",
    "print(x_train.head())\n",
    "\n",
    "print(x_train.columns) #Index(['년식', '종류', '연비', '마력', '토크', '연료', '하이브리드', '배기량', '중량', '변속기'], dtype='object')\n"
   ]
  },
  {
   "cell_type": "code",
   "execution_count": 24,
   "id": "76936413",
   "metadata": {
    "ExecuteTime": {
     "end_time": "2022-05-02T09:42:36.396993Z",
     "start_time": "2022-05-02T09:42:36.378043Z"
    }
   },
   "outputs": [
    {
     "data": {
      "text/html": [
       "<div>\n",
       "<style scoped>\n",
       "    .dataframe tbody tr th:only-of-type {\n",
       "        vertical-align: middle;\n",
       "    }\n",
       "\n",
       "    .dataframe tbody tr th {\n",
       "        vertical-align: top;\n",
       "    }\n",
       "\n",
       "    .dataframe thead th {\n",
       "        text-align: right;\n",
       "    }\n",
       "</style>\n",
       "<table border=\"1\" class=\"dataframe\">\n",
       "  <thead>\n",
       "    <tr style=\"text-align: right;\">\n",
       "      <th></th>\n",
       "      <th>년식</th>\n",
       "      <th>연비</th>\n",
       "      <th>마력</th>\n",
       "      <th>토크</th>\n",
       "      <th>하이브리드</th>\n",
       "      <th>배기량</th>\n",
       "      <th>중량</th>\n",
       "      <th>종류_대형</th>\n",
       "      <th>종류_소형</th>\n",
       "      <th>종류_준중형</th>\n",
       "      <th>종류_중형</th>\n",
       "      <th>연료_LPG</th>\n",
       "      <th>연료_가솔린</th>\n",
       "      <th>연료_디젤</th>\n",
       "      <th>변속기_수동</th>\n",
       "      <th>변속기_자동</th>\n",
       "    </tr>\n",
       "  </thead>\n",
       "  <tbody>\n",
       "    <tr>\n",
       "      <th>0</th>\n",
       "      <td>2015</td>\n",
       "      <td>11.8</td>\n",
       "      <td>172</td>\n",
       "      <td>21.0</td>\n",
       "      <td>0</td>\n",
       "      <td>1999</td>\n",
       "      <td>1300</td>\n",
       "      <td>0</td>\n",
       "      <td>0</td>\n",
       "      <td>1</td>\n",
       "      <td>0</td>\n",
       "      <td>0</td>\n",
       "      <td>1</td>\n",
       "      <td>0</td>\n",
       "      <td>0</td>\n",
       "      <td>1</td>\n",
       "    </tr>\n",
       "    <tr>\n",
       "      <th>1</th>\n",
       "      <td>2015</td>\n",
       "      <td>12.3</td>\n",
       "      <td>204</td>\n",
       "      <td>27.0</td>\n",
       "      <td>0</td>\n",
       "      <td>1591</td>\n",
       "      <td>1300</td>\n",
       "      <td>0</td>\n",
       "      <td>0</td>\n",
       "      <td>1</td>\n",
       "      <td>0</td>\n",
       "      <td>0</td>\n",
       "      <td>1</td>\n",
       "      <td>0</td>\n",
       "      <td>0</td>\n",
       "      <td>1</td>\n",
       "    </tr>\n",
       "    <tr>\n",
       "      <th>2</th>\n",
       "      <td>2015</td>\n",
       "      <td>15.0</td>\n",
       "      <td>100</td>\n",
       "      <td>13.6</td>\n",
       "      <td>0</td>\n",
       "      <td>1368</td>\n",
       "      <td>1035</td>\n",
       "      <td>0</td>\n",
       "      <td>1</td>\n",
       "      <td>0</td>\n",
       "      <td>0</td>\n",
       "      <td>0</td>\n",
       "      <td>1</td>\n",
       "      <td>0</td>\n",
       "      <td>1</td>\n",
       "      <td>0</td>\n",
       "    </tr>\n",
       "    <tr>\n",
       "      <th>3</th>\n",
       "      <td>2014</td>\n",
       "      <td>14.0</td>\n",
       "      <td>140</td>\n",
       "      <td>17.0</td>\n",
       "      <td>0</td>\n",
       "      <td>1591</td>\n",
       "      <td>1090</td>\n",
       "      <td>0</td>\n",
       "      <td>1</td>\n",
       "      <td>0</td>\n",
       "      <td>0</td>\n",
       "      <td>0</td>\n",
       "      <td>1</td>\n",
       "      <td>0</td>\n",
       "      <td>0</td>\n",
       "      <td>1</td>\n",
       "    </tr>\n",
       "    <tr>\n",
       "      <th>4</th>\n",
       "      <td>2015</td>\n",
       "      <td>9.6</td>\n",
       "      <td>175</td>\n",
       "      <td>46.0</td>\n",
       "      <td>0</td>\n",
       "      <td>2497</td>\n",
       "      <td>1990</td>\n",
       "      <td>1</td>\n",
       "      <td>0</td>\n",
       "      <td>0</td>\n",
       "      <td>0</td>\n",
       "      <td>0</td>\n",
       "      <td>0</td>\n",
       "      <td>1</td>\n",
       "      <td>0</td>\n",
       "      <td>1</td>\n",
       "    </tr>\n",
       "    <tr>\n",
       "      <th>...</th>\n",
       "      <td>...</td>\n",
       "      <td>...</td>\n",
       "      <td>...</td>\n",
       "      <td>...</td>\n",
       "      <td>...</td>\n",
       "      <td>...</td>\n",
       "      <td>...</td>\n",
       "      <td>...</td>\n",
       "      <td>...</td>\n",
       "      <td>...</td>\n",
       "      <td>...</td>\n",
       "      <td>...</td>\n",
       "      <td>...</td>\n",
       "      <td>...</td>\n",
       "      <td>...</td>\n",
       "      <td>...</td>\n",
       "    </tr>\n",
       "    <tr>\n",
       "      <th>66</th>\n",
       "      <td>2015</td>\n",
       "      <td>8.5</td>\n",
       "      <td>290</td>\n",
       "      <td>34.8</td>\n",
       "      <td>0</td>\n",
       "      <td>3342</td>\n",
       "      <td>1901</td>\n",
       "      <td>0</td>\n",
       "      <td>0</td>\n",
       "      <td>0</td>\n",
       "      <td>1</td>\n",
       "      <td>0</td>\n",
       "      <td>1</td>\n",
       "      <td>0</td>\n",
       "      <td>0</td>\n",
       "      <td>1</td>\n",
       "    </tr>\n",
       "    <tr>\n",
       "      <th>67</th>\n",
       "      <td>2012</td>\n",
       "      <td>13.3</td>\n",
       "      <td>108</td>\n",
       "      <td>13.9</td>\n",
       "      <td>0</td>\n",
       "      <td>1396</td>\n",
       "      <td>1040</td>\n",
       "      <td>0</td>\n",
       "      <td>1</td>\n",
       "      <td>0</td>\n",
       "      <td>0</td>\n",
       "      <td>0</td>\n",
       "      <td>1</td>\n",
       "      <td>0</td>\n",
       "      <td>0</td>\n",
       "      <td>1</td>\n",
       "    </tr>\n",
       "    <tr>\n",
       "      <th>68</th>\n",
       "      <td>2015</td>\n",
       "      <td>12.8</td>\n",
       "      <td>186</td>\n",
       "      <td>41.0</td>\n",
       "      <td>0</td>\n",
       "      <td>1995</td>\n",
       "      <td>1665</td>\n",
       "      <td>0</td>\n",
       "      <td>0</td>\n",
       "      <td>1</td>\n",
       "      <td>0</td>\n",
       "      <td>0</td>\n",
       "      <td>0</td>\n",
       "      <td>1</td>\n",
       "      <td>0</td>\n",
       "      <td>1</td>\n",
       "    </tr>\n",
       "    <tr>\n",
       "      <th>69</th>\n",
       "      <td>2015</td>\n",
       "      <td>17.7</td>\n",
       "      <td>156</td>\n",
       "      <td>19.3</td>\n",
       "      <td>1</td>\n",
       "      <td>1999</td>\n",
       "      <td>1585</td>\n",
       "      <td>0</td>\n",
       "      <td>0</td>\n",
       "      <td>0</td>\n",
       "      <td>1</td>\n",
       "      <td>0</td>\n",
       "      <td>1</td>\n",
       "      <td>0</td>\n",
       "      <td>0</td>\n",
       "      <td>1</td>\n",
       "    </tr>\n",
       "    <tr>\n",
       "      <th>70</th>\n",
       "      <td>2015</td>\n",
       "      <td>13.8</td>\n",
       "      <td>202</td>\n",
       "      <td>45.0</td>\n",
       "      <td>0</td>\n",
       "      <td>2199</td>\n",
       "      <td>1691</td>\n",
       "      <td>1</td>\n",
       "      <td>0</td>\n",
       "      <td>0</td>\n",
       "      <td>0</td>\n",
       "      <td>0</td>\n",
       "      <td>0</td>\n",
       "      <td>1</td>\n",
       "      <td>0</td>\n",
       "      <td>1</td>\n",
       "    </tr>\n",
       "  </tbody>\n",
       "</table>\n",
       "<p>71 rows × 16 columns</p>\n",
       "</div>"
      ],
      "text/plain": [
       "      년식    연비   마력    토크  하이브리드   배기량    중량  종류_대형  종류_소형  종류_준중형  종류_중형  \\\n",
       "0   2015  11.8  172  21.0      0  1999  1300      0      0       1      0   \n",
       "1   2015  12.3  204  27.0      0  1591  1300      0      0       1      0   \n",
       "2   2015  15.0  100  13.6      0  1368  1035      0      1       0      0   \n",
       "3   2014  14.0  140  17.0      0  1591  1090      0      1       0      0   \n",
       "4   2015   9.6  175  46.0      0  2497  1990      1      0       0      0   \n",
       "..   ...   ...  ...   ...    ...   ...   ...    ...    ...     ...    ...   \n",
       "66  2015   8.5  290  34.8      0  3342  1901      0      0       0      1   \n",
       "67  2012  13.3  108  13.9      0  1396  1040      0      1       0      0   \n",
       "68  2015  12.8  186  41.0      0  1995  1665      0      0       1      0   \n",
       "69  2015  17.7  156  19.3      1  1999  1585      0      0       0      1   \n",
       "70  2015  13.8  202  45.0      0  2199  1691      1      0       0      0   \n",
       "\n",
       "    연료_LPG  연료_가솔린  연료_디젤  변속기_수동  변속기_자동  \n",
       "0        0       1      0       0       1  \n",
       "1        0       1      0       0       1  \n",
       "2        0       1      0       1       0  \n",
       "3        0       1      0       0       1  \n",
       "4        0       0      1       0       1  \n",
       "..     ...     ...    ...     ...     ...  \n",
       "66       0       1      0       0       1  \n",
       "67       0       1      0       0       1  \n",
       "68       0       0      1       0       1  \n",
       "69       0       1      0       0       1  \n",
       "70       0       0      1       0       1  \n",
       "\n",
       "[71 rows x 16 columns]"
      ]
     },
     "execution_count": 24,
     "metadata": {},
     "output_type": "execute_result"
    }
   ],
   "source": [
    "x_train"
   ]
  },
  {
   "cell_type": "code",
   "execution_count": 26,
   "id": "04de193e",
   "metadata": {
    "ExecuteTime": {
     "end_time": "2022-05-02T09:42:37.214805Z",
     "start_time": "2022-05-02T09:42:37.072187Z"
    }
   },
   "outputs": [
    {
     "name": "stdout",
     "output_type": "stream",
     "text": [
      "0.9718531590878827\n",
      "0.8361514404469761\n"
     ]
    }
   ],
   "source": [
    "##########모델 생성\n",
    "\n",
    "model = RandomForestRegressor()\n",
    "\n",
    "##########모델 학습\n",
    "\n",
    "model.fit(x_train, y_train)\n",
    "\n",
    "##########모델 검증\n",
    "\n",
    "print(model.score(x_train, y_train)) \n",
    "\n",
    "print(model.score(x_test, y_test)) \n"
   ]
  },
  {
   "cell_type": "code",
   "execution_count": 27,
   "id": "324bb7a5",
   "metadata": {
    "ExecuteTime": {
     "end_time": "2022-05-02T09:43:37.515595Z",
     "start_time": "2022-05-02T09:43:37.492657Z"
    }
   },
   "outputs": [
    {
     "name": "stdout",
     "output_type": "stream",
     "text": [
      "1945.52\n"
     ]
    }
   ],
   "source": [
    "##########모델 예측\n",
    "\n",
    "x_test = [\n",
    "    [2015, 6.8, 159, 23, 0,2359, 1935, 0,0,1,0,0,1,0,0,1]\n",
    "]\n",
    "x_test = pd.DataFrame(x_test, columns=x_train.columns)\n",
    "y_predict = model.predict(x_test)\n",
    "\n",
    "print(y_predict[0]) "
   ]
  },
  {
   "cell_type": "code",
   "execution_count": null,
   "id": "f0fa6820",
   "metadata": {},
   "outputs": [],
   "source": []
  },
  {
   "cell_type": "code",
   "execution_count": null,
   "id": "59174b60",
   "metadata": {},
   "outputs": [],
   "source": []
  },
  {
   "cell_type": "markdown",
   "id": "9de01320",
   "metadata": {},
   "source": [
    "# 네이버 쇼핑 TV 가격 예측 모델 학습"
   ]
  },
  {
   "cell_type": "code",
   "execution_count": 28,
   "id": "dfd81cbc",
   "metadata": {
    "ExecuteTime": {
     "end_time": "2022-05-02T09:44:56.417401Z",
     "start_time": "2022-05-02T09:44:52.755058Z"
    }
   },
   "outputs": [],
   "source": [
    "import pandas as pd\n",
    "from sklearn.ensemble import RandomForestRegressor\n",
    "import numpy as np\n",
    "\n",
    "##########데이터 로드\n",
    "\n",
    "train_df = pd.read_excel('https://github.com/cranberryai/todak_todak_python/blob/master/machine_learning/regression/%E1%84%82%E1%85%A6%E1%84%8B%E1%85%B5%E1%84%87%E1%85%A5TV%E1%84%80%E1%85%A1%E1%84%80%E1%85%A7%E1%86%A8_%E1%84%8E%E1%85%AC%E1%84%8C%E1%85%A9%E1%86%BC.xlsx?raw=true', sheet_name='train')\n",
    "test_df = pd.read_excel('https://github.com/cranberryai/todak_todak_python/blob/master/machine_learning/regression/%E1%84%82%E1%85%A6%E1%84%8B%E1%85%B5%E1%84%87%E1%85%A5TV%E1%84%80%E1%85%A1%E1%84%80%E1%85%A7%E1%86%A8_%E1%84%8E%E1%85%AC%E1%84%8C%E1%85%A9%E1%86%BC.xlsx?raw=true', sheet_name='test')\n",
    "\n"
   ]
  },
  {
   "cell_type": "code",
   "execution_count": 29,
   "id": "8e9fbaea",
   "metadata": {
    "ExecuteTime": {
     "end_time": "2022-05-02T09:44:56.581933Z",
     "start_time": "2022-05-02T09:44:56.567961Z"
    }
   },
   "outputs": [
    {
     "data": {
      "text/html": [
       "<div>\n",
       "<style scoped>\n",
       "    .dataframe tbody tr th:only-of-type {\n",
       "        vertical-align: middle;\n",
       "    }\n",
       "\n",
       "    .dataframe tbody tr th {\n",
       "        vertical-align: top;\n",
       "    }\n",
       "\n",
       "    .dataframe thead th {\n",
       "        text-align: right;\n",
       "    }\n",
       "</style>\n",
       "<table border=\"1\" class=\"dataframe\">\n",
       "  <thead>\n",
       "    <tr style=\"text-align: right;\">\n",
       "      <th></th>\n",
       "      <th>ID</th>\n",
       "      <th>판매가</th>\n",
       "      <th>화면크기</th>\n",
       "      <th>형태</th>\n",
       "      <th>해상도</th>\n",
       "      <th>화면비율</th>\n",
       "      <th>LCD</th>\n",
       "      <th>LED</th>\n",
       "      <th>OLED</th>\n",
       "      <th>QLED</th>\n",
       "      <th>단자</th>\n",
       "      <th>부가기능</th>\n",
       "    </tr>\n",
       "  </thead>\n",
       "  <tbody>\n",
       "    <tr>\n",
       "      <th>0</th>\n",
       "      <td>8</td>\n",
       "      <td>396240</td>\n",
       "      <td>55</td>\n",
       "      <td>0</td>\n",
       "      <td>2160</td>\n",
       "      <td>1</td>\n",
       "      <td>0</td>\n",
       "      <td>1</td>\n",
       "      <td>0</td>\n",
       "      <td>0</td>\n",
       "      <td>3</td>\n",
       "      <td>1</td>\n",
       "    </tr>\n",
       "    <tr>\n",
       "      <th>1</th>\n",
       "      <td>9</td>\n",
       "      <td>412870</td>\n",
       "      <td>55</td>\n",
       "      <td>0</td>\n",
       "      <td>2160</td>\n",
       "      <td>1</td>\n",
       "      <td>0</td>\n",
       "      <td>1</td>\n",
       "      <td>0</td>\n",
       "      <td>0</td>\n",
       "      <td>3</td>\n",
       "      <td>1</td>\n",
       "    </tr>\n",
       "    <tr>\n",
       "      <th>2</th>\n",
       "      <td>10</td>\n",
       "      <td>414590</td>\n",
       "      <td>55</td>\n",
       "      <td>0</td>\n",
       "      <td>2160</td>\n",
       "      <td>1</td>\n",
       "      <td>0</td>\n",
       "      <td>1</td>\n",
       "      <td>0</td>\n",
       "      <td>0</td>\n",
       "      <td>3</td>\n",
       "      <td>1</td>\n",
       "    </tr>\n",
       "    <tr>\n",
       "      <th>3</th>\n",
       "      <td>14</td>\n",
       "      <td>418000</td>\n",
       "      <td>55</td>\n",
       "      <td>0</td>\n",
       "      <td>2160</td>\n",
       "      <td>1</td>\n",
       "      <td>0</td>\n",
       "      <td>1</td>\n",
       "      <td>0</td>\n",
       "      <td>0</td>\n",
       "      <td>3</td>\n",
       "      <td>1</td>\n",
       "    </tr>\n",
       "    <tr>\n",
       "      <th>4</th>\n",
       "      <td>15</td>\n",
       "      <td>419000</td>\n",
       "      <td>55</td>\n",
       "      <td>0</td>\n",
       "      <td>2160</td>\n",
       "      <td>1</td>\n",
       "      <td>0</td>\n",
       "      <td>1</td>\n",
       "      <td>0</td>\n",
       "      <td>0</td>\n",
       "      <td>3</td>\n",
       "      <td>1</td>\n",
       "    </tr>\n",
       "    <tr>\n",
       "      <th>...</th>\n",
       "      <td>...</td>\n",
       "      <td>...</td>\n",
       "      <td>...</td>\n",
       "      <td>...</td>\n",
       "      <td>...</td>\n",
       "      <td>...</td>\n",
       "      <td>...</td>\n",
       "      <td>...</td>\n",
       "      <td>...</td>\n",
       "      <td>...</td>\n",
       "      <td>...</td>\n",
       "      <td>...</td>\n",
       "    </tr>\n",
       "    <tr>\n",
       "      <th>6995</th>\n",
       "      <td>20670</td>\n",
       "      <td>1271670</td>\n",
       "      <td>49</td>\n",
       "      <td>0</td>\n",
       "      <td>1080</td>\n",
       "      <td>1</td>\n",
       "      <td>0</td>\n",
       "      <td>1</td>\n",
       "      <td>0</td>\n",
       "      <td>0</td>\n",
       "      <td>2</td>\n",
       "      <td>6</td>\n",
       "    </tr>\n",
       "    <tr>\n",
       "      <th>6996</th>\n",
       "      <td>20672</td>\n",
       "      <td>1441670</td>\n",
       "      <td>49</td>\n",
       "      <td>0</td>\n",
       "      <td>1080</td>\n",
       "      <td>1</td>\n",
       "      <td>0</td>\n",
       "      <td>1</td>\n",
       "      <td>0</td>\n",
       "      <td>0</td>\n",
       "      <td>2</td>\n",
       "      <td>6</td>\n",
       "    </tr>\n",
       "    <tr>\n",
       "      <th>6997</th>\n",
       "      <td>20673</td>\n",
       "      <td>1441680</td>\n",
       "      <td>49</td>\n",
       "      <td>0</td>\n",
       "      <td>1080</td>\n",
       "      <td>1</td>\n",
       "      <td>0</td>\n",
       "      <td>1</td>\n",
       "      <td>0</td>\n",
       "      <td>0</td>\n",
       "      <td>2</td>\n",
       "      <td>6</td>\n",
       "    </tr>\n",
       "    <tr>\n",
       "      <th>6998</th>\n",
       "      <td>20675</td>\n",
       "      <td>1571400</td>\n",
       "      <td>49</td>\n",
       "      <td>0</td>\n",
       "      <td>1080</td>\n",
       "      <td>1</td>\n",
       "      <td>0</td>\n",
       "      <td>1</td>\n",
       "      <td>0</td>\n",
       "      <td>0</td>\n",
       "      <td>2</td>\n",
       "      <td>6</td>\n",
       "    </tr>\n",
       "    <tr>\n",
       "      <th>6999</th>\n",
       "      <td>20676</td>\n",
       "      <td>2894380</td>\n",
       "      <td>49</td>\n",
       "      <td>0</td>\n",
       "      <td>1080</td>\n",
       "      <td>1</td>\n",
       "      <td>0</td>\n",
       "      <td>1</td>\n",
       "      <td>0</td>\n",
       "      <td>0</td>\n",
       "      <td>2</td>\n",
       "      <td>6</td>\n",
       "    </tr>\n",
       "  </tbody>\n",
       "</table>\n",
       "<p>7000 rows × 12 columns</p>\n",
       "</div>"
      ],
      "text/plain": [
       "         ID      판매가  화면크기  형태   해상도  화면비율  LCD  LED  OLED  QLED  단자  부가기능\n",
       "0         8   396240    55   0  2160     1    0    1     0     0   3     1\n",
       "1         9   412870    55   0  2160     1    0    1     0     0   3     1\n",
       "2        10   414590    55   0  2160     1    0    1     0     0   3     1\n",
       "3        14   418000    55   0  2160     1    0    1     0     0   3     1\n",
       "4        15   419000    55   0  2160     1    0    1     0     0   3     1\n",
       "...     ...      ...   ...  ..   ...   ...  ...  ...   ...   ...  ..   ...\n",
       "6995  20670  1271670    49   0  1080     1    0    1     0     0   2     6\n",
       "6996  20672  1441670    49   0  1080     1    0    1     0     0   2     6\n",
       "6997  20673  1441680    49   0  1080     1    0    1     0     0   2     6\n",
       "6998  20675  1571400    49   0  1080     1    0    1     0     0   2     6\n",
       "6999  20676  2894380    49   0  1080     1    0    1     0     0   2     6\n",
       "\n",
       "[7000 rows x 12 columns]"
      ]
     },
     "execution_count": 29,
     "metadata": {},
     "output_type": "execute_result"
    }
   ],
   "source": [
    "train_df"
   ]
  },
  {
   "cell_type": "code",
   "execution_count": 30,
   "id": "a9176b59",
   "metadata": {},
   "outputs": [
    {
     "data": {
      "text/html": [
       "<div>\n",
       "<style scoped>\n",
       "    .dataframe tbody tr th:only-of-type {\n",
       "        vertical-align: middle;\n",
       "    }\n",
       "\n",
       "    .dataframe tbody tr th {\n",
       "        vertical-align: top;\n",
       "    }\n",
       "\n",
       "    .dataframe thead th {\n",
       "        text-align: right;\n",
       "    }\n",
       "</style>\n",
       "<table border=\"1\" class=\"dataframe\">\n",
       "  <thead>\n",
       "    <tr style=\"text-align: right;\">\n",
       "      <th></th>\n",
       "      <th>ID</th>\n",
       "      <th>판매가</th>\n",
       "      <th>화면크기</th>\n",
       "      <th>형태</th>\n",
       "      <th>해상도</th>\n",
       "      <th>화면비율</th>\n",
       "      <th>LCD</th>\n",
       "      <th>LED</th>\n",
       "      <th>OLED</th>\n",
       "      <th>QLED</th>\n",
       "      <th>단자</th>\n",
       "      <th>부가기능</th>\n",
       "    </tr>\n",
       "  </thead>\n",
       "  <tbody>\n",
       "    <tr>\n",
       "      <th>763</th>\n",
       "      <td>2258</td>\n",
       "      <td>1450730</td>\n",
       "      <td>65</td>\n",
       "      <td>0</td>\n",
       "      <td>2160</td>\n",
       "      <td>1</td>\n",
       "      <td>0</td>\n",
       "      <td>0</td>\n",
       "      <td>0</td>\n",
       "      <td>0</td>\n",
       "      <td>2</td>\n",
       "      <td>2</td>\n",
       "    </tr>\n",
       "    <tr>\n",
       "      <th>764</th>\n",
       "      <td>2260</td>\n",
       "      <td>1450720</td>\n",
       "      <td>65</td>\n",
       "      <td>0</td>\n",
       "      <td>2160</td>\n",
       "      <td>1</td>\n",
       "      <td>0</td>\n",
       "      <td>0</td>\n",
       "      <td>0</td>\n",
       "      <td>0</td>\n",
       "      <td>2</td>\n",
       "      <td>2</td>\n",
       "    </tr>\n",
       "    <tr>\n",
       "      <th>765</th>\n",
       "      <td>2262</td>\n",
       "      <td>1457990</td>\n",
       "      <td>65</td>\n",
       "      <td>0</td>\n",
       "      <td>2160</td>\n",
       "      <td>1</td>\n",
       "      <td>0</td>\n",
       "      <td>0</td>\n",
       "      <td>0</td>\n",
       "      <td>0</td>\n",
       "      <td>2</td>\n",
       "      <td>2</td>\n",
       "    </tr>\n",
       "    <tr>\n",
       "      <th>766</th>\n",
       "      <td>2265</td>\n",
       "      <td>1458000</td>\n",
       "      <td>65</td>\n",
       "      <td>0</td>\n",
       "      <td>2160</td>\n",
       "      <td>1</td>\n",
       "      <td>0</td>\n",
       "      <td>0</td>\n",
       "      <td>0</td>\n",
       "      <td>0</td>\n",
       "      <td>2</td>\n",
       "      <td>2</td>\n",
       "    </tr>\n",
       "    <tr>\n",
       "      <th>767</th>\n",
       "      <td>2270</td>\n",
       "      <td>1458490</td>\n",
       "      <td>65</td>\n",
       "      <td>0</td>\n",
       "      <td>2160</td>\n",
       "      <td>1</td>\n",
       "      <td>0</td>\n",
       "      <td>0</td>\n",
       "      <td>0</td>\n",
       "      <td>0</td>\n",
       "      <td>2</td>\n",
       "      <td>2</td>\n",
       "    </tr>\n",
       "    <tr>\n",
       "      <th>...</th>\n",
       "      <td>...</td>\n",
       "      <td>...</td>\n",
       "      <td>...</td>\n",
       "      <td>...</td>\n",
       "      <td>...</td>\n",
       "      <td>...</td>\n",
       "      <td>...</td>\n",
       "      <td>...</td>\n",
       "      <td>...</td>\n",
       "      <td>...</td>\n",
       "      <td>...</td>\n",
       "      <td>...</td>\n",
       "    </tr>\n",
       "    <tr>\n",
       "      <th>6559</th>\n",
       "      <td>19405</td>\n",
       "      <td>1411000</td>\n",
       "      <td>65</td>\n",
       "      <td>0</td>\n",
       "      <td>2160</td>\n",
       "      <td>0</td>\n",
       "      <td>0</td>\n",
       "      <td>0</td>\n",
       "      <td>0</td>\n",
       "      <td>0</td>\n",
       "      <td>2</td>\n",
       "      <td>0</td>\n",
       "    </tr>\n",
       "    <tr>\n",
       "      <th>6560</th>\n",
       "      <td>19408</td>\n",
       "      <td>1442780</td>\n",
       "      <td>65</td>\n",
       "      <td>0</td>\n",
       "      <td>2160</td>\n",
       "      <td>0</td>\n",
       "      <td>0</td>\n",
       "      <td>0</td>\n",
       "      <td>0</td>\n",
       "      <td>0</td>\n",
       "      <td>2</td>\n",
       "      <td>0</td>\n",
       "    </tr>\n",
       "    <tr>\n",
       "      <th>6561</th>\n",
       "      <td>19410</td>\n",
       "      <td>1491900</td>\n",
       "      <td>65</td>\n",
       "      <td>0</td>\n",
       "      <td>2160</td>\n",
       "      <td>0</td>\n",
       "      <td>0</td>\n",
       "      <td>0</td>\n",
       "      <td>0</td>\n",
       "      <td>0</td>\n",
       "      <td>2</td>\n",
       "      <td>0</td>\n",
       "    </tr>\n",
       "    <tr>\n",
       "      <th>6562</th>\n",
       "      <td>19411</td>\n",
       "      <td>1516120</td>\n",
       "      <td>65</td>\n",
       "      <td>0</td>\n",
       "      <td>2160</td>\n",
       "      <td>0</td>\n",
       "      <td>0</td>\n",
       "      <td>0</td>\n",
       "      <td>0</td>\n",
       "      <td>0</td>\n",
       "      <td>2</td>\n",
       "      <td>0</td>\n",
       "    </tr>\n",
       "    <tr>\n",
       "      <th>6563</th>\n",
       "      <td>19415</td>\n",
       "      <td>1569610</td>\n",
       "      <td>65</td>\n",
       "      <td>0</td>\n",
       "      <td>2160</td>\n",
       "      <td>0</td>\n",
       "      <td>0</td>\n",
       "      <td>0</td>\n",
       "      <td>0</td>\n",
       "      <td>0</td>\n",
       "      <td>2</td>\n",
       "      <td>0</td>\n",
       "    </tr>\n",
       "  </tbody>\n",
       "</table>\n",
       "<p>364 rows × 12 columns</p>\n",
       "</div>"
      ],
      "text/plain": [
       "         ID      판매가  화면크기  형태   해상도  화면비율  LCD  LED  OLED  QLED  단자  부가기능\n",
       "763    2258  1450730    65   0  2160     1    0    0     0     0   2     2\n",
       "764    2260  1450720    65   0  2160     1    0    0     0     0   2     2\n",
       "765    2262  1457990    65   0  2160     1    0    0     0     0   2     2\n",
       "766    2265  1458000    65   0  2160     1    0    0     0     0   2     2\n",
       "767    2270  1458490    65   0  2160     1    0    0     0     0   2     2\n",
       "...     ...      ...   ...  ..   ...   ...  ...  ...   ...   ...  ..   ...\n",
       "6559  19405  1411000    65   0  2160     0    0    0     0     0   2     0\n",
       "6560  19408  1442780    65   0  2160     0    0    0     0     0   2     0\n",
       "6561  19410  1491900    65   0  2160     0    0    0     0     0   2     0\n",
       "6562  19411  1516120    65   0  2160     0    0    0     0     0   2     0\n",
       "6563  19415  1569610    65   0  2160     0    0    0     0     0   2     0\n",
       "\n",
       "[364 rows x 12 columns]"
      ]
     },
     "execution_count": 30,
     "metadata": {},
     "output_type": "execute_result"
    }
   ],
   "source": [
    "search_df = train_df[(train_df['LCD']==0) & (train_df['LED']==0) & (train_df['OLED']==0) & (train_df['QLED']==0)]\n",
    "search_df"
   ]
  },
  {
   "cell_type": "code",
   "execution_count": 31,
   "id": "d8577ddf",
   "metadata": {
    "ExecuteTime": {
     "end_time": "2022-05-02T09:45:14.299796Z",
     "start_time": "2022-05-02T09:45:14.267881Z"
    }
   },
   "outputs": [
    {
     "name": "stdout",
     "output_type": "stream",
     "text": [
      "<class 'pandas.core.frame.DataFrame'>\n",
      "RangeIndex: 7000 entries, 0 to 6999\n",
      "Data columns (total 12 columns):\n",
      " #   Column  Non-Null Count  Dtype\n",
      "---  ------  --------------  -----\n",
      " 0   ID      7000 non-null   int64\n",
      " 1   판매가     7000 non-null   int64\n",
      " 2   화면크기    7000 non-null   int64\n",
      " 3   형태      7000 non-null   int64\n",
      " 4   해상도     7000 non-null   int64\n",
      " 5   화면비율    7000 non-null   int64\n",
      " 6   LCD     7000 non-null   int64\n",
      " 7   LED     7000 non-null   int64\n",
      " 8   OLED    7000 non-null   int64\n",
      " 9   QLED    7000 non-null   int64\n",
      " 10  단자      7000 non-null   int64\n",
      " 11  부가기능    7000 non-null   int64\n",
      "dtypes: int64(12)\n",
      "memory usage: 656.3 KB\n",
      "None\n",
      "<class 'pandas.core.frame.DataFrame'>\n",
      "Int64Index: 6636 entries, 0 to 6999\n",
      "Data columns (total 12 columns):\n",
      " #   Column  Non-Null Count  Dtype\n",
      "---  ------  --------------  -----\n",
      " 0   ID      6636 non-null   int64\n",
      " 1   판매가     6636 non-null   int64\n",
      " 2   화면크기    6636 non-null   int64\n",
      " 3   형태      6636 non-null   int64\n",
      " 4   해상도     6636 non-null   int64\n",
      " 5   화면비율    6636 non-null   int64\n",
      " 6   LCD     6636 non-null   int64\n",
      " 7   LED     6636 non-null   int64\n",
      " 8   OLED    6636 non-null   int64\n",
      " 9   QLED    6636 non-null   int64\n",
      " 10  단자      6636 non-null   int64\n",
      " 11  부가기능    6636 non-null   int64\n",
      "dtypes: int64(12)\n",
      "memory usage: 674.0 KB\n",
      "None\n",
      "   화면크기  형태   해상도  화면비율  LCD  LED  OLED  QLED  단자  부가기능\n",
      "0    55   0  2160     1    0    1     0     0   3     1\n",
      "1    55   0  2160     1    0    1     0     0   3     1\n",
      "2    55   0  2160     1    0    1     0     0   3     1\n",
      "3    55   0  2160     1    0    1     0     0   3     1\n",
      "4    55   0  2160     1    0    1     0     0   3     1\n"
     ]
    }
   ],
   "source": [
    "##########데이터 분석\n",
    "\n",
    "##########데이터 전처리\n",
    "\n",
    "print(train_df.info())\n",
    "\n",
    "search_df = train_df[(train_df['LCD']==0) & (train_df['LED']==0) & (train_df['OLED']==0) & (train_df['QLED']==0)]\n",
    "train_df = train_df.drop(search_df.index, axis=0)\n",
    "search_df = test_df[(test_df['LCD']==0) & (test_df['LED']==0) & (test_df['OLED']==0) & (test_df['QLED']==0)]\n",
    "test_df = test_df.drop(search_df.index, axis=0)\n",
    "\n",
    "print(train_df.info())\n",
    "\n",
    "x_train = train_df.drop(['ID', '판매가'], axis=1)\n",
    "x_test = test_df.drop(['ID', '판매가'], axis=1)\n",
    "y_train = train_df['판매가']\n",
    "y_test = test_df['판매가']\n",
    "\n",
    "print(x_train.head())\n",
    "\n",
    "\n",
    "x_train = x_train.to_numpy()\n",
    "x_test = x_test.to_numpy()\n",
    "\n"
   ]
  },
  {
   "cell_type": "code",
   "execution_count": 32,
   "id": "7fa5da47",
   "metadata": {
    "ExecuteTime": {
     "end_time": "2022-05-02T09:45:15.033831Z",
     "start_time": "2022-05-02T09:45:14.537158Z"
    }
   },
   "outputs": [
    {
     "name": "stdout",
     "output_type": "stream",
     "text": [
      "0.8313843751432334\n",
      "0.7850949695692508\n"
     ]
    }
   ],
   "source": [
    "##########모델 생성\n",
    "\n",
    "model = RandomForestRegressor()\n",
    "\n",
    "##########모델 학습\n",
    "\n",
    "model.fit(x_train, y_train)\n",
    "\n",
    "##########모델 검증\n",
    "\n",
    "print(model.score(x_train, y_train)) #\n",
    "\n",
    "print(model.score(x_test, y_test)) "
   ]
  },
  {
   "cell_type": "code",
   "execution_count": 33,
   "id": "944f5fd9",
   "metadata": {
    "ExecuteTime": {
     "end_time": "2022-05-02T09:45:15.262223Z",
     "start_time": "2022-05-02T09:45:15.245268Z"
    }
   },
   "outputs": [
    {
     "name": "stdout",
     "output_type": "stream",
     "text": [
      "430185.2652997702\n"
     ]
    }
   ],
   "source": [
    "##########모델 예측\n",
    "\n",
    "x_test = np.array([\n",
    "    [55, 0, 2160, 1, 0, 1, 0, 0, 3, 1]\n",
    "])\n",
    "\n",
    "y_predict = model.predict(x_test)\n",
    "\n",
    "print(y_predict[0]) "
   ]
  },
  {
   "cell_type": "code",
   "execution_count": null,
   "id": "6ddce2bb",
   "metadata": {},
   "outputs": [],
   "source": []
  },
  {
   "cell_type": "code",
   "execution_count": null,
   "id": "e5a707d4",
   "metadata": {},
   "outputs": [],
   "source": []
  }
 ],
 "metadata": {
  "hide_input": false,
  "kernelspec": {
   "display_name": "Python 3 (ipykernel)",
   "language": "python",
   "name": "python3"
  },
  "language_info": {
   "codemirror_mode": {
    "name": "ipython",
    "version": 3
   },
   "file_extension": ".py",
   "mimetype": "text/x-python",
   "name": "python",
   "nbconvert_exporter": "python",
   "pygments_lexer": "ipython3",
   "version": "3.9.6"
  },
  "toc": {
   "base_numbering": 1,
   "nav_menu": {},
   "number_sections": true,
   "sideBar": true,
   "skip_h1_title": false,
   "title_cell": "Table of Contents",
   "title_sidebar": "Contents",
   "toc_cell": false,
   "toc_position": {},
   "toc_section_display": true,
   "toc_window_display": false
  },
  "varInspector": {
   "cols": {
    "lenName": 16,
    "lenType": 16,
    "lenVar": 40
   },
   "kernels_config": {
    "python": {
     "delete_cmd_postfix": "",
     "delete_cmd_prefix": "del ",
     "library": "var_list.py",
     "varRefreshCmd": "print(var_dic_list())"
    },
    "r": {
     "delete_cmd_postfix": ") ",
     "delete_cmd_prefix": "rm(",
     "library": "var_list.r",
     "varRefreshCmd": "cat(var_dic_list()) "
    }
   },
   "types_to_exclude": [
    "module",
    "function",
    "builtin_function_or_method",
    "instance",
    "_Feature"
   ],
   "window_display": false
  }
 },
 "nbformat": 4,
 "nbformat_minor": 5
}
