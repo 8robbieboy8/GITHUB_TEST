{
 "cells": [
  {
   "cell_type": "markdown",
   "id": "dd389f34",
   "metadata": {
    "id": "dd389f34"
   },
   "source": [
    "# Numpy"
   ]
  },
  {
   "cell_type": "code",
   "execution_count": 3,
   "id": "d3e04a0f",
   "metadata": {
    "ExecuteTime": {
     "end_time": "2022-04-21T03:31:52.433868Z",
     "start_time": "2022-04-21T03:31:52.428913Z"
    },
    "id": "d3e04a0f"
   },
   "outputs": [],
   "source": [
    "import numpy as np\n",
    "list1 = [1,2,3]        \n",
    "npArray = np.array([1,3,5])  "
   ]
  },
  {
   "cell_type": "code",
   "execution_count": 4,
   "id": "a3a88780",
   "metadata": {
    "ExecuteTime": {
     "end_time": "2022-04-21T03:31:52.446836Z",
     "start_time": "2022-04-21T03:31:52.436872Z"
    },
    "hide_input": false,
    "id": "a3a88780"
   },
   "outputs": [
    {
     "data": {
      "text/plain": [
       "[1, 2, 3]"
      ]
     },
     "execution_count": 4,
     "metadata": {},
     "output_type": "execute_result"
    }
   ],
   "source": [
    "list1 # 리스트"
   ]
  },
  {
   "cell_type": "code",
   "execution_count": 5,
   "id": "a29e9abc",
   "metadata": {
    "ExecuteTime": {
     "end_time": "2022-04-21T03:31:52.459830Z",
     "start_time": "2022-04-21T03:31:52.448828Z"
    },
    "id": "a29e9abc"
   },
   "outputs": [
    {
     "data": {
      "text/plain": [
       "array([1, 3, 5])"
      ]
     },
     "execution_count": 5,
     "metadata": {},
     "output_type": "execute_result"
    }
   ],
   "source": [
    "npArray #np.array"
   ]
  },
  {
   "cell_type": "markdown",
   "id": "3907c934",
   "metadata": {},
   "source": [
    "# pop"
   ]
  },
  {
   "cell_type": "code",
   "execution_count": null,
   "id": "650f2a03",
   "metadata": {},
   "outputs": [],
   "source": []
  },
  {
   "cell_type": "markdown",
   "id": "0fecf510",
   "metadata": {
    "id": "0fecf510"
   },
   "source": [
    "## list 와 ndarray 의 차이\n",
    " - 실전에서 혼용해서 사용하니 차이점을 알고 적절히 사용해야 함"
   ]
  },
  {
   "cell_type": "code",
   "execution_count": 1,
   "id": "c7a2d328",
   "metadata": {
    "ExecuteTime": {
     "end_time": "2022-04-21T03:31:52.466786Z",
     "start_time": "2022-04-21T03:31:52.460798Z"
    },
    "id": "c7a2d328"
   },
   "outputs": [
    {
     "name": "stdout",
     "output_type": "stream",
     "text": [
      "[10, 5, 3, 7, 1, 5, 11, 6, 4, 8, 2, 6]\n"
     ]
    }
   ],
   "source": [
    "# list 더하기\n",
    "a = [10, 5, 3, 7, 1, 5]\n",
    "b = [11, 6, 4, 8, 2, 6] \n",
    "print(a+b)\n",
    "#print(a+2) 불가능"
   ]
  },
  {
   "cell_type": "code",
   "execution_count": 6,
   "id": "646704a1",
   "metadata": {
    "ExecuteTime": {
     "end_time": "2022-04-21T03:31:52.475757Z",
     "start_time": "2022-04-21T03:31:52.469773Z"
    },
    "id": "646704a1"
   },
   "outputs": [
    {
     "name": "stdout",
     "output_type": "stream",
     "text": [
      "[21 11  7 15  3 11]\n",
      "[12  7  5  9  3  7]\n"
     ]
    }
   ],
   "source": [
    "# ndarray 더하기\n",
    "na1 = np.array([10, 5, 3, 7, 1, 5])\n",
    "nb = np.array([11, 6, 4, 8, 2, 6])\n",
    "print(na1 + nb)\n",
    "print(na1+2) #가능"
   ]
  },
  {
   "cell_type": "code",
   "execution_count": 7,
   "id": "8947dd10",
   "metadata": {
    "ExecuteTime": {
     "end_time": "2022-04-21T03:31:52.483781Z",
     "start_time": "2022-04-21T03:31:52.476756Z"
    },
    "id": "8947dd10"
   },
   "outputs": [
    {
     "name": "stdout",
     "output_type": "stream",
     "text": [
      "리스트 곱하기 [10, 5, 3, 7, 1, 5, 10, 5, 3, 7, 1, 5]\n",
      "ndarray 곱하기 [20 10  6 14  2 10]\n"
     ]
    }
   ],
   "source": [
    "# 곱하기\n",
    "a2 = a*2\n",
    "print(\"리스트 곱하기\",a2)\n",
    "na2 = na1*2\n",
    "print(\"ndarray 곱하기\",na2)"
   ]
  },
  {
   "cell_type": "markdown",
   "id": "7f57f855",
   "metadata": {
    "id": "7f57f855"
   },
   "source": [
    "### list에 곱해주는 방법(하나씩 곱해주기)"
   ]
  },
  {
   "cell_type": "code",
   "execution_count": null,
   "id": "dad9b5e6",
   "metadata": {
    "ExecuteTime": {
     "end_time": "2022-04-21T03:31:52.496706Z",
     "start_time": "2022-04-21T03:31:52.485729Z"
    },
    "id": "dad9b5e6"
   },
   "outputs": [],
   "source": [
    "#첫번째 값만 곱해주기\n",
    "a2[0] = a2[0]*2\n",
    "print(a2)\n",
    "# for 문으로 전체 곱해주기\n",
    "for i in range(len(a2)):\n",
    "    a2[i] = a2[i]*2\n",
    "print(a2)"
   ]
  },
  {
   "cell_type": "markdown",
   "id": "6c4017e5",
   "metadata": {
    "id": "6c4017e5"
   },
   "source": [
    "### numpy 여러함수 (shape,ndim,dtype)\n",
    " - shape 크기 정보\n",
    " - ndim 차원 정보\n",
    " - dtype 데이터 타입"
   ]
  },
  {
   "cell_type": "code",
   "execution_count": null,
   "id": "3acff462",
   "metadata": {
    "ExecuteTime": {
     "end_time": "2022-04-21T03:31:52.510663Z",
     "start_time": "2022-04-21T03:31:52.498695Z"
    },
    "id": "3acff462"
   },
   "outputs": [],
   "source": [
    "data = np.array([\n",
    "    [1, 2],\n",
    "    [3, 4]\n",
    "])\n",
    "print(data.shape) # 크기 정보\n",
    "print(data.ndim) # 차원 정보\n",
    "print(data.dtype) # 데이터 타입\n",
    "print(type(data)) # 데이터 타입"
   ]
  },
  {
   "cell_type": "markdown",
   "id": "1af5f7da",
   "metadata": {
    "id": "1af5f7da"
   },
   "source": [
    "### numpy 여러함수 (zeros,ones)\n",
    " - zeros 모든행을 0으로\n",
    " - ones 모든행을 1로"
   ]
  },
  {
   "cell_type": "code",
   "execution_count": null,
   "id": "c801f752",
   "metadata": {
    "ExecuteTime": {
     "end_time": "2022-04-21T03:31:52.517656Z",
     "start_time": "2022-04-21T03:31:52.512657Z"
    },
    "id": "c801f752"
   },
   "outputs": [],
   "source": [
    "print(np.zeros(3)) # zeros 0으로 채워진 ndarray를 리턴\n",
    "print(np.ones(3)) # ones  1으로 채워진 ndarray를 리턴"
   ]
  },
  {
   "cell_type": "markdown",
   "id": "1787d3e3",
   "metadata": {
    "id": "1787d3e3"
   },
   "source": [
    "### numpy 여러함수(reshape)\n",
    " - reshape 차원 변경"
   ]
  },
  {
   "cell_type": "code",
   "execution_count": null,
   "id": "bfd1136b",
   "metadata": {},
   "outputs": [],
   "source": [
    "np.arange(4, 8, 2)"
   ]
  },
  {
   "cell_type": "code",
   "execution_count": null,
   "id": "57c51baa",
   "metadata": {
    "ExecuteTime": {
     "end_time": "2022-04-21T03:31:52.527617Z",
     "start_time": "2022-04-21T03:31:52.519649Z"
    },
    "id": "57c51baa"
   },
   "outputs": [],
   "source": [
    "arr = np.arange(4).reshape(2, 2)\n",
    "arr"
   ]
  },
  {
   "cell_type": "markdown",
   "id": "e894c7fe",
   "metadata": {
    "id": "e894c7fe"
   },
   "source": [
    "### numpy 여러함수(delete)\n",
    " - delete 삭제"
   ]
  },
  {
   "cell_type": "code",
   "execution_count": null,
   "id": "4be16c33",
   "metadata": {
    "ExecuteTime": {
     "end_time": "2022-04-21T03:31:52.537593Z",
     "start_time": "2022-04-21T03:31:52.530612Z"
    },
    "id": "4be16c33"
   },
   "outputs": [],
   "source": [
    "# np.delete(adarray , index)\n",
    "delete_list = np.arange(10)\n",
    "print(delete_list)\n",
    "delete_list = np.delete(delete_list ,2) \n",
    "print(delete_list)\n",
    "\n",
    "delete_list_r = np.random.randint(1,10,10)\n",
    "print(delete_list_r)\n",
    "print(np.delete(delete_list_r ,2) )\n",
    "print(delete_list_r)"
   ]
  },
  {
   "cell_type": "code",
   "execution_count": null,
   "id": "3dc96824",
   "metadata": {
    "ExecuteTime": {
     "end_time": "2022-04-21T04:08:32.550619Z",
     "start_time": "2022-04-21T04:08:32.543638Z"
    },
    "id": "3dc96824"
   },
   "outputs": [],
   "source": [
    "# np.delete(ndarray, index , axis)\n",
    "delete_list2 = np.arange(16).reshape(4, 4)\n",
    "print(delete_list2,\"\\n\")\n",
    "delete_list3 = np.delete(delete_list2 , 1 ,axis=0) \n",
    "print(\"행삭제\\n\",delete_list3,\"\\n\")\n",
    "delete_list4 = np.delete(delete_list2 , 1 ,axis=1) \n",
    "print(\"열삭제\\n\",delete_list4)"
   ]
  },
  {
   "cell_type": "code",
   "execution_count": null,
   "id": "0aa5ca3f",
   "metadata": {
    "ExecuteTime": {
     "end_time": "2022-04-21T03:31:52.563523Z",
     "start_time": "2022-04-21T03:31:52.549558Z"
    },
    "id": "0aa5ca3f"
   },
   "outputs": [],
   "source": [
    "a = [10, 5, 3, 7, 1, 5]\n",
    "for i in a :\n",
    "    print(i)\n",
    "for i,j in enumerate(a) :\n",
    "    print(i,\"내용 :\",j)"
   ]
  },
  {
   "cell_type": "code",
   "execution_count": null,
   "id": "14ddb1c2",
   "metadata": {
    "ExecuteTime": {
     "end_time": "2022-04-21T03:31:52.579479Z",
     "start_time": "2022-04-21T03:31:52.565522Z"
    },
    "id": "14ddb1c2"
   },
   "outputs": [],
   "source": [
    "na1 = np.array([10, 5, 3, 7, 1, 5])\n",
    "for i in na1 :\n",
    "    print(i)\n",
    "for i,j in enumerate(na1) :\n",
    "    print(i,\"내용 :\",j)"
   ]
  },
  {
   "cell_type": "markdown",
   "id": "19027485",
   "metadata": {
    "id": "19027485"
   },
   "source": [
    "### 문제 아래 2차원의 행,열 번호와 내용을 같이 출력해 보세요."
   ]
  },
  {
   "cell_type": "code",
   "execution_count": null,
   "id": "02528523",
   "metadata": {
    "ExecuteTime": {
     "end_time": "2022-04-21T03:31:52.589483Z",
     "start_time": "2022-04-21T03:31:52.581473Z"
    },
    "id": "02528523"
   },
   "outputs": [],
   "source": [
    "#2차원 \n",
    "matrix = [['A', 'B', 'C'], ['D', 'E', 'F'], ['G', 'H', 'I']]"
   ]
  },
  {
   "cell_type": "code",
   "execution_count": null,
   "id": "e87f6a06",
   "metadata": {
    "ExecuteTime": {
     "end_time": "2022-04-21T03:31:52.603414Z",
     "start_time": "2022-04-21T03:31:52.591446Z"
    },
    "hide_input": false,
    "id": "e87f6a06"
   },
   "outputs": [],
   "source": [
    "# 같은 방법이지만 파이썬 답지 않은 코드?\n",
    "# for r in range(len(matrix)):\n",
    "#     for c in range(len(matrix[r])):\n",
    "#         print(r, c, matrix[r][c])\n",
    "\n",
    "for r, row in enumerate(matrix):\n",
    "    for c, letter in enumerate(row):\n",
    "        print(r, c, letter)"
   ]
  },
  {
   "cell_type": "markdown",
   "id": "f51dde21",
   "metadata": {
    "id": "f51dde21"
   },
   "source": [
    "### numpy 인덱싱(가르키다)"
   ]
  },
  {
   "cell_type": "code",
   "execution_count": 7,
   "id": "5c51ca11",
   "metadata": {},
   "outputs": [],
   "source": [
    "import numpy as np"
   ]
  },
  {
   "cell_type": "code",
   "execution_count": 8,
   "id": "a3afbca3",
   "metadata": {
    "ExecuteTime": {
     "end_time": "2022-04-21T03:31:52.611393Z",
     "start_time": "2022-04-21T03:31:52.605420Z"
    },
    "id": "a3afbca3"
   },
   "outputs": [
    {
     "name": "stdout",
     "output_type": "stream",
     "text": [
      "1\n",
      "1\n"
     ]
    }
   ],
   "source": [
    "# ndarray 인덱싱\n",
    "data2 = [\n",
    "    [1, 2, 3],\n",
    "    [4, 5, 6],\n",
    "    [7, 8, 9]\n",
    "]\n",
    "\n",
    "arr = np.array(data2)\n",
    "print(arr[0][0]) \n",
    "print(arr[0, 0]) # 빠름 데이터 많아질 수록 더 차이 남"
   ]
  },
  {
   "cell_type": "code",
   "execution_count": 25,
   "id": "7503f351",
   "metadata": {},
   "outputs": [
    {
     "name": "stdout",
     "output_type": "stream",
     "text": [
      "데스트 :  [[1 2]\n",
      " [4 5]\n",
      " [7 8]]\n"
     ]
    }
   ],
   "source": [
    "print('데스트 : ', arr[:, 0:-1])\n",
    "# print('데스트 : ', arr[:, -1:] )"
   ]
  },
  {
   "cell_type": "markdown",
   "id": "686748e4",
   "metadata": {
    "id": "686748e4"
   },
   "source": [
    "### numpy 슬라이싱(잘라내다)"
   ]
  },
  {
   "cell_type": "code",
   "execution_count": null,
   "id": "f7e0b6f7",
   "metadata": {
    "ExecuteTime": {
     "end_time": "2022-04-21T03:31:52.621366Z",
     "start_time": "2022-04-21T03:31:52.613389Z"
    },
    "id": "f7e0b6f7"
   },
   "outputs": [],
   "source": [
    "# 배열[a:b:c] 일때 a는 시작값, b는 도착값, c는 간격\n",
    "print(\"1번 \\n\",arr[ : ],\"\\n\")\n",
    "print(\"2번 행 \\n\",arr[ 0 , :],\"\\n\")\n",
    "print(\"2번 열 \\n\",arr[ : , 0],\"\\n\")\n",
    "print(\"3번 \\n\",arr[ : 2],\"\\n\")\n",
    "print(\"4번 \\n\",arr[ 0 : 2, :],\"\\n\")\n",
    "print(\"5번 \\n\",arr[  : 2, :1],\"\\n\")\n",
    "print(\"6번 \\n\",arr[ : 1, : 2],\"\\n\")"
   ]
  },
  {
   "cell_type": "code",
   "execution_count": null,
   "id": "00ff37f7",
   "metadata": {
    "ExecuteTime": {
     "end_time": "2022-04-21T03:31:52.631339Z",
     "start_time": "2022-04-21T03:31:52.623361Z"
    },
    "id": "00ff37f7"
   },
   "outputs": [],
   "source": [
    "arr1 = np.arange(4 , 11 , 2) # np.arange(시작 , 끝 , + )\n",
    "arr1"
   ]
  },
  {
   "cell_type": "code",
   "execution_count": null,
   "id": "112bf777",
   "metadata": {
    "ExecuteTime": {
     "end_time": "2022-04-21T03:31:52.642310Z",
     "start_time": "2022-04-21T03:31:52.633343Z"
    },
    "id": "112bf777"
   },
   "outputs": [],
   "source": [
    "arr1[[0, 2]]"
   ]
  },
  {
   "cell_type": "markdown",
   "id": "2a8bedf5",
   "metadata": {
    "id": "2a8bedf5"
   },
   "source": [
    "### 문제) arange를 사용해서 20개 데이터 만들고 4,5 배열로 reshape 후 2번째 행까지만 출력 해보세요."
   ]
  },
  {
   "cell_type": "code",
   "execution_count": null,
   "id": "7ca18d66",
   "metadata": {
    "ExecuteTime": {
     "end_time": "2022-04-21T03:31:52.656273Z",
     "start_time": "2022-04-21T03:31:52.644305Z"
    },
    "hide_input": true,
    "id": "7ca18d66"
   },
   "outputs": [],
   "source": [
    "arr = np.arange(20).reshape(4, 5)\n",
    "print(arr[ :2])"
   ]
  },
  {
   "cell_type": "code",
   "execution_count": null,
   "id": "5d2a3d84",
   "metadata": {
    "hide_input": false,
    "id": "5d2a3d84"
   },
   "outputs": [],
   "source": []
  },
  {
   "cell_type": "markdown",
   "id": "ad788d52",
   "metadata": {
    "id": "ad788d52"
   },
   "source": [
    "### 문제) 위에서 만든 4,5 ndarray 에서 1번 행에서 끝까지, 2번 열에서 끝까지 출력해보세요.\n"
   ]
  },
  {
   "cell_type": "code",
   "execution_count": null,
   "id": "c13082c0",
   "metadata": {
    "ExecuteTime": {
     "end_time": "2022-04-21T03:31:52.668241Z",
     "start_time": "2022-04-21T03:31:52.658277Z"
    },
    "hide_input": true,
    "id": "c13082c0"
   },
   "outputs": [],
   "source": [
    "# print(arr[ 1:4, 2:5])\n",
    "print(arr[ 1: , 2: ])"
   ]
  },
  {
   "cell_type": "code",
   "execution_count": null,
   "id": "dba9f811",
   "metadata": {
    "id": "dba9f811"
   },
   "outputs": [],
   "source": []
  },
  {
   "cell_type": "markdown",
   "id": "e009d16b",
   "metadata": {
    "id": "e009d16b"
   },
   "source": [
    "### 분석시 사용할 수도 있는 방법들"
   ]
  },
  {
   "cell_type": "code",
   "execution_count": null,
   "id": "1a97be04",
   "metadata": {
    "ExecuteTime": {
     "end_time": "2022-04-21T03:31:52.682204Z",
     "start_time": "2022-04-21T03:31:52.669248Z"
    },
    "id": "1a97be04"
   },
   "outputs": [],
   "source": [
    "arr = np.array([10, 20, 30])\n",
    "cond = arr == 10\n",
    "print(\"전\",cond)\n",
    "arr[cond] = 1\n",
    "arr[~cond] = 0\n",
    "print(\"후\",arr)"
   ]
  },
  {
   "cell_type": "code",
   "execution_count": null,
   "id": "1eb651b6",
   "metadata": {
    "ExecuteTime": {
     "end_time": "2022-04-21T03:31:52.692178Z",
     "start_time": "2022-04-21T03:31:52.684199Z"
    },
    "id": "1eb651b6"
   },
   "outputs": [],
   "source": [
    "arr = np.array([10, 20, 30])\n",
    "print(arr[ (arr > 10) & (arr < 30) ])\n",
    "print(arr[ ~(arr == 10) & (arr < 30) ])"
   ]
  },
  {
   "cell_type": "code",
   "execution_count": null,
   "id": "9d994a97",
   "metadata": {
    "ExecuteTime": {
     "end_time": "2022-04-21T03:31:52.702151Z",
     "start_time": "2022-04-21T03:31:52.695169Z"
    },
    "id": "9d994a97"
   },
   "outputs": [],
   "source": [
    "# 0에서 46까지 랜덤한 수를 size 만큼 만들어 준다. \n",
    "print(np.random.randint(46, size=5),\"\\n\")\n",
    "print(np.random.randint(46, size=(2, 5)))"
   ]
  },
  {
   "cell_type": "code",
   "execution_count": null,
   "id": "b7d3fb6e",
   "metadata": {
    "ExecuteTime": {
     "end_time": "2022-04-21T05:18:31.623554Z",
     "start_time": "2022-04-21T05:18:31.618556Z"
    },
    "id": "b7d3fb6e"
   },
   "outputs": [],
   "source": [
    "# 0부터 1사이에 랜덤한 실수를 생성\n",
    "print(np.random.random(46))"
   ]
  },
  {
   "cell_type": "code",
   "execution_count": null,
   "id": "5ce3a9bb",
   "metadata": {
    "ExecuteTime": {
     "end_time": "2022-04-21T03:31:52.711129Z",
     "start_time": "2022-04-21T03:31:52.704147Z"
    },
    "id": "5ce3a9bb"
   },
   "outputs": [],
   "source": [
    "# 0부터 1사이에서 균일한 확률 분포로 실수 난수를 생성\n",
    "print(np.random.rand(46))"
   ]
  },
  {
   "cell_type": "code",
   "execution_count": null,
   "id": "5ac15290",
   "metadata": {
    "ExecuteTime": {
     "end_time": "2022-04-21T03:31:52.720103Z",
     "start_time": "2022-04-21T03:31:52.713121Z"
    },
    "id": "5ac15290",
    "scrolled": true
   },
   "outputs": [],
   "source": [
    "# 점심 메뉴 랜덤 고르기\n",
    "lunch = np.array(['감자탕','설렁탕','보쌈','냉면','낙지직화','수육국밥','분식','우동','햄버거','굶는다'])\n",
    "np.random.shuffle(lunch)\n",
    "print(lunch)\n",
    "print(np.random.choice(lunch))\n",
    "print(np.random.choice(lunch,2))"
   ]
  },
  {
   "cell_type": "markdown",
   "id": "efa17020",
   "metadata": {
    "id": "efa17020"
   },
   "source": [
    "### 실습 1~45까지 숫자중 6개 숫자를 뽑아 보세요"
   ]
  },
  {
   "cell_type": "code",
   "execution_count": null,
   "id": "ae02c42d",
   "metadata": {
    "ExecuteTime": {
     "end_time": "2022-04-21T03:31:52.733077Z",
     "start_time": "2022-04-21T03:31:52.723100Z"
    },
    "hide_input": false,
    "id": "ae02c42d"
   },
   "outputs": [],
   "source": [
    "lotto = np.arange(46)\n",
    "print(np.random.choice(lotto, 6))"
   ]
  },
  {
   "cell_type": "code",
   "execution_count": null,
   "id": "e1e7939b",
   "metadata": {
    "id": "e1e7939b"
   },
   "outputs": [],
   "source": []
  },
  {
   "cell_type": "code",
   "execution_count": null,
   "id": "4dd14f00",
   "metadata": {
    "ExecuteTime": {
     "end_time": "2022-04-21T04:01:26.201013Z",
     "start_time": "2022-04-21T04:01:26.193034Z"
    },
    "id": "4dd14f00"
   },
   "outputs": [],
   "source": [
    "# vstack(vertical) 수직방향으로 ndarray를 이어 붙입니다. , hstack (hight) 수평방향으로 ndarray를 이어 붙입니다.\n",
    "a = np.arange(4).reshape(1,-1)\n",
    "b = np.arange(4, 8).reshape(1,-1)\n",
    "print(\"원본\\n\",a,\"\\n\",b,\"\\n\")\n",
    "c = np.vstack( [a, b])\n",
    "d = np.hstack( [a, b])\n",
    "c_0 = np.concatenate((a, b), axis=0)   # Default (수직방향)\n",
    "d_0 = np.concatenate((a, b), axis=1) # (수평방향)\n",
    "print(\"vstack결과\\n\",c)\n",
    "print(\"hstack결과\\n\", d)\n",
    "print(\"concatenate 결과(axis=0)\\n\",c_0)\n",
    "print(\"concatenate 결과(axis=1)\\n\", d_0)"
   ]
  },
  {
   "cell_type": "markdown",
   "id": "2e4fd82e",
   "metadata": {
    "id": "2e4fd82e"
   },
   "source": [
    "##### Quiz 1. 1부터 10까지 1차원 배열을 생성 후, 다음의 실행 결과를 보고 코드를 작성해 보시오\n",
    ">[1 2 3 4 5 6 7 8 9 10 ]  \n",
    "ndim : 1  \n",
    "(10,)  \n",
    "int32  \n",
    "size : 10"
   ]
  },
  {
   "cell_type": "code",
   "execution_count": null,
   "id": "57a24c0f",
   "metadata": {
    "ExecuteTime": {
     "end_time": "2022-04-20T01:12:37.497497Z",
     "start_time": "2022-04-20T01:12:37.484532Z"
    },
    "hide_input": true,
    "id": "57a24c0f"
   },
   "outputs": [],
   "source": [
    "arr = np.arange(1,11)\n",
    "print(arr)\n",
    "print('ndim:',arr.ndim)\n",
    "# print(f'ndim:{arr.ndim}')\n",
    "print(arr.shape)\n",
    "print(arr.dtype)\n",
    "print('size:',arr.size)"
   ]
  },
  {
   "cell_type": "markdown",
   "id": "c3cb5515",
   "metadata": {
    "id": "c3cb5515"
   },
   "source": [
    "##### Quiz 2. 다음의 문제들을 넘파이를 활용하여 해결해 보시오\n",
    "- 1. 1에서 24까지의 값을 가지는 4x6 크기의 2차원 행렬 arr을 생성 ( 'reshape' 사용해보기!!)\n",
    "- 2. arr 배열을 적용하여 다음과 같은 값을 가지는 배열을 생성\n",
    "    >[ [8 9 10 11]  \n",
    "       [14 15 16 17] ]  \n",
    "- 3. arr 배열에서 2의 배수만 출력"
   ]
  },
  {
   "cell_type": "code",
   "execution_count": null,
   "id": "517bfb53",
   "metadata": {
    "ExecuteTime": {
     "end_time": "2022-04-20T01:41:02.076114Z",
     "start_time": "2022-04-20T01:41:02.061155Z"
    },
    "hide_input": true,
    "id": "517bfb53",
    "scrolled": true
   },
   "outputs": [],
   "source": [
    "arr = np.arange(1,25).reshape(4,6)\n",
    "print(arr)\n",
    "print(arr[1:3,1:5])\n",
    "print(arr[arr % 2 == 0])"
   ]
  },
  {
   "cell_type": "markdown",
   "id": "076ad051",
   "metadata": {
    "id": "076ad051"
   },
   "source": [
    "# Pandas"
   ]
  },
  {
   "cell_type": "markdown",
   "id": "2a4714f0",
   "metadata": {
    "ExecuteTime": {
     "end_time": "2022-04-20T03:51:07.217787Z",
     "start_time": "2022-04-20T03:51:07.212833Z"
    },
    "id": "2a4714f0"
   },
   "source": [
    "### pandas 이용해서 데이터 만들기, 빈데이터에 추가하기, 데이터 합치기"
   ]
  },
  {
   "cell_type": "code",
   "execution_count": null,
   "id": "53668a52",
   "metadata": {
    "ExecuteTime": {
     "end_time": "2022-04-21T03:31:52.813854Z",
     "start_time": "2022-04-21T03:31:52.751036Z"
    },
    "colab": {
     "base_uri": "https://localhost:8080/"
    },
    "executionInfo": {
     "elapsed": 593,
     "status": "ok",
     "timestamp": 1650524521425,
     "user": {
      "displayName": "Mark K",
      "userId": "03340535256939132196"
     },
     "user_tz": -540
    },
    "id": "53668a52",
    "outputId": "2657f382-507a-43d5-cb3f-bc22fe852a8f"
   },
   "outputs": [
    {
     "name": "stdout",
     "output_type": "stream",
     "text": [
      "1번째 방법\n",
      "      종목코드    종목명   현재가\n",
      "0  037730     3R  1510\n",
      "1  036360  3SOFT  1790\n",
      "2  005760   ACTS  1185\n",
      "\n",
      "2번째 방법\n",
      "      종목코드    종목명   현재가\n",
      "0  037730     3R  1510\n",
      "1  036360  3SOFT  1790\n",
      "2  005760   ACTS  1185\n",
      "\n",
      "3번째 방법\n",
      "           종목명   현재가   등락률\n",
      "종목코드                     \n",
      "037730     3R  1510  7.36\n",
      "036360  3SOFT  1790  1.65\n",
      "005760   ACTS  1185  1.28\n",
      "\n",
      "4번째 Series 사용 방법\n",
      "           종목명   현재가   등락률\n",
      "066570     3R  1510  7.36\n",
      "036360  3SOFT  1790  1.65\n",
      "005760   ACTS  1185  1.28\n",
      "\n",
      "5번째 append 사용 방법\n",
      "      종목코드    종목명   현재가\n",
      "0  037730     3R  1510\n",
      "1  036360  3SOFT  1790\n",
      "2  005760   ACTS  1185\n",
      "\n",
      "6번째 concat axis=0 일때 방법\n",
      "      종목코드    종목명   현재가\n",
      "0  037730     3R  1510\n",
      "0  036360  3SOFT  1790\n",
      "1  005760   ACTS  1185\n",
      "\n",
      "6번째 concat axis=1 일때 방법\n",
      "      종목코드  종목명     현재가    종목코드    종목명   현재가\n",
      "0  037730   3R  1510.0  036360  3SOFT  1790\n",
      "1     NaN  NaN     NaN  005760   ACTS  1185\n",
      "\n",
      "7번째 merge 방법 \n",
      "      종목코드    종목명   현재가\n",
      "0  037730     3R  1510\n",
      "1  036360  3SOFT  1790\n",
      "2  005760   ACTS  1185\n"
     ]
    }
   ],
   "source": [
    "import pandas as pd\n",
    "\n",
    "#1번째 방법\n",
    "data = {\n",
    "    '종목코드': ['037730', '036360', '005760'],\n",
    "    '종목명': ['3R', '3SOFT', 'ACTS'],\n",
    "    '현재가': [1510, 1790, 1185]\n",
    "}\n",
    "df = pd.DataFrame(data)           # DataFrame 클래스의 객체 생성 (생성자 호출)\n",
    "print(\"1번째 방법\\n\",df)\n",
    "\n",
    "#2번째 방법\n",
    "df2 = pd.DataFrame({\n",
    "    '종목코드': ['037730', '036360', '005760'],\n",
    "    '종목명': ['3R', '3SOFT', 'ACTS'],\n",
    "    '현재가': [1510, 1790, 1185]\n",
    "}) \n",
    "print(\"\\n2번째 방법\\n\",df2)\n",
    "\n",
    "# 3번째 방법\n",
    "data2 = [\n",
    "    [\"3R\", 1510, 7.36],\n",
    "    [\"3SOFT\", 1790, 1.65],\n",
    "    [\"ACTS\", 1185, 1.28],\n",
    "]\n",
    "index = [\"037730\", \"036360\", \"005760\"]\n",
    "columns = [\"종목명\", \"현재가\", \"등락률\"]\n",
    "\n",
    "df3 = pd.DataFrame(data=data2, index=index, columns=columns)\n",
    "df3.index.name = \"종목코드\"\n",
    "print(\"\\n3번째 방법\\n\",df3)\n",
    "\n",
    "##########################################\n",
    "#기존의 데이터를 합치는 방법으로 생성\n",
    "##########################################\n",
    "#4번째 Series , append 이용 방법\n",
    "df_s = pd.DataFrame(columns = df3.columns)\n",
    "s = pd.Series(data=[\"3R\", 1510,7.36], index=df3.columns)\n",
    "df_s.loc[\"066570\"] = s\n",
    "df_s.loc[\"036360\"] = [\"3SOFT\", 1790,1.65]\n",
    "s = pd.Series(data=[\"ACTS\", 1185,1.28], index=df3.columns, name=\"005760\")\n",
    "df_s = df_s.append(s)\n",
    "print(\"\\n4번째 Series 사용 방법\\n\",df_s)\n",
    "\n",
    "#5번째 append 이용 방법 \n",
    "df4 = pd.DataFrame(columns = df2.columns) # df2의 칼럼만 복사\n",
    "df4 = df4.append({'종목코드' :'037730','종목명': '3R' ,'현재가': 1510 },ignore_index=True)\n",
    "df4 = df4.append({'종목코드' :'036360','종목명': '3SOFT' ,'현재가': 1790 },ignore_index=True)\n",
    "df4 = df4.append({'종목코드' :'005760','종목명': 'ACTS' ,'현재가': 1185 },ignore_index=True)\n",
    "print(\"\\n5번째 append 사용 방법\\n\",df4)\n",
    "\n",
    "#6번째 방법 concat에 join을 넣어줘서 어느 쪽에 있는 것만 합칠 수도 있음. \n",
    "df5 = pd.DataFrame({'종목코드' :['037730'],'종목명': ['3R'] ,'현재가': [1510] })\n",
    "df6 = pd.DataFrame({'종목코드' :['036360','005760'],'종목명': ['3SOFT','ACTS'] ,'현재가': [1790 , 1185]})\n",
    "df7 = pd.concat([df5,df6], axis=0)       #행방향\n",
    "df8 = pd.concat([df5,df6], axis=1)       #열방향\n",
    "print(\"\\n6번째 concat axis=0 일때 방법\\n\",df7)\n",
    "print(\"\\n6번째 concat axis=1 일때 방법\\n\",df8)\n",
    "\n",
    "#7번째 방법 \n",
    "df9 = pd.merge(df5,df6, how='outer', left_index=False, right_index=False)\n",
    "print(\"\\n7번째 merge 방법 \\n\",df9)"
   ]
  },
  {
   "cell_type": "markdown",
   "id": "6ba7c856",
   "metadata": {
    "id": "6ba7c856"
   },
   "source": [
    "### 인덱스 "
   ]
  },
  {
   "cell_type": "code",
   "execution_count": null,
   "id": "7d85fb2a",
   "metadata": {
    "ExecuteTime": {
     "end_time": "2022-04-21T03:31:52.827817Z",
     "start_time": "2022-04-21T03:31:52.814870Z"
    },
    "id": "7d85fb2a"
   },
   "outputs": [],
   "source": [
    "print(\"원본\\n\", df9, \"\\n\")\n",
    "df9 = df9.set_index('종목코드')\n",
    "print(\"index 변경후\\n\",df9, \"\\n\")\n",
    "df9 = df9.reset_index()\n",
    "print(\"reset 후\\n\",df9,\"\\n\")"
   ]
  },
  {
   "cell_type": "markdown",
   "id": "f01a4d8e",
   "metadata": {
    "id": "f01a4d8e"
   },
   "source": [
    "### 칼럼 인덱싱, 슬라이싱"
   ]
  },
  {
   "cell_type": "code",
   "execution_count": null,
   "id": "051c7857",
   "metadata": {
    "ExecuteTime": {
     "end_time": "2022-04-21T03:31:52.839796Z",
     "start_time": "2022-04-21T03:31:52.829811Z"
    },
    "id": "051c7857"
   },
   "outputs": [],
   "source": [
    "# 종목코드에 해당하는 현재가 칼럼만 받아오기\n",
    "df9 = df9.set_index('종목코드')\n",
    "print(df9[ '현재가' ])      # 시리즈로 반환  인덱싱\n",
    "print(type(df9[ '현재가' ]))\n",
    "print(df9[ [ '현재가' ] ])    # 데이터프레임으로 반환  슬라이싱\n",
    "print(type(df9[ [ '현재가' ] ]))"
   ]
  },
  {
   "cell_type": "markdown",
   "id": "f8872218",
   "metadata": {
    "id": "f8872218"
   },
   "source": [
    "### 로우 인덱싱, 슬라이싱 (loc, iloc)\n",
    " - loc 인덱스를 기준으로 로우 데이터 추출\n",
    " - iloc 행 번호를 기준으로 로우 데이터 추출"
   ]
  },
  {
   "cell_type": "code",
   "execution_count": 2,
   "id": "df75023e",
   "metadata": {},
   "outputs": [],
   "source": [
    "import pandas as pd"
   ]
  },
  {
   "cell_type": "code",
   "execution_count": 5,
   "id": "f5bdfd45",
   "metadata": {
    "ExecuteTime": {
     "end_time": "2022-04-21T03:33:51.943830Z",
     "start_time": "2022-04-21T03:33:51.930877Z"
    },
    "id": "f5bdfd45"
   },
   "outputs": [
    {
     "name": "stdout",
     "output_type": "stream",
     "text": [
      "[['3R', 1510, 7.36], ['3SOFT', 1790, 1.65], ['ACTS', 1185, 1.28]]\n"
     ]
    },
    {
     "ename": "TypeError",
     "evalue": "list indices must be integers or slices, not tuple",
     "output_type": "error",
     "traceback": [
      "\u001b[1;31m---------------------------------------------------------------------------\u001b[0m",
      "\u001b[1;31mTypeError\u001b[0m                                 Traceback (most recent call last)",
      "\u001b[1;32mc:\\Users\\spaceastonomy\\Documents\\GitHub\\GITHUB_TEST\\튜터링\\numpy_pandas_study(튜터링).ipynb Cell 64'\u001b[0m in \u001b[0;36m<module>\u001b[1;34m\u001b[0m\n\u001b[0;32m     <a href='vscode-notebook-cell:/c%3A/Users/spaceastonomy/Documents/GitHub/GITHUB_TEST/%ED%8A%9C%ED%84%B0%EB%A7%81/numpy_pandas_study%28%ED%8A%9C%ED%84%B0%EB%A7%81%29.ipynb#ch0000062?line=9'>10</a>\u001b[0m \u001b[39m# # 인덱싱\u001b[39;00m\n\u001b[0;32m     <a href='vscode-notebook-cell:/c%3A/Users/spaceastonomy/Documents/GitHub/GITHUB_TEST/%ED%8A%9C%ED%84%B0%EB%A7%81/numpy_pandas_study%28%ED%8A%9C%ED%84%B0%EB%A7%81%29.ipynb#ch0000062?line=10'>11</a>\u001b[0m \u001b[39m# print(\"인덱싱\\nloc\\n\",df.loc[\"037730\"])\u001b[39;00m\n\u001b[0;32m     <a href='vscode-notebook-cell:/c%3A/Users/spaceastonomy/Documents/GitHub/GITHUB_TEST/%ED%8A%9C%ED%84%B0%EB%A7%81/numpy_pandas_study%28%ED%8A%9C%ED%84%B0%EB%A7%81%29.ipynb#ch0000062?line=11'>12</a>\u001b[0m \u001b[39m# print(\"\\niloc\\n\",df.iloc[ 0 ])\u001b[39;00m\n\u001b[0;32m     <a href='vscode-notebook-cell:/c%3A/Users/spaceastonomy/Documents/GitHub/GITHUB_TEST/%ED%8A%9C%ED%84%B0%EB%A7%81/numpy_pandas_study%28%ED%8A%9C%ED%84%B0%EB%A7%81%29.ipynb#ch0000062?line=12'>13</a>\u001b[0m \u001b[39mprint\u001b[39m(data)\n\u001b[1;32m---> <a href='vscode-notebook-cell:/c%3A/Users/spaceastonomy/Documents/GitHub/GITHUB_TEST/%ED%8A%9C%ED%84%B0%EB%A7%81/numpy_pandas_study%28%ED%8A%9C%ED%84%B0%EB%A7%81%29.ipynb#ch0000062?line=13'>14</a>\u001b[0m \u001b[39mprint\u001b[39m(\u001b[39m'\u001b[39m\u001b[39m데스트 : \u001b[39m\u001b[39m'\u001b[39m, data[:, \u001b[39m0\u001b[39;49m:\u001b[39m-\u001b[39;49m\u001b[39m1\u001b[39;49m])\n",
      "\u001b[1;31mTypeError\u001b[0m: list indices must be integers or slices, not tuple"
     ]
    }
   ],
   "source": [
    "data = [\n",
    "    [\"3R\", 1510, 7.36],\n",
    "    [\"3SOFT\", 1790, 1.65],\n",
    "    [\"ACTS\", 1185, 1.28]\n",
    "]\n",
    "\n",
    "index = [\"037730\", \"036360\", \"005760\"]\n",
    "columns = [\"종목명\", \"현재가\", \"등락률\"]\n",
    "df = pd.DataFrame(data=data, index=index, columns=columns)\n",
    "# 인덱싱\n",
    "print(\"인덱싱\\nloc\\n\",df.loc[\"037730\"])\n",
    "print(\"\\niloc\\n\",df.iloc[ 0 ])\n",
    "\n",
    "#슬라이싱\n",
    "print(\"\\n슬라이싱\\nloc\\n\",df.loc[ [ \"037730\", \"036360\" ] ])\n",
    "print(\"\\niloc\\n\",df.iloc[ [ 0, 1 ] ])"
   ]
  },
  {
   "cell_type": "code",
   "execution_count": null,
   "id": "fedf8044",
   "metadata": {
    "ExecuteTime": {
     "end_time": "2022-04-21T03:34:16.736010Z",
     "start_time": "2022-04-21T03:34:16.727032Z"
    },
    "id": "fedf8044"
   },
   "outputs": [],
   "source": [
    "# 같이 사용가능\n",
    "# 행 번호로 행 선택 후 시리즈 인덱싱 \n",
    "print(df.iloc[0].iloc[1])               # 시리즈 행 번호\n",
    "print(df.iloc[0][1])\n",
    "print(df.iloc[0].loc[\"현재가\"])         # 시리즈 인덱스 \n",
    "print(df.iloc[0][\"현재가\"])            # 시리즈 인덱스\n",
    "print(df.iloc[0, 1])\n",
    "\n",
    "# 인덱스로 행 선택 후 시리즈 인덱싱 \n",
    "print(df.loc[\"037730\"].iloc[1])        # 시리즈 행 번호\n",
    "print(df.loc[\"037730\"].loc[\"현재가\"])  # 시리즈 인덱스 \n",
    "print(df.loc[\"037730\"][\"현재가\"])     # 시리즈 인덱스\n",
    "print(df.loc[\"037730\", \"현재가\"])\n",
    "print(df[\"현재가\"][\"037730\"])"
   ]
  },
  {
   "cell_type": "code",
   "execution_count": null,
   "id": "d1c8df03",
   "metadata": {
    "ExecuteTime": {
     "end_time": "2022-04-21T03:31:52.888654Z",
     "start_time": "2022-04-21T03:31:52.872712Z"
    },
    "id": "d1c8df03"
   },
   "outputs": [],
   "source": [
    "# 특정행 가져오기\n",
    "print(df.iloc[[0, 1], [0, 1]])\n",
    "print(df.loc[[\"037730\", \"036360\"], [\"종목명\", \"현재가\"]])"
   ]
  },
  {
   "cell_type": "code",
   "execution_count": null,
   "id": "34ff3428",
   "metadata": {
    "ExecuteTime": {
     "end_time": "2022-04-21T03:31:52.909598Z",
     "start_time": "2022-04-21T03:31:52.890648Z"
    },
    "id": "34ff3428"
   },
   "outputs": [],
   "source": [
    "# 1500 이상의 값만 받아오기\n",
    "temp = df['현재가'] >= 1500\n",
    "print(df.loc[temp],\"\\n\")\n",
    "print(df.loc[df['현재가'] >= 1500],\"\\n\")\n",
    "\n",
    "print(df.loc[~temp])"
   ]
  },
  {
   "cell_type": "code",
   "execution_count": null,
   "id": "0b3f8f57",
   "metadata": {
    "ExecuteTime": {
     "end_time": "2022-04-21T03:31:52.923561Z",
     "start_time": "2022-04-21T03:31:52.912602Z"
    },
    "id": "0b3f8f57"
   },
   "outputs": [],
   "source": [
    "# 현재가만 받아오기\n",
    "print(df.loc[temp][\"현재가\"])\n",
    "print(df.loc[temp, \"현재가\"])"
   ]
  },
  {
   "cell_type": "code",
   "execution_count": null,
   "id": "0167a1e3",
   "metadata": {
    "ExecuteTime": {
     "end_time": "2022-04-21T03:31:52.942508Z",
     "start_time": "2022-04-21T03:31:52.925555Z"
    },
    "id": "0167a1e3"
   },
   "outputs": [],
   "source": [
    "temp = (df['현재가'] >= 1500) & (df['현재가'] < 1700)\n",
    "print(df.loc[temp],\"\\n\")\n",
    "print(df.loc[(df['현재가'] >= 1500) & (df['현재가'] < 1700)],\"\\n\")\n",
    "\n",
    "print(df.loc[~temp])"
   ]
  },
  {
   "cell_type": "markdown",
   "id": "63f98b71",
   "metadata": {
    "id": "63f98b71"
   },
   "source": [
    "### 칼럼 추가"
   ]
  },
  {
   "cell_type": "code",
   "execution_count": null,
   "id": "a59bb787",
   "metadata": {
    "ExecuteTime": {
     "end_time": "2022-04-21T03:31:52.955475Z",
     "start_time": "2022-04-21T03:31:52.945500Z"
    },
    "id": "a59bb787"
   },
   "outputs": [],
   "source": [
    "df"
   ]
  },
  {
   "cell_type": "code",
   "execution_count": null,
   "id": "c5720946",
   "metadata": {
    "ExecuteTime": {
     "end_time": "2022-04-21T03:31:52.973425Z",
     "start_time": "2022-04-21T03:31:52.957476Z"
    },
    "id": "c5720946"
   },
   "outputs": [],
   "source": [
    "#round 활용 (반올림 함수)\n",
    "cash = 100000\n",
    "df['비중'] = round(100/3,1)\n",
    "df['투입금액'] = round(cash * df['비중']/100, -2)\n",
    "df['보유주식수'] = round( df['투입금액']/ df['현재가'] )\n",
    "df"
   ]
  },
  {
   "cell_type": "markdown",
   "id": "ab199d7b",
   "metadata": {
    "id": "ab199d7b"
   },
   "source": [
    "### 삭제하기"
   ]
  },
  {
   "cell_type": "code",
   "execution_count": null,
   "id": "69479b3b",
   "metadata": {
    "ExecuteTime": {
     "end_time": "2022-04-21T03:31:52.986394Z",
     "start_time": "2022-04-21T03:31:52.975420Z"
    },
    "id": "69479b3b"
   },
   "outputs": [],
   "source": [
    "df = df.drop('현재가', axis=1)\n",
    "df"
   ]
  },
  {
   "cell_type": "code",
   "execution_count": null,
   "id": "9a34ffda",
   "metadata": {
    "ExecuteTime": {
     "end_time": "2022-04-21T03:31:53.000353Z",
     "start_time": "2022-04-21T03:31:52.987390Z"
    },
    "id": "9a34ffda"
   },
   "outputs": [],
   "source": [
    "df = df.drop(\"005760\", axis=0)\n",
    "df"
   ]
  },
  {
   "cell_type": "code",
   "execution_count": null,
   "id": "a0c0fa75",
   "metadata": {
    "ExecuteTime": {
     "end_time": "2022-04-21T03:31:53.023294Z",
     "start_time": "2022-04-21T03:31:53.002349Z"
    },
    "id": "a0c0fa75"
   },
   "outputs": [],
   "source": [
    "data123 = {\n",
    "    '종목코드': ['037730', '036360', '005760','000821','149231'],\n",
    "    '종목명': ['3R', '3SOFT', 'ACTS', 'abc','bcd'],\n",
    "    '현재가': [1510, 1790, 1185, 1231 , 5643]\n",
    "}\n",
    "index1 = [1 , 2 , 3, 4 , 5]\n",
    "df123 = pd.DataFrame(data = data123, index = index1)\n",
    "df123"
   ]
  },
  {
   "cell_type": "code",
   "execution_count": null,
   "id": "85a70102",
   "metadata": {
    "ExecuteTime": {
     "end_time": "2022-04-21T03:31:53.039265Z",
     "start_time": "2022-04-21T03:31:53.024297Z"
    },
    "id": "85a70102"
   },
   "outputs": [],
   "source": [
    "df123 = df123.drop(2, axis=0) # 인덱스 2 삭제\n",
    "df123"
   ]
  },
  {
   "cell_type": "code",
   "execution_count": null,
   "id": "0574b9b8",
   "metadata": {
    "ExecuteTime": {
     "end_time": "2022-04-21T03:31:53.056203Z",
     "start_time": "2022-04-21T03:31:53.041246Z"
    },
    "id": "0574b9b8"
   },
   "outputs": [],
   "source": [
    "drop_list = [1,4]\n",
    "df123 = df123.drop(drop_list, axis=0) \n",
    "df123"
   ]
  },
  {
   "cell_type": "markdown",
   "id": "sKThCMAq2i9f",
   "metadata": {
    "id": "sKThCMAq2i9f"
   },
   "source": [
    "### GroupBy"
   ]
  },
  {
   "cell_type": "code",
   "execution_count": null,
   "id": "9834fea8",
   "metadata": {
    "id": "9834fea8"
   },
   "outputs": [],
   "source": [
    "data = [\n",
    "    [\"2차전지(생산)\", \"SK이노베이션\", 10.19, 1.29],\n",
    "    [\"해운\", \"팬오션\", 21.23, 0.95],\n",
    "    [\"시스템반도체\", \"티엘아이\", 35.97, 1.12],\n",
    "    [\"해운\", \"HMM\", 21.52, 3.20],\n",
    "    [\"시스템반도체\", \"아이에이\", 37.32, 3.55],\n",
    "    [\"2차전지(생산)\", \"LG화학\", 83.06, 3.75]\n",
    "]\n",
    "\n",
    "columns = [\"테마\", \"종목명\", \"PER\", \"PBR\"]\n",
    "df = pd.DataFrame(data=data, columns=columns)\n",
    "df1 = df[df['테마'] == \"2차전지(생산)\"]\n",
    "df2 = df[df['테마'] == \"해운\"]\n",
    "df3 = df[df['테마'] == \"시스템반도체\"]"
   ]
  },
  {
   "cell_type": "markdown",
   "id": "ROdCpuNT-enA",
   "metadata": {
    "id": "ROdCpuNT-enA"
   },
   "source": [
    "### 문제 각 테마별로 PER 평균 구하고 해당 테마별로 시리즈에 저장해보세요."
   ]
  },
  {
   "cell_type": "code",
   "execution_count": null,
   "id": "3cdbba8b",
   "metadata": {
    "colab": {
     "base_uri": "https://localhost:8080/"
    },
    "executionInfo": {
     "elapsed": 276,
     "status": "ok",
     "timestamp": 1650525311297,
     "user": {
      "displayName": "서명교",
      "userId": "11730583039526359700"
     },
     "user_tz": -540
    },
    "hide_input": true,
    "id": "3cdbba8b",
    "outputId": "16c5ef68-7711-400e-bece-94cb44ea6ffa"
   },
   "outputs": [
    {
     "name": "stdout",
     "output_type": "stream",
     "text": [
      "2차전지(생산)    46.625\n",
      "해운          21.375\n",
      "시스템반도체      36.645\n",
      "dtype: float64\n"
     ]
    }
   ],
   "source": [
    "mean1 = df1['PER'].mean()\n",
    "mean2 = df2['PER'].mean()   \n",
    "mean3 = df3['PER'].mean()\n",
    "\n",
    "data = [mean1, mean2, mean3]\n",
    "index = [\"2차전지(생산)\", \"해운\", \"시스템반도체\"]\n",
    "s = pd.Series(data=data, index=index)\n",
    "# ss = pd.Series({\"2차전지(생산)\":mean1, \"해운\":mean2, \"시스템반도체\":mean3})\n",
    "# print(ss)\n",
    "print(s)"
   ]
  },
  {
   "cell_type": "code",
   "execution_count": null,
   "id": "b160872b",
   "metadata": {
    "colab": {
     "base_uri": "https://localhost:8080/"
    },
    "executionInfo": {
     "elapsed": 280,
     "status": "ok",
     "timestamp": 1650524249668,
     "user": {
      "displayName": "서명교",
      "userId": "11730583039526359700"
     },
     "user_tz": -540
    },
    "id": "b160872b",
    "outputId": "9936965b-5958-4391-99b7-a4dfbf6a1826"
   },
   "outputs": [
    {
     "data": {
      "text/plain": [
       "테마\n",
       "2차전지(생산)    46.625\n",
       "시스템반도체      36.645\n",
       "해운          21.375\n",
       "Name: PER, dtype: float64"
      ]
     },
     "execution_count": 6,
     "metadata": {},
     "output_type": "execute_result"
    }
   ],
   "source": [
    "# 위 과정을 한번에\n",
    "df.groupby(\"테마\")[\"PER\"].mean()"
   ]
  },
  {
   "cell_type": "code",
   "execution_count": null,
   "id": "8bf79586",
   "metadata": {
    "id": "8bf79586"
   },
   "outputs": [],
   "source": []
  },
  {
   "cell_type": "code",
   "execution_count": null,
   "id": "5UiY23Mumeed",
   "metadata": {
    "id": "5UiY23Mumeed"
   },
   "outputs": [],
   "source": []
  },
  {
   "cell_type": "markdown",
   "id": "byuGepY47HYl",
   "metadata": {
    "id": "byuGepY47HYl"
   },
   "source": [
    "### Merge\n",
    "- merge 함수는 두 데이터 프레임의 공통 열 혹은 인덱스를 기준으로 두 개의 테이블을 합친다.  \n",
    "이 때 기준이 되는 열, 행의 데이터를 키(key)라고 한다\n",
    "\n",
    "![KakaoTalk_20220421_161021807](https://user-images.githubusercontent.com/92857078/164399948-98d552b6-4e2d-4801-b0f7-a77c0f70fb26.png)"
   ]
  },
  {
   "cell_type": "code",
   "execution_count": null,
   "id": "J9FjjWtnmebu",
   "metadata": {
    "colab": {
     "base_uri": "https://localhost:8080/",
     "height": 268
    },
    "executionInfo": {
     "elapsed": 294,
     "status": "ok",
     "timestamp": 1650524526393,
     "user": {
      "displayName": "Mark K",
      "userId": "03340535256939132196"
     },
     "user_tz": -540
    },
    "id": "J9FjjWtnmebu",
    "outputId": "948bb9ca-d654-4136-ee4c-57a95c249f59"
   },
   "outputs": [
    {
     "data": {
      "text/html": [
       "\n",
       "  <div id=\"df-05e9fa78-b522-4bd0-8b8f-4b959c504d46\">\n",
       "    <div class=\"colab-df-container\">\n",
       "      <div>\n",
       "<style scoped>\n",
       "    .dataframe tbody tr th:only-of-type {\n",
       "        vertical-align: middle;\n",
       "    }\n",
       "\n",
       "    .dataframe tbody tr th {\n",
       "        vertical-align: top;\n",
       "    }\n",
       "\n",
       "    .dataframe thead th {\n",
       "        text-align: right;\n",
       "    }\n",
       "</style>\n",
       "<table border=\"1\" class=\"dataframe\">\n",
       "  <thead>\n",
       "    <tr style=\"text-align: right;\">\n",
       "      <th></th>\n",
       "      <th>고객번호</th>\n",
       "      <th>이름</th>\n",
       "    </tr>\n",
       "  </thead>\n",
       "  <tbody>\n",
       "    <tr>\n",
       "      <th>0</th>\n",
       "      <td>1001</td>\n",
       "      <td>둘리</td>\n",
       "    </tr>\n",
       "    <tr>\n",
       "      <th>1</th>\n",
       "      <td>1002</td>\n",
       "      <td>도우너</td>\n",
       "    </tr>\n",
       "    <tr>\n",
       "      <th>2</th>\n",
       "      <td>1003</td>\n",
       "      <td>또치</td>\n",
       "    </tr>\n",
       "    <tr>\n",
       "      <th>3</th>\n",
       "      <td>1004</td>\n",
       "      <td>길동</td>\n",
       "    </tr>\n",
       "    <tr>\n",
       "      <th>4</th>\n",
       "      <td>1005</td>\n",
       "      <td>희동</td>\n",
       "    </tr>\n",
       "    <tr>\n",
       "      <th>5</th>\n",
       "      <td>1006</td>\n",
       "      <td>마이콜</td>\n",
       "    </tr>\n",
       "    <tr>\n",
       "      <th>6</th>\n",
       "      <td>1007</td>\n",
       "      <td>영희</td>\n",
       "    </tr>\n",
       "  </tbody>\n",
       "</table>\n",
       "</div>\n",
       "      <button class=\"colab-df-convert\" onclick=\"convertToInteractive('df-05e9fa78-b522-4bd0-8b8f-4b959c504d46')\"\n",
       "              title=\"Convert this dataframe to an interactive table.\"\n",
       "              style=\"display:none;\">\n",
       "        \n",
       "  <svg xmlns=\"http://www.w3.org/2000/svg\" height=\"24px\"viewBox=\"0 0 24 24\"\n",
       "       width=\"24px\">\n",
       "    <path d=\"M0 0h24v24H0V0z\" fill=\"none\"/>\n",
       "    <path d=\"M18.56 5.44l.94 2.06.94-2.06 2.06-.94-2.06-.94-.94-2.06-.94 2.06-2.06.94zm-11 1L8.5 8.5l.94-2.06 2.06-.94-2.06-.94L8.5 2.5l-.94 2.06-2.06.94zm10 10l.94 2.06.94-2.06 2.06-.94-2.06-.94-.94-2.06-.94 2.06-2.06.94z\"/><path d=\"M17.41 7.96l-1.37-1.37c-.4-.4-.92-.59-1.43-.59-.52 0-1.04.2-1.43.59L10.3 9.45l-7.72 7.72c-.78.78-.78 2.05 0 2.83L4 21.41c.39.39.9.59 1.41.59.51 0 1.02-.2 1.41-.59l7.78-7.78 2.81-2.81c.8-.78.8-2.07 0-2.86zM5.41 20L4 18.59l7.72-7.72 1.47 1.35L5.41 20z\"/>\n",
       "  </svg>\n",
       "      </button>\n",
       "      \n",
       "  <style>\n",
       "    .colab-df-container {\n",
       "      display:flex;\n",
       "      flex-wrap:wrap;\n",
       "      gap: 12px;\n",
       "    }\n",
       "\n",
       "    .colab-df-convert {\n",
       "      background-color: #E8F0FE;\n",
       "      border: none;\n",
       "      border-radius: 50%;\n",
       "      cursor: pointer;\n",
       "      display: none;\n",
       "      fill: #1967D2;\n",
       "      height: 32px;\n",
       "      padding: 0 0 0 0;\n",
       "      width: 32px;\n",
       "    }\n",
       "\n",
       "    .colab-df-convert:hover {\n",
       "      background-color: #E2EBFA;\n",
       "      box-shadow: 0px 1px 2px rgba(60, 64, 67, 0.3), 0px 1px 3px 1px rgba(60, 64, 67, 0.15);\n",
       "      fill: #174EA6;\n",
       "    }\n",
       "\n",
       "    [theme=dark] .colab-df-convert {\n",
       "      background-color: #3B4455;\n",
       "      fill: #D2E3FC;\n",
       "    }\n",
       "\n",
       "    [theme=dark] .colab-df-convert:hover {\n",
       "      background-color: #434B5C;\n",
       "      box-shadow: 0px 1px 3px 1px rgba(0, 0, 0, 0.15);\n",
       "      filter: drop-shadow(0px 1px 2px rgba(0, 0, 0, 0.3));\n",
       "      fill: #FFFFFF;\n",
       "    }\n",
       "  </style>\n",
       "\n",
       "      <script>\n",
       "        const buttonEl =\n",
       "          document.querySelector('#df-05e9fa78-b522-4bd0-8b8f-4b959c504d46 button.colab-df-convert');\n",
       "        buttonEl.style.display =\n",
       "          google.colab.kernel.accessAllowed ? 'block' : 'none';\n",
       "\n",
       "        async function convertToInteractive(key) {\n",
       "          const element = document.querySelector('#df-05e9fa78-b522-4bd0-8b8f-4b959c504d46');\n",
       "          const dataTable =\n",
       "            await google.colab.kernel.invokeFunction('convertToInteractive',\n",
       "                                                     [key], {});\n",
       "          if (!dataTable) return;\n",
       "\n",
       "          const docLinkHtml = 'Like what you see? Visit the ' +\n",
       "            '<a target=\"_blank\" href=https://colab.research.google.com/notebooks/data_table.ipynb>data table notebook</a>'\n",
       "            + ' to learn more about interactive tables.';\n",
       "          element.innerHTML = '';\n",
       "          dataTable['output_type'] = 'display_data';\n",
       "          await google.colab.output.renderOutput(dataTable, element);\n",
       "          const docLink = document.createElement('div');\n",
       "          docLink.innerHTML = docLinkHtml;\n",
       "          element.appendChild(docLink);\n",
       "        }\n",
       "      </script>\n",
       "    </div>\n",
       "  </div>\n",
       "  "
      ],
      "text/plain": [
       "   고객번호   이름\n",
       "0  1001   둘리\n",
       "1  1002  도우너\n",
       "2  1003   또치\n",
       "3  1004   길동\n",
       "4  1005   희동\n",
       "5  1006  마이콜\n",
       "6  1007   영희"
      ]
     },
     "execution_count": 4,
     "metadata": {},
     "output_type": "execute_result"
    }
   ],
   "source": [
    "df1 = pd.DataFrame({\n",
    "    '고객번호': [1001, 1002, 1003, 1004, 1005, 1006, 1007],\n",
    "    '이름': ['둘리', '도우너', '또치', '길동', '희동', '마이콜', '영희']\n",
    "}, columns=['고객번호', '이름'])\n",
    "df1"
   ]
  },
  {
   "cell_type": "code",
   "execution_count": null,
   "id": "wk9isroumeY5",
   "metadata": {
    "colab": {
     "base_uri": "https://localhost:8080/",
     "height": 237
    },
    "executionInfo": {
     "elapsed": 303,
     "status": "ok",
     "timestamp": 1650524540896,
     "user": {
      "displayName": "Mark K",
      "userId": "03340535256939132196"
     },
     "user_tz": -540
    },
    "id": "wk9isroumeY5",
    "outputId": "ab142476-43fd-41bf-ff8d-64bb28d1b14c"
   },
   "outputs": [
    {
     "data": {
      "text/html": [
       "\n",
       "  <div id=\"df-80f01113-4e03-4c06-bc4f-12c9960c389b\">\n",
       "    <div class=\"colab-df-container\">\n",
       "      <div>\n",
       "<style scoped>\n",
       "    .dataframe tbody tr th:only-of-type {\n",
       "        vertical-align: middle;\n",
       "    }\n",
       "\n",
       "    .dataframe tbody tr th {\n",
       "        vertical-align: top;\n",
       "    }\n",
       "\n",
       "    .dataframe thead th {\n",
       "        text-align: right;\n",
       "    }\n",
       "</style>\n",
       "<table border=\"1\" class=\"dataframe\">\n",
       "  <thead>\n",
       "    <tr style=\"text-align: right;\">\n",
       "      <th></th>\n",
       "      <th>고객번호</th>\n",
       "      <th>금액</th>\n",
       "    </tr>\n",
       "  </thead>\n",
       "  <tbody>\n",
       "    <tr>\n",
       "      <th>0</th>\n",
       "      <td>1001</td>\n",
       "      <td>10000</td>\n",
       "    </tr>\n",
       "    <tr>\n",
       "      <th>1</th>\n",
       "      <td>1001</td>\n",
       "      <td>20000</td>\n",
       "    </tr>\n",
       "    <tr>\n",
       "      <th>2</th>\n",
       "      <td>1005</td>\n",
       "      <td>15000</td>\n",
       "    </tr>\n",
       "    <tr>\n",
       "      <th>3</th>\n",
       "      <td>1006</td>\n",
       "      <td>5000</td>\n",
       "    </tr>\n",
       "    <tr>\n",
       "      <th>4</th>\n",
       "      <td>1008</td>\n",
       "      <td>100000</td>\n",
       "    </tr>\n",
       "    <tr>\n",
       "      <th>5</th>\n",
       "      <td>1001</td>\n",
       "      <td>30000</td>\n",
       "    </tr>\n",
       "  </tbody>\n",
       "</table>\n",
       "</div>\n",
       "      <button class=\"colab-df-convert\" onclick=\"convertToInteractive('df-80f01113-4e03-4c06-bc4f-12c9960c389b')\"\n",
       "              title=\"Convert this dataframe to an interactive table.\"\n",
       "              style=\"display:none;\">\n",
       "        \n",
       "  <svg xmlns=\"http://www.w3.org/2000/svg\" height=\"24px\"viewBox=\"0 0 24 24\"\n",
       "       width=\"24px\">\n",
       "    <path d=\"M0 0h24v24H0V0z\" fill=\"none\"/>\n",
       "    <path d=\"M18.56 5.44l.94 2.06.94-2.06 2.06-.94-2.06-.94-.94-2.06-.94 2.06-2.06.94zm-11 1L8.5 8.5l.94-2.06 2.06-.94-2.06-.94L8.5 2.5l-.94 2.06-2.06.94zm10 10l.94 2.06.94-2.06 2.06-.94-2.06-.94-.94-2.06-.94 2.06-2.06.94z\"/><path d=\"M17.41 7.96l-1.37-1.37c-.4-.4-.92-.59-1.43-.59-.52 0-1.04.2-1.43.59L10.3 9.45l-7.72 7.72c-.78.78-.78 2.05 0 2.83L4 21.41c.39.39.9.59 1.41.59.51 0 1.02-.2 1.41-.59l7.78-7.78 2.81-2.81c.8-.78.8-2.07 0-2.86zM5.41 20L4 18.59l7.72-7.72 1.47 1.35L5.41 20z\"/>\n",
       "  </svg>\n",
       "      </button>\n",
       "      \n",
       "  <style>\n",
       "    .colab-df-container {\n",
       "      display:flex;\n",
       "      flex-wrap:wrap;\n",
       "      gap: 12px;\n",
       "    }\n",
       "\n",
       "    .colab-df-convert {\n",
       "      background-color: #E8F0FE;\n",
       "      border: none;\n",
       "      border-radius: 50%;\n",
       "      cursor: pointer;\n",
       "      display: none;\n",
       "      fill: #1967D2;\n",
       "      height: 32px;\n",
       "      padding: 0 0 0 0;\n",
       "      width: 32px;\n",
       "    }\n",
       "\n",
       "    .colab-df-convert:hover {\n",
       "      background-color: #E2EBFA;\n",
       "      box-shadow: 0px 1px 2px rgba(60, 64, 67, 0.3), 0px 1px 3px 1px rgba(60, 64, 67, 0.15);\n",
       "      fill: #174EA6;\n",
       "    }\n",
       "\n",
       "    [theme=dark] .colab-df-convert {\n",
       "      background-color: #3B4455;\n",
       "      fill: #D2E3FC;\n",
       "    }\n",
       "\n",
       "    [theme=dark] .colab-df-convert:hover {\n",
       "      background-color: #434B5C;\n",
       "      box-shadow: 0px 1px 3px 1px rgba(0, 0, 0, 0.15);\n",
       "      filter: drop-shadow(0px 1px 2px rgba(0, 0, 0, 0.3));\n",
       "      fill: #FFFFFF;\n",
       "    }\n",
       "  </style>\n",
       "\n",
       "      <script>\n",
       "        const buttonEl =\n",
       "          document.querySelector('#df-80f01113-4e03-4c06-bc4f-12c9960c389b button.colab-df-convert');\n",
       "        buttonEl.style.display =\n",
       "          google.colab.kernel.accessAllowed ? 'block' : 'none';\n",
       "\n",
       "        async function convertToInteractive(key) {\n",
       "          const element = document.querySelector('#df-80f01113-4e03-4c06-bc4f-12c9960c389b');\n",
       "          const dataTable =\n",
       "            await google.colab.kernel.invokeFunction('convertToInteractive',\n",
       "                                                     [key], {});\n",
       "          if (!dataTable) return;\n",
       "\n",
       "          const docLinkHtml = 'Like what you see? Visit the ' +\n",
       "            '<a target=\"_blank\" href=https://colab.research.google.com/notebooks/data_table.ipynb>data table notebook</a>'\n",
       "            + ' to learn more about interactive tables.';\n",
       "          element.innerHTML = '';\n",
       "          dataTable['output_type'] = 'display_data';\n",
       "          await google.colab.output.renderOutput(dataTable, element);\n",
       "          const docLink = document.createElement('div');\n",
       "          docLink.innerHTML = docLinkHtml;\n",
       "          element.appendChild(docLink);\n",
       "        }\n",
       "      </script>\n",
       "    </div>\n",
       "  </div>\n",
       "  "
      ],
      "text/plain": [
       "   고객번호      금액\n",
       "0  1001   10000\n",
       "1  1001   20000\n",
       "2  1005   15000\n",
       "3  1006    5000\n",
       "4  1008  100000\n",
       "5  1001   30000"
      ]
     },
     "execution_count": 5,
     "metadata": {},
     "output_type": "execute_result"
    }
   ],
   "source": [
    "df1 = pd.DataFrame({\n",
    "    '고객번호': [1001, 1002, 1003, 1004, 1005, 1006, 1007],\n",
    "    '이름': ['둘리', '도우너', '또치', '길동', '희동', '마이콜', '영희']\n",
    "}, columns=['고객번호', '이름'])\n",
    "df2"
   ]
  },
  {
   "cell_type": "code",
   "execution_count": null,
   "id": "WDrD6w8cmeWB",
   "metadata": {
    "colab": {
     "base_uri": "https://localhost:8080/",
     "height": 206
    },
    "executionInfo": {
     "elapsed": 321,
     "status": "ok",
     "timestamp": 1650524653634,
     "user": {
      "displayName": "Mark K",
      "userId": "03340535256939132196"
     },
     "user_tz": -540
    },
    "id": "WDrD6w8cmeWB",
    "outputId": "6ea9f14c-0d60-48e4-82c0-09ffeed38dc1"
   },
   "outputs": [
    {
     "data": {
      "text/html": [
       "\n",
       "  <div id=\"df-1392f1f6-cfcc-49b2-9d20-df3c670e7ba0\">\n",
       "    <div class=\"colab-df-container\">\n",
       "      <div>\n",
       "<style scoped>\n",
       "    .dataframe tbody tr th:only-of-type {\n",
       "        vertical-align: middle;\n",
       "    }\n",
       "\n",
       "    .dataframe tbody tr th {\n",
       "        vertical-align: top;\n",
       "    }\n",
       "\n",
       "    .dataframe thead th {\n",
       "        text-align: right;\n",
       "    }\n",
       "</style>\n",
       "<table border=\"1\" class=\"dataframe\">\n",
       "  <thead>\n",
       "    <tr style=\"text-align: right;\">\n",
       "      <th></th>\n",
       "      <th>고객번호</th>\n",
       "      <th>이름</th>\n",
       "      <th>금액</th>\n",
       "    </tr>\n",
       "  </thead>\n",
       "  <tbody>\n",
       "    <tr>\n",
       "      <th>0</th>\n",
       "      <td>1001</td>\n",
       "      <td>둘리</td>\n",
       "      <td>10000</td>\n",
       "    </tr>\n",
       "    <tr>\n",
       "      <th>1</th>\n",
       "      <td>1001</td>\n",
       "      <td>둘리</td>\n",
       "      <td>20000</td>\n",
       "    </tr>\n",
       "    <tr>\n",
       "      <th>2</th>\n",
       "      <td>1001</td>\n",
       "      <td>둘리</td>\n",
       "      <td>30000</td>\n",
       "    </tr>\n",
       "    <tr>\n",
       "      <th>3</th>\n",
       "      <td>1005</td>\n",
       "      <td>희동</td>\n",
       "      <td>15000</td>\n",
       "    </tr>\n",
       "    <tr>\n",
       "      <th>4</th>\n",
       "      <td>1006</td>\n",
       "      <td>마이콜</td>\n",
       "      <td>5000</td>\n",
       "    </tr>\n",
       "  </tbody>\n",
       "</table>\n",
       "</div>\n",
       "      <button class=\"colab-df-convert\" onclick=\"convertToInteractive('df-1392f1f6-cfcc-49b2-9d20-df3c670e7ba0')\"\n",
       "              title=\"Convert this dataframe to an interactive table.\"\n",
       "              style=\"display:none;\">\n",
       "        \n",
       "  <svg xmlns=\"http://www.w3.org/2000/svg\" height=\"24px\"viewBox=\"0 0 24 24\"\n",
       "       width=\"24px\">\n",
       "    <path d=\"M0 0h24v24H0V0z\" fill=\"none\"/>\n",
       "    <path d=\"M18.56 5.44l.94 2.06.94-2.06 2.06-.94-2.06-.94-.94-2.06-.94 2.06-2.06.94zm-11 1L8.5 8.5l.94-2.06 2.06-.94-2.06-.94L8.5 2.5l-.94 2.06-2.06.94zm10 10l.94 2.06.94-2.06 2.06-.94-2.06-.94-.94-2.06-.94 2.06-2.06.94z\"/><path d=\"M17.41 7.96l-1.37-1.37c-.4-.4-.92-.59-1.43-.59-.52 0-1.04.2-1.43.59L10.3 9.45l-7.72 7.72c-.78.78-.78 2.05 0 2.83L4 21.41c.39.39.9.59 1.41.59.51 0 1.02-.2 1.41-.59l7.78-7.78 2.81-2.81c.8-.78.8-2.07 0-2.86zM5.41 20L4 18.59l7.72-7.72 1.47 1.35L5.41 20z\"/>\n",
       "  </svg>\n",
       "      </button>\n",
       "      \n",
       "  <style>\n",
       "    .colab-df-container {\n",
       "      display:flex;\n",
       "      flex-wrap:wrap;\n",
       "      gap: 12px;\n",
       "    }\n",
       "\n",
       "    .colab-df-convert {\n",
       "      background-color: #E8F0FE;\n",
       "      border: none;\n",
       "      border-radius: 50%;\n",
       "      cursor: pointer;\n",
       "      display: none;\n",
       "      fill: #1967D2;\n",
       "      height: 32px;\n",
       "      padding: 0 0 0 0;\n",
       "      width: 32px;\n",
       "    }\n",
       "\n",
       "    .colab-df-convert:hover {\n",
       "      background-color: #E2EBFA;\n",
       "      box-shadow: 0px 1px 2px rgba(60, 64, 67, 0.3), 0px 1px 3px 1px rgba(60, 64, 67, 0.15);\n",
       "      fill: #174EA6;\n",
       "    }\n",
       "\n",
       "    [theme=dark] .colab-df-convert {\n",
       "      background-color: #3B4455;\n",
       "      fill: #D2E3FC;\n",
       "    }\n",
       "\n",
       "    [theme=dark] .colab-df-convert:hover {\n",
       "      background-color: #434B5C;\n",
       "      box-shadow: 0px 1px 3px 1px rgba(0, 0, 0, 0.15);\n",
       "      filter: drop-shadow(0px 1px 2px rgba(0, 0, 0, 0.3));\n",
       "      fill: #FFFFFF;\n",
       "    }\n",
       "  </style>\n",
       "\n",
       "      <script>\n",
       "        const buttonEl =\n",
       "          document.querySelector('#df-1392f1f6-cfcc-49b2-9d20-df3c670e7ba0 button.colab-df-convert');\n",
       "        buttonEl.style.display =\n",
       "          google.colab.kernel.accessAllowed ? 'block' : 'none';\n",
       "\n",
       "        async function convertToInteractive(key) {\n",
       "          const element = document.querySelector('#df-1392f1f6-cfcc-49b2-9d20-df3c670e7ba0');\n",
       "          const dataTable =\n",
       "            await google.colab.kernel.invokeFunction('convertToInteractive',\n",
       "                                                     [key], {});\n",
       "          if (!dataTable) return;\n",
       "\n",
       "          const docLinkHtml = 'Like what you see? Visit the ' +\n",
       "            '<a target=\"_blank\" href=https://colab.research.google.com/notebooks/data_table.ipynb>data table notebook</a>'\n",
       "            + ' to learn more about interactive tables.';\n",
       "          element.innerHTML = '';\n",
       "          dataTable['output_type'] = 'display_data';\n",
       "          await google.colab.output.renderOutput(dataTable, element);\n",
       "          const docLink = document.createElement('div');\n",
       "          docLink.innerHTML = docLinkHtml;\n",
       "          element.appendChild(docLink);\n",
       "        }\n",
       "      </script>\n",
       "    </div>\n",
       "  </div>\n",
       "  "
      ],
      "text/plain": [
       "   고객번호   이름     금액\n",
       "0  1001   둘리  10000\n",
       "1  1001   둘리  20000\n",
       "2  1001   둘리  30000\n",
       "3  1005   희동  15000\n",
       "4  1006  마이콜   5000"
      ]
     },
     "execution_count": 8,
     "metadata": {},
     "output_type": "execute_result"
    }
   ],
   "source": [
    "'''\n",
    "merge 함수로 위의 두 데이터프레임 df1, df2 를 합치면 공통 열인 고객번호 열을 기준으로 데이터를 찾아서 합친다. \n",
    "이 때 기본적으로는 양쪽 데이터프레임에 모두 키가 존재하는 데이터만 보여주는 inner join 방식을 사용한다.\n",
    "'''\n",
    "pd.merge(df1, df2)"
   ]
  },
  {
   "cell_type": "code",
   "execution_count": null,
   "id": "ok9kYT8ImeTK",
   "metadata": {
    "colab": {
     "base_uri": "https://localhost:8080/",
     "height": 363
    },
    "executionInfo": {
     "elapsed": 300,
     "status": "ok",
     "timestamp": 1650524788104,
     "user": {
      "displayName": "Mark K",
      "userId": "03340535256939132196"
     },
     "user_tz": -540
    },
    "id": "ok9kYT8ImeTK",
    "outputId": "b520a168-b96e-44ed-9c3e-71d3eda2194f"
   },
   "outputs": [
    {
     "data": {
      "text/html": [
       "\n",
       "  <div id=\"df-420c2a42-29bb-4a02-97c0-9ae099cf08af\">\n",
       "    <div class=\"colab-df-container\">\n",
       "      <div>\n",
       "<style scoped>\n",
       "    .dataframe tbody tr th:only-of-type {\n",
       "        vertical-align: middle;\n",
       "    }\n",
       "\n",
       "    .dataframe tbody tr th {\n",
       "        vertical-align: top;\n",
       "    }\n",
       "\n",
       "    .dataframe thead th {\n",
       "        text-align: right;\n",
       "    }\n",
       "</style>\n",
       "<table border=\"1\" class=\"dataframe\">\n",
       "  <thead>\n",
       "    <tr style=\"text-align: right;\">\n",
       "      <th></th>\n",
       "      <th>고객번호</th>\n",
       "      <th>이름</th>\n",
       "      <th>금액</th>\n",
       "    </tr>\n",
       "  </thead>\n",
       "  <tbody>\n",
       "    <tr>\n",
       "      <th>0</th>\n",
       "      <td>1001</td>\n",
       "      <td>둘리</td>\n",
       "      <td>10000.0</td>\n",
       "    </tr>\n",
       "    <tr>\n",
       "      <th>1</th>\n",
       "      <td>1001</td>\n",
       "      <td>둘리</td>\n",
       "      <td>20000.0</td>\n",
       "    </tr>\n",
       "    <tr>\n",
       "      <th>2</th>\n",
       "      <td>1001</td>\n",
       "      <td>둘리</td>\n",
       "      <td>30000.0</td>\n",
       "    </tr>\n",
       "    <tr>\n",
       "      <th>3</th>\n",
       "      <td>1002</td>\n",
       "      <td>도우너</td>\n",
       "      <td>NaN</td>\n",
       "    </tr>\n",
       "    <tr>\n",
       "      <th>4</th>\n",
       "      <td>1003</td>\n",
       "      <td>또치</td>\n",
       "      <td>NaN</td>\n",
       "    </tr>\n",
       "    <tr>\n",
       "      <th>5</th>\n",
       "      <td>1004</td>\n",
       "      <td>길동</td>\n",
       "      <td>NaN</td>\n",
       "    </tr>\n",
       "    <tr>\n",
       "      <th>6</th>\n",
       "      <td>1005</td>\n",
       "      <td>희동</td>\n",
       "      <td>15000.0</td>\n",
       "    </tr>\n",
       "    <tr>\n",
       "      <th>7</th>\n",
       "      <td>1006</td>\n",
       "      <td>마이콜</td>\n",
       "      <td>5000.0</td>\n",
       "    </tr>\n",
       "    <tr>\n",
       "      <th>8</th>\n",
       "      <td>1007</td>\n",
       "      <td>영희</td>\n",
       "      <td>NaN</td>\n",
       "    </tr>\n",
       "    <tr>\n",
       "      <th>9</th>\n",
       "      <td>1008</td>\n",
       "      <td>NaN</td>\n",
       "      <td>100000.0</td>\n",
       "    </tr>\n",
       "  </tbody>\n",
       "</table>\n",
       "</div>\n",
       "      <button class=\"colab-df-convert\" onclick=\"convertToInteractive('df-420c2a42-29bb-4a02-97c0-9ae099cf08af')\"\n",
       "              title=\"Convert this dataframe to an interactive table.\"\n",
       "              style=\"display:none;\">\n",
       "        \n",
       "  <svg xmlns=\"http://www.w3.org/2000/svg\" height=\"24px\"viewBox=\"0 0 24 24\"\n",
       "       width=\"24px\">\n",
       "    <path d=\"M0 0h24v24H0V0z\" fill=\"none\"/>\n",
       "    <path d=\"M18.56 5.44l.94 2.06.94-2.06 2.06-.94-2.06-.94-.94-2.06-.94 2.06-2.06.94zm-11 1L8.5 8.5l.94-2.06 2.06-.94-2.06-.94L8.5 2.5l-.94 2.06-2.06.94zm10 10l.94 2.06.94-2.06 2.06-.94-2.06-.94-.94-2.06-.94 2.06-2.06.94z\"/><path d=\"M17.41 7.96l-1.37-1.37c-.4-.4-.92-.59-1.43-.59-.52 0-1.04.2-1.43.59L10.3 9.45l-7.72 7.72c-.78.78-.78 2.05 0 2.83L4 21.41c.39.39.9.59 1.41.59.51 0 1.02-.2 1.41-.59l7.78-7.78 2.81-2.81c.8-.78.8-2.07 0-2.86zM5.41 20L4 18.59l7.72-7.72 1.47 1.35L5.41 20z\"/>\n",
       "  </svg>\n",
       "      </button>\n",
       "      \n",
       "  <style>\n",
       "    .colab-df-container {\n",
       "      display:flex;\n",
       "      flex-wrap:wrap;\n",
       "      gap: 12px;\n",
       "    }\n",
       "\n",
       "    .colab-df-convert {\n",
       "      background-color: #E8F0FE;\n",
       "      border: none;\n",
       "      border-radius: 50%;\n",
       "      cursor: pointer;\n",
       "      display: none;\n",
       "      fill: #1967D2;\n",
       "      height: 32px;\n",
       "      padding: 0 0 0 0;\n",
       "      width: 32px;\n",
       "    }\n",
       "\n",
       "    .colab-df-convert:hover {\n",
       "      background-color: #E2EBFA;\n",
       "      box-shadow: 0px 1px 2px rgba(60, 64, 67, 0.3), 0px 1px 3px 1px rgba(60, 64, 67, 0.15);\n",
       "      fill: #174EA6;\n",
       "    }\n",
       "\n",
       "    [theme=dark] .colab-df-convert {\n",
       "      background-color: #3B4455;\n",
       "      fill: #D2E3FC;\n",
       "    }\n",
       "\n",
       "    [theme=dark] .colab-df-convert:hover {\n",
       "      background-color: #434B5C;\n",
       "      box-shadow: 0px 1px 3px 1px rgba(0, 0, 0, 0.15);\n",
       "      filter: drop-shadow(0px 1px 2px rgba(0, 0, 0, 0.3));\n",
       "      fill: #FFFFFF;\n",
       "    }\n",
       "  </style>\n",
       "\n",
       "      <script>\n",
       "        const buttonEl =\n",
       "          document.querySelector('#df-420c2a42-29bb-4a02-97c0-9ae099cf08af button.colab-df-convert');\n",
       "        buttonEl.style.display =\n",
       "          google.colab.kernel.accessAllowed ? 'block' : 'none';\n",
       "\n",
       "        async function convertToInteractive(key) {\n",
       "          const element = document.querySelector('#df-420c2a42-29bb-4a02-97c0-9ae099cf08af');\n",
       "          const dataTable =\n",
       "            await google.colab.kernel.invokeFunction('convertToInteractive',\n",
       "                                                     [key], {});\n",
       "          if (!dataTable) return;\n",
       "\n",
       "          const docLinkHtml = 'Like what you see? Visit the ' +\n",
       "            '<a target=\"_blank\" href=https://colab.research.google.com/notebooks/data_table.ipynb>data table notebook</a>'\n",
       "            + ' to learn more about interactive tables.';\n",
       "          element.innerHTML = '';\n",
       "          dataTable['output_type'] = 'display_data';\n",
       "          await google.colab.output.renderOutput(dataTable, element);\n",
       "          const docLink = document.createElement('div');\n",
       "          docLink.innerHTML = docLinkHtml;\n",
       "          element.appendChild(docLink);\n",
       "        }\n",
       "      </script>\n",
       "    </div>\n",
       "  </div>\n",
       "  "
      ],
      "text/plain": [
       "   고객번호   이름        금액\n",
       "0  1001   둘리   10000.0\n",
       "1  1001   둘리   20000.0\n",
       "2  1001   둘리   30000.0\n",
       "3  1002  도우너       NaN\n",
       "4  1003   또치       NaN\n",
       "5  1004   길동       NaN\n",
       "6  1005   희동   15000.0\n",
       "7  1006  마이콜    5000.0\n",
       "8  1007   영희       NaN\n",
       "9  1008  NaN  100000.0"
      ]
     },
     "execution_count": 10,
     "metadata": {},
     "output_type": "execute_result"
    }
   ],
   "source": [
    "# outer join 방식은 키 값이 한쪽에만 있어도 데이터를 보여준다.\n",
    "pd.merge(df1, df2, how='outer')"
   ]
  },
  {
   "cell_type": "code",
   "execution_count": null,
   "id": "hJtZqqVg8ZIL",
   "metadata": {
    "colab": {
     "base_uri": "https://localhost:8080/",
     "height": 331
    },
    "executionInfo": {
     "elapsed": 321,
     "status": "ok",
     "timestamp": 1650524863691,
     "user": {
      "displayName": "Mark K",
      "userId": "03340535256939132196"
     },
     "user_tz": -540
    },
    "id": "hJtZqqVg8ZIL",
    "outputId": "b4b44d11-d332-4e6d-efad-cc04ad4b059a"
   },
   "outputs": [
    {
     "data": {
      "text/html": [
       "\n",
       "  <div id=\"df-04161d06-ad1d-412d-9c5a-23bd97c9e14d\">\n",
       "    <div class=\"colab-df-container\">\n",
       "      <div>\n",
       "<style scoped>\n",
       "    .dataframe tbody tr th:only-of-type {\n",
       "        vertical-align: middle;\n",
       "    }\n",
       "\n",
       "    .dataframe tbody tr th {\n",
       "        vertical-align: top;\n",
       "    }\n",
       "\n",
       "    .dataframe thead th {\n",
       "        text-align: right;\n",
       "    }\n",
       "</style>\n",
       "<table border=\"1\" class=\"dataframe\">\n",
       "  <thead>\n",
       "    <tr style=\"text-align: right;\">\n",
       "      <th></th>\n",
       "      <th>고객번호</th>\n",
       "      <th>이름</th>\n",
       "      <th>금액</th>\n",
       "    </tr>\n",
       "  </thead>\n",
       "  <tbody>\n",
       "    <tr>\n",
       "      <th>0</th>\n",
       "      <td>1001</td>\n",
       "      <td>둘리</td>\n",
       "      <td>10000.0</td>\n",
       "    </tr>\n",
       "    <tr>\n",
       "      <th>1</th>\n",
       "      <td>1001</td>\n",
       "      <td>둘리</td>\n",
       "      <td>20000.0</td>\n",
       "    </tr>\n",
       "    <tr>\n",
       "      <th>2</th>\n",
       "      <td>1001</td>\n",
       "      <td>둘리</td>\n",
       "      <td>30000.0</td>\n",
       "    </tr>\n",
       "    <tr>\n",
       "      <th>3</th>\n",
       "      <td>1002</td>\n",
       "      <td>도우너</td>\n",
       "      <td>NaN</td>\n",
       "    </tr>\n",
       "    <tr>\n",
       "      <th>4</th>\n",
       "      <td>1003</td>\n",
       "      <td>또치</td>\n",
       "      <td>NaN</td>\n",
       "    </tr>\n",
       "    <tr>\n",
       "      <th>5</th>\n",
       "      <td>1004</td>\n",
       "      <td>길동</td>\n",
       "      <td>NaN</td>\n",
       "    </tr>\n",
       "    <tr>\n",
       "      <th>6</th>\n",
       "      <td>1005</td>\n",
       "      <td>희동</td>\n",
       "      <td>15000.0</td>\n",
       "    </tr>\n",
       "    <tr>\n",
       "      <th>7</th>\n",
       "      <td>1006</td>\n",
       "      <td>마이콜</td>\n",
       "      <td>5000.0</td>\n",
       "    </tr>\n",
       "    <tr>\n",
       "      <th>8</th>\n",
       "      <td>1007</td>\n",
       "      <td>영희</td>\n",
       "      <td>NaN</td>\n",
       "    </tr>\n",
       "  </tbody>\n",
       "</table>\n",
       "</div>\n",
       "      <button class=\"colab-df-convert\" onclick=\"convertToInteractive('df-04161d06-ad1d-412d-9c5a-23bd97c9e14d')\"\n",
       "              title=\"Convert this dataframe to an interactive table.\"\n",
       "              style=\"display:none;\">\n",
       "        \n",
       "  <svg xmlns=\"http://www.w3.org/2000/svg\" height=\"24px\"viewBox=\"0 0 24 24\"\n",
       "       width=\"24px\">\n",
       "    <path d=\"M0 0h24v24H0V0z\" fill=\"none\"/>\n",
       "    <path d=\"M18.56 5.44l.94 2.06.94-2.06 2.06-.94-2.06-.94-.94-2.06-.94 2.06-2.06.94zm-11 1L8.5 8.5l.94-2.06 2.06-.94-2.06-.94L8.5 2.5l-.94 2.06-2.06.94zm10 10l.94 2.06.94-2.06 2.06-.94-2.06-.94-.94-2.06-.94 2.06-2.06.94z\"/><path d=\"M17.41 7.96l-1.37-1.37c-.4-.4-.92-.59-1.43-.59-.52 0-1.04.2-1.43.59L10.3 9.45l-7.72 7.72c-.78.78-.78 2.05 0 2.83L4 21.41c.39.39.9.59 1.41.59.51 0 1.02-.2 1.41-.59l7.78-7.78 2.81-2.81c.8-.78.8-2.07 0-2.86zM5.41 20L4 18.59l7.72-7.72 1.47 1.35L5.41 20z\"/>\n",
       "  </svg>\n",
       "      </button>\n",
       "      \n",
       "  <style>\n",
       "    .colab-df-container {\n",
       "      display:flex;\n",
       "      flex-wrap:wrap;\n",
       "      gap: 12px;\n",
       "    }\n",
       "\n",
       "    .colab-df-convert {\n",
       "      background-color: #E8F0FE;\n",
       "      border: none;\n",
       "      border-radius: 50%;\n",
       "      cursor: pointer;\n",
       "      display: none;\n",
       "      fill: #1967D2;\n",
       "      height: 32px;\n",
       "      padding: 0 0 0 0;\n",
       "      width: 32px;\n",
       "    }\n",
       "\n",
       "    .colab-df-convert:hover {\n",
       "      background-color: #E2EBFA;\n",
       "      box-shadow: 0px 1px 2px rgba(60, 64, 67, 0.3), 0px 1px 3px 1px rgba(60, 64, 67, 0.15);\n",
       "      fill: #174EA6;\n",
       "    }\n",
       "\n",
       "    [theme=dark] .colab-df-convert {\n",
       "      background-color: #3B4455;\n",
       "      fill: #D2E3FC;\n",
       "    }\n",
       "\n",
       "    [theme=dark] .colab-df-convert:hover {\n",
       "      background-color: #434B5C;\n",
       "      box-shadow: 0px 1px 3px 1px rgba(0, 0, 0, 0.15);\n",
       "      filter: drop-shadow(0px 1px 2px rgba(0, 0, 0, 0.3));\n",
       "      fill: #FFFFFF;\n",
       "    }\n",
       "  </style>\n",
       "\n",
       "      <script>\n",
       "        const buttonEl =\n",
       "          document.querySelector('#df-04161d06-ad1d-412d-9c5a-23bd97c9e14d button.colab-df-convert');\n",
       "        buttonEl.style.display =\n",
       "          google.colab.kernel.accessAllowed ? 'block' : 'none';\n",
       "\n",
       "        async function convertToInteractive(key) {\n",
       "          const element = document.querySelector('#df-04161d06-ad1d-412d-9c5a-23bd97c9e14d');\n",
       "          const dataTable =\n",
       "            await google.colab.kernel.invokeFunction('convertToInteractive',\n",
       "                                                     [key], {});\n",
       "          if (!dataTable) return;\n",
       "\n",
       "          const docLinkHtml = 'Like what you see? Visit the ' +\n",
       "            '<a target=\"_blank\" href=https://colab.research.google.com/notebooks/data_table.ipynb>data table notebook</a>'\n",
       "            + ' to learn more about interactive tables.';\n",
       "          element.innerHTML = '';\n",
       "          dataTable['output_type'] = 'display_data';\n",
       "          await google.colab.output.renderOutput(dataTable, element);\n",
       "          const docLink = document.createElement('div');\n",
       "          docLink.innerHTML = docLinkHtml;\n",
       "          element.appendChild(docLink);\n",
       "        }\n",
       "      </script>\n",
       "    </div>\n",
       "  </div>\n",
       "  "
      ],
      "text/plain": [
       "   고객번호   이름       금액\n",
       "0  1001   둘리  10000.0\n",
       "1  1001   둘리  20000.0\n",
       "2  1001   둘리  30000.0\n",
       "3  1002  도우너      NaN\n",
       "4  1003   또치      NaN\n",
       "5  1004   길동      NaN\n",
       "6  1005   희동  15000.0\n",
       "7  1006  마이콜   5000.0\n",
       "8  1007   영희      NaN"
      ]
     },
     "execution_count": 11,
     "metadata": {},
     "output_type": "execute_result"
    }
   ],
   "source": [
    "# left, right 방식은 각각 첫번째, 혹은 두번째 데이터프레임의 키 값을 모두 보여준다.\n",
    "\n",
    "pd.merge(df1, df2, how='left')"
   ]
  },
  {
   "cell_type": "code",
   "execution_count": null,
   "id": "K45b_fZr8rjP",
   "metadata": {
    "colab": {
     "base_uri": "https://localhost:8080/",
     "height": 237
    },
    "executionInfo": {
     "elapsed": 274,
     "status": "ok",
     "timestamp": 1650524872050,
     "user": {
      "displayName": "Mark K",
      "userId": "03340535256939132196"
     },
     "user_tz": -540
    },
    "id": "K45b_fZr8rjP",
    "outputId": "75d94fbe-0cf4-4998-e8ff-7d40bdc6286b"
   },
   "outputs": [
    {
     "data": {
      "text/html": [
       "\n",
       "  <div id=\"df-940126d5-9a72-46a8-b0e9-4546b220a7bc\">\n",
       "    <div class=\"colab-df-container\">\n",
       "      <div>\n",
       "<style scoped>\n",
       "    .dataframe tbody tr th:only-of-type {\n",
       "        vertical-align: middle;\n",
       "    }\n",
       "\n",
       "    .dataframe tbody tr th {\n",
       "        vertical-align: top;\n",
       "    }\n",
       "\n",
       "    .dataframe thead th {\n",
       "        text-align: right;\n",
       "    }\n",
       "</style>\n",
       "<table border=\"1\" class=\"dataframe\">\n",
       "  <thead>\n",
       "    <tr style=\"text-align: right;\">\n",
       "      <th></th>\n",
       "      <th>고객번호</th>\n",
       "      <th>이름</th>\n",
       "      <th>금액</th>\n",
       "    </tr>\n",
       "  </thead>\n",
       "  <tbody>\n",
       "    <tr>\n",
       "      <th>0</th>\n",
       "      <td>1001</td>\n",
       "      <td>둘리</td>\n",
       "      <td>10000</td>\n",
       "    </tr>\n",
       "    <tr>\n",
       "      <th>1</th>\n",
       "      <td>1001</td>\n",
       "      <td>둘리</td>\n",
       "      <td>20000</td>\n",
       "    </tr>\n",
       "    <tr>\n",
       "      <th>2</th>\n",
       "      <td>1005</td>\n",
       "      <td>희동</td>\n",
       "      <td>15000</td>\n",
       "    </tr>\n",
       "    <tr>\n",
       "      <th>3</th>\n",
       "      <td>1006</td>\n",
       "      <td>마이콜</td>\n",
       "      <td>5000</td>\n",
       "    </tr>\n",
       "    <tr>\n",
       "      <th>4</th>\n",
       "      <td>1008</td>\n",
       "      <td>NaN</td>\n",
       "      <td>100000</td>\n",
       "    </tr>\n",
       "    <tr>\n",
       "      <th>5</th>\n",
       "      <td>1001</td>\n",
       "      <td>둘리</td>\n",
       "      <td>30000</td>\n",
       "    </tr>\n",
       "  </tbody>\n",
       "</table>\n",
       "</div>\n",
       "      <button class=\"colab-df-convert\" onclick=\"convertToInteractive('df-940126d5-9a72-46a8-b0e9-4546b220a7bc')\"\n",
       "              title=\"Convert this dataframe to an interactive table.\"\n",
       "              style=\"display:none;\">\n",
       "        \n",
       "  <svg xmlns=\"http://www.w3.org/2000/svg\" height=\"24px\"viewBox=\"0 0 24 24\"\n",
       "       width=\"24px\">\n",
       "    <path d=\"M0 0h24v24H0V0z\" fill=\"none\"/>\n",
       "    <path d=\"M18.56 5.44l.94 2.06.94-2.06 2.06-.94-2.06-.94-.94-2.06-.94 2.06-2.06.94zm-11 1L8.5 8.5l.94-2.06 2.06-.94-2.06-.94L8.5 2.5l-.94 2.06-2.06.94zm10 10l.94 2.06.94-2.06 2.06-.94-2.06-.94-.94-2.06-.94 2.06-2.06.94z\"/><path d=\"M17.41 7.96l-1.37-1.37c-.4-.4-.92-.59-1.43-.59-.52 0-1.04.2-1.43.59L10.3 9.45l-7.72 7.72c-.78.78-.78 2.05 0 2.83L4 21.41c.39.39.9.59 1.41.59.51 0 1.02-.2 1.41-.59l7.78-7.78 2.81-2.81c.8-.78.8-2.07 0-2.86zM5.41 20L4 18.59l7.72-7.72 1.47 1.35L5.41 20z\"/>\n",
       "  </svg>\n",
       "      </button>\n",
       "      \n",
       "  <style>\n",
       "    .colab-df-container {\n",
       "      display:flex;\n",
       "      flex-wrap:wrap;\n",
       "      gap: 12px;\n",
       "    }\n",
       "\n",
       "    .colab-df-convert {\n",
       "      background-color: #E8F0FE;\n",
       "      border: none;\n",
       "      border-radius: 50%;\n",
       "      cursor: pointer;\n",
       "      display: none;\n",
       "      fill: #1967D2;\n",
       "      height: 32px;\n",
       "      padding: 0 0 0 0;\n",
       "      width: 32px;\n",
       "    }\n",
       "\n",
       "    .colab-df-convert:hover {\n",
       "      background-color: #E2EBFA;\n",
       "      box-shadow: 0px 1px 2px rgba(60, 64, 67, 0.3), 0px 1px 3px 1px rgba(60, 64, 67, 0.15);\n",
       "      fill: #174EA6;\n",
       "    }\n",
       "\n",
       "    [theme=dark] .colab-df-convert {\n",
       "      background-color: #3B4455;\n",
       "      fill: #D2E3FC;\n",
       "    }\n",
       "\n",
       "    [theme=dark] .colab-df-convert:hover {\n",
       "      background-color: #434B5C;\n",
       "      box-shadow: 0px 1px 3px 1px rgba(0, 0, 0, 0.15);\n",
       "      filter: drop-shadow(0px 1px 2px rgba(0, 0, 0, 0.3));\n",
       "      fill: #FFFFFF;\n",
       "    }\n",
       "  </style>\n",
       "\n",
       "      <script>\n",
       "        const buttonEl =\n",
       "          document.querySelector('#df-940126d5-9a72-46a8-b0e9-4546b220a7bc button.colab-df-convert');\n",
       "        buttonEl.style.display =\n",
       "          google.colab.kernel.accessAllowed ? 'block' : 'none';\n",
       "\n",
       "        async function convertToInteractive(key) {\n",
       "          const element = document.querySelector('#df-940126d5-9a72-46a8-b0e9-4546b220a7bc');\n",
       "          const dataTable =\n",
       "            await google.colab.kernel.invokeFunction('convertToInteractive',\n",
       "                                                     [key], {});\n",
       "          if (!dataTable) return;\n",
       "\n",
       "          const docLinkHtml = 'Like what you see? Visit the ' +\n",
       "            '<a target=\"_blank\" href=https://colab.research.google.com/notebooks/data_table.ipynb>data table notebook</a>'\n",
       "            + ' to learn more about interactive tables.';\n",
       "          element.innerHTML = '';\n",
       "          dataTable['output_type'] = 'display_data';\n",
       "          await google.colab.output.renderOutput(dataTable, element);\n",
       "          const docLink = document.createElement('div');\n",
       "          docLink.innerHTML = docLinkHtml;\n",
       "          element.appendChild(docLink);\n",
       "        }\n",
       "      </script>\n",
       "    </div>\n",
       "  </div>\n",
       "  "
      ],
      "text/plain": [
       "   고객번호   이름      금액\n",
       "0  1001   둘리   10000\n",
       "1  1001   둘리   20000\n",
       "2  1005   희동   15000\n",
       "3  1006  마이콜    5000\n",
       "4  1008  NaN  100000\n",
       "5  1001   둘리   30000"
      ]
     },
     "execution_count": 12,
     "metadata": {},
     "output_type": "execute_result"
    }
   ],
   "source": [
    "pd.merge(df1, df2, how='right')"
   ]
  },
  {
   "cell_type": "markdown",
   "id": "nSDyIx7pBl2v",
   "metadata": {
    "id": "nSDyIx7pBl2v"
   },
   "source": [
    "### Concat\n",
    "- concat 함수를 사용하면 기준 열(key column)을 사용하지 않고 단순히 데이터를 연결(concatenate)한다.\n",
    "\n",
    "기본적으로는 위/아래로 데이터 행을 연결한다. 단순히 두 시리즈나 데이터프레임을 연결하기 때문에 인덱스 값이 중복될 수 있다."
   ]
  },
  {
   "cell_type": "code",
   "execution_count": 13,
   "id": "nrQNWRP-8tsB",
   "metadata": {
    "executionInfo": {
     "elapsed": 691,
     "status": "ok",
     "timestamp": 1650526217071,
     "user": {
      "displayName": "Mark K",
      "userId": "03340535256939132196"
     },
     "user_tz": -540
    },
    "id": "nrQNWRP-8tsB"
   },
   "outputs": [],
   "source": [
    "s1 = pd.Series([0, 1], index=['A', 'B'])\n",
    "s2 = pd.Series([2, 3, 4], index=['A', 'B', 'C'])"
   ]
  },
  {
   "cell_type": "code",
   "execution_count": 14,
   "id": "FdS9j9F_B0kF",
   "metadata": {
    "colab": {
     "base_uri": "https://localhost:8080/"
    },
    "executionInfo": {
     "elapsed": 285,
     "status": "ok",
     "timestamp": 1650526220603,
     "user": {
      "displayName": "Mark K",
      "userId": "03340535256939132196"
     },
     "user_tz": -540
    },
    "id": "FdS9j9F_B0kF",
    "outputId": "96f795e7-1680-4873-ccdc-892bff8556c1"
   },
   "outputs": [
    {
     "data": {
      "text/plain": [
       "A    0\n",
       "B    1\n",
       "dtype: int64"
      ]
     },
     "execution_count": 14,
     "metadata": {},
     "output_type": "execute_result"
    }
   ],
   "source": [
    "s1"
   ]
  },
  {
   "cell_type": "code",
   "execution_count": 15,
   "id": "rlcl4kp1B27H",
   "metadata": {
    "colab": {
     "base_uri": "https://localhost:8080/"
    },
    "executionInfo": {
     "elapsed": 285,
     "status": "ok",
     "timestamp": 1650526226063,
     "user": {
      "displayName": "Mark K",
      "userId": "03340535256939132196"
     },
     "user_tz": -540
    },
    "id": "rlcl4kp1B27H",
    "outputId": "49508448-2594-43d9-8dec-e7d548843372"
   },
   "outputs": [
    {
     "data": {
      "text/plain": [
       "A    2\n",
       "B    3\n",
       "C    4\n",
       "dtype: int64"
      ]
     },
     "execution_count": 15,
     "metadata": {},
     "output_type": "execute_result"
    }
   ],
   "source": [
    "s2"
   ]
  },
  {
   "cell_type": "code",
   "execution_count": 16,
   "id": "cR4HW44hB4QS",
   "metadata": {
    "colab": {
     "base_uri": "https://localhost:8080/"
    },
    "executionInfo": {
     "elapsed": 286,
     "status": "ok",
     "timestamp": 1650526231061,
     "user": {
      "displayName": "Mark K",
      "userId": "03340535256939132196"
     },
     "user_tz": -540
    },
    "id": "cR4HW44hB4QS",
    "outputId": "41deeae8-b2cc-47ea-f8ee-31b85bfdb472"
   },
   "outputs": [
    {
     "data": {
      "text/plain": [
       "A    0\n",
       "B    1\n",
       "A    2\n",
       "B    3\n",
       "C    4\n",
       "dtype: int64"
      ]
     },
     "execution_count": 16,
     "metadata": {},
     "output_type": "execute_result"
    }
   ],
   "source": [
    "pd.concat([s1, s2])"
   ]
  },
  {
   "cell_type": "code",
   "execution_count": 23,
   "id": "4wvfQ56LB0m1",
   "metadata": {
    "colab": {
     "base_uri": "https://localhost:8080/"
    },
    "executionInfo": {
     "elapsed": 275,
     "status": "ok",
     "timestamp": 1650526487018,
     "user": {
      "displayName": "Mark K",
      "userId": "03340535256939132196"
     },
     "user_tz": -540
    },
    "id": "4wvfQ56LB0m1",
    "outputId": "23a90a7e-fa8f-4f37-f92c-355886c7135e"
   },
   "outputs": [
    {
     "name": "stdout",
     "output_type": "stream",
     "text": [
      "<bound method NDFrame.describe of    데이터1  데이터2\n",
      "a     0     1\n",
      "b     2     3\n",
      "c     4     5>\n"
     ]
    }
   ],
   "source": [
    "# 만약 옆으로 데이터 열을 연결하고 싶으면 axis=1로 인수를 설정한다.\n",
    "\n",
    "df1 = pd.DataFrame(\n",
    "    np.arange(6).reshape(3, 2),\n",
    "    index=['a', 'b', 'c'],\n",
    "    columns=['데이터1', '데이터2'])\n",
    "df1\n",
    "print(df1.describe)"
   ]
  },
  {
   "cell_type": "code",
   "execution_count": 20,
   "id": "a1E0y0hxB0pf",
   "metadata": {
    "colab": {
     "base_uri": "https://localhost:8080/",
     "height": 112
    },
    "executionInfo": {
     "elapsed": 286,
     "status": "ok",
     "timestamp": 1650526435638,
     "user": {
      "displayName": "Mark K",
      "userId": "03340535256939132196"
     },
     "user_tz": -540
    },
    "id": "a1E0y0hxB0pf",
    "outputId": "462da6a7-d1a4-41fd-fa57-1abfb62fe70a"
   },
   "outputs": [
    {
     "data": {
      "text/html": [
       "\n",
       "  <div id=\"df-2306a9ed-4485-443f-afad-b7c1dc692046\">\n",
       "    <div class=\"colab-df-container\">\n",
       "      <div>\n",
       "<style scoped>\n",
       "    .dataframe tbody tr th:only-of-type {\n",
       "        vertical-align: middle;\n",
       "    }\n",
       "\n",
       "    .dataframe tbody tr th {\n",
       "        vertical-align: top;\n",
       "    }\n",
       "\n",
       "    .dataframe thead th {\n",
       "        text-align: right;\n",
       "    }\n",
       "</style>\n",
       "<table border=\"1\" class=\"dataframe\">\n",
       "  <thead>\n",
       "    <tr style=\"text-align: right;\">\n",
       "      <th></th>\n",
       "      <th>데이터3</th>\n",
       "      <th>데이터4</th>\n",
       "    </tr>\n",
       "  </thead>\n",
       "  <tbody>\n",
       "    <tr>\n",
       "      <th>a</th>\n",
       "      <td>6</td>\n",
       "      <td>7</td>\n",
       "    </tr>\n",
       "    <tr>\n",
       "      <th>c</th>\n",
       "      <td>8</td>\n",
       "      <td>9</td>\n",
       "    </tr>\n",
       "  </tbody>\n",
       "</table>\n",
       "</div>\n",
       "      <button class=\"colab-df-convert\" onclick=\"convertToInteractive('df-2306a9ed-4485-443f-afad-b7c1dc692046')\"\n",
       "              title=\"Convert this dataframe to an interactive table.\"\n",
       "              style=\"display:none;\">\n",
       "        \n",
       "  <svg xmlns=\"http://www.w3.org/2000/svg\" height=\"24px\"viewBox=\"0 0 24 24\"\n",
       "       width=\"24px\">\n",
       "    <path d=\"M0 0h24v24H0V0z\" fill=\"none\"/>\n",
       "    <path d=\"M18.56 5.44l.94 2.06.94-2.06 2.06-.94-2.06-.94-.94-2.06-.94 2.06-2.06.94zm-11 1L8.5 8.5l.94-2.06 2.06-.94-2.06-.94L8.5 2.5l-.94 2.06-2.06.94zm10 10l.94 2.06.94-2.06 2.06-.94-2.06-.94-.94-2.06-.94 2.06-2.06.94z\"/><path d=\"M17.41 7.96l-1.37-1.37c-.4-.4-.92-.59-1.43-.59-.52 0-1.04.2-1.43.59L10.3 9.45l-7.72 7.72c-.78.78-.78 2.05 0 2.83L4 21.41c.39.39.9.59 1.41.59.51 0 1.02-.2 1.41-.59l7.78-7.78 2.81-2.81c.8-.78.8-2.07 0-2.86zM5.41 20L4 18.59l7.72-7.72 1.47 1.35L5.41 20z\"/>\n",
       "  </svg>\n",
       "      </button>\n",
       "      \n",
       "  <style>\n",
       "    .colab-df-container {\n",
       "      display:flex;\n",
       "      flex-wrap:wrap;\n",
       "      gap: 12px;\n",
       "    }\n",
       "\n",
       "    .colab-df-convert {\n",
       "      background-color: #E8F0FE;\n",
       "      border: none;\n",
       "      border-radius: 50%;\n",
       "      cursor: pointer;\n",
       "      display: none;\n",
       "      fill: #1967D2;\n",
       "      height: 32px;\n",
       "      padding: 0 0 0 0;\n",
       "      width: 32px;\n",
       "    }\n",
       "\n",
       "    .colab-df-convert:hover {\n",
       "      background-color: #E2EBFA;\n",
       "      box-shadow: 0px 1px 2px rgba(60, 64, 67, 0.3), 0px 1px 3px 1px rgba(60, 64, 67, 0.15);\n",
       "      fill: #174EA6;\n",
       "    }\n",
       "\n",
       "    [theme=dark] .colab-df-convert {\n",
       "      background-color: #3B4455;\n",
       "      fill: #D2E3FC;\n",
       "    }\n",
       "\n",
       "    [theme=dark] .colab-df-convert:hover {\n",
       "      background-color: #434B5C;\n",
       "      box-shadow: 0px 1px 3px 1px rgba(0, 0, 0, 0.15);\n",
       "      filter: drop-shadow(0px 1px 2px rgba(0, 0, 0, 0.3));\n",
       "      fill: #FFFFFF;\n",
       "    }\n",
       "  </style>\n",
       "\n",
       "      <script>\n",
       "        const buttonEl =\n",
       "          document.querySelector('#df-2306a9ed-4485-443f-afad-b7c1dc692046 button.colab-df-convert');\n",
       "        buttonEl.style.display =\n",
       "          google.colab.kernel.accessAllowed ? 'block' : 'none';\n",
       "\n",
       "        async function convertToInteractive(key) {\n",
       "          const element = document.querySelector('#df-2306a9ed-4485-443f-afad-b7c1dc692046');\n",
       "          const dataTable =\n",
       "            await google.colab.kernel.invokeFunction('convertToInteractive',\n",
       "                                                     [key], {});\n",
       "          if (!dataTable) return;\n",
       "\n",
       "          const docLinkHtml = 'Like what you see? Visit the ' +\n",
       "            '<a target=\"_blank\" href=https://colab.research.google.com/notebooks/data_table.ipynb>data table notebook</a>'\n",
       "            + ' to learn more about interactive tables.';\n",
       "          element.innerHTML = '';\n",
       "          dataTable['output_type'] = 'display_data';\n",
       "          await google.colab.output.renderOutput(dataTable, element);\n",
       "          const docLink = document.createElement('div');\n",
       "          docLink.innerHTML = docLinkHtml;\n",
       "          element.appendChild(docLink);\n",
       "        }\n",
       "      </script>\n",
       "    </div>\n",
       "  </div>\n",
       "  "
      ],
      "text/plain": [
       "   데이터3  데이터4\n",
       "a     6     7\n",
       "c     8     9"
      ]
     },
     "execution_count": 20,
     "metadata": {},
     "output_type": "execute_result"
    }
   ],
   "source": [
    "df2 = pd.DataFrame(\n",
    "    6 + np.arange(4).reshape(2, 2),\n",
    "    index=['a', 'c'],\n",
    "    columns=['데이터3', '데이터4'])\n",
    "df2"
   ]
  },
  {
   "cell_type": "code",
   "execution_count": 21,
   "id": "CSyLwUy8B0r6",
   "metadata": {
    "colab": {
     "base_uri": "https://localhost:8080/",
     "height": 143
    },
    "executionInfo": {
     "elapsed": 410,
     "status": "ok",
     "timestamp": 1650526436982,
     "user": {
      "displayName": "Mark K",
      "userId": "03340535256939132196"
     },
     "user_tz": -540
    },
    "id": "CSyLwUy8B0r6",
    "outputId": "62f393ee-4b92-4286-a487-1672e7680c66"
   },
   "outputs": [
    {
     "data": {
      "text/html": [
       "\n",
       "  <div id=\"df-59f6ca8f-9ecf-4fb6-9e86-bb05ccaf4904\">\n",
       "    <div class=\"colab-df-container\">\n",
       "      <div>\n",
       "<style scoped>\n",
       "    .dataframe tbody tr th:only-of-type {\n",
       "        vertical-align: middle;\n",
       "    }\n",
       "\n",
       "    .dataframe tbody tr th {\n",
       "        vertical-align: top;\n",
       "    }\n",
       "\n",
       "    .dataframe thead th {\n",
       "        text-align: right;\n",
       "    }\n",
       "</style>\n",
       "<table border=\"1\" class=\"dataframe\">\n",
       "  <thead>\n",
       "    <tr style=\"text-align: right;\">\n",
       "      <th></th>\n",
       "      <th>데이터1</th>\n",
       "      <th>데이터2</th>\n",
       "      <th>데이터3</th>\n",
       "      <th>데이터4</th>\n",
       "    </tr>\n",
       "  </thead>\n",
       "  <tbody>\n",
       "    <tr>\n",
       "      <th>a</th>\n",
       "      <td>0</td>\n",
       "      <td>1</td>\n",
       "      <td>6.0</td>\n",
       "      <td>7.0</td>\n",
       "    </tr>\n",
       "    <tr>\n",
       "      <th>b</th>\n",
       "      <td>2</td>\n",
       "      <td>3</td>\n",
       "      <td>NaN</td>\n",
       "      <td>NaN</td>\n",
       "    </tr>\n",
       "    <tr>\n",
       "      <th>c</th>\n",
       "      <td>4</td>\n",
       "      <td>5</td>\n",
       "      <td>8.0</td>\n",
       "      <td>9.0</td>\n",
       "    </tr>\n",
       "  </tbody>\n",
       "</table>\n",
       "</div>\n",
       "      <button class=\"colab-df-convert\" onclick=\"convertToInteractive('df-59f6ca8f-9ecf-4fb6-9e86-bb05ccaf4904')\"\n",
       "              title=\"Convert this dataframe to an interactive table.\"\n",
       "              style=\"display:none;\">\n",
       "        \n",
       "  <svg xmlns=\"http://www.w3.org/2000/svg\" height=\"24px\"viewBox=\"0 0 24 24\"\n",
       "       width=\"24px\">\n",
       "    <path d=\"M0 0h24v24H0V0z\" fill=\"none\"/>\n",
       "    <path d=\"M18.56 5.44l.94 2.06.94-2.06 2.06-.94-2.06-.94-.94-2.06-.94 2.06-2.06.94zm-11 1L8.5 8.5l.94-2.06 2.06-.94-2.06-.94L8.5 2.5l-.94 2.06-2.06.94zm10 10l.94 2.06.94-2.06 2.06-.94-2.06-.94-.94-2.06-.94 2.06-2.06.94z\"/><path d=\"M17.41 7.96l-1.37-1.37c-.4-.4-.92-.59-1.43-.59-.52 0-1.04.2-1.43.59L10.3 9.45l-7.72 7.72c-.78.78-.78 2.05 0 2.83L4 21.41c.39.39.9.59 1.41.59.51 0 1.02-.2 1.41-.59l7.78-7.78 2.81-2.81c.8-.78.8-2.07 0-2.86zM5.41 20L4 18.59l7.72-7.72 1.47 1.35L5.41 20z\"/>\n",
       "  </svg>\n",
       "      </button>\n",
       "      \n",
       "  <style>\n",
       "    .colab-df-container {\n",
       "      display:flex;\n",
       "      flex-wrap:wrap;\n",
       "      gap: 12px;\n",
       "    }\n",
       "\n",
       "    .colab-df-convert {\n",
       "      background-color: #E8F0FE;\n",
       "      border: none;\n",
       "      border-radius: 50%;\n",
       "      cursor: pointer;\n",
       "      display: none;\n",
       "      fill: #1967D2;\n",
       "      height: 32px;\n",
       "      padding: 0 0 0 0;\n",
       "      width: 32px;\n",
       "    }\n",
       "\n",
       "    .colab-df-convert:hover {\n",
       "      background-color: #E2EBFA;\n",
       "      box-shadow: 0px 1px 2px rgba(60, 64, 67, 0.3), 0px 1px 3px 1px rgba(60, 64, 67, 0.15);\n",
       "      fill: #174EA6;\n",
       "    }\n",
       "\n",
       "    [theme=dark] .colab-df-convert {\n",
       "      background-color: #3B4455;\n",
       "      fill: #D2E3FC;\n",
       "    }\n",
       "\n",
       "    [theme=dark] .colab-df-convert:hover {\n",
       "      background-color: #434B5C;\n",
       "      box-shadow: 0px 1px 3px 1px rgba(0, 0, 0, 0.15);\n",
       "      filter: drop-shadow(0px 1px 2px rgba(0, 0, 0, 0.3));\n",
       "      fill: #FFFFFF;\n",
       "    }\n",
       "  </style>\n",
       "\n",
       "      <script>\n",
       "        const buttonEl =\n",
       "          document.querySelector('#df-59f6ca8f-9ecf-4fb6-9e86-bb05ccaf4904 button.colab-df-convert');\n",
       "        buttonEl.style.display =\n",
       "          google.colab.kernel.accessAllowed ? 'block' : 'none';\n",
       "\n",
       "        async function convertToInteractive(key) {\n",
       "          const element = document.querySelector('#df-59f6ca8f-9ecf-4fb6-9e86-bb05ccaf4904');\n",
       "          const dataTable =\n",
       "            await google.colab.kernel.invokeFunction('convertToInteractive',\n",
       "                                                     [key], {});\n",
       "          if (!dataTable) return;\n",
       "\n",
       "          const docLinkHtml = 'Like what you see? Visit the ' +\n",
       "            '<a target=\"_blank\" href=https://colab.research.google.com/notebooks/data_table.ipynb>data table notebook</a>'\n",
       "            + ' to learn more about interactive tables.';\n",
       "          element.innerHTML = '';\n",
       "          dataTable['output_type'] = 'display_data';\n",
       "          await google.colab.output.renderOutput(dataTable, element);\n",
       "          const docLink = document.createElement('div');\n",
       "          docLink.innerHTML = docLinkHtml;\n",
       "          element.appendChild(docLink);\n",
       "        }\n",
       "      </script>\n",
       "    </div>\n",
       "  </div>\n",
       "  "
      ],
      "text/plain": [
       "   데이터1  데이터2  데이터3  데이터4\n",
       "a     0     1   6.0   7.0\n",
       "b     2     3   NaN   NaN\n",
       "c     4     5   8.0   9.0"
      ]
     },
     "execution_count": 21,
     "metadata": {},
     "output_type": "execute_result"
    }
   ],
   "source": [
    "pd.concat([df1, df2], axis=1)"
   ]
  },
  {
   "cell_type": "code",
   "execution_count": null,
   "id": "1AohiP_fB0uj",
   "metadata": {
    "id": "1AohiP_fB0uj"
   },
   "outputs": [],
   "source": []
  },
  {
   "cell_type": "code",
   "execution_count": null,
   "id": "fynnqlmo8QGZ",
   "metadata": {
    "id": "fynnqlmo8QGZ"
   },
   "outputs": [],
   "source": []
  },
  {
   "cell_type": "markdown",
   "id": "SgZGly_7_yPT",
   "metadata": {
    "id": "SgZGly_7_yPT"
   },
   "source": [
    "# 데이터 시각화 (matplotlib)"
   ]
  },
  {
   "cell_type": "code",
   "execution_count": null,
   "id": "VJJ-hAjI8N1x",
   "metadata": {
    "colab": {
     "base_uri": "https://localhost:8080/",
     "height": 265
    },
    "executionInfo": {
     "elapsed": 842,
     "status": "ok",
     "timestamp": 1650525905620,
     "user": {
      "displayName": "서명교",
      "userId": "11730583039526359700"
     },
     "user_tz": -540
    },
    "id": "VJJ-hAjI8N1x",
    "outputId": "afdf819d-f359-4af2-8654-aead13a006b0"
   },
   "outputs": [
    {
     "data": {
      "image/png": "[encoded data removed]",
      "text/plain": [
       "<Figure size 432x288 with 2 Axes>"
      ]
     },
     "metadata": {
      "needs_background": "light"
     },
     "output_type": "display_data"
    }
   ],
   "source": [
    "import matplotlib.pyplot as plt \n",
    "\n",
    "fig = plt.figure()\n",
    "subplot1 = fig.add_subplot(1, 2, 1)  # 1행 1열의 액자에 첫 번째 종이를 만들라는 뜻\n",
    "subplot2 = fig.add_subplot(1, 2, 2)  # 1행 2열 형태로 종이를 붙이고 그중에 두번째 종이\n",
    "subplot1.plot([1, 2, 3, 4])\n",
    "subplot2.plot([4, 3, 2, 1])\n",
    "plt.show()"
   ]
  },
  {
   "cell_type": "code",
   "execution_count": null,
   "id": "d84186ce",
   "metadata": {
    "colab": {
     "base_uri": "https://localhost:8080/",
     "height": 265
    },
    "executionInfo": {
     "elapsed": 1038,
     "status": "ok",
     "timestamp": 1650525977037,
     "user": {
      "displayName": "서명교",
      "userId": "11730583039526359700"
     },
     "user_tz": -540
    },
    "id": "d84186ce",
    "outputId": "6289b0ce-732d-4015-c306-71a0046f1fce"
   },
   "outputs": [
    {
     "data": {
      "image/png": "[encoded data removed]",
      "text/plain": [
       "<Figure size 432x288 with 4 Axes>"
      ]
     },
     "metadata": {
      "needs_background": "light"
     },
     "output_type": "display_data"
    }
   ],
   "source": [
    "fig, axes = plt.subplots(2, 2)\n",
    "\n",
    "axes[0][0].plot([1, 2, 3, 4])\n",
    "axes[0][1].plot([4, 3, 2, 1])\n",
    "axes[1][0].plot([1, 2, 2, 1])\n",
    "axes[1][1].plot([2, 1, 1, 2])\n",
    "plt.show()"
   ]
  },
  {
   "cell_type": "code",
   "execution_count": null,
   "id": "secczqwKA8yS",
   "metadata": {
    "id": "secczqwKA8yS"
   },
   "outputs": [],
   "source": []
  },
  {
   "cell_type": "code",
   "execution_count": null,
   "id": "PEFcetWbA8o7",
   "metadata": {
    "id": "PEFcetWbA8o7"
   },
   "outputs": [],
   "source": []
  },
  {
   "cell_type": "code",
   "execution_count": null,
   "id": "YgTCKw_XA8lr",
   "metadata": {
    "id": "YgTCKw_XA8lr"
   },
   "outputs": [],
   "source": []
  },
  {
   "cell_type": "code",
   "execution_count": null,
   "id": "gDdMHgLvA8iw",
   "metadata": {
    "id": "gDdMHgLvA8iw"
   },
   "outputs": [],
   "source": []
  },
  {
   "cell_type": "code",
   "execution_count": null,
   "id": "LI3teSzJA8d0",
   "metadata": {
    "id": "LI3teSzJA8d0"
   },
   "outputs": [],
   "source": []
  },
  {
   "cell_type": "code",
   "execution_count": null,
   "id": "3XBDCVMGA8X2",
   "metadata": {
    "id": "3XBDCVMGA8X2"
   },
   "outputs": [],
   "source": []
  },
  {
   "cell_type": "code",
   "execution_count": null,
   "id": "3KUAfYbJA8Vd",
   "metadata": {
    "id": "3KUAfYbJA8Vd"
   },
   "outputs": [],
   "source": []
  },
  {
   "cell_type": "markdown",
   "id": "0ebcfdce",
   "metadata": {
    "id": "0ebcfdce"
   },
   "source": [
    "### 실습 Merge & KRX API 활용 스크래핑\n",
    " - https://pandas.pydata.org/docs/reference/api/pandas.DataFrame.merge.html 참고\n",
    " - DataFrame.merge(right, how='inner', on=None, left_on=None, right_on=None, \n",
    "   left_index=False, right_index=False, sort=False, suffixes=('_x', '_y'), copy=True, indicator=False, validate=None)\n",
    " - KRX 스크래핑 정리된 깃허브 https://github.com/sharebook-kr/pykrx 참고"
   ]
  },
  {
   "cell_type": "markdown",
   "id": "d13f1cdb",
   "metadata": {
    "id": "d13f1cdb"
   },
   "source": [
    "### 실습\n",
    " - 참고 스크래핑을 많이 할 시(반복문)에는 time.sleep(1)을 주어 아이피 차단 당하지 않도록 주의한다.\n",
    " - KRX 스크래핑을 활용하여 2020년 4월 20일에 KOSDAQ 시장의 티커를 받아오기.\n",
    " - 티커 중 앞에서 10번째부터 20번째까지 티커 ticker 저장하기\n",
    " - ticker-> 2020년 4월 (시가/고가/저가/종가/거래량)정보 받아와 df_ohlcv 저장하기 \n",
    "   (칼럼은 날짜/시가/고가/저가/종가/거래량/티커)\n",
    " - ticker-> 2020년 4월 20일 (PER/EPS/PBR)정보 받아와 df_fundamental 저장하기 (칼럼 PER/EPS/PBR/티커)\n",
    " - get_market_net_purchases_of_equities을 활용하여 연기금 데이터 (2020년 4월 20일) 받아오고 ticker에 해당하는 종목들만      df_purchases_of_equities 저장하기\n",
    " - df_purchases_of_equities의 칼럼을 종목명/매도거래량/매수거래량만 저장하기\n",
    " - df_fundamental와 df_purchases_of_equities를 합치기\n",
    " - csv 파일로 저장해 보기 , 불러와 보기\n",
    " - 각 티커별로 주가데이터 그래프 그려보기"
   ]
  },
  {
   "cell_type": "code",
   "execution_count": null,
   "id": "83912d2d",
   "metadata": {
    "id": "83912d2d"
   },
   "outputs": [],
   "source": []
  },
  {
   "cell_type": "code",
   "execution_count": null,
   "id": "8e4629f5",
   "metadata": {
    "id": "8e4629f5"
   },
   "outputs": [],
   "source": []
  },
  {
   "cell_type": "code",
   "execution_count": null,
   "id": "87e71319",
   "metadata": {
    "id": "87e71319"
   },
   "outputs": [],
   "source": []
  },
  {
   "cell_type": "code",
   "execution_count": null,
   "id": "ce28aa89",
   "metadata": {
    "id": "ce28aa89"
   },
   "outputs": [],
   "source": []
  }
 ],
 "metadata": {
  "colab": {
   "collapsed_sections": [],
   "name": "numpy_pandas_study.ipynb",
   "provenance": [],
   "toc_visible": true
  },
  "hide_input": false,
  "kernelspec": {
   "display_name": "Python 3 (ipykernel)",
   "language": "python",
   "name": "python3"
  },
  "language_info": {
   "codemirror_mode": {
    "name": "ipython",
    "version": 3
   },
   "file_extension": ".py",
   "mimetype": "text/x-python",
   "name": "python",
   "nbconvert_exporter": "python",
   "pygments_lexer": "ipython3",
   "version": "3.10.2"
  },
  "toc": {
   "base_numbering": 1,
   "nav_menu": {},
   "number_sections": true,
   "sideBar": true,
   "skip_h1_title": false,
   "title_cell": "Table of Contents",
   "title_sidebar": "Contents",
   "toc_cell": false,
   "toc_position": {},
   "toc_section_display": true,
   "toc_window_display": false
  },
  "varInspector": {
   "cols": {
    "lenName": 16,
    "lenType": 16,
    "lenVar": 40
   },
   "kernels_config": {
    "python": {
     "delete_cmd_postfix": "",
     "delete_cmd_prefix": "del ",
     "library": "var_list.py",
     "varRefreshCmd": "print(var_dic_list())"
    },
    "r": {
     "delete_cmd_postfix": ") ",
     "delete_cmd_prefix": "rm(",
     "library": "var_list.r",
     "varRefreshCmd": "cat(var_dic_list()) "
    }
   },
   "types_to_exclude": [
    "module",
    "function",
    "builtin_function_or_method",
    "instance",
    "_Feature"
   ],
   "window_display": false
  }
 },
 "nbformat": 4,
 "nbformat_minor": 5
}
