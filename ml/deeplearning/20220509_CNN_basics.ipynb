{
 "cells": [
  {
   "cell_type": "markdown",
   "metadata": {},
   "source": [
    "이미지 인식을 위한 CNN\n",
    "===\n",
    "## 1. 데이터 전처리"
   ]
  },
  {
   "cell_type": "code",
   "execution_count": 38,
   "metadata": {},
   "outputs": [],
   "source": [
    "# mnist 자료 로드\n",
    "import tensorflow as tf\n",
    "from tensorflow.keras.utils import to_categorical\n",
    "from tensorflow.keras.models import Sequential\n",
    "from tensorflow.keras.layers import Dense\n",
    "from tensorflow.keras.datasets.mnist import load_data\n",
    "\n",
    "# 자동완성용 라이브러리 로드\n",
    "from keras.datasets.mnist import load_data\n",
    "from keras.models import Sequential\n",
    "from keras.layers import Dense\n",
    "\n",
    "(X_train, y_class_train), (X_test, y_class_test) = load_data()"
   ]
  },
  {
   "cell_type": "code",
   "execution_count": 39,
   "metadata": {},
   "outputs": [
    {
     "data": {
      "image/png": "[encoded data removed]",
      "text/plain": [
       "<Figure size 432x288 with 1 Axes>"
      ]
     },
     "metadata": {
      "needs_background": "light"
     },
     "output_type": "display_data"
    }
   ],
   "source": [
    "import matplotlib.pyplot as plt\n",
    "import numpy as np\n",
    "\n",
    "first_image = X_train[0]\n",
    "first_image = np.array(first_image, dtype=float)\n",
    "pixels = first_image.reshape((28, 28))\n",
    "plt.imshow(pixels, cmap=\"gray\")\n",
    "plt.show()"
   ]
  },
  {
   "cell_type": "code",
   "execution_count": 40,
   "metadata": {},
   "outputs": [],
   "source": [
    "X_train = X_train.reshape(X_train.shape[0], 784)\n",
    "X_train = X_train.astype(\"float64\")\n",
    "X_train = X_train / 255"
   ]
  },
  {
   "cell_type": "code",
   "execution_count": 41,
   "metadata": {},
   "outputs": [],
   "source": [
    "X_test = X_test.reshape(X_test.shape[0], 784).astype('float64') / 255"
   ]
  },
  {
   "cell_type": "code",
   "execution_count": 42,
   "metadata": {},
   "outputs": [],
   "source": [
    "y_train = to_categorical(y_class_train, 10)\n",
    "y_test = to_categorical(y_class_test, 10)"
   ]
  },
  {
   "cell_type": "code",
   "execution_count": 43,
   "metadata": {},
   "outputs": [
    {
     "data": {
      "text/plain": [
       "array([0., 0., 0., 0., 0., 1., 0., 0., 0., 0.], dtype=float32)"
      ]
     },
     "execution_count": 43,
     "metadata": {},
     "output_type": "execute_result"
    }
   ],
   "source": [
    "y_train[0]"
   ]
  },
  {
   "cell_type": "code",
   "execution_count": 46,
   "metadata": {},
   "outputs": [
    {
     "name": "stdout",
     "output_type": "stream",
     "text": [
      "\n",
      "Epoch 1: val_loss improved from inf to 0.25819, saving model to ./model\\01_0.2582.hdf5\n",
      "\n",
      "Epoch 2: val_loss improved from 0.25819 to 0.19313, saving model to ./model\\02_0.1931.hdf5\n",
      "\n",
      "Epoch 3: val_loss improved from 0.19313 to 0.15579, saving model to ./model\\03_0.1558.hdf5\n",
      "\n",
      "Epoch 4: val_loss improved from 0.15579 to 0.12838, saving model to ./model\\04_0.1284.hdf5\n",
      "\n",
      "Epoch 5: val_loss improved from 0.12838 to 0.11282, saving model to ./model\\05_0.1128.hdf5\n",
      "\n",
      "Epoch 6: val_loss improved from 0.11282 to 0.10574, saving model to ./model\\06_0.1057.hdf5\n",
      "\n",
      "Epoch 7: val_loss improved from 0.10574 to 0.09404, saving model to ./model\\07_0.0940.hdf5\n",
      "\n",
      "Epoch 8: val_loss improved from 0.09404 to 0.08712, saving model to ./model\\08_0.0871.hdf5\n",
      "\n",
      "Epoch 9: val_loss improved from 0.08712 to 0.08279, saving model to ./model\\09_0.0828.hdf5\n",
      "\n",
      "Epoch 10: val_loss improved from 0.08279 to 0.07664, saving model to ./model\\10_0.0766.hdf5\n",
      "\n",
      "Epoch 11: val_loss improved from 0.07664 to 0.07427, saving model to ./model\\11_0.0743.hdf5\n",
      "\n",
      "Epoch 12: val_loss improved from 0.07427 to 0.07051, saving model to ./model\\12_0.0705.hdf5\n",
      "\n",
      "Epoch 13: val_loss improved from 0.07051 to 0.07022, saving model to ./model\\13_0.0702.hdf5\n",
      "\n",
      "Epoch 14: val_loss improved from 0.07022 to 0.06867, saving model to ./model\\14_0.0687.hdf5\n",
      "\n",
      "Epoch 15: val_loss improved from 0.06867 to 0.06610, saving model to ./model\\15_0.0661.hdf5\n",
      "\n",
      "Epoch 16: val_loss did not improve from 0.06610\n",
      "\n",
      "Epoch 17: val_loss improved from 0.06610 to 0.06393, saving model to ./model\\17_0.0639.hdf5\n",
      "\n",
      "Epoch 18: val_loss did not improve from 0.06393\n",
      "\n",
      "Epoch 19: val_loss improved from 0.06393 to 0.06283, saving model to ./model\\19_0.0628.hdf5\n",
      "\n",
      "Epoch 20: val_loss did not improve from 0.06283\n",
      "\n",
      "Epoch 21: val_loss improved from 0.06283 to 0.06279, saving model to ./model\\21_0.0628.hdf5\n",
      "\n",
      "Epoch 22: val_loss improved from 0.06279 to 0.06248, saving model to ./model\\22_0.0625.hdf5\n",
      "\n",
      "Epoch 23: val_loss did not improve from 0.06248\n",
      "\n",
      "Epoch 24: val_loss did not improve from 0.06248\n",
      "\n",
      "Epoch 25: val_loss did not improve from 0.06248\n",
      "\n",
      "Epoch 26: val_loss did not improve from 0.06248\n",
      "\n",
      "Epoch 27: val_loss did not improve from 0.06248\n",
      "\n",
      "Epoch 28: val_loss did not improve from 0.06248\n",
      "\n",
      "Epoch 29: val_loss did not improve from 0.06248\n",
      "\n",
      "Epoch 30: val_loss did not improve from 0.06248\n",
      "\n",
      "Epoch 31: val_loss did not improve from 0.06248\n",
      "\n",
      "Epoch 32: val_loss did not improve from 0.06248\n",
      "313/313 [==============================] - 1s 2ms/step - loss: 0.0638 - accuracy: 0.9806\n",
      "\n",
      " Test Accuracy : 0.9805999994277954\n"
     ]
    }
   ],
   "source": [
    "import os\n",
    "from tensorflow.keras.callbacks import ModelCheckpoint, EarlyStopping\n",
    "\n",
    "# 자동완성\n",
    "from keras.callbacks import ModelCheckpoint, EarlyStopping\n",
    "\n",
    "# 모델 저장할 폴더 경로 및 파일명\n",
    "model_dir = \"./model/\"\n",
    "if not os.path.exists(model_dir) :\n",
    "    os.mkdir(model_dir)\n",
    "\n",
    "modelpath = \"./model/{epoch:02d}_{val_loss:.4f}.hdf5\"\n",
    "\n",
    "# 체크 포인트 설정, 얼리 스탑 기준 지정\n",
    "checkpointer = ModelCheckpoint(filepath=modelpath, monitor=\"val_loss\", verbose=1,\n",
    "                                save_best_only=True)\n",
    "early_stopping_callback = EarlyStopping(monitor=\"val_loss\", patience=10)\n",
    "\n",
    "cols = 28*28\n",
    "batch_size = 1000\n",
    "model = Sequential()\n",
    "model.add(Dense(units=512, input_shape=(cols, ), activation=\"relu\"))\n",
    "model.add(Dense(units=10, activation=\"softmax\"))\n",
    "\n",
    "model.compile(loss=\"CategoricalCrossentropy\",\n",
    "            optimizer=\"adam\",\n",
    "            metrics=[\"accuracy\"])\n",
    "\n",
    "# validation_data, callbacks 지정\n",
    "history = model.fit(X_train, y_train, validation_data=(X_test, y_test), epochs=100, batch_size=batch_size,\n",
    "                    verbose=0, callbacks=[early_stopping_callback, checkpointer])\n",
    "\n",
    "print(f\"\\n Test Accuracy : {model.evaluate(X_test, y_test)[1]}\")"
   ]
  },
  {
   "cell_type": "code",
   "execution_count": 47,
   "metadata": {},
   "outputs": [
    {
     "data": {
      "image/png": "[encoded data removed]",
      "text/plain": [
       "<Figure size 432x288 with 1 Axes>"
      ]
     },
     "metadata": {
      "needs_background": "light"
     },
     "output_type": "display_data"
    }
   ],
   "source": [
    "import matplotlib.pyplot as plt\n",
    "\n",
    "y_vloss = history.history[\"val_loss\"]\n",
    "\n",
    "# 학습셋의 오차\n",
    "y_loss = history.history[\"loss\"]\n",
    "\n",
    "# 그래프로 표현\n",
    "x_len = np.arange(len(y_loss))\n",
    "plt.plot(x_len, y_vloss, marker=\".\", c=\"red\", label=\"Testset_loss\")\n",
    "plt.plot(x_len, y_loss, marker=\".\", c=\"blue\", label=\"Trainset_loss\")\n",
    "\n",
    "# 그래프에 그리드를 주고 레이블을 표시\n",
    "plt.legend()\n",
    "plt.grid()\n",
    "plt.xlabel(\"epoch\")\n",
    "plt.ylabel(\"loss\")\n",
    "plt.show()"
   ]
  }
 ],
 "metadata": {
  "interpreter": {
   "hash": "8c2dc7f55a4afb133f9671f18548a683b80d7f864af89313bd9839ac682f147f"
  },
  "kernelspec": {
   "display_name": "Python 3.7.9 64-bit",
   "language": "python",
   "name": "python3"
  },
  "language_info": {
   "codemirror_mode": {
    "name": "ipython",
    "version": 3
   },
   "file_extension": ".py",
   "mimetype": "text/x-python",
   "name": "python",
   "nbconvert_exporter": "python",
   "pygments_lexer": "ipython3",
   "version": "3.7.9"
  },
  "orig_nbformat": 4
 },
 "nbformat": 4,
 "nbformat_minor": 2
}
