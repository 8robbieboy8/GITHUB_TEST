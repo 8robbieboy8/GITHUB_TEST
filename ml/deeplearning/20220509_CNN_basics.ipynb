{
 "cells": [
  {
   "cell_type": "markdown",
   "metadata": {},
   "source": [
    "이미지 인식을 위한 CNN\n",
    "===\n",
    "## 1. 데이터 전처리"
   ]
  },
  {
   "cell_type": "code",
   "execution_count": 1,
   "metadata": {},
   "outputs": [],
   "source": [
    "# mnist 자료 로드\n",
    "import tensorflow as tf\n",
    "from tensorflow.keras.utils import to_categorical\n",
    "from tensorflow.keras.models import Sequential\n",
    "from tensorflow.keras.layers import Dense\n",
    "from tensorflow.keras.datasets.mnist import load_data\n",
    "\n",
    "# 자동완성용 라이브러리 로드\n",
    "from keras.datasets.mnist import load_data\n",
    "from keras.models import Sequential\n",
    "from keras.layers import Dense\n",
    "\n",
    "(X_train, y_class_train), (X_test, y_class_test) = load_data()"
   ]
  },
  {
   "cell_type": "code",
   "execution_count": 2,
   "metadata": {},
   "outputs": [
    {
     "data": {
      "image/png": "[encoded data removed]",
      "text/plain": [
       "<Figure size 432x288 with 1 Axes>"
      ]
     },
     "metadata": {
      "needs_background": "light"
     },
     "output_type": "display_data"
    }
   ],
   "source": [
    "import matplotlib.pyplot as plt\n",
    "import numpy as np\n",
    "\n",
    "first_image = X_train[0]\n",
    "first_image = np.array(first_image, dtype=float)\n",
    "pixels = first_image.reshape((28, 28))\n",
    "plt.imshow(pixels, cmap=\"gray\")\n",
    "plt.show()"
   ]
  },
  {
   "cell_type": "code",
   "execution_count": 3,
   "metadata": {},
   "outputs": [],
   "source": [
    "X_train = X_train.reshape(X_train.shape[0], 784)\n",
    "X_train = X_train.astype(\"float64\")\n",
    "X_train = X_train / 255"
   ]
  },
  {
   "cell_type": "code",
   "execution_count": 4,
   "metadata": {},
   "outputs": [],
   "source": [
    "X_test = X_test.reshape(X_test.shape[0], 784).astype('float64') / 255"
   ]
  },
  {
   "cell_type": "code",
   "execution_count": 5,
   "metadata": {},
   "outputs": [],
   "source": [
    "y_train = to_categorical(y_class_train, 10)\n",
    "y_test = to_categorical(y_class_test, 10)"
   ]
  },
  {
   "cell_type": "code",
   "execution_count": 6,
   "metadata": {},
   "outputs": [
    {
     "data": {
      "text/plain": [
       "array([0., 0., 0., 0., 0., 1., 0., 0., 0., 0.], dtype=float32)"
      ]
     },
     "execution_count": 6,
     "metadata": {},
     "output_type": "execute_result"
    }
   ],
   "source": [
    "y_train[0]"
   ]
  },
  {
   "cell_type": "code",
   "execution_count": 7,
   "metadata": {},
   "outputs": [
    {
     "name": "stdout",
     "output_type": "stream",
     "text": [
      "\n",
      "Epoch 1: val_loss improved from inf to 0.26208, saving model to ./model\\01_0.2621.hdf5\n",
      "\n",
      "Epoch 2: val_loss improved from 0.26208 to 0.19486, saving model to ./model\\02_0.1949.hdf5\n",
      "\n",
      "Epoch 3: val_loss improved from 0.19486 to 0.15824, saving model to ./model\\03_0.1582.hdf5\n",
      "\n",
      "Epoch 4: val_loss improved from 0.15824 to 0.12844, saving model to ./model\\04_0.1284.hdf5\n",
      "\n",
      "Epoch 5: val_loss improved from 0.12844 to 0.11415, saving model to ./model\\05_0.1141.hdf5\n",
      "\n",
      "Epoch 6: val_loss improved from 0.11415 to 0.09930, saving model to ./model\\06_0.0993.hdf5\n",
      "\n",
      "Epoch 7: val_loss improved from 0.09930 to 0.09032, saving model to ./model\\07_0.0903.hdf5\n",
      "\n",
      "Epoch 8: val_loss improved from 0.09032 to 0.08629, saving model to ./model\\08_0.0863.hdf5\n",
      "\n",
      "Epoch 9: val_loss improved from 0.08629 to 0.08293, saving model to ./model\\09_0.0829.hdf5\n",
      "\n",
      "Epoch 10: val_loss improved from 0.08293 to 0.07622, saving model to ./model\\10_0.0762.hdf5\n",
      "\n",
      "Epoch 11: val_loss improved from 0.07622 to 0.07484, saving model to ./model\\11_0.0748.hdf5\n",
      "\n",
      "Epoch 12: val_loss improved from 0.07484 to 0.07103, saving model to ./model\\12_0.0710.hdf5\n",
      "\n",
      "Epoch 13: val_loss improved from 0.07103 to 0.06660, saving model to ./model\\13_0.0666.hdf5\n",
      "\n",
      "Epoch 14: val_loss did not improve from 0.06660\n",
      "\n",
      "Epoch 15: val_loss improved from 0.06660 to 0.06519, saving model to ./model\\15_0.0652.hdf5\n",
      "\n",
      "Epoch 16: val_loss improved from 0.06519 to 0.06310, saving model to ./model\\16_0.0631.hdf5\n",
      "\n",
      "Epoch 17: val_loss did not improve from 0.06310\n",
      "\n",
      "Epoch 18: val_loss did not improve from 0.06310\n",
      "\n",
      "Epoch 19: val_loss improved from 0.06310 to 0.06053, saving model to ./model\\19_0.0605.hdf5\n",
      "\n",
      "Epoch 20: val_loss improved from 0.06053 to 0.06052, saving model to ./model\\20_0.0605.hdf5\n",
      "\n",
      "Epoch 21: val_loss did not improve from 0.06052\n",
      "\n",
      "Epoch 22: val_loss improved from 0.06052 to 0.06010, saving model to ./model\\22_0.0601.hdf5\n",
      "\n",
      "Epoch 23: val_loss did not improve from 0.06010\n",
      "\n",
      "Epoch 24: val_loss did not improve from 0.06010\n",
      "\n",
      "Epoch 25: val_loss did not improve from 0.06010\n",
      "\n",
      "Epoch 26: val_loss did not improve from 0.06010\n",
      "\n",
      "Epoch 27: val_loss did not improve from 0.06010\n",
      "\n",
      "Epoch 28: val_loss did not improve from 0.06010\n",
      "\n",
      "Epoch 29: val_loss did not improve from 0.06010\n",
      "\n",
      "Epoch 30: val_loss improved from 0.06010 to 0.06008, saving model to ./model\\30_0.0601.hdf5\n",
      "\n",
      "Epoch 31: val_loss did not improve from 0.06008\n",
      "\n",
      "Epoch 32: val_loss did not improve from 0.06008\n",
      "\n",
      "Epoch 33: val_loss did not improve from 0.06008\n",
      "\n",
      "Epoch 34: val_loss did not improve from 0.06008\n",
      "\n",
      "Epoch 35: val_loss did not improve from 0.06008\n",
      "\n",
      "Epoch 36: val_loss did not improve from 0.06008\n",
      "\n",
      "Epoch 37: val_loss did not improve from 0.06008\n",
      "\n",
      "Epoch 38: val_loss did not improve from 0.06008\n",
      "\n",
      "Epoch 39: val_loss did not improve from 0.06008\n",
      "\n",
      "Epoch 40: val_loss did not improve from 0.06008\n",
      "313/313 [==============================] - 4s 9ms/step - loss: 0.0628 - accuracy: 0.9806\n",
      "\n",
      " Test Accuracy : 0.9805999994277954\n"
     ]
    }
   ],
   "source": [
    "import os\n",
    "from tensorflow.keras.callbacks import ModelCheckpoint, EarlyStopping\n",
    "\n",
    "# 자동완성\n",
    "from keras.callbacks import ModelCheckpoint, EarlyStopping\n",
    "\n",
    "# 모델 저장할 폴더 경로 및 파일명\n",
    "model_dir = \"./model/\"\n",
    "if not os.path.exists(model_dir) :\n",
    "    os.mkdir(model_dir)\n",
    "\n",
    "modelpath = \"./model/{epoch:02d}_{val_loss:.4f}.hdf5\"\n",
    "\n",
    "# 체크 포인트 설정, 얼리 스탑 기준 지정\n",
    "checkpointer = ModelCheckpoint(filepath=modelpath, monitor=\"val_loss\", verbose=1,\n",
    "                                save_best_only=True)\n",
    "early_stopping_callback = EarlyStopping(monitor=\"val_loss\", patience=10)\n",
    "\n",
    "cols = 28*28\n",
    "batch_size = 1000\n",
    "model = Sequential()\n",
    "model.add(Dense(units=512, input_shape=(cols, ), activation=\"relu\"))\n",
    "model.add(Dense(units=10, activation=\"softmax\"))\n",
    "\n",
    "model.compile(loss=\"CategoricalCrossentropy\",\n",
    "            optimizer=\"adam\",\n",
    "            metrics=[\"accuracy\"])\n",
    "\n",
    "# validation_data, callbacks 지정\n",
    "history = model.fit(X_train, y_train, validation_data=(X_test, y_test), epochs=100, batch_size=batch_size,\n",
    "                    verbose=0, callbacks=[early_stopping_callback, checkpointer])\n",
    "\n",
    "print(f\"\\n Test Accuracy : {model.evaluate(X_test, y_test)[1]}\")"
   ]
  },
  {
   "cell_type": "code",
   "execution_count": 12,
   "metadata": {},
   "outputs": [
    {
     "data": {
      "image/png": "[encoded data removed]",
      "text/plain": [
       "<Figure size 432x288 with 1 Axes>"
      ]
     },
     "metadata": {
      "needs_background": "light"
     },
     "output_type": "display_data"
    }
   ],
   "source": [
    "import matplotlib.pyplot as plt\n",
    "\n",
    "y_vloss = history.history[\"val_loss\"]\n",
    "\n",
    "# 학습셋의 오차\n",
    "y_loss = history.history[\"loss\"]\n",
    "\n",
    "# 그래프로 표현\n",
    "x_len = np.arange(len(y_loss))\n",
    "plt.plot(x_len, y_vloss, marker=\".\", c=\"red\", label=\"Testset_loss\")\n",
    "plt.plot(x_len, y_loss, marker=\".\", c=\"blue\", label=\"Trainset_loss\")\n",
    "\n",
    "# plt.title('model accuracy')\n",
    "# plt.ylabel('accuracy', color = 'y')\n",
    "\n",
    "# 그래프에 그리드를 주고 레이블을 표시\n",
    "plt.legend()\n",
    "plt.grid()\n",
    "plt.xlabel(\"epoch\")\n",
    "plt.ylabel(\"loss\")\n",
    "plt.show()"
   ]
  },
  {
   "cell_type": "code",
   "execution_count": null,
   "metadata": {},
   "outputs": [],
   "source": []
  }
 ],
 "metadata": {
  "interpreter": {
   "hash": "978e9143d1bdd9caf6631ebc2aa97632eb8c444f1259097ba53f990d4ee661b7"
  },
  "kernelspec": {
   "display_name": "Python 3.10.2 64-bit",
   "language": "python",
   "name": "python3"
  },
  "language_info": {
   "codemirror_mode": {
    "name": "ipython",
    "version": 3
   },
   "file_extension": ".py",
   "mimetype": "text/x-python",
   "name": "python",
   "nbconvert_exporter": "python",
   "pygments_lexer": "ipython3",
   "version": "3.10.2"
  },
  "orig_nbformat": 4
 },
 "nbformat": 4,
 "nbformat_minor": 2
}
