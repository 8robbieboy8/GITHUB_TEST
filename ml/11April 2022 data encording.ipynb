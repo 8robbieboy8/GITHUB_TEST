{
 "cells": [
  {
   "cell_type": "markdown",
   "metadata": {},
   "source": [
    "#### 1. sklearn.preprocessing.LabelEncoder\n",
    "\n",
    "* class sklearn.preprocessing.LabelEncoder\n",
    "* fit --> transform"
   ]
  },
  {
   "cell_type": "markdown",
   "metadata": {},
   "source": []
  },
  {
   "cell_type": "markdown",
   "metadata": {},
   "source": [
    "레이블 인코딩을 하려고 한다. 상품들을 번호로 인코딩 할때,\n",
    "수단으로 sklearn.preprocessing.LabelEncoder를 불러오고, \n",
    "items 라는 변수를 만들어, 상품들을 리스트에 담는다. \n",
    "\n",
    "인코더(encoder) 변수를 만들어 불러온, 클래스인 LabelEncoder를 담아 준다. \n",
    "이제 encoder에 함수 fit를 써주고, ()안에 items 변수를 넣어 fit을 실행한다. \n",
    "\n",
    "이제 fit를 해줬으니 transform을 해줘야 한다. transform을 해줘야 레이블 인코딩이 완성이 된다. \n",
    "\n",
    "labels 라는 변수를 만들어 encoder.transform 함수 ()안에 items를 넣어 transform해준다. \n",
    "\n",
    "그리고 프린트 레이블을 해주면 이제, 인코딩 변환값을 얻을 수 있다. "
   ]
  },
  {
   "cell_type": "code",
   "execution_count": 10,
   "metadata": {},
   "outputs": [
    {
     "name": "stdout",
     "output_type": "stream",
     "text": [
      "인코딩 변환값 [0 1 4 5 3 3 2 2]\n"
     ]
    }
   ],
   "source": [
    "from sklearn.preprocessing import LabelEncoder\n",
    "\n",
    "items = ['tv', '냉장고', '전자렌지', '컴퓨터', '선풍기', '선풍기', '믹서', '믹서']\n",
    "\n",
    "encoder = LabelEncoder()\n",
    "encoder.fit(items)\n",
    "labels = encoder.transform(items)\n",
    "print('인코딩 변환값', labels)"
   ]
  },
  {
   "cell_type": "code",
   "execution_count": 3,
   "metadata": {},
   "outputs": [
    {
     "name": "stdout",
     "output_type": "stream",
     "text": [
      "인코딩 클래스: ['tv' '냉장고' '믹서' '선풍기' '전자렌지' '컴퓨터']\n"
     ]
    }
   ],
   "source": [
    "print('인코딩 클래스:', encoder.classes_)"
   ]
  },
  {
   "cell_type": "code",
   "execution_count": 4,
   "metadata": {},
   "outputs": [
    {
     "name": "stdout",
     "output_type": "stream",
     "text": [
      "디코딩 원본 값: ['전자렌지' '컴퓨터' '믹서' 'tv' '냉장고' '냉장고' '선풍기' '선풍기']\n"
     ]
    }
   ],
   "source": [
    "print('디코딩 원본 값:', encoder.inverse_transform([4, 5, 2, 0, 1, 1, 3, 3]))"
   ]
  },
  {
   "cell_type": "markdown",
   "metadata": {},
   "source": [
    "## 원핫인코딩\n",
    "\n",
    "상품분류가 먼저 되어 있어야 한다. \n",
    "\n"
   ]
  },
  {
   "cell_type": "markdown",
   "metadata": {},
   "source": [
    "#### sklearn.preprocessing.OneHotEncoder\n",
    "* class sklearn.preprocessing.OneHotEncoder(*, categories='auto', drop=None, sparse=True, dtype=<class 'numpy.float64'>, handle_unknown='error')"
   ]
  },
  {
   "cell_type": "code",
   "execution_count": 14,
   "metadata": {},
   "outputs": [
    {
     "ename": "ValueError",
     "evalue": "y should be a 1d array, got an array of shape (8, 2) instead.",
     "output_type": "error",
     "traceback": [
      "\u001b[1;31m---------------------------------------------------------------------------\u001b[0m",
      "\u001b[1;31mValueError\u001b[0m                                Traceback (most recent call last)",
      "\u001b[1;32mc:\\apps\\ml\\11April 2022 data encording.ipynb Cell 9'\u001b[0m in \u001b[0;36m<module>\u001b[1;34m\u001b[0m\n\u001b[0;32m      <a href='vscode-notebook-cell:/c%3A/apps/ml/11April%202022%20data%20encording.ipynb#ch0000006?line=3'>4</a>\u001b[0m items \u001b[39m=\u001b[39m [(\u001b[39m'\u001b[39m\u001b[39mtv\u001b[39m\u001b[39m'\u001b[39m, \u001b[39m1\u001b[39m), (\u001b[39m'\u001b[39m\u001b[39m냉장고\u001b[39m\u001b[39m'\u001b[39m,\u001b[39m2\u001b[39m), (\u001b[39m'\u001b[39m\u001b[39m전자렌지\u001b[39m\u001b[39m'\u001b[39m, \u001b[39m3\u001b[39m), (\u001b[39m'\u001b[39m\u001b[39m컴퓨터\u001b[39m\u001b[39m'\u001b[39m, \u001b[39m4\u001b[39m), (\u001b[39m'\u001b[39m\u001b[39m선풍기\u001b[39m\u001b[39m'\u001b[39m, \u001b[39m5\u001b[39m), (\u001b[39m'\u001b[39m\u001b[39m선풍기\u001b[39m\u001b[39m'\u001b[39m, \u001b[39m6\u001b[39m), (\u001b[39m'\u001b[39m\u001b[39m믹서\u001b[39m\u001b[39m'\u001b[39m, \u001b[39m7\u001b[39m), (\u001b[39m'\u001b[39m\u001b[39m믹서\u001b[39m\u001b[39m'\u001b[39m, \u001b[39m8\u001b[39m)]\n\u001b[0;32m      <a href='vscode-notebook-cell:/c%3A/apps/ml/11April%202022%20data%20encording.ipynb#ch0000006?line=5'>6</a>\u001b[0m encoder \u001b[39m=\u001b[39m LabelEncoder()\n\u001b[1;32m----> <a href='vscode-notebook-cell:/c%3A/apps/ml/11April%202022%20data%20encording.ipynb#ch0000006?line=6'>7</a>\u001b[0m encoder\u001b[39m.\u001b[39;49mfit(items)\n\u001b[0;32m      <a href='vscode-notebook-cell:/c%3A/apps/ml/11April%202022%20data%20encording.ipynb#ch0000006?line=7'>8</a>\u001b[0m labels \u001b[39m=\u001b[39m encoder\u001b[39m.\u001b[39mtransform(items)\n\u001b[0;32m     <a href='vscode-notebook-cell:/c%3A/apps/ml/11April%202022%20data%20encording.ipynb#ch0000006?line=9'>10</a>\u001b[0m one_df \u001b[39m=\u001b[39m OneHotEncoder()\n",
      "File \u001b[1;32m~\\AppData\\Local\\Programs\\Python\\Python310\\lib\\site-packages\\sklearn\\preprocessing\\_label.py:98\u001b[0m, in \u001b[0;36mLabelEncoder.fit\u001b[1;34m(self, y)\u001b[0m\n\u001b[0;32m     <a href='file:///c%3A/Users/spaceastonomy/AppData/Local/Programs/Python/Python310/lib/site-packages/sklearn/preprocessing/_label.py?line=84'>85</a>\u001b[0m \u001b[39mdef\u001b[39;00m \u001b[39mfit\u001b[39m(\u001b[39mself\u001b[39m, y):\n\u001b[0;32m     <a href='file:///c%3A/Users/spaceastonomy/AppData/Local/Programs/Python/Python310/lib/site-packages/sklearn/preprocessing/_label.py?line=85'>86</a>\u001b[0m     \u001b[39m\"\"\"Fit label encoder.\u001b[39;00m\n\u001b[0;32m     <a href='file:///c%3A/Users/spaceastonomy/AppData/Local/Programs/Python/Python310/lib/site-packages/sklearn/preprocessing/_label.py?line=86'>87</a>\u001b[0m \n\u001b[0;32m     <a href='file:///c%3A/Users/spaceastonomy/AppData/Local/Programs/Python/Python310/lib/site-packages/sklearn/preprocessing/_label.py?line=87'>88</a>\u001b[0m \u001b[39m    Parameters\u001b[39;00m\n\u001b[1;32m   (...)\u001b[0m\n\u001b[0;32m     <a href='file:///c%3A/Users/spaceastonomy/AppData/Local/Programs/Python/Python310/lib/site-packages/sklearn/preprocessing/_label.py?line=95'>96</a>\u001b[0m \u001b[39m        Fitted label encoder.\u001b[39;00m\n\u001b[0;32m     <a href='file:///c%3A/Users/spaceastonomy/AppData/Local/Programs/Python/Python310/lib/site-packages/sklearn/preprocessing/_label.py?line=96'>97</a>\u001b[0m \u001b[39m    \"\"\"\u001b[39;00m\n\u001b[1;32m---> <a href='file:///c%3A/Users/spaceastonomy/AppData/Local/Programs/Python/Python310/lib/site-packages/sklearn/preprocessing/_label.py?line=97'>98</a>\u001b[0m     y \u001b[39m=\u001b[39m column_or_1d(y, warn\u001b[39m=\u001b[39;49m\u001b[39mTrue\u001b[39;49;00m)\n\u001b[0;32m     <a href='file:///c%3A/Users/spaceastonomy/AppData/Local/Programs/Python/Python310/lib/site-packages/sklearn/preprocessing/_label.py?line=98'>99</a>\u001b[0m     \u001b[39mself\u001b[39m\u001b[39m.\u001b[39mclasses_ \u001b[39m=\u001b[39m _unique(y)\n\u001b[0;32m    <a href='file:///c%3A/Users/spaceastonomy/AppData/Local/Programs/Python/Python310/lib/site-packages/sklearn/preprocessing/_label.py?line=99'>100</a>\u001b[0m     \u001b[39mreturn\u001b[39;00m \u001b[39mself\u001b[39m\n",
      "File \u001b[1;32m~\\AppData\\Local\\Programs\\Python\\Python310\\lib\\site-packages\\sklearn\\utils\\validation.py:1038\u001b[0m, in \u001b[0;36mcolumn_or_1d\u001b[1;34m(y, warn)\u001b[0m\n\u001b[0;32m   <a href='file:///c%3A/Users/spaceastonomy/AppData/Local/Programs/Python/Python310/lib/site-packages/sklearn/utils/validation.py?line=1028'>1029</a>\u001b[0m         warnings\u001b[39m.\u001b[39mwarn(\n\u001b[0;32m   <a href='file:///c%3A/Users/spaceastonomy/AppData/Local/Programs/Python/Python310/lib/site-packages/sklearn/utils/validation.py?line=1029'>1030</a>\u001b[0m             \u001b[39m\"\u001b[39m\u001b[39mA column-vector y was passed when a 1d array was\u001b[39m\u001b[39m\"\u001b[39m\n\u001b[0;32m   <a href='file:///c%3A/Users/spaceastonomy/AppData/Local/Programs/Python/Python310/lib/site-packages/sklearn/utils/validation.py?line=1030'>1031</a>\u001b[0m             \u001b[39m\"\u001b[39m\u001b[39m expected. Please change the shape of y to \u001b[39m\u001b[39m\"\u001b[39m\n\u001b[1;32m   (...)\u001b[0m\n\u001b[0;32m   <a href='file:///c%3A/Users/spaceastonomy/AppData/Local/Programs/Python/Python310/lib/site-packages/sklearn/utils/validation.py?line=1033'>1034</a>\u001b[0m             stacklevel\u001b[39m=\u001b[39m\u001b[39m2\u001b[39m,\n\u001b[0;32m   <a href='file:///c%3A/Users/spaceastonomy/AppData/Local/Programs/Python/Python310/lib/site-packages/sklearn/utils/validation.py?line=1034'>1035</a>\u001b[0m         )\n\u001b[0;32m   <a href='file:///c%3A/Users/spaceastonomy/AppData/Local/Programs/Python/Python310/lib/site-packages/sklearn/utils/validation.py?line=1035'>1036</a>\u001b[0m     \u001b[39mreturn\u001b[39;00m np\u001b[39m.\u001b[39mravel(y)\n\u001b[1;32m-> <a href='file:///c%3A/Users/spaceastonomy/AppData/Local/Programs/Python/Python310/lib/site-packages/sklearn/utils/validation.py?line=1037'>1038</a>\u001b[0m \u001b[39mraise\u001b[39;00m \u001b[39mValueError\u001b[39;00m(\n\u001b[0;32m   <a href='file:///c%3A/Users/spaceastonomy/AppData/Local/Programs/Python/Python310/lib/site-packages/sklearn/utils/validation.py?line=1038'>1039</a>\u001b[0m     \u001b[39m\"\u001b[39m\u001b[39my should be a 1d array, got an array of shape \u001b[39m\u001b[39m{}\u001b[39;00m\u001b[39m instead.\u001b[39m\u001b[39m\"\u001b[39m\u001b[39m.\u001b[39mformat(shape)\n\u001b[0;32m   <a href='file:///c%3A/Users/spaceastonomy/AppData/Local/Programs/Python/Python310/lib/site-packages/sklearn/utils/validation.py?line=1039'>1040</a>\u001b[0m )\n",
      "\u001b[1;31mValueError\u001b[0m: y should be a 1d array, got an array of shape (8, 2) instead."
     ]
    }
   ],
   "source": [
    "from sklearn.preprocessing import OneHotEncoder\n",
    "import numpy as np\n",
    "\n",
    "items = [('tv', 1), ('냉장고',2), ('전자렌지', 3), ('컴퓨터', 4), ('선풍기', 5), ('선풍기', 6), ('믹서', 7), ('믹서', 8)]\n",
    "\n",
    "encoder = LabelEncoder()\n",
    "encoder.fit(items)\n",
    "labels = encoder.transform(items)\n",
    "\n",
    "one_df = OneHotEncoder()\n",
    "one_df.fit(labels)\n",
    "one_df = one_df.transform(labels)\n",
    "print('원핫 인코딩 데이터')\n",
    "print(one_df.toarray()) \n",
    "print('원핫인코딩 데이터 차원')\n",
    "print(one_df.shape)"
   ]
  },
  {
   "cell_type": "code",
   "execution_count": 20,
   "metadata": {},
   "outputs": [],
   "source": [
    "from sklearn.preprocessing import LabelEncoder\n",
    "import numpy as np\n",
    "\n",
    "items = ['tv', '냉장고', '전자렌지', '컴퓨터', '선풍기', '선풍기', '믹서', '믹서']\n",
    "\n",
    "encoder = LabelEncoder()\n",
    "encoder.fit(items)\n",
    "labels = encoder.transform(items)\n",
    "bels = labels.reshape(-1, 1)\n",
    "\n",
    "one_df = OneHotEncoder()\n",
    "one_df.fit(bels)\n",
    "one_df.transform(bels).toarray()\n",
    "\n",
    "\n"
   ]
  },
  {
   "cell_type": "code",
   "execution_count": 22,
   "metadata": {},
   "outputs": [
    {
     "ename": "SyntaxError",
     "evalue": "invalid syntax. Perhaps you forgot a comma? (1133871116.py, line 3)",
     "output_type": "error",
     "traceback": [
      "\u001b[1;36m  Input \u001b[1;32mIn [22]\u001b[1;36m\u001b[0m\n\u001b[1;33m    df = pd.DataFrame({'items : ['tv', '냉장고', '전자렌지', '컴퓨터', '선풍기', '선풍기', '믹서', '믹서']'})\u001b[0m\n\u001b[1;37m                       ^\u001b[0m\n\u001b[1;31mSyntaxError\u001b[0m\u001b[1;31m:\u001b[0m invalid syntax. Perhaps you forgot a comma?\n"
     ]
    }
   ],
   "source": [
    "import pandas as pd\n",
    "\n",
    "df = pd.DataFrame({'items : ['tv', '냉장고', '전자렌지', '컴퓨터', '선풍기', '선풍기', '믹서', '믹서']'})\n",
    "pd.get_dummies(df)"
   ]
  },
  {
   "cell_type": "code",
   "execution_count": null,
   "metadata": {},
   "outputs": [],
   "source": [
    "from sklearn.datasets import load_iris\n",
    "import pandas as pd\n",
    "\n",
    "iris = load_iris()\n",
    "iris_data = iris.data\n",
    "iris_df = pd.DataFrame(data = iris_data, columns = )"
   ]
  }
 ],
 "metadata": {
  "interpreter": {
   "hash": "ddbee94c2ce3b61c3b1774ea67d55f2fdae8c29319837f6f09ba2209f9564fc6"
  },
  "kernelspec": {
   "display_name": "Python 3.10.2 64-bit",
   "language": "python",
   "name": "python3"
  },
  "language_info": {
   "codemirror_mode": {
    "name": "ipython",
    "version": 3
   },
   "file_extension": ".py",
   "mimetype": "text/x-python",
   "name": "python",
   "nbconvert_exporter": "python",
   "pygments_lexer": "ipython3",
   "version": "3.10.2"
  },
  "orig_nbformat": 4
 },
 "nbformat": 4,
 "nbformat_minor": 2
}
