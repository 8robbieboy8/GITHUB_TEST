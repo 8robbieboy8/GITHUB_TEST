{
 "cells": [
  {
   "cell_type": "markdown",
   "id": "4fee5e97",
   "metadata": {},
   "source": [
    "#### sklearn.preprocessing.LabelEncoder\n",
    "* fit -> transform"
   ]
  },
  {
   "cell_type": "code",
   "execution_count": 1,
   "id": "06bffa9b",
   "metadata": {
    "ExecuteTime": {
     "end_time": "2022-04-11T07:11:38.585723Z",
     "start_time": "2022-04-11T07:11:36.834075Z"
    }
   },
   "outputs": [
    {
     "name": "stdout",
     "output_type": "stream",
     "text": [
      "인코딩 변환값: [0 3 4 2 5 2 1 1]\n",
      "인코딩 클래스: ['냉장고' '믹서' '선풍기' '전자레인지' '컴퓨터' '티비']\n",
      "인코딩 변환값: ['컴퓨터' '티비' '선풍기' '냉장고' '믹서' '믹서' '전자레인지' '전자레인지']\n"
     ]
    }
   ],
   "source": [
    "from sklearn.preprocessing import LabelEncoder\n",
    "items = ['냉장고','전자레인지','컴퓨터','선풍기','티비','선풍기','믹서','믹서']\n",
    "encoder = LabelEncoder()\n",
    "encoder.fit(items)\n",
    "labels = encoder.transform(items)\n",
    "print('인코딩 변환값:', labels)\n",
    "print('인코딩 클래스:', encoder.classes_) #encodr.classes_ : 디코딩 하는 역할\n",
    "print('인코딩 변환값:', encoder.inverse_transform([4,5,2,0,1,1,3,3]))"
   ]
  },
  {
   "cell_type": "markdown",
   "id": "c9acc24f",
   "metadata": {},
   "source": [
    "#### sklearn.preprocessing.OneHotEncoder\n",
    "* class sklearn.preprocessing.OneHotEncoder(*, categories='auto', drop=None, sparse=True, dtype=<class 'numpy.float64'>, handle_unknown='error')"
   ]
  },
  {
   "cell_type": "code",
   "execution_count": 9,
   "id": "3cb31349",
   "metadata": {
    "ExecuteTime": {
     "end_time": "2022-04-11T07:28:38.704931Z",
     "start_time": "2022-04-11T07:28:38.677009Z"
    }
   },
   "outputs": [
    {
     "data": {
      "text/plain": [
       "array([[1., 0., 0., 0., 0., 0., 1., 0., 0., 0., 0., 0.],\n",
       "       [0., 0., 0., 1., 0., 0., 0., 1., 0., 0., 0., 0.],\n",
       "       [0., 0., 0., 0., 1., 0., 0., 0., 1., 0., 0., 0.],\n",
       "       [0., 0., 1., 0., 0., 0., 0., 0., 0., 1., 0., 0.],\n",
       "       [0., 0., 0., 0., 0., 1., 0., 0., 0., 0., 1., 0.],\n",
       "       [0., 0., 1., 0., 0., 0., 0., 0., 0., 1., 0., 0.],\n",
       "       [0., 1., 0., 0., 0., 0., 0., 0., 0., 0., 0., 1.],\n",
       "       [0., 1., 0., 0., 0., 0., 0., 0., 0., 0., 0., 1.]])"
      ]
     },
     "execution_count": 9,
     "metadata": {},
     "output_type": "execute_result"
    }
   ],
   "source": [
    "from sklearn.preprocessing import OneHotEncoder\n",
    "import numpy as np\n",
    "\n",
    "items = [('냉장고', 1),('전자레인지',2), ('컴퓨터', 3) , ('선풍기',4), ('티비',5), ('선풍기',4), ('믹서',6),('믹서',6)]\n",
    "oh_encoder = OneHotEncoder()\n",
    "oh_encoder.fit(items)\n",
    "oh_encoder.transform(items).toarray()"
   ]
  },
  {
   "cell_type": "code",
   "execution_count": 21,
   "id": "98c8ae62",
   "metadata": {
    "ExecuteTime": {
     "end_time": "2022-04-11T07:38:20.291787Z",
     "start_time": "2022-04-11T07:38:20.269846Z"
    }
   },
   "outputs": [
    {
     "data": {
      "text/plain": [
       "array([[1., 0., 0., 0., 0., 0.],\n",
       "       [0., 0., 0., 1., 0., 0.],\n",
       "       [0., 0., 0., 0., 1., 0.],\n",
       "       [0., 0., 1., 0., 0., 0.],\n",
       "       [0., 0., 0., 0., 0., 1.],\n",
       "       [0., 0., 1., 0., 0., 0.],\n",
       "       [0., 1., 0., 0., 0., 0.],\n",
       "       [0., 1., 0., 0., 0., 0.]])"
      ]
     },
     "execution_count": 21,
     "metadata": {},
     "output_type": "execute_result"
    }
   ],
   "source": [
    "from sklearn.preprocessing import OneHotEncoder\n",
    "import numpy as np\n",
    "\n",
    "items = ['냉장고','전자레인지','컴퓨터','선풍기','티비','선풍기','믹서','믹서']\n",
    "encoder = LabelEncoder()\n",
    "encoder.fit(items)\n",
    "labels = encoder.transform(items)\n",
    "\n",
    "bels = labels.reshape(-1,1)\n",
    "labels\n",
    "oh_encoder = OneHotEncoder()\n",
    "oh_encoder.fit(bels)\n",
    "oh_encoder.transform(bels).toarray()\n",
    "# bels"
   ]
  },
  {
   "cell_type": "code",
   "execution_count": null,
   "id": "a3983abb",
   "metadata": {},
   "outputs": [],
   "source": []
  }
 ],
 "metadata": {
  "hide_input": false,
  "kernelspec": {
   "display_name": "Python 3 (ipykernel)",
   "language": "python",
   "name": "python3"
  },
  "language_info": {
   "codemirror_mode": {
    "name": "ipython",
    "version": 3
   },
   "file_extension": ".py",
   "mimetype": "text/x-python",
   "name": "python",
   "nbconvert_exporter": "python",
   "pygments_lexer": "ipython3",
   "version": "3.9.7"
  },
  "toc": {
   "base_numbering": 1,
   "nav_menu": {},
   "number_sections": true,
   "sideBar": true,
   "skip_h1_title": false,
   "title_cell": "Table of Contents",
   "title_sidebar": "Contents",
   "toc_cell": false,
   "toc_position": {},
   "toc_section_display": true,
   "toc_window_display": false
  },
  "varInspector": {
   "cols": {
    "lenName": 16,
    "lenType": 16,
    "lenVar": 40
   },
   "kernels_config": {
    "python": {
     "delete_cmd_postfix": "",
     "delete_cmd_prefix": "del ",
     "library": "var_list.py",
     "varRefreshCmd": "print(var_dic_list())"
    },
    "r": {
     "delete_cmd_postfix": ") ",
     "delete_cmd_prefix": "rm(",
     "library": "var_list.r",
     "varRefreshCmd": "cat(var_dic_list()) "
    }
   },
   "types_to_exclude": [
    "module",
    "function",
    "builtin_function_or_method",
    "instance",
    "_Feature"
   ],
   "window_display": false
  }
 },
 "nbformat": 4,
 "nbformat_minor": 5
}
