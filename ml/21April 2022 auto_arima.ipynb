{
 "cells": [
  {
   "cell_type": "code",
   "execution_count": 2,
   "metadata": {},
   "outputs": [],
   "source": [
    "import FinanceDataReader as fdr\n",
    "import pandas as pd\n",
    "import matplotlib.pyplot as plt\n",
    "import numpy as np\n",
    "from pmdarima.arima import ndiffs\n",
    "import pmdarima as pm"
   ]
  },
  {
   "cell_type": "markdown",
   "metadata": {},
   "source": [
    "한국 주식 스톡리스팅으로 불러 오기 fdr.StockListing('KRX')\n",
    "불러온 주식들 중에 특정 주식 코드를 확인하고 싶다면 \n",
    "변수[변수['컬럼명'] == '주가명']['주가코드 컬럼명'] df_krx[df_krx['Name']=='삼성전자']['Symbol']\n",
    "데이터를 불러올때, 데이터리더() 함수를 써주는데, ()안에 \"\"를 넣어주고 뒤에 .join(이전변수.values), '시작 기간', '마지막 기간')\n",
    "이렇게 만들어 준다. \n",
    "훈련데이터를 만들어 줄때, 데이터리더로 불러온 값(변수)를 사용해서 변수['컬럼명'][ : int(0.7*len(변수명))] 이렇게 설정해 주면\n",
    "훈련데이터를 70% 설정해주는 코드가 된다.\n",
    "test 데이터(실제값)을 설정해 줄때는  변수['컬럼명'][int(0.7*len(변수)) : ] 이렇게 해주면 30%로 설정해 주는 것이다. \n",
    "\n",
    "차분이란 : 시계열의 수준에서 나타내는 변화를 제거하여 시계열의 평균 변화를 일정하게 만드는 것을 돕는다고 합니다. 결과적으로 추세나 계절성이 제거(감소)되는 것\n",
    "\n",
    "차분을 통해 평균변화를 일정하게 해보자.\n"
   ]
  },
  {
   "cell_type": "code",
   "execution_count": 3,
   "metadata": {},
   "outputs": [
    {
     "data": {
      "text/plain": [
       "4019    005930\n",
       "Name: Symbol, dtype: object"
      ]
     },
     "execution_count": 3,
     "metadata": {},
     "output_type": "execute_result"
    }
   ],
   "source": [
    "df_krx = fdr.StockListing('KRX')\n",
    "\n",
    "# symbol = df_krx[df_krx['Name']=='NAVER']['Symbol']\n",
    "symbol = df_krx[df_krx['Name']=='삼성전자']['Symbol']\n",
    "# symbol = df_krx[df_krx['Name']=='카카오']['Symbol']\n",
    "# symbol = df_krx[df_krx['Name']=='이마트']['Symbol']\n",
    "# symbol = df_krx[df_krx['Name']=='HMM']['Symbol']\n",
    "symbol\n",
    "# fdr.DataReader(''.join(symbol.values))\n"
   ]
  },
  {
   "cell_type": "code",
   "execution_count": 4,
   "metadata": {},
   "outputs": [],
   "source": [
    "sam = fdr.DataReader(''.join(symbol.values), '2021-01-01','2022-04-10')\n",
    "# sam"
   ]
  },
  {
   "cell_type": "code",
   "execution_count": 5,
   "metadata": {},
   "outputs": [],
   "source": [
    "sam = fdr.DataReader(''.join(symbol.values), '2021-01-01','2022-04-20')\n",
    "y_train = sam['Close'][ : int(0.7*len(sam))]\n",
    "y_test = sam['Close'][int(0.7*len(sam)) : ]\n",
    "# y_train.plot()\n",
    "# y_test.plot()"
   ]
  },
  {
   "cell_type": "code",
   "execution_count": 6,
   "metadata": {},
   "outputs": [
    {
     "name": "stdout",
     "output_type": "stream",
     "text": [
      "적정 차분 차수는 1\n"
     ]
    }
   ],
   "source": [
    "#차분 차수 찾기(찾는법)\n",
    "\n",
    "kpss_diffs = ndiffs(y_train, alpha=0.05, test='kpss', max_d= 6)\n",
    "adf_diffs = ndiffs(y_train, alpha=0.05, test='adf', max_d= 6)\n",
    "n_diffs = max(kpss_diffs, adf_diffs)\n",
    "\n",
    "print(f'적정 차분 차수는 {n_diffs}')"
   ]
  },
  {
   "cell_type": "code",
   "execution_count": 7,
   "metadata": {},
   "outputs": [
    {
     "name": "stdout",
     "output_type": "stream",
     "text": [
      "Performing stepwise search to minimize aic\n",
      " ARIMA(0,1,0)(0,0,0)[0] intercept   : AIC=3759.806, Time=0.09 sec\n",
      " ARIMA(1,1,0)(0,0,0)[0] intercept   : AIC=3760.641, Time=0.10 sec\n",
      " ARIMA(0,1,1)(0,0,0)[0] intercept   : AIC=3762.687, Time=0.06 sec\n",
      " ARIMA(0,1,0)(0,0,0)[0]             : AIC=3758.233, Time=0.02 sec\n",
      " ARIMA(1,1,1)(0,0,0)[0] intercept   : AIC=3763.686, Time=0.27 sec\n",
      "\n",
      "Best model:  ARIMA(0,1,0)(0,0,0)[0]          \n",
      "Total fit time: 0.551 seconds\n"
     ]
    }
   ],
   "source": [
    "model = pm.auto_arima(y = y_train,\n",
    "              d = 1,\n",
    "              start_p=0,\n",
    "              max_P=3,\n",
    "              start_q=0,\n",
    "              max_q=3,\n",
    "              seasonal= False,\n",
    "              stepwise= True,\n",
    "              trace= True\n",
    "              )"
   ]
  },
  {
   "cell_type": "code",
   "execution_count": 8,
   "metadata": {},
   "outputs": [
    {
     "data": {
      "text/plain": [
       "ARIMA(order=(0, 1, 0), scoring_args={}, suppress_warnings=True,\n",
       "      with_intercept=False)"
      ]
     },
     "execution_count": 8,
     "metadata": {},
     "output_type": "execute_result"
    }
   ],
   "source": [
    "model.fit(y_train)"
   ]
  },
  {
   "cell_type": "code",
   "execution_count": 9,
   "metadata": {},
   "outputs": [
    {
     "data": {
      "text/html": [
       "<div>\n",
       "<style scoped>\n",
       "    .dataframe tbody tr th:only-of-type {\n",
       "        vertical-align: middle;\n",
       "    }\n",
       "\n",
       "    .dataframe tbody tr th {\n",
       "        vertical-align: top;\n",
       "    }\n",
       "\n",
       "    .dataframe thead th {\n",
       "        text-align: right;\n",
       "    }\n",
       "</style>\n",
       "<table border=\"1\" class=\"dataframe\">\n",
       "  <thead>\n",
       "    <tr style=\"text-align: right;\">\n",
       "      <th></th>\n",
       "      <th>Prediction</th>\n",
       "    </tr>\n",
       "    <tr>\n",
       "      <th>Date</th>\n",
       "      <th></th>\n",
       "    </tr>\n",
       "  </thead>\n",
       "  <tbody>\n",
       "    <tr>\n",
       "      <th>2021-11-29</th>\n",
       "      <td>72300.0</td>\n",
       "    </tr>\n",
       "    <tr>\n",
       "      <th>2021-11-30</th>\n",
       "      <td>72300.0</td>\n",
       "    </tr>\n",
       "    <tr>\n",
       "      <th>2021-12-01</th>\n",
       "      <td>72300.0</td>\n",
       "    </tr>\n",
       "    <tr>\n",
       "      <th>2021-12-02</th>\n",
       "      <td>72300.0</td>\n",
       "    </tr>\n",
       "    <tr>\n",
       "      <th>2021-12-03</th>\n",
       "      <td>72300.0</td>\n",
       "    </tr>\n",
       "    <tr>\n",
       "      <th>...</th>\n",
       "      <td>...</td>\n",
       "    </tr>\n",
       "    <tr>\n",
       "      <th>2022-04-14</th>\n",
       "      <td>72300.0</td>\n",
       "    </tr>\n",
       "    <tr>\n",
       "      <th>2022-04-15</th>\n",
       "      <td>72300.0</td>\n",
       "    </tr>\n",
       "    <tr>\n",
       "      <th>2022-04-18</th>\n",
       "      <td>72300.0</td>\n",
       "    </tr>\n",
       "    <tr>\n",
       "      <th>2022-04-19</th>\n",
       "      <td>72300.0</td>\n",
       "    </tr>\n",
       "    <tr>\n",
       "      <th>2022-04-20</th>\n",
       "      <td>72300.0</td>\n",
       "    </tr>\n",
       "  </tbody>\n",
       "</table>\n",
       "<p>97 rows × 1 columns</p>\n",
       "</div>"
      ],
      "text/plain": [
       "            Prediction\n",
       "Date                  \n",
       "2021-11-29     72300.0\n",
       "2021-11-30     72300.0\n",
       "2021-12-01     72300.0\n",
       "2021-12-02     72300.0\n",
       "2021-12-03     72300.0\n",
       "...                ...\n",
       "2022-04-14     72300.0\n",
       "2022-04-15     72300.0\n",
       "2022-04-18     72300.0\n",
       "2022-04-19     72300.0\n",
       "2022-04-20     72300.0\n",
       "\n",
       "[97 rows x 1 columns]"
      ]
     },
     "execution_count": 9,
     "metadata": {},
     "output_type": "execute_result"
    }
   ],
   "source": [
    "y_predict = model.predict(n_periods=len(y_test))\n",
    "predict = pd.DataFrame(y_predict, index=y_test.index, columns=['Prediction'])\n",
    "predict\n",
    "\n"
   ]
  },
  {
   "cell_type": "code",
   "execution_count": 9,
   "metadata": {},
   "outputs": [
    {
     "ename": "ValueError",
     "evalue": "1 columns passed, passed data had 97 columns",
     "output_type": "error",
     "traceback": [
      "\u001b[1;31m---------------------------------------------------------------------------\u001b[0m",
      "\u001b[1;31mAssertionError\u001b[0m                            Traceback (most recent call last)",
      "File \u001b[1;32mC:\\python38-64\\lib\\site-packages\\pandas\\core\\internals\\construction.py:982\u001b[0m, in \u001b[0;36m_finalize_columns_and_data\u001b[1;34m(content, columns, dtype)\u001b[0m\n\u001b[0;32m    <a href='file:///c%3A/python38-64/lib/site-packages/pandas/core/internals/construction.py?line=980'>981</a>\u001b[0m \u001b[39mtry\u001b[39;00m:\n\u001b[1;32m--> <a href='file:///c%3A/python38-64/lib/site-packages/pandas/core/internals/construction.py?line=981'>982</a>\u001b[0m     columns \u001b[39m=\u001b[39m _validate_or_indexify_columns(contents, columns)\n\u001b[0;32m    <a href='file:///c%3A/python38-64/lib/site-packages/pandas/core/internals/construction.py?line=982'>983</a>\u001b[0m \u001b[39mexcept\u001b[39;00m \u001b[39mAssertionError\u001b[39;00m \u001b[39mas\u001b[39;00m err:\n\u001b[0;32m    <a href='file:///c%3A/python38-64/lib/site-packages/pandas/core/internals/construction.py?line=983'>984</a>\u001b[0m     \u001b[39m# GH#26429 do not raise user-facing AssertionError\u001b[39;00m\n",
      "File \u001b[1;32mC:\\python38-64\\lib\\site-packages\\pandas\\core\\internals\\construction.py:1030\u001b[0m, in \u001b[0;36m_validate_or_indexify_columns\u001b[1;34m(content, columns)\u001b[0m\n\u001b[0;32m   <a href='file:///c%3A/python38-64/lib/site-packages/pandas/core/internals/construction.py?line=1027'>1028</a>\u001b[0m \u001b[39mif\u001b[39;00m \u001b[39mnot\u001b[39;00m is_mi_list \u001b[39mand\u001b[39;00m \u001b[39mlen\u001b[39m(columns) \u001b[39m!=\u001b[39m \u001b[39mlen\u001b[39m(content):  \u001b[39m# pragma: no cover\u001b[39;00m\n\u001b[0;32m   <a href='file:///c%3A/python38-64/lib/site-packages/pandas/core/internals/construction.py?line=1028'>1029</a>\u001b[0m     \u001b[39m# caller's responsibility to check for this...\u001b[39;00m\n\u001b[1;32m-> <a href='file:///c%3A/python38-64/lib/site-packages/pandas/core/internals/construction.py?line=1029'>1030</a>\u001b[0m     \u001b[39mraise\u001b[39;00m \u001b[39mAssertionError\u001b[39;00m(\n\u001b[0;32m   <a href='file:///c%3A/python38-64/lib/site-packages/pandas/core/internals/construction.py?line=1030'>1031</a>\u001b[0m         \u001b[39mf\u001b[39m\u001b[39m\"\u001b[39m\u001b[39m{\u001b[39;00m\u001b[39mlen\u001b[39m(columns)\u001b[39m}\u001b[39;00m\u001b[39m columns passed, passed data had \u001b[39m\u001b[39m\"\u001b[39m\n\u001b[0;32m   <a href='file:///c%3A/python38-64/lib/site-packages/pandas/core/internals/construction.py?line=1031'>1032</a>\u001b[0m         \u001b[39mf\u001b[39m\u001b[39m\"\u001b[39m\u001b[39m{\u001b[39;00m\u001b[39mlen\u001b[39m(content)\u001b[39m}\u001b[39;00m\u001b[39m columns\u001b[39m\u001b[39m\"\u001b[39m\n\u001b[0;32m   <a href='file:///c%3A/python38-64/lib/site-packages/pandas/core/internals/construction.py?line=1032'>1033</a>\u001b[0m     )\n\u001b[0;32m   <a href='file:///c%3A/python38-64/lib/site-packages/pandas/core/internals/construction.py?line=1033'>1034</a>\u001b[0m \u001b[39melif\u001b[39;00m is_mi_list:\n\u001b[0;32m   <a href='file:///c%3A/python38-64/lib/site-packages/pandas/core/internals/construction.py?line=1034'>1035</a>\u001b[0m \n\u001b[0;32m   <a href='file:///c%3A/python38-64/lib/site-packages/pandas/core/internals/construction.py?line=1035'>1036</a>\u001b[0m     \u001b[39m# check if nested list column, length of each sub-list should be equal\u001b[39;00m\n",
      "\u001b[1;31mAssertionError\u001b[0m: 1 columns passed, passed data had 97 columns",
      "\nThe above exception was the direct cause of the following exception:\n",
      "\u001b[1;31mValueError\u001b[0m                                Traceback (most recent call last)",
      "\u001b[1;32mc:\\apps\\ml\\21April 2022 auto_arima.ipynb Cell 10'\u001b[0m in \u001b[0;36m<cell line: 2>\u001b[1;34m()\u001b[0m\n\u001b[0;32m      <a href='vscode-notebook-cell:/c%3A/apps/ml/21April%202022%20auto_arima.ipynb#ch0000014?line=0'>1</a>\u001b[0m y_predict \u001b[39m=\u001b[39m model\u001b[39m.\u001b[39mpredict(n_periods\u001b[39m=\u001b[39m\u001b[39mlen\u001b[39m(y_test), return_conf_int\u001b[39m=\u001b[39m\u001b[39mTrue\u001b[39;00m)\n\u001b[1;32m----> <a href='vscode-notebook-cell:/c%3A/apps/ml/21April%202022%20auto_arima.ipynb#ch0000014?line=1'>2</a>\u001b[0m predict \u001b[39m=\u001b[39m pd\u001b[39m.\u001b[39;49mDataFrame(y_predict, index\u001b[39m=\u001b[39;49my_test\u001b[39m.\u001b[39;49mindex, columns\u001b[39m=\u001b[39;49m[\u001b[39m'\u001b[39;49m\u001b[39mPrediction\u001b[39;49m\u001b[39m'\u001b[39;49m])\n\u001b[0;32m      <a href='vscode-notebook-cell:/c%3A/apps/ml/21April%202022%20auto_arima.ipynb#ch0000014?line=2'>3</a>\u001b[0m predict\n",
      "File \u001b[1;32mC:\\python38-64\\lib\\site-packages\\pandas\\core\\frame.py:721\u001b[0m, in \u001b[0;36mDataFrame.__init__\u001b[1;34m(self, data, index, columns, dtype, copy)\u001b[0m\n\u001b[0;32m    <a href='file:///c%3A/python38-64/lib/site-packages/pandas/core/frame.py?line=715'>716</a>\u001b[0m     \u001b[39mif\u001b[39;00m columns \u001b[39mis\u001b[39;00m \u001b[39mnot\u001b[39;00m \u001b[39mNone\u001b[39;00m:\n\u001b[0;32m    <a href='file:///c%3A/python38-64/lib/site-packages/pandas/core/frame.py?line=716'>717</a>\u001b[0m         \u001b[39m# error: Argument 1 to \"ensure_index\" has incompatible type\u001b[39;00m\n\u001b[0;32m    <a href='file:///c%3A/python38-64/lib/site-packages/pandas/core/frame.py?line=717'>718</a>\u001b[0m         \u001b[39m# \"Collection[Any]\"; expected \"Union[Union[Union[ExtensionArray,\u001b[39;00m\n\u001b[0;32m    <a href='file:///c%3A/python38-64/lib/site-packages/pandas/core/frame.py?line=718'>719</a>\u001b[0m         \u001b[39m# ndarray], Index, Series], Sequence[Any]]\"\u001b[39;00m\n\u001b[0;32m    <a href='file:///c%3A/python38-64/lib/site-packages/pandas/core/frame.py?line=719'>720</a>\u001b[0m         columns \u001b[39m=\u001b[39m ensure_index(columns)  \u001b[39m# type: ignore[arg-type]\u001b[39;00m\n\u001b[1;32m--> <a href='file:///c%3A/python38-64/lib/site-packages/pandas/core/frame.py?line=720'>721</a>\u001b[0m     arrays, columns, index \u001b[39m=\u001b[39m nested_data_to_arrays(\n\u001b[0;32m    <a href='file:///c%3A/python38-64/lib/site-packages/pandas/core/frame.py?line=721'>722</a>\u001b[0m         \u001b[39m# error: Argument 3 to \"nested_data_to_arrays\" has incompatible\u001b[39;49;00m\n\u001b[0;32m    <a href='file:///c%3A/python38-64/lib/site-packages/pandas/core/frame.py?line=722'>723</a>\u001b[0m         \u001b[39m# type \"Optional[Collection[Any]]\"; expected \"Optional[Index]\"\u001b[39;49;00m\n\u001b[0;32m    <a href='file:///c%3A/python38-64/lib/site-packages/pandas/core/frame.py?line=723'>724</a>\u001b[0m         data,\n\u001b[0;32m    <a href='file:///c%3A/python38-64/lib/site-packages/pandas/core/frame.py?line=724'>725</a>\u001b[0m         columns,\n\u001b[0;32m    <a href='file:///c%3A/python38-64/lib/site-packages/pandas/core/frame.py?line=725'>726</a>\u001b[0m         index,  \u001b[39m# type: ignore[arg-type]\u001b[39;49;00m\n\u001b[0;32m    <a href='file:///c%3A/python38-64/lib/site-packages/pandas/core/frame.py?line=726'>727</a>\u001b[0m         dtype,\n\u001b[0;32m    <a href='file:///c%3A/python38-64/lib/site-packages/pandas/core/frame.py?line=727'>728</a>\u001b[0m     )\n\u001b[0;32m    <a href='file:///c%3A/python38-64/lib/site-packages/pandas/core/frame.py?line=728'>729</a>\u001b[0m     mgr \u001b[39m=\u001b[39m arrays_to_mgr(\n\u001b[0;32m    <a href='file:///c%3A/python38-64/lib/site-packages/pandas/core/frame.py?line=729'>730</a>\u001b[0m         arrays,\n\u001b[0;32m    <a href='file:///c%3A/python38-64/lib/site-packages/pandas/core/frame.py?line=730'>731</a>\u001b[0m         columns,\n\u001b[1;32m   (...)\u001b[0m\n\u001b[0;32m    <a href='file:///c%3A/python38-64/lib/site-packages/pandas/core/frame.py?line=733'>734</a>\u001b[0m         typ\u001b[39m=\u001b[39mmanager,\n\u001b[0;32m    <a href='file:///c%3A/python38-64/lib/site-packages/pandas/core/frame.py?line=734'>735</a>\u001b[0m     )\n\u001b[0;32m    <a href='file:///c%3A/python38-64/lib/site-packages/pandas/core/frame.py?line=735'>736</a>\u001b[0m \u001b[39melse\u001b[39;00m:\n",
      "File \u001b[1;32mC:\\python38-64\\lib\\site-packages\\pandas\\core\\internals\\construction.py:519\u001b[0m, in \u001b[0;36mnested_data_to_arrays\u001b[1;34m(data, columns, index, dtype)\u001b[0m\n\u001b[0;32m    <a href='file:///c%3A/python38-64/lib/site-packages/pandas/core/internals/construction.py?line=515'>516</a>\u001b[0m \u001b[39mif\u001b[39;00m is_named_tuple(data[\u001b[39m0\u001b[39m]) \u001b[39mand\u001b[39;00m columns \u001b[39mis\u001b[39;00m \u001b[39mNone\u001b[39;00m:\n\u001b[0;32m    <a href='file:///c%3A/python38-64/lib/site-packages/pandas/core/internals/construction.py?line=516'>517</a>\u001b[0m     columns \u001b[39m=\u001b[39m ensure_index(data[\u001b[39m0\u001b[39m]\u001b[39m.\u001b[39m_fields)\n\u001b[1;32m--> <a href='file:///c%3A/python38-64/lib/site-packages/pandas/core/internals/construction.py?line=518'>519</a>\u001b[0m arrays, columns \u001b[39m=\u001b[39m to_arrays(data, columns, dtype\u001b[39m=\u001b[39;49mdtype)\n\u001b[0;32m    <a href='file:///c%3A/python38-64/lib/site-packages/pandas/core/internals/construction.py?line=519'>520</a>\u001b[0m columns \u001b[39m=\u001b[39m ensure_index(columns)\n\u001b[0;32m    <a href='file:///c%3A/python38-64/lib/site-packages/pandas/core/internals/construction.py?line=521'>522</a>\u001b[0m \u001b[39mif\u001b[39;00m index \u001b[39mis\u001b[39;00m \u001b[39mNone\u001b[39;00m:\n",
      "File \u001b[1;32mC:\\python38-64\\lib\\site-packages\\pandas\\core\\internals\\construction.py:883\u001b[0m, in \u001b[0;36mto_arrays\u001b[1;34m(data, columns, dtype)\u001b[0m\n\u001b[0;32m    <a href='file:///c%3A/python38-64/lib/site-packages/pandas/core/internals/construction.py?line=879'>880</a>\u001b[0m     data \u001b[39m=\u001b[39m [\u001b[39mtuple\u001b[39m(x) \u001b[39mfor\u001b[39;00m x \u001b[39min\u001b[39;00m data]\n\u001b[0;32m    <a href='file:///c%3A/python38-64/lib/site-packages/pandas/core/internals/construction.py?line=880'>881</a>\u001b[0m     arr \u001b[39m=\u001b[39m _list_to_arrays(data)\n\u001b[1;32m--> <a href='file:///c%3A/python38-64/lib/site-packages/pandas/core/internals/construction.py?line=882'>883</a>\u001b[0m content, columns \u001b[39m=\u001b[39m _finalize_columns_and_data(arr, columns, dtype)\n\u001b[0;32m    <a href='file:///c%3A/python38-64/lib/site-packages/pandas/core/internals/construction.py?line=883'>884</a>\u001b[0m \u001b[39mreturn\u001b[39;00m content, columns\n",
      "File \u001b[1;32mC:\\python38-64\\lib\\site-packages\\pandas\\core\\internals\\construction.py:985\u001b[0m, in \u001b[0;36m_finalize_columns_and_data\u001b[1;34m(content, columns, dtype)\u001b[0m\n\u001b[0;32m    <a href='file:///c%3A/python38-64/lib/site-packages/pandas/core/internals/construction.py?line=981'>982</a>\u001b[0m     columns \u001b[39m=\u001b[39m _validate_or_indexify_columns(contents, columns)\n\u001b[0;32m    <a href='file:///c%3A/python38-64/lib/site-packages/pandas/core/internals/construction.py?line=982'>983</a>\u001b[0m \u001b[39mexcept\u001b[39;00m \u001b[39mAssertionError\u001b[39;00m \u001b[39mas\u001b[39;00m err:\n\u001b[0;32m    <a href='file:///c%3A/python38-64/lib/site-packages/pandas/core/internals/construction.py?line=983'>984</a>\u001b[0m     \u001b[39m# GH#26429 do not raise user-facing AssertionError\u001b[39;00m\n\u001b[1;32m--> <a href='file:///c%3A/python38-64/lib/site-packages/pandas/core/internals/construction.py?line=984'>985</a>\u001b[0m     \u001b[39mraise\u001b[39;00m \u001b[39mValueError\u001b[39;00m(err) \u001b[39mfrom\u001b[39;00m \u001b[39merr\u001b[39;00m\n\u001b[0;32m    <a href='file:///c%3A/python38-64/lib/site-packages/pandas/core/internals/construction.py?line=986'>987</a>\u001b[0m \u001b[39mif\u001b[39;00m \u001b[39mlen\u001b[39m(contents) \u001b[39mand\u001b[39;00m contents[\u001b[39m0\u001b[39m]\u001b[39m.\u001b[39mdtype \u001b[39m==\u001b[39m np\u001b[39m.\u001b[39mobject_:\n\u001b[0;32m    <a href='file:///c%3A/python38-64/lib/site-packages/pandas/core/internals/construction.py?line=987'>988</a>\u001b[0m     contents \u001b[39m=\u001b[39m _convert_object_array(contents, dtype\u001b[39m=\u001b[39mdtype)\n",
      "\u001b[1;31mValueError\u001b[0m: 1 columns passed, passed data had 97 columns"
     ]
    }
   ],
   "source": [
    "y_predict = model.predict(n_periods=len(y_test), return_conf_int=True)\n",
    "predict = pd.DataFrame(y_predict, index=y_test.index, columns=['Prediction'])\n",
    "predict"
   ]
  },
  {
   "cell_type": "code",
   "execution_count": 10,
   "metadata": {},
   "outputs": [
    {
     "data": {
      "image/png": "[encoded data removed]",
      "text/plain": [
       "<Figure size 864x288 with 1 Axes>"
      ]
     },
     "metadata": {
      "needs_background": "light"
     },
     "output_type": "display_data"
    }
   ],
   "source": [
    "sam = fdr.DataReader(''.join(symbol.values), '2021-01-01','2022-04-20')\n",
    "# sam.plot()\n",
    "fig, axes = plt.subplots(figsize=(12, 4))\n",
    "plt.plot(y_train, label='Train')\n",
    "plt.plot(y_test, label= 'Test')\n",
    "plt.plot(predict, label='prediction')\n",
    "plt.legend()\n",
    "plt.show()"
   ]
  },
  {
   "cell_type": "code",
   "execution_count": null,
   "metadata": {},
   "outputs": [],
   "source": []
  },
  {
   "cell_type": "code",
   "execution_count": 11,
   "metadata": {},
   "outputs": [],
   "source": [
    "def forcast_one_step():\n",
    "    fc, conf_int = model.predict(n_periods=1, return_conf_int=True)\n",
    "    \n",
    "    return (fc.tolist()[0], np.asarray(conf_int).tolist()[0])\n",
    "    "
   ]
  },
  {
   "cell_type": "code",
   "execution_count": 12,
   "metadata": {},
   "outputs": [
    {
     "data": {
      "text/plain": [
       "(72300.0, [70148.77769092662, 74451.22230907338])"
      ]
     },
     "execution_count": 12,
     "metadata": {},
     "output_type": "execute_result"
    }
   ],
   "source": [
    "forcast_one_step()"
   ]
  },
  {
   "cell_type": "code",
   "execution_count": 13,
   "metadata": {},
   "outputs": [],
   "source": [
    "forcast_list = []\n",
    "y_pred = []\n",
    "pred_upper = []\n",
    "pred_lower = []\n",
    "\n",
    "for i in y_test:\n",
    "    fc, conf = forcast_one_step()\n",
    "    y_pred.append(fc)\n",
    "    pred_upper.append(conf[1])\n",
    "    pred_lower.append(conf[0])\n",
    "    \n",
    "    model.update(i)"
   ]
  },
  {
   "cell_type": "code",
   "execution_count": 14,
   "metadata": {},
   "outputs": [
    {
     "data": {
      "text/html": [
       "<div>\n",
       "<style scoped>\n",
       "    .dataframe tbody tr th:only-of-type {\n",
       "        vertical-align: middle;\n",
       "    }\n",
       "\n",
       "    .dataframe tbody tr th {\n",
       "        vertical-align: top;\n",
       "    }\n",
       "\n",
       "    .dataframe thead th {\n",
       "        text-align: right;\n",
       "    }\n",
       "</style>\n",
       "<table border=\"1\" class=\"dataframe\">\n",
       "  <thead>\n",
       "    <tr style=\"text-align: right;\">\n",
       "      <th></th>\n",
       "      <th>test</th>\n",
       "      <th>y_pred</th>\n",
       "    </tr>\n",
       "    <tr>\n",
       "      <th>Date</th>\n",
       "      <th></th>\n",
       "      <th></th>\n",
       "    </tr>\n",
       "  </thead>\n",
       "  <tbody>\n",
       "    <tr>\n",
       "      <th>2021-11-29</th>\n",
       "      <td>72300</td>\n",
       "      <td>72300.0</td>\n",
       "    </tr>\n",
       "    <tr>\n",
       "      <th>2021-11-30</th>\n",
       "      <td>71300</td>\n",
       "      <td>72300.0</td>\n",
       "    </tr>\n",
       "    <tr>\n",
       "      <th>2021-12-01</th>\n",
       "      <td>74400</td>\n",
       "      <td>71300.0</td>\n",
       "    </tr>\n",
       "    <tr>\n",
       "      <th>2021-12-02</th>\n",
       "      <td>75800</td>\n",
       "      <td>74400.0</td>\n",
       "    </tr>\n",
       "    <tr>\n",
       "      <th>2021-12-03</th>\n",
       "      <td>75600</td>\n",
       "      <td>75800.0</td>\n",
       "    </tr>\n",
       "    <tr>\n",
       "      <th>...</th>\n",
       "      <td>...</td>\n",
       "      <td>...</td>\n",
       "    </tr>\n",
       "    <tr>\n",
       "      <th>2022-04-14</th>\n",
       "      <td>67500</td>\n",
       "      <td>68700.0</td>\n",
       "    </tr>\n",
       "    <tr>\n",
       "      <th>2022-04-15</th>\n",
       "      <td>66600</td>\n",
       "      <td>67500.0</td>\n",
       "    </tr>\n",
       "    <tr>\n",
       "      <th>2022-04-18</th>\n",
       "      <td>66700</td>\n",
       "      <td>66600.0</td>\n",
       "    </tr>\n",
       "    <tr>\n",
       "      <th>2022-04-19</th>\n",
       "      <td>67300</td>\n",
       "      <td>66700.0</td>\n",
       "    </tr>\n",
       "    <tr>\n",
       "      <th>2022-04-20</th>\n",
       "      <td>67400</td>\n",
       "      <td>67300.0</td>\n",
       "    </tr>\n",
       "  </tbody>\n",
       "</table>\n",
       "<p>97 rows × 2 columns</p>\n",
       "</div>"
      ],
      "text/plain": [
       "             test   y_pred\n",
       "Date                      \n",
       "2021-11-29  72300  72300.0\n",
       "2021-11-30  71300  72300.0\n",
       "2021-12-01  74400  71300.0\n",
       "2021-12-02  75800  74400.0\n",
       "2021-12-03  75600  75800.0\n",
       "...           ...      ...\n",
       "2022-04-14  67500  68700.0\n",
       "2022-04-15  66600  67500.0\n",
       "2022-04-18  66700  66600.0\n",
       "2022-04-19  67300  66700.0\n",
       "2022-04-20  67400  67300.0\n",
       "\n",
       "[97 rows x 2 columns]"
      ]
     },
     "execution_count": 14,
     "metadata": {},
     "output_type": "execute_result"
    }
   ],
   "source": [
    "pd.DataFrame({'test': y_test, 'y_pred' : y_pred})"
   ]
  },
  {
   "cell_type": "code",
   "execution_count": 18,
   "metadata": {},
   "outputs": [
    {
     "data": {
      "text/plain": [
       "<module 'plotly.graph_objects' from 'C:\\\\Users\\\\spaceastonomy\\\\AppData\\\\Local\\\\Programs\\\\Python\\\\Python310\\\\lib\\\\site-packages\\\\plotly\\\\graph_objects\\\\__init__.py'>"
      ]
     },
     "execution_count": 18,
     "metadata": {},
     "output_type": "execute_result"
    }
   ],
   "source": [
    "import plotly.graph_objects as go\n",
    "\n",
    "go"
   ]
  },
  {
   "cell_type": "code",
   "execution_count": 22,
   "metadata": {},
   "outputs": [
    {
     "ename": "ValueError",
     "evalue": "\n    Invalid value of type 'builtins.str' received for the 'color' property of scatter.line\n        Received value: 'rgb[0, 0, 30, 0.5'\n\n    The 'color' property is a color and may be specified as:\n      - A hex string (e.g. '#ff0000')\n      - An rgb/rgba string (e.g. 'rgb(255,0,0)')\n      - An hsl/hsla string (e.g. 'hsl(0,100%,50%)')\n      - An hsv/hsva string (e.g. 'hsv(0,100%,100%)')\n      - A named CSS color:\n            aliceblue, antiquewhite, aqua, aquamarine, azure,\n            beige, bisque, black, blanchedalmond, blue,\n            blueviolet, brown, burlywood, cadetblue,\n            chartreuse, chocolate, coral, cornflowerblue,\n            cornsilk, crimson, cyan, darkblue, darkcyan,\n            darkgoldenrod, darkgray, darkgrey, darkgreen,\n            darkkhaki, darkmagenta, darkolivegreen, darkorange,\n            darkorchid, darkred, darksalmon, darkseagreen,\n            darkslateblue, darkslategray, darkslategrey,\n            darkturquoise, darkviolet, deeppink, deepskyblue,\n            dimgray, dimgrey, dodgerblue, firebrick,\n            floralwhite, forestgreen, fuchsia, gainsboro,\n            ghostwhite, gold, goldenrod, gray, grey, green,\n            greenyellow, honeydew, hotpink, indianred, indigo,\n            ivory, khaki, lavender, lavenderblush, lawngreen,\n            lemonchiffon, lightblue, lightcoral, lightcyan,\n            lightgoldenrodyellow, lightgray, lightgrey,\n            lightgreen, lightpink, lightsalmon, lightseagreen,\n            lightskyblue, lightslategray, lightslategrey,\n            lightsteelblue, lightyellow, lime, limegreen,\n            linen, magenta, maroon, mediumaquamarine,\n            mediumblue, mediumorchid, mediumpurple,\n            mediumseagreen, mediumslateblue, mediumspringgreen,\n            mediumturquoise, mediumvioletred, midnightblue,\n            mintcream, mistyrose, moccasin, navajowhite, navy,\n            oldlace, olive, olivedrab, orange, orangered,\n            orchid, palegoldenrod, palegreen, paleturquoise,\n            palevioletred, papayawhip, peachpuff, peru, pink,\n            plum, powderblue, purple, red, rosybrown,\n            royalblue, rebeccapurple, saddlebrown, salmon,\n            sandybrown, seagreen, seashell, sienna, silver,\n            skyblue, slateblue, slategray, slategrey, snow,\n            springgreen, steelblue, tan, teal, thistle, tomato,\n            turquoise, violet, wheat, white, whitesmoke,\n            yellow, yellowgreen",
     "output_type": "error",
     "traceback": [
      "\u001b[1;31m---------------------------------------------------------------------------\u001b[0m",
      "\u001b[1;31mValueError\u001b[0m                                Traceback (most recent call last)",
      "\u001b[1;32mc:\\apps\\ml\\21April 2022 auto_arima.ipynb Cell 18'\u001b[0m in \u001b[0;36m<module>\u001b[1;34m\u001b[0m\n\u001b[0;32m      <a href='vscode-notebook-cell:/c%3A/apps/ml/21April%202022%20auto_arima.ipynb#ch0000018?line=0'>1</a>\u001b[0m \u001b[39mimport\u001b[39;00m \u001b[39mplotly\u001b[39;00m\u001b[39m.\u001b[39;00m\u001b[39mgraph_objects\u001b[39;00m \u001b[39mas\u001b[39;00m \u001b[39mgo\u001b[39;00m\n\u001b[0;32m      <a href='vscode-notebook-cell:/c%3A/apps/ml/21April%202022%20auto_arima.ipynb#ch0000018?line=1'>2</a>\u001b[0m fig \u001b[39m=\u001b[39m go\u001b[39m.\u001b[39mFigure([\n\u001b[0;32m      <a href='vscode-notebook-cell:/c%3A/apps/ml/21April%202022%20auto_arima.ipynb#ch0000018?line=2'>3</a>\u001b[0m     go\u001b[39m.\u001b[39mScatter(x\u001b[39m=\u001b[39my_train\u001b[39m.\u001b[39mindex , y\u001b[39m=\u001b[39my_train, name\u001b[39m=\u001b[39m\u001b[39m'\u001b[39m\u001b[39mTrain\u001b[39m\u001b[39m'\u001b[39m, mode\u001b[39m=\u001b[39m\u001b[39m'\u001b[39m\u001b[39mlines\u001b[39m\u001b[39m'\u001b[39m,line\u001b[39m=\u001b[39m\u001b[39mdict\u001b[39m(color\u001b[39m=\u001b[39m\u001b[39m'\u001b[39m\u001b[39mroyalblue\u001b[39m\u001b[39m'\u001b[39m)),\n\u001b[0;32m      <a href='vscode-notebook-cell:/c%3A/apps/ml/21April%202022%20auto_arima.ipynb#ch0000018?line=3'>4</a>\u001b[0m  \u001b[39m#테스트 데이터\u001b[39;00m\n\u001b[1;32m----> <a href='vscode-notebook-cell:/c%3A/apps/ml/21April%202022%20auto_arima.ipynb#ch0000018?line=4'>5</a>\u001b[0m go\u001b[39m.\u001b[39;49mScatter(x\u001b[39m=\u001b[39;49my_test\u001b[39m.\u001b[39;49mindex , y\u001b[39m=\u001b[39;49my_test, name\u001b[39m=\u001b[39;49m\u001b[39m'\u001b[39;49m\u001b[39mTrain\u001b[39;49m\u001b[39m'\u001b[39;49m, mode\u001b[39m=\u001b[39;49m\u001b[39m'\u001b[39;49m\u001b[39mlines\u001b[39;49m\u001b[39m'\u001b[39;49m,line\u001b[39m=\u001b[39;49m\u001b[39mdict\u001b[39;49m(color\u001b[39m=\u001b[39;49m\u001b[39m'\u001b[39;49m\u001b[39mrgb[0, 0, 30, 0.5\u001b[39;49m\u001b[39m'\u001b[39;49m)),\n\u001b[0;32m      <a href='vscode-notebook-cell:/c%3A/apps/ml/21April%202022%20auto_arima.ipynb#ch0000018?line=5'>6</a>\u001b[0m \u001b[39m#predict 데이터\u001b[39;00m\n\u001b[0;32m      <a href='vscode-notebook-cell:/c%3A/apps/ml/21April%202022%20auto_arima.ipynb#ch0000018?line=6'>7</a>\u001b[0m go\u001b[39m.\u001b[39mScatter(x\u001b[39m=\u001b[39my_test\u001b[39m.\u001b[39mindex , y\u001b[39m=\u001b[39my_pred, name\u001b[39m=\u001b[39m\u001b[39m'\u001b[39m\u001b[39mTrain\u001b[39m\u001b[39m'\u001b[39m, mode\u001b[39m=\u001b[39m\u001b[39m'\u001b[39m\u001b[39mlines\u001b[39m\u001b[39m'\u001b[39m,line\u001b[39m=\u001b[39m\u001b[39mdict\u001b[39m(color\u001b[39m=\u001b[39m\u001b[39m'\u001b[39m\u001b[39mred\u001b[39m\u001b[39m'\u001b[39m, dash \u001b[39m=\u001b[39m \u001b[39m'\u001b[39m\u001b[39mdot\u001b[39m\u001b[39m'\u001b[39m, width\u001b[39m=\u001b[39m\u001b[39m3\u001b[39m)),\n\u001b[0;32m      <a href='vscode-notebook-cell:/c%3A/apps/ml/21April%202022%20auto_arima.ipynb#ch0000018?line=7'>8</a>\u001b[0m \u001b[39m#신뢰구간\u001b[39;00m\n\u001b[0;32m      <a href='vscode-notebook-cell:/c%3A/apps/ml/21April%202022%20auto_arima.ipynb#ch0000018?line=8'>9</a>\u001b[0m go\u001b[39m.\u001b[39mScatter(x\u001b[39m=\u001b[39my_test\u001b[39m.\u001b[39mindex\u001b[39m.\u001b[39mtolist() \u001b[39m+\u001b[39m y_test\u001b[39m.\u001b[39mindex[:: \u001b[39m-\u001b[39m\u001b[39m1\u001b[39m]\u001b[39m.\u001b[39mtolist(), \n\u001b[0;32m     <a href='vscode-notebook-cell:/c%3A/apps/ml/21April%202022%20auto_arima.ipynb#ch0000018?line=9'>10</a>\u001b[0m            y\u001b[39m=\u001b[39m pred_upper \u001b[39m+\u001b[39m pred_lower[:: \u001b[39m-\u001b[39m\u001b[39m1\u001b[39m],\n\u001b[0;32m     <a href='vscode-notebook-cell:/c%3A/apps/ml/21April%202022%20auto_arima.ipynb#ch0000018?line=10'>11</a>\u001b[0m            fill \u001b[39m=\u001b[39m \u001b[39m'\u001b[39m\u001b[39mtoself\u001b[39m\u001b[39m'\u001b[39m, \n\u001b[0;32m     <a href='vscode-notebook-cell:/c%3A/apps/ml/21April%202022%20auto_arima.ipynb#ch0000018?line=11'>12</a>\u001b[0m            fillcolor \u001b[39m=\u001b[39m \u001b[39m'\u001b[39m\u001b[39mrgba(0, 0, 30, o.1)\u001b[39m\u001b[39m'\u001b[39m,\n\u001b[0;32m     <a href='vscode-notebook-cell:/c%3A/apps/ml/21April%202022%20auto_arima.ipynb#ch0000018?line=12'>13</a>\u001b[0m            line\u001b[39m=\u001b[39m{\u001b[39m'\u001b[39m\u001b[39mcolor\u001b[39m\u001b[39m'\u001b[39m : \u001b[39m'\u001b[39m\u001b[39mrgba(0,0,0,0)\u001b[39m\u001b[39m'\u001b[39m},\n\u001b[0;32m     <a href='vscode-notebook-cell:/c%3A/apps/ml/21April%202022%20auto_arima.ipynb#ch0000018?line=13'>14</a>\u001b[0m            hoverinfo \u001b[39m=\u001b[39m \u001b[39m\"\u001b[39m\u001b[39mskip\u001b[39m\u001b[39m\"\u001b[39m,\n\u001b[0;32m     <a href='vscode-notebook-cell:/c%3A/apps/ml/21April%202022%20auto_arima.ipynb#ch0000018?line=14'>15</a>\u001b[0m            showlegend \u001b[39m=\u001b[39m \u001b[39mTrue\u001b[39;00m\n\u001b[0;32m     <a href='vscode-notebook-cell:/c%3A/apps/ml/21April%202022%20auto_arima.ipynb#ch0000018?line=15'>16</a>\u001b[0m            )\n\u001b[0;32m     <a href='vscode-notebook-cell:/c%3A/apps/ml/21April%202022%20auto_arima.ipynb#ch0000018?line=16'>17</a>\u001b[0m ])\n\u001b[0;32m     <a href='vscode-notebook-cell:/c%3A/apps/ml/21April%202022%20auto_arima.ipynb#ch0000018?line=18'>19</a>\u001b[0m fig\u001b[39m.\u001b[39mupdate_layout(height\u001b[39m=\u001b[39m\u001b[39m400\u001b[39m , width\u001b[39m=\u001b[39m\u001b[39m1000\u001b[39m, title_text\u001b[39m=\u001b[39m\u001b[39m\"\u001b[39m\u001b[39mARIMA(0,1,0)\u001b[39m\u001b[39m\"\u001b[39m)\n\u001b[0;32m     <a href='vscode-notebook-cell:/c%3A/apps/ml/21April%202022%20auto_arima.ipynb#ch0000018?line=19'>20</a>\u001b[0m fig\u001b[39m.\u001b[39mshow()\n",
      "File \u001b[1;32m~\\AppData\\Local\\Programs\\Python\\Python310\\lib\\site-packages\\plotly\\graph_objs\\_scatter.py:3192\u001b[0m, in \u001b[0;36mScatter.__init__\u001b[1;34m(self, arg, cliponaxis, connectgaps, customdata, customdatasrc, dx, dy, error_x, error_y, fill, fillcolor, fillpattern, groupnorm, hoverinfo, hoverinfosrc, hoverlabel, hoveron, hovertemplate, hovertemplatesrc, hovertext, hovertextsrc, ids, idssrc, legendgroup, legendgrouptitle, legendrank, line, marker, meta, metasrc, mode, name, opacity, orientation, selected, selectedpoints, showlegend, stackgaps, stackgroup, stream, text, textfont, textposition, textpositionsrc, textsrc, texttemplate, texttemplatesrc, uid, uirevision, unselected, visible, x, x0, xaxis, xcalendar, xhoverformat, xperiod, xperiod0, xperiodalignment, xsrc, y, y0, yaxis, ycalendar, yhoverformat, yperiod, yperiod0, yperiodalignment, ysrc, **kwargs)\u001b[0m\n\u001b[0;32m   <a href='file:///c%3A/Users/spaceastonomy/AppData/Local/Programs/Python/Python310/lib/site-packages/plotly/graph_objs/_scatter.py?line=3189'>3190</a>\u001b[0m _v \u001b[39m=\u001b[39m line \u001b[39mif\u001b[39;00m line \u001b[39mis\u001b[39;00m \u001b[39mnot\u001b[39;00m \u001b[39mNone\u001b[39;00m \u001b[39melse\u001b[39;00m _v\n\u001b[0;32m   <a href='file:///c%3A/Users/spaceastonomy/AppData/Local/Programs/Python/Python310/lib/site-packages/plotly/graph_objs/_scatter.py?line=3190'>3191</a>\u001b[0m \u001b[39mif\u001b[39;00m _v \u001b[39mis\u001b[39;00m \u001b[39mnot\u001b[39;00m \u001b[39mNone\u001b[39;00m:\n\u001b[1;32m-> <a href='file:///c%3A/Users/spaceastonomy/AppData/Local/Programs/Python/Python310/lib/site-packages/plotly/graph_objs/_scatter.py?line=3191'>3192</a>\u001b[0m     \u001b[39mself\u001b[39m[\u001b[39m\"\u001b[39m\u001b[39mline\u001b[39m\u001b[39m\"\u001b[39m] \u001b[39m=\u001b[39m _v\n\u001b[0;32m   <a href='file:///c%3A/Users/spaceastonomy/AppData/Local/Programs/Python/Python310/lib/site-packages/plotly/graph_objs/_scatter.py?line=3192'>3193</a>\u001b[0m _v \u001b[39m=\u001b[39m arg\u001b[39m.\u001b[39mpop(\u001b[39m\"\u001b[39m\u001b[39mmarker\u001b[39m\u001b[39m\"\u001b[39m, \u001b[39mNone\u001b[39;00m)\n\u001b[0;32m   <a href='file:///c%3A/Users/spaceastonomy/AppData/Local/Programs/Python/Python310/lib/site-packages/plotly/graph_objs/_scatter.py?line=3193'>3194</a>\u001b[0m _v \u001b[39m=\u001b[39m marker \u001b[39mif\u001b[39;00m marker \u001b[39mis\u001b[39;00m \u001b[39mnot\u001b[39;00m \u001b[39mNone\u001b[39;00m \u001b[39melse\u001b[39;00m _v\n",
      "File \u001b[1;32m~\\AppData\\Local\\Programs\\Python\\Python310\\lib\\site-packages\\plotly\\basedatatypes.py:4828\u001b[0m, in \u001b[0;36mBasePlotlyType.__setitem__\u001b[1;34m(self, prop, value)\u001b[0m\n\u001b[0;32m   <a href='file:///c%3A/Users/spaceastonomy/AppData/Local/Programs/Python/Python310/lib/site-packages/plotly/basedatatypes.py?line=4825'>4826</a>\u001b[0m \u001b[39m# ### Handle compound property ###\u001b[39;00m\n\u001b[0;32m   <a href='file:///c%3A/Users/spaceastonomy/AppData/Local/Programs/Python/Python310/lib/site-packages/plotly/basedatatypes.py?line=4826'>4827</a>\u001b[0m \u001b[39mif\u001b[39;00m \u001b[39misinstance\u001b[39m(validator, CompoundValidator):\n\u001b[1;32m-> <a href='file:///c%3A/Users/spaceastonomy/AppData/Local/Programs/Python/Python310/lib/site-packages/plotly/basedatatypes.py?line=4827'>4828</a>\u001b[0m     \u001b[39mself\u001b[39;49m\u001b[39m.\u001b[39;49m_set_compound_prop(prop, value)\n\u001b[0;32m   <a href='file:///c%3A/Users/spaceastonomy/AppData/Local/Programs/Python/Python310/lib/site-packages/plotly/basedatatypes.py?line=4829'>4830</a>\u001b[0m \u001b[39m# ### Handle compound array property ###\u001b[39;00m\n\u001b[0;32m   <a href='file:///c%3A/Users/spaceastonomy/AppData/Local/Programs/Python/Python310/lib/site-packages/plotly/basedatatypes.py?line=4830'>4831</a>\u001b[0m \u001b[39melif\u001b[39;00m \u001b[39misinstance\u001b[39m(validator, (CompoundArrayValidator, BaseDataValidator)):\n",
      "File \u001b[1;32m~\\AppData\\Local\\Programs\\Python\\Python310\\lib\\site-packages\\plotly\\basedatatypes.py:5239\u001b[0m, in \u001b[0;36mBasePlotlyType._set_compound_prop\u001b[1;34m(self, prop, val)\u001b[0m\n\u001b[0;32m   <a href='file:///c%3A/Users/spaceastonomy/AppData/Local/Programs/Python/Python310/lib/site-packages/plotly/basedatatypes.py?line=5235'>5236</a>\u001b[0m \u001b[39m# Import value\u001b[39;00m\n\u001b[0;32m   <a href='file:///c%3A/Users/spaceastonomy/AppData/Local/Programs/Python/Python310/lib/site-packages/plotly/basedatatypes.py?line=5236'>5237</a>\u001b[0m \u001b[39m# ------------\u001b[39;00m\n\u001b[0;32m   <a href='file:///c%3A/Users/spaceastonomy/AppData/Local/Programs/Python/Python310/lib/site-packages/plotly/basedatatypes.py?line=5237'>5238</a>\u001b[0m validator \u001b[39m=\u001b[39m \u001b[39mself\u001b[39m\u001b[39m.\u001b[39m_get_validator(prop)\n\u001b[1;32m-> <a href='file:///c%3A/Users/spaceastonomy/AppData/Local/Programs/Python/Python310/lib/site-packages/plotly/basedatatypes.py?line=5238'>5239</a>\u001b[0m val \u001b[39m=\u001b[39m validator\u001b[39m.\u001b[39;49mvalidate_coerce(val, skip_invalid\u001b[39m=\u001b[39;49m\u001b[39mself\u001b[39;49m\u001b[39m.\u001b[39;49m_skip_invalid)\n\u001b[0;32m   <a href='file:///c%3A/Users/spaceastonomy/AppData/Local/Programs/Python/Python310/lib/site-packages/plotly/basedatatypes.py?line=5240'>5241</a>\u001b[0m \u001b[39m# Save deep copies of current and new states\u001b[39;00m\n\u001b[0;32m   <a href='file:///c%3A/Users/spaceastonomy/AppData/Local/Programs/Python/Python310/lib/site-packages/plotly/basedatatypes.py?line=5241'>5242</a>\u001b[0m \u001b[39m# ------------------------------------------\u001b[39;00m\n\u001b[0;32m   <a href='file:///c%3A/Users/spaceastonomy/AppData/Local/Programs/Python/Python310/lib/site-packages/plotly/basedatatypes.py?line=5242'>5243</a>\u001b[0m curr_val \u001b[39m=\u001b[39m \u001b[39mself\u001b[39m\u001b[39m.\u001b[39m_compound_props\u001b[39m.\u001b[39mget(prop, \u001b[39mNone\u001b[39;00m)\n",
      "File \u001b[1;32m~\\AppData\\Local\\Programs\\Python\\Python310\\lib\\site-packages\\_plotly_utils\\basevalidators.py:2467\u001b[0m, in \u001b[0;36mCompoundValidator.validate_coerce\u001b[1;34m(self, v, skip_invalid, _validate)\u001b[0m\n\u001b[0;32m   <a href='file:///c%3A/Users/spaceastonomy/AppData/Local/Programs/Python/Python310/lib/site-packages/_plotly_utils/basevalidators.py?line=2463'>2464</a>\u001b[0m     v \u001b[39m=\u001b[39m \u001b[39mself\u001b[39m\u001b[39m.\u001b[39mdata_class()\n\u001b[0;32m   <a href='file:///c%3A/Users/spaceastonomy/AppData/Local/Programs/Python/Python310/lib/site-packages/_plotly_utils/basevalidators.py?line=2465'>2466</a>\u001b[0m \u001b[39melif\u001b[39;00m \u001b[39misinstance\u001b[39m(v, \u001b[39mdict\u001b[39m):\n\u001b[1;32m-> <a href='file:///c%3A/Users/spaceastonomy/AppData/Local/Programs/Python/Python310/lib/site-packages/_plotly_utils/basevalidators.py?line=2466'>2467</a>\u001b[0m     v \u001b[39m=\u001b[39m \u001b[39mself\u001b[39;49m\u001b[39m.\u001b[39;49mdata_class(v, skip_invalid\u001b[39m=\u001b[39;49mskip_invalid, _validate\u001b[39m=\u001b[39;49m_validate)\n\u001b[0;32m   <a href='file:///c%3A/Users/spaceastonomy/AppData/Local/Programs/Python/Python310/lib/site-packages/_plotly_utils/basevalidators.py?line=2468'>2469</a>\u001b[0m \u001b[39melif\u001b[39;00m \u001b[39misinstance\u001b[39m(v, \u001b[39mself\u001b[39m\u001b[39m.\u001b[39mdata_class):\n\u001b[0;32m   <a href='file:///c%3A/Users/spaceastonomy/AppData/Local/Programs/Python/Python310/lib/site-packages/_plotly_utils/basevalidators.py?line=2469'>2470</a>\u001b[0m     \u001b[39m# Copy object\u001b[39;00m\n\u001b[0;32m   <a href='file:///c%3A/Users/spaceastonomy/AppData/Local/Programs/Python/Python310/lib/site-packages/_plotly_utils/basevalidators.py?line=2470'>2471</a>\u001b[0m     v \u001b[39m=\u001b[39m \u001b[39mself\u001b[39m\u001b[39m.\u001b[39mdata_class(v)\n",
      "File \u001b[1;32m~\\AppData\\Local\\Programs\\Python\\Python310\\lib\\site-packages\\plotly\\graph_objs\\scatter\\_line.py:293\u001b[0m, in \u001b[0;36mLine.__init__\u001b[1;34m(self, arg, color, dash, shape, simplify, smoothing, width, **kwargs)\u001b[0m\n\u001b[0;32m    <a href='file:///c%3A/Users/spaceastonomy/AppData/Local/Programs/Python/Python310/lib/site-packages/plotly/graph_objs/scatter/_line.py?line=290'>291</a>\u001b[0m _v \u001b[39m=\u001b[39m color \u001b[39mif\u001b[39;00m color \u001b[39mis\u001b[39;00m \u001b[39mnot\u001b[39;00m \u001b[39mNone\u001b[39;00m \u001b[39melse\u001b[39;00m _v\n\u001b[0;32m    <a href='file:///c%3A/Users/spaceastonomy/AppData/Local/Programs/Python/Python310/lib/site-packages/plotly/graph_objs/scatter/_line.py?line=291'>292</a>\u001b[0m \u001b[39mif\u001b[39;00m _v \u001b[39mis\u001b[39;00m \u001b[39mnot\u001b[39;00m \u001b[39mNone\u001b[39;00m:\n\u001b[1;32m--> <a href='file:///c%3A/Users/spaceastonomy/AppData/Local/Programs/Python/Python310/lib/site-packages/plotly/graph_objs/scatter/_line.py?line=292'>293</a>\u001b[0m     \u001b[39mself\u001b[39m[\u001b[39m\"\u001b[39m\u001b[39mcolor\u001b[39m\u001b[39m\"\u001b[39m] \u001b[39m=\u001b[39m _v\n\u001b[0;32m    <a href='file:///c%3A/Users/spaceastonomy/AppData/Local/Programs/Python/Python310/lib/site-packages/plotly/graph_objs/scatter/_line.py?line=293'>294</a>\u001b[0m _v \u001b[39m=\u001b[39m arg\u001b[39m.\u001b[39mpop(\u001b[39m\"\u001b[39m\u001b[39mdash\u001b[39m\u001b[39m\"\u001b[39m, \u001b[39mNone\u001b[39;00m)\n\u001b[0;32m    <a href='file:///c%3A/Users/spaceastonomy/AppData/Local/Programs/Python/Python310/lib/site-packages/plotly/graph_objs/scatter/_line.py?line=294'>295</a>\u001b[0m _v \u001b[39m=\u001b[39m dash \u001b[39mif\u001b[39;00m dash \u001b[39mis\u001b[39;00m \u001b[39mnot\u001b[39;00m \u001b[39mNone\u001b[39;00m \u001b[39melse\u001b[39;00m _v\n",
      "File \u001b[1;32m~\\AppData\\Local\\Programs\\Python\\Python310\\lib\\site-packages\\plotly\\basedatatypes.py:4836\u001b[0m, in \u001b[0;36mBasePlotlyType.__setitem__\u001b[1;34m(self, prop, value)\u001b[0m\n\u001b[0;32m   <a href='file:///c%3A/Users/spaceastonomy/AppData/Local/Programs/Python/Python310/lib/site-packages/plotly/basedatatypes.py?line=4831'>4832</a>\u001b[0m         \u001b[39mself\u001b[39m\u001b[39m.\u001b[39m_set_array_prop(prop, value)\n\u001b[0;32m   <a href='file:///c%3A/Users/spaceastonomy/AppData/Local/Programs/Python/Python310/lib/site-packages/plotly/basedatatypes.py?line=4833'>4834</a>\u001b[0m     \u001b[39m# ### Handle simple property ###\u001b[39;00m\n\u001b[0;32m   <a href='file:///c%3A/Users/spaceastonomy/AppData/Local/Programs/Python/Python310/lib/site-packages/plotly/basedatatypes.py?line=4834'>4835</a>\u001b[0m     \u001b[39melse\u001b[39;00m:\n\u001b[1;32m-> <a href='file:///c%3A/Users/spaceastonomy/AppData/Local/Programs/Python/Python310/lib/site-packages/plotly/basedatatypes.py?line=4835'>4836</a>\u001b[0m         \u001b[39mself\u001b[39;49m\u001b[39m.\u001b[39;49m_set_prop(prop, value)\n\u001b[0;32m   <a href='file:///c%3A/Users/spaceastonomy/AppData/Local/Programs/Python/Python310/lib/site-packages/plotly/basedatatypes.py?line=4836'>4837</a>\u001b[0m \u001b[39melse\u001b[39;00m:\n\u001b[0;32m   <a href='file:///c%3A/Users/spaceastonomy/AppData/Local/Programs/Python/Python310/lib/site-packages/plotly/basedatatypes.py?line=4837'>4838</a>\u001b[0m     \u001b[39m# Make sure properties dict is initialized\u001b[39;00m\n\u001b[0;32m   <a href='file:///c%3A/Users/spaceastonomy/AppData/Local/Programs/Python/Python310/lib/site-packages/plotly/basedatatypes.py?line=4838'>4839</a>\u001b[0m     \u001b[39mself\u001b[39m\u001b[39m.\u001b[39m_init_props()\n",
      "File \u001b[1;32m~\\AppData\\Local\\Programs\\Python\\Python310\\lib\\site-packages\\plotly\\basedatatypes.py:5180\u001b[0m, in \u001b[0;36mBasePlotlyType._set_prop\u001b[1;34m(self, prop, val)\u001b[0m\n\u001b[0;32m   <a href='file:///c%3A/Users/spaceastonomy/AppData/Local/Programs/Python/Python310/lib/site-packages/plotly/basedatatypes.py?line=5177'>5178</a>\u001b[0m         \u001b[39mreturn\u001b[39;00m\n\u001b[0;32m   <a href='file:///c%3A/Users/spaceastonomy/AppData/Local/Programs/Python/Python310/lib/site-packages/plotly/basedatatypes.py?line=5178'>5179</a>\u001b[0m     \u001b[39melse\u001b[39;00m:\n\u001b[1;32m-> <a href='file:///c%3A/Users/spaceastonomy/AppData/Local/Programs/Python/Python310/lib/site-packages/plotly/basedatatypes.py?line=5179'>5180</a>\u001b[0m         \u001b[39mraise\u001b[39;00m err\n\u001b[0;32m   <a href='file:///c%3A/Users/spaceastonomy/AppData/Local/Programs/Python/Python310/lib/site-packages/plotly/basedatatypes.py?line=5181'>5182</a>\u001b[0m \u001b[39m# val is None\u001b[39;00m\n\u001b[0;32m   <a href='file:///c%3A/Users/spaceastonomy/AppData/Local/Programs/Python/Python310/lib/site-packages/plotly/basedatatypes.py?line=5182'>5183</a>\u001b[0m \u001b[39m# -----------\u001b[39;00m\n\u001b[0;32m   <a href='file:///c%3A/Users/spaceastonomy/AppData/Local/Programs/Python/Python310/lib/site-packages/plotly/basedatatypes.py?line=5183'>5184</a>\u001b[0m \u001b[39mif\u001b[39;00m val \u001b[39mis\u001b[39;00m \u001b[39mNone\u001b[39;00m:\n\u001b[0;32m   <a href='file:///c%3A/Users/spaceastonomy/AppData/Local/Programs/Python/Python310/lib/site-packages/plotly/basedatatypes.py?line=5184'>5185</a>\u001b[0m     \u001b[39m# Check if we should send null update\u001b[39;00m\n",
      "File \u001b[1;32m~\\AppData\\Local\\Programs\\Python\\Python310\\lib\\site-packages\\plotly\\basedatatypes.py:5175\u001b[0m, in \u001b[0;36mBasePlotlyType._set_prop\u001b[1;34m(self, prop, val)\u001b[0m\n\u001b[0;32m   <a href='file:///c%3A/Users/spaceastonomy/AppData/Local/Programs/Python/Python310/lib/site-packages/plotly/basedatatypes.py?line=5171'>5172</a>\u001b[0m validator \u001b[39m=\u001b[39m \u001b[39mself\u001b[39m\u001b[39m.\u001b[39m_get_validator(prop)\n\u001b[0;32m   <a href='file:///c%3A/Users/spaceastonomy/AppData/Local/Programs/Python/Python310/lib/site-packages/plotly/basedatatypes.py?line=5173'>5174</a>\u001b[0m \u001b[39mtry\u001b[39;00m:\n\u001b[1;32m-> <a href='file:///c%3A/Users/spaceastonomy/AppData/Local/Programs/Python/Python310/lib/site-packages/plotly/basedatatypes.py?line=5174'>5175</a>\u001b[0m     val \u001b[39m=\u001b[39m validator\u001b[39m.\u001b[39;49mvalidate_coerce(val)\n\u001b[0;32m   <a href='file:///c%3A/Users/spaceastonomy/AppData/Local/Programs/Python/Python310/lib/site-packages/plotly/basedatatypes.py?line=5175'>5176</a>\u001b[0m \u001b[39mexcept\u001b[39;00m \u001b[39mValueError\u001b[39;00m \u001b[39mas\u001b[39;00m err:\n\u001b[0;32m   <a href='file:///c%3A/Users/spaceastonomy/AppData/Local/Programs/Python/Python310/lib/site-packages/plotly/basedatatypes.py?line=5176'>5177</a>\u001b[0m     \u001b[39mif\u001b[39;00m \u001b[39mself\u001b[39m\u001b[39m.\u001b[39m_skip_invalid:\n",
      "File \u001b[1;32m~\\AppData\\Local\\Programs\\Python\\Python310\\lib\\site-packages\\_plotly_utils\\basevalidators.py:1382\u001b[0m, in \u001b[0;36mColorValidator.validate_coerce\u001b[1;34m(self, v, should_raise)\u001b[0m\n\u001b[0;32m   <a href='file:///c%3A/Users/spaceastonomy/AppData/Local/Programs/Python/Python310/lib/site-packages/_plotly_utils/basevalidators.py?line=1379'>1380</a>\u001b[0m     validated_v \u001b[39m=\u001b[39m \u001b[39mself\u001b[39m\u001b[39m.\u001b[39mvc_scalar(v)\n\u001b[0;32m   <a href='file:///c%3A/Users/spaceastonomy/AppData/Local/Programs/Python/Python310/lib/site-packages/_plotly_utils/basevalidators.py?line=1380'>1381</a>\u001b[0m     \u001b[39mif\u001b[39;00m validated_v \u001b[39mis\u001b[39;00m \u001b[39mNone\u001b[39;00m \u001b[39mand\u001b[39;00m should_raise:\n\u001b[1;32m-> <a href='file:///c%3A/Users/spaceastonomy/AppData/Local/Programs/Python/Python310/lib/site-packages/_plotly_utils/basevalidators.py?line=1381'>1382</a>\u001b[0m         \u001b[39mself\u001b[39;49m\u001b[39m.\u001b[39;49mraise_invalid_val(v)\n\u001b[0;32m   <a href='file:///c%3A/Users/spaceastonomy/AppData/Local/Programs/Python/Python310/lib/site-packages/_plotly_utils/basevalidators.py?line=1383'>1384</a>\u001b[0m     v \u001b[39m=\u001b[39m validated_v\n\u001b[0;32m   <a href='file:///c%3A/Users/spaceastonomy/AppData/Local/Programs/Python/Python310/lib/site-packages/_plotly_utils/basevalidators.py?line=1385'>1386</a>\u001b[0m \u001b[39mreturn\u001b[39;00m v\n",
      "File \u001b[1;32m~\\AppData\\Local\\Programs\\Python\\Python310\\lib\\site-packages\\_plotly_utils\\basevalidators.py:289\u001b[0m, in \u001b[0;36mBaseValidator.raise_invalid_val\u001b[1;34m(self, v, inds)\u001b[0m\n\u001b[0;32m    <a href='file:///c%3A/Users/spaceastonomy/AppData/Local/Programs/Python/Python310/lib/site-packages/_plotly_utils/basevalidators.py?line=285'>286</a>\u001b[0m             \u001b[39mfor\u001b[39;00m i \u001b[39min\u001b[39;00m inds:\n\u001b[0;32m    <a href='file:///c%3A/Users/spaceastonomy/AppData/Local/Programs/Python/Python310/lib/site-packages/_plotly_utils/basevalidators.py?line=286'>287</a>\u001b[0m                 name \u001b[39m+\u001b[39m\u001b[39m=\u001b[39m \u001b[39m\"\u001b[39m\u001b[39m[\u001b[39m\u001b[39m\"\u001b[39m \u001b[39m+\u001b[39m \u001b[39mstr\u001b[39m(i) \u001b[39m+\u001b[39m \u001b[39m\"\u001b[39m\u001b[39m]\u001b[39m\u001b[39m\"\u001b[39m\n\u001b[1;32m--> <a href='file:///c%3A/Users/spaceastonomy/AppData/Local/Programs/Python/Python310/lib/site-packages/_plotly_utils/basevalidators.py?line=288'>289</a>\u001b[0m         \u001b[39mraise\u001b[39;00m \u001b[39mValueError\u001b[39;00m(\n\u001b[0;32m    <a href='file:///c%3A/Users/spaceastonomy/AppData/Local/Programs/Python/Python310/lib/site-packages/_plotly_utils/basevalidators.py?line=289'>290</a>\u001b[0m             \u001b[39m\"\"\"\u001b[39;00m\n\u001b[0;32m    <a href='file:///c%3A/Users/spaceastonomy/AppData/Local/Programs/Python/Python310/lib/site-packages/_plotly_utils/basevalidators.py?line=290'>291</a>\u001b[0m \u001b[39m    Invalid value of type {typ} received for the '{name}' property of {pname}\u001b[39;00m\n\u001b[0;32m    <a href='file:///c%3A/Users/spaceastonomy/AppData/Local/Programs/Python/Python310/lib/site-packages/_plotly_utils/basevalidators.py?line=291'>292</a>\u001b[0m \u001b[39m        Received value: {v}\u001b[39;00m\n\u001b[0;32m    <a href='file:///c%3A/Users/spaceastonomy/AppData/Local/Programs/Python/Python310/lib/site-packages/_plotly_utils/basevalidators.py?line=292'>293</a>\u001b[0m \n\u001b[0;32m    <a href='file:///c%3A/Users/spaceastonomy/AppData/Local/Programs/Python/Python310/lib/site-packages/_plotly_utils/basevalidators.py?line=293'>294</a>\u001b[0m \u001b[39m{valid_clr_desc}\"\"\"\u001b[39;00m\u001b[39m.\u001b[39mformat(\n\u001b[0;32m    <a href='file:///c%3A/Users/spaceastonomy/AppData/Local/Programs/Python/Python310/lib/site-packages/_plotly_utils/basevalidators.py?line=294'>295</a>\u001b[0m                 name\u001b[39m=\u001b[39mname,\n\u001b[0;32m    <a href='file:///c%3A/Users/spaceastonomy/AppData/Local/Programs/Python/Python310/lib/site-packages/_plotly_utils/basevalidators.py?line=295'>296</a>\u001b[0m                 pname\u001b[39m=\u001b[39m\u001b[39mself\u001b[39m\u001b[39m.\u001b[39mparent_name,\n\u001b[0;32m    <a href='file:///c%3A/Users/spaceastonomy/AppData/Local/Programs/Python/Python310/lib/site-packages/_plotly_utils/basevalidators.py?line=296'>297</a>\u001b[0m                 typ\u001b[39m=\u001b[39mtype_str(v),\n\u001b[0;32m    <a href='file:///c%3A/Users/spaceastonomy/AppData/Local/Programs/Python/Python310/lib/site-packages/_plotly_utils/basevalidators.py?line=297'>298</a>\u001b[0m                 v\u001b[39m=\u001b[39m\u001b[39mrepr\u001b[39m(v),\n\u001b[0;32m    <a href='file:///c%3A/Users/spaceastonomy/AppData/Local/Programs/Python/Python310/lib/site-packages/_plotly_utils/basevalidators.py?line=298'>299</a>\u001b[0m                 valid_clr_desc\u001b[39m=\u001b[39m\u001b[39mself\u001b[39m\u001b[39m.\u001b[39mdescription(),\n\u001b[0;32m    <a href='file:///c%3A/Users/spaceastonomy/AppData/Local/Programs/Python/Python310/lib/site-packages/_plotly_utils/basevalidators.py?line=299'>300</a>\u001b[0m             )\n\u001b[0;32m    <a href='file:///c%3A/Users/spaceastonomy/AppData/Local/Programs/Python/Python310/lib/site-packages/_plotly_utils/basevalidators.py?line=300'>301</a>\u001b[0m         )\n",
      "\u001b[1;31mValueError\u001b[0m: \n    Invalid value of type 'builtins.str' received for the 'color' property of scatter.line\n        Received value: 'rgb[0, 0, 30, 0.5'\n\n    The 'color' property is a color and may be specified as:\n      - A hex string (e.g. '#ff0000')\n      - An rgb/rgba string (e.g. 'rgb(255,0,0)')\n      - An hsl/hsla string (e.g. 'hsl(0,100%,50%)')\n      - An hsv/hsva string (e.g. 'hsv(0,100%,100%)')\n      - A named CSS color:\n            aliceblue, antiquewhite, aqua, aquamarine, azure,\n            beige, bisque, black, blanchedalmond, blue,\n            blueviolet, brown, burlywood, cadetblue,\n            chartreuse, chocolate, coral, cornflowerblue,\n            cornsilk, crimson, cyan, darkblue, darkcyan,\n            darkgoldenrod, darkgray, darkgrey, darkgreen,\n            darkkhaki, darkmagenta, darkolivegreen, darkorange,\n            darkorchid, darkred, darksalmon, darkseagreen,\n            darkslateblue, darkslategray, darkslategrey,\n            darkturquoise, darkviolet, deeppink, deepskyblue,\n            dimgray, dimgrey, dodgerblue, firebrick,\n            floralwhite, forestgreen, fuchsia, gainsboro,\n            ghostwhite, gold, goldenrod, gray, grey, green,\n            greenyellow, honeydew, hotpink, indianred, indigo,\n            ivory, khaki, lavender, lavenderblush, lawngreen,\n            lemonchiffon, lightblue, lightcoral, lightcyan,\n            lightgoldenrodyellow, lightgray, lightgrey,\n            lightgreen, lightpink, lightsalmon, lightseagreen,\n            lightskyblue, lightslategray, lightslategrey,\n            lightsteelblue, lightyellow, lime, limegreen,\n            linen, magenta, maroon, mediumaquamarine,\n            mediumblue, mediumorchid, mediumpurple,\n            mediumseagreen, mediumslateblue, mediumspringgreen,\n            mediumturquoise, mediumvioletred, midnightblue,\n            mintcream, mistyrose, moccasin, navajowhite, navy,\n            oldlace, olive, olivedrab, orange, orangered,\n            orchid, palegoldenrod, palegreen, paleturquoise,\n            palevioletred, papayawhip, peachpuff, peru, pink,\n            plum, powderblue, purple, red, rosybrown,\n            royalblue, rebeccapurple, saddlebrown, salmon,\n            sandybrown, seagreen, seashell, sienna, silver,\n            skyblue, slateblue, slategray, slategrey, snow,\n            springgreen, steelblue, tan, teal, thistle, tomato,\n            turquoise, violet, wheat, white, whitesmoke,\n            yellow, yellowgreen"
     ]
    }
   ],
   "source": [
    "import plotly.graph_objects as go\n",
    "fig = go.Figure([\n",
    "    go.Scatter(x=y_train.index , y=y_train, name='Train', mode='lines',line=dict(color='royalblue')),\n",
    " #테스트 데이터\n",
    "go.Scatter(x=y_test.index , y=y_test, name='Train', mode='lines',line=dict(color='rgb[0, 0, 30, 0.5')),\n",
    "#predict 데이터\n",
    "go.Scatter(x=y_test.index , y=y_pred, name='Train', mode='lines',line=dict(color='red', dash = 'dot', width=3)),\n",
    "#신뢰구간\n",
    "go.Scatter(x=y_test.index.tolist() + y_test.index[:: -1].tolist(), \n",
    "           y= pred_upper + pred_lower[:: -1],\n",
    "           fill = 'toself', \n",
    "           fillcolor = 'rgba(0, 0, 30, o.1)',\n",
    "           line={'color' : 'rgba(0,0,0,0)'},\n",
    "           hoverinfo = \"skip\",\n",
    "           showlegend = True\n",
    "           )\n",
    "])\n",
    "\n",
    "fig.update_layout(height=400 , width=1000, title_text=\"ARIMA(0,1,0)\")\n",
    "fig.show()"
   ]
  },
  {
   "cell_type": "code",
   "execution_count": null,
   "metadata": {},
   "outputs": [],
   "source": []
  },
  {
   "cell_type": "code",
   "execution_count": null,
   "metadata": {},
   "outputs": [],
   "source": [
    "sam = fdr.DataReader(''.join(symbol.values), start='2021-01-01', end='2022-04-10')\n",
    "# fdr.DataReader(''.join(symbol.values), '2021-01-01~2021-12-31')\n",
    "sam_1 = sam['Close'].plot()\n",
    "plt.show(sam_1)\n"
   ]
  },
  {
   "cell_type": "code",
   "execution_count": null,
   "metadata": {},
   "outputs": [],
   "source": [
    "5조 : 이지현, 이명희, 전유석, 황윤재"
   ]
  },
  {
   "cell_type": "markdown",
   "metadata": {},
   "source": [
    "-------\n",
    "5조 \n",
    "\n",
    "------\n",
    "주제 : 주가종가예측 \n",
    "    \n",
    "    * 기존 은행, 인터넷 은행\n",
    "    * 이론적인 것을 어떻게 구성할 것인가? \n",
    "    * 역사는 반복 된다. \n",
    "    * 배아프다.\n",
    "    * 가즈아\n",
    "    * 초콜릿\n",
    "    * 배깅 \n",
    "    * 시계\n",
    "    * 자동화\n",
    "    * 메타버스\n",
    "    * 거래량\n",
    "    * 산업군의 다양성 \n",
    "    * 충격\n",
    "    * 넷플릭스\n",
    "    * 오징어게임\n",
    "    * 네이버\n",
    "    * 코로나 전 후 변동성\n",
    "    * 포스트 코로나 \n",
    "    * 체계적 오류 \n",
    "    * 머신 러닝\n",
    "    * 앤데믹\n",
    "    * 인원수 조절\n",
    "    * 데이터 누적 기간\n",
    "    * 기대 \n",
    "    * 원자재, 물가, 농산물, 밀\n",
    "    * 시가 총액\n",
    "    * 코스피 100\n",
    "    * 우크라이나 전쟁, \n",
    "    * 러시아, 우크라이나, 밀 가격\n",
    "    * 금 \n",
    "    * 오뚜기\n",
    "    * 환경주 \n",
    "    * 천연가스\n",
    "    * 온난화\n",
    "    * 금리\n",
    "    * 원유가\n",
    "    * 우유\n",
    "    * 비대면, 대면\n",
    "    * 코로나가 없었다면, 회귀하게 된다면\n",
    "    * 거품, 수출 \n",
    "    * 주가 출렁임\n",
    "    * 박스권 시작과 끝\n",
    "    * 환율\n",
    "    * 곡물회사 - \n",
    "\n",
    "\n",
    "------\n",
    "\n",
    "* 역할 나누기\n",
    "    * 전처리, 탐색적 데이터분석, 기본적 분석(경제, 도메인), 기술적분석(차트), 머신러닝\n",
    "    * 회귀분석 : 시각화() \n",
    "    * 아리마모델 : \n",
    "    * 밀 etf 주식 종가, 오뚜기 주식 종가, \n",
    "\n",
    "\n",
    "\n",
    "\n",
    "김정훈 : 금융, 취업\n",
    "황윤재 : 데이터분석, 인사이트, \n",
    "이명희 : 전체적 빅데이터, 비영리 단체(회계), 투자 \n",
    "이지현 : 콘텐츠, 금융투자\n",
    "전유석 : 빅데이터, 여러 데이터를 다루기, "
   ]
  },
  {
   "cell_type": "markdown",
   "metadata": {},
   "source": []
  },
  {
   "cell_type": "code",
   "execution_count": null,
   "metadata": {},
   "outputs": [],
   "source": []
  }
 ],
 "metadata": {
  "interpreter": {
   "hash": "ddbee94c2ce3b61c3b1774ea67d55f2fdae8c29319837f6f09ba2209f9564fc6"
  },
  "kernelspec": {
   "display_name": "Python 3.10.2 64-bit",
   "language": "python",
   "name": "python3"
  },
  "language_info": {
   "codemirror_mode": {
    "name": "ipython",
    "version": 3
   },
   "file_extension": ".py",
   "mimetype": "text/x-python",
   "name": "python",
   "nbconvert_exporter": "python",
   "pygments_lexer": "ipython3",
   "version": "3.10.2"
  },
  "orig_nbformat": 4
 },
 "nbformat": 4,
 "nbformat_minor": 2
}
