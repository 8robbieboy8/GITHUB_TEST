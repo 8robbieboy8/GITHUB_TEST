{
 "cells": [
  {
   "cell_type": "code",
   "execution_count": null,
   "metadata": {},
   "outputs": [],
   "source": [
    "sql = '''\n",
    "        SELECT MIN(`REGION)\n",
    "        FROM sales\n",
    "        '''\n",
    "result = _dtexecuteAll(sql)\n",
    "pd.Dataframe(result)"
   ]
  },
  {
   "cell_type": "code",
   "execution_count": null,
   "metadata": {},
   "outputs": [],
   "source": [
    "slq = '''\n",
    "        SELECT REPLACE('A', 'B', 'B', 'b')\n",
    "        FROM sales\n",
    "        '''\n",
    "result = _dt.executeAll(sql)\n",
    "pd.DataFrame(result)"
   ]
  },
  {
   "cell_type": "code",
   "execution_count": null,
   "metadata": {},
   "outputs": [],
   "source": [
    "sql = '''\n",
    "        SELECT ENAME AS '사원명\n",
    "        SAL AS '월급'\n",
    "        SLA * 1.5 AS '인상된 월급\n",
    "        FROM emp\n",
    "'''\n",
    "result = _dt.executeAll(sql)\n",
    "pd.DataFrame(result)\n",
    "\n",
    "\n"
   ]
  },
  {
   "cell_type": "code",
   "execution_count": null,
   "metadata": {},
   "outputs": [],
   "source": [
    "sql = '''\n",
    "        SELECT\n",
    "        DEPTNO,\n",
    "        GROUP_CONCAT(ENAME)\n",
    "        GROUP_CONCAT(JOB)\n",
    "        FROM emp\n",
    "        GROUP BY DEPTNO\n",
    "'''\n",
    "result = _dt.executeAll(sql)\n",
    "pd.DataFrame(result)"
   ]
  },
  {
   "cell_type": "code",
   "execution_count": null,
   "metadata": {},
   "outputs": [],
   "source": [
    "sql = '''\n",
    "        SELECT\n",
    "        \n",
    "        FROM emp\n",
    "'''"
   ]
  },
  {
   "cell_type": "code",
   "execution_count": null,
   "metadata": {},
   "outputs": [],
   "source": [
    "import mod_sql\n",
    "import pandas as pd"
   ]
  },
  {
   "cell_type": "code",
   "execution_count": 1,
   "metadata": {},
   "outputs": [],
   "source": [
    "import mod_sql\n",
    "import pandas as pd"
   ]
  },
  {
   "cell_type": "code",
   "execution_count": null,
   "metadata": {},
   "outputs": [],
   "source": [
    "_db = mod_sql.Database()"
   ]
  },
  {
   "cell_type": "code",
   "execution_count": 2,
   "metadata": {},
   "outputs": [
    {
     "ename": "OperationalError",
     "evalue": "(2003, \"Can't connect to MySQL server on 'darkpreist.iptime.org' (timed out)\")",
     "output_type": "error",
     "traceback": [
      "\u001b[1;31m---------------------------------------------------------------------------\u001b[0m",
      "\u001b[1;31mTimeoutError\u001b[0m                              Traceback (most recent call last)",
      "File \u001b[1;32m~\\AppData\\Local\\Programs\\Python\\Python310\\lib\\site-packages\\pymysql\\connections.py:613\u001b[0m, in \u001b[0;36mConnection.connect\u001b[1;34m(self, sock)\u001b[0m\n\u001b[0;32m    <a href='file:///c%3A/Users/spaceastonomy/AppData/Local/Programs/Python/Python310/lib/site-packages/pymysql/connections.py?line=611'>612</a>\u001b[0m \u001b[39mtry\u001b[39;00m:\n\u001b[1;32m--> <a href='file:///c%3A/Users/spaceastonomy/AppData/Local/Programs/Python/Python310/lib/site-packages/pymysql/connections.py?line=612'>613</a>\u001b[0m     sock \u001b[39m=\u001b[39m socket\u001b[39m.\u001b[39mcreate_connection(\n\u001b[0;32m    <a href='file:///c%3A/Users/spaceastonomy/AppData/Local/Programs/Python/Python310/lib/site-packages/pymysql/connections.py?line=613'>614</a>\u001b[0m         (\u001b[39mself\u001b[39m\u001b[39m.\u001b[39mhost, \u001b[39mself\u001b[39m\u001b[39m.\u001b[39mport), \u001b[39mself\u001b[39m\u001b[39m.\u001b[39mconnect_timeout, \u001b[39m*\u001b[39m\u001b[39m*\u001b[39mkwargs\n\u001b[0;32m    <a href='file:///c%3A/Users/spaceastonomy/AppData/Local/Programs/Python/Python310/lib/site-packages/pymysql/connections.py?line=614'>615</a>\u001b[0m     )\n\u001b[0;32m    <a href='file:///c%3A/Users/spaceastonomy/AppData/Local/Programs/Python/Python310/lib/site-packages/pymysql/connections.py?line=615'>616</a>\u001b[0m     \u001b[39mbreak\u001b[39;00m\n",
      "File \u001b[1;32m~\\AppData\\Local\\Programs\\Python\\Python310\\lib\\socket.py:845\u001b[0m, in \u001b[0;36mcreate_connection\u001b[1;34m(address, timeout, source_address)\u001b[0m\n\u001b[0;32m    <a href='file:///c%3A/Users/spaceastonomy/AppData/Local/Programs/Python/Python310/lib/socket.py?line=843'>844</a>\u001b[0m \u001b[39mtry\u001b[39;00m:\n\u001b[1;32m--> <a href='file:///c%3A/Users/spaceastonomy/AppData/Local/Programs/Python/Python310/lib/socket.py?line=844'>845</a>\u001b[0m     \u001b[39mraise\u001b[39;00m err\n\u001b[0;32m    <a href='file:///c%3A/Users/spaceastonomy/AppData/Local/Programs/Python/Python310/lib/socket.py?line=845'>846</a>\u001b[0m \u001b[39mfinally\u001b[39;00m:\n\u001b[0;32m    <a href='file:///c%3A/Users/spaceastonomy/AppData/Local/Programs/Python/Python310/lib/socket.py?line=846'>847</a>\u001b[0m     \u001b[39m# Break explicitly a reference cycle\u001b[39;00m\n",
      "File \u001b[1;32m~\\AppData\\Local\\Programs\\Python\\Python310\\lib\\socket.py:833\u001b[0m, in \u001b[0;36mcreate_connection\u001b[1;34m(address, timeout, source_address)\u001b[0m\n\u001b[0;32m    <a href='file:///c%3A/Users/spaceastonomy/AppData/Local/Programs/Python/Python310/lib/socket.py?line=831'>832</a>\u001b[0m     sock\u001b[39m.\u001b[39mbind(source_address)\n\u001b[1;32m--> <a href='file:///c%3A/Users/spaceastonomy/AppData/Local/Programs/Python/Python310/lib/socket.py?line=832'>833</a>\u001b[0m sock\u001b[39m.\u001b[39;49mconnect(sa)\n\u001b[0;32m    <a href='file:///c%3A/Users/spaceastonomy/AppData/Local/Programs/Python/Python310/lib/socket.py?line=833'>834</a>\u001b[0m \u001b[39m# Break explicitly a reference cycle\u001b[39;00m\n",
      "\u001b[1;31mTimeoutError\u001b[0m: timed out",
      "\nDuring handling of the above exception, another exception occurred:\n",
      "\u001b[1;31mOperationalError\u001b[0m                          Traceback (most recent call last)",
      "\u001b[1;32mc:\\Users\\spaceastonomy\\Desktop\\실습\\220316\\연습.ipynb Cell 9'\u001b[0m in \u001b[0;36m<module>\u001b[1;34m\u001b[0m\n\u001b[1;32m----> <a href='vscode-notebook-cell:/c%3A/Users/spaceastonomy/Desktop/%EC%8B%A4%EC%8A%B5/220316/%EC%97%B0%EC%8A%B5.ipynb#ch0000008?line=0'>1</a>\u001b[0m _dt \u001b[39m=\u001b[39m mod_sql\u001b[39m.\u001b[39;49mDatabase()\n",
      "File \u001b[1;32mc:\\Users\\spaceastonomy\\Desktop\\실습\\220316\\mod_sql.py:16\u001b[0m, in \u001b[0;36mDatabase.__init__\u001b[1;34m(self)\u001b[0m\n\u001b[0;32m     <a href='file:///c%3A/Users/spaceastonomy/Desktop/%EC%8B%A4%EC%8A%B5/220316/mod_sql.py?line=14'>15</a>\u001b[0m \u001b[39mdef\u001b[39;00m \u001b[39m__init__\u001b[39m(\u001b[39mself\u001b[39m):\n\u001b[1;32m---> <a href='file:///c%3A/Users/spaceastonomy/Desktop/%EC%8B%A4%EC%8A%B5/220316/mod_sql.py?line=15'>16</a>\u001b[0m     \u001b[39mself\u001b[39m\u001b[39m.\u001b[39m_db \u001b[39m=\u001b[39m pymysql\u001b[39m.\u001b[39;49mconnect(\u001b[39m#교수님 서버\u001b[39;49;00m\n\u001b[0;32m     <a href='file:///c%3A/Users/spaceastonomy/Desktop/%EC%8B%A4%EC%8A%B5/220316/mod_sql.py?line=16'>17</a>\u001b[0m                                 host \u001b[39m=\u001b[39;49m \u001b[39m\"\u001b[39;49m\u001b[39mdarkpreist.iptime.org\u001b[39;49m\u001b[39m\"\u001b[39;49m, \n\u001b[0;32m     <a href='file:///c%3A/Users/spaceastonomy/Desktop/%EC%8B%A4%EC%8A%B5/220316/mod_sql.py?line=17'>18</a>\u001b[0m                                 user \u001b[39m=\u001b[39;49m \u001b[39m\"\u001b[39;49m\u001b[39mubion\u001b[39;49m\u001b[39m\"\u001b[39;49m,\n\u001b[0;32m     <a href='file:///c%3A/Users/spaceastonomy/Desktop/%EC%8B%A4%EC%8A%B5/220316/mod_sql.py?line=18'>19</a>\u001b[0m                                 password \u001b[39m=\u001b[39;49m \u001b[39m\"\u001b[39;49m\u001b[39m1234\u001b[39;49m\u001b[39m\"\u001b[39;49m,\n\u001b[0;32m     <a href='file:///c%3A/Users/spaceastonomy/Desktop/%EC%8B%A4%EC%8A%B5/220316/mod_sql.py?line=19'>20</a>\u001b[0m                                 db \u001b[39m=\u001b[39;49m \u001b[39m\"\u001b[39;49m\u001b[39mubion\u001b[39;49m\u001b[39m\"\u001b[39;49m,\n\u001b[0;32m     <a href='file:///c%3A/Users/spaceastonomy/Desktop/%EC%8B%A4%EC%8A%B5/220316/mod_sql.py?line=20'>21</a>\u001b[0m                                 port \u001b[39m=\u001b[39;49m \u001b[39m3306\u001b[39;49m)\n\u001b[0;32m     <a href='file:///c%3A/Users/spaceastonomy/Desktop/%EC%8B%A4%EC%8A%B5/220316/mod_sql.py?line=21'>22</a>\u001b[0m     \u001b[39mself\u001b[39m\u001b[39m.\u001b[39mcursor \u001b[39m=\u001b[39m \u001b[39mself\u001b[39m\u001b[39m.\u001b[39m_db\u001b[39m.\u001b[39mcursor(pymysql\u001b[39m.\u001b[39mcursors\u001b[39m.\u001b[39mDictCursor)\n",
      "File \u001b[1;32m~\\AppData\\Local\\Programs\\Python\\Python310\\lib\\site-packages\\pymysql\\connections.py:353\u001b[0m, in \u001b[0;36mConnection.__init__\u001b[1;34m(self, user, password, host, database, unix_socket, port, charset, sql_mode, read_default_file, conv, use_unicode, client_flag, cursorclass, init_command, connect_timeout, read_default_group, autocommit, local_infile, max_allowed_packet, defer_connect, auth_plugin_map, read_timeout, write_timeout, bind_address, binary_prefix, program_name, server_public_key, ssl, ssl_ca, ssl_cert, ssl_disabled, ssl_key, ssl_verify_cert, ssl_verify_identity, compress, named_pipe, passwd, db)\u001b[0m\n\u001b[0;32m    <a href='file:///c%3A/Users/spaceastonomy/AppData/Local/Programs/Python/Python310/lib/site-packages/pymysql/connections.py?line=350'>351</a>\u001b[0m     \u001b[39mself\u001b[39m\u001b[39m.\u001b[39m_sock \u001b[39m=\u001b[39m \u001b[39mNone\u001b[39;00m\n\u001b[0;32m    <a href='file:///c%3A/Users/spaceastonomy/AppData/Local/Programs/Python/Python310/lib/site-packages/pymysql/connections.py?line=351'>352</a>\u001b[0m \u001b[39melse\u001b[39;00m:\n\u001b[1;32m--> <a href='file:///c%3A/Users/spaceastonomy/AppData/Local/Programs/Python/Python310/lib/site-packages/pymysql/connections.py?line=352'>353</a>\u001b[0m     \u001b[39mself\u001b[39;49m\u001b[39m.\u001b[39;49mconnect()\n",
      "File \u001b[1;32m~\\AppData\\Local\\Programs\\Python\\Python310\\lib\\site-packages\\pymysql\\connections.py:664\u001b[0m, in \u001b[0;36mConnection.connect\u001b[1;34m(self, sock)\u001b[0m\n\u001b[0;32m    <a href='file:///c%3A/Users/spaceastonomy/AppData/Local/Programs/Python/Python310/lib/site-packages/pymysql/connections.py?line=661'>662</a>\u001b[0m     \u001b[39mif\u001b[39;00m DEBUG:\n\u001b[0;32m    <a href='file:///c%3A/Users/spaceastonomy/AppData/Local/Programs/Python/Python310/lib/site-packages/pymysql/connections.py?line=662'>663</a>\u001b[0m         \u001b[39mprint\u001b[39m(exc\u001b[39m.\u001b[39mtraceback)\n\u001b[1;32m--> <a href='file:///c%3A/Users/spaceastonomy/AppData/Local/Programs/Python/Python310/lib/site-packages/pymysql/connections.py?line=663'>664</a>\u001b[0m     \u001b[39mraise\u001b[39;00m exc\n\u001b[0;32m    <a href='file:///c%3A/Users/spaceastonomy/AppData/Local/Programs/Python/Python310/lib/site-packages/pymysql/connections.py?line=665'>666</a>\u001b[0m \u001b[39m# If e is neither DatabaseError or IOError, It's a bug.\u001b[39;00m\n\u001b[0;32m    <a href='file:///c%3A/Users/spaceastonomy/AppData/Local/Programs/Python/Python310/lib/site-packages/pymysql/connections.py?line=666'>667</a>\u001b[0m \u001b[39m# But raising AssertionError hides original error.\u001b[39;00m\n\u001b[0;32m    <a href='file:///c%3A/Users/spaceastonomy/AppData/Local/Programs/Python/Python310/lib/site-packages/pymysql/connections.py?line=667'>668</a>\u001b[0m \u001b[39m# So just reraise it.\u001b[39;00m\n\u001b[0;32m    <a href='file:///c%3A/Users/spaceastonomy/AppData/Local/Programs/Python/Python310/lib/site-packages/pymysql/connections.py?line=668'>669</a>\u001b[0m \u001b[39mraise\u001b[39;00m\n",
      "\u001b[1;31mOperationalError\u001b[0m: (2003, \"Can't connect to MySQL server on 'darkpreist.iptime.org' (timed out)\")"
     ]
    }
   ],
   "source": [
    "_dt = mod_sql.Database()"
   ]
  },
  {
   "cell_type": "code",
   "execution_count": null,
   "metadata": {},
   "outputs": [],
   "source": [
    "sql = \"\"\" \n",
    "        SELECT * FROM sales\n",
    "        \"\"\"\n",
    "\n",
    "result = _db.executeAll(sql)\n",
    "dt = pd.DataFrame(result)\n",
    "dt.head()"
   ]
  },
  {
   "cell_type": "code",
   "execution_count": null,
   "metadata": {},
   "outputs": [],
   "source": [
    "sql = \"\"\"\n",
    "        SELECT *\n",
    "        FROM sales\n",
    "        \n",
    "        \"\"\"\n",
    "\n",
    "result = _dt.executeAll(sql)\n",
    "dt = pd.DataFrame(result)\n",
    "dt.head()\n",
    "pd.DataFrame(result)"
   ]
  },
  {
   "cell_type": "code",
   "execution_count": null,
   "metadata": {},
   "outputs": [],
   "source": [
    "sql = \"\"\"\n",
    "        SELECT ENAME,\n",
    "        CASE\n",
    "            WHEN JOB = \"ANANLYST\" THEN \"분석사\n",
    "            THEN JOB = \"CLERK\" THEN \"점원\"\n",
    "            WHEN JOB = \"MANAGER\" THEN \"관리자\"\n",
    "            END AS JOB \n",
    "        FROM emp\n",
    "    \"\"\"\n",
    "result = _dt.executeAll(sql)\n",
    "pd.DataFrame(result)"
   ]
  },
  {
   "cell_type": "code",
   "execution_count": null,
   "metadata": {},
   "outputs": [],
   "source": [
    "sql = \"\"\"\n",
    "        SELECT ENAME\n",
    "        FROM emp\n",
    "        WHERE DEPTNO = \n",
    "        (\n",
    "            SELECT DEPTNO FROM dept\n",
    "            WHERE NAME = \"sales\"\n",
    "        )\n",
    "        \"\"\"\n",
    "resutl = _dt.executeAll(sql)\n",
    "pd.DataFrame(result)        "
   ]
  },
  {
   "cell_type": "code",
   "execution_count": null,
   "metadata": {},
   "outputs": [],
   "source": [
    "sql = "
   ]
  }
 ],
 "metadata": {
  "interpreter": {
   "hash": "ddbee94c2ce3b61c3b1774ea67d55f2fdae8c29319837f6f09ba2209f9564fc6"
  },
  "kernelspec": {
   "display_name": "Python 3.10.2 64-bit",
   "language": "python",
   "name": "python3"
  },
  "language_info": {
   "codemirror_mode": {
    "name": "ipython",
    "version": 3
   },
   "file_extension": ".py",
   "mimetype": "text/x-python",
   "name": "python",
   "nbconvert_exporter": "python",
   "pygments_lexer": "ipython3",
   "version": "3.10.2"
  },
  "orig_nbformat": 4
 },
 "nbformat": 4,
 "nbformat_minor": 2
}
