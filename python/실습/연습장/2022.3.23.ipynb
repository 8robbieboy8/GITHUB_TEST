{
 "cells": [
  {
   "cell_type": "markdown",
   "metadata": {},
   "source": [
    "표를 만들어라, \n",
    "import pandas as pd\n",
    "\n",
    "가상화폐와 현재가가 있는 표를 만들고 \n",
    "\n",
    "dt = pd.DataFrame([\n",
    "                    ['비트코인', '10000'],\n",
    "                    ['리플', '1000']\n",
    "])\n",
    "\n",
    "비트코인과, 리플, 각각 가격은 10000, 1000원이다. \n",
    "dt.columns = ['가상화폐', '현재가']"
   ]
  },
  {
   "cell_type": "code",
   "execution_count": null,
   "metadata": {},
   "outputs": [],
   "source": [
    "import pandas as pd\n",
    "dt = pd.DataFrame([\n",
    "                    ['비트코인', '10000'],\n",
    "                    ['리플', '1000']\n",
    "])\n",
    "\n",
    "dt.columns = ['가상화폐', '현재가']\n",
    "\n",
    "dt"
   ]
  },
  {
   "cell_type": "code",
   "execution_count": null,
   "metadata": {},
   "outputs": [],
   "source": [
    "import pandas as pd\n",
    "dt = pd.DataFrame([\n",
    "            [\"비트코인\", \"9,744000\"],\n",
    "            [\"리플\", 711]\n",
    "            ])\n",
    "dt.columns = ['가상화폐', '현재가']\n",
    "\n",
    "dt"
   ]
  },
  {
   "cell_type": "markdown",
   "metadata": {},
   "source": [
    "리스트에 항목을 만들어 줄때는 변수에 리스트를 담아 만들어 준다. \n",
    "portfolio = []\n",
    "\n",
    "지정한 변수에 append함수를 활용해, () 안에 항목을 담아 준다. \n",
    "\n",
    "portfolio.append(\"BTC\")\n",
    "portfolio.append(\"ETH\")\n",
    "portfolio.append(\"XRP\")\n",
    "\n",
    "print(portfolio)"
   ]
  },
  {
   "cell_type": "code",
   "execution_count": null,
   "metadata": {},
   "outputs": [],
   "source": [
    "portfolio = []\n",
    "portfolio.append(\"BTC\")\n",
    "portfolio.append(\"ETH\")\n",
    "portfolio.append(\"XRP\")\n",
    "\n",
    "print(portfolio)"
   ]
  },
  {
   "cell_type": "markdown",
   "metadata": {},
   "source": [
    "for문을 사용해서 항목들을 담아 보자 . \n",
    "\n",
    "먼저 변수에 리스트 형태로 이루어진 항목들을 담자\n",
    "tickers = [\"btc\", \"btg\", \"bch\", \"xrp\"]\n",
    "\n",
    "그리고 for문에 변수하나를 더 설정하고 전역변수에 설정한 변수를 사용해서 프린트 해준다.\n",
    "for ticker in tickers:\n",
    "    print(ticker)\n",
    "\n"
   ]
  },
  {
   "cell_type": "code",
   "execution_count": null,
   "metadata": {},
   "outputs": [],
   "source": [
    "tickers = [\"btc\", \"btg\", \"bch\", \"xrp\"]\n",
    "\n",
    "for ticker in tickers:\n",
    "    print(ticker)"
   ]
  },
  {
   "cell_type": "markdown",
   "metadata": {},
   "source": [
    "url 링크를 불러올때는 requests 모듈을 사용한다. \n",
    "import requests\n",
    "\n",
    "변수에 주소를 담아 주고\n",
    "url = \"https://finance.naver.com/item/main.nhn?code=000660\"\n",
    "\n",
    "다른 변수에 requests함수에 get함수를 지정하고 (url)을 넣어 담아준다. \n",
    "html = requests.get(url).text"
   ]
  },
  {
   "cell_type": "code",
   "execution_count": null,
   "metadata": {},
   "outputs": [],
   "source": [
    "import requests\n",
    "\n",
    "url = \"https://finance.naver.com/item/main.nhn?code=000660\"\n",
    "html = requests.get(url).text\n"
   ]
  },
  {
   "cell_type": "code",
   "execution_count": null,
   "metadata": {},
   "outputs": [],
   "source": [
    "import requests\n",
    "from bs4 import BeautifulSoup\n",
    "  \n",
    "url = \"http://finance.naver.com/item/main.nhn?code=000660\"\n",
    "html = requests.get(url).text\n",
    "  \n",
    "soup = BeautifulSoup(html, \"html5lib\")\n",
    "tags = soup.select(\"#_per\")\n",
    "tag = tags[0]\n",
    "print(tag.text)"
   ]
  },
  {
   "cell_type": "code",
   "execution_count": null,
   "metadata": {},
   "outputs": [],
   "source": [
    "from pandas import Series\n",
    "data = [\"2018-01-01\"]\n",
    "xrp_close = [512]\n",
    "s = Series(xrp_close, index = data)\n",
    "print(s)"
   ]
  },
  {
   "cell_type": "markdown",
   "metadata": {},
   "source": [
    "삼성전자 주식을 불러오고 싶다면?\n",
    "\n",
    "먼저 야후파이낸스를 불러 와야 한다. \n",
    "import yfinance as yf\n",
    "\n",
    "그리고, 야휴에서 정보를 다운로드 받을 껀데, 정말 말 그대로 다운로드라는 단어를 쓸꺼야 \n",
    "그리고 이걸 변수에 담아 주면 앞으로 갖다 쓰기 편하겠지?\n",
    "\n",
    "df = yf. download('005930.KS', start =\"2021-04-18\", end =\"2022-04-18\")\n",
    "\n",
    "다운로드 뒤에 ()가 붙는데, 이 안에는 기본적으로, 종목코드, 시작과 끝날짜를 담아 주면 돼, 그럼 \n",
    "2021년 4월 18일 부터 2022년 4월 18일 까지 1년간의 삼정주신의 시가, 고가, 저가, 종가, 조정종가, 거래량을 불러 오시오 \n",
    "\n",
    "가 만들어 지지. \n",
    "\n"
   ]
  },
  {
   "cell_type": "code",
   "execution_count": 72,
   "metadata": {},
   "outputs": [
    {
     "name": "stdout",
     "output_type": "stream",
     "text": [
      "[*********************100%***********************]  1 of 1 completed\n"
     ]
    },
    {
     "data": {
      "text/html": [
       "<div>\n",
       "<style scoped>\n",
       "    .dataframe tbody tr th:only-of-type {\n",
       "        vertical-align: middle;\n",
       "    }\n",
       "\n",
       "    .dataframe tbody tr th {\n",
       "        vertical-align: top;\n",
       "    }\n",
       "\n",
       "    .dataframe thead th {\n",
       "        text-align: right;\n",
       "    }\n",
       "</style>\n",
       "<table border=\"1\" class=\"dataframe\">\n",
       "  <thead>\n",
       "    <tr style=\"text-align: right;\">\n",
       "      <th></th>\n",
       "      <th>Open</th>\n",
       "      <th>High</th>\n",
       "      <th>Low</th>\n",
       "      <th>Close</th>\n",
       "      <th>Adj Close</th>\n",
       "      <th>Volume</th>\n",
       "    </tr>\n",
       "    <tr>\n",
       "      <th>Date</th>\n",
       "      <th></th>\n",
       "      <th></th>\n",
       "      <th></th>\n",
       "      <th></th>\n",
       "      <th></th>\n",
       "      <th></th>\n",
       "    </tr>\n",
       "  </thead>\n",
       "  <tbody>\n",
       "    <tr>\n",
       "      <th>2021-04-19</th>\n",
       "      <td>83800.0</td>\n",
       "      <td>84000.0</td>\n",
       "      <td>83300.0</td>\n",
       "      <td>83300.0</td>\n",
       "      <td>82169.382812</td>\n",
       "      <td>15287311</td>\n",
       "    </tr>\n",
       "    <tr>\n",
       "      <th>2021-04-20</th>\n",
       "      <td>83300.0</td>\n",
       "      <td>84000.0</td>\n",
       "      <td>83100.0</td>\n",
       "      <td>83900.0</td>\n",
       "      <td>82761.234375</td>\n",
       "      <td>15521965</td>\n",
       "    </tr>\n",
       "    <tr>\n",
       "      <th>2021-04-21</th>\n",
       "      <td>83300.0</td>\n",
       "      <td>83500.0</td>\n",
       "      <td>82500.0</td>\n",
       "      <td>82600.0</td>\n",
       "      <td>81478.882812</td>\n",
       "      <td>21636079</td>\n",
       "    </tr>\n",
       "    <tr>\n",
       "      <th>2021-04-22</th>\n",
       "      <td>82900.0</td>\n",
       "      <td>83000.0</td>\n",
       "      <td>82400.0</td>\n",
       "      <td>82400.0</td>\n",
       "      <td>81281.593750</td>\n",
       "      <td>13934746</td>\n",
       "    </tr>\n",
       "    <tr>\n",
       "      <th>2021-04-23</th>\n",
       "      <td>81900.0</td>\n",
       "      <td>82900.0</td>\n",
       "      <td>81600.0</td>\n",
       "      <td>82800.0</td>\n",
       "      <td>81676.164062</td>\n",
       "      <td>17805080</td>\n",
       "    </tr>\n",
       "    <tr>\n",
       "      <th>...</th>\n",
       "      <td>...</td>\n",
       "      <td>...</td>\n",
       "      <td>...</td>\n",
       "      <td>...</td>\n",
       "      <td>...</td>\n",
       "      <td>...</td>\n",
       "    </tr>\n",
       "    <tr>\n",
       "      <th>2022-04-11</th>\n",
       "      <td>67800.0</td>\n",
       "      <td>68100.0</td>\n",
       "      <td>67400.0</td>\n",
       "      <td>67900.0</td>\n",
       "      <td>67900.000000</td>\n",
       "      <td>12263735</td>\n",
       "    </tr>\n",
       "    <tr>\n",
       "      <th>2022-04-12</th>\n",
       "      <td>67600.0</td>\n",
       "      <td>67700.0</td>\n",
       "      <td>67000.0</td>\n",
       "      <td>67000.0</td>\n",
       "      <td>67000.000000</td>\n",
       "      <td>13924389</td>\n",
       "    </tr>\n",
       "    <tr>\n",
       "      <th>2022-04-13</th>\n",
       "      <td>67300.0</td>\n",
       "      <td>69000.0</td>\n",
       "      <td>67200.0</td>\n",
       "      <td>68700.0</td>\n",
       "      <td>68700.000000</td>\n",
       "      <td>17378619</td>\n",
       "    </tr>\n",
       "    <tr>\n",
       "      <th>2022-04-14</th>\n",
       "      <td>68700.0</td>\n",
       "      <td>68700.0</td>\n",
       "      <td>67500.0</td>\n",
       "      <td>67500.0</td>\n",
       "      <td>67500.000000</td>\n",
       "      <td>16409494</td>\n",
       "    </tr>\n",
       "    <tr>\n",
       "      <th>2022-04-15</th>\n",
       "      <td>67200.0</td>\n",
       "      <td>67300.0</td>\n",
       "      <td>66500.0</td>\n",
       "      <td>66600.0</td>\n",
       "      <td>66600.000000</td>\n",
       "      <td>13176415</td>\n",
       "    </tr>\n",
       "  </tbody>\n",
       "</table>\n",
       "<p>245 rows × 6 columns</p>\n",
       "</div>"
      ],
      "text/plain": [
       "               Open     High      Low    Close     Adj Close    Volume\n",
       "Date                                                                  \n",
       "2021-04-19  83800.0  84000.0  83300.0  83300.0  82169.382812  15287311\n",
       "2021-04-20  83300.0  84000.0  83100.0  83900.0  82761.234375  15521965\n",
       "2021-04-21  83300.0  83500.0  82500.0  82600.0  81478.882812  21636079\n",
       "2021-04-22  82900.0  83000.0  82400.0  82400.0  81281.593750  13934746\n",
       "2021-04-23  81900.0  82900.0  81600.0  82800.0  81676.164062  17805080\n",
       "...             ...      ...      ...      ...           ...       ...\n",
       "2022-04-11  67800.0  68100.0  67400.0  67900.0  67900.000000  12263735\n",
       "2022-04-12  67600.0  67700.0  67000.0  67000.0  67000.000000  13924389\n",
       "2022-04-13  67300.0  69000.0  67200.0  68700.0  68700.000000  17378619\n",
       "2022-04-14  68700.0  68700.0  67500.0  67500.0  67500.000000  16409494\n",
       "2022-04-15  67200.0  67300.0  66500.0  66600.0  66600.000000  13176415\n",
       "\n",
       "[245 rows x 6 columns]"
      ]
     },
     "execution_count": 72,
     "metadata": {},
     "output_type": "execute_result"
    }
   ],
   "source": [
    "import yfinance as yf\n",
    "\n",
    "df = yf. download('005930.KS', start =\"2021-04-18\", end =\"2022-04-18\")\n",
    "\n",
    "df"
   ]
  },
  {
   "cell_type": "markdown",
   "metadata": {},
   "source": [
    "sk하이닉스를 불러 오고 싶니? \n",
    "\n",
    "그럼 yf.download를 사용하고 뒤로 ()를 만들어 줘. \n",
    "그리고 종목코드, 시작날짜, 끝나는 날짜를 넣어줘 \n",
    "df = yf.download('000660.KS', start = '2021-04-18', end= '2022-04-18')\n"
   ]
  },
  {
   "cell_type": "code",
   "execution_count": null,
   "metadata": {},
   "outputs": [],
   "source": [
    "df = yf.download('000660.KS', start = '2021-04-18', end= '2022-04-18')\n",
    "df"
   ]
  },
  {
   "cell_type": "markdown",
   "metadata": {},
   "source": [
    "lg전자를 불러오고 싶어 졌다. \n",
    "\n",
    "그럼 df= yf.download('종목코드.KS', start = '', end = '')\n",
    "이렇게 담아 주면 되고 \n",
    "\n",
    "df를 써주면 판다스 데이터 프레임에 예쁘게 담겨, \n",
    "프린트를 써서 df를 호출하면 그냥 시리즈 형태로 뽑히게 된다는 것 "
   ]
  },
  {
   "cell_type": "code",
   "execution_count": null,
   "metadata": {},
   "outputs": [],
   "source": [
    "df = yf.download('066570.KS', start='2021-04-18', end='2022-04-18')\n",
    "print(df)"
   ]
  },
  {
   "cell_type": "markdown",
   "metadata": {},
   "source": [
    "외국 주식도 함번 불러 와 볼까?\n",
    "\n",
    "애플주가를 한번 불러와 보자 \n",
    "\n",
    "자 먼저 처음부터 야후 파이넨스를 사용하자\n",
    "import yfinance as yf\n",
    "\n",
    "그리고 이제 yf.download를 사용해서 애플을 불러 보자, 애플은 코드 명은 'AAPL'이다. \n",
    "df = yf.download('AAPL', start = '2021-04-18', end = '2022-04-18')"
   ]
  },
  {
   "cell_type": "code",
   "execution_count": null,
   "metadata": {},
   "outputs": [],
   "source": [
    "import yfinance as yf\n",
    "\n",
    "df = yf.download('AAPL', start = '2021-04-18', end = '2022-04-18')\n",
    "\n",
    "df"
   ]
  },
  {
   "cell_type": "markdown",
   "metadata": {},
   "source": [
    "종가만 호출하고 싶다면? \n",
    "\n",
    "알다시피, 우리가 df에 종목정보를 다운로드 받고 동시에 담아줬잖아. 이제 이 df를 사용해 주면 됨\n",
    "\n",
    "df['Close'] \n",
    "\n",
    "라는 코드 하나로 종가만 호출 가능 "
   ]
  },
  {
   "cell_type": "code",
   "execution_count": null,
   "metadata": {},
   "outputs": [],
   "source": [
    "df[\"Close\"]"
   ]
  },
  {
   "cell_type": "markdown",
   "metadata": {},
   "source": [
    "야후 파이넨스에스 쓰는 ticker는 종목을 선택 할수 있어 \n",
    "\n",
    "sam = yf.Ticker('005930.KS')\n",
    "\n",
    "그런대 ()안에 종목명만 쓸 수 있고, 다운로드 처럼 날짜는 안돼 "
   ]
  },
  {
   "cell_type": "code",
   "execution_count": 73,
   "metadata": {},
   "outputs": [
    {
     "data": {
      "text/plain": [
       "yfinance.Ticker object <005930.KS>"
      ]
     },
     "execution_count": 73,
     "metadata": {},
     "output_type": "execute_result"
    }
   ],
   "source": [
    "sam = yf.Ticker('005930.KS')\n",
    "sam"
   ]
  },
  {
   "cell_type": "code",
   "execution_count": 75,
   "metadata": {},
   "outputs": [
    {
     "data": {
      "text/html": [
       "<div>\n",
       "<style scoped>\n",
       "    .dataframe tbody tr th:only-of-type {\n",
       "        vertical-align: middle;\n",
       "    }\n",
       "\n",
       "    .dataframe tbody tr th {\n",
       "        vertical-align: top;\n",
       "    }\n",
       "\n",
       "    .dataframe thead th {\n",
       "        text-align: right;\n",
       "    }\n",
       "</style>\n",
       "<table border=\"1\" class=\"dataframe\">\n",
       "  <thead>\n",
       "    <tr style=\"text-align: right;\">\n",
       "      <th></th>\n",
       "      <th>Open</th>\n",
       "      <th>High</th>\n",
       "      <th>Low</th>\n",
       "      <th>Close</th>\n",
       "      <th>Volume</th>\n",
       "      <th>Dividends</th>\n",
       "      <th>Stock Splits</th>\n",
       "    </tr>\n",
       "    <tr>\n",
       "      <th>Date</th>\n",
       "      <th></th>\n",
       "      <th></th>\n",
       "      <th></th>\n",
       "      <th></th>\n",
       "      <th></th>\n",
       "      <th></th>\n",
       "      <th></th>\n",
       "    </tr>\n",
       "  </thead>\n",
       "  <tbody>\n",
       "    <tr>\n",
       "      <th>2021-04-19</th>\n",
       "      <td>82662.588535</td>\n",
       "      <td>82859.873950</td>\n",
       "      <td>82169.375000</td>\n",
       "      <td>82169.375000</td>\n",
       "      <td>15287311</td>\n",
       "      <td>0.0</td>\n",
       "      <td>0</td>\n",
       "    </tr>\n",
       "    <tr>\n",
       "      <th>2021-04-20</th>\n",
       "      <td>82169.378110</td>\n",
       "      <td>82859.877086</td>\n",
       "      <td>81972.092688</td>\n",
       "      <td>82761.234375</td>\n",
       "      <td>15521965</td>\n",
       "      <td>0.0</td>\n",
       "      <td>0</td>\n",
       "    </tr>\n",
       "    <tr>\n",
       "      <th>2021-04-21</th>\n",
       "      <td>82169.373941</td>\n",
       "      <td>82366.659352</td>\n",
       "      <td>81380.232294</td>\n",
       "      <td>81478.875000</td>\n",
       "      <td>21636079</td>\n",
       "      <td>0.0</td>\n",
       "      <td>0</td>\n",
       "    </tr>\n",
       "    <tr>\n",
       "      <th>2021-04-22</th>\n",
       "      <td>81774.807304</td>\n",
       "      <td>81873.450015</td>\n",
       "      <td>81281.593750</td>\n",
       "      <td>81281.593750</td>\n",
       "      <td>13934746</td>\n",
       "      <td>0.0</td>\n",
       "      <td>0</td>\n",
       "    </tr>\n",
       "    <tr>\n",
       "      <th>2021-04-23</th>\n",
       "      <td>80788.379671</td>\n",
       "      <td>81774.806773</td>\n",
       "      <td>80492.451540</td>\n",
       "      <td>81676.164062</td>\n",
       "      <td>17805080</td>\n",
       "      <td>0.0</td>\n",
       "      <td>0</td>\n",
       "    </tr>\n",
       "    <tr>\n",
       "      <th>...</th>\n",
       "      <td>...</td>\n",
       "      <td>...</td>\n",
       "      <td>...</td>\n",
       "      <td>...</td>\n",
       "      <td>...</td>\n",
       "      <td>...</td>\n",
       "      <td>...</td>\n",
       "    </tr>\n",
       "    <tr>\n",
       "      <th>2022-04-12</th>\n",
       "      <td>67600.000000</td>\n",
       "      <td>67700.000000</td>\n",
       "      <td>67000.000000</td>\n",
       "      <td>67000.000000</td>\n",
       "      <td>13924389</td>\n",
       "      <td>0.0</td>\n",
       "      <td>0</td>\n",
       "    </tr>\n",
       "    <tr>\n",
       "      <th>2022-04-13</th>\n",
       "      <td>67300.000000</td>\n",
       "      <td>69000.000000</td>\n",
       "      <td>67200.000000</td>\n",
       "      <td>68700.000000</td>\n",
       "      <td>17378619</td>\n",
       "      <td>0.0</td>\n",
       "      <td>0</td>\n",
       "    </tr>\n",
       "    <tr>\n",
       "      <th>2022-04-14</th>\n",
       "      <td>68700.000000</td>\n",
       "      <td>68700.000000</td>\n",
       "      <td>67500.000000</td>\n",
       "      <td>67500.000000</td>\n",
       "      <td>16409494</td>\n",
       "      <td>0.0</td>\n",
       "      <td>0</td>\n",
       "    </tr>\n",
       "    <tr>\n",
       "      <th>2022-04-15</th>\n",
       "      <td>67200.000000</td>\n",
       "      <td>67300.000000</td>\n",
       "      <td>66500.000000</td>\n",
       "      <td>66600.000000</td>\n",
       "      <td>13176415</td>\n",
       "      <td>0.0</td>\n",
       "      <td>0</td>\n",
       "    </tr>\n",
       "    <tr>\n",
       "      <th>2022-04-18</th>\n",
       "      <td>66600.000000</td>\n",
       "      <td>66600.000000</td>\n",
       "      <td>66600.000000</td>\n",
       "      <td>66600.000000</td>\n",
       "      <td>0</td>\n",
       "      <td>0.0</td>\n",
       "      <td>0</td>\n",
       "    </tr>\n",
       "  </tbody>\n",
       "</table>\n",
       "<p>246 rows × 7 columns</p>\n",
       "</div>"
      ],
      "text/plain": [
       "                    Open          High           Low         Close    Volume  \\\n",
       "Date                                                                           \n",
       "2021-04-19  82662.588535  82859.873950  82169.375000  82169.375000  15287311   \n",
       "2021-04-20  82169.378110  82859.877086  81972.092688  82761.234375  15521965   \n",
       "2021-04-21  82169.373941  82366.659352  81380.232294  81478.875000  21636079   \n",
       "2021-04-22  81774.807304  81873.450015  81281.593750  81281.593750  13934746   \n",
       "2021-04-23  80788.379671  81774.806773  80492.451540  81676.164062  17805080   \n",
       "...                  ...           ...           ...           ...       ...   \n",
       "2022-04-12  67600.000000  67700.000000  67000.000000  67000.000000  13924389   \n",
       "2022-04-13  67300.000000  69000.000000  67200.000000  68700.000000  17378619   \n",
       "2022-04-14  68700.000000  68700.000000  67500.000000  67500.000000  16409494   \n",
       "2022-04-15  67200.000000  67300.000000  66500.000000  66600.000000  13176415   \n",
       "2022-04-18  66600.000000  66600.000000  66600.000000  66600.000000         0   \n",
       "\n",
       "            Dividends  Stock Splits  \n",
       "Date                                 \n",
       "2021-04-19        0.0             0  \n",
       "2021-04-20        0.0             0  \n",
       "2021-04-21        0.0             0  \n",
       "2021-04-22        0.0             0  \n",
       "2021-04-23        0.0             0  \n",
       "...               ...           ...  \n",
       "2022-04-12        0.0             0  \n",
       "2022-04-13        0.0             0  \n",
       "2022-04-14        0.0             0  \n",
       "2022-04-15        0.0             0  \n",
       "2022-04-18        0.0             0  \n",
       "\n",
       "[246 rows x 7 columns]"
      ]
     },
     "execution_count": 75,
     "metadata": {},
     "output_type": "execute_result"
    }
   ],
   "source": [
    "sam.history(start='2021-04-19', end='2022-04-19')"
   ]
  },
  {
   "cell_type": "markdown",
   "metadata": {},
   "source": []
  },
  {
   "cell_type": "code",
   "execution_count": null,
   "metadata": {},
   "outputs": [],
   "source": [
    "apple = yf.Ticker('AAPL')\n",
    "apple"
   ]
  },
  {
   "cell_type": "markdown",
   "metadata": {},
   "source": [
    "배당금을 알아볼때는 dividends 를 사용하면 돼, 이 함수 역시, ()를 넣어서 나올수 있는 건 없어\n",
    "\n",
    "이 함수는 주식이 처음 발행되고 부터 지금까지 배당금을 보여줘 \n",
    "[] 리스트 형태로 뒤에 명령을 붙여주면 년도 까지는 가능 하지만, 복수 년도들은 안되 "
   ]
  },
  {
   "cell_type": "code",
   "execution_count": null,
   "metadata": {},
   "outputs": [],
   "source": [
    "apple.dividends['2020']"
   ]
  },
  {
   "cell_type": "markdown",
   "metadata": {},
   "source": [
    "비트코인을 불러와 보자\n",
    "\n",
    "업비트가 모듈을 제공해주고 있기 때문에 라이브러리를 사용해 보자 \n",
    "\n",
    "import pyupbit as up\n",
    "\n",
    "먼저 import pyupbit as up 를 사용해서 라이브러리를 불러와 주고 \n",
    "\n",
    "업비트에서 종목들을 불러오고 싶다면. get_tickers 라는 함수를 사용해서 (fiat은 우리가 사용하는 종이 화폐, 즉 명목화폐(fiat money)에서 나온 말이다. 동일한 방법으로 BTC / USDT 마켓의 암호화폐도 골라낼 수 있다.) 종목명을 불러 올수 있다.\n",
    "\n",
    "국가화폐로 명으로 불러 올수 있다. \n",
    "\n",
    "up.get_tickers(fiat = 'USD')\n",
    "up.get_tickers(fiat = 'KRW')"
   ]
  },
  {
   "cell_type": "code",
   "execution_count": null,
   "metadata": {},
   "outputs": [],
   "source": [
    "import pyupbit as up"
   ]
  },
  {
   "cell_type": "code",
   "execution_count": null,
   "metadata": {},
   "outputs": [],
   "source": [
    "up.get_tickers(fiat = 'USD')"
   ]
  },
  {
   "cell_type": "code",
   "execution_count": null,
   "metadata": {},
   "outputs": [],
   "source": [
    "up.get_tickers(fiat = 'KRW')"
   ]
  },
  {
   "cell_type": "markdown",
   "metadata": {},
   "source": [
    "코인의 현재가를 구할려면?\n",
    "\n",
    "get_current_price 함수를 사용하자, 함수안에 이제 ticker로 불러온 코인 코드를 사용해서 불러 올수 있다. \n",
    "이때 ()안에 [] 리스트로 감싸고, 종목을 불러와야 한다. \n",
    "\n",
    "up.get_current_price([\"KRW-BTC\", \"KRW-ETH\"])\n",
    "\n",
    "딕셔너리 형태로 출력이 된다. "
   ]
  },
  {
   "cell_type": "code",
   "execution_count": null,
   "metadata": {},
   "outputs": [],
   "source": [
    "a = up.get_current_price([\"KRW-BTC\", \"KRW-ETH\"])\n",
    "a['KRW-BTC']\n",
    "a[]"
   ]
  },
  {
   "cell_type": "markdown",
   "metadata": {},
   "source": [
    "코인 종목의 시가, 고가, 저가, 종가, 거래량을 알고 싶다면 \n",
    "get_ohlcv 함수를 사용해 보자 \n",
    "\n",
    "\n",
    "함수뒤에 ()를 쓸수 있는데, 여기에는 ticker, interval, to, count를 사용해서 디테일을 설정할 수 있다. \n",
    "ticker 는 종목, interval은 간격, to는 기간인데, end역할을 한다. count는 갯수이다. \n",
    "\n",
    "up.get_ohlcv(ticker = 'KRW-BTC', interval= 'minute60', to = '2020-01-01 00:00', count = 100)"
   ]
  },
  {
   "cell_type": "code",
   "execution_count": null,
   "metadata": {},
   "outputs": [],
   "source": [
    "up.get_ohlcv(ticker = 'KRW-BTC', interval= 'minute60', to = '2020-01-01 00:00', count = 100)"
   ]
  },
  {
   "cell_type": "markdown",
   "metadata": {},
   "source": [
    "코인의 현재가를 구할려면?\n",
    "\n",
    "get_current_price 함수를 사용하자, 함수안에 이제 ticker로 불러온 코인 코드를 사용해서 불러 올수 있다. \n",
    "이때 ()안에 [] 리스트로 감싸고, 종목을 불러와야 한다. \n",
    "\n",
    "up.get_current_price([\"KRW-BTC\", \"KRW-ETH\"])\n",
    "\n",
    "실시간으로 코인 가격을 불러 오고 싶다면?\n",
    "time이라는 모듈을 불러오고  \n",
    "\n",
    "import pyupbit\n",
    "import time\n",
    "\n",
    "while문을 사용해서 만들어 보자\n",
    "\n",
    "while True:\n",
    "\n",
    "while 문은 True, False형태로 문장을 만들어 줘야 한다. 뒤에는 항상 : 마로 닫아줘야 함수가 시작된다.\n",
    "\n",
    "그리고 while 안에 변수를 하나 만들고, 현재가 함수를 담아 준다. \n",
    "\n",
    "price = pyupbit.get_current_price(\"KRW-BTC\")\n",
    "\n",
    "그리고 이 변수를 출력해 주고, \n",
    "\n",
    "    print(price)\n",
    "\n",
    "처음 불러왔던 모듈 time을 사용해 보자. \n",
    "\n",
    "    print(price)"
   ]
  },
  {
   "cell_type": "code",
   "execution_count": null,
   "metadata": {},
   "outputs": [],
   "source": [
    "import pyupbit\n",
    "import time\n",
    "  \n",
    "while True:\n",
    "    price = pyupbit.get_current_price(\"KRW-BTC\")\n",
    "    print(price)\n",
    "    time.sleep(1)"
   ]
  },
  {
   "cell_type": "code",
   "execution_count": 77,
   "metadata": {},
   "outputs": [],
   "source": [
    "sam = yf.Ticker('005930.KS')"
   ]
  },
  {
   "cell_type": "code",
   "execution_count": null,
   "metadata": {},
   "outputs": [],
   "source": []
  },
  {
   "cell_type": "markdown",
   "metadata": {},
   "source": [
    "야후 파이낸스에서 삼성주가를 갖고 와라. \n",
    "\n",
    "기간은 최근 3개월 \n",
    "\n",
    "이걸 csv 파일로 만들고 \n",
    "\n"
   ]
  },
  {
   "cell_type": "code",
   "execution_count": null,
   "metadata": {},
   "outputs": [],
   "source": [
    "import yfinance as yf\n",
    "\n",
    "apple = yf.Ticker(\"AAPL\")\n",
    "apple.history(period= \"max\")\n",
    "result = apple.history(period= \"max\")\n",
    "resutl.to_csv(\"apple.csv\")\n",
    "\n",
    "import mod_sql\n",
    "\n",
    "_db = mod_sql.Database()\n",
    "\n",
    "result.index\n",
    "list(result.open)\n",
    "\n",
    "_sql = \"\"\"\n",
    "        SELECT *\n",
    "        FROM apple\n",
    "\n",
    "\"\"\"\n",
    "result = _db.executeAll(_sql)\n",
    "_df = pd.DataFrame(result)\n",
    "\n",
    "_df = _df.round(2)\n",
    "_df.isna().sum()\n",
    "_df.fillna(\"bfill\")\n",
    "_df[\"등락폭\"] = _df[\"Close\"] - _df[\"Open\"]\n",
    "_df[\"등락율\"] = _df[\"등락폭\"] / _df[\"Open\"] * 100\n",
    "\n",
    "import matplotlib.pyplot as plt\n",
    "plt.plot(_df[\"open\"])\n",
    "\n"
   ]
  },
  {
   "cell_type": "code",
   "execution_count": null,
   "metadata": {},
   "outputs": [],
   "source": [
    "import yfinance as yf\n",
    "\n",
    "apple = yf.Ticker(\"APPLE\")\n",
    "apple.history(preiod= \"max\")\n",
    "result = apple.history(period= \"max\")\n",
    "result.to_csv(\"apple.csv\")\n",
    "\n",
    "import mod_sql\n",
    "\n",
    "_db = mod_sql.Database()\n",
    "\n",
    "_sql = \"\"\"\n",
    "        SELECT *\n",
    "        FROM apple\n",
    "\n",
    "\"\"\"\n",
    "\n",
    "result = _db.executeAll(_sql)\n",
    "\n",
    "import pandas as pd\n",
    "\n",
    "_df = pd.DataFrame(result)\n",
    "\n",
    "_df = _df.round(2)\n",
    "_df.isna().sum()\n",
    "_df.fillna(\"bfill\")\n",
    "\n",
    "_df[\"등락폭\"] = _df[\"Close\"] - _df[\"Open\"]\n",
    "_df[\"등락율\"] = _df[\"등락폭\"] / _df[\"Open\"] * 100\n",
    "\n",
    "import matplotlib as plt\n",
    "\n",
    "plt.subplot(2,2,1)\n",
    "plt.plot(_df[\"Open\"])"
   ]
  },
  {
   "cell_type": "code",
   "execution_count": null,
   "metadata": {},
   "outputs": [],
   "source": [
    "import pandas as pd\n",
    "\n",
    "class Change_dt():\n",
    "    def __init__(self, input_csv):\n",
    "        self.dt = pd.read_csv(input_csv)\n",
    "        \n",
    "    def _sort(self, input_column):\n",
    "        if type(input_column) == int:\n",
    "            self.select = self.dt.columns[input_column]\n",
    "            self.dt.sort_values(self.select, inplace= True)\n",
    "            return self.dt\n",
    "        \n",
    "        elif type(input_column) == str:\n",
    "            self.dt.sort_values(self.select, inplace = True)\n",
    "            return self.dt\n",
    "        \n",
    "        elif:\n",
    "            print('데이터의 타입이 맞지 않습니다..')\n",
    "            return self.dt\n",
    "            \n",
    "    def _drop(sef, input_column):\n",
    "        self.dt.drop(input_column, axis=1, inplace= True)\n",
    "        return self.dt\n",
    "        \n",
    "    def _reset(self):\n",
    "        self.dt.reset_index(drop=True, inplace= True)\n",
    "        return self.dt\n",
    "    \n",
    "x = Change_dt(\"./csv/Sales Records.csv\")\n",
    "x.dt\n",
    "x._sort(1)\n",
    "x._drop(\"Sales Channel\")\n",
    "x._reset()"
   ]
  },
  {
   "cell_type": "code",
   "execution_count": null,
   "metadata": {},
   "outputs": [],
   "source": [
    "import pandas as pd\n",
    "dt = pd.DataFrame([[1,2,3], [2,3,4], [5,4,3]])\n",
    "\n",
    "dt.columns = [\"A\", \"B\", \"C\"]\n",
    "dt['D'] = (dt['C'] - dt['C'].shift()).fillna(0)\n",
    "\n",
    "dt.sort_values(\"A\", inplace= True)\n",
    "dt.reset_index(drop= True, inplace= True)\n",
    "\n",
    "dt"
   ]
  },
  {
   "cell_type": "code",
   "execution_count": null,
   "metadata": {},
   "outputs": [],
   "source": [
    "def diff_sum(input_a, input_b, input_c):\n",
    "    sum = input_a * input_b + input_c\n",
    "    sum_2 = input_a + input_b * input_c\n",
    "    if sum > sum_2:\n",
    "        resutl = sum - sum_2\n",
    "    elif sum < sum_2:\n",
    "        resutl = sum_2 - sum\n",
    "    else:\n",
    "        resut = 0\n",
    "        \n",
    "a = int(input(\"a\"))\n",
    "b = int(input(\"b\"))\n",
    "c = int(input(\"c\"))\n",
    "\n",
    "result = diff_sum(a,b,c)\n",
    "print(resutl)"
   ]
  },
  {
   "cell_type": "code",
   "execution_count": null,
   "metadata": {},
   "outputs": [],
   "source": [
    "a = [ i for i in range(10)]\n",
    "a"
   ]
  },
  {
   "cell_type": "code",
   "execution_count": null,
   "metadata": {},
   "outputs": [],
   "source": [
    "b = list( i for i in range(10))\n",
    "b"
   ]
  },
  {
   "cell_type": "code",
   "execution_count": null,
   "metadata": {},
   "outputs": [],
   "source": [
    "c = [ i + 5 for i in range(10)]\n",
    "c"
   ]
  },
  {
   "cell_type": "code",
   "execution_count": null,
   "metadata": {},
   "outputs": [],
   "source": [
    "d = [ i * 2 for i in range(10)]\n",
    "d"
   ]
  },
  {
   "cell_type": "code",
   "execution_count": null,
   "metadata": {},
   "outputs": [],
   "source": [
    "a = [ i for i in range(10) if i % 2 == 0 ]\n",
    "a"
   ]
  },
  {
   "cell_type": "code",
   "execution_count": null,
   "metadata": {},
   "outputs": [],
   "source": [
    "b = [ i + 5 for i in range(10) if i % 2 == 1 ]\n",
    "b"
   ]
  },
  {
   "cell_type": "code",
   "execution_count": null,
   "metadata": {},
   "outputs": [],
   "source": [
    "a = [print(\"%s x %s =\" %i * j) for j in range(2, 10) for i in range(1, 10)]\n",
    "a\n"
   ]
  },
  {
   "cell_type": "code",
   "execution_count": null,
   "metadata": {},
   "outputs": [],
   "source": [
    "[print(f'{dan} x {i} = {dan*i}') for dan in range(2, 10) for i in range(1, 10)]"
   ]
  },
  {
   "cell_type": "code",
   "execution_count": null,
   "metadata": {},
   "outputs": [],
   "source": [
    "a = [print(f'{dan} x {i} = {dan * i }') for dan in range(2, 10) for i  in range(1, 10)]\n",
    "a"
   ]
  },
  {
   "cell_type": "code",
   "execution_count": null,
   "metadata": {},
   "outputs": [],
   "source": [
    "nums = []\n",
    "for x in range(1, 11):\n",
    "    nums.append(x)\n",
    "    print(x)\n",
    " \n",
    "    \n"
   ]
  },
  {
   "cell_type": "code",
   "execution_count": null,
   "metadata": {},
   "outputs": [],
   "source": [
    "nums = [x for x in range(1, 11)]\n",
    "nums"
   ]
  },
  {
   "cell_type": "code",
   "execution_count": null,
   "metadata": {},
   "outputs": [],
   "source": [
    "nums2 = []\n",
    "for x in range(1,11):\n",
    "    nums2.append(x*x)\n",
    "    print(x*x)"
   ]
  },
  {
   "cell_type": "code",
   "execution_count": null,
   "metadata": {},
   "outputs": [],
   "source": [
    "num2 = [x*x for x in range(1,11)]\n",
    "num2"
   ]
  },
  {
   "cell_type": "code",
   "execution_count": null,
   "metadata": {},
   "outputs": [],
   "source": [
    "import random \n",
    "\n",
    "nums3 = []\n",
    "for _ in range(5):\n",
    "    nums3.append(random.randint(1,10))\n",
    "    print(nums3)"
   ]
  },
  {
   "cell_type": "code",
   "execution_count": null,
   "metadata": {},
   "outputs": [],
   "source": [
    "nums3 = [random.randint(1,10) for _ in range(5)]\n",
    "nums3"
   ]
  },
  {
   "cell_type": "code",
   "execution_count": null,
   "metadata": {},
   "outputs": [],
   "source": [
    "for i in range(2,10):\n",
    "    for j in range(1, 10):\n",
    "        print(\"%d x %d =\" %(i,j), i*j)"
   ]
  },
  {
   "cell_type": "code",
   "execution_count": null,
   "metadata": {},
   "outputs": [],
   "source": [
    "a = [print(\"%d x %d =\"%(i,j), i*j) for i in range(2, 10) for j in range(1,10)]\n",
    "a"
   ]
  },
  {
   "cell_type": "code",
   "execution_count": null,
   "metadata": {},
   "outputs": [],
   "source": [
    "nums2 = []\n",
    "for x1 in range(1, 6):\n",
    "    for x2 in range(91, 96):\n",
    "        nums2.append([x1, x2])\n",
    "print(nums2)"
   ]
  },
  {
   "cell_type": "code",
   "execution_count": null,
   "metadata": {},
   "outputs": [],
   "source": [
    "nums4 = [[x1, x2] for x1 in range(1,6) for x2 in range(91, 96)]\n",
    "nums4"
   ]
  },
  {
   "cell_type": "code",
   "execution_count": null,
   "metadata": {},
   "outputs": [],
   "source": [
    "scores = [20, 55, 12, 7, 6]\n",
    "nums5 = []\n",
    "for x in scores:\n",
    "    if x %2 == 0:\n",
    "        nums5.append(x)\n",
    "print(nums5)"
   ]
  },
  {
   "cell_type": "code",
   "execution_count": null,
   "metadata": {},
   "outputs": [],
   "source": [
    "num5 = [x for x in scores if x % 2 ==0]\n",
    "num5"
   ]
  },
  {
   "cell_type": "code",
   "execution_count": null,
   "metadata": {},
   "outputs": [],
   "source": [
    "words = [\"반짝\", \"하하\", \"별\", \"호호호\"]\n",
    "\n",
    "words2 = []\n",
    "for x in words:\n",
    "    if len(x) ==2:\n",
    "        words2.append(x+x)\n",
    "        \n",
    "print(words2)"
   ]
  },
  {
   "cell_type": "code",
   "execution_count": null,
   "metadata": {},
   "outputs": [],
   "source": [
    "words2 = [x+x for x in words if len(x) ==2]\n",
    "words2"
   ]
  },
  {
   "cell_type": "code",
   "execution_count": null,
   "metadata": {},
   "outputs": [],
   "source": [
    "words = [\"반짝\", \"하하\", \"별\", \"호호호\"]\n",
    "words3 = []\n",
    "\n",
    "for x in words:\n",
    "    if len(x) ==2:\n",
    "        words3.append(x+x)\n",
    "    else:\n",
    "        words3.append(x)\n",
    "        \n",
    "print(words3)"
   ]
  },
  {
   "cell_type": "code",
   "execution_count": null,
   "metadata": {},
   "outputs": [],
   "source": [
    "words3 = [x+x if len(x) ==2 else x for x in words]\n",
    "words3"
   ]
  },
  {
   "cell_type": "code",
   "execution_count": null,
   "metadata": {},
   "outputs": [],
   "source": [
    "nums = set()\n",
    "for x in range(1, 11):\n",
    "    nums.add(x)\n",
    "print(nums)"
   ]
  },
  {
   "cell_type": "code",
   "execution_count": null,
   "metadata": {},
   "outputs": [],
   "source": [
    "nums = {x for x in range(1, 11)}\n",
    "print(nums)"
   ]
  },
  {
   "cell_type": "code",
   "execution_count": null,
   "metadata": {},
   "outputs": [],
   "source": [
    "num = {}\n",
    "for x, y in enumerate(range(100, 110, 2)):\n",
    "    nums[x] = y\n",
    "\n",
    "print(nums)"
   ]
  },
  {
   "cell_type": "code",
   "execution_count": null,
   "metadata": {},
   "outputs": [],
   "source": [
    "nums = {x:y for x,y in enumerate(range(100, 110, 2))}\n",
    "nums"
   ]
  },
  {
   "cell_type": "code",
   "execution_count": null,
   "metadata": {},
   "outputs": [],
   "source": [
    "key_num = range(10, 51, 10)\n",
    "value_num = range(100, 105)\n",
    "\n",
    "nums2 = {}\n",
    "for x, y in zip(key_num, value_num):\n",
    "    nums2[x] = y\n",
    "    \n",
    "print(nums2)"
   ]
  },
  {
   "cell_type": "code",
   "execution_count": null,
   "metadata": {},
   "outputs": [],
   "source": [
    "nums2 = {x:y for x, y in zip(key_num, value_num)}\n",
    "nums2"
   ]
  },
  {
   "cell_type": "code",
   "execution_count": null,
   "metadata": {},
   "outputs": [],
   "source": []
  }
 ],
 "metadata": {
  "interpreter": {
   "hash": "b1269504bf1248269f056a465bc4c12d8a4acb51f1ea5e065be3f9e0fb3ca3ae"
  },
  "kernelspec": {
   "display_name": "Python 3.8.6 32-bit",
   "language": "python",
   "name": "python3"
  },
  "language_info": {
   "codemirror_mode": {
    "name": "ipython",
    "version": 3
   },
   "file_extension": ".py",
   "mimetype": "text/x-python",
   "name": "python",
   "nbconvert_exporter": "python",
   "pygments_lexer": "ipython3",
   "version": "3.8.6"
  },
  "orig_nbformat": 4
 },
 "nbformat": 4,
 "nbformat_minor": 2
}
