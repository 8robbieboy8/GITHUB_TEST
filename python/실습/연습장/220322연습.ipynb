{
 "cells": [
  {
   "cell_type": "code",
   "execution_count": 1,
   "metadata": {},
   "outputs": [
    {
     "data": {
      "text/plain": [
       "[0, 1, 2, 3, 4, 5, 6, 7, 8, 9]"
      ]
     },
     "execution_count": 1,
     "metadata": {},
     "output_type": "execute_result"
    }
   ],
   "source": [
    "a = [ i for i in range(10)]\n",
    "a"
   ]
  },
  {
   "cell_type": "code",
   "execution_count": 2,
   "metadata": {},
   "outputs": [
    {
     "data": {
      "text/plain": [
       "[0, 1, 2, 3, 4, 5, 6, 7, 8, 9]"
      ]
     },
     "execution_count": 2,
     "metadata": {},
     "output_type": "execute_result"
    }
   ],
   "source": [
    "b = list(i for i in range(10))\n",
    "b"
   ]
  },
  {
   "cell_type": "code",
   "execution_count": 3,
   "metadata": {},
   "outputs": [
    {
     "data": {
      "text/plain": [
       "[5, 6, 7, 8, 9, 10, 11, 12, 13, 14]"
      ]
     },
     "execution_count": 3,
     "metadata": {},
     "output_type": "execute_result"
    }
   ],
   "source": [
    "c = [i + 5 for i in range(10)]\n",
    "c"
   ]
  },
  {
   "cell_type": "code",
   "execution_count": 4,
   "metadata": {},
   "outputs": [
    {
     "data": {
      "text/plain": [
       "[0, 2, 4, 6, 8, 10, 12, 14, 16, 18]"
      ]
     },
     "execution_count": 4,
     "metadata": {},
     "output_type": "execute_result"
    }
   ],
   "source": [
    "d = [i * 2 for i in range(10)]\n",
    "d"
   ]
  },
  {
   "cell_type": "code",
   "execution_count": 5,
   "metadata": {},
   "outputs": [
    {
     "data": {
      "text/plain": [
       "[0, 2, 4, 6, 8]"
      ]
     },
     "execution_count": 5,
     "metadata": {},
     "output_type": "execute_result"
    }
   ],
   "source": [
    "a = [i for i in range(10) if i % 2 == 0 ]\n",
    "a"
   ]
  },
  {
   "cell_type": "code",
   "execution_count": 7,
   "metadata": {},
   "outputs": [
    {
     "data": {
      "text/plain": [
       "[6, 8, 10, 12, 14]"
      ]
     },
     "execution_count": 7,
     "metadata": {},
     "output_type": "execute_result"
    }
   ],
   "source": [
    "b = [i + 5 for i in range(10) if i % 2 ==1 ]\n",
    "b"
   ]
  },
  {
   "cell_type": "code",
   "execution_count": null,
   "metadata": {},
   "outputs": [],
   "source": [
    ">>> a = []\n",
    ">>> for i in range(5) :\n",
    "...    a.append(i)\n",
    "...\n",
    ">>> a"
   ]
  },
  {
   "cell_type": "code",
   "execution_count": 12,
   "metadata": {},
   "outputs": [
    {
     "name": "stdout",
     "output_type": "stream",
     "text": [
      "0\n",
      "1\n",
      "2\n",
      "3\n",
      "4\n"
     ]
    },
    {
     "data": {
      "text/plain": [
       "[]"
      ]
     },
     "execution_count": 12,
     "metadata": {},
     "output_type": "execute_result"
    }
   ],
   "source": [
    "a = []\n",
    "for i in range(5):\n",
    "    # a.append(i)\n",
    "    print(i)\n",
    "\n",
    "\n",
    "a"
   ]
  },
  {
   "cell_type": "code",
   "execution_count": 10,
   "metadata": {},
   "outputs": [
    {
     "data": {
      "text/plain": [
       "[0, 1, 2, 3, 4]"
      ]
     },
     "execution_count": 10,
     "metadata": {},
     "output_type": "execute_result"
    }
   ],
   "source": [
    "a = [ i for i in range(5)]\n",
    "a"
   ]
  },
  {
   "cell_type": "code",
   "execution_count": 1,
   "metadata": {},
   "outputs": [
    {
     "data": {
      "text/plain": [
       "[0, 1, 2, 3, 4, 5, 6, 7, 8, 9]"
      ]
     },
     "execution_count": 1,
     "metadata": {},
     "output_type": "execute_result"
    }
   ],
   "source": [
    "a = [i for i in range(10)]\n",
    "a"
   ]
  },
  {
   "cell_type": "code",
   "execution_count": 2,
   "metadata": {},
   "outputs": [
    {
     "data": {
      "text/plain": [
       "[0, 1, 2, 3, 4, 5, 6, 7, 8, 9]"
      ]
     },
     "execution_count": 2,
     "metadata": {},
     "output_type": "execute_result"
    }
   ],
   "source": [
    "b = list(i for i in range(10))\n",
    "b"
   ]
  },
  {
   "cell_type": "code",
   "execution_count": 3,
   "metadata": {},
   "outputs": [
    {
     "data": {
      "text/plain": [
       "[5, 6, 7, 8, 9, 10, 11, 12, 13, 14]"
      ]
     },
     "execution_count": 3,
     "metadata": {},
     "output_type": "execute_result"
    }
   ],
   "source": [
    "c =[ i + 5 for i in range(10)]\n",
    "c"
   ]
  },
  {
   "cell_type": "code",
   "execution_count": 4,
   "metadata": {},
   "outputs": [
    {
     "data": {
      "text/plain": [
       "[0, 2, 4, 6, 8, 10, 12, 14, 16, 18]"
      ]
     },
     "execution_count": 4,
     "metadata": {},
     "output_type": "execute_result"
    }
   ],
   "source": [
    "d = [i * 2 for i in range(10)]\n",
    "d"
   ]
  },
  {
   "cell_type": "code",
   "execution_count": 5,
   "metadata": {},
   "outputs": [
    {
     "data": {
      "text/plain": [
       "[0, 2, 4, 6, 8]"
      ]
     },
     "execution_count": 5,
     "metadata": {},
     "output_type": "execute_result"
    }
   ],
   "source": [
    "a = [i for i in range(10) if i % 2 == 0 ]\n",
    "a\n"
   ]
  },
  {
   "cell_type": "code",
   "execution_count": 6,
   "metadata": {},
   "outputs": [
    {
     "data": {
      "text/plain": [
       "[6, 8, 10, 12, 14]"
      ]
     },
     "execution_count": 6,
     "metadata": {},
     "output_type": "execute_result"
    }
   ],
   "source": [
    "b= [i + 5 for i in range(10) if i % 2 == 1 ]\n",
    "b"
   ]
  },
  {
   "cell_type": "code",
   "execution_count": 9,
   "metadata": {},
   "outputs": [
    {
     "ename": "TypeError",
     "evalue": "%d format: a number is required, not list",
     "output_type": "error",
     "traceback": [
      "\u001b[1;31m---------------------------------------------------------------------------\u001b[0m",
      "\u001b[1;31mTypeError\u001b[0m                                 Traceback (most recent call last)",
      "\u001b[1;32mc:\\Users\\spaceastonomy\\Desktop\\실습\\연습장\\220322연습.ipynb Cell 16'\u001b[0m in \u001b[0;36m<cell line: 2>\u001b[1;34m()\u001b[0m\n\u001b[0;32m      <a href='vscode-notebook-cell:/c%3A/Users/spaceastonomy/Desktop/%EC%8B%A4%EC%8A%B5/%EC%97%B0%EC%8A%B5%EC%9E%A5/220322%EC%97%B0%EC%8A%B5.ipynb#ch0000015?line=0'>1</a>\u001b[0m a \u001b[39m=\u001b[39m [i \u001b[39m*\u001b[39m j \u001b[39mfor\u001b[39;00m j \u001b[39min\u001b[39;00m \u001b[39mrange\u001b[39m(\u001b[39m2\u001b[39m, \u001b[39m10\u001b[39m) \u001b[39mfor\u001b[39;00m i \u001b[39min\u001b[39;00m \u001b[39mrange\u001b[39m(\u001b[39m1\u001b[39m,\u001b[39m10\u001b[39m)]\n\u001b[1;32m----> <a href='vscode-notebook-cell:/c%3A/Users/spaceastonomy/Desktop/%EC%8B%A4%EC%8A%B5/%EC%97%B0%EC%8A%B5%EC%9E%A5/220322%EC%97%B0%EC%8A%B5.ipynb#ch0000015?line=1'>2</a>\u001b[0m \u001b[39mprint\u001b[39m (\u001b[39m\"\u001b[39;49m\u001b[39m%d\u001b[39;49;00m\u001b[39m x \u001b[39;49m\u001b[39m%d\u001b[39;49;00m\u001b[39m = \u001b[39;49m\u001b[39m\"\u001b[39;49m \u001b[39m%\u001b[39;49ma)\n",
      "\u001b[1;31mTypeError\u001b[0m: %d format: a number is required, not list"
     ]
    }
   ],
   "source": [
    "a = [i * j for j in range(2, 10) for i in range(1,10)]\n",
    "print (\"%d x %d = \" %a)"
   ]
  },
  {
   "cell_type": "code",
   "execution_count": 11,
   "metadata": {},
   "outputs": [
    {
     "name": "stdout",
     "output_type": "stream",
     "text": [
      "[1, 4, 9]\n"
     ]
    }
   ],
   "source": [
    "oldlist = [1,2, 'A', False, 3]\n",
    "newlist = [i * i for i in oldlist if type(i) == int]\n",
    "\n",
    "print(newlist)\n"
   ]
  },
  {
   "cell_type": "code",
   "execution_count": 12,
   "metadata": {},
   "outputs": [
    {
     "name": "stdout",
     "output_type": "stream",
     "text": [
      "[1, 1, 1, 9, 9, 1156, 16, 25]\n"
     ]
    }
   ],
   "source": [
    "oldlist = [1,1,1,3,3,34,4,5]\n",
    "newlist = [ i * i for i in oldlist]\n",
    "print(newlist)\n"
   ]
  },
  {
   "cell_type": "code",
   "execution_count": 2,
   "metadata": {},
   "outputs": [
    {
     "name": "stdout",
     "output_type": "stream",
     "text": [
      "1\n",
      "2\n",
      "3\n",
      "4\n",
      "5\n",
      "6\n",
      "7\n",
      "8\n",
      "9\n",
      "10\n"
     ]
    }
   ],
   "source": [
    "nums = []\n",
    "for x in range(1, 11):\n",
    "    nums.append(x)\n",
    "    print(x)"
   ]
  },
  {
   "cell_type": "code",
   "execution_count": 3,
   "metadata": {},
   "outputs": [
    {
     "data": {
      "text/plain": [
       "[1, 2, 3, 4, 5, 6, 7, 8, 9, 10]"
      ]
     },
     "execution_count": 3,
     "metadata": {},
     "output_type": "execute_result"
    }
   ],
   "source": [
    "nums = [x for x in range(1, 11)]\n",
    "nums"
   ]
  },
  {
   "cell_type": "code",
   "execution_count": 5,
   "metadata": {},
   "outputs": [
    {
     "name": "stdout",
     "output_type": "stream",
     "text": [
      "1\n",
      "4\n",
      "9\n",
      "16\n",
      "25\n",
      "36\n",
      "49\n",
      "64\n",
      "81\n",
      "100\n"
     ]
    }
   ],
   "source": [
    "nums2 = []\n",
    "for x in range(1, 11):\n",
    "    nums2.append(x*x)\n",
    "    print(x*x)"
   ]
  },
  {
   "cell_type": "code",
   "execution_count": 6,
   "metadata": {},
   "outputs": [
    {
     "data": {
      "text/plain": [
       "[1, 4, 9, 16, 25, 36, 49, 64, 81, 100]"
      ]
     },
     "execution_count": 6,
     "metadata": {},
     "output_type": "execute_result"
    }
   ],
   "source": [
    "nums2 = [x*x for x in range(1, 11)]\n",
    "nums2"
   ]
  },
  {
   "cell_type": "code",
   "execution_count": 7,
   "metadata": {},
   "outputs": [
    {
     "name": "stdout",
     "output_type": "stream",
     "text": [
      "[2]\n",
      "[2, 8]\n",
      "[2, 8, 5]\n",
      "[2, 8, 5, 10]\n",
      "[2, 8, 5, 10, 8]\n"
     ]
    }
   ],
   "source": [
    "import random\n",
    "\n",
    "nums3 = []\n",
    "for i in range(5):\n",
    "    nums3.append(random.randint(1, 10))\n",
    "    print(nums3)"
   ]
  },
  {
   "cell_type": "code",
   "execution_count": 8,
   "metadata": {},
   "outputs": [
    {
     "data": {
      "text/plain": [
       "[4, 6, 9, 5, 9]"
      ]
     },
     "execution_count": 8,
     "metadata": {},
     "output_type": "execute_result"
    }
   ],
   "source": [
    "nums3 = [random.randint(1,10) for i in range(5)]\n",
    "nums3"
   ]
  },
  {
   "cell_type": "code",
   "execution_count": 10,
   "metadata": {},
   "outputs": [
    {
     "name": "stdout",
     "output_type": "stream",
     "text": [
      "2 x 1 =  2\n",
      "2 x 2 =  4\n",
      "2 x 3 =  6\n",
      "2 x 4 =  8\n",
      "2 x 5 =  10\n",
      "2 x 6 =  12\n",
      "2 x 7 =  14\n",
      "2 x 8 =  16\n",
      "2 x 9 =  18\n",
      "3 x 1 =  3\n",
      "3 x 2 =  6\n",
      "3 x 3 =  9\n",
      "3 x 4 =  12\n",
      "3 x 5 =  15\n",
      "3 x 6 =  18\n",
      "3 x 7 =  21\n",
      "3 x 8 =  24\n",
      "3 x 9 =  27\n",
      "4 x 1 =  4\n",
      "4 x 2 =  8\n",
      "4 x 3 =  12\n",
      "4 x 4 =  16\n",
      "4 x 5 =  20\n",
      "4 x 6 =  24\n",
      "4 x 7 =  28\n",
      "4 x 8 =  32\n",
      "4 x 9 =  36\n",
      "5 x 1 =  5\n",
      "5 x 2 =  10\n",
      "5 x 3 =  15\n",
      "5 x 4 =  20\n",
      "5 x 5 =  25\n",
      "5 x 6 =  30\n",
      "5 x 7 =  35\n",
      "5 x 8 =  40\n",
      "5 x 9 =  45\n",
      "6 x 1 =  6\n",
      "6 x 2 =  12\n",
      "6 x 3 =  18\n",
      "6 x 4 =  24\n",
      "6 x 5 =  30\n",
      "6 x 6 =  36\n",
      "6 x 7 =  42\n",
      "6 x 8 =  48\n",
      "6 x 9 =  54\n",
      "7 x 1 =  7\n",
      "7 x 2 =  14\n",
      "7 x 3 =  21\n",
      "7 x 4 =  28\n",
      "7 x 5 =  35\n",
      "7 x 6 =  42\n",
      "7 x 7 =  49\n",
      "7 x 8 =  56\n",
      "7 x 9 =  63\n",
      "8 x 1 =  8\n",
      "8 x 2 =  16\n",
      "8 x 3 =  24\n",
      "8 x 4 =  32\n",
      "8 x 5 =  40\n",
      "8 x 6 =  48\n",
      "8 x 7 =  56\n",
      "8 x 8 =  64\n",
      "8 x 9 =  72\n"
     ]
    }
   ],
   "source": [
    "for i in range(2, 9):\n",
    "    for j in range(1, 10):\n",
    "        print(\"%d x %d = \" %(i,j), i*j)"
   ]
  },
  {
   "cell_type": "code",
   "execution_count": 11,
   "metadata": {},
   "outputs": [
    {
     "name": "stdout",
     "output_type": "stream",
     "text": [
      "2 x 1 =  2\n",
      "2 x 2 =  4\n",
      "2 x 3 =  6\n",
      "2 x 4 =  8\n",
      "2 x 5 =  10\n",
      "2 x 6 =  12\n",
      "2 x 7 =  14\n",
      "2 x 8 =  16\n",
      "2 x 9 =  18\n",
      "3 x 1 =  3\n",
      "3 x 2 =  6\n",
      "3 x 3 =  9\n",
      "3 x 4 =  12\n",
      "3 x 5 =  15\n",
      "3 x 6 =  18\n",
      "3 x 7 =  21\n",
      "3 x 8 =  24\n",
      "3 x 9 =  27\n",
      "4 x 1 =  4\n",
      "4 x 2 =  8\n",
      "4 x 3 =  12\n",
      "4 x 4 =  16\n",
      "4 x 5 =  20\n",
      "4 x 6 =  24\n",
      "4 x 7 =  28\n",
      "4 x 8 =  32\n",
      "4 x 9 =  36\n",
      "5 x 1 =  5\n",
      "5 x 2 =  10\n",
      "5 x 3 =  15\n",
      "5 x 4 =  20\n",
      "5 x 5 =  25\n",
      "5 x 6 =  30\n",
      "5 x 7 =  35\n",
      "5 x 8 =  40\n",
      "5 x 9 =  45\n",
      "6 x 1 =  6\n",
      "6 x 2 =  12\n",
      "6 x 3 =  18\n",
      "6 x 4 =  24\n",
      "6 x 5 =  30\n",
      "6 x 6 =  36\n",
      "6 x 7 =  42\n",
      "6 x 8 =  48\n",
      "6 x 9 =  54\n",
      "7 x 1 =  7\n",
      "7 x 2 =  14\n",
      "7 x 3 =  21\n",
      "7 x 4 =  28\n",
      "7 x 5 =  35\n",
      "7 x 6 =  42\n",
      "7 x 7 =  49\n",
      "7 x 8 =  56\n",
      "7 x 9 =  63\n",
      "8 x 1 =  8\n",
      "8 x 2 =  16\n",
      "8 x 3 =  24\n",
      "8 x 4 =  32\n",
      "8 x 5 =  40\n",
      "8 x 6 =  48\n",
      "8 x 7 =  56\n",
      "8 x 8 =  64\n",
      "8 x 9 =  72\n",
      "9 x 1 =  9\n",
      "9 x 2 =  18\n",
      "9 x 3 =  27\n",
      "9 x 4 =  36\n",
      "9 x 5 =  45\n",
      "9 x 6 =  54\n",
      "9 x 7 =  63\n",
      "9 x 8 =  72\n",
      "9 x 9 =  81\n"
     ]
    },
    {
     "data": {
      "text/plain": [
       "[None,\n",
       " None,\n",
       " None,\n",
       " None,\n",
       " None,\n",
       " None,\n",
       " None,\n",
       " None,\n",
       " None,\n",
       " None,\n",
       " None,\n",
       " None,\n",
       " None,\n",
       " None,\n",
       " None,\n",
       " None,\n",
       " None,\n",
       " None,\n",
       " None,\n",
       " None,\n",
       " None,\n",
       " None,\n",
       " None,\n",
       " None,\n",
       " None,\n",
       " None,\n",
       " None,\n",
       " None,\n",
       " None,\n",
       " None,\n",
       " None,\n",
       " None,\n",
       " None,\n",
       " None,\n",
       " None,\n",
       " None,\n",
       " None,\n",
       " None,\n",
       " None,\n",
       " None,\n",
       " None,\n",
       " None,\n",
       " None,\n",
       " None,\n",
       " None,\n",
       " None,\n",
       " None,\n",
       " None,\n",
       " None,\n",
       " None,\n",
       " None,\n",
       " None,\n",
       " None,\n",
       " None,\n",
       " None,\n",
       " None,\n",
       " None,\n",
       " None,\n",
       " None,\n",
       " None,\n",
       " None,\n",
       " None,\n",
       " None,\n",
       " None,\n",
       " None,\n",
       " None,\n",
       " None,\n",
       " None,\n",
       " None,\n",
       " None,\n",
       " None,\n",
       " None]"
      ]
     },
     "execution_count": 11,
     "metadata": {},
     "output_type": "execute_result"
    }
   ],
   "source": [
    "a = [print(\"%d x %d = \" %(i, j), i * j) for i in range(2, 10) for j in range(1, 10)]\n",
    "a"
   ]
  },
  {
   "cell_type": "code",
   "execution_count": 1,
   "metadata": {},
   "outputs": [
    {
     "data": {
      "text/plain": [
       "[0, 1, 2, 3, 4, 5, 6, 7, 8, 9]"
      ]
     },
     "execution_count": 1,
     "metadata": {},
     "output_type": "execute_result"
    }
   ],
   "source": [
    " a= [ i for i in range(10)]\n",
    " a"
   ]
  },
  {
   "cell_type": "code",
   "execution_count": 2,
   "metadata": {},
   "outputs": [
    {
     "data": {
      "text/plain": [
       "[0, 1, 2, 3, 4, 5, 6, 7, 8, 9]"
      ]
     },
     "execution_count": 2,
     "metadata": {},
     "output_type": "execute_result"
    }
   ],
   "source": [
    "b = list( i for i in range (10))\n",
    "b"
   ]
  },
  {
   "cell_type": "code",
   "execution_count": 3,
   "metadata": {},
   "outputs": [
    {
     "data": {
      "text/plain": [
       "[5, 6, 7, 8, 9, 10, 11, 12, 13, 14]"
      ]
     },
     "execution_count": 3,
     "metadata": {},
     "output_type": "execute_result"
    }
   ],
   "source": [
    "c = [ i + 5 for i in range(10)]\n",
    "c"
   ]
  },
  {
   "cell_type": "code",
   "execution_count": 4,
   "metadata": {},
   "outputs": [
    {
     "data": {
      "text/plain": [
       "[0, 2, 4, 6, 8, 10, 12, 14, 16, 18]"
      ]
     },
     "execution_count": 4,
     "metadata": {},
     "output_type": "execute_result"
    }
   ],
   "source": [
    "d = [ i * 2 for i in range(10)]\n",
    "d"
   ]
  },
  {
   "cell_type": "code",
   "execution_count": 6,
   "metadata": {},
   "outputs": [
    {
     "data": {
      "text/plain": [
       "[0, 2, 4, 6, 8]"
      ]
     },
     "execution_count": 6,
     "metadata": {},
     "output_type": "execute_result"
    }
   ],
   "source": [
    "a = [ i for i in range(10) if i% 2 ==0]\n",
    "a"
   ]
  },
  {
   "cell_type": "code",
   "execution_count": 9,
   "metadata": {},
   "outputs": [
    {
     "data": {
      "text/plain": [
       "[5, 7, 9, 11, 13]"
      ]
     },
     "execution_count": 9,
     "metadata": {},
     "output_type": "execute_result"
    }
   ],
   "source": [
    "b = [ i + 5 for i in range(10) if i % 2== 0]\n",
    "b"
   ]
  },
  {
   "cell_type": "code",
   "execution_count": 10,
   "metadata": {},
   "outputs": [
    {
     "name": "stdout",
     "output_type": "stream",
     "text": [
      "2 x 1 = 2\n",
      "2 x 2 = 4\n",
      "2 x 3 = 6\n",
      "2 x 4 = 8\n",
      "2 x 5 = 10\n",
      "2 x 6 = 12\n",
      "2 x 7 = 14\n",
      "2 x 8 = 16\n",
      "2 x 9 = 18\n",
      "3 x 1 = 3\n",
      "3 x 2 = 6\n",
      "3 x 3 = 9\n",
      "3 x 4 = 12\n",
      "3 x 5 = 15\n",
      "3 x 6 = 18\n",
      "3 x 7 = 21\n",
      "3 x 8 = 24\n",
      "3 x 9 = 27\n",
      "4 x 1 = 4\n",
      "4 x 2 = 8\n",
      "4 x 3 = 12\n",
      "4 x 4 = 16\n",
      "4 x 5 = 20\n",
      "4 x 6 = 24\n",
      "4 x 7 = 28\n",
      "4 x 8 = 32\n",
      "4 x 9 = 36\n",
      "5 x 1 = 5\n",
      "5 x 2 = 10\n",
      "5 x 3 = 15\n",
      "5 x 4 = 20\n",
      "5 x 5 = 25\n",
      "5 x 6 = 30\n",
      "5 x 7 = 35\n",
      "5 x 8 = 40\n",
      "5 x 9 = 45\n",
      "6 x 1 = 6\n",
      "6 x 2 = 12\n",
      "6 x 3 = 18\n",
      "6 x 4 = 24\n",
      "6 x 5 = 30\n",
      "6 x 6 = 36\n",
      "6 x 7 = 42\n",
      "6 x 8 = 48\n",
      "6 x 9 = 54\n",
      "7 x 1 = 7\n",
      "7 x 2 = 14\n",
      "7 x 3 = 21\n",
      "7 x 4 = 28\n",
      "7 x 5 = 35\n",
      "7 x 6 = 42\n",
      "7 x 7 = 49\n",
      "7 x 8 = 56\n",
      "7 x 9 = 63\n",
      "8 x 1 = 8\n",
      "8 x 2 = 16\n",
      "8 x 3 = 24\n",
      "8 x 4 = 32\n",
      "8 x 5 = 40\n",
      "8 x 6 = 48\n",
      "8 x 7 = 56\n",
      "8 x 8 = 64\n",
      "8 x 9 = 72\n",
      "9 x 1 = 9\n",
      "9 x 2 = 18\n",
      "9 x 3 = 27\n",
      "9 x 4 = 36\n",
      "9 x 5 = 45\n",
      "9 x 6 = 54\n",
      "9 x 7 = 63\n",
      "9 x 8 = 72\n",
      "9 x 9 = 81\n"
     ]
    },
    {
     "data": {
      "text/plain": [
       "[None,\n",
       " None,\n",
       " None,\n",
       " None,\n",
       " None,\n",
       " None,\n",
       " None,\n",
       " None,\n",
       " None,\n",
       " None,\n",
       " None,\n",
       " None,\n",
       " None,\n",
       " None,\n",
       " None,\n",
       " None,\n",
       " None,\n",
       " None,\n",
       " None,\n",
       " None,\n",
       " None,\n",
       " None,\n",
       " None,\n",
       " None,\n",
       " None,\n",
       " None,\n",
       " None,\n",
       " None,\n",
       " None,\n",
       " None,\n",
       " None,\n",
       " None,\n",
       " None,\n",
       " None,\n",
       " None,\n",
       " None,\n",
       " None,\n",
       " None,\n",
       " None,\n",
       " None,\n",
       " None,\n",
       " None,\n",
       " None,\n",
       " None,\n",
       " None,\n",
       " None,\n",
       " None,\n",
       " None,\n",
       " None,\n",
       " None,\n",
       " None,\n",
       " None,\n",
       " None,\n",
       " None,\n",
       " None,\n",
       " None,\n",
       " None,\n",
       " None,\n",
       " None,\n",
       " None,\n",
       " None,\n",
       " None,\n",
       " None,\n",
       " None,\n",
       " None,\n",
       " None,\n",
       " None,\n",
       " None,\n",
       " None,\n",
       " None,\n",
       " None,\n",
       " None]"
      ]
     },
     "execution_count": 10,
     "metadata": {},
     "output_type": "execute_result"
    }
   ],
   "source": [
    " a= [ print(f'{dan} x {i} = {dan * i}') for dan in range(2, 10) for i in range(1, 10)]\n",
    " a"
   ]
  },
  {
   "cell_type": "code",
   "execution_count": 11,
   "metadata": {},
   "outputs": [
    {
     "name": "stdout",
     "output_type": "stream",
     "text": [
      "1\n",
      "2\n",
      "3\n",
      "4\n",
      "5\n",
      "6\n",
      "7\n",
      "8\n",
      "9\n",
      "10\n"
     ]
    }
   ],
   "source": [
    "num = []\n",
    "for x in range(1, 11):\n",
    "    num.append(x)\n",
    "    print(x)"
   ]
  },
  {
   "cell_type": "code",
   "execution_count": 12,
   "metadata": {},
   "outputs": [
    {
     "data": {
      "text/plain": [
       "[1, 2, 3, 4, 5, 6, 7, 8, 9, 10]"
      ]
     },
     "execution_count": 12,
     "metadata": {},
     "output_type": "execute_result"
    }
   ],
   "source": [
    "num = [x for x in range(1, 11)]\n",
    "num"
   ]
  },
  {
   "cell_type": "code",
   "execution_count": 14,
   "metadata": {},
   "outputs": [
    {
     "name": "stdout",
     "output_type": "stream",
     "text": [
      "1\n",
      "4\n",
      "9\n",
      "16\n",
      "25\n",
      "36\n",
      "49\n",
      "64\n",
      "81\n",
      "100\n"
     ]
    }
   ],
   "source": [
    "num2 = []\n",
    "for x in range(1, 11):\n",
    "    num2.append(x*x)\n",
    "    print(x*x)\n",
    "    "
   ]
  },
  {
   "cell_type": "code",
   "execution_count": 15,
   "metadata": {},
   "outputs": [
    {
     "data": {
      "text/plain": [
       "[1, 4, 9, 16, 25, 36, 49, 64, 81, 100]"
      ]
     },
     "execution_count": 15,
     "metadata": {},
     "output_type": "execute_result"
    }
   ],
   "source": [
    "num2 = [x*x for x in range(1, 11)]\n",
    "num2"
   ]
  },
  {
   "cell_type": "code",
   "execution_count": 16,
   "metadata": {},
   "outputs": [
    {
     "name": "stdout",
     "output_type": "stream",
     "text": [
      "2 x 1 =  2\n",
      "2 x 2 =  4\n",
      "2 x 3 =  6\n",
      "2 x 4 =  8\n",
      "2 x 5 =  10\n",
      "2 x 6 =  12\n",
      "2 x 7 =  14\n",
      "2 x 8 =  16\n",
      "2 x 9 =  18\n",
      "3 x 1 =  3\n",
      "3 x 2 =  6\n",
      "3 x 3 =  9\n",
      "3 x 4 =  12\n",
      "3 x 5 =  15\n",
      "3 x 6 =  18\n",
      "3 x 7 =  21\n",
      "3 x 8 =  24\n",
      "3 x 9 =  27\n",
      "4 x 1 =  4\n",
      "4 x 2 =  8\n",
      "4 x 3 =  12\n",
      "4 x 4 =  16\n",
      "4 x 5 =  20\n",
      "4 x 6 =  24\n",
      "4 x 7 =  28\n",
      "4 x 8 =  32\n",
      "4 x 9 =  36\n",
      "5 x 1 =  5\n",
      "5 x 2 =  10\n",
      "5 x 3 =  15\n",
      "5 x 4 =  20\n",
      "5 x 5 =  25\n",
      "5 x 6 =  30\n",
      "5 x 7 =  35\n",
      "5 x 8 =  40\n",
      "5 x 9 =  45\n",
      "6 x 1 =  6\n",
      "6 x 2 =  12\n",
      "6 x 3 =  18\n",
      "6 x 4 =  24\n",
      "6 x 5 =  30\n",
      "6 x 6 =  36\n",
      "6 x 7 =  42\n",
      "6 x 8 =  48\n",
      "6 x 9 =  54\n",
      "7 x 1 =  7\n",
      "7 x 2 =  14\n",
      "7 x 3 =  21\n",
      "7 x 4 =  28\n",
      "7 x 5 =  35\n",
      "7 x 6 =  42\n",
      "7 x 7 =  49\n",
      "7 x 8 =  56\n",
      "7 x 9 =  63\n",
      "8 x 1 =  8\n",
      "8 x 2 =  16\n",
      "8 x 3 =  24\n",
      "8 x 4 =  32\n",
      "8 x 5 =  40\n",
      "8 x 6 =  48\n",
      "8 x 7 =  56\n",
      "8 x 8 =  64\n",
      "8 x 9 =  72\n",
      "9 x 1 =  9\n",
      "9 x 2 =  18\n",
      "9 x 3 =  27\n",
      "9 x 4 =  36\n",
      "9 x 5 =  45\n",
      "9 x 6 =  54\n",
      "9 x 7 =  63\n",
      "9 x 8 =  72\n",
      "9 x 9 =  81\n"
     ]
    }
   ],
   "source": [
    "for i in range(2, 10):\n",
    "    for j in range(1, 10):\n",
    "        print(\"%d x %d = \" %(i, j), i*j)"
   ]
  },
  {
   "cell_type": "code",
   "execution_count": 19,
   "metadata": {},
   "outputs": [
    {
     "data": {
      "text/plain": [
       "[('2 x 1 = ', 2),\n",
       " ('2 x 2 = ', 4),\n",
       " ('2 x 3 = ', 6),\n",
       " ('2 x 4 = ', 8),\n",
       " ('2 x 5 = ', 10),\n",
       " ('2 x 6 = ', 12),\n",
       " ('2 x 7 = ', 14),\n",
       " ('2 x 8 = ', 16),\n",
       " ('2 x 9 = ', 18),\n",
       " ('3 x 1 = ', 3),\n",
       " ('3 x 2 = ', 6),\n",
       " ('3 x 3 = ', 9),\n",
       " ('3 x 4 = ', 12),\n",
       " ('3 x 5 = ', 15),\n",
       " ('3 x 6 = ', 18),\n",
       " ('3 x 7 = ', 21),\n",
       " ('3 x 8 = ', 24),\n",
       " ('3 x 9 = ', 27),\n",
       " ('4 x 1 = ', 4),\n",
       " ('4 x 2 = ', 8),\n",
       " ('4 x 3 = ', 12),\n",
       " ('4 x 4 = ', 16),\n",
       " ('4 x 5 = ', 20),\n",
       " ('4 x 6 = ', 24),\n",
       " ('4 x 7 = ', 28),\n",
       " ('4 x 8 = ', 32),\n",
       " ('4 x 9 = ', 36),\n",
       " ('5 x 1 = ', 5),\n",
       " ('5 x 2 = ', 10),\n",
       " ('5 x 3 = ', 15),\n",
       " ('5 x 4 = ', 20),\n",
       " ('5 x 5 = ', 25),\n",
       " ('5 x 6 = ', 30),\n",
       " ('5 x 7 = ', 35),\n",
       " ('5 x 8 = ', 40),\n",
       " ('5 x 9 = ', 45),\n",
       " ('6 x 1 = ', 6),\n",
       " ('6 x 2 = ', 12),\n",
       " ('6 x 3 = ', 18),\n",
       " ('6 x 4 = ', 24),\n",
       " ('6 x 5 = ', 30),\n",
       " ('6 x 6 = ', 36),\n",
       " ('6 x 7 = ', 42),\n",
       " ('6 x 8 = ', 48),\n",
       " ('6 x 9 = ', 54),\n",
       " ('7 x 1 = ', 7),\n",
       " ('7 x 2 = ', 14),\n",
       " ('7 x 3 = ', 21),\n",
       " ('7 x 4 = ', 28),\n",
       " ('7 x 5 = ', 35),\n",
       " ('7 x 6 = ', 42),\n",
       " ('7 x 7 = ', 49),\n",
       " ('7 x 8 = ', 56),\n",
       " ('7 x 9 = ', 63),\n",
       " ('8 x 1 = ', 8),\n",
       " ('8 x 2 = ', 16),\n",
       " ('8 x 3 = ', 24),\n",
       " ('8 x 4 = ', 32),\n",
       " ('8 x 5 = ', 40),\n",
       " ('8 x 6 = ', 48),\n",
       " ('8 x 7 = ', 56),\n",
       " ('8 x 8 = ', 64),\n",
       " ('8 x 9 = ', 72),\n",
       " ('9 x 1 = ', 9),\n",
       " ('9 x 2 = ', 18),\n",
       " ('9 x 3 = ', 27),\n",
       " ('9 x 4 = ', 36),\n",
       " ('9 x 5 = ', 45),\n",
       " ('9 x 6 = ', 54),\n",
       " ('9 x 7 = ', 63),\n",
       " ('9 x 8 = ', 72),\n",
       " ('9 x 9 = ', 81)]"
      ]
     },
     "execution_count": 19,
     "metadata": {},
     "output_type": "execute_result"
    }
   ],
   "source": [
    "a = [(\"%d x %d = \" %(i,j), i * j) for i in range(2, 10) for j in range(1, 10)]\n",
    "a"
   ]
  },
  {
   "cell_type": "code",
   "execution_count": null,
   "metadata": {},
   "outputs": [],
   "source": [
    "import pandas as pd\n",
    "\n",
    "class Change_dt():\n",
    "    def __init__(self, input_csv):\n",
    "        self.dt = pd.read_csv(input_csv)\n",
    "        \n",
    "    def _sort(self, input_column):\n",
    "        if type(input_column) == int:\n",
    "            self.select = self.dt.columns[input_column]\n",
    "            self.dt.sort_values(self.select, inplace= True)\n",
    "            return self.dt\n",
    "        \n",
    "        elif type(input_column) == str:\n",
    "            self.dr.sort_values(self.select, inplace=Treu)\n",
    "            return self.dt\n",
    "        \n",
    "        elif:\n",
    "            print('데이터의 타입이 맞지 않습니다.')\n",
    "            return self.dt\n",
    "        \n",
    "    def _drop(self, input_colum):\n",
    "        self.dt.drop(input_colum, axis= 1, inplace= True)\n",
    "        return self.dt\n",
    "    \n",
    "    def _reset(self):\n",
    "        self.dt.reset_index(drop=True, inplace= True)\n",
    "        return self.dt\n",
    "    \n",
    "x = Change_dt(\"./csv/Sales Records.csv\")\n",
    "x.dt\n",
    "c"
   ]
  },
  {
   "cell_type": "code",
   "execution_count": 21,
   "metadata": {},
   "outputs": [
    {
     "ename": "ModuleNotFoundError",
     "evalue": "No module named 'mod_sql'",
     "output_type": "error",
     "traceback": [
      "\u001b[1;31m---------------------------------------------------------------------------\u001b[0m",
      "\u001b[1;31mModuleNotFoundError\u001b[0m                       Traceback (most recent call last)",
      "\u001b[1;32mc:\\Users\\spaceastonomy\\Desktop\\실습\\연습장\\220322연습.ipynb Cell 41'\u001b[0m in \u001b[0;36m<cell line: 3>\u001b[1;34m()\u001b[0m\n\u001b[0;32m      <a href='vscode-notebook-cell:/c%3A/Users/spaceastonomy/Desktop/%EC%8B%A4%EC%8A%B5/%EC%97%B0%EC%8A%B5%EC%9E%A5/220322%EC%97%B0%EC%8A%B5.ipynb#ch0000040?line=0'>1</a>\u001b[0m \u001b[39mimport\u001b[39;00m \u001b[39myfinance\u001b[39;00m \u001b[39mas\u001b[39;00m \u001b[39myf\u001b[39;00m\n\u001b[0;32m      <a href='vscode-notebook-cell:/c%3A/Users/spaceastonomy/Desktop/%EC%8B%A4%EC%8A%B5/%EC%97%B0%EC%8A%B5%EC%9E%A5/220322%EC%97%B0%EC%8A%B5.ipynb#ch0000040?line=1'>2</a>\u001b[0m \u001b[39mimport\u001b[39;00m \u001b[39mpandas\u001b[39;00m \u001b[39mas\u001b[39;00m \u001b[39mpd\u001b[39;00m\n\u001b[1;32m----> <a href='vscode-notebook-cell:/c%3A/Users/spaceastonomy/Desktop/%EC%8B%A4%EC%8A%B5/%EC%97%B0%EC%8A%B5%EC%9E%A5/220322%EC%97%B0%EC%8A%B5.ipynb#ch0000040?line=2'>3</a>\u001b[0m \u001b[39mimport\u001b[39;00m \u001b[39mmod_sql\u001b[39;00m\n\u001b[0;32m      <a href='vscode-notebook-cell:/c%3A/Users/spaceastonomy/Desktop/%EC%8B%A4%EC%8A%B5/%EC%97%B0%EC%8A%B5%EC%9E%A5/220322%EC%97%B0%EC%8A%B5.ipynb#ch0000040?line=4'>5</a>\u001b[0m apple \u001b[39m=\u001b[39m yf\u001b[39m.\u001b[39mTicker(\u001b[39m\"\u001b[39m\u001b[39mAAPL\u001b[39m\u001b[39m\"\u001b[39m)\n\u001b[0;32m      <a href='vscode-notebook-cell:/c%3A/Users/spaceastonomy/Desktop/%EC%8B%A4%EC%8A%B5/%EC%97%B0%EC%8A%B5%EC%9E%A5/220322%EC%97%B0%EC%8A%B5.ipynb#ch0000040?line=5'>6</a>\u001b[0m apple\u001b[39m.\u001b[39mhistory(period\u001b[39m=\u001b[39m\u001b[39m\"\u001b[39m\u001b[39mmax\u001b[39m\u001b[39m\"\u001b[39m)\n",
      "\u001b[1;31mModuleNotFoundError\u001b[0m: No module named 'mod_sql'"
     ]
    }
   ],
   "source": [
    "import yfinance as yf\n",
    "import pandas as pd\n",
    "import mod_sql\n",
    "\n",
    "apple = yf.Ticker(\"AAPL\")\n",
    "apple.history(period=\"max\")\n",
    "result = apple.history(preiod = \"max\")\n",
    "result.to_csv(\"apple.csv\")\n",
    "\n",
    "_db = mod_sql.Database()\n",
    "\n",
    "result.index\n",
    "list(result.Open)\n",
    "\n",
    "_sql = \"\"\"\n",
    "        SELECT *\n",
    "        FROM apple\n",
    "\n",
    "\"\"\"\n",
    "result =  _db.executeAll(_sql)\n",
    "_df = pd.DataFrame(result)\n",
    "\n",
    "_df = _df.round(2)\n",
    "_df.isna().sum()\n",
    "_df.fillna(\"bfill\")\n",
    "_df[\"등락폭\"] = _df[\"Close\"] - _df[\"Open\"]\n",
    "_df[\"등락율\"] = _df[\"등락폭\"] / _df[\"Open\"] * 100\n",
    "\n",
    "import matplotlib.pyplot as plt\n",
    "plt.plot(_df[\"Open\"])\n",
    "\n",
    "plt.subplot(2,2,1)\n",
    "plt.plot(_df[\"Open\"])\n"
   ]
  },
  {
   "cell_type": "code",
   "execution_count": null,
   "metadata": {},
   "outputs": [],
   "source": [
    "X"
   ]
  }
 ],
 "metadata": {
  "interpreter": {
   "hash": "b1269504bf1248269f056a465bc4c12d8a4acb51f1ea5e065be3f9e0fb3ca3ae"
  },
  "kernelspec": {
   "display_name": "Python 3.8.6 32-bit",
   "language": "python",
   "name": "python3"
  },
  "language_info": {
   "codemirror_mode": {
    "name": "ipython",
    "version": 3
   },
   "file_extension": ".py",
   "mimetype": "text/x-python",
   "name": "python",
   "nbconvert_exporter": "python",
   "pygments_lexer": "ipython3",
   "version": "3.8.6"
  },
  "orig_nbformat": 4
 },
 "nbformat": 4,
 "nbformat_minor": 2
}
