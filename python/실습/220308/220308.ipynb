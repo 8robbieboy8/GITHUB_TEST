{
 "cells": [
  {
   "cell_type": "code",
   "execution_count": 54,
   "metadata": {},
   "outputs": [],
   "source": [
    "# ### Class 하나 생성\n",
    "# 1. 인자값으로 url(주소) -> csv 파일의 주소\n",
    "# 2. 함수를 하나 생성 -> url에 있는 csv파일을 읽어오고, 'country'기준으로 sort를 하고\n",
    "#     인덱스 값을 초기화\n",
    "# 3. 함수를 하나 생성 -> 인자값을 리스트로 받는다. -> 이 매개변수를 기준으로 columns삭제"
   ]
  },
  {
   "cell_type": "code",
   "execution_count": 55,
   "metadata": {},
   "outputs": [],
   "source": [
    "import pandas as pd\n",
    "\n",
    "\n",
    "class Change_dt():\n",
    "    def __init__(self, input_url):\n",
    "        self.url = input_url\n",
    "\n",
    "    def csv_read(self, input_sort = \"Country\", input_inplace=True):\n",
    "        self.dt = pd.read_csv(self.url)\n",
    "        self.dt.sort_values(input_sort, inplace=input_inplace)\n",
    "        self.dt.reset_index(drop = True, inplace=input_inplace)\n",
    "        return self.dt\n",
    "\n",
    "    def remove_cloumn(self, input_list = []):\n",
    "        self.dt.drop(input_list, axis=1, inplace=True)\n",
    "        return self.dt\n",
    "\n",
    "    def remove_cloumn_2(self, input_s_column, input_e_column):\n",
    "        self.dt.drop(self.dt.loc[:, input_s_column : input_e_column], inplace = True, axis =1)\n",
    "        return self.dt\n",
    "\n",
    "dt = Change_dt(\"./csv/Sales Records.csv\")\n",
    "\n",
    "\n"
   ]
  },
  {
   "cell_type": "code",
   "execution_count": 56,
   "metadata": {},
   "outputs": [
    {
     "data": {
      "text/html": [
       "<div>\n",
       "<style scoped>\n",
       "    .dataframe tbody tr th:only-of-type {\n",
       "        vertical-align: middle;\n",
       "    }\n",
       "\n",
       "    .dataframe tbody tr th {\n",
       "        vertical-align: top;\n",
       "    }\n",
       "\n",
       "    .dataframe thead th {\n",
       "        text-align: right;\n",
       "    }\n",
       "</style>\n",
       "<table border=\"1\" class=\"dataframe\">\n",
       "  <thead>\n",
       "    <tr style=\"text-align: right;\">\n",
       "      <th></th>\n",
       "      <th>Region</th>\n",
       "      <th>Country</th>\n",
       "      <th>Item Type</th>\n",
       "      <th>Sales Channel</th>\n",
       "      <th>Order Priority</th>\n",
       "      <th>Order Date</th>\n",
       "      <th>Order ID</th>\n",
       "      <th>Ship Date</th>\n",
       "      <th>Units Sold</th>\n",
       "      <th>Unit Price</th>\n",
       "      <th>Unit Cost</th>\n",
       "      <th>Total Revenue</th>\n",
       "      <th>Total Cost</th>\n",
       "      <th>Total Profit</th>\n",
       "    </tr>\n",
       "  </thead>\n",
       "  <tbody>\n",
       "    <tr>\n",
       "      <th>0</th>\n",
       "      <td>Middle East and North Africa</td>\n",
       "      <td>Afghanistan</td>\n",
       "      <td>Cereal</td>\n",
       "      <td>Offline</td>\n",
       "      <td>H</td>\n",
       "      <td>7/24/2013</td>\n",
       "      <td>933963477</td>\n",
       "      <td>8/23/2013</td>\n",
       "      <td>9402</td>\n",
       "      <td>205.70</td>\n",
       "      <td>117.11</td>\n",
       "      <td>1933991.40</td>\n",
       "      <td>1101068.22</td>\n",
       "      <td>832923.18</td>\n",
       "    </tr>\n",
       "    <tr>\n",
       "      <th>1</th>\n",
       "      <td>Middle East and North Africa</td>\n",
       "      <td>Afghanistan</td>\n",
       "      <td>Household</td>\n",
       "      <td>Offline</td>\n",
       "      <td>L</td>\n",
       "      <td>2/4/2012</td>\n",
       "      <td>772306096</td>\n",
       "      <td>3/21/2012</td>\n",
       "      <td>1391</td>\n",
       "      <td>668.27</td>\n",
       "      <td>502.54</td>\n",
       "      <td>929563.57</td>\n",
       "      <td>699033.14</td>\n",
       "      <td>230530.43</td>\n",
       "    </tr>\n",
       "    <tr>\n",
       "      <th>2</th>\n",
       "      <td>Middle East and North Africa</td>\n",
       "      <td>Afghanistan</td>\n",
       "      <td>Cereal</td>\n",
       "      <td>Offline</td>\n",
       "      <td>H</td>\n",
       "      <td>8/20/2015</td>\n",
       "      <td>667230880</td>\n",
       "      <td>10/5/2015</td>\n",
       "      <td>7300</td>\n",
       "      <td>205.70</td>\n",
       "      <td>117.11</td>\n",
       "      <td>1501610.00</td>\n",
       "      <td>854903.00</td>\n",
       "      <td>646707.00</td>\n",
       "    </tr>\n",
       "    <tr>\n",
       "      <th>3</th>\n",
       "      <td>Middle East and North Africa</td>\n",
       "      <td>Afghanistan</td>\n",
       "      <td>Meat</td>\n",
       "      <td>Offline</td>\n",
       "      <td>H</td>\n",
       "      <td>8/11/2012</td>\n",
       "      <td>161685121</td>\n",
       "      <td>8/29/2012</td>\n",
       "      <td>5075</td>\n",
       "      <td>421.89</td>\n",
       "      <td>364.69</td>\n",
       "      <td>2141091.75</td>\n",
       "      <td>1850801.75</td>\n",
       "      <td>290290.00</td>\n",
       "    </tr>\n",
       "    <tr>\n",
       "      <th>4</th>\n",
       "      <td>Middle East and North Africa</td>\n",
       "      <td>Afghanistan</td>\n",
       "      <td>Household</td>\n",
       "      <td>Offline</td>\n",
       "      <td>M</td>\n",
       "      <td>3/25/2011</td>\n",
       "      <td>440761888</td>\n",
       "      <td>4/1/2011</td>\n",
       "      <td>92</td>\n",
       "      <td>668.27</td>\n",
       "      <td>502.54</td>\n",
       "      <td>61480.84</td>\n",
       "      <td>46233.68</td>\n",
       "      <td>15247.16</td>\n",
       "    </tr>\n",
       "    <tr>\n",
       "      <th>...</th>\n",
       "      <td>...</td>\n",
       "      <td>...</td>\n",
       "      <td>...</td>\n",
       "      <td>...</td>\n",
       "      <td>...</td>\n",
       "      <td>...</td>\n",
       "      <td>...</td>\n",
       "      <td>...</td>\n",
       "      <td>...</td>\n",
       "      <td>...</td>\n",
       "      <td>...</td>\n",
       "      <td>...</td>\n",
       "      <td>...</td>\n",
       "      <td>...</td>\n",
       "    </tr>\n",
       "    <tr>\n",
       "      <th>9995</th>\n",
       "      <td>Sub-Saharan Africa</td>\n",
       "      <td>Zimbabwe</td>\n",
       "      <td>Cereal</td>\n",
       "      <td>Online</td>\n",
       "      <td>C</td>\n",
       "      <td>1/16/2016</td>\n",
       "      <td>742576920</td>\n",
       "      <td>2/6/2016</td>\n",
       "      <td>3867</td>\n",
       "      <td>205.70</td>\n",
       "      <td>117.11</td>\n",
       "      <td>795441.90</td>\n",
       "      <td>452864.37</td>\n",
       "      <td>342577.53</td>\n",
       "    </tr>\n",
       "    <tr>\n",
       "      <th>9996</th>\n",
       "      <td>Sub-Saharan Africa</td>\n",
       "      <td>Zimbabwe</td>\n",
       "      <td>Office Supplies</td>\n",
       "      <td>Offline</td>\n",
       "      <td>L</td>\n",
       "      <td>1/26/2010</td>\n",
       "      <td>322291505</td>\n",
       "      <td>2/11/2010</td>\n",
       "      <td>2073</td>\n",
       "      <td>651.21</td>\n",
       "      <td>524.96</td>\n",
       "      <td>1349958.33</td>\n",
       "      <td>1088242.08</td>\n",
       "      <td>261716.25</td>\n",
       "    </tr>\n",
       "    <tr>\n",
       "      <th>9997</th>\n",
       "      <td>Sub-Saharan Africa</td>\n",
       "      <td>Zimbabwe</td>\n",
       "      <td>Fruits</td>\n",
       "      <td>Offline</td>\n",
       "      <td>C</td>\n",
       "      <td>11/20/2015</td>\n",
       "      <td>436287105</td>\n",
       "      <td>11/27/2015</td>\n",
       "      <td>5904</td>\n",
       "      <td>9.33</td>\n",
       "      <td>6.92</td>\n",
       "      <td>55084.32</td>\n",
       "      <td>40855.68</td>\n",
       "      <td>14228.64</td>\n",
       "    </tr>\n",
       "    <tr>\n",
       "      <th>9998</th>\n",
       "      <td>Sub-Saharan Africa</td>\n",
       "      <td>Zimbabwe</td>\n",
       "      <td>Clothes</td>\n",
       "      <td>Online</td>\n",
       "      <td>C</td>\n",
       "      <td>1/21/2017</td>\n",
       "      <td>433102357</td>\n",
       "      <td>2/3/2017</td>\n",
       "      <td>3467</td>\n",
       "      <td>109.28</td>\n",
       "      <td>35.84</td>\n",
       "      <td>378873.76</td>\n",
       "      <td>124257.28</td>\n",
       "      <td>254616.48</td>\n",
       "    </tr>\n",
       "    <tr>\n",
       "      <th>9999</th>\n",
       "      <td>Sub-Saharan Africa</td>\n",
       "      <td>Zimbabwe</td>\n",
       "      <td>Fruits</td>\n",
       "      <td>Offline</td>\n",
       "      <td>C</td>\n",
       "      <td>12/29/2012</td>\n",
       "      <td>486245286</td>\n",
       "      <td>2/5/2013</td>\n",
       "      <td>9640</td>\n",
       "      <td>9.33</td>\n",
       "      <td>6.92</td>\n",
       "      <td>89941.20</td>\n",
       "      <td>66708.80</td>\n",
       "      <td>23232.40</td>\n",
       "    </tr>\n",
       "  </tbody>\n",
       "</table>\n",
       "<p>10000 rows × 14 columns</p>\n",
       "</div>"
      ],
      "text/plain": [
       "                            Region      Country        Item Type  \\\n",
       "0     Middle East and North Africa  Afghanistan           Cereal   \n",
       "1     Middle East and North Africa  Afghanistan        Household   \n",
       "2     Middle East and North Africa  Afghanistan           Cereal   \n",
       "3     Middle East and North Africa  Afghanistan             Meat   \n",
       "4     Middle East and North Africa  Afghanistan        Household   \n",
       "...                            ...          ...              ...   \n",
       "9995            Sub-Saharan Africa     Zimbabwe           Cereal   \n",
       "9996            Sub-Saharan Africa     Zimbabwe  Office Supplies   \n",
       "9997            Sub-Saharan Africa     Zimbabwe           Fruits   \n",
       "9998            Sub-Saharan Africa     Zimbabwe          Clothes   \n",
       "9999            Sub-Saharan Africa     Zimbabwe           Fruits   \n",
       "\n",
       "     Sales Channel Order Priority  Order Date   Order ID   Ship Date  \\\n",
       "0          Offline              H   7/24/2013  933963477   8/23/2013   \n",
       "1          Offline              L    2/4/2012  772306096   3/21/2012   \n",
       "2          Offline              H   8/20/2015  667230880   10/5/2015   \n",
       "3          Offline              H   8/11/2012  161685121   8/29/2012   \n",
       "4          Offline              M   3/25/2011  440761888    4/1/2011   \n",
       "...            ...            ...         ...        ...         ...   \n",
       "9995        Online              C   1/16/2016  742576920    2/6/2016   \n",
       "9996       Offline              L   1/26/2010  322291505   2/11/2010   \n",
       "9997       Offline              C  11/20/2015  436287105  11/27/2015   \n",
       "9998        Online              C   1/21/2017  433102357    2/3/2017   \n",
       "9999       Offline              C  12/29/2012  486245286    2/5/2013   \n",
       "\n",
       "      Units Sold  Unit Price  Unit Cost  Total Revenue  Total Cost  \\\n",
       "0           9402      205.70     117.11     1933991.40  1101068.22   \n",
       "1           1391      668.27     502.54      929563.57   699033.14   \n",
       "2           7300      205.70     117.11     1501610.00   854903.00   \n",
       "3           5075      421.89     364.69     2141091.75  1850801.75   \n",
       "4             92      668.27     502.54       61480.84    46233.68   \n",
       "...          ...         ...        ...            ...         ...   \n",
       "9995        3867      205.70     117.11      795441.90   452864.37   \n",
       "9996        2073      651.21     524.96     1349958.33  1088242.08   \n",
       "9997        5904        9.33       6.92       55084.32    40855.68   \n",
       "9998        3467      109.28      35.84      378873.76   124257.28   \n",
       "9999        9640        9.33       6.92       89941.20    66708.80   \n",
       "\n",
       "      Total Profit  \n",
       "0        832923.18  \n",
       "1        230530.43  \n",
       "2        646707.00  \n",
       "3        290290.00  \n",
       "4         15247.16  \n",
       "...            ...  \n",
       "9995     342577.53  \n",
       "9996     261716.25  \n",
       "9997      14228.64  \n",
       "9998     254616.48  \n",
       "9999      23232.40  \n",
       "\n",
       "[10000 rows x 14 columns]"
      ]
     },
     "execution_count": 56,
     "metadata": {},
     "output_type": "execute_result"
    }
   ],
   "source": [
    "dt.csv_read()"
   ]
  },
  {
   "cell_type": "code",
   "execution_count": 57,
   "metadata": {},
   "outputs": [
    {
     "data": {
      "text/html": [
       "<div>\n",
       "<style scoped>\n",
       "    .dataframe tbody tr th:only-of-type {\n",
       "        vertical-align: middle;\n",
       "    }\n",
       "\n",
       "    .dataframe tbody tr th {\n",
       "        vertical-align: top;\n",
       "    }\n",
       "\n",
       "    .dataframe thead th {\n",
       "        text-align: right;\n",
       "    }\n",
       "</style>\n",
       "<table border=\"1\" class=\"dataframe\">\n",
       "  <thead>\n",
       "    <tr style=\"text-align: right;\">\n",
       "      <th></th>\n",
       "      <th>Region</th>\n",
       "      <th>Country</th>\n",
       "      <th>Item Type</th>\n",
       "      <th>Sales Channel</th>\n",
       "      <th>Order Priority</th>\n",
       "      <th>Order Date</th>\n",
       "      <th>Order ID</th>\n",
       "      <th>Ship Date</th>\n",
       "      <th>Units Sold</th>\n",
       "      <th>Unit Price</th>\n",
       "      <th>Unit Cost</th>\n",
       "      <th>Total Revenue</th>\n",
       "      <th>Total Cost</th>\n",
       "      <th>Total Profit</th>\n",
       "    </tr>\n",
       "  </thead>\n",
       "  <tbody>\n",
       "    <tr>\n",
       "      <th>0</th>\n",
       "      <td>Middle East and North Africa</td>\n",
       "      <td>Afghanistan</td>\n",
       "      <td>Cereal</td>\n",
       "      <td>Offline</td>\n",
       "      <td>H</td>\n",
       "      <td>7/24/2013</td>\n",
       "      <td>933963477</td>\n",
       "      <td>8/23/2013</td>\n",
       "      <td>9402</td>\n",
       "      <td>205.70</td>\n",
       "      <td>117.11</td>\n",
       "      <td>1933991.40</td>\n",
       "      <td>1101068.22</td>\n",
       "      <td>832923.18</td>\n",
       "    </tr>\n",
       "    <tr>\n",
       "      <th>1</th>\n",
       "      <td>Middle East and North Africa</td>\n",
       "      <td>Afghanistan</td>\n",
       "      <td>Household</td>\n",
       "      <td>Offline</td>\n",
       "      <td>L</td>\n",
       "      <td>2/4/2012</td>\n",
       "      <td>772306096</td>\n",
       "      <td>3/21/2012</td>\n",
       "      <td>1391</td>\n",
       "      <td>668.27</td>\n",
       "      <td>502.54</td>\n",
       "      <td>929563.57</td>\n",
       "      <td>699033.14</td>\n",
       "      <td>230530.43</td>\n",
       "    </tr>\n",
       "    <tr>\n",
       "      <th>2</th>\n",
       "      <td>Middle East and North Africa</td>\n",
       "      <td>Afghanistan</td>\n",
       "      <td>Cereal</td>\n",
       "      <td>Offline</td>\n",
       "      <td>H</td>\n",
       "      <td>8/20/2015</td>\n",
       "      <td>667230880</td>\n",
       "      <td>10/5/2015</td>\n",
       "      <td>7300</td>\n",
       "      <td>205.70</td>\n",
       "      <td>117.11</td>\n",
       "      <td>1501610.00</td>\n",
       "      <td>854903.00</td>\n",
       "      <td>646707.00</td>\n",
       "    </tr>\n",
       "    <tr>\n",
       "      <th>3</th>\n",
       "      <td>Middle East and North Africa</td>\n",
       "      <td>Afghanistan</td>\n",
       "      <td>Meat</td>\n",
       "      <td>Offline</td>\n",
       "      <td>H</td>\n",
       "      <td>8/11/2012</td>\n",
       "      <td>161685121</td>\n",
       "      <td>8/29/2012</td>\n",
       "      <td>5075</td>\n",
       "      <td>421.89</td>\n",
       "      <td>364.69</td>\n",
       "      <td>2141091.75</td>\n",
       "      <td>1850801.75</td>\n",
       "      <td>290290.00</td>\n",
       "    </tr>\n",
       "    <tr>\n",
       "      <th>4</th>\n",
       "      <td>Middle East and North Africa</td>\n",
       "      <td>Afghanistan</td>\n",
       "      <td>Household</td>\n",
       "      <td>Offline</td>\n",
       "      <td>M</td>\n",
       "      <td>3/25/2011</td>\n",
       "      <td>440761888</td>\n",
       "      <td>4/1/2011</td>\n",
       "      <td>92</td>\n",
       "      <td>668.27</td>\n",
       "      <td>502.54</td>\n",
       "      <td>61480.84</td>\n",
       "      <td>46233.68</td>\n",
       "      <td>15247.16</td>\n",
       "    </tr>\n",
       "    <tr>\n",
       "      <th>...</th>\n",
       "      <td>...</td>\n",
       "      <td>...</td>\n",
       "      <td>...</td>\n",
       "      <td>...</td>\n",
       "      <td>...</td>\n",
       "      <td>...</td>\n",
       "      <td>...</td>\n",
       "      <td>...</td>\n",
       "      <td>...</td>\n",
       "      <td>...</td>\n",
       "      <td>...</td>\n",
       "      <td>...</td>\n",
       "      <td>...</td>\n",
       "      <td>...</td>\n",
       "    </tr>\n",
       "    <tr>\n",
       "      <th>9995</th>\n",
       "      <td>Sub-Saharan Africa</td>\n",
       "      <td>Zimbabwe</td>\n",
       "      <td>Cereal</td>\n",
       "      <td>Online</td>\n",
       "      <td>C</td>\n",
       "      <td>1/16/2016</td>\n",
       "      <td>742576920</td>\n",
       "      <td>2/6/2016</td>\n",
       "      <td>3867</td>\n",
       "      <td>205.70</td>\n",
       "      <td>117.11</td>\n",
       "      <td>795441.90</td>\n",
       "      <td>452864.37</td>\n",
       "      <td>342577.53</td>\n",
       "    </tr>\n",
       "    <tr>\n",
       "      <th>9996</th>\n",
       "      <td>Sub-Saharan Africa</td>\n",
       "      <td>Zimbabwe</td>\n",
       "      <td>Office Supplies</td>\n",
       "      <td>Offline</td>\n",
       "      <td>L</td>\n",
       "      <td>1/26/2010</td>\n",
       "      <td>322291505</td>\n",
       "      <td>2/11/2010</td>\n",
       "      <td>2073</td>\n",
       "      <td>651.21</td>\n",
       "      <td>524.96</td>\n",
       "      <td>1349958.33</td>\n",
       "      <td>1088242.08</td>\n",
       "      <td>261716.25</td>\n",
       "    </tr>\n",
       "    <tr>\n",
       "      <th>9997</th>\n",
       "      <td>Sub-Saharan Africa</td>\n",
       "      <td>Zimbabwe</td>\n",
       "      <td>Fruits</td>\n",
       "      <td>Offline</td>\n",
       "      <td>C</td>\n",
       "      <td>11/20/2015</td>\n",
       "      <td>436287105</td>\n",
       "      <td>11/27/2015</td>\n",
       "      <td>5904</td>\n",
       "      <td>9.33</td>\n",
       "      <td>6.92</td>\n",
       "      <td>55084.32</td>\n",
       "      <td>40855.68</td>\n",
       "      <td>14228.64</td>\n",
       "    </tr>\n",
       "    <tr>\n",
       "      <th>9998</th>\n",
       "      <td>Sub-Saharan Africa</td>\n",
       "      <td>Zimbabwe</td>\n",
       "      <td>Clothes</td>\n",
       "      <td>Online</td>\n",
       "      <td>C</td>\n",
       "      <td>1/21/2017</td>\n",
       "      <td>433102357</td>\n",
       "      <td>2/3/2017</td>\n",
       "      <td>3467</td>\n",
       "      <td>109.28</td>\n",
       "      <td>35.84</td>\n",
       "      <td>378873.76</td>\n",
       "      <td>124257.28</td>\n",
       "      <td>254616.48</td>\n",
       "    </tr>\n",
       "    <tr>\n",
       "      <th>9999</th>\n",
       "      <td>Sub-Saharan Africa</td>\n",
       "      <td>Zimbabwe</td>\n",
       "      <td>Fruits</td>\n",
       "      <td>Offline</td>\n",
       "      <td>C</td>\n",
       "      <td>12/29/2012</td>\n",
       "      <td>486245286</td>\n",
       "      <td>2/5/2013</td>\n",
       "      <td>9640</td>\n",
       "      <td>9.33</td>\n",
       "      <td>6.92</td>\n",
       "      <td>89941.20</td>\n",
       "      <td>66708.80</td>\n",
       "      <td>23232.40</td>\n",
       "    </tr>\n",
       "  </tbody>\n",
       "</table>\n",
       "<p>10000 rows × 14 columns</p>\n",
       "</div>"
      ],
      "text/plain": [
       "                            Region      Country        Item Type  \\\n",
       "0     Middle East and North Africa  Afghanistan           Cereal   \n",
       "1     Middle East and North Africa  Afghanistan        Household   \n",
       "2     Middle East and North Africa  Afghanistan           Cereal   \n",
       "3     Middle East and North Africa  Afghanistan             Meat   \n",
       "4     Middle East and North Africa  Afghanistan        Household   \n",
       "...                            ...          ...              ...   \n",
       "9995            Sub-Saharan Africa     Zimbabwe           Cereal   \n",
       "9996            Sub-Saharan Africa     Zimbabwe  Office Supplies   \n",
       "9997            Sub-Saharan Africa     Zimbabwe           Fruits   \n",
       "9998            Sub-Saharan Africa     Zimbabwe          Clothes   \n",
       "9999            Sub-Saharan Africa     Zimbabwe           Fruits   \n",
       "\n",
       "     Sales Channel Order Priority  Order Date   Order ID   Ship Date  \\\n",
       "0          Offline              H   7/24/2013  933963477   8/23/2013   \n",
       "1          Offline              L    2/4/2012  772306096   3/21/2012   \n",
       "2          Offline              H   8/20/2015  667230880   10/5/2015   \n",
       "3          Offline              H   8/11/2012  161685121   8/29/2012   \n",
       "4          Offline              M   3/25/2011  440761888    4/1/2011   \n",
       "...            ...            ...         ...        ...         ...   \n",
       "9995        Online              C   1/16/2016  742576920    2/6/2016   \n",
       "9996       Offline              L   1/26/2010  322291505   2/11/2010   \n",
       "9997       Offline              C  11/20/2015  436287105  11/27/2015   \n",
       "9998        Online              C   1/21/2017  433102357    2/3/2017   \n",
       "9999       Offline              C  12/29/2012  486245286    2/5/2013   \n",
       "\n",
       "      Units Sold  Unit Price  Unit Cost  Total Revenue  Total Cost  \\\n",
       "0           9402      205.70     117.11     1933991.40  1101068.22   \n",
       "1           1391      668.27     502.54      929563.57   699033.14   \n",
       "2           7300      205.70     117.11     1501610.00   854903.00   \n",
       "3           5075      421.89     364.69     2141091.75  1850801.75   \n",
       "4             92      668.27     502.54       61480.84    46233.68   \n",
       "...          ...         ...        ...            ...         ...   \n",
       "9995        3867      205.70     117.11      795441.90   452864.37   \n",
       "9996        2073      651.21     524.96     1349958.33  1088242.08   \n",
       "9997        5904        9.33       6.92       55084.32    40855.68   \n",
       "9998        3467      109.28      35.84      378873.76   124257.28   \n",
       "9999        9640        9.33       6.92       89941.20    66708.80   \n",
       "\n",
       "      Total Profit  \n",
       "0        832923.18  \n",
       "1        230530.43  \n",
       "2        646707.00  \n",
       "3        290290.00  \n",
       "4         15247.16  \n",
       "...            ...  \n",
       "9995     342577.53  \n",
       "9996     261716.25  \n",
       "9997      14228.64  \n",
       "9998     254616.48  \n",
       "9999      23232.40  \n",
       "\n",
       "[10000 rows x 14 columns]"
      ]
     },
     "execution_count": 57,
     "metadata": {},
     "output_type": "execute_result"
    }
   ],
   "source": [
    "# dt.remove_cloumn([\"Item Type\", \"Sales Channel\"])\n",
    "dt.remove_cloumn()"
   ]
  },
  {
   "cell_type": "code",
   "execution_count": 58,
   "metadata": {},
   "outputs": [
    {
     "data": {
      "text/html": [
       "<div>\n",
       "<style scoped>\n",
       "    .dataframe tbody tr th:only-of-type {\n",
       "        vertical-align: middle;\n",
       "    }\n",
       "\n",
       "    .dataframe tbody tr th {\n",
       "        vertical-align: top;\n",
       "    }\n",
       "\n",
       "    .dataframe thead th {\n",
       "        text-align: right;\n",
       "    }\n",
       "</style>\n",
       "<table border=\"1\" class=\"dataframe\">\n",
       "  <thead>\n",
       "    <tr style=\"text-align: right;\">\n",
       "      <th></th>\n",
       "      <th>Region</th>\n",
       "      <th>Country</th>\n",
       "      <th>Order ID</th>\n",
       "      <th>Ship Date</th>\n",
       "      <th>Units Sold</th>\n",
       "      <th>Unit Price</th>\n",
       "      <th>Unit Cost</th>\n",
       "      <th>Total Revenue</th>\n",
       "      <th>Total Cost</th>\n",
       "      <th>Total Profit</th>\n",
       "    </tr>\n",
       "  </thead>\n",
       "  <tbody>\n",
       "    <tr>\n",
       "      <th>0</th>\n",
       "      <td>Middle East and North Africa</td>\n",
       "      <td>Afghanistan</td>\n",
       "      <td>933963477</td>\n",
       "      <td>8/23/2013</td>\n",
       "      <td>9402</td>\n",
       "      <td>205.70</td>\n",
       "      <td>117.11</td>\n",
       "      <td>1933991.40</td>\n",
       "      <td>1101068.22</td>\n",
       "      <td>832923.18</td>\n",
       "    </tr>\n",
       "    <tr>\n",
       "      <th>1</th>\n",
       "      <td>Middle East and North Africa</td>\n",
       "      <td>Afghanistan</td>\n",
       "      <td>772306096</td>\n",
       "      <td>3/21/2012</td>\n",
       "      <td>1391</td>\n",
       "      <td>668.27</td>\n",
       "      <td>502.54</td>\n",
       "      <td>929563.57</td>\n",
       "      <td>699033.14</td>\n",
       "      <td>230530.43</td>\n",
       "    </tr>\n",
       "    <tr>\n",
       "      <th>2</th>\n",
       "      <td>Middle East and North Africa</td>\n",
       "      <td>Afghanistan</td>\n",
       "      <td>667230880</td>\n",
       "      <td>10/5/2015</td>\n",
       "      <td>7300</td>\n",
       "      <td>205.70</td>\n",
       "      <td>117.11</td>\n",
       "      <td>1501610.00</td>\n",
       "      <td>854903.00</td>\n",
       "      <td>646707.00</td>\n",
       "    </tr>\n",
       "    <tr>\n",
       "      <th>3</th>\n",
       "      <td>Middle East and North Africa</td>\n",
       "      <td>Afghanistan</td>\n",
       "      <td>161685121</td>\n",
       "      <td>8/29/2012</td>\n",
       "      <td>5075</td>\n",
       "      <td>421.89</td>\n",
       "      <td>364.69</td>\n",
       "      <td>2141091.75</td>\n",
       "      <td>1850801.75</td>\n",
       "      <td>290290.00</td>\n",
       "    </tr>\n",
       "    <tr>\n",
       "      <th>4</th>\n",
       "      <td>Middle East and North Africa</td>\n",
       "      <td>Afghanistan</td>\n",
       "      <td>440761888</td>\n",
       "      <td>4/1/2011</td>\n",
       "      <td>92</td>\n",
       "      <td>668.27</td>\n",
       "      <td>502.54</td>\n",
       "      <td>61480.84</td>\n",
       "      <td>46233.68</td>\n",
       "      <td>15247.16</td>\n",
       "    </tr>\n",
       "    <tr>\n",
       "      <th>...</th>\n",
       "      <td>...</td>\n",
       "      <td>...</td>\n",
       "      <td>...</td>\n",
       "      <td>...</td>\n",
       "      <td>...</td>\n",
       "      <td>...</td>\n",
       "      <td>...</td>\n",
       "      <td>...</td>\n",
       "      <td>...</td>\n",
       "      <td>...</td>\n",
       "    </tr>\n",
       "    <tr>\n",
       "      <th>9995</th>\n",
       "      <td>Sub-Saharan Africa</td>\n",
       "      <td>Zimbabwe</td>\n",
       "      <td>742576920</td>\n",
       "      <td>2/6/2016</td>\n",
       "      <td>3867</td>\n",
       "      <td>205.70</td>\n",
       "      <td>117.11</td>\n",
       "      <td>795441.90</td>\n",
       "      <td>452864.37</td>\n",
       "      <td>342577.53</td>\n",
       "    </tr>\n",
       "    <tr>\n",
       "      <th>9996</th>\n",
       "      <td>Sub-Saharan Africa</td>\n",
       "      <td>Zimbabwe</td>\n",
       "      <td>322291505</td>\n",
       "      <td>2/11/2010</td>\n",
       "      <td>2073</td>\n",
       "      <td>651.21</td>\n",
       "      <td>524.96</td>\n",
       "      <td>1349958.33</td>\n",
       "      <td>1088242.08</td>\n",
       "      <td>261716.25</td>\n",
       "    </tr>\n",
       "    <tr>\n",
       "      <th>9997</th>\n",
       "      <td>Sub-Saharan Africa</td>\n",
       "      <td>Zimbabwe</td>\n",
       "      <td>436287105</td>\n",
       "      <td>11/27/2015</td>\n",
       "      <td>5904</td>\n",
       "      <td>9.33</td>\n",
       "      <td>6.92</td>\n",
       "      <td>55084.32</td>\n",
       "      <td>40855.68</td>\n",
       "      <td>14228.64</td>\n",
       "    </tr>\n",
       "    <tr>\n",
       "      <th>9998</th>\n",
       "      <td>Sub-Saharan Africa</td>\n",
       "      <td>Zimbabwe</td>\n",
       "      <td>433102357</td>\n",
       "      <td>2/3/2017</td>\n",
       "      <td>3467</td>\n",
       "      <td>109.28</td>\n",
       "      <td>35.84</td>\n",
       "      <td>378873.76</td>\n",
       "      <td>124257.28</td>\n",
       "      <td>254616.48</td>\n",
       "    </tr>\n",
       "    <tr>\n",
       "      <th>9999</th>\n",
       "      <td>Sub-Saharan Africa</td>\n",
       "      <td>Zimbabwe</td>\n",
       "      <td>486245286</td>\n",
       "      <td>2/5/2013</td>\n",
       "      <td>9640</td>\n",
       "      <td>9.33</td>\n",
       "      <td>6.92</td>\n",
       "      <td>89941.20</td>\n",
       "      <td>66708.80</td>\n",
       "      <td>23232.40</td>\n",
       "    </tr>\n",
       "  </tbody>\n",
       "</table>\n",
       "<p>10000 rows × 10 columns</p>\n",
       "</div>"
      ],
      "text/plain": [
       "                            Region      Country   Order ID   Ship Date  \\\n",
       "0     Middle East and North Africa  Afghanistan  933963477   8/23/2013   \n",
       "1     Middle East and North Africa  Afghanistan  772306096   3/21/2012   \n",
       "2     Middle East and North Africa  Afghanistan  667230880   10/5/2015   \n",
       "3     Middle East and North Africa  Afghanistan  161685121   8/29/2012   \n",
       "4     Middle East and North Africa  Afghanistan  440761888    4/1/2011   \n",
       "...                            ...          ...        ...         ...   \n",
       "9995            Sub-Saharan Africa     Zimbabwe  742576920    2/6/2016   \n",
       "9996            Sub-Saharan Africa     Zimbabwe  322291505   2/11/2010   \n",
       "9997            Sub-Saharan Africa     Zimbabwe  436287105  11/27/2015   \n",
       "9998            Sub-Saharan Africa     Zimbabwe  433102357    2/3/2017   \n",
       "9999            Sub-Saharan Africa     Zimbabwe  486245286    2/5/2013   \n",
       "\n",
       "      Units Sold  Unit Price  Unit Cost  Total Revenue  Total Cost  \\\n",
       "0           9402      205.70     117.11     1933991.40  1101068.22   \n",
       "1           1391      668.27     502.54      929563.57   699033.14   \n",
       "2           7300      205.70     117.11     1501610.00   854903.00   \n",
       "3           5075      421.89     364.69     2141091.75  1850801.75   \n",
       "4             92      668.27     502.54       61480.84    46233.68   \n",
       "...          ...         ...        ...            ...         ...   \n",
       "9995        3867      205.70     117.11      795441.90   452864.37   \n",
       "9996        2073      651.21     524.96     1349958.33  1088242.08   \n",
       "9997        5904        9.33       6.92       55084.32    40855.68   \n",
       "9998        3467      109.28      35.84      378873.76   124257.28   \n",
       "9999        9640        9.33       6.92       89941.20    66708.80   \n",
       "\n",
       "      Total Profit  \n",
       "0        832923.18  \n",
       "1        230530.43  \n",
       "2        646707.00  \n",
       "3        290290.00  \n",
       "4         15247.16  \n",
       "...            ...  \n",
       "9995     342577.53  \n",
       "9996     261716.25  \n",
       "9997      14228.64  \n",
       "9998     254616.48  \n",
       "9999      23232.40  \n",
       "\n",
       "[10000 rows x 10 columns]"
      ]
     },
     "execution_count": 58,
     "metadata": {},
     "output_type": "execute_result"
    }
   ],
   "source": [
    "dt.remove_cloumn_2(\"Item Type\", \"Order Date\")"
   ]
  },
  {
   "cell_type": "code",
   "execution_count": 59,
   "metadata": {},
   "outputs": [],
   "source": [
    "import mod_1"
   ]
  },
  {
   "cell_type": "code",
   "execution_count": 60,
   "metadata": {},
   "outputs": [
    {
     "name": "stdout",
     "output_type": "stream",
     "text": [
      "8\n"
     ]
    },
    {
     "data": {
      "text/plain": [
       "8"
      ]
     },
     "execution_count": 60,
     "metadata": {},
     "output_type": "execute_result"
    }
   ],
   "source": [
    "mod_1.add(5, 3)"
   ]
  },
  {
   "cell_type": "code",
   "execution_count": 61,
   "metadata": {},
   "outputs": [
    {
     "name": "stdout",
     "output_type": "stream",
     "text": [
      "2\n"
     ]
    },
    {
     "data": {
      "text/plain": [
       "2"
      ]
     },
     "execution_count": 61,
     "metadata": {},
     "output_type": "execute_result"
    }
   ],
   "source": [
    "from module import mod_2\n",
    "\n",
    "mod_2.sub(5, 3)"
   ]
  },
  {
   "cell_type": "code",
   "execution_count": 62,
   "metadata": {},
   "outputs": [],
   "source": [
    "from mod_3 import add, sub "
   ]
  },
  {
   "cell_type": "code",
   "execution_count": 63,
   "metadata": {},
   "outputs": [
    {
     "data": {
      "text/plain": [
       "8"
      ]
     },
     "execution_count": 63,
     "metadata": {},
     "output_type": "execute_result"
    }
   ],
   "source": [
    "add(5, 3)"
   ]
  },
  {
   "cell_type": "code",
   "execution_count": 64,
   "metadata": {},
   "outputs": [
    {
     "data": {
      "text/plain": [
       "2"
      ]
     },
     "execution_count": 64,
     "metadata": {},
     "output_type": "execute_result"
    }
   ],
   "source": [
    "sub(5, 3)"
   ]
  },
  {
   "cell_type": "code",
   "execution_count": 65,
   "metadata": {},
   "outputs": [],
   "source": [
    "from flask import Flask #플라스크 라이브러리에서 Flask만 불러오겠다. "
   ]
  },
  {
   "cell_type": "code",
   "execution_count": null,
   "metadata": {},
   "outputs": [],
   "source": []
  },
  {
   "cell_type": "code",
   "execution_count": 66,
   "metadata": {},
   "outputs": [],
   "source": [
    "import pandas "
   ]
  },
  {
   "cell_type": "code",
   "execution_count": 67,
   "metadata": {},
   "outputs": [
    {
     "ename": "ImportError",
     "evalue": "cannot import name 'add' from 'mod3' (c:\\Users\\spaceastonomy\\Desktop\\실습\\220308\\mod3.py)",
     "output_type": "error",
     "traceback": [
      "\u001b[1;31m---------------------------------------------------------------------------\u001b[0m",
      "\u001b[1;31mImportError\u001b[0m                               Traceback (most recent call last)",
      "\u001b[1;32mc:\\Users\\spaceastonomy\\Desktop\\실습\\220308\\220308.ipynb Cell 15'\u001b[0m in \u001b[0;36m<module>\u001b[1;34m\u001b[0m\n\u001b[1;32m----> <a href='vscode-notebook-cell:/c%3A/Users/spaceastonomy/Desktop/%EC%8B%A4%EC%8A%B5/220308/220308.ipynb#ch0000004?line=0'>1</a>\u001b[0m \u001b[39mfrom\u001b[39;00m \u001b[39mmod3\u001b[39;00m \u001b[39mimport\u001b[39;00m add, sub\n",
      "\u001b[1;31mImportError\u001b[0m: cannot import name 'add' from 'mod3' (c:\\Users\\spaceastonomy\\Desktop\\실습\\220308\\mod3.py)"
     ]
    }
   ],
   "source": [
    "from mod3 import add, sub"
   ]
  },
  {
   "cell_type": "code",
   "execution_count": null,
   "metadata": {},
   "outputs": [],
   "source": [
    "add(5,3)"
   ]
  },
  {
   "cell_type": "code",
   "execution_count": null,
   "metadata": {},
   "outputs": [],
   "source": [
    "sub(5,3)"
   ]
  },
  {
   "cell_type": "code",
   "execution_count": null,
   "metadata": {},
   "outputs": [
    {
     "ename": "AttributeError",
     "evalue": "module 'mod_4' has no attribute 'Change_dt_2'",
     "output_type": "error",
     "traceback": [
      "\u001b[1;31m---------------------------------------------------------------------------\u001b[0m",
      "\u001b[1;31mAttributeError\u001b[0m                            Traceback (most recent call last)",
      "\u001b[1;32mc:\\Users\\spaceastonomy\\Desktop\\실습\\220308\\220308.ipynb Cell 18'\u001b[0m in \u001b[0;36m<module>\u001b[1;34m\u001b[0m\n\u001b[0;32m      <a href='vscode-notebook-cell:/c%3A/Users/spaceastonomy/Desktop/%EC%8B%A4%EC%8A%B5/220308/220308.ipynb#ch0000007?line=0'>1</a>\u001b[0m \u001b[39mimport\u001b[39;00m \u001b[39mmod_4\u001b[39;00m\n\u001b[1;32m----> <a href='vscode-notebook-cell:/c%3A/Users/spaceastonomy/Desktop/%EC%8B%A4%EC%8A%B5/220308/220308.ipynb#ch0000007?line=2'>3</a>\u001b[0m dt \u001b[39m=\u001b[39m mod_4\u001b[39m.\u001b[39;49mChange_dt_2(\u001b[39m\"\u001b[39m\u001b[39m./csv/Sales Records.csv\u001b[39m\u001b[39m\"\u001b[39m)\n",
      "\u001b[1;31mAttributeError\u001b[0m: module 'mod_4' has no attribute 'Change_dt_2'"
     ]
    }
   ],
   "source": [
    "import mod_4\n",
    "\n",
    "dt = mod_4.Change_dt_2(\"./csv/Sales Records.csv\")"
   ]
  },
  {
   "cell_type": "code",
   "execution_count": null,
   "metadata": {},
   "outputs": [
    {
     "data": {
      "text/html": [
       "<div>\n",
       "<style scoped>\n",
       "    .dataframe tbody tr th:only-of-type {\n",
       "        vertical-align: middle;\n",
       "    }\n",
       "\n",
       "    .dataframe tbody tr th {\n",
       "        vertical-align: top;\n",
       "    }\n",
       "\n",
       "    .dataframe thead th {\n",
       "        text-align: right;\n",
       "    }\n",
       "</style>\n",
       "<table border=\"1\" class=\"dataframe\">\n",
       "  <thead>\n",
       "    <tr style=\"text-align: right;\">\n",
       "      <th></th>\n",
       "      <th>Region</th>\n",
       "      <th>Country</th>\n",
       "      <th>Item Type</th>\n",
       "      <th>Sales Channel</th>\n",
       "      <th>Order Priority</th>\n",
       "      <th>Order Date</th>\n",
       "      <th>Order ID</th>\n",
       "      <th>Ship Date</th>\n",
       "      <th>Units Sold</th>\n",
       "      <th>Unit Price</th>\n",
       "      <th>Unit Cost</th>\n",
       "      <th>Total Revenue</th>\n",
       "      <th>Total Cost</th>\n",
       "      <th>Total Profit</th>\n",
       "    </tr>\n",
       "  </thead>\n",
       "  <tbody>\n",
       "    <tr>\n",
       "      <th>0</th>\n",
       "      <td>Middle East and North Africa</td>\n",
       "      <td>Afghanistan</td>\n",
       "      <td>Cereal</td>\n",
       "      <td>Offline</td>\n",
       "      <td>H</td>\n",
       "      <td>7/24/2013</td>\n",
       "      <td>933963477</td>\n",
       "      <td>8/23/2013</td>\n",
       "      <td>9402</td>\n",
       "      <td>205.70</td>\n",
       "      <td>117.11</td>\n",
       "      <td>1933991.40</td>\n",
       "      <td>1101068.22</td>\n",
       "      <td>832923.18</td>\n",
       "    </tr>\n",
       "    <tr>\n",
       "      <th>1</th>\n",
       "      <td>Middle East and North Africa</td>\n",
       "      <td>Afghanistan</td>\n",
       "      <td>Household</td>\n",
       "      <td>Offline</td>\n",
       "      <td>L</td>\n",
       "      <td>2/4/2012</td>\n",
       "      <td>772306096</td>\n",
       "      <td>3/21/2012</td>\n",
       "      <td>1391</td>\n",
       "      <td>668.27</td>\n",
       "      <td>502.54</td>\n",
       "      <td>929563.57</td>\n",
       "      <td>699033.14</td>\n",
       "      <td>230530.43</td>\n",
       "    </tr>\n",
       "    <tr>\n",
       "      <th>2</th>\n",
       "      <td>Middle East and North Africa</td>\n",
       "      <td>Afghanistan</td>\n",
       "      <td>Cereal</td>\n",
       "      <td>Offline</td>\n",
       "      <td>H</td>\n",
       "      <td>8/20/2015</td>\n",
       "      <td>667230880</td>\n",
       "      <td>10/5/2015</td>\n",
       "      <td>7300</td>\n",
       "      <td>205.70</td>\n",
       "      <td>117.11</td>\n",
       "      <td>1501610.00</td>\n",
       "      <td>854903.00</td>\n",
       "      <td>646707.00</td>\n",
       "    </tr>\n",
       "    <tr>\n",
       "      <th>3</th>\n",
       "      <td>Middle East and North Africa</td>\n",
       "      <td>Afghanistan</td>\n",
       "      <td>Meat</td>\n",
       "      <td>Offline</td>\n",
       "      <td>H</td>\n",
       "      <td>8/11/2012</td>\n",
       "      <td>161685121</td>\n",
       "      <td>8/29/2012</td>\n",
       "      <td>5075</td>\n",
       "      <td>421.89</td>\n",
       "      <td>364.69</td>\n",
       "      <td>2141091.75</td>\n",
       "      <td>1850801.75</td>\n",
       "      <td>290290.00</td>\n",
       "    </tr>\n",
       "    <tr>\n",
       "      <th>4</th>\n",
       "      <td>Middle East and North Africa</td>\n",
       "      <td>Afghanistan</td>\n",
       "      <td>Household</td>\n",
       "      <td>Offline</td>\n",
       "      <td>M</td>\n",
       "      <td>3/25/2011</td>\n",
       "      <td>440761888</td>\n",
       "      <td>4/1/2011</td>\n",
       "      <td>92</td>\n",
       "      <td>668.27</td>\n",
       "      <td>502.54</td>\n",
       "      <td>61480.84</td>\n",
       "      <td>46233.68</td>\n",
       "      <td>15247.16</td>\n",
       "    </tr>\n",
       "    <tr>\n",
       "      <th>...</th>\n",
       "      <td>...</td>\n",
       "      <td>...</td>\n",
       "      <td>...</td>\n",
       "      <td>...</td>\n",
       "      <td>...</td>\n",
       "      <td>...</td>\n",
       "      <td>...</td>\n",
       "      <td>...</td>\n",
       "      <td>...</td>\n",
       "      <td>...</td>\n",
       "      <td>...</td>\n",
       "      <td>...</td>\n",
       "      <td>...</td>\n",
       "      <td>...</td>\n",
       "    </tr>\n",
       "    <tr>\n",
       "      <th>9995</th>\n",
       "      <td>Sub-Saharan Africa</td>\n",
       "      <td>Zimbabwe</td>\n",
       "      <td>Cereal</td>\n",
       "      <td>Online</td>\n",
       "      <td>C</td>\n",
       "      <td>1/16/2016</td>\n",
       "      <td>742576920</td>\n",
       "      <td>2/6/2016</td>\n",
       "      <td>3867</td>\n",
       "      <td>205.70</td>\n",
       "      <td>117.11</td>\n",
       "      <td>795441.90</td>\n",
       "      <td>452864.37</td>\n",
       "      <td>342577.53</td>\n",
       "    </tr>\n",
       "    <tr>\n",
       "      <th>9996</th>\n",
       "      <td>Sub-Saharan Africa</td>\n",
       "      <td>Zimbabwe</td>\n",
       "      <td>Office Supplies</td>\n",
       "      <td>Offline</td>\n",
       "      <td>L</td>\n",
       "      <td>1/26/2010</td>\n",
       "      <td>322291505</td>\n",
       "      <td>2/11/2010</td>\n",
       "      <td>2073</td>\n",
       "      <td>651.21</td>\n",
       "      <td>524.96</td>\n",
       "      <td>1349958.33</td>\n",
       "      <td>1088242.08</td>\n",
       "      <td>261716.25</td>\n",
       "    </tr>\n",
       "    <tr>\n",
       "      <th>9997</th>\n",
       "      <td>Sub-Saharan Africa</td>\n",
       "      <td>Zimbabwe</td>\n",
       "      <td>Fruits</td>\n",
       "      <td>Offline</td>\n",
       "      <td>C</td>\n",
       "      <td>11/20/2015</td>\n",
       "      <td>436287105</td>\n",
       "      <td>11/27/2015</td>\n",
       "      <td>5904</td>\n",
       "      <td>9.33</td>\n",
       "      <td>6.92</td>\n",
       "      <td>55084.32</td>\n",
       "      <td>40855.68</td>\n",
       "      <td>14228.64</td>\n",
       "    </tr>\n",
       "    <tr>\n",
       "      <th>9998</th>\n",
       "      <td>Sub-Saharan Africa</td>\n",
       "      <td>Zimbabwe</td>\n",
       "      <td>Clothes</td>\n",
       "      <td>Online</td>\n",
       "      <td>C</td>\n",
       "      <td>1/21/2017</td>\n",
       "      <td>433102357</td>\n",
       "      <td>2/3/2017</td>\n",
       "      <td>3467</td>\n",
       "      <td>109.28</td>\n",
       "      <td>35.84</td>\n",
       "      <td>378873.76</td>\n",
       "      <td>124257.28</td>\n",
       "      <td>254616.48</td>\n",
       "    </tr>\n",
       "    <tr>\n",
       "      <th>9999</th>\n",
       "      <td>Sub-Saharan Africa</td>\n",
       "      <td>Zimbabwe</td>\n",
       "      <td>Fruits</td>\n",
       "      <td>Offline</td>\n",
       "      <td>C</td>\n",
       "      <td>12/29/2012</td>\n",
       "      <td>486245286</td>\n",
       "      <td>2/5/2013</td>\n",
       "      <td>9640</td>\n",
       "      <td>9.33</td>\n",
       "      <td>6.92</td>\n",
       "      <td>89941.20</td>\n",
       "      <td>66708.80</td>\n",
       "      <td>23232.40</td>\n",
       "    </tr>\n",
       "  </tbody>\n",
       "</table>\n",
       "<p>10000 rows × 14 columns</p>\n",
       "</div>"
      ],
      "text/plain": [
       "                            Region      Country        Item Type  \\\n",
       "0     Middle East and North Africa  Afghanistan           Cereal   \n",
       "1     Middle East and North Africa  Afghanistan        Household   \n",
       "2     Middle East and North Africa  Afghanistan           Cereal   \n",
       "3     Middle East and North Africa  Afghanistan             Meat   \n",
       "4     Middle East and North Africa  Afghanistan        Household   \n",
       "...                            ...          ...              ...   \n",
       "9995            Sub-Saharan Africa     Zimbabwe           Cereal   \n",
       "9996            Sub-Saharan Africa     Zimbabwe  Office Supplies   \n",
       "9997            Sub-Saharan Africa     Zimbabwe           Fruits   \n",
       "9998            Sub-Saharan Africa     Zimbabwe          Clothes   \n",
       "9999            Sub-Saharan Africa     Zimbabwe           Fruits   \n",
       "\n",
       "     Sales Channel Order Priority  Order Date   Order ID   Ship Date  \\\n",
       "0          Offline              H   7/24/2013  933963477   8/23/2013   \n",
       "1          Offline              L    2/4/2012  772306096   3/21/2012   \n",
       "2          Offline              H   8/20/2015  667230880   10/5/2015   \n",
       "3          Offline              H   8/11/2012  161685121   8/29/2012   \n",
       "4          Offline              M   3/25/2011  440761888    4/1/2011   \n",
       "...            ...            ...         ...        ...         ...   \n",
       "9995        Online              C   1/16/2016  742576920    2/6/2016   \n",
       "9996       Offline              L   1/26/2010  322291505   2/11/2010   \n",
       "9997       Offline              C  11/20/2015  436287105  11/27/2015   \n",
       "9998        Online              C   1/21/2017  433102357    2/3/2017   \n",
       "9999       Offline              C  12/29/2012  486245286    2/5/2013   \n",
       "\n",
       "      Units Sold  Unit Price  Unit Cost  Total Revenue  Total Cost  \\\n",
       "0           9402      205.70     117.11     1933991.40  1101068.22   \n",
       "1           1391      668.27     502.54      929563.57   699033.14   \n",
       "2           7300      205.70     117.11     1501610.00   854903.00   \n",
       "3           5075      421.89     364.69     2141091.75  1850801.75   \n",
       "4             92      668.27     502.54       61480.84    46233.68   \n",
       "...          ...         ...        ...            ...         ...   \n",
       "9995        3867      205.70     117.11      795441.90   452864.37   \n",
       "9996        2073      651.21     524.96     1349958.33  1088242.08   \n",
       "9997        5904        9.33       6.92       55084.32    40855.68   \n",
       "9998        3467      109.28      35.84      378873.76   124257.28   \n",
       "9999        9640        9.33       6.92       89941.20    66708.80   \n",
       "\n",
       "      Total Profit  \n",
       "0        832923.18  \n",
       "1        230530.43  \n",
       "2        646707.00  \n",
       "3        290290.00  \n",
       "4         15247.16  \n",
       "...            ...  \n",
       "9995     342577.53  \n",
       "9996     261716.25  \n",
       "9997      14228.64  \n",
       "9998     254616.48  \n",
       "9999      23232.40  \n",
       "\n",
       "[10000 rows x 14 columns]"
      ]
     },
     "execution_count": 52,
     "metadata": {},
     "output_type": "execute_result"
    }
   ],
   "source": [
    "dt.csv_read()"
   ]
  },
  {
   "cell_type": "code",
   "execution_count": 68,
   "metadata": {},
   "outputs": [
    {
     "ename": "AttributeError",
     "evalue": "'Change_dt' object has no attribute 'remove_column_2'",
     "output_type": "error",
     "traceback": [
      "\u001b[1;31m---------------------------------------------------------------------------\u001b[0m",
      "\u001b[1;31mAttributeError\u001b[0m                            Traceback (most recent call last)",
      "\u001b[1;32mc:\\Users\\spaceastonomy\\Desktop\\실습\\220308\\220308.ipynb Cell 20'\u001b[0m in \u001b[0;36m<module>\u001b[1;34m\u001b[0m\n\u001b[1;32m----> <a href='vscode-notebook-cell:/c%3A/Users/spaceastonomy/Desktop/%EC%8B%A4%EC%8A%B5/220308/220308.ipynb#ch0000009?line=0'>1</a>\u001b[0m dt\u001b[39m.\u001b[39;49mremove_column_2(\u001b[39m\"\u001b[39m\u001b[39mItem type\u001b[39m\u001b[39m\"\u001b[39m, \u001b[39m\"\u001b[39m\u001b[39mOder Date\u001b[39m\u001b[39m\"\u001b[39m)\n",
      "\u001b[1;31mAttributeError\u001b[0m: 'Change_dt' object has no attribute 'remove_column_2'"
     ]
    }
   ],
   "source": [
    "dt.remove_column_2(\"Item type\", \"Oder Date\")"
   ]
  },
  {
   "cell_type": "code",
   "execution_count": 70,
   "metadata": {},
   "outputs": [
    {
     "ename": "ImportError",
     "evalue": "cannot import name 'Change_dt_2' from 'mod_4' (c:\\Users\\spaceastonomy\\Desktop\\실습\\220308\\mod_4.py)",
     "output_type": "error",
     "traceback": [
      "\u001b[1;31m---------------------------------------------------------------------------\u001b[0m",
      "\u001b[1;31mImportError\u001b[0m                               Traceback (most recent call last)",
      "\u001b[1;32mc:\\Users\\spaceastonomy\\Desktop\\실습\\220308\\220308.ipynb Cell 21'\u001b[0m in \u001b[0;36m<module>\u001b[1;34m\u001b[0m\n\u001b[1;32m----> <a href='vscode-notebook-cell:/c%3A/Users/spaceastonomy/Desktop/%EC%8B%A4%EC%8A%B5/220308/220308.ipynb#ch0000010?line=0'>1</a>\u001b[0m \u001b[39mfrom\u001b[39;00m \u001b[39mmod_4\u001b[39;00m \u001b[39mimport\u001b[39;00m Change_dt_2 \u001b[39mas\u001b[39;00m ct\n\u001b[0;32m      <a href='vscode-notebook-cell:/c%3A/Users/spaceastonomy/Desktop/%EC%8B%A4%EC%8A%B5/220308/220308.ipynb#ch0000010?line=2'>3</a>\u001b[0m dt_2 \u001b[39m=\u001b[39m ct(\u001b[39m\"\u001b[39m\u001b[39m./csv/Sales Records.csv\u001b[39m\u001b[39m\"\u001b[39m)\n",
      "\u001b[1;31mImportError\u001b[0m: cannot import name 'Change_dt_2' from 'mod_4' (c:\\Users\\spaceastonomy\\Desktop\\실습\\220308\\mod_4.py)"
     ]
    }
   ],
   "source": [
    "from mod_4 import Change_dt_2 as ct\n",
    "\n",
    "dt_2 = ct(\"./csv/Sales Records.csv\")"
   ]
  },
  {
   "cell_type": "code",
   "execution_count": null,
   "metadata": {},
   "outputs": [],
   "source": [
    "dt_2.csv_read()"
   ]
  },
  {
   "cell_type": "code",
   "execution_count": null,
   "metadata": {},
   "outputs": [],
   "source": [
    "for i in range(0, 4, 1):\n",
    "    print(list)"
   ]
  },
  {
   "cell_type": "code",
   "execution_count": 71,
   "metadata": {},
   "outputs": [
    {
     "name": "stdout",
     "output_type": "stream",
     "text": [
      "test\n"
     ]
    }
   ],
   "source": [
    "a = (1,2,3,4)\n",
    "b = [4,3,2,1]\n",
    "c = {\"name\" : \"test\", \"age\" : 20}\n",
    "\n",
    "print(c[\"name\"])"
   ]
  },
  {
   "cell_type": "code",
   "execution_count": 75,
   "metadata": {},
   "outputs": [
    {
     "name": "stdout",
     "output_type": "stream",
     "text": [
      "0    test     \n",
      "Name: name, dtype: object\n"
     ]
    }
   ],
   "source": [
    "a = [{\"name\" : \"test\", \"age\" : 20}]\n",
    "b = pd.DataFrame(a)\n",
    "print(b[\"name\"])"
   ]
  },
  {
   "cell_type": "code",
   "execution_count": 77,
   "metadata": {},
   "outputs": [],
   "source": [
    "import numpy as np"
   ]
  },
  {
   "cell_type": "code",
   "execution_count": 87,
   "metadata": {},
   "outputs": [
    {
     "data": {
      "text/plain": [
       "array([[0.68943494, 0.31486662],\n",
       "       [0.56163985, 0.68254304],\n",
       "       [0.46281556, 0.74781651],\n",
       "       [0.85731704, 0.51001135],\n",
       "       [0.62660292, 0.8321373 ],\n",
       "       [0.49520818, 0.9374159 ],\n",
       "       [0.08223881, 0.97963229],\n",
       "       [0.16596032, 0.47394912],\n",
       "       [0.82512035, 0.29571303],\n",
       "       [0.13286868, 0.02735737]])"
      ]
     },
     "execution_count": 87,
     "metadata": {},
     "output_type": "execute_result"
    }
   ],
   "source": [
    "n_a = np.random.random((10,2))\n",
    "\n",
    "n_a"
   ]
  },
  {
   "cell_type": "code",
   "execution_count": 83,
   "metadata": {},
   "outputs": [
    {
     "data": {
      "text/plain": [
       "array([[0., 1.],\n",
       "       [0., 1.],\n",
       "       [1., 1.],\n",
       "       [0., 1.],\n",
       "       [0., 0.],\n",
       "       [1., 1.],\n",
       "       [1., 0.],\n",
       "       [1., 0.],\n",
       "       [1., 0.],\n",
       "       [1., 1.]])"
      ]
     },
     "execution_count": 83,
     "metadata": {},
     "output_type": "execute_result"
    }
   ],
   "source": [
    "# n_a.round(0)"
   ]
  },
  {
   "cell_type": "code",
   "execution_count": 85,
   "metadata": {},
   "outputs": [
    {
     "data": {
      "text/plain": [
       "array([[0.35552938, 1.        ],\n",
       "       [0.31537102, 1.        ],\n",
       "       [0.54840558, 1.        ],\n",
       "       [0.11644043, 1.        ],\n",
       "       [0.3260544 , 0.        ],\n",
       "       [0.90318362, 1.        ],\n",
       "       [0.69533653, 0.        ],\n",
       "       [0.76257902, 0.        ],\n",
       "       [0.71254757, 0.        ],\n",
       "       [0.87778279, 1.        ]])"
      ]
     },
     "execution_count": 85,
     "metadata": {},
     "output_type": "execute_result"
    }
   ],
   "source": [
    "# for i in range(len(n_a)):\n",
    "#     if n_a[i][1] > 0.5:\n",
    "#         n_a[i][1] = 1\n",
    "#     else:\n",
    "#         n_a[i][1] = 0\n",
    "\n",
    "# n_a"
   ]
  },
  {
   "cell_type": "code",
   "execution_count": 88,
   "metadata": {},
   "outputs": [
    {
     "data": {
      "text/html": [
       "<div>\n",
       "<style scoped>\n",
       "    .dataframe tbody tr th:only-of-type {\n",
       "        vertical-align: middle;\n",
       "    }\n",
       "\n",
       "    .dataframe tbody tr th {\n",
       "        vertical-align: top;\n",
       "    }\n",
       "\n",
       "    .dataframe thead th {\n",
       "        text-align: right;\n",
       "    }\n",
       "</style>\n",
       "<table border=\"1\" class=\"dataframe\">\n",
       "  <thead>\n",
       "    <tr style=\"text-align: right;\">\n",
       "      <th></th>\n",
       "      <th>0</th>\n",
       "      <th>1</th>\n",
       "    </tr>\n",
       "  </thead>\n",
       "  <tbody>\n",
       "    <tr>\n",
       "      <th>0</th>\n",
       "      <td>0.689435</td>\n",
       "      <td>0.314867</td>\n",
       "    </tr>\n",
       "    <tr>\n",
       "      <th>1</th>\n",
       "      <td>0.561640</td>\n",
       "      <td>0.682543</td>\n",
       "    </tr>\n",
       "    <tr>\n",
       "      <th>2</th>\n",
       "      <td>0.462816</td>\n",
       "      <td>0.747817</td>\n",
       "    </tr>\n",
       "    <tr>\n",
       "      <th>3</th>\n",
       "      <td>0.857317</td>\n",
       "      <td>0.510011</td>\n",
       "    </tr>\n",
       "    <tr>\n",
       "      <th>4</th>\n",
       "      <td>0.626603</td>\n",
       "      <td>0.832137</td>\n",
       "    </tr>\n",
       "    <tr>\n",
       "      <th>5</th>\n",
       "      <td>0.495208</td>\n",
       "      <td>0.937416</td>\n",
       "    </tr>\n",
       "    <tr>\n",
       "      <th>6</th>\n",
       "      <td>0.082239</td>\n",
       "      <td>0.979632</td>\n",
       "    </tr>\n",
       "    <tr>\n",
       "      <th>7</th>\n",
       "      <td>0.165960</td>\n",
       "      <td>0.473949</td>\n",
       "    </tr>\n",
       "    <tr>\n",
       "      <th>8</th>\n",
       "      <td>0.825120</td>\n",
       "      <td>0.295713</td>\n",
       "    </tr>\n",
       "    <tr>\n",
       "      <th>9</th>\n",
       "      <td>0.132869</td>\n",
       "      <td>0.027357</td>\n",
       "    </tr>\n",
       "  </tbody>\n",
       "</table>\n",
       "</div>"
      ],
      "text/plain": [
       "          0         1\n",
       "0  0.689435  0.314867\n",
       "1  0.561640  0.682543\n",
       "2  0.462816  0.747817\n",
       "3  0.857317  0.510011\n",
       "4  0.626603  0.832137\n",
       "5  0.495208  0.937416\n",
       "6  0.082239  0.979632\n",
       "7  0.165960  0.473949\n",
       "8  0.825120  0.295713\n",
       "9  0.132869  0.027357"
      ]
     },
     "execution_count": 88,
     "metadata": {},
     "output_type": "execute_result"
    }
   ],
   "source": [
    "dt = pd.DataFrame(n_a)\n",
    "dt"
   ]
  },
  {
   "cell_type": "code",
   "execution_count": 90,
   "metadata": {},
   "outputs": [
    {
     "data": {
      "text/plain": [
       "0    0.0\n",
       "1    1.0\n",
       "2    1.0\n",
       "3    1.0\n",
       "4    1.0\n",
       "5    1.0\n",
       "6    1.0\n",
       "7    0.0\n",
       "8    0.0\n",
       "9    0.0\n",
       "Name: 1, dtype: float64"
      ]
     },
     "execution_count": 90,
     "metadata": {},
     "output_type": "execute_result"
    }
   ],
   "source": [
    "dt[1].round(0)"
   ]
  },
  {
   "cell_type": "code",
   "execution_count": 91,
   "metadata": {},
   "outputs": [
    {
     "data": {
      "text/plain": [
       "0    0\n",
       "1    1\n",
       "2    1\n",
       "3    1\n",
       "4    1\n",
       "5    1\n",
       "6    1\n",
       "7    0\n",
       "8    0\n",
       "9    0\n",
       "Name: 1, dtype: int64"
      ]
     },
     "execution_count": 91,
     "metadata": {},
     "output_type": "execute_result"
    }
   ],
   "source": [
    "dt[1].apply(lambda x : 1 if (x>0.5) else 0)"
   ]
  },
  {
   "cell_type": "code",
   "execution_count": 92,
   "metadata": {},
   "outputs": [
    {
     "data": {
      "text/plain": [
       "0    0\n",
       "1    1\n",
       "2    1\n",
       "3    1\n",
       "4    1\n",
       "5    1\n",
       "6    1\n",
       "7    0\n",
       "8    0\n",
       "9    0\n",
       "Name: 1, dtype: int64"
      ]
     },
     "execution_count": 92,
     "metadata": {},
     "output_type": "execute_result"
    }
   ],
   "source": [
    "def _round(x):\n",
    "    if x > 0.5:\n",
    "        return 1\n",
    "\n",
    "    else:\n",
    "        return 0 \n",
    "\n",
    "dt[1].apply(_round)"
   ]
  },
  {
   "cell_type": "code",
   "execution_count": 96,
   "metadata": {},
   "outputs": [],
   "source": [
    "class Class_1():\n",
    "    def a(self):\n",
    "        print(\"Class_1\")\n",
    "\n",
    "class Class_2():\n",
    "    def b(self):\n",
    "        print(\"Class_2\")\n",
    "\n",
    "class Class_3(Class_2, Class_1):\n",
    "    def c(self):\n",
    "        print(\"Class_3\")\n",
    "\n",
    "x = Class_3()"
   ]
  },
  {
   "cell_type": "code",
   "execution_count": 97,
   "metadata": {},
   "outputs": [
    {
     "name": "stdout",
     "output_type": "stream",
     "text": [
      "Class_1\n"
     ]
    }
   ],
   "source": [
    "x.a()"
   ]
  },
  {
   "cell_type": "code",
   "execution_count": 104,
   "metadata": {},
   "outputs": [
    {
     "name": "stdout",
     "output_type": "stream",
     "text": [
      "7\n",
      "7\n"
     ]
    },
    {
     "ename": "AttributeError",
     "evalue": "module 'mod_1' has no attribute 'sub'",
     "output_type": "error",
     "traceback": [
      "\u001b[1;31m---------------------------------------------------------------------------\u001b[0m",
      "\u001b[1;31mAttributeError\u001b[0m                            Traceback (most recent call last)",
      "\u001b[1;32mc:\\Users\\spaceastonomy\\Desktop\\실습\\220308\\220308.ipynb Cell 36'\u001b[0m in \u001b[0;36m<module>\u001b[1;34m\u001b[0m\n\u001b[0;32m      <a href='vscode-notebook-cell:/c%3A/Users/spaceastonomy/Desktop/%EC%8B%A4%EC%8A%B5/220308/220308.ipynb#ch0000035?line=0'>1</a>\u001b[0m \u001b[39mimport\u001b[39;00m \u001b[39mmod_1\u001b[39;00m\n\u001b[0;32m      <a href='vscode-notebook-cell:/c%3A/Users/spaceastonomy/Desktop/%EC%8B%A4%EC%8A%B5/220308/220308.ipynb#ch0000035?line=1'>2</a>\u001b[0m \u001b[39mprint\u001b[39m(mod_1\u001b[39m.\u001b[39madd(\u001b[39m3\u001b[39m,\u001b[39m4\u001b[39m))\n\u001b[1;32m----> <a href='vscode-notebook-cell:/c%3A/Users/spaceastonomy/Desktop/%EC%8B%A4%EC%8A%B5/220308/220308.ipynb#ch0000035?line=3'>4</a>\u001b[0m \u001b[39mprint\u001b[39m(mod_1\u001b[39m.\u001b[39;49msub(\u001b[39m4\u001b[39m,\u001b[39m2\u001b[39m))\n",
      "\u001b[1;31mAttributeError\u001b[0m: module 'mod_1' has no attribute 'sub'"
     ]
    }
   ],
   "source": [
    "import mod_1\n",
    "print(mod_1.add(3,4))\n",
    "\n",
    "print(mod_1.sub(4,2))"
   ]
  },
  {
   "cell_type": "code",
   "execution_count": 102,
   "metadata": {},
   "outputs": [
    {
     "name": "stdout",
     "output_type": "stream",
     "text": [
      "7\n"
     ]
    },
    {
     "data": {
      "text/plain": [
       "7"
      ]
     },
     "execution_count": 102,
     "metadata": {},
     "output_type": "execute_result"
    }
   ],
   "source": [
    "from mod_1 import add\n",
    "add(3, 4)"
   ]
  },
  {
   "cell_type": "code",
   "execution_count": 103,
   "metadata": {},
   "outputs": [
    {
     "data": {
      "text/plain": [
       "2"
      ]
     },
     "execution_count": 103,
     "metadata": {},
     "output_type": "execute_result"
    }
   ],
   "source": [
    "from mod_1 import *\n",
    "sub(5,3)"
   ]
  },
  {
   "cell_type": "code",
   "execution_count": 105,
   "metadata": {},
   "outputs": [],
   "source": [
    "import mod_1"
   ]
  },
  {
   "cell_type": "code",
   "execution_count": 106,
   "metadata": {},
   "outputs": [
    {
     "data": {
      "text/plain": [
       "'mod_1'"
      ]
     },
     "execution_count": 106,
     "metadata": {},
     "output_type": "execute_result"
    }
   ],
   "source": [
    "mod_1.__name__"
   ]
  },
  {
   "cell_type": "code",
   "execution_count": 107,
   "metadata": {},
   "outputs": [],
   "source": [
    "import mod2"
   ]
  },
  {
   "cell_type": "code",
   "execution_count": 108,
   "metadata": {},
   "outputs": [
    {
     "name": "stdout",
     "output_type": "stream",
     "text": [
      "3.141592\n"
     ]
    }
   ],
   "source": [
    "print(mod2.PI)"
   ]
  },
  {
   "cell_type": "code",
   "execution_count": 109,
   "metadata": {},
   "outputs": [
    {
     "name": "stdout",
     "output_type": "stream",
     "text": [
      "12.566368\n"
     ]
    }
   ],
   "source": [
    "a = mod2.Math()\n",
    "print(a.solv(2))"
   ]
  },
  {
   "cell_type": "code",
   "execution_count": 110,
   "metadata": {},
   "outputs": [
    {
     "name": "stdout",
     "output_type": "stream",
     "text": [
      "7.5415920000000005\n"
     ]
    }
   ],
   "source": [
    "print(mod2.add(mod2.PI, 4.4))"
   ]
  },
  {
   "cell_type": "code",
   "execution_count": 111,
   "metadata": {},
   "outputs": [
    {
     "ename": "ModuleNotFoundError",
     "evalue": "No module named 'mod_2'",
     "output_type": "error",
     "traceback": [
      "\u001b[1;31m---------------------------------------------------------------------------\u001b[0m",
      "\u001b[1;31mModuleNotFoundError\u001b[0m                       Traceback (most recent call last)",
      "\u001b[1;32mc:\\Users\\spaceastonomy\\Desktop\\실습\\220308\\220308.ipynb Cell 45'\u001b[0m in \u001b[0;36m<module>\u001b[1;34m\u001b[0m\n\u001b[1;32m----> <a href='vscode-notebook-cell:/c%3A/Users/spaceastonomy/Desktop/%EC%8B%A4%EC%8A%B5/220308/220308.ipynb#ch0000044?line=0'>1</a>\u001b[0m \u001b[39mimport\u001b[39;00m \u001b[39mmod_2\u001b[39;00m\n\u001b[0;32m      <a href='vscode-notebook-cell:/c%3A/Users/spaceastonomy/Desktop/%EC%8B%A4%EC%8A%B5/220308/220308.ipynb#ch0000044?line=1'>2</a>\u001b[0m result \u001b[39m=\u001b[39m mod_2\u001b[39m.\u001b[39msub(\u001b[39m3\u001b[39m, \u001b[39m4\u001b[39m)\n\u001b[0;32m      <a href='vscode-notebook-cell:/c%3A/Users/spaceastonomy/Desktop/%EC%8B%A4%EC%8A%B5/220308/220308.ipynb#ch0000044?line=2'>3</a>\u001b[0m \u001b[39mprint\u001b[39m(result)\n",
      "\u001b[1;31mModuleNotFoundError\u001b[0m: No module named 'mod_2'"
     ]
    }
   ],
   "source": [
    "import mod_2\n",
    "result = mod_2.sub(3, 4)\n",
    "print(result)"
   ]
  },
  {
   "cell_type": "code",
   "execution_count": null,
   "metadata": {},
   "outputs": [],
   "source": []
  }
 ],
 "metadata": {
  "interpreter": {
   "hash": "ddbee94c2ce3b61c3b1774ea67d55f2fdae8c29319837f6f09ba2209f9564fc6"
  },
  "kernelspec": {
   "display_name": "Python 3.10.2 64-bit",
   "language": "python",
   "name": "python3"
  },
  "language_info": {
   "codemirror_mode": {
    "name": "ipython",
    "version": 3
   },
   "file_extension": ".py",
   "mimetype": "text/x-python",
   "name": "python",
   "nbconvert_exporter": "python",
   "pygments_lexer": "ipython3",
   "version": "3.10.2"
  },
  "orig_nbformat": 4
 },
 "nbformat": 4,
 "nbformat_minor": 2
}
