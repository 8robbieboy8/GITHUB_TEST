{
 "cells": [
  {
   "cell_type": "code",
   "execution_count": 2,
   "metadata": {},
   "outputs": [
    {
     "name": "stdout",
     "output_type": "stream",
     "text": [
      "hello wordl\n"
     ]
    }
   ],
   "source": [
    "class Class_1():\n",
    "    def func_1(self):\n",
    "        print(\"hello wordl\")\n",
    "\n",
    "a = Class_1()\n",
    "a.func_1()"
   ]
  },
  {
   "cell_type": "code",
   "execution_count": 3,
   "metadata": {},
   "outputs": [
    {
     "name": "stdout",
     "output_type": "stream",
     "text": [
      "hello world\n"
     ]
    }
   ],
   "source": [
    "class Class_2():\n",
    "    def func_2(self):\n",
    "        print(\"hello world\")\n",
    "\n",
    "b = Class_2()\n",
    "b.func_2()"
   ]
  },
  {
   "cell_type": "code",
   "execution_count": 4,
   "metadata": {},
   "outputs": [
    {
     "data": {
      "text/plain": [
       "'test'"
      ]
     },
     "execution_count": 4,
     "metadata": {},
     "output_type": "execute_result"
    }
   ],
   "source": [
    "class Class_3():\n",
    "    def __init__(self, input_a, Input_b):\n",
    "        self.a = input_a\n",
    "        self.b = Input_b\n",
    "\n",
    "c = Class_3(\"test\", \"test\")\n",
    "c.a"
   ]
  },
  {
   "cell_type": "code",
   "execution_count": 5,
   "metadata": {},
   "outputs": [
    {
     "data": {
      "text/plain": [
       "'test'"
      ]
     },
     "execution_count": 5,
     "metadata": {},
     "output_type": "execute_result"
    }
   ],
   "source": [
    "c.b"
   ]
  },
  {
   "cell_type": "code",
   "execution_count": 6,
   "metadata": {},
   "outputs": [
    {
     "name": "stdout",
     "output_type": "stream",
     "text": [
      "test\n"
     ]
    }
   ],
   "source": [
    "class Class_4():\n",
    "\n",
    "    name = \"test\"\n",
    "\n",
    "    def __init__(self, input_c):\n",
    "        self.c = input_c\n",
    "\n",
    "a = Class_4(\"123\")\n",
    "b = Class_4(\"456\")\n",
    "c = Class_4(\"789\")\n",
    "\n",
    "print(a.name)"
   ]
  },
  {
   "cell_type": "code",
   "execution_count": 9,
   "metadata": {},
   "outputs": [
    {
     "name": "stdout",
     "output_type": "stream",
     "text": [
      "123\n",
      "456\n"
     ]
    }
   ],
   "source": [
    "print(a.c)\n",
    "print(b.c)"
   ]
  },
  {
   "cell_type": "code",
   "execution_count": 10,
   "metadata": {},
   "outputs": [
    {
     "name": "stdout",
     "output_type": "stream",
     "text": [
      "['0102312321', '01023200230']\n"
     ]
    }
   ],
   "source": [
    "class Class_5():\n",
    "    _list = []\n",
    "\n",
    "    def __init__(self, input_name):\n",
    "        self.name = input_name\n",
    "\n",
    "    def add_list(self, input_phone):\n",
    "        self._list.append(input_phone)\n",
    "\n",
    "d = Class_5(\"test\")\n",
    "e = Class_5(\"test2\")\n",
    "d.add_list(\"0102312321\")\n",
    "e.add_list(\"01023200230\")\n",
    "print(d._list)"
   ]
  },
  {
   "cell_type": "code",
   "execution_count": 11,
   "metadata": {},
   "outputs": [
    {
     "name": "stdout",
     "output_type": "stream",
     "text": [
      "test\n"
     ]
    }
   ],
   "source": [
    "print(d.name)"
   ]
  },
  {
   "cell_type": "code",
   "execution_count": 13,
   "metadata": {},
   "outputs": [
    {
     "name": "stdout",
     "output_type": "stream",
     "text": [
      "['0102312321', '01023200230']\n"
     ]
    }
   ],
   "source": [
    "print(e._list)"
   ]
  },
  {
   "cell_type": "code",
   "execution_count": 14,
   "metadata": {},
   "outputs": [
    {
     "name": "stdout",
     "output_type": "stream",
     "text": [
      "['0102312321']\n"
     ]
    }
   ],
   "source": [
    "class Class_5():\n",
    "\n",
    "    def __init__(self, input_name):\n",
    "        self.name = input_name\n",
    "        self._list = []\n",
    "\n",
    "    def add_list(self, input_phone):\n",
    "        self._list.append(input_phone)\n",
    "\n",
    "d = Class_5(\"test\")\n",
    "e = Class_5(\"test2\")\n",
    "d.add_list(\"0102312321\")\n",
    "e.add_list(\"01023200230\")\n",
    "print(d._list)"
   ]
  },
  {
   "cell_type": "code",
   "execution_count": 17,
   "metadata": {},
   "outputs": [
    {
     "name": "stdout",
     "output_type": "stream",
     "text": [
      "4\n",
      "11\n"
     ]
    }
   ],
   "source": [
    "class Class_6():\n",
    "    def __init__(self):\n",
    "        self._sum = 0\n",
    "\n",
    "    def add(self, input_x):\n",
    "        self._sum += input_x\n",
    "        return self._sum\n",
    "\n",
    "a = Class_6()\n",
    "b = Class_6()\n",
    "\n",
    "print(a.add(4))\n",
    "print(a.add(7))"
   ]
  },
  {
   "cell_type": "code",
   "execution_count": null,
   "metadata": {},
   "outputs": [],
   "source": [
    "class Class_7():\n",
    "    def __init__(self):\n",
    "        self._sum = 0 \n",
    "\n",
    "    def add(self, input_x):\n",
    "        self._sum += input_x\n",
    "        return self._sum\n",
    "\n",
    "a = Class_7()\n"
   ]
  },
  {
   "cell_type": "code",
   "execution_count": 18,
   "metadata": {},
   "outputs": [
    {
     "name": "stdout",
     "output_type": "stream",
     "text": [
      "10\n",
      "4\n",
      "21\n",
      "2.3333333333333335\n",
      "1\n"
     ]
    }
   ],
   "source": [
    "class Class_8():\n",
    "    def __init__(self, first, sceond):\n",
    "        # 클래스 생성이 되고ㅡ 인자값 2개를 변수 2개에 지정을 해주는 과정\n",
    "        self.A = first\n",
    "        self.B = sceond\n",
    "\n",
    "    def change(self, first, sceond):\n",
    "        self.A = first\n",
    "        self.B = sceond\n",
    "\n",
    "    def sum(self):\n",
    "        # self._sum = self.A + self.B\n",
    "        # returnself._sum\n",
    "        return self.A + self.B\n",
    "        \n",
    "    def diff(self):\n",
    "        return self.A - self.B\n",
    "\n",
    "    def mul(self):\n",
    "        return self.A * self.B\n",
    "\n",
    "    def div(self):\n",
    "        if self.B == 0:\n",
    "            return 0\n",
    "        else:\n",
    "            return self.A / self.B\n",
    "\n",
    "    def rem(self):\n",
    "        if self.B ==0:\n",
    "            return 0 \n",
    "        else:\n",
    "            return self.A % self.B\n",
    "\n",
    "    \n",
    "\n",
    "cal = Class_8(7, 3)\n",
    "print(cal.sum())\n",
    "print(cal.diff())\n",
    "print(cal.mul())\n",
    "print(cal.div())\n",
    "print(cal.rem())"
   ]
  },
  {
   "cell_type": "code",
   "execution_count": 20,
   "metadata": {},
   "outputs": [
    {
     "name": "stdout",
     "output_type": "stream",
     "text": [
      "6.0\n"
     ]
    }
   ],
   "source": [
    "class Class_9():\n",
    "    def __init__(self, W, H):\n",
    "        self.W = W\n",
    "        self.H = H\n",
    "    \n",
    "    def area(self, X):\n",
    "        if X == 3:\n",
    "            return self.W * self.H / 2\n",
    "        elif X ==4:\n",
    "            return self.W * self.H\n",
    "\n",
    "        else:\n",
    "            return \"지정된 값이 아니다.\"\n",
    "\n",
    "\n",
    "a = Class_9(3, 4)\n",
    "print(a.area(3))"
   ]
  },
  {
   "cell_type": "code",
   "execution_count": null,
   "metadata": {},
   "outputs": [],
   "source": [
    "class AuToEmail:"
   ]
  },
  {
   "cell_type": "code",
   "execution_count": null,
   "metadata": {},
   "outputs": [],
   "source": [
    "import pandas as pb\n",
    "\n",
    "class Sales_dt():\n",
    "    def __init__(self, input_url):\n",
    "        self.url = input_url\n",
    "    \n",
    "    def csv_read(self, input_sort = \"Country\", input_inplace = True):\n",
    "        self.dt = pd.read_csv(self.url)\n",
    "        self.dt.sort_values(input_sort, inplace=input_inplace)\n",
    "        self.dt.reset_index(drop = True, inplace=input_inplace)\n",
    "        return self.dt\n",
    "\n",
    "    def remove_cloumn(self, input_list = []):\n",
    "        self.df.drop(input_list, axis=1, inplace=True)\n",
    "        return self.dt\n",
    "\n",
    "dt = Sales_dt('./Sales Records.csv')"
   ]
  }
 ],
 "metadata": {
  "interpreter": {
   "hash": "ddbee94c2ce3b61c3b1774ea67d55f2fdae8c29319837f6f09ba2209f9564fc6"
  },
  "kernelspec": {
   "display_name": "Python 3.10.2 64-bit",
   "language": "python",
   "name": "python3"
  },
  "language_info": {
   "codemirror_mode": {
    "name": "ipython",
    "version": 3
   },
   "file_extension": ".py",
   "mimetype": "text/x-python",
   "name": "python",
   "nbconvert_exporter": "python",
   "pygments_lexer": "ipython3",
   "version": "3.10.2"
  },
  "orig_nbformat": 4
 },
 "nbformat": 4,
 "nbformat_minor": 2
}
