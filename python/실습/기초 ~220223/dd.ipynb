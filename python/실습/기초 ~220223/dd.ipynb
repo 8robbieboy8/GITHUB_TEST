{
 "cells": [
  {
   "cell_type": "code",
   "execution_count": 1,
   "metadata": {},
   "outputs": [
    {
     "name": "stdout",
     "output_type": "stream",
     "text": [
      "8\n"
     ]
    }
   ],
   "source": [
    "a = 5\n",
    "a +=3\n",
    "print(a)"
   ]
  },
  {
   "cell_type": "code",
   "execution_count": 2,
   "metadata": {},
   "outputs": [
    {
     "name": "stdout",
     "output_type": "stream",
     "text": [
      "5\n"
     ]
    }
   ],
   "source": [
    "a -=3\n",
    "print(a)"
   ]
  },
  {
   "cell_type": "code",
   "execution_count": 3,
   "metadata": {},
   "outputs": [
    {
     "name": "stdout",
     "output_type": "stream",
     "text": [
      "15\n"
     ]
    }
   ],
   "source": [
    "a *=3\n",
    "print(a)"
   ]
  },
  {
   "cell_type": "code",
   "execution_count": 4,
   "metadata": {},
   "outputs": [
    {
     "name": "stdout",
     "output_type": "stream",
     "text": [
      "5.0\n"
     ]
    }
   ],
   "source": [
    "a /=3\n",
    "print(a)"
   ]
  },
  {
   "cell_type": "code",
   "execution_count": 5,
   "metadata": {},
   "outputs": [
    {
     "name": "stdout",
     "output_type": "stream",
     "text": [
      "125.0\n"
     ]
    }
   ],
   "source": [
    "a **=3\n",
    "print(a)"
   ]
  },
  {
   "cell_type": "code",
   "execution_count": 9,
   "metadata": {},
   "outputs": [
    {
     "name": "stdout",
     "output_type": "stream",
     "text": [
      "a는 10보다 작다\n"
     ]
    }
   ],
   "source": [
    "a = 9\n",
    "if a < 10:\n",
    "    print(\"a는 10보다 작다\")"
   ]
  },
  {
   "cell_type": "code",
   "execution_count": 20,
   "metadata": {},
   "outputs": [
    {
     "name": "stdout",
     "output_type": "stream",
     "text": [
      "a는 10보다 작다\n"
     ]
    }
   ],
   "source": [
    "a = 1\n",
    "if a < 10:\n",
    "    print(\"a는 10보다 작다\")\n",
    "    \n",
    "else :\n",
    "    print(\"a는 10보다 크다\")\n"
   ]
  },
  {
   "cell_type": "code",
   "execution_count": 27,
   "metadata": {},
   "outputs": [
    {
     "name": "stdout",
     "output_type": "stream",
     "text": [
      "A학점\n",
      "프로그램 종료\n"
     ]
    }
   ],
   "source": [
    "score = 90\n",
    "\n",
    "if score >=90 :\n",
    "    print(\"A학점\")\n",
    "elif score >= 80 :\n",
    "    print(\"B학점\")\n",
    "elif score >=70 :\n",
    "    print(\"C학점\")\n",
    "elif score >=60 :\n",
    "    print(\"D학점\")\n",
    "else :\n",
    "    print(\"F학점\")\n",
    "\n",
    "print(\"프로그램 종료\")"
   ]
  },
  {
   "cell_type": "code",
   "execution_count": 117,
   "metadata": {},
   "outputs": [
    {
     "name": "stdout",
     "output_type": "stream",
     "text": [
      "3\n",
      "5\n",
      "8\n",
      "12\n",
      "17\n",
      "23\n",
      "30\n",
      "38\n",
      "47\n"
     ]
    }
   ],
   "source": [
    "sum = 2\n",
    "\n",
    "for i in range(1, 10,1):\n",
    "    sum +=i\n",
    "    print(sum)"
   ]
  },
  {
   "cell_type": "code",
   "execution_count": 28,
   "metadata": {},
   "outputs": [
    {
     "name": "stdout",
     "output_type": "stream",
     "text": [
      "55\n"
     ]
    }
   ],
   "source": [
    "sum = 0\n",
    "for i in range(1, 11, 1):\n",
    "    sum +=i\n",
    "\n",
    "print(sum)\n",
    "\n",
    "\n"
   ]
  },
  {
   "cell_type": "code",
   "execution_count": 29,
   "metadata": {},
   "outputs": [
    {
     "name": "stdout",
     "output_type": "stream",
     "text": [
      "55\n"
     ]
    }
   ],
   "source": [
    "sum = 0 \n",
    "for i in range(1, 11, 1):\n",
    "    sum +=i\n",
    "\n",
    "print(sum)"
   ]
  },
  {
   "cell_type": "code",
   "execution_count": 33,
   "metadata": {},
   "outputs": [
    {
     "name": "stdout",
     "output_type": "stream",
     "text": [
      "2 X 1 = 2\n",
      "2 X 2 = 4\n",
      "2 X 3 = 6\n",
      "2 X 4 = 8\n",
      "2 X 5 = 10\n",
      "2 X 6 = 12\n",
      "2 X 7 = 14\n",
      "2 X 8 = 16\n",
      "2 X 9 = 18\n",
      "3 X 1 = 3\n",
      "3 X 2 = 6\n",
      "3 X 3 = 9\n",
      "3 X 4 = 12\n",
      "3 X 5 = 15\n",
      "3 X 6 = 18\n",
      "3 X 7 = 21\n",
      "3 X 8 = 24\n",
      "3 X 9 = 27\n",
      "4 X 1 = 4\n",
      "4 X 2 = 8\n",
      "4 X 3 = 12\n",
      "4 X 4 = 16\n",
      "4 X 5 = 20\n",
      "4 X 6 = 24\n",
      "4 X 7 = 28\n",
      "4 X 8 = 32\n",
      "4 X 9 = 36\n",
      "5 X 1 = 5\n",
      "5 X 2 = 10\n",
      "5 X 3 = 15\n",
      "5 X 4 = 20\n",
      "5 X 5 = 25\n",
      "5 X 6 = 30\n",
      "5 X 7 = 35\n",
      "5 X 8 = 40\n",
      "5 X 9 = 45\n",
      "6 X 1 = 6\n",
      "6 X 2 = 12\n",
      "6 X 3 = 18\n",
      "6 X 4 = 24\n",
      "6 X 5 = 30\n",
      "6 X 6 = 36\n",
      "6 X 7 = 42\n",
      "6 X 8 = 48\n",
      "6 X 9 = 54\n",
      "7 X 1 = 7\n",
      "7 X 2 = 14\n",
      "7 X 3 = 21\n",
      "7 X 4 = 28\n",
      "7 X 5 = 35\n",
      "7 X 6 = 42\n",
      "7 X 7 = 49\n",
      "7 X 8 = 56\n",
      "7 X 9 = 63\n",
      "8 X 1 = 8\n",
      "8 X 2 = 16\n",
      "8 X 3 = 24\n",
      "8 X 4 = 32\n",
      "8 X 5 = 40\n",
      "8 X 6 = 48\n",
      "8 X 7 = 56\n",
      "8 X 8 = 64\n",
      "8 X 9 = 72\n",
      "9 X 1 = 9\n",
      "9 X 2 = 18\n",
      "9 X 3 = 27\n",
      "9 X 4 = 36\n",
      "9 X 5 = 45\n",
      "9 X 6 = 54\n",
      "9 X 7 = 63\n",
      "9 X 8 = 72\n",
      "9 X 9 = 81\n",
      "10 X 1 = 10\n",
      "10 X 2 = 20\n",
      "10 X 3 = 30\n",
      "10 X 4 = 40\n",
      "10 X 5 = 50\n",
      "10 X 6 = 60\n",
      "10 X 7 = 70\n",
      "10 X 8 = 80\n",
      "10 X 9 = 90\n",
      "11 X 1 = 11\n",
      "11 X 2 = 22\n",
      "11 X 3 = 33\n",
      "11 X 4 = 44\n",
      "11 X 5 = 55\n",
      "11 X 6 = 66\n",
      "11 X 7 = 77\n",
      "11 X 8 = 88\n",
      "11 X 9 = 99\n",
      "12 X 1 = 12\n",
      "12 X 2 = 24\n",
      "12 X 3 = 36\n",
      "12 X 4 = 48\n",
      "12 X 5 = 60\n",
      "12 X 6 = 72\n",
      "12 X 7 = 84\n",
      "12 X 8 = 96\n",
      "12 X 9 = 108\n",
      "13 X 1 = 13\n",
      "13 X 2 = 26\n",
      "13 X 3 = 39\n",
      "13 X 4 = 52\n",
      "13 X 5 = 65\n",
      "13 X 6 = 78\n",
      "13 X 7 = 91\n",
      "13 X 8 = 104\n",
      "13 X 9 = 117\n",
      "14 X 1 = 14\n",
      "14 X 2 = 28\n",
      "14 X 3 = 42\n",
      "14 X 4 = 56\n",
      "14 X 5 = 70\n",
      "14 X 6 = 84\n",
      "14 X 7 = 98\n",
      "14 X 8 = 112\n",
      "14 X 9 = 126\n",
      "15 X 1 = 15\n",
      "15 X 2 = 30\n",
      "15 X 3 = 45\n",
      "15 X 4 = 60\n",
      "15 X 5 = 75\n",
      "15 X 6 = 90\n",
      "15 X 7 = 105\n",
      "15 X 8 = 120\n",
      "15 X 9 = 135\n",
      "16 X 1 = 16\n",
      "16 X 2 = 32\n",
      "16 X 3 = 48\n",
      "16 X 4 = 64\n",
      "16 X 5 = 80\n",
      "16 X 6 = 96\n",
      "16 X 7 = 112\n",
      "16 X 8 = 128\n",
      "16 X 9 = 144\n",
      "17 X 1 = 17\n",
      "17 X 2 = 34\n",
      "17 X 3 = 51\n",
      "17 X 4 = 68\n",
      "17 X 5 = 85\n",
      "17 X 6 = 102\n",
      "17 X 7 = 119\n",
      "17 X 8 = 136\n",
      "17 X 9 = 153\n",
      "18 X 1 = 18\n",
      "18 X 2 = 36\n",
      "18 X 3 = 54\n",
      "18 X 4 = 72\n",
      "18 X 5 = 90\n",
      "18 X 6 = 108\n",
      "18 X 7 = 126\n",
      "18 X 8 = 144\n",
      "18 X 9 = 162\n",
      "19 X 1 = 19\n",
      "19 X 2 = 38\n",
      "19 X 3 = 57\n",
      "19 X 4 = 76\n",
      "19 X 5 = 95\n",
      "19 X 6 = 114\n",
      "19 X 7 = 133\n",
      "19 X 8 = 152\n",
      "19 X 9 = 171\n"
     ]
    }
   ],
   "source": [
    "for i in range(2, 20, 1):\n",
    "    for j in range(1,10,1):\n",
    "        print(\"%d X %d = %d\" %(i,j, i*j))"
   ]
  },
  {
   "cell_type": "code",
   "execution_count": 34,
   "metadata": {},
   "outputs": [
    {
     "name": "stdout",
     "output_type": "stream",
     "text": [
      "첫 반복문 i = 1, 두번째 반복문 j = 1\n",
      "첫 반복문 i = 1, 두번째 반복문 j = 2\n",
      "첫 반복문 i = 1, 두번째 반복문 j = 3\n",
      "첫 반복문 i = 1, 두번째 반복문 j = 4\n",
      "첫 반복문 i = 2, 두번째 반복문 j = 1\n",
      "첫 반복문 i = 2, 두번째 반복문 j = 2\n",
      "첫 반복문 i = 2, 두번째 반복문 j = 3\n",
      "첫 반복문 i = 2, 두번째 반복문 j = 4\n",
      "첫 반복문 i = 3, 두번째 반복문 j = 1\n",
      "첫 반복문 i = 3, 두번째 반복문 j = 2\n",
      "첫 반복문 i = 3, 두번째 반복문 j = 3\n",
      "첫 반복문 i = 3, 두번째 반복문 j = 4\n",
      "첫 반복문 i = 4, 두번째 반복문 j = 1\n",
      "첫 반복문 i = 4, 두번째 반복문 j = 2\n",
      "첫 반복문 i = 4, 두번째 반복문 j = 3\n",
      "첫 반복문 i = 4, 두번째 반복문 j = 4\n",
      "첫 반복문 i = 5, 두번째 반복문 j = 1\n",
      "첫 반복문 i = 5, 두번째 반복문 j = 2\n",
      "첫 반복문 i = 5, 두번째 반복문 j = 3\n",
      "첫 반복문 i = 5, 두번째 반복문 j = 4\n",
      "첫 반복문 i = 6, 두번째 반복문 j = 1\n",
      "첫 반복문 i = 6, 두번째 반복문 j = 2\n",
      "첫 반복문 i = 6, 두번째 반복문 j = 3\n",
      "첫 반복문 i = 6, 두번째 반복문 j = 4\n",
      "첫 반복문 i = 7, 두번째 반복문 j = 1\n",
      "첫 반복문 i = 7, 두번째 반복문 j = 2\n",
      "첫 반복문 i = 7, 두번째 반복문 j = 3\n",
      "첫 반복문 i = 7, 두번째 반복문 j = 4\n",
      "첫 반복문 i = 8, 두번째 반복문 j = 1\n",
      "첫 반복문 i = 8, 두번째 반복문 j = 2\n",
      "첫 반복문 i = 8, 두번째 반복문 j = 3\n",
      "첫 반복문 i = 8, 두번째 반복문 j = 4\n",
      "첫 반복문 i = 9, 두번째 반복문 j = 1\n",
      "첫 반복문 i = 9, 두번째 반복문 j = 2\n",
      "첫 반복문 i = 9, 두번째 반복문 j = 3\n",
      "첫 반복문 i = 9, 두번째 반복문 j = 4\n"
     ]
    }
   ],
   "source": [
    "for i in range(1,10,1):\n",
    "    for j in range(1,5,1):\n",
    "        print(\"첫 반복문 i = %d, 두번째 반복문 j = %d\" %(i,j))"
   ]
  },
  {
   "cell_type": "code",
   "execution_count": 35,
   "metadata": {},
   "outputs": [
    {
     "name": "stdout",
     "output_type": "stream",
     "text": [
      "1에서 10까지의 합 55\n"
     ]
    }
   ],
   "source": [
    "sum = 0\n",
    "i = 1\n",
    "\n",
    "while i < 11:\n",
    "    sum +=i\n",
    "    i +=1\n",
    "\n",
    "print(\"1에서 10까지의 합 %d\" %sum)"
   ]
  },
  {
   "cell_type": "code",
   "execution_count": 61,
   "metadata": {},
   "outputs": [
    {
     "name": "stdout",
     "output_type": "stream",
     "text": [
      "1에서 10까지의 합 1\n",
      "1에서 10까지의 합 3\n",
      "1에서 10까지의 합 6\n",
      "1에서 10까지의 합 10\n",
      "1에서 10까지의 합 15\n",
      "1에서 10까지의 합 21\n",
      "1에서 10까지의 합 28\n",
      "1에서 10까지의 합 36\n",
      "1에서 10까지의 합 45\n",
      "1에서 10까지의 합 55\n",
      "1에서 10까지의 합 66\n",
      "1에서 10까지의 합 78\n",
      "1에서 10까지의 합 91\n",
      "1에서 10까지의 합 105\n",
      "1에서 10까지의 합 120\n",
      "1에서 10까지의 합 136\n",
      "1에서 10까지의 합 153\n",
      "1에서 10까지의 합 171\n",
      "1에서 10까지의 합 190\n",
      "1에서 10까지의 합 210\n",
      "1에서 10까지의 합 231\n",
      "1에서 10까지의 합 253\n",
      "1에서 10까지의 합 276\n",
      "1에서 10까지의 합 300\n",
      "1에서 10까지의 합 325\n",
      "1에서 10까지의 합 351\n",
      "1에서 10까지의 합 378\n",
      "1에서 10까지의 합 406\n",
      "1에서 10까지의 합 435\n",
      "1에서 10까지의 합 465\n",
      "1에서 10까지의 합 496\n",
      "1에서 10까지의 합 528\n"
     ]
    }
   ],
   "source": [
    "sum = 0\n",
    "i = 1\n",
    "\n",
    "while i < 33:\n",
    "    sum +=i\n",
    "    i +=1\n",
    "    print(\"1에서 10까지의 합 %d\" %sum)"
   ]
  },
  {
   "cell_type": "code",
   "execution_count": 58,
   "metadata": {},
   "outputs": [
    {
     "name": "stdout",
     "output_type": "stream",
     "text": [
      "1 번째 반복\n",
      "2 번째 반복\n",
      "3 번째 반복\n",
      "4 번째 반복\n",
      "5 번째 반복\n",
      "6 번째 반복\n",
      "7 번째 반복\n",
      "8 번째 반복\n",
      "9 번째 반복\n",
      "10 번째 반복\n",
      "11 번째 반복\n",
      "12 번째 반복\n",
      "13 번째 반복\n",
      "14 번째 반복\n",
      "15 번째 반복\n",
      "16 번째 반복\n",
      "17 번째 반복\n",
      "18 번째 반복\n",
      "19 번째 반복\n",
      "20 번째 반복\n",
      "21 번째 반복\n",
      "22 번째 반복\n",
      "23 번째 반복\n",
      "24 번째 반복\n",
      "25 번째 반복\n",
      "26 번째 반복\n",
      "27 번째 반복\n",
      "28 번째 반복\n",
      "29 번째 반복\n",
      "30 번째 반복\n",
      "31 번째 반복\n",
      "32 번째 반복\n",
      "33 번째 반복\n",
      "34 번째 반복\n",
      "35 번째 반복\n",
      "36 번째 반복\n",
      "37 번째 반복\n",
      "38 번째 반복\n",
      "39 번째 반복\n",
      "40 번째 반복\n",
      "41 번째 반복\n",
      "42 번째 반복\n",
      "43 번째 반복\n",
      "44 번째 반복\n",
      "45 번째 반복\n",
      "46 번째 반복\n",
      "47 번째 반복\n",
      "48 번째 반복\n",
      "49 번째 반복\n",
      "50 번째 반복\n",
      "51 번째 반복\n",
      "52 번째 반복\n",
      "53 번째 반복\n",
      "54 번째 반복\n",
      "55 번째 반복\n",
      "56 번째 반복\n",
      "57 번째 반복\n",
      "58 번째 반복\n",
      "59 번째 반복\n",
      "60 번째 반복\n",
      "61 번째 반복\n",
      "62 번째 반복\n",
      "63 번째 반복\n",
      "64 번째 반복\n",
      "65 번째 반복\n",
      "66 번째 반복\n",
      "67 번째 반복\n",
      "68 번째 반복\n",
      "69 번째 반복\n",
      "70 번째 반복\n",
      "71 번째 반복\n",
      "72 번째 반복\n",
      "73 번째 반복\n",
      "74 번째 반복\n",
      "75 번째 반복\n",
      "76 번째 반복\n",
      "77 번째 반복\n",
      "78 번째 반복\n",
      "79 번째 반복\n",
      "80 번째 반복\n",
      "81 번째 반복\n",
      "82 번째 반복\n",
      "83 번째 반복\n",
      "84 번째 반복\n",
      "85 번째 반복\n",
      "86 번째 반복\n",
      "87 번째 반복\n",
      "88 번째 반복\n",
      "89 번째 반복\n",
      "90 번째 반복\n",
      "91 번째 반복\n",
      "92 번째 반복\n",
      "93 번째 반복\n",
      "94 번째 반복\n",
      "95 번째 반복\n",
      "96 번째 반복\n",
      "97 번째 반복\n",
      "98 번째 반복\n",
      "99 번째 반복\n"
     ]
    }
   ],
   "source": [
    "for i in range(1,100,1):\n",
    "    print(\"%d 번째 반복\" %i)\n",
    "    if i ==100:\n",
    "        break"
   ]
  },
  {
   "cell_type": "code",
   "execution_count": 59,
   "metadata": {},
   "outputs": [
    {
     "name": "stdout",
     "output_type": "stream",
     "text": [
      "합계가 500 이상이 되는 범위의 숫자는 : 32\n"
     ]
    }
   ],
   "source": [
    "sum = 0\n",
    "i = 0\n",
    "\n",
    "for i in range(1,100,1):\n",
    "    sum +=i\n",
    "    if sum >=500:\n",
    "        break\n",
    "\n",
    "print(\"합계가 500 이상이 되는 범위의 숫자는 : %d\" %i)"
   ]
  },
  {
   "cell_type": "code",
   "execution_count": 53,
   "metadata": {},
   "outputs": [
    {
     "name": "stdout",
     "output_type": "stream",
     "text": [
      "합계가 500 이상이 되는 범위의 숫자는 : 1\n",
      "합계가 500 이상이 되는 범위의 숫자는 : 2\n",
      "합계가 500 이상이 되는 범위의 숫자는 : 3\n",
      "합계가 500 이상이 되는 범위의 숫자는 : 4\n",
      "합계가 500 이상이 되는 범위의 숫자는 : 5\n",
      "합계가 500 이상이 되는 범위의 숫자는 : 6\n",
      "합계가 500 이상이 되는 범위의 숫자는 : 7\n",
      "합계가 500 이상이 되는 범위의 숫자는 : 8\n",
      "합계가 500 이상이 되는 범위의 숫자는 : 9\n",
      "합계가 500 이상이 되는 범위의 숫자는 : 10\n",
      "합계가 500 이상이 되는 범위의 숫자는 : 11\n",
      "합계가 500 이상이 되는 범위의 숫자는 : 12\n",
      "합계가 500 이상이 되는 범위의 숫자는 : 13\n",
      "합계가 500 이상이 되는 범위의 숫자는 : 14\n",
      "합계가 500 이상이 되는 범위의 숫자는 : 15\n",
      "합계가 500 이상이 되는 범위의 숫자는 : 16\n",
      "합계가 500 이상이 되는 범위의 숫자는 : 17\n",
      "합계가 500 이상이 되는 범위의 숫자는 : 18\n",
      "합계가 500 이상이 되는 범위의 숫자는 : 19\n",
      "합계가 500 이상이 되는 범위의 숫자는 : 20\n",
      "합계가 500 이상이 되는 범위의 숫자는 : 21\n",
      "합계가 500 이상이 되는 범위의 숫자는 : 22\n",
      "합계가 500 이상이 되는 범위의 숫자는 : 23\n",
      "합계가 500 이상이 되는 범위의 숫자는 : 24\n",
      "합계가 500 이상이 되는 범위의 숫자는 : 25\n",
      "합계가 500 이상이 되는 범위의 숫자는 : 26\n",
      "합계가 500 이상이 되는 범위의 숫자는 : 27\n",
      "합계가 500 이상이 되는 범위의 숫자는 : 28\n",
      "합계가 500 이상이 되는 범위의 숫자는 : 29\n",
      "합계가 500 이상이 되는 범위의 숫자는 : 30\n",
      "합계가 500 이상이 되는 범위의 숫자는 : 31\n"
     ]
    }
   ],
   "source": [
    "sum = 0\n",
    "i = 0\n",
    "\n",
    "for i in range(1,100,1):\n",
    "    sum += i\n",
    "    if sum >=500:\n",
    "        break\n",
    "    print(\"합계가 500 이상이 되는 범위의 숫자는 : %d\" %i)"
   ]
  },
  {
   "cell_type": "code",
   "execution_count": 66,
   "metadata": {},
   "outputs": [
    {
     "name": "stdout",
     "output_type": "stream",
     "text": [
      "55\n"
     ]
    }
   ],
   "source": [
    "sum = 0 \n",
    "for i in range(1, 11, 1):\n",
    "    sum +=i\n",
    "\n",
    "print(sum)"
   ]
  },
  {
   "cell_type": "code",
   "execution_count": 67,
   "metadata": {},
   "outputs": [
    {
     "name": "stdout",
     "output_type": "stream",
     "text": [
      "496\n"
     ]
    }
   ],
   "source": [
    "sum = 0\n",
    "for i in range(1, 32, 1):\n",
    "    sum +=i\n",
    "\n",
    "print(sum)"
   ]
  },
  {
   "cell_type": "code",
   "execution_count": 69,
   "metadata": {},
   "outputs": [
    {
     "name": "stdout",
     "output_type": "stream",
     "text": [
      "1\n",
      "3\n",
      "6\n",
      "10\n",
      "15\n",
      "21\n",
      "28\n",
      "36\n",
      "45\n",
      "55\n",
      "66\n",
      "78\n",
      "91\n",
      "105\n",
      "120\n",
      "136\n",
      "153\n",
      "171\n",
      "190\n",
      "210\n",
      "231\n",
      "253\n",
      "276\n",
      "300\n",
      "325\n",
      "351\n",
      "378\n",
      "406\n",
      "435\n"
     ]
    }
   ],
   "source": [
    "sum = 0 \n",
    "for i in range(1,30, 1):\n",
    "    sum +=i\n",
    "    print(sum)"
   ]
  },
  {
   "cell_type": "code",
   "execution_count": 70,
   "metadata": {},
   "outputs": [
    {
     "name": "stdout",
     "output_type": "stream",
     "text": [
      "4 번째 반복\n",
      "5 번째 반복\n",
      "6 번째 반복\n",
      "7 번째 반복\n",
      "8 번째 반복\n",
      "9 번째 반복\n"
     ]
    }
   ],
   "source": [
    "for i in range (1,10,1):\n",
    "    if i <=3:\n",
    "        continue\n",
    "    print(\"%d 번째 반복\" %i)"
   ]
  },
  {
   "cell_type": "code",
   "execution_count": 71,
   "metadata": {},
   "outputs": [
    {
     "name": "stdout",
     "output_type": "stream",
     "text": [
      "(2, 3)\n"
     ]
    }
   ],
   "source": [
    "a = (1,2,3,4)\n",
    "\n",
    "print(a[1:3])"
   ]
  },
  {
   "cell_type": "code",
   "execution_count": 72,
   "metadata": {},
   "outputs": [
    {
     "name": "stdout",
     "output_type": "stream",
     "text": [
      "(2, 3, 4)\n"
     ]
    }
   ],
   "source": [
    "print(a[1:])"
   ]
  },
  {
   "cell_type": "code",
   "execution_count": 73,
   "metadata": {},
   "outputs": [
    {
     "name": "stdout",
     "output_type": "stream",
     "text": [
      "(1, 2, 3)\n"
     ]
    }
   ],
   "source": [
    "print(a[ :3])"
   ]
  },
  {
   "cell_type": "code",
   "execution_count": 74,
   "metadata": {},
   "outputs": [
    {
     "name": "stdout",
     "output_type": "stream",
     "text": [
      "[1, 2, 3, 4]\n"
     ]
    }
   ],
   "source": [
    "a = [1,2,3,4]\n",
    "\n",
    "print(a)"
   ]
  },
  {
   "cell_type": "code",
   "execution_count": 75,
   "metadata": {},
   "outputs": [
    {
     "name": "stdout",
     "output_type": "stream",
     "text": [
      "1\n"
     ]
    }
   ],
   "source": [
    "print(a[0])"
   ]
  },
  {
   "cell_type": "code",
   "execution_count": 76,
   "metadata": {},
   "outputs": [
    {
     "name": "stdout",
     "output_type": "stream",
     "text": [
      "2\n"
     ]
    }
   ],
   "source": [
    "print(a[1])"
   ]
  },
  {
   "cell_type": "code",
   "execution_count": 77,
   "metadata": {},
   "outputs": [
    {
     "name": "stdout",
     "output_type": "stream",
     "text": [
      "[1, 2, 3, 4]\n"
     ]
    }
   ],
   "source": [
    "a = [2,1,4,3]\n",
    "b = [12,99,24,55]\n",
    "\n",
    "a. sort()\n",
    "b. reverse()\n",
    "\n",
    "print(a)"
   ]
  },
  {
   "cell_type": "code",
   "execution_count": 78,
   "metadata": {},
   "outputs": [
    {
     "name": "stdout",
     "output_type": "stream",
     "text": [
      "[55, 24, 99, 12]\n"
     ]
    }
   ],
   "source": [
    "print(b)"
   ]
  },
  {
   "cell_type": "code",
   "execution_count": 79,
   "metadata": {},
   "outputs": [
    {
     "name": "stdout",
     "output_type": "stream",
     "text": [
      "[1, 2, 3, 4] [55, 24, 99, 12]\n"
     ]
    }
   ],
   "source": [
    "print(a,b)"
   ]
  },
  {
   "cell_type": "code",
   "execution_count": 80,
   "metadata": {},
   "outputs": [
    {
     "name": "stdout",
     "output_type": "stream",
     "text": [
      "[2, 3, 4]\n"
     ]
    }
   ],
   "source": [
    "del a[0]\n",
    "b. append(22)\n",
    "\n",
    "print(a)"
   ]
  },
  {
   "cell_type": "code",
   "execution_count": 81,
   "metadata": {},
   "outputs": [
    {
     "name": "stdout",
     "output_type": "stream",
     "text": [
      "[55, 24, 99, 12, 22]\n"
     ]
    }
   ],
   "source": [
    "print(b)"
   ]
  },
  {
   "cell_type": "code",
   "execution_count": 82,
   "metadata": {},
   "outputs": [
    {
     "name": "stdout",
     "output_type": "stream",
     "text": [
      "[[1, 2], [3, 4], [5, 6]]\n"
     ]
    }
   ],
   "source": [
    "a = [[1,2], [3,4], [5,6]]\n",
    "\n",
    "print (a)"
   ]
  },
  {
   "cell_type": "code",
   "execution_count": 83,
   "metadata": {},
   "outputs": [
    {
     "name": "stdout",
     "output_type": "stream",
     "text": [
      "2\n",
      "4\n",
      "6\n"
     ]
    }
   ],
   "source": [
    "for i in range(0,3,1):\n",
    "    print(a[i][1])"
   ]
  },
  {
   "cell_type": "code",
   "execution_count": 85,
   "metadata": {},
   "outputs": [
    {
     "name": "stdout",
     "output_type": "stream",
     "text": [
      "1\n",
      "3\n",
      "5\n"
     ]
    }
   ],
   "source": [
    "for i in range(0, len(a), 1):\n",
    "    print(a[i][0])"
   ]
  },
  {
   "cell_type": "code",
   "execution_count": 87,
   "metadata": {},
   "outputs": [
    {
     "name": "stdout",
     "output_type": "stream",
     "text": [
      "[1, 3, 5]\n"
     ]
    }
   ],
   "source": [
    "b = []\n",
    "for i in range(0,len(a), 1):\n",
    "    b. append(a[i][0])\n",
    "print(b)"
   ]
  },
  {
   "cell_type": "code",
   "execution_count": 91,
   "metadata": {},
   "outputs": [
    {
     "name": "stdout",
     "output_type": "stream",
     "text": [
      "[1, 3, 5]\n"
     ]
    }
   ],
   "source": [
    "b = []\n",
    "for i in range(0, len(a), 1):\n",
    "    b.insert(i, a[i][0])\n",
    "print(b)"
   ]
  },
  {
   "cell_type": "code",
   "execution_count": 92,
   "metadata": {},
   "outputs": [
    {
     "name": "stdout",
     "output_type": "stream",
     "text": [
      "{'name': 'test', 'age': 20, 'phone': '01012345678'}\n"
     ]
    }
   ],
   "source": [
    "a = {\"name\" : \"test\", \"age\" : 20, \"phone\" : \"01012345678\"}\n",
    "\n",
    "print(a)"
   ]
  },
  {
   "cell_type": "code",
   "execution_count": 93,
   "metadata": {},
   "outputs": [
    {
     "name": "stdout",
     "output_type": "stream",
     "text": [
      "test\n"
     ]
    }
   ],
   "source": [
    "print(a[\"name\"])"
   ]
  },
  {
   "cell_type": "code",
   "execution_count": 94,
   "metadata": {},
   "outputs": [
    {
     "name": "stdout",
     "output_type": "stream",
     "text": [
      "{'name': 'test', 'age': 20, 'phone': '01012345678', 'area': 'Seoul'}\n"
     ]
    }
   ],
   "source": [
    "a[\"area\"] = \"Seoul\"\n",
    "print(a)"
   ]
  },
  {
   "cell_type": "code",
   "execution_count": 95,
   "metadata": {},
   "outputs": [
    {
     "data": {
      "text/plain": [
       "['name', 'age', 'phone', 'area']"
      ]
     },
     "execution_count": 95,
     "metadata": {},
     "output_type": "execute_result"
    }
   ],
   "source": [
    "list(a.keys())"
   ]
  },
  {
   "cell_type": "code",
   "execution_count": 96,
   "metadata": {},
   "outputs": [
    {
     "name": "stdout",
     "output_type": "stream",
     "text": [
      "dict_values(['test', 20, '01012345678', 'Seoul'])\n"
     ]
    }
   ],
   "source": [
    "print(a.values())"
   ]
  },
  {
   "cell_type": "code",
   "execution_count": 97,
   "metadata": {},
   "outputs": [
    {
     "name": "stdout",
     "output_type": "stream",
     "text": [
      "dict_keys(['name', 'age', 'phone', 'area'])\n"
     ]
    }
   ],
   "source": [
    "print(a.keys())"
   ]
  },
  {
   "cell_type": "code",
   "execution_count": 99,
   "metadata": {},
   "outputs": [
    {
     "name": "stdout",
     "output_type": "stream",
     "text": [
      "dict_items([('name', 'test'), ('age', 20), ('phone', '01012345678'), ('area', 'Seoul')])\n"
     ]
    }
   ],
   "source": [
    "print(a.items())"
   ]
  },
  {
   "cell_type": "code",
   "execution_count": 100,
   "metadata": {},
   "outputs": [
    {
     "name": "stdout",
     "output_type": "stream",
     "text": [
      "{'name': 'test', 'age': 30, 'phone': '01012345678', 'area': 'Seoul'}\n"
     ]
    }
   ],
   "source": [
    "a[\"age\"] = 30\n",
    "print(a)"
   ]
  },
  {
   "cell_type": "code",
   "execution_count": 102,
   "metadata": {},
   "outputs": [
    {
     "name": "stdout",
     "output_type": "stream",
     "text": [
      "{'name': 'test', 'age': 30, 'area': 'Seoul'}\n"
     ]
    }
   ],
   "source": [
    "del(a[\"phone\"])\n",
    "print(a)"
   ]
  },
  {
   "cell_type": "code",
   "execution_count": 106,
   "metadata": {},
   "outputs": [
    {
     "name": "stdout",
     "output_type": "stream",
     "text": [
      "H_e_l_l_o_"
     ]
    }
   ],
   "source": [
    "a = \"Hello\"\n",
    "\n",
    "a_len = len(a)\n",
    "\n",
    "for i in range(0, a_len):\n",
    "    print(a[i] + \"_\", end = \"\")"
   ]
  },
  {
   "cell_type": "code",
   "execution_count": 107,
   "metadata": {},
   "outputs": [
    {
     "data": {
      "text/plain": [
       "['a', 'b', 'c', 'd']"
      ]
     },
     "execution_count": 107,
     "metadata": {},
     "output_type": "execute_result"
    }
   ],
   "source": [
    "a = \"Hello world\"\n",
    "\n",
    "a.replace (\"Hello\", \"Hi\")\n",
    "a.split()\n",
    "\n",
    "b = \"a,b,c,d\"\n",
    "b.split(\",\")"
   ]
  },
  {
   "cell_type": "code",
   "execution_count": 108,
   "metadata": {},
   "outputs": [
    {
     "data": {
      "text/plain": [
       "['Hello', 'world']"
      ]
     },
     "execution_count": 108,
     "metadata": {},
     "output_type": "execute_result"
    }
   ],
   "source": [
    "a = \"Hello world\"\n",
    "\n",
    "a.replace (\"Hello\", \"Hi\")\n",
    "a.split()\n"
   ]
  },
  {
   "cell_type": "code",
   "execution_count": 112,
   "metadata": {},
   "outputs": [
    {
     "name": "stdout",
     "output_type": "stream",
     "text": [
      "Hi world\n"
     ]
    }
   ],
   "source": [
    "print(a.replace(\"Hello\", \"Hi\"))"
   ]
  },
  {
   "cell_type": "code",
   "execution_count": 113,
   "metadata": {},
   "outputs": [
    {
     "name": "stdout",
     "output_type": "stream",
     "text": [
      "['Hello', 'world']\n"
     ]
    }
   ],
   "source": [
    "print(a.split())"
   ]
  },
  {
   "cell_type": "code",
   "execution_count": 1,
   "metadata": {},
   "outputs": [
    {
     "name": "stdout",
     "output_type": "stream",
     "text": [
      "9\n"
     ]
    }
   ],
   "source": [
    "def func_1(a,b):\n",
    "    c=a+b\n",
    "    return c \n",
    "\n",
    "\n",
    "d = func_1(3,6)\n",
    "\n",
    "print(d)"
   ]
  },
  {
   "cell_type": "code",
   "execution_count": 3,
   "metadata": {},
   "outputs": [
    {
     "name": "stdout",
     "output_type": "stream",
     "text": [
      "Hello\n"
     ]
    }
   ],
   "source": [
    "def func_2():\n",
    "    return \"Hello\"\n",
    "\n",
    "d = func_2()\n",
    "\n",
    "print(d)"
   ]
  },
  {
   "cell_type": "code",
   "execution_count": 12,
   "metadata": {},
   "outputs": [
    {
     "name": "stdout",
     "output_type": "stream",
     "text": [
      "1\n",
      "1\n",
      "2\n"
     ]
    }
   ],
   "source": [
    "def func_3(*args):\n",
    "    result = 0 \n",
    "    for i in args :\n",
    "        result +=i\n",
    "        return result\n",
    "\n",
    "\n",
    "result = func_3(1,2,3,4,5)\n",
    "print(result)\n",
    "\n",
    "result2 = func_3(1,2,3,4,5,6,7,8,9,10)\n",
    "print(result2)\n",
    "\n",
    "result3 = func_3(2,4,6,8,10)\n",
    "print(result3)\n"
   ]
  },
  {
   "cell_type": "code",
   "execution_count": 15,
   "metadata": {},
   "outputs": [
    {
     "name": "stdout",
     "output_type": "stream",
     "text": [
      "아메리카노    500\n",
      "카페라떼     600\n",
      "카페모카     700\n",
      "카푸치노     800\n",
      "dtype: int64\n"
     ]
    }
   ],
   "source": [
    "import pandas as pd\n",
    "\n",
    "pd_list = pd.Series([500, 600, 700, 800],\n",
    "index = [\"아메리카노\", \"카페라떼\", \"카페모카\", \"카푸치노\"])\n",
    "\n",
    "print(pd_list)"
   ]
  },
  {
   "cell_type": "code",
   "execution_count": 17,
   "metadata": {},
   "outputs": [
    {
     "name": "stdout",
     "output_type": "stream",
     "text": [
      "스리즈의 값 :  [500 600 700 800]\n",
      "스리즈의 인데스 값 :  Index(['아메리카노', '카페라떼', '카페모카', '카푸치노'], dtype='object')\n"
     ]
    }
   ],
   "source": [
    "print(\"스리즈의 값 : \", pd_list.values)\n",
    "print(\"스리즈의 인데스 값 : \", pd_list.index)\n"
   ]
  },
  {
   "cell_type": "code",
   "execution_count": 18,
   "metadata": {},
   "outputs": [
    {
     "name": "stdout",
     "output_type": "stream",
     "text": [
      "   A  B  C\n",
      "a  1  2  3\n",
      "b  4  5  6\n",
      "c  7  8  9\n"
     ]
    }
   ],
   "source": [
    "values = [[1,2,3], [4,5,6], [7,8,9]]\n",
    "index = ['a', 'b', 'c']\n",
    "columns = ['A', 'B', 'C']\n",
    "\n",
    "pd_dataframe = pd.DataFrame(values, index=index, columns=columns)\n",
    "\n",
    "print(pd_dataframe)"
   ]
  },
  {
   "cell_type": "code",
   "execution_count": 22,
   "metadata": {},
   "outputs": [
    {
     "name": "stdout",
     "output_type": "stream",
     "text": [
      "데이터프레임의 인덱스값 :  Index(['a', 'b', 'c'], dtype='object')\n",
      "데이터프레임의 컬럼 값 : Index(['A', 'B', 'C'], dtype='object')\n",
      "데이터브레임의 값 : [[1 2 3]\n",
      " [4 5 6]\n",
      " [7 8 9]]\n"
     ]
    }
   ],
   "source": [
    "print('데이터프레임의 인덱스값 : ', pd_dataframe.index)\n",
    "print('데이터프레임의 컬럼 값 :', pd_dataframe.columns)\n",
    "print(\"데이터브레임의 값 :\", pd_dataframe.values)"
   ]
  },
  {
   "cell_type": "code",
   "execution_count": 27,
   "metadata": {},
   "outputs": [
    {
     "name": "stdout",
     "output_type": "stream",
     "text": [
      "   0  1      2\n",
      "0  A  남  1-1-1\n",
      "1  B  여  2-2-2\n",
      "2  C  여  3-3-3\n"
     ]
    }
   ],
   "source": [
    "list_data = [[\"A\", \"남\", \"1-1-1\"],\n",
    "[\"B\", \"여\", \"2-2-2\"],\n",
    "[\"C\", \"여\", \"3-3-3\"]]\n",
    "\n",
    "pd_dataframe_2 = pd.DataFrame(list_data)\n",
    "\n",
    "print(pd_dataframe_2)"
   ]
  },
  {
   "cell_type": "code",
   "execution_count": 29,
   "metadata": {},
   "outputs": [
    {
     "name": "stdout",
     "output_type": "stream",
     "text": [
      "  이름 성별   전화번호\n",
      "0  A  남  1-1-1\n",
      "1  B  여  2-2-2\n",
      "2  C  여  3-3-3\n"
     ]
    }
   ],
   "source": [
    "pd_dataframe_2 = pd.DataFrame(list_data, columns=[\"이름\", \"성별\", \"전화번호\"])\n",
    "\n",
    "print(pd_dataframe_2)"
   ]
  },
  {
   "cell_type": "code",
   "execution_count": 30,
   "metadata": {},
   "outputs": [
    {
     "name": "stdout",
     "output_type": "stream",
     "text": [
      "  이름 성별 전화번호\n",
      "0  A  남  010\n",
      "1  B  여  123\n",
      "2  C  여  345\n"
     ]
    }
   ],
   "source": [
    "list_data_2 = {\n",
    "    \"이름\" : [\"A\", \"B\", \"C\"],\n",
    "    \"성별\" : [\"남\", \"여\", \"여\"],\n",
    "    \"전화번호\" : [\"010\", \"123\", \"345\"]\n",
    "}\n",
    "\n",
    "pd_dataframe_3 = pd.DataFrame(list_data_2)\n",
    "\n",
    "print(pd_dataframe_3)"
   ]
  },
  {
   "cell_type": "code",
   "execution_count": 31,
   "metadata": {},
   "outputs": [
    {
     "name": "stdout",
     "output_type": "stream",
     "text": [
      "  이름 성별 전화번호\n",
      "0  A  남  010\n",
      "1  B  여  123\n"
     ]
    }
   ],
   "source": [
    "print(pd_dataframe_3.head(2))"
   ]
  },
  {
   "cell_type": "code",
   "execution_count": 33,
   "metadata": {},
   "outputs": [
    {
     "name": "stdout",
     "output_type": "stream",
     "text": [
      "  이름 성별 전화번호\n",
      "1  B  여  123\n",
      "2  C  여  345\n"
     ]
    }
   ],
   "source": [
    "print(pd_dataframe_3.tail(2))"
   ]
  },
  {
   "cell_type": "code",
   "execution_count": 34,
   "metadata": {},
   "outputs": [
    {
     "name": "stdout",
     "output_type": "stream",
     "text": [
      "0    남\n",
      "1    여\n",
      "2    여\n",
      "Name: 성별, dtype: object\n"
     ]
    }
   ],
   "source": [
    "print(pd_dataframe_3[\"성별\"])"
   ]
  },
  {
   "cell_type": "code",
   "execution_count": 35,
   "metadata": {},
   "outputs": [
    {
     "name": "stdout",
     "output_type": "stream",
     "text": [
      "  Name  Gender          Phone\n",
      "0    A    male  010-1234-5678\n",
      "1    B  female  010-1234-5679\n",
      "2    C    male  010-1234-5680\n",
      "3    D  female  010-1234-5681\n",
      "4    E    male  010-1234-5682\n",
      "5    F  female  010-1234-5683\n",
      "6    G    male  010-1234-5684\n",
      "7    H  female  010-1234-5685\n",
      "8    I    male  010-1234-5686\n",
      "9    J  female  010-1234-5687\n"
     ]
    }
   ],
   "source": [
    "csv_data = pd.read_csv('example.csv')\n",
    "\n",
    "print(csv_data)"
   ]
  },
  {
   "cell_type": "code",
   "execution_count": 36,
   "metadata": {},
   "outputs": [
    {
     "name": "stdout",
     "output_type": "stream",
     "text": [
      "[1 2 3 4 5]\n"
     ]
    }
   ],
   "source": [
    "import numpy as np\n",
    "\n",
    "np_array_1 = np.array([1,2,3,4,5])\n",
    "print(np_array_1)"
   ]
  },
  {
   "cell_type": "code",
   "execution_count": 38,
   "metadata": {},
   "outputs": [
    {
     "name": "stdout",
     "output_type": "stream",
     "text": [
      "[[1 2 3]\n",
      " [4 5 6]]\n"
     ]
    }
   ],
   "source": [
    "np_array_2 = np.array([[1,2,3], [4,5,6]])\n",
    "print(np_array_2)"
   ]
  },
  {
   "cell_type": "code",
   "execution_count": 40,
   "metadata": {},
   "outputs": [
    {
     "name": "stdout",
     "output_type": "stream",
     "text": [
      "array_1의 데이터 타입: <class 'numpy.ndarray'>\n",
      "array_2의 데이터타입 :  <class 'numpy.ndarray'>\n"
     ]
    }
   ],
   "source": [
    "print(\"array_1의 데이터 타입:\", type(np_array_1))\n",
    "print(\"array_2의 데이터타입 : \", type(np_array_2))"
   ]
  },
  {
   "cell_type": "code",
   "execution_count": 42,
   "metadata": {},
   "outputs": [
    {
     "name": "stdout",
     "output_type": "stream",
     "text": [
      "arra_1의 축의 개수 : 1\n",
      "array_1의 크기: (5,)\n"
     ]
    }
   ],
   "source": [
    "print(\"arra_1의 축의 개수 :\", np_array_1.ndim)\n",
    "print(\"array_1의 크기:\", np_array_1.shape)"
   ]
  },
  {
   "cell_type": "code",
   "execution_count": 43,
   "metadata": {},
   "outputs": [
    {
     "name": "stdout",
     "output_type": "stream",
     "text": [
      "[[0. 0. 0.]\n",
      " [0. 0. 0.]\n",
      " [0. 0. 0.]]\n"
     ]
    }
   ],
   "source": [
    "zero_array = np.zeros((3,3))\n",
    "\n",
    "print(zero_array)"
   ]
  },
  {
   "cell_type": "code",
   "execution_count": 44,
   "metadata": {},
   "outputs": [
    {
     "name": "stdout",
     "output_type": "stream",
     "text": [
      "[[1. 1. 1.]\n",
      " [1. 1. 1.]]\n"
     ]
    }
   ],
   "source": [
    "one_array = np.ones((2,3))\n",
    "\n",
    "print(one_array)"
   ]
  },
  {
   "cell_type": "code",
   "execution_count": 45,
   "metadata": {},
   "outputs": [
    {
     "name": "stdout",
     "output_type": "stream",
     "text": [
      "[[5 5 5 5]\n",
      " [5 5 5 5]\n",
      " [5 5 5 5]]\n"
     ]
    }
   ],
   "source": [
    "full_array = np.full((3,4), 5)\n",
    "\n",
    "print(full_array)"
   ]
  },
  {
   "cell_type": "code",
   "execution_count": 46,
   "metadata": {},
   "outputs": [
    {
     "name": "stdout",
     "output_type": "stream",
     "text": [
      "[[1. 0. 0.]\n",
      " [0. 1. 0.]\n",
      " [0. 0. 1.]]\n"
     ]
    }
   ],
   "source": [
    "eye_array = np.eye(3)\n",
    "print(eye_array)"
   ]
  },
  {
   "cell_type": "code",
   "execution_count": 47,
   "metadata": {},
   "outputs": [
    {
     "name": "stdout",
     "output_type": "stream",
     "text": [
      "[[0.52727615 0.1046346 ]\n",
      " [0.47332171 0.99799464]]\n"
     ]
    }
   ],
   "source": [
    "random_array = np.random.random((2,2))\n",
    "\n",
    "print(random_array)"
   ]
  },
  {
   "cell_type": "code",
   "execution_count": 48,
   "metadata": {},
   "outputs": [
    {
     "name": "stdout",
     "output_type": "stream",
     "text": [
      "[0 1 2 3 4 5 6 7 8 9]\n"
     ]
    }
   ],
   "source": [
    "arange_array = np.arange(10)\n",
    "\n",
    "print(arange_array)"
   ]
  },
  {
   "cell_type": "code",
   "execution_count": 49,
   "metadata": {},
   "outputs": [
    {
     "name": "stdout",
     "output_type": "stream",
     "text": [
      "[ 1  3  5  7  9 11 13 15 17 19]\n"
     ]
    }
   ],
   "source": [
    "arange_array_2 = np.arange(1,20,2)\n",
    "\n",
    "print(arange_array_2)"
   ]
  },
  {
   "cell_type": "code",
   "execution_count": 51,
   "metadata": {},
   "outputs": [
    {
     "name": "stdout",
     "output_type": "stream",
     "text": [
      "[[ 0  1  2  3  4  5]\n",
      " [ 6  7  8  9 10 11]\n",
      " [12 13 14 15 16 17]\n",
      " [18 19 20 21 22 23]\n",
      " [24 25 26 27 28 29]]\n"
     ]
    }
   ],
   "source": [
    "arange_array_3 = np.arange(30)\n",
    "reshape_array = arange_array_3.reshape((5,6))\n",
    "\n",
    "print(reshape_array)\n"
   ]
  },
  {
   "cell_type": "code",
   "execution_count": 52,
   "metadata": {},
   "outputs": [
    {
     "name": "stdout",
     "output_type": "stream",
     "text": [
      "[5 7 9]\n",
      "[5 7 9]\n"
     ]
    }
   ],
   "source": [
    "x = np.array([1,2,3])\n",
    "y = np.array([4,5,6])\n",
    "\n",
    "result = x + y\n",
    "result2 = np.add(x,y)\n",
    "\n",
    "print(result)\n",
    "print(result2)"
   ]
  },
  {
   "cell_type": "code",
   "execution_count": 54,
   "metadata": {},
   "outputs": [
    {
     "name": "stdout",
     "output_type": "stream",
     "text": [
      "[-3 -3 -3]\n",
      "[-3 -3 -3]\n"
     ]
    }
   ],
   "source": [
    "x = np.array([1,2,3])\n",
    "y = np.array([4,5,6])\n",
    "\n",
    "result = x - y\n",
    "result2 = np.subtract(x,y)\n",
    "\n",
    "print(result)\n",
    "print(result2)"
   ]
  },
  {
   "cell_type": "code",
   "execution_count": 55,
   "metadata": {},
   "outputs": [
    {
     "name": "stdout",
     "output_type": "stream",
     "text": [
      "[ 4 10 18]\n",
      "[ 4 10 18]\n"
     ]
    }
   ],
   "source": [
    "x = np.array([1,2,3])\n",
    "y = np.array([4,5,6])\n",
    "\n",
    "result = x*y\n",
    "result2 = np.multiply(x,y)\n",
    "\n",
    "print(result)\n",
    "print(result2)"
   ]
  },
  {
   "cell_type": "code",
   "execution_count": 56,
   "metadata": {},
   "outputs": [
    {
     "name": "stdout",
     "output_type": "stream",
     "text": [
      "[0.25 0.4  0.5 ]\n",
      "[0.25 0.4  0.5 ]\n"
     ]
    }
   ],
   "source": [
    "x = np.array([1,2,3])\n",
    "y = np.array([4,5,6])\n",
    "\n",
    "result = x/y\n",
    "result2 = np.divide(x,y)\n",
    "\n",
    "print(result)\n",
    "print(result2)"
   ]
  },
  {
   "cell_type": "code",
   "execution_count": 59,
   "metadata": {},
   "outputs": [
    {
     "name": "stdout",
     "output_type": "stream",
     "text": [
      "[[19 22]\n",
      " [43 50]]\n",
      "[[19 22]\n",
      " [43 50]]\n"
     ]
    }
   ],
   "source": [
    "x = np.array([[1,2], [3,4]])\n",
    "y = np.array([[5,6], [7,8]])\n",
    "\n",
    "result = np.dot(x,y)\n",
    "result2 = x @ y\n",
    "\n",
    "print(result)\n",
    "print(result2)"
   ]
  },
  {
   "cell_type": "code",
   "execution_count": 7,
   "metadata": {},
   "outputs": [
    {
     "data": {
      "image/png": "[encoded data removed]",
      "text/plain": [
       "<Figure size 432x288 with 1 Axes>"
      ]
     },
     "metadata": {
      "needs_background": "light"
     },
     "output_type": "display_data"
    }
   ],
   "source": [
    "import matplotlib.pyplot as plt\n",
    "\n",
    "plt.plot([1,2,3,4])\n",
    "plt.show()"
   ]
  },
  {
   "cell_type": "code",
   "execution_count": 62,
   "metadata": {},
   "outputs": [
    {
     "data": {
      "image/png": "[encoded data removed]",
      "text/plain": [
       "<Figure size 432x288 with 1 Axes>"
      ]
     },
     "metadata": {
      "needs_background": "light"
     },
     "output_type": "display_data"
    }
   ],
   "source": [
    "plt.plot([1,2,3,4], [1,4,5,10])\n",
    "plt.show()"
   ]
  },
  {
   "cell_type": "code",
   "execution_count": 63,
   "metadata": {},
   "outputs": [
    {
     "data": {
      "image/png": "[encoded data removed]",
      "text/plain": [
       "<Figure size 432x288 with 1 Axes>"
      ]
     },
     "metadata": {
      "needs_background": "light"
     },
     "output_type": "display_data"
    }
   ],
   "source": [
    "plt.plot([1,2,3,4], [1,4,5,10], \"r\")\n",
    "\n",
    "plt.show()"
   ]
  },
  {
   "cell_type": "code",
   "execution_count": 65,
   "metadata": {},
   "outputs": [
    {
     "data": {
      "image/png": "[encoded data removed]",
      "text/plain": [
       "<Figure size 432x288 with 1 Axes>"
      ]
     },
     "metadata": {
      "needs_background": "light"
     },
     "output_type": "display_data"
    }
   ],
   "source": [
    "plt.plot([1,2,3,4], [1,4,5,10], \"--r\")\n",
    "plt.plot([1,2,3,4], [5,6,7,2], \"ob\")\n",
    "plt.plot([1,2,3,4], [8,2,5,3], \".m\")\n",
    "\n",
    "plt.show()"
   ]
  },
  {
   "cell_type": "code",
   "execution_count": 66,
   "metadata": {},
   "outputs": [
    {
     "data": {
      "image/png": "[encoded data removed]",
      "text/plain": [
       "<Figure size 432x288 with 1 Axes>"
      ]
     },
     "metadata": {
      "needs_background": "light"
     },
     "output_type": "display_data"
    }
   ],
   "source": [
    "plt.plot([\"A\", \"B\", \"C\", \"D\"], [80, 90, 60, 40])\n",
    "plt.xlabel(\"Name\")\n",
    "plt.ylabel(\"Score\")\n",
    "plt.title(\"Board\")\n",
    "\n",
    "plt.show()"
   ]
  },
  {
   "cell_type": "code",
   "execution_count": 68,
   "metadata": {},
   "outputs": [
    {
     "data": {
      "image/png": "[encoded data removed]",
      "text/plain": [
       "<Figure size 432x288 with 1 Axes>"
      ]
     },
     "metadata": {
      "needs_background": "light"
     },
     "output_type": "display_data"
    }
   ],
   "source": [
    "plt.plot([\"Maths\", \"Science\", \"History\"], [90,95,60])\n",
    "plt.plot([\"maths\", \"Science\", \"History\"], [65,70,95])\n",
    "plt.xlabel(\"subject\")\n",
    "plt.ylabel(\"score\")\n",
    "plt.title(\"Score Board\")\n",
    "plt.legend([\"A\", \"B\"])\n",
    "plt.show()"
   ]
  },
  {
   "cell_type": "code",
   "execution_count": 70,
   "metadata": {},
   "outputs": [
    {
     "data": {
      "image/png": "[encoded data removed]",
      "text/plain": [
       "<Figure size 432x288 with 1 Axes>"
      ]
     },
     "metadata": {
      "needs_background": "light"
     },
     "output_type": "display_data"
    }
   ],
   "source": [
    "plt.plot([\"Maths\", \"Science\", \"History\"], [90,95,60])\n",
    "plt.plot([\"Maths\", \"Science\", \"History\"], [65,70,95])\n",
    "plt.xlabel(\"subject\")\n",
    "plt.ylabel(\"score\")\n",
    "plt.title(\"Score Board\")\n",
    "plt.legend([\"A\", \"B\"], loc = \"center\")\n",
    "plt.show()"
   ]
  },
  {
   "cell_type": "code",
   "execution_count": 11,
   "metadata": {},
   "outputs": [
    {
     "data": {
      "image/png": "[encoded data removed]",
      "text/plain": [
       "<Figure size 432x288 with 2 Axes>"
      ]
     },
     "metadata": {
      "needs_background": "light"
     },
     "output_type": "display_data"
    }
   ],
   "source": [
    "plt.subplot(2,1,1)\n",
    "plt.plot([3,4,1,7])\n",
    "plt.subplot(2,1,2)\n",
    "plt.plot([1,2,3,4])\n",
    "plt.show()"
   ]
  },
  {
   "cell_type": "code",
   "execution_count": 86,
   "metadata": {},
   "outputs": [
    {
     "data": {
      "image/png": "[encoded data removed]",
      "text/plain": [
       "<Figure size 432x288 with 2 Axes>"
      ]
     },
     "metadata": {
      "needs_background": "light"
     },
     "output_type": "display_data"
    }
   ],
   "source": [
    "plt.subplot(1,2,1)\n",
    "plt.plot([3,5,6,7])\n",
    "plt.subplot(1,2,2)\n",
    "plt.plot([1,2,3,4])\n",
    "plt.show()"
   ]
  },
  {
   "cell_type": "code",
   "execution_count": 87,
   "metadata": {},
   "outputs": [
    {
     "data": {
      "image/png": "[encoded data removed]",
      "text/plain": [
       "<Figure size 432x288 with 1 Axes>"
      ]
     },
     "metadata": {
      "needs_background": "light"
     },
     "output_type": "display_data"
    }
   ],
   "source": [
    "x = [1,2,3]\n",
    "\n",
    "plt.bar(x, [80, 90, 65])\n",
    "plt.show()"
   ]
  },
  {
   "cell_type": "code",
   "execution_count": 88,
   "metadata": {},
   "outputs": [
    {
     "data": {
      "image/png": "[encoded data removed]",
      "text/plain": [
       "<Figure size 432x288 with 1 Axes>"
      ]
     },
     "metadata": {
      "needs_background": "light"
     },
     "output_type": "display_data"
    }
   ],
   "source": [
    "x = [1,2,3]\n",
    "\n",
    "plt.bar(x, [80,90,65])\n",
    "plt.xticks(x, [\"Maths\", \"Science\", \"History\"])\n",
    "plt.show()"
   ]
  },
  {
   "cell_type": "code",
   "execution_count": 89,
   "metadata": {},
   "outputs": [
    {
     "data": {
      "image/png": "[encoded data removed]",
      "text/plain": [
       "<Figure size 432x288 with 1 Axes>"
      ]
     },
     "metadata": {
      "needs_background": "light"
     },
     "output_type": "display_data"
    }
   ],
   "source": [
    "x = [1,2,3]\n",
    "\n",
    "plt.bar(x, [80, 90, 65], color=\"r\")\n",
    "plt.xticks(x, [\"Maths\", \"Science\",\"History\"])\n",
    "plt.show()"
   ]
  },
  {
   "cell_type": "code",
   "execution_count": 92,
   "metadata": {},
   "outputs": [
    {
     "data": {
      "image/png": "[encoded data removed]",
      "text/plain": [
       "<Figure size 432x288 with 1 Axes>"
      ]
     },
     "metadata": {
      "needs_background": "light"
     },
     "output_type": "display_data"
    }
   ],
   "source": [
    "x = [1,2,3]\n",
    "\n",
    "plt.bar(x, [80, 90, 65], color = [\"r\", \"c\", \"b\"])\n",
    "plt.xticks(x, [\"Maths\", \"Science\", \"History\"])\n",
    "plt.show()"
   ]
  },
  {
   "cell_type": "code",
   "execution_count": 93,
   "metadata": {},
   "outputs": [
    {
     "data": {
      "image/png": "[encoded data removed]",
      "text/plain": [
       "<Figure size 432x288 with 1 Axes>"
      ]
     },
     "metadata": {
      "needs_background": "light"
     },
     "output_type": "display_data"
    }
   ],
   "source": [
    "x = [1,2,3]\n",
    "\n",
    "plt.bar(x, [80, 90, 65], color=[\"r\", \"g\", \"b\"], width=0.4)\n",
    "plt.xticks(x, [\"Maths\", \"Science\", \"History\"])\n",
    "plt.show()"
   ]
  },
  {
   "cell_type": "code",
   "execution_count": 94,
   "metadata": {},
   "outputs": [
    {
     "data": {
      "image/png": "[encoded data removed]",
      "text/plain": [
       "<Figure size 432x288 with 1 Axes>"
      ]
     },
     "metadata": {
      "needs_background": "light"
     },
     "output_type": "display_data"
    }
   ],
   "source": [
    "import numpy as np\n",
    "x = np.random.rand(50)\n",
    "y = np.random.rand(50)\n",
    "\n",
    "plt.scatter(x,y)\n",
    "plt.show()"
   ]
  },
  {
   "cell_type": "code",
   "execution_count": 97,
   "metadata": {},
   "outputs": [
    {
     "data": {
      "image/png": "[encoded data removed]",
      "text/plain": [
       "<Figure size 432x288 with 1 Axes>"
      ]
     },
     "metadata": {
      "needs_background": "light"
     },
     "output_type": "display_data"
    }
   ],
   "source": [
    "import numpy as np\n",
    "x= np.random.rand(50)\n",
    "y= np.random.rand(50)\n",
    "area = (20* np.random.rand(50))**2\n",
    "colors = np.random.rand(50)\n",
    "\n",
    "plt.scatter(x,y, s=area, c=colors)\n",
    "plt.show()"
   ]
  },
  {
   "cell_type": "code",
   "execution_count": null,
   "metadata": {},
   "outputs": [],
   "source": []
  }
 ],
 "metadata": {
  "interpreter": {
   "hash": "ddbee94c2ce3b61c3b1774ea67d55f2fdae8c29319837f6f09ba2209f9564fc6"
  },
  "kernelspec": {
   "display_name": "Python 3.10.2 64-bit",
   "language": "python",
   "name": "python3"
  },
  "language_info": {
   "codemirror_mode": {
    "name": "ipython",
    "version": 3
   },
   "file_extension": ".py",
   "mimetype": "text/x-python",
   "name": "python",
   "nbconvert_exporter": "python",
   "pygments_lexer": "ipython3",
   "version": "3.10.2"
  },
  "orig_nbformat": 4
 },
 "nbformat": 4,
 "nbformat_minor": 2
}
