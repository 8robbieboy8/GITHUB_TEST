{
 "cells": [
  {
   "cell_type": "code",
   "execution_count": 17,
   "metadata": {},
   "outputs": [],
   "source": [
    "from pymongo import MongoClient"
   ]
  },
  {
   "cell_type": "code",
   "execution_count": 18,
   "metadata": {},
   "outputs": [],
   "source": [
    "import pymongo"
   ]
  },
  {
   "cell_type": "code",
   "execution_count": 19,
   "metadata": {},
   "outputs": [],
   "source": [
    "client = MongoClient(\n",
    "    host = \"localhost\",\n",
    "    port = 27017\n",
    ")"
   ]
  },
  {
   "cell_type": "code",
   "execution_count": 20,
   "metadata": {},
   "outputs": [
    {
     "data": {
      "text/plain": [
       "['admin', 'config', 'local', 'ubion']"
      ]
     },
     "execution_count": 20,
     "metadata": {},
     "output_type": "execute_result"
    }
   ],
   "source": [
    "client.list_database_names()"
   ]
  },
  {
   "cell_type": "code",
   "execution_count": 21,
   "metadata": {},
   "outputs": [
    {
     "data": {
      "text/plain": [
       "[{'_id': ObjectId('62328e822b7ef9a10d61af54'),\n",
       "  'name': 'test',\n",
       "  'phone': '0101232133'},\n",
       " {'_id': ObjectId('623290ca2b7ef9a10d61af56'), 'loc': 'Seoul'},\n",
       " {'_id': ObjectId('623290ca2b7ef9a10d61af57'), 'gender': 'male', 'age': 20.0},\n",
       " {'_id': ObjectId('623291a12b7ef9a10d61af58'), 'name': 'test2', 'age': 30.0},\n",
       " {'_id': ObjectId('6232a29ced174bdb776152ef')},\n",
       " {'_id': ObjectId('6232a2b8ed174bdb776152f0'), '1': '2'},\n",
       " {'_id': ObjectId('6232a2b8ed174bdb776152f1'), '3': '4'},\n",
       " {'_id': ObjectId('6232be3db70508c228388bb3')},\n",
       " {'_id': ObjectId('6232be3db70508c228388bb4'), '1': '2'},\n",
       " {'_id': ObjectId('6232be3db70508c228388bb5'), '3': '4'},\n",
       " {'_id': ObjectId('6232de4783d7893558087e76')},\n",
       " {'_id': ObjectId('6232de9883d7893558087e77'), '1': '2'},\n",
       " {'_id': ObjectId('6232de9883d7893558087e78'), '3': '4'},\n",
       " {'_id': ObjectId('6232df70916bedaa19fd0be6')},\n",
       " {'_id': ObjectId('6232df71916bedaa19fd0be7'), '1': '2'},\n",
       " {'_id': ObjectId('6232df71916bedaa19fd0be8'), '3': '4'}]"
      ]
     },
     "execution_count": 21,
     "metadata": {},
     "output_type": "execute_result"
    }
   ],
   "source": [
    "db = client[\"ubion\"]\n",
    "list(db.test.find())"
   ]
  },
  {
   "cell_type": "code",
   "execution_count": 22,
   "metadata": {},
   "outputs": [],
   "source": [
    "import pandas as pd"
   ]
  },
  {
   "cell_type": "code",
   "execution_count": 23,
   "metadata": {},
   "outputs": [
    {
     "data": {
      "text/html": [
       "<div>\n",
       "<style scoped>\n",
       "    .dataframe tbody tr th:only-of-type {\n",
       "        vertical-align: middle;\n",
       "    }\n",
       "\n",
       "    .dataframe tbody tr th {\n",
       "        vertical-align: top;\n",
       "    }\n",
       "\n",
       "    .dataframe thead th {\n",
       "        text-align: right;\n",
       "    }\n",
       "</style>\n",
       "<table border=\"1\" class=\"dataframe\">\n",
       "  <thead>\n",
       "    <tr style=\"text-align: right;\">\n",
       "      <th></th>\n",
       "    </tr>\n",
       "  </thead>\n",
       "  <tbody>\n",
       "  </tbody>\n",
       "</table>\n",
       "</div>"
      ],
      "text/plain": [
       "Empty DataFrame\n",
       "Columns: []\n",
       "Index: []"
      ]
     },
     "execution_count": 23,
     "metadata": {},
     "output_type": "execute_result"
    }
   ],
   "source": [
    "\n",
    "pd.DataFrame()"
   ]
  },
  {
   "cell_type": "code",
   "execution_count": 24,
   "metadata": {},
   "outputs": [
    {
     "data": {
      "text/plain": [
       "<pymongo.results.InsertOneResult at 0xca42268>"
      ]
     },
     "execution_count": 24,
     "metadata": {},
     "output_type": "execute_result"
    }
   ],
   "source": [
    "data = {\n",
    "    \"1\" : \"1\",\n",
    "    \"2\" : \"2\",\n",
    "    \"3\" : \"3\"\n",
    "}\n",
    "\n",
    "db.test.insert_one({})\n"
   ]
  },
  {
   "cell_type": "code",
   "execution_count": 25,
   "metadata": {},
   "outputs": [
    {
     "data": {
      "text/plain": [
       "<pymongo.results.InsertManyResult at 0xca0d208>"
      ]
     },
     "execution_count": 25,
     "metadata": {},
     "output_type": "execute_result"
    }
   ],
   "source": [
    "data = [{\n",
    "    \"1\" : \"2\"\n",
    "},\n",
    "{\n",
    "    \"3\" : \"4\"\n",
    "}\n",
    "]\n",
    "db.test.insert_many(data)"
   ]
  },
  {
   "cell_type": "code",
   "execution_count": 26,
   "metadata": {},
   "outputs": [
    {
     "data": {
      "text/html": [
       "<div>\n",
       "<style scoped>\n",
       "    .dataframe tbody tr th:only-of-type {\n",
       "        vertical-align: middle;\n",
       "    }\n",
       "\n",
       "    .dataframe tbody tr th {\n",
       "        vertical-align: top;\n",
       "    }\n",
       "\n",
       "    .dataframe thead th {\n",
       "        text-align: right;\n",
       "    }\n",
       "</style>\n",
       "<table border=\"1\" class=\"dataframe\">\n",
       "  <thead>\n",
       "    <tr style=\"text-align: right;\">\n",
       "      <th></th>\n",
       "      <th>_id</th>\n",
       "      <th>name</th>\n",
       "      <th>phone</th>\n",
       "      <th>loc</th>\n",
       "      <th>gender</th>\n",
       "      <th>age</th>\n",
       "      <th>1</th>\n",
       "      <th>3</th>\n",
       "    </tr>\n",
       "  </thead>\n",
       "  <tbody>\n",
       "    <tr>\n",
       "      <th>0</th>\n",
       "      <td>62328e822b7ef9a10d61af54</td>\n",
       "      <td>test</td>\n",
       "      <td>0101232133</td>\n",
       "      <td>NaN</td>\n",
       "      <td>NaN</td>\n",
       "      <td>NaN</td>\n",
       "      <td>NaN</td>\n",
       "      <td>NaN</td>\n",
       "    </tr>\n",
       "    <tr>\n",
       "      <th>1</th>\n",
       "      <td>623290ca2b7ef9a10d61af56</td>\n",
       "      <td>NaN</td>\n",
       "      <td>NaN</td>\n",
       "      <td>Seoul</td>\n",
       "      <td>NaN</td>\n",
       "      <td>NaN</td>\n",
       "      <td>NaN</td>\n",
       "      <td>NaN</td>\n",
       "    </tr>\n",
       "    <tr>\n",
       "      <th>2</th>\n",
       "      <td>623290ca2b7ef9a10d61af57</td>\n",
       "      <td>NaN</td>\n",
       "      <td>NaN</td>\n",
       "      <td>NaN</td>\n",
       "      <td>male</td>\n",
       "      <td>20.0</td>\n",
       "      <td>NaN</td>\n",
       "      <td>NaN</td>\n",
       "    </tr>\n",
       "    <tr>\n",
       "      <th>3</th>\n",
       "      <td>623291a12b7ef9a10d61af58</td>\n",
       "      <td>test2</td>\n",
       "      <td>NaN</td>\n",
       "      <td>NaN</td>\n",
       "      <td>NaN</td>\n",
       "      <td>30.0</td>\n",
       "      <td>NaN</td>\n",
       "      <td>NaN</td>\n",
       "    </tr>\n",
       "    <tr>\n",
       "      <th>4</th>\n",
       "      <td>6232a29ced174bdb776152ef</td>\n",
       "      <td>NaN</td>\n",
       "      <td>NaN</td>\n",
       "      <td>NaN</td>\n",
       "      <td>NaN</td>\n",
       "      <td>NaN</td>\n",
       "      <td>NaN</td>\n",
       "      <td>NaN</td>\n",
       "    </tr>\n",
       "    <tr>\n",
       "      <th>5</th>\n",
       "      <td>6232a2b8ed174bdb776152f0</td>\n",
       "      <td>NaN</td>\n",
       "      <td>NaN</td>\n",
       "      <td>NaN</td>\n",
       "      <td>NaN</td>\n",
       "      <td>NaN</td>\n",
       "      <td>2</td>\n",
       "      <td>NaN</td>\n",
       "    </tr>\n",
       "    <tr>\n",
       "      <th>6</th>\n",
       "      <td>6232a2b8ed174bdb776152f1</td>\n",
       "      <td>NaN</td>\n",
       "      <td>NaN</td>\n",
       "      <td>NaN</td>\n",
       "      <td>NaN</td>\n",
       "      <td>NaN</td>\n",
       "      <td>NaN</td>\n",
       "      <td>4</td>\n",
       "    </tr>\n",
       "    <tr>\n",
       "      <th>7</th>\n",
       "      <td>6232be3db70508c228388bb3</td>\n",
       "      <td>NaN</td>\n",
       "      <td>NaN</td>\n",
       "      <td>NaN</td>\n",
       "      <td>NaN</td>\n",
       "      <td>NaN</td>\n",
       "      <td>NaN</td>\n",
       "      <td>NaN</td>\n",
       "    </tr>\n",
       "    <tr>\n",
       "      <th>8</th>\n",
       "      <td>6232be3db70508c228388bb4</td>\n",
       "      <td>NaN</td>\n",
       "      <td>NaN</td>\n",
       "      <td>NaN</td>\n",
       "      <td>NaN</td>\n",
       "      <td>NaN</td>\n",
       "      <td>2</td>\n",
       "      <td>NaN</td>\n",
       "    </tr>\n",
       "    <tr>\n",
       "      <th>9</th>\n",
       "      <td>6232be3db70508c228388bb5</td>\n",
       "      <td>NaN</td>\n",
       "      <td>NaN</td>\n",
       "      <td>NaN</td>\n",
       "      <td>NaN</td>\n",
       "      <td>NaN</td>\n",
       "      <td>NaN</td>\n",
       "      <td>4</td>\n",
       "    </tr>\n",
       "    <tr>\n",
       "      <th>10</th>\n",
       "      <td>6232de4783d7893558087e76</td>\n",
       "      <td>NaN</td>\n",
       "      <td>NaN</td>\n",
       "      <td>NaN</td>\n",
       "      <td>NaN</td>\n",
       "      <td>NaN</td>\n",
       "      <td>NaN</td>\n",
       "      <td>NaN</td>\n",
       "    </tr>\n",
       "    <tr>\n",
       "      <th>11</th>\n",
       "      <td>6232de9883d7893558087e77</td>\n",
       "      <td>NaN</td>\n",
       "      <td>NaN</td>\n",
       "      <td>NaN</td>\n",
       "      <td>NaN</td>\n",
       "      <td>NaN</td>\n",
       "      <td>2</td>\n",
       "      <td>NaN</td>\n",
       "    </tr>\n",
       "    <tr>\n",
       "      <th>12</th>\n",
       "      <td>6232de9883d7893558087e78</td>\n",
       "      <td>NaN</td>\n",
       "      <td>NaN</td>\n",
       "      <td>NaN</td>\n",
       "      <td>NaN</td>\n",
       "      <td>NaN</td>\n",
       "      <td>NaN</td>\n",
       "      <td>4</td>\n",
       "    </tr>\n",
       "    <tr>\n",
       "      <th>13</th>\n",
       "      <td>6232df70916bedaa19fd0be6</td>\n",
       "      <td>NaN</td>\n",
       "      <td>NaN</td>\n",
       "      <td>NaN</td>\n",
       "      <td>NaN</td>\n",
       "      <td>NaN</td>\n",
       "      <td>NaN</td>\n",
       "      <td>NaN</td>\n",
       "    </tr>\n",
       "    <tr>\n",
       "      <th>14</th>\n",
       "      <td>6232df71916bedaa19fd0be7</td>\n",
       "      <td>NaN</td>\n",
       "      <td>NaN</td>\n",
       "      <td>NaN</td>\n",
       "      <td>NaN</td>\n",
       "      <td>NaN</td>\n",
       "      <td>2</td>\n",
       "      <td>NaN</td>\n",
       "    </tr>\n",
       "    <tr>\n",
       "      <th>15</th>\n",
       "      <td>6232df71916bedaa19fd0be8</td>\n",
       "      <td>NaN</td>\n",
       "      <td>NaN</td>\n",
       "      <td>NaN</td>\n",
       "      <td>NaN</td>\n",
       "      <td>NaN</td>\n",
       "      <td>NaN</td>\n",
       "      <td>4</td>\n",
       "    </tr>\n",
       "    <tr>\n",
       "      <th>16</th>\n",
       "      <td>6232dfae916bedaa19fd0bea</td>\n",
       "      <td>NaN</td>\n",
       "      <td>NaN</td>\n",
       "      <td>NaN</td>\n",
       "      <td>NaN</td>\n",
       "      <td>NaN</td>\n",
       "      <td>NaN</td>\n",
       "      <td>NaN</td>\n",
       "    </tr>\n",
       "    <tr>\n",
       "      <th>17</th>\n",
       "      <td>6232dfaf916bedaa19fd0beb</td>\n",
       "      <td>NaN</td>\n",
       "      <td>NaN</td>\n",
       "      <td>NaN</td>\n",
       "      <td>NaN</td>\n",
       "      <td>NaN</td>\n",
       "      <td>2</td>\n",
       "      <td>NaN</td>\n",
       "    </tr>\n",
       "    <tr>\n",
       "      <th>18</th>\n",
       "      <td>6232dfaf916bedaa19fd0bec</td>\n",
       "      <td>NaN</td>\n",
       "      <td>NaN</td>\n",
       "      <td>NaN</td>\n",
       "      <td>NaN</td>\n",
       "      <td>NaN</td>\n",
       "      <td>NaN</td>\n",
       "      <td>4</td>\n",
       "    </tr>\n",
       "  </tbody>\n",
       "</table>\n",
       "</div>"
      ],
      "text/plain": [
       "                         _id   name       phone    loc gender   age    1    3\n",
       "0   62328e822b7ef9a10d61af54   test  0101232133    NaN    NaN   NaN  NaN  NaN\n",
       "1   623290ca2b7ef9a10d61af56    NaN         NaN  Seoul    NaN   NaN  NaN  NaN\n",
       "2   623290ca2b7ef9a10d61af57    NaN         NaN    NaN   male  20.0  NaN  NaN\n",
       "3   623291a12b7ef9a10d61af58  test2         NaN    NaN    NaN  30.0  NaN  NaN\n",
       "4   6232a29ced174bdb776152ef    NaN         NaN    NaN    NaN   NaN  NaN  NaN\n",
       "5   6232a2b8ed174bdb776152f0    NaN         NaN    NaN    NaN   NaN    2  NaN\n",
       "6   6232a2b8ed174bdb776152f1    NaN         NaN    NaN    NaN   NaN  NaN    4\n",
       "7   6232be3db70508c228388bb3    NaN         NaN    NaN    NaN   NaN  NaN  NaN\n",
       "8   6232be3db70508c228388bb4    NaN         NaN    NaN    NaN   NaN    2  NaN\n",
       "9   6232be3db70508c228388bb5    NaN         NaN    NaN    NaN   NaN  NaN    4\n",
       "10  6232de4783d7893558087e76    NaN         NaN    NaN    NaN   NaN  NaN  NaN\n",
       "11  6232de9883d7893558087e77    NaN         NaN    NaN    NaN   NaN    2  NaN\n",
       "12  6232de9883d7893558087e78    NaN         NaN    NaN    NaN   NaN  NaN    4\n",
       "13  6232df70916bedaa19fd0be6    NaN         NaN    NaN    NaN   NaN  NaN  NaN\n",
       "14  6232df71916bedaa19fd0be7    NaN         NaN    NaN    NaN   NaN    2  NaN\n",
       "15  6232df71916bedaa19fd0be8    NaN         NaN    NaN    NaN   NaN  NaN    4\n",
       "16  6232dfae916bedaa19fd0bea    NaN         NaN    NaN    NaN   NaN  NaN  NaN\n",
       "17  6232dfaf916bedaa19fd0beb    NaN         NaN    NaN    NaN   NaN    2  NaN\n",
       "18  6232dfaf916bedaa19fd0bec    NaN         NaN    NaN    NaN   NaN  NaN    4"
      ]
     },
     "execution_count": 26,
     "metadata": {},
     "output_type": "execute_result"
    }
   ],
   "source": [
    "pd.DataFrame(db.test.find())"
   ]
  },
  {
   "cell_type": "code",
   "execution_count": 29,
   "metadata": {},
   "outputs": [
    {
     "ename": "OperationalError",
     "evalue": "(2003, \"Can't connect to MySQL server on 'darkpreist.iptime.org' (timed out)\")",
     "output_type": "error",
     "traceback": [
      "\u001b[1;31m---------------------------------------------------------------------------\u001b[0m",
      "\u001b[1;31mtimeout\u001b[0m                                   Traceback (most recent call last)",
      "File \u001b[1;32mC:\\python38-32\\lib\\site-packages\\pymysql\\connections.py:613\u001b[0m, in \u001b[0;36mConnection.connect\u001b[1;34m(self, sock)\u001b[0m\n\u001b[0;32m    <a href='file:///c%3A/python38-32/lib/site-packages/pymysql/connections.py?line=611'>612</a>\u001b[0m \u001b[39mtry\u001b[39;00m:\n\u001b[1;32m--> <a href='file:///c%3A/python38-32/lib/site-packages/pymysql/connections.py?line=612'>613</a>\u001b[0m     sock \u001b[39m=\u001b[39m socket\u001b[39m.\u001b[39;49mcreate_connection(\n\u001b[0;32m    <a href='file:///c%3A/python38-32/lib/site-packages/pymysql/connections.py?line=613'>614</a>\u001b[0m         (\u001b[39mself\u001b[39;49m\u001b[39m.\u001b[39;49mhost, \u001b[39mself\u001b[39;49m\u001b[39m.\u001b[39;49mport), \u001b[39mself\u001b[39;49m\u001b[39m.\u001b[39;49mconnect_timeout, \u001b[39m*\u001b[39;49m\u001b[39m*\u001b[39;49mkwargs\n\u001b[0;32m    <a href='file:///c%3A/python38-32/lib/site-packages/pymysql/connections.py?line=614'>615</a>\u001b[0m     )\n\u001b[0;32m    <a href='file:///c%3A/python38-32/lib/site-packages/pymysql/connections.py?line=615'>616</a>\u001b[0m     \u001b[39mbreak\u001b[39;00m\n",
      "File \u001b[1;32mC:\\python38-32\\lib\\socket.py:808\u001b[0m, in \u001b[0;36mcreate_connection\u001b[1;34m(address, timeout, source_address)\u001b[0m\n\u001b[0;32m    <a href='file:///c%3A/python38-32/lib/socket.py?line=806'>807</a>\u001b[0m \u001b[39mtry\u001b[39;00m:\n\u001b[1;32m--> <a href='file:///c%3A/python38-32/lib/socket.py?line=807'>808</a>\u001b[0m     \u001b[39mraise\u001b[39;00m err\n\u001b[0;32m    <a href='file:///c%3A/python38-32/lib/socket.py?line=808'>809</a>\u001b[0m \u001b[39mfinally\u001b[39;00m:\n\u001b[0;32m    <a href='file:///c%3A/python38-32/lib/socket.py?line=809'>810</a>\u001b[0m     \u001b[39m# Break explicitly a reference cycle\u001b[39;00m\n",
      "File \u001b[1;32mC:\\python38-32\\lib\\socket.py:796\u001b[0m, in \u001b[0;36mcreate_connection\u001b[1;34m(address, timeout, source_address)\u001b[0m\n\u001b[0;32m    <a href='file:///c%3A/python38-32/lib/socket.py?line=794'>795</a>\u001b[0m     sock\u001b[39m.\u001b[39mbind(source_address)\n\u001b[1;32m--> <a href='file:///c%3A/python38-32/lib/socket.py?line=795'>796</a>\u001b[0m sock\u001b[39m.\u001b[39;49mconnect(sa)\n\u001b[0;32m    <a href='file:///c%3A/python38-32/lib/socket.py?line=796'>797</a>\u001b[0m \u001b[39m# Break explicitly a reference cycle\u001b[39;00m\n",
      "\u001b[1;31mtimeout\u001b[0m: timed out",
      "\nDuring handling of the above exception, another exception occurred:\n",
      "\u001b[1;31mOperationalError\u001b[0m                          Traceback (most recent call last)",
      "\u001b[1;32mc:\\Users\\spaceastonomy\\Desktop\\실습\\220317\\mongo\\연습.ipynb Cell 11'\u001b[0m in \u001b[0;36m<cell line: 2>\u001b[1;34m()\u001b[0m\n\u001b[0;32m      <a href='vscode-notebook-cell:/c%3A/Users/spaceastonomy/Desktop/%EC%8B%A4%EC%8A%B5/220317/mongo/%EC%97%B0%EC%8A%B5.ipynb#ch0000010?line=0'>1</a>\u001b[0m \u001b[39mimport\u001b[39;00m \u001b[39mmod_sql\u001b[39;00m\n\u001b[1;32m----> <a href='vscode-notebook-cell:/c%3A/Users/spaceastonomy/Desktop/%EC%8B%A4%EC%8A%B5/220317/mongo/%EC%97%B0%EC%8A%B5.ipynb#ch0000010?line=1'>2</a>\u001b[0m _db \u001b[39m=\u001b[39m mod_sql\u001b[39m.\u001b[39;49mDatabase()\n",
      "File \u001b[1;32mc:\\Users\\spaceastonomy\\Desktop\\실습\\220317\\mongo\\mod_sql.py:16\u001b[0m, in \u001b[0;36mDatabase.__init__\u001b[1;34m(self)\u001b[0m\n\u001b[0;32m     <a href='file:///c%3A/Users/spaceastonomy/Desktop/%EC%8B%A4%EC%8A%B5/220317/mongo/mod_sql.py?line=14'>15</a>\u001b[0m \u001b[39mdef\u001b[39;00m \u001b[39m__init__\u001b[39m(\u001b[39mself\u001b[39m):\n\u001b[1;32m---> <a href='file:///c%3A/Users/spaceastonomy/Desktop/%EC%8B%A4%EC%8A%B5/220317/mongo/mod_sql.py?line=15'>16</a>\u001b[0m     \u001b[39mself\u001b[39m\u001b[39m.\u001b[39m_db \u001b[39m=\u001b[39m pymysql\u001b[39m.\u001b[39;49mconnect(\u001b[39m#교수님 서버\u001b[39;49;00m\n\u001b[0;32m     <a href='file:///c%3A/Users/spaceastonomy/Desktop/%EC%8B%A4%EC%8A%B5/220317/mongo/mod_sql.py?line=16'>17</a>\u001b[0m                                 host \u001b[39m=\u001b[39;49m \u001b[39m\"\u001b[39;49m\u001b[39mdarkpreist.iptime.org\u001b[39;49m\u001b[39m\"\u001b[39;49m, \n\u001b[0;32m     <a href='file:///c%3A/Users/spaceastonomy/Desktop/%EC%8B%A4%EC%8A%B5/220317/mongo/mod_sql.py?line=17'>18</a>\u001b[0m                                 user \u001b[39m=\u001b[39;49m \u001b[39m\"\u001b[39;49m\u001b[39mubion\u001b[39;49m\u001b[39m\"\u001b[39;49m,\n\u001b[0;32m     <a href='file:///c%3A/Users/spaceastonomy/Desktop/%EC%8B%A4%EC%8A%B5/220317/mongo/mod_sql.py?line=18'>19</a>\u001b[0m                                 password \u001b[39m=\u001b[39;49m \u001b[39m\"\u001b[39;49m\u001b[39m1234\u001b[39;49m\u001b[39m\"\u001b[39;49m,\n\u001b[0;32m     <a href='file:///c%3A/Users/spaceastonomy/Desktop/%EC%8B%A4%EC%8A%B5/220317/mongo/mod_sql.py?line=19'>20</a>\u001b[0m                                 db \u001b[39m=\u001b[39;49m \u001b[39m\"\u001b[39;49m\u001b[39mubion\u001b[39;49m\u001b[39m\"\u001b[39;49m,\n\u001b[0;32m     <a href='file:///c%3A/Users/spaceastonomy/Desktop/%EC%8B%A4%EC%8A%B5/220317/mongo/mod_sql.py?line=20'>21</a>\u001b[0m                                 port \u001b[39m=\u001b[39;49m \u001b[39m3306\u001b[39;49m)\n\u001b[0;32m     <a href='file:///c%3A/Users/spaceastonomy/Desktop/%EC%8B%A4%EC%8A%B5/220317/mongo/mod_sql.py?line=21'>22</a>\u001b[0m     \u001b[39mself\u001b[39m\u001b[39m.\u001b[39mcursor \u001b[39m=\u001b[39m \u001b[39mself\u001b[39m\u001b[39m.\u001b[39m_db\u001b[39m.\u001b[39mcursor(pymysql\u001b[39m.\u001b[39mcursors\u001b[39m.\u001b[39mDictCursor)\n",
      "File \u001b[1;32mC:\\python38-32\\lib\\site-packages\\pymysql\\connections.py:353\u001b[0m, in \u001b[0;36mConnection.__init__\u001b[1;34m(self, user, password, host, database, unix_socket, port, charset, sql_mode, read_default_file, conv, use_unicode, client_flag, cursorclass, init_command, connect_timeout, read_default_group, autocommit, local_infile, max_allowed_packet, defer_connect, auth_plugin_map, read_timeout, write_timeout, bind_address, binary_prefix, program_name, server_public_key, ssl, ssl_ca, ssl_cert, ssl_disabled, ssl_key, ssl_verify_cert, ssl_verify_identity, compress, named_pipe, passwd, db)\u001b[0m\n\u001b[0;32m    <a href='file:///c%3A/python38-32/lib/site-packages/pymysql/connections.py?line=350'>351</a>\u001b[0m     \u001b[39mself\u001b[39m\u001b[39m.\u001b[39m_sock \u001b[39m=\u001b[39m \u001b[39mNone\u001b[39;00m\n\u001b[0;32m    <a href='file:///c%3A/python38-32/lib/site-packages/pymysql/connections.py?line=351'>352</a>\u001b[0m \u001b[39melse\u001b[39;00m:\n\u001b[1;32m--> <a href='file:///c%3A/python38-32/lib/site-packages/pymysql/connections.py?line=352'>353</a>\u001b[0m     \u001b[39mself\u001b[39;49m\u001b[39m.\u001b[39;49mconnect()\n",
      "File \u001b[1;32mC:\\python38-32\\lib\\site-packages\\pymysql\\connections.py:664\u001b[0m, in \u001b[0;36mConnection.connect\u001b[1;34m(self, sock)\u001b[0m\n\u001b[0;32m    <a href='file:///c%3A/python38-32/lib/site-packages/pymysql/connections.py?line=661'>662</a>\u001b[0m     \u001b[39mif\u001b[39;00m DEBUG:\n\u001b[0;32m    <a href='file:///c%3A/python38-32/lib/site-packages/pymysql/connections.py?line=662'>663</a>\u001b[0m         \u001b[39mprint\u001b[39m(exc\u001b[39m.\u001b[39mtraceback)\n\u001b[1;32m--> <a href='file:///c%3A/python38-32/lib/site-packages/pymysql/connections.py?line=663'>664</a>\u001b[0m     \u001b[39mraise\u001b[39;00m exc\n\u001b[0;32m    <a href='file:///c%3A/python38-32/lib/site-packages/pymysql/connections.py?line=665'>666</a>\u001b[0m \u001b[39m# If e is neither DatabaseError or IOError, It's a bug.\u001b[39;00m\n\u001b[0;32m    <a href='file:///c%3A/python38-32/lib/site-packages/pymysql/connections.py?line=666'>667</a>\u001b[0m \u001b[39m# But raising AssertionError hides original error.\u001b[39;00m\n\u001b[0;32m    <a href='file:///c%3A/python38-32/lib/site-packages/pymysql/connections.py?line=667'>668</a>\u001b[0m \u001b[39m# So just reraise it.\u001b[39;00m\n\u001b[0;32m    <a href='file:///c%3A/python38-32/lib/site-packages/pymysql/connections.py?line=668'>669</a>\u001b[0m \u001b[39mraise\u001b[39;00m\n",
      "\u001b[1;31mOperationalError\u001b[0m: (2003, \"Can't connect to MySQL server on 'darkpreist.iptime.org' (timed out)\")"
     ]
    }
   ],
   "source": [
    "import mod_sql\n",
    "_db = mod_sql.Database()"
   ]
  },
  {
   "cell_type": "code",
   "execution_count": 30,
   "metadata": {},
   "outputs": [
    {
     "ename": "AttributeError",
     "evalue": "'Cursor' object has no attribute 'executeAll'",
     "output_type": "error",
     "traceback": [
      "\u001b[1;31m---------------------------------------------------------------------------\u001b[0m",
      "\u001b[1;31mAttributeError\u001b[0m                            Traceback (most recent call last)",
      "\u001b[1;32mc:\\Users\\spaceastonomy\\Desktop\\실습\\220317\\mongo\\연습.ipynb Cell 12'\u001b[0m in \u001b[0;36m<cell line: 5>\u001b[1;34m()\u001b[0m\n\u001b[0;32m      <a href='vscode-notebook-cell:/c%3A/Users/spaceastonomy/Desktop/%EC%8B%A4%EC%8A%B5/220317/mongo/%EC%97%B0%EC%8A%B5.ipynb#ch0000011?line=0'>1</a>\u001b[0m sql \u001b[39m=\u001b[39m \u001b[39m\"\"\"\u001b[39m\n\u001b[0;32m      <a href='vscode-notebook-cell:/c%3A/Users/spaceastonomy/Desktop/%EC%8B%A4%EC%8A%B5/220317/mongo/%EC%97%B0%EC%8A%B5.ipynb#ch0000011?line=1'>2</a>\u001b[0m \u001b[39m        SELECT EMPNO\u001b[39m\n\u001b[0;32m      <a href='vscode-notebook-cell:/c%3A/Users/spaceastonomy/Desktop/%EC%8B%A4%EC%8A%B5/220317/mongo/%EC%97%B0%EC%8A%B5.ipynb#ch0000011?line=2'>3</a>\u001b[0m \u001b[39m        FROM emp\u001b[39m\n\u001b[0;32m      <a href='vscode-notebook-cell:/c%3A/Users/spaceastonomy/Desktop/%EC%8B%A4%EC%8A%B5/220317/mongo/%EC%97%B0%EC%8A%B5.ipynb#ch0000011?line=3'>4</a>\u001b[0m \u001b[39m        \u001b[39m\u001b[39m\"\"\"\u001b[39m\n\u001b[1;32m----> <a href='vscode-notebook-cell:/c%3A/Users/spaceastonomy/Desktop/%EC%8B%A4%EC%8A%B5/220317/mongo/%EC%97%B0%EC%8A%B5.ipynb#ch0000011?line=4'>5</a>\u001b[0m result \u001b[39m=\u001b[39m _db\u001b[39m.\u001b[39;49mexecuteAll(sql)\n\u001b[0;32m      <a href='vscode-notebook-cell:/c%3A/Users/spaceastonomy/Desktop/%EC%8B%A4%EC%8A%B5/220317/mongo/%EC%97%B0%EC%8A%B5.ipynb#ch0000011?line=5'>6</a>\u001b[0m pd\u001b[39m.\u001b[39mDataFrame(result)\n",
      "\u001b[1;31mAttributeError\u001b[0m: 'Cursor' object has no attribute 'executeAll'"
     ]
    }
   ],
   "source": [
    "sql = \"\"\"\n",
    "        SELECT EMPNO\n",
    "        FROM emp\n",
    "        \"\"\"\n",
    "result = _db.executeAll(sql)\n",
    "pd.DataFrame(result)"
   ]
  },
  {
   "cell_type": "code",
   "execution_count": null,
   "metadata": {},
   "outputs": [],
   "source": [
    "list(db.emp.find(\n",
    "    {\n",
    "        \"ENAME\" : \"SMITH\"\n",
    "    }\n",
    "))\n",
    "#SELECT * FROM emp WHERE ENAME = \" SMITH\""
   ]
  },
  {
   "cell_type": "code",
   "execution_count": null,
   "metadata": {},
   "outputs": [],
   "source": [
    "db.emp.find({\n",
    "    \"ENAME\" : \"SMITH\"\n",
    "})"
   ]
  },
  {
   "cell_type": "code",
   "execution_count": null,
   "metadata": {},
   "outputs": [],
   "source": [
    "list(db.emp.find(\n",
    "    {},\n",
    "    {\n",
    "        \"EMPNO\" : 1,\n",
    "        \"ENAME\" : 1, \n",
    "        \"DEPTNO\" : 1\n",
    "    }\n",
    "))"
   ]
  },
  {
   "cell_type": "code",
   "execution_count": null,
   "metadata": {},
   "outputs": [],
   "source": [
    "result = db.emp.find(),sort(\"ENAME\")\n",
    "\n",
    "for list in result:\n",
    "    print(list)"
   ]
  },
  {
   "cell_type": "code",
   "execution_count": null,
   "metadata": {},
   "outputs": [],
   "source": [
    "result = db.emp.find().sort(\"ENAME\")\n",
    "\n",
    "for list in result:\n",
    "    print(list)\n",
    "    # SELECT * FROM emp ORDER BY ENAME"
   ]
  },
  {
   "cell_type": "code",
   "execution_count": null,
   "metadata": {},
   "outputs": [],
   "source": [
    "# 급여가 2000보다 크거나 같은 데이터만 출력 $gte\n",
    "# 큰거 $gt\n",
    "# 작은거 $lt\n",
    "# 작거나 같은거 $lte\n",
    "\n",
    "result = db.emp.find(\n",
    "    {\n",
    "        \"SAL\" : {\n",
    "            \"$gte\" : 2450\n",
    "        }\n",
    "    }\n",
    ")\n",
    "for list in result:\n",
    "    print(list)\n",
    "    # SELECT * FROM WHERE SAL >= 2450"
   ]
  },
  {
   "cell_type": "code",
   "execution_count": null,
   "metadata": {},
   "outputs": [],
   "source": [
    "#급여가 2000보다 작은 데이터만 출력\n",
    "result = db.emp.find(\n",
    "    { \n",
    "        \"SAL\" : {\n",
    "            \"$lt\" : 2450\n",
    "        }\n",
    "    }\n",
    ")\n",
    "for list in result : \n",
    "    print(list)\n",
    "\n",
    "    #SELECT * FROM WHERE SAL < 2000"
   ]
  },
  {
   "cell_type": "code",
   "execution_count": null,
   "metadata": {},
   "outputs": [],
   "source": [
    "#SELECT * FROM emp WHERE ENAME = SMITN OR ENAME = ALLEN\n",
    "result = db.emp.find(\n",
    "    {\n",
    "        \"$or\" : [\n",
    "            {\n",
    "                \"ENAME\" : \"SMITN\"\n",
    "            },{\n",
    "                \"ENAME\" : \"ALLEN\"\n",
    "            }\n",
    "        ]\n",
    "    }\n",
    ") \n",
    "\n",
    "for list in result:\n",
    "    print(list)"
   ]
  },
  {
   "cell_type": "code",
   "execution_count": null,
   "metadata": {},
   "outputs": [],
   "source": [
    "#SELECT * FROM emp WHERE ENAME = SMITH AND JOB = CLERK\n",
    "result = db.emp.find(\n",
    "    {\n",
    "        \"ENAME\" : \"SMITN\",\n",
    "        \"JOB\" : \" CLERK\" \n",
    "    }\n",
    ")\n",
    "for list in result:\n",
    "    print(result)"
   ]
  },
  {
   "cell_type": "code",
   "execution_count": null,
   "metadata": {},
   "outputs": [],
   "source": [
    "#SELECT * FROM emp WHERE SAL >= 2000 AND SAL < 4000\n",
    "result = db.emp.find(\n",
    "    {\n",
    "        \"SAL\" {\n",
    "            \"$gte\" : 2000,\n",
    "            \"$lt\" : 4000\n",
    "        }\n",
    "    }, {_id : 0}\n",
    ")\n",
    "pd.DataFrame(result)"
   ]
  },
  {
   "cell_type": "code",
   "execution_count": null,
   "metadata": {},
   "outputs": [],
   "source": [
    "#SELECT * FROM emp WHERE ENAME LIKE S%\n",
    "\n",
    "result = db.emp.find(\n",
    "    {\n",
    "        \"ENAME\" : {\n",
    "            \"$regex\" : \"^S\"\n",
    "        }\n",
    "    }\n",
    ")\n",
    "pd.DataFrame(result)"
   ]
  },
  {
   "cell_type": "code",
   "execution_count": null,
   "metadata": {},
   "outputs": [],
   "source": [
    "#SELECT * FROM emp WHERE ENAME LIKE %S%\n",
    "result = db.emp.find(\n",
    "    {\n",
    "        \"ENAME\" {\n",
    "            \"$regex\" : \"S\"\n",
    "        }\n",
    "    }\n",
    ")\n",
    "pd.DataFrame(result)"
   ]
  },
  {
   "cell_type": "code",
   "execution_count": null,
   "metadata": {},
   "outputs": [],
   "source": [
    "#SELECT * FROM emp WHERE ENAME LIKE %S\n",
    "\n",
    "result = db.emp.find(\n",
    "    {\n",
    "        \"ENAME\" {\n",
    "            \"$regex\" : \"S$\"\n",
    "        }\n",
    "    }\n",
    ")\n",
    "pd.DataFrame(result)"
   ]
  },
  {
   "cell_type": "code",
   "execution_count": null,
   "metadata": {},
   "outputs": [],
   "source": [
    "result = db.emp.find(\n",
    "    {\n",
    "        \"SAL\" {\n",
    "            \"$gt\" : 1250,\n",
    "            \"$lts\" 3000\n",
    "        }, \"JOB\" : \"SALESMAN\"\n",
    "    },{\n",
    "        \"ENAME\" : 1,\n",
    "        \"JOB\" : 1,\n",
    "        \"SAL\" : 1,\n",
    "        \"DEPTNO\" : 1,\n",
    "        \"_id\" : 0\n",
    "    }\n",
    ").sort(\"ENAME\", -1)\n",
    "pd.DataFrame(result)"
   ]
  },
  {
   "cell_type": "code",
   "execution_count": null,
   "metadata": {},
   "outputs": [],
   "source": [
    "coffee = 10\n",
    "money - 300\n",
    "while money : \n",
    "    print(\"돈을 받으니 커피를 줍니다. \")\n",
    "    coffee = coffee -1\n",
    "    print(\"남은 커피의 양은 %d 개입니다.\" %coffee)\n",
    "    if coffee ==0:\n",
    "        print(\"키피가 다 떨어졌습니다. 판매를 중지합니다.\")\n",
    "        break"
   ]
  },
  {
   "cell_type": "code",
   "execution_count": 35,
   "metadata": {},
   "outputs": [
    {
     "name": "stdout",
     "output_type": "stream",
     "text": [
      "돈을 받으니 커피를 줍니다.\n",
      "남은 커피의 양은 9 개입니다.\n",
      "돈을 받으니 커피를 줍니다.\n",
      "남은 커피의 양은 8 개입니다.\n",
      "돈을 받으니 커피를 줍니다.\n",
      "남은 커피의 양은 7 개입니다.\n",
      "돈을 받으니 커피를 줍니다.\n",
      "남은 커피의 양은 6 개입니다.\n",
      "돈을 받으니 커피를 줍니다.\n",
      "남은 커피의 양은 5 개입니다.\n",
      "돈을 받으니 커피를 줍니다.\n",
      "남은 커피의 양은 4 개입니다.\n",
      "돈을 받으니 커피를 줍니다.\n",
      "남은 커피의 양은 3 개입니다.\n",
      "돈을 받으니 커피를 줍니다.\n",
      "남은 커피의 양은 2 개입니다.\n",
      "돈을 받으니 커피를 줍니다.\n",
      "남은 커피의 양은 1 개입니다.\n",
      "돈을 받으니 커피를 줍니다.\n",
      "남은 커피의 양은 0 개입니다.\n",
      "커피가 다 떨어졌습니다. 판매를 중지합니다. \n"
     ]
    }
   ],
   "source": [
    "coffee = 10\n",
    "money = 300\n",
    "while money :\n",
    "    print(\"돈을 받으니 커피를 줍니다.\")\n",
    "    coffee = coffee -1\n",
    "    print(\"남은 커피의 양은 %d 개입니다.\" %coffee)\n",
    "    if coffee == 0:\n",
    "        print(\"커피가 다 떨어졌습니다. 판매를 중지합니다. \")\n",
    "        break"
   ]
  },
  {
   "cell_type": "code",
   "execution_count": null,
   "metadata": {},
   "outputs": [],
   "source": [
    "coffee = 10\n",
    "while True:\n",
    "    money = int(input(\"돈을 넣어 주세요\"))\n",
    "    if money ==300:\n",
    "        print(\"커피를 줍니다.\")\n",
    "        print(\"남은 커피의 양은 %d개 입니다. \" %coffee)\n",
    "        coffee = coffee -1\n",
    "    elif money > 300:\n",
    "        print(\"거스름 돈 %d를 주고 커피를 줍니다.\" %(money - 300))\n",
    "        print(\"남은 커피의 양은 %d개 입니다. \" %coffee)\n",
    "    else :\n",
    "        print(\"e돈을 다시 돌려주고 커피를 주지 않습니다.\")\n",
    "        print(\"남은 커피의 양은 %d개 입니다. \" %coffee)\n",
    "    if coffee == 0:\n",
    "        print(\"coffee sold out. close taday\")\n",
    "        break"
   ]
  },
  {
   "cell_type": "code",
   "execution_count": 40,
   "metadata": {},
   "outputs": [
    {
     "name": "stdout",
     "output_type": "stream",
     "text": [
      "커피를 줍니다.\n",
      "남은 커피의 양은 10개 입니다. \n",
      "커피를 줍니다.\n",
      "남은 커피의 양은 9개 입니다. \n",
      "커피를 줍니다.\n",
      "남은 커피의 양은 8개 입니다. \n",
      "커피를 줍니다.\n",
      "남은 커피의 양은 7개 입니다. \n",
      "커피를 줍니다.\n",
      "남은 커피의 양은 6개 입니다. \n",
      "거스름 돈 2700를 주고 커피를 줍니다\n",
      "남은 커피의 양은 5개 입니다. \n",
      "거스름 돈 2700를 주고 커피를 줍니다\n",
      "남은 커피의 양은 4개 입니다. \n",
      "커피를 줍니다.\n",
      "남은 커피의 양은 3개 입니다. \n",
      "커피를 줍니다.\n",
      "남은 커피의 양은 2개 입니다. \n",
      "커피를 줍니다.\n",
      "남은 커피의 양은 1개 입니다. \n",
      "커피가 다 떨어졌습니다. 판매를 중지 합니다.\n"
     ]
    }
   ],
   "source": [
    "coffee = 10 \n",
    "while True:\n",
    "    money = int(input(\"돈을 넣어 주세요:\"))\n",
    "    if money ==300:\n",
    "        print(\"커피를 줍니다.\")\n",
    "        print(\"남은 커피의 양은 %d개 입니다. \" %coffee)\n",
    "        coffee = coffee -1\n",
    "    elif money > 300:\n",
    "        print(\"거스름 돈 %d를 주고 커피를 줍니다\" %(money -300))\n",
    "        print(\"남은 커피의 양은 %d개 입니다. \" %coffee)\n",
    "        coffee = coffee -1\n",
    "    else : \n",
    "        print(\"돈을 다시 돌려주고 커피를 주지 않습니다.\")\n",
    "        print(\"남은 커피의 양은 %d개 입니다. \" %coffee)\n",
    "    if coffee == 0 :\n",
    "        print(\"커피가 다 떨어졌습니다. 판매를 중지 합니다.\")\n",
    "        break"
   ]
  },
  {
   "cell_type": "code",
   "execution_count": 42,
   "metadata": {},
   "outputs": [
    {
     "name": "stdout",
     "output_type": "stream",
     "text": [
      "55\n"
     ]
    }
   ],
   "source": [
    "add = 0 \n",
    "for i in range(1, 11):\n",
    "    add += i\n",
    "\n",
    "print(add)"
   ]
  },
  {
   "cell_type": "code",
   "execution_count": 66,
   "metadata": {},
   "outputs": [
    {
     "name": "stdout",
     "output_type": "stream",
     "text": [
      "55\n"
     ]
    }
   ],
   "source": [
    "add = 0 \n",
    "for i in range(1, 11, 1):\n",
    "    add += i \n",
    "\n",
    "print(add)"
   ]
  },
  {
   "cell_type": "code",
   "execution_count": 69,
   "metadata": {},
   "outputs": [
    {
     "name": "stdout",
     "output_type": "stream",
     "text": [
      "1번 학생 축하합니다. 합격입니다.\n",
      "3번 학생 축하합니다. 합격입니다.\n",
      "5번 학생 축하합니다. 합격입니다.\n"
     ]
    }
   ],
   "source": [
    "_class = [90, 25, 67, 45, 80]\n",
    "\n",
    "_next = 0\n",
    "for student in _class:\n",
    "    _next += 1\n",
    "    if student < 60:\n",
    "        continue\n",
    "    print(\"%d번 학생 축하합니다. 합격입니다.\" %_next)"
   ]
  },
  {
   "cell_type": "code",
   "execution_count": null,
   "metadata": {},
   "outputs": [],
   "source": [
    "makrs = [90, 25, 67,45, 80]\n",
    "\n",
    "number = 0\n",
    "for mark in marks:\n",
    "    number += 1"
   ]
  },
  {
   "cell_type": "code",
   "execution_count": null,
   "metadata": {},
   "outputs": [],
   "source": [
    "marks = [90, 25, 67, 45, 80]\n",
    "\n",
    "number = 0 \n",
    "for mark in marks :\n",
    "    number += 1"
   ]
  },
  {
   "cell_type": "code",
   "execution_count": 61,
   "metadata": {},
   "outputs": [
    {
     "name": "stdout",
     "output_type": "stream",
     "text": [
      "1번 학생 축하합니다. 합격입니다.\n",
      "3번 학생 축하합니다. 합격입니다.\n",
      "5번 학생 축하합니다. 합격입니다.\n"
     ]
    }
   ],
   "source": [
    "marks = [90, 25, 67, 45, 80]\n",
    "for n in range(len(marks)):\n",
    "    if marks[n] < 60:\n",
    "        continue\n",
    "    print(\"%d번 학생 축하합니다. 합격입니다.\" %(n+1))"
   ]
  },
  {
   "cell_type": "code",
   "execution_count": 70,
   "metadata": {},
   "outputs": [
    {
     "name": "stdout",
     "output_type": "stream",
     "text": [
      "\n",
      "\n",
      "\n"
     ]
    }
   ],
   "source": [
    "marks = [90, 25, 67, 45, 80]\n",
    "for number in range(len(marks)):\n",
    "    if marks[number] < 60:\n",
    "        continue\n",
    "    print(\"%d 번 학생 합격을 축하합니다.\")"
   ]
  },
  {
   "cell_type": "code",
   "execution_count": 57,
   "metadata": {},
   "outputs": [
    {
     "name": "stdout",
     "output_type": "stream",
     "text": [
      "24681012141618\n",
      "369121518212427\n",
      "4812162024283236\n",
      "51015202530354045\n",
      "61218243036424854\n",
      "71421283542495663\n",
      "81624324048566472\n",
      "91827364554637281\n"
     ]
    }
   ],
   "source": [
    "for i in range(2, 10):\n",
    "    for j in range(1, 10):\n",
    "        print(i * j, end=\"\")\n",
    "    print(\"\")\n",
    "        "
   ]
  },
  {
   "cell_type": "code",
   "execution_count": 72,
   "metadata": {},
   "outputs": [
    {
     "name": "stdout",
     "output_type": "stream",
     "text": [
      "2 x 1 = 22 x 2 = 42 x 3 = 62 x 4 = 82 x 5 = 102 x 6 = 122 x 7 = 142 x 8 = 162 x 9 = 18\n",
      "3 x 1 = 33 x 2 = 63 x 3 = 93 x 4 = 123 x 5 = 153 x 6 = 183 x 7 = 213 x 8 = 243 x 9 = 27\n",
      "4 x 1 = 44 x 2 = 84 x 3 = 124 x 4 = 164 x 5 = 204 x 6 = 244 x 7 = 284 x 8 = 324 x 9 = 36\n",
      "5 x 1 = 55 x 2 = 105 x 3 = 155 x 4 = 205 x 5 = 255 x 6 = 305 x 7 = 355 x 8 = 405 x 9 = 45\n",
      "6 x 1 = 66 x 2 = 126 x 3 = 186 x 4 = 246 x 5 = 306 x 6 = 366 x 7 = 426 x 8 = 486 x 9 = 54\n",
      "7 x 1 = 77 x 2 = 147 x 3 = 217 x 4 = 287 x 5 = 357 x 6 = 427 x 7 = 497 x 8 = 567 x 9 = 63\n",
      "8 x 1 = 88 x 2 = 168 x 3 = 248 x 4 = 328 x 5 = 408 x 6 = 488 x 7 = 568 x 8 = 648 x 9 = 72\n",
      "9 x 1 = 99 x 2 = 189 x 3 = 279 x 4 = 369 x 5 = 459 x 6 = 549 x 7 = 639 x 8 = 729 x 9 = 81\n"
     ]
    }
   ],
   "source": [
    "for i in range(2, 10):\n",
    "    for j in range(1, 10):\n",
    "        print(f\"{i} x {j} = {i * j}\", end=\"\")\n",
    "    print(\"\")"
   ]
  },
  {
   "cell_type": "code",
   "execution_count": null,
   "metadata": {},
   "outputs": [],
   "source": [
    "print(':: 2단 ::')\n",
    "for i in range(1, 10):  # 1부터 9까지\n",
    "    print(f'2 x {i} = {2*i}')"
   ]
  },
  {
   "cell_type": "code",
   "execution_count": 58,
   "metadata": {},
   "outputs": [
    {
     "name": "stdout",
     "output_type": "stream",
     "text": [
      "[3, 6, 9, 12]\n"
     ]
    }
   ],
   "source": [
    "a = [1,2,3,4]\n",
    "result = []\n",
    "for num in a :\n",
    "    result.append(num*3)\n",
    "\n",
    "print(result)"
   ]
  },
  {
   "cell_type": "code",
   "execution_count": 73,
   "metadata": {},
   "outputs": [
    {
     "name": "stdout",
     "output_type": "stream",
     "text": [
      "[3, 6, 9, 12]\n"
     ]
    }
   ],
   "source": [
    "a = [1,2,3,4]\n",
    "result = []\n",
    "for num in a :\n",
    "    result.append(num*3)\n",
    "\n",
    "print(result)"
   ]
  },
  {
   "cell_type": "code",
   "execution_count": 62,
   "metadata": {},
   "outputs": [
    {
     "name": "stdout",
     "output_type": "stream",
     "text": [
      "[6, 12]\n"
     ]
    }
   ],
   "source": [
    "a = [1,2,3,4]\n",
    "result = [num * 3 for num in a if num % 2 ==0]\n",
    "print(result)\n",
    "\n",
    "#만약 [1,2,3,4] 중에서 짝수에만 3을 곱하여 담고 싶다면 "
   ]
  },
  {
   "cell_type": "code",
   "execution_count": 74,
   "metadata": {},
   "outputs": [
    {
     "name": "stdout",
     "output_type": "stream",
     "text": [
      "[6, 12]\n"
     ]
    }
   ],
   "source": [
    "a = [1,2,3,4]\n",
    "result = [num * 3 for num in a if num % 2 ==0]\n",
    "print(result)"
   ]
  },
  {
   "cell_type": "code",
   "execution_count": 63,
   "metadata": {},
   "outputs": [
    {
     "name": "stdout",
     "output_type": "stream",
     "text": [
      "[2, 4, 6, 8, 10, 12, 14, 16, 18, 3, 6, 9, 12, 15, 18, 21, 24, 27, 4, 8, 12, 16, 20, 24, 28, 32, 36, 5, 10, 15, 20, 25, 30, 35, 40, 45, 6, 12, 18, 24, 30, 36, 42, 48, 54, 7, 14, 21, 28, 35, 42, 49, 56, 63, 8, 16, 24, 32, 40, 48, 56, 64, 72, 9, 18, 27, 36, 45, 54, 63, 72, 81]\n"
     ]
    }
   ],
   "source": [
    "result = [x*y for x in range(2, 10)\n",
    "                for y in range(1, 10)]\n",
    "print(result)"
   ]
  },
  {
   "cell_type": "code",
   "execution_count": 75,
   "metadata": {},
   "outputs": [
    {
     "name": "stdout",
     "output_type": "stream",
     "text": [
      "[2, 4, 6, 8, 10, 12, 14, 16, 18, 3, 6, 9, 12, 15, 18, 21, 24, 27, 4, 8, 12, 16, 20, 24, 28, 32, 36, 5, 10, 15, 20, 25, 30, 35, 40, 45, 6, 12, 18, 24, 30, 36, 42, 48, 54, 7, 14, 21, 28, 35, 42, 49, 56, 63, 8, 16, 24, 32, 40, 48, 56, 64, 72, 9, 18, 27, 36, 45, 54, 63, 72, 81]\n"
     ]
    }
   ],
   "source": [
    "result = [x * y for x in range(2, 10)\n",
    "for y in range(1, 10)]\n",
    "\n",
    "print(result)"
   ]
  },
  {
   "cell_type": "code",
   "execution_count": 65,
   "metadata": {},
   "outputs": [
    {
     "name": "stdout",
     "output_type": "stream",
     "text": [
      "166833\n"
     ]
    }
   ],
   "source": [
    "start = 0 \n",
    "i = 1 \n",
    "while i <= 1000 :\n",
    "    if i % 3 == 0:\n",
    "        start += i \n",
    "    i += 1\n",
    "\n",
    "print(start)"
   ]
  },
  {
   "cell_type": "code",
   "execution_count": 76,
   "metadata": {},
   "outputs": [
    {
     "name": "stdout",
     "output_type": "stream",
     "text": [
      "166833\n"
     ]
    }
   ],
   "source": [
    "start = 0 \n",
    "i = 1 \n",
    "while i <= 1000:\n",
    "    if i % 3 == 0 :\n",
    "        start += i \n",
    "    i +=1\n",
    "print(start)"
   ]
  },
  {
   "cell_type": "code",
   "execution_count": null,
   "metadata": {},
   "outputs": [],
   "source": []
  }
 ],
 "metadata": {
  "interpreter": {
   "hash": "b1269504bf1248269f056a465bc4c12d8a4acb51f1ea5e065be3f9e0fb3ca3ae"
  },
  "kernelspec": {
   "display_name": "Python 3.8.6 32-bit",
   "language": "python",
   "name": "python3"
  },
  "language_info": {
   "codemirror_mode": {
    "name": "ipython",
    "version": 3
   },
   "file_extension": ".py",
   "mimetype": "text/x-python",
   "name": "python",
   "nbconvert_exporter": "python",
   "pygments_lexer": "ipython3",
   "version": "3.8.6"
  },
  "orig_nbformat": 4
 },
 "nbformat": 4,
 "nbformat_minor": 2
}
