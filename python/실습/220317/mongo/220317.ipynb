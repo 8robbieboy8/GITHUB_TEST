{
 "cells": [
  {
   "cell_type": "code",
   "execution_count": 25,
   "metadata": {},
   "outputs": [],
   "source": [
    "from pymongo import MongoClient"
   ]
  },
  {
   "cell_type": "code",
   "execution_count": 26,
   "metadata": {},
   "outputs": [],
   "source": [
    "import pymongo"
   ]
  },
  {
   "cell_type": "code",
   "execution_count": 27,
   "metadata": {},
   "outputs": [],
   "source": [
    "client = MongoClient(\n",
    "    host = 'localhost',\n",
    "    port = 27017 #몽고의 기본 포트번호\n",
    ")"
   ]
  },
  {
   "cell_type": "code",
   "execution_count": 28,
   "metadata": {},
   "outputs": [
    {
     "data": {
      "text/plain": [
       "['admin', 'config', 'local', 'ubion']"
      ]
     },
     "execution_count": 28,
     "metadata": {},
     "output_type": "execute_result"
    }
   ],
   "source": [
    "client.list_database_names()"
   ]
  },
  {
   "cell_type": "code",
   "execution_count": 29,
   "metadata": {},
   "outputs": [
    {
     "ename": "TypeError",
     "evalue": "'dict' object is not callable",
     "output_type": "error",
     "traceback": [
      "\u001b[1;31m---------------------------------------------------------------------------\u001b[0m",
      "\u001b[1;31mTypeError\u001b[0m                                 Traceback (most recent call last)",
      "\u001b[1;32mc:\\Users\\spaceastonomy\\Desktop\\실습\\220317\\mongo\\220317.ipynb Cell 5'\u001b[0m in \u001b[0;36m<cell line: 2>\u001b[1;34m()\u001b[0m\n\u001b[0;32m      <a href='vscode-notebook-cell:/c%3A/Users/spaceastonomy/Desktop/%EC%8B%A4%EC%8A%B5/220317/mongo/220317.ipynb#ch0000004?line=0'>1</a>\u001b[0m db \u001b[39m=\u001b[39m client[\u001b[39m\"\u001b[39m\u001b[39mubion\u001b[39m\u001b[39m\"\u001b[39m]\n\u001b[1;32m----> <a href='vscode-notebook-cell:/c%3A/Users/spaceastonomy/Desktop/%EC%8B%A4%EC%8A%B5/220317/mongo/220317.ipynb#ch0000004?line=1'>2</a>\u001b[0m \u001b[39mlist\u001b[39;49m(db\u001b[39m.\u001b[39;49mtest\u001b[39m.\u001b[39;49mfind())\n",
      "\u001b[1;31mTypeError\u001b[0m: 'dict' object is not callable"
     ]
    }
   ],
   "source": [
    "db = client[\"ubion\"]\n",
    "list(db.test.find())\n",
    "\n",
    "\n",
    "#SELECT * FROM test"
   ]
  },
  {
   "cell_type": "code",
   "execution_count": null,
   "metadata": {},
   "outputs": [
    {
     "data": {
      "text/plain": [
       "[{'_id': ObjectId('62328e822b7ef9a10d61af54'),\n",
       "  'name': 'test',\n",
       "  'phone': '0101232133'},\n",
       " {'_id': ObjectId('623290ca2b7ef9a10d61af56'), 'loc': 'Seoul'},\n",
       " {'_id': ObjectId('623290ca2b7ef9a10d61af57'), 'gender': 'male', 'age': 20.0},\n",
       " {'_id': ObjectId('623291a12b7ef9a10d61af58'), 'name': 'test2', 'age': 30.0},\n",
       " {'_id': ObjectId('6232a29ced174bdb776152ef')},\n",
       " {'_id': ObjectId('6232a2b8ed174bdb776152f0'), '1': '2'},\n",
       " {'_id': ObjectId('6232a2b8ed174bdb776152f1'), '3': '4'}]"
      ]
     },
     "execution_count": 7,
     "metadata": {},
     "output_type": "execute_result"
    }
   ],
   "source": [
    "list(db[\"test\"].find())"
   ]
  },
  {
   "cell_type": "code",
   "execution_count": null,
   "metadata": {},
   "outputs": [
    {
     "data": {
      "text/plain": [
       "<pymongo.results.InsertOneResult at 0x66b4348>"
      ]
     },
     "execution_count": 8,
     "metadata": {},
     "output_type": "execute_result"
    }
   ],
   "source": [
    "data = {\n",
    "        \"1\" : \"1\",\n",
    "        \"2\" : \"2\",\n",
    "        \"3\" : \"3\"\n",
    "}\n",
    "\n",
    "db.test.insert_one({})\n",
    "#INSERT INTO test VALUE ()"
   ]
  },
  {
   "cell_type": "code",
   "execution_count": null,
   "metadata": {},
   "outputs": [],
   "source": [
    "# data 변수 만들어서 insert_many 사용 할것 "
   ]
  },
  {
   "cell_type": "code",
   "execution_count": null,
   "metadata": {},
   "outputs": [
    {
     "data": {
      "text/plain": [
       "<pymongo.results.InsertManyResult at 0x66b9668>"
      ]
     },
     "execution_count": 10,
     "metadata": {},
     "output_type": "execute_result"
    }
   ],
   "source": [
    "data = [{ #리스트 안에 딕셔너리 형태로 넣어야 MANY\n",
    "        \"1\" : \"2\"\n",
    "},\n",
    "{\n",
    "        \"3\" : \"4\"\n",
    "        \n",
    "}]\n",
    "\n",
    "db.test.insert_many(data)"
   ]
  },
  {
   "cell_type": "code",
   "execution_count": null,
   "metadata": {},
   "outputs": [],
   "source": [
    "db.list_collection_names()"
   ]
  },
  {
   "cell_type": "code",
   "execution_count": null,
   "metadata": {},
   "outputs": [
    {
     "data": {
      "text/plain": [
       "[{'_id': ObjectId('62328e822b7ef9a10d61af54'),\n",
       "  'name': 'test',\n",
       "  'phone': '0101232133'},\n",
       " {'_id': ObjectId('623290ca2b7ef9a10d61af56'), 'loc': 'Seoul'},\n",
       " {'_id': ObjectId('623290ca2b7ef9a10d61af57'), 'gender': 'male', 'age': 20.0},\n",
       " {'_id': ObjectId('623291a12b7ef9a10d61af58'), 'name': 'test2', 'age': 30.0},\n",
       " {'_id': ObjectId('6232a29ced174bdb776152ef')},\n",
       " {'_id': ObjectId('6232a2b8ed174bdb776152f0'), '1': '2'},\n",
       " {'_id': ObjectId('6232a2b8ed174bdb776152f1'), '3': '4'},\n",
       " {'_id': ObjectId('6232be3db70508c228388bb3')},\n",
       " {'_id': ObjectId('6232be3db70508c228388bb4'), '1': '2'},\n",
       " {'_id': ObjectId('6232be3db70508c228388bb5'), '3': '4'}]"
      ]
     },
     "execution_count": 11,
     "metadata": {},
     "output_type": "execute_result"
    }
   ],
   "source": [
    "list(db.test.find())"
   ]
  },
  {
   "cell_type": "code",
   "execution_count": null,
   "metadata": {},
   "outputs": [],
   "source": [
    "import mod_sql\n",
    "import pandas as pd\n"
   ]
  },
  {
   "cell_type": "code",
   "execution_count": null,
   "metadata": {},
   "outputs": [],
   "source": [
    "_db = mod_sql.Database()"
   ]
  },
  {
   "cell_type": "code",
   "execution_count": null,
   "metadata": {},
   "outputs": [
    {
     "data": {
      "text/html": [
       "<div>\n",
       "<style scoped>\n",
       "    .dataframe tbody tr th:only-of-type {\n",
       "        vertical-align: middle;\n",
       "    }\n",
       "\n",
       "    .dataframe tbody tr th {\n",
       "        vertical-align: top;\n",
       "    }\n",
       "\n",
       "    .dataframe thead th {\n",
       "        text-align: right;\n",
       "    }\n",
       "</style>\n",
       "<table border=\"1\" class=\"dataframe\">\n",
       "  <thead>\n",
       "    <tr style=\"text-align: right;\">\n",
       "      <th></th>\n",
       "      <th>EMPNO</th>\n",
       "    </tr>\n",
       "  </thead>\n",
       "  <tbody>\n",
       "    <tr>\n",
       "      <th>0</th>\n",
       "      <td>7782</td>\n",
       "    </tr>\n",
       "    <tr>\n",
       "      <th>1</th>\n",
       "      <td>7839</td>\n",
       "    </tr>\n",
       "    <tr>\n",
       "      <th>2</th>\n",
       "      <td>7934</td>\n",
       "    </tr>\n",
       "    <tr>\n",
       "      <th>3</th>\n",
       "      <td>7369</td>\n",
       "    </tr>\n",
       "    <tr>\n",
       "      <th>4</th>\n",
       "      <td>7566</td>\n",
       "    </tr>\n",
       "    <tr>\n",
       "      <th>5</th>\n",
       "      <td>7788</td>\n",
       "    </tr>\n",
       "    <tr>\n",
       "      <th>6</th>\n",
       "      <td>7876</td>\n",
       "    </tr>\n",
       "    <tr>\n",
       "      <th>7</th>\n",
       "      <td>7902</td>\n",
       "    </tr>\n",
       "    <tr>\n",
       "      <th>8</th>\n",
       "      <td>7499</td>\n",
       "    </tr>\n",
       "    <tr>\n",
       "      <th>9</th>\n",
       "      <td>7521</td>\n",
       "    </tr>\n",
       "    <tr>\n",
       "      <th>10</th>\n",
       "      <td>7654</td>\n",
       "    </tr>\n",
       "    <tr>\n",
       "      <th>11</th>\n",
       "      <td>7698</td>\n",
       "    </tr>\n",
       "    <tr>\n",
       "      <th>12</th>\n",
       "      <td>7844</td>\n",
       "    </tr>\n",
       "    <tr>\n",
       "      <th>13</th>\n",
       "      <td>7900</td>\n",
       "    </tr>\n",
       "  </tbody>\n",
       "</table>\n",
       "</div>"
      ],
      "text/plain": [
       "   EMPNO\n",
       "0   7782\n",
       "1   7839\n",
       "2   7934\n",
       "3   7369\n",
       "4   7566\n",
       "5   7788\n",
       "6   7876\n",
       "7   7902\n",
       "8   7499\n",
       "9   7521\n",
       "10  7654\n",
       "11  7698\n",
       "12  7844\n",
       "13  7900"
      ]
     },
     "execution_count": 14,
     "metadata": {},
     "output_type": "execute_result"
    }
   ],
   "source": [
    "sql = \"\"\"\n",
    "      SELECT EMPNO\n",
    "      FROM emp   \n",
    "        \"\"\"\n",
    "result = _db.executeAll(sql)\n",
    "pd.DataFrame(result)"
   ]
  },
  {
   "cell_type": "code",
   "execution_count": null,
   "metadata": {},
   "outputs": [
    {
     "ename": "InvalidDocument",
     "evalue": "cannot encode object: Decimal('7782'), of type: <class 'decimal.Decimal'>",
     "output_type": "error",
     "traceback": [
      "\u001b[1;31m---------------------------------------------------------------------------\u001b[0m",
      "\u001b[1;31mInvalidDocument\u001b[0m                           Traceback (most recent call last)",
      "\u001b[1;32mc:\\Users\\spaceastonomy\\Desktop\\실습\\220317\\mongo\\220317.ipynb Cell 14'\u001b[0m in \u001b[0;36m<cell line: 1>\u001b[1;34m()\u001b[0m\n\u001b[1;32m----> <a href='vscode-notebook-cell:/c%3A/Users/spaceastonomy/Desktop/%EC%8B%A4%EC%8A%B5/220317/mongo/220317.ipynb#ch0000013?line=0'>1</a>\u001b[0m db\u001b[39m.\u001b[39;49memp\u001b[39m.\u001b[39;49minsert_many(result)\n",
      "File \u001b[1;32mC:\\python38-32\\lib\\site-packages\\pymongo\\collection.py:615\u001b[0m, in \u001b[0;36mCollection.insert_many\u001b[1;34m(self, documents, ordered, bypass_document_validation, session)\u001b[0m\n\u001b[0;32m    <a href='file:///c%3A/python38-32/lib/site-packages/pymongo/collection.py?line=612'>613</a>\u001b[0m blk \u001b[39m=\u001b[39m _Bulk(\u001b[39mself\u001b[39m, ordered, bypass_document_validation)\n\u001b[0;32m    <a href='file:///c%3A/python38-32/lib/site-packages/pymongo/collection.py?line=613'>614</a>\u001b[0m blk\u001b[39m.\u001b[39mops \u001b[39m=\u001b[39m [doc \u001b[39mfor\u001b[39;00m doc \u001b[39min\u001b[39;00m gen()]\n\u001b[1;32m--> <a href='file:///c%3A/python38-32/lib/site-packages/pymongo/collection.py?line=614'>615</a>\u001b[0m blk\u001b[39m.\u001b[39;49mexecute(write_concern, session\u001b[39m=\u001b[39;49msession)\n\u001b[0;32m    <a href='file:///c%3A/python38-32/lib/site-packages/pymongo/collection.py?line=615'>616</a>\u001b[0m \u001b[39mreturn\u001b[39;00m InsertManyResult(inserted_ids, write_concern\u001b[39m.\u001b[39macknowledged)\n",
      "File \u001b[1;32mC:\\python38-32\\lib\\site-packages\\pymongo\\bulk.py:459\u001b[0m, in \u001b[0;36m_Bulk.execute\u001b[1;34m(self, write_concern, session)\u001b[0m\n\u001b[0;32m    <a href='file:///c%3A/python38-32/lib/site-packages/pymongo/bulk.py?line=456'>457</a>\u001b[0m         \u001b[39mself\u001b[39m\u001b[39m.\u001b[39mexecute_no_results(sock_info, generator)\n\u001b[0;32m    <a href='file:///c%3A/python38-32/lib/site-packages/pymongo/bulk.py?line=457'>458</a>\u001b[0m \u001b[39melse\u001b[39;00m:\n\u001b[1;32m--> <a href='file:///c%3A/python38-32/lib/site-packages/pymongo/bulk.py?line=458'>459</a>\u001b[0m     \u001b[39mreturn\u001b[39;00m \u001b[39mself\u001b[39;49m\u001b[39m.\u001b[39;49mexecute_command(generator, write_concern, session)\n",
      "File \u001b[1;32mC:\\python38-32\\lib\\site-packages\\pymongo\\bulk.py:352\u001b[0m, in \u001b[0;36m_Bulk.execute_command\u001b[1;34m(self, generator, write_concern, session)\u001b[0m\n\u001b[0;32m    <a href='file:///c%3A/python38-32/lib/site-packages/pymongo/bulk.py?line=349'>350</a>\u001b[0m client \u001b[39m=\u001b[39m \u001b[39mself\u001b[39m\u001b[39m.\u001b[39mcollection\u001b[39m.\u001b[39mdatabase\u001b[39m.\u001b[39mclient\n\u001b[0;32m    <a href='file:///c%3A/python38-32/lib/site-packages/pymongo/bulk.py?line=350'>351</a>\u001b[0m \u001b[39mwith\u001b[39;00m client\u001b[39m.\u001b[39m_tmp_session(session) \u001b[39mas\u001b[39;00m s:\n\u001b[1;32m--> <a href='file:///c%3A/python38-32/lib/site-packages/pymongo/bulk.py?line=351'>352</a>\u001b[0m     client\u001b[39m.\u001b[39;49m_retry_with_session(\u001b[39mself\u001b[39;49m\u001b[39m.\u001b[39;49mis_retryable, retryable_bulk, s, \u001b[39mself\u001b[39;49m)\n\u001b[0;32m    <a href='file:///c%3A/python38-32/lib/site-packages/pymongo/bulk.py?line=353'>354</a>\u001b[0m \u001b[39mif\u001b[39;00m full_result[\u001b[39m\"\u001b[39m\u001b[39mwriteErrors\u001b[39m\u001b[39m\"\u001b[39m] \u001b[39mor\u001b[39;00m full_result[\u001b[39m\"\u001b[39m\u001b[39mwriteConcernErrors\u001b[39m\u001b[39m\"\u001b[39m]:\n\u001b[0;32m    <a href='file:///c%3A/python38-32/lib/site-packages/pymongo/bulk.py?line=354'>355</a>\u001b[0m     _raise_bulk_write_error(full_result)\n",
      "File \u001b[1;32mC:\\python38-32\\lib\\site-packages\\pymongo\\mongo_client.py:1274\u001b[0m, in \u001b[0;36mMongoClient._retry_with_session\u001b[1;34m(self, retryable, func, session, bulk)\u001b[0m\n\u001b[0;32m   <a href='file:///c%3A/python38-32/lib/site-packages/pymongo/mongo_client.py?line=1263'>1264</a>\u001b[0m \u001b[39m\"\"\"Execute an operation with at most one consecutive retries\u001b[39;00m\n\u001b[0;32m   <a href='file:///c%3A/python38-32/lib/site-packages/pymongo/mongo_client.py?line=1264'>1265</a>\u001b[0m \n\u001b[0;32m   <a href='file:///c%3A/python38-32/lib/site-packages/pymongo/mongo_client.py?line=1265'>1266</a>\u001b[0m \u001b[39mReturns func()'s return value on success. On error retries the same\u001b[39;00m\n\u001b[1;32m   (...)\u001b[0m\n\u001b[0;32m   <a href='file:///c%3A/python38-32/lib/site-packages/pymongo/mongo_client.py?line=1268'>1269</a>\u001b[0m \u001b[39mRe-raises any exception thrown by func().\u001b[39;00m\n\u001b[0;32m   <a href='file:///c%3A/python38-32/lib/site-packages/pymongo/mongo_client.py?line=1269'>1270</a>\u001b[0m \u001b[39m\"\"\"\u001b[39;00m\n\u001b[0;32m   <a href='file:///c%3A/python38-32/lib/site-packages/pymongo/mongo_client.py?line=1270'>1271</a>\u001b[0m retryable \u001b[39m=\u001b[39m (\n\u001b[0;32m   <a href='file:///c%3A/python38-32/lib/site-packages/pymongo/mongo_client.py?line=1271'>1272</a>\u001b[0m     retryable \u001b[39mand\u001b[39;00m \u001b[39mself\u001b[39m\u001b[39m.\u001b[39moptions\u001b[39m.\u001b[39mretry_writes \u001b[39mand\u001b[39;00m session \u001b[39mand\u001b[39;00m \u001b[39mnot\u001b[39;00m session\u001b[39m.\u001b[39min_transaction\n\u001b[0;32m   <a href='file:///c%3A/python38-32/lib/site-packages/pymongo/mongo_client.py?line=1272'>1273</a>\u001b[0m )\n\u001b[1;32m-> <a href='file:///c%3A/python38-32/lib/site-packages/pymongo/mongo_client.py?line=1273'>1274</a>\u001b[0m \u001b[39mreturn\u001b[39;00m \u001b[39mself\u001b[39;49m\u001b[39m.\u001b[39;49m_retry_internal(retryable, func, session, bulk)\n",
      "File \u001b[1;32mC:\\python38-32\\lib\\site-packages\\pymongo\\mongo_client.py:1307\u001b[0m, in \u001b[0;36mMongoClient._retry_internal\u001b[1;34m(self, retryable, func, session, bulk)\u001b[0m\n\u001b[0;32m   <a href='file:///c%3A/python38-32/lib/site-packages/pymongo/mongo_client.py?line=1304'>1305</a>\u001b[0m                 \u001b[39mraise\u001b[39;00m last_error\n\u001b[0;32m   <a href='file:///c%3A/python38-32/lib/site-packages/pymongo/mongo_client.py?line=1305'>1306</a>\u001b[0m             retryable \u001b[39m=\u001b[39m \u001b[39mFalse\u001b[39;00m\n\u001b[1;32m-> <a href='file:///c%3A/python38-32/lib/site-packages/pymongo/mongo_client.py?line=1306'>1307</a>\u001b[0m         \u001b[39mreturn\u001b[39;00m func(session, sock_info, retryable)\n\u001b[0;32m   <a href='file:///c%3A/python38-32/lib/site-packages/pymongo/mongo_client.py?line=1307'>1308</a>\u001b[0m \u001b[39mexcept\u001b[39;00m ServerSelectionTimeoutError:\n\u001b[0;32m   <a href='file:///c%3A/python38-32/lib/site-packages/pymongo/mongo_client.py?line=1308'>1309</a>\u001b[0m     \u001b[39mif\u001b[39;00m is_retrying():\n\u001b[0;32m   <a href='file:///c%3A/python38-32/lib/site-packages/pymongo/mongo_client.py?line=1309'>1310</a>\u001b[0m         \u001b[39m# The application may think the write was never attempted\u001b[39;00m\n\u001b[0;32m   <a href='file:///c%3A/python38-32/lib/site-packages/pymongo/mongo_client.py?line=1310'>1311</a>\u001b[0m         \u001b[39m# if we raise ServerSelectionTimeoutError on the retry\u001b[39;00m\n\u001b[0;32m   <a href='file:///c%3A/python38-32/lib/site-packages/pymongo/mongo_client.py?line=1311'>1312</a>\u001b[0m         \u001b[39m# attempt. Raise the original exception instead.\u001b[39;00m\n",
      "File \u001b[1;32mC:\\python38-32\\lib\\site-packages\\pymongo\\bulk.py:346\u001b[0m, in \u001b[0;36m_Bulk.execute_command.<locals>.retryable_bulk\u001b[1;34m(session, sock_info, retryable)\u001b[0m\n\u001b[0;32m    <a href='file:///c%3A/python38-32/lib/site-packages/pymongo/bulk.py?line=344'>345</a>\u001b[0m \u001b[39mdef\u001b[39;00m \u001b[39mretryable_bulk\u001b[39m(session, sock_info, retryable):\n\u001b[1;32m--> <a href='file:///c%3A/python38-32/lib/site-packages/pymongo/bulk.py?line=345'>346</a>\u001b[0m     \u001b[39mself\u001b[39;49m\u001b[39m.\u001b[39;49m_execute_command(\n\u001b[0;32m    <a href='file:///c%3A/python38-32/lib/site-packages/pymongo/bulk.py?line=346'>347</a>\u001b[0m         generator, write_concern, session, sock_info, op_id, retryable, full_result\n\u001b[0;32m    <a href='file:///c%3A/python38-32/lib/site-packages/pymongo/bulk.py?line=347'>348</a>\u001b[0m     )\n",
      "File \u001b[1;32mC:\\python38-32\\lib\\site-packages\\pymongo\\bulk.py:303\u001b[0m, in \u001b[0;36m_Bulk._execute_command\u001b[1;34m(self, generator, write_concern, session, sock_info, op_id, retryable, full_result)\u001b[0m\n\u001b[0;32m    <a href='file:///c%3A/python38-32/lib/site-packages/pymongo/bulk.py?line=300'>301</a>\u001b[0m ops \u001b[39m=\u001b[39m islice(run\u001b[39m.\u001b[39mops, run\u001b[39m.\u001b[39midx_offset, \u001b[39mNone\u001b[39;00m)\n\u001b[0;32m    <a href='file:///c%3A/python38-32/lib/site-packages/pymongo/bulk.py?line=301'>302</a>\u001b[0m \u001b[39m# Run as many ops as possible in one command.\u001b[39;00m\n\u001b[1;32m--> <a href='file:///c%3A/python38-32/lib/site-packages/pymongo/bulk.py?line=302'>303</a>\u001b[0m result, to_send \u001b[39m=\u001b[39m bwc\u001b[39m.\u001b[39;49mexecute(cmd, ops, client)\n\u001b[0;32m    <a href='file:///c%3A/python38-32/lib/site-packages/pymongo/bulk.py?line=304'>305</a>\u001b[0m \u001b[39m# Retryable writeConcernErrors halt the execution of this run.\u001b[39;00m\n\u001b[0;32m    <a href='file:///c%3A/python38-32/lib/site-packages/pymongo/bulk.py?line=305'>306</a>\u001b[0m wce \u001b[39m=\u001b[39m result\u001b[39m.\u001b[39mget(\u001b[39m\"\u001b[39m\u001b[39mwriteConcernError\u001b[39m\u001b[39m\"\u001b[39m, {})\n",
      "File \u001b[1;32mC:\\python38-32\\lib\\site-packages\\pymongo\\message.py:876\u001b[0m, in \u001b[0;36m_BulkWriteContext.execute\u001b[1;34m(self, cmd, docs, client)\u001b[0m\n\u001b[0;32m    <a href='file:///c%3A/python38-32/lib/site-packages/pymongo/message.py?line=874'>875</a>\u001b[0m \u001b[39mdef\u001b[39;00m \u001b[39mexecute\u001b[39m(\u001b[39mself\u001b[39m, cmd, docs, client):\n\u001b[1;32m--> <a href='file:///c%3A/python38-32/lib/site-packages/pymongo/message.py?line=875'>876</a>\u001b[0m     request_id, msg, to_send \u001b[39m=\u001b[39m \u001b[39mself\u001b[39;49m\u001b[39m.\u001b[39;49m_batch_command(cmd, docs)\n\u001b[0;32m    <a href='file:///c%3A/python38-32/lib/site-packages/pymongo/message.py?line=876'>877</a>\u001b[0m     result \u001b[39m=\u001b[39m \u001b[39mself\u001b[39m\u001b[39m.\u001b[39mwrite_command(cmd, request_id, msg, to_send)\n\u001b[0;32m    <a href='file:///c%3A/python38-32/lib/site-packages/pymongo/message.py?line=877'>878</a>\u001b[0m     client\u001b[39m.\u001b[39m_process_response(result, \u001b[39mself\u001b[39m\u001b[39m.\u001b[39msession)\n",
      "File \u001b[1;32mC:\\python38-32\\lib\\site-packages\\pymongo\\message.py:868\u001b[0m, in \u001b[0;36m_BulkWriteContext._batch_command\u001b[1;34m(self, cmd, docs)\u001b[0m\n\u001b[0;32m    <a href='file:///c%3A/python38-32/lib/site-packages/pymongo/message.py?line=865'>866</a>\u001b[0m \u001b[39mdef\u001b[39;00m \u001b[39m_batch_command\u001b[39m(\u001b[39mself\u001b[39m, cmd, docs):\n\u001b[0;32m    <a href='file:///c%3A/python38-32/lib/site-packages/pymongo/message.py?line=866'>867</a>\u001b[0m     namespace \u001b[39m=\u001b[39m \u001b[39mself\u001b[39m\u001b[39m.\u001b[39mdb_name \u001b[39m+\u001b[39m \u001b[39m\"\u001b[39m\u001b[39m.$cmd\u001b[39m\u001b[39m\"\u001b[39m\n\u001b[1;32m--> <a href='file:///c%3A/python38-32/lib/site-packages/pymongo/message.py?line=867'>868</a>\u001b[0m     request_id, msg, to_send \u001b[39m=\u001b[39m _do_batched_op_msg(\n\u001b[0;32m    <a href='file:///c%3A/python38-32/lib/site-packages/pymongo/message.py?line=868'>869</a>\u001b[0m         namespace, \u001b[39mself\u001b[39;49m\u001b[39m.\u001b[39;49mop_type, cmd, docs, \u001b[39mself\u001b[39;49m\u001b[39m.\u001b[39;49mcheck_keys, \u001b[39mself\u001b[39;49m\u001b[39m.\u001b[39;49mcodec, \u001b[39mself\u001b[39;49m\n\u001b[0;32m    <a href='file:///c%3A/python38-32/lib/site-packages/pymongo/message.py?line=869'>870</a>\u001b[0m     )\n\u001b[0;32m    <a href='file:///c%3A/python38-32/lib/site-packages/pymongo/message.py?line=870'>871</a>\u001b[0m     \u001b[39mif\u001b[39;00m \u001b[39mnot\u001b[39;00m to_send:\n\u001b[0;32m    <a href='file:///c%3A/python38-32/lib/site-packages/pymongo/message.py?line=871'>872</a>\u001b[0m         \u001b[39mraise\u001b[39;00m InvalidOperation(\u001b[39m\"\u001b[39m\u001b[39mcannot do an empty bulk write\u001b[39m\u001b[39m\"\u001b[39m)\n",
      "File \u001b[1;32mC:\\python38-32\\lib\\site-packages\\pymongo\\message.py:1209\u001b[0m, in \u001b[0;36m_do_batched_op_msg\u001b[1;34m(namespace, operation, command, docs, check_keys, opts, ctx)\u001b[0m\n\u001b[0;32m   <a href='file:///c%3A/python38-32/lib/site-packages/pymongo/message.py?line=1206'>1207</a>\u001b[0m \u001b[39mif\u001b[39;00m ctx\u001b[39m.\u001b[39msock_info\u001b[39m.\u001b[39mcompression_context:\n\u001b[0;32m   <a href='file:///c%3A/python38-32/lib/site-packages/pymongo/message.py?line=1207'>1208</a>\u001b[0m     \u001b[39mreturn\u001b[39;00m _batched_op_msg_compressed(operation, command, docs, check_keys, ack, opts, ctx)\n\u001b[1;32m-> <a href='file:///c%3A/python38-32/lib/site-packages/pymongo/message.py?line=1208'>1209</a>\u001b[0m \u001b[39mreturn\u001b[39;00m _batched_op_msg(operation, command, docs, check_keys, ack, opts, ctx)\n",
      "\u001b[1;31mInvalidDocument\u001b[0m: cannot encode object: Decimal('7782'), of type: <class 'decimal.Decimal'>"
     ]
    }
   ],
   "source": [
    "db.emp.insert_many(result)"
   ]
  },
  {
   "cell_type": "code",
   "execution_count": null,
   "metadata": {},
   "outputs": [],
   "source": [
    "db.emp.find_one()"
   ]
  },
  {
   "cell_type": "code",
   "execution_count": null,
   "metadata": {},
   "outputs": [
    {
     "ename": "TypeError",
     "evalue": "'dict' object is not callable",
     "output_type": "error",
     "traceback": [
      "\u001b[1;31m---------------------------------------------------------------------------\u001b[0m",
      "\u001b[1;31mTypeError\u001b[0m                                 Traceback (most recent call last)",
      "\u001b[1;32mc:\\Users\\spaceastonomy\\Desktop\\실습\\220317\\mongo\\220317.ipynb Cell 16'\u001b[0m in \u001b[0;36m<cell line: 1>\u001b[1;34m()\u001b[0m\n\u001b[1;32m----> <a href='vscode-notebook-cell:/c%3A/Users/spaceastonomy/Desktop/%EC%8B%A4%EC%8A%B5/220317/mongo/220317.ipynb#ch0000015?line=0'>1</a>\u001b[0m \u001b[39mlist\u001b[39;49m(db\u001b[39m.\u001b[39;49memp\u001b[39m.\u001b[39;49mfind(\n\u001b[0;32m      <a href='vscode-notebook-cell:/c%3A/Users/spaceastonomy/Desktop/%EC%8B%A4%EC%8A%B5/220317/mongo/220317.ipynb#ch0000015?line=1'>2</a>\u001b[0m     {\n\u001b[0;32m      <a href='vscode-notebook-cell:/c%3A/Users/spaceastonomy/Desktop/%EC%8B%A4%EC%8A%B5/220317/mongo/220317.ipynb#ch0000015?line=2'>3</a>\u001b[0m         \u001b[39m\"\u001b[39;49m\u001b[39mENAME\u001b[39;49m\u001b[39m\"\u001b[39;49m : \u001b[39m\"\u001b[39;49m\u001b[39mSMITH\u001b[39;49m\u001b[39m\"\u001b[39;49m\n\u001b[0;32m      <a href='vscode-notebook-cell:/c%3A/Users/spaceastonomy/Desktop/%EC%8B%A4%EC%8A%B5/220317/mongo/220317.ipynb#ch0000015?line=3'>4</a>\u001b[0m     }\n\u001b[0;32m      <a href='vscode-notebook-cell:/c%3A/Users/spaceastonomy/Desktop/%EC%8B%A4%EC%8A%B5/220317/mongo/220317.ipynb#ch0000015?line=4'>5</a>\u001b[0m ))\n",
      "\u001b[1;31mTypeError\u001b[0m: 'dict' object is not callable"
     ]
    }
   ],
   "source": [
    "list(db.emp.find(\n",
    "    {\n",
    "        \"ENAME\" : \"SMITH\"\n",
    "    }\n",
    ")) #대소문자가 확실히 구분됨\n",
    "#SELECT * FROM emp WHERE ENAME = \"SMITH\""
   ]
  },
  {
   "cell_type": "code",
   "execution_count": null,
   "metadata": {},
   "outputs": [
    {
     "data": {
      "text/plain": [
       "<pymongo.cursor.Cursor at 0x1a36670>"
      ]
     },
     "execution_count": 25,
     "metadata": {},
     "output_type": "execute_result"
    }
   ],
   "source": [
    "db.emp.find(\n",
    "    {\n",
    "        \"ENAME\" : \"SMITH\"\n",
    "    }\n",
    ") #파이몽고의 "
   ]
  },
  {
   "cell_type": "code",
   "execution_count": null,
   "metadata": {},
   "outputs": [
    {
     "data": {
      "text/plain": [
       "pymongo.cursor.Cursor"
      ]
     },
     "execution_count": 22,
     "metadata": {},
     "output_type": "execute_result"
    }
   ],
   "source": [
    "type(db.emp.find())"
   ]
  },
  {
   "cell_type": "code",
   "execution_count": null,
   "metadata": {},
   "outputs": [
    {
     "name": "stdout",
     "output_type": "stream",
     "text": [
      "{'_id': ObjectId('6232b725f2ada82ce58d0ef2'), 'EMPNO': '7369', 'ENAME': 'SMITH', 'JOB': 'CLERK', 'MGR': '7902', 'HIREDATE': '1980-12-17', 'SAL': '800.00', 'DEPTNO': '20'}\n",
      "{'_id': ObjectId('6232b725f2ada82ce58d0ef3'), 'EMPNO': '7499', 'ENAME': 'ALLEN', 'JOB': 'SALESMAN', 'MGR': '7698', 'HIREDATE': '1981-02-20', 'SAL': '1600.00', 'COMM': '300.00', 'DEPTNO': '30'}\n",
      "{'_id': ObjectId('6232b725f2ada82ce58d0ef4'), 'EMPNO': '7521', 'ENAME': 'WARD', 'JOB': 'SALESMAN', 'MGR': '7698', 'HIREDATE': '1981-02-22', 'SAL': '1250.00', 'COMM': '500.00', 'DEPTNO': '30'}\n",
      "{'_id': ObjectId('6232b725f2ada82ce58d0ef5'), 'EMPNO': '7566', 'ENAME': 'JONES', 'JOB': 'MANAGER', 'MGR': '7839', 'HIREDATE': '1981-04-02', 'SAL': '2975.00', 'DEPTNO': '20'}\n",
      "{'_id': ObjectId('6232b725f2ada82ce58d0ef6'), 'EMPNO': '7654', 'ENAME': 'MARTIN', 'JOB': 'SALESMAN', 'MGR': '7698', 'HIREDATE': '1981-09-28', 'SAL': '1250.00', 'COMM': '1400.00', 'DEPTNO': '30'}\n",
      "{'_id': ObjectId('6232b725f2ada82ce58d0ef7'), 'EMPNO': '7698', 'ENAME': 'BLAKE', 'JOB': 'MANAGER', 'MGR': '7839', 'HIREDATE': '1981-05-01', 'SAL': '2850.00', 'DEPTNO': '30'}\n",
      "{'_id': ObjectId('6232b725f2ada82ce58d0ef8'), 'EMPNO': '7782', 'ENAME': 'CLARK', 'JOB': 'MANAGER', 'MGR': '7839', 'HIREDATE': '1981-06-09', 'SAL': '2450.00', 'DEPTNO': '10'}\n",
      "{'_id': ObjectId('6232b725f2ada82ce58d0ef9'), 'EMPNO': '7788', 'ENAME': 'SCOTT', 'JOB': 'ANALYST', 'MGR': '7566', 'HIREDATE': '1987-06-28', 'SAL': '3000.00', 'DEPTNO': '20'}\n",
      "{'_id': ObjectId('6232b725f2ada82ce58d0efa'), 'EMPNO': '7839', 'ENAME': 'KING', 'JOB': 'PRESIDENT', 'HIREDATE': '1981-11-17', 'SAL': '5000.00', 'DEPTNO': '10'}\n",
      "{'_id': ObjectId('6232b725f2ada82ce58d0efb'), 'EMPNO': '7844', 'ENAME': 'TURNER', 'JOB': 'SALESMAN', 'MGR': '7698', 'HIREDATE': '1981-09-08', 'SAL': '1500.00', 'COMM': '0.00', 'DEPTNO': '30'}\n",
      "{'_id': ObjectId('6232b725f2ada82ce58d0efc'), 'EMPNO': '7876', 'ENAME': 'ADAMS', 'JOB': 'CLERK', 'MGR': '7788', 'HIREDATE': '1987-07-13', 'SAL': '1100.00', 'DEPTNO': '20'}\n",
      "{'_id': ObjectId('6232b725f2ada82ce58d0efd'), 'EMPNO': '7900', 'ENAME': 'JAMES', 'JOB': 'CLERK', 'MGR': '7698', 'HIREDATE': '1981-12-03', 'SAL': '950.00', 'DEPTNO': '30'}\n",
      "{'_id': ObjectId('6232b725f2ada82ce58d0efe'), 'EMPNO': '7902', 'ENAME': 'FORD', 'JOB': 'ANALYST', 'MGR': '7566', 'HIREDATE': '1981-12-03', 'SAL': '3000.00', 'DEPTNO': '20'}\n",
      "{'_id': ObjectId('6232b725f2ada82ce58d0eff'), 'EMPNO': '7934', 'ENAME': 'MILLER', 'JOB': 'CLERK', 'MGR': '7782', 'HIREDATE': '1982-01-23', 'SAL': '1300.00', 'DEPTNO': '10'}\n"
     ]
    }
   ],
   "source": [
    "result = db.emp.find()\n",
    "\n",
    "for list in result:\n",
    "    print(list)"
   ]
  },
  {
   "cell_type": "code",
   "execution_count": null,
   "metadata": {},
   "outputs": [],
   "source": [
    "## emp collection \n",
    "## key 값이 EMPNO, ENAME, DEPTNO만 출력이 되도록 코드를 작성 "
   ]
  },
  {
   "cell_type": "code",
   "execution_count": null,
   "metadata": {},
   "outputs": [
    {
     "ename": "TypeError",
     "evalue": "'dict' object is not callable",
     "output_type": "error",
     "traceback": [
      "\u001b[1;31m---------------------------------------------------------------------------\u001b[0m",
      "\u001b[1;31mTypeError\u001b[0m                                 Traceback (most recent call last)",
      "\u001b[1;32mc:\\Users\\spaceastonomy\\Desktop\\실습\\220317\\mongo\\220317.ipynb Cell 21'\u001b[0m in \u001b[0;36m<cell line: 1>\u001b[1;34m()\u001b[0m\n\u001b[1;32m----> <a href='vscode-notebook-cell:/c%3A/Users/spaceastonomy/Desktop/%EC%8B%A4%EC%8A%B5/220317/mongo/220317.ipynb#ch0000020?line=0'>1</a>\u001b[0m \u001b[39mlist\u001b[39;49m(db\u001b[39m.\u001b[39;49memp\u001b[39m.\u001b[39;49mfind(\n\u001b[0;32m      <a href='vscode-notebook-cell:/c%3A/Users/spaceastonomy/Desktop/%EC%8B%A4%EC%8A%B5/220317/mongo/220317.ipynb#ch0000020?line=1'>2</a>\u001b[0m     {},                 \u001b[39m#where 절(첫번째 중가로 의미)\u001b[39;49;00m\n\u001b[0;32m      <a href='vscode-notebook-cell:/c%3A/Users/spaceastonomy/Desktop/%EC%8B%A4%EC%8A%B5/220317/mongo/220317.ipynb#ch0000020?line=2'>3</a>\u001b[0m     {\u001b[39m\"\u001b[39;49m\u001b[39mEMPNO\u001b[39;49m\u001b[39m\"\u001b[39;49m : \u001b[39m1\u001b[39;49m,                   \u001b[39m#column 절(두번째 중가로 의미)\u001b[39;49;00m\n\u001b[0;32m      <a href='vscode-notebook-cell:/c%3A/Users/spaceastonomy/Desktop/%EC%8B%A4%EC%8A%B5/220317/mongo/220317.ipynb#ch0000020?line=3'>4</a>\u001b[0m      \u001b[39m\"\u001b[39;49m\u001b[39mENAME\u001b[39;49m\u001b[39m\"\u001b[39;49m : \u001b[39m1\u001b[39;49m,\n\u001b[0;32m      <a href='vscode-notebook-cell:/c%3A/Users/spaceastonomy/Desktop/%EC%8B%A4%EC%8A%B5/220317/mongo/220317.ipynb#ch0000020?line=4'>5</a>\u001b[0m      \u001b[39m\"\u001b[39;49m\u001b[39mDEPTNO\u001b[39;49m\u001b[39m\"\u001b[39;49m : \u001b[39m1\u001b[39;49m}\n\u001b[0;32m      <a href='vscode-notebook-cell:/c%3A/Users/spaceastonomy/Desktop/%EC%8B%A4%EC%8A%B5/220317/mongo/220317.ipynb#ch0000020?line=5'>6</a>\u001b[0m ))\n",
      "\u001b[1;31mTypeError\u001b[0m: 'dict' object is not callable"
     ]
    }
   ],
   "source": [
    "list(db.emp.find(\n",
    "    {},                 #where 절(첫번째 중가로 의미)\n",
    "    {\"EMPNO\" : 1,                   #column 절(두번째 중가로 의미)\n",
    "     \"ENAME\" : 1,\n",
    "     \"DEPTNO\" : 1}\n",
    "))"
   ]
  },
  {
   "cell_type": "code",
   "execution_count": null,
   "metadata": {},
   "outputs": [
    {
     "name": "stdout",
     "output_type": "stream",
     "text": [
      "{'_id': ObjectId('6232b725f2ada82ce58d0ef2'), 'EMPNO': '7369', 'ENAME': 'SMITH', 'DEPTNO': '20'}\n",
      "{'_id': ObjectId('6232b725f2ada82ce58d0ef3'), 'EMPNO': '7499', 'ENAME': 'ALLEN', 'DEPTNO': '30'}\n",
      "{'_id': ObjectId('6232b725f2ada82ce58d0ef4'), 'EMPNO': '7521', 'ENAME': 'WARD', 'DEPTNO': '30'}\n",
      "{'_id': ObjectId('6232b725f2ada82ce58d0ef5'), 'EMPNO': '7566', 'ENAME': 'JONES', 'DEPTNO': '20'}\n",
      "{'_id': ObjectId('6232b725f2ada82ce58d0ef6'), 'EMPNO': '7654', 'ENAME': 'MARTIN', 'DEPTNO': '30'}\n",
      "{'_id': ObjectId('6232b725f2ada82ce58d0ef7'), 'EMPNO': '7698', 'ENAME': 'BLAKE', 'DEPTNO': '30'}\n",
      "{'_id': ObjectId('6232b725f2ada82ce58d0ef8'), 'EMPNO': '7782', 'ENAME': 'CLARK', 'DEPTNO': '10'}\n",
      "{'_id': ObjectId('6232b725f2ada82ce58d0ef9'), 'EMPNO': '7788', 'ENAME': 'SCOTT', 'DEPTNO': '20'}\n",
      "{'_id': ObjectId('6232b725f2ada82ce58d0efa'), 'EMPNO': '7839', 'ENAME': 'KING', 'DEPTNO': '10'}\n",
      "{'_id': ObjectId('6232b725f2ada82ce58d0efb'), 'EMPNO': '7844', 'ENAME': 'TURNER', 'DEPTNO': '30'}\n",
      "{'_id': ObjectId('6232b725f2ada82ce58d0efc'), 'EMPNO': '7876', 'ENAME': 'ADAMS', 'DEPTNO': '20'}\n",
      "{'_id': ObjectId('6232b725f2ada82ce58d0efd'), 'EMPNO': '7900', 'ENAME': 'JAMES', 'DEPTNO': '30'}\n",
      "{'_id': ObjectId('6232b725f2ada82ce58d0efe'), 'EMPNO': '7902', 'ENAME': 'FORD', 'DEPTNO': '20'}\n",
      "{'_id': ObjectId('6232b725f2ada82ce58d0eff'), 'EMPNO': '7934', 'ENAME': 'MILLER', 'DEPTNO': '10'}\n"
     ]
    }
   ],
   "source": [
    "result = db.emp.find(\n",
    "    {},                 #where 절(첫번째 중가로 의미)\n",
    "    {\"EMPNO\" : 1,                   #column 절(두번째 중가로 의미)\n",
    "     \"ENAME\" : 1,\n",
    "     \"DEPTNO\" : 1}\n",
    ")\n",
    "for list in result:\n",
    "    print(list)"
   ]
  },
  {
   "cell_type": "code",
   "execution_count": null,
   "metadata": {},
   "outputs": [],
   "source": [
    "import pprint"
   ]
  },
  {
   "cell_type": "code",
   "execution_count": null,
   "metadata": {},
   "outputs": [
    {
     "name": "stdout",
     "output_type": "stream",
     "text": [
      "{'DEPTNO': '20',\n",
      " 'EMPNO': '7876',\n",
      " 'ENAME': 'ADAMS',\n",
      " 'HIREDATE': '1987-07-13',\n",
      " 'JOB': 'CLERK',\n",
      " 'MGR': '7788',\n",
      " 'SAL': '1100.00',\n",
      " '_id': ObjectId('6232b725f2ada82ce58d0efc')}\n",
      "{'COMM': '300.00',\n",
      " 'DEPTNO': '30',\n",
      " 'EMPNO': '7499',\n",
      " 'ENAME': 'ALLEN',\n",
      " 'HIREDATE': '1981-02-20',\n",
      " 'JOB': 'SALESMAN',\n",
      " 'MGR': '7698',\n",
      " 'SAL': '1600.00',\n",
      " '_id': ObjectId('6232b725f2ada82ce58d0ef3')}\n",
      "{'DEPTNO': '30',\n",
      " 'EMPNO': '7698',\n",
      " 'ENAME': 'BLAKE',\n",
      " 'HIREDATE': '1981-05-01',\n",
      " 'JOB': 'MANAGER',\n",
      " 'MGR': '7839',\n",
      " 'SAL': '2850.00',\n",
      " '_id': ObjectId('6232b725f2ada82ce58d0ef7')}\n",
      "{'DEPTNO': '10',\n",
      " 'EMPNO': '7782',\n",
      " 'ENAME': 'CLARK',\n",
      " 'HIREDATE': '1981-06-09',\n",
      " 'JOB': 'MANAGER',\n",
      " 'MGR': '7839',\n",
      " 'SAL': '2450.00',\n",
      " '_id': ObjectId('6232b725f2ada82ce58d0ef8')}\n",
      "{'DEPTNO': '20',\n",
      " 'EMPNO': '7902',\n",
      " 'ENAME': 'FORD',\n",
      " 'HIREDATE': '1981-12-03',\n",
      " 'JOB': 'ANALYST',\n",
      " 'MGR': '7566',\n",
      " 'SAL': '3000.00',\n",
      " '_id': ObjectId('6232b725f2ada82ce58d0efe')}\n",
      "{'DEPTNO': '30',\n",
      " 'EMPNO': '7900',\n",
      " 'ENAME': 'JAMES',\n",
      " 'HIREDATE': '1981-12-03',\n",
      " 'JOB': 'CLERK',\n",
      " 'MGR': '7698',\n",
      " 'SAL': '950.00',\n",
      " '_id': ObjectId('6232b725f2ada82ce58d0efd')}\n",
      "{'DEPTNO': '20',\n",
      " 'EMPNO': '7566',\n",
      " 'ENAME': 'JONES',\n",
      " 'HIREDATE': '1981-04-02',\n",
      " 'JOB': 'MANAGER',\n",
      " 'MGR': '7839',\n",
      " 'SAL': '2975.00',\n",
      " '_id': ObjectId('6232b725f2ada82ce58d0ef5')}\n",
      "{'DEPTNO': '10',\n",
      " 'EMPNO': '7839',\n",
      " 'ENAME': 'KING',\n",
      " 'HIREDATE': '1981-11-17',\n",
      " 'JOB': 'PRESIDENT',\n",
      " 'SAL': '5000.00',\n",
      " '_id': ObjectId('6232b725f2ada82ce58d0efa')}\n",
      "{'COMM': '1400.00',\n",
      " 'DEPTNO': '30',\n",
      " 'EMPNO': '7654',\n",
      " 'ENAME': 'MARTIN',\n",
      " 'HIREDATE': '1981-09-28',\n",
      " 'JOB': 'SALESMAN',\n",
      " 'MGR': '7698',\n",
      " 'SAL': '1250.00',\n",
      " '_id': ObjectId('6232b725f2ada82ce58d0ef6')}\n",
      "{'DEPTNO': '10',\n",
      " 'EMPNO': '7934',\n",
      " 'ENAME': 'MILLER',\n",
      " 'HIREDATE': '1982-01-23',\n",
      " 'JOB': 'CLERK',\n",
      " 'MGR': '7782',\n",
      " 'SAL': '1300.00',\n",
      " '_id': ObjectId('6232b725f2ada82ce58d0eff')}\n",
      "{'DEPTNO': '20',\n",
      " 'EMPNO': '7788',\n",
      " 'ENAME': 'SCOTT',\n",
      " 'HIREDATE': '1987-06-28',\n",
      " 'JOB': 'ANALYST',\n",
      " 'MGR': '7566',\n",
      " 'SAL': '3000.00',\n",
      " '_id': ObjectId('6232b725f2ada82ce58d0ef9')}\n",
      "{'DEPTNO': '20',\n",
      " 'EMPNO': '7369',\n",
      " 'ENAME': 'SMITH',\n",
      " 'HIREDATE': '1980-12-17',\n",
      " 'JOB': 'CLERK',\n",
      " 'MGR': '7902',\n",
      " 'SAL': '800.00',\n",
      " '_id': ObjectId('6232b725f2ada82ce58d0ef2')}\n",
      "{'COMM': '0.00',\n",
      " 'DEPTNO': '30',\n",
      " 'EMPNO': '7844',\n",
      " 'ENAME': 'TURNER',\n",
      " 'HIREDATE': '1981-09-08',\n",
      " 'JOB': 'SALESMAN',\n",
      " 'MGR': '7698',\n",
      " 'SAL': '1500.00',\n",
      " '_id': ObjectId('6232b725f2ada82ce58d0efb')}\n",
      "{'COMM': '500.00',\n",
      " 'DEPTNO': '30',\n",
      " 'EMPNO': '7521',\n",
      " 'ENAME': 'WARD',\n",
      " 'HIREDATE': '1981-02-22',\n",
      " 'JOB': 'SALESMAN',\n",
      " 'MGR': '7698',\n",
      " 'SAL': '1250.00',\n",
      " '_id': ObjectId('6232b725f2ada82ce58d0ef4')}\n"
     ]
    }
   ],
   "source": [
    "result = db.emp.find().sort(\"ENAME\")\n",
    "\n",
    "for list in result:\n",
    "    pprint.pprint(list)"
   ]
  },
  {
   "cell_type": "code",
   "execution_count": 31,
   "metadata": {},
   "outputs": [
    {
     "name": "stdout",
     "output_type": "stream",
     "text": [
      "{'DEPTNO': 20,\n",
      " 'EMPNO': 7876,\n",
      " 'ENAME': 'ADAMS',\n",
      " 'HIREDATE': 1987,\n",
      " 'JOB': 'CLERK',\n",
      " 'MGR': 7788,\n",
      " 'SAL': 1100.0,\n",
      " '_id': ObjectId('6232c6ddf2ada82ce58d0f0c')}\n",
      "{'COMM': 300,\n",
      " 'DEPTNO': 30,\n",
      " 'EMPNO': 7499,\n",
      " 'ENAME': 'ALLEN',\n",
      " 'HIREDATE': 1981,\n",
      " 'JOB': 'SALESMAN',\n",
      " 'MGR': 7698,\n",
      " 'SAL': 1600.0,\n",
      " '_id': ObjectId('6232c6ddf2ada82ce58d0f03')}\n",
      "{'DEPTNO': 30,\n",
      " 'EMPNO': 7698,\n",
      " 'ENAME': 'BLAKE',\n",
      " 'HIREDATE': 1981,\n",
      " 'JOB': 'MANAGER',\n",
      " 'MGR': 7839,\n",
      " 'SAL': 2850.0,\n",
      " '_id': ObjectId('6232c6ddf2ada82ce58d0f07')}\n",
      "{'DEPTNO': 10,\n",
      " 'EMPNO': 7782,\n",
      " 'ENAME': 'CLARK',\n",
      " 'HIREDATE': 1981,\n",
      " 'JOB': 'MANAGER',\n",
      " 'MGR': 7839,\n",
      " 'SAL': 2450.0,\n",
      " '_id': ObjectId('6232c6ddf2ada82ce58d0f08')}\n",
      "{'DEPTNO': 20,\n",
      " 'EMPNO': 7902,\n",
      " 'ENAME': 'FORD',\n",
      " 'HIREDATE': 1981,\n",
      " 'JOB': 'ANALYST',\n",
      " 'MGR': 7566,\n",
      " 'SAL': 3000.0,\n",
      " '_id': ObjectId('6232c6ddf2ada82ce58d0f0e')}\n",
      "{'DEPTNO': 30,\n",
      " 'EMPNO': 7900,\n",
      " 'ENAME': 'JAMES',\n",
      " 'HIREDATE': 1981,\n",
      " 'JOB': 'CLERK',\n",
      " 'MGR': 7698,\n",
      " 'SAL': 950.0,\n",
      " '_id': ObjectId('6232c6ddf2ada82ce58d0f0d')}\n",
      "{'DEPTNO': 20,\n",
      " 'EMPNO': 7566,\n",
      " 'ENAME': 'JONES',\n",
      " 'HIREDATE': 1981,\n",
      " 'JOB': 'MANAGER',\n",
      " 'MGR': 7839,\n",
      " 'SAL': 2975.0,\n",
      " '_id': ObjectId('6232c6ddf2ada82ce58d0f05')}\n",
      "{'DEPTNO': 10,\n",
      " 'EMPNO': 7839,\n",
      " 'ENAME': 'KING',\n",
      " 'HIREDATE': 1981,\n",
      " 'JOB': 'PRESIDENT',\n",
      " 'SAL': 5000.0,\n",
      " '_id': ObjectId('6232c6ddf2ada82ce58d0f0a')}\n",
      "{'COMM': 1400,\n",
      " 'DEPTNO': 30,\n",
      " 'EMPNO': 7654,\n",
      " 'ENAME': 'MARTIN',\n",
      " 'HIREDATE': 1981,\n",
      " 'JOB': 'SALESMAN',\n",
      " 'MGR': 7698,\n",
      " 'SAL': 1250.0,\n",
      " '_id': ObjectId('6232c6ddf2ada82ce58d0f06')}\n",
      "{'DEPTNO': 10,\n",
      " 'EMPNO': 7934,\n",
      " 'ENAME': 'MILLER',\n",
      " 'HIREDATE': 1982,\n",
      " 'JOB': 'CLERK',\n",
      " 'MGR': 7782,\n",
      " 'SAL': 1300.0,\n",
      " '_id': ObjectId('6232c6ddf2ada82ce58d0f0f')}\n",
      "{'DEPTNO': 20,\n",
      " 'EMPNO': 7788,\n",
      " 'ENAME': 'SCOTT',\n",
      " 'HIREDATE': 1987,\n",
      " 'JOB': 'ANALYST',\n",
      " 'MGR': 7566,\n",
      " 'SAL': 3000.0,\n",
      " '_id': ObjectId('6232c6ddf2ada82ce58d0f09')}\n",
      "{'DEPTNO': 20,\n",
      " 'EMPNO': 7369,\n",
      " 'ENAME': 'SMITH',\n",
      " 'HIREDATE': 1980,\n",
      " 'JOB': 'CLERK',\n",
      " 'MGR': 7902,\n",
      " 'SAL': 800.0,\n",
      " '_id': ObjectId('6232c6ddf2ada82ce58d0f02')}\n",
      "{'COMM': 0,\n",
      " 'DEPTNO': 30,\n",
      " 'EMPNO': 7844,\n",
      " 'ENAME': 'TURNER',\n",
      " 'HIREDATE': 1981,\n",
      " 'JOB': 'SALESMAN',\n",
      " 'MGR': 7698,\n",
      " 'SAL': 1500.0,\n",
      " '_id': ObjectId('6232c6ddf2ada82ce58d0f0b')}\n",
      "{'COMM': 500,\n",
      " 'DEPTNO': 30,\n",
      " 'EMPNO': 7521,\n",
      " 'ENAME': 'WARD',\n",
      " 'HIREDATE': 1981,\n",
      " 'JOB': 'SALESMAN',\n",
      " 'MGR': 7698,\n",
      " 'SAL': 1250.0,\n",
      " '_id': ObjectId('6232c6ddf2ada82ce58d0f04')}\n"
     ]
    }
   ],
   "source": [
    "result = db.emp.find().sort(\"ENAME\")\n",
    "\n",
    "for list in result:\n",
    "    pprint.pprint(list)\n",
    "\n",
    "# SELECT * FROM emp ORDER BY ENAME"
   ]
  },
  {
   "cell_type": "code",
   "execution_count": 38,
   "metadata": {},
   "outputs": [
    {
     "ename": "SyntaxError",
     "evalue": "unmatched ')' (3227398421.py, line 8)",
     "output_type": "error",
     "traceback": [
      "\u001b[1;36m  Input \u001b[1;32mIn [38]\u001b[1;36m\u001b[0m\n\u001b[1;33m    ))\u001b[0m\n\u001b[1;37m     ^\u001b[0m\n\u001b[1;31mSyntaxError\u001b[0m\u001b[1;31m:\u001b[0m unmatched ')'\n"
     ]
    }
   ],
   "source": [
    "#급여가 2000보다 크거나 같은 데이터만 출력\n",
    "result = db.emp.find(\n",
    "    {\n",
    "        \"SAL\" : {\n",
    "            \"$gte\": 2450\n",
    "        }\n",
    "    }\n",
    "))\n",
    "for list in result:\n",
    "    pprint.pprint(list)\n",
    "\n",
    "# SELECT * FROM WHERE SAL >= 2000\n"
   ]
  },
  {
   "cell_type": "code",
   "execution_count": 40,
   "metadata": {},
   "outputs": [
    {
     "name": "stdout",
     "output_type": "stream",
     "text": [
      "{'DEPTNO': 20,\n",
      " 'EMPNO': 7369,\n",
      " 'ENAME': 'SMITH',\n",
      " 'HIREDATE': 1980,\n",
      " 'JOB': 'CLERK',\n",
      " 'MGR': 7902,\n",
      " 'SAL': 800.0,\n",
      " '_id': ObjectId('6232c6ddf2ada82ce58d0f02')}\n",
      "{'COMM': 300,\n",
      " 'DEPTNO': 30,\n",
      " 'EMPNO': 7499,\n",
      " 'ENAME': 'ALLEN',\n",
      " 'HIREDATE': 1981,\n",
      " 'JOB': 'SALESMAN',\n",
      " 'MGR': 7698,\n",
      " 'SAL': 1600.0,\n",
      " '_id': ObjectId('6232c6ddf2ada82ce58d0f03')}\n",
      "{'COMM': 500,\n",
      " 'DEPTNO': 30,\n",
      " 'EMPNO': 7521,\n",
      " 'ENAME': 'WARD',\n",
      " 'HIREDATE': 1981,\n",
      " 'JOB': 'SALESMAN',\n",
      " 'MGR': 7698,\n",
      " 'SAL': 1250.0,\n",
      " '_id': ObjectId('6232c6ddf2ada82ce58d0f04')}\n",
      "{'COMM': 1400,\n",
      " 'DEPTNO': 30,\n",
      " 'EMPNO': 7654,\n",
      " 'ENAME': 'MARTIN',\n",
      " 'HIREDATE': 1981,\n",
      " 'JOB': 'SALESMAN',\n",
      " 'MGR': 7698,\n",
      " 'SAL': 1250.0,\n",
      " '_id': ObjectId('6232c6ddf2ada82ce58d0f06')}\n",
      "{'COMM': 0,\n",
      " 'DEPTNO': 30,\n",
      " 'EMPNO': 7844,\n",
      " 'ENAME': 'TURNER',\n",
      " 'HIREDATE': 1981,\n",
      " 'JOB': 'SALESMAN',\n",
      " 'MGR': 7698,\n",
      " 'SAL': 1500.0,\n",
      " '_id': ObjectId('6232c6ddf2ada82ce58d0f0b')}\n",
      "{'DEPTNO': 20,\n",
      " 'EMPNO': 7876,\n",
      " 'ENAME': 'ADAMS',\n",
      " 'HIREDATE': 1987,\n",
      " 'JOB': 'CLERK',\n",
      " 'MGR': 7788,\n",
      " 'SAL': 1100.0,\n",
      " '_id': ObjectId('6232c6ddf2ada82ce58d0f0c')}\n",
      "{'DEPTNO': 30,\n",
      " 'EMPNO': 7900,\n",
      " 'ENAME': 'JAMES',\n",
      " 'HIREDATE': 1981,\n",
      " 'JOB': 'CLERK',\n",
      " 'MGR': 7698,\n",
      " 'SAL': 950.0,\n",
      " '_id': ObjectId('6232c6ddf2ada82ce58d0f0d')}\n",
      "{'DEPTNO': 10,\n",
      " 'EMPNO': 7934,\n",
      " 'ENAME': 'MILLER',\n",
      " 'HIREDATE': 1982,\n",
      " 'JOB': 'CLERK',\n",
      " 'MGR': 7782,\n",
      " 'SAL': 1300.0,\n",
      " '_id': ObjectId('6232c6ddf2ada82ce58d0f0f')}\n"
     ]
    }
   ],
   "source": [
    "#급여가 2000보다 작은 데이터만 출력\n",
    "result = db.emp.find(\n",
    "    {\n",
    "        \"SAL\" : {\n",
    "            \"$lt\": 2450\n",
    "        }\n",
    "    }\n",
    ")\n",
    "for list in result:\n",
    "    pprint.pprint(list)\n",
    "\n",
    "# SELECT * FROM WHERE SAL < 2000\n",
    "\n"
   ]
  },
  {
   "cell_type": "code",
   "execution_count": 44,
   "metadata": {},
   "outputs": [
    {
     "name": "stdout",
     "output_type": "stream",
     "text": [
      "{'_id': ObjectId('6232c6ddf2ada82ce58d0f02'), 'EMPNO': 7369, 'ENAME': 'SMITH', 'JOB': 'CLERK', 'MGR': 7902, 'HIREDATE': 1980, 'SAL': 800.0, 'DEPTNO': 20}\n",
      "{'_id': ObjectId('6232c6ddf2ada82ce58d0f03'), 'EMPNO': 7499, 'ENAME': 'ALLEN', 'JOB': 'SALESMAN', 'MGR': 7698, 'HIREDATE': 1981, 'SAL': 1600.0, 'COMM': 300, 'DEPTNO': 30}\n"
     ]
    }
   ],
   "source": [
    "#SELECT * FROM emp WHERE ENAME = SMITH OR ENAME = ALLEN\n",
    "result = db.emp.find(\n",
    "    {\n",
    "        \"$or\" : [\n",
    "            {\n",
    "            \"ENAME\": \"SMITH\"\n",
    "        },\n",
    "        {\n",
    "            \"ENAME\" : \"ALLEN\"\n",
    "        }\n",
    "        ]\n",
    "    }\n",
    ")\n",
    "for list in result:\n",
    "    print(list)\n",
    "\n",
    "\n"
   ]
  },
  {
   "cell_type": "code",
   "execution_count": 42,
   "metadata": {},
   "outputs": [
    {
     "name": "stdout",
     "output_type": "stream",
     "text": [
      "{'_id': ObjectId('6232c6ddf2ada82ce58d0f02'), 'EMPNO': 7369, 'ENAME': 'SMITH', 'JOB': 'CLERK', 'MGR': 7902, 'HIREDATE': 1980, 'SAL': 800.0, 'DEPTNO': 20}\n"
     ]
    }
   ],
   "source": [
    "#SELECT * FROM emp WHERE ENAME = SMITH AND JOB = CLERK\n",
    "result = db.emp.find(\n",
    "    {\n",
    "        \"ENAME\" : \"SMITH\",\n",
    "        \"JOB\" : \"CLERK\"\n",
    "    }\n",
    ")\n",
    "for list in result:\n",
    "    print(list)"
   ]
  },
  {
   "cell_type": "code",
   "execution_count": 47,
   "metadata": {},
   "outputs": [
    {
     "data": {
      "text/html": [
       "<div>\n",
       "<style scoped>\n",
       "    .dataframe tbody tr th:only-of-type {\n",
       "        vertical-align: middle;\n",
       "    }\n",
       "\n",
       "    .dataframe tbody tr th {\n",
       "        vertical-align: top;\n",
       "    }\n",
       "\n",
       "    .dataframe thead th {\n",
       "        text-align: right;\n",
       "    }\n",
       "</style>\n",
       "<table border=\"1\" class=\"dataframe\">\n",
       "  <thead>\n",
       "    <tr style=\"text-align: right;\">\n",
       "      <th></th>\n",
       "      <th>EMPNO</th>\n",
       "      <th>ENAME</th>\n",
       "      <th>JOB</th>\n",
       "      <th>MGR</th>\n",
       "      <th>HIREDATE</th>\n",
       "      <th>SAL</th>\n",
       "      <th>DEPTNO</th>\n",
       "    </tr>\n",
       "  </thead>\n",
       "  <tbody>\n",
       "    <tr>\n",
       "      <th>0</th>\n",
       "      <td>7566</td>\n",
       "      <td>JONES</td>\n",
       "      <td>MANAGER</td>\n",
       "      <td>7839</td>\n",
       "      <td>1981</td>\n",
       "      <td>2975.0</td>\n",
       "      <td>20</td>\n",
       "    </tr>\n",
       "    <tr>\n",
       "      <th>1</th>\n",
       "      <td>7698</td>\n",
       "      <td>BLAKE</td>\n",
       "      <td>MANAGER</td>\n",
       "      <td>7839</td>\n",
       "      <td>1981</td>\n",
       "      <td>2850.0</td>\n",
       "      <td>30</td>\n",
       "    </tr>\n",
       "    <tr>\n",
       "      <th>2</th>\n",
       "      <td>7782</td>\n",
       "      <td>CLARK</td>\n",
       "      <td>MANAGER</td>\n",
       "      <td>7839</td>\n",
       "      <td>1981</td>\n",
       "      <td>2450.0</td>\n",
       "      <td>10</td>\n",
       "    </tr>\n",
       "    <tr>\n",
       "      <th>3</th>\n",
       "      <td>7788</td>\n",
       "      <td>SCOTT</td>\n",
       "      <td>ANALYST</td>\n",
       "      <td>7566</td>\n",
       "      <td>1987</td>\n",
       "      <td>3000.0</td>\n",
       "      <td>20</td>\n",
       "    </tr>\n",
       "    <tr>\n",
       "      <th>4</th>\n",
       "      <td>7902</td>\n",
       "      <td>FORD</td>\n",
       "      <td>ANALYST</td>\n",
       "      <td>7566</td>\n",
       "      <td>1981</td>\n",
       "      <td>3000.0</td>\n",
       "      <td>20</td>\n",
       "    </tr>\n",
       "  </tbody>\n",
       "</table>\n",
       "</div>"
      ],
      "text/plain": [
       "   EMPNO  ENAME      JOB   MGR  HIREDATE     SAL  DEPTNO\n",
       "0   7566  JONES  MANAGER  7839      1981  2975.0      20\n",
       "1   7698  BLAKE  MANAGER  7839      1981  2850.0      30\n",
       "2   7782  CLARK  MANAGER  7839      1981  2450.0      10\n",
       "3   7788  SCOTT  ANALYST  7566      1987  3000.0      20\n",
       "4   7902   FORD  ANALYST  7566      1981  3000.0      20"
      ]
     },
     "execution_count": 47,
     "metadata": {},
     "output_type": "execute_result"
    }
   ],
   "source": [
    "#SELECT * FROM emp WHERE SAL >= 2000 AND SAL < 4000\n",
    "result = db.emp.find(\n",
    "    {\n",
    "        \"SAL\" : {\n",
    "            \"$gte\" : 2000,\n",
    "            \"$lt\" : 4000\n",
    "        }\n",
    "    }, {\n",
    "        \"_id\" : 0\n",
    "    }\n",
    ")\n",
    "\n",
    "pd.DataFrame(result)"
   ]
  },
  {
   "cell_type": "code",
   "execution_count": 53,
   "metadata": {},
   "outputs": [
    {
     "data": {
      "text/html": [
       "<div>\n",
       "<style scoped>\n",
       "    .dataframe tbody tr th:only-of-type {\n",
       "        vertical-align: middle;\n",
       "    }\n",
       "\n",
       "    .dataframe tbody tr th {\n",
       "        vertical-align: top;\n",
       "    }\n",
       "\n",
       "    .dataframe thead th {\n",
       "        text-align: right;\n",
       "    }\n",
       "</style>\n",
       "<table border=\"1\" class=\"dataframe\">\n",
       "  <thead>\n",
       "    <tr style=\"text-align: right;\">\n",
       "      <th></th>\n",
       "      <th>_id</th>\n",
       "      <th>EMPNO</th>\n",
       "      <th>ENAME</th>\n",
       "      <th>JOB</th>\n",
       "      <th>MGR</th>\n",
       "      <th>HIREDATE</th>\n",
       "      <th>SAL</th>\n",
       "      <th>DEPTNO</th>\n",
       "    </tr>\n",
       "  </thead>\n",
       "  <tbody>\n",
       "    <tr>\n",
       "      <th>0</th>\n",
       "      <td>6232c6ddf2ada82ce58d0f02</td>\n",
       "      <td>7369</td>\n",
       "      <td>SMITH</td>\n",
       "      <td>CLERK</td>\n",
       "      <td>7902</td>\n",
       "      <td>1980</td>\n",
       "      <td>800.0</td>\n",
       "      <td>20</td>\n",
       "    </tr>\n",
       "    <tr>\n",
       "      <th>1</th>\n",
       "      <td>6232c6ddf2ada82ce58d0f09</td>\n",
       "      <td>7788</td>\n",
       "      <td>SCOTT</td>\n",
       "      <td>ANALYST</td>\n",
       "      <td>7566</td>\n",
       "      <td>1987</td>\n",
       "      <td>3000.0</td>\n",
       "      <td>20</td>\n",
       "    </tr>\n",
       "  </tbody>\n",
       "</table>\n",
       "</div>"
      ],
      "text/plain": [
       "                        _id  EMPNO  ENAME      JOB   MGR  HIREDATE     SAL  \\\n",
       "0  6232c6ddf2ada82ce58d0f02   7369  SMITH    CLERK  7902      1980   800.0   \n",
       "1  6232c6ddf2ada82ce58d0f09   7788  SCOTT  ANALYST  7566      1987  3000.0   \n",
       "\n",
       "   DEPTNO  \n",
       "0      20  \n",
       "1      20  "
      ]
     },
     "execution_count": 53,
     "metadata": {},
     "output_type": "execute_result"
    }
   ],
   "source": [
    "#SELECT * FROM emp WHERE ENAME LIKE S%\n",
    "\n",
    "result = db.emp.find(\n",
    "    {\n",
    "        \"ENAME\" : {\n",
    "            \"$regex\" : \"^S\"\n",
    "        }\n",
    "    }\n",
    ")\n",
    "pd.DataFrame(result)"
   ]
  },
  {
   "cell_type": "code",
   "execution_count": 55,
   "metadata": {},
   "outputs": [
    {
     "data": {
      "text/html": [
       "<div>\n",
       "<style scoped>\n",
       "    .dataframe tbody tr th:only-of-type {\n",
       "        vertical-align: middle;\n",
       "    }\n",
       "\n",
       "    .dataframe tbody tr th {\n",
       "        vertical-align: top;\n",
       "    }\n",
       "\n",
       "    .dataframe thead th {\n",
       "        text-align: right;\n",
       "    }\n",
       "</style>\n",
       "<table border=\"1\" class=\"dataframe\">\n",
       "  <thead>\n",
       "    <tr style=\"text-align: right;\">\n",
       "      <th></th>\n",
       "      <th>_id</th>\n",
       "      <th>EMPNO</th>\n",
       "      <th>ENAME</th>\n",
       "      <th>JOB</th>\n",
       "      <th>MGR</th>\n",
       "      <th>HIREDATE</th>\n",
       "      <th>SAL</th>\n",
       "      <th>DEPTNO</th>\n",
       "    </tr>\n",
       "  </thead>\n",
       "  <tbody>\n",
       "    <tr>\n",
       "      <th>0</th>\n",
       "      <td>6232c6ddf2ada82ce58d0f02</td>\n",
       "      <td>7369</td>\n",
       "      <td>SMITH</td>\n",
       "      <td>CLERK</td>\n",
       "      <td>7902</td>\n",
       "      <td>1980</td>\n",
       "      <td>800.0</td>\n",
       "      <td>20</td>\n",
       "    </tr>\n",
       "    <tr>\n",
       "      <th>1</th>\n",
       "      <td>6232c6ddf2ada82ce58d0f05</td>\n",
       "      <td>7566</td>\n",
       "      <td>JONES</td>\n",
       "      <td>MANAGER</td>\n",
       "      <td>7839</td>\n",
       "      <td>1981</td>\n",
       "      <td>2975.0</td>\n",
       "      <td>20</td>\n",
       "    </tr>\n",
       "    <tr>\n",
       "      <th>2</th>\n",
       "      <td>6232c6ddf2ada82ce58d0f09</td>\n",
       "      <td>7788</td>\n",
       "      <td>SCOTT</td>\n",
       "      <td>ANALYST</td>\n",
       "      <td>7566</td>\n",
       "      <td>1987</td>\n",
       "      <td>3000.0</td>\n",
       "      <td>20</td>\n",
       "    </tr>\n",
       "    <tr>\n",
       "      <th>3</th>\n",
       "      <td>6232c6ddf2ada82ce58d0f0c</td>\n",
       "      <td>7876</td>\n",
       "      <td>ADAMS</td>\n",
       "      <td>CLERK</td>\n",
       "      <td>7788</td>\n",
       "      <td>1987</td>\n",
       "      <td>1100.0</td>\n",
       "      <td>20</td>\n",
       "    </tr>\n",
       "    <tr>\n",
       "      <th>4</th>\n",
       "      <td>6232c6ddf2ada82ce58d0f0d</td>\n",
       "      <td>7900</td>\n",
       "      <td>JAMES</td>\n",
       "      <td>CLERK</td>\n",
       "      <td>7698</td>\n",
       "      <td>1981</td>\n",
       "      <td>950.0</td>\n",
       "      <td>30</td>\n",
       "    </tr>\n",
       "  </tbody>\n",
       "</table>\n",
       "</div>"
      ],
      "text/plain": [
       "                        _id  EMPNO  ENAME      JOB   MGR  HIREDATE     SAL  \\\n",
       "0  6232c6ddf2ada82ce58d0f02   7369  SMITH    CLERK  7902      1980   800.0   \n",
       "1  6232c6ddf2ada82ce58d0f05   7566  JONES  MANAGER  7839      1981  2975.0   \n",
       "2  6232c6ddf2ada82ce58d0f09   7788  SCOTT  ANALYST  7566      1987  3000.0   \n",
       "3  6232c6ddf2ada82ce58d0f0c   7876  ADAMS    CLERK  7788      1987  1100.0   \n",
       "4  6232c6ddf2ada82ce58d0f0d   7900  JAMES    CLERK  7698      1981   950.0   \n",
       "\n",
       "   DEPTNO  \n",
       "0      20  \n",
       "1      20  \n",
       "2      20  \n",
       "3      20  \n",
       "4      30  "
      ]
     },
     "execution_count": 55,
     "metadata": {},
     "output_type": "execute_result"
    }
   ],
   "source": [
    "#SELECT * FROM emp WHERE ENAME LIKE %S%\n",
    "\n",
    "result = db.emp.find(\n",
    "    {\n",
    "        \"ENAME\" : {\n",
    "            \"$regex\" : \"S\"\n",
    "        }\n",
    "    }\n",
    ")\n",
    "pd.DataFrame(result)"
   ]
  },
  {
   "cell_type": "code",
   "execution_count": 56,
   "metadata": {},
   "outputs": [
    {
     "data": {
      "text/html": [
       "<div>\n",
       "<style scoped>\n",
       "    .dataframe tbody tr th:only-of-type {\n",
       "        vertical-align: middle;\n",
       "    }\n",
       "\n",
       "    .dataframe tbody tr th {\n",
       "        vertical-align: top;\n",
       "    }\n",
       "\n",
       "    .dataframe thead th {\n",
       "        text-align: right;\n",
       "    }\n",
       "</style>\n",
       "<table border=\"1\" class=\"dataframe\">\n",
       "  <thead>\n",
       "    <tr style=\"text-align: right;\">\n",
       "      <th></th>\n",
       "      <th>_id</th>\n",
       "      <th>EMPNO</th>\n",
       "      <th>ENAME</th>\n",
       "      <th>JOB</th>\n",
       "      <th>MGR</th>\n",
       "      <th>HIREDATE</th>\n",
       "      <th>SAL</th>\n",
       "      <th>DEPTNO</th>\n",
       "    </tr>\n",
       "  </thead>\n",
       "  <tbody>\n",
       "    <tr>\n",
       "      <th>0</th>\n",
       "      <td>6232c6ddf2ada82ce58d0f05</td>\n",
       "      <td>7566</td>\n",
       "      <td>JONES</td>\n",
       "      <td>MANAGER</td>\n",
       "      <td>7839</td>\n",
       "      <td>1981</td>\n",
       "      <td>2975.0</td>\n",
       "      <td>20</td>\n",
       "    </tr>\n",
       "    <tr>\n",
       "      <th>1</th>\n",
       "      <td>6232c6ddf2ada82ce58d0f0c</td>\n",
       "      <td>7876</td>\n",
       "      <td>ADAMS</td>\n",
       "      <td>CLERK</td>\n",
       "      <td>7788</td>\n",
       "      <td>1987</td>\n",
       "      <td>1100.0</td>\n",
       "      <td>20</td>\n",
       "    </tr>\n",
       "    <tr>\n",
       "      <th>2</th>\n",
       "      <td>6232c6ddf2ada82ce58d0f0d</td>\n",
       "      <td>7900</td>\n",
       "      <td>JAMES</td>\n",
       "      <td>CLERK</td>\n",
       "      <td>7698</td>\n",
       "      <td>1981</td>\n",
       "      <td>950.0</td>\n",
       "      <td>30</td>\n",
       "    </tr>\n",
       "  </tbody>\n",
       "</table>\n",
       "</div>"
      ],
      "text/plain": [
       "                        _id  EMPNO  ENAME      JOB   MGR  HIREDATE     SAL  \\\n",
       "0  6232c6ddf2ada82ce58d0f05   7566  JONES  MANAGER  7839      1981  2975.0   \n",
       "1  6232c6ddf2ada82ce58d0f0c   7876  ADAMS    CLERK  7788      1987  1100.0   \n",
       "2  6232c6ddf2ada82ce58d0f0d   7900  JAMES    CLERK  7698      1981   950.0   \n",
       "\n",
       "   DEPTNO  \n",
       "0      20  \n",
       "1      20  \n",
       "2      30  "
      ]
     },
     "execution_count": 56,
     "metadata": {},
     "output_type": "execute_result"
    }
   ],
   "source": [
    "#SELECT * FROM emp WHERE ENAME LIKE %S\n",
    "\n",
    "result = db.emp.find(\n",
    "    {\n",
    "        \"ENAME\" : {\n",
    "            \"$regex\" : \"S$\"\n",
    "        }\n",
    "    }\n",
    ")\n",
    "pd.DataFrame(result)"
   ]
  },
  {
   "cell_type": "code",
   "execution_count": 68,
   "metadata": {},
   "outputs": [
    {
     "data": {
      "text/html": [
       "<div>\n",
       "<style scoped>\n",
       "    .dataframe tbody tr th:only-of-type {\n",
       "        vertical-align: middle;\n",
       "    }\n",
       "\n",
       "    .dataframe tbody tr th {\n",
       "        vertical-align: top;\n",
       "    }\n",
       "\n",
       "    .dataframe thead th {\n",
       "        text-align: right;\n",
       "    }\n",
       "</style>\n",
       "<table border=\"1\" class=\"dataframe\">\n",
       "  <thead>\n",
       "    <tr style=\"text-align: right;\">\n",
       "      <th></th>\n",
       "      <th>ENAME</th>\n",
       "      <th>JOB</th>\n",
       "      <th>SAL</th>\n",
       "      <th>DEPTNO</th>\n",
       "    </tr>\n",
       "  </thead>\n",
       "  <tbody>\n",
       "    <tr>\n",
       "      <th>0</th>\n",
       "      <td>TURNER</td>\n",
       "      <td>SALESMAN</td>\n",
       "      <td>1500.0</td>\n",
       "      <td>30</td>\n",
       "    </tr>\n",
       "    <tr>\n",
       "      <th>1</th>\n",
       "      <td>ALLEN</td>\n",
       "      <td>SALESMAN</td>\n",
       "      <td>1600.0</td>\n",
       "      <td>30</td>\n",
       "    </tr>\n",
       "  </tbody>\n",
       "</table>\n",
       "</div>"
      ],
      "text/plain": [
       "    ENAME       JOB     SAL  DEPTNO\n",
       "0  TURNER  SALESMAN  1500.0      30\n",
       "1   ALLEN  SALESMAN  1600.0      30"
      ]
     },
     "execution_count": 68,
     "metadata": {},
     "output_type": "execute_result"
    }
   ],
   "source": [
    "# SELECT ENAME, JOB, SAL, DEPTNO \n",
    "# FROM emp WHERE SAL > 1250 AND SAL <= 3000 \n",
    "# AND JOB = SALESMAN ORDER BY ENAME\n",
    "\n",
    "result = db.emp.find(\n",
    "    {\n",
    "        \"SAL\" : {\n",
    "            \"$gt\" : 1250,\n",
    "            \"$lte\" : 3000\n",
    "        }, \"JOB\" : \"SALESMAN\"\n",
    "    }, {\"JOB\" : 1,                 #where 절(첫번째 중가로 의미)                 \n",
    "        \"ENAME\" : 1,               #column 절(두번째 중가로 의미 )\n",
    "        \"DEPTNO\" : 1,\n",
    "        \"SAL\" : 1, \n",
    "        \"_id\" :0 \n",
    "        }\n",
    ").sort(\"ENAME\", -1)\n",
    "pd.DataFrame(result)\n",
    "\n"
   ]
  },
  {
   "cell_type": "code",
   "execution_count": null,
   "metadata": {},
   "outputs": [],
   "source": []
  }
 ],
 "metadata": {
  "interpreter": {
   "hash": "ddbee94c2ce3b61c3b1774ea67d55f2fdae8c29319837f6f09ba2209f9564fc6"
  },
  "kernelspec": {
   "display_name": "Python 3.10.2 64-bit",
   "language": "python",
   "name": "python3"
  },
  "language_info": {
   "codemirror_mode": {
    "name": "ipython",
    "version": 3
   },
   "file_extension": ".py",
   "mimetype": "text/x-python",
   "name": "python",
   "nbconvert_exporter": "python",
   "pygments_lexer": "ipython3",
   "version": "3.8.6"
  },
  "orig_nbformat": 4
 },
 "nbformat": 4,
 "nbformat_minor": 2
}
