{
 "cells": [
  {
   "cell_type": "markdown",
   "metadata": {},
   "source": [
    "### 1번 문제\n",
    "> For문을 이용하여 구구단을 출력하라\n",
    "    2단부터 9단까지 구구단을 print를 이용하여 출력하라."
   ]
  },
  {
   "cell_type": "code",
   "execution_count": 1,
   "metadata": {},
   "outputs": [
    {
     "name": "stdout",
     "output_type": "stream",
     "text": [
      "2 \n",
      "4 \n",
      "6 \n",
      "8 \n",
      "10 \n",
      "12 \n",
      "14 \n",
      "16 \n",
      "18 \n",
      "3 \n",
      "6 \n",
      "9 \n",
      "12 \n",
      "15 \n",
      "18 \n",
      "21 \n",
      "24 \n",
      "27 \n",
      "4 \n",
      "8 \n",
      "12 \n",
      "16 \n",
      "20 \n",
      "24 \n",
      "28 \n",
      "32 \n",
      "36 \n",
      "5 \n",
      "10 \n",
      "15 \n",
      "20 \n",
      "25 \n",
      "30 \n",
      "35 \n",
      "40 \n",
      "45 \n",
      "6 \n",
      "12 \n",
      "18 \n",
      "24 \n",
      "30 \n",
      "36 \n",
      "42 \n",
      "48 \n",
      "54 \n",
      "7 \n",
      "14 \n",
      "21 \n",
      "28 \n",
      "35 \n",
      "42 \n",
      "49 \n",
      "56 \n",
      "63 \n",
      "8 \n",
      "16 \n",
      "24 \n",
      "32 \n",
      "40 \n",
      "48 \n",
      "56 \n",
      "64 \n",
      "72 \n",
      "9 \n",
      "18 \n",
      "27 \n",
      "36 \n",
      "45 \n",
      "54 \n",
      "63 \n",
      "72 \n",
      "81 \n"
     ]
    }
   ],
   "source": [
    "for i in range(2,10,1):        \n",
    "    for j in range(1, 10, 1):  \n",
    "        print(i*j, end=\" \") \n",
    "        print(\"\")      "
   ]
  },
  {
   "cell_type": "markdown",
   "metadata": {},
   "source": [
    "### 2번 문제\n",
    "> 2개의 주사위를 던져서 두 수의 합이 5의 배수인 경우를 출력하라.\n",
    "1. 2개의 for문을 이용할 것\n",
    "2. If문을 이용하여 5의 배수 조건을 줄 것"
   ]
  },
  {
   "cell_type": "code",
   "execution_count": 2,
   "metadata": {},
   "outputs": [
    {
     "name": "stdout",
     "output_type": "stream",
     "text": [
      "5\n",
      "5\n",
      "5\n",
      "5\n",
      "10\n",
      "10\n",
      "10\n"
     ]
    }
   ],
   "source": [
    "result = 0\n",
    "\n",
    "for dice1 in range(1, 7, 1):\n",
    "    for dice2 in range(1, 7, 1):\n",
    "        if (dice1 + dice2) % 5 == 0:\n",
    "\n",
    "            print(dice1 + dice2)"
   ]
  },
  {
   "cell_type": "markdown",
   "metadata": {},
   "source": [
    "### 3번 문제\n",
    "> 3개의 숫자를 입력하면 (input_a * input_b + input_c)와 (input_a + input_b * input_c)의 차이를 나타내는 함수를 만드시오.\n",
    "1. 함수명은 diff_sum()이라 지정\n",
    "2. 함수에 매개변수를 3개 지정(input_a, input_b, input_c)\n",
    "3. (input_a * input_b + input_c)와 (input_a + input_b * input_c) 두 식의 결과 값은 언제나 큰 수에서 작은 수를 빼는 if 조건문 생성\n",
    "4. 3개의 숫자는 input를 사용하여 입력 값을 받을 것"
   ]
  },
  {
   "cell_type": "code",
   "execution_count": 3,
   "metadata": {},
   "outputs": [
    {
     "name": "stdout",
     "output_type": "stream",
     "text": [
      "16\n",
      "None\n"
     ]
    }
   ],
   "source": [
    "def diff_summ(input_a, input_b, input_c):\n",
    "    A = (input_a * input_b + input_c)\n",
    "    B = (input_a + input_b * input_c)\n",
    "\n",
    "    if A > B :\n",
    "        print(A-B)\n",
    "    elif B > A :\n",
    "        print(B-A)\n",
    "    \n",
    "print(diff_summ(10,9,8))"
   ]
  },
  {
   "cell_type": "markdown",
   "metadata": {},
   "source": [
    "### 4번 문제\n",
    "> Pandas를 이용하여 다음과 같은 데이터프레임을 만들고 데이터프레임을 수정하라.\n",
    "\n",
    "|   | 0 | 1 |  2 |\n",
    "|:-:|:-:|:-:|:--:|\n",
    "| 0 | 1 | 2 |  3 |\n",
    "| 1 | 7 | 8 |  9 |\n",
    "| 2 | 4 | 5 |  6 |\n",
    "| 3 | 3 | 5 | 10 |\n",
    "\n",
    "1. 컬럼의 이름을 A, B, C로 변경\n",
    "2. D라는 새로운 컬럼에 shift 함수를 이용하여 C 컬럼의 차를 D 컬럼에 생성(NaN값인 경우에는 0으로 대체)\n",
    "3. A 컬럼을 기준으로 오름차순 정렬\n",
    "4. 인덱스의 값을 새로 지정(기존의 인덱스는 삭제)\n",
    "5. 이 모든 과정은 원본의 데이터를 수정 "
   ]
  },
  {
   "cell_type": "code",
   "execution_count": 4,
   "metadata": {},
   "outputs": [
    {
     "ename": "AttributeError",
     "evalue": "'NoneType' object has no attribute 'reset_index'",
     "output_type": "error",
     "traceback": [
      "\u001b[1;31m---------------------------------------------------------------------------\u001b[0m",
      "\u001b[1;31mAttributeError\u001b[0m                            Traceback (most recent call last)",
      "\u001b[1;32mc:\\Users\\spaceastonomy\\Desktop\\실습\\과제\\LEVEL TEST_1.ipynb Cell 8'\u001b[0m in \u001b[0;36m<module>\u001b[1;34m\u001b[0m\n\u001b[0;32m      <a href='vscode-notebook-cell:/c%3A/Users/spaceastonomy/Desktop/%EC%8B%A4%EC%8A%B5/%EA%B3%BC%EC%A0%9C/LEVEL%20TEST_1.ipynb#ch0000007?line=6'>7</a>\u001b[0m df[\u001b[39m\"\u001b[39m\u001b[39mD\u001b[39m\u001b[39m\"\u001b[39m] \u001b[39m=\u001b[39m df[\u001b[39m\"\u001b[39m\u001b[39mC\u001b[39m\u001b[39m\"\u001b[39m]\u001b[39m.\u001b[39mdiff()\u001b[39m.\u001b[39mshift()\u001b[39m.\u001b[39mfillna(\u001b[39m0\u001b[39m)\n\u001b[0;32m      <a href='vscode-notebook-cell:/c%3A/Users/spaceastonomy/Desktop/%EC%8B%A4%EC%8A%B5/%EA%B3%BC%EC%A0%9C/LEVEL%20TEST_1.ipynb#ch0000007?line=7'>8</a>\u001b[0m df \u001b[39m=\u001b[39m df\u001b[39m.\u001b[39msort_values(\u001b[39m\"\u001b[39m\u001b[39mA\u001b[39m\u001b[39m\"\u001b[39m, inplace\u001b[39m=\u001b[39m\u001b[39mTrue\u001b[39;00m)\n\u001b[1;32m----> <a href='vscode-notebook-cell:/c%3A/Users/spaceastonomy/Desktop/%EC%8B%A4%EC%8A%B5/%EA%B3%BC%EC%A0%9C/LEVEL%20TEST_1.ipynb#ch0000007?line=8'>9</a>\u001b[0m df\u001b[39m.\u001b[39;49mreset_index(drop\u001b[39m=\u001b[39m\u001b[39mTrue\u001b[39;00m, inplace\u001b[39m=\u001b[39m\u001b[39mTrue\u001b[39;00m)\n\u001b[0;32m     <a href='vscode-notebook-cell:/c%3A/Users/spaceastonomy/Desktop/%EC%8B%A4%EC%8A%B5/%EA%B3%BC%EC%A0%9C/LEVEL%20TEST_1.ipynb#ch0000007?line=11'>12</a>\u001b[0m df\n",
      "\u001b[1;31mAttributeError\u001b[0m: 'NoneType' object has no attribute 'reset_index'"
     ]
    }
   ],
   "source": [
    "import pandas as pd\n",
    "\n",
    "df = pd.DataFrame({\"0\" : [1,7,4,3],\n",
    "                    \"1\" : [2,8,5,5],\n",
    "                    \"2\" : [3,9,6,10]})\n",
    "df.columns = [\"A\", \"B\", \"C\"]\n",
    "df[\"D\"] = df[\"C\"].diff().shift().fillna(0)\n",
    "df = df.sort_values(\"A\", inplace=True)\n",
    "df.reset_index(drop=True, inplace=True)\n",
    "\n",
    "\n",
    "df\n",
    "\n"
   ]
  },
  {
   "cell_type": "markdown",
   "metadata": {},
   "source": [
    "### 5번 문제\n",
    "> csv파일을 읽어온 뒤 데이터프레임을 수정하는 Class를 만들어보자.\n",
    "\n",
    "1. class를 생성할 때, 매개 변수를 이용하여 csv 파일 주소를 받아 온 후 csv파일 읽기(파일 주소는 상대경로로 지정)\n",
    "2. class 내의 함수 _sort()를 생성 후 컬럼의 이름이나 컬럼의 위치(예 : n번째 컬럼)를 받아오는 매개 변수를 생성. 그 값을 기준으로 sort를 하는 함수 생성(매개 변수가 위치(int)인지 이름(str)인지 체크하여 함수 구성, 오름차순 정렬)\n",
    "3. class 내의 함수 _drop()을 생성하여 매개 변수를 이용하여 컬럼의 이름을 받아온 후 해당 컬럼을 삭제하는 함수 생성\n",
    "4. class 내의 함수 _reset()을 생성하여 인덱스의 값을 초기화 하고 기존의 인덱스 값은 삭제하는 함수 생성\n",
    "5. 모든 과정에서 원본의 데이터를 수정"
   ]
  },
  {
   "cell_type": "code",
   "execution_count": null,
   "metadata": {},
   "outputs": [],
   "source": [
    "import pandas as pb\n",
    "\n",
    "class Sales_dt():\n",
    "    def __init__(self, input_url):\n",
    "        self.url = input_url\n",
    "    \n",
    "    def csv_read(self):\n",
    "        self.dt = pd.read_csv(self.url):\n",
    "        return self.dt\n",
    "        \n",
    "    def sort_values(self, input_sort):\n",
    "        self.input_sort = input_sort\n",
    "        self.dt.reset_index(drop = True, inplace=True)\n",
    "        return self.dt\n",
    "\n",
    "    def remove_cloumn(self, input_list = []):\n",
    "        self.dt.drop(input_list, axis=1, inplace=True)\n",
    "        return self.dt\n",
    "\n",
    "dt = Sales_dt('./Sales Records.csv')"
   ]
  },
  {
   "cell_type": "code",
   "execution_count": 16,
   "metadata": {},
   "outputs": [],
   "source": [
    "import pandas as pd\n",
    "\n",
    "class Change_dt():\n",
    "    def __init__(self, input_csv):\n",
    "        self.dt = pd.read_csv(input_csv)\n",
    "# class를 생성할 때, 매개 변수를 이용하여 csv 파일 주소를 받아 온 후 \n",
    "# csv파일 읽기(파일 주소는 상대경로로 지정)\n",
    "\n",
    "    def _sort(self, input_column):\n",
    "        if type(input_column) == int:\n",
    "            self.select = self.dt.columns[input_column]\n",
    "            self.dt.sort_values(self.select, inplace=True)\n",
    "            return self.dt\n",
    "\n",
    "#class 내의 함수 _sort()를 생성 후 \n",
    "#컬럼의 이름이나 컬럼의 위치(예 : n번째 컬럼)를 받아오는 매개 변수를 생성. \n",
    "#그 값을 기준으로 sort를 하는 함수 생성(매개 변수가 위치(int)인지 \n",
    "#이름(str)인지 체크하여 함수 구성, 오름차순 정렬)\n",
    "        elif type(input_column) == str:\n",
    "            self.select = self.dt.columns[input_column]\n",
    "            self.dt.sort_values(self.select, inplace=True)\n",
    "            return self.dt\n",
    "        else:\n",
    "            print('데이터의 타입이 맞지 않습니다.')\n",
    "            return self.dt\n",
    "\n",
    "    def _drop(self, input_column):\n",
    "        self.dt.drop(input_column, axis=1, inplace=True )\n",
    "        return self.dt\n",
    "#class 내의 함수 _drop()을 생성하여 매개 변수를 이용하여 \n",
    "#컬럼의 이름을 받아온 후 해당 컬럼을 삭제하는 함수 생성\n",
    "    \n",
    "\n",
    "    def _reset(self):\n",
    "        self.dt.reset_index(drop=True, inplace=True)\n",
    "        return self.dt\n",
    "#class 내의 함수 _reset()을 생성하여 인덱스의 값을 초기화 하고 \n",
    "#기존의 인덱스 값은 삭제하는 함수 생성\n"
   ]
  },
  {
   "cell_type": "code",
   "execution_count": 30,
   "metadata": {},
   "outputs": [
    {
     "ename": "IndexError",
     "evalue": "only integers, slices (`:`), ellipsis (`...`), numpy.newaxis (`None`) and integer or boolean arrays are valid indices",
     "output_type": "error",
     "traceback": [
      "\u001b[1;31m---------------------------------------------------------------------------\u001b[0m",
      "\u001b[1;31mIndexError\u001b[0m                                Traceback (most recent call last)",
      "\u001b[1;32mc:\\Users\\spaceastonomy\\Desktop\\실습\\과제\\LEVEL TEST_1.ipynb Cell 12'\u001b[0m in \u001b[0;36m<module>\u001b[1;34m\u001b[0m\n\u001b[1;32m----> <a href='vscode-notebook-cell:/c%3A/Users/spaceastonomy/Desktop/%EC%8B%A4%EC%8A%B5/%EA%B3%BC%EC%A0%9C/LEVEL%20TEST_1.ipynb#ch0000011?line=0'>1</a>\u001b[0m x \u001b[39m=\u001b[39m Change_dt(\u001b[39m\"\u001b[39;49m\u001b[39m./Sales Records.csv\u001b[39;49m\u001b[39m\"\u001b[39;49m)\u001b[39m.\u001b[39;49m_sort(\u001b[39m'\u001b[39;49m\u001b[39mRegion\u001b[39;49m\u001b[39m'\u001b[39;49m)\n\u001b[0;32m      <a href='vscode-notebook-cell:/c%3A/Users/spaceastonomy/Desktop/%EC%8B%A4%EC%8A%B5/%EA%B3%BC%EC%A0%9C/LEVEL%20TEST_1.ipynb#ch0000011?line=1'>2</a>\u001b[0m x\u001b[39m.\u001b[39mdt\n",
      "\u001b[1;32mc:\\Users\\spaceastonomy\\Desktop\\실습\\과제\\LEVEL TEST_1.ipynb Cell 11'\u001b[0m in \u001b[0;36mChange_dt._sort\u001b[1;34m(self, input_column)\u001b[0m\n\u001b[0;32m     <a href='vscode-notebook-cell:/c%3A/Users/spaceastonomy/Desktop/%EC%8B%A4%EC%8A%B5/%EA%B3%BC%EC%A0%9C/LEVEL%20TEST_1.ipynb#ch0000010?line=13'>14</a>\u001b[0m \u001b[39m#class 내의 함수 _sort()를 생성 후 \u001b[39;00m\n\u001b[0;32m     <a href='vscode-notebook-cell:/c%3A/Users/spaceastonomy/Desktop/%EC%8B%A4%EC%8A%B5/%EA%B3%BC%EC%A0%9C/LEVEL%20TEST_1.ipynb#ch0000010?line=14'>15</a>\u001b[0m \u001b[39m#컬럼의 이름이나 컬럼의 위치(예 : n번째 컬럼)를 받아오는 매개 변수를 생성. \u001b[39;00m\n\u001b[0;32m     <a href='vscode-notebook-cell:/c%3A/Users/spaceastonomy/Desktop/%EC%8B%A4%EC%8A%B5/%EA%B3%BC%EC%A0%9C/LEVEL%20TEST_1.ipynb#ch0000010?line=15'>16</a>\u001b[0m \u001b[39m#그 값을 기준으로 sort를 하는 함수 생성(매개 변수가 위치(int)인지 \u001b[39;00m\n\u001b[0;32m     <a href='vscode-notebook-cell:/c%3A/Users/spaceastonomy/Desktop/%EC%8B%A4%EC%8A%B5/%EA%B3%BC%EC%A0%9C/LEVEL%20TEST_1.ipynb#ch0000010?line=16'>17</a>\u001b[0m \u001b[39m#이름(str)인지 체크하여 함수 구성, 오름차순 정렬)\u001b[39;00m\n\u001b[0;32m     <a href='vscode-notebook-cell:/c%3A/Users/spaceastonomy/Desktop/%EC%8B%A4%EC%8A%B5/%EA%B3%BC%EC%A0%9C/LEVEL%20TEST_1.ipynb#ch0000010?line=17'>18</a>\u001b[0m         \u001b[39melif\u001b[39;00m \u001b[39mtype\u001b[39m(input_column) \u001b[39m==\u001b[39m \u001b[39mstr\u001b[39m:\n\u001b[1;32m---> <a href='vscode-notebook-cell:/c%3A/Users/spaceastonomy/Desktop/%EC%8B%A4%EC%8A%B5/%EA%B3%BC%EC%A0%9C/LEVEL%20TEST_1.ipynb#ch0000010?line=18'>19</a>\u001b[0m             \u001b[39mself\u001b[39m\u001b[39m.\u001b[39mselect \u001b[39m=\u001b[39m \u001b[39mself\u001b[39;49m\u001b[39m.\u001b[39;49mdt\u001b[39m.\u001b[39;49mcolumns[input_column]\n\u001b[0;32m     <a href='vscode-notebook-cell:/c%3A/Users/spaceastonomy/Desktop/%EC%8B%A4%EC%8A%B5/%EA%B3%BC%EC%A0%9C/LEVEL%20TEST_1.ipynb#ch0000010?line=19'>20</a>\u001b[0m             \u001b[39mself\u001b[39m\u001b[39m.\u001b[39mdt\u001b[39m.\u001b[39msort_values(\u001b[39mself\u001b[39m\u001b[39m.\u001b[39mselect, inplace\u001b[39m=\u001b[39m\u001b[39mTrue\u001b[39;00m)\n\u001b[0;32m     <a href='vscode-notebook-cell:/c%3A/Users/spaceastonomy/Desktop/%EC%8B%A4%EC%8A%B5/%EA%B3%BC%EC%A0%9C/LEVEL%20TEST_1.ipynb#ch0000010?line=20'>21</a>\u001b[0m             \u001b[39mreturn\u001b[39;00m \u001b[39mself\u001b[39m\u001b[39m.\u001b[39mdt\n",
      "File \u001b[1;32m~\\AppData\\Local\\Programs\\Python\\Python310\\lib\\site-packages\\pandas\\core\\indexes\\base.py:5055\u001b[0m, in \u001b[0;36mIndex.__getitem__\u001b[1;34m(self, key)\u001b[0m\n\u001b[0;32m   <a href='file:///c%3A/Users/spaceastonomy/AppData/Local/Programs/Python/Python310/lib/site-packages/pandas/core/indexes/base.py?line=5047'>5048</a>\u001b[0m \u001b[39mif\u001b[39;00m com\u001b[39m.\u001b[39mis_bool_indexer(key):\n\u001b[0;32m   <a href='file:///c%3A/Users/spaceastonomy/AppData/Local/Programs/Python/Python310/lib/site-packages/pandas/core/indexes/base.py?line=5048'>5049</a>\u001b[0m     \u001b[39m# if we have list[bools, length=1e5] then doing this check+convert\u001b[39;00m\n\u001b[0;32m   <a href='file:///c%3A/Users/spaceastonomy/AppData/Local/Programs/Python/Python310/lib/site-packages/pandas/core/indexes/base.py?line=5049'>5050</a>\u001b[0m     \u001b[39m#  takes 166 µs + 2.1 ms and cuts the ndarray.__getitem__\u001b[39;00m\n\u001b[0;32m   <a href='file:///c%3A/Users/spaceastonomy/AppData/Local/Programs/Python/Python310/lib/site-packages/pandas/core/indexes/base.py?line=5050'>5051</a>\u001b[0m     \u001b[39m#  time below from 3.8 ms to 496 µs\u001b[39;00m\n\u001b[0;32m   <a href='file:///c%3A/Users/spaceastonomy/AppData/Local/Programs/Python/Python310/lib/site-packages/pandas/core/indexes/base.py?line=5051'>5052</a>\u001b[0m     \u001b[39m# if we already have ndarray[bool], the overhead is 1.4 µs or .25%\u001b[39;00m\n\u001b[0;32m   <a href='file:///c%3A/Users/spaceastonomy/AppData/Local/Programs/Python/Python310/lib/site-packages/pandas/core/indexes/base.py?line=5052'>5053</a>\u001b[0m     key \u001b[39m=\u001b[39m np\u001b[39m.\u001b[39masarray(key, dtype\u001b[39m=\u001b[39m\u001b[39mbool\u001b[39m)\n\u001b[1;32m-> <a href='file:///c%3A/Users/spaceastonomy/AppData/Local/Programs/Python/Python310/lib/site-packages/pandas/core/indexes/base.py?line=5054'>5055</a>\u001b[0m result \u001b[39m=\u001b[39m getitem(key)\n\u001b[0;32m   <a href='file:///c%3A/Users/spaceastonomy/AppData/Local/Programs/Python/Python310/lib/site-packages/pandas/core/indexes/base.py?line=5055'>5056</a>\u001b[0m \u001b[39m# Because we ruled out integer above, we always get an arraylike here\u001b[39;00m\n\u001b[0;32m   <a href='file:///c%3A/Users/spaceastonomy/AppData/Local/Programs/Python/Python310/lib/site-packages/pandas/core/indexes/base.py?line=5056'>5057</a>\u001b[0m \u001b[39mif\u001b[39;00m result\u001b[39m.\u001b[39mndim \u001b[39m>\u001b[39m \u001b[39m1\u001b[39m:\n",
      "\u001b[1;31mIndexError\u001b[0m: only integers, slices (`:`), ellipsis (`...`), numpy.newaxis (`None`) and integer or boolean arrays are valid indices"
     ]
    }
   ],
   "source": [
    "x = Change_dt(\"./Sales Records.csv\")._sort('Region')\n",
    "x.dt\n"
   ]
  },
  {
   "cell_type": "code",
   "execution_count": null,
   "metadata": {},
   "outputs": [],
   "source": [
    "x._drop(\"Country\")\n"
   ]
  },
  {
   "cell_type": "code",
   "execution_count": null,
   "metadata": {},
   "outputs": [],
   "source": [
    "x._reset()"
   ]
  }
 ],
 "metadata": {
  "interpreter": {
   "hash": "4c18eaafcdecf4bd86273abe19a87690fc52b2a331ea498ee240a11474cedd09"
  },
  "kernelspec": {
   "display_name": "Python 3.9.7 64-bit",
   "language": "python",
   "name": "python3"
  },
  "language_info": {
   "codemirror_mode": {
    "name": "ipython",
    "version": 3
   },
   "file_extension": ".py",
   "mimetype": "text/x-python",
   "name": "python",
   "nbconvert_exporter": "python",
   "pygments_lexer": "ipython3",
   "version": "3.10.2"
  },
  "orig_nbformat": 4
 },
 "nbformat": 4,
 "nbformat_minor": 2
}
