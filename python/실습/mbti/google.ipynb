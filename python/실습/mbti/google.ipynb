{
 "cells": [
  {
   "cell_type": "code",
   "execution_count": 3,
   "metadata": {},
   "outputs": [
    {
     "name": "stdout",
     "output_type": "stream",
     "text": [
      "\n",
      "Item no.: 1 --> Item name = \\uc544\\uc774\\uc720\n",
      "Evaluating...\n",
      "Starting Download...\n",
      "\n",
      "\n",
      "Unfortunately all 50 could not be downloaded because some images were not downloadable. 0 is all we got for this search filter!\n",
      "\n",
      "Errors: 0\n",
      "\n",
      "\n",
      "Item no.: 2 --> Item name =  \\ubbfc\\ud6a8\\ub9b0\n",
      "Evaluating...\n",
      "Starting Download...\n",
      "\n",
      "\n",
      "Unfortunately all 50 could not be downloaded because some images were not downloadable. 0 is all we got for this search filter!\n",
      "\n",
      "Errors: 0\n",
      "\n",
      "\n",
      "Item no.: 3 --> Item name =  \\uc815\\ub824\\uc6d0\n",
      "Evaluating...\n",
      "Starting Download...\n",
      "\n",
      "\n",
      "Unfortunately all 50 could not be downloaded because some images were not downloadable. 0 is all we got for this search filter!\n",
      "\n",
      "Errors: 0\n",
      "\n",
      "\n",
      "Item no.: 4 --> Item name =  \\ud0dc\\ubbfc\n",
      "\n",
      "Evaluating...\n"
     ]
    },
    {
     "ename": "OSError",
     "evalue": "[WinError 123] 파일 이름, 디렉터리 이름 또는 볼륨 레이블 구문이 잘못되었습니다: 'downloads\\\\ 태민\\n'",
     "output_type": "error",
     "traceback": [
      "\u001b[1;31m---------------------------------------------------------------------------\u001b[0m",
      "\u001b[1;31mOSError\u001b[0m                                   Traceback (most recent call last)",
      "\u001b[1;32mc:\\Users\\spaceastonomy\\Desktop\\실습\\mbti\\google.ipynb Cell 1'\u001b[0m in \u001b[0;36m<cell line: 21>\u001b[1;34m()\u001b[0m\n\u001b[0;32m      <a href='vscode-notebook-cell:/c%3A/Users/spaceastonomy/Desktop/%EC%8B%A4%EC%8A%B5/mbti/google.ipynb#ch0000000?line=2'>3</a>\u001b[0m response \u001b[39m=\u001b[39m google_images_download\u001b[39m.\u001b[39mgoogleimagesdownload()   \u001b[39m#class instantiation\u001b[39;00m\n\u001b[0;32m      <a href='vscode-notebook-cell:/c%3A/Users/spaceastonomy/Desktop/%EC%8B%A4%EC%8A%B5/mbti/google.ipynb#ch0000000?line=4'>5</a>\u001b[0m arguments \u001b[39m=\u001b[39m {\u001b[39m\"\u001b[39m\u001b[39mkeywords\u001b[39m\u001b[39m\"\u001b[39m:\u001b[39m\"\"\"\u001b[39m\u001b[39m아이유, 민효린, 정려원, 태민\u001b[39m\n\u001b[0;32m      <a href='vscode-notebook-cell:/c%3A/Users/spaceastonomy/Desktop/%EC%8B%A4%EC%8A%B5/mbti/google.ipynb#ch0000000?line=5'>6</a>\u001b[0m \u001b[39m,뷔, RM, 전소민, 화사 \u001b[39m\n\u001b[0;32m      <a href='vscode-notebook-cell:/c%3A/Users/spaceastonomy/Desktop/%EC%8B%A4%EC%8A%B5/mbti/google.ipynb#ch0000000?line=6'>7</a>\u001b[0m \u001b[39m,진, 슈가, 정은지, 기안84\u001b[39m\n\u001b[1;32m   (...)\u001b[0m\n\u001b[0;32m     <a href='vscode-notebook-cell:/c%3A/Users/spaceastonomy/Desktop/%EC%8B%A4%EC%8A%B5/mbti/google.ipynb#ch0000000?line=18'>19</a>\u001b[0m \u001b[39m,성규, 써니, 차태현\u001b[39m\n\u001b[0;32m     <a href='vscode-notebook-cell:/c%3A/Users/spaceastonomy/Desktop/%EC%8B%A4%EC%8A%B5/mbti/google.ipynb#ch0000000?line=19'>20</a>\u001b[0m \u001b[39m,한채영, 김준수, 뱀뱀\u001b[39m\u001b[39m\"\"\"\u001b[39m ,\u001b[39m\"\u001b[39m\u001b[39mlimit\u001b[39m\u001b[39m\"\u001b[39m:\u001b[39m50\u001b[39m,\u001b[39m\"\u001b[39m\u001b[39mprint_urls\u001b[39m\u001b[39m\"\u001b[39m:\u001b[39mTrue\u001b[39;00m, \u001b[39m\"\u001b[39m\u001b[39mformat\u001b[39m\u001b[39m\"\u001b[39m: \u001b[39m\"\u001b[39m\u001b[39mjpg\u001b[39m\u001b[39m\"\u001b[39m}   \u001b[39m#creating list of arguments\u001b[39;00m\n\u001b[1;32m---> <a href='vscode-notebook-cell:/c%3A/Users/spaceastonomy/Desktop/%EC%8B%A4%EC%8A%B5/mbti/google.ipynb#ch0000000?line=20'>21</a>\u001b[0m paths \u001b[39m=\u001b[39m response\u001b[39m.\u001b[39;49mdownload(arguments)   \u001b[39m#passing the arguments to the function\u001b[39;00m\n\u001b[0;32m     <a href='vscode-notebook-cell:/c%3A/Users/spaceastonomy/Desktop/%EC%8B%A4%EC%8A%B5/mbti/google.ipynb#ch0000000?line=21'>22</a>\u001b[0m \u001b[39mprint\u001b[39m(paths)\n",
      "File \u001b[1;32mC:\\python38-32\\lib\\site-packages\\google_images_download\\google_images_download.py:825\u001b[0m, in \u001b[0;36mgoogleimagesdownload.download\u001b[1;34m(self, arguments)\u001b[0m\n\u001b[0;32m    <a href='file:///c%3A/python38-32/lib/site-packages/google_images_download/google_images_download.py?line=821'>822</a>\u001b[0m     \u001b[39mreturn\u001b[39;00m paths_agg,total_errors\n\u001b[0;32m    <a href='file:///c%3A/python38-32/lib/site-packages/google_images_download/google_images_download.py?line=822'>823</a>\u001b[0m \u001b[39m# if the calling file contains params directly\u001b[39;00m\n\u001b[0;32m    <a href='file:///c%3A/python38-32/lib/site-packages/google_images_download/google_images_download.py?line=823'>824</a>\u001b[0m \u001b[39melse\u001b[39;00m:\n\u001b[1;32m--> <a href='file:///c%3A/python38-32/lib/site-packages/google_images_download/google_images_download.py?line=824'>825</a>\u001b[0m     paths, errors \u001b[39m=\u001b[39m \u001b[39mself\u001b[39;49m\u001b[39m.\u001b[39;49mdownload_executor(arguments)\n\u001b[0;32m    <a href='file:///c%3A/python38-32/lib/site-packages/google_images_download/google_images_download.py?line=825'>826</a>\u001b[0m     \u001b[39mfor\u001b[39;00m i \u001b[39min\u001b[39;00m paths:\n\u001b[0;32m    <a href='file:///c%3A/python38-32/lib/site-packages/google_images_download/google_images_download.py?line=826'>827</a>\u001b[0m         paths_agg[i] \u001b[39m=\u001b[39m paths[i]\n",
      "File \u001b[1;32mC:\\python38-32\\lib\\site-packages\\google_images_download\\google_images_download.py:936\u001b[0m, in \u001b[0;36mgoogleimagesdownload.download_executor\u001b[1;34m(self, arguments)\u001b[0m\n\u001b[0;32m    <a href='file:///c%3A/python38-32/lib/site-packages/google_images_download/google_images_download.py?line=932'>933</a>\u001b[0m     dir_name \u001b[39m=\u001b[39m search_term \u001b[39m+\u001b[39m (\u001b[39m'\u001b[39m\u001b[39m-\u001b[39m\u001b[39m'\u001b[39m \u001b[39m+\u001b[39m arguments[\u001b[39m'\u001b[39m\u001b[39mcolor\u001b[39m\u001b[39m'\u001b[39m] \u001b[39mif\u001b[39;00m arguments[\u001b[39m'\u001b[39m\u001b[39mcolor\u001b[39m\u001b[39m'\u001b[39m] \u001b[39melse\u001b[39;00m \u001b[39m'\u001b[39m\u001b[39m'\u001b[39m)   \u001b[39m#sub-directory\u001b[39;00m\n\u001b[0;32m    <a href='file:///c%3A/python38-32/lib/site-packages/google_images_download/google_images_download.py?line=934'>935</a>\u001b[0m \u001b[39mif\u001b[39;00m \u001b[39mnot\u001b[39;00m arguments[\u001b[39m\"\u001b[39m\u001b[39mno_download\u001b[39m\u001b[39m\"\u001b[39m]:\n\u001b[1;32m--> <a href='file:///c%3A/python38-32/lib/site-packages/google_images_download/google_images_download.py?line=935'>936</a>\u001b[0m     \u001b[39mself\u001b[39;49m\u001b[39m.\u001b[39;49mcreate_directories(main_directory,dir_name,arguments[\u001b[39m'\u001b[39;49m\u001b[39mthumbnail\u001b[39;49m\u001b[39m'\u001b[39;49m],arguments[\u001b[39m'\u001b[39;49m\u001b[39mthumbnail_only\u001b[39;49m\u001b[39m'\u001b[39;49m])     \u001b[39m#create directories in OS\u001b[39;00m\n\u001b[0;32m    <a href='file:///c%3A/python38-32/lib/site-packages/google_images_download/google_images_download.py?line=937'>938</a>\u001b[0m params \u001b[39m=\u001b[39m \u001b[39mself\u001b[39m\u001b[39m.\u001b[39mbuild_url_parameters(arguments)     \u001b[39m#building URL with params\u001b[39;00m\n\u001b[0;32m    <a href='file:///c%3A/python38-32/lib/site-packages/google_images_download/google_images_download.py?line=939'>940</a>\u001b[0m url \u001b[39m=\u001b[39m \u001b[39mself\u001b[39m\u001b[39m.\u001b[39mbuild_search_url(search_term,params,arguments[\u001b[39m'\u001b[39m\u001b[39murl\u001b[39m\u001b[39m'\u001b[39m],arguments[\u001b[39m'\u001b[39m\u001b[39msimilar_images\u001b[39m\u001b[39m'\u001b[39m],arguments[\u001b[39m'\u001b[39m\u001b[39mspecific_site\u001b[39m\u001b[39m'\u001b[39m],arguments[\u001b[39m'\u001b[39m\u001b[39msafe_search\u001b[39m\u001b[39m'\u001b[39m])      \u001b[39m#building main search url\u001b[39;00m\n",
      "File \u001b[1;32mC:\\python38-32\\lib\\site-packages\\google_images_download\\google_images_download.py:498\u001b[0m, in \u001b[0;36mgoogleimagesdownload.create_directories\u001b[1;34m(self, main_directory, dir_name, thumbnail, thumbnail_only)\u001b[0m\n\u001b[0;32m    <a href='file:///c%3A/python38-32/lib/site-packages/google_images_download/google_images_download.py?line=495'>496</a>\u001b[0m sub_directory \u001b[39m=\u001b[39m os\u001b[39m.\u001b[39mpath\u001b[39m.\u001b[39mjoin(main_directory, path)\n\u001b[0;32m    <a href='file:///c%3A/python38-32/lib/site-packages/google_images_download/google_images_download.py?line=496'>497</a>\u001b[0m \u001b[39mif\u001b[39;00m \u001b[39mnot\u001b[39;00m os\u001b[39m.\u001b[39mpath\u001b[39m.\u001b[39mexists(sub_directory):\n\u001b[1;32m--> <a href='file:///c%3A/python38-32/lib/site-packages/google_images_download/google_images_download.py?line=497'>498</a>\u001b[0m     os\u001b[39m.\u001b[39;49mmakedirs(sub_directory)\n\u001b[0;32m    <a href='file:///c%3A/python38-32/lib/site-packages/google_images_download/google_images_download.py?line=498'>499</a>\u001b[0m \u001b[39mif\u001b[39;00m thumbnail \u001b[39mor\u001b[39;00m thumbnail_only:\n\u001b[0;32m    <a href='file:///c%3A/python38-32/lib/site-packages/google_images_download/google_images_download.py?line=499'>500</a>\u001b[0m     sub_directory_thumbnail \u001b[39m=\u001b[39m os\u001b[39m.\u001b[39mpath\u001b[39m.\u001b[39mjoin(main_directory, dir_name_thumbnail)\n",
      "File \u001b[1;32mC:\\python38-32\\lib\\os.py:223\u001b[0m, in \u001b[0;36mmakedirs\u001b[1;34m(name, mode, exist_ok)\u001b[0m\n\u001b[0;32m    <a href='file:///c%3A/python38-32/lib/os.py?line=220'>221</a>\u001b[0m         \u001b[39mreturn\u001b[39;00m\n\u001b[0;32m    <a href='file:///c%3A/python38-32/lib/os.py?line=221'>222</a>\u001b[0m \u001b[39mtry\u001b[39;00m:\n\u001b[1;32m--> <a href='file:///c%3A/python38-32/lib/os.py?line=222'>223</a>\u001b[0m     mkdir(name, mode)\n\u001b[0;32m    <a href='file:///c%3A/python38-32/lib/os.py?line=223'>224</a>\u001b[0m \u001b[39mexcept\u001b[39;00m \u001b[39mOSError\u001b[39;00m:\n\u001b[0;32m    <a href='file:///c%3A/python38-32/lib/os.py?line=224'>225</a>\u001b[0m     \u001b[39m# Cannot rely on checking for EEXIST, since the operating system\u001b[39;00m\n\u001b[0;32m    <a href='file:///c%3A/python38-32/lib/os.py?line=225'>226</a>\u001b[0m     \u001b[39m# could give priority to other errors like EACCES or EROFS\u001b[39;00m\n\u001b[0;32m    <a href='file:///c%3A/python38-32/lib/os.py?line=226'>227</a>\u001b[0m     \u001b[39mif\u001b[39;00m \u001b[39mnot\u001b[39;00m exist_ok \u001b[39mor\u001b[39;00m \u001b[39mnot\u001b[39;00m path\u001b[39m.\u001b[39misdir(name):\n",
      "\u001b[1;31mOSError\u001b[0m: [WinError 123] 파일 이름, 디렉터리 이름 또는 볼륨 레이블 구문이 잘못되었습니다: 'downloads\\\\ 태민\\n'"
     ]
    }
   ],
   "source": [
    "from google_images_download import google_images_download   #importing the library\n",
    "\n",
    "response = google_images_download.googleimagesdownload()   #class instantiation\n",
    "\n",
    "arguments = {\"keywords\":\"\"\"아이유, 민효린, 정려원, 태민\n",
    ",뷔, RM, 전소민, 화사 \n",
    ",진, 슈가, 정은지, 기안84\n",
    ",제시,라미란, 이찬혁, 육성재\n",
    ",태연, 카이, 태양, 김새론\n",
    ",유주, 우기, 강다니엘, 찬열, 지민\n",
    ",강동원, 서태지, 김유정, 손나은\n",
    ",티파니, 키, 이특, 지코\n",
    ",설현, 백현, 지효, 미나, 정국\n",
    ",수영, 주이, 박봄, 백지영\n",
    ",김연아, 쯔위, 소희, 크리스탈, 전지현\n",
    ",재현, 정일훈, 레이나, 태현\n",
    ",최강창민, 나르샤, 비니, 예지\n",
    ",제이홉, 규현, 앤디, 혜리, 김신영\n",
    ",성규, 써니, 차태현\n",
    ",한채영, 김준수, 뱀뱀\"\"\" ,\"limit\":50,\"print_urls\":True, \"format\": \"jpg\"}   #creating list of arguments\n",
    "paths = response.download(arguments)   #passing the arguments to the function\n",
    "print(paths)   #printing absolute paths of the downloaded images"
   ]
  }
 ],
 "metadata": {
  "interpreter": {
   "hash": "b1269504bf1248269f056a465bc4c12d8a4acb51f1ea5e065be3f9e0fb3ca3ae"
  },
  "kernelspec": {
   "display_name": "Python 3.8.6 32-bit",
   "language": "python",
   "name": "python3"
  },
  "language_info": {
   "codemirror_mode": {
    "name": "ipython",
    "version": 3
   },
   "file_extension": ".py",
   "mimetype": "text/x-python",
   "name": "python",
   "nbconvert_exporter": "python",
   "pygments_lexer": "ipython3",
   "version": "3.8.6"
  },
  "orig_nbformat": 4
 },
 "nbformat": 4,
 "nbformat_minor": 2
}
