{
 "cells": [
  {
   "cell_type": "code",
   "execution_count": 6,
   "metadata": {},
   "outputs": [],
   "source": [
    "from bs4 import BeautifulSoup\n",
    "from urllib.request import urlopen\n",
    "\n",
    "response = urlopen('https://www.naver.com/')\n",
    "soup = BeautifulSoup(response, 'html.parser')\n",
    "i = 1\n",
    "f = open(\"새파일.txt\", 'w')\n",
    "for anchor in soup.select(\"span.ah_k\"):\n",
    "    data = str(i) + \"위 : \" + anchor.get_text()\n",
    "    i += 1\n",
    "    f.write(data)\n",
    "\n",
    "\n",
    "\n"
   ]
  },
  {
   "cell_type": "code",
   "execution_count": null,
   "metadata": {},
   "outputs": [],
   "source": []
  }
 ],
 "metadata": {
  "interpreter": {
   "hash": "b1269504bf1248269f056a465bc4c12d8a4acb51f1ea5e065be3f9e0fb3ca3ae"
  },
  "kernelspec": {
   "display_name": "Python 3.8.6 32-bit",
   "language": "python",
   "name": "python3"
  },
  "language_info": {
   "codemirror_mode": {
    "name": "ipython",
    "version": 3
   },
   "file_extension": ".py",
   "mimetype": "text/x-python",
   "name": "python",
   "nbconvert_exporter": "python",
   "pygments_lexer": "ipython3",
   "version": "3.8.6"
  },
  "orig_nbformat": 4
 },
 "nbformat": 4,
 "nbformat_minor": 2
}
