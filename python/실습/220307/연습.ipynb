{
 "cells": [
  {
   "cell_type": "code",
   "execution_count": 1,
   "metadata": {},
   "outputs": [
    {
     "data": {
      "text/plain": [
       "'\\n위의 수행결과\\nself.first\\nself.second = 2\\n고로\\na.first = 4 '"
      ]
     },
     "execution_count": 1,
     "metadata": {},
     "output_type": "execute_result"
    }
   ],
   "source": [
    "class FourCal(): #클래스 안의 def는 매써드라고 부름\n",
    "    def setdata(self, first, second):\n",
    "        self.first = first\n",
    "        self.second = second\n",
    "\n",
    "    def add(self):\n",
    "        result = self.first + self.second\n",
    "        return result\n",
    "\n",
    "a = FourCal()\n",
    "a.setdata(4,2)\n",
    "'''\n",
    "위의 수행결과\n",
    "self.first\n",
    "self.second = 2\n",
    "고로\n",
    "a.first = 4 '''\n",
    "\n"
   ]
  },
  {
   "cell_type": "code",
   "execution_count": null,
   "metadata": {},
   "outputs": [],
   "source": [
    "class AuroEmail :\n",
    "    def __init__(self, name):\n",
    "        self.name = name\n",
    "\n",
    "mail_to_park = AuroEmail(\"park\")"
   ]
  },
  {
   "cell_type": "code",
   "execution_count": 2,
   "metadata": {},
   "outputs": [],
   "source": [
    "#클래스 선언하기\n",
    "\n",
    "class Class_1():\n",
    "    def func_1(self):\n",
    "        print('Hello World')"
   ]
  },
  {
   "cell_type": "code",
   "execution_count": 3,
   "metadata": {},
   "outputs": [
    {
     "name": "stdout",
     "output_type": "stream",
     "text": [
      "Hello World\n"
     ]
    }
   ],
   "source": [
    "a = Class_1() #클래스를 새로 생성하는 과정\n",
    "a.func_1()"
   ]
  },
  {
   "cell_type": "code",
   "execution_count": 5,
   "metadata": {},
   "outputs": [
    {
     "name": "stdout",
     "output_type": "stream",
     "text": [
      "Hello World\n"
     ]
    }
   ],
   "source": [
    "class Class_2():\n",
    "    def func_2(self):\n",
    "        print(\"Hello World\")\n",
    "\n",
    "b = Class_2()\n",
    "b.func_2()"
   ]
  },
  {
   "cell_type": "code",
   "execution_count": 6,
   "metadata": {},
   "outputs": [],
   "source": [
    "class Class_3():\n",
    "    def __init__(self, input_a, input_b):\n",
    "        self.a = input_a\n",
    "        self.b = input_b\n",
    "\n",
    "c = Class_3(\"test\", \"test2\")"
   ]
  },
  {
   "cell_type": "code",
   "execution_count": 7,
   "metadata": {},
   "outputs": [
    {
     "data": {
      "text/plain": [
       "'test'"
      ]
     },
     "execution_count": 7,
     "metadata": {},
     "output_type": "execute_result"
    }
   ],
   "source": [
    "c.a"
   ]
  },
  {
   "cell_type": "code",
   "execution_count": 8,
   "metadata": {},
   "outputs": [
    {
     "data": {
      "text/plain": [
       "'test2'"
      ]
     },
     "execution_count": 8,
     "metadata": {},
     "output_type": "execute_result"
    }
   ],
   "source": [
    "c.b"
   ]
  },
  {
   "cell_type": "code",
   "execution_count": 9,
   "metadata": {},
   "outputs": [],
   "source": [
    "d = Class_3(\"test3\", \"test4\")"
   ]
  },
  {
   "cell_type": "code",
   "execution_count": 10,
   "metadata": {},
   "outputs": [
    {
     "data": {
      "text/plain": [
       "'test3'"
      ]
     },
     "execution_count": 10,
     "metadata": {},
     "output_type": "execute_result"
    }
   ],
   "source": [
    "d.a"
   ]
  },
  {
   "cell_type": "code",
   "execution_count": 11,
   "metadata": {},
   "outputs": [
    {
     "data": {
      "text/plain": [
       "'test4'"
      ]
     },
     "execution_count": 11,
     "metadata": {},
     "output_type": "execute_result"
    }
   ],
   "source": [
    "d.b"
   ]
  },
  {
   "cell_type": "code",
   "execution_count": 13,
   "metadata": {},
   "outputs": [],
   "source": [
    "class Class_4():\n",
    "\n",
    "    name = \"test\" #클래스 변수, self를 넣게 되면 서로 공유불가\n",
    "\n",
    "    def __init__(self, input_c):\n",
    "        self.c = input_c\n",
    "\n",
    "\n",
    "a = Class_4(\"123\")\n",
    "b = Class_4(\"456\")\n",
    "c = Class_4(\"789\")"
   ]
  },
  {
   "cell_type": "code",
   "execution_count": 14,
   "metadata": {},
   "outputs": [
    {
     "name": "stdout",
     "output_type": "stream",
     "text": [
      "test test test\n",
      "123 456 789\n"
     ]
    }
   ],
   "source": [
    "print(a.name, b.name, c.name)\n",
    "print(a.c, b.c, c.c)"
   ]
  },
  {
   "cell_type": "code",
   "execution_count": 15,
   "metadata": {},
   "outputs": [
    {
     "name": "stdout",
     "output_type": "stream",
     "text": [
      "['01023842934', '01032438249'] ['01023842934', '01032438249']\n"
     ]
    }
   ],
   "source": [
    "class Class_5():\n",
    "    _list = []\n",
    "\n",
    "    def __init__(self, input_name):\n",
    "        self.name = input_name\n",
    "\n",
    "    def add_list(self, input_phone):\n",
    "        self._list.append(input_phone)\n",
    "\n",
    "\n",
    "d = Class_5(\"test\")\n",
    "e = Class_5(\"test2\")\n",
    "d.add_list(\"01023842934\")\n",
    "e.add_list(\"01032438249\")\n",
    "print(d._list, e._list)"
   ]
  },
  {
   "cell_type": "code",
   "execution_count": 23,
   "metadata": {},
   "outputs": [
    {
     "name": "stdout",
     "output_type": "stream",
     "text": [
      "['010123123'] ['01023423423']\n"
     ]
    }
   ],
   "source": [
    "class Class_5():\n",
    "\n",
    "    def __init__(self, input_name):\n",
    "        self.name = input_name\n",
    "        self._list = [] #클래스를 생성을 하고 초기화 해서 출력하겠다.\n",
    "\n",
    "    def add_list(self, input_phone):\n",
    "        self._list.append(input_phone)\n",
    "\n",
    "\n",
    "d = Class_5(\"test\")\n",
    "e = Class_5(\"test2\")\n",
    "d.add_list(\"010123123\")\n",
    "e.add_list(\"01023423423\")\n",
    "print(d._list, e._list)"
   ]
  },
  {
   "cell_type": "code",
   "execution_count": 24,
   "metadata": {},
   "outputs": [
    {
     "name": "stdout",
     "output_type": "stream",
     "text": [
      "['010123123', '232323'] ['01023423423', '343434']\n"
     ]
    }
   ],
   "source": [
    "d.add_list(\"232323\")\n",
    "e.add_list(\"343434\")\n",
    "print(d._list, e._list) #서로 다른 공간에 있기 때문에 실행을 할때마다 추가된"
   ]
  },
  {
   "cell_type": "code",
   "execution_count": 25,
   "metadata": {},
   "outputs": [
    {
     "name": "stdout",
     "output_type": "stream",
     "text": [
      "test test2\n"
     ]
    }
   ],
   "source": [
    "print(d.name, e.name)"
   ]
  },
  {
   "cell_type": "code",
   "execution_count": 26,
   "metadata": {},
   "outputs": [
    {
     "name": "stdout",
     "output_type": "stream",
     "text": [
      "3\n",
      "7\n"
     ]
    }
   ],
   "source": [
    "sum = 0 \n",
    "\n",
    "def add(x):\n",
    "    global sum\n",
    "    sum += x\n",
    "    return sum\n",
    "\n",
    "print(add(3))\n",
    "print(add(4))"
   ]
  },
  {
   "cell_type": "code",
   "execution_count": 27,
   "metadata": {},
   "outputs": [
    {
     "name": "stdout",
     "output_type": "stream",
     "text": [
      "3\n",
      "4\n",
      "13\n",
      "5\n"
     ]
    }
   ],
   "source": [
    "sum_1 = 0\n",
    "sum_2 = 0\n",
    "\n",
    "def add_1(x):\n",
    "    global sum_1\n",
    "    sum_1 += x\n",
    "    return sum_1\n",
    "\n",
    "def add_2(x):\n",
    "    global sum_2\n",
    "    sum_2 += x\n",
    "    return sum_2\n",
    "\n",
    "print(add_1(3))\n",
    "print(add_2(4))\n",
    "print(add_1(10))\n",
    "print(add_2(1))"
   ]
  },
  {
   "cell_type": "code",
   "execution_count": 28,
   "metadata": {},
   "outputs": [
    {
     "name": "stdout",
     "output_type": "stream",
     "text": [
      "4\n",
      "2\n"
     ]
    }
   ],
   "source": [
    "class Class_6():\n",
    "    def data(boss, me, you):\n",
    "        boss.me = me\n",
    "        boss.you = you\n",
    "\n",
    "    def add(boss):\n",
    "        result = boss.me + boss.you\n",
    "        return result\n",
    "\n",
    "a = Class_6()\n",
    "a.data(4,2)\n",
    "'''\n",
    "위의 수행결과 \n",
    "boss.me = 4\n",
    "boss.you = 2\n",
    "고로\n",
    "a.me = 4\n",
    "a.you = 2\n",
    "4와 2가 여기에 저장이됨'''\n",
    "\n",
    "print(a.me)\n",
    "print(a.you)"
   ]
  },
  {
   "cell_type": "code",
   "execution_count": 29,
   "metadata": {},
   "outputs": [
    {
     "name": "stdout",
     "output_type": "stream",
     "text": [
      "6\n",
      "3\n",
      "7\n",
      "10\n"
     ]
    }
   ],
   "source": [
    "a = Class_6()\n",
    "b = Class_6()\n",
    "\n",
    "a.data(4,2)\n",
    "\n",
    "'''\n",
    "위의 data를 수행함으로써\n",
    "a.me와 a.you에 값이 저장이 되어 있기 때문에\n",
    "아래 add를 실행하자마자 바로 작동되는 것'''\n",
    "\n",
    "print(a.add())\n",
    "\n",
    "b.data(3,7)\n",
    "print(b.me)\n",
    "print(b.you)\n",
    "print(b.add())"
   ]
  },
  {
   "cell_type": "code",
   "execution_count": 31,
   "metadata": {},
   "outputs": [
    {
     "name": "stdout",
     "output_type": "stream",
     "text": [
      "4\n",
      "7\n",
      "11\n",
      "8\n"
     ]
    }
   ],
   "source": [
    "class Class_6():\n",
    "    def __init__(self):\n",
    "        self._sum = 0\n",
    "\n",
    "    def add(self, input_x):\n",
    "        self._sum += input_x\n",
    "        return self._sum\n",
    "\n",
    "\n",
    "a = Class_6()\n",
    "b = Class_6()\n",
    "\n",
    "print(a.add(4))\n",
    "print(b.add(7))\n",
    "print(a.add(7))\n",
    "print(b.add(1))"
   ]
  },
  {
   "cell_type": "code",
   "execution_count": 32,
   "metadata": {},
   "outputs": [
    {
     "name": "stdout",
     "output_type": "stream",
     "text": [
      "0\n"
     ]
    }
   ],
   "source": [
    "class Class_7():\n",
    "    def __init__(self):\n",
    "        self._sum = 0\n",
    "\n",
    "    def add(self, input_x):\n",
    "        self._sum += input_x\n",
    "\n",
    "a = Class_7()\n",
    "b = Class_7()\n",
    "\n",
    "print(a._sum)"
   ]
  },
  {
   "cell_type": "code",
   "execution_count": 33,
   "metadata": {},
   "outputs": [
    {
     "name": "stdout",
     "output_type": "stream",
     "text": [
      "10\n",
      "4\n",
      "21\n",
      "2.3333333333333335\n",
      "1\n"
     ]
    }
   ],
   "source": [
    "class Class_8():\n",
    "    def __init__(self, first, sceond):\n",
    "        #클래스 생성이 되고, 인자값 2개를 변수 2개에 지정을 해주는 과정\n",
    "        self.A = first\n",
    "        self.B = sceond\n",
    "\n",
    "    def change(self, first, sceond):\n",
    "        self.A = first\n",
    "        self.B = sceond\n",
    "\n",
    "    def sum(self):\n",
    "        return self.A + self.B\n",
    "\n",
    "    def diff(self):\n",
    "        return self.A - self.B\n",
    "    \n",
    "    def mul(self):\n",
    "        return self.A * self.B\n",
    "\n",
    "    def div(self):\n",
    "        if self.B ==0:\n",
    "            return 0 \n",
    "\n",
    "        else:\n",
    "            return self.A / self.B\n",
    "\n",
    "    def rem(self):\n",
    "        if self.B ==0:\n",
    "            return 0 \n",
    "        else:\n",
    "            return self.A % self.B\n",
    "\n",
    "\n",
    "cal = Class_8(7, 3)\n",
    "print(cal.sum())\n",
    "print(cal.diff())\n",
    "print(cal.mul())\n",
    "print(cal.div())\n",
    "print(cal.rem())"
   ]
  },
  {
   "cell_type": "code",
   "execution_count": 34,
   "metadata": {},
   "outputs": [
    {
     "name": "stdout",
     "output_type": "stream",
     "text": [
      "6.0\n",
      "12\n",
      "지정된 값이 아니다.\n"
     ]
    }
   ],
   "source": [
    "class Class_9():\n",
    "    def __init__(patten, Width, height):\n",
    "        patten.width = Width\n",
    "        patten.height = height\n",
    "\n",
    "    def area(patten, x):\n",
    "        if x ==3:\n",
    "            return patten.width * patten.height/2\n",
    "        elif x ==4:\n",
    "            return patten.width * patten.height\n",
    "        else:\n",
    "            return\"지정된 값이 아니다.\"\n",
    "\n",
    "a = Class_9(3,4)\n",
    "print(a.area(3))\n",
    "print(a.area(4))\n",
    "print(a.area(5))"
   ]
  },
  {
   "cell_type": "code",
   "execution_count": 39,
   "metadata": {},
   "outputs": [
    {
     "name": "stdout",
     "output_type": "stream",
     "text": [
      "park\n",
      "Kim\n"
     ]
    }
   ],
   "source": [
    "class AutoEmail:\n",
    "    def __init__(self, name):\n",
    "        self.name = name\n",
    "\n",
    "mail_to_park = AutoEmail(\"park\")\n",
    "mail_to_kim = AutoEmail(\"Kim\")\n",
    "\n",
    "print(mail_to_park.name)\n",
    "print(mail_to_kim.name)\n"
   ]
  },
  {
   "cell_type": "code",
   "execution_count": 40,
   "metadata": {},
   "outputs": [
    {
     "name": "stdout",
     "output_type": "stream",
     "text": [
      "안녕하세요 park 님\n",
      "안녕하세요 Kim 님\n"
     ]
    }
   ],
   "source": [
    "class AutoEmail:\n",
    "    intro = '안녕하세요'\n",
    "\n",
    "    def __init__(self, name):\n",
    "        self.name = name\n",
    "\n",
    "    def say_hello(self):\n",
    "        return \"{intro} {name} 님\".format(intro=self.intro, name=self.name)\n",
    "\n",
    "mail_to_park = AutoEmail('park')\n",
    "mail_to_kim = AutoEmail('Kim')\n",
    "\n",
    "print(mail_to_park.say_hello())\n",
    "print(mail_to_kim.say_hello())"
   ]
  },
  {
   "cell_type": "code",
   "execution_count": 46,
   "metadata": {},
   "outputs": [
    {
     "name": "stdout",
     "output_type": "stream",
     "text": [
      "안녕하세요 홍길동님\n"
     ]
    }
   ],
   "source": [
    "class Student:# \"학생Student이라는 class(붕어빵틀)를 만들거야. \n",
    "\n",
    "    def __init__(self, name, kor, eng, math):\n",
    "# 그 class는 아무개, 이름, 국어, 영어, 수학의 값을 담을 수 있어. \n",
    "# 사용자는 생성자를 이용해서 아무개, 국어점수, 영어점수, 수학점수 순으로 \n",
    "# 인자를 넣어서 인스턴스(붕어빵)를 찍어낼거야.\n",
    "        self.name = name\n",
    "\n",
    "        self.korean = kor\n",
    "\n",
    "        self.english = eng\n",
    "\n",
    "        self.math = math\n",
    "\n",
    "\n",
    "\n",
    "    def say_hello(self):\n",
    "#say_hello라는 함수는 \"안녕하세요. (아무개의 이름)님\"이라고 인사하는거야.\n",
    "        return '안녕하세요 {}님'.format(self.name)\n",
    "\n",
    "    def average(self):\n",
    "# 평균average라는 함수도 만들었는데, 그건 아무개의 국어점수, \n",
    "# 아무개의 영어점수, 아무개의 수학점수를 다 더한 뒤 3으로 나눈 값을 돌려주는거야\"\n",
    "        return (self.korean + self.english + self.math) / 3\n",
    "        # 여기서 아무개는 즉 self가 되겠죠.\n",
    "\n",
    "hgd = Student('홍길동', 80, 85, 75)\n",
    "print(hgd.say_hello())"
   ]
  },
  {
   "cell_type": "code",
   "execution_count": 42,
   "metadata": {},
   "outputs": [
    {
     "name": "stdout",
     "output_type": "stream",
     "text": [
      "80.0\n",
      "90.0\n"
     ]
    }
   ],
   "source": [
    "kgs = Student('김갑수', 95, 90, 85)\n",
    "print(hgd.average())\n",
    "print(kgs.average())"
   ]
  },
  {
   "cell_type": "code",
   "execution_count": 47,
   "metadata": {},
   "outputs": [],
   "source": [
    "class Person():\n",
    "    def __init__(self,name,age,job):\n",
    "        self.name = name\n",
    "        self.age = age\n",
    "        self.job = job\n",
    "\n",
    "Steve = Person('Steve','22','programmer')"
   ]
  },
  {
   "cell_type": "code",
   "execution_count": 48,
   "metadata": {},
   "outputs": [
    {
     "name": "stdout",
     "output_type": "stream",
     "text": [
      "이름: Steve\n",
      "나이: 22\n",
      "직업: programmer\n"
     ]
    }
   ],
   "source": [
    "print('이름:',Steve.name)\n",
    "print('나이:',Steve.age)\n",
    "print('직업:',Steve.job)"
   ]
  },
  {
   "cell_type": "code",
   "execution_count": 49,
   "metadata": {},
   "outputs": [
    {
     "data": {
      "text/plain": [
       "'라라라라'"
      ]
     },
     "execution_count": 49,
     "metadata": {},
     "output_type": "execute_result"
    }
   ],
   "source": [
    "class Singer: #가수를 정의 하겠다.\n",
    "    def sing(self): # 노래하기 메서드\n",
    "        return \"라라라라\"\n",
    "\n",
    "taeji = Singer() #태지를 만들어라\n",
    "taeji.sing() #노래한곡 부탁해요"
   ]
  },
  {
   "cell_type": "code",
   "execution_count": 50,
   "metadata": {},
   "outputs": [
    {
     "data": {
      "text/plain": [
       "'라라라라'"
      ]
     },
     "execution_count": 50,
     "metadata": {},
     "output_type": "execute_result"
    }
   ],
   "source": [
    "ricky = Singer()\n",
    "ricky.sing()"
   ]
  },
  {
   "cell_type": "code",
   "execution_count": 68,
   "metadata": {},
   "outputs": [
    {
     "ename": "SyntaxError",
     "evalue": "Missing parentheses in call to 'print'. Did you mean print(...)? (3100765866.py, line 10)",
     "output_type": "error",
     "traceback": [
      "\u001b[1;36m  Input \u001b[1;32mIn [68]\u001b[1;36m\u001b[0m\n\u001b[1;33m    print '얌냠...'\u001b[0m\n\u001b[1;37m    ^\u001b[0m\n\u001b[1;31mSyntaxError\u001b[0m\u001b[1;31m:\u001b[0m Missing parentheses in call to 'print'. Did you mean print(...)?\n"
     ]
    }
   ],
   "source": [
    "class Person:\n",
    "    eyes = 2\n",
    "    nose = 1\n",
    "    mouth = 1\n",
    "    ears = 2\n",
    "    arms = 2\n",
    "    legs = 2\n",
    "\n",
    "    def eat(self):\n",
    "        print '얌냠...'\n",
    "\n",
    "    def sleep(self):\n",
    "        print \"쿨쿨...\"\n",
    "\n",
    "    def talk(self):\n",
    "        print\"주절주절\""
   ]
  },
  {
   "cell_type": "code",
   "execution_count": 69,
   "metadata": {},
   "outputs": [
    {
     "ename": "SyntaxError",
     "evalue": "Missing parentheses in call to 'print'. Did you mean print(...)? (3290983147.py, line 3)",
     "output_type": "error",
     "traceback": [
      "\u001b[1;36m  Input \u001b[1;32mIn [69]\u001b[1;36m\u001b[0m\n\u001b[1;33m    print \"열공열공\"\u001b[0m\n\u001b[1;37m    ^\u001b[0m\n\u001b[1;31mSyntaxError\u001b[0m\u001b[1;31m:\u001b[0m Missing parentheses in call to 'print'. Did you mean print(...)?\n"
     ]
    }
   ],
   "source": [
    "class Student(Person):\n",
    "    def study(self):\n",
    "        print \"열공열공\""
   ]
  },
  {
   "cell_type": "code",
   "execution_count": 70,
   "metadata": {},
   "outputs": [
    {
     "ename": "TypeError",
     "evalue": "Person.__init__() missing 3 required positional arguments: 'name', 'age', and 'job'",
     "output_type": "error",
     "traceback": [
      "\u001b[1;31m---------------------------------------------------------------------------\u001b[0m",
      "\u001b[1;31mTypeError\u001b[0m                                 Traceback (most recent call last)",
      "\u001b[1;32mc:\\Users\\spaceastonomy\\Desktop\\실습\\220307\\연습.ipynb Cell 36'\u001b[0m in \u001b[0;36m<module>\u001b[1;34m\u001b[0m\n\u001b[1;32m----> <a href='vscode-notebook-cell:/c%3A/Users/spaceastonomy/Desktop/%EC%8B%A4%EC%8A%B5/220307/%EC%97%B0%EC%8A%B5.ipynb#ch0000037?line=0'>1</a>\u001b[0m kim \u001b[39m=\u001b[39m Person()\n\u001b[0;32m      <a href='vscode-notebook-cell:/c%3A/Users/spaceastonomy/Desktop/%EC%8B%A4%EC%8A%B5/220307/%EC%97%B0%EC%8A%B5.ipynb#ch0000037?line=1'>2</a>\u001b[0m kim\u001b[39m.\u001b[39mmouth\n",
      "\u001b[1;31mTypeError\u001b[0m: Person.__init__() missing 3 required positional arguments: 'name', 'age', and 'job'"
     ]
    }
   ],
   "source": [
    "kim = Person()\n",
    "kim.mouth"
   ]
  },
  {
   "cell_type": "code",
   "execution_count": 1,
   "metadata": {},
   "outputs": [],
   "source": [
    "class Class_1():\n",
    "    def func_1 (self):\n",
    "        print(\"Hello World\")"
   ]
  },
  {
   "cell_type": "code",
   "execution_count": 3,
   "metadata": {},
   "outputs": [
    {
     "name": "stdout",
     "output_type": "stream",
     "text": [
      "Hello World\n"
     ]
    }
   ],
   "source": [
    "a = Class_1()\n",
    "a.func_1()"
   ]
  },
  {
   "cell_type": "code",
   "execution_count": 4,
   "metadata": {},
   "outputs": [
    {
     "name": "stdout",
     "output_type": "stream",
     "text": [
      "Hello Wold\n"
     ]
    }
   ],
   "source": [
    "class Class_2():\n",
    "    def func_2(self):\n",
    "        print(\"Hello Wold\")\n",
    "\n",
    "b = Class_2()\n",
    "b.func_2()"
   ]
  },
  {
   "cell_type": "code",
   "execution_count": 5,
   "metadata": {},
   "outputs": [],
   "source": [
    "class Class_3():\n",
    "    def __init__(self, input_a, input_b):\n",
    "        self.a = input_a\n",
    "        self.b = input_b\n",
    "\n",
    "c = Class_3(\"test\", \"test2\")\n"
   ]
  },
  {
   "cell_type": "code",
   "execution_count": 6,
   "metadata": {},
   "outputs": [
    {
     "data": {
      "text/plain": [
       "'test'"
      ]
     },
     "execution_count": 6,
     "metadata": {},
     "output_type": "execute_result"
    }
   ],
   "source": [
    "c.a"
   ]
  },
  {
   "cell_type": "code",
   "execution_count": 7,
   "metadata": {},
   "outputs": [
    {
     "data": {
      "text/plain": [
       "'test2'"
      ]
     },
     "execution_count": 7,
     "metadata": {},
     "output_type": "execute_result"
    }
   ],
   "source": [
    "c.b"
   ]
  },
  {
   "cell_type": "code",
   "execution_count": 8,
   "metadata": {},
   "outputs": [],
   "source": [
    "d = Class_3(\"test3\", \"test4\")"
   ]
  },
  {
   "cell_type": "code",
   "execution_count": 9,
   "metadata": {},
   "outputs": [
    {
     "data": {
      "text/plain": [
       "'test3'"
      ]
     },
     "execution_count": 9,
     "metadata": {},
     "output_type": "execute_result"
    }
   ],
   "source": [
    "d.a"
   ]
  },
  {
   "cell_type": "code",
   "execution_count": 10,
   "metadata": {},
   "outputs": [
    {
     "data": {
      "text/plain": [
       "'test4'"
      ]
     },
     "execution_count": 10,
     "metadata": {},
     "output_type": "execute_result"
    }
   ],
   "source": [
    "d.b"
   ]
  },
  {
   "cell_type": "code",
   "execution_count": 20,
   "metadata": {},
   "outputs": [],
   "source": [
    "class Class_4():\n",
    "\n",
    "    name = \"test\"\n",
    "\n",
    "    def __init__(self, input_c):\n",
    "        self.c = input_c\n",
    "        \n",
    "\n",
    "a = Class_4(\"123\")\n",
    "b = Class_4(\"456\")\n",
    "c = Class_4(\"789\")"
   ]
  },
  {
   "cell_type": "code",
   "execution_count": 22,
   "metadata": {},
   "outputs": [
    {
     "name": "stdout",
     "output_type": "stream",
     "text": [
      "test\n"
     ]
    }
   ],
   "source": [
    "print(a.name)"
   ]
  },
  {
   "cell_type": "code",
   "execution_count": 23,
   "metadata": {},
   "outputs": [
    {
     "name": "stdout",
     "output_type": "stream",
     "text": [
      "123\n"
     ]
    }
   ],
   "source": [
    "print(a.c)"
   ]
  },
  {
   "cell_type": "code",
   "execution_count": 25,
   "metadata": {},
   "outputs": [
    {
     "name": "stdout",
     "output_type": "stream",
     "text": [
      "['01023123001', '01230001230'] ['01023123001', '01230001230']\n",
      "test2\n"
     ]
    }
   ],
   "source": [
    "class Class_5():\n",
    "    _list = []\n",
    "\n",
    "    def __init__(self, input_name):\n",
    "        self.name = input_name\n",
    "\n",
    "    def add_list(self, input_phone):\n",
    "        self._list.append(input_phone)\n",
    "\n",
    "\n",
    "d = Class_5(\"test\")\n",
    "e = Class_5(\"test2\")\n",
    "d.add_list(\"01023123001\")\n",
    "e.add_list(\"01230001230\")\n",
    "print(d._list, e._list)\n",
    "print(e.name)"
   ]
  },
  {
   "cell_type": "code",
   "execution_count": 19,
   "metadata": {},
   "outputs": [
    {
     "name": "stdout",
     "output_type": "stream",
     "text": [
      "['01010'] ['010ksjlf']\n"
     ]
    }
   ],
   "source": [
    "class Class_5():\n",
    "\n",
    "    def __init__(self, input_name):\n",
    "        self.name = input_name\n",
    "        self._list = []\n",
    "\n",
    "    def add_list(self, input_phone):\n",
    "        self._list.append(input_phone)\n",
    "\n",
    "d = Class_5(\"a\")\n",
    "e = Class_5(\"d\")\n",
    "d.add_list(\"01010\")\n",
    "e.add_list(\"010ksjlf\")\n",
    "print(d._list, e._list)"
   ]
  },
  {
   "cell_type": "code",
   "execution_count": 26,
   "metadata": {},
   "outputs": [
    {
     "name": "stdout",
     "output_type": "stream",
     "text": [
      "3\n",
      "7\n"
     ]
    }
   ],
   "source": [
    "sum = 0 \n",
    "\n",
    "def add(x):\n",
    "    global sum\n",
    "    sum += x\n",
    "    return sum\n",
    "\n",
    "print(add(3))\n",
    "print(add(4))"
   ]
  },
  {
   "cell_type": "code",
   "execution_count": 27,
   "metadata": {},
   "outputs": [
    {
     "name": "stdout",
     "output_type": "stream",
     "text": [
      "3\n",
      "4\n"
     ]
    }
   ],
   "source": [
    "sum_1 = 0\n",
    "sum_2 = 0\n",
    "\n",
    "def add_1(x):\n",
    "    global sum_1\n",
    "    sum_1 += x\n",
    "    return sum_1\n",
    "\n",
    "def add_2(x):\n",
    "    global sum_2\n",
    "    sum_2 += x\n",
    "    return sum_2\n",
    "\n",
    "print(add_1(3))\n",
    "print(add_2(4))"
   ]
  },
  {
   "cell_type": "code",
   "execution_count": 30,
   "metadata": {},
   "outputs": [
    {
     "name": "stdout",
     "output_type": "stream",
     "text": [
      "4\n"
     ]
    }
   ],
   "source": [
    "class Class_6():\n",
    "    def data(self, me, you):\n",
    "        self.qq = me\n",
    "        self.ww = you\n",
    "    \n",
    "    def add(self):\n",
    "        result = self.qq + self.ww\n",
    "        return result\n",
    "\n",
    "a = Class_6()\n",
    "a.data(4,2)\n",
    "print(a.qq)"
   ]
  },
  {
   "cell_type": "code",
   "execution_count": 33,
   "metadata": {},
   "outputs": [
    {
     "name": "stdout",
     "output_type": "stream",
     "text": [
      "6\n",
      "10\n",
      "3\n",
      "7\n"
     ]
    }
   ],
   "source": [
    "a = Class_6()\n",
    "b = Class_6()\n",
    "\n",
    "a.data(4,2)\n",
    "b.data(3, 7)\n",
    "\n",
    "print(a.add())\n",
    "print(b.add())\n",
    "\n",
    "print(b.qq)\n",
    "print(b.ww)\n"
   ]
  },
  {
   "cell_type": "code",
   "execution_count": 34,
   "metadata": {},
   "outputs": [
    {
     "name": "stdout",
     "output_type": "stream",
     "text": [
      "4\n",
      "11\n"
     ]
    }
   ],
   "source": [
    "class Class_6():\n",
    "    def __init__(self):\n",
    "        self._sum = 0 \n",
    "\n",
    "    def add(self, input_x):\n",
    "        self._sum += input_x\n",
    "        return self._sum\n",
    "a = Class_6()\n",
    "b = Class_6()\n",
    "\n",
    "print(a.add(4))\n",
    "print(a.add(7))"
   ]
  },
  {
   "cell_type": "code",
   "execution_count": 36,
   "metadata": {},
   "outputs": [
    {
     "name": "stdout",
     "output_type": "stream",
     "text": [
      "10\n",
      "4\n",
      "21\n",
      "2.3333333333333335\n",
      "1\n"
     ]
    }
   ],
   "source": [
    "class Class_8():\n",
    "    def __init__(self, first, second):\n",
    "        self.first = first\n",
    "        self.second = second\n",
    "    def change(self, first, second):\n",
    "        self.first = first\n",
    "        self.second = second\n",
    "    \n",
    "    def sum(self):\n",
    "        return self.first + self.second\n",
    "    \n",
    "    def diff(self):\n",
    "        return self.first - self.second\n",
    "\n",
    "    def mul(self):\n",
    "        return self.first * self.second\n",
    "\n",
    "    def div(self):\n",
    "        if self.second ==0:\n",
    "            return 0 \n",
    "        else:\n",
    "            return self.first / self.second\n",
    "\n",
    "    def rem(self):\n",
    "        if self.second ==0:\n",
    "            return 0 \n",
    "        else:\n",
    "            return self.first % self.second\n",
    "\n",
    "cal = Class_8(7, 3)\n",
    "print(cal.sum())\n",
    "print(cal.diff())\n",
    "print(cal.mul())\n",
    "print(cal.div())\n",
    "print(cal.rem())"
   ]
  },
  {
   "cell_type": "code",
   "execution_count": 38,
   "metadata": {},
   "outputs": [
    {
     "name": "stdout",
     "output_type": "stream",
     "text": [
      "6.0\n",
      "12\n",
      "지정된 값이 아니다\n"
     ]
    }
   ],
   "source": [
    "class Class_9():\n",
    "    def __init__(patten, w, h):\n",
    "        patten.w = w\n",
    "        patten.h = h\n",
    "    def area(patten, x):\n",
    "        if x ==3:\n",
    "            return patten.w * patten.h /2\n",
    "        elif x == 4:\n",
    "            return patten.w * patten.h\n",
    "\n",
    "        else:\n",
    "            return \"지정된 값이 아니다\"\n",
    "\n",
    "a = Class_9(3,4)\n",
    "print(a.area(3))\n",
    "print(a.area(4))\n",
    "print(a.area(5))"
   ]
  },
  {
   "cell_type": "code",
   "execution_count": 50,
   "metadata": {},
   "outputs": [
    {
     "ename": "TypeError",
     "evalue": "Class_10.area() missing 1 required positional argument: 'r'",
     "output_type": "error",
     "traceback": [
      "\u001b[1;31m---------------------------------------------------------------------------\u001b[0m",
      "\u001b[1;31mTypeError\u001b[0m                                 Traceback (most recent call last)",
      "\u001b[1;32mc:\\Users\\spaceastonomy\\Desktop\\실습\\220307\\연습.ipynb Cell 58'\u001b[0m in \u001b[0;36m<module>\u001b[1;34m\u001b[0m\n\u001b[0;32m     <a href='vscode-notebook-cell:/c%3A/Users/spaceastonomy/Desktop/%EC%8B%A4%EC%8A%B5/220307/%EC%97%B0%EC%8A%B5.ipynb#ch0000058?line=10'>11</a>\u001b[0m         \u001b[39mreturn\u001b[39;00m \u001b[39mself\u001b[39m\u001b[39m.\u001b[39mresult\n\u001b[0;32m     <a href='vscode-notebook-cell:/c%3A/Users/spaceastonomy/Desktop/%EC%8B%A4%EC%8A%B5/220307/%EC%97%B0%EC%8A%B5.ipynb#ch0000058?line=12'>13</a>\u001b[0m x \u001b[39m=\u001b[39m Class_10(\u001b[39m5\u001b[39m)\n\u001b[1;32m---> <a href='vscode-notebook-cell:/c%3A/Users/spaceastonomy/Desktop/%EC%8B%A4%EC%8A%B5/220307/%EC%97%B0%EC%8A%B5.ipynb#ch0000058?line=13'>14</a>\u001b[0m \u001b[39mprint\u001b[39m(x\u001b[39m.\u001b[39;49marea())\n",
      "\u001b[1;31mTypeError\u001b[0m: Class_10.area() missing 1 required positional argument: 'r'"
     ]
    }
   ],
   "source": [
    "class Class_10():\n",
    "    _pie = 3.14\n",
    "    \n",
    "    def __init__(self, r):\n",
    "        self.r = r\n",
    "\n",
    "    def area(self, r):\n",
    "        self.result = []\n",
    "        self.result.append(2 * self._pie * r)\n",
    "        self.result.append(self._pie * (r**2))\n",
    "        return self.result\n",
    "\n",
    "x = Class_10(5)\n",
    "print(x.area())"
   ]
  },
  {
   "cell_type": "code",
   "execution_count": 48,
   "metadata": {},
   "outputs": [
    {
     "name": "stdout",
     "output_type": "stream",
     "text": [
      "[25.700000000000003, 39.25]\n",
      "[31.400000000000002, 78.5]\n",
      "[18.84, 28.26]\n"
     ]
    }
   ],
   "source": [
    "class Class_11(Class_10):\n",
    "    def __init__(self, input_r):\n",
    "        self.r = input_r\n",
    "\n",
    "    def half(self):\n",
    "        self.result = []\n",
    "        self.result.append(self._pie * self.r + 2 * self.r)\n",
    "        self.result.append(self._pie * (self.r **2) /2)\n",
    "        return self.result\n",
    "    \n",
    "    def area(self):\n",
    "        self.result = []\n",
    "        self.result.append(2 * self._pie * self.r)\n",
    "        self.result.append(self._pie * (self.r**2))\n",
    "        return self.result\n",
    "\n",
    "y = Class_11(5)\n",
    "print(y.half())\n",
    "print(y.area())\n",
    "print(x.area(3))"
   ]
  },
  {
   "cell_type": "code",
   "execution_count": 51,
   "metadata": {},
   "outputs": [],
   "source": [
    "class person:\n",
    "    eyes = 2\n",
    "    nose = 1\n",
    "    mouth = 1\n",
    "    ears = 2\n",
    "    arms = 2\n",
    "    legs = 2\n",
    "\n",
    "    def eat(self):\n",
    "        print('얌냠')\n",
    "\n",
    "    def sleep(self):\n",
    "        print(\"쿨쿨\")\n",
    "        \n",
    "    def talk(self):\n",
    "        print('주절주절')\n",
    "        "
   ]
  },
  {
   "cell_type": "code",
   "execution_count": 52,
   "metadata": {},
   "outputs": [],
   "source": [
    "class Student(person):\n",
    "    def study(self):\n",
    "        print(\"열공열공\")\n",
    "        "
   ]
  },
  {
   "cell_type": "code",
   "execution_count": 53,
   "metadata": {},
   "outputs": [
    {
     "data": {
      "text/plain": [
       "1"
      ]
     },
     "execution_count": 53,
     "metadata": {},
     "output_type": "execute_result"
    }
   ],
   "source": [
    "kim = person()\n",
    "kim.mouth"
   ]
  },
  {
   "cell_type": "code",
   "execution_count": 59,
   "metadata": {},
   "outputs": [
    {
     "name": "stdout",
     "output_type": "stream",
     "text": [
      "주절주절\n"
     ]
    }
   ],
   "source": [
    "kim.talk()"
   ]
  },
  {
   "cell_type": "code",
   "execution_count": 60,
   "metadata": {},
   "outputs": [],
   "source": [
    "class Fridge:\n",
    "    def __init__(self):\n",
    "        self.isopened = False\n",
    "        self.foods = []\n",
    "\n",
    "    def open(self):\n",
    "        self.isopened = True\n",
    "        print(\"냉장고 문을 열었어요\")\n",
    "    \n",
    "    def put (self, thing):\n",
    "        if self.isopened:\n",
    "            self.foods.append(thing)\n",
    "            print('냉장고 속에 음식이 들어갔네')\n",
    "        else:\n",
    "            print('냉장고 문이 닫혀있어서 못넣겠어요')\n",
    "    \n",
    "    def close(self):\n",
    "        self.isopened = False\n",
    "        print(\"냉장고 문을 닫았어요\")\n",
    "\n",
    "class Food:\n",
    "    pass"
   ]
  },
  {
   "cell_type": "code",
   "execution_count": 63,
   "metadata": {},
   "outputs": [
    {
     "name": "stdout",
     "output_type": "stream",
     "text": [
      "냉장고 문을 열었어요\n",
      "None\n"
     ]
    }
   ],
   "source": [
    "f = Fridge()\n",
    "\n",
    "print(f.open())"
   ]
  },
  {
   "cell_type": "code",
   "execution_count": 72,
   "metadata": {},
   "outputs": [
    {
     "name": "stdout",
     "output_type": "stream",
     "text": [
      "저의 이름은 {0}이고, 나이는 {1}, 사는 곳은 {2} 입니다.\n"
     ]
    }
   ],
   "source": [
    "class Menber:\n",
    "    def __init__(self, name, age, address):\n",
    "        self.name = name\n",
    "        self.age = age\n",
    "        self.address = address\n",
    "\n",
    "    def info(self):\n",
    "        print(\"저의 이름은 {0}이고, 나이는 {1}, 사는 곳은 {2} 입니다.\")\n",
    "\n",
    "introduce = Menber('nirsa', 80, \"인천 광역시\")\n",
    "\n",
    "introduce.info()"
   ]
  },
  {
   "cell_type": "code",
   "execution_count": 82,
   "metadata": {},
   "outputs": [
    {
     "ename": "AttributeError",
     "evalue": "'Member' object has no attribute 'info'",
     "output_type": "error",
     "traceback": [
      "\u001b[1;31m---------------------------------------------------------------------------\u001b[0m",
      "\u001b[1;31mAttributeError\u001b[0m                            Traceback (most recent call last)",
      "\u001b[1;32mc:\\Users\\spaceastonomy\\Desktop\\실습\\220307\\연습.ipynb Cell 67'\u001b[0m in \u001b[0;36m<module>\u001b[1;34m\u001b[0m\n\u001b[0;32m     <a href='vscode-notebook-cell:/c%3A/Users/spaceastonomy/Desktop/%EC%8B%A4%EC%8A%B5/220307/%EC%97%B0%EC%8A%B5.ipynb#ch0000067?line=14'>15</a>\u001b[0m     \u001b[39mprint\u001b[39m(\u001b[39m'\u001b[39m\u001b[39m저의 이름은 \u001b[39m\u001b[39m{0}\u001b[39;00m\u001b[39m이고, 나이는 \u001b[39m\u001b[39m{1}\u001b[39;00m\u001b[39m, 사는곳은 \u001b[39m\u001b[39m{2}\u001b[39;00m\u001b[39m 입니다\u001b[39m\u001b[39m'\u001b[39m) \n\u001b[0;32m     <a href='vscode-notebook-cell:/c%3A/Users/spaceastonomy/Desktop/%EC%8B%A4%EC%8A%B5/220307/%EC%97%B0%EC%8A%B5.ipynb#ch0000067?line=18'>19</a>\u001b[0m introduce \u001b[39m=\u001b[39m Member()\n\u001b[1;32m---> <a href='vscode-notebook-cell:/c%3A/Users/spaceastonomy/Desktop/%EC%8B%A4%EC%8A%B5/220307/%EC%97%B0%EC%8A%B5.ipynb#ch0000067?line=20'>21</a>\u001b[0m introduce\u001b[39m.\u001b[39;49minfo(\u001b[39m'\u001b[39m\u001b[39mnirsa\u001b[39m\u001b[39m'\u001b[39m, \u001b[39m80\u001b[39m, \u001b[39m'\u001b[39m\u001b[39m인천 광역시\u001b[39m\u001b[39m'\u001b[39m)\n\u001b[0;32m     <a href='vscode-notebook-cell:/c%3A/Users/spaceastonomy/Desktop/%EC%8B%A4%EC%8A%B5/220307/%EC%97%B0%EC%8A%B5.ipynb#ch0000067?line=21'>22</a>\u001b[0m introduce\u001b[39m.\u001b[39minfo2(\u001b[39m'\u001b[39m\u001b[39malpha\u001b[39m\u001b[39m'\u001b[39m, \u001b[39m68\u001b[39m, \u001b[39m'\u001b[39m\u001b[39m서울특별시\u001b[39m\u001b[39m'\u001b[39m)\n",
      "\u001b[1;31mAttributeError\u001b[0m: 'Member' object has no attribute 'info'"
     ]
    }
   ],
   "source": [
    "class Member:\n",
    "    value = 10\n",
    "\n",
    "def info(self, name, age, address):\n",
    "    self.name = name\n",
    "    self.age = age\n",
    "    self.address = address\n",
    "    print('저의 이름은{0}이고, 나이는 {1}, 사는 곳은 {2} 입니다.')\n",
    "    \n",
    "\n",
    "def info2(self, name, age, address): \n",
    "    self.name = name \n",
    "    self.age = age \n",
    "    self.address = address \n",
    "    print('저의 이름은 {0}이고, 나이는 {1}, 사는곳은 {2} 입니다') \n",
    "    \n",
    "\n",
    "\n",
    "introduce = Member()\n",
    "\n",
    "introduce.info('nirsa', 80, '인천 광역시')\n",
    "introduce.info2('alpha', 68, '서울특별시')\n",
    "\n"
   ]
  },
  {
   "cell_type": "code",
   "execution_count": 83,
   "metadata": {},
   "outputs": [],
   "source": [
    "class Human:\n",
    "    pass"
   ]
  },
  {
   "cell_type": "code",
   "execution_count": 84,
   "metadata": {},
   "outputs": [],
   "source": [
    "class Human:\n",
    "    pass\n",
    "\n",
    "# 클래스 정의"
   ]
  },
  {
   "cell_type": "code",
   "execution_count": 85,
   "metadata": {},
   "outputs": [
    {
     "name": "stdout",
     "output_type": "stream",
     "text": [
      "응애응애\n"
     ]
    }
   ],
   "source": [
    "class Human:\n",
    "    print('응애응애') #클래스 생성자-1\n",
    "\n",
    "a = Human #인스턴스 생성(human)"
   ]
  },
  {
   "cell_type": "code",
   "execution_count": 97,
   "metadata": {},
   "outputs": [
    {
     "name": "stdout",
     "output_type": "stream",
     "text": [
      "정훈\n"
     ]
    },
    {
     "ename": "AttributeError",
     "evalue": "'Human' object has no attribute 'print'",
     "output_type": "error",
     "traceback": [
      "\u001b[1;31m---------------------------------------------------------------------------\u001b[0m",
      "\u001b[1;31mAttributeError\u001b[0m                            Traceback (most recent call last)",
      "\u001b[1;32mc:\\Users\\spaceastonomy\\Desktop\\실습\\220307\\연습.ipynb Cell 71'\u001b[0m in \u001b[0;36m<module>\u001b[1;34m\u001b[0m\n\u001b[0;32m      <a href='vscode-notebook-cell:/c%3A/Users/spaceastonomy/Desktop/%EC%8B%A4%EC%8A%B5/220307/%EC%97%B0%EC%8A%B5.ipynb#ch0000071?line=6'>7</a>\u001b[0m a \u001b[39m=\u001b[39m Human(\u001b[39m\"\u001b[39m\u001b[39m정훈\u001b[39m\u001b[39m\"\u001b[39m, \u001b[39m\"\u001b[39m\u001b[39m35\u001b[39m\u001b[39m\"\u001b[39m, \u001b[39m\"\u001b[39m\u001b[39m여자\u001b[39m\u001b[39m\"\u001b[39m)\n\u001b[0;32m      <a href='vscode-notebook-cell:/c%3A/Users/spaceastonomy/Desktop/%EC%8B%A4%EC%8A%B5/220307/%EC%97%B0%EC%8A%B5.ipynb#ch0000071?line=7'>8</a>\u001b[0m \u001b[39mprint\u001b[39m(a\u001b[39m.\u001b[39mname) \u001b[39m#인스턴스 속성에 접근\u001b[39;00m\n\u001b[1;32m----> <a href='vscode-notebook-cell:/c%3A/Users/spaceastonomy/Desktop/%EC%8B%A4%EC%8A%B5/220307/%EC%97%B0%EC%8A%B5.ipynb#ch0000071?line=8'>9</a>\u001b[0m a\u001b[39m.\u001b[39;49mprint(name)\n",
      "\u001b[1;31mAttributeError\u001b[0m: 'Human' object has no attribute 'print'"
     ]
    }
   ],
   "source": [
    "class Human:\n",
    "    def __init__(self, name, age, sex):  #클래스 생성자-2\n",
    "\n",
    "        self.name = name\n",
    "        self.age = age\n",
    "        self.sex = sex\n",
    "a = Human(\"정훈\", \"35\", \"여자\")\n",
    "print(a.name) #인스턴스 속성에 접근\n",
    "a.print(name)"
   ]
  },
  {
   "cell_type": "code",
   "execution_count": 91,
   "metadata": {},
   "outputs": [
    {
     "name": "stdout",
     "output_type": "stream",
     "text": [
      "이름 : 정훈, 나이 : 35, 성별 : 남자\n"
     ]
    }
   ],
   "source": [
    "class Human():\n",
    "    def __init__(self, name, age, sex): #클래스 메소드 - 1\n",
    "        self.name = name\n",
    "        self.age = age\n",
    "        self.sex = sex\n",
    "\n",
    "    def who(self): \n",
    "        print(\"이름 : {}, 나이 : {}, 성별 : {}\".format(self.name, self.age, self.sex))\n",
    "\n",
    "a= Human(\"정훈\", \"35\", \"남자\")\n",
    "a.who()"
   ]
  },
  {
   "cell_type": "code",
   "execution_count": 92,
   "metadata": {},
   "outputs": [
    {
     "name": "stdout",
     "output_type": "stream",
     "text": [
      "이름 : 정훈, 나이 : 35, 성별 : 남자\n"
     ]
    }
   ],
   "source": [
    "class Human():\n",
    "    def __init__(self, name, age, sex): #클래스 메소드 - 1\n",
    "        self.name = name\n",
    "        self.age = age\n",
    "        self.sex = sex\n",
    "\n",
    "    def __del__(self):\n",
    "        print(\"나의 죽음을 알리지마라\")\n",
    "\n",
    "    def who(self): \n",
    "        print(\"이름 : {}, 나이 : {}, 성별 : {}\".format(self.name, self.age, self.sex))\n",
    "\n",
    "    def setInfo(self):\n",
    "        self.name = name\n",
    "        self.age = age\n",
    "        self.sex = sex\n",
    "\n",
    "a= Human(\"정훈\", \"35\", \"남자\")\n",
    "a.who()"
   ]
  },
  {
   "cell_type": "code",
   "execution_count": 107,
   "metadata": {},
   "outputs": [
    {
     "name": "stdout",
     "output_type": "stream",
     "text": [
      "Oh my god\n"
     ]
    }
   ],
   "source": [
    "class OMG : \n",
    "    def print(self) :\n",
    "        print(\"Oh my god\")\n",
    "\n",
    "myStock = OMG()\n",
    "myStock.print()\n"
   ]
  },
  {
   "cell_type": "code",
   "execution_count": null,
   "metadata": {},
   "outputs": [],
   "source": []
  }
 ],
 "metadata": {
  "interpreter": {
   "hash": "ddbee94c2ce3b61c3b1774ea67d55f2fdae8c29319837f6f09ba2209f9564fc6"
  },
  "kernelspec": {
   "display_name": "Python 3.10.2 64-bit",
   "language": "python",
   "name": "python3"
  },
  "language_info": {
   "codemirror_mode": {
    "name": "ipython",
    "version": 3
   },
   "file_extension": ".py",
   "mimetype": "text/x-python",
   "name": "python",
   "nbconvert_exporter": "python",
   "pygments_lexer": "ipython3",
   "version": "3.10.2"
  },
  "orig_nbformat": 4
 },
 "nbformat": 4,
 "nbformat_minor": 2
}
