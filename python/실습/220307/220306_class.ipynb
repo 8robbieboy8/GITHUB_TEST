{
 "cells": [
  {
   "cell_type": "code",
   "execution_count": 167,
   "metadata": {},
   "outputs": [],
   "source": [
    "#클래스 선언하기\n",
    "\n",
    "class Class_1():\n",
    "    def func_1(self):\n",
    "        print(\"Hello World\")\n"
   ]
  },
  {
   "cell_type": "code",
   "execution_count": 168,
   "metadata": {},
   "outputs": [
    {
     "name": "stdout",
     "output_type": "stream",
     "text": [
      "Hello World\n"
     ]
    }
   ],
   "source": [
    "a = Class_1() #클래스를 새로 생성하는 과정\n",
    "a.func_1()"
   ]
  },
  {
   "cell_type": "code",
   "execution_count": 169,
   "metadata": {},
   "outputs": [
    {
     "name": "stdout",
     "output_type": "stream",
     "text": [
      "Hello World\n"
     ]
    }
   ],
   "source": [
    "class Class_2():\n",
    "    def func_2(self): #self무조건 적어야 함\n",
    "        print(\"Hello World\")\n",
    "\n",
    "b = Class_2()\n",
    "b.func_2()"
   ]
  },
  {
   "cell_type": "code",
   "execution_count": 170,
   "metadata": {},
   "outputs": [],
   "source": [
    "class Class_3():\n",
    "    def __init__(self, input_a, input_b): #클래스를 생성할때 init이 돈다.\n",
    "        self.a = input_a\n",
    "        self.b = input_b\n",
    "\n",
    "c = Class_3(\"test\", \"test2\")"
   ]
  },
  {
   "cell_type": "code",
   "execution_count": 171,
   "metadata": {},
   "outputs": [
    {
     "data": {
      "text/plain": [
       "'test'"
      ]
     },
     "execution_count": 171,
     "metadata": {},
     "output_type": "execute_result"
    }
   ],
   "source": [
    "c.a"
   ]
  },
  {
   "cell_type": "code",
   "execution_count": 172,
   "metadata": {},
   "outputs": [
    {
     "data": {
      "text/plain": [
       "'test2'"
      ]
     },
     "execution_count": 172,
     "metadata": {},
     "output_type": "execute_result"
    }
   ],
   "source": [
    "c.b"
   ]
  },
  {
   "cell_type": "code",
   "execution_count": 173,
   "metadata": {},
   "outputs": [],
   "source": [
    "d = Class_3(\"test3\", \"test4\")"
   ]
  },
  {
   "cell_type": "code",
   "execution_count": 174,
   "metadata": {},
   "outputs": [
    {
     "data": {
      "text/plain": [
       "'test3'"
      ]
     },
     "execution_count": 174,
     "metadata": {},
     "output_type": "execute_result"
    }
   ],
   "source": [
    "d.a"
   ]
  },
  {
   "cell_type": "code",
   "execution_count": 175,
   "metadata": {},
   "outputs": [
    {
     "data": {
      "text/plain": [
       "'test4'"
      ]
     },
     "execution_count": 175,
     "metadata": {},
     "output_type": "execute_result"
    }
   ],
   "source": [
    "d.b"
   ]
  },
  {
   "cell_type": "code",
   "execution_count": 176,
   "metadata": {},
   "outputs": [
    {
     "data": {
      "text/plain": [
       "2213847634224"
      ]
     },
     "execution_count": 176,
     "metadata": {},
     "output_type": "execute_result"
    }
   ],
   "source": [
    "id(c.a) #메모리 어디에 있는지 출력 할수 있음"
   ]
  },
  {
   "cell_type": "code",
   "execution_count": 177,
   "metadata": {},
   "outputs": [
    {
     "data": {
      "text/plain": [
       "2213933178800"
      ]
     },
     "execution_count": 177,
     "metadata": {},
     "output_type": "execute_result"
    }
   ],
   "source": [
    "id(c.b)"
   ]
  },
  {
   "cell_type": "code",
   "execution_count": 178,
   "metadata": {},
   "outputs": [
    {
     "data": {
      "text/plain": [
       "2213933174576"
      ]
     },
     "execution_count": 178,
     "metadata": {},
     "output_type": "execute_result"
    }
   ],
   "source": [
    "id(d.a)"
   ]
  },
  {
   "cell_type": "code",
   "execution_count": 179,
   "metadata": {},
   "outputs": [],
   "source": [
    "class Class_4():\n",
    "\n",
    "    name = \"test\" #클래스 변수, self를 넣게 되면 서로 공유불가 \n",
    "\n",
    "    def __init__(self, input_c):\n",
    "        self.c = input_c\n",
    "\n",
    "\n",
    "a = Class_4(\"123\")\n",
    "b = Class_4(\"456\")\n",
    "c = Class_4(\"789\")"
   ]
  },
  {
   "cell_type": "code",
   "execution_count": 180,
   "metadata": {},
   "outputs": [
    {
     "name": "stdout",
     "output_type": "stream",
     "text": [
      "test test test\n",
      "123 456 789\n"
     ]
    }
   ],
   "source": [
    "print(a.name, b.name, c.name)\n",
    "print(a.c, b.c, c.c)"
   ]
  },
  {
   "cell_type": "code",
   "execution_count": 181,
   "metadata": {},
   "outputs": [
    {
     "name": "stdout",
     "output_type": "stream",
     "text": [
      "['0101234567', '0109876554'] ['0101234567', '0109876554']\n"
     ]
    }
   ],
   "source": [
    "class Class_5():\n",
    "    _list = []\n",
    "\n",
    "    def __init__(self, input_name):\n",
    "        self.name = input_name\n",
    "\n",
    "    def add_list(self, input_phone):\n",
    "        self._list.append(input_phone)\n",
    "\n",
    "d = Class_5(\"test\")\n",
    "e = Class_5(\"test2\")\n",
    "d.add_list(\"0101234567\")\n",
    "e.add_list(\"0109876554\")\n",
    "print(d._list, e._list)"
   ]
  },
  {
   "cell_type": "code",
   "execution_count": 182,
   "metadata": {},
   "outputs": [
    {
     "name": "stdout",
     "output_type": "stream",
     "text": [
      "['0101234567'] ['0109876554']\n"
     ]
    }
   ],
   "source": [
    "class Class_5():\n",
    "\n",
    "    def __init__(self, input_name):\n",
    "        self.name = input_name\n",
    "        self._list = [] #클래스를 생성을 하고 초기화 해서 출력 하겠다.\n",
    "\n",
    "    def add_list(self, input_phone):\n",
    "        self._list.append(input_phone)\n",
    "\n",
    "d = Class_5(\"test\")\n",
    "e = Class_5(\"test2\")\n",
    "d.add_list(\"0101234567\")\n",
    "e.add_list(\"0109876554\")\n",
    "print(d._list, e._list)"
   ]
  },
  {
   "cell_type": "code",
   "execution_count": 183,
   "metadata": {},
   "outputs": [
    {
     "name": "stdout",
     "output_type": "stream",
     "text": [
      "['0101234567', '23445433'] ['0109876554', '89938459']\n"
     ]
    }
   ],
   "source": [
    "d.add_list(\"23445433\")\n",
    "e.add_list(\"89938459\")\n",
    "print(d._list, e._list) #서로 다른 공간에 있기 때문에 \n",
    "#실행을 할때 마다 추가가 된다. "
   ]
  },
  {
   "cell_type": "code",
   "execution_count": 184,
   "metadata": {},
   "outputs": [
    {
     "name": "stdout",
     "output_type": "stream",
     "text": [
      "test test2\n"
     ]
    }
   ],
   "source": [
    "print(d.name, e.name)"
   ]
  },
  {
   "cell_type": "code",
   "execution_count": 185,
   "metadata": {},
   "outputs": [
    {
     "name": "stdout",
     "output_type": "stream",
     "text": [
      "3\n",
      "7\n"
     ]
    }
   ],
   "source": [
    "sum = 0 \n",
    "\n",
    "def add(x):\n",
    "    global sum\n",
    "    sum += x\n",
    "    return sum\n",
    "\n",
    "print(add(3))\n",
    "print(add(4))\n"
   ]
  },
  {
   "cell_type": "code",
   "execution_count": 186,
   "metadata": {},
   "outputs": [
    {
     "name": "stdout",
     "output_type": "stream",
     "text": [
      "3\n",
      "4\n",
      "13\n",
      "5\n"
     ]
    }
   ],
   "source": [
    "sum_1 = 0\n",
    "sum_2 = 0\n",
    "def add_1(x):\n",
    "    global sum_1\n",
    "    sum_1 += x\n",
    "    return sum_1\n",
    "\n",
    "def add_2(x):\n",
    "    global sum_2\n",
    "    sum_2 += x\n",
    "    return sum_2\n",
    "\n",
    "print(add_1(3))\n",
    "print(add_2(4))\n",
    "print(add_1(10))\n",
    "print(add_2(1))"
   ]
  },
  {
   "cell_type": "code",
   "execution_count": 2,
   "metadata": {},
   "outputs": [
    {
     "name": "stdout",
     "output_type": "stream",
     "text": [
      "4\n",
      "2\n"
     ]
    }
   ],
   "source": [
    "class Class_6(): \n",
    "    def data(self, me, you):\n",
    "        self.qq = me            \n",
    "        self.ww = you          \n",
    "\n",
    "    def add(self):\n",
    "        result =self.qq + self.ww\n",
    "        return result\n",
    "\n",
    "a = Class_6() \n",
    "a.data(4, 2)\n",
    "'''\n",
    "위의 수행결과\n",
    "self.me = 4\n",
    "self.you = 2\n",
    "고로\n",
    "a.me = 4\n",
    "a.you = 2\n",
    "4와 2가 여기에 저장이됨\n",
    "'''\n",
    "print(a.qq)\n",
    "print(a.ww)"
   ]
  },
  {
   "cell_type": "code",
   "execution_count": 4,
   "metadata": {},
   "outputs": [
    {
     "name": "stdout",
     "output_type": "stream",
     "text": [
      "6\n",
      "10\n",
      "3\n",
      "7\n"
     ]
    }
   ],
   "source": [
    "a = Class_6()\n",
    "b = Class_6()\n",
    "\n",
    "a.data(4, 2)\n",
    "b.data(3, 7)\n",
    "'''\n",
    "위의 data를 수행함으로써\n",
    "a.me와 a.you에 값이 저장이 되어있기 때문에\n",
    "아래 add를 실행하자마자 바로 작동 되는 것\n",
    "'''\n",
    "print(a.add())\n",
    "print(b.add())\n",
    "\n",
    "print(b.qq)\n",
    "print(b.ww)\n"
   ]
  },
  {
   "cell_type": "code",
   "execution_count": 5,
   "metadata": {},
   "outputs": [
    {
     "name": "stdout",
     "output_type": "stream",
     "text": [
      "4\n",
      "11\n",
      "7\n",
      "8\n"
     ]
    }
   ],
   "source": [
    "class Class_6():\n",
    "    def __init__(self):\n",
    "        self._sum = 0\n",
    "    \n",
    "    def add(self, input_x):\n",
    "        self._sum += input_x #self._sum = self._sum + input_x\n",
    "        return self._sum\n",
    "\n",
    "a = Class_6()\n",
    "b = Class_6()\n",
    "\n",
    "print(a.add(4))\n",
    "print(a.add(7))\n",
    "print(b.add(7))\n",
    "print(b.add(1))"
   ]
  },
  {
   "cell_type": "code",
   "execution_count": 190,
   "metadata": {},
   "outputs": [
    {
     "name": "stdout",
     "output_type": "stream",
     "text": [
      "0\n"
     ]
    }
   ],
   "source": [
    "class Class_7():\n",
    "    def __init__(self):\n",
    "        self._sum = 0\n",
    "    \n",
    "    def add(self, input_x):\n",
    "        self._sum += input_x\n",
    "        \n",
    "\n",
    "a = Class_7()\n",
    "b = Class_7()\n",
    "\n",
    "print(a._sum)"
   ]
  },
  {
   "cell_type": "code",
   "execution_count": 191,
   "metadata": {},
   "outputs": [],
   "source": [
    "# 1. Class 생성 -> 초기에 인자값 2개를 입력 받아서 변수 2개 이 값들을 지정\n",
    "# 2. 첫번째 함수 변수 2개의 값을 변경을 하는 함수\n",
    "# 3. 이 후에 6개의 함수는 변수의 2개의 +, -, *, /, %의 함수를 생성\n",
    "# 4. 7개의 함수를 다 실행을 해봅시다. "
   ]
  },
  {
   "cell_type": "code",
   "execution_count": 192,
   "metadata": {},
   "outputs": [
    {
     "name": "stdout",
     "output_type": "stream",
     "text": [
      "10\n",
      "4\n",
      "21\n",
      "2.3333333333333335\n",
      "1\n"
     ]
    }
   ],
   "source": [
    "class Class_8():\n",
    "    def __init__(self, first, sceond):\n",
    "        # 클래스 생성이 되고ㅡ 인자값 2개를 변수 2개에 지정을 해주는 과정\n",
    "        self.A = first\n",
    "        self.B = sceond\n",
    "\n",
    "    def change(self, first, sceond):\n",
    "        self.A = first\n",
    "        self.B = sceond\n",
    "\n",
    "    def sum(self):\n",
    "        # self._sum = self.A + self.B\n",
    "        # returnself._sum\n",
    "        return self.A + self.B\n",
    "        \n",
    "    def diff(self):\n",
    "        return self.A - self.B\n",
    "\n",
    "    def mul(self):\n",
    "        return self.A * self.B\n",
    "\n",
    "    def div(self):\n",
    "        if self.B ==0:\n",
    "            return 0\n",
    "        else:\n",
    "            return self.A / self.B\n",
    "\n",
    "    def rem(self):\n",
    "        if self.B ==0:\n",
    "            return 0 \n",
    "        else:\n",
    "            return self.A % self.B\n",
    "\n",
    "    \n",
    "\n",
    "cal = Class_8(7, 3)\n",
    "print(cal.sum())\n",
    "print(cal.diff())\n",
    "print(cal.mul())\n",
    "print(cal.div())\n",
    "print(cal.rem())\n",
    "\n"
   ]
  },
  {
   "cell_type": "code",
   "execution_count": 193,
   "metadata": {},
   "outputs": [
    {
     "name": "stdout",
     "output_type": "stream",
     "text": [
      "2\n",
      "2\n",
      "0\n",
      "0\n",
      "0\n"
     ]
    }
   ],
   "source": [
    "cal = Class_8(2, 0)\n",
    "print(cal.sum())\n",
    "print(cal.diff())\n",
    "print(cal.mul())\n",
    "print(cal.div())\n",
    "print(cal.rem())"
   ]
  },
  {
   "cell_type": "code",
   "execution_count": 194,
   "metadata": {},
   "outputs": [],
   "source": [
    "# 1. class 밑변의 길이, 높이를 인자 값으로 넣어주는 클래스를 생성\n",
    "# 2. 삼각형일때 넓이, 사각형의 넓이를 구하는 함수를 생성\n",
    "# 3. 이 함수는 init을 제외한 단 1개의 함수로 구성이 되는 클래스를 생성\n",
    "# 4. init이 아닌 함수 인자값에서 삼각형의 넓이인지 사각형의 넓이인지 \n",
    "# 지정을 해줍니다. "
   ]
  },
  {
   "cell_type": "code",
   "execution_count": 195,
   "metadata": {},
   "outputs": [
    {
     "name": "stdout",
     "output_type": "stream",
     "text": [
      "6.0\n",
      "12\n",
      "지정된 값이 아니다.\n"
     ]
    }
   ],
   "source": [
    "class Class_9():\n",
    "    def __init__(patten, width, height):\n",
    "        patten.width = width\n",
    "        patten.height = height \n",
    "\n",
    "    def area(patten, x):\n",
    "        if x == 3:\n",
    "            return patten.width * patten.height / 2\n",
    "        elif x == 4:\n",
    "            return patten.width * patten.height\n",
    "        else:\n",
    "            return \"지정된 값이 아니다.\"\n",
    "    \n",
    "a = Class_9(3, 4)\n",
    "print(a.area(3))\n",
    "print(a.area(4))\n",
    "print(a.area(5))"
   ]
  },
  {
   "cell_type": "code",
   "execution_count": 1,
   "metadata": {},
   "outputs": [
    {
     "name": "stdout",
     "output_type": "stream",
     "text": [
      "[18.84, 28.26]\n"
     ]
    }
   ],
   "source": [
    "class Class_10(): #클래스는 행동 2가지만 한다. 변수지정, 함수를 만들거나\n",
    "    _pie = 3.14\n",
    "\n",
    "    def area(self, r): #매서드 함수\n",
    "        self.r = []\n",
    "        self.r.append(2 * self._pie * r) #속성은 변수, 변수는 값\n",
    "        self.r.append(self._pie * (r**2))\n",
    "        return self.r\n",
    "\n",
    "x = Class_10()\n",
    "print(x.area(3)) #인자값이 들어가야 함"
   ]
  },
  {
   "cell_type": "code",
   "execution_count": 206,
   "metadata": {},
   "outputs": [
    {
     "name": "stdout",
     "output_type": "stream",
     "text": [
      "[25.700000000000003, 39.25]\n",
      "[31.400000000000002, 78.5]\n",
      "[18.84, 28.26]\n"
     ]
    }
   ],
   "source": [
    "class Class_11(Class_10):\n",
    "    def __init__(self, input_r): #인자 값을 받았는지 안받았는지\n",
    "        self.r = input_r\n",
    "\n",
    "    def half(self):  \n",
    "        self.result = []\n",
    "        self.result.append(self._pie * self.r + 2 * self.r)\n",
    "        self.result.append(self._pie * (self.r **2) / 2)\n",
    "        return self.result\n",
    "\n",
    "    def area(self): #area 기능 수정(프린트때 인자값 안써도 된다)\n",
    "        self.result = []\n",
    "        self.result.append(2 * self._pie * self.r)\n",
    "        self.result.append(self._pie * (self.r**2))\n",
    "        return self.result\n",
    "\n",
    "\n",
    "y = Class_11(5)\n",
    "print(y.half())\n",
    "print(y.area())#인자값이 필요 없음\n",
    "print(x.area(3))"
   ]
  },
  {
   "cell_type": "code",
   "execution_count": 9,
   "metadata": {},
   "outputs": [
    {
     "name": "stdout",
     "output_type": "stream",
     "text": [
      "PARK\n",
      "KIM\n"
     ]
    }
   ],
   "source": [
    "class AutoEmail():\n",
    "    def __init__(self, name):\n",
    "        self.name = name\n",
    "\n",
    "mail_to_park = AutoEmail(\"PARK\")\n",
    "mail_to_kim = AutoEmail(\"KIM\")\n",
    "\n",
    "\n",
    "\n",
    "print(mail_to_park.name)\n",
    "# \"PARK\"\n",
    "\n",
    "print(mail_to_kim.name)\n",
    "# \"KIM\""
   ]
  },
  {
   "cell_type": "code",
   "execution_count": 10,
   "metadata": {},
   "outputs": [
    {
     "name": "stdout",
     "output_type": "stream",
     "text": [
      "안녕하세요 PARK 님\n",
      "안녕하세요 KIM 님\n"
     ]
    }
   ],
   "source": [
    "class AutoEmail:\n",
    "    intro = \"안녕하세요\"\n",
    "\n",
    "    def __init__(self, name):\n",
    "        self.name = name\n",
    "\n",
    "    def say_hello(self):\n",
    "        return \"{intro} {name} 님\".format(intro=self.intro, name=self.name)\n",
    "\n",
    "P = AutoEmail(\"PARK\")\n",
    "K = AutoEmail(\"KIM\")\n",
    "\n",
    "print(P.say_hello())\n",
    "# \"안녕하세요 PARK 님\"\n",
    "\n",
    "print(K.say_hello())\n",
    "# \"안녕하세요 KIM 님\""
   ]
  },
  {
   "cell_type": "code",
   "execution_count": null,
   "metadata": {},
   "outputs": [],
   "source": []
  }
 ],
 "metadata": {
  "interpreter": {
   "hash": "ddbee94c2ce3b61c3b1774ea67d55f2fdae8c29319837f6f09ba2209f9564fc6"
  },
  "kernelspec": {
   "display_name": "Python 3.10.2 64-bit",
   "language": "python",
   "name": "python3"
  },
  "language_info": {
   "codemirror_mode": {
    "name": "ipython",
    "version": 3
   },
   "file_extension": ".py",
   "mimetype": "text/x-python",
   "name": "python",
   "nbconvert_exporter": "python",
   "pygments_lexer": "ipython3",
   "version": "3.10.2"
  },
  "orig_nbformat": 4
 },
 "nbformat": 4,
 "nbformat_minor": 2
}
