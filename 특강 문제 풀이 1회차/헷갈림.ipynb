{
 "cells": [
  {
   "cell_type": "code",
   "execution_count": null,
   "metadata": {},
   "outputs": [],
   "source": [
    "##########################################\n",
    "#기존의 데이터를 합치는 방법으로 생성\n",
    "##########################################\n",
    "#4번째 Series , append 이용 방법\n",
    "df_s = pd.DataFrame(columns = df3.columns)\n",
    "s = pd.Series(data=[\"3R\", 1510,7.36], index=df3.columns)\n",
    "df_s.loc[\"066570\"] = s\n",
    "df_s.loc[\"036360\"] = [\"3SOFT\", 1790,1.65]\n",
    "s = pd.Series(data=[\"ACTS\", 1185,1.28], index=df3.columns, name=\"005760\")\n",
    "df_s = df_s.append(s)\n",
    "print(\"\\n4번째 Series 사용 방법\\n\",df_s)"
   ]
  },
  {
   "cell_type": "code",
   "execution_count": null,
   "metadata": {},
   "outputs": [],
   "source": [
    "# vstack(vertical) 수직방향으로 ndarray를 이어 붙입니다. , hstack (hight) 수평방향으로 ndarray를 이어 붙입니다.\n",
    "a = np.arange(4).reshape(1,-1)\n",
    "b = np.arange(4, 8).reshape(1,-1)\n",
    "print(\"원본\\n\",a,\"\\n\",b,\"\\n\")\n",
    "c = np.vstack( [a, b])\n",
    "d = np.hstack( [a, b])\n",
    "c_0 = np.concatenate((a, b), axis=0)   # Default (수직방향)\n",
    "d_0 = np.concatenate((a, b), axis=1) # (수평방향)\n",
    "print(\"vstack결과\\n\",c)\n",
    "print(\"hstack결과\\n\", d)\n",
    "print(\"concatenate 결과(axis=0)\\n\",c_0)\n",
    "print(\"concatenate 결과(axis=1)\\n\", d_0)"
   ]
  },
  {
   "cell_type": "code",
   "execution_count": null,
   "metadata": {},
   "outputs": [],
   "source": [
    "df5 = pd.DataFrame({'종목코드' :['037730'],'종목명': ['3R'] ,'현재가': [1510] })\n",
    "df6 = pd.DataFrame({'종목코드' :['036360','005760'],'종목명': ['3SOFT','ACTS'] ,'현재가': [1790 , 1185]})\n",
    "\n",
    "df9 = pd.merge(df5,df6, how='outer', left_index=False, right_index=False)\n",
    "print(\"\\n7번째 merge 방법 \\n\",df9)"
   ]
  },
  {
   "cell_type": "code",
   "execution_count": null,
   "metadata": {},
   "outputs": [],
   "source": [
    "data = [\n",
    "    [\"3R\", 1510, 7.36],\n",
    "    [\"3SOFT\", 1790, 1.65],\n",
    "    [\"ACTS\", 1185, 1.28]\n",
    "]\n",
    "\n",
    "index = [\"037730\", \"036360\", \"005760\"]\n",
    "columns = [\"종목명\", \"현재가\", \"등락률\"]\n",
    "df = pd.DataFrame(data=data, index=index, columns=columns)\n",
    "print(df)\n",
    "# 인덱싱\n",
    "print(\"인덱싱\\nloc\\n\",df.loc[\"037730\"])\n",
    "print(\"\\niloc\\n\",df.iloc[ 0 ])\n",
    "\n",
    "#슬라이싱\n",
    "print(\"\\n슬라이싱\\nloc\\n\",df.loc[ [ \"037730\", \"036360\" ] ])\n",
    "print(\"\\niloc\\n\",df.iloc[ [ 0, 1 ] ])"
   ]
  },
  {
   "cell_type": "code",
   "execution_count": null,
   "metadata": {},
   "outputs": [],
   "source": [
    "# 1500 이상의 값만 받아오기\n",
    "temp = df['현재가'] >= 1500\n",
    "print(df.loc[temp],\"\\n\")\n",
    "print(df.loc[df['현재가'] >= 1500],\"\\n\")\n",
    "\n",
    "print(df.loc[~temp])"
   ]
  },
  {
   "cell_type": "code",
   "execution_count": null,
   "metadata": {},
   "outputs": [],
   "source": [
    "cash = 100000\n",
    "df['비중'] = round(100/3, 1)\n",
    "# df['비중']\n",
    "df['투입금액'] = round(cash * df['비중'] / 100, -3)\n",
    "df['보유주식수'] = round(df['투입금액'] / df['현재가'])\n",
    "df['보유주식수']"
   ]
  }
 ],
 "metadata": {
  "language_info": {
   "name": "python"
  },
  "orig_nbformat": 4
 },
 "nbformat": 4,
 "nbformat_minor": 2
}
