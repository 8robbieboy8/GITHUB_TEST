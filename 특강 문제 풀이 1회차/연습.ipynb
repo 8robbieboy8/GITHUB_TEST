{
 "cells": [
  {
   "cell_type": "code",
   "execution_count": 14,
   "metadata": {},
   "outputs": [
    {
     "data": {
      "text/html": [
       "<div>\n",
       "<style scoped>\n",
       "    .dataframe tbody tr th:only-of-type {\n",
       "        vertical-align: middle;\n",
       "    }\n",
       "\n",
       "    .dataframe tbody tr th {\n",
       "        vertical-align: top;\n",
       "    }\n",
       "\n",
       "    .dataframe thead th {\n",
       "        text-align: right;\n",
       "    }\n",
       "</style>\n",
       "<table border=\"1\" class=\"dataframe\">\n",
       "  <thead>\n",
       "    <tr style=\"text-align: right;\">\n",
       "      <th></th>\n",
       "      <th>datetime</th>\n",
       "      <th>ITEM_NAME</th>\n",
       "      <th>item_price</th>\n",
       "      <th>customer_name</th>\n",
       "    </tr>\n",
       "  </thead>\n",
       "  <tbody>\n",
       "    <tr>\n",
       "      <th>51</th>\n",
       "      <td>2019-01-02 13:26</td>\n",
       "      <td>상 품 n</td>\n",
       "      <td>1400.0</td>\n",
       "      <td>김범준</td>\n",
       "    </tr>\n",
       "    <tr>\n",
       "      <th>180</th>\n",
       "      <td>2019-03-02 15:38</td>\n",
       "      <td>상품 E</td>\n",
       "      <td>500.0</td>\n",
       "      <td>김시율</td>\n",
       "    </tr>\n",
       "    <tr>\n",
       "      <th>107</th>\n",
       "      <td>2019-03-02 1:53</td>\n",
       "      <td>상품 M</td>\n",
       "      <td>1300.0</td>\n",
       "      <td>김동건</td>\n",
       "    </tr>\n",
       "    <tr>\n",
       "      <th>161</th>\n",
       "      <td>2019-03-04 16:39</td>\n",
       "      <td>상품 P</td>\n",
       "      <td>1600.0</td>\n",
       "      <td>김승윤</td>\n",
       "    </tr>\n",
       "    <tr>\n",
       "      <th>106</th>\n",
       "      <td>2019-05-03 1:15</td>\n",
       "      <td>상품 S</td>\n",
       "      <td>1900.0</td>\n",
       "      <td>김동현</td>\n",
       "    </tr>\n",
       "    <tr>\n",
       "      <th>...</th>\n",
       "      <td>...</td>\n",
       "      <td>...</td>\n",
       "      <td>...</td>\n",
       "      <td>...</td>\n",
       "    </tr>\n",
       "    <tr>\n",
       "      <th>1499</th>\n",
       "      <td>2019-04-24 14:12</td>\n",
       "      <td>상품s</td>\n",
       "      <td>1900.0</td>\n",
       "      <td>김현성</td>\n",
       "    </tr>\n",
       "    <tr>\n",
       "      <th>1524</th>\n",
       "      <td>2019-02-28 15:15</td>\n",
       "      <td>상품t</td>\n",
       "      <td>2000.0</td>\n",
       "      <td>김성민</td>\n",
       "    </tr>\n",
       "    <tr>\n",
       "      <th>1336</th>\n",
       "      <td>2019-02-18 8:16</td>\n",
       "      <td>상품v</td>\n",
       "      <td>2200.0</td>\n",
       "      <td>김연호</td>\n",
       "    </tr>\n",
       "    <tr>\n",
       "      <th>2031</th>\n",
       "      <td>2019-06-05 13:37</td>\n",
       "      <td>상품x</td>\n",
       "      <td>2400.0</td>\n",
       "      <td>김수민</td>\n",
       "    </tr>\n",
       "    <tr>\n",
       "      <th>26</th>\n",
       "      <td>2019-05-16 4:45</td>\n",
       "      <td>상품y</td>\n",
       "      <td>2500.0</td>\n",
       "      <td>김태현</td>\n",
       "    </tr>\n",
       "  </tbody>\n",
       "</table>\n",
       "<p>2999 rows × 4 columns</p>\n",
       "</div>"
      ],
      "text/plain": [
       "              datetime ITEM_NAME item_price customer_name\n",
       "51    2019-01-02 13:26     상 품 n     1400.0           김범준\n",
       "180   2019-03-02 15:38      상품 E      500.0           김시율\n",
       "107    2019-03-02 1:53      상품 M     1300.0           김동건\n",
       "161   2019-03-04 16:39      상품 P     1600.0           김승윤\n",
       "106    2019-05-03 1:15      상품 S     1900.0           김동현\n",
       "...                ...       ...        ...           ...\n",
       "1499  2019-04-24 14:12       상품s     1900.0           김현성\n",
       "1524  2019-02-28 15:15       상품t     2000.0           김성민\n",
       "1336   2019-02-18 8:16       상품v     2200.0           김연호\n",
       "2031  2019-06-05 13:37       상품x     2400.0           김수민\n",
       "26     2019-05-16 4:45       상품y     2500.0           김태현\n",
       "\n",
       "[2999 rows x 4 columns]"
      ]
     },
     "execution_count": 14,
     "metadata": {},
     "output_type": "execute_result"
    }
   ],
   "source": [
    "import pandas as pd \n",
    "\n",
    "uri = pd.read_csv('./num_1/uriage.csv')\n",
    "uri_1 = uri.rename(columns={'purchase_date' : 'datetime'})\n",
    "uri_2 = uri_1.sort_values('item_name')\n",
    "uri_2.columns.values[1] = 'ITEM_NAME'\n",
    "uri_2.isna().sum()\n",
    "uri_3 = uri_2.fillna('max')\n",
    "uri_3"
   ]
  },
  {
   "cell_type": "markdown",
   "metadata": {},
   "source": [
    "# 데이터 프레임 사용하기 \n",
    "\n",
    "1. 먼저 판다스를 임폴트 한다.\n",
    "\n",
    "* 그리고 변수에 pd.read_csv를 담아준다. ()안에 경로를 적어준다. \n",
    "* 컬럼명을 전부 바뀌고 싶다면, 변수.columns = [\"\"]안 변경할 컬럼 명들을 순차척으로 적어 주면 된다. \n",
    "*  그런데 특정 컬럼만 변경하고 싶다면, 변수.rename(columns = {'A':'B'}) 이렇게 만들고 에이에는 변경전 원본 컬럼을 만들어 주고, 비 부분에 변경할 컬럼명을 넣어 주면 된다. \n",
    "* 특정 컬럼에 대한 정보만 뽑고 싶다면 변수.컬럼명을 넣어주면 되고, 조금더 이쁘게 뽑고 싶다면 pd.DataFrame()안에 넣어 주면 된다. \n",
    "* 어떤 컬럼 기준으로 정렬을 하고 싶다면 변수.sort_values(\"\") 안에 컬럼명을 넣어주면 된다. 오름차 순이 기본값이다.\n",
    "* 값들중에 빈도수를 세고 싶다면, 변수[\"A\"].value_counts() 해서 보면 되고, 내림차순이 기본값이다. \n",
    "* "
   ]
  },
  {
   "cell_type": "code",
   "execution_count": 38,
   "metadata": {},
   "outputs": [
    {
     "ename": "SyntaxError",
     "evalue": "closing parenthesis ')' does not match opening parenthesis '{' (3453817150.py, line 4)",
     "output_type": "error",
     "traceback": [
      "\u001b[1;36m  Input \u001b[1;32mIn [38]\u001b[1;36m\u001b[0m\n\u001b[1;33m    uri_1 = uri.rname(columns = {'A' : 'b')\u001b[0m\n\u001b[1;37m                                          ^\u001b[0m\n\u001b[1;31mSyntaxError\u001b[0m\u001b[1;31m:\u001b[0m closing parenthesis ')' does not match opening parenthesis '{'\n"
     ]
    }
   ],
   "source": [
    "import pandas as pd\n",
    "\n",
    "uri = pd.read_csv('./')\n",
    "uri.rename(columns = {'A' : 'b'})\n",
    "uri.sort_values('item_name')\n",
    "uri.columns.values[1] = \"name\"\n",
    "uri.isna().sum()\n",
    "uri.fillna('max')\n",
    "uri.reset_index(inplace= True)"
   ]
  },
  {
   "cell_type": "code",
   "execution_count": null,
   "metadata": {},
   "outputs": [],
   "source": [
    "import pandas as pd \n",
    "\n",
    "uri = pd.read_csv('./num_1/uriage.csv')\n",
    "uri_1 = uri.rename(columns={'purchase_date' : 'datetime'})\n",
    "uri_2 = uri_1.sort_values('item_name')\n",
    "uri_2.columns.values[1] = 'ITEM_NAME'\n",
    "uri_2.isna().sum()\n",
    "uri_3 = uri_2.fillna('max')\n",
    "uri_3.reset_index(inplace=True)\n",
    "uri_3\n"
   ]
  },
  {
   "cell_type": "code",
   "execution_count": 15,
   "metadata": {},
   "outputs": [],
   "source": [
    "import pandas as pd \n",
    "\n",
    "uri = pd.read_csv('./num_1/uriage.csv')"
   ]
  },
  {
   "cell_type": "code",
   "execution_count": 33,
   "metadata": {},
   "outputs": [
    {
     "data": {
      "text/plain": [
       "51       상 품 n\n",
       "180       상품 E\n",
       "107       상품 M\n",
       "161       상품 P\n",
       "106       상품 S\n",
       "         ...  \n",
       "1499       상품s\n",
       "1524       상품t\n",
       "1336       상품v\n",
       "2031       상품x\n",
       "26         상품y\n",
       "Name: name, Length: 2999, dtype: object"
      ]
     },
     "execution_count": 33,
     "metadata": {},
     "output_type": "execute_result"
    }
   ],
   "source": [
    "uri_1 = uri.rename(columns={'purchase_date' : 'datetime', 'item_name' : 'name'})\n",
    "pd.DataFrame(uri_1.datetime)\n",
    "uri_1[\"name\"].value_counts(ascending=True)\n",
    "uri_1['name'].sort_values(ascending=True)\n",
    "\n"
   ]
  },
  {
   "cell_type": "code",
   "execution_count": 9,
   "metadata": {},
   "outputs": [
    {
     "data": {
      "text/html": [
       "<div>\n",
       "<style scoped>\n",
       "    .dataframe tbody tr th:only-of-type {\n",
       "        vertical-align: middle;\n",
       "    }\n",
       "\n",
       "    .dataframe tbody tr th {\n",
       "        vertical-align: top;\n",
       "    }\n",
       "\n",
       "    .dataframe thead th {\n",
       "        text-align: right;\n",
       "    }\n",
       "</style>\n",
       "<table border=\"1\" class=\"dataframe\">\n",
       "  <thead>\n",
       "    <tr style=\"text-align: right;\">\n",
       "      <th></th>\n",
       "      <th>datetime</th>\n",
       "      <th>item_name</th>\n",
       "      <th>item_price</th>\n",
       "      <th>customer_name</th>\n",
       "    </tr>\n",
       "  </thead>\n",
       "  <tbody>\n",
       "    <tr>\n",
       "      <th>51</th>\n",
       "      <td>2019-01-02 13:26</td>\n",
       "      <td>상 품 n</td>\n",
       "      <td>1400.0</td>\n",
       "      <td>김범준</td>\n",
       "    </tr>\n",
       "    <tr>\n",
       "      <th>180</th>\n",
       "      <td>2019-03-02 15:38</td>\n",
       "      <td>상품 E</td>\n",
       "      <td>500.0</td>\n",
       "      <td>김시율</td>\n",
       "    </tr>\n",
       "    <tr>\n",
       "      <th>107</th>\n",
       "      <td>2019-03-02 1:53</td>\n",
       "      <td>상품 M</td>\n",
       "      <td>1300.0</td>\n",
       "      <td>김동건</td>\n",
       "    </tr>\n",
       "    <tr>\n",
       "      <th>161</th>\n",
       "      <td>2019-03-04 16:39</td>\n",
       "      <td>상품 P</td>\n",
       "      <td>1600.0</td>\n",
       "      <td>김승윤</td>\n",
       "    </tr>\n",
       "    <tr>\n",
       "      <th>106</th>\n",
       "      <td>2019-05-03 1:15</td>\n",
       "      <td>상품 S</td>\n",
       "      <td>1900.0</td>\n",
       "      <td>김동현</td>\n",
       "    </tr>\n",
       "    <tr>\n",
       "      <th>...</th>\n",
       "      <td>...</td>\n",
       "      <td>...</td>\n",
       "      <td>...</td>\n",
       "      <td>...</td>\n",
       "    </tr>\n",
       "    <tr>\n",
       "      <th>1499</th>\n",
       "      <td>2019-04-24 14:12</td>\n",
       "      <td>상품s</td>\n",
       "      <td>1900.0</td>\n",
       "      <td>김현성</td>\n",
       "    </tr>\n",
       "    <tr>\n",
       "      <th>1524</th>\n",
       "      <td>2019-02-28 15:15</td>\n",
       "      <td>상품t</td>\n",
       "      <td>2000.0</td>\n",
       "      <td>김성민</td>\n",
       "    </tr>\n",
       "    <tr>\n",
       "      <th>1336</th>\n",
       "      <td>2019-02-18 8:16</td>\n",
       "      <td>상품v</td>\n",
       "      <td>2200.0</td>\n",
       "      <td>김연호</td>\n",
       "    </tr>\n",
       "    <tr>\n",
       "      <th>2031</th>\n",
       "      <td>2019-06-05 13:37</td>\n",
       "      <td>상품x</td>\n",
       "      <td>2400.0</td>\n",
       "      <td>김수민</td>\n",
       "    </tr>\n",
       "    <tr>\n",
       "      <th>26</th>\n",
       "      <td>2019-05-16 4:45</td>\n",
       "      <td>상품y</td>\n",
       "      <td>2500.0</td>\n",
       "      <td>김태현</td>\n",
       "    </tr>\n",
       "  </tbody>\n",
       "</table>\n",
       "<p>2999 rows × 4 columns</p>\n",
       "</div>"
      ],
      "text/plain": [
       "              datetime item_name  item_price customer_name\n",
       "51    2019-01-02 13:26     상 품 n      1400.0           김범준\n",
       "180   2019-03-02 15:38      상품 E       500.0           김시율\n",
       "107    2019-03-02 1:53      상품 M      1300.0           김동건\n",
       "161   2019-03-04 16:39      상품 P      1600.0           김승윤\n",
       "106    2019-05-03 1:15      상품 S      1900.0           김동현\n",
       "...                ...       ...         ...           ...\n",
       "1499  2019-04-24 14:12       상품s      1900.0           김현성\n",
       "1524  2019-02-28 15:15       상품t      2000.0           김성민\n",
       "1336   2019-02-18 8:16       상품v      2200.0           김연호\n",
       "2031  2019-06-05 13:37       상품x      2400.0           김수민\n",
       "26     2019-05-16 4:45       상품y      2500.0           김태현\n",
       "\n",
       "[2999 rows x 4 columns]"
      ]
     },
     "execution_count": 9,
     "metadata": {},
     "output_type": "execute_result"
    }
   ],
   "source": [
    "uri_2 = uri_1.sort_values('item_name')\n",
    "uri_2"
   ]
  },
  {
   "cell_type": "code",
   "execution_count": 10,
   "metadata": {},
   "outputs": [
    {
     "data": {
      "text/html": [
       "<div>\n",
       "<style scoped>\n",
       "    .dataframe tbody tr th:only-of-type {\n",
       "        vertical-align: middle;\n",
       "    }\n",
       "\n",
       "    .dataframe tbody tr th {\n",
       "        vertical-align: top;\n",
       "    }\n",
       "\n",
       "    .dataframe thead th {\n",
       "        text-align: right;\n",
       "    }\n",
       "</style>\n",
       "<table border=\"1\" class=\"dataframe\">\n",
       "  <thead>\n",
       "    <tr style=\"text-align: right;\">\n",
       "      <th></th>\n",
       "      <th>datetime</th>\n",
       "      <th>ITEM_NAME</th>\n",
       "      <th>item_price</th>\n",
       "      <th>customer_name</th>\n",
       "    </tr>\n",
       "  </thead>\n",
       "  <tbody>\n",
       "    <tr>\n",
       "      <th>51</th>\n",
       "      <td>2019-01-02 13:26</td>\n",
       "      <td>상 품 n</td>\n",
       "      <td>1400.0</td>\n",
       "      <td>김범준</td>\n",
       "    </tr>\n",
       "    <tr>\n",
       "      <th>180</th>\n",
       "      <td>2019-03-02 15:38</td>\n",
       "      <td>상품 E</td>\n",
       "      <td>500.0</td>\n",
       "      <td>김시율</td>\n",
       "    </tr>\n",
       "    <tr>\n",
       "      <th>107</th>\n",
       "      <td>2019-03-02 1:53</td>\n",
       "      <td>상품 M</td>\n",
       "      <td>1300.0</td>\n",
       "      <td>김동건</td>\n",
       "    </tr>\n",
       "    <tr>\n",
       "      <th>161</th>\n",
       "      <td>2019-03-04 16:39</td>\n",
       "      <td>상품 P</td>\n",
       "      <td>1600.0</td>\n",
       "      <td>김승윤</td>\n",
       "    </tr>\n",
       "    <tr>\n",
       "      <th>106</th>\n",
       "      <td>2019-05-03 1:15</td>\n",
       "      <td>상품 S</td>\n",
       "      <td>1900.0</td>\n",
       "      <td>김동현</td>\n",
       "    </tr>\n",
       "    <tr>\n",
       "      <th>...</th>\n",
       "      <td>...</td>\n",
       "      <td>...</td>\n",
       "      <td>...</td>\n",
       "      <td>...</td>\n",
       "    </tr>\n",
       "    <tr>\n",
       "      <th>1499</th>\n",
       "      <td>2019-04-24 14:12</td>\n",
       "      <td>상품s</td>\n",
       "      <td>1900.0</td>\n",
       "      <td>김현성</td>\n",
       "    </tr>\n",
       "    <tr>\n",
       "      <th>1524</th>\n",
       "      <td>2019-02-28 15:15</td>\n",
       "      <td>상품t</td>\n",
       "      <td>2000.0</td>\n",
       "      <td>김성민</td>\n",
       "    </tr>\n",
       "    <tr>\n",
       "      <th>1336</th>\n",
       "      <td>2019-02-18 8:16</td>\n",
       "      <td>상품v</td>\n",
       "      <td>2200.0</td>\n",
       "      <td>김연호</td>\n",
       "    </tr>\n",
       "    <tr>\n",
       "      <th>2031</th>\n",
       "      <td>2019-06-05 13:37</td>\n",
       "      <td>상품x</td>\n",
       "      <td>2400.0</td>\n",
       "      <td>김수민</td>\n",
       "    </tr>\n",
       "    <tr>\n",
       "      <th>26</th>\n",
       "      <td>2019-05-16 4:45</td>\n",
       "      <td>상품y</td>\n",
       "      <td>2500.0</td>\n",
       "      <td>김태현</td>\n",
       "    </tr>\n",
       "  </tbody>\n",
       "</table>\n",
       "<p>2999 rows × 4 columns</p>\n",
       "</div>"
      ],
      "text/plain": [
       "              datetime ITEM_NAME  item_price customer_name\n",
       "51    2019-01-02 13:26     상 품 n      1400.0           김범준\n",
       "180   2019-03-02 15:38      상품 E       500.0           김시율\n",
       "107    2019-03-02 1:53      상품 M      1300.0           김동건\n",
       "161   2019-03-04 16:39      상품 P      1600.0           김승윤\n",
       "106    2019-05-03 1:15      상품 S      1900.0           김동현\n",
       "...                ...       ...         ...           ...\n",
       "1499  2019-04-24 14:12       상품s      1900.0           김현성\n",
       "1524  2019-02-28 15:15       상품t      2000.0           김성민\n",
       "1336   2019-02-18 8:16       상품v      2200.0           김연호\n",
       "2031  2019-06-05 13:37       상품x      2400.0           김수민\n",
       "26     2019-05-16 4:45       상품y      2500.0           김태현\n",
       "\n",
       "[2999 rows x 4 columns]"
      ]
     },
     "execution_count": 10,
     "metadata": {},
     "output_type": "execute_result"
    }
   ],
   "source": [
    "uri_2.columns.values[1] = 'ITEM_NAME'\n",
    "uri_2"
   ]
  },
  {
   "cell_type": "code",
   "execution_count": 11,
   "metadata": {},
   "outputs": [
    {
     "data": {
      "text/plain": [
       "datetime           0\n",
       "ITEM_NAME          0\n",
       "item_price       387\n",
       "customer_name      0\n",
       "dtype: int64"
      ]
     },
     "execution_count": 11,
     "metadata": {},
     "output_type": "execute_result"
    }
   ],
   "source": [
    "uri_2.isna().sum()"
   ]
  },
  {
   "cell_type": "code",
   "execution_count": 13,
   "metadata": {},
   "outputs": [
    {
     "data": {
      "text/plain": [
       "datetime         0\n",
       "ITEM_NAME        0\n",
       "item_price       0\n",
       "customer_name    0\n",
       "dtype: int64"
      ]
     },
     "execution_count": 13,
     "metadata": {},
     "output_type": "execute_result"
    }
   ],
   "source": [
    "uri_3 = uri_2.fillna('max')\n",
    "uri_3.isna().sum()"
   ]
  },
  {
   "cell_type": "markdown",
   "metadata": {},
   "source": [
    "---------\n",
    "동물 클래스를 만들어 보자\n",
    "\n",
    "----------\n",
    "1. 먼저 클래스 선언하기 \n",
    "2. init을 만들어 주고, 매개변수 셀프와 네임을 만들어 준다.\n",
    "3. 셀프.네임 = 네임 으로 만들어 주고\n",
    "4. 움직임에 대한 매서드를 만들어 준다.\n",
    "5. 프린트 움직임을 만들어 누다.\n",
    "6. 말하기 매서드를 만들어 준다. \n",
    "7. 말하기는 다른 클래스에 만들꺼기 때문에 일단 패스로 넘긴다.\n",
    "\n",
    "8. 두번째 클래스를 만든다.\n",
    "9. 도그 클래스를 만들고, ()안에 매인 클래스 애니멀을 넣어 준다. \n",
    "10. 말하기 매서드를 만들어 주고, 프린트로 말하기를 만든다.\n",
    "11. 오리 매서드를 만든다. ()안에 애니멀을 넣어 준다.  \n"
   ]
  },
  {
   "cell_type": "code",
   "execution_count": 37,
   "metadata": {},
   "outputs": [
    {
     "name": "stdout",
     "output_type": "stream",
     "text": [
      "move\n",
      "bark\n",
      "doggy\n"
     ]
    }
   ],
   "source": [
    "class Animal:\n",
    "    def __init__(self, name):\n",
    "        self.name = name\n",
    "    def move(self):\n",
    "        print(\"move\")\n",
    "    def speak(self):\n",
    "        pass\n",
    " \n",
    "class Dog (Animal):\n",
    "    def speak(self):\n",
    "        print(\"bark\")\n",
    " \n",
    "class Duck (Animal):\n",
    "    def speak(self):\n",
    "        print(\"quack\")\n",
    "        \n",
    "dog = Dog(\"doggy\") # 부모클래스의 생성자 애니멀에 들어간다. 이제 도기는 애니멀로 들어가서. \n",
    "n = dog.name # 부모클래스의 인스턴스변수\n",
    "dog.move()   # 부모클래스의 메서드\n",
    "dog.speak() \n",
    "print(n)"
   ]
  },
  {
   "cell_type": "code",
   "execution_count": 41,
   "metadata": {},
   "outputs": [
    {
     "name": "stdout",
     "output_type": "stream",
     "text": [
      "move\n",
      "quack\n",
      "오리\n"
     ]
    }
   ],
   "source": [
    "duck = Duck('오리')\n",
    "d = duck.name\n",
    "duck.move()\n",
    "duck.speak()\n",
    "print(d)"
   ]
  },
  {
   "cell_type": "code",
   "execution_count": 35,
   "metadata": {},
   "outputs": [
    {
     "name": "stdout",
     "output_type": "stream",
     "text": [
      "move\n",
      "bark\n"
     ]
    }
   ],
   "source": [
    "dog = Dog(\"doggy\") # 부모클래스의 생성자\n",
    "n = dog.name # 부모클래스의 인스턴스변수\n",
    "dog.move()   # 부모클래스의 메서드\n",
    "dog.speak() "
   ]
  },
  {
   "cell_type": "code",
   "execution_count": 44,
   "metadata": {},
   "outputs": [
    {
     "name": "stdout",
     "output_type": "stream",
     "text": [
      "Complex : 1.0 + 1.0i\n"
     ]
    }
   ],
   "source": [
    "class Complex:\n",
    "    # r = 5.0\n",
    "    # i = 5.0\n",
    "    def __init__(self, r, i):\n",
    "        self.r = r\n",
    "        self.i = i\n",
    "    def print(self):\n",
    "        print(f'Complex : {self.r} + {self.i}i')\n",
    "\n",
    "\n",
    "\n",
    "c1 = Complex(1.0, 1.0)\n",
    "c1.print()\n",
    "\n",
    "\n"
   ]
  },
  {
   "cell_type": "code",
   "execution_count": 46,
   "metadata": {},
   "outputs": [
    {
     "name": "stdout",
     "output_type": "stream",
     "text": [
      " d1's name : Fido\n",
      " d1's kind : canine\n",
      " d2's name : Buddy\n",
      " d2's kind : canine\n",
      " d1's kind : poodle\n",
      " d2's kind : poodle\n"
     ]
    }
   ],
   "source": [
    "class Dog:\n",
    "    kind = 'canine' # class variable\n",
    "    def __init__(self, name):\n",
    "        self.name = name # object(instance) variable\n",
    "\n",
    "\n",
    "d1 = Dog('Fido')\n",
    "d2 = Dog('Buddy')\n",
    "\n",
    "\n",
    "print(f\" d1's name : {d1.name}\")\n",
    "print(f\" d1's kind : {d1.kind}\")\n",
    "print(f\" d2's name : {d2.name}\")\n",
    "print(f\" d2's kind : {d2.kind}\")\n",
    "\n",
    "Dog.kind = 'poodle'\n",
    "print(f\" d1's kind : {d1.kind}\")\n",
    "print(f\" d2's kind : {d2.kind}\")\n",
    "\n",
    "\n",
    "\n",
    "\n"
   ]
  },
  {
   "cell_type": "code",
   "execution_count": 47,
   "metadata": {},
   "outputs": [
    {
     "name": "stdout",
     "output_type": "stream",
     "text": [
      " d1's name : Fido\n",
      " d1's kind : poodle\n",
      " d2's name : Buddy\n",
      " d2's kind : poodle\n",
      " d1's kind : poodle\n",
      " d2's kind : poodle\n"
     ]
    }
   ],
   "source": [
    "class Complex:\n",
    "    r = 5.0\n",
    "    i = 5.0\n",
    "    \n",
    "    def __init__(self, real, img):\n",
    "        self.r = real\n",
    "        self.i = img\n",
    "    \n",
    "    def print(self):\n",
    "        print(f'Complex : {self.r} + {self.i}i')\n",
    "    \n",
    "    class Dog:\n",
    "        kind = 'canine' # class variable\n",
    "    \n",
    "    def __init__(self, name):\n",
    "        self.name = name # object(instance) variable\n",
    "\n",
    "d1 = Dog('Fido')\n",
    "d2 = Dog('Buddy')\n",
    "\n",
    "\n",
    "print(f\" d1's name : {d1.name}\")\n",
    "print(f\" d1's kind : {d1.kind}\")\n",
    "print(f\" d2's name : {d2.name}\")\n",
    "print(f\" d2's kind : {d2.kind}\")\n",
    "\n",
    "d1.kind = 'poodle'\n",
    "print(f\" d1's kind : {d1.kind}\")\n",
    "print(f\" d2's kind : {d2.kind}\")\n",
    "\n"
   ]
  }
 ],
 "metadata": {
  "interpreter": {
   "hash": "ddbee94c2ce3b61c3b1774ea67d55f2fdae8c29319837f6f09ba2209f9564fc6"
  },
  "kernelspec": {
   "display_name": "Python 3.10.2 64-bit",
   "language": "python",
   "name": "python3"
  },
  "language_info": {
   "codemirror_mode": {
    "name": "ipython",
    "version": 3
   },
   "file_extension": ".py",
   "mimetype": "text/x-python",
   "name": "python",
   "nbconvert_exporter": "python",
   "pygments_lexer": "ipython3",
   "version": "3.10.2"
  },
  "orig_nbformat": 4
 },
 "nbformat": 4,
 "nbformat_minor": 2
}
