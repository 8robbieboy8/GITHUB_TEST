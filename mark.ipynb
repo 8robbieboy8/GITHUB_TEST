{
 "cells": [
  {
   "cell_type": "code",
   "execution_count": null,
   "metadata": {},
   "outputs": [],
   "source": []
  },
  {
   "cell_type": "markdown",
   "metadata": {},
   "source": [
    "# 제목 1 "
   ]
  },
  {
   "cell_type": "markdown",
   "metadata": {},
   "source": [
    "## 제목 1"
   ]
  },
  {
   "cell_type": "markdown",
   "metadata": {},
   "source": [
    "### 제목 1"
   ]
  },
  {
   "cell_type": "markdown",
   "metadata": {},
   "source": [
    "제목1\n",
    "==========\n",
    "\n",
    "부제목 \n",
    "----------\n",
    "\n",
    "# h1\n",
    "### h3\n",
    "###### h6\n",
    "\n",
    "> content1\n",
    ">   > content2\n",
    ">   >   > content3 "
   ]
  },
  {
   "cell_type": "markdown",
   "metadata": {},
   "source": [
    "## list\n",
    "\n",
    "1. 첫번째\n",
    "2. 두번째\n",
    "3. 세번째\n",
    "\n",
    "* 리스트1 \n",
    "    * 리스트2\n",
    "        * 리스트3\n",
    "            * 리스트4\n",
    "+ 리스트5            \n",
    "    + 리스트6 \n",
    "- 리스트7            \n",
    "    - 리스트8\n",
    "\n",
    "     "
   ]
  },
  {
   "cell_type": "markdown",
   "metadata": {},
   "source": [
    "### code\n",
    "\n",
    "```python\n",
    "i = 0\n",
    "i + 1\n",
    "print(i)\n",
    "```\n",
    "\n",
    "code end"
   ]
  },
  {
   "cell_type": "markdown",
   "metadata": {},
   "source": [
    "-----------------------"
   ]
  },
  {
   "cell_type": "markdown",
   "metadata": {},
   "source": [
    "*************"
   ]
  },
  {
   "cell_type": "markdown",
   "metadata": {},
   "source": [
    "[Google][googlelink]\n",
    "\n",
    "[googlelink]: http://www.google.com\n",
    "\n",
    "\n"
   ]
  },
  {
   "cell_type": "markdown",
   "metadata": {},
   "source": [
    "![ALT text](https://search.pstatic.net/common/?src=http%3A%2F%2Fblogfiles.naver.net%2F20140926_295%2Fvtqkorea_1411694655380H1ygR_JPEG%2F_PX-2011-06-17-5606.jpg&type=sc960_832)\n",
    "\n",
    "<img src = \"https://search.pstatic.net/common/?src=http%3A%2F%2Fblogfiles.naver.net%2F20140926_295%2Fvtqkorea_1411694655380H1ygR_JPEG%2F_PX-2011-06-17-5606.jpg&type=sc960_832\" width = \"10%\" >"
   ]
  },
  {
   "cell_type": "markdown",
   "metadata": {},
   "source": []
  }
 ],
 "metadata": {
  "language_info": {
   "name": "python"
  },
  "orig_nbformat": 4
 },
 "nbformat": 4,
 "nbformat_minor": 2
}
